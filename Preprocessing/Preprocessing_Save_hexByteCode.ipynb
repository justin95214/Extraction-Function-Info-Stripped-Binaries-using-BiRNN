{
 "cells": [
  {
   "cell_type": "markdown",
   "metadata": {},
   "source": [
    "## 국가보안기술연구소(NSRI)\n",
    "- 함수의 시작 구분 프로젝트 by ISYS Lab\n",
    "\n",
    "## Input \n",
    "- objdump -d 로 바이트를 뽑아서 저장한 .txt 파일 (16진수 hex 코드 & 함수이름 섞여있음)\n",
    "\n",
    "## output\n",
    "- 해당 바이트코드와 함수의 시작여부(bin) 형태의 csv 파일"
   ]
  },
  {
   "cell_type": "code",
   "execution_count": 1,
   "metadata": {},
   "outputs": [],
   "source": [
    "# preprocessing 함수 (0, 1) 이중분류\n",
    "# 16진수 가져와서 함수가 적혀있는 행은 버리고 , 그 다음항목 1로 마킹\n",
    "# 500000만번 마다 체크\n",
    "def preprocessing(k):\n",
    "    p = pd.DataFrame(np.array(k.split()))\n",
    "    p['bin'] = 0 \n",
    "    p.columns = ['hex', 'bin']\n",
    "    \n",
    "    f_index = [] # 함수 위치 index 담은 list \n",
    "    f_name = [] # 함수 이름 담은 list\n",
    "    for idx in range(0, len(p)):\n",
    "        # 진행현황 체크\n",
    "        if idx % 500000 == 0:\n",
    "            print(idx,'Finish', end=' ') # 진행속도 체크 함수\n",
    "\n",
    "        if len(str(p['hex'][idx])) !=2: # 칸의 이름이 2글자가 아니면\n",
    "            f_index.append(idx); f_name.append(str(p['hex'][idx])) # 함수 이름 저장 list\n",
    "            p['bin'][idx+1] = 1 # bin 항목 1로 마킹\n",
    "            #print(idx, end=' ')#, p['num'][idx])\n",
    "            \n",
    "    # 함수이름 행들 버리기\n",
    "    drop_index = p['hex'][f_index].index # drop 할 index\n",
    "    p = p.drop(drop_index, 0) # drop 행 버리기\n",
    "    print('전체 행 갯수:', len(p), '함수갯수:', len(drop_index),'byte갯수:', len(p)-len(drop_index))\n",
    "    \n",
    "    return f_index, f_name, p # 함수 위치 index list , 함수 이름 list, 최종 df "
   ]
  },
  {
   "cell_type": "code",
   "execution_count": 10,
   "metadata": {},
   "outputs": [
    {
     "name": "stdout",
     "output_type": "stream",
     "text": [
      "binutils_gcc3~9_op0~4_txt/gcc7_0_32.txt 시작\n",
      "0 Finish 500000 Finish 1000000 Finish 1500000 Finish 2000000 Finish 2500000 Finish 전체 행 갯수: 2685709 함수갯수: 4433 byte갯수: 2681276\n",
      "binutils_gcc3~9_op0~4_txt/gcc7_0_32.txt 완료\n",
      "걸린시간: 84.4 초\n",
      "\n",
      "\n"
     ]
    }
   ],
   "source": [
    "#########################3 main 함수\n",
    "# gcc v_start ~ v_end - optimization 0~4\n",
    "import pandas as pd\n",
    "import numpy as np\n",
    "import time\n",
    "import warnings\n",
    "warnings.filterwarnings('ignore')\n",
    "\n",
    "#v_start, v_end = 6, 7 # version 정보 - ex 6,10 = gcc 6버전부터 ~ 9버전까지\n",
    "v_start, v_end = 7, 8 # version 정보 - ex 6,10 = gcc 6버전부터 ~ 9버전까지\n",
    "o_start, o_end = 0, 1 # optimizaton 정보 - ex 0, 4 = 최적화 O0, O1, O2, O3 까지\n",
    "\n",
    "#dir_path = 'binutils_gcc3~9_exec/'\n",
    "dir_path = 'binutils_gcc3~9_op0~4_txt/'gkat \n",
    "\n",
    "bit = '32'\n",
    "\n",
    "f_index_ls = [] # 함수 index ls\n",
    "f_name_ls = [] # 함수 이름 ls\n",
    "df_ls = [] # 데이터프레임 ls\n",
    "\n",
    "# gcc version 별로\n",
    "for version in range(v_start, v_end):\n",
    "    for optimization in range(o_start, o_end):    \n",
    "        # 파일 경로 , gcc 버전, op 버전 지정\n",
    "        start_time = time.time() # 소요시간 측정용\n",
    "        file_name = dir_path +'gcc' + str(version) + '_' + str(optimization) + '_' + bit + '.txt'\n",
    "        \n",
    "        # 파일 open\n",
    "        print(file_name, '시작')\n",
    "        f = open(file_name, 'r')\n",
    "        \n",
    "        # 파일 읽어들이기 완료, 전처리 시작\n",
    "        index_ls, name_ls, p_ls = preprocessing_012(f.read())\n",
    "        f_index_ls.append(index_ls); f_name_ls.append(name_ls); df_ls.append(p_ls)\n",
    "        \n",
    "        # 파일 전처리 종료\n",
    "        end_time = time.time() # 소요시간 측정용\n",
    "        print(file_name, '완료')\n",
    "        print('걸린시간:', np.round(end_time-start_time,1),'초\\n\\n')"
   ]
  },
  {
   "cell_type": "markdown",
   "metadata": {},
   "source": [
    "## 파일저장 "
   ]
  },
  {
   "cell_type": "code",
   "execution_count": 5,
   "metadata": {},
   "outputs": [
    {
     "name": "stdout",
     "output_type": "stream",
     "text": [
      "gcc6_0_32 abc 생성완료\n",
      "gcc6_1_32 abc 생성완료\n",
      "gcc6_2_32 abc 생성완료\n",
      "gcc6_3_32 abc 생성완료\n"
     ]
    }
   ],
   "source": [
    "####################### 각 gcc-version-optimization 별 한번에 저장 \n",
    "\n",
    "gcc_v6_o = ['gcc6_0_32','gcc6_1_32','gcc6_2_32','gcc6_3_32']\n",
    "\n",
    "for idx, d in enumerate(df_ls):    \n",
    "    # 한번에 저장\n",
    "    d.to_csv(gcc_v6_o[idx]+'exec.csv')\n",
    "    print(gcc_v6_o[idx], 'abc 생성완료')"
   ]
  },
  {
   "cell_type": "code",
   "execution_count": 7,
   "metadata": {},
   "outputs": [
    {
     "name": "stdout",
     "output_type": "stream",
     "text": [
      "(13936744, 3)\n"
     ]
    },
    {
     "data": {
      "text/html": [
       "<div>\n",
       "<style scoped>\n",
       "    .dataframe tbody tr th:only-of-type {\n",
       "        vertical-align: middle;\n",
       "    }\n",
       "\n",
       "    .dataframe tbody tr th {\n",
       "        vertical-align: top;\n",
       "    }\n",
       "\n",
       "    .dataframe thead th {\n",
       "        text-align: right;\n",
       "    }\n",
       "</style>\n",
       "<table border=\"1\" class=\"dataframe\">\n",
       "  <thead>\n",
       "    <tr style=\"text-align: right;\">\n",
       "      <th></th>\n",
       "      <th>Unnamed: 0</th>\n",
       "      <th>hex</th>\n",
       "      <th>bin</th>\n",
       "    </tr>\n",
       "  </thead>\n",
       "  <tbody>\n",
       "    <tr>\n",
       "      <th>0</th>\n",
       "      <td>1</td>\n",
       "      <td>53</td>\n",
       "      <td>1</td>\n",
       "    </tr>\n",
       "    <tr>\n",
       "      <th>1</th>\n",
       "      <td>2</td>\n",
       "      <td>83</td>\n",
       "      <td>0</td>\n",
       "    </tr>\n",
       "    <tr>\n",
       "      <th>2</th>\n",
       "      <td>3</td>\n",
       "      <td>ec</td>\n",
       "      <td>0</td>\n",
       "    </tr>\n",
       "    <tr>\n",
       "      <th>3</th>\n",
       "      <td>4</td>\n",
       "      <td>08</td>\n",
       "      <td>0</td>\n",
       "    </tr>\n",
       "    <tr>\n",
       "      <th>4</th>\n",
       "      <td>5</td>\n",
       "      <td>e8</td>\n",
       "      <td>0</td>\n",
       "    </tr>\n",
       "  </tbody>\n",
       "</table>\n",
       "</div>"
      ],
      "text/plain": [
       "   Unnamed: 0 hex  bin\n",
       "0           1  53    1\n",
       "1           2  83    0\n",
       "2           3  ec    0\n",
       "3           4  08    0\n",
       "4           5  e8    0"
      ]
     },
     "execution_count": 7,
     "metadata": {},
     "output_type": "execute_result"
    }
   ],
   "source": [
    "# test read\n",
    "gcc6_0_32exec = pd.read_csv('gcc6_0_32exec.csv')\n",
    "print(gcc6_0_32exec.shape)\n",
    "gcc6_0_32exec.head()"
   ]
  },
  {
   "cell_type": "code",
   "execution_count": 5,
   "metadata": {},
   "outputs": [
    {
     "name": "stdout",
     "output_type": "stream",
     "text": [
      "gcc7_0_32 생성완료\n",
      "gcc7_1_32 생성완료\n",
      "gcc7_2_32 생성완료\n",
      "gcc7_3_32 생성완료\n"
     ]
    }
   ],
   "source": [
    "########## 각 gcc-version-optimization 별 저장 -> gcc7 , 0123, 32 , 012 다중분류\n",
    "\n",
    "gcc_v7_o = ['gcc7_0_32','gcc7_1_32','gcc7_2_32','gcc7_3_32']\n",
    "\n",
    "for idx, d in enumerate(df_ls):    \n",
    "    # 한번에 저장\n",
    "    d.to_csv(gcc_v7_o[idx]+'_012.csv')\n",
    "    print(gcc_v7_o[idx], '생성완료')"
   ]
  },
  {
   "cell_type": "code",
   "execution_count": 9,
   "metadata": {},
   "outputs": [
    {
     "name": "stdout",
     "output_type": "stream",
     "text": [
      "(2685709, 3)\n"
     ]
    },
    {
     "data": {
      "text/plain": [
       "0    2685708\n",
       "1          1\n",
       "Name: bin, dtype: int64"
      ]
     },
     "execution_count": 9,
     "metadata": {},
     "output_type": "execute_result"
    }
   ],
   "source": [
    "# test read\n",
    "x = pd.read_csv('gcc7_0_32_012.csv')\n",
    "print(x.shape)\n",
    "x['bin'].value_counts()"
   ]
  },
  {
   "cell_type": "code",
   "execution_count": null,
   "metadata": {},
   "outputs": [],
   "source": [
    "########## 각 gcc-version-optimization 별 저장 -> gcc6 , 0123, 32 , 012 다중분류\n",
    "\n",
    "gcc_v6_o = ['gcc6_0_32','gcc6_1_32','gcc6_2_32','gcc6_3_32']\n",
    "\n",
    "for idx, d in enumerate(df_ls):    \n",
    "    # 한번에 저장\n",
    "    d.to_csv(gcc_v6_o[idx]+'_012.csv')\n",
    "    print(gcc_v6_o[idx], '생성완료')"
   ]
  },
  {
   "cell_type": "markdown",
   "metadata": {},
   "source": [
    "## 파일 3등분 저장"
   ]
  },
  {
   "cell_type": "code",
   "execution_count": 67,
   "metadata": {},
   "outputs": [
    {
     "name": "stdout",
     "output_type": "stream",
     "text": [
      "gcc6_0_32 : 776033 775924 773068\n",
      "gcc6_0_32 a,b,c 생성완료\n",
      "gcc6_1_32 : 593205 593064 590187\n",
      "gcc6_1_32 a,b,c 생성완료\n",
      "gcc6_2_32 : 628288 628115 625241\n",
      "gcc6_2_32 a,b,c 생성완료\n",
      "gcc6_3_32 : 719877 719746 716737\n",
      "gcc6_3_32 a,b,c 생성완료\n",
      "gcc7_0_32 : 887929 887927 887966\n",
      "gcc7_0_32 a,b,c 생성완료\n",
      "gcc7_1_32 : 623923 623884 623963\n",
      "gcc7_1_32 a,b,c 생성완료\n",
      "gcc7_2_32 : 643566 643513 643574\n",
      "gcc7_2_32 a,b,c 생성완료\n",
      "gcc7_3_32 : 747989 747937 747948\n",
      "gcc7_3_32 a,b,c 생성완료\n",
      "gcc8_0_32 : 776033 775924 773068\n",
      "gcc8_0_32 a,b,c 생성완료\n",
      "gcc8_1_32 : 593205 593064 590187\n",
      "gcc8_1_32 a,b,c 생성완료\n",
      "gcc8_2_32 : 628288 628115 625241\n",
      "gcc8_2_32 a,b,c 생성완료\n",
      "gcc8_3_32 : 719877 719746 716737\n",
      "gcc8_3_32 a,b,c 생성완료\n",
      "gcc9_0_32 : 887929 887927 887966\n",
      "gcc9_0_32 a,b,c 생성완료\n",
      "gcc9_1_32 : 623923 623884 623963\n",
      "gcc9_1_32 a,b,c 생성완료\n",
      "gcc9_2_32 : 643566 643513 643574\n",
      "gcc9_2_32 a,b,c 생성완료\n",
      "gcc9_3_32 : 747989 747937 747948\n",
      "gcc9_3_32 a,b,c 생성완료\n"
     ]
    }
   ],
   "source": [
    "####################### 각 gcc-version-optimization 별  3등분 분리 \n",
    "for idx, d in enumerate(df):\n",
    "    df_len = int(len(d) / 3) # 3등분 길이\n",
    "    a, b ,c = d.loc[0:df_len], d.loc[df_len:df_len*2], d.loc[df_len*2:df_len*3]\n",
    "    \n",
    "    # gcc 버전별 3등분된 길이 a, b, c 로 나눔\n",
    "    print(gcc_v_o[idx], ':', len(a), len(b), len(c))\n",
    "    a.to_csv('binutils_gcc3~9_op0~4_divide-3_csv/' + gcc_v_o[idx]+'_a.csv')\n",
    "    b.to_csv('binutils_gcc3~9_op0~4_divide-3_csv/' + gcc_v_o[idx]+'_b.csv')\n",
    "    c.to_csv('binutils_gcc3~9_op0~4_divide-3_csv/' + gcc_v_o[idx]+'_c.csv')\n",
    "\n",
    "    print(gcc_v_o[idx], 'a,b,c 생성완료')"
   ]
  }
 ],
 "metadata": {
  "kernelspec": {
   "display_name": "Python 3",
   "language": "python",
   "name": "python3"
  },
  "language_info": {
   "codemirror_mode": {
    "name": "ipython",
    "version": 3
   },
   "file_extension": ".py",
   "mimetype": "text/x-python",
   "name": "python",
   "nbconvert_exporter": "python",
   "pygments_lexer": "ipython3",
   "version": "3.7.5"
  }
 },
 "nbformat": 4,
 "nbformat_minor": 4
}
