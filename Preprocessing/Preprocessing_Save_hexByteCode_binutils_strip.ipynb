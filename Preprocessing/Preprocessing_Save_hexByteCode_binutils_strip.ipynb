{
 "cells": [
  {
   "cell_type": "markdown",
   "metadata": {},
   "source": [
    "## 국가보안기술연구소(NSRI)\n",
    "- 함수의 시작 구분 프로젝트 by ISYS Lab\n",
    "\n",
    "## Input \n",
    "- objdump -d 로 바이트를 뽑아서 저장한 .txt 파일 (16진수 hex 코드 & 함수이름 섞여있음)\n",
    "\n",
    "## output\n",
    "- 해당 바이트코드와 함수의 시작여부(bin) 형태의 csv 파일"
   ]
  },
  {
   "cell_type": "code",
   "execution_count": 1,
   "metadata": {},
   "outputs": [],
   "source": [
    "# preprocessing 함수 (0, 1) 이중분류\n",
    "# 16진수 가져와서 함수가 적혀있는 행은 버리고 , 그 다음항목 1로 마킹\n",
    "# 500000만번 마다 체크\n",
    "def preprocessing(k):\n",
    "    p = pd.DataFrame(np.array(k.split()))\n",
    "    p['label'] = 0 \n",
    "    p.columns = ['bin', 'label']\n",
    "    \n",
    "    f_index = [] # 함수 위치 index 담은 list \n",
    "    f_name = [] # 함수 이름 담은 list\n",
    "    for idx in range(0, len(p)):\n",
    "        # 진행현황 체크\n",
    "        if idx % 500000 == 0:\n",
    "            print(idx,'Finish', end=' ') # 진행속도 체크 함수\n",
    "\n",
    "        if len(str(p['bin'][idx])) !=2: # 칸의 이름이 2글자가 아니면\n",
    "            f_index.append(idx); f_name.append(str(p['bin'][idx])) # 함수 이름 저장 list\n",
    "            p['label'][idx+1] = 1 # bin 항목 1로 마킹\n",
    "            #print(idx, end=' ')#, p['num'][idx])\n",
    "            \n",
    "    # 함수이름 행들 버리기\n",
    "    drop_index = p['bin'][f_index].index # drop 할 index\n",
    "    p = p.drop(drop_index, 0) # drop 행 버리기\n",
    "    print('전체 행 갯수:', len(p), '함수갯수:', len(drop_index),'byte갯수:', len(p)-len(drop_index))\n",
    "    \n",
    "    return f_index, f_name, p # 함수 위치 index list , 함수 이름 list, 최종 df "
   ]
  },
  {
   "cell_type": "code",
   "execution_count": 6,
   "metadata": {},
   "outputs": [
    {
     "name": "stdout",
     "output_type": "stream",
     "text": [
      "data/binutils_stripfile_txt/binutils-2.34-gcc6-O0-x86_strip.txt 시작\n",
      "0 Finish 500000 Finish 1000000 Finish 1500000 Finish 2000000 Finish 2500000 Finish 3000000 Finish 3500000 Finish 4000000 Finish 4500000 Finish 5000000 Finish 5500000 Finish 6000000 Finish 6500000 Finish 7000000 Finish 7500000 Finish 8000000 Finish 8500000 Finish 9000000 Finish 9500000 Finish 10000000 Finish 10500000 Finish 11000000 Finish 11500000 Finish 12000000 Finish 12500000 Finish 13000000 Finish 13500000 Finish 전체 행 갯수: 13936744 함수갯수: 2146 byte갯수: 13934598\n",
      "data/binutils_stripfile_txt/binutils-2.34-gcc6-O0-x86_strip.txt 완료\n",
      "걸린시간: 369.2 초\n",
      "\n",
      "\n",
      "data/binutils_stripfile_txt/binutils-2.34-gcc6-O1-x86_strip.txt 시작\n",
      "0 Finish 500000 Finish 1000000 Finish 1500000 Finish 2000000 Finish 2500000 Finish 3000000 Finish 3500000 Finish 4000000 Finish 4500000 Finish 5000000 Finish 5500000 Finish 6000000 Finish 6500000 Finish 7000000 Finish 7500000 Finish 8000000 Finish 8500000 Finish 9000000 Finish 9500000 Finish 10000000 Finish 10500000 Finish 전체 행 갯수: 10532416 함수갯수: 2071 byte갯수: 10530345\n",
      "data/binutils_stripfile_txt/binutils-2.34-gcc6-O1-x86_strip.txt 완료\n",
      "걸린시간: 277.3 초\n",
      "\n",
      "\n"
     ]
    }
   ],
   "source": [
    "######################### main 함수\n",
    "# gcc v_start ~ v_end - optimization 0~4\n",
    "import pandas as pd\n",
    "import numpy as np\n",
    "import time\n",
    "import warnings\n",
    "warnings.filterwarnings('ignore')\n",
    "\n",
    "#v_start, v_end = 6, 7 # version 정보 - ex 6,10 = gcc 6버전부터 ~ 9버전까지\n",
    "v_start, v_end = 6, 7\n",
    "o_start, o_end = 0, 4 # optimizaton 정보 - ex 0, 4 = 최적화 O0, O1, O2, O3 까지\n",
    "\n",
    "dir_path = 'data/binutils_stripfile_txt/'\n",
    "\n",
    "f_index_ls = [] # 함수 index ls\n",
    "f_name_ls = [] # 함수 이름 ls\n",
    "df_ls = [] # 데이터프레임 ls\n",
    "\n",
    "# gcc version 별로\n",
    "for version in range(v_start, v_end):\n",
    "    for optimization in range(o_start, o_end):    \n",
    "        # 파일 경로 , gcc 버전, op 버전 지정\n",
    "        start_time = time.time() # 소요시간 측정용\n",
    "        file_name = dir_path +'binutils-2.34-gcc' + str(version) + '-O' + str(optimization) + '-x86_strip.txt'\n",
    "        \n",
    "        # 파일 open\n",
    "        print(file_name, '시작')\n",
    "        f = open(file_name, 'r')\n",
    "        \n",
    "        # 파일 읽어들이기 완료, 전처리 시작\n",
    "        index_ls, name_ls, p_ls = preprocessing(f.read())\n",
    "        f_index_ls.append(index_ls); f_name_ls.append(name_ls); df_ls.append(p_ls)\n",
    "        \n",
    "        # 파일 전처리 종료\n",
    "        end_time = time.time() # 소요시간 측정용\n",
    "        print(file_name, '완료')\n",
    "        print('걸린시간:', np.round(end_time-start_time,1),'초\\n\\n')"
   ]
  },
  {
   "cell_type": "markdown",
   "metadata": {},
   "source": [
    "## 파일저장 "
   ]
  },
  {
   "cell_type": "code",
   "execution_count": 7,
   "metadata": {},
   "outputs": [
    {
     "name": "stdout",
     "output_type": "stream",
     "text": [
      "gcc6_0_32_strip.csv 생성완료\n",
      "gcc6_1_32_strip.csv 생성완료\n"
     ]
    }
   ],
   "source": [
    "####################### 각 gcc-version-optimization 별 한번에 저장 \n",
    "\n",
    "idx = o_start\n",
    "for d in df_ls:    \n",
    "    # 한번에 저장\n",
    "    d.to_csv('gcc'+str(v_start)+'_'+str(idx) +'_32_strip.csv')\n",
    "    print('gcc'+str(v_start)+'_'+str(idx)+'_32_strip.csv', '생성완료')\n",
    "    idx+=1"
   ]
  },
  {
   "cell_type": "code",
   "execution_count": 9,
   "metadata": {},
   "outputs": [
    {
     "name": "stdout",
     "output_type": "stream",
     "text": [
      "(13936744, 3) (10532416, 3)\n",
      "(11076816, 3) (13485088, 3)\n"
     ]
    },
    {
     "data": {
      "text/html": [
       "<div>\n",
       "<style scoped>\n",
       "    .dataframe tbody tr th:only-of-type {\n",
       "        vertical-align: middle;\n",
       "    }\n",
       "\n",
       "    .dataframe tbody tr th {\n",
       "        vertical-align: top;\n",
       "    }\n",
       "\n",
       "    .dataframe thead th {\n",
       "        text-align: right;\n",
       "    }\n",
       "</style>\n",
       "<table border=\"1\" class=\"dataframe\">\n",
       "  <thead>\n",
       "    <tr style=\"text-align: right;\">\n",
       "      <th></th>\n",
       "      <th>Unnamed: 0</th>\n",
       "      <th>bin</th>\n",
       "      <th>label</th>\n",
       "    </tr>\n",
       "  </thead>\n",
       "  <tbody>\n",
       "    <tr>\n",
       "      <th>0</th>\n",
       "      <td>1</td>\n",
       "      <td>53</td>\n",
       "      <td>1</td>\n",
       "    </tr>\n",
       "    <tr>\n",
       "      <th>1</th>\n",
       "      <td>2</td>\n",
       "      <td>83</td>\n",
       "      <td>0</td>\n",
       "    </tr>\n",
       "    <tr>\n",
       "      <th>2</th>\n",
       "      <td>3</td>\n",
       "      <td>ec</td>\n",
       "      <td>0</td>\n",
       "    </tr>\n",
       "    <tr>\n",
       "      <th>3</th>\n",
       "      <td>4</td>\n",
       "      <td>08</td>\n",
       "      <td>0</td>\n",
       "    </tr>\n",
       "    <tr>\n",
       "      <th>4</th>\n",
       "      <td>5</td>\n",
       "      <td>e8</td>\n",
       "      <td>0</td>\n",
       "    </tr>\n",
       "  </tbody>\n",
       "</table>\n",
       "</div>"
      ],
      "text/plain": [
       "   Unnamed: 0 bin  label\n",
       "0           1  53      1\n",
       "1           2  83      0\n",
       "2           3  ec      0\n",
       "3           4  08      0\n",
       "4           5  e8      0"
      ]
     },
     "execution_count": 9,
     "metadata": {},
     "output_type": "execute_result"
    }
   ],
   "source": [
    "# test read\n",
    "gcc6_0_32_strip = pd.read_csv('data/gcc6_0_32_strip.csv')\n",
    "gcc6_1_32_strip = pd.read_csv('data/gcc6_1_32_strip.csv')\n",
    "gcc6_2_32_strip = pd.read_csv('data/gcc6_2_32_strip.csv')\n",
    "gcc6_3_32_strip = pd.read_csv('data/gcc6_3_32_strip.csv')\n",
    "\n",
    "print(gcc6_0_32_strip.shape, gcc6_1_32_strip.shape)\n",
    "print(gcc6_2_32_strip.shape, gcc6_3_32_strip.shape)\n",
    "gcc6_2_32_strip.head()\n"
   ]
  },
  {
   "cell_type": "code",
   "execution_count": 12,
   "metadata": {},
   "outputs": [
    {
     "name": "stdout",
     "output_type": "stream",
     "text": [
      "0    13934630\n",
      "1        2114\n",
      "Name: label, dtype: int64\n",
      "0    10530377\n",
      "1        2039\n",
      "Name: label, dtype: int64\n",
      "0    11074725\n",
      "1        2091\n",
      "Name: label, dtype: int64\n",
      "0    13482985\n",
      "1        2103\n",
      "Name: label, dtype: int64\n"
     ]
    }
   ],
   "source": [
    "print(gcc6_0_32_strip['label'].value_counts())\n",
    "print(gcc6_1_32_strip['label'].value_counts())\n",
    "print(gcc6_2_32_strip['label'].value_counts())\n",
    "print(gcc6_3_32_strip['label'].value_counts())\n"
   ]
  }
 ],
 "metadata": {
  "kernelspec": {
   "display_name": "Python 3",
   "language": "python",
   "name": "python3"
  },
  "language_info": {
   "codemirror_mode": {
    "name": "ipython",
    "version": 3
   },
   "file_extension": ".py",
   "mimetype": "text/x-python",
   "name": "python",
   "nbconvert_exporter": "python",
   "pygments_lexer": "ipython3",
   "version": "3.7.5"
  }
 },
 "nbformat": 4,
 "nbformat_minor": 4
}
