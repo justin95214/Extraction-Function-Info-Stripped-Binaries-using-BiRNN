{
 "cells": [
  {
   "cell_type": "markdown",
   "metadata": {},
   "source": [
    "## RNN 모델 N-Byte 방식 (함수정보 포함 vs 미포함 => 1:1 비율)\n",
    "\n",
    "## (1) 데이터로드"
   ]
  },
  {
   "cell_type": "code",
   "execution_count": 1,
   "metadata": {},
   "outputs": [
    {
     "name": "stdout",
     "output_type": "stream",
     "text": [
      "(30111221, 2)\n",
      "shape - (30111221, 2)\n",
      "reset_index 완료\n",
      "input data shape\n"
     ]
    },
    {
     "data": {
      "text/html": [
       "<div>\n",
       "<style scoped>\n",
       "    .dataframe tbody tr th:only-of-type {\n",
       "        vertical-align: middle;\n",
       "    }\n",
       "\n",
       "    .dataframe tbody tr th {\n",
       "        vertical-align: top;\n",
       "    }\n",
       "\n",
       "    .dataframe thead th {\n",
       "        text-align: right;\n",
       "    }\n",
       "</style>\n",
       "<table border=\"1\" class=\"dataframe\">\n",
       "  <thead>\n",
       "    <tr style=\"text-align: right;\">\n",
       "      <th></th>\n",
       "      <th>bin</th>\n",
       "      <th>label</th>\n",
       "    </tr>\n",
       "  </thead>\n",
       "  <tbody>\n",
       "    <tr>\n",
       "      <th>0</th>\n",
       "      <td>47</td>\n",
       "      <td>0</td>\n",
       "    </tr>\n",
       "    <tr>\n",
       "      <th>1</th>\n",
       "      <td>108</td>\n",
       "      <td>0</td>\n",
       "    </tr>\n",
       "    <tr>\n",
       "      <th>2</th>\n",
       "      <td>105</td>\n",
       "      <td>0</td>\n",
       "    </tr>\n",
       "    <tr>\n",
       "      <th>3</th>\n",
       "      <td>98</td>\n",
       "      <td>0</td>\n",
       "    </tr>\n",
       "    <tr>\n",
       "      <th>4</th>\n",
       "      <td>47</td>\n",
       "      <td>0</td>\n",
       "    </tr>\n",
       "  </tbody>\n",
       "</table>\n",
       "</div>"
      ],
      "text/plain": [
       "   bin  label\n",
       "0   47      0\n",
       "1  108      0\n",
       "2  105      0\n",
       "3   98      0\n",
       "4   47      0"
      ]
     },
     "execution_count": 1,
     "metadata": {},
     "output_type": "execute_result"
    }
   ],
   "source": [
    "# (1) 데이터로드\n",
    "import pandas as pd\n",
    "import numpy as np\n",
    "\n",
    "import warnings\n",
    "warnings.filterwarnings(action='ignore')\n",
    "\n",
    "# 여러개 쳐도 나오게\n",
    "from IPython.core.interactiveshell import InteractiveShell\n",
    "InteractiveShell.ast_node_interactivity = \"all\"\n",
    "\n",
    "# 파일읽기\n",
    "bin8_0 = pd.read_csv(\"../../바이너리_최종데이터_1004/gcc8/o0/o0_bincore8.csv\", index_col=0)\n",
    "print(bin8_0.shape)\n",
    "\n",
    "# reset_index (hex processing 하면서 값이 빠졌으니까 + n_gram 에서 index를 다루기 때문에)\n",
    "bin8_0.reset_index(inplace=True, drop=True)\n",
    "\n",
    "print('shape -', bin8_0.shape)\n",
    "print('reset_index 완료')\n",
    "print('input data shape')\n",
    "bin8_0.head()"
   ]
  },
  {
   "cell_type": "code",
   "execution_count": 2,
   "metadata": {},
   "outputs": [
    {
     "name": "stdout",
     "output_type": "stream",
     "text": [
      "256\n",
      "0    30060985\n",
      "1       50236\n",
      "Name: label, dtype: int64\n"
     ]
    }
   ],
   "source": [
    "# (2-1) 데이터체크 1 - hex(16진수)가 256 label을 가져야 dummies 변환 가능 \n",
    "# 16진수 256개 종류가 있어서 pd.get_dummies 사용 가능.\n",
    "print(len(bin8_0['bin'].unique()))\n",
    "\n",
    "# (2-2) 데이터 체크 2 - 1, 0 비율 ==> 1이 함수의 갯수를 뜻함\n",
    "# 정답 데이터 1, 0 비율 확인  ==> 1이 함수의 갯수를 뜻함\n",
    "print(bin8_0['label'].value_counts())"
   ]
  },
  {
   "cell_type": "markdown",
   "metadata": {},
   "source": [
    "## (3) N Byte씩 자르기"
   ]
  },
  {
   "cell_type": "code",
   "execution_count": 3,
   "metadata": {},
   "outputs": [
    {
     "name": "stdout",
     "output_type": "stream",
     "text": [
      "1607552\n",
      "나머지 0\n",
      "최종 길이 1607552\n",
      "bin8_0 1607552\n"
     ]
    }
   ],
   "source": [
    "idx_bin = bin8_0[bin8_0['label']==1].index  # 407, 474 ...\n",
    "ls_bin = list(idx_bin)\n",
    "\n",
    "# 최종 뽑을 행에 대한 index\n",
    "ls_idx_bin = []\n",
    "\n",
    "# n byte 자르기 방식\n",
    "left_idx, right_idx = 0, 32 # 3개씩\n",
    "\n",
    "# n byte 자르기\n",
    "for k in range(left_idx, right_idx):\n",
    "    ls_idx_bin.extend(list(idx_bin + k)) # index 형이라서 가능\n",
    "\n",
    "#ls_idx = list(set(ls_idx)) \n",
    "ls_idx_bin.sort() # 인덱스 정렬\n",
    "\n",
    "# 1차 index 해당범위 초과한 것들 없애기\n",
    "ls_idx_bin = list(filter(lambda x: x<len(bin8_0), ls_idx_bin))\n",
    "print(len(ls_idx_bin))\n",
    "\n",
    "# 2차 남은 index들 중 right_idx 나눈 나머지 없애기\n",
    "sub_bin = len(ls_idx_bin)%(right_idx)\n",
    "print('나머지', sub_bin)\n",
    "\n",
    "ls_idx_bin = ls_idx_bin[:len(ls_idx_bin)-sub_bin]\n",
    "print('최종 길이', len(ls_idx_bin))\n",
    "\n",
    "print('bin8_0', len(ls_idx_bin))\n",
    "\n",
    "# loc 로 수정필요\n",
    "bin8_0_Ngram = bin8_0.loc[ls_idx_bin,:].copy()"
   ]
  },
  {
   "cell_type": "markdown",
   "metadata": {},
   "source": [
    "## (4) false data 만들기"
   ]
  },
  {
   "cell_type": "code",
   "execution_count": 4,
   "metadata": {},
   "outputs": [
    {
     "name": "stdout",
     "output_type": "stream",
     "text": [
      "50236.0\n",
      "0 25566757\n",
      "1000 1455297\n",
      "2000 4788967\n",
      "3000 5757771\n",
      "4000 13400386\n",
      "5000 2682863\n",
      "6000 30090379\n",
      "7000 9750153\n",
      "8000 15424051\n",
      "9000 2082329\n",
      "10000 22477072\n",
      "11000 26168105\n",
      "12000 2640741\n",
      "13000 20458469\n",
      "14000 19614076\n",
      "15000 29883001\n",
      "16000 14106465\n",
      "17000 210156\n",
      "18000 24903096\n",
      "19000 9604517\n",
      "20000 16972478\n",
      "21000 22790683\n",
      "22000 26636777\n",
      "23000 19916679\n",
      "24000 16063840\n",
      "25000 28416902\n",
      "26000 27474767\n",
      "27000 24162217\n",
      "28000 10631379\n",
      "29000 5299748\n",
      "30000 13373608\n",
      "31000 4395282\n",
      "32000 5596291\n",
      "33000 27980092\n",
      "34000 13276146\n",
      "35000 18112034\n",
      "36000 9543064\n",
      "37000 11930542\n",
      "38000 14693056\n",
      "39000 7579090\n",
      "40000 22094184\n",
      "41000 19937698\n",
      "42000 15768191\n",
      "43000 22342374\n",
      "44000 10396810\n",
      "45000 25793887\n",
      "46000 28085823\n",
      "47000 9034822\n",
      "48000 9707441\n",
      "49000 1688571\n",
      "50000 20883340\n",
      "완료\n",
      "50236\n"
     ]
    }
   ],
   "source": [
    "# false data 만들기 - False 데이터 랜덤 생성\n",
    "\n",
    "# 목표치\n",
    "goal_bin = len(bin8_0_Ngram)/right_idx\n",
    "count_bin = 0\n",
    "\n",
    "print(goal_bin)\n",
    "\n",
    "# 최종 데이터 Frame\n",
    "d_bin = pd.DataFrame(columns = bin8_0.columns)\n",
    "\n",
    "binutils_df = []\n",
    "# goal 에 도달할 때까지\n",
    "while True:\n",
    "    if (count_bin == goal_bin):\n",
    "            break\n",
    "    # 진행상황 살펴보기 위함\n",
    "            \n",
    "    # 랜덤 N 바이트씩 뽑음\n",
    "    # random index\n",
    "    random_idx_bin = np.random.randint(len(bin8_0)-right_idx)\n",
    "\n",
    "    if count_bin % 1000==0:\n",
    "        print(count_bin, end=' ')\n",
    "        print(random_idx_bin)\n",
    "\n",
    "    df_bin = bin8_0[random_idx_bin : random_idx_bin + right_idx]\n",
    "    \n",
    "    # 뽑은 index의 N 바이트 중에 1이 없는 경우만\n",
    "    if 1 not in df_bin['label'] and count_bin < goal_bin:\n",
    "        binutils_df.append(df_bin)\n",
    "        count_bin+=1\n",
    "\n",
    "print('완료')\n",
    "print(len(binutils_df))"
   ]
  },
  {
   "cell_type": "code",
   "execution_count": 5,
   "metadata": {},
   "outputs": [
    {
     "name": "stdout",
     "output_type": "stream",
     "text": [
      "50236\n",
      "50236\n"
     ]
    }
   ],
   "source": [
    "# True data와 False Data 같은지 체크\n",
    "print(len(binutils_df))\n",
    "print(bin8_0['label'].value_counts()[1])"
   ]
  },
  {
   "cell_type": "markdown",
   "metadata": {},
   "source": [
    "## (5) False Data + True Data 합치기"
   ]
  },
  {
   "cell_type": "code",
   "execution_count": 6,
   "metadata": {},
   "outputs": [
    {
     "data": {
      "text/plain": [
       "(3215104, 2)"
      ]
     },
     "execution_count": 6,
     "metadata": {},
     "output_type": "execute_result"
    }
   ],
   "source": [
    "f_data = pd.concat(binutils_df)\n",
    "final = pd.concat([f_data, bin8_0_Ngram])\n",
    "final.shape"
   ]
  },
  {
   "cell_type": "markdown",
   "metadata": {},
   "source": [
    "## (6) one hot encoding"
   ]
  },
  {
   "cell_type": "code",
   "execution_count": 7,
   "metadata": {},
   "outputs": [
    {
     "name": "stdout",
     "output_type": "stream",
     "text": [
      "원핫인코딩완료\n",
      "(3215104, 257)\n"
     ]
    }
   ],
   "source": [
    "# 훈련데이터 (gcc 최적화버전 0, 1, 2, 3 one hot encoding)\n",
    "bc8_0_onehot_Ngram = pd.get_dummies(final['bin'])\n",
    "bc8_0_onehot_Ngram = pd.concat([final['label'], bc8_0_onehot_Ngram], axis=1)\n",
    "\n",
    "print('원핫인코딩완료')\n",
    "print(bc8_0_onehot_Ngram.shape)"
   ]
  },
  {
   "cell_type": "code",
   "execution_count": 8,
   "metadata": {},
   "outputs": [
    {
     "name": "stdout",
     "output_type": "stream",
     "text": [
      "(3215104, 256) (3215104, 256)\n",
      "(100472, 32, 256) (100472, 32, 1)\n"
     ]
    }
   ],
   "source": [
    "# 훈련 데이터, 훈련 라벨\n",
    "x_bc8_0 = bc8_0_onehot_Ngram.iloc[:,1:].to_numpy()\n",
    "y_bc8_0 = bc8_0_onehot_Ngram['label'].to_numpy()\n",
    "print(x_bc8_0.shape, x_bc8_0.shape)\n",
    "\n",
    "x_bc8_0 = x_bc8_0.reshape(-1, right_idx, x_bc8_0.shape[1])\n",
    "y_bc8_0 = y_bc8_0.reshape(-1, right_idx, 1)\n",
    "\n",
    "print(x_bc8_0.shape, y_bc8_0.shape)"
   ]
  },
  {
   "cell_type": "code",
   "execution_count": 9,
   "metadata": {},
   "outputs": [
    {
     "name": "stdout",
     "output_type": "stream",
     "text": [
      "(100472, 32, 256) (100472, 32, 1)\n"
     ]
    }
   ],
   "source": [
    "# numpy 행, 열 섞기\n",
    "p = np.random.permutation(x_bc8_0.shape[0])\n",
    "\n",
    "x_bc8_0 = x_bc8_0[p]\n",
    "y_bc8_0 = y_bc8_0[p]\n",
    "\n",
    "print(x_bc8_0.shape, y_bc8_0.shape)"
   ]
  },
  {
   "cell_type": "markdown",
   "metadata": {},
   "source": [
    "## (7) 모델"
   ]
  },
  {
   "cell_type": "code",
   "execution_count": 10,
   "metadata": {},
   "outputs": [],
   "source": [
    "# (10) 양방향 LSTM 모델링 작업\n",
    "from tensorflow.keras import layers, models\n",
    "#from tf.keras.models import Model, Sequential\n",
    "#from tf.keras.layers import SimpleRNN, Input, Dense, LSTM\n",
    "#from tf.keras.layers import Bidirectional, TimeDistributed\n",
    "\n",
    "# 학습\n",
    "from tensorflow.keras.callbacks import EarlyStopping\n",
    "early_stopping = EarlyStopping(patience = 10) # 조기종료 콜백함수 정의\n",
    "\n",
    "xInput = layers.Input(batch_shape=(None,right_idx, 256)) \n",
    "xBiLstm = layers.Bidirectional(layers.LSTM(48, return_sequences=True, stateful=False), merge_mode = 'concat')(xInput)\n",
    "xOutput = layers.TimeDistributed(layers.Dense(1, activation ='sigmoid'))(xBiLstm) # 각 스텝에서 cost가 전송되고, 오류가 다음 step으로 전송됨."
   ]
  },
  {
   "cell_type": "markdown",
   "metadata": {},
   "source": [
    "## (8) 학습"
   ]
  },
  {
   "cell_type": "code",
   "execution_count": 11,
   "metadata": {},
   "outputs": [
    {
     "name": "stdout",
     "output_type": "stream",
     "text": [
      "Model: \"model\"\n",
      "_________________________________________________________________\n",
      "Layer (type)                 Output Shape              Param #   \n",
      "=================================================================\n",
      "input_1 (InputLayer)         [(None, 32, 256)]         0         \n",
      "_________________________________________________________________\n",
      "bidirectional (Bidirectional (None, 32, 96)            117120    \n",
      "_________________________________________________________________\n",
      "time_distributed (TimeDistri (None, 32, 1)             97        \n",
      "=================================================================\n",
      "Total params: 117,217\n",
      "Trainable params: 117,217\n",
      "Non-trainable params: 0\n",
      "_________________________________________________________________\n",
      "======Training stage======\n",
      "Train on 70330 samples, validate on 30142 samples\n",
      "Epoch 1/500\n",
      "70330/70330 [==============================] - 26s 372us/sample - loss: 0.0071 - accuracy: 0.9982 - val_loss: 3.2667e-04 - val_accuracy: 0.9999\n",
      "Epoch 2/500\n",
      "70330/70330 [==============================] - 19s 270us/sample - loss: 3.3005e-04 - accuracy: 0.9999 - val_loss: 2.7594e-04 - val_accuracy: 0.9999\n",
      "Epoch 3/500\n",
      "70330/70330 [==============================] - 19s 272us/sample - loss: 2.7328e-04 - accuracy: 0.9999 - val_loss: 2.3351e-04 - val_accuracy: 0.9999\n",
      "Epoch 4/500\n",
      "70330/70330 [==============================] - 18s 261us/sample - loss: 2.3722e-04 - accuracy: 0.9999 - val_loss: 2.3717e-04 - val_accuracy: 0.9999\n",
      "Epoch 5/500\n",
      "70330/70330 [==============================] - 19s 269us/sample - loss: 2.1251e-04 - accuracy: 0.9999 - val_loss: 2.5880e-04 - val_accuracy: 0.9999\n",
      "Epoch 6/500\n",
      "70330/70330 [==============================] - 18s 262us/sample - loss: 2.0148e-04 - accuracy: 0.9999 - val_loss: 2.1588e-04 - val_accuracy: 0.9999\n",
      "Epoch 7/500\n",
      "70330/70330 [==============================] - 19s 269us/sample - loss: 1.8319e-04 - accuracy: 0.9999 - val_loss: 2.1740e-04 - val_accuracy: 0.9999\n",
      "Epoch 8/500\n",
      "70330/70330 [==============================] - 19s 268us/sample - loss: 1.6657e-04 - accuracy: 0.9999 - val_loss: 2.5793e-04 - val_accuracy: 0.9999\n",
      "Epoch 9/500\n",
      "70330/70330 [==============================] - 19s 267us/sample - loss: 1.5910e-04 - accuracy: 1.0000 - val_loss: 3.3421e-04 - val_accuracy: 0.9999\n",
      "Epoch 10/500\n",
      "70330/70330 [==============================] - 18s 263us/sample - loss: 1.5179e-04 - accuracy: 1.0000 - val_loss: 2.3621e-04 - val_accuracy: 0.9999\n",
      "Epoch 11/500\n",
      "70330/70330 [==============================] - 19s 268us/sample - loss: 1.3930e-04 - accuracy: 1.0000 - val_loss: 2.4530e-04 - val_accuracy: 0.9999\n",
      "Epoch 12/500\n",
      "70330/70330 [==============================] - 19s 265us/sample - loss: 1.5031e-04 - accuracy: 1.0000 - val_loss: 2.7097e-04 - val_accuracy: 0.9999\n",
      "Epoch 13/500\n",
      "70330/70330 [==============================] - 19s 267us/sample - loss: 1.2171e-04 - accuracy: 1.0000 - val_loss: 2.6652e-04 - val_accuracy: 0.9999\n",
      "Epoch 14/500\n",
      "70330/70330 [==============================] - 19s 266us/sample - loss: 1.1156e-04 - accuracy: 1.0000 - val_loss: 2.6272e-04 - val_accuracy: 0.9999\n",
      "Epoch 15/500\n",
      "70330/70330 [==============================] - 19s 274us/sample - loss: 1.1697e-04 - accuracy: 1.0000 - val_loss: 3.1029e-04 - val_accuracy: 0.9999\n",
      "Epoch 16/500\n",
      "70330/70330 [==============================] - 19s 265us/sample - loss: 1.0381e-04 - accuracy: 1.0000 - val_loss: 2.6162e-04 - val_accuracy: 0.9999\n"
     ]
    },
    {
     "data": {
      "text/plain": [
       "<tensorflow.python.keras.callbacks.History at 0x289a2f3d508>"
      ]
     },
     "execution_count": 11,
     "metadata": {},
     "output_type": "execute_result"
    },
    {
     "name": "stdout",
     "output_type": "stream",
     "text": [
      "save 완료\n"
     ]
    }
   ],
   "source": [
    "model1 = models.Model(xInput, xOutput)\n",
    "model1.compile(loss='binary_crossentropy', optimizer='rmsprop', metrics=['accuracy'])\n",
    "model1.summary()\n",
    "\n",
    "print('======Training stage======')\n",
    "model1.fit(x_bc8_0,\n",
    "           y_bc8_0,\n",
    "           epochs = 500,\n",
    "           batch_size = 32,\n",
    "           validation_split=0.3,\n",
    "           callbacks=[early_stopping])\n",
    "\n",
    "model1.save('gcc8_bin_core_s32_h48_o0.h5')\n",
    "print('save 완료')"
   ]
  }
 ],
 "metadata": {
  "kernelspec": {
   "display_name": "Python 3",
   "language": "python",
   "name": "python3"
  },
  "language_info": {
   "codemirror_mode": {
    "name": "ipython",
    "version": 3
   },
   "file_extension": ".py",
   "mimetype": "text/x-python",
   "name": "python",
   "nbconvert_exporter": "python",
   "pygments_lexer": "ipython3",
   "version": "3.7.7"
  }
 },
 "nbformat": 4,
 "nbformat_minor": 4
}
