{
 "cells": [
  {
   "cell_type": "markdown",
   "metadata": {},
   "source": [
    "## RNN 모델 N-Byte 방식 (함수정보 포함 vs 미포함 => 1:1 비율)\n",
    "\n",
    "## (1) 데이터로드"
   ]
  },
  {
   "cell_type": "code",
   "execution_count": 1,
   "metadata": {},
   "outputs": [
    {
     "name": "stdout",
     "output_type": "stream",
     "text": [
      "(328516, 96, 256) (328516, 96, 1)\n"
     ]
    }
   ],
   "source": [
    "# (1) 데이터로드\n",
    "import pandas as pd\n",
    "import numpy as np\n",
    "\n",
    "import warnings\n",
    "warnings.filterwarnings(action='ignore')\n",
    "\n",
    "# 여러개 쳐도 나오게\n",
    "from IPython.core.interactiveshell import InteractiveShell\n",
    "InteractiveShell.ast_node_interactivity = \"all\"\n",
    "\n",
    "# 파일읽기\n",
    "bincore8_0_x = np.load('x_bc8_0.npy')\n",
    "bincore8_1_x = np.load('x_bc8_1.npy')\n",
    "bincore8_2_x = np.load('x_bc8_2.npy')\n",
    "bincore8_3_x = np.load('x_bc8_3.npy')\n",
    "\n",
    "bincore8_0_y = np.load('y_bc8_0.npy')\n",
    "bincore8_1_y = np.load('y_bc8_1.npy')\n",
    "bincore8_2_y = np.load('y_bc8_2.npy')\n",
    "bincore8_3_y = np.load('y_bc8_3.npy')\n",
    "\n",
    "x_bincore8 = np.concatenate((bincore8_0_x, bincore8_1_x, bincore8_2_x, bincore8_3_x), axis=0)\n",
    "y_bincore8 = np.concatenate((bincore8_0_y, bincore8_1_y, bincore8_2_y, bincore8_3_y), axis=0)\n",
    "\n",
    "print(x_bincore8.shape, y_bincore8.shape)"
   ]
  },
  {
   "cell_type": "code",
   "execution_count": 2,
   "metadata": {},
   "outputs": [
    {
     "name": "stdout",
     "output_type": "stream",
     "text": [
      "(328516, 96, 256) (328516, 96, 1)\n"
     ]
    }
   ],
   "source": [
    "# numpy 행, 열 섞기\n",
    "p = np.random.permutation(x_bincore8.shape[0])\n",
    "\n",
    "x_bincore8 = x_bincore8[p]\n",
    "y_bincore8 = y_bincore8[p]\n",
    "\n",
    "print(x_bincore8.shape, y_bincore8.shape)"
   ]
  },
  {
   "cell_type": "markdown",
   "metadata": {},
   "source": [
    "## (7) 모델"
   ]
  },
  {
   "cell_type": "code",
   "execution_count": 3,
   "metadata": {},
   "outputs": [],
   "source": [
    "# (10) 양방향 LSTM 모델링 작업\n",
    "from tensorflow.keras import layers, models\n",
    "#from tf.keras.models import Model, Sequential\n",
    "#from tf.keras.layers import SimpleRNN, Input, Dense, LSTM\n",
    "#from tf.keras.layers import Bidirectional, TimeDistributed\n",
    "\n",
    "# 학습\n",
    "from tensorflow.keras.callbacks import EarlyStopping\n",
    "early_stopping = EarlyStopping(patience = 10) # 조기종료 콜백함수 정의\n",
    "\n",
    "xInput = layers.Input(batch_shape=(None,96, 256)) \n",
    "xBiLstm = layers.Bidirectional(layers.LSTM(144, return_sequences=True, stateful=False), merge_mode = 'concat')(xInput)\n",
    "xOutput = layers.TimeDistributed(layers.Dense(1, activation ='sigmoid'))(xBiLstm) # 각 스텝에서 cost가 전송되고, 오류가 다음 step으로 전송됨."
   ]
  },
  {
   "cell_type": "markdown",
   "metadata": {},
   "source": [
    "## (8) 학습 - 10 KFold"
   ]
  },
  {
   "cell_type": "code",
   "execution_count": 4,
   "metadata": {},
   "outputs": [
    {
     "name": "stdout",
     "output_type": "stream",
     "text": [
      "Model: \"model\"\n",
      "_________________________________________________________________\n",
      "Layer (type)                 Output Shape              Param #   \n",
      "=================================================================\n",
      "input_1 (InputLayer)         [(None, 96, 256)]         0         \n",
      "_________________________________________________________________\n",
      "bidirectional (Bidirectional (None, 96, 288)           461952    \n",
      "_________________________________________________________________\n",
      "time_distributed (TimeDistri (None, 96, 1)             289       \n",
      "=================================================================\n",
      "Total params: 462,241\n",
      "Trainable params: 462,241\n",
      "Non-trainable params: 0\n",
      "_________________________________________________________________\n",
      "======Training stage======\n",
      "Train on 229961 samples, validate on 98555 samples\n",
      "Epoch 1/500\n",
      "229961/229961 [==============================] - 137s 596us/sample - loss: 0.0042 - accuracy: 0.9989 - val_loss: 0.0013 - val_accuracy: 0.9997\n",
      "Epoch 2/500\n",
      "229961/229961 [==============================] - 138s 599us/sample - loss: 9.3839e-04 - accuracy: 0.9998 - val_loss: 8.5685e-04 - val_accuracy: 0.9998\n",
      "Epoch 3/500\n",
      "229961/229961 [==============================] - 137s 595us/sample - loss: 6.0439e-04 - accuracy: 0.9999 - val_loss: 6.7534e-04 - val_accuracy: 0.9998\n",
      "Epoch 4/500\n",
      "229961/229961 [==============================] - 137s 594us/sample - loss: 4.3757e-04 - accuracy: 0.9999 - val_loss: 5.8046e-04 - val_accuracy: 0.9999\n",
      "Epoch 5/500\n",
      "229961/229961 [==============================] - 134s 584us/sample - loss: 3.6442e-04 - accuracy: 0.9999 - val_loss: 4.9684e-04 - val_accuracy: 0.9999\n",
      "Epoch 6/500\n",
      "229961/229961 [==============================] - 135s 588us/sample - loss: 2.9734e-04 - accuracy: 0.9999 - val_loss: 4.4630e-04 - val_accuracy: 0.9999\n",
      "Epoch 7/500\n",
      "229961/229961 [==============================] - 133s 579us/sample - loss: 2.7104e-04 - accuracy: 0.9999 - val_loss: 4.1349e-04 - val_accuracy: 0.9999\n",
      "Epoch 8/500\n",
      "229961/229961 [==============================] - 134s 584us/sample - loss: 2.2203e-04 - accuracy: 0.9999 - val_loss: 4.8079e-04 - val_accuracy: 0.9999\n",
      "Epoch 9/500\n",
      "229961/229961 [==============================] - 134s 584us/sample - loss: 2.1077e-04 - accuracy: 1.0000 - val_loss: 4.0900e-04 - val_accuracy: 0.9999\n",
      "Epoch 10/500\n",
      "229961/229961 [==============================] - 134s 583us/sample - loss: 1.6992e-04 - accuracy: 1.0000 - val_loss: 3.9112e-04 - val_accuracy: 0.9999\n",
      "Epoch 11/500\n",
      "229961/229961 [==============================] - 135s 586us/sample - loss: 1.4435e-04 - accuracy: 1.0000 - val_loss: 5.3165e-04 - val_accuracy: 0.9999\n",
      "Epoch 12/500\n",
      "229961/229961 [==============================] - 134s 585us/sample - loss: 1.4320e-04 - accuracy: 1.0000 - val_loss: 4.2907e-04 - val_accuracy: 0.9999\n",
      "Epoch 13/500\n",
      "229961/229961 [==============================] - 134s 582us/sample - loss: 1.2058e-04 - accuracy: 1.0000 - val_loss: 4.8767e-04 - val_accuracy: 0.9999\n",
      "Epoch 14/500\n",
      "229961/229961 [==============================] - 134s 583us/sample - loss: 1.0096e-04 - accuracy: 1.0000 - val_loss: 4.2873e-04 - val_accuracy: 0.9999\n",
      "Epoch 15/500\n",
      "229961/229961 [==============================] - 137s 595us/sample - loss: 9.5550e-05 - accuracy: 1.0000 - val_loss: 4.2476e-04 - val_accuracy: 0.9999\n",
      "Epoch 16/500\n",
      "229961/229961 [==============================] - 135s 588us/sample - loss: 8.5868e-05 - accuracy: 1.0000 - val_loss: 4.2687e-04 - val_accuracy: 0.9999\n",
      "Epoch 17/500\n",
      "229961/229961 [==============================] - 135s 585us/sample - loss: 8.3144e-05 - accuracy: 1.0000 - val_loss: 4.1016e-04 - val_accuracy: 0.9999\n",
      "Epoch 18/500\n",
      "229961/229961 [==============================] - 136s 590us/sample - loss: 7.7368e-05 - accuracy: 1.0000 - val_loss: 4.2519e-04 - val_accuracy: 0.9999\n",
      "Epoch 19/500\n",
      "229961/229961 [==============================] - 134s 584us/sample - loss: 7.6114e-05 - accuracy: 1.0000 - val_loss: 4.1361e-04 - val_accuracy: 0.9999\n",
      "Epoch 20/500\n",
      "229961/229961 [==============================] - 132s 575us/sample - loss: 6.9683e-05 - accuracy: 1.0000 - val_loss: 4.3076e-04 - val_accuracy: 0.9999\n"
     ]
    },
    {
     "data": {
      "text/plain": [
       "<tensorflow.python.keras.callbacks.History at 0x1baebb43488>"
      ]
     },
     "execution_count": 4,
     "metadata": {},
     "output_type": "execute_result"
    },
    {
     "name": "stdout",
     "output_type": "stream",
     "text": [
      "걸린시간: 2699.5712699890137\n",
      "save 완료\n"
     ]
    }
   ],
   "source": [
    "\n",
    "model1 = models.Model(xInput, xOutput)\n",
    "model1.compile(loss='binary_crossentropy', optimizer='rmsprop', metrics=['accuracy'])\n",
    "model1.summary()\n",
    "\n",
    "import time\n",
    "print('======Training stage======')\n",
    "starttime = time.time()\n",
    "\n",
    "model1.fit(x_bincore8,\n",
    "           y_bincore8,\n",
    "           epochs = 500,\n",
    "           batch_size = 32,\n",
    "           validation_split=0.3,\n",
    "           callbacks=[early_stopping])\n",
    "\n",
    "endtime = time.time()\n",
    "\n",
    "print('걸린시간:', endtime - starttime)\n",
    "model1.save('gcc8_bin_core_s96_h144_o0123.h5')\n",
    "print('save 완료')"
   ]
  }
 ],
 "metadata": {
  "kernelspec": {
   "display_name": "Python 3",
   "language": "python",
   "name": "python3"
  },
  "language_info": {
   "codemirror_mode": {
    "name": "ipython",
    "version": 3
   },
   "file_extension": ".py",
   "mimetype": "text/x-python",
   "name": "python",
   "nbconvert_exporter": "python",
   "pygments_lexer": "ipython3",
   "version": "3.7.7"
  }
 },
 "nbformat": 4,
 "nbformat_minor": 4
}
