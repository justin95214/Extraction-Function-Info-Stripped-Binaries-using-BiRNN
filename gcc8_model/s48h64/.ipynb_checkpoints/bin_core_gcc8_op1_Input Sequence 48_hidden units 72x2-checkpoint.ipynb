{
 "cells": [
  {
   "cell_type": "markdown",
   "metadata": {},
   "source": [
    "## RNN 모델 N-Byte 방식 (함수정보 포함 vs 미포함 => 1:1 비율)\n",
    "\n",
    "## (1) 데이터로드"
   ]
  },
  {
   "cell_type": "code",
   "execution_count": 1,
   "metadata": {},
   "outputs": [
    {
     "name": "stdout",
     "output_type": "stream",
     "text": [
      "(27667301, 2)\n",
      "shape - (27667301, 2)\n",
      "reset_index 완료\n",
      "input data shape\n"
     ]
    },
    {
     "data": {
      "text/html": [
       "<div>\n",
       "<style scoped>\n",
       "    .dataframe tbody tr th:only-of-type {\n",
       "        vertical-align: middle;\n",
       "    }\n",
       "\n",
       "    .dataframe tbody tr th {\n",
       "        vertical-align: top;\n",
       "    }\n",
       "\n",
       "    .dataframe thead th {\n",
       "        text-align: right;\n",
       "    }\n",
       "</style>\n",
       "<table border=\"1\" class=\"dataframe\">\n",
       "  <thead>\n",
       "    <tr style=\"text-align: right;\">\n",
       "      <th></th>\n",
       "      <th>bin</th>\n",
       "      <th>label</th>\n",
       "    </tr>\n",
       "  </thead>\n",
       "  <tbody>\n",
       "    <tr>\n",
       "      <th>0</th>\n",
       "      <td>47</td>\n",
       "      <td>0</td>\n",
       "    </tr>\n",
       "    <tr>\n",
       "      <th>1</th>\n",
       "      <td>108</td>\n",
       "      <td>0</td>\n",
       "    </tr>\n",
       "    <tr>\n",
       "      <th>2</th>\n",
       "      <td>105</td>\n",
       "      <td>0</td>\n",
       "    </tr>\n",
       "    <tr>\n",
       "      <th>3</th>\n",
       "      <td>98</td>\n",
       "      <td>0</td>\n",
       "    </tr>\n",
       "    <tr>\n",
       "      <th>4</th>\n",
       "      <td>47</td>\n",
       "      <td>0</td>\n",
       "    </tr>\n",
       "  </tbody>\n",
       "</table>\n",
       "</div>"
      ],
      "text/plain": [
       "   bin  label\n",
       "0   47      0\n",
       "1  108      0\n",
       "2  105      0\n",
       "3   98      0\n",
       "4   47      0"
      ]
     },
     "execution_count": 1,
     "metadata": {},
     "output_type": "execute_result"
    }
   ],
   "source": [
    "# (1) 데이터로드\n",
    "import pandas as pd\n",
    "import numpy as np\n",
    "\n",
    "import warnings\n",
    "warnings.filterwarnings(action='ignore')\n",
    "\n",
    "# 여러개 쳐도 나오게\n",
    "from IPython.core.interactiveshell import InteractiveShell\n",
    "InteractiveShell.ast_node_interactivity = \"all\"\n",
    "\n",
    "# 파일읽기\n",
    "bin8_1 = pd.read_csv(\"../../바이너리_최종데이터_1004/gcc8/o1/o1_bincore8.csv\", index_col=0)\n",
    "print(bin8_1.shape)\n",
    "\n",
    "# reset_index (hex processing 하면서 값이 빠졌으니까 + n_gram 에서 index를 다루기 때문에)\n",
    "bin8_1.reset_index(inplace=True, drop=True)\n",
    "\n",
    "print('shape -', bin8_1.shape)\n",
    "print('reset_index 완료')\n",
    "print('input data shape')\n",
    "bin8_1.head()"
   ]
  },
  {
   "cell_type": "code",
   "execution_count": 2,
   "metadata": {},
   "outputs": [
    {
     "name": "stdout",
     "output_type": "stream",
     "text": [
      "256\n",
      "0    27628838\n",
      "1       38463\n",
      "Name: label, dtype: int64\n"
     ]
    }
   ],
   "source": [
    "# (2-1) 데이터체크 1 - hex(16진수)가 256 label을 가져야 dummies 변환 가능 \n",
    "# 16진수 256개 종류가 있어서 pd.get_dummies 사용 가능.\n",
    "print(len(bin8_1['bin'].unique()))\n",
    "\n",
    "# (2-2) 데이터 체크 2 - 1, 0 비율 ==> 1이 함수의 갯수를 뜻함\n",
    "# 정답 데이터 1, 0 비율 확인  ==> 1이 함수의 갯수를 뜻함\n",
    "print(bin8_1['label'].value_counts())"
   ]
  },
  {
   "cell_type": "markdown",
   "metadata": {},
   "source": [
    "## (3) N Byte씩 자르기"
   ]
  },
  {
   "cell_type": "code",
   "execution_count": 3,
   "metadata": {},
   "outputs": [
    {
     "name": "stdout",
     "output_type": "stream",
     "text": [
      "1846224\n",
      "나머지 0\n",
      "최종 길이 1846224\n",
      "bin8_1 1846224\n"
     ]
    }
   ],
   "source": [
    "idx_bin = bin8_1[bin8_1['label']==1].index  # 407, 474 ...\n",
    "ls_bin = list(idx_bin)\n",
    "\n",
    "# 최종 뽑을 행에 대한 index\n",
    "ls_idx_bin = []\n",
    "\n",
    "# n byte 자르기 방식\n",
    "left_idx, right_idx = 0, 48 # 3개씩\n",
    "\n",
    "# n byte 자르기\n",
    "for k in range(left_idx, right_idx):\n",
    "    ls_idx_bin.extend(list(idx_bin + k)) # index 형이라서 가능\n",
    "\n",
    "#ls_idx = list(set(ls_idx)) \n",
    "ls_idx_bin.sort() # 인덱스 정렬\n",
    "\n",
    "# 1차 index 해당범위 초과한 것들 없애기\n",
    "ls_idx_bin = list(filter(lambda x: x<len(bin8_1), ls_idx_bin))\n",
    "print(len(ls_idx_bin))\n",
    "\n",
    "# 2차 남은 index들 중 right_idx 나눈 나머지 없애기\n",
    "sub_bin = len(ls_idx_bin)%(right_idx)\n",
    "print('나머지', sub_bin)\n",
    "\n",
    "ls_idx_bin = ls_idx_bin[:len(ls_idx_bin)-sub_bin]\n",
    "print('최종 길이', len(ls_idx_bin))\n",
    "\n",
    "print('bin8_1', len(ls_idx_bin))\n",
    "\n",
    "# loc 로 수정필요\n",
    "bin8_1_Ngram = bin8_1.loc[ls_idx_bin,:].copy()"
   ]
  },
  {
   "cell_type": "markdown",
   "metadata": {},
   "source": [
    "## (4) false data 만들기"
   ]
  },
  {
   "cell_type": "code",
   "execution_count": 4,
   "metadata": {},
   "outputs": [
    {
     "name": "stdout",
     "output_type": "stream",
     "text": [
      "38463.0\n",
      "0 331036\n",
      "1000 6814865\n",
      "2000 27352020\n",
      "3000 1726835\n",
      "4000 25163611\n",
      "5000 12179291\n",
      "6000 2669877\n",
      "7000 16148757\n",
      "8000 7352276\n",
      "9000 7691438\n",
      "10000 17017163\n",
      "11000 25224403\n",
      "12000 3793733\n",
      "13000 13850829\n",
      "14000 23370380\n",
      "15000 11491577\n",
      "16000 18660764\n",
      "17000 6200143\n",
      "18000 8135432\n",
      "19000 24582782\n",
      "20000 10443436\n",
      "21000 5677600\n",
      "22000 19969939\n",
      "23000 9923293\n",
      "24000 18233561\n",
      "25000 14158722\n",
      "26000 23029980\n",
      "27000 5446837\n",
      "28000 26352138\n",
      "29000 25130917\n",
      "30000 10014579\n",
      "31000 21039399\n",
      "32000 22176959\n",
      "33000 12585691\n",
      "34000 20136118\n",
      "35000 23014418\n",
      "36000 7245281\n",
      "37000 9321199\n",
      "38000 9232794\n",
      "완료\n",
      "38463\n"
     ]
    }
   ],
   "source": [
    "# false data 만들기 - False 데이터 랜덤 생성\n",
    "\n",
    "# 목표치\n",
    "goal_bin = len(bin8_1_Ngram)/right_idx\n",
    "count_bin = 0\n",
    "\n",
    "print(goal_bin)\n",
    "\n",
    "# 최종 데이터 Frame\n",
    "d_bin = pd.DataFrame(columns = bin8_1.columns)\n",
    "\n",
    "binutils_df = []\n",
    "# goal 에 도달할 때까지\n",
    "while True:\n",
    "    if (count_bin == goal_bin):\n",
    "            break\n",
    "    # 진행상황 살펴보기 위함\n",
    "            \n",
    "    # 랜덤 N 바이트씩 뽑음\n",
    "    # random index\n",
    "    random_idx_bin = np.random.randint(len(bin8_1)-right_idx)\n",
    "\n",
    "    if count_bin % 1000==0:\n",
    "        print(count_bin, end=' ')\n",
    "        print(random_idx_bin)\n",
    "\n",
    "    df_bin = bin8_1[random_idx_bin : random_idx_bin + right_idx]\n",
    "    \n",
    "    # 뽑은 index의 N 바이트 중에 1이 없는 경우만\n",
    "    if 1 not in df_bin['label'] and count_bin < goal_bin:\n",
    "        binutils_df.append(df_bin)\n",
    "        count_bin+=1\n",
    "\n",
    "print('완료')\n",
    "print(len(binutils_df))"
   ]
  },
  {
   "cell_type": "code",
   "execution_count": 5,
   "metadata": {},
   "outputs": [
    {
     "name": "stdout",
     "output_type": "stream",
     "text": [
      "38463\n",
      "38463\n"
     ]
    }
   ],
   "source": [
    "# True data와 False Data 같은지 체크\n",
    "print(len(binutils_df))\n",
    "print(bin8_1['label'].value_counts()[1])"
   ]
  },
  {
   "cell_type": "markdown",
   "metadata": {},
   "source": [
    "## (5) False Data + True Data 합치기"
   ]
  },
  {
   "cell_type": "code",
   "execution_count": 6,
   "metadata": {},
   "outputs": [
    {
     "data": {
      "text/plain": [
       "(3692448, 2)"
      ]
     },
     "execution_count": 6,
     "metadata": {},
     "output_type": "execute_result"
    }
   ],
   "source": [
    "f_data = pd.concat(binutils_df)\n",
    "final = pd.concat([f_data, bin8_1_Ngram])\n",
    "final.shape"
   ]
  },
  {
   "cell_type": "markdown",
   "metadata": {},
   "source": [
    "## (6) one hot encoding"
   ]
  },
  {
   "cell_type": "code",
   "execution_count": 7,
   "metadata": {},
   "outputs": [
    {
     "name": "stdout",
     "output_type": "stream",
     "text": [
      "원핫인코딩완료\n",
      "(3692448, 257)\n"
     ]
    }
   ],
   "source": [
    "# 훈련데이터 (gcc 최적화버전 0, 1, 2, 3 one hot encoding)\n",
    "bc8_1_onehot_Ngram = pd.get_dummies(final['bin'])\n",
    "bc8_1_onehot_Ngram = pd.concat([final['label'], bc8_1_onehot_Ngram], axis=1)\n",
    "\n",
    "print('원핫인코딩완료')\n",
    "print(bc8_1_onehot_Ngram.shape)"
   ]
  },
  {
   "cell_type": "code",
   "execution_count": 8,
   "metadata": {},
   "outputs": [
    {
     "name": "stdout",
     "output_type": "stream",
     "text": [
      "(3692448, 256) (3692448, 256)\n",
      "(76926, 48, 256) (76926, 48, 1)\n"
     ]
    }
   ],
   "source": [
    "# 훈련 데이터, 훈련 라벨\n",
    "x_bc8_1 = bc8_1_onehot_Ngram.iloc[:,1:].to_numpy()\n",
    "y_bc8_1 = bc8_1_onehot_Ngram['label'].to_numpy()\n",
    "print(x_bc8_1.shape, x_bc8_1.shape)\n",
    "\n",
    "x_bc8_1 = x_bc8_1.reshape(-1, right_idx, x_bc8_1.shape[1])\n",
    "y_bc8_1 = y_bc8_1.reshape(-1, right_idx, 1)\n",
    "\n",
    "print(x_bc8_1.shape, y_bc8_1.shape)"
   ]
  },
  {
   "cell_type": "code",
   "execution_count": 9,
   "metadata": {},
   "outputs": [
    {
     "name": "stdout",
     "output_type": "stream",
     "text": [
      "(76926, 48, 256) (76926, 48, 1)\n"
     ]
    }
   ],
   "source": [
    "# numpy 행, 열 섞기\n",
    "p = np.random.permutation(x_bc8_1.shape[0])\n",
    "\n",
    "x_bc8_1 = x_bc8_1[p]\n",
    "y_bc8_1 = y_bc8_1[p]\n",
    "\n",
    "print(x_bc8_1.shape, y_bc8_1.shape)"
   ]
  },
  {
   "cell_type": "markdown",
   "metadata": {},
   "source": [
    "## (7) 모델"
   ]
  },
  {
   "cell_type": "code",
   "execution_count": 10,
   "metadata": {},
   "outputs": [],
   "source": [
    "# (10) 양방향 LSTM 모델링 작업\n",
    "from tensorflow.keras import layers, models\n",
    "#from tf.keras.models import Model, Sequential\n",
    "#from tf.keras.layers import SimpleRNN, Input, Dense, LSTM\n",
    "#from tf.keras.layers import Bidirectional, TimeDistributed\n",
    "\n",
    "# 학습\n",
    "from tensorflow.keras.callbacks import EarlyStopping\n",
    "early_stopping = EarlyStopping(patience = 3) # 조기종료 콜백함수 정의\n",
    "\n",
    "xInput = layers.Input(batch_shape=(None,right_idx, 256)) \n",
    "xBiLstm = layers.Bidirectional(layers.LSTM(72, return_sequences=True, stateful=False), merge_mode = 'concat')(xInput)\n",
    "xOutput = layers.TimeDistributed(layers.Dense(1, activation ='sigmoid'))(xBiLstm) # 각 스텝에서 cost가 전송되고, 오류가 다음 step으로 전송됨."
   ]
  },
  {
   "cell_type": "markdown",
   "metadata": {},
   "source": [
    "## (8) 학습 - 10 KFold"
   ]
  },
  {
   "cell_type": "code",
   "execution_count": 11,
   "metadata": {
    "scrolled": false
   },
   "outputs": [
    {
     "name": "stdout",
     "output_type": "stream",
     "text": [
      "Model: \"model\"\n",
      "_________________________________________________________________\n",
      "Layer (type)                 Output Shape              Param #   \n",
      "=================================================================\n",
      "input_1 (InputLayer)         [(None, 48, 256)]         0         \n",
      "_________________________________________________________________\n",
      "bidirectional (Bidirectional (None, 48, 144)           189504    \n",
      "_________________________________________________________________\n",
      "time_distributed (TimeDistri (None, 48, 1)             145       \n",
      "=================================================================\n",
      "Total params: 189,649\n",
      "Trainable params: 189,649\n",
      "Non-trainable params: 0\n",
      "_________________________________________________________________\n",
      "======Training stage======\n",
      "Train on 69233 samples\n",
      "Epoch 1/10\n",
      "69184/69233 [============================>.] - ETA: 0s - loss: 0.0117 - accuracy: 0.9967WARNING:tensorflow:Early stopping conditioned on metric `val_loss` which is not available. Available metrics are: loss,accuracy\n",
      "69233/69233 [==============================] - 105s 2ms/sample - loss: 0.0117 - accuracy: 0.9967\n",
      "Epoch 2/10\n",
      "69216/69233 [============================>.] - ETA: 0s - loss: 0.0022 - accuracy: 0.9993WARNING:tensorflow:Early stopping conditioned on metric `val_loss` which is not available. Available metrics are: loss,accuracy\n",
      "69233/69233 [==============================] - 101s 1ms/sample - loss: 0.0022 - accuracy: 0.9993\n",
      "Epoch 3/10\n",
      "69216/69233 [============================>.] - ETA: 0s - loss: 0.0013 - accuracy: 0.9996WARNING:tensorflow:Early stopping conditioned on metric `val_loss` which is not available. Available metrics are: loss,accuracy\n",
      "69233/69233 [==============================] - 105s 2ms/sample - loss: 0.0013 - accuracy: 0.9996\n",
      "Epoch 4/10\n",
      "69216/69233 [============================>.] - ETA: 0s - loss: 8.5685e-04 - accuracy: 0.9997WARNING:tensorflow:Early stopping conditioned on metric `val_loss` which is not available. Available metrics are: loss,accuracy\n",
      "69233/69233 [==============================] - 105s 2ms/sample - loss: 8.5683e-04 - accuracy: 0.9997\n",
      "Epoch 5/10\n",
      "69216/69233 [============================>.] - ETA: 0s - loss: 6.2054e-04 - accuracy: 0.9998 ETA: 1s - lWARNING:tensorflow:Early stopping conditioned on metric `val_loss` which is not available. Available metrics are: loss,accuracy\n",
      "69233/69233 [==============================] - 105s 2ms/sample - loss: 6.2041e-04 - accuracy: 0.9998\n",
      "Epoch 6/10\n",
      "69184/69233 [============================>.] - ETA: 0s - loss: 4.7785e-04 - accuracy: 0.9999WARNING:tensorflow:Early stopping conditioned on metric `val_loss` which is not available. Available metrics are: loss,accuracy\n",
      "69233/69233 [==============================] - 104s 2ms/sample - loss: 4.7854e-04 - accuracy: 0.9999\n",
      "Epoch 7/10\n",
      "69216/69233 [============================>.] - ETA: 0s - loss: 3.8188e-04 - accuracy: 0.9999WARNING:tensorflow:Early stopping conditioned on metric `val_loss` which is not available. Available metrics are: loss,accuracy\n",
      "69233/69233 [==============================] - 106s 2ms/sample - loss: 3.8179e-04 - accuracy: 0.9999\n",
      "Epoch 8/10\n",
      "69216/69233 [============================>.] - ETA: 0s - loss: 3.2420e-04 - accuracy: 0.9999WARNING:tensorflow:Early stopping conditioned on metric `val_loss` which is not available. Available metrics are: loss,accuracy\n",
      "69233/69233 [==============================] - 105s 2ms/sample - loss: 3.2412e-04 - accuracy: 0.9999\n",
      "Epoch 9/10\n",
      "69216/69233 [============================>.] - ETA: 0s - loss: 2.6112e-04 - accuracy: 0.9999WARNING:tensorflow:Early stopping conditioned on metric `val_loss` which is not available. Available metrics are: loss,accuracy\n",
      "69233/69233 [==============================] - 106s 2ms/sample - loss: 2.6106e-04 - accuracy: 0.9999\n",
      "Epoch 10/10\n",
      "69216/69233 [============================>.] - ETA: 0s - loss: 2.1837e-04 - accuracy: 0.9999WARNING:tensorflow:Early stopping conditioned on metric `val_loss` which is not available. Available metrics are: loss,accuracy\n",
      "69233/69233 [==============================] - 112s 2ms/sample - loss: 2.1834e-04 - accuracy: 0.9999\n"
     ]
    },
    {
     "data": {
      "text/plain": [
       "<tensorflow.python.keras.callbacks.History at 0x20f69911b48>"
      ]
     },
     "execution_count": 11,
     "metadata": {},
     "output_type": "execute_result"
    },
    {
     "name": "stdout",
     "output_type": "stream",
     "text": [
      "accuracy_score 0.9999079249534208\n",
      "recall_score 0.9973474801061007\n",
      "precision_score 0.9966425163456442\n",
      "f1_score 0.9969948736079194\n",
      "Model: \"model_1\"\n",
      "_________________________________________________________________\n",
      "Layer (type)                 Output Shape              Param #   \n",
      "=================================================================\n",
      "input_1 (InputLayer)         [(None, 48, 256)]         0         \n",
      "_________________________________________________________________\n",
      "bidirectional (Bidirectional (None, 48, 144)           189504    \n",
      "_________________________________________________________________\n",
      "time_distributed (TimeDistri (None, 48, 1)             145       \n",
      "=================================================================\n",
      "Total params: 189,649\n",
      "Trainable params: 189,649\n",
      "Non-trainable params: 0\n",
      "_________________________________________________________________\n",
      "======Training stage======\n",
      "Train on 69233 samples\n",
      "Epoch 1/10\n",
      "69216/69233 [============================>.] - ETA: 0s - loss: 2.2963e-04 - accuracy: 0.9999WARNING:tensorflow:Early stopping conditioned on metric `val_loss` which is not available. Available metrics are: loss,accuracy\n",
      "69233/69233 [==============================] - 137s 2ms/sample - loss: 2.2958e-04 - accuracy: 0.9999\n",
      "Epoch 2/10\n",
      "69216/69233 [============================>.] - ETA: 0s - loss: 1.8706e-04 - accuracy: 0.9999WARNING:tensorflow:Early stopping conditioned on metric `val_loss` which is not available. Available metrics are: loss,accuracy\n",
      "69233/69233 [==============================] - 117s 2ms/sample - loss: 1.8704e-04 - accuracy: 0.9999\n",
      "Epoch 3/10\n",
      "69216/69233 [============================>.] - ETA: 0s - loss: 1.4451e-04 - accuracy: 1.0000WARNING:tensorflow:Early stopping conditioned on metric `val_loss` which is not available. Available metrics are: loss,accuracy\n",
      "69233/69233 [==============================] - 117s 2ms/sample - loss: 1.4449e-04 - accuracy: 1.0000\n",
      "Epoch 4/10\n",
      "69216/69233 [============================>.] - ETA: 0s - loss: 1.2356e-04 - accuracy: 1.0000WARNING:tensorflow:Early stopping conditioned on metric `val_loss` which is not available. Available metrics are: loss,accuracy\n",
      "69233/69233 [==============================] - 106s 2ms/sample - loss: 1.2353e-04 - accuracy: 1.0000\n",
      "Epoch 5/10\n",
      "69216/69233 [============================>.] - ETA: 0s - loss: 9.5989e-05 - accuracy: 1.0000WARNING:tensorflow:Early stopping conditioned on metric `val_loss` which is not available. Available metrics are: loss,accuracy\n",
      "69233/69233 [==============================] - 116s 2ms/sample - loss: 9.5966e-05 - accuracy: 1.0000\n",
      "Epoch 6/10\n",
      "69216/69233 [============================>.] - ETA: 0s - loss: 9.0475e-05 - accuracy: 1.0000WARNING:tensorflow:Early stopping conditioned on metric `val_loss` which is not available. Available metrics are: loss,accuracy\n",
      "69233/69233 [==============================] - 117s 2ms/sample - loss: 9.0457e-05 - accuracy: 1.0000\n",
      "Epoch 7/10\n",
      "69216/69233 [============================>.] - ETA: 0s - loss: 7.6137e-05 - accuracy: 1.0000WARNING:tensorflow:Early stopping conditioned on metric `val_loss` which is not available. Available metrics are: loss,accuracy\n",
      "69233/69233 [==============================] - 116s 2ms/sample - loss: 7.6118e-05 - accuracy: 1.0000\n",
      "Epoch 8/10\n",
      "69184/69233 [============================>.] - ETA: 0s - loss: 6.7433e-05 - accuracy: 1.0000WARNING:tensorflow:Early stopping conditioned on metric `val_loss` which is not available. Available metrics are: loss,accuracy\n",
      "69233/69233 [==============================] - 109s 2ms/sample - loss: 6.7386e-05 - accuracy: 1.0000\n",
      "Epoch 9/10\n",
      "69184/69233 [============================>.] - ETA: 0s - loss: 5.8508e-05 - accuracy: 1.0000WARNING:tensorflow:Early stopping conditioned on metric `val_loss` which is not available. Available metrics are: loss,accuracy\n",
      "69233/69233 [==============================] - 114s 2ms/sample - loss: 5.8479e-05 - accuracy: 1.0000\n",
      "Epoch 10/10\n",
      "69216/69233 [============================>.] - ETA: 0s - loss: 4.5746e-05 - accuracy: 1.0000WARNING:tensorflow:Early stopping conditioned on metric `val_loss` which is not available. Available metrics are: loss,accuracy\n",
      "69233/69233 [==============================] - 115s 2ms/sample - loss: 4.5734e-05 - accuracy: 1.0000\n"
     ]
    },
    {
     "data": {
      "text/plain": [
       "<tensorflow.python.keras.callbacks.History at 0x20f73b419c8>"
      ]
     },
     "execution_count": 11,
     "metadata": {},
     "output_type": "execute_result"
    },
    {
     "name": "stdout",
     "output_type": "stream",
     "text": [
      "accuracy_score 0.9999485462974999\n",
      "recall_score 0.9977636973537085\n",
      "precision_score 0.9986942734564447\n",
      "f1_score 0.9982287685280135\n",
      "Model: \"model_2\"\n",
      "_________________________________________________________________\n",
      "Layer (type)                 Output Shape              Param #   \n",
      "=================================================================\n",
      "input_1 (InputLayer)         [(None, 48, 256)]         0         \n",
      "_________________________________________________________________\n",
      "bidirectional (Bidirectional (None, 48, 144)           189504    \n",
      "_________________________________________________________________\n",
      "time_distributed (TimeDistri (None, 48, 1)             145       \n",
      "=================================================================\n",
      "Total params: 189,649\n",
      "Trainable params: 189,649\n",
      "Non-trainable params: 0\n",
      "_________________________________________________________________\n",
      "======Training stage======\n",
      "Train on 69233 samples\n",
      "Epoch 1/10\n",
      "69184/69233 [============================>.] - ETA: 0s - loss: 7.8841e-05 - accuracy: 1.0000WARNING:tensorflow:Early stopping conditioned on metric `val_loss` which is not available. Available metrics are: loss,accuracy\n",
      "69233/69233 [==============================] - 130s 2ms/sample - loss: 7.8785e-05 - accuracy: 1.0000\n",
      "Epoch 2/10\n",
      "69216/69233 [============================>.] - ETA: 0s - loss: 4.2868e-05 - accuracy: 1.0000WARNING:tensorflow:Early stopping conditioned on metric `val_loss` which is not available. Available metrics are: loss,accuracy\n",
      "69233/69233 [==============================] - 111s 2ms/sample - loss: 4.2858e-05 - accuracy: 1.0000\n",
      "Epoch 3/10\n",
      "69216/69233 [============================>.] - ETA: 0s - loss: 4.8733e-05 - accuracy: 1.0000WARNING:tensorflow:Early stopping conditioned on metric `val_loss` which is not available. Available metrics are: loss,accuracy\n",
      "69233/69233 [==============================] - 111s 2ms/sample - loss: 4.8721e-05 - accuracy: 1.0000\n",
      "Epoch 4/10\n",
      "69216/69233 [============================>.] - ETA: 0s - loss: 3.1225e-05 - accuracy: 1.0000WARNING:tensorflow:Early stopping conditioned on metric `val_loss` which is not available. Available metrics are: loss,accuracy\n",
      "69233/69233 [==============================] - 112s 2ms/sample - loss: 3.1217e-05 - accuracy: 1.0000\n",
      "Epoch 5/10\n",
      "69216/69233 [============================>.] - ETA: 0s - loss: 3.3102e-05 - accuracy: 1.0000WARNING:tensorflow:Early stopping conditioned on metric `val_loss` which is not available. Available metrics are: loss,accuracy\n",
      "69233/69233 [==============================] - 110s 2ms/sample - loss: 3.3094e-05 - accuracy: 1.0000\n",
      "Epoch 6/10\n",
      "69216/69233 [============================>.] - ETA: 0s - loss: 2.7420e-05 - accuracy: 1.0000 ETA: 1s - loss:WARNING:tensorflow:Early stopping conditioned on metric `val_loss` which is not available. Available metrics are: loss,accuracy\n",
      "69233/69233 [==============================] - 115s 2ms/sample - loss: 2.7414e-05 - accuracy: 1.0000\n",
      "Epoch 7/10\n",
      "69216/69233 [============================>.] - ETA: 0s - loss: 1.6545e-05 - accuracy: 1.0000 ETA: 1s -WARNING:tensorflow:Early stopping conditioned on metric `val_loss` which is not available. Available metrics are: loss,accuracy\n",
      "69233/69233 [==============================] - 105s 2ms/sample - loss: 1.6541e-05 - accuracy: 1.0000\n",
      "Epoch 8/10\n",
      "69216/69233 [============================>.] - ETA: 0s - loss: 1.8747e-05 - accuracy: 1.0000WARNING:tensorflow:Early stopping conditioned on metric `val_loss` which is not available. Available metrics are: loss,accuracy\n",
      "69233/69233 [==============================] - 110s 2ms/sample - loss: 1.8742e-05 - accuracy: 1.0000\n",
      "Epoch 9/10\n",
      "69216/69233 [============================>.] - ETA: 0s - loss: 1.8443e-05 - accuracy: 1.0000WARNING:tensorflow:Early stopping conditioned on metric `val_loss` which is not available. Available metrics are: loss,accuracy\n",
      "69233/69233 [==============================] - 116s 2ms/sample - loss: 1.8438e-05 - accuracy: 1.0000\n",
      "Epoch 10/10\n",
      "69184/69233 [============================>.] - ETA: 0s - loss: 1.7830e-05 - accuracy: 1.0000WARNING:tensorflow:Early stopping conditioned on metric `val_loss` which is not available. Available metrics are: loss,accuracy\n",
      "69233/69233 [==============================] - 116s 2ms/sample - loss: 1.7817e-05 - accuracy: 1.0000\n"
     ]
    },
    {
     "data": {
      "text/plain": [
       "<tensorflow.python.keras.callbacks.History at 0x20f6978d748>"
      ]
     },
     "execution_count": 11,
     "metadata": {},
     "output_type": "execute_result"
    },
    {
     "name": "stdout",
     "output_type": "stream",
     "text": [
      "accuracy_score 0.9999864595519736\n",
      "recall_score 0.9994470046082949\n",
      "precision_score 0.9996312684365781\n",
      "f1_score 0.9995391280302333\n",
      "Model: \"model_3\"\n",
      "_________________________________________________________________\n",
      "Layer (type)                 Output Shape              Param #   \n",
      "=================================================================\n",
      "input_1 (InputLayer)         [(None, 48, 256)]         0         \n",
      "_________________________________________________________________\n",
      "bidirectional (Bidirectional (None, 48, 144)           189504    \n",
      "_________________________________________________________________\n",
      "time_distributed (TimeDistri (None, 48, 1)             145       \n",
      "=================================================================\n",
      "Total params: 189,649\n",
      "Trainable params: 189,649\n",
      "Non-trainable params: 0\n",
      "_________________________________________________________________\n",
      "======Training stage======\n",
      "Train on 69233 samples\n",
      "Epoch 1/10\n",
      "69216/69233 [============================>.] - ETA: 0s - loss: 2.1106e-05 - accuracy: 1.0000WARNING:tensorflow:Early stopping conditioned on metric `val_loss` which is not available. Available metrics are: loss,accuracy\n",
      "69233/69233 [==============================] - 131s 2ms/sample - loss: 2.1100e-05 - accuracy: 1.0000\n",
      "Epoch 2/10\n",
      "69216/69233 [============================>.] - ETA: 0s - loss: 1.5213e-05 - accuracy: 1.0000WARNING:tensorflow:Early stopping conditioned on metric `val_loss` which is not available. Available metrics are: loss,accuracy\n",
      "69233/69233 [==============================] - 104s 2ms/sample - loss: 1.5209e-05 - accuracy: 1.0000\n",
      "Epoch 3/10\n",
      "69216/69233 [============================>.] - ETA: 0s - loss: 1.8421e-05 - accuracy: 1.0000WARNING:tensorflow:Early stopping conditioned on metric `val_loss` which is not available. Available metrics are: loss,accuracy\n",
      "69233/69233 [==============================] - 115s 2ms/sample - loss: 1.8416e-05 - accuracy: 1.0000\n",
      "Epoch 4/10\n",
      "69216/69233 [============================>.] - ETA: 0s - loss: 9.0288e-06 - accuracy: 1.0000WARNING:tensorflow:Early stopping conditioned on metric `val_loss` which is not available. Available metrics are: loss,accuracy\n",
      "69233/69233 [==============================] - 117s 2ms/sample - loss: 9.0267e-06 - accuracy: 1.0000\n",
      "Epoch 5/10\n",
      "69184/69233 [============================>.] - ETA: 0s - loss: 1.5735e-05 - accuracy: 1.0000WARNING:tensorflow:Early stopping conditioned on metric `val_loss` which is not available. Available metrics are: loss,accuracy\n",
      "69233/69233 [==============================] - 117s 2ms/sample - loss: 1.5724e-05 - accuracy: 1.0000\n",
      "Epoch 6/10\n",
      "69216/69233 [============================>.] - ETA: 0s - loss: 1.5180e-05 - accuracy: 1.0000WARNING:tensorflow:Early stopping conditioned on metric `val_loss` which is not available. Available metrics are: loss,accuracy\n",
      "69233/69233 [==============================] - 113s 2ms/sample - loss: 1.5176e-05 - accuracy: 1.0000\n",
      "Epoch 7/10\n",
      "69216/69233 [============================>.] - ETA: 0s - loss: 1.0901e-05 - accuracy: 1.0000WARNING:tensorflow:Early stopping conditioned on metric `val_loss` which is not available. Available metrics are: loss,accuracy\n",
      "69233/69233 [==============================] - 104s 2ms/sample - loss: 1.0899e-05 - accuracy: 1.0000\n",
      "Epoch 8/10\n",
      "69216/69233 [============================>.] - ETA: 0s - loss: 1.8032e-05 - accuracy: 1.0000WARNING:tensorflow:Early stopping conditioned on metric `val_loss` which is not available. Available metrics are: loss,accuracy\n",
      "69233/69233 [==============================] - 116s 2ms/sample - loss: 1.8028e-05 - accuracy: 1.0000\n",
      "Epoch 9/10\n",
      "69216/69233 [============================>.] - ETA: 0s - loss: 6.0099e-06 - accuracy: 1.0000WARNING:tensorflow:Early stopping conditioned on metric `val_loss` which is not available. Available metrics are: loss,accuracy\n",
      "69233/69233 [==============================] - 116s 2ms/sample - loss: 6.0084e-06 - accuracy: 1.0000\n",
      "Epoch 10/10\n",
      "69216/69233 [============================>.] - ETA: 0s - loss: 9.6539e-06 - accuracy: 1.0000WARNING:tensorflow:Early stopping conditioned on metric `val_loss` which is not available. Available metrics are: loss,accuracy\n",
      "69233/69233 [==============================] - 116s 2ms/sample - loss: 9.6515e-06 - accuracy: 1.0000\n"
     ]
    },
    {
     "data": {
      "text/plain": [
       "<tensorflow.python.keras.callbacks.History at 0x20f695f9ec8>"
      ]
     },
     "execution_count": 11,
     "metadata": {},
     "output_type": "execute_result"
    },
    {
     "name": "stdout",
     "output_type": "stream",
     "text": [
      "accuracy_score 0.9999972919103948\n",
      "recall_score 0.9998225377107365\n",
      "precision_score 1.0\n",
      "f1_score 0.9999112609814536\n",
      "Model: \"model_4\"\n",
      "_________________________________________________________________\n",
      "Layer (type)                 Output Shape              Param #   \n",
      "=================================================================\n",
      "input_1 (InputLayer)         [(None, 48, 256)]         0         \n",
      "_________________________________________________________________\n",
      "bidirectional (Bidirectional (None, 48, 144)           189504    \n",
      "_________________________________________________________________\n",
      "time_distributed (TimeDistri (None, 48, 1)             145       \n",
      "=================================================================\n",
      "Total params: 189,649\n",
      "Trainable params: 189,649\n",
      "Non-trainable params: 0\n",
      "_________________________________________________________________\n",
      "======Training stage======\n",
      "Train on 69233 samples\n",
      "Epoch 1/10\n",
      "69184/69233 [============================>.] - ETA: 0s - loss: 8.8374e-06 - accuracy: 1.0000WARNING:tensorflow:Early stopping conditioned on metric `val_loss` which is not available. Available metrics are: loss,accuracy\n",
      "69233/69233 [==============================] - 120s 2ms/sample - loss: 8.8311e-06 - accuracy: 1.0000\n",
      "Epoch 2/10\n",
      "69184/69233 [============================>.] - ETA: 0s - loss: 5.7849e-06 - accuracy: 1.0000WARNING:tensorflow:Early stopping conditioned on metric `val_loss` which is not available. Available metrics are: loss,accuracy\n",
      "69233/69233 [==============================] - 108s 2ms/sample - loss: 5.7808e-06 - accuracy: 1.0000\n",
      "Epoch 3/10\n",
      "69216/69233 [============================>.] - ETA: 0s - loss: 1.0621e-05 - accuracy: 1.0000WARNING:tensorflow:Early stopping conditioned on metric `val_loss` which is not available. Available metrics are: loss,accuracy\n",
      "69233/69233 [==============================] - 116s 2ms/sample - loss: 1.0618e-05 - accuracy: 1.0000\n",
      "Epoch 4/10\n",
      "69216/69233 [============================>.] - ETA: 0s - loss: 5.1228e-06 - accuracy: 1.0000WARNING:tensorflow:Early stopping conditioned on metric `val_loss` which is not available. Available metrics are: loss,accuracy\n",
      "69233/69233 [==============================] - 117s 2ms/sample - loss: 5.1215e-06 - accuracy: 1.0000\n",
      "Epoch 5/10\n",
      "69216/69233 [============================>.] - ETA: 0s - loss: 4.6805e-06 - accuracy: 1.0000WARNING:tensorflow:Early stopping conditioned on metric `val_loss` which is not available. Available metrics are: loss,accuracy\n",
      "69233/69233 [==============================] - 117s 2ms/sample - loss: 4.6793e-06 - accuracy: 1.0000\n",
      "Epoch 6/10\n",
      "69216/69233 [============================>.] - ETA: 0s - loss: 5.5572e-06 - accuracy: 1.0000WARNING:tensorflow:Early stopping conditioned on metric `val_loss` which is not available. Available metrics are: loss,accuracy\n",
      "69233/69233 [==============================] - 108s 2ms/sample - loss: 5.5558e-06 - accuracy: 1.0000\n",
      "Epoch 7/10\n",
      "69216/69233 [============================>.] - ETA: 0s - loss: 4.9183e-06 - accuracy: 1.0000WARNING:tensorflow:Early stopping conditioned on metric `val_loss` which is not available. Available metrics are: loss,accuracy\n",
      "69233/69233 [==============================] - 108s 2ms/sample - loss: 4.9171e-06 - accuracy: 1.0000\n",
      "Epoch 8/10\n",
      "69216/69233 [============================>.] - ETA: 0s - loss: 4.7518e-06 - accuracy: 1.0000WARNING:tensorflow:Early stopping conditioned on metric `val_loss` which is not available. Available metrics are: loss,accuracy\n",
      "69233/69233 [==============================] - 119s 2ms/sample - loss: 4.7506e-06 - accuracy: 1.0000\n",
      "Epoch 9/10\n",
      "69216/69233 [============================>.] - ETA: 0s - loss: 6.1967e-06 - accuracy: 1.0000WARNING:tensorflow:Early stopping conditioned on metric `val_loss` which is not available. Available metrics are: loss,accuracy\n",
      "69233/69233 [==============================] - 119s 2ms/sample - loss: 6.1952e-06 - accuracy: 1.0000\n",
      "Epoch 10/10\n",
      "69216/69233 [============================>.] - ETA: 0s - loss: 4.6447e-06 - accuracy: 1.0000WARNING:tensorflow:Early stopping conditioned on metric `val_loss` which is not available. Available metrics are: loss,accuracy\n",
      "69233/69233 [==============================] - 119s 2ms/sample - loss: 4.6436e-06 - accuracy: 1.0000\n"
     ]
    },
    {
     "data": {
      "text/plain": [
       "<tensorflow.python.keras.callbacks.History at 0x20f7dd3ae88>"
      ]
     },
     "execution_count": 11,
     "metadata": {},
     "output_type": "execute_result"
    },
    {
     "name": "stdout",
     "output_type": "stream",
     "text": [
      "accuracy_score 1.0\n",
      "recall_score 1.0\n",
      "precision_score 1.0\n",
      "f1_score 1.0\n",
      "Model: \"model_5\"\n",
      "_________________________________________________________________\n",
      "Layer (type)                 Output Shape              Param #   \n",
      "=================================================================\n",
      "input_1 (InputLayer)         [(None, 48, 256)]         0         \n",
      "_________________________________________________________________\n",
      "bidirectional (Bidirectional (None, 48, 144)           189504    \n",
      "_________________________________________________________________\n",
      "time_distributed (TimeDistri (None, 48, 1)             145       \n",
      "=================================================================\n",
      "Total params: 189,649\n",
      "Trainable params: 189,649\n",
      "Non-trainable params: 0\n",
      "_________________________________________________________________\n",
      "======Training stage======\n",
      "Train on 69233 samples\n",
      "Epoch 1/10\n",
      "69216/69233 [============================>.] - ETA: 0s - loss: 5.1228e-06 - accuracy: 1.0000WARNING:tensorflow:Early stopping conditioned on metric `val_loss` which is not available. Available metrics are: loss,accuracy\n",
      "69233/69233 [==============================] - 150s 2ms/sample - loss: 5.1215e-06 - accuracy: 1.0000\n",
      "Epoch 2/10\n",
      "69216/69233 [============================>.] - ETA: 0s - loss: 4.6206e-06 - accuracy: 1.0000WARNING:tensorflow:Early stopping conditioned on metric `val_loss` which is not available. Available metrics are: loss,accuracy\n",
      "69233/69233 [==============================] - 120s 2ms/sample - loss: 4.6195e-06 - accuracy: 1.0000\n",
      "Epoch 3/10\n",
      "69184/69233 [============================>.] - ETA: 0s - loss: 4.7619e-06 - accuracy: 1.0000WARNING:tensorflow:Early stopping conditioned on metric `val_loss` which is not available. Available metrics are: loss,accuracy\n",
      "69233/69233 [==============================] - 120s 2ms/sample - loss: 4.7586e-06 - accuracy: 1.0000\n",
      "Epoch 4/10\n",
      "69216/69233 [============================>.] - ETA: 0s - loss: 4.6640e-06 - accuracy: 1.0000 ETA: 1s - loss: 4.714WARNING:tensorflow:Early stopping conditioned on metric `val_loss` which is not available. Available metrics are: loss,accuracy\n",
      "69233/69233 [==============================] - 117s 2ms/sample - loss: 4.6629e-06 - accuracy: 1.0000\n",
      "Epoch 5/10\n",
      "69216/69233 [============================>.] - ETA: 0s - loss: 4.6742e-06 - accuracy: 1.0000WARNING:tensorflow:Early stopping conditioned on metric `val_loss` which is not available. Available metrics are: loss,accuracy\n",
      "69233/69233 [==============================] - 98s 1ms/sample - loss: 4.6731e-06 - accuracy: 1.0000\n",
      "Epoch 6/10\n",
      "69216/69233 [============================>.] - ETA: 0s - loss: 4.6652e-06 - accuracy: 1.0000 ETA: 0s - loss: 4.6912e-06 - acWARNING:tensorflow:Early stopping conditioned on metric `val_loss` which is not available. Available metrics are: loss,accuracy\n",
      "69233/69233 [==============================] - 99s 1ms/sample - loss: 4.6641e-06 - accuracy: 1.0000\n",
      "Epoch 7/10\n",
      "69184/69233 [============================>.] - ETA: 0s - loss: 4.6250e-06 - accuracy: 1.0000WARNING:tensorflow:Early stopping conditioned on metric `val_loss` which is not available. Available metrics are: loss,accuracy\n",
      "69233/69233 [==============================] - 99s 1ms/sample - loss: 4.6217e-06 - accuracy: 1.0000\n",
      "Epoch 8/10\n",
      "69216/69233 [============================>.] - ETA: 0s - loss: 4.6414e-06 - accuracy: 1.0000WARNING:tensorflow:Early stopping conditioned on metric `val_loss` which is not available. Available metrics are: loss,accuracy\n",
      "69233/69233 [==============================] - 104s 1ms/sample - loss: 4.6403e-06 - accuracy: 1.0000\n",
      "Epoch 9/10\n",
      "69216/69233 [============================>.] - ETA: 0s - loss: 4.6166e-06 - accuracy: 1.0000WARNING:tensorflow:Early stopping conditioned on metric `val_loss` which is not available. Available metrics are: loss,accuracy\n",
      "69233/69233 [==============================] - 105s 2ms/sample - loss: 4.6154e-06 - accuracy: 1.0000\n",
      "Epoch 10/10\n",
      "69184/69233 [============================>.] - ETA: 0s - loss: 4.6027e-06 - accuracy: 1.0000WARNING:tensorflow:Early stopping conditioned on metric `val_loss` which is not available. Available metrics are: loss,accuracy\n",
      "69233/69233 [==============================] - 103s 1ms/sample - loss: 4.5994e-06 - accuracy: 1.0000\n"
     ]
    },
    {
     "data": {
      "text/plain": [
       "<tensorflow.python.keras.callbacks.History at 0x20f7dbba7c8>"
      ]
     },
     "execution_count": 11,
     "metadata": {},
     "output_type": "execute_result"
    },
    {
     "name": "stdout",
     "output_type": "stream",
     "text": [
      "accuracy_score 1.0\n",
      "recall_score 1.0\n",
      "precision_score 1.0\n",
      "f1_score 1.0\n",
      "Model: \"model_6\"\n",
      "_________________________________________________________________\n",
      "Layer (type)                 Output Shape              Param #   \n",
      "=================================================================\n",
      "input_1 (InputLayer)         [(None, 48, 256)]         0         \n",
      "_________________________________________________________________\n",
      "bidirectional (Bidirectional (None, 48, 144)           189504    \n",
      "_________________________________________________________________\n",
      "time_distributed (TimeDistri (None, 48, 1)             145       \n",
      "=================================================================\n",
      "Total params: 189,649\n",
      "Trainable params: 189,649\n",
      "Non-trainable params: 0\n",
      "_________________________________________________________________\n",
      "======Training stage======\n",
      "Train on 69234 samples\n",
      "Epoch 1/10\n",
      "69216/69234 [============================>.] - ETA: 0s - loss: 4.6314e-06 - accuracy: 1.0000WARNING:tensorflow:Early stopping conditioned on metric `val_loss` which is not available. Available metrics are: loss,accuracy\n",
      "69234/69234 [==============================] - 124s 2ms/sample - loss: 4.6302e-06 - accuracy: 1.0000\n",
      "Epoch 2/10\n",
      "69216/69234 [============================>.] - ETA: 0s - loss: 4.6127e-06 - accuracy: 1.0000WARNING:tensorflow:Early stopping conditioned on metric `val_loss` which is not available. Available metrics are: loss,accuracy\n",
      "69234/69234 [==============================] - 118s 2ms/sample - loss: 4.6115e-06 - accuracy: 1.0000\n",
      "Epoch 3/10\n",
      "69216/69234 [============================>.] - ETA: 0s - loss: 4.6154e-06 - accuracy: 1.0000WARNING:tensorflow:Early stopping conditioned on metric `val_loss` which is not available. Available metrics are: loss,accuracy\n",
      "69234/69234 [==============================] - 118s 2ms/sample - loss: 4.6142e-06 - accuracy: 1.0000\n",
      "Epoch 4/10\n",
      "69216/69234 [============================>.] - ETA: 0s - loss: 4.5984e-06 - accuracy: 1.0000WARNING:tensorflow:Early stopping conditioned on metric `val_loss` which is not available. Available metrics are: loss,accuracy\n",
      "69234/69234 [==============================] - 117s 2ms/sample - loss: 4.5973e-06 - accuracy: 1.0000\n",
      "Epoch 5/10\n",
      "69184/69234 [============================>.] - ETA: 0s - loss: 4.6098e-06 - accuracy: 1.0000WARNING:tensorflow:Early stopping conditioned on metric `val_loss` which is not available. Available metrics are: loss,accuracy\n",
      "69234/69234 [==============================] - 113s 2ms/sample - loss: 4.6065e-06 - accuracy: 1.0000\n",
      "Epoch 6/10\n",
      "69216/69234 [============================>.] - ETA: 0s - loss: 4.5961e-06 - accuracy: 1.0000WARNING:tensorflow:Early stopping conditioned on metric `val_loss` which is not available. Available metrics are: loss,accuracy\n",
      "69234/69234 [==============================] - 111s 2ms/sample - loss: 4.5950e-06 - accuracy: 1.0000\n",
      "Epoch 7/10\n",
      "69184/69234 [============================>.] - ETA: 0s - loss: 4.5972e-06 - accuracy: 1.0000WARNING:tensorflow:Early stopping conditioned on metric `val_loss` which is not available. Available metrics are: loss,accuracy\n",
      "69234/69234 [==============================] - 119s 2ms/sample - loss: 4.5939e-06 - accuracy: 1.0000\n",
      "Epoch 8/10\n",
      "69216/69234 [============================>.] - ETA: 0s - loss: 4.5954e-06 - accuracy: 1.0000WARNING:tensorflow:Early stopping conditioned on metric `val_loss` which is not available. Available metrics are: loss,accuracy\n",
      "69234/69234 [==============================] - 119s 2ms/sample - loss: 4.5943e-06 - accuracy: 1.0000\n",
      "Epoch 9/10\n",
      "69216/69234 [============================>.] - ETA: 0s - loss: 4.5951e-06 - accuracy: 1.0000WARNING:tensorflow:Early stopping conditioned on metric `val_loss` which is not available. Available metrics are: loss,accuracy\n",
      "69234/69234 [==============================] - 120s 2ms/sample - loss: 4.5939e-06 - accuracy: 1.0000\n",
      "Epoch 10/10\n",
      "69216/69234 [============================>.] - ETA: 0s - loss: 4.5925e-06 - accuracy: 1.0000WARNING:tensorflow:Early stopping conditioned on metric `val_loss` which is not available. Available metrics are: loss,accuracy\n",
      "69234/69234 [==============================] - 114s 2ms/sample - loss: 4.5913e-06 - accuracy: 1.0000\n"
     ]
    },
    {
     "data": {
      "text/plain": [
       "<tensorflow.python.keras.callbacks.History at 0x20f767d9f08>"
      ]
     },
     "execution_count": 11,
     "metadata": {},
     "output_type": "execute_result"
    },
    {
     "name": "stdout",
     "output_type": "stream",
     "text": [
      "accuracy_score 1.0\n",
      "recall_score 1.0\n",
      "precision_score 1.0\n",
      "f1_score 1.0\n",
      "Model: \"model_7\"\n",
      "_________________________________________________________________\n",
      "Layer (type)                 Output Shape              Param #   \n",
      "=================================================================\n",
      "input_1 (InputLayer)         [(None, 48, 256)]         0         \n",
      "_________________________________________________________________\n",
      "bidirectional (Bidirectional (None, 48, 144)           189504    \n",
      "_________________________________________________________________\n",
      "time_distributed (TimeDistri (None, 48, 1)             145       \n",
      "=================================================================\n",
      "Total params: 189,649\n",
      "Trainable params: 189,649\n",
      "Non-trainable params: 0\n",
      "_________________________________________________________________\n",
      "======Training stage======\n",
      "Train on 69234 samples\n",
      "Epoch 1/10\n",
      "69216/69234 [============================>.] - ETA: 0s - loss: 4.5926e-06 - accuracy: 1.0000WARNING:tensorflow:Early stopping conditioned on metric `val_loss` which is not available. Available metrics are: loss,accuracy\n",
      "69234/69234 [==============================] - 149s 2ms/sample - loss: 4.5914e-06 - accuracy: 1.0000\n",
      "Epoch 2/10\n",
      "69216/69234 [============================>.] - ETA: 0s - loss: 4.5911e-06 - accuracy: 1.0000 ETA: 2s - losWARNING:tensorflow:Early stopping conditioned on metric `val_loss` which is not available. Available metrics are: loss,accuracy\n",
      "69234/69234 [==============================] - 124s 2ms/sample - loss: 4.5899e-06 - accuracy: 1.0000\n",
      "Epoch 3/10\n",
      "69184/69234 [============================>.] - ETA: 0s - loss: 4.5934e-06 - accuracy: 1.0000WARNING:tensorflow:Early stopping conditioned on metric `val_loss` which is not available. Available metrics are: loss,accuracy\n",
      "69234/69234 [==============================] - 118s 2ms/sample - loss: 4.5900e-06 - accuracy: 1.0000\n",
      "Epoch 4/10\n",
      "69216/69234 [============================>.] - ETA: 0s - loss: 4.5907e-06 - accuracy: 1.0000WARNING:tensorflow:Early stopping conditioned on metric `val_loss` which is not available. Available metrics are: loss,accuracy\n",
      "69234/69234 [==============================] - 122s 2ms/sample - loss: 4.5895e-06 - accuracy: 1.0000\n",
      "Epoch 5/10\n",
      "69184/69234 [============================>.] - ETA: 0s - loss: 4.5926e-06 - accuracy: 1.0000WARNING:tensorflow:Early stopping conditioned on metric `val_loss` which is not available. Available metrics are: loss,accuracy\n",
      "69234/69234 [==============================] - 125s 2ms/sample - loss: 4.5893e-06 - accuracy: 1.0000\n",
      "Epoch 6/10\n",
      "69216/69234 [============================>.] - ETA: 0s - loss: 4.5904e-06 - accuracy: 1.0000WARNING:tensorflow:Early stopping conditioned on metric `val_loss` which is not available. Available metrics are: loss,accuracy\n",
      "69234/69234 [==============================] - 125s 2ms/sample - loss: 4.5892e-06 - accuracy: 1.0000\n",
      "Epoch 7/10\n",
      "69216/69234 [============================>.] - ETA: 0s - loss: 4.5903e-06 - accuracy: 1.0000WARNING:tensorflow:Early stopping conditioned on metric `val_loss` which is not available. Available metrics are: loss,accuracy\n",
      "69234/69234 [==============================] - 121s 2ms/sample - loss: 4.5891e-06 - accuracy: 1.0000\n",
      "Epoch 8/10\n",
      "69216/69234 [============================>.] - ETA: 0s - loss: 4.5902e-06 - accuracy: 1.0000WARNING:tensorflow:Early stopping conditioned on metric `val_loss` which is not available. Available metrics are: loss,accuracy\n",
      "69234/69234 [==============================] - 120s 2ms/sample - loss: 4.5890e-06 - accuracy: 1.0000\n",
      "Epoch 9/10\n",
      "69216/69234 [============================>.] - ETA: 0s - loss: 4.5902e-06 - accuracy: 1.0000WARNING:tensorflow:Early stopping conditioned on metric `val_loss` which is not available. Available metrics are: loss,accuracy\n",
      "69234/69234 [==============================] - 124s 2ms/sample - loss: 4.5890e-06 - accuracy: 1.0000\n",
      "Epoch 10/10\n",
      "69216/69234 [============================>.] - ETA: 0s - loss: 4.5902e-06 - accuracy: 1.0000WARNING:tensorflow:Early stopping conditioned on metric `val_loss` which is not available. Available metrics are: loss,accuracy\n",
      "69234/69234 [==============================] - 125s 2ms/sample - loss: 4.5890e-06 - accuracy: 1.0000\n"
     ]
    },
    {
     "data": {
      "text/plain": [
       "<tensorflow.python.keras.callbacks.History at 0x20f6b63ac08>"
      ]
     },
     "execution_count": 11,
     "metadata": {},
     "output_type": "execute_result"
    },
    {
     "name": "stdout",
     "output_type": "stream",
     "text": [
      "accuracy_score 1.0\n",
      "recall_score 1.0\n",
      "precision_score 1.0\n",
      "f1_score 1.0\n",
      "Model: \"model_8\"\n",
      "_________________________________________________________________\n",
      "Layer (type)                 Output Shape              Param #   \n",
      "=================================================================\n",
      "input_1 (InputLayer)         [(None, 48, 256)]         0         \n",
      "_________________________________________________________________\n",
      "bidirectional (Bidirectional (None, 48, 144)           189504    \n",
      "_________________________________________________________________\n",
      "time_distributed (TimeDistri (None, 48, 1)             145       \n",
      "=================================================================\n",
      "Total params: 189,649\n",
      "Trainable params: 189,649\n",
      "Non-trainable params: 0\n",
      "_________________________________________________________________\n",
      "======Training stage======\n",
      "Train on 69234 samples\n",
      "Epoch 1/10\n",
      "69216/69234 [============================>.] - ETA: 0s - loss: 4.5902e-06 - accuracy: 1.0000WARNING:tensorflow:Early stopping conditioned on metric `val_loss` which is not available. Available metrics are: loss,accuracy\n",
      "69234/69234 [==============================] - 154s 2ms/sample - loss: 4.5890e-06 - accuracy: 1.0000\n",
      "Epoch 2/10\n",
      "69216/69234 [============================>.] - ETA: 0s - loss: 4.5902e-06 - accuracy: 1.0000WARNING:tensorflow:Early stopping conditioned on metric `val_loss` which is not available. Available metrics are: loss,accuracy\n",
      "69234/69234 [==============================] - 122s 2ms/sample - loss: 4.5890e-06 - accuracy: 1.0000\n",
      "Epoch 3/10\n",
      "69216/69234 [============================>.] - ETA: 0s - loss: 4.5902e-06 - accuracy: 1.0000WARNING:tensorflow:Early stopping conditioned on metric `val_loss` which is not available. Available metrics are: loss,accuracy\n",
      "69234/69234 [==============================] - 122s 2ms/sample - loss: 4.5890e-06 - accuracy: 1.0000\n",
      "Epoch 4/10\n",
      "69216/69234 [============================>.] - ETA: 0s - loss: 4.5902e-06 - accuracy: 1.0000WARNING:tensorflow:Early stopping conditioned on metric `val_loss` which is not available. Available metrics are: loss,accuracy\n",
      "69234/69234 [==============================] - 114s 2ms/sample - loss: 4.5890e-06 - accuracy: 1.0000\n",
      "Epoch 5/10\n",
      "69216/69234 [============================>.] - ETA: 0s - loss: 4.5901e-06 - accuracy: 1.0000 ETA: 0s - loss: 4.6115e-06 - accuraWARNING:tensorflow:Early stopping conditioned on metric `val_loss` which is not available. Available metrics are: loss,accuracy\n",
      "69234/69234 [==============================] - 103s 1ms/sample - loss: 4.5889e-06 - accuracy: 1.0000\n",
      "Epoch 6/10\n",
      "69216/69234 [============================>.] - ETA: 0s - loss: 4.5901e-06 - accuracy: 1.0000WARNING:tensorflow:Early stopping conditioned on metric `val_loss` which is not available. Available metrics are: loss,accuracy\n",
      "69234/69234 [==============================] - 114s 2ms/sample - loss: 4.5889e-06 - accuracy: 1.0000\n",
      "Epoch 7/10\n",
      "69216/69234 [============================>.] - ETA: 0s - loss: 4.5901e-06 - accuracy: 1.0000WARNING:tensorflow:Early stopping conditioned on metric `val_loss` which is not available. Available metrics are: loss,accuracy\n",
      "69234/69234 [==============================] - 121s 2ms/sample - loss: 4.5889e-06 - accuracy: 1.0000\n",
      "Epoch 8/10\n",
      "69216/69234 [============================>.] - ETA: 0s - loss: 4.5901e-06 - accuracy: 1.0000WARNING:tensorflow:Early stopping conditioned on metric `val_loss` which is not available. Available metrics are: loss,accuracy\n",
      "69234/69234 [==============================] - 123s 2ms/sample - loss: 4.5889e-06 - accuracy: 1.0000\n",
      "Epoch 9/10\n",
      "69216/69234 [============================>.] - ETA: 0s - loss: 4.5901e-06 - accuracy: 1.0000 ETA: 3s - loss: 4.7166e-06 - accura - ETA: 3s - loss: 4.7054e-06 - accu - EWARNING:tensorflow:Early stopping conditioned on metric `val_loss` which is not available. Available metrics are: loss,accuracy\n",
      "69234/69234 [==============================] - 123s 2ms/sample - loss: 4.5889e-06 - accuracy: 1.0000\n",
      "Epoch 10/10\n",
      "69216/69234 [============================>.] - ETA: 0s - loss: 4.5901e-06 - accuracy: 1.0000WARNING:tensorflow:Early stopping conditioned on metric `val_loss` which is not available. Available metrics are: loss,accuracy\n",
      "69234/69234 [==============================] - 106s 2ms/sample - loss: 4.5889e-06 - accuracy: 1.0000\n"
     ]
    },
    {
     "data": {
      "text/plain": [
       "<tensorflow.python.keras.callbacks.History at 0x20f7d929b88>"
      ]
     },
     "execution_count": 11,
     "metadata": {},
     "output_type": "execute_result"
    },
    {
     "name": "stdout",
     "output_type": "stream",
     "text": [
      "accuracy_score 1.0\n",
      "recall_score 1.0\n",
      "precision_score 1.0\n",
      "f1_score 1.0\n",
      "Model: \"model_9\"\n",
      "_________________________________________________________________\n",
      "Layer (type)                 Output Shape              Param #   \n",
      "=================================================================\n",
      "input_1 (InputLayer)         [(None, 48, 256)]         0         \n",
      "_________________________________________________________________\n",
      "bidirectional (Bidirectional (None, 48, 144)           189504    \n",
      "_________________________________________________________________\n",
      "time_distributed (TimeDistri (None, 48, 1)             145       \n",
      "=================================================================\n",
      "Total params: 189,649\n",
      "Trainable params: 189,649\n",
      "Non-trainable params: 0\n",
      "_________________________________________________________________\n",
      "======Training stage======\n",
      "Train on 69234 samples\n",
      "Epoch 1/10\n",
      "69216/69234 [============================>.] - ETA: 0s - loss: 4.5900e-06 - accuracy: 1.0000WARNING:tensorflow:Early stopping conditioned on metric `val_loss` which is not available. Available metrics are: loss,accuracy\n",
      "69234/69234 [==============================] - 118s 2ms/sample - loss: 4.5888e-06 - accuracy: 1.0000\n",
      "Epoch 2/10\n",
      "69216/69234 [============================>.] - ETA: 0s - loss: 4.5900e-06 - accuracy: 1.0000WARNING:tensorflow:Early stopping conditioned on metric `val_loss` which is not available. Available metrics are: loss,accuracy\n",
      "69234/69234 [==============================] - 106s 2ms/sample - loss: 4.5888e-06 - accuracy: 1.0000\n",
      "Epoch 3/10\n",
      "69216/69234 [============================>.] - ETA: 0s - loss: 4.5900e-06 - accuracy: 1.0000WARNING:tensorflow:Early stopping conditioned on metric `val_loss` which is not available. Available metrics are: loss,accuracy\n",
      "69234/69234 [==============================] - 108s 2ms/sample - loss: 4.5888e-06 - accuracy: 1.0000\n",
      "Epoch 4/10\n",
      "69216/69234 [============================>.] - ETA: 0s - loss: 4.5900e-06 - accuracy: 1.0000WARNING:tensorflow:Early stopping conditioned on metric `val_loss` which is not available. Available metrics are: loss,accuracy\n",
      "69234/69234 [==============================] - 108s 2ms/sample - loss: 4.5888e-06 - accuracy: 1.0000\n",
      "Epoch 5/10\n",
      "69184/69234 [============================>.] - ETA: 0s - loss: 4.5921e-06 - accuracy: 1.0000WARNING:tensorflow:Early stopping conditioned on metric `val_loss` which is not available. Available metrics are: loss,accuracy\n",
      "69234/69234 [==============================] - 102s 1ms/sample - loss: 4.5888e-06 - accuracy: 1.0000\n",
      "Epoch 6/10\n",
      "69184/69234 [============================>.] - ETA: 0s - loss: 4.5921e-06 - accuracy: 1.0000WARNING:tensorflow:Early stopping conditioned on metric `val_loss` which is not available. Available metrics are: loss,accuracy\n",
      "69234/69234 [==============================] - 102s 1ms/sample - loss: 4.5888e-06 - accuracy: 1.0000\n",
      "Epoch 7/10\n",
      "69216/69234 [============================>.] - ETA: 0s - loss: 4.5900e-06 - accuracy: 1.0000WARNING:tensorflow:Early stopping conditioned on metric `val_loss` which is not available. Available metrics are: loss,accuracy\n",
      "69234/69234 [==============================] - 102s 1ms/sample - loss: 4.5888e-06 - accuracy: 1.0000\n",
      "Epoch 8/10\n",
      "69184/69234 [============================>.] - ETA: 0s - loss: 4.5921e-06 - accuracy: 1.0000 ETA: 1s - loss: 4.6WARNING:tensorflow:Early stopping conditioned on metric `val_loss` which is not available. Available metrics are: loss,accuracy\n",
      "69234/69234 [==============================] - 102s 1ms/sample - loss: 4.5888e-06 - accuracy: 1.0000\n",
      "Epoch 9/10\n",
      "69216/69234 [============================>.] - ETA: 0s - loss: 4.5900e-06 - accuracy: 1.0000 ETA: 0s - loss: 4.6092e-06 - accuraWARNING:tensorflow:Early stopping conditioned on metric `val_loss` which is not available. Available metrics are: loss,accuracy\n",
      "69234/69234 [==============================] - 102s 1ms/sample - loss: 4.5888e-06 - accuracy: 1.0000\n",
      "Epoch 10/10\n",
      "69216/69234 [============================>.] - ETA: 0s - loss: 4.5900e-06 - accuracy: 1.0000 ETA: 0s - loss: 4.5942e-06 - accuracy: 1.00WARNING:tensorflow:Early stopping conditioned on metric `val_loss` which is not available. Available metrics are: loss,accuracy\n",
      "69234/69234 [==============================] - 101s 1ms/sample - loss: 4.5888e-06 - accuracy: 1.0000\n"
     ]
    },
    {
     "data": {
      "text/plain": [
       "<tensorflow.python.keras.callbacks.History at 0x20f75e85d48>"
      ]
     },
     "execution_count": 11,
     "metadata": {},
     "output_type": "execute_result"
    },
    {
     "name": "stdout",
     "output_type": "stream",
     "text": [
      "accuracy_score 1.0\n",
      "recall_score 1.0\n",
      "precision_score 1.0\n",
      "f1_score 1.0\n",
      "\n",
      "K-fold cross validation Accuracy: [0.9999079249534208, 0.9999485462974999, 0.9999864595519736, 0.9999972919103948, 1.0, 1.0, 1.0, 1.0, 1.0, 1.0]\n",
      "\n",
      "K-fold cross validation Recall: [0.9973474801061007, 0.9977636973537085, 0.9994470046082949, 0.9998225377107365, 1.0, 1.0, 1.0, 1.0, 1.0, 1.0]\n",
      "\n",
      "K-fold cross validation Precision: [0.9966425163456442, 0.9986942734564447, 0.9996312684365781, 1.0, 1.0, 1.0, 1.0, 1.0, 1.0, 1.0]\n",
      "\n",
      "K-fold cross validation F1-Score: [0.9969948736079194, 0.9982287685280135, 0.9995391280302333, 0.9999112609814536, 1.0, 1.0, 1.0, 1.0, 1.0, 1.0]\n"
     ]
    }
   ],
   "source": [
    "# 교차검증 kfold\n",
    "from sklearn.model_selection import KFold\n",
    "\n",
    "# Accuracy, Precision, Recall, F1-Score\n",
    "from sklearn.metrics import accuracy_score, recall_score, precision_score, f1_score\n",
    "\n",
    "# Confusion Matrix, ROC Curve\n",
    "from sklearn.metrics import confusion_matrix, roc_auc_score\n",
    "\n",
    "# 최종 평가지표들 평균용\n",
    "accuracy, recall, precision, f1score, cm = [], [], [], [], []\n",
    "\n",
    "# 11. 교차검증 kfold - k.split - 10회 / K-Fold 객체 생성\n",
    "# kf = KFold(n_splits=10, shuffle=False, random_state=None) # KFold non shuffle 버전\n",
    "kf = KFold(n_splits=10, shuffle=True, random_state=None) # KFold non shuffle 버전\n",
    "\n",
    "for train, validation in kf.split(x_bc8_1, y_bc8_1):\n",
    "    model1 = models.Model(xInput, xOutput)\n",
    "    model1.compile(loss='binary_crossentropy', optimizer='rmsprop', metrics=['accuracy'])\n",
    "    model1.summary()\n",
    "    print('======Training stage======')\n",
    "    model1.fit(x_bc8_1[train],\n",
    "               y_bc8_1[train],\n",
    "               epochs = 10,\n",
    "               batch_size = 32,\n",
    "               callbacks=[early_stopping])\n",
    "    #k_accuracy = '%.4f' %(model1.evaluate(data_10000x[validation], data_10000y[validation])[1])\n",
    "\n",
    "# 12. 교차검증결과 predict - 검증셋들\n",
    "    # predict 값\n",
    "    k_pr = model1.predict(x_bc8_1[validation])\n",
    "    \n",
    "    # 테스트 predict 결과들 비교 (평가지표 보기위함)\n",
    "    pred = np.round(np.array(k_pr).flatten().tolist())\n",
    "    y_test = np.array(y_bc8_1[validation]).flatten().tolist()\n",
    "    \n",
    "# 13. 평가지표들 출력\n",
    "    ## 평가지표들\n",
    "    k_accuracy = float(accuracy_score(y_test, pred))\n",
    "    k_recall =  float(recall_score(y_test, pred))\n",
    "    k_precision = float(precision_score(y_test, pred))\n",
    "    k_f1_score = float(f1_score(y_test, pred))\n",
    "    #k_cm = float(confusion_matrix(y_test, pred))\n",
    "    \n",
    "    print('accuracy_score', k_accuracy)\n",
    "    print('recall_score', k_recall)\n",
    "    print('precision_score', k_precision)\n",
    "    print('f1_score', k_f1_score)\n",
    "    #print('\\nconfusion_matrix\\n', k_cm)\n",
    "\n",
    "    accuracy.append(k_accuracy)\n",
    "    recall.append(k_recall)\n",
    "    precision.append(k_precision)\n",
    "    f1score.append(k_f1_score)\n",
    "    #cm.append(k_cm)\n",
    "#    print('roc_curve 면적', roc_auc_score(y_test, pred))\n",
    "\n",
    "# 최종 결과지표\n",
    "print('\\nK-fold cross validation Accuracy: {}'.format(accuracy))\n",
    "print('\\nK-fold cross validation Recall: {}'.format(recall))\n",
    "print('\\nK-fold cross validation Precision: {}'.format(precision))\n",
    "print('\\nK-fold cross validation F1-Score: {}'.format(f1score))\n",
    "#print('\\nK-fold cross validation ConfusionMatrix: {}'.format(cm))"
   ]
  },
  {
   "cell_type": "markdown",
   "metadata": {},
   "source": [
    "## (9) 평가지표"
   ]
  },
  {
   "cell_type": "code",
   "execution_count": 12,
   "metadata": {},
   "outputs": [
    {
     "name": "stdout",
     "output_type": "stream",
     "text": [
      "10-Fold Cross_validation. Accuracy : 0.9999840222713289\n",
      "10-Fold Cross_validation. Recall : 0.999438071977884\n",
      "10-Fold Cross_validation. Precision : 0.9994968058238667\n",
      "10-Fold Cross_validation. F1-Score : 0.9994674031147619\n"
     ]
    }
   ],
   "source": [
    "print('10-Fold Cross_validation. Accuracy :', np.mean(accuracy))\n",
    "print('10-Fold Cross_validation. Recall :', np.mean(recall))\n",
    "print('10-Fold Cross_validation. Precision :', np.mean(precision))\n",
    "print('10-Fold Cross_validation. F1-Score :', np.mean(f1score))"
   ]
  },
  {
   "cell_type": "code",
   "execution_count": 13,
   "metadata": {},
   "outputs": [
    {
     "name": "stdout",
     "output_type": "stream",
     "text": [
      "save 완료\n"
     ]
    }
   ],
   "source": [
    "model1.save('gcc8_bin_core_s48_h72_o1.h5')\n",
    "print('save 완료')"
   ]
  }
 ],
 "metadata": {
  "kernelspec": {
   "display_name": "Python 3",
   "language": "python",
   "name": "python3"
  },
  "language_info": {
   "codemirror_mode": {
    "name": "ipython",
    "version": 3
   },
   "file_extension": ".py",
   "mimetype": "text/x-python",
   "name": "python",
   "nbconvert_exporter": "python",
   "pygments_lexer": "ipython3",
   "version": "3.7.9"
  }
 },
 "nbformat": 4,
 "nbformat_minor": 4
}
