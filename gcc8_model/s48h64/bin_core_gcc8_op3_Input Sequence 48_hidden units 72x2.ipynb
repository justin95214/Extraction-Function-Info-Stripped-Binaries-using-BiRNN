{
 "cells": [
  {
   "cell_type": "markdown",
   "metadata": {},
   "source": [
    "## RNN 모델 N-Byte 방식 (함수정보 포함 vs 미포함 => 1:1 비율)\n",
    "\n",
    "## (1) 데이터로드"
   ]
  },
  {
   "cell_type": "code",
   "execution_count": 1,
   "metadata": {},
   "outputs": [
    {
     "name": "stdout",
     "output_type": "stream",
     "text": [
      "(31784379, 2)\n",
      "shape - (31784379, 2)\n",
      "reset_index 완료\n",
      "input data shape\n"
     ]
    },
    {
     "data": {
      "text/html": [
       "<div>\n",
       "<style scoped>\n",
       "    .dataframe tbody tr th:only-of-type {\n",
       "        vertical-align: middle;\n",
       "    }\n",
       "\n",
       "    .dataframe tbody tr th {\n",
       "        vertical-align: top;\n",
       "    }\n",
       "\n",
       "    .dataframe thead th {\n",
       "        text-align: right;\n",
       "    }\n",
       "</style>\n",
       "<table border=\"1\" class=\"dataframe\">\n",
       "  <thead>\n",
       "    <tr style=\"text-align: right;\">\n",
       "      <th></th>\n",
       "      <th>bin</th>\n",
       "      <th>label</th>\n",
       "    </tr>\n",
       "  </thead>\n",
       "  <tbody>\n",
       "    <tr>\n",
       "      <th>0</th>\n",
       "      <td>47</td>\n",
       "      <td>0</td>\n",
       "    </tr>\n",
       "    <tr>\n",
       "      <th>1</th>\n",
       "      <td>108</td>\n",
       "      <td>0</td>\n",
       "    </tr>\n",
       "    <tr>\n",
       "      <th>2</th>\n",
       "      <td>105</td>\n",
       "      <td>0</td>\n",
       "    </tr>\n",
       "    <tr>\n",
       "      <th>3</th>\n",
       "      <td>98</td>\n",
       "      <td>0</td>\n",
       "    </tr>\n",
       "    <tr>\n",
       "      <th>4</th>\n",
       "      <td>47</td>\n",
       "      <td>0</td>\n",
       "    </tr>\n",
       "  </tbody>\n",
       "</table>\n",
       "</div>"
      ],
      "text/plain": [
       "   bin  label\n",
       "0   47      0\n",
       "1  108      0\n",
       "2  105      0\n",
       "3   98      0\n",
       "4   47      0"
      ]
     },
     "execution_count": 1,
     "metadata": {},
     "output_type": "execute_result"
    }
   ],
   "source": [
    "# (1) 데이터로드\n",
    "import pandas as pd\n",
    "import numpy as np\n",
    "\n",
    "import warnings\n",
    "warnings.filterwarnings(action='ignore')\n",
    "\n",
    "# 여러개 쳐도 나오게\n",
    "from IPython.core.interactiveshell import InteractiveShell\n",
    "InteractiveShell.ast_node_interactivity = \"all\"\n",
    "\n",
    "# 파일읽기\n",
    "bin8_3 = pd.read_csv(\"../../바이너리_최종데이터_1004/gcc8/o3/o3_bincore8.csv\", index_col=0)\n",
    "print(bin8_3.shape)\n",
    "\n",
    "# reset_index (hex processing 하면서 값이 빠졌으니까 + n_gram 에서 index를 다루기 때문에)\n",
    "bin8_3.reset_index(inplace=True, drop=True)\n",
    "\n",
    "print('shape -', bin8_3.shape)\n",
    "print('reset_index 완료')\n",
    "print('input data shape')\n",
    "bin8_3.head()"
   ]
  },
  {
   "cell_type": "code",
   "execution_count": 2,
   "metadata": {},
   "outputs": [
    {
     "name": "stdout",
     "output_type": "stream",
     "text": [
      "256\n",
      "0    31747485\n",
      "1       36894\n",
      "Name: label, dtype: int64\n"
     ]
    }
   ],
   "source": [
    "# (2-1) 데이터체크 1 - hex(16진수)가 256 label을 가져야 dummies 변환 가능 \n",
    "# 16진수 256개 종류가 있어서 pd.get_dummies 사용 가능.\n",
    "print(len(bin8_3['bin'].unique()))\n",
    "\n",
    "# (2-2) 데이터 체크 2 - 1, 0 비율 ==> 1이 함수의 갯수를 뜻함\n",
    "# 정답 데이터 1, 0 비율 확인  ==> 1이 함수의 갯수를 뜻함\n",
    "print(bin8_3['label'].value_counts())"
   ]
  },
  {
   "cell_type": "markdown",
   "metadata": {},
   "source": [
    "## (3) N Byte씩 자르기"
   ]
  },
  {
   "cell_type": "code",
   "execution_count": 3,
   "metadata": {},
   "outputs": [
    {
     "name": "stdout",
     "output_type": "stream",
     "text": [
      "1770912\n",
      "나머지 0\n",
      "최종 길이 1770912\n",
      "bin8_3 1770912\n"
     ]
    }
   ],
   "source": [
    "idx_bin = bin8_3[bin8_3['label']==1].index  # 407, 474 ...\n",
    "ls_bin = list(idx_bin)\n",
    "\n",
    "# 최종 뽑을 행에 대한 index\n",
    "ls_idx_bin = []\n",
    "\n",
    "# n byte 자르기 방식\n",
    "left_idx, right_idx = 0, 48 # 3개씩\n",
    "\n",
    "# n byte 자르기\n",
    "for k in range(left_idx, right_idx):\n",
    "    ls_idx_bin.extend(list(idx_bin + k)) # index 형이라서 가능\n",
    "\n",
    "#ls_idx = list(set(ls_idx)) \n",
    "ls_idx_bin.sort() # 인덱스 정렬\n",
    "\n",
    "# 1차 index 해당범위 초과한 것들 없애기\n",
    "ls_idx_bin = list(filter(lambda x: x<len(bin8_3), ls_idx_bin))\n",
    "print(len(ls_idx_bin))\n",
    "\n",
    "# 2차 남은 index들 중 right_idx 나눈 나머지 없애기\n",
    "sub_bin = len(ls_idx_bin)%(right_idx)\n",
    "print('나머지', sub_bin)\n",
    "\n",
    "ls_idx_bin = ls_idx_bin[:len(ls_idx_bin)-sub_bin]\n",
    "print('최종 길이', len(ls_idx_bin))\n",
    "\n",
    "print('bin8_3', len(ls_idx_bin))\n",
    "\n",
    "# loc 로 수정필요\n",
    "bin8_3_Ngram = bin8_3.loc[ls_idx_bin,:].copy()"
   ]
  },
  {
   "cell_type": "markdown",
   "metadata": {},
   "source": [
    "## (4) false data 만들기"
   ]
  },
  {
   "cell_type": "code",
   "execution_count": 4,
   "metadata": {},
   "outputs": [
    {
     "name": "stdout",
     "output_type": "stream",
     "text": [
      "36894.0\n",
      "0 5621409\n",
      "1000 18899074\n",
      "2000 1279402\n",
      "3000 5402988\n",
      "4000 4160461\n",
      "5000 15959216\n",
      "6000 8464573\n",
      "7000 26064919\n",
      "8000 10720109\n",
      "9000 18314800\n",
      "10000 10158489\n",
      "11000 25253592\n",
      "12000 11963084\n",
      "13000 890169\n",
      "14000 1962584\n",
      "15000 22275030\n",
      "16000 1807550\n",
      "17000 24616138\n",
      "18000 13710586\n",
      "19000 20676434\n",
      "20000 25147274\n",
      "21000 5935126\n",
      "22000 31522480\n",
      "23000 8002118\n",
      "24000 22245508\n",
      "25000 29606706\n",
      "26000 19865729\n",
      "27000 70711\n",
      "28000 19113428\n",
      "29000 23599946\n",
      "30000 13785221\n",
      "31000 29486036\n",
      "32000 1508425\n",
      "33000 8698406\n",
      "34000 4957833\n",
      "35000 25976927\n",
      "36000 21524779\n",
      "완료\n",
      "36894\n"
     ]
    }
   ],
   "source": [
    "# false data 만들기 - False 데이터 랜덤 생성\n",
    "\n",
    "# 목표치\n",
    "goal_bin = len(bin8_3_Ngram)/right_idx\n",
    "count_bin = 0\n",
    "\n",
    "print(goal_bin)\n",
    "\n",
    "# 최종 데이터 Frame\n",
    "d_bin = pd.DataFrame(columns = bin8_3.columns)\n",
    "\n",
    "binutils_df = []\n",
    "# goal 에 도달할 때까지\n",
    "while True:\n",
    "    if (count_bin == goal_bin):\n",
    "            break\n",
    "    # 진행상황 살펴보기 위함\n",
    "            \n",
    "    # 랜덤 N 바이트씩 뽑음\n",
    "    # random index\n",
    "    random_idx_bin = np.random.randint(len(bin8_3)-right_idx)\n",
    "\n",
    "    if count_bin % 1000==0:\n",
    "        print(count_bin, end=' ')\n",
    "        print(random_idx_bin)\n",
    "\n",
    "    df_bin = bin8_3[random_idx_bin : random_idx_bin + right_idx]\n",
    "    \n",
    "    # 뽑은 index의 N 바이트 중에 1이 없는 경우만\n",
    "    if 1 not in df_bin['label'] and count_bin < goal_bin:\n",
    "        binutils_df.append(df_bin)\n",
    "        count_bin+=1\n",
    "\n",
    "print('완료')\n",
    "print(len(binutils_df))"
   ]
  },
  {
   "cell_type": "code",
   "execution_count": 5,
   "metadata": {},
   "outputs": [
    {
     "name": "stdout",
     "output_type": "stream",
     "text": [
      "36894\n",
      "36894\n"
     ]
    }
   ],
   "source": [
    "# True data와 False Data 같은지 체크\n",
    "print(len(binutils_df))\n",
    "print(bin8_3['label'].value_counts()[1])"
   ]
  },
  {
   "cell_type": "markdown",
   "metadata": {},
   "source": [
    "## (5) False Data + True Data 합치기"
   ]
  },
  {
   "cell_type": "code",
   "execution_count": 6,
   "metadata": {},
   "outputs": [
    {
     "data": {
      "text/plain": [
       "(3541824, 2)"
      ]
     },
     "execution_count": 6,
     "metadata": {},
     "output_type": "execute_result"
    }
   ],
   "source": [
    "f_data = pd.concat(binutils_df)\n",
    "final = pd.concat([f_data, bin8_3_Ngram])\n",
    "final.shape"
   ]
  },
  {
   "cell_type": "markdown",
   "metadata": {},
   "source": [
    "## (6) one hot encoding"
   ]
  },
  {
   "cell_type": "code",
   "execution_count": 7,
   "metadata": {},
   "outputs": [
    {
     "name": "stdout",
     "output_type": "stream",
     "text": [
      "원핫인코딩완료\n",
      "(3541824, 257)\n"
     ]
    }
   ],
   "source": [
    "# 훈련데이터 (gcc 최적화버전 0, 1, 2, 3 one hot encoding)\n",
    "bc8_3_onehot_Ngram = pd.get_dummies(final['bin'])\n",
    "bc8_3_onehot_Ngram = pd.concat([final['label'], bc8_3_onehot_Ngram], axis=1)\n",
    "\n",
    "print('원핫인코딩완료')\n",
    "print(bc8_3_onehot_Ngram.shape)"
   ]
  },
  {
   "cell_type": "code",
   "execution_count": 8,
   "metadata": {},
   "outputs": [
    {
     "name": "stdout",
     "output_type": "stream",
     "text": [
      "(3541824, 256) (3541824, 256)\n",
      "(73788, 48, 256) (73788, 48, 1)\n"
     ]
    }
   ],
   "source": [
    "# 훈련 데이터, 훈련 라벨\n",
    "x_bc8_3 = bc8_3_onehot_Ngram.iloc[:,1:].to_numpy()\n",
    "y_bc8_3 = bc8_3_onehot_Ngram['label'].to_numpy()\n",
    "print(x_bc8_3.shape, x_bc8_3.shape)\n",
    "\n",
    "x_bc8_3 = x_bc8_3.reshape(-1, right_idx, x_bc8_3.shape[1])\n",
    "y_bc8_3 = y_bc8_3.reshape(-1, right_idx, 1)\n",
    "\n",
    "print(x_bc8_3.shape, y_bc8_3.shape)"
   ]
  },
  {
   "cell_type": "code",
   "execution_count": 9,
   "metadata": {},
   "outputs": [
    {
     "name": "stdout",
     "output_type": "stream",
     "text": [
      "(73788, 48, 256) (73788, 48, 1)\n"
     ]
    }
   ],
   "source": [
    "# numpy 행, 열 섞기\n",
    "p = np.random.permutation(x_bc8_3.shape[0])\n",
    "\n",
    "x_bc8_3 = x_bc8_3[p]\n",
    "y_bc8_3 = y_bc8_3[p]\n",
    "\n",
    "print(x_bc8_3.shape, y_bc8_3.shape)"
   ]
  },
  {
   "cell_type": "markdown",
   "metadata": {},
   "source": [
    "## (7) 모델"
   ]
  },
  {
   "cell_type": "code",
   "execution_count": 10,
   "metadata": {},
   "outputs": [],
   "source": [
    "# (10) 양방향 LSTM 모델링 작업\n",
    "from tensorflow.keras import layers, models\n",
    "#from tf.keras.models import Model, Sequential\n",
    "#from tf.keras.layers import SimpleRNN, Input, Dense, LSTM\n",
    "#from tf.keras.layers import Bidirectional, TimeDistributed\n",
    "\n",
    "# 학습\n",
    "from tensorflow.keras.callbacks import EarlyStopping\n",
    "early_stopping = EarlyStopping(patience = 3) # 조기종료 콜백함수 정의\n",
    "\n",
    "xInput = layers.Input(batch_shape=(None,right_idx, 256)) \n",
    "xBiLstm = layers.Bidirectional(layers.LSTM(72, return_sequences=True, stateful=False), merge_mode = 'concat')(xInput)\n",
    "xOutput = layers.TimeDistributed(layers.Dense(1, activation ='sigmoid'))(xBiLstm) # 각 스텝에서 cost가 전송되고, 오류가 다음 step으로 전송됨."
   ]
  },
  {
   "cell_type": "markdown",
   "metadata": {},
   "source": [
    "## (8) 학습 - 10 KFold"
   ]
  },
  {
   "cell_type": "code",
   "execution_count": 11,
   "metadata": {
    "scrolled": false
   },
   "outputs": [
    {
     "name": "stdout",
     "output_type": "stream",
     "text": [
      "Model: \"model\"\n",
      "_________________________________________________________________\n",
      "Layer (type)                 Output Shape              Param #   \n",
      "=================================================================\n",
      "input_1 (InputLayer)         [(None, 48, 256)]         0         \n",
      "_________________________________________________________________\n",
      "bidirectional (Bidirectional (None, 48, 144)           189504    \n",
      "_________________________________________________________________\n",
      "time_distributed (TimeDistri (None, 48, 1)             145       \n",
      "=================================================================\n",
      "Total params: 189,649\n",
      "Trainable params: 189,649\n",
      "Non-trainable params: 0\n",
      "_________________________________________________________________\n",
      "======Training stage======\n",
      "Train on 66409 samples\n",
      "Epoch 1/10\n",
      "66400/66409 [============================>.] - ETA: 0s - loss: 0.0122 - accuracy: 0.9966WARNING:tensorflow:Early stopping conditioned on metric `val_loss` which is not available. Available metrics are: loss,accuracy\n",
      "66409/66409 [==============================] - 278s 4ms/sample - loss: 0.0122 - accuracy: 0.9966\n",
      "Epoch 2/10\n",
      "66400/66409 [============================>.] - ETA: 0s - loss: 0.0026 - accuracy: 0.9993WARNING:tensorflow:Early stopping conditioned on metric `val_loss` which is not available. Available metrics are: loss,accuracy\n",
      "66409/66409 [==============================] - 228s 3ms/sample - loss: 0.0026 - accuracy: 0.9993\n",
      "Epoch 3/10\n",
      "66400/66409 [============================>.] - ETA: 0s - loss: 0.0017 - accuracy: 0.9996WARNING:tensorflow:Early stopping conditioned on metric `val_loss` which is not available. Available metrics are: loss,accuracy\n",
      "66409/66409 [==============================] - 234s 4ms/sample - loss: 0.0017 - accuracy: 0.9996\n",
      "Epoch 4/10\n",
      "66400/66409 [============================>.] - ETA: 0s - loss: 0.0013 - accuracy: 0.9997 ETA: 0s - loss: 0.0013 - accuWARNING:tensorflow:Early stopping conditioned on metric `val_loss` which is not available. Available metrics are: loss,accuracy\n",
      "66409/66409 [==============================] - 241s 4ms/sample - loss: 0.0013 - accuracy: 0.9997\n",
      "Epoch 5/10\n",
      "66400/66409 [============================>.] - ETA: 0s - loss: 0.0010 - accuracy: 0.9997WARNING:tensorflow:Early stopping conditioned on metric `val_loss` which is not available. Available metrics are: loss,accuracy\n",
      "66409/66409 [==============================] - 259s 4ms/sample - loss: 0.0010 - accuracy: 0.9997\n",
      "Epoch 6/10\n",
      "66400/66409 [============================>.] - ETA: 0s - loss: 8.6547e-04 - accuracy: 0.9998 ETA: 1s - loss: 8.6585e-04 - WARNING:tensorflow:Early stopping conditioned on metric `val_loss` which is not available. Available metrics are: loss,accuracy\n",
      "66409/66409 [==============================] - 251s 4ms/sample - loss: 8.6535e-04 - accuracy: 0.9998\n",
      "Epoch 7/10\n",
      "66400/66409 [============================>.] - ETA: 0s - loss: 7.0331e-04 - accuracy: 0.9998WARNING:tensorflow:Early stopping conditioned on metric `val_loss` which is not available. Available metrics are: loss,accuracy\n",
      "66409/66409 [==============================] - 257s 4ms/sample - loss: 7.0322e-04 - accuracy: 0.9998\n",
      "Epoch 8/10\n",
      "66400/66409 [============================>.] - ETA: 0s - loss: 6.0084e-04 - accuracy: 0.9998WARNING:tensorflow:Early stopping conditioned on metric `val_loss` which is not available. Available metrics are: loss,accuracy\n",
      "66409/66409 [==============================] - 254s 4ms/sample - loss: 6.0077e-04 - accuracy: 0.9998\n",
      "Epoch 9/10\n",
      "66400/66409 [============================>.] - ETA: 0s - loss: 5.2183e-04 - accuracy: 0.9999WARNING:tensorflow:Early stopping conditioned on metric `val_loss` which is not available. Available metrics are: loss,accuracy\n",
      "66409/66409 [==============================] - 248s 4ms/sample - loss: 5.2176e-04 - accuracy: 0.9999\n",
      "Epoch 10/10\n",
      "66400/66409 [============================>.] - ETA: 0s - loss: 5.0482e-04 - accuracy: 0.9999WARNING:tensorflow:Early stopping conditioned on metric `val_loss` which is not available. Available metrics are: loss,accuracy\n",
      "66409/66409 [==============================] - 236s 4ms/sample - loss: 5.0476e-04 - accuracy: 0.9999\n"
     ]
    },
    {
     "data": {
      "text/plain": [
       "<tensorflow.python.keras.callbacks.History at 0x19153790b08>"
      ]
     },
     "execution_count": 11,
     "metadata": {},
     "output_type": "execute_result"
    },
    {
     "name": "stdout",
     "output_type": "stream",
     "text": [
      "accuracy_score 0.9997882504404391\n",
      "recall_score 0.9937925510612735\n",
      "precision_score 0.9912123027761135\n",
      "f1_score 0.9925007499250075\n",
      "Model: \"model_1\"\n",
      "_________________________________________________________________\n",
      "Layer (type)                 Output Shape              Param #   \n",
      "=================================================================\n",
      "input_1 (InputLayer)         [(None, 48, 256)]         0         \n",
      "_________________________________________________________________\n",
      "bidirectional (Bidirectional (None, 48, 144)           189504    \n",
      "_________________________________________________________________\n",
      "time_distributed (TimeDistri (None, 48, 1)             145       \n",
      "=================================================================\n",
      "Total params: 189,649\n",
      "Trainable params: 189,649\n",
      "Non-trainable params: 0\n",
      "_________________________________________________________________\n",
      "======Training stage======\n",
      "Train on 66409 samples\n",
      "Epoch 1/10\n",
      "66400/66409 [============================>.] - ETA: 0s - loss: 5.0883e-04 - accuracy: 0.9999WARNING:tensorflow:Early stopping conditioned on metric `val_loss` which is not available. Available metrics are: loss,accuracy\n",
      "66409/66409 [==============================] - 233s 4ms/sample - loss: 5.0876e-04 - accuracy: 0.9999\n",
      "Epoch 2/10\n",
      "66400/66409 [============================>.] - ETA: 0s - loss: 4.3051e-04 - accuracy: 0.9999WARNING:tensorflow:Early stopping conditioned on metric `val_loss` which is not available. Available metrics are: loss,accuracy\n",
      "66409/66409 [==============================] - 241s 4ms/sample - loss: 4.3045e-04 - accuracy: 0.9999\n",
      "Epoch 3/10\n",
      "66400/66409 [============================>.] - ETA: 0s - loss: 3.8938e-04 - accuracy: 0.9999WARNING:tensorflow:Early stopping conditioned on metric `val_loss` which is not available. Available metrics are: loss,accuracy\n",
      "66409/66409 [==============================] - 237s 4ms/sample - loss: 3.8934e-04 - accuracy: 0.9999\n",
      "Epoch 4/10\n",
      "66400/66409 [============================>.] - ETA: 0s - loss: 3.5807e-04 - accuracy: 0.9999WARNING:tensorflow:Early stopping conditioned on metric `val_loss` which is not available. Available metrics are: loss,accuracy\n",
      "66409/66409 [==============================] - 245s 4ms/sample - loss: 3.5802e-04 - accuracy: 0.9999\n",
      "Epoch 5/10\n",
      "66400/66409 [============================>.] - ETA: 0s - loss: 3.1911e-04 - accuracy: 0.9999WARNING:tensorflow:Early stopping conditioned on metric `val_loss` which is not available. Available metrics are: loss,accuracy\n",
      "66409/66409 [==============================] - 254s 4ms/sample - loss: 3.1907e-04 - accuracy: 0.9999\n",
      "Epoch 6/10\n",
      "66400/66409 [============================>.] - ETA: 0s - loss: 2.8150e-04 - accuracy: 0.9999WARNING:tensorflow:Early stopping conditioned on metric `val_loss` which is not available. Available metrics are: loss,accuracy\n",
      "66409/66409 [==============================] - 243s 4ms/sample - loss: 2.8146e-04 - accuracy: 0.9999\n",
      "Epoch 7/10\n",
      "66400/66409 [============================>.] - ETA: 0s - loss: 2.5489e-04 - accuracy: 0.9999WARNING:tensorflow:Early stopping conditioned on metric `val_loss` which is not available. Available metrics are: loss,accuracy\n",
      "66409/66409 [==============================] - 251s 4ms/sample - loss: 2.5490e-04 - accuracy: 0.9999\n",
      "Epoch 8/10\n",
      "66400/66409 [============================>.] - ETA: 0s - loss: 2.3834e-04 - accuracy: 0.9999WARNING:tensorflow:Early stopping conditioned on metric `val_loss` which is not available. Available metrics are: loss,accuracy\n",
      "66409/66409 [==============================] - 241s 4ms/sample - loss: 2.3833e-04 - accuracy: 0.9999\n",
      "Epoch 9/10\n",
      "66400/66409 [============================>.] - ETA: 0s - loss: 2.2984e-04 - accuracy: 0.9999 ETA: 1s - loss: 2.3088eWARNING:tensorflow:Early stopping conditioned on metric `val_loss` which is not available. Available metrics are: loss,accuracy\n",
      "66409/66409 [==============================] - 242s 4ms/sample - loss: 2.2981e-04 - accuracy: 0.9999\n",
      "Epoch 10/10\n",
      "66400/66409 [============================>.] - ETA: 0s - loss: 2.1065e-04 - accuracy: 0.9999WARNING:tensorflow:Early stopping conditioned on metric `val_loss` which is not available. Available metrics are: loss,accuracy\n",
      "66409/66409 [==============================] - 250s 4ms/sample - loss: 2.1067e-04 - accuracy: 0.9999\n"
     ]
    },
    {
     "data": {
      "text/plain": [
       "<tensorflow.python.keras.callbacks.History at 0x1915da708c8>"
      ]
     },
     "execution_count": 11,
     "metadata": {},
     "output_type": "execute_result"
    },
    {
     "name": "stdout",
     "output_type": "stream",
     "text": [
      "accuracy_score 0.9998475403171161\n",
      "recall_score 0.9911111111111112\n",
      "precision_score 0.9984426708195445\n",
      "f1_score 0.9947633824670287\n",
      "Model: \"model_2\"\n",
      "_________________________________________________________________\n",
      "Layer (type)                 Output Shape              Param #   \n",
      "=================================================================\n",
      "input_1 (InputLayer)         [(None, 48, 256)]         0         \n",
      "_________________________________________________________________\n",
      "bidirectional (Bidirectional (None, 48, 144)           189504    \n",
      "_________________________________________________________________\n",
      "time_distributed (TimeDistri (None, 48, 1)             145       \n",
      "=================================================================\n",
      "Total params: 189,649\n",
      "Trainable params: 189,649\n",
      "Non-trainable params: 0\n",
      "_________________________________________________________________\n",
      "======Training stage======\n",
      "Train on 66409 samples\n",
      "Epoch 1/10\n",
      "66400/66409 [============================>.] - ETA: 0s - loss: 2.4610e-04 - accuracy: 0.9999WARNING:tensorflow:Early stopping conditioned on metric `val_loss` which is not available. Available metrics are: loss,accuracy\n",
      "66409/66409 [==============================] - 251s 4ms/sample - loss: 2.4607e-04 - accuracy: 0.9999\n",
      "Epoch 2/10\n",
      "66400/66409 [============================>.] - ETA: 0s - loss: 2.5516e-04 - accuracy: 0.9999WARNING:tensorflow:Early stopping conditioned on metric `val_loss` which is not available. Available metrics are: loss,accuracy\n",
      "66409/66409 [==============================] - 254s 4ms/sample - loss: 2.5513e-04 - accuracy: 0.9999\n",
      "Epoch 3/10\n",
      "66400/66409 [============================>.] - ETA: 0s - loss: 1.8551e-04 - accuracy: 0.9999WARNING:tensorflow:Early stopping conditioned on metric `val_loss` which is not available. Available metrics are: loss,accuracy\n",
      "66409/66409 [==============================] - 233s 4ms/sample - loss: 1.8548e-04 - accuracy: 0.9999\n",
      "Epoch 4/10\n",
      "66400/66409 [============================>.] - ETA: 0s - loss: 1.7888e-04 - accuracy: 1.0000WARNING:tensorflow:Early stopping conditioned on metric `val_loss` which is not available. Available metrics are: loss,accuracy\n",
      "66409/66409 [==============================] - 250s 4ms/sample - loss: 1.7886e-04 - accuracy: 1.0000\n",
      "Epoch 5/10\n",
      "66400/66409 [============================>.] - ETA: 0s - loss: 1.7043e-04 - accuracy: 1.0000WARNING:tensorflow:Early stopping conditioned on metric `val_loss` which is not available. Available metrics are: loss,accuracy\n",
      "66409/66409 [==============================] - 157s 2ms/sample - loss: 1.8119e-04 - accuracy: 1.0000\n",
      "Epoch 6/10\n",
      "66400/66409 [============================>.] - ETA: 0s - loss: 1.8003e-04 - accuracy: 1.0000WARNING:tensorflow:Early stopping conditioned on metric `val_loss` which is not available. Available metrics are: loss,accuracy\n",
      "66409/66409 [==============================] - 147s 2ms/sample - loss: 1.8000e-04 - accuracy: 1.0000\n",
      "Epoch 7/10\n",
      "66400/66409 [============================>.] - ETA: 0s - loss: 1.4679e-04 - accuracy: 1.0000WARNING:tensorflow:Early stopping conditioned on metric `val_loss` which is not available. Available metrics are: loss,accuracy\n",
      "66409/66409 [==============================] - 194s 3ms/sample - loss: 1.4677e-04 - accuracy: 1.0000\n",
      "Epoch 8/10\n",
      "66400/66409 [============================>.] - ETA: 0s - loss: 1.4107e-04 - accuracy: 1.0000WARNING:tensorflow:Early stopping conditioned on metric `val_loss` which is not available. Available metrics are: loss,accuracy\n",
      "66409/66409 [==============================] - 222s 3ms/sample - loss: 1.4105e-04 - accuracy: 1.0000\n",
      "Epoch 9/10\n",
      "66400/66409 [============================>.] - ETA: 0s - loss: 1.4553e-04 - accuracy: 1.0000WARNING:tensorflow:Early stopping conditioned on metric `val_loss` which is not available. Available metrics are: loss,accuracy\n",
      "66409/66409 [==============================] - 245s 4ms/sample - loss: 1.4551e-04 - accuracy: 1.0000\n",
      "Epoch 10/10\n",
      "66400/66409 [============================>.] - ETA: 0s - loss: 1.3753e-04 - accuracy: 1.0000WARNING:tensorflow:Early stopping conditioned on metric `val_loss` which is not available. Available metrics are: loss,accuracy\n",
      "66409/66409 [==============================] - 254s 4ms/sample - loss: 1.3751e-04 - accuracy: 1.0000\n"
     ]
    },
    {
     "data": {
      "text/plain": [
       "<tensorflow.python.keras.callbacks.History at 0x1915edc75c8>"
      ]
     },
     "execution_count": 11,
     "metadata": {},
     "output_type": "execute_result"
    },
    {
     "name": "stdout",
     "output_type": "stream",
     "text": [
      "accuracy_score 0.9998785969191851\n",
      "recall_score 0.9975757575757576\n",
      "precision_score 0.993761320185148\n",
      "f1_score 0.9956648855731425\n",
      "Model: \"model_3\"\n",
      "_________________________________________________________________\n",
      "Layer (type)                 Output Shape              Param #   \n",
      "=================================================================\n",
      "input_1 (InputLayer)         [(None, 48, 256)]         0         \n",
      "_________________________________________________________________\n",
      "bidirectional (Bidirectional (None, 48, 144)           189504    \n",
      "_________________________________________________________________\n",
      "time_distributed (TimeDistri (None, 48, 1)             145       \n",
      "=================================================================\n",
      "Total params: 189,649\n",
      "Trainable params: 189,649\n",
      "Non-trainable params: 0\n",
      "_________________________________________________________________\n",
      "======Training stage======\n",
      "Train on 66409 samples\n",
      "Epoch 1/10\n",
      "66400/66409 [============================>.] - ETA: 0s - loss: 1.8259e-04 - accuracy: 1.0000WARNING:tensorflow:Early stopping conditioned on metric `val_loss` which is not available. Available metrics are: loss,accuracy\n",
      "66409/66409 [==============================] - 239s 4ms/sample - loss: 1.8256e-04 - accuracy: 1.0000\n",
      "Epoch 2/10\n",
      "66400/66409 [============================>.] - ETA: 0s - loss: 1.4687e-04 - accuracy: 1.0000WARNING:tensorflow:Early stopping conditioned on metric `val_loss` which is not available. Available metrics are: loss,accuracy\n",
      "66409/66409 [==============================] - 248s 4ms/sample - loss: 1.4685e-04 - accuracy: 1.0000\n",
      "Epoch 3/10\n",
      "66400/66409 [============================>.] - ETA: 0s - loss: 1.2095e-04 - accuracy: 1.0000 ETA: 0s - loss: 1.2111e-04 - accuracyWARNING:tensorflow:Early stopping conditioned on metric `val_loss` which is not available. Available metrics are: loss,accuracy\n",
      "66409/66409 [==============================] - 231s 3ms/sample - loss: 1.2094e-04 - accuracy: 1.0000\n",
      "Epoch 4/10\n",
      "66400/66409 [============================>.] - ETA: 0s - loss: 9.5104e-05 - accuracy: 1.0000WARNING:tensorflow:Early stopping conditioned on metric `val_loss` which is not available. Available metrics are: loss,accuracy\n",
      "66409/66409 [==============================] - 248s 4ms/sample - loss: 9.5091e-05 - accuracy: 1.0000\n",
      "Epoch 5/10\n",
      "66400/66409 [============================>.] - ETA: 0s - loss: 1.0581e-04 - accuracy: 1.0000WARNING:tensorflow:Early stopping conditioned on metric `val_loss` which is not available. Available metrics are: loss,accuracy\n",
      "66409/66409 [==============================] - 243s 4ms/sample - loss: 1.0580e-04 - accuracy: 1.0000\n",
      "Epoch 6/10\n",
      "66400/66409 [============================>.] - ETA: 0s - loss: 1.1145e-04 - accuracy: 1.0000WARNING:tensorflow:Early stopping conditioned on metric `val_loss` which is not available. Available metrics are: loss,accuracy\n",
      "66409/66409 [==============================] - 247s 4ms/sample - loss: 1.1143e-04 - accuracy: 1.0000\n",
      "Epoch 7/10\n",
      "66400/66409 [============================>.] - ETA: 0s - loss: 8.9947e-05 - accuracy: 1.0000WARNING:tensorflow:Early stopping conditioned on metric `val_loss` which is not available. Available metrics are: loss,accuracy\n",
      "66409/66409 [==============================] - 241s 4ms/sample - loss: 8.9935e-05 - accuracy: 1.0000\n",
      "Epoch 8/10\n",
      "66400/66409 [============================>.] - ETA: 0s - loss: 9.4127e-05 - accuracy: 1.0000WARNING:tensorflow:Early stopping conditioned on metric `val_loss` which is not available. Available metrics are: loss,accuracy\n",
      "66409/66409 [==============================] - 233s 4ms/sample - loss: 9.4114e-05 - accuracy: 1.0000\n",
      "Epoch 9/10\n",
      "66400/66409 [============================>.] - ETA: 0s - loss: 9.8177e-05 - accuracy: 1.0000WARNING:tensorflow:Early stopping conditioned on metric `val_loss` which is not available. Available metrics are: loss,accuracy\n",
      "66409/66409 [==============================] - 238s 4ms/sample - loss: 9.8177e-05 - accuracy: 1.0000\n",
      "Epoch 10/10\n",
      "66400/66409 [============================>.] - ETA: 0s - loss: 8.0159e-05 - accuracy: 1.0000WARNING:tensorflow:Early stopping conditioned on metric `val_loss` which is not available. Available metrics are: loss,accuracy\n",
      "66409/66409 [==============================] - 193s 3ms/sample - loss: 8.0148e-05 - accuracy: 1.0000\n"
     ]
    },
    {
     "data": {
      "text/plain": [
       "<tensorflow.python.keras.callbacks.History at 0x191652a5d88>"
      ]
     },
     "execution_count": 11,
     "metadata": {},
     "output_type": "execute_result"
    },
    {
     "name": "stdout",
     "output_type": "stream",
     "text": [
      "accuracy_score 0.9998898902290283\n",
      "recall_score 0.9949129328898454\n",
      "precision_score 0.9974499803844645\n",
      "f1_score 0.9961798413164854\n",
      "Model: \"model_4\"\n",
      "_________________________________________________________________\n",
      "Layer (type)                 Output Shape              Param #   \n",
      "=================================================================\n",
      "input_1 (InputLayer)         [(None, 48, 256)]         0         \n",
      "_________________________________________________________________\n",
      "bidirectional (Bidirectional (None, 48, 144)           189504    \n",
      "_________________________________________________________________\n",
      "time_distributed (TimeDistri (None, 48, 1)             145       \n",
      "=================================================================\n",
      "Total params: 189,649\n",
      "Trainable params: 189,649\n",
      "Non-trainable params: 0\n",
      "_________________________________________________________________\n",
      "======Training stage======\n",
      "Train on 66409 samples\n",
      "Epoch 1/10\n",
      "66400/66409 [============================>.] - ETA: 0s - loss: 1.5836e-04 - accuracy: 1.0000 ETA: 1s - losWARNING:tensorflow:Early stopping conditioned on metric `val_loss` which is not available. Available metrics are: loss,accuracy\n",
      "66409/66409 [==============================] - 149s 2ms/sample - loss: 1.5834e-04 - accuracy: 1.0000\n",
      "Epoch 2/10\n",
      "66400/66409 [============================>.] - ETA: 0s - loss: 1.1790e-04 - accuracy: 1.0000WARNING:tensorflow:Early stopping conditioned on metric `val_loss` which is not available. Available metrics are: loss,accuracy\n",
      "66409/66409 [==============================] - 247s 4ms/sample - loss: 1.1789e-04 - accuracy: 1.0000\n",
      "Epoch 3/10\n",
      "66400/66409 [============================>.] - ETA: 0s - loss: 1.3701e-04 - accuracy: 1.0000WARNING:tensorflow:Early stopping conditioned on metric `val_loss` which is not available. Available metrics are: loss,accuracy\n",
      "66409/66409 [==============================] - 225s 3ms/sample - loss: 1.3700e-04 - accuracy: 1.0000\n",
      "Epoch 4/10\n",
      "66400/66409 [============================>.] - ETA: 0s - loss: 1.2582e-04 - accuracy: 1.0000WARNING:tensorflow:Early stopping conditioned on metric `val_loss` which is not available. Available metrics are: loss,accuracy\n",
      "66409/66409 [==============================] - 189s 3ms/sample - loss: 1.2581e-04 - accuracy: 1.0000\n",
      "Epoch 5/10\n",
      "66400/66409 [============================>.] - ETA: 0s - loss: 1.0069e-04 - accuracy: 1.0000 ETA: 0s - loss: 1.0078e-04 - accuracy: 1.WARNING:tensorflow:Early stopping conditioned on metric `val_loss` which is not available. Available metrics are: loss,accuracy\n",
      "66409/66409 [==============================] - 180s 3ms/sample - loss: 1.0067e-04 - accuracy: 1.0000\n",
      "Epoch 6/10\n",
      "66400/66409 [============================>.] - ETA: 0s - loss: 1.4229e-04 - accuracy: 1.0000WARNING:tensorflow:Early stopping conditioned on metric `val_loss` which is not available. Available metrics are: loss,accuracy\n",
      "66409/66409 [==============================] - 174s 3ms/sample - loss: 1.4227e-04 - accuracy: 1.0000\n",
      "Epoch 7/10\n",
      "66400/66409 [============================>.] - ETA: 0s - loss: 1.2545e-04 - accuracy: 1.0000WARNING:tensorflow:Early stopping conditioned on metric `val_loss` which is not available. Available metrics are: loss,accuracy\n",
      "66409/66409 [==============================] - 187s 3ms/sample - loss: 1.2543e-04 - accuracy: 1.0000\n",
      "Epoch 8/10\n",
      "66400/66409 [============================>.] - ETA: 0s - loss: 1.0994e-04 - accuracy: 1.0000 ETA - ETA: 0s - loss: 1.1020e-04 - accuraWARNING:tensorflow:Early stopping conditioned on metric `val_loss` which is not available. Available metrics are: loss,accuracy\n",
      "66409/66409 [==============================] - 184s 3ms/sample - loss: 1.0993e-04 - accuracy: 1.0000\n",
      "Epoch 9/10\n",
      "66400/66409 [============================>.] - ETA: 0s - loss: 1.1937e-04 - accuracy: 1.0000WARNING:tensorflow:Early stopping conditioned on metric `val_loss` which is not available. Available metrics are: loss,accuracy\n",
      "66409/66409 [==============================] - 188s 3ms/sample - loss: 1.1935e-04 - accuracy: 1.0000\n",
      "Epoch 10/10\n",
      "66400/66409 [============================>.] - ETA: 0s - loss: 1.2410e-04 - accuracy: 1.0000WARNING:tensorflow:Early stopping conditioned on metric `val_loss` which is not available. Available metrics are: loss,accuracy\n",
      "66409/66409 [==============================] - 160s 2ms/sample - loss: 1.2408e-04 - accuracy: 1.0000\n"
     ]
    },
    {
     "data": {
      "text/plain": [
       "<tensorflow.python.keras.callbacks.History at 0x191615d8d08>"
      ]
     },
     "execution_count": 11,
     "metadata": {},
     "output_type": "execute_result"
    },
    {
     "name": "stdout",
     "output_type": "stream",
     "text": [
      "accuracy_score 0.9999887066901567\n",
      "recall_score 0.999405705229794\n",
      "precision_score 0.9998018232263178\n",
      "f1_score 0.9996037249851396\n",
      "Model: \"model_5\"\n",
      "_________________________________________________________________\n",
      "Layer (type)                 Output Shape              Param #   \n",
      "=================================================================\n",
      "input_1 (InputLayer)         [(None, 48, 256)]         0         \n",
      "_________________________________________________________________\n",
      "bidirectional (Bidirectional (None, 48, 144)           189504    \n",
      "_________________________________________________________________\n",
      "time_distributed (TimeDistri (None, 48, 1)             145       \n",
      "=================================================================\n",
      "Total params: 189,649\n",
      "Trainable params: 189,649\n",
      "Non-trainable params: 0\n",
      "_________________________________________________________________\n",
      "======Training stage======\n",
      "Train on 66409 samples\n",
      "Epoch 1/10\n",
      "66400/66409 [============================>.] - ETA: 0s - loss: 1.0800e-04 - accuracy: 1.0000WARNING:tensorflow:Early stopping conditioned on metric `val_loss` which is not available. Available metrics are: loss,accuracy\n",
      "66409/66409 [==============================] - 178s 3ms/sample - loss: 1.0798e-04 - accuracy: 1.0000\n",
      "Epoch 2/10\n",
      "66400/66409 [============================>.] - ETA: 0s - loss: 7.7343e-05 - accuracy: 1.0000WARNING:tensorflow:Early stopping conditioned on metric `val_loss` which is not available. Available metrics are: loss,accuracy\n",
      "66409/66409 [==============================] - 145s 2ms/sample - loss: 7.7333e-05 - accuracy: 1.0000\n",
      "Epoch 3/10\n",
      "66400/66409 [============================>.] - ETA: 0s - loss: 1.0322e-04 - accuracy: 1.0000WARNING:tensorflow:Early stopping conditioned on metric `val_loss` which is not available. Available metrics are: loss,accuracy\n",
      "66409/66409 [==============================] - 197s 3ms/sample - loss: 1.0321e-04 - accuracy: 1.0000\n",
      "Epoch 4/10\n",
      "66400/66409 [============================>.] - ETA: 0s - loss: 8.8251e-05 - accuracy: 1.0000WARNING:tensorflow:Early stopping conditioned on metric `val_loss` which is not available. Available metrics are: loss,accuracy\n",
      "66409/66409 [==============================] - 181s 3ms/sample - loss: 8.8239e-05 - accuracy: 1.0000\n",
      "Epoch 5/10\n",
      "66400/66409 [============================>.] - ETA: 0s - loss: 7.3048e-05 - accuracy: 1.0000WARNING:tensorflow:Early stopping conditioned on metric `val_loss` which is not available. Available metrics are: loss,accuracy\n",
      "66409/66409 [==============================] - 147s 2ms/sample - loss: 7.3038e-05 - accuracy: 1.0000\n",
      "Epoch 6/10\n",
      "66400/66409 [============================>.] - ETA: 0s - loss: 8.3460e-05 - accuracy: 1.0000WARNING:tensorflow:Early stopping conditioned on metric `val_loss` which is not available. Available metrics are: loss,accuracy\n",
      "66409/66409 [==============================] - 147s 2ms/sample - loss: 8.3449e-05 - accuracy: 1.0000\n",
      "Epoch 7/10\n",
      "66400/66409 [============================>.] - ETA: 0s - loss: 8.6223e-05 - accuracy: 1.0000WARNING:tensorflow:Early stopping conditioned on metric `val_loss` which is not available. Available metrics are: loss,accuracy\n",
      "66409/66409 [==============================] - 147s 2ms/sample - loss: 8.6211e-05 - accuracy: 1.0000\n",
      "Epoch 8/10\n",
      "66400/66409 [============================>.] - ETA: 0s - loss: 7.4601e-05 - accuracy: 1.0000WARNING:tensorflow:Early stopping conditioned on metric `val_loss` which is not available. Available metrics are: loss,accuracy\n",
      "66409/66409 [==============================] - 136s 2ms/sample - loss: 7.4591e-05 - accuracy: 1.0000\n",
      "Epoch 9/10\n",
      "66368/66409 [============================>.] - ETA: 0s - loss: 7.0137e-05 - accuracy: 1.0000WARNING:tensorflow:Early stopping conditioned on metric `val_loss` which is not available. Available metrics are: loss,accuracy\n",
      "66409/66409 [==============================] - 107s 2ms/sample - loss: 7.0093e-05 - accuracy: 1.0000\n",
      "Epoch 10/10\n",
      "66400/66409 [============================>.] - ETA: 0s - loss: 9.9759e-05 - accuracy: 1.0000WARNING:tensorflow:Early stopping conditioned on metric `val_loss` which is not available. Available metrics are: loss,accuracy\n",
      "66409/66409 [==============================] - 127s 2ms/sample - loss: 9.9745e-05 - accuracy: 1.0000\n"
     ]
    },
    {
     "data": {
      "text/plain": [
       "<tensorflow.python.keras.callbacks.History at 0x19161466608>"
      ]
     },
     "execution_count": 11,
     "metadata": {},
     "output_type": "execute_result"
    },
    {
     "name": "stdout",
     "output_type": "stream",
     "text": [
      "accuracy_score 0.9999124768487149\n",
      "recall_score 1.0\n",
      "precision_score 0.9938222399362295\n",
      "f1_score 0.9969015492253873\n",
      "Model: \"model_6\"\n",
      "_________________________________________________________________\n",
      "Layer (type)                 Output Shape              Param #   \n",
      "=================================================================\n",
      "input_1 (InputLayer)         [(None, 48, 256)]         0         \n",
      "_________________________________________________________________\n",
      "bidirectional (Bidirectional (None, 48, 144)           189504    \n",
      "_________________________________________________________________\n",
      "time_distributed (TimeDistri (None, 48, 1)             145       \n",
      "=================================================================\n",
      "Total params: 189,649\n",
      "Trainable params: 189,649\n",
      "Non-trainable params: 0\n",
      "_________________________________________________________________\n",
      "======Training stage======\n",
      "Train on 66409 samples\n",
      "Epoch 1/10\n",
      "66400/66409 [============================>.] - ETA: 0s - loss: 1.2758e-04 - accuracy: 1.0000WARNING:tensorflow:Early stopping conditioned on metric `val_loss` which is not available. Available metrics are: loss,accuracy\n",
      "66409/66409 [==============================] - 168s 3ms/sample - loss: 1.2756e-04 - accuracy: 1.0000\n",
      "Epoch 2/10\n",
      "66400/66409 [============================>.] - ETA: 0s - loss: 1.1399e-04 - accuracy: 1.0000WARNING:tensorflow:Early stopping conditioned on metric `val_loss` which is not available. Available metrics are: loss,accuracy\n",
      "66409/66409 [==============================] - 151s 2ms/sample - loss: 1.1397e-04 - accuracy: 1.0000\n",
      "Epoch 3/10\n",
      "66400/66409 [============================>.] - ETA: 0s - loss: 8.8211e-05 - accuracy: 1.0000WARNING:tensorflow:Early stopping conditioned on metric `val_loss` which is not available. Available metrics are: loss,accuracy\n",
      "66409/66409 [==============================] - 142s 2ms/sample - loss: 8.8199e-05 - accuracy: 1.0000\n",
      "Epoch 4/10\n",
      "66400/66409 [============================>.] - ETA: 0s - loss: 6.4873e-05 - accuracy: 1.0000WARNING:tensorflow:Early stopping conditioned on metric `val_loss` which is not available. Available metrics are: loss,accuracy\n",
      "66409/66409 [==============================] - 151s 2ms/sample - loss: 6.4864e-05 - accuracy: 1.0000\n",
      "Epoch 5/10\n",
      "66400/66409 [============================>.] - ETA: 0s - loss: 7.5362e-05 - accuracy: 1.0000WARNING:tensorflow:Early stopping conditioned on metric `val_loss` which is not available. Available metrics are: loss,accuracy\n",
      "66409/66409 [==============================] - 152s 2ms/sample - loss: 7.5352e-05 - accuracy: 1.0000\n",
      "Epoch 6/10\n",
      "66400/66409 [============================>.] - ETA: 0s - loss: 1.0200e-04 - accuracy: 1.0000WARNING:tensorflow:Early stopping conditioned on metric `val_loss` which is not available. Available metrics are: loss,accuracy\n",
      "66409/66409 [==============================] - 151s 2ms/sample - loss: 1.0199e-04 - accuracy: 1.0000\n",
      "Epoch 7/10\n",
      "66400/66409 [============================>.] - ETA: 0s - loss: 7.2438e-05 - accuracy: 1.0000WARNING:tensorflow:Early stopping conditioned on metric `val_loss` which is not available. Available metrics are: loss,accuracy\n",
      "66409/66409 [==============================] - 152s 2ms/sample - loss: 7.2428e-05 - accuracy: 1.0000\n",
      "Epoch 8/10\n",
      "66400/66409 [============================>.] - ETA: 0s - loss: 8.5287e-05 - accuracy: 1.0000WARNING:tensorflow:Early stopping conditioned on metric `val_loss` which is not available. Available metrics are: loss,accuracy\n",
      "66409/66409 [==============================] - 151s 2ms/sample - loss: 8.5275e-05 - accuracy: 1.0000\n",
      "Epoch 9/10\n",
      "66400/66409 [============================>.] - ETA: 0s - loss: 8.1132e-05 - accuracy: 1.0000WARNING:tensorflow:Early stopping conditioned on metric `val_loss` which is not available. Available metrics are: loss,accuracy\n",
      "66409/66409 [==============================] - 151s 2ms/sample - loss: 8.1121e-05 - accuracy: 1.0000\n",
      "Epoch 10/10\n",
      "66400/66409 [============================>.] - ETA: 0s - loss: 7.2301e-05 - accuracy: 1.0000WARNING:tensorflow:Early stopping conditioned on metric `val_loss` which is not available. Available metrics are: loss,accuracy\n",
      "66409/66409 [==============================] - 151s 2ms/sample - loss: 7.2291e-05 - accuracy: 1.0000\n"
     ]
    },
    {
     "data": {
      "text/plain": [
       "<tensorflow.python.keras.callbacks.History at 0x191520e5308>"
      ]
     },
     "execution_count": 11,
     "metadata": {},
     "output_type": "execute_result"
    },
    {
     "name": "stdout",
     "output_type": "stream",
     "text": [
      "accuracy_score 0.9999661200704703\n",
      "recall_score 0.9976470588235294\n",
      "precision_score 1.0\n",
      "f1_score 0.9988221436984689\n",
      "Model: \"model_7\"\n",
      "_________________________________________________________________\n",
      "Layer (type)                 Output Shape              Param #   \n",
      "=================================================================\n",
      "input_1 (InputLayer)         [(None, 48, 256)]         0         \n",
      "_________________________________________________________________\n",
      "bidirectional (Bidirectional (None, 48, 144)           189504    \n",
      "_________________________________________________________________\n",
      "time_distributed (TimeDistri (None, 48, 1)             145       \n",
      "=================================================================\n",
      "Total params: 189,649\n",
      "Trainable params: 189,649\n",
      "Non-trainable params: 0\n",
      "_________________________________________________________________\n",
      "======Training stage======\n",
      "Train on 66409 samples\n",
      "Epoch 1/10\n",
      "66400/66409 [============================>.] - ETA: 0s - loss: 9.0569e-05 - accuracy: 1.0000WARNING:tensorflow:Early stopping conditioned on metric `val_loss` which is not available. Available metrics are: loss,accuracy\n",
      "66409/66409 [==============================] - 160s 2ms/sample - loss: 9.0557e-05 - accuracy: 1.0000\n",
      "Epoch 2/10\n",
      "66400/66409 [============================>.] - ETA: 0s - loss: 5.2497e-05 - accuracy: 1.0000WARNING:tensorflow:Early stopping conditioned on metric `val_loss` which is not available. Available metrics are: loss,accuracy\n",
      "66409/66409 [==============================] - 149s 2ms/sample - loss: 5.2490e-05 - accuracy: 1.0000\n",
      "Epoch 3/10\n",
      "66400/66409 [============================>.] - ETA: 0s - loss: 6.4071e-05 - accuracy: 1.0000WARNING:tensorflow:Early stopping conditioned on metric `val_loss` which is not available. Available metrics are: loss,accuracy\n",
      "66409/66409 [==============================] - 144s 2ms/sample - loss: 6.4062e-05 - accuracy: 1.0000\n",
      "Epoch 4/10\n",
      "66400/66409 [============================>.] - ETA: 0s - loss: 3.1837e-05 - accuracy: 1.0000WARNING:tensorflow:Early stopping conditioned on metric `val_loss` which is not available. Available metrics are: loss,accuracy\n",
      "66409/66409 [==============================] - 125s 2ms/sample - loss: 3.1832e-05 - accuracy: 1.0000\n",
      "Epoch 5/10\n",
      "66400/66409 [============================>.] - ETA: 0s - loss: 6.8816e-05 - accuracy: 1.0000WARNING:tensorflow:Early stopping conditioned on metric `val_loss` which is not available. Available metrics are: loss,accuracy\n",
      "66409/66409 [==============================] - 150s 2ms/sample - loss: 6.8806e-05 - accuracy: 1.0000\n",
      "Epoch 6/10\n",
      "66400/66409 [============================>.] - ETA: 0s - loss: 6.7086e-05 - accuracy: 1.0000WARNING:tensorflow:Early stopping conditioned on metric `val_loss` which is not available. Available metrics are: loss,accuracy\n",
      "66409/66409 [==============================] - 150s 2ms/sample - loss: 6.7077e-05 - accuracy: 1.0000\n",
      "Epoch 7/10\n",
      "66400/66409 [============================>.] - ETA: 0s - loss: 5.2269e-05 - accuracy: 1.0000WARNING:tensorflow:Early stopping conditioned on metric `val_loss` which is not available. Available metrics are: loss,accuracy\n",
      "66409/66409 [==============================] - 150s 2ms/sample - loss: 5.2262e-05 - accuracy: 1.0000\n",
      "Epoch 8/10\n",
      "66400/66409 [============================>.] - ETA: 0s - loss: 7.2615e-05 - accuracy: 1.0000WARNING:tensorflow:Early stopping conditioned on metric `val_loss` which is not available. Available metrics are: loss,accuracy\n",
      "66409/66409 [==============================] - 150s 2ms/sample - loss: 7.2605e-05 - accuracy: 1.0000\n",
      "Epoch 9/10\n",
      "66400/66409 [============================>.] - ETA: 0s - loss: 4.2697e-05 - accuracy: 1.0000WARNING:tensorflow:Early stopping conditioned on metric `val_loss` which is not available. Available metrics are: loss,accuracy\n",
      "66409/66409 [==============================] - 151s 2ms/sample - loss: 4.2691e-05 - accuracy: 1.0000\n",
      "Epoch 10/10\n",
      "66400/66409 [============================>.] - ETA: 0s - loss: 3.9257e-05 - accuracy: 1.0000WARNING:tensorflow:Early stopping conditioned on metric `val_loss` which is not available. Available metrics are: loss,accuracy\n",
      "66409/66409 [==============================] - 149s 2ms/sample - loss: 3.9251e-05 - accuracy: 1.0000\n"
     ]
    },
    {
     "data": {
      "text/plain": [
       "<tensorflow.python.keras.callbacks.History at 0x1915f9e8b08>"
      ]
     },
     "execution_count": 11,
     "metadata": {},
     "output_type": "execute_result"
    },
    {
     "name": "stdout",
     "output_type": "stream",
     "text": [
      "accuracy_score 1.0\n",
      "recall_score 1.0\n",
      "precision_score 1.0\n",
      "f1_score 1.0\n",
      "Model: \"model_8\"\n",
      "_________________________________________________________________\n",
      "Layer (type)                 Output Shape              Param #   \n",
      "=================================================================\n",
      "input_1 (InputLayer)         [(None, 48, 256)]         0         \n",
      "_________________________________________________________________\n",
      "bidirectional (Bidirectional (None, 48, 144)           189504    \n",
      "_________________________________________________________________\n",
      "time_distributed (TimeDistri (None, 48, 1)             145       \n",
      "=================================================================\n",
      "Total params: 189,649\n",
      "Trainable params: 189,649\n",
      "Non-trainable params: 0\n",
      "_________________________________________________________________\n",
      "======Training stage======\n",
      "Train on 66410 samples\n",
      "Epoch 1/10\n",
      "66400/66410 [============================>.] - ETA: 0s - loss: 2.4954e-05 - accuracy: 1.0000WARNING:tensorflow:Early stopping conditioned on metric `val_loss` which is not available. Available metrics are: loss,accuracy\n",
      "66410/66410 [==============================] - 164s 2ms/sample - loss: 2.4950e-05 - accuracy: 1.0000\n",
      "Epoch 2/10\n",
      "66400/66410 [============================>.] - ETA: 0s - loss: 2.8335e-05 - accuracy: 1.0000WARNING:tensorflow:Early stopping conditioned on metric `val_loss` which is not available. Available metrics are: loss,accuracy\n",
      "66410/66410 [==============================] - 153s 2ms/sample - loss: 2.8330e-05 - accuracy: 1.0000\n",
      "Epoch 3/10\n",
      "66400/66410 [============================>.] - ETA: 0s - loss: 2.5805e-05 - accuracy: 1.0000WARNING:tensorflow:Early stopping conditioned on metric `val_loss` which is not available. Available metrics are: loss,accuracy\n",
      "66410/66410 [==============================] - 147s 2ms/sample - loss: 2.5802e-05 - accuracy: 1.0000\n",
      "Epoch 4/10\n",
      "66400/66410 [============================>.] - ETA: 0s - loss: 1.8720e-05 - accuracy: 1.0000WARNING:tensorflow:Early stopping conditioned on metric `val_loss` which is not available. Available metrics are: loss,accuracy\n",
      "66410/66410 [==============================] - 149s 2ms/sample - loss: 1.8717e-05 - accuracy: 1.0000\n",
      "Epoch 5/10\n",
      "66400/66410 [============================>.] - ETA: 0s - loss: 1.4515e-05 - accuracy: 1.0000WARNING:tensorflow:Early stopping conditioned on metric `val_loss` which is not available. Available metrics are: loss,accuracy\n",
      "66410/66410 [==============================] - 153s 2ms/sample - loss: 1.4513e-05 - accuracy: 1.0000\n",
      "Epoch 6/10\n",
      "66400/66410 [============================>.] - ETA: 0s - loss: 1.9114e-05 - accuracy: 1.0000WARNING:tensorflow:Early stopping conditioned on metric `val_loss` which is not available. Available metrics are: loss,accuracy\n",
      "66410/66410 [==============================] - 153s 2ms/sample - loss: 1.9112e-05 - accuracy: 1.0000\n",
      "Epoch 7/10\n",
      "66400/66410 [============================>.] - ETA: 0s - loss: 2.5986e-05 - accuracy: 1.0000WARNING:tensorflow:Early stopping conditioned on metric `val_loss` which is not available. Available metrics are: loss,accuracy\n",
      "66410/66410 [==============================] - 133s 2ms/sample - loss: 2.5982e-05 - accuracy: 1.0000\n",
      "Epoch 8/10\n",
      "66400/66410 [============================>.] - ETA: 0s - loss: 1.2969e-05 - accuracy: 1.0000WARNING:tensorflow:Early stopping conditioned on metric `val_loss` which is not available. Available metrics are: loss,accuracy\n",
      "66410/66410 [==============================] - 152s 2ms/sample - loss: 1.2967e-05 - accuracy: 1.0000\n",
      "Epoch 9/10\n",
      "66400/66410 [============================>.] - ETA: 0s - loss: 1.4843e-05 - accuracy: 1.0000WARNING:tensorflow:Early stopping conditioned on metric `val_loss` which is not available. Available metrics are: loss,accuracy\n",
      "66410/66410 [==============================] - 153s 2ms/sample - loss: 1.4841e-05 - accuracy: 1.0000\n",
      "Epoch 10/10\n",
      "66400/66410 [============================>.] - ETA: 0s - loss: 1.5173e-05 - accuracy: 1.0000WARNING:tensorflow:Early stopping conditioned on metric `val_loss` which is not available. Available metrics are: loss,accuracy\n",
      "66410/66410 [==============================] - 153s 2ms/sample - loss: 1.5171e-05 - accuracy: 1.0000\n"
     ]
    },
    {
     "data": {
      "text/plain": [
       "<tensorflow.python.keras.callbacks.History at 0x1915234b988>"
      ]
     },
     "execution_count": 11,
     "metadata": {},
     "output_type": "execute_result"
    },
    {
     "name": "stdout",
     "output_type": "stream",
     "text": [
      "accuracy_score 0.9999745866088371\n",
      "recall_score 0.9981945837512538\n",
      "precision_score 1.0\n",
      "f1_score 0.9990964762574039\n",
      "Model: \"model_9\"\n",
      "_________________________________________________________________\n",
      "Layer (type)                 Output Shape              Param #   \n",
      "=================================================================\n",
      "input_1 (InputLayer)         [(None, 48, 256)]         0         \n",
      "_________________________________________________________________\n",
      "bidirectional (Bidirectional (None, 48, 144)           189504    \n",
      "_________________________________________________________________\n",
      "time_distributed (TimeDistri (None, 48, 1)             145       \n",
      "=================================================================\n",
      "Total params: 189,649\n",
      "Trainable params: 189,649\n",
      "Non-trainable params: 0\n",
      "_________________________________________________________________\n",
      "======Training stage======\n",
      "Train on 66410 samples\n",
      "Epoch 1/10\n",
      "66400/66410 [============================>.] - ETA: 0s - loss: 6.3334e-05 - accuracy: 1.0000WARNING:tensorflow:Early stopping conditioned on metric `val_loss` which is not available. Available metrics are: loss,accuracy\n",
      "66410/66410 [==============================] - 165s 2ms/sample - loss: 6.3324e-05 - accuracy: 1.0000\n",
      "Epoch 2/10\n",
      "66400/66410 [============================>.] - ETA: 0s - loss: 1.8198e-05 - accuracy: 1.0000WARNING:tensorflow:Early stopping conditioned on metric `val_loss` which is not available. Available metrics are: loss,accuracy\n",
      "66410/66410 [==============================] - 152s 2ms/sample - loss: 1.8195e-05 - accuracy: 1.0000\n",
      "Epoch 3/10\n",
      "66400/66410 [============================>.] - ETA: 0s - loss: 9.1162e-06 - accuracy: 1.0000WARNING:tensorflow:Early stopping conditioned on metric `val_loss` which is not available. Available metrics are: loss,accuracy\n",
      "66410/66410 [==============================] - 151s 2ms/sample - loss: 9.1148e-06 - accuracy: 1.0000\n",
      "Epoch 4/10\n",
      "66400/66410 [============================>.] - ETA: 0s - loss: 1.0175e-05 - accuracy: 1.0000WARNING:tensorflow:Early stopping conditioned on metric `val_loss` which is not available. Available metrics are: loss,accuracy\n",
      "66410/66410 [==============================] - 143s 2ms/sample - loss: 1.0174e-05 - accuracy: 1.0000\n",
      "Epoch 5/10\n",
      "66400/66410 [============================>.] - ETA: 0s - loss: 4.3908e-06 - accuracy: 1.0000WARNING:tensorflow:Early stopping conditioned on metric `val_loss` which is not available. Available metrics are: loss,accuracy\n",
      "66410/66410 [==============================] - 152s 2ms/sample - loss: 4.3902e-06 - accuracy: 1.0000\n",
      "Epoch 6/10\n",
      "66400/66410 [============================>.] - ETA: 0s - loss: 1.0877e-05 - accuracy: 1.0000WARNING:tensorflow:Early stopping conditioned on metric `val_loss` which is not available. Available metrics are: loss,accuracy\n",
      "66410/66410 [==============================] - 153s 2ms/sample - loss: 1.0876e-05 - accuracy: 1.0000\n",
      "Epoch 7/10\n",
      "66400/66410 [============================>.] - ETA: 0s - loss: 8.0161e-07 - accuracy: 1.0000WARNING:tensorflow:Early stopping conditioned on metric `val_loss` which is not available. Available metrics are: loss,accuracy\n",
      "66410/66410 [==============================] - 153s 2ms/sample - loss: 8.0149e-07 - accuracy: 1.0000\n",
      "Epoch 8/10\n",
      "66400/66410 [============================>.] - ETA: 0s - loss: 1.7616e-07 - accuracy: 1.0000WARNING:tensorflow:Early stopping conditioned on metric `val_loss` which is not available. Available metrics are: loss,accuracy\n",
      "66410/66410 [==============================] - 152s 2ms/sample - loss: 1.7613e-07 - accuracy: 1.0000\n",
      "Epoch 9/10\n",
      "66400/66410 [============================>.] - ETA: 0s - loss: 3.2678e-07 - accuracy: 1.0000WARNING:tensorflow:Early stopping conditioned on metric `val_loss` which is not available. Available metrics are: loss,accuracy\n",
      "66410/66410 [==============================] - 152s 2ms/sample - loss: 3.2673e-07 - accuracy: 1.0000\n",
      "Epoch 10/10\n",
      "66400/66410 [============================>.] - ETA: 0s - loss: 5.6303e-08 - accuracy: 1.0000WARNING:tensorflow:Early stopping conditioned on metric `val_loss` which is not available. Available metrics are: loss,accuracy\n",
      "66410/66410 [==============================] - 153s 2ms/sample - loss: 5.6294e-08 - accuracy: 1.0000\n"
     ]
    },
    {
     "data": {
      "text/plain": [
       "<tensorflow.python.keras.callbacks.History at 0x1915fd53fc8>"
      ]
     },
     "execution_count": 11,
     "metadata": {},
     "output_type": "execute_result"
    },
    {
     "name": "stdout",
     "output_type": "stream",
     "text": [
      "accuracy_score 0.9999915288696124\n",
      "recall_score 0.9994258373205742\n",
      "precision_score 1.0\n",
      "f1_score 0.9997128362209247\n",
      "\n",
      "K-fold cross validation Accuracy: [0.9997882504404391, 0.9998475403171161, 0.9998785969191851, 0.9998898902290283, 0.9999887066901567, 0.9999124768487149, 0.9999661200704703, 1.0, 0.9999745866088371, 0.9999915288696124]\n",
      "\n",
      "K-fold cross validation Recall: [0.9937925510612735, 0.9911111111111112, 0.9975757575757576, 0.9949129328898454, 0.999405705229794, 1.0, 0.9976470588235294, 1.0, 0.9981945837512538, 0.9994258373205742]\n",
      "\n",
      "K-fold cross validation Precision: [0.9912123027761135, 0.9984426708195445, 0.993761320185148, 0.9974499803844645, 0.9998018232263178, 0.9938222399362295, 1.0, 1.0, 1.0, 1.0]\n",
      "\n",
      "K-fold cross validation F1-Score: [0.9925007499250075, 0.9947633824670287, 0.9956648855731425, 0.9961798413164854, 0.9996037249851396, 0.9969015492253873, 0.9988221436984689, 1.0, 0.9990964762574039, 0.9997128362209247]\n"
     ]
    }
   ],
   "source": [
    "# 교차검증 kfold\n",
    "from sklearn.model_selection import KFold\n",
    "\n",
    "# Accuracy, Precision, Recall, F1-Score\n",
    "from sklearn.metrics import accuracy_score, recall_score, precision_score, f1_score\n",
    "\n",
    "# Confusion Matrix, ROC Curve\n",
    "from sklearn.metrics import confusion_matrix, roc_auc_score\n",
    "\n",
    "# 최종 평가지표들 평균용\n",
    "accuracy, recall, precision, f1score, cm = [], [], [], [], []\n",
    "\n",
    "# 11. 교차검증 kfold - k.split - 10회 / K-Fold 객체 생성\n",
    "# kf = KFold(n_splits=10, shuffle=False, random_state=None) # KFold non shuffle 버전\n",
    "kf = KFold(n_splits=10, shuffle=True, random_state=None) # KFold non shuffle 버전\n",
    "\n",
    "for train, validation in kf.split(x_bc8_3, y_bc8_3):\n",
    "    model1 = models.Model(xInput, xOutput)\n",
    "    model1.compile(loss='binary_crossentropy', optimizer='rmsprop', metrics=['accuracy'])\n",
    "    model1.summary()\n",
    "    print('======Training stage======')\n",
    "    model1.fit(x_bc8_3[train],\n",
    "               y_bc8_3[train],\n",
    "               epochs = 10,\n",
    "               batch_size = 32,\n",
    "               callbacks=[early_stopping])\n",
    "    #k_accuracy = '%.4f' %(model1.evaluate(data_10000x[validation], data_10000y[validation])[1])\n",
    "\n",
    "# 12. 교차검증결과 predict - 검증셋들\n",
    "    # predict 값\n",
    "    k_pr = model1.predict(x_bc8_3[validation])\n",
    "    \n",
    "    # 테스트 predict 결과들 비교 (평가지표 보기위함)\n",
    "    pred = np.round(np.array(k_pr).flatten().tolist())\n",
    "    y_test = np.array(y_bc8_3[validation]).flatten().tolist()\n",
    "    \n",
    "# 13. 평가지표들 출력\n",
    "    ## 평가지표들\n",
    "    k_accuracy = float(accuracy_score(y_test, pred))\n",
    "    k_recall =  float(recall_score(y_test, pred))\n",
    "    k_precision = float(precision_score(y_test, pred))\n",
    "    k_f1_score = float(f1_score(y_test, pred))\n",
    "    #k_cm = float(confusion_matrix(y_test, pred))\n",
    "    \n",
    "    print('accuracy_score', k_accuracy)\n",
    "    print('recall_score', k_recall)\n",
    "    print('precision_score', k_precision)\n",
    "    print('f1_score', k_f1_score)\n",
    "    #print('\\nconfusion_matrix\\n', k_cm)\n",
    "\n",
    "    accuracy.append(k_accuracy)\n",
    "    recall.append(k_recall)\n",
    "    precision.append(k_precision)\n",
    "    f1score.append(k_f1_score)\n",
    "    #cm.append(k_cm)\n",
    "#    print('roc_curve 면적', roc_auc_score(y_test, pred))\n",
    "\n",
    "# 최종 결과지표\n",
    "print('\\nK-fold cross validation Accuracy: {}'.format(accuracy))\n",
    "print('\\nK-fold cross validation Recall: {}'.format(recall))\n",
    "print('\\nK-fold cross validation Precision: {}'.format(precision))\n",
    "print('\\nK-fold cross validation F1-Score: {}'.format(f1score))\n",
    "#print('\\nK-fold cross validation ConfusionMatrix: {}'.format(cm))"
   ]
  },
  {
   "cell_type": "markdown",
   "metadata": {},
   "source": [
    "## (9) 평가지표"
   ]
  },
  {
   "cell_type": "code",
   "execution_count": 12,
   "metadata": {},
   "outputs": [
    {
     "name": "stdout",
     "output_type": "stream",
     "text": [
      "10-Fold Cross_validation. Accuracy : 0.999923769699356\n",
      "10-Fold Cross_validation. Recall : 0.9972065537763137\n",
      "10-Fold Cross_validation. Precision : 0.9974490337327818\n",
      "10-Fold Cross_validation. F1-Score : 0.997324558966899\n"
     ]
    }
   ],
   "source": [
    "print('10-Fold Cross_validation. Accuracy :', np.mean(accuracy))\n",
    "print('10-Fold Cross_validation. Recall :', np.mean(recall))\n",
    "print('10-Fold Cross_validation. Precision :', np.mean(precision))\n",
    "print('10-Fold Cross_validation. F1-Score :', np.mean(f1score))"
   ]
  },
  {
   "cell_type": "code",
   "execution_count": 13,
   "metadata": {},
   "outputs": [
    {
     "name": "stdout",
     "output_type": "stream",
     "text": [
      "save 완료\n"
     ]
    }
   ],
   "source": [
    "model1.save('gcc8_bin_core_s48_h72_o3.h5')\n",
    "print('save 완료')"
   ]
  }
 ],
 "metadata": {
  "kernelspec": {
   "display_name": "Python 3",
   "language": "python",
   "name": "python3"
  },
  "language_info": {
   "codemirror_mode": {
    "name": "ipython",
    "version": 3
   },
   "file_extension": ".py",
   "mimetype": "text/x-python",
   "name": "python",
   "nbconvert_exporter": "python",
   "pygments_lexer": "ipython3",
   "version": "3.7.9"
  }
 },
 "nbformat": 4,
 "nbformat_minor": 4
}
