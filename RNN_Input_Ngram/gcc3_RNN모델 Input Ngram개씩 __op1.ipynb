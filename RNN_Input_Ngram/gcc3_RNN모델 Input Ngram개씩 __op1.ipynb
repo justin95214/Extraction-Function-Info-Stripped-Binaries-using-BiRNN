{
 "cells": [
  {
   "cell_type": "code",
   "execution_count": 1,
   "metadata": {},
   "outputs": [
    {
     "name": "stdout",
     "output_type": "stream",
     "text": [
      "(1805387, 2)\n",
      "reset_index 완료\n",
      "input data shape\n"
     ]
    },
    {
     "data": {
      "text/html": [
       "<div>\n",
       "<style scoped>\n",
       "    .dataframe tbody tr th:only-of-type {\n",
       "        vertical-align: middle;\n",
       "    }\n",
       "\n",
       "    .dataframe tbody tr th {\n",
       "        vertical-align: top;\n",
       "    }\n",
       "\n",
       "    .dataframe thead th {\n",
       "        text-align: right;\n",
       "    }\n",
       "</style>\n",
       "<table border=\"1\" class=\"dataframe\">\n",
       "  <thead>\n",
       "    <tr style=\"text-align: right;\">\n",
       "      <th></th>\n",
       "      <th>bin</th>\n",
       "      <th>label</th>\n",
       "    </tr>\n",
       "  </thead>\n",
       "  <tbody>\n",
       "    <tr>\n",
       "      <th>0</th>\n",
       "      <td>55</td>\n",
       "      <td>1</td>\n",
       "    </tr>\n",
       "    <tr>\n",
       "      <th>1</th>\n",
       "      <td>89</td>\n",
       "      <td>0</td>\n",
       "    </tr>\n",
       "    <tr>\n",
       "      <th>2</th>\n",
       "      <td>e5</td>\n",
       "      <td>0</td>\n",
       "    </tr>\n",
       "    <tr>\n",
       "      <th>3</th>\n",
       "      <td>57</td>\n",
       "      <td>0</td>\n",
       "    </tr>\n",
       "    <tr>\n",
       "      <th>4</th>\n",
       "      <td>56</td>\n",
       "      <td>0</td>\n",
       "    </tr>\n",
       "  </tbody>\n",
       "</table>\n",
       "</div>"
      ],
      "text/plain": [
       "  bin  label\n",
       "0  55      1\n",
       "1  89      0\n",
       "2  e5      0\n",
       "3  57      0\n",
       "4  56      0"
      ]
     },
     "execution_count": 1,
     "metadata": {},
     "output_type": "execute_result"
    }
   ],
   "source": [
    "# (1) 데이터로드\n",
    "import pandas as pd\n",
    "import numpy as np\n",
    "\n",
    "import warnings\n",
    "warnings.filterwarnings(action='ignore')\n",
    "\n",
    "# 여러개 쳐도 나오게\n",
    "from IPython.core.interactiveshell import InteractiveShell\n",
    "InteractiveShell.ast_node_interactivity = \"all\"\n",
    "\n",
    "# 파일읽기\n",
    "gcc3_1_32 = pd.read_csv(\"../data/binutils_gcc3~9_op0~4_csv/\"+'gcc3'+\"_1_32.csv\", index_col=0)\n",
    "\n",
    "# 형태 출력\n",
    "print(gcc3_1_32.shape)\n",
    "\n",
    "# reset_index (hex processing 하면서 값이 빠졌으니까 + n_gram 에서 index를 다루기 때문에)\n",
    "gcc3_1_32.reset_index(inplace=True, drop=True)\n",
    "\n",
    "print('reset_index 완료')\n",
    "print('input data shape')\n",
    "gcc3_1_32.head()"
   ]
  },
  {
   "cell_type": "code",
   "execution_count": 2,
   "metadata": {},
   "outputs": [
    {
     "name": "stdout",
     "output_type": "stream",
     "text": [
      "256\n",
      "원핫인코딩완료\n",
      "(1805387, 257)\n",
      "0    1801378\n",
      "1       4009\n",
      "Name: label, dtype: int64\n"
     ]
    }
   ],
   "source": [
    "# (2-1) 데이터체크 - hex(16진수)가 256 label을 가져야 dummies 변환 가능 \n",
    "\n",
    "# 16진수 256개 종류가 있어서 pd.get_dummies 사용 가능.\n",
    "print(len(gcc3_1_32['bin'].unique()))\n",
    "\n",
    "# (3) get_dummies 변환 \n",
    "\n",
    "# 훈련데이터 (gcc 최적화버전 0, 1, 2, 3 one hot encoding)\n",
    "gcc3_1_32_onehot = pd.get_dummies(gcc3_1_32)\n",
    "\n",
    "\n",
    "print('원핫인코딩완료')\n",
    "\n",
    "print(gcc3_1_32_onehot.shape)\n",
    "\n",
    "# (4) 데이터 체크 - 1, 0 비율 ==> 1이 함수의 갯수를 뜻함\n",
    "# 정답 데이터 1, 0 비율 확인  ==> 1이 함수의 갯수를 뜻함\n",
    "print(gcc3_1_32_onehot['label'].value_counts())"
   ]
  },
  {
   "cell_type": "code",
   "execution_count": 7,
   "metadata": {},
   "outputs": [
    {
     "name": "stdout",
     "output_type": "stream",
     "text": [
      "28063\n",
      "28063\n",
      "28063\n",
      "0\n",
      "28063\n",
      "gcc3_1_32 28063\n"
     ]
    }
   ],
   "source": [
    "# (5-1) gcc3 6gram\n",
    "######################## \n",
    "idx3 = gcc3_1_32_onehot[gcc3_1_32_onehot['label']==1].index  # 407, 474 ...\n",
    "ls3 = list(idx3)\n",
    "\n",
    "# 최종 뽑을 행에 대한 index\n",
    "ls_idx3 = [] \n",
    "left_idx3, right_idx3 = 0, 7 # 3개씩\n",
    "\n",
    "# 6gram\n",
    "for k in range(left_idx3, right_idx3):\n",
    "    ls_idx3.extend(list(idx3 + k)) # index 형이라서 가능\n",
    "print(len(ls_idx3))\n",
    "\n",
    "#ls_idx3 = list(set(ls_idx3)) \n",
    "print(len(ls_idx3))\n",
    "\n",
    "ls_idx3.sort() # 인덱스 정렬\n",
    "\n",
    "# 1차 index 해당범위 초과한 것들 없애기\n",
    "ls_idx3 = list(filter(lambda x: x<len(gcc3_1_32_onehot), ls_idx3))\n",
    "print(len(ls_idx3))\n",
    "\n",
    "# 2차 남은 index들 중 right_idx3 나눈 나머지 없애기\n",
    "sub = len(ls_idx3)%(right_idx3)\n",
    "print(sub)\n",
    "\n",
    "ls_idx3 = ls_idx3[:len(ls_idx3)-sub]\n",
    "print(len(ls_idx3))\n",
    "\n",
    "print('gcc3_1_32', len(ls_idx3))\n",
    "\n",
    "# loc 로 수정필요\n",
    "gcc3_1_32_onehot_3gram = gcc3_1_32_onehot.loc[ls_idx3,:].copy()"
   ]
  },
  {
   "cell_type": "code",
   "execution_count": 8,
   "metadata": {},
   "outputs": [
    {
     "name": "stdout",
     "output_type": "stream",
     "text": [
      "(28063, 256) (28063,)\n"
     ]
    }
   ],
   "source": [
    "# 훈련 데이터, 훈련 라벨\n",
    "x_gcc3_1_32_3 = gcc3_1_32_onehot_3gram.iloc[:,1:].to_numpy()\n",
    "y_gcc3_1_32_3 = gcc3_1_32_onehot_3gram['label'].to_numpy()\n",
    "print(x_gcc3_1_32_3.shape, y_gcc3_1_32_3.shape)\n"
   ]
  },
  {
   "cell_type": "code",
   "execution_count": 9,
   "metadata": {},
   "outputs": [
    {
     "name": "stdout",
     "output_type": "stream",
     "text": [
      "(4009, 7, 256) (4009, 7, 1)\n"
     ]
    }
   ],
   "source": [
    "x_gcc3_1_32_3 = x_gcc3_1_32_3.reshape(-1, right_idx3, x_gcc3_1_32_3.shape[1])\n",
    "y_gcc3_1_32_3 = y_gcc3_1_32_3.reshape(-1, right_idx3, 1)\n",
    "\n",
    "print(x_gcc3_1_32_3.shape, y_gcc3_1_32_3.shape)"
   ]
  },
  {
   "cell_type": "markdown",
   "metadata": {},
   "source": [
    "## 모델"
   ]
  },
  {
   "cell_type": "code",
   "execution_count": 10,
   "metadata": {},
   "outputs": [
    {
     "name": "stderr",
     "output_type": "stream",
     "text": [
      "Using TensorFlow backend.\n"
     ]
    },
    {
     "name": "stdout",
     "output_type": "stream",
     "text": [
      "WARNING:tensorflow:From c:\\users\\urse\\anaconda3\\envs\\untitled\\lib\\site-packages\\tensorflow_core\\python\\ops\\resource_variable_ops.py:1630: calling BaseResourceVariable.__init__ (from tensorflow.python.ops.resource_variable_ops) with constraint is deprecated and will be removed in a future version.\n",
      "Instructions for updating:\n",
      "If using Keras pass *_constraint arguments to layers.\n",
      "Model: \"model_1\"\n",
      "_________________________________________________________________\n",
      "Layer (type)                 Output Shape              Param #   \n",
      "=================================================================\n",
      "input_1 (InputLayer)         (None, 7, 256)            0         \n",
      "_________________________________________________________________\n",
      "bidirectional_1 (Bidirection (None, 7, 32)             34944     \n",
      "_________________________________________________________________\n",
      "time_distributed_1 (TimeDist (None, 7, 1)              33        \n",
      "=================================================================\n",
      "Total params: 34,977\n",
      "Trainable params: 34,977\n",
      "Non-trainable params: 0\n",
      "_________________________________________________________________\n"
     ]
    }
   ],
   "source": [
    "# (10) 양방향 LSTM 모델링 작업\n",
    "from keras.models import Model, Sequential\n",
    "from keras.layers import SimpleRNN, Input, Dense, LSTM\n",
    "from keras.layers import Bidirectional, TimeDistributed\n",
    "\n",
    "# 학습\n",
    "from keras.callbacks import EarlyStopping\n",
    "early_stopping = EarlyStopping(patience = 3) # 조기종료 콜백함수 정의\n",
    "\n",
    "xInput = Input(batch_shape=(None,right_idx3, 256)) \n",
    "xBiLstm = Bidirectional(LSTM(16, return_sequences=True), merge_mode = 'concat')(xInput)\n",
    "xOutput = TimeDistributed(Dense(1, activation ='sigmoid'))(xBiLstm) # 각 스텝에서 cost가 전송되고, 오류가 다음 step으로 전송됨.\n",
    "\n",
    "model1 = Model(xInput, xOutput)\n",
    "model1.compile(loss='binary_crossentropy', optimizer='rmsprop', metrics=['accuracy'])\n",
    "model1.summary()"
   ]
  },
  {
   "cell_type": "code",
   "execution_count": 11,
   "metadata": {
    "scrolled": false
   },
   "outputs": [
    {
     "name": "stdout",
     "output_type": "stream",
     "text": [
      "======Training stage======\n",
      "WARNING:tensorflow:From c:\\users\\urse\\anaconda3\\envs\\untitled\\lib\\site-packages\\tensorflow_core\\python\\ops\\math_grad.py:1424: where (from tensorflow.python.ops.array_ops) is deprecated and will be removed in a future version.\n",
      "Instructions for updating:\n",
      "Use tf.where in 2.0, which has the same broadcast rule as np.where\n",
      "WARNING:tensorflow:From c:\\users\\urse\\anaconda3\\envs\\untitled\\lib\\site-packages\\keras\\backend\\tensorflow_backend.py:422: The name tf.global_variables is deprecated. Please use tf.compat.v1.global_variables instead.\n",
      "\n",
      "Epoch 1/10\n",
      "3608/3608 [==============================] - 1s 287us/step - loss: 0.3716 - accuracy: 0.8607\n",
      "Epoch 2/10\n",
      "3608/3608 [==============================] - 1s 176us/step - loss: 0.0672 - accuracy: 0.9962\n",
      "Epoch 3/10\n",
      "3608/3608 [==============================] - 1s 173us/step - loss: 0.0187 - accuracy: 0.9970\n",
      "Epoch 4/10\n",
      "3608/3608 [==============================] - 1s 181us/step - loss: 0.0127 - accuracy: 0.9970\n",
      "Epoch 5/10\n",
      "3608/3608 [==============================] - 1s 202us/step - loss: 0.0092 - accuracy: 0.9971\n",
      "Epoch 6/10\n",
      "3608/3608 [==============================] - 1s 180us/step - loss: 0.0063 - accuracy: 0.9973\n",
      "Epoch 7/10\n",
      "3608/3608 [==============================] - 1s 200us/step - loss: 0.0041 - accuracy: 0.9977\n",
      "Epoch 8/10\n",
      "3608/3608 [==============================] - 1s 177us/step - loss: 0.0026 - accuracy: 0.9993\n",
      "Epoch 9/10\n",
      "3608/3608 [==============================] - 1s 176us/step - loss: 0.0018 - accuracy: 0.9998\n",
      "Epoch 10/10\n",
      "3608/3608 [==============================] - 1s 191us/step - loss: 0.0012 - accuracy: 0.9999\n"
     ]
    },
    {
     "data": {
      "text/plain": [
       "<keras.callbacks.callbacks.History at 0x295d6696d88>"
      ]
     },
     "execution_count": 11,
     "metadata": {},
     "output_type": "execute_result"
    },
    {
     "name": "stdout",
     "output_type": "stream",
     "text": [
      "accuracy_score 1.0\n",
      "recall_score 1.0\n",
      "precision_score 1.0\n",
      "f1_score 1.0\n",
      "======Training stage======\n",
      "Epoch 1/10\n",
      "3608/3608 [==============================] - 1s 191us/step - loss: 9.3068e-04 - accuracy: 0.9999\n",
      "Epoch 2/10\n",
      "3608/3608 [==============================] - 1s 192us/step - loss: 6.6041e-04 - accuracy: 0.9999\n",
      "Epoch 3/10\n",
      "3608/3608 [==============================] - 1s 192us/step - loss: 4.8808e-04 - accuracy: 0.9999\n",
      "Epoch 4/10\n",
      "3608/3608 [==============================] - 1s 182us/step - loss: 3.7741e-04 - accuracy: 0.9999\n",
      "Epoch 5/10\n",
      "3608/3608 [==============================] - 1s 177us/step - loss: 2.8768e-04 - accuracy: 0.9999\n",
      "Epoch 6/10\n",
      "3608/3608 [==============================] - 1s 194us/step - loss: 2.3561e-04 - accuracy: 1.0000\n",
      "Epoch 7/10\n",
      "3608/3608 [==============================] - 1s 210us/step - loss: 1.7051e-04 - accuracy: 1.0000\n",
      "Epoch 8/10\n",
      "3608/3608 [==============================] - 1s 217us/step - loss: 1.4593e-04 - accuracy: 1.0000\n",
      "Epoch 9/10\n",
      "3608/3608 [==============================] - 1s 223us/step - loss: 1.1084e-04 - accuracy: 1.0000\n",
      "Epoch 10/10\n",
      "3608/3608 [==============================] - 1s 209us/step - loss: 8.3648e-05 - accuracy: 1.0000\n"
     ]
    },
    {
     "data": {
      "text/plain": [
       "<keras.callbacks.callbacks.History at 0x295d8f98dc8>"
      ]
     },
     "execution_count": 11,
     "metadata": {},
     "output_type": "execute_result"
    },
    {
     "name": "stdout",
     "output_type": "stream",
     "text": [
      "accuracy_score 1.0\n",
      "recall_score 1.0\n",
      "precision_score 1.0\n",
      "f1_score 1.0\n",
      "======Training stage======\n",
      "Epoch 1/10\n",
      "3608/3608 [==============================] - 1s 234us/step - loss: 5.9194e-05 - accuracy: 1.0000\n",
      "Epoch 2/10\n",
      "3608/3608 [==============================] - 1s 285us/step - loss: 5.7242e-05 - accuracy: 1.0000\n",
      "Epoch 3/10\n",
      "3608/3608 [==============================] - 1s 223us/step - loss: 4.0053e-05 - accuracy: 1.0000\n",
      "Epoch 4/10\n",
      "3608/3608 [==============================] - 1s 212us/step - loss: 3.3477e-05 - accuracy: 1.0000\n",
      "Epoch 5/10\n",
      "3608/3608 [==============================] - 1s 349us/step - loss: 2.6275e-05 - accuracy: 1.0000\n",
      "Epoch 6/10\n",
      "3608/3608 [==============================] - 1s 373us/step - loss: 2.3057e-05 - accuracy: 1.0000\n",
      "Epoch 7/10\n",
      "3608/3608 [==============================] - 1s 356us/step - loss: 1.8291e-05 - accuracy: 1.0000\n",
      "Epoch 8/10\n",
      "3608/3608 [==============================] - 1s 308us/step - loss: 1.4083e-05 - accuracy: 1.0000\n",
      "Epoch 9/10\n",
      "3608/3608 [==============================] - 1s 393us/step - loss: 1.4483e-05 - accuracy: 1.0000\n",
      "Epoch 10/10\n",
      "3608/3608 [==============================] - 1s 327us/step - loss: 1.0752e-05 - accuracy: 1.0000\n"
     ]
    },
    {
     "data": {
      "text/plain": [
       "<keras.callbacks.callbacks.History at 0x295d7fbccc8>"
      ]
     },
     "execution_count": 11,
     "metadata": {},
     "output_type": "execute_result"
    },
    {
     "name": "stdout",
     "output_type": "stream",
     "text": [
      "accuracy_score 1.0\n",
      "recall_score 1.0\n",
      "precision_score 1.0\n",
      "f1_score 1.0\n",
      "======Training stage======\n",
      "Epoch 1/10\n",
      "3608/3608 [==============================] - 1s 294us/step - loss: 1.0255e-05 - accuracy: 1.0000\n",
      "Epoch 2/10\n",
      "3608/3608 [==============================] - 1s 401us/step - loss: 7.6091e-06 - accuracy: 1.0000\n",
      "Epoch 3/10\n",
      "3608/3608 [==============================] - 1s 320us/step - loss: 7.0386e-06 - accuracy: 1.0000\n",
      "Epoch 4/10\n",
      "3608/3608 [==============================] - 1s 279us/step - loss: 5.6276e-06 - accuracy: 1.0000\n",
      "Epoch 5/10\n",
      "3608/3608 [==============================] - 1s 274us/step - loss: 4.5834e-06 - accuracy: 1.0000\n",
      "Epoch 6/10\n",
      "3608/3608 [==============================] - 1s 351us/step - loss: 4.2812e-06 - accuracy: 1.0000\n",
      "Epoch 7/10\n",
      "3608/3608 [==============================] - 1s 349us/step - loss: 3.2735e-06 - accuracy: 1.0000\n",
      "Epoch 8/10\n",
      "3608/3608 [==============================] - 2s 429us/step - loss: 3.6059e-06 - accuracy: 1.0000\n",
      "Epoch 9/10\n",
      "3608/3608 [==============================] - 1s 359us/step - loss: 2.5941e-06 - accuracy: 1.0000\n",
      "Epoch 10/10\n",
      "3608/3608 [==============================] - 1s 348us/step - loss: 2.2097e-06 - accuracy: 1.0000\n"
     ]
    },
    {
     "data": {
      "text/plain": [
       "<keras.callbacks.callbacks.History at 0x295d8f9c048>"
      ]
     },
     "execution_count": 11,
     "metadata": {},
     "output_type": "execute_result"
    },
    {
     "name": "stdout",
     "output_type": "stream",
     "text": [
      "accuracy_score 1.0\n",
      "recall_score 1.0\n",
      "precision_score 1.0\n",
      "f1_score 1.0\n",
      "======Training stage======\n",
      "Epoch 1/10\n",
      "3608/3608 [==============================] - 1s 363us/step - loss: 2.0792e-06 - accuracy: 1.0000\n",
      "Epoch 2/10\n",
      "3608/3608 [==============================] - 1s 370us/step - loss: 1.7713e-06 - accuracy: 1.0000\n",
      "Epoch 3/10\n",
      "3608/3608 [==============================] - 1s 371us/step - loss: 1.3939e-06 - accuracy: 1.0000\n",
      "Epoch 4/10\n",
      "3608/3608 [==============================] - 1s 303us/step - loss: 1.2179e-06 - accuracy: 1.0000\n",
      "Epoch 5/10\n",
      "3608/3608 [==============================] - 1s 322us/step - loss: 8.9032e-07 - accuracy: 1.00000s - loss: 1.388\n",
      "Epoch 6/10\n",
      "3608/3608 [==============================] - 1s 366us/step - loss: 8.3126e-07 - accuracy: 1.0000\n",
      "Epoch 7/10\n",
      "3608/3608 [==============================] - 1s 335us/step - loss: 6.8238e-07 - accuracy: 1.0000\n",
      "Epoch 8/10\n",
      "3608/3608 [==============================] - 1s 299us/step - loss: 5.3774e-07 - accuracy: 1.0000\n",
      "Epoch 9/10\n",
      "3608/3608 [==============================] - 1s 248us/step - loss: 5.2624e-07 - accuracy: 1.0000\n",
      "Epoch 10/10\n",
      "3608/3608 [==============================] - 1s 226us/step - loss: 4.2878e-07 - accuracy: 1.0000\n"
     ]
    },
    {
     "data": {
      "text/plain": [
       "<keras.callbacks.callbacks.History at 0x295d8fa0e48>"
      ]
     },
     "execution_count": 11,
     "metadata": {},
     "output_type": "execute_result"
    },
    {
     "name": "stdout",
     "output_type": "stream",
     "text": [
      "accuracy_score 1.0\n",
      "recall_score 1.0\n",
      "precision_score 1.0\n",
      "f1_score 1.0\n",
      "======Training stage======\n",
      "Epoch 1/10\n",
      "3608/3608 [==============================] - 1s 222us/step - loss: 3.3261e-07 - accuracy: 1.0000\n",
      "Epoch 2/10\n",
      "3608/3608 [==============================] - 1s 301us/step - loss: 2.7529e-07 - accuracy: 1.0000\n",
      "Epoch 3/10\n",
      "3608/3608 [==============================] - 1s 249us/step - loss: 2.3421e-07 - accuracy: 1.0000\n",
      "Epoch 4/10\n",
      "3608/3608 [==============================] - 1s 223us/step - loss: 2.0335e-07 - accuracy: 1.0000\n",
      "Epoch 5/10\n",
      "3608/3608 [==============================] - 1s 198us/step - loss: 1.7221e-07 - accuracy: 1.0000\n",
      "Epoch 6/10\n",
      "3608/3608 [==============================] - 1s 220us/step - loss: 1.4974e-07 - accuracy: 1.0000\n",
      "Epoch 7/10\n",
      "3608/3608 [==============================] - 1s 260us/step - loss: 1.3209e-07 - accuracy: 1.0000\n",
      "Epoch 8/10\n",
      "3608/3608 [==============================] - 1s 218us/step - loss: 1.1438e-07 - accuracy: 1.0000\n",
      "Epoch 9/10\n",
      "3608/3608 [==============================] - 1s 206us/step - loss: 1.0100e-07 - accuracy: 1.0000\n",
      "Epoch 10/10\n",
      "3608/3608 [==============================] - 1s 216us/step - loss: 9.0640e-08 - accuracy: 1.0000\n"
     ]
    },
    {
     "data": {
      "text/plain": [
       "<keras.callbacks.callbacks.History at 0x295d8fa6b08>"
      ]
     },
     "execution_count": 11,
     "metadata": {},
     "output_type": "execute_result"
    },
    {
     "name": "stdout",
     "output_type": "stream",
     "text": [
      "accuracy_score 1.0\n",
      "recall_score 1.0\n",
      "precision_score 1.0\n",
      "f1_score 1.0\n",
      "======Training stage======\n",
      "Epoch 1/10\n",
      "3608/3608 [==============================] - 1s 207us/step - loss: 8.7144e-08 - accuracy: 1.0000\n",
      "Epoch 2/10\n",
      "3608/3608 [==============================] - 1s 266us/step - loss: 7.4653e-08 - accuracy: 1.0000\n",
      "Epoch 3/10\n",
      "3608/3608 [==============================] - 1s 274us/step - loss: 6.6688e-08 - accuracy: 1.00000s - loss: 7.2061e-08 - accuracy: \n",
      "Epoch 4/10\n",
      "3608/3608 [==============================] - 1s 235us/step - loss: 5.5479e-08 - accuracy: 1.0000\n",
      "Epoch 5/10\n",
      "3608/3608 [==============================] - 1s 191us/step - loss: 5.6266e-08 - accuracy: 1.0000\n",
      "Epoch 6/10\n",
      "3608/3608 [==============================] - 1s 185us/step - loss: 5.1639e-08 - accuracy: 1.0000\n",
      "Epoch 7/10\n",
      "3608/3608 [==============================] - 1s 195us/step - loss: 4.6794e-08 - accuracy: 1.0000\n",
      "Epoch 8/10\n",
      "3608/3608 [==============================] - 1s 232us/step - loss: 4.2215e-08 - accuracy: 1.0000\n",
      "Epoch 9/10\n",
      "3608/3608 [==============================] - 1s 225us/step - loss: 3.8911e-08 - accuracy: 1.0000\n",
      "Epoch 10/10\n",
      "3608/3608 [==============================] - 1s 248us/step - loss: 3.5894e-08 - accuracy: 1.0000\n"
     ]
    },
    {
     "data": {
      "text/plain": [
       "<keras.callbacks.callbacks.History at 0x295d8fa69c8>"
      ]
     },
     "execution_count": 11,
     "metadata": {},
     "output_type": "execute_result"
    },
    {
     "name": "stdout",
     "output_type": "stream",
     "text": [
      "accuracy_score 1.0\n",
      "recall_score 1.0\n",
      "precision_score 1.0\n",
      "f1_score 1.0\n",
      "======Training stage======\n",
      "Epoch 1/10\n",
      "3608/3608 [==============================] - 1s 242us/step - loss: 3.7735e-08 - accuracy: 1.0000\n",
      "Epoch 2/10\n",
      "3608/3608 [==============================] - 1s 226us/step - loss: 3.5191e-08 - accuracy: 1.00000s - loss: 3.7075e-08 - accuracy: 1.00\n",
      "Epoch 3/10\n",
      "3608/3608 [==============================] - 1s 221us/step - loss: 3.2798e-08 - accuracy: 1.0000\n",
      "Epoch 4/10\n",
      "3608/3608 [==============================] - 1s 202us/step - loss: 2.9539e-08 - accuracy: 1.0000\n",
      "Epoch 5/10\n",
      "3608/3608 [==============================] - 1s 187us/step - loss: 2.8356e-08 - accuracy: 1.0000\n",
      "Epoch 6/10\n",
      "3608/3608 [==============================] - 1s 192us/step - loss: 2.5977e-08 - accuracy: 1.0000\n",
      "Epoch 7/10\n",
      "3608/3608 [==============================] - 1s 189us/step - loss: 2.4200e-08 - accuracy: 1.0000\n",
      "Epoch 8/10\n",
      "3608/3608 [==============================] - 1s 182us/step - loss: 2.2593e-08 - accuracy: 1.00000s - loss: 4.505\n",
      "Epoch 9/10\n",
      "3608/3608 [==============================] - 1s 172us/step - loss: 2.1252e-08 - accuracy: 1.0000\n",
      "Epoch 10/10\n",
      "3608/3608 [==============================] - 1s 194us/step - loss: 1.9914e-08 - accuracy: 1.0000\n"
     ]
    },
    {
     "data": {
      "text/plain": [
       "<keras.callbacks.callbacks.History at 0x295d8fb5748>"
      ]
     },
     "execution_count": 11,
     "metadata": {},
     "output_type": "execute_result"
    },
    {
     "name": "stdout",
     "output_type": "stream",
     "text": [
      "accuracy_score 1.0\n",
      "recall_score 1.0\n",
      "precision_score 1.0\n",
      "f1_score 1.0\n",
      "======Training stage======\n",
      "Epoch 1/10\n",
      "3608/3608 [==============================] - 1s 191us/step - loss: 1.5130e-08 - accuracy: 1.0000\n",
      "Epoch 2/10\n",
      "3608/3608 [==============================] - 1s 186us/step - loss: 1.4144e-08 - accuracy: 1.0000\n",
      "Epoch 3/10\n",
      "3608/3608 [==============================] - 1s 205us/step - loss: 1.3698e-08 - accuracy: 1.0000\n",
      "Epoch 4/10\n",
      "3608/3608 [==============================] - 1s 174us/step - loss: 1.3110e-08 - accuracy: 1.0000\n",
      "Epoch 5/10\n",
      "3608/3608 [==============================] - 1s 169us/step - loss: 1.2435e-08 - accuracy: 1.0000\n",
      "Epoch 6/10\n",
      "3608/3608 [==============================] - 1s 164us/step - loss: 1.2001e-08 - accuracy: 1.0000\n",
      "Epoch 7/10\n",
      "3608/3608 [==============================] - 1s 183us/step - loss: 1.1451e-08 - accuracy: 1.0000\n",
      "Epoch 8/10\n",
      "3608/3608 [==============================] - 1s 185us/step - loss: 1.1102e-08 - accuracy: 1.0000\n",
      "Epoch 9/10\n",
      "3608/3608 [==============================] - 1s 204us/step - loss: 1.0641e-08 - accuracy: 1.0000\n",
      "Epoch 10/10\n",
      "3608/3608 [==============================] - 1s 165us/step - loss: 1.0351e-08 - accuracy: 1.0000\n"
     ]
    },
    {
     "data": {
      "text/plain": [
       "<keras.callbacks.callbacks.History at 0x295d8fb52c8>"
      ]
     },
     "execution_count": 11,
     "metadata": {},
     "output_type": "execute_result"
    },
    {
     "name": "stdout",
     "output_type": "stream",
     "text": [
      "accuracy_score 1.0\n",
      "recall_score 1.0\n",
      "precision_score 1.0\n",
      "f1_score 1.0\n",
      "======Training stage======\n",
      "Epoch 1/10\n",
      "3609/3609 [==============================] - 1s 202us/step - loss: 1.2127e-08 - accuracy: 1.0000\n",
      "Epoch 2/10\n",
      "3609/3609 [==============================] - 1s 165us/step - loss: 1.1931e-08 - accuracy: 1.0000\n",
      "Epoch 3/10\n",
      "3609/3609 [==============================] - 1s 164us/step - loss: 1.1497e-08 - accuracy: 1.0000\n",
      "Epoch 4/10\n",
      "3609/3609 [==============================] - 1s 196us/step - loss: 1.0957e-08 - accuracy: 1.0000\n",
      "Epoch 5/10\n",
      "3609/3609 [==============================] - 1s 222us/step - loss: 1.0502e-08 - accuracy: 1.0000\n",
      "Epoch 6/10\n",
      "3609/3609 [==============================] - 1s 194us/step - loss: 1.0178e-08 - accuracy: 1.0000\n",
      "Epoch 7/10\n",
      "3609/3609 [==============================] - 1s 189us/step - loss: 9.8410e-09 - accuracy: 1.0000\n",
      "Epoch 8/10\n",
      "3609/3609 [==============================] - 1s 199us/step - loss: 9.3384e-09 - accuracy: 1.0000\n",
      "Epoch 9/10\n",
      "3609/3609 [==============================] - 1s 191us/step - loss: 9.2346e-09 - accuracy: 1.0000\n",
      "Epoch 10/10\n",
      "3609/3609 [==============================] - 1s 181us/step - loss: 8.8689e-09 - accuracy: 1.0000\n"
     ]
    },
    {
     "data": {
      "text/plain": [
       "<keras.callbacks.callbacks.History at 0x295d8fb5188>"
      ]
     },
     "execution_count": 11,
     "metadata": {},
     "output_type": "execute_result"
    },
    {
     "name": "stdout",
     "output_type": "stream",
     "text": [
      "accuracy_score 1.0\n",
      "recall_score 1.0\n",
      "precision_score 1.0\n",
      "f1_score 1.0\n",
      "\n",
      "K-fold cross validation Accuracy: [1.0, 1.0, 1.0, 1.0, 1.0, 1.0, 1.0, 1.0, 1.0, 1.0]\n",
      "\n",
      "K-fold cross validation Recall: [1.0, 1.0, 1.0, 1.0, 1.0, 1.0, 1.0, 1.0, 1.0, 1.0]\n",
      "\n",
      "K-fold cross validation Precision: [1.0, 1.0, 1.0, 1.0, 1.0, 1.0, 1.0, 1.0, 1.0, 1.0]\n",
      "\n",
      "K-fold cross validation F1-Score: [1.0, 1.0, 1.0, 1.0, 1.0, 1.0, 1.0, 1.0, 1.0, 1.0]\n"
     ]
    }
   ],
   "source": [
    "########## 3gram\n",
    "\n",
    "# 교차검증 kfold\n",
    "from sklearn.model_selection import KFold\n",
    "\n",
    "# Accuracy, Precision, Recall, F1-Score\n",
    "from sklearn.metrics import accuracy_score, recall_score, precision_score, f1_score\n",
    "\n",
    "# Confusion Matrix, ROC Curve\n",
    "from sklearn.metrics import confusion_matrix, roc_auc_score\n",
    "\n",
    "# 최종 평가지표들 평균용\n",
    "accuracy, recall, precision, f1score, cm = [], [], [], [], []\n",
    "\n",
    "# 11. 교차검증 kfold - k.split - 10회 / K-Fold 객체 생성\n",
    "# kf = KFold(n_splits=10, shuffle=False, random_state=None) # KFold non shuffle 버전\n",
    "kf = KFold(n_splits=10, shuffle=False, random_state=None) # KFold non shuffle 버전\n",
    "\n",
    "for train, validation in kf.split(x_gcc3_1_32_3, y_gcc3_1_32_3):\n",
    "    print('======Training stage======')\n",
    "    model1.fit(x_gcc3_1_32_3[train],\n",
    "               y_gcc3_1_32_3[train],\n",
    "               epochs = 10,\n",
    "               batch_size = 32,\n",
    "               callbacks=[early_stopping])\n",
    "    #k_accuracy = '%.4f' %(model1.evaluate(data_10000x[validation], data_10000y[validation])[1])\n",
    "\n",
    "# 12. 교차검증결과 predict - 검증셋들\n",
    "    # predict 값\n",
    "    k_pr = model1.predict(x_gcc3_1_32_3[validation])\n",
    "    \n",
    "    # 테스트 predict 결과들 비교 (평가지표 보기위함)\n",
    "    pred = np.round(np.array(k_pr).flatten().tolist())\n",
    "    y_test = np.array(y_gcc3_1_32_3[validation]).flatten().tolist()\n",
    "    \n",
    "# 13. 평가지표들 출력\n",
    "    ## 평가지표들\n",
    "    k_accuracy = float(accuracy_score(y_test, pred))\n",
    "    k_recall =  float(recall_score(y_test, pred))\n",
    "    k_precision = float(precision_score(y_test, pred))\n",
    "    k_f1_score = float(f1_score(y_test, pred))\n",
    "    #k_cm = float(confusion_matrix(y_test, pred))\n",
    "    \n",
    "    print('accuracy_score', k_accuracy)\n",
    "    print('recall_score', k_recall)\n",
    "    print('precision_score', k_precision)\n",
    "    print('f1_score', k_f1_score)\n",
    "    #print('\\nconfusion_matrix\\n', k_cm)\n",
    "\n",
    "    accuracy.append(k_accuracy)\n",
    "    recall.append(k_recall)\n",
    "    precision.append(k_precision)\n",
    "    f1score.append(k_f1_score)\n",
    "    #cm.append(k_cm)\n",
    "#    print('roc_curve 면적', roc_auc_score(y_test, pred))\n",
    "\n",
    "# 14. 최종 결과지표\n",
    "print('\\nK-fold cross validation Accuracy: {}'.format(accuracy))\n",
    "print('\\nK-fold cross validation Recall: {}'.format(recall))\n",
    "print('\\nK-fold cross validation Precision: {}'.format(precision))\n",
    "print('\\nK-fold cross validation F1-Score: {}'.format(f1score))\n",
    "#print('\\nK-fold cross validation ConfusionMatrix: {}'.format(cm))"
   ]
  },
  {
   "cell_type": "code",
   "execution_count": 12,
   "metadata": {},
   "outputs": [
    {
     "name": "stdout",
     "output_type": "stream",
     "text": [
      "10-Fold Cross_validation. Accuracy : 1.0\n",
      "10-Fold Cross_validation. Recall : 1.0\n",
      "10-Fold Cross_validation. Precision : 1.0\n",
      "10-Fold Cross_validation. F1-Score : 1.0\n"
     ]
    }
   ],
   "source": [
    "# 4gram 평가지표\n",
    "print('10-Fold Cross_validation. Accuracy :', np.mean(accuracy))\n",
    "print('10-Fold Cross_validation. Recall :', np.mean(recall))\n",
    "print('10-Fold Cross_validation. Precision :', np.mean(precision))\n",
    "print('10-Fold Cross_validation. F1-Score :', np.mean(f1score))"
   ]
  }
 ],
 "metadata": {
  "kernelspec": {
   "display_name": "Python 3",
   "language": "python",
   "name": "python3"
  },
  "language_info": {
   "codemirror_mode": {
    "name": "ipython",
    "version": 3
   },
   "file_extension": ".py",
   "mimetype": "text/x-python",
   "name": "python",
   "nbconvert_exporter": "python",
   "pygments_lexer": "ipython3",
   "version": "3.7.5"
  }
 },
 "nbformat": 4,
 "nbformat_minor": 4
}
