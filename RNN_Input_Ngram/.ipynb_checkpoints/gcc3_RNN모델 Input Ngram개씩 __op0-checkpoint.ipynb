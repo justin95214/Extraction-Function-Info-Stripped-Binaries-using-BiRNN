{
 "cells": [
  {
   "cell_type": "code",
   "execution_count": 1,
   "metadata": {},
   "outputs": [
    {
     "name": "stdout",
     "output_type": "stream",
     "text": [
      "(2129359, 2)\n",
      "reset_index 완료\n",
      "input data shape\n"
     ]
    },
    {
     "data": {
      "text/html": [
       "<div>\n",
       "<style scoped>\n",
       "    .dataframe tbody tr th:only-of-type {\n",
       "        vertical-align: middle;\n",
       "    }\n",
       "\n",
       "    .dataframe tbody tr th {\n",
       "        vertical-align: top;\n",
       "    }\n",
       "\n",
       "    .dataframe thead th {\n",
       "        text-align: right;\n",
       "    }\n",
       "</style>\n",
       "<table border=\"1\" class=\"dataframe\">\n",
       "  <thead>\n",
       "    <tr style=\"text-align: right;\">\n",
       "      <th></th>\n",
       "      <th>bin</th>\n",
       "      <th>label</th>\n",
       "    </tr>\n",
       "  </thead>\n",
       "  <tbody>\n",
       "    <tr>\n",
       "      <th>0</th>\n",
       "      <td>55</td>\n",
       "      <td>1</td>\n",
       "    </tr>\n",
       "    <tr>\n",
       "      <th>1</th>\n",
       "      <td>89</td>\n",
       "      <td>0</td>\n",
       "    </tr>\n",
       "    <tr>\n",
       "      <th>2</th>\n",
       "      <td>e5</td>\n",
       "      <td>0</td>\n",
       "    </tr>\n",
       "    <tr>\n",
       "      <th>3</th>\n",
       "      <td>83</td>\n",
       "      <td>0</td>\n",
       "    </tr>\n",
       "    <tr>\n",
       "      <th>4</th>\n",
       "      <td>ec</td>\n",
       "      <td>0</td>\n",
       "    </tr>\n",
       "  </tbody>\n",
       "</table>\n",
       "</div>"
      ],
      "text/plain": [
       "  bin  label\n",
       "0  55      1\n",
       "1  89      0\n",
       "2  e5      0\n",
       "3  83      0\n",
       "4  ec      0"
      ]
     },
     "execution_count": 1,
     "metadata": {},
     "output_type": "execute_result"
    }
   ],
   "source": [
    "# (1) 데이터로드\n",
    "import pandas as pd\n",
    "import numpy as np\n",
    "\n",
    "import warnings\n",
    "warnings.filterwarnings(action='ignore')\n",
    "\n",
    "# 여러개 쳐도 나오게\n",
    "from IPython.core.interactiveshell import InteractiveShell\n",
    "InteractiveShell.ast_node_interactivity = \"all\"\n",
    "\n",
    "# 파일읽기\n",
    "gcc3_0_32 = pd.read_csv(\"../data/binutils_gcc3~9_op0~4_csv/\"+'gcc3'+\"_0_32.csv\", index_col=0)\n",
    "\n",
    "# 형태 출력\n",
    "print(gcc3_0_32.shape)\n",
    "\n",
    "# reset_index (hex processing 하면서 값이 빠졌으니까 + n_gram 에서 index를 다루기 때문에)\n",
    "gcc3_0_32.reset_index(inplace=True, drop=True)\n",
    "\n",
    "print('reset_index 완료')\n",
    "print('input data shape')\n",
    "gcc3_0_32.head()"
   ]
  },
  {
   "cell_type": "code",
   "execution_count": 3,
   "metadata": {},
   "outputs": [
    {
     "name": "stdout",
     "output_type": "stream",
     "text": [
      "256\n",
      "원핫인코딩완료\n",
      "(2129359, 257)\n",
      "0    2125055\n",
      "1       4304\n",
      "Name: label, dtype: int64\n"
     ]
    }
   ],
   "source": [
    "# (2-1) 데이터체크 - hex(16진수)가 256 label을 가져야 dummies 변환 가능 \n",
    "\n",
    "# 16진수 256개 종류가 있어서 pd.get_dummies 사용 가능.\n",
    "print(len(gcc3_0_32['bin'].unique()))\n",
    "\n",
    "# (3) get_dummies 변환 \n",
    "\n",
    "# 훈련데이터 (gcc 최적화버전 0, 1, 2, 3 one hot encoding)\n",
    "gcc3_0_32_onehot = pd.get_dummies(gcc3_0_32)\n",
    "\n",
    "\n",
    "print('원핫인코딩완료')\n",
    "\n",
    "print(gcc3_0_32_onehot.shape)\n",
    "\n",
    "# (4) 데이터 체크 - 1, 0 비율 ==> 1이 함수의 갯수를 뜻함\n",
    "# 정답 데이터 1, 0 비율 확인  ==> 1이 함수의 갯수를 뜻함\n",
    "print(gcc3_0_32_onehot['label'].value_counts())"
   ]
  },
  {
   "cell_type": "code",
   "execution_count": 5,
   "metadata": {},
   "outputs": [
    {
     "name": "stdout",
     "output_type": "stream",
     "text": [
      "30128\n",
      "30128\n",
      "30128\n",
      "0\n",
      "30128\n",
      "gcc3_0_32 30128\n"
     ]
    }
   ],
   "source": [
    "# (5-1) gcc3 6gram\n",
    "######################## \n",
    "idx3 = gcc3_0_32_onehot[gcc3_0_32_onehot['label']==1].index  # 407, 474 ...\n",
    "ls3 = list(idx3)\n",
    "\n",
    "# 최종 뽑을 행에 대한 index\n",
    "ls_idx3 = [] \n",
    "left_idx3, right_idx3 = 0, 7 # 3개씩\n",
    "\n",
    "# 6gram\n",
    "for k in range(left_idx3, right_idx3):\n",
    "    ls_idx3.extend(list(idx3 + k)) # index 형이라서 가능\n",
    "print(len(ls_idx3))\n",
    "\n",
    "#ls_idx3 = list(set(ls_idx3)) \n",
    "print(len(ls_idx3))\n",
    "\n",
    "ls_idx3.sort() # 인덱스 정렬\n",
    "\n",
    "# 1차 index 해당범위 초과한 것들 없애기\n",
    "ls_idx3 = list(filter(lambda x: x<len(gcc3_0_32_onehot), ls_idx3))\n",
    "print(len(ls_idx3))\n",
    "\n",
    "# 2차 남은 index들 중 right_idx3 나눈 나머지 없애기\n",
    "sub = len(ls_idx3)%(right_idx3)\n",
    "print(sub)\n",
    "\n",
    "ls_idx3 = ls_idx3[:len(ls_idx3)-sub]\n",
    "print(len(ls_idx3))\n",
    "\n",
    "print('gcc3_0_32', len(ls_idx3))\n",
    "\n",
    "# loc 로 수정필요\n",
    "gcc3_0_32_onehot_3gram = gcc3_0_32_onehot.loc[ls_idx3,:].copy()"
   ]
  },
  {
   "cell_type": "code",
   "execution_count": 6,
   "metadata": {},
   "outputs": [
    {
     "name": "stdout",
     "output_type": "stream",
     "text": [
      "(30128, 256) (30128,)\n"
     ]
    }
   ],
   "source": [
    "# 훈련 데이터, 훈련 라벨\n",
    "x_gcc3_0_32_3 = gcc3_0_32_onehot_3gram.iloc[:,1:].to_numpy()\n",
    "y_gcc3_0_32_3 = gcc3_0_32_onehot_3gram['label'].to_numpy()\n",
    "print(x_gcc3_0_32_3.shape, y_gcc3_0_32_3.shape)\n"
   ]
  },
  {
   "cell_type": "code",
   "execution_count": 7,
   "metadata": {},
   "outputs": [
    {
     "name": "stdout",
     "output_type": "stream",
     "text": [
      "(4304, 7, 256) (4304, 7, 1)\n"
     ]
    }
   ],
   "source": [
    "x_gcc3_0_32_3 = x_gcc3_0_32_3.reshape(-1, right_idx3, x_gcc3_0_32_3.shape[1])\n",
    "y_gcc3_0_32_3 = y_gcc3_0_32_3.reshape(-1, right_idx3, 1)\n",
    "\n",
    "print(x_gcc3_0_32_3.shape, y_gcc3_0_32_3.shape)"
   ]
  },
  {
   "cell_type": "markdown",
   "metadata": {},
   "source": [
    "## 모델"
   ]
  },
  {
   "cell_type": "code",
   "execution_count": 14,
   "metadata": {},
   "outputs": [
    {
     "name": "stdout",
     "output_type": "stream",
     "text": [
      "Model: \"model_3\"\n",
      "_________________________________________________________________\n",
      "Layer (type)                 Output Shape              Param #   \n",
      "=================================================================\n",
      "input_3 (InputLayer)         (None, 7, 256)            0         \n",
      "_________________________________________________________________\n",
      "bidirectional_3 (Bidirection (None, 7, 32)             34944     \n",
      "_________________________________________________________________\n",
      "time_distributed_3 (TimeDist (None, 7, 1)              33        \n",
      "=================================================================\n",
      "Total params: 34,977\n",
      "Trainable params: 34,977\n",
      "Non-trainable params: 0\n",
      "_________________________________________________________________\n"
     ]
    }
   ],
   "source": [
    "# (10) 양방향 LSTM 모델링 작업\n",
    "from keras.models import Model, Sequential\n",
    "from keras.layers import SimpleRNN, Input, Dense, LSTM\n",
    "from keras.layers import Bidirectional, TimeDistributed\n",
    "\n",
    "# 학습\n",
    "from keras.callbacks import EarlyStopping\n",
    "early_stopping = EarlyStopping(patience = 3) # 조기종료 콜백함수 정의\n",
    "\n",
    "xInput = Input(batch_shape=(None,right_idx3, 256)) \n",
    "xBiLstm = Bidirectional(LSTM(16, return_sequences=True), merge_mode = 'concat')(xInput)\n",
    "xOutput = TimeDistributed(Dense(1, activation ='sigmoid'))(xBiLstm) # 각 스텝에서 cost가 전송되고, 오류가 다음 step으로 전송됨.\n",
    "\n",
    "model1 = Model(xInput, xOutput)\n",
    "model1.compile(loss='binary_crossentropy', optimizer='rmsprop', metrics=['accuracy'])\n",
    "model1.summary()"
   ]
  },
  {
   "cell_type": "code",
   "execution_count": 15,
   "metadata": {
    "scrolled": false
   },
   "outputs": [
    {
     "name": "stdout",
     "output_type": "stream",
     "text": [
      "======Training stage======\n",
      "Epoch 1/10\n",
      "3873/3873 [==============================] - 1s 294us/step - loss: 0.3486 - accuracy: 0.8718\n",
      "Epoch 2/10\n",
      "3873/3873 [==============================] - 1s 170us/step - loss: 0.0620 - accuracy: 0.9965\n",
      "Epoch 3/10\n",
      "3873/3873 [==============================] - 1s 185us/step - loss: 0.0177 - accuracy: 0.9971\n",
      "Epoch 4/10\n",
      "3873/3873 [==============================] - 1s 189us/step - loss: 0.0116 - accuracy: 0.9972\n",
      "Epoch 5/10\n",
      "3873/3873 [==============================] - 1s 193us/step - loss: 0.0083 - accuracy: 0.9972\n",
      "Epoch 6/10\n",
      "3873/3873 [==============================] - 1s 229us/step - loss: 0.0055 - accuracy: 0.9975\n",
      "Epoch 7/10\n",
      "3873/3873 [==============================] - 1s 202us/step - loss: 0.0036 - accuracy: 0.9983\n",
      "Epoch 8/10\n",
      "3873/3873 [==============================] - 1s 364us/step - loss: 0.0024 - accuracy: 0.9993\n",
      "Epoch 9/10\n",
      "3873/3873 [==============================] - 1s 234us/step - loss: 0.0016 - accuracy: 0.9999\n",
      "Epoch 10/10\n",
      "3873/3873 [==============================] - 1s 200us/step - loss: 0.0012 - accuracy: 0.9999\n"
     ]
    },
    {
     "data": {
      "text/plain": [
       "<keras.callbacks.callbacks.History at 0x1fe5ae04d48>"
      ]
     },
     "execution_count": 15,
     "metadata": {},
     "output_type": "execute_result"
    },
    {
     "name": "stdout",
     "output_type": "stream",
     "text": [
      "accuracy_score 1.0\n",
      "recall_score 1.0\n",
      "precision_score 1.0\n",
      "f1_score 1.0\n",
      "======Training stage======\n",
      "Epoch 1/10\n",
      "3873/3873 [==============================] - 1s 176us/step - loss: 8.0561e-04 - accuracy: 0.9999\n",
      "Epoch 2/10\n",
      "3873/3873 [==============================] - 1s 173us/step - loss: 6.3318e-04 - accuracy: 0.9999\n",
      "Epoch 3/10\n",
      "3873/3873 [==============================] - 1s 181us/step - loss: 5.2139e-04 - accuracy: 0.9999\n",
      "Epoch 4/10\n",
      "3873/3873 [==============================] - 1s 191us/step - loss: 4.6688e-04 - accuracy: 0.9999\n",
      "Epoch 5/10\n",
      "3873/3873 [==============================] - 1s 192us/step - loss: 3.8387e-04 - accuracy: 0.9999\n",
      "Epoch 6/10\n",
      "3873/3873 [==============================] - 1s 190us/step - loss: 3.6242e-04 - accuracy: 0.9999\n",
      "Epoch 7/10\n",
      "3873/3873 [==============================] - 1s 184us/step - loss: 2.9521e-04 - accuracy: 0.9999\n",
      "Epoch 8/10\n",
      "3873/3873 [==============================] - 1s 190us/step - loss: 2.5276e-04 - accuracy: 0.9999\n",
      "Epoch 9/10\n",
      "3873/3873 [==============================] - 1s 191us/step - loss: 2.5286e-04 - accuracy: 0.9999\n",
      "Epoch 10/10\n",
      "3873/3873 [==============================] - 1s 199us/step - loss: 2.0144e-04 - accuracy: 0.9999\n"
     ]
    },
    {
     "data": {
      "text/plain": [
       "<keras.callbacks.callbacks.History at 0x1fe5b0cdac8>"
      ]
     },
     "execution_count": 15,
     "metadata": {},
     "output_type": "execute_result"
    },
    {
     "name": "stdout",
     "output_type": "stream",
     "text": [
      "accuracy_score 1.0\n",
      "recall_score 1.0\n",
      "precision_score 1.0\n",
      "f1_score 1.0\n",
      "======Training stage======\n",
      "Epoch 1/10\n",
      "3873/3873 [==============================] - 1s 189us/step - loss: 1.6557e-04 - accuracy: 0.9999\n",
      "Epoch 2/10\n",
      "3873/3873 [==============================] - 1s 178us/step - loss: 1.8117e-04 - accuracy: 0.9999\n",
      "Epoch 3/10\n",
      "3873/3873 [==============================] - 1s 178us/step - loss: 1.2576e-04 - accuracy: 0.9999\n",
      "Epoch 4/10\n",
      "3873/3873 [==============================] - 1s 184us/step - loss: 8.0472e-05 - accuracy: 1.0000\n",
      "Epoch 5/10\n",
      "3873/3873 [==============================] - 1s 187us/step - loss: 5.3870e-05 - accuracy: 1.0000\n",
      "Epoch 6/10\n",
      "3873/3873 [==============================] - 1s 179us/step - loss: 2.9705e-05 - accuracy: 1.0000\n",
      "Epoch 7/10\n",
      "3873/3873 [==============================] - 1s 178us/step - loss: 1.6508e-05 - accuracy: 1.0000\n",
      "Epoch 8/10\n",
      "3873/3873 [==============================] - 1s 167us/step - loss: 1.2059e-05 - accuracy: 1.0000\n",
      "Epoch 9/10\n",
      "3873/3873 [==============================] - 1s 176us/step - loss: 1.1183e-05 - accuracy: 1.0000\n",
      "Epoch 10/10\n",
      "3873/3873 [==============================] - 1s 172us/step - loss: 4.8188e-06 - accuracy: 1.0000\n"
     ]
    },
    {
     "data": {
      "text/plain": [
       "<keras.callbacks.callbacks.History at 0x1fe5b0cdcc8>"
      ]
     },
     "execution_count": 15,
     "metadata": {},
     "output_type": "execute_result"
    },
    {
     "name": "stdout",
     "output_type": "stream",
     "text": [
      "accuracy_score 1.0\n",
      "recall_score 1.0\n",
      "precision_score 1.0\n",
      "f1_score 1.0\n",
      "======Training stage======\n",
      "Epoch 1/10\n",
      "3873/3873 [==============================] - 1s 164us/step - loss: 2.8903e-06 - accuracy: 1.0000\n",
      "Epoch 2/10\n",
      "3873/3873 [==============================] - 1s 178us/step - loss: 1.6864e-06 - accuracy: 1.0000\n",
      "Epoch 3/10\n",
      "3873/3873 [==============================] - 1s 170us/step - loss: 9.4973e-07 - accuracy: 1.0000\n",
      "Epoch 4/10\n",
      "3873/3873 [==============================] - 1s 206us/step - loss: 5.7996e-07 - accuracy: 1.0000\n",
      "Epoch 5/10\n",
      "3873/3873 [==============================] - 1s 224us/step - loss: 3.5693e-07 - accuracy: 1.0000\n",
      "Epoch 6/10\n",
      "3873/3873 [==============================] - 1s 214us/step - loss: 2.3489e-07 - accuracy: 1.0000\n",
      "Epoch 7/10\n",
      "3873/3873 [==============================] - 1s 208us/step - loss: 1.6082e-07 - accuracy: 1.0000\n",
      "Epoch 8/10\n",
      "3873/3873 [==============================] - 1s 215us/step - loss: 1.1520e-07 - accuracy: 1.0000\n",
      "Epoch 9/10\n",
      "3873/3873 [==============================] - 1s 209us/step - loss: 8.7093e-08 - accuracy: 1.00000s - loss: 7.543\n",
      "Epoch 10/10\n",
      "3873/3873 [==============================] - 1s 201us/step - loss: 6.7991e-08 - accuracy: 1.0000\n"
     ]
    },
    {
     "data": {
      "text/plain": [
       "<keras.callbacks.callbacks.History at 0x1fe60913448>"
      ]
     },
     "execution_count": 15,
     "metadata": {},
     "output_type": "execute_result"
    },
    {
     "name": "stdout",
     "output_type": "stream",
     "text": [
      "accuracy_score 1.0\n",
      "recall_score 1.0\n",
      "precision_score 1.0\n",
      "f1_score 1.0\n",
      "======Training stage======\n",
      "Epoch 1/10\n",
      "3874/3874 [==============================] - 1s 210us/step - loss: 5.4757e-08 - accuracy: 1.0000\n",
      "Epoch 2/10\n",
      "3874/3874 [==============================] - 1s 219us/step - loss: 4.5332e-08 - accuracy: 1.0000\n",
      "Epoch 3/10\n",
      "3874/3874 [==============================] - 1s 212us/step - loss: 3.8291e-08 - accuracy: 1.0000\n",
      "Epoch 4/10\n",
      "3874/3874 [==============================] - 1s 234us/step - loss: 3.2965e-08 - accuracy: 1.0000\n",
      "Epoch 5/10\n",
      "3874/3874 [==============================] - 1s 246us/step - loss: 2.8763e-08 - accuracy: 1.0000\n",
      "Epoch 6/10\n",
      "3874/3874 [==============================] - 1s 241us/step - loss: 2.5472e-08 - accuracy: 1.0000\n",
      "Epoch 7/10\n",
      "3874/3874 [==============================] - 1s 230us/step - loss: 2.2791e-08 - accuracy: 1.0000\n",
      "Epoch 8/10\n",
      "3874/3874 [==============================] - 1s 234us/step - loss: 2.0569e-08 - accuracy: 1.0000\n",
      "Epoch 9/10\n",
      "3874/3874 [==============================] - 1s 230us/step - loss: 1.8595e-08 - accuracy: 1.0000\n",
      "Epoch 10/10\n",
      "3874/3874 [==============================] - 1s 216us/step - loss: 1.7010e-08 - accuracy: 1.0000\n"
     ]
    },
    {
     "data": {
      "text/plain": [
       "<keras.callbacks.callbacks.History at 0x1fe5b0dd3c8>"
      ]
     },
     "execution_count": 15,
     "metadata": {},
     "output_type": "execute_result"
    },
    {
     "name": "stdout",
     "output_type": "stream",
     "text": [
      "accuracy_score 1.0\n",
      "recall_score 1.0\n",
      "precision_score 1.0\n",
      "f1_score 1.0\n",
      "======Training stage======\n",
      "Epoch 1/10\n",
      "3874/3874 [==============================] - 1s 231us/step - loss: 1.3476e-08 - accuracy: 1.0000\n",
      "Epoch 2/10\n",
      "3874/3874 [==============================] - 1s 216us/step - loss: 1.2482e-08 - accuracy: 1.0000\n",
      "Epoch 3/10\n",
      "3874/3874 [==============================] - 1s 212us/step - loss: 1.1753e-08 - accuracy: 1.0000\n",
      "Epoch 4/10\n",
      "3874/3874 [==============================] - 1s 211us/step - loss: 1.1065e-08 - accuracy: 1.0000\n",
      "Epoch 5/10\n",
      "3874/3874 [==============================] - 1s 235us/step - loss: 1.0366e-08 - accuracy: 1.0000\n",
      "Epoch 6/10\n",
      "3874/3874 [==============================] - 1s 244us/step - loss: 9.8426e-09 - accuracy: 1.0000\n",
      "Epoch 7/10\n",
      "3874/3874 [==============================] - 1s 331us/step - loss: 9.3304e-09 - accuracy: 1.0000\n",
      "Epoch 8/10\n",
      "3874/3874 [==============================] - 1s 217us/step - loss: 8.8974e-09 - accuracy: 1.0000\n",
      "Epoch 9/10\n",
      "3874/3874 [==============================] - 1s 221us/step - loss: 8.4336e-09 - accuracy: 1.0000\n",
      "Epoch 10/10\n",
      "3874/3874 [==============================] - 1s 173us/step - loss: 8.0446e-09 - accuracy: 1.0000\n"
     ]
    },
    {
     "data": {
      "text/plain": [
       "<keras.callbacks.callbacks.History at 0x1fe5b0dd688>"
      ]
     },
     "execution_count": 15,
     "metadata": {},
     "output_type": "execute_result"
    },
    {
     "name": "stdout",
     "output_type": "stream",
     "text": [
      "accuracy_score 1.0\n",
      "recall_score 1.0\n",
      "precision_score 1.0\n",
      "f1_score 1.0\n",
      "======Training stage======\n",
      "Epoch 1/10\n",
      "3874/3874 [==============================] - 1s 167us/step - loss: 9.3326e-09 - accuracy: 1.0000\n",
      "Epoch 2/10\n",
      "3874/3874 [==============================] - 1s 207us/step - loss: 8.8403e-09 - accuracy: 1.0000\n",
      "Epoch 3/10\n",
      "3874/3874 [==============================] - 1s 225us/step - loss: 8.3853e-09 - accuracy: 1.00000s - loss: 3\n",
      "Epoch 4/10\n",
      "3874/3874 [==============================] - 1s 174us/step - loss: 7.8929e-09 - accuracy: 1.0000\n",
      "Epoch 5/10\n",
      "3874/3874 [==============================] - 1s 210us/step - loss: 7.5501e-09 - accuracy: 1.0000\n",
      "Epoch 6/10\n",
      "3874/3874 [==============================] - 1s 209us/step - loss: 7.2511e-09 - accuracy: 1.0000\n",
      "Epoch 7/10\n",
      "3874/3874 [==============================] - 1s 198us/step - loss: 6.9280e-09 - accuracy: 1.0000\n",
      "Epoch 8/10\n",
      "3874/3874 [==============================] - 1s 177us/step - loss: 6.6291e-09 - accuracy: 1.0000\n",
      "Epoch 9/10\n",
      "3874/3874 [==============================] - 1s 173us/step - loss: 6.3763e-09 - accuracy: 1.0000\n",
      "Epoch 10/10\n",
      "3874/3874 [==============================] - 1s 174us/step - loss: 6.1060e-09 - accuracy: 1.0000\n"
     ]
    },
    {
     "data": {
      "text/plain": [
       "<keras.callbacks.callbacks.History at 0x1fe5b0ddf48>"
      ]
     },
     "execution_count": 15,
     "metadata": {},
     "output_type": "execute_result"
    },
    {
     "name": "stdout",
     "output_type": "stream",
     "text": [
      "accuracy_score 1.0\n",
      "recall_score 1.0\n",
      "precision_score 1.0\n",
      "f1_score 1.0\n",
      "======Training stage======\n",
      "Epoch 1/10\n",
      "3874/3874 [==============================] - 1s 175us/step - loss: 5.1872e-09 - accuracy: 1.0000\n",
      "Epoch 2/10\n",
      "3874/3874 [==============================] - 1s 187us/step - loss: 5.0158e-09 - accuracy: 1.0000\n",
      "Epoch 3/10\n",
      "3874/3874 [==============================] - 1s 167us/step - loss: 4.8729e-09 - accuracy: 1.0000\n",
      "Epoch 4/10\n",
      "3874/3874 [==============================] - 1s 165us/step - loss: 4.7169e-09 - accuracy: 1.0000\n",
      "Epoch 5/10\n",
      "3874/3874 [==============================] - 1s 168us/step - loss: 4.5982e-09 - accuracy: 1.0000\n",
      "Epoch 6/10\n",
      "3874/3874 [==============================] - 1s 207us/step - loss: 4.4333e-09 - accuracy: 1.0000\n",
      "Epoch 7/10\n",
      "3874/3874 [==============================] - 1s 166us/step - loss: 4.3124e-09 - accuracy: 1.0000\n",
      "Epoch 8/10\n",
      "3874/3874 [==============================] - 1s 185us/step - loss: 4.2113e-09 - accuracy: 1.0000\n",
      "Epoch 9/10\n",
      "3874/3874 [==============================] - 1s 168us/step - loss: 4.0707e-09 - accuracy: 1.0000\n",
      "Epoch 10/10\n",
      "3874/3874 [==============================] - 1s 181us/step - loss: 3.9564e-09 - accuracy: 1.0000\n"
     ]
    },
    {
     "data": {
      "text/plain": [
       "<keras.callbacks.callbacks.History at 0x1fe5b0dd708>"
      ]
     },
     "execution_count": 15,
     "metadata": {},
     "output_type": "execute_result"
    },
    {
     "name": "stdout",
     "output_type": "stream",
     "text": [
      "accuracy_score 1.0\n",
      "recall_score 1.0\n",
      "precision_score 1.0\n",
      "f1_score 1.0\n",
      "======Training stage======\n",
      "Epoch 1/10\n",
      "3874/3874 [==============================] - 1s 192us/step - loss: 4.1784e-09 - accuracy: 1.0000\n",
      "Epoch 2/10\n",
      "3874/3874 [==============================] - 1s 234us/step - loss: 4.0597e-09 - accuracy: 1.0000\n",
      "Epoch 3/10\n",
      "3874/3874 [==============================] - 1s 217us/step - loss: 3.9476e-09 - accuracy: 1.0000\n",
      "Epoch 4/10\n",
      "3874/3874 [==============================] - 1s 206us/step - loss: 3.8421e-09 - accuracy: 1.0000\n",
      "Epoch 5/10\n",
      "3874/3874 [==============================] - 1s 201us/step - loss: 3.7497e-09 - accuracy: 1.0000\n",
      "Epoch 6/10\n",
      "3874/3874 [==============================] - 1s 227us/step - loss: 3.6640e-09 - accuracy: 1.0000\n",
      "Epoch 7/10\n",
      "3874/3874 [==============================] - 1s 299us/step - loss: 3.5783e-09 - accuracy: 1.0000\n",
      "Epoch 8/10\n",
      "3874/3874 [==============================] - 1s 207us/step - loss: 3.5058e-09 - accuracy: 1.0000\n",
      "Epoch 9/10\n",
      "3874/3874 [==============================] - 1s 206us/step - loss: 3.3959e-09 - accuracy: 1.0000\n",
      "Epoch 10/10\n",
      "3874/3874 [==============================] - 1s 207us/step - loss: 3.3167e-09 - accuracy: 1.0000\n"
     ]
    },
    {
     "data": {
      "text/plain": [
       "<keras.callbacks.callbacks.History at 0x1fe5b0cddc8>"
      ]
     },
     "execution_count": 15,
     "metadata": {},
     "output_type": "execute_result"
    },
    {
     "name": "stdout",
     "output_type": "stream",
     "text": [
      "accuracy_score 1.0\n",
      "recall_score 1.0\n",
      "precision_score 1.0\n",
      "f1_score 1.0\n",
      "======Training stage======\n",
      "Epoch 1/10\n",
      "3874/3874 [==============================] - 1s 220us/step - loss: 3.0464e-09 - accuracy: 1.0000\n",
      "Epoch 2/10\n",
      "3874/3874 [==============================] - 1s 206us/step - loss: 2.9475e-09 - accuracy: 1.0000\n",
      "Epoch 3/10\n",
      "3874/3874 [==============================] - 1s 206us/step - loss: 2.9057e-09 - accuracy: 1.0000\n",
      "Epoch 4/10\n",
      "3874/3874 [==============================] - 1s 185us/step - loss: 2.8244e-09 - accuracy: 1.0000\n",
      "Epoch 5/10\n",
      "3874/3874 [==============================] - 1s 180us/step - loss: 2.7673e-09 - accuracy: 1.0000\n",
      "Epoch 6/10\n",
      "3874/3874 [==============================] - 1s 198us/step - loss: 2.7189e-09 - accuracy: 1.0000\n",
      "Epoch 7/10\n",
      "3874/3874 [==============================] - 1s 172us/step - loss: 2.6991e-09 - accuracy: 1.0000\n",
      "Epoch 8/10\n",
      "3874/3874 [==============================] - 1s 176us/step - loss: 2.6068e-09 - accuracy: 1.0000\n",
      "Epoch 9/10\n",
      "3874/3874 [==============================] - 1s 245us/step - loss: 2.6002e-09 - accuracy: 1.0000\n",
      "Epoch 10/10\n",
      "3874/3874 [==============================] - 1s 254us/step - loss: 2.5167e-09 - accuracy: 1.0000\n"
     ]
    },
    {
     "data": {
      "text/plain": [
       "<keras.callbacks.callbacks.History at 0x1fe60913c48>"
      ]
     },
     "execution_count": 15,
     "metadata": {},
     "output_type": "execute_result"
    },
    {
     "name": "stdout",
     "output_type": "stream",
     "text": [
      "accuracy_score 1.0\n",
      "recall_score 1.0\n",
      "precision_score 1.0\n",
      "f1_score 1.0\n",
      "\n",
      "K-fold cross validation Accuracy: [1.0, 1.0, 1.0, 1.0, 1.0, 1.0, 1.0, 1.0, 1.0, 1.0]\n",
      "\n",
      "K-fold cross validation Recall: [1.0, 1.0, 1.0, 1.0, 1.0, 1.0, 1.0, 1.0, 1.0, 1.0]\n",
      "\n",
      "K-fold cross validation Precision: [1.0, 1.0, 1.0, 1.0, 1.0, 1.0, 1.0, 1.0, 1.0, 1.0]\n",
      "\n",
      "K-fold cross validation F1-Score: [1.0, 1.0, 1.0, 1.0, 1.0, 1.0, 1.0, 1.0, 1.0, 1.0]\n"
     ]
    }
   ],
   "source": [
    "########## 3gram\n",
    "\n",
    "# 교차검증 kfold\n",
    "from sklearn.model_selection import KFold\n",
    "\n",
    "# Accuracy, Precision, Recall, F1-Score\n",
    "from sklearn.metrics import accuracy_score, recall_score, precision_score, f1_score\n",
    "\n",
    "# Confusion Matrix, ROC Curve\n",
    "from sklearn.metrics import confusion_matrix, roc_auc_score\n",
    "\n",
    "# 최종 평가지표들 평균용\n",
    "accuracy, recall, precision, f1score, cm = [], [], [], [], []\n",
    "\n",
    "# 11. 교차검증 kfold - k.split - 10회 / K-Fold 객체 생성\n",
    "# kf = KFold(n_splits=10, shuffle=False, random_state=None) # KFold non shuffle 버전\n",
    "kf = KFold(n_splits=10, shuffle=True, random_state=None) # KFold non shuffle 버전\n",
    "\n",
    "for train, validation in kf.split(x_gcc3_0_32_3, y_gcc3_0_32_3):\n",
    "    print('======Training stage======')\n",
    "    model1.fit(x_gcc3_0_32_3[train],\n",
    "               y_gcc3_0_32_3[train],\n",
    "               epochs = 10,\n",
    "               batch_size = 32,\n",
    "               callbacks=[early_stopping])\n",
    "    #k_accuracy = '%.4f' %(model1.evaluate(data_10000x[validation], data_10000y[validation])[1])\n",
    "\n",
    "# 12. 교차검증결과 predict - 검증셋들\n",
    "    # predict 값\n",
    "    k_pr = model1.predict(x_gcc3_0_32_3[validation])\n",
    "    \n",
    "    # 테스트 predict 결과들 비교 (평가지표 보기위함)\n",
    "    pred = np.round(np.array(k_pr).flatten().tolist())\n",
    "    y_test = np.array(y_gcc3_0_32_3[validation]).flatten().tolist()\n",
    "    \n",
    "# 13. 평가지표들 출력\n",
    "    ## 평가지표들\n",
    "    k_accuracy = float(accuracy_score(y_test, pred))\n",
    "    k_recall =  float(recall_score(y_test, pred))\n",
    "    k_precision = float(precision_score(y_test, pred))\n",
    "    k_f1_score = float(f1_score(y_test, pred))\n",
    "    #k_cm = float(confusion_matrix(y_test, pred))\n",
    "    \n",
    "    print('accuracy_score', k_accuracy)\n",
    "    print('recall_score', k_recall)\n",
    "    print('precision_score', k_precision)\n",
    "    print('f1_score', k_f1_score)\n",
    "    #print('\\nconfusion_matrix\\n', k_cm)\n",
    "\n",
    "    accuracy.append(k_accuracy)\n",
    "    recall.append(k_recall)\n",
    "    precision.append(k_precision)\n",
    "    f1score.append(k_f1_score)\n",
    "    #cm.append(k_cm)\n",
    "#    print('roc_curve 면적', roc_auc_score(y_test, pred))\n",
    "\n",
    "# 14. 최종 결과지표\n",
    "print('\\nK-fold cross validation Accuracy: {}'.format(accuracy))\n",
    "print('\\nK-fold cross validation Recall: {}'.format(recall))\n",
    "print('\\nK-fold cross validation Precision: {}'.format(precision))\n",
    "print('\\nK-fold cross validation F1-Score: {}'.format(f1score))\n",
    "#print('\\nK-fold cross validation ConfusionMatrix: {}'.format(cm))"
   ]
  },
  {
   "cell_type": "code",
   "execution_count": 16,
   "metadata": {},
   "outputs": [
    {
     "name": "stdout",
     "output_type": "stream",
     "text": [
      "10-Fold Cross_validation. Accuracy : 1.0\n",
      "10-Fold Cross_validation. Recall : 1.0\n",
      "10-Fold Cross_validation. Precision : 1.0\n",
      "10-Fold Cross_validation. F1-Score : 1.0\n"
     ]
    }
   ],
   "source": [
    "# 4gram 평가지표\n",
    "print('10-Fold Cross_validation. Accuracy :', np.mean(accuracy))\n",
    "print('10-Fold Cross_validation. Recall :', np.mean(recall))\n",
    "print('10-Fold Cross_validation. Precision :', np.mean(precision))\n",
    "print('10-Fold Cross_validation. F1-Score :', np.mean(f1score))"
   ]
  }
 ],
 "metadata": {
  "kernelspec": {
   "display_name": "Python 3",
   "language": "python",
   "name": "python3"
  },
  "language_info": {
   "codemirror_mode": {
    "name": "ipython",
    "version": 3
   },
   "file_extension": ".py",
   "mimetype": "text/x-python",
   "name": "python",
   "nbconvert_exporter": "python",
   "pygments_lexer": "ipython3",
   "version": "3.7.5"
  }
 },
 "nbformat": 4,
 "nbformat_minor": 4
}
