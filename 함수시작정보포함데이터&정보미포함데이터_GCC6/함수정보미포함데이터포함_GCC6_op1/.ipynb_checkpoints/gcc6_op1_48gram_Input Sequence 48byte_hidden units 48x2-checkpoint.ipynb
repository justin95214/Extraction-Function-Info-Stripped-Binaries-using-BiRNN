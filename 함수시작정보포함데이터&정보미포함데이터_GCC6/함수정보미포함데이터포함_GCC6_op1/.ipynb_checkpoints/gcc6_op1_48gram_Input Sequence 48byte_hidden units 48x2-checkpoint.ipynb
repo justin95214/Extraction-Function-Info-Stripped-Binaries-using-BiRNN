{
 "cells": [
  {
   "cell_type": "markdown",
   "metadata": {},
   "source": [
    "## RNN 모델 N-Byte 방식 (함수정보 포함 vs 미포함 => 1:1 비율)\n",
    "\n",
    "## (1) 데이터로드"
   ]
  },
  {
   "cell_type": "code",
   "execution_count": 1,
   "metadata": {},
   "outputs": [
    {
     "name": "stdout",
     "output_type": "stream",
     "text": [
      "(10532416, 2)\n",
      "reset_index 완료\n",
      "input data shape\n"
     ]
    },
    {
     "data": {
      "text/html": [
       "<div>\n",
       "<style scoped>\n",
       "    .dataframe tbody tr th:only-of-type {\n",
       "        vertical-align: middle;\n",
       "    }\n",
       "\n",
       "    .dataframe tbody tr th {\n",
       "        vertical-align: top;\n",
       "    }\n",
       "\n",
       "    .dataframe thead th {\n",
       "        text-align: right;\n",
       "    }\n",
       "</style>\n",
       "<table border=\"1\" class=\"dataframe\">\n",
       "  <thead>\n",
       "    <tr style=\"text-align: right;\">\n",
       "      <th></th>\n",
       "      <th>bin</th>\n",
       "      <th>label</th>\n",
       "    </tr>\n",
       "  </thead>\n",
       "  <tbody>\n",
       "    <tr>\n",
       "      <th>0</th>\n",
       "      <td>53</td>\n",
       "      <td>1</td>\n",
       "    </tr>\n",
       "    <tr>\n",
       "      <th>1</th>\n",
       "      <td>83</td>\n",
       "      <td>0</td>\n",
       "    </tr>\n",
       "    <tr>\n",
       "      <th>2</th>\n",
       "      <td>ec</td>\n",
       "      <td>0</td>\n",
       "    </tr>\n",
       "    <tr>\n",
       "      <th>3</th>\n",
       "      <td>08</td>\n",
       "      <td>0</td>\n",
       "    </tr>\n",
       "    <tr>\n",
       "      <th>4</th>\n",
       "      <td>e8</td>\n",
       "      <td>0</td>\n",
       "    </tr>\n",
       "  </tbody>\n",
       "</table>\n",
       "</div>"
      ],
      "text/plain": [
       "  bin  label\n",
       "0  53      1\n",
       "1  83      0\n",
       "2  ec      0\n",
       "3  08      0\n",
       "4  e8      0"
      ]
     },
     "execution_count": 1,
     "metadata": {},
     "output_type": "execute_result"
    }
   ],
   "source": [
    "# (1) 데이터로드\n",
    "import pandas as pd\n",
    "import numpy as np\n",
    "\n",
    "import warnings\n",
    "warnings.filterwarnings(action='ignore')\n",
    "\n",
    "# 여러개 쳐도 나오게\n",
    "from IPython.core.interactiveshell import InteractiveShell\n",
    "InteractiveShell.ast_node_interactivity = \"all\"\n",
    "\n",
    "# 파일읽기\n",
    "gcc6_1_32 = pd.read_csv(\"../data/binutils_gcc3~9_op0~4_exec_csv/\"+'gcc6'+\"_1_32_exec.csv\", index_col=0)\n",
    "\n",
    "# 형태 출력\n",
    "print(gcc6_1_32.shape)\n",
    "\n",
    "# reset_index (hex processing 하면서 값이 빠졌으니까 + n_gram 에서 index를 다루기 때문에)\n",
    "gcc6_1_32.reset_index(inplace=True, drop=True)\n",
    "\n",
    "print('reset_index 완료')\n",
    "print('input data shape')\n",
    "gcc6_1_32.head()"
   ]
  },
  {
   "cell_type": "code",
   "execution_count": 2,
   "metadata": {},
   "outputs": [
    {
     "name": "stdout",
     "output_type": "stream",
     "text": [
      "256\n",
      "0    10494535\n",
      "1       37881\n",
      "Name: label, dtype: int64\n"
     ]
    }
   ],
   "source": [
    "# (2-1) 데이터체크 1 - hex(16진수)가 256 label을 가져야 dummies 변환 가능 \n",
    "\n",
    "# 16진수 256개 종류가 있어서 pd.get_dummies 사용 가능.\n",
    "print(len(gcc6_1_32['bin'].unique()))\n",
    "\n",
    "# (2-2) 데이터 체크 2 - 1, 0 비율 ==> 1이 함수의 갯수를 뜻함\n",
    "# 정답 데이터 1, 0 비율 확인  ==> 1이 함수의 갯수를 뜻함\n",
    "print(gcc6_1_32['label'].value_counts())"
   ]
  },
  {
   "cell_type": "markdown",
   "metadata": {},
   "source": [
    "## (3) N Byte씩 자르기"
   ]
  },
  {
   "cell_type": "code",
   "execution_count": 3,
   "metadata": {},
   "outputs": [
    {
     "name": "stdout",
     "output_type": "stream",
     "text": [
      "1818252\n",
      "나머지 12\n",
      "최종 길이 1818240\n",
      "gcc6_0_32 1818240\n"
     ]
    }
   ],
   "source": [
    "######################## \n",
    "idx = gcc6_1_32[gcc6_1_32['label']==1].index  # 407, 474 ...\n",
    "ls = list(idx)\n",
    "\n",
    "# 최종 뽑을 행에 대한 index\n",
    "ls_idx = [] \n",
    "left_idx, right_idx = 0, 48 # 3개씩\n",
    "\n",
    "# 6gram\n",
    "for k in range(left_idx, right_idx):\n",
    "    ls_idx.extend(list(idx + k)) # index 형이라서 가능\n",
    "\n",
    "#ls_idx = list(set(ls_idx)) \n",
    "ls_idx.sort() # 인덱스 정렬\n",
    "\n",
    "# 1차 index 해당범위 초과한 것들 없애기\n",
    "ls_idx = list(filter(lambda x: x<len(gcc6_1_32), ls_idx))\n",
    "print(len(ls_idx))\n",
    "\n",
    "# 2차 남은 index들 중 right_idx 나눈 나머지 없애기\n",
    "sub = len(ls_idx)%(right_idx)\n",
    "print('나머지', sub)\n",
    "\n",
    "ls_idx = ls_idx[:len(ls_idx)-sub]\n",
    "print('최종 길이', len(ls_idx))\n",
    "\n",
    "print('gcc6_1_32', len(ls_idx))\n",
    "\n",
    "# loc 로 수정필요\n",
    "gcc6_1_32_Ngram = gcc6_1_32.loc[ls_idx,:].copy()"
   ]
  },
  {
   "cell_type": "markdown",
   "metadata": {},
   "source": [
    "## (4) false data 만들기"
   ]
  },
  {
   "cell_type": "code",
   "execution_count": 4,
   "metadata": {},
   "outputs": [
    {
     "name": "stdout",
     "output_type": "stream",
     "text": [
      "0 1000 2000 3000 4000 5000 6000 7000 8000 9000 10000 11000 12000 13000 14000 15000 16000 17000 18000 19000 20000 21000 22000 23000 24000 25000 26000 27000 28000 29000 30000 31000 32000 33000 34000 35000 36000 37000 완료\n"
     ]
    }
   ],
   "source": [
    "# false data 만들기 - False 데이터 랜덤 생성\n",
    "# random index\n",
    "random_idx = np.random.randint(len(gcc6_1_32)-right_idx)\n",
    "\n",
    "# 목표치\n",
    "goal = len(gcc6_1_32_Ngram)/right_idx\n",
    "count=0\n",
    "\n",
    "d = pd.DataFrame(columns=gcc6_1_32.columns)\n",
    "\n",
    "# goal 에 도달할 때까지\n",
    "while count!=goal:\n",
    "    \n",
    "    # 진행상황 살펴보기 위함\n",
    "    if count%1000==0:\n",
    "        print(count, end=' ')\n",
    "        \n",
    "    # 랜덤 N 바이트씩 뽑음\n",
    "    df = gcc6_1_32[random_idx:random_idx+right_idx]\n",
    "    \n",
    "    # 뽑은 index의 N 바이트 중에 1이 없는 경우만\n",
    "    if 1 not in df['label']:\n",
    "        d = pd.concat([d, df])\n",
    "        count+=1\n",
    "\n",
    "print('완료')"
   ]
  },
  {
   "cell_type": "markdown",
   "metadata": {},
   "source": [
    "## (5) False Data + True Data 합치기"
   ]
  },
  {
   "cell_type": "code",
   "execution_count": 5,
   "metadata": {},
   "outputs": [
    {
     "name": "stdout",
     "output_type": "stream",
     "text": [
      "0 1000 2000 3000 4000 5000 6000 7000 8000 9000 10000 11000 12000 13000 14000 15000 16000 17000 18000 19000 20000 21000 22000 23000 24000 25000 26000 27000 28000 29000 30000 31000 32000 33000 34000 35000 36000 37000 "
     ]
    },
    {
     "data": {
      "text/plain": [
       "(3636480, 2)"
      ]
     },
     "execution_count": 5,
     "metadata": {},
     "output_type": "execute_result"
    }
   ],
   "source": [
    "ff = pd.DataFrame(columns=gcc6_1_32.columns)\n",
    "\n",
    "for i in range(0, int(len(d)/right_idx)):\n",
    "    ff = pd.concat([ff, gcc6_1_32[i*right_idx:(i+1)*right_idx], d[i*right_idx:(i+1)*right_idx]])\n",
    "    \n",
    "    if i%1000==0:\n",
    "        print(i, end=' ')\n",
    "ff.shape"
   ]
  },
  {
   "cell_type": "markdown",
   "metadata": {},
   "source": [
    "## (6) one hot encoding"
   ]
  },
  {
   "cell_type": "code",
   "execution_count": 6,
   "metadata": {},
   "outputs": [
    {
     "name": "stdout",
     "output_type": "stream",
     "text": [
      "원핫인코딩완료\n",
      "(3636480, 257)\n"
     ]
    }
   ],
   "source": [
    "# 훈련데이터 (gcc 최적화버전 0, 1, 2, 3 one hot encoding)\n",
    "gcc6_1_32_onehot_Ngram = pd.get_dummies(ff['bin'])\n",
    "gcc6_1_32_onehot_Ngram = pd.concat([ff['label'], gcc6_1_32_onehot_Ngram], axis=1)\n",
    "\n",
    "print('원핫인코딩완료')\n",
    "print(gcc6_1_32_onehot_Ngram.shape)"
   ]
  },
  {
   "cell_type": "code",
   "execution_count": 7,
   "metadata": {},
   "outputs": [
    {
     "name": "stdout",
     "output_type": "stream",
     "text": [
      "(3636480, 256) (3636480,)\n",
      "(75760, 48, 256) (75760, 48, 1)\n"
     ]
    }
   ],
   "source": [
    "# 훈련 데이터, 훈련 라벨\n",
    "x_gcc6_1_32_3 = gcc6_1_32_onehot_Ngram.iloc[:,1:].to_numpy()\n",
    "y_gcc6_1_32_3 = gcc6_1_32_onehot_Ngram['label'].to_numpy()\n",
    "print(x_gcc6_1_32_3.shape, y_gcc6_1_32_3.shape)\n",
    "\n",
    "x_gcc6_1_32_3 = x_gcc6_1_32_3.reshape(-1, right_idx, x_gcc6_1_32_3.shape[1])\n",
    "y_gcc6_1_32_3 = y_gcc6_1_32_3.reshape(-1, right_idx, 1)\n",
    "\n",
    "print(x_gcc6_1_32_3.shape, y_gcc6_1_32_3.shape)"
   ]
  },
  {
   "cell_type": "markdown",
   "metadata": {},
   "source": [
    "## (7) 모델"
   ]
  },
  {
   "cell_type": "code",
   "execution_count": 8,
   "metadata": {},
   "outputs": [
    {
     "name": "stderr",
     "output_type": "stream",
     "text": [
      "Using TensorFlow backend.\n"
     ]
    }
   ],
   "source": [
    "# (10) 양방향 LSTM 모델링 작업\n",
    "from keras.models import Model, Sequential\n",
    "from keras.layers import SimpleRNN, Input, Dense, LSTM\n",
    "from keras.layers import Bidirectional, TimeDistributed\n",
    "\n",
    "# 학습\n",
    "from keras.callbacks import EarlyStopping\n",
    "early_stopping = EarlyStopping(patience = 3) # 조기종료 콜백함수 정의\n",
    "\n",
    "xInput = Input(batch_shape=(None,right_idx, 256)) \n",
    "xBiLstm = Bidirectional(LSTM(48, return_sequences=True), merge_mode = 'concat')(xInput)\n",
    "xOutput = TimeDistributed(Dense(1, activation ='sigmoid'))(xBiLstm) # 각 스텝에서 cost가 전송되고, 오류가 다음 step으로 전송됨."
   ]
  },
  {
   "cell_type": "markdown",
   "metadata": {},
   "source": [
    "## (8) 학습 - 10 KFold"
   ]
  },
  {
   "cell_type": "code",
   "execution_count": 9,
   "metadata": {
    "scrolled": false
   },
   "outputs": [
    {
     "name": "stdout",
     "output_type": "stream",
     "text": [
      "Model: \"model_1\"\n",
      "_________________________________________________________________\n",
      "Layer (type)                 Output Shape              Param #   \n",
      "=================================================================\n",
      "input_1 (InputLayer)         (None, 48, 256)           0         \n",
      "_________________________________________________________________\n",
      "bidirectional_1 (Bidirection (None, 48, 96)            117120    \n",
      "_________________________________________________________________\n",
      "time_distributed_1 (TimeDist (None, 48, 1)             97        \n",
      "=================================================================\n",
      "Total params: 117,217\n",
      "Trainable params: 117,217\n",
      "Non-trainable params: 0\n",
      "_________________________________________________________________\n",
      "======Training stage======\n",
      "WARNING:tensorflow:From C:\\Users\\Black\\anaconda3\\lib\\site-packages\\tensorflow\\python\\ops\\math_grad.py:1250: add_dispatch_support.<locals>.wrapper (from tensorflow.python.ops.array_ops) is deprecated and will be removed in a future version.\n",
      "Instructions for updating:\n",
      "Use tf.where in 2.0, which has the same broadcast rule as np.where\n",
      "WARNING:tensorflow:From C:\\Users\\Black\\anaconda3\\lib\\site-packages\\keras\\backend\\tensorflow_backend.py:422: The name tf.global_variables is deprecated. Please use tf.compat.v1.global_variables instead.\n",
      "\n",
      "Epoch 1/10\n",
      "68184/68184 [==============================] - 110s 2ms/step - loss: 0.0085 - accuracy: 0.9982\n",
      "Epoch 2/10\n",
      "68184/68184 [==============================] - 102s 1ms/step - loss: 0.0039 - accuracy: 0.99880s - loss: 0\n",
      "Epoch 3/10\n",
      "68184/68184 [==============================] - 104s 2ms/step - loss: 0.0034 - accuracy: 0.9989\n",
      "Epoch 4/10\n",
      "68184/68184 [==============================] - 104s 2ms/step - loss: 0.0031 - accuracy: 0.99900s - loss: 0.0\n",
      "Epoch 5/10\n",
      "68184/68184 [==============================] - 101s 1ms/step - loss: 0.0029 - accuracy: 0.9991\n",
      "Epoch 6/10\n",
      "68184/68184 [==============================] - 104s 2ms/step - loss: 0.0027 - accuracy: 0.9992\n",
      "Epoch 7/10\n",
      "68184/68184 [==============================] - 104s 2ms/step - loss: 0.0025 - accuracy: 0.9992\n",
      "Epoch 8/10\n",
      "68184/68184 [==============================] - 103s 2ms/step - loss: 0.0023 - accuracy: 0.9993\n",
      "Epoch 9/10\n",
      "68184/68184 [==============================] - 104s 2ms/step - loss: 0.0022 - accuracy: 0.9993\n",
      "Epoch 10/10\n",
      "68184/68184 [==============================] - 102s 1ms/step - loss: 0.0020 - accuracy: 0.9994\n"
     ]
    },
    {
     "data": {
      "text/plain": [
       "<keras.callbacks.callbacks.History at 0x2aac19e4fc8>"
      ]
     },
     "execution_count": 9,
     "metadata": {},
     "output_type": "execute_result"
    },
    {
     "name": "stdout",
     "output_type": "stream",
     "text": [
      "accuracy_score 0.9991255279831045\n",
      "recall_score 0.6164874551971327\n",
      "precision_score 0.7678571428571429\n",
      "f1_score 0.6838966202783301\n",
      "Model: \"model_2\"\n",
      "_________________________________________________________________\n",
      "Layer (type)                 Output Shape              Param #   \n",
      "=================================================================\n",
      "input_1 (InputLayer)         (None, 48, 256)           0         \n",
      "_________________________________________________________________\n",
      "bidirectional_1 (Bidirection (None, 48, 96)            117120    \n",
      "_________________________________________________________________\n",
      "time_distributed_1 (TimeDist (None, 48, 1)             97        \n",
      "=================================================================\n",
      "Total params: 117,217\n",
      "Trainable params: 117,217\n",
      "Non-trainable params: 0\n",
      "_________________________________________________________________\n",
      "======Training stage======\n",
      "Epoch 1/10\n",
      "68184/68184 [==============================] - 104s 2ms/step - loss: 0.0020 - accuracy: 0.9994\n",
      "Epoch 2/10\n",
      "68184/68184 [==============================] - 102s 2ms/step - loss: 0.0018 - accuracy: 0.9994\n",
      "Epoch 3/10\n",
      "68184/68184 [==============================] - 103s 2ms/step - loss: 0.0017 - accuracy: 0.9995\n",
      "Epoch 4/10\n",
      "68184/68184 [==============================] - 103s 2ms/step - loss: 0.0015 - accuracy: 0.9995\n",
      "Epoch 5/10\n",
      "68184/68184 [==============================] - 102s 2ms/step - loss: 0.0014 - accuracy: 0.9996\n",
      "Epoch 6/10\n",
      "68184/68184 [==============================] - 102s 1ms/step - loss: 0.0013 - accuracy: 0.9996\n",
      "Epoch 7/10\n",
      "68184/68184 [==============================] - 76s 1ms/step - loss: 0.0012 - accuracy: 0.9997\n",
      "Epoch 8/10\n",
      "68184/68184 [==============================] - 73s 1ms/step - loss: 0.0010 - accuracy: 0.9997\n",
      "Epoch 9/10\n",
      "68184/68184 [==============================] - 75s 1ms/step - loss: 9.2288e-04 - accuracy: 0.9997\n",
      "Epoch 10/10\n",
      "68184/68184 [==============================] - 75s 1ms/step - loss: 8.1795e-04 - accuracy: 0.9998\n"
     ]
    },
    {
     "data": {
      "text/plain": [
       "<keras.callbacks.callbacks.History at 0x2aaf6ff4848>"
      ]
     },
     "execution_count": 9,
     "metadata": {},
     "output_type": "execute_result"
    },
    {
     "name": "stdout",
     "output_type": "stream",
     "text": [
      "accuracy_score 0.9993620204153467\n",
      "recall_score 0.7390476190476191\n",
      "precision_score 0.8033126293995859\n",
      "f1_score 0.7698412698412699\n",
      "Model: \"model_3\"\n",
      "_________________________________________________________________\n",
      "Layer (type)                 Output Shape              Param #   \n",
      "=================================================================\n",
      "input_1 (InputLayer)         (None, 48, 256)           0         \n",
      "_________________________________________________________________\n",
      "bidirectional_1 (Bidirection (None, 48, 96)            117120    \n",
      "_________________________________________________________________\n",
      "time_distributed_1 (TimeDist (None, 48, 1)             97        \n",
      "=================================================================\n",
      "Total params: 117,217\n",
      "Trainable params: 117,217\n",
      "Non-trainable params: 0\n",
      "_________________________________________________________________\n",
      "======Training stage======\n",
      "Epoch 1/10\n",
      "68184/68184 [==============================] - 76s 1ms/step - loss: 9.5860e-04 - accuracy: 0.9997\n",
      "Epoch 2/10\n",
      "68184/68184 [==============================] - 76s 1ms/step - loss: 8.1086e-04 - accuracy: 0.9998\n",
      "Epoch 3/10\n",
      "68184/68184 [==============================] - 76s 1ms/step - loss: 7.0878e-04 - accuracy: 0.9998\n",
      "Epoch 4/10\n",
      "68184/68184 [==============================] - 88s 1ms/step - loss: 6.4670e-04 - accuracy: 0.9998\n",
      "Epoch 5/10\n",
      "68184/68184 [==============================] - 89s 1ms/step - loss: 5.5377e-04 - accuracy: 0.9998\n",
      "Epoch 6/10\n",
      "68184/68184 [==============================] - 89s 1ms/step - loss: 4.8950e-04 - accuracy: 0.9999\n",
      "Epoch 7/10\n",
      "68184/68184 [==============================] - 89s 1ms/step - loss: 4.3922e-04 - accuracy: 0.9999\n",
      "Epoch 8/10\n",
      "68184/68184 [==============================] - 90s 1ms/step - loss: 3.8777e-04 - accuracy: 0.9999\n",
      "Epoch 9/10\n",
      "68184/68184 [==============================] - 90s 1ms/step - loss: 3.3968e-04 - accuracy: 0.9999\n",
      "Epoch 10/10\n",
      "68184/68184 [==============================] - 87s 1ms/step - loss: 3.1587e-04 - accuracy: 0.9999\n"
     ]
    },
    {
     "data": {
      "text/plain": [
       "<keras.callbacks.callbacks.History at 0x2aac27e45c8>"
      ]
     },
     "execution_count": 9,
     "metadata": {},
     "output_type": "execute_result"
    },
    {
     "name": "stdout",
     "output_type": "stream",
     "text": [
      "accuracy_score 0.9996095124956001\n",
      "recall_score 0.8603351955307262\n",
      "precision_score 0.8733459357277883\n",
      "f1_score 0.8667917448405253\n",
      "Model: \"model_4\"\n",
      "_________________________________________________________________\n",
      "Layer (type)                 Output Shape              Param #   \n",
      "=================================================================\n",
      "input_1 (InputLayer)         (None, 48, 256)           0         \n",
      "_________________________________________________________________\n",
      "bidirectional_1 (Bidirection (None, 48, 96)            117120    \n",
      "_________________________________________________________________\n",
      "time_distributed_1 (TimeDist (None, 48, 1)             97        \n",
      "=================================================================\n",
      "Total params: 117,217\n",
      "Trainable params: 117,217\n",
      "Non-trainable params: 0\n",
      "_________________________________________________________________\n",
      "======Training stage======\n",
      "Epoch 1/10\n",
      "68184/68184 [==============================] - 91s 1ms/step - loss: 4.4516e-04 - accuracy: 0.9999\n",
      "Epoch 2/10\n",
      "68184/68184 [==============================] - 89s 1ms/step - loss: 3.5803e-04 - accuracy: 0.9999 0s - loss: 3.5618e\n",
      "Epoch 3/10\n",
      "68184/68184 [==============================] - 89s 1ms/step - loss: 3.1034e-04 - accuracy: 0.9999\n",
      "Epoch 4/10\n",
      "68184/68184 [==============================] - 89s 1ms/step - loss: 2.6047e-04 - accuracy: 0.9999\n",
      "Epoch 5/10\n",
      "68184/68184 [==============================] - 89s 1ms/step - loss: 2.3617e-04 - accuracy: 0.9999\n",
      "Epoch 6/10\n",
      "68184/68184 [==============================] - 89s 1ms/step - loss: 2.0775e-04 - accuracy: 0.9999\n",
      "Epoch 7/10\n",
      "68184/68184 [==============================] - 92s 1ms/step - loss: 1.7941e-04 - accuracy: 0.9999 1s - los\n",
      "Epoch 8/10\n",
      "68184/68184 [==============================] - 91s 1ms/step - loss: 1.6318e-04 - accuracy: 1.0000\n",
      "Epoch 9/10\n",
      "68184/68184 [==============================] - 91s 1ms/step - loss: 1.3898e-04 - accuracy: 1.0000\n",
      "Epoch 10/10\n",
      "68184/68184 [==============================] - 92s 1ms/step - loss: 1.4180e-04 - accuracy: 1.0000\n"
     ]
    },
    {
     "data": {
      "text/plain": [
       "<keras.callbacks.callbacks.History at 0x2aac3436848>"
      ]
     },
     "execution_count": 9,
     "metadata": {},
     "output_type": "execute_result"
    },
    {
     "name": "stdout",
     "output_type": "stream",
     "text": [
      "accuracy_score 0.9997277587117213\n",
      "recall_score 0.8781431334622823\n",
      "precision_score 0.926530612244898\n",
      "f1_score 0.9016881827209533\n",
      "Model: \"model_5\"\n",
      "_________________________________________________________________\n",
      "Layer (type)                 Output Shape              Param #   \n",
      "=================================================================\n",
      "input_1 (InputLayer)         (None, 48, 256)           0         \n",
      "_________________________________________________________________\n",
      "bidirectional_1 (Bidirection (None, 48, 96)            117120    \n",
      "_________________________________________________________________\n",
      "time_distributed_1 (TimeDist (None, 48, 1)             97        \n",
      "=================================================================\n",
      "Total params: 117,217\n",
      "Trainable params: 117,217\n",
      "Non-trainable params: 0\n",
      "_________________________________________________________________\n",
      "======Training stage======\n",
      "Epoch 1/10\n",
      "68184/68184 [==============================] - 95s 1ms/step - loss: 2.5980e-04 - accuracy: 0.9999\n",
      "Epoch 2/10\n",
      "68184/68184 [==============================] - 93s 1ms/step - loss: 1.8394e-04 - accuracy: 0.9999 1s\n",
      "Epoch 3/10\n",
      "68184/68184 [==============================] - 88s 1ms/step - loss: 1.5077e-04 - accuracy: 1.0000\n",
      "Epoch 4/10\n",
      "68184/68184 [==============================] - 92s 1ms/step - loss: 1.3554e-04 - accuracy: 1.0000\n",
      "Epoch 5/10\n",
      "68184/68184 [==============================] - 92s 1ms/step - loss: 9.5506e-05 - accuracy: 1.0000\n",
      "Epoch 6/10\n",
      "68184/68184 [==============================] - 92s 1ms/step - loss: 1.0868e-04 - accuracy: 1.0000\n",
      "Epoch 7/10\n",
      "68184/68184 [==============================] - 92s 1ms/step - loss: 9.0871e-05 - accuracy: 1.0000\n",
      "Epoch 8/10\n",
      "68184/68184 [==============================] - 92s 1ms/step - loss: 9.2487e-05 - accuracy: 1.0000\n",
      "Epoch 9/10\n",
      "68184/68184 [==============================] - 92s 1ms/step - loss: 7.5747e-05 - accuracy: 1.0000\n",
      "Epoch 10/10\n",
      "68184/68184 [==============================] - 93s 1ms/step - loss: 6.8153e-05 - accuracy: 1.0000\n"
     ]
    },
    {
     "data": {
      "text/plain": [
       "<keras.callbacks.callbacks.History at 0x2aac3f50cc8>"
      ]
     },
     "execution_count": 9,
     "metadata": {},
     "output_type": "execute_result"
    },
    {
     "name": "stdout",
     "output_type": "stream",
     "text": [
      "accuracy_score 0.9998267555438226\n",
      "recall_score 0.911504424778761\n",
      "precision_score 0.9753787878787878\n",
      "f1_score 0.9423604757548032\n",
      "Model: \"model_6\"\n",
      "_________________________________________________________________\n",
      "Layer (type)                 Output Shape              Param #   \n",
      "=================================================================\n",
      "input_1 (InputLayer)         (None, 48, 256)           0         \n",
      "_________________________________________________________________\n",
      "bidirectional_1 (Bidirection (None, 48, 96)            117120    \n",
      "_________________________________________________________________\n",
      "time_distributed_1 (TimeDist (None, 48, 1)             97        \n",
      "=================================================================\n",
      "Total params: 117,217\n",
      "Trainable params: 117,217\n",
      "Non-trainable params: 0\n",
      "_________________________________________________________________\n",
      "======Training stage======\n",
      "Epoch 1/10\n",
      "68184/68184 [==============================] - 96s 1ms/step - loss: 1.4260e-04 - accuracy: 1.0000\n",
      "Epoch 2/10\n",
      "68184/68184 [==============================] - 114s 2ms/step - loss: 9.6662e-05 - accuracy: 1.0000\n",
      "Epoch 3/10\n",
      "68184/68184 [==============================] - 116s 2ms/step - loss: 7.8132e-05 - accuracy: 1.0000\n",
      "Epoch 4/10\n",
      "68184/68184 [==============================] - 116s 2ms/step - loss: 6.7492e-05 - accuracy: 1.0000\n",
      "Epoch 5/10\n",
      "68184/68184 [==============================] - 111s 2ms/step - loss: 4.9663e-05 - accuracy: 1.00000s - loss: 4.9577e-05 - accuracy\n",
      "Epoch 6/10\n",
      "68184/68184 [==============================] - 115s 2ms/step - loss: 5.0795e-05 - accuracy: 1.0000\n",
      "Epoch 7/10\n",
      "68184/68184 [==============================] - 115s 2ms/step - loss: 5.0675e-05 - accuracy: 1.0000\n",
      "Epoch 8/10\n",
      "68184/68184 [==============================] - 116s 2ms/step - loss: 3.6209e-05 - accuracy: 1.0000\n",
      "Epoch 9/10\n",
      "68184/68184 [==============================] - 115s 2ms/step - loss: 4.6004e-05 - accuracy: 1.0000\n",
      "Epoch 10/10\n",
      "68184/68184 [==============================] - 116s 2ms/step - loss: 4.2147e-05 - accuracy: 1.0000\n"
     ]
    },
    {
     "data": {
      "text/plain": [
       "<keras.callbacks.callbacks.History at 0x2aac5ac66c8>"
      ]
     },
     "execution_count": 9,
     "metadata": {},
     "output_type": "execute_result"
    },
    {
     "name": "stdout",
     "output_type": "stream",
     "text": [
      "accuracy_score 0.9999010031678986\n",
      "recall_score 0.971900826446281\n",
      "precision_score 0.9686985172981878\n",
      "f1_score 0.9702970297029704\n",
      "Model: \"model_7\"\n",
      "_________________________________________________________________\n",
      "Layer (type)                 Output Shape              Param #   \n",
      "=================================================================\n",
      "input_1 (InputLayer)         (None, 48, 256)           0         \n",
      "_________________________________________________________________\n",
      "bidirectional_1 (Bidirection (None, 48, 96)            117120    \n",
      "_________________________________________________________________\n",
      "time_distributed_1 (TimeDist (None, 48, 1)             97        \n",
      "=================================================================\n",
      "Total params: 117,217\n",
      "Trainable params: 117,217\n",
      "Non-trainable params: 0\n",
      "_________________________________________________________________\n",
      "======Training stage======\n",
      "Epoch 1/10\n",
      "68184/68184 [==============================] - 121s 2ms/step - loss: 1.0235e-04 - accuracy: 1.0000\n",
      "Epoch 2/10\n",
      "68184/68184 [==============================] - 124s 2ms/step - loss: 5.1992e-05 - accuracy: 1.0000\n",
      "Epoch 3/10\n",
      "68184/68184 [==============================] - 120s 2ms/step - loss: 6.3664e-05 - accuracy: 1.0000\n",
      "Epoch 4/10\n",
      "68184/68184 [==============================] - 119s 2ms/step - loss: 5.2100e-05 - accuracy: 1.0000\n",
      "Epoch 5/10\n",
      "68184/68184 [==============================] - 119s 2ms/step - loss: 3.9014e-05 - accuracy: 1.0000\n",
      "Epoch 6/10\n",
      "68184/68184 [==============================] - 119s 2ms/step - loss: 2.6583e-05 - accuracy: 1.0000\n",
      "Epoch 7/10\n",
      "68184/68184 [==============================] - 115s 2ms/step - loss: 3.5927e-05 - accuracy: 1.0000\n",
      "Epoch 8/10\n",
      "68184/68184 [==============================] - 119s 2ms/step - loss: 1.8087e-05 - accuracy: 1.0000\n",
      "Epoch 9/10\n",
      "68184/68184 [==============================] - 118s 2ms/step - loss: 3.0538e-05 - accuracy: 1.0000\n",
      "Epoch 10/10\n",
      "68184/68184 [==============================] - 119s 2ms/step - loss: 2.0394e-05 - accuracy: 1.0000\n"
     ]
    },
    {
     "data": {
      "text/plain": [
       "<keras.callbacks.callbacks.History at 0x2aac5a5f248>"
      ]
     },
     "execution_count": 9,
     "metadata": {},
     "output_type": "execute_result"
    },
    {
     "name": "stdout",
     "output_type": "stream",
     "text": [
      "accuracy_score 0.9999505015839493\n",
      "recall_score 0.9812734082397003\n",
      "precision_score 0.9849624060150376\n",
      "f1_score 0.9831144465290806\n",
      "Model: \"model_8\"\n",
      "_________________________________________________________________\n",
      "Layer (type)                 Output Shape              Param #   \n",
      "=================================================================\n",
      "input_1 (InputLayer)         (None, 48, 256)           0         \n",
      "_________________________________________________________________\n",
      "bidirectional_1 (Bidirection (None, 48, 96)            117120    \n",
      "_________________________________________________________________\n",
      "time_distributed_1 (TimeDist (None, 48, 1)             97        \n",
      "=================================================================\n",
      "Total params: 117,217\n",
      "Trainable params: 117,217\n",
      "Non-trainable params: 0\n",
      "_________________________________________________________________\n",
      "======Training stage======\n",
      "Epoch 1/10\n",
      "68184/68184 [==============================] - 130s 2ms/step - loss: 4.9752e-05 - accuracy: 1.0000\n",
      "Epoch 2/10\n",
      "68184/68184 [==============================] - 142s 2ms/step - loss: 4.6107e-05 - accuracy: 1.0000\n",
      "Epoch 3/10\n",
      "68184/68184 [==============================] - 143s 2ms/step - loss: 3.1562e-05 - accuracy: 1.0000\n",
      "Epoch 4/10\n",
      "68184/68184 [==============================] - 141s 2ms/step - loss: 3.0470e-05 - accuracy: 1.0000\n",
      "Epoch 5/10\n",
      "68184/68184 [==============================] - 140s 2ms/step - loss: 1.9264e-05 - accuracy: 1.0000\n",
      "Epoch 6/10\n",
      "68184/68184 [==============================] - 142s 2ms/step - loss: 1.4018e-05 - accuracy: 1.0000\n",
      "Epoch 7/10\n",
      "68184/68184 [==============================] - 139s 2ms/step - loss: 1.2484e-05 - accuracy: 1.0000\n",
      "Epoch 8/10\n",
      "68184/68184 [==============================] - 141s 2ms/step - loss: 1.7881e-05 - accuracy: 1.0000\n",
      "Epoch 9/10\n",
      "68184/68184 [==============================] - 141s 2ms/step - loss: 1.9329e-05 - accuracy: 1.0000\n",
      "Epoch 10/10\n",
      "68184/68184 [==============================] - 138s 2ms/step - loss: 1.4942e-05 - accuracy: 1.0000\n"
     ]
    },
    {
     "data": {
      "text/plain": [
       "<keras.callbacks.callbacks.History at 0x2aacbd1dd88>"
      ]
     },
     "execution_count": 9,
     "metadata": {},
     "output_type": "execute_result"
    },
    {
     "name": "stdout",
     "output_type": "stream",
     "text": [
      "accuracy_score 0.9999725008799718\n",
      "recall_score 0.9878787878787879\n",
      "precision_score 0.9918864097363083\n",
      "f1_score 0.9898785425101214\n",
      "Model: \"model_9\"\n",
      "_________________________________________________________________\n",
      "Layer (type)                 Output Shape              Param #   \n",
      "=================================================================\n",
      "input_1 (InputLayer)         (None, 48, 256)           0         \n",
      "_________________________________________________________________\n",
      "bidirectional_1 (Bidirection (None, 48, 96)            117120    \n",
      "_________________________________________________________________\n",
      "time_distributed_1 (TimeDist (None, 48, 1)             97        \n",
      "=================================================================\n",
      "Total params: 117,217\n",
      "Trainable params: 117,217\n",
      "Non-trainable params: 0\n",
      "_________________________________________________________________\n",
      "======Training stage======\n",
      "Epoch 1/10\n",
      "68184/68184 [==============================] - 152s 2ms/step - loss: 4.5399e-05 - accuracy: 1.0000\n",
      "Epoch 2/10\n",
      "68184/68184 [==============================] - 150s 2ms/step - loss: 1.6859e-05 - accuracy: 1.0000\n",
      "Epoch 3/10\n",
      "68184/68184 [==============================] - 147s 2ms/step - loss: 1.8503e-05 - accuracy: 1.0000\n",
      "Epoch 4/10\n",
      "68184/68184 [==============================] - 149s 2ms/step - loss: 2.2807e-05 - accuracy: 1.0000\n",
      "Epoch 5/10\n",
      "68184/68184 [==============================] - 149s 2ms/step - loss: 8.0849e-06 - accuracy: 1.0000\n",
      "Epoch 6/10\n",
      "68184/68184 [==============================] - 124s 2ms/step - loss: 1.0478e-05 - accuracy: 1.0000\n",
      "Epoch 7/10\n",
      "68184/68184 [==============================] - 117s 2ms/step - loss: 9.9874e-06 - accuracy: 1.0000\n",
      "Epoch 8/10\n",
      "68184/68184 [==============================] - 117s 2ms/step - loss: 1.0725e-05 - accuracy: 1.0000\n",
      "Epoch 9/10\n",
      "68184/68184 [==============================] - 115s 2ms/step - loss: 1.5605e-05 - accuracy: 1.0000\n",
      "Epoch 10/10\n",
      "68184/68184 [==============================] - 119s 2ms/step - loss: 2.2369e-05 - accuracy: 1.0000\n"
     ]
    },
    {
     "data": {
      "text/plain": [
       "<keras.callbacks.callbacks.History at 0x2aaccad0e88>"
      ]
     },
     "execution_count": 9,
     "metadata": {},
     "output_type": "execute_result"
    },
    {
     "name": "stdout",
     "output_type": "stream",
     "text": [
      "accuracy_score 0.9999807506159802\n",
      "recall_score 0.9926873857404022\n",
      "precision_score 0.9945054945054945\n",
      "f1_score 0.9935956084172004\n",
      "Model: \"model_10\"\n",
      "_________________________________________________________________\n",
      "Layer (type)                 Output Shape              Param #   \n",
      "=================================================================\n",
      "input_1 (InputLayer)         (None, 48, 256)           0         \n",
      "_________________________________________________________________\n",
      "bidirectional_1 (Bidirection (None, 48, 96)            117120    \n",
      "_________________________________________________________________\n",
      "time_distributed_1 (TimeDist (None, 48, 1)             97        \n",
      "=================================================================\n",
      "Total params: 117,217\n",
      "Trainable params: 117,217\n",
      "Non-trainable params: 0\n",
      "_________________________________________________________________\n",
      "======Training stage======\n",
      "Epoch 1/10\n",
      "68184/68184 [==============================] - 118s 2ms/step - loss: 2.4332e-05 - accuracy: 1.0000\n",
      "Epoch 2/10\n",
      "68184/68184 [==============================] - 120s 2ms/step - loss: 2.1377e-05 - accuracy: 1.0000\n",
      "Epoch 3/10\n",
      "68184/68184 [==============================] - 120s 2ms/step - loss: 3.0315e-05 - accuracy: 1.00000s - loss:\n",
      "Epoch 4/10\n",
      "68184/68184 [==============================] - 119s 2ms/step - loss: 1.2525e-05 - accuracy: 1.0000\n",
      "Epoch 5/10\n",
      "68184/68184 [==============================] - 117s 2ms/step - loss: 7.1350e-06 - accuracy: 1.0000\n",
      "Epoch 6/10\n",
      "68184/68184 [==============================] - 119s 2ms/step - loss: 1.6293e-05 - accuracy: 1.0000\n",
      "Epoch 7/10\n",
      "68184/68184 [==============================] - 120s 2ms/step - loss: 1.0535e-05 - accuracy: 1.0000\n",
      "Epoch 8/10\n",
      "68184/68184 [==============================] - 119s 2ms/step - loss: 7.0134e-06 - accuracy: 1.0000\n",
      "Epoch 9/10\n",
      "68184/68184 [==============================] - 120s 2ms/step - loss: 1.2367e-05 - accuracy: 1.0000\n",
      "Epoch 10/10\n",
      "68184/68184 [==============================] - 120s 2ms/step - loss: 1.1435e-05 - accuracy: 1.0000\n"
     ]
    },
    {
     "data": {
      "text/plain": [
       "<keras.callbacks.callbacks.History at 0x2aacd5e22c8>"
      ]
     },
     "execution_count": 9,
     "metadata": {},
     "output_type": "execute_result"
    },
    {
     "name": "stdout",
     "output_type": "stream",
     "text": [
      "accuracy_score 0.9999807506159802\n",
      "recall_score 0.9915682967959528\n",
      "precision_score 0.9966101694915255\n",
      "f1_score 0.9940828402366865\n",
      "\n",
      "K-fold cross validation Accuracy: [0.9991255279831045, 0.9993620204153467, 0.9996095124956001, 0.9997277587117213, 0.9998267555438226, 0.9999010031678986, 0.9999505015839493, 0.9999725008799718, 0.9999807506159802, 0.9999807506159802]\n",
      "\n",
      "K-fold cross validation Recall: [0.6164874551971327, 0.7390476190476191, 0.8603351955307262, 0.8781431334622823, 0.911504424778761, 0.971900826446281, 0.9812734082397003, 0.9878787878787879, 0.9926873857404022, 0.9915682967959528]\n",
      "\n",
      "K-fold cross validation Precision: [0.7678571428571429, 0.8033126293995859, 0.8733459357277883, 0.926530612244898, 0.9753787878787878, 0.9686985172981878, 0.9849624060150376, 0.9918864097363083, 0.9945054945054945, 0.9966101694915255]\n",
      "\n",
      "K-fold cross validation F1-Score: [0.6838966202783301, 0.7698412698412699, 0.8667917448405253, 0.9016881827209533, 0.9423604757548032, 0.9702970297029704, 0.9831144465290806, 0.9898785425101214, 0.9935956084172004, 0.9940828402366865]\n"
     ]
    }
   ],
   "source": [
    "# 교차검증 kfold\n",
    "from sklearn.model_selection import KFold\n",
    "\n",
    "# Accuracy, Precision, Recall, F1-Score\n",
    "from sklearn.metrics import accuracy_score, recall_score, precision_score, f1_score\n",
    "\n",
    "# Confusion Matrix, ROC Curve\n",
    "from sklearn.metrics import confusion_matrix, roc_auc_score\n",
    "\n",
    "# 최종 평가지표들 평균용\n",
    "accuracy, recall, precision, f1score, cm = [], [], [], [], []\n",
    "\n",
    "# 11. 교차검증 kfold - k.split - 10회 / K-Fold 객체 생성\n",
    "# kf = KFold(n_splits=10, shuffle=False, random_state=None) # KFold non shuffle 버전\n",
    "kf = KFold(n_splits=10, shuffle=True, random_state=None) # KFold non shuffle 버전\n",
    "\n",
    "for train, validation in kf.split(x_gcc6_1_32_3, y_gcc6_1_32_3):\n",
    "    model1 = Model(xInput, xOutput)\n",
    "    model1.compile(loss='binary_crossentropy', optimizer='rmsprop', metrics=['accuracy'])\n",
    "    model1.summary()\n",
    "    print('======Training stage======')\n",
    "    model1.fit(x_gcc6_1_32_3[train],\n",
    "               y_gcc6_1_32_3[train],\n",
    "               epochs = 10,\n",
    "               batch_size = 32,\n",
    "               callbacks=[early_stopping])\n",
    "    #k_accuracy = '%.4f' %(model1.evaluate(data_10000x[validation], data_10000y[validation])[1])\n",
    "\n",
    "# 12. 교차검증결과 predict - 검증셋들\n",
    "    # predict 값\n",
    "    k_pr = model1.predict(x_gcc6_1_32_3[validation])\n",
    "    \n",
    "    # 테스트 predict 결과들 비교 (평가지표 보기위함)\n",
    "    pred = np.round(np.array(k_pr).flatten().tolist())\n",
    "    y_test = np.array(y_gcc6_1_32_3[validation]).flatten().tolist()\n",
    "    \n",
    "# 13. 평가지표들 출력\n",
    "    ## 평가지표들\n",
    "    k_accuracy = float(accuracy_score(y_test, pred))\n",
    "    k_recall =  float(recall_score(y_test, pred))\n",
    "    k_precision = float(precision_score(y_test, pred))\n",
    "    k_f1_score = float(f1_score(y_test, pred))\n",
    "    #k_cm = float(confusion_matrix(y_test, pred))\n",
    "    \n",
    "    print('accuracy_score', k_accuracy)\n",
    "    print('recall_score', k_recall)\n",
    "    print('precision_score', k_precision)\n",
    "    print('f1_score', k_f1_score)\n",
    "    #print('\\nconfusion_matrix\\n', k_cm)\n",
    "\n",
    "    accuracy.append(k_accuracy)\n",
    "    recall.append(k_recall)\n",
    "    precision.append(k_precision)\n",
    "    f1score.append(k_f1_score)\n",
    "    #cm.append(k_cm)\n",
    "#    print('roc_curve 면적', roc_auc_score(y_test, pred))\n",
    "\n",
    "# 14. 최종 결과지표\n",
    "print('\\nK-fold cross validation Accuracy: {}'.format(accuracy))\n",
    "print('\\nK-fold cross validation Recall: {}'.format(recall))\n",
    "print('\\nK-fold cross validation Precision: {}'.format(precision))\n",
    "print('\\nK-fold cross validation F1-Score: {}'.format(f1score))\n",
    "#print('\\nK-fold cross validation ConfusionMatrix: {}'.format(cm))"
   ]
  },
  {
   "cell_type": "markdown",
   "metadata": {},
   "source": [
    "## (9) 평가지표"
   ]
  },
  {
   "cell_type": "code",
   "execution_count": 10,
   "metadata": {},
   "outputs": [
    {
     "name": "stdout",
     "output_type": "stream",
     "text": [
      "10-Fold Cross_validation. Accuracy : 0.9997437082013377\n",
      "10-Fold Cross_validation. Recall : 0.8930826533117646\n",
      "10-Fold Cross_validation. Precision : 0.9283088105154758\n",
      "10-Fold Cross_validation. F1-Score : 0.9095546760831942\n"
     ]
    }
   ],
   "source": [
    "print('10-Fold Cross_validation. Accuracy :', np.mean(accuracy))\n",
    "print('10-Fold Cross_validation. Recall :', np.mean(recall))\n",
    "print('10-Fold Cross_validation. Precision :', np.mean(precision))\n",
    "print('10-Fold Cross_validation. F1-Score :', np.mean(f1score))"
   ]
  }
 ],
 "metadata": {
  "kernelspec": {
   "display_name": "Python 3",
   "language": "python",
   "name": "python3"
  },
  "language_info": {
   "codemirror_mode": {
    "name": "ipython",
    "version": 3
   },
   "file_extension": ".py",
   "mimetype": "text/x-python",
   "name": "python",
   "nbconvert_exporter": "python",
   "pygments_lexer": "ipython3",
   "version": "3.7.6"
  }
 },
 "nbformat": 4,
 "nbformat_minor": 4
}
