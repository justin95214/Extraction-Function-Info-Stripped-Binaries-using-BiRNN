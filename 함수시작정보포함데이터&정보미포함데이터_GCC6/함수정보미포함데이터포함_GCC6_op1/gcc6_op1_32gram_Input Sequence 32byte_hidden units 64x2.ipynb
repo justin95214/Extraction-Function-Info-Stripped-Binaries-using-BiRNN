{
 "cells": [
  {
   "cell_type": "markdown",
   "metadata": {},
   "source": [
    "## RNN 모델 N-Byte 방식 (함수정보 포함 vs 미포함 => 1:1 비율)\n",
    "\n",
    "## (1) 데이터로드"
   ]
  },
  {
   "cell_type": "code",
   "execution_count": 1,
   "metadata": {},
   "outputs": [
    {
     "name": "stdout",
     "output_type": "stream",
     "text": [
      "(10532416, 2)\n",
      "reset_index 완료\n",
      "input data shape\n"
     ]
    },
    {
     "data": {
      "text/html": [
       "<div>\n",
       "<style scoped>\n",
       "    .dataframe tbody tr th:only-of-type {\n",
       "        vertical-align: middle;\n",
       "    }\n",
       "\n",
       "    .dataframe tbody tr th {\n",
       "        vertical-align: top;\n",
       "    }\n",
       "\n",
       "    .dataframe thead th {\n",
       "        text-align: right;\n",
       "    }\n",
       "</style>\n",
       "<table border=\"1\" class=\"dataframe\">\n",
       "  <thead>\n",
       "    <tr style=\"text-align: right;\">\n",
       "      <th></th>\n",
       "      <th>bin</th>\n",
       "      <th>label</th>\n",
       "    </tr>\n",
       "  </thead>\n",
       "  <tbody>\n",
       "    <tr>\n",
       "      <th>0</th>\n",
       "      <td>53</td>\n",
       "      <td>1</td>\n",
       "    </tr>\n",
       "    <tr>\n",
       "      <th>1</th>\n",
       "      <td>83</td>\n",
       "      <td>0</td>\n",
       "    </tr>\n",
       "    <tr>\n",
       "      <th>2</th>\n",
       "      <td>ec</td>\n",
       "      <td>0</td>\n",
       "    </tr>\n",
       "    <tr>\n",
       "      <th>3</th>\n",
       "      <td>08</td>\n",
       "      <td>0</td>\n",
       "    </tr>\n",
       "    <tr>\n",
       "      <th>4</th>\n",
       "      <td>e8</td>\n",
       "      <td>0</td>\n",
       "    </tr>\n",
       "  </tbody>\n",
       "</table>\n",
       "</div>"
      ],
      "text/plain": [
       "  bin  label\n",
       "0  53      1\n",
       "1  83      0\n",
       "2  ec      0\n",
       "3  08      0\n",
       "4  e8      0"
      ]
     },
     "execution_count": 1,
     "metadata": {},
     "output_type": "execute_result"
    }
   ],
   "source": [
    "# (1) 데이터로드\n",
    "import pandas as pd\n",
    "import numpy as np\n",
    "\n",
    "import warnings\n",
    "warnings.filterwarnings(action='ignore')\n",
    "\n",
    "# 여러개 쳐도 나오게\n",
    "from IPython.core.interactiveshell import InteractiveShell\n",
    "InteractiveShell.ast_node_interactivity = \"all\"\n",
    "\n",
    "# 파일읽기\n",
    "gcc6_1_32 = pd.read_csv(\"../data/binutils_gcc3~9_op0~4_exec_csv/\"+'gcc6'+\"_1_32_exec.csv\", index_col=0)\n",
    "\n",
    "# 형태 출력\n",
    "print(gcc6_1_32.shape)\n",
    "\n",
    "# reset_index (hex processing 하면서 값이 빠졌으니까 + n_gram 에서 index를 다루기 때문에)\n",
    "gcc6_1_32.reset_index(inplace=True, drop=True)\n",
    "\n",
    "print('reset_index 완료')\n",
    "print('input data shape')\n",
    "gcc6_1_32.head()"
   ]
  },
  {
   "cell_type": "code",
   "execution_count": 2,
   "metadata": {},
   "outputs": [
    {
     "name": "stdout",
     "output_type": "stream",
     "text": [
      "256\n",
      "0    10494535\n",
      "1       37881\n",
      "Name: label, dtype: int64\n"
     ]
    }
   ],
   "source": [
    "# (2-1) 데이터체크 1 - hex(16진수)가 256 label을 가져야 dummies 변환 가능 \n",
    "\n",
    "# 16진수 256개 종류가 있어서 pd.get_dummies 사용 가능.\n",
    "print(len(gcc6_1_32['bin'].unique()))\n",
    "\n",
    "# (2-2) 데이터 체크 2 - 1, 0 비율 ==> 1이 함수의 갯수를 뜻함\n",
    "# 정답 데이터 1, 0 비율 확인  ==> 1이 함수의 갯수를 뜻함\n",
    "print(gcc6_1_32['label'].value_counts())"
   ]
  },
  {
   "cell_type": "markdown",
   "metadata": {},
   "source": [
    "## (3) N Byte씩 자르기"
   ]
  },
  {
   "cell_type": "code",
   "execution_count": 3,
   "metadata": {},
   "outputs": [
    {
     "name": "stdout",
     "output_type": "stream",
     "text": [
      "1212180\n",
      "나머지 20\n",
      "최종 길이 1212160\n",
      "gcc6_0_32 1212160\n"
     ]
    }
   ],
   "source": [
    "######################## \n",
    "idx = gcc6_1_32[gcc6_1_32['label']==1].index  # 407, 474 ...\n",
    "ls = list(idx)\n",
    "\n",
    "# 최종 뽑을 행에 대한 index\n",
    "ls_idx = [] \n",
    "left_idx, right_idx = 0, 32 # 3개씩\n",
    "\n",
    "# 6gram\n",
    "for k in range(left_idx, right_idx):\n",
    "    ls_idx.extend(list(idx + k)) # index 형이라서 가능\n",
    "\n",
    "#ls_idx = list(set(ls_idx)) \n",
    "ls_idx.sort() # 인덱스 정렬\n",
    "\n",
    "# 1차 index 해당범위 초과한 것들 없애기\n",
    "ls_idx = list(filter(lambda x: x<len(gcc6_1_32), ls_idx))\n",
    "print(len(ls_idx))\n",
    "\n",
    "# 2차 남은 index들 중 right_idx 나눈 나머지 없애기\n",
    "sub = len(ls_idx)%(right_idx)\n",
    "print('나머지', sub)\n",
    "\n",
    "ls_idx = ls_idx[:len(ls_idx)-sub]\n",
    "print('최종 길이', len(ls_idx))\n",
    "\n",
    "print('gcc6_1_32', len(ls_idx))\n",
    "\n",
    "# loc 로 수정필요\n",
    "gcc6_1_32_Ngram = gcc6_1_32.loc[ls_idx,:].copy()"
   ]
  },
  {
   "cell_type": "markdown",
   "metadata": {},
   "source": [
    "## (4) false data 만들기"
   ]
  },
  {
   "cell_type": "code",
   "execution_count": 4,
   "metadata": {},
   "outputs": [
    {
     "name": "stdout",
     "output_type": "stream",
     "text": [
      "0 1000 2000 3000 4000 5000 6000 7000 8000 9000 10000 11000 12000 13000 14000 15000 16000 17000 18000 19000 20000 21000 22000 23000 24000 25000 26000 27000 28000 29000 30000 31000 32000 33000 34000 35000 36000 37000 완료\n"
     ]
    }
   ],
   "source": [
    "# false data 만들기 - False 데이터 랜덤 생성\n",
    "# random index\n",
    "random_idx = np.random.randint(len(gcc6_1_32)-right_idx)\n",
    "\n",
    "# 목표치\n",
    "goal = len(gcc6_1_32_Ngram)/right_idx\n",
    "count=0\n",
    "\n",
    "d = pd.DataFrame(columns=gcc6_1_32.columns)\n",
    "\n",
    "# goal 에 도달할 때까지\n",
    "while count!=goal:\n",
    "    \n",
    "    # 진행상황 살펴보기 위함\n",
    "    if count%1000==0:\n",
    "        print(count, end=' ')\n",
    "        \n",
    "    # 랜덤 N 바이트씩 뽑음\n",
    "    df = gcc6_1_32[random_idx:random_idx+right_idx]\n",
    "    \n",
    "    # 뽑은 index의 N 바이트 중에 1이 없는 경우만\n",
    "    if 1 not in df['label']:\n",
    "        d = pd.concat([d, df])\n",
    "        count+=1\n",
    "\n",
    "print('완료')"
   ]
  },
  {
   "cell_type": "markdown",
   "metadata": {},
   "source": [
    "## (5) False Data + True Data 합치기"
   ]
  },
  {
   "cell_type": "code",
   "execution_count": 5,
   "metadata": {},
   "outputs": [
    {
     "name": "stdout",
     "output_type": "stream",
     "text": [
      "0 1000 2000 3000 4000 5000 6000 7000 8000 9000 10000 11000 12000 13000 14000 15000 16000 17000 18000 19000 20000 21000 22000 23000 24000 25000 26000 27000 28000 29000 30000 31000 32000 33000 34000 35000 36000 37000 "
     ]
    },
    {
     "data": {
      "text/plain": [
       "(2424320, 2)"
      ]
     },
     "execution_count": 5,
     "metadata": {},
     "output_type": "execute_result"
    }
   ],
   "source": [
    "ff = pd.DataFrame(columns=gcc6_1_32.columns)\n",
    "\n",
    "for i in range(0, int(len(d)/right_idx)):\n",
    "    ff = pd.concat([ff, gcc6_1_32[i*right_idx:(i+1)*right_idx], d[i*right_idx:(i+1)*right_idx]])\n",
    "    \n",
    "    if i%1000==0:\n",
    "        print(i, end=' ')\n",
    "ff.shape"
   ]
  },
  {
   "cell_type": "markdown",
   "metadata": {},
   "source": [
    "## (6) one hot encoding"
   ]
  },
  {
   "cell_type": "code",
   "execution_count": 6,
   "metadata": {},
   "outputs": [
    {
     "name": "stdout",
     "output_type": "stream",
     "text": [
      "원핫인코딩완료\n",
      "(2424320, 257)\n"
     ]
    }
   ],
   "source": [
    "# 훈련데이터 (gcc 최적화버전 0, 1, 2, 3 one hot encoding)\n",
    "gcc6_1_32_onehot_Ngram = pd.get_dummies(ff['bin'])\n",
    "gcc6_1_32_onehot_Ngram = pd.concat([ff['label'], gcc6_1_32_onehot_Ngram], axis=1)\n",
    "\n",
    "print('원핫인코딩완료')\n",
    "print(gcc6_1_32_onehot_Ngram.shape)"
   ]
  },
  {
   "cell_type": "code",
   "execution_count": 7,
   "metadata": {},
   "outputs": [
    {
     "name": "stdout",
     "output_type": "stream",
     "text": [
      "(2424320, 256) (2424320,)\n",
      "(75760, 32, 256) (75760, 32, 1)\n"
     ]
    }
   ],
   "source": [
    "# 훈련 데이터, 훈련 라벨\n",
    "x_gcc6_1_32_3 = gcc6_1_32_onehot_Ngram.iloc[:,1:].to_numpy()\n",
    "y_gcc6_1_32_3 = gcc6_1_32_onehot_Ngram['label'].to_numpy()\n",
    "print(x_gcc6_1_32_3.shape, y_gcc6_1_32_3.shape)\n",
    "\n",
    "x_gcc6_1_32_3 = x_gcc6_1_32_3.reshape(-1, right_idx, x_gcc6_1_32_3.shape[1])\n",
    "y_gcc6_1_32_3 = y_gcc6_1_32_3.reshape(-1, right_idx, 1)\n",
    "\n",
    "print(x_gcc6_1_32_3.shape, y_gcc6_1_32_3.shape)"
   ]
  },
  {
   "cell_type": "markdown",
   "metadata": {},
   "source": [
    "## (7) 모델"
   ]
  },
  {
   "cell_type": "code",
   "execution_count": 8,
   "metadata": {},
   "outputs": [
    {
     "name": "stderr",
     "output_type": "stream",
     "text": [
      "Using TensorFlow backend.\n"
     ]
    }
   ],
   "source": [
    "# (10) 양방향 LSTM 모델링 작업\n",
    "from keras.models import Model, Sequential\n",
    "from keras.layers import SimpleRNN, Input, Dense, LSTM\n",
    "from keras.layers import Bidirectional, TimeDistributed\n",
    "\n",
    "# 학습\n",
    "from keras.callbacks import EarlyStopping\n",
    "early_stopping = EarlyStopping(patience = 3) # 조기종료 콜백함수 정의\n",
    "\n",
    "xInput = Input(batch_shape=(None,right_idx, 256)) \n",
    "xBiLstm = Bidirectional(LSTM(64, return_sequences=True), merge_mode = 'concat')(xInput)\n",
    "xOutput = TimeDistributed(Dense(1, activation ='sigmoid'))(xBiLstm) # 각 스텝에서 cost가 전송되고, 오류가 다음 step으로 전송됨."
   ]
  },
  {
   "cell_type": "markdown",
   "metadata": {},
   "source": [
    "## (8) 학습 - 10 KFold"
   ]
  },
  {
   "cell_type": "code",
   "execution_count": 9,
   "metadata": {
    "scrolled": false
   },
   "outputs": [
    {
     "name": "stdout",
     "output_type": "stream",
     "text": [
      "Model: \"model_1\"\n",
      "_________________________________________________________________\n",
      "Layer (type)                 Output Shape              Param #   \n",
      "=================================================================\n",
      "input_1 (InputLayer)         (None, 32, 256)           0         \n",
      "_________________________________________________________________\n",
      "bidirectional_1 (Bidirection (None, 32, 128)           164352    \n",
      "_________________________________________________________________\n",
      "time_distributed_1 (TimeDist (None, 32, 1)             129       \n",
      "=================================================================\n",
      "Total params: 164,481\n",
      "Trainable params: 164,481\n",
      "Non-trainable params: 0\n",
      "_________________________________________________________________\n",
      "======Training stage======\n",
      "WARNING:tensorflow:From C:\\Users\\Black\\anaconda3\\lib\\site-packages\\tensorflow\\python\\ops\\math_grad.py:1250: add_dispatch_support.<locals>.wrapper (from tensorflow.python.ops.array_ops) is deprecated and will be removed in a future version.\n",
      "Instructions for updating:\n",
      "Use tf.where in 2.0, which has the same broadcast rule as np.where\n",
      "WARNING:tensorflow:From C:\\Users\\Black\\anaconda3\\lib\\site-packages\\keras\\backend\\tensorflow_backend.py:422: The name tf.global_variables is deprecated. Please use tf.compat.v1.global_variables instead.\n",
      "\n",
      "Epoch 1/10\n",
      "68184/68184 [==============================] - 53s 784us/step - loss: 0.0083 - accuracy: 0.9982\n",
      "Epoch 2/10\n",
      "68184/68184 [==============================] - 53s 778us/step - loss: 0.0041 - accuracy: 0.9988\n",
      "Epoch 3/10\n",
      "68184/68184 [==============================] - 53s 778us/step - loss: 0.0036 - accuracy: 0.9989\n",
      "Epoch 4/10\n",
      "68184/68184 [==============================] - 52s 765us/step - loss: 0.0033 - accuracy: 0.9990\n",
      "Epoch 5/10\n",
      "68184/68184 [==============================] - 53s 782us/step - loss: 0.0031 - accuracy: 0.9991\n",
      "Epoch 6/10\n",
      "68184/68184 [==============================] - 53s 771us/step - loss: 0.0029 - accuracy: 0.9991\n",
      "Epoch 7/10\n",
      "68184/68184 [==============================] - 53s 772us/step - loss: 0.0027 - accuracy: 0.9992\n",
      "Epoch 8/10\n",
      "68184/68184 [==============================] - 53s 774us/step - loss: 0.0025 - accuracy: 0.9992\n",
      "Epoch 9/10\n",
      "68184/68184 [==============================] - 54s 788us/step - loss: 0.0023 - accuracy: 0.9993\n",
      "Epoch 10/10\n",
      "68184/68184 [==============================] - 54s 786us/step - loss: 0.0022 - accuracy: 0.9993\n"
     ]
    },
    {
     "data": {
      "text/plain": [
       "<keras.callbacks.callbacks.History at 0x15f05b65c88>"
      ]
     },
     "execution_count": 9,
     "metadata": {},
     "output_type": "execute_result"
    },
    {
     "name": "stdout",
     "output_type": "stream",
     "text": [
      "accuracy_score 0.9991379025871172\n",
      "recall_score 0.6532258064516129\n",
      "precision_score 0.7523219814241486\n",
      "f1_score 0.6992805755395683\n",
      "Model: \"model_2\"\n",
      "_________________________________________________________________\n",
      "Layer (type)                 Output Shape              Param #   \n",
      "=================================================================\n",
      "input_1 (InputLayer)         (None, 32, 256)           0         \n",
      "_________________________________________________________________\n",
      "bidirectional_1 (Bidirection (None, 32, 128)           164352    \n",
      "_________________________________________________________________\n",
      "time_distributed_1 (TimeDist (None, 32, 1)             129       \n",
      "=================================================================\n",
      "Total params: 164,481\n",
      "Trainable params: 164,481\n",
      "Non-trainable params: 0\n",
      "_________________________________________________________________\n",
      "======Training stage======\n",
      "Epoch 1/10\n",
      "68184/68184 [==============================] - 51s 744us/step - loss: 0.0022 - accuracy: 0.9993\n",
      "Epoch 2/10\n",
      "68184/68184 [==============================] - 50s 739us/step - loss: 0.0020 - accuracy: 0.9994\n",
      "Epoch 3/10\n",
      "68184/68184 [==============================] - 50s 732us/step - loss: 0.0018 - accuracy: 0.9995\n",
      "Epoch 4/10\n",
      "68184/68184 [==============================] - 50s 734us/step - loss: 0.0016 - accuracy: 0.9995\n",
      "Epoch 5/10\n",
      "68184/68184 [==============================] - 50s 731us/step - loss: 0.0014 - accuracy: 0.9996\n",
      "Epoch 6/10\n",
      "68184/68184 [==============================] - 49s 725us/step - loss: 0.0013 - accuracy: 0.9996\n",
      "Epoch 7/10\n",
      "68184/68184 [==============================] - 50s 733us/step - loss: 0.0011 - accuracy: 0.9997\n",
      "Epoch 8/10\n",
      "68184/68184 [==============================] - 50s 727us/step - loss: 9.7469e-04 - accuracy: 0.9997\n",
      "Epoch 9/10\n",
      "68184/68184 [==============================] - 50s 729us/step - loss: 8.4825e-04 - accuracy: 0.9997\n",
      "Epoch 10/10\n",
      "68184/68184 [==============================] - 49s 725us/step - loss: 7.3278e-04 - accuracy: 0.9998\n"
     ]
    },
    {
     "data": {
      "text/plain": [
       "<keras.callbacks.callbacks.History at 0x15f29f3cd48>"
      ]
     },
     "execution_count": 9,
     "metadata": {},
     "output_type": "execute_result"
    },
    {
     "name": "stdout",
     "output_type": "stream",
     "text": [
      "accuracy_score 0.9993111470432946\n",
      "recall_score 0.6839237057220708\n",
      "precision_score 0.8311258278145696\n",
      "f1_score 0.750373692077728\n",
      "Model: \"model_3\"\n",
      "_________________________________________________________________\n",
      "Layer (type)                 Output Shape              Param #   \n",
      "=================================================================\n",
      "input_1 (InputLayer)         (None, 32, 256)           0         \n",
      "_________________________________________________________________\n",
      "bidirectional_1 (Bidirection (None, 32, 128)           164352    \n",
      "_________________________________________________________________\n",
      "time_distributed_1 (TimeDist (None, 32, 1)             129       \n",
      "=================================================================\n",
      "Total params: 164,481\n",
      "Trainable params: 164,481\n",
      "Non-trainable params: 0\n",
      "_________________________________________________________________\n",
      "======Training stage======\n",
      "Epoch 1/10\n",
      "68184/68184 [==============================] - 51s 745us/step - loss: 9.2408e-04 - accuracy: 0.9997\n",
      "Epoch 2/10\n",
      "68184/68184 [==============================] - 50s 736us/step - loss: 7.7821e-04 - accuracy: 0.9998\n",
      "Epoch 3/10\n",
      "68184/68184 [==============================] - 50s 735us/step - loss: 6.3925e-04 - accuracy: 0.9998\n",
      "Epoch 4/10\n",
      "68184/68184 [==============================] - 50s 735us/step - loss: 5.4604e-04 - accuracy: 0.9998\n",
      "Epoch 5/10\n",
      "68184/68184 [==============================] - 50s 732us/step - loss: 4.6148e-04 - accuracy: 0.9999\n",
      "Epoch 6/10\n",
      "68184/68184 [==============================] - 50s 731us/step - loss: 3.7684e-04 - accuracy: 0.9999\n",
      "Epoch 7/10\n",
      "68184/68184 [==============================] - 50s 732us/step - loss: 3.4764e-04 - accuracy: 0.9999\n",
      "Epoch 8/10\n",
      "68184/68184 [==============================] - 50s 733us/step - loss: 2.8116e-04 - accuracy: 0.9999\n",
      "Epoch 9/10\n",
      "68184/68184 [==============================] - 50s 732us/step - loss: 2.3510e-04 - accuracy: 0.9999\n",
      "Epoch 10/10\n",
      "68184/68184 [==============================] - 50s 732us/step - loss: 2.2751e-04 - accuracy: 0.9999\n"
     ]
    },
    {
     "data": {
      "text/plain": [
       "<keras.callbacks.callbacks.History at 0x15f27fd9948>"
      ]
     },
     "execution_count": 9,
     "metadata": {},
     "output_type": "execute_result"
    },
    {
     "name": "stdout",
     "output_type": "stream",
     "text": [
      "accuracy_score 0.9995462645195353\n",
      "recall_score 0.854066985645933\n",
      "precision_score 0.8793103448275862\n",
      "f1_score 0.866504854368932\n",
      "Model: \"model_4\"\n",
      "_________________________________________________________________\n",
      "Layer (type)                 Output Shape              Param #   \n",
      "=================================================================\n",
      "input_1 (InputLayer)         (None, 32, 256)           0         \n",
      "_________________________________________________________________\n",
      "bidirectional_1 (Bidirection (None, 32, 128)           164352    \n",
      "_________________________________________________________________\n",
      "time_distributed_1 (TimeDist (None, 32, 1)             129       \n",
      "=================================================================\n",
      "Total params: 164,481\n",
      "Trainable params: 164,481\n",
      "Non-trainable params: 0\n",
      "_________________________________________________________________\n",
      "======Training stage======\n",
      "Epoch 1/10\n",
      "68184/68184 [==============================] - 52s 763us/step - loss: 4.8421e-04 - accuracy: 0.9999\n",
      "Epoch 2/10\n",
      "68184/68184 [==============================] - 53s 780us/step - loss: 2.9715e-04 - accuracy: 0.9999s - loss: 2.9793e-04 - ac\n",
      "Epoch 3/10\n",
      "68184/68184 [==============================] - 53s 776us/step - loss: 2.3576e-04 - accuracy: 0.9999\n",
      "Epoch 4/10\n",
      "68184/68184 [==============================] - 53s 774us/step - loss: 1.8580e-04 - accuracy: 0.9999\n",
      "Epoch 5/10\n",
      "68184/68184 [==============================] - 53s 774us/step - loss: 1.4717e-04 - accuracy: 1.0000\n",
      "Epoch 6/10\n",
      "68184/68184 [==============================] - 53s 770us/step - loss: 1.4242e-04 - accuracy: 1.0000\n",
      "Epoch 7/10\n",
      "68184/68184 [==============================] - 53s 771us/step - loss: 1.0762e-04 - accuracy: 1.0000\n",
      "Epoch 8/10\n",
      "68184/68184 [==============================] - 53s 774us/step - loss: 1.0457e-04 - accuracy: 1.0000\n",
      "Epoch 9/10\n",
      "68184/68184 [==============================] - 52s 769us/step - loss: 9.4868e-05 - accuracy: 1.0000\n",
      "Epoch 10/10\n",
      "68184/68184 [==============================] - 53s 772us/step - loss: 8.4592e-05 - accuracy: 1.0000\n"
     ]
    },
    {
     "data": {
      "text/plain": [
       "<keras.callbacks.callbacks.History at 0x15f071a3d48>"
      ]
     },
     "execution_count": 9,
     "metadata": {},
     "output_type": "execute_result"
    },
    {
     "name": "stdout",
     "output_type": "stream",
     "text": [
      "accuracy_score 0.9997318835797254\n",
      "recall_score 0.8790322580645161\n",
      "precision_score 0.9423631123919308\n",
      "f1_score 0.9095966620305981\n",
      "Model: \"model_5\"\n",
      "_________________________________________________________________\n",
      "Layer (type)                 Output Shape              Param #   \n",
      "=================================================================\n",
      "input_1 (InputLayer)         (None, 32, 256)           0         \n",
      "_________________________________________________________________\n",
      "bidirectional_1 (Bidirection (None, 32, 128)           164352    \n",
      "_________________________________________________________________\n",
      "time_distributed_1 (TimeDist (None, 32, 1)             129       \n",
      "=================================================================\n",
      "Total params: 164,481\n",
      "Trainable params: 164,481\n",
      "Non-trainable params: 0\n",
      "_________________________________________________________________\n",
      "======Training stage======\n",
      "Epoch 1/10\n",
      "68184/68184 [==============================] - 55s 811us/step - loss: 2.3344e-04 - accuracy: 0.9999\n",
      "Epoch 2/10\n",
      "68184/68184 [==============================] - 55s 800us/step - loss: 1.3312e-04 - accuracy: 1.0000\n",
      "Epoch 3/10\n",
      "68184/68184 [==============================] - 54s 796us/step - loss: 1.0567e-04 - accuracy: 1.0000\n",
      "Epoch 4/10\n",
      "68184/68184 [==============================] - 54s 798us/step - loss: 1.0090e-04 - accuracy: 1.0000\n",
      "Epoch 5/10\n",
      "68184/68184 [==============================] - 54s 796us/step - loss: 6.9546e-05 - accuracy: 1.0000\n",
      "Epoch 6/10\n",
      "68184/68184 [==============================] - 54s 792us/step - loss: 7.6916e-05 - accuracy: 1.0000\n",
      "Epoch 7/10\n",
      "68184/68184 [==============================] - 55s 801us/step - loss: 6.3730e-05 - accuracy: 1.0000\n",
      "Epoch 8/10\n",
      "68184/68184 [==============================] - 55s 801us/step - loss: 5.8492e-05 - accuracy: 1.0000\n",
      "Epoch 9/10\n",
      "68184/68184 [==============================] - 55s 801us/step - loss: 4.7923e-05 - accuracy: 1.0000\n",
      "Epoch 10/10\n",
      "68184/68184 [==============================] - 54s 798us/step - loss: 5.1326e-05 - accuracy: 1.0000\n"
     ]
    },
    {
     "data": {
      "text/plain": [
       "<keras.callbacks.callbacks.History at 0x15f07cbccc8>"
      ]
     },
     "execution_count": 9,
     "metadata": {},
     "output_type": "execute_result"
    },
    {
     "name": "stdout",
     "output_type": "stream",
     "text": [
      "accuracy_score 0.9998845036958818\n",
      "recall_score 0.952755905511811\n",
      "precision_score 0.9731903485254692\n",
      "f1_score 0.9628647214854111\n",
      "Model: \"model_6\"\n",
      "_________________________________________________________________\n",
      "Layer (type)                 Output Shape              Param #   \n",
      "=================================================================\n",
      "input_1 (InputLayer)         (None, 32, 256)           0         \n",
      "_________________________________________________________________\n",
      "bidirectional_1 (Bidirection (None, 32, 128)           164352    \n",
      "_________________________________________________________________\n",
      "time_distributed_1 (TimeDist (None, 32, 1)             129       \n",
      "=================================================================\n",
      "Total params: 164,481\n",
      "Trainable params: 164,481\n",
      "Non-trainable params: 0\n",
      "_________________________________________________________________\n",
      "======Training stage======\n",
      "Epoch 1/10\n",
      "68184/68184 [==============================] - 55s 812us/step - loss: 1.2409e-04 - accuracy: 1.0000s - loss: 1.2546e-04 - accuracy: 1. - ETA: 0s - loss: 1.2517e\n",
      "Epoch 2/10\n",
      "68184/68184 [==============================] - 55s 801us/step - loss: 8.6922e-05 - accuracy: 1.0000\n",
      "Epoch 3/10\n",
      "68184/68184 [==============================] - 55s 801us/step - loss: 6.3212e-05 - accuracy: 1.0000\n",
      "Epoch 4/10\n",
      "68184/68184 [==============================] - 55s 802us/step - loss: 5.3438e-05 - accuracy: 1.0000s - loss: 5.3532e-05 - accuracy: 1.\n",
      "Epoch 5/10\n",
      "68184/68184 [==============================] - 55s 803us/step - loss: 4.1632e-05 - accuracy: 1.0000\n",
      "Epoch 6/10\n",
      "68184/68184 [==============================] - 55s 804us/step - loss: 4.0723e-05 - accuracy: 1.0000\n",
      "Epoch 7/10\n",
      "68184/68184 [==============================] - 55s 801us/step - loss: 3.9793e-05 - accuracy: 1.0000\n",
      "Epoch 8/10\n",
      "68184/68184 [==============================] - 55s 802us/step - loss: 4.5679e-05 - accuracy: 1.0000\n",
      "Epoch 9/10\n",
      "68184/68184 [==============================] - 55s 804us/step - loss: 4.3900e-05 - accuracy: 1.0000\n",
      "Epoch 10/10\n",
      "68184/68184 [==============================] - 56s 819us/step - loss: 3.6945e-05 - accuracy: 1.0000\n"
     ]
    },
    {
     "data": {
      "text/plain": [
       "<keras.callbacks.callbacks.History at 0x15f087b7e08>"
      ]
     },
     "execution_count": 9,
     "metadata": {},
     "output_type": "execute_result"
    },
    {
     "name": "stdout",
     "output_type": "stream",
     "text": [
      "accuracy_score 0.9999587513199577\n",
      "recall_score 0.9775280898876404\n",
      "precision_score 0.9942857142857143\n",
      "f1_score 0.9858356940509916\n",
      "Model: \"model_7\"\n",
      "_________________________________________________________________\n",
      "Layer (type)                 Output Shape              Param #   \n",
      "=================================================================\n",
      "input_1 (InputLayer)         (None, 32, 256)           0         \n",
      "_________________________________________________________________\n",
      "bidirectional_1 (Bidirection (None, 32, 128)           164352    \n",
      "_________________________________________________________________\n",
      "time_distributed_1 (TimeDist (None, 32, 1)             129       \n",
      "=================================================================\n",
      "Total params: 164,481\n",
      "Trainable params: 164,481\n",
      "Non-trainable params: 0\n",
      "_________________________________________________________________\n",
      "======Training stage======\n",
      "Epoch 1/10\n",
      "68184/68184 [==============================] - 59s 872us/step - loss: 6.6193e-05 - accuracy: 1.0000\n",
      "Epoch 2/10\n",
      "68184/68184 [==============================] - 59s 862us/step - loss: 3.8002e-05 - accuracy: 1.0000\n",
      "Epoch 3/10\n",
      "68184/68184 [==============================] - 59s 858us/step - loss: 3.6466e-05 - accuracy: 1.0000\n",
      "Epoch 4/10\n",
      "68184/68184 [==============================] - 59s 861us/step - loss: 4.5151e-05 - accuracy: 1.0000\n",
      "Epoch 5/10\n",
      "68184/68184 [==============================] - 59s 861us/step - loss: 2.5284e-05 - accuracy: 1.0000\n",
      "Epoch 6/10\n",
      "68184/68184 [==============================] - 59s 866us/step - loss: 1.5594e-05 - accuracy: 1.0000\n",
      "Epoch 7/10\n",
      "68184/68184 [==============================] - 59s 864us/step - loss: 2.5346e-05 - accuracy: 1.0000\n",
      "Epoch 8/10\n",
      "68184/68184 [==============================] - 59s 866us/step - loss: 3.3598e-05 - accuracy: 1.0000\n",
      "Epoch 9/10\n",
      "68184/68184 [==============================] - 59s 859us/step - loss: 4.0725e-05 - accuracy: 1.0000\n",
      "Epoch 10/10\n",
      "68184/68184 [==============================] - 59s 860us/step - loss: 3.2104e-05 - accuracy: 1.0000\n"
     ]
    },
    {
     "data": {
      "text/plain": [
       "<keras.callbacks.callbacks.History at 0x15f0a290a08>"
      ]
     },
     "execution_count": 9,
     "metadata": {},
     "output_type": "execute_result"
    },
    {
     "name": "stdout",
     "output_type": "stream",
     "text": [
      "accuracy_score 0.9999587513199577\n",
      "recall_score 0.9811827956989247\n",
      "precision_score 0.9918478260869565\n",
      "f1_score 0.9864864864864865\n",
      "Model: \"model_8\"\n",
      "_________________________________________________________________\n",
      "Layer (type)                 Output Shape              Param #   \n",
      "=================================================================\n",
      "input_1 (InputLayer)         (None, 32, 256)           0         \n",
      "_________________________________________________________________\n",
      "bidirectional_1 (Bidirection (None, 32, 128)           164352    \n",
      "_________________________________________________________________\n",
      "time_distributed_1 (TimeDist (None, 32, 1)             129       \n",
      "=================================================================\n",
      "Total params: 164,481\n",
      "Trainable params: 164,481\n",
      "Non-trainable params: 0\n",
      "_________________________________________________________________\n",
      "======Training stage======\n",
      "Epoch 1/10\n",
      "68184/68184 [==============================] - 61s 894us/step - loss: 5.7471e-05 - accuracy: 1.0000\n",
      "Epoch 2/10\n",
      "68184/68184 [==============================] - 60s 882us/step - loss: 4.6565e-05 - accuracy: 1.0000\n",
      "Epoch 3/10\n",
      "68184/68184 [==============================] - 60s 880us/step - loss: 2.6029e-05 - accuracy: 1.0000\n",
      "Epoch 4/10\n",
      "68184/68184 [==============================] - 60s 884us/step - loss: 3.7460e-05 - accuracy: 1.0000\n",
      "Epoch 5/10\n",
      "68184/68184 [==============================] - 61s 891us/step - loss: 3.0281e-05 - accuracy: 1.0000\n",
      "Epoch 6/10\n",
      "68184/68184 [==============================] - 61s 891us/step - loss: 3.2309e-05 - accuracy: 1.0000\n",
      "Epoch 7/10\n",
      "68184/68184 [==============================] - 60s 887us/step - loss: 1.8064e-05 - accuracy: 1.0000\n",
      "Epoch 8/10\n",
      "68184/68184 [==============================] - 60s 887us/step - loss: 2.5895e-05 - accuracy: 1.0000\n",
      "Epoch 9/10\n",
      "68184/68184 [==============================] - 60s 881us/step - loss: 2.0936e-05 - accuracy: 1.0000\n",
      "Epoch 10/10\n",
      "68184/68184 [==============================] - 60s 882us/step - loss: 1.5387e-05 - accuracy: 1.0000\n"
     ]
    },
    {
     "data": {
      "text/plain": [
       "<keras.callbacks.callbacks.History at 0x15f0cd52dc8>"
      ]
     },
     "execution_count": 9,
     "metadata": {},
     "output_type": "execute_result"
    },
    {
     "name": "stdout",
     "output_type": "stream",
     "text": [
      "accuracy_score 0.999962876187962\n",
      "recall_score 0.9828850855745721\n",
      "precision_score 0.995049504950495\n",
      "f1_score 0.9889298892988929\n",
      "Model: \"model_9\"\n",
      "_________________________________________________________________\n",
      "Layer (type)                 Output Shape              Param #   \n",
      "=================================================================\n",
      "input_1 (InputLayer)         (None, 32, 256)           0         \n",
      "_________________________________________________________________\n",
      "bidirectional_1 (Bidirection (None, 32, 128)           164352    \n",
      "_________________________________________________________________\n",
      "time_distributed_1 (TimeDist (None, 32, 1)             129       \n",
      "=================================================================\n",
      "Total params: 164,481\n",
      "Trainable params: 164,481\n",
      "Non-trainable params: 0\n",
      "_________________________________________________________________\n",
      "======Training stage======\n",
      "Epoch 1/10\n",
      "68184/68184 [==============================] - 62s 906us/step - loss: 3.1149e-05 - accuracy: 1.0000\n",
      "Epoch 2/10\n",
      "68184/68184 [==============================] - 61s 888us/step - loss: 2.9300e-05 - accuracy: 1.0000\n",
      "Epoch 3/10\n",
      "68184/68184 [==============================] - 61s 888us/step - loss: 3.0795e-05 - accuracy: 1.0000\n",
      "Epoch 4/10\n",
      "68184/68184 [==============================] - 61s 889us/step - loss: 1.5291e-05 - accuracy: 1.0000s - loss: 1.5318e-05 - accuracy: 1.\n",
      "Epoch 5/10\n",
      "68184/68184 [==============================] - 61s 891us/step - loss: 1.7334e-05 - accuracy: 1.0000\n",
      "Epoch 6/10\n",
      "68184/68184 [==============================] - 60s 875us/step - loss: 1.6083e-05 - accuracy: 1.0000\n",
      "Epoch 7/10\n",
      "68184/68184 [==============================] - 60s 880us/step - loss: 1.7103e-05 - accuracy: 1.0000\n",
      "Epoch 8/10\n",
      "68184/68184 [==============================] - 60s 877us/step - loss: 1.4870e-05 - accuracy: 1.0000\n",
      "Epoch 9/10\n",
      "68184/68184 [==============================] - 60s 876us/step - loss: 1.6352e-05 - accuracy: 1.0000\n",
      "Epoch 10/10\n",
      "68184/68184 [==============================] - 60s 885us/step - loss: 1.1882e-05 - accuracy: 1.0000\n"
     ]
    },
    {
     "data": {
      "text/plain": [
       "<keras.callbacks.callbacks.History at 0x15f0d7e9b08>"
      ]
     },
     "execution_count": 9,
     "metadata": {},
     "output_type": "execute_result"
    },
    {
     "name": "stdout",
     "output_type": "stream",
     "text": [
      "accuracy_score 0.9999958751319957\n",
      "recall_score 0.9971264367816092\n",
      "precision_score 1.0\n",
      "f1_score 0.9985611510791367\n",
      "Model: \"model_10\"\n",
      "_________________________________________________________________\n",
      "Layer (type)                 Output Shape              Param #   \n",
      "=================================================================\n",
      "input_1 (InputLayer)         (None, 32, 256)           0         \n",
      "_________________________________________________________________\n",
      "bidirectional_1 (Bidirection (None, 32, 128)           164352    \n",
      "_________________________________________________________________\n",
      "time_distributed_1 (TimeDist (None, 32, 1)             129       \n",
      "=================================================================\n",
      "Total params: 164,481\n",
      "Trainable params: 164,481\n",
      "Non-trainable params: 0\n",
      "_________________________________________________________________\n",
      "======Training stage======\n",
      "Epoch 1/10\n",
      "68184/68184 [==============================] - 67s 977us/step - loss: 1.9148e-05 - accuracy: 1.0000\n",
      "Epoch 2/10\n",
      "68184/68184 [==============================] - 65s 957us/step - loss: 1.1493e-05 - accuracy: 1.0000\n",
      "Epoch 3/10\n",
      "68184/68184 [==============================] - 66s 963us/step - loss: 1.1257e-05 - accuracy: 1.0000\n",
      "Epoch 4/10\n",
      "68184/68184 [==============================] - 65s 951us/step - loss: 8.3137e-06 - accuracy: 1.0000\n",
      "Epoch 5/10\n",
      "68184/68184 [==============================] - 65s 950us/step - loss: 1.0969e-05 - accuracy: 1.0000\n",
      "Epoch 6/10\n",
      "68184/68184 [==============================] - 65s 951us/step - loss: 8.2870e-06 - accuracy: 1.0000s - loss: 8.2938e-06 - accuracy: 1.00\n",
      "Epoch 7/10\n",
      "68184/68184 [==============================] - 65s 954us/step - loss: 7.3141e-06 - accuracy: 1.0000\n",
      "Epoch 8/10\n",
      "68184/68184 [==============================] - 65s 952us/step - loss: 1.0587e-05 - accuracy: 1.0000s -\n",
      "Epoch 9/10\n",
      "68184/68184 [==============================] - 64s 943us/step - loss: 9.7482e-06 - accuracy: 1.0000\n",
      "Epoch 10/10\n",
      "68184/68184 [==============================] - 64s 939us/step - loss: 9.4386e-06 - accuracy: 1.0000\n"
     ]
    },
    {
     "data": {
      "text/plain": [
       "<keras.callbacks.callbacks.History at 0x15f11131748>"
      ]
     },
     "execution_count": 9,
     "metadata": {},
     "output_type": "execute_result"
    },
    {
     "name": "stdout",
     "output_type": "stream",
     "text": [
      "accuracy_score 1.0\n",
      "recall_score 1.0\n",
      "precision_score 1.0\n",
      "f1_score 1.0\n",
      "\n",
      "K-fold cross validation Accuracy: [0.9991379025871172, 0.9993111470432946, 0.9995462645195353, 0.9997318835797254, 0.9998845036958818, 0.9999587513199577, 0.9999587513199577, 0.999962876187962, 0.9999958751319957, 1.0]\n",
      "\n",
      "K-fold cross validation Recall: [0.6532258064516129, 0.6839237057220708, 0.854066985645933, 0.8790322580645161, 0.952755905511811, 0.9775280898876404, 0.9811827956989247, 0.9828850855745721, 0.9971264367816092, 1.0]\n",
      "\n",
      "K-fold cross validation Precision: [0.7523219814241486, 0.8311258278145696, 0.8793103448275862, 0.9423631123919308, 0.9731903485254692, 0.9942857142857143, 0.9918478260869565, 0.995049504950495, 1.0, 1.0]\n",
      "\n",
      "K-fold cross validation F1-Score: [0.6992805755395683, 0.750373692077728, 0.866504854368932, 0.9095966620305981, 0.9628647214854111, 0.9858356940509916, 0.9864864864864865, 0.9889298892988929, 0.9985611510791367, 1.0]\n"
     ]
    }
   ],
   "source": [
    "# 교차검증 kfold\n",
    "from sklearn.model_selection import KFold\n",
    "\n",
    "# Accuracy, Precision, Recall, F1-Score\n",
    "from sklearn.metrics import accuracy_score, recall_score, precision_score, f1_score\n",
    "\n",
    "# Confusion Matrix, ROC Curve\n",
    "from sklearn.metrics import confusion_matrix, roc_auc_score\n",
    "\n",
    "# 최종 평가지표들 평균용\n",
    "accuracy, recall, precision, f1score, cm = [], [], [], [], []\n",
    "\n",
    "# 11. 교차검증 kfold - k.split - 10회 / K-Fold 객체 생성\n",
    "# kf = KFold(n_splits=10, shuffle=False, random_state=None) # KFold non shuffle 버전\n",
    "kf = KFold(n_splits=10, shuffle=True, random_state=None) # KFold non shuffle 버전\n",
    "\n",
    "for train, validation in kf.split(x_gcc6_1_32_3, y_gcc6_1_32_3):\n",
    "    model1 = Model(xInput, xOutput)\n",
    "    model1.compile(loss='binary_crossentropy', optimizer='rmsprop', metrics=['accuracy'])\n",
    "    model1.summary()\n",
    "    print('======Training stage======')\n",
    "    model1.fit(x_gcc6_1_32_3[train],\n",
    "               y_gcc6_1_32_3[train],\n",
    "               epochs = 10,\n",
    "               batch_size = 32,\n",
    "               callbacks=[early_stopping])\n",
    "    #k_accuracy = '%.4f' %(model1.evaluate(data_10000x[validation], data_10000y[validation])[1])\n",
    "\n",
    "# 12. 교차검증결과 predict - 검증셋들\n",
    "    # predict 값\n",
    "    k_pr = model1.predict(x_gcc6_1_32_3[validation])\n",
    "    \n",
    "    # 테스트 predict 결과들 비교 (평가지표 보기위함)\n",
    "    pred = np.round(np.array(k_pr).flatten().tolist())\n",
    "    y_test = np.array(y_gcc6_1_32_3[validation]).flatten().tolist()\n",
    "    \n",
    "# 13. 평가지표들 출력\n",
    "    ## 평가지표들\n",
    "    k_accuracy = float(accuracy_score(y_test, pred))\n",
    "    k_recall =  float(recall_score(y_test, pred))\n",
    "    k_precision = float(precision_score(y_test, pred))\n",
    "    k_f1_score = float(f1_score(y_test, pred))\n",
    "    #k_cm = float(confusion_matrix(y_test, pred))\n",
    "    \n",
    "    print('accuracy_score', k_accuracy)\n",
    "    print('recall_score', k_recall)\n",
    "    print('precision_score', k_precision)\n",
    "    print('f1_score', k_f1_score)\n",
    "    #print('\\nconfusion_matrix\\n', k_cm)\n",
    "\n",
    "    accuracy.append(k_accuracy)\n",
    "    recall.append(k_recall)\n",
    "    precision.append(k_precision)\n",
    "    f1score.append(k_f1_score)\n",
    "    #cm.append(k_cm)\n",
    "#    print('roc_curve 면적', roc_auc_score(y_test, pred))\n",
    "\n",
    "# 14. 최종 결과지표\n",
    "print('\\nK-fold cross validation Accuracy: {}'.format(accuracy))\n",
    "print('\\nK-fold cross validation Recall: {}'.format(recall))\n",
    "print('\\nK-fold cross validation Precision: {}'.format(precision))\n",
    "print('\\nK-fold cross validation F1-Score: {}'.format(f1score))\n",
    "#print('\\nK-fold cross validation ConfusionMatrix: {}'.format(cm))"
   ]
  },
  {
   "cell_type": "markdown",
   "metadata": {},
   "source": [
    "## (9) 평가지표"
   ]
  },
  {
   "cell_type": "code",
   "execution_count": 10,
   "metadata": {},
   "outputs": [
    {
     "name": "stdout",
     "output_type": "stream",
     "text": [
      "10-Fold Cross_validation. Accuracy : 0.9997487955385427\n",
      "10-Fold Cross_validation. Recall : 0.896172706933869\n",
      "10-Fold Cross_validation. Precision : 0.9359494660306871\n",
      "10-Fold Cross_validation. F1-Score : 0.9148433726417744\n"
     ]
    }
   ],
   "source": [
    "print('10-Fold Cross_validation. Accuracy :', np.mean(accuracy))\n",
    "print('10-Fold Cross_validation. Recall :', np.mean(recall))\n",
    "print('10-Fold Cross_validation. Precision :', np.mean(precision))\n",
    "print('10-Fold Cross_validation. F1-Score :', np.mean(f1score))"
   ]
  }
 ],
 "metadata": {
  "kernelspec": {
   "display_name": "Python 3",
   "language": "python",
   "name": "python3"
  },
  "language_info": {
   "codemirror_mode": {
    "name": "ipython",
    "version": 3
   },
   "file_extension": ".py",
   "mimetype": "text/x-python",
   "name": "python",
   "nbconvert_exporter": "python",
   "pygments_lexer": "ipython3",
   "version": "3.7.6"
  }
 },
 "nbformat": 4,
 "nbformat_minor": 4
}
