{
 "cells": [
  {
   "cell_type": "markdown",
   "metadata": {},
   "source": [
    "## RNN 모델 N-Byte 방식 (함수정보 포함 vs 미포함 => 1:1 비율)\n",
    "\n",
    "## (1) 데이터로드"
   ]
  },
  {
   "cell_type": "code",
   "execution_count": 11,
   "metadata": {},
   "outputs": [
    {
     "name": "stdout",
     "output_type": "stream",
     "text": [
      "(10532416, 2)\n",
      "reset_index 완료\n",
      "input data shape\n"
     ]
    },
    {
     "data": {
      "text/html": [
       "<div>\n",
       "<style scoped>\n",
       "    .dataframe tbody tr th:only-of-type {\n",
       "        vertical-align: middle;\n",
       "    }\n",
       "\n",
       "    .dataframe tbody tr th {\n",
       "        vertical-align: top;\n",
       "    }\n",
       "\n",
       "    .dataframe thead th {\n",
       "        text-align: right;\n",
       "    }\n",
       "</style>\n",
       "<table border=\"1\" class=\"dataframe\">\n",
       "  <thead>\n",
       "    <tr style=\"text-align: right;\">\n",
       "      <th></th>\n",
       "      <th>bin</th>\n",
       "      <th>label</th>\n",
       "    </tr>\n",
       "  </thead>\n",
       "  <tbody>\n",
       "    <tr>\n",
       "      <th>0</th>\n",
       "      <td>53</td>\n",
       "      <td>1</td>\n",
       "    </tr>\n",
       "    <tr>\n",
       "      <th>1</th>\n",
       "      <td>83</td>\n",
       "      <td>0</td>\n",
       "    </tr>\n",
       "    <tr>\n",
       "      <th>2</th>\n",
       "      <td>ec</td>\n",
       "      <td>0</td>\n",
       "    </tr>\n",
       "    <tr>\n",
       "      <th>3</th>\n",
       "      <td>08</td>\n",
       "      <td>0</td>\n",
       "    </tr>\n",
       "    <tr>\n",
       "      <th>4</th>\n",
       "      <td>e8</td>\n",
       "      <td>0</td>\n",
       "    </tr>\n",
       "  </tbody>\n",
       "</table>\n",
       "</div>"
      ],
      "text/plain": [
       "  bin  label\n",
       "0  53      1\n",
       "1  83      0\n",
       "2  ec      0\n",
       "3  08      0\n",
       "4  e8      0"
      ]
     },
     "execution_count": 11,
     "metadata": {},
     "output_type": "execute_result"
    }
   ],
   "source": [
    "# (1) 데이터로드\n",
    "import pandas as pd\n",
    "import numpy as np\n",
    "\n",
    "import warnings\n",
    "warnings.filterwarnings(action='ignore')\n",
    "\n",
    "# 여러개 쳐도 나오게\n",
    "from IPython.core.interactiveshell import InteractiveShell\n",
    "InteractiveShell.ast_node_interactivity = \"all\"\n",
    "\n",
    "# 파일읽기\n",
    "gcc6_1_32 = pd.read_csv(\"../data/binutils_gcc3~9_op0~4_exec_csv/\"+'gcc6'+\"_1_32_exec.csv\", index_col=0)\n",
    "\n",
    "# 형태 출력\n",
    "print(gcc6_1_32.shape)\n",
    "\n",
    "# reset_index (hex processing 하면서 값이 빠졌으니까 + n_gram 에서 index를 다루기 때문에)\n",
    "gcc6_1_32.reset_index(inplace=True, drop=True)\n",
    "\n",
    "print('reset_index 완료')\n",
    "print('input data shape')\n",
    "gcc6_1_32.head()"
   ]
  },
  {
   "cell_type": "code",
   "execution_count": 12,
   "metadata": {},
   "outputs": [
    {
     "name": "stdout",
     "output_type": "stream",
     "text": [
      "256\n",
      "0    10494535\n",
      "1       37881\n",
      "Name: label, dtype: int64\n"
     ]
    }
   ],
   "source": [
    "# (2-1) 데이터체크 1 - hex(16진수)가 256 label을 가져야 dummies 변환 가능 \n",
    "\n",
    "# 16진수 256개 종류가 있어서 pd.get_dummies 사용 가능.\n",
    "print(len(gcc6_1_32['bin'].unique()))\n",
    "\n",
    "# (2-2) 데이터 체크 2 - 1, 0 비율 ==> 1이 함수의 갯수를 뜻함\n",
    "# 정답 데이터 1, 0 비율 확인  ==> 1이 함수의 갯수를 뜻함\n",
    "print(gcc6_1_32['label'].value_counts())"
   ]
  },
  {
   "cell_type": "markdown",
   "metadata": {},
   "source": [
    "## (3) N Byte씩 자르기"
   ]
  },
  {
   "cell_type": "code",
   "execution_count": 13,
   "metadata": {},
   "outputs": [
    {
     "name": "stdout",
     "output_type": "stream",
     "text": [
      "606096\n",
      "나머지 0\n",
      "최종 길이 606096\n",
      "gcc6_0_32 606096\n"
     ]
    }
   ],
   "source": [
    "######################## \n",
    "idx = gcc6_1_32[gcc6_1_32['label']==1].index  # 407, 474 ...\n",
    "ls = list(idx)\n",
    "\n",
    "# 최종 뽑을 행에 대한 index\n",
    "ls_idx = [] \n",
    "left_idx, right_idx = 0, 16 # 3개씩\n",
    "\n",
    "# 6gram\n",
    "for k in range(left_idx, right_idx):\n",
    "    ls_idx.extend(list(idx + k)) # index 형이라서 가능\n",
    "\n",
    "#ls_idx = list(set(ls_idx)) \n",
    "ls_idx.sort() # 인덱스 정렬\n",
    "\n",
    "# 1차 index 해당범위 초과한 것들 없애기\n",
    "ls_idx = list(filter(lambda x: x<len(gcc6_1_32), ls_idx))\n",
    "print(len(ls_idx))\n",
    "\n",
    "# 2차 남은 index들 중 right_idx 나눈 나머지 없애기\n",
    "sub = len(ls_idx)%(right_idx)\n",
    "print('나머지', sub)\n",
    "\n",
    "ls_idx = ls_idx[:len(ls_idx)-sub]\n",
    "print('최종 길이', len(ls_idx))\n",
    "\n",
    "print('gcc6_1_32', len(ls_idx))\n",
    "\n",
    "# loc 로 수정필요\n",
    "gcc6_1_32_Ngram = gcc6_1_32.loc[ls_idx,:].copy()"
   ]
  },
  {
   "cell_type": "markdown",
   "metadata": {},
   "source": [
    "## (4) false data 만들기"
   ]
  },
  {
   "cell_type": "code",
   "execution_count": 14,
   "metadata": {},
   "outputs": [
    {
     "name": "stdout",
     "output_type": "stream",
     "text": [
      "0 1000 2000 3000 4000 5000 6000 7000 8000 9000 10000 11000 12000 13000 14000 15000 16000 17000 18000 19000 20000 21000 22000 23000 24000 25000 26000 27000 28000 29000 30000 31000 32000 33000 34000 35000 36000 37000 완료\n"
     ]
    }
   ],
   "source": [
    "# false data 만들기 - False 데이터 랜덤 생성\n",
    "# random index\n",
    "random_idx = np.random.randint(len(gcc6_1_32)-right_idx)\n",
    "\n",
    "# 목표치\n",
    "goal = len(gcc6_1_32_Ngram)/right_idx\n",
    "count=0\n",
    "\n",
    "d = pd.DataFrame(columns=gcc6_1_32.columns)\n",
    "\n",
    "# goal 에 도달할 때까지\n",
    "while count!=goal:\n",
    "    \n",
    "    # 진행상황 살펴보기 위함\n",
    "    if count%1000==0:\n",
    "        print(count, end=' ')\n",
    "        \n",
    "    # 랜덤 N 바이트씩 뽑음\n",
    "    df = gcc6_1_32[random_idx:random_idx+right_idx]\n",
    "    \n",
    "    # 뽑은 index의 N 바이트 중에 1이 없는 경우만\n",
    "    if 1 not in df['label']:\n",
    "        d = pd.concat([d, df])\n",
    "        count+=1\n",
    "\n",
    "print('완료')"
   ]
  },
  {
   "cell_type": "markdown",
   "metadata": {},
   "source": [
    "## (5) False Data + True Data 합치기"
   ]
  },
  {
   "cell_type": "code",
   "execution_count": 15,
   "metadata": {},
   "outputs": [
    {
     "name": "stdout",
     "output_type": "stream",
     "text": [
      "0 1000 2000 3000 4000 5000 6000 7000 8000 9000 10000 11000 12000 13000 14000 15000 16000 17000 18000 19000 20000 21000 22000 23000 24000 25000 26000 27000 28000 29000 30000 31000 32000 33000 34000 35000 36000 37000 "
     ]
    },
    {
     "data": {
      "text/plain": [
       "(1212192, 2)"
      ]
     },
     "execution_count": 15,
     "metadata": {},
     "output_type": "execute_result"
    }
   ],
   "source": [
    "ff = pd.DataFrame(columns=gcc6_1_32.columns)\n",
    "\n",
    "for i in range(0, int(len(d)/right_idx)):\n",
    "    ff = pd.concat([ff, gcc6_1_32[i*right_idx:(i+1)*right_idx], d[i*right_idx:(i+1)*right_idx]])\n",
    "    \n",
    "    if i%1000==0:\n",
    "        print(i, end=' ')\n",
    "ff.shape"
   ]
  },
  {
   "cell_type": "markdown",
   "metadata": {},
   "source": [
    "## (6) one hot encoding"
   ]
  },
  {
   "cell_type": "code",
   "execution_count": 16,
   "metadata": {},
   "outputs": [
    {
     "name": "stdout",
     "output_type": "stream",
     "text": [
      "원핫인코딩완료\n",
      "(1212192, 257)\n"
     ]
    }
   ],
   "source": [
    "# 훈련데이터 (gcc 최적화버전 0, 1, 2, 3 one hot encoding)\n",
    "gcc6_1_32_onehot_Ngram = pd.get_dummies(ff['bin'])\n",
    "gcc6_1_32_onehot_Ngram = pd.concat([ff['label'], gcc6_1_32_onehot_Ngram], axis=1)\n",
    "\n",
    "print('원핫인코딩완료')\n",
    "print(gcc6_1_32_onehot_Ngram.shape)"
   ]
  },
  {
   "cell_type": "code",
   "execution_count": 17,
   "metadata": {},
   "outputs": [
    {
     "name": "stdout",
     "output_type": "stream",
     "text": [
      "(1212192, 256) (1212192,)\n",
      "(75762, 16, 256) (75762, 16, 1)\n"
     ]
    }
   ],
   "source": [
    "# 훈련 데이터, 훈련 라벨\n",
    "x_gcc6_1_32_3 = gcc6_1_32_onehot_Ngram.iloc[:,1:].to_numpy()\n",
    "y_gcc6_1_32_3 = gcc6_1_32_onehot_Ngram['label'].to_numpy()\n",
    "print(x_gcc6_1_32_3.shape, y_gcc6_1_32_3.shape)\n",
    "\n",
    "x_gcc6_1_32_3 = x_gcc6_1_32_3.reshape(-1, right_idx, x_gcc6_1_32_3.shape[1])\n",
    "y_gcc6_1_32_3 = y_gcc6_1_32_3.reshape(-1, right_idx, 1)\n",
    "\n",
    "print(x_gcc6_1_32_3.shape, y_gcc6_1_32_3.shape)"
   ]
  },
  {
   "cell_type": "markdown",
   "metadata": {},
   "source": [
    "## (7) 모델"
   ]
  },
  {
   "cell_type": "code",
   "execution_count": 18,
   "metadata": {},
   "outputs": [
    {
     "name": "stdout",
     "output_type": "stream",
     "text": [
      "Model: \"model_2\"\n",
      "_________________________________________________________________\n",
      "Layer (type)                 Output Shape              Param #   \n",
      "=================================================================\n",
      "input_2 (InputLayer)         (None, 16, 256)           0         \n",
      "_________________________________________________________________\n",
      "bidirectional_2 (Bidirection (None, 16, 64)            73984     \n",
      "_________________________________________________________________\n",
      "time_distributed_2 (TimeDist (None, 16, 1)             65        \n",
      "=================================================================\n",
      "Total params: 74,049\n",
      "Trainable params: 74,049\n",
      "Non-trainable params: 0\n",
      "_________________________________________________________________\n"
     ]
    }
   ],
   "source": [
    "# (10) 양방향 LSTM 모델링 작업\n",
    "from keras.models import Model, Sequential\n",
    "from keras.layers import SimpleRNN, Input, Dense, LSTM\n",
    "from keras.layers import Bidirectional, TimeDistributed\n",
    "\n",
    "# 학습\n",
    "from keras.callbacks import EarlyStopping\n",
    "early_stopping = EarlyStopping(patience = 3) # 조기종료 콜백함수 정의\n",
    "\n",
    "xInput = Input(batch_shape=(None,right_idx, 256)) \n",
    "xBiLstm = Bidirectional(LSTM(32, return_sequences=True), merge_mode = 'concat')(xInput)\n",
    "xOutput = TimeDistributed(Dense(1, activation ='sigmoid'))(xBiLstm) # 각 스텝에서 cost가 전송되고, 오류가 다음 step으로 전송됨.\n",
    "\n",
    "model1 = Model(xInput, xOutput)\n",
    "model1.compile(loss='binary_crossentropy', optimizer='rmsprop', metrics=['accuracy'])\n",
    "model1.summary()"
   ]
  },
  {
   "cell_type": "markdown",
   "metadata": {},
   "source": [
    "## (8) 학습 - 10 KFold"
   ]
  },
  {
   "cell_type": "code",
   "execution_count": 19,
   "metadata": {
    "scrolled": false
   },
   "outputs": [
    {
     "name": "stdout",
     "output_type": "stream",
     "text": [
      "======Training stage======\n",
      "Epoch 1/10\n",
      "68185/68185 [==============================] - 42s 621us/step - loss: 0.0124 - accuracy: 0.9980\n",
      "Epoch 2/10\n",
      "68185/68185 [==============================] - 41s 596us/step - loss: 0.0052 - accuracy: 0.9986\n",
      "Epoch 3/10\n",
      "68185/68185 [==============================] - 41s 600us/step - loss: 0.0046 - accuracy: 0.9987\n",
      "Epoch 4/10\n",
      "68185/68185 [==============================] - 41s 601us/step - loss: 0.0044 - accuracy: 0.9988\n",
      "Epoch 5/10\n",
      "68185/68185 [==============================] - 41s 594us/step - loss: 0.0042 - accuracy: 0.9988\n",
      "Epoch 6/10\n",
      "68185/68185 [==============================] - 41s 601us/step - loss: 0.0041 - accuracy: 0.9988s - loss: 0.0041 - accuracy: \n",
      "Epoch 7/10\n",
      "68185/68185 [==============================] - 40s 589us/step - loss: 0.0040 - accuracy: 0.9988\n",
      "Epoch 8/10\n",
      "68185/68185 [==============================] - 41s 600us/step - loss: 0.0039 - accuracy: 0.9989\n",
      "Epoch 9/10\n",
      "68185/68185 [==============================] - 41s 602us/step - loss: 0.0038 - accuracy: 0.9989\n",
      "Epoch 10/10\n",
      "68185/68185 [==============================] - 41s 598us/step - loss: 0.0037 - accuracy: 0.9989s\n"
     ]
    },
    {
     "data": {
      "text/plain": [
       "<keras.callbacks.callbacks.History at 0x13c8582b7c8>"
      ]
     },
     "execution_count": 19,
     "metadata": {},
     "output_type": "execute_result"
    },
    {
     "name": "stdout",
     "output_type": "stream",
     "text": [
      "accuracy_score 0.9990844001583741\n",
      "recall_score 0.44508670520231214\n",
      "precision_score 0.8369565217391305\n",
      "f1_score 0.5811320754716981\n",
      "======Training stage======\n",
      "Epoch 1/10\n",
      "68185/68185 [==============================] - 37s 540us/step - loss: 0.0036 - accuracy: 0.9990\n",
      "Epoch 2/10\n",
      "68185/68185 [==============================] - 40s 593us/step - loss: 0.0035 - accuracy: 0.9990s - loss: 0.0035 - accura\n",
      "Epoch 3/10\n",
      "68185/68185 [==============================] - 41s 597us/step - loss: 0.0035 - accuracy: 0.9990\n",
      "Epoch 4/10\n",
      "68185/68185 [==============================] - 40s 591us/step - loss: 0.0034 - accuracy: 0.9990\n",
      "Epoch 5/10\n",
      "68185/68185 [==============================] - 40s 593us/step - loss: 0.0033 - accuracy: 0.9991\n",
      "Epoch 6/10\n",
      "68185/68185 [==============================] - 40s 591us/step - loss: 0.0033 - accuracy: 0.9991\n",
      "Epoch 7/10\n",
      "68185/68185 [==============================] - 41s 599us/step - loss: 0.0032 - accuracy: 0.9991\n",
      "Epoch 8/10\n",
      "68185/68185 [==============================] - 41s 596us/step - loss: 0.0031 - accuracy: 0.9991\n",
      "Epoch 9/10\n",
      "68185/68185 [==============================] - 42s 611us/step - loss: 0.0031 - accuracy: 0.9991\n",
      "Epoch 10/10\n",
      "68185/68185 [==============================] - 41s 606us/step - loss: 0.0029 - accuracy: 0.9992\n"
     ]
    },
    {
     "data": {
      "text/plain": [
       "<keras.callbacks.callbacks.History at 0x13cea9cfb08>"
      ]
     },
     "execution_count": 19,
     "metadata": {},
     "output_type": "execute_result"
    },
    {
     "name": "stdout",
     "output_type": "stream",
     "text": [
      "accuracy_score 0.9987874488583872\n",
      "recall_score 0.5169082125603864\n",
      "precision_score 0.6948051948051948\n",
      "f1_score 0.5927977839335179\n",
      "======Training stage======\n",
      "Epoch 1/10\n",
      "68186/68186 [==============================] - 41s 598us/step - loss: 0.0030 - accuracy: 0.9992\n",
      "Epoch 2/10\n",
      "68186/68186 [==============================] - 41s 600us/step - loss: 0.0029 - accuracy: 0.9992s - loss: 0.0029 - ac\n",
      "Epoch 3/10\n",
      "68186/68186 [==============================] - 41s 599us/step - loss: 0.0028 - accuracy: 0.9992\n",
      "Epoch 4/10\n",
      "68186/68186 [==============================] - 41s 599us/step - loss: 0.0027 - accuracy: 0.9992\n",
      "Epoch 5/10\n",
      "68186/68186 [==============================] - 41s 600us/step - loss: 0.0026 - accuracy: 0.9993\n",
      "Epoch 6/10\n",
      "68186/68186 [==============================] - 37s 550us/step - loss: 0.0025 - accuracy: 0.9993\n",
      "Epoch 7/10\n",
      "68186/68186 [==============================] - 42s 609us/step - loss: 0.0025 - accuracy: 0.9993\n",
      "Epoch 8/10\n",
      "68186/68186 [==============================] - 41s 600us/step - loss: 0.0024 - accuracy: 0.9994\n",
      "Epoch 9/10\n",
      "68186/68186 [==============================] - 41s 603us/step - loss: 0.0024 - accuracy: 0.9993\n",
      "Epoch 10/10\n",
      "68186/68186 [==============================] - 42s 612us/step - loss: 0.0023 - accuracy: 0.9994\n"
     ]
    },
    {
     "data": {
      "text/plain": [
       "<keras.callbacks.callbacks.History at 0x13c9d2820c8>"
      ]
     },
     "execution_count": 19,
     "metadata": {},
     "output_type": "execute_result"
    },
    {
     "name": "stdout",
     "output_type": "stream",
     "text": [
      "accuracy_score 0.9987047914466737\n",
      "recall_score 0.4409090909090909\n",
      "precision_score 0.7404580152671756\n",
      "f1_score 0.5527065527065527\n",
      "======Training stage======\n",
      "Epoch 1/10\n",
      "68186/68186 [==============================] - 44s 640us/step - loss: 0.0025 - accuracy: 0.9993\n",
      "Epoch 2/10\n",
      "68186/68186 [==============================] - 41s 596us/step - loss: 0.0024 - accuracy: 0.9994\n",
      "Epoch 3/10\n",
      "68186/68186 [==============================] - 41s 597us/step - loss: 0.0023 - accuracy: 0.9994\n",
      "Epoch 4/10\n",
      "68186/68186 [==============================] - 41s 599us/step - loss: 0.0022 - accuracy: 0.9994\n",
      "Epoch 5/10\n",
      "68186/68186 [==============================] - 41s 597us/step - loss: 0.0021 - accuracy: 0.9994\n",
      "Epoch 6/10\n",
      "68186/68186 [==============================] - 41s 598us/step - loss: 0.0021 - accuracy: 0.9994\n",
      "Epoch 7/10\n",
      "68186/68186 [==============================] - 41s 596us/step - loss: 0.0020 - accuracy: 0.9995\n",
      "Epoch 8/10\n",
      "68186/68186 [==============================] - 41s 596us/step - loss: 0.0019 - accuracy: 0.9995\n",
      "Epoch 9/10\n",
      "68186/68186 [==============================] - 41s 602us/step - loss: 0.0019 - accuracy: 0.9995\n",
      "Epoch 10/10\n",
      "68186/68186 [==============================] - 41s 601us/step - loss: 0.0018 - accuracy: 0.9995\n"
     ]
    },
    {
     "data": {
      "text/plain": [
       "<keras.callbacks.callbacks.History at 0x13c8582b648>"
      ]
     },
     "execution_count": 19,
     "metadata": {},
     "output_type": "execute_result"
    },
    {
     "name": "stdout",
     "output_type": "stream",
     "text": [
      "accuracy_score 0.9990100316789863\n",
      "recall_score 0.5970149253731343\n",
      "precision_score 0.7547169811320755\n",
      "f1_score 0.6666666666666666\n",
      "======Training stage======\n",
      "Epoch 1/10\n",
      "68186/68186 [==============================] - 40s 593us/step - loss: 0.0020 - accuracy: 0.9995\n",
      "Epoch 2/10\n",
      "68186/68186 [==============================] - 41s 597us/step - loss: 0.0019 - accuracy: 0.9995\n",
      "Epoch 3/10\n",
      "68186/68186 [==============================] - 41s 594us/step - loss: 0.0018 - accuracy: 0.9995\n",
      "Epoch 4/10\n",
      "68186/68186 [==============================] - 41s 595us/step - loss: 0.0017 - accuracy: 0.9995\n",
      "Epoch 5/10\n",
      "68186/68186 [==============================] - 41s 595us/step - loss: 0.0017 - accuracy: 0.9996\n",
      "Epoch 6/10\n",
      "68186/68186 [==============================] - 36s 523us/step - loss: 0.0016 - accuracy: 0.9996\n",
      "Epoch 7/10\n",
      "68186/68186 [==============================] - 40s 585us/step - loss: 0.0015 - accuracy: 0.9996\n",
      "Epoch 8/10\n",
      "68186/68186 [==============================] - 40s 591us/step - loss: 0.0015 - accuracy: 0.9996\n",
      "Epoch 9/10\n",
      "68186/68186 [==============================] - 41s 596us/step - loss: 0.0014 - accuracy: 0.9996s - loss: 0.0\n",
      "Epoch 10/10\n",
      "68186/68186 [==============================] - 40s 592us/step - loss: 0.0014 - accuracy: 0.9996\n"
     ]
    },
    {
     "data": {
      "text/plain": [
       "<keras.callbacks.callbacks.History at 0x13c9d233648>"
      ]
     },
     "execution_count": 19,
     "metadata": {},
     "output_type": "execute_result"
    },
    {
     "name": "stdout",
     "output_type": "stream",
     "text": [
      "accuracy_score 0.9990182814149947\n",
      "recall_score 0.5845410628019324\n",
      "precision_score 0.7857142857142857\n",
      "f1_score 0.6703601108033241\n",
      "======Training stage======\n",
      "Epoch 1/10\n",
      "68186/68186 [==============================] - 40s 588us/step - loss: 0.0017 - accuracy: 0.9996\n",
      "Epoch 2/10\n",
      "68186/68186 [==============================] - 41s 596us/step - loss: 0.0015 - accuracy: 0.9996s - loss: 0.0015 - accura\n",
      "Epoch 3/10\n",
      "68186/68186 [==============================] - 41s 607us/step - loss: 0.0014 - accuracy: 0.9996\n",
      "Epoch 4/10\n",
      "68186/68186 [==============================] - 41s 595us/step - loss: 0.0014 - accuracy: 0.9996s - loss: 0\n",
      "Epoch 5/10\n",
      "68186/68186 [==============================] - 39s 569us/step - loss: 0.0013 - accuracy: 0.9997\n",
      "Epoch 6/10\n",
      "68186/68186 [==============================] - 39s 572us/step - loss: 0.0012 - accuracy: 0.9997\n",
      "Epoch 7/10\n",
      "68186/68186 [==============================] - 40s 594us/step - loss: 0.0012 - accuracy: 0.9997\n",
      "Epoch 8/10\n",
      "68186/68186 [==============================] - 49s 720us/step - loss: 0.0011 - accuracy: 0.9997\n",
      "Epoch 9/10\n",
      "68186/68186 [==============================] - 49s 719us/step - loss: 0.0011 - accuracy: 0.9997\n",
      "Epoch 10/10\n",
      "68186/68186 [==============================] - 49s 721us/step - loss: 0.0011 - accuracy: 0.9997\n"
     ]
    },
    {
     "data": {
      "text/plain": [
       "<keras.callbacks.callbacks.History at 0x13c9d24efc8>"
      ]
     },
     "execution_count": 19,
     "metadata": {},
     "output_type": "execute_result"
    },
    {
     "name": "stdout",
     "output_type": "stream",
     "text": [
      "accuracy_score 0.9992410242872228\n",
      "recall_score 0.6021505376344086\n",
      "precision_score 0.8615384615384616\n",
      "f1_score 0.708860759493671\n",
      "======Training stage======\n",
      "Epoch 1/10\n",
      "68186/68186 [==============================] - 49s 716us/step - loss: 0.0013 - accuracy: 0.9997\n",
      "Epoch 2/10\n",
      "68186/68186 [==============================] - 49s 715us/step - loss: 0.0012 - accuracy: 0.9997\n",
      "Epoch 3/10\n",
      "68186/68186 [==============================] - 49s 721us/step - loss: 0.0011 - accuracy: 0.9997\n",
      "Epoch 4/10\n",
      "68186/68186 [==============================] - 49s 718us/step - loss: 0.0010 - accuracy: 0.9997\n",
      "Epoch 5/10\n",
      "68186/68186 [==============================] - 49s 725us/step - loss: 0.0010 - accuracy: 0.9997\n",
      "Epoch 6/10\n",
      "68186/68186 [==============================] - 49s 721us/step - loss: 9.6907e-04 - accuracy: 0.9998\n",
      "Epoch 7/10\n",
      "68186/68186 [==============================] - 49s 725us/step - loss: 9.1201e-04 - accuracy: 0.9998\n",
      "Epoch 8/10\n",
      "68186/68186 [==============================] - 50s 727us/step - loss: 8.7733e-04 - accuracy: 0.9998\n",
      "Epoch 9/10\n",
      "68186/68186 [==============================] - 50s 728us/step - loss: 8.4402e-04 - accuracy: 0.9998\n",
      "Epoch 10/10\n",
      "68186/68186 [==============================] - 50s 736us/step - loss: 7.9629e-04 - accuracy: 0.9998\n"
     ]
    },
    {
     "data": {
      "text/plain": [
       "<keras.callbacks.callbacks.History at 0x13c9d27b1c8>"
      ]
     },
     "execution_count": 19,
     "metadata": {},
     "output_type": "execute_result"
    },
    {
     "name": "stdout",
     "output_type": "stream",
     "text": [
      "accuracy_score 0.999224524815206\n",
      "recall_score 0.6650246305418719\n",
      "precision_score 0.8385093167701864\n",
      "f1_score 0.7417582417582419\n",
      "======Training stage======\n",
      "Epoch 1/10\n",
      "68186/68186 [==============================] - 49s 723us/step - loss: 0.0010 - accuracy: 0.9997\n",
      "Epoch 2/10\n",
      "68186/68186 [==============================] - 50s 728us/step - loss: 8.9275e-04 - accuracy: 0.9998\n",
      "Epoch 3/10\n",
      "68186/68186 [==============================] - 50s 731us/step - loss: 8.3445e-04 - accuracy: 0.9998\n",
      "Epoch 4/10\n",
      "68186/68186 [==============================] - 49s 722us/step - loss: 8.0550e-04 - accuracy: 0.9998\n",
      "Epoch 5/10\n",
      "68186/68186 [==============================] - 48s 697us/step - loss: 6.9952e-04 - accuracy: 0.9998\n",
      "Epoch 6/10\n",
      "68186/68186 [==============================] - 49s 721us/step - loss: 6.9512e-04 - accuracy: 0.9998s -\n",
      "Epoch 7/10\n",
      "68186/68186 [==============================] - 50s 727us/step - loss: 6.3064e-04 - accuracy: 0.9998\n",
      "Epoch 8/10\n",
      "68186/68186 [==============================] - 49s 718us/step - loss: 6.2309e-04 - accuracy: 0.9998\n",
      "Epoch 9/10\n",
      "68186/68186 [==============================] - 49s 722us/step - loss: 5.7113e-04 - accuracy: 0.9998\n",
      "Epoch 10/10\n",
      "68186/68186 [==============================] - 49s 725us/step - loss: 5.7694e-04 - accuracy: 0.9998\n"
     ]
    },
    {
     "data": {
      "text/plain": [
       "<keras.callbacks.callbacks.History at 0x13c8582e508>"
      ]
     },
     "execution_count": 19,
     "metadata": {},
     "output_type": "execute_result"
    },
    {
     "name": "stdout",
     "output_type": "stream",
     "text": [
      "accuracy_score 0.9992575237592397\n",
      "recall_score 0.735\n",
      "precision_score 0.7989130434782609\n",
      "f1_score 0.765625\n",
      "======Training stage======\n",
      "Epoch 1/10\n",
      "68186/68186 [==============================] - 49s 716us/step - loss: 8.9492e-04 - accuracy: 0.9998\n",
      "Epoch 2/10\n",
      "68186/68186 [==============================] - 46s 669us/step - loss: 7.2730e-04 - accuracy: 0.9998\n",
      "Epoch 3/10\n",
      "68186/68186 [==============================] - 49s 722us/step - loss: 7.2732e-04 - accuracy: 0.9998\n",
      "Epoch 4/10\n",
      "68186/68186 [==============================] - 47s 696us/step - loss: 6.4785e-04 - accuracy: 0.9998\n",
      "Epoch 5/10\n",
      "68186/68186 [==============================] - 47s 691us/step - loss: 5.7932e-04 - accuracy: 0.9999\n",
      "Epoch 6/10\n",
      "68186/68186 [==============================] - 49s 717us/step - loss: 5.5170e-04 - accuracy: 0.9999\n",
      "Epoch 7/10\n",
      "68186/68186 [==============================] - ETA: 0s - loss: 5.2093e-04 - accuracy: 0.99 - 49s 713us/step - loss: 5.2079e-04 - accuracy: 0.9999\n",
      "Epoch 8/10\n",
      "68186/68186 [==============================] - 48s 703us/step - loss: 5.0559e-04 - accuracy: 0.9999\n",
      "Epoch 9/10\n",
      "68186/68186 [==============================] - 48s 705us/step - loss: 4.5812e-04 - accuracy: 0.9999\n",
      "Epoch 10/10\n",
      "68186/68186 [==============================] - 49s 719us/step - loss: 4.8215e-04 - accuracy: 0.9999\n"
     ]
    },
    {
     "data": {
      "text/plain": [
       "<keras.callbacks.callbacks.History at 0x13c8582c188>"
      ]
     },
     "execution_count": 19,
     "metadata": {},
     "output_type": "execute_result"
    },
    {
     "name": "stdout",
     "output_type": "stream",
     "text": [
      "accuracy_score 0.999447267687434\n",
      "recall_score 0.7553191489361702\n",
      "precision_score 0.8711656441717791\n",
      "f1_score 0.809116809116809\n",
      "======Training stage======\n",
      "Epoch 1/10\n",
      "68186/68186 [==============================] - 50s 732us/step - loss: 7.3449e-04 - accuracy: 0.9998\n",
      "Epoch 2/10\n",
      "68186/68186 [==============================] - 49s 723us/step - loss: 6.2472e-04 - accuracy: 0.9998\n",
      "Epoch 3/10\n",
      "68186/68186 [==============================] - 46s 681us/step - loss: 5.7528e-04 - accuracy: 0.9998\n",
      "Epoch 4/10\n",
      "68186/68186 [==============================] - 49s 723us/step - loss: 4.6897e-04 - accuracy: 0.9999s - loss: 4.6673e - ETA: 0s - loss: 4.6356e - ETA: 0s - loss: 4.6514e-04 - accura\n",
      "Epoch 5/10\n",
      "68186/68186 [==============================] - 49s 722us/step - loss: 4.7069e-04 - accuracy: 0.9999\n",
      "Epoch 6/10\n",
      "68186/68186 [==============================] - 49s 725us/step - loss: 5.3523e-04 - accuracy: 0.9999\n",
      "Epoch 7/10\n",
      "68186/68186 [==============================] - 50s 730us/step - loss: 4.8610e-04 - accuracy: 0.9999\n",
      "Epoch 8/10\n",
      "68186/68186 [==============================] - 49s 715us/step - loss: 4.3513e-04 - accuracy: 0.9999\n",
      "Epoch 9/10\n",
      "68186/68186 [==============================] - 49s 719us/step - loss: 4.0747e-04 - accuracy: 0.9999\n",
      "Epoch 10/10\n",
      "68186/68186 [==============================] - 49s 724us/step - loss: 4.0934e-04 - accuracy: 0.9999\n"
     ]
    },
    {
     "data": {
      "text/plain": [
       "<keras.callbacks.callbacks.History at 0x13c8582e208>"
      ]
     },
     "execution_count": 19,
     "metadata": {},
     "output_type": "execute_result"
    },
    {
     "name": "stdout",
     "output_type": "stream",
     "text": [
      "accuracy_score 0.9994555174234424\n",
      "recall_score 0.7176470588235294\n",
      "precision_score 0.8714285714285714\n",
      "f1_score 0.7870967741935484\n",
      "\n",
      "K-fold cross validation Accuracy: [0.9990844001583741, 0.9987874488583872, 0.9987047914466737, 0.9990100316789863, 0.9990182814149947, 0.9992410242872228, 0.999224524815206, 0.9992575237592397, 0.999447267687434, 0.9994555174234424]\n",
      "\n",
      "K-fold cross validation Recall: [0.44508670520231214, 0.5169082125603864, 0.4409090909090909, 0.5970149253731343, 0.5845410628019324, 0.6021505376344086, 0.6650246305418719, 0.735, 0.7553191489361702, 0.7176470588235294]\n",
      "\n",
      "K-fold cross validation Precision: [0.8369565217391305, 0.6948051948051948, 0.7404580152671756, 0.7547169811320755, 0.7857142857142857, 0.8615384615384616, 0.8385093167701864, 0.7989130434782609, 0.8711656441717791, 0.8714285714285714]\n",
      "\n",
      "K-fold cross validation F1-Score: [0.5811320754716981, 0.5927977839335179, 0.5527065527065527, 0.6666666666666666, 0.6703601108033241, 0.708860759493671, 0.7417582417582419, 0.765625, 0.809116809116809, 0.7870967741935484]\n"
     ]
    }
   ],
   "source": [
    "# 교차검증 kfold\n",
    "from sklearn.model_selection import KFold\n",
    "\n",
    "# Accuracy, Precision, Recall, F1-Score\n",
    "from sklearn.metrics import accuracy_score, recall_score, precision_score, f1_score\n",
    "\n",
    "# Confusion Matrix, ROC Curve\n",
    "from sklearn.metrics import confusion_matrix, roc_auc_score\n",
    "\n",
    "# 최종 평가지표들 평균용\n",
    "accuracy, recall, precision, f1score, cm = [], [], [], [], []\n",
    "\n",
    "# 11. 교차검증 kfold - k.split - 10회 / K-Fold 객체 생성\n",
    "# kf = KFold(n_splits=10, shuffle=False, random_state=None) # KFold non shuffle 버전\n",
    "kf = KFold(n_splits=10, shuffle=True, random_state=None) # KFold non shuffle 버전\n",
    "\n",
    "for train, validation in kf.split(x_gcc6_1_32_3, y_gcc6_1_32_3):\n",
    "    print('======Training stage======')\n",
    "    model1.fit(x_gcc6_1_32_3[train],\n",
    "               y_gcc6_1_32_3[train],\n",
    "               epochs = 10,\n",
    "               batch_size = 32,\n",
    "               callbacks=[early_stopping])\n",
    "    #k_accuracy = '%.4f' %(model1.evaluate(data_10000x[validation], data_10000y[validation])[1])\n",
    "\n",
    "# 12. 교차검증결과 predict - 검증셋들\n",
    "    # predict 값\n",
    "    k_pr = model1.predict(x_gcc6_1_32_3[validation])\n",
    "    \n",
    "    # 테스트 predict 결과들 비교 (평가지표 보기위함)\n",
    "    pred = np.round(np.array(k_pr).flatten().tolist())\n",
    "    y_test = np.array(y_gcc6_1_32_3[validation]).flatten().tolist()\n",
    "    \n",
    "# 13. 평가지표들 출력\n",
    "    ## 평가지표들\n",
    "    k_accuracy = float(accuracy_score(y_test, pred))\n",
    "    k_recall =  float(recall_score(y_test, pred))\n",
    "    k_precision = float(precision_score(y_test, pred))\n",
    "    k_f1_score = float(f1_score(y_test, pred))\n",
    "    #k_cm = float(confusion_matrix(y_test, pred))\n",
    "    \n",
    "    print('accuracy_score', k_accuracy)\n",
    "    print('recall_score', k_recall)\n",
    "    print('precision_score', k_precision)\n",
    "    print('f1_score', k_f1_score)\n",
    "    #print('\\nconfusion_matrix\\n', k_cm)\n",
    "\n",
    "    accuracy.append(k_accuracy)\n",
    "    recall.append(k_recall)\n",
    "    precision.append(k_precision)\n",
    "    f1score.append(k_f1_score)\n",
    "    #cm.append(k_cm)\n",
    "#    print('roc_curve 면적', roc_auc_score(y_test, pred))\n",
    "\n",
    "# 14. 최종 결과지표\n",
    "print('\\nK-fold cross validation Accuracy: {}'.format(accuracy))\n",
    "print('\\nK-fold cross validation Recall: {}'.format(recall))\n",
    "print('\\nK-fold cross validation Precision: {}'.format(precision))\n",
    "print('\\nK-fold cross validation F1-Score: {}'.format(f1score))\n",
    "#print('\\nK-fold cross validation ConfusionMatrix: {}'.format(cm))"
   ]
  },
  {
   "cell_type": "markdown",
   "metadata": {},
   "source": [
    "## (9) 평가지표"
   ]
  },
  {
   "cell_type": "code",
   "execution_count": 20,
   "metadata": {},
   "outputs": [
    {
     "name": "stdout",
     "output_type": "stream",
     "text": [
      "10-Fold Cross_validation. Accuracy : 0.999123081152996\n",
      "10-Fold Cross_validation. Recall : 0.6059601372782836\n",
      "10-Fold Cross_validation. Precision : 0.8054206036045122\n",
      "10-Fold Cross_validation. F1-Score : 0.6876120774144029\n"
     ]
    }
   ],
   "source": [
    "print('10-Fold Cross_validation. Accuracy :', np.mean(accuracy))\n",
    "print('10-Fold Cross_validation. Recall :', np.mean(recall))\n",
    "print('10-Fold Cross_validation. Precision :', np.mean(precision))\n",
    "print('10-Fold Cross_validation. F1-Score :', np.mean(f1score))"
   ]
  }
 ],
 "metadata": {
  "kernelspec": {
   "display_name": "Python 3",
   "language": "python",
   "name": "python3"
  },
  "language_info": {
   "codemirror_mode": {
    "name": "ipython",
    "version": 3
   },
   "file_extension": ".py",
   "mimetype": "text/x-python",
   "name": "python",
   "nbconvert_exporter": "python",
   "pygments_lexer": "ipython3",
   "version": "3.7.6"
  }
 },
 "nbformat": 4,
 "nbformat_minor": 4
}
