{
 "cells": [
  {
   "cell_type": "markdown",
   "metadata": {},
   "source": [
    "## RNN 모델 N-Byte 방식 (함수정보 포함 vs 미포함 => 1:1 비율)\n",
    "\n",
    "## (1) 데이터로드"
   ]
  },
  {
   "cell_type": "code",
   "execution_count": 11,
   "metadata": {},
   "outputs": [
    {
     "name": "stdout",
     "output_type": "stream",
     "text": [
      "(13485088, 2)\n",
      "reset_index 완료\n",
      "input data shape\n"
     ]
    },
    {
     "data": {
      "text/html": [
       "<div>\n",
       "<style scoped>\n",
       "    .dataframe tbody tr th:only-of-type {\n",
       "        vertical-align: middle;\n",
       "    }\n",
       "\n",
       "    .dataframe tbody tr th {\n",
       "        vertical-align: top;\n",
       "    }\n",
       "\n",
       "    .dataframe thead th {\n",
       "        text-align: right;\n",
       "    }\n",
       "</style>\n",
       "<table border=\"1\" class=\"dataframe\">\n",
       "  <thead>\n",
       "    <tr style=\"text-align: right;\">\n",
       "      <th></th>\n",
       "      <th>bin</th>\n",
       "      <th>label</th>\n",
       "    </tr>\n",
       "  </thead>\n",
       "  <tbody>\n",
       "    <tr>\n",
       "      <th>0</th>\n",
       "      <td>53</td>\n",
       "      <td>1</td>\n",
       "    </tr>\n",
       "    <tr>\n",
       "      <th>1</th>\n",
       "      <td>83</td>\n",
       "      <td>0</td>\n",
       "    </tr>\n",
       "    <tr>\n",
       "      <th>2</th>\n",
       "      <td>ec</td>\n",
       "      <td>0</td>\n",
       "    </tr>\n",
       "    <tr>\n",
       "      <th>3</th>\n",
       "      <td>08</td>\n",
       "      <td>0</td>\n",
       "    </tr>\n",
       "    <tr>\n",
       "      <th>4</th>\n",
       "      <td>e8</td>\n",
       "      <td>0</td>\n",
       "    </tr>\n",
       "  </tbody>\n",
       "</table>\n",
       "</div>"
      ],
      "text/plain": [
       "  bin  label\n",
       "0  53      1\n",
       "1  83      0\n",
       "2  ec      0\n",
       "3  08      0\n",
       "4  e8      0"
      ]
     },
     "execution_count": 11,
     "metadata": {},
     "output_type": "execute_result"
    }
   ],
   "source": [
    "# (1) 데이터로드\n",
    "import pandas as pd\n",
    "import numpy as np\n",
    "\n",
    "import warnings\n",
    "warnings.filterwarnings(action='ignore')\n",
    "\n",
    "# 여러개 쳐도 나오게\n",
    "from IPython.core.interactiveshell import InteractiveShell\n",
    "InteractiveShell.ast_node_interactivity = \"all\"\n",
    "\n",
    "# 파일읽기\n",
    "gcc6_2_32 = pd.read_csv(\"../data/binutils_gcc3~9_op0~4_exec_csv/\"+'gcc6'+\"_3_32_exec.csv\", index_col=0)\n",
    "\n",
    "# 형태 출력\n",
    "print(gcc6_2_32.shape)\n",
    "\n",
    "# reset_index (hex processing 하면서 값이 빠졌으니까 + n_gram 에서 index를 다루기 때문에)\n",
    "gcc6_2_32.reset_index(inplace=True, drop=True)\n",
    "\n",
    "print('reset_index 완료')\n",
    "print('input data shape')\n",
    "gcc6_2_32.head()"
   ]
  },
  {
   "cell_type": "code",
   "execution_count": 12,
   "metadata": {},
   "outputs": [
    {
     "name": "stdout",
     "output_type": "stream",
     "text": [
      "256\n",
      "0    13446275\n",
      "1       38813\n",
      "Name: label, dtype: int64\n"
     ]
    }
   ],
   "source": [
    "# (2-1) 데이터체크 1 - hex(16진수)가 256 label을 가져야 dummies 변환 가능 \n",
    "\n",
    "# 16진수 256개 종류가 있어서 pd.get_dummies 사용 가능.\n",
    "print(len(gcc6_2_32['bin'].unique()))\n",
    "\n",
    "# (2-2) 데이터 체크 2 - 1, 0 비율 ==> 1이 함수의 갯수를 뜻함\n",
    "# 정답 데이터 1, 0 비율 확인  ==> 1이 함수의 갯수를 뜻함\n",
    "print(gcc6_2_32['label'].value_counts())"
   ]
  },
  {
   "cell_type": "markdown",
   "metadata": {},
   "source": [
    "## (3) N Byte씩 자르기"
   ]
  },
  {
   "cell_type": "code",
   "execution_count": 13,
   "metadata": {},
   "outputs": [
    {
     "name": "stdout",
     "output_type": "stream",
     "text": [
      "1862988\n",
      "나머지 12\n",
      "최종 길이 1862976\n",
      "gcc6_2_32 1862976\n"
     ]
    }
   ],
   "source": [
    "######################## \n",
    "idx = gcc6_2_32[gcc6_2_32['label']==1].index  # 407, 474 ...\n",
    "ls = list(idx)\n",
    "\n",
    "# 최종 뽑을 행에 대한 index\n",
    "ls_idx = [] \n",
    "left_idx, right_idx = 0, 48 # 3개씩\n",
    "\n",
    "# 6gram\n",
    "for k in range(left_idx, right_idx):\n",
    "    ls_idx.extend(list(idx + k)) # index 형이라서 가능\n",
    "\n",
    "#ls_idx = list(set(ls_idx)) \n",
    "ls_idx.sort() # 인덱스 정렬\n",
    "\n",
    "# 1차 index 해당범위 초과한 것들 없애기\n",
    "ls_idx = list(filter(lambda x: x<len(gcc6_2_32), ls_idx))\n",
    "print(len(ls_idx))\n",
    "\n",
    "# 2차 남은 index들 중 right_idx 나눈 나머지 없애기\n",
    "sub = len(ls_idx)%(right_idx)\n",
    "print('나머지', sub)\n",
    "\n",
    "ls_idx = ls_idx[:len(ls_idx)-sub]\n",
    "print('최종 길이', len(ls_idx))\n",
    "\n",
    "print('gcc6_2_32', len(ls_idx))\n",
    "\n",
    "# loc 로 수정필요\n",
    "gcc6_2_32_Ngram = gcc6_2_32.loc[ls_idx,:].copy()"
   ]
  },
  {
   "cell_type": "markdown",
   "metadata": {},
   "source": [
    "## (4) false data 만들기"
   ]
  },
  {
   "cell_type": "code",
   "execution_count": 14,
   "metadata": {},
   "outputs": [
    {
     "name": "stdout",
     "output_type": "stream",
     "text": [
      "0 1000 2000 3000 4000 5000 6000 7000 8000 9000 10000 11000 12000 13000 14000 15000 16000 17000 18000 19000 20000 21000 22000 23000 24000 25000 26000 27000 28000 29000 30000 31000 32000 33000 34000 35000 36000 37000 38000 완료\n"
     ]
    }
   ],
   "source": [
    "# false data 만들기 - False 데이터 랜덤 생성\n",
    "# random index\n",
    "random_idx = np.random.randint(len(gcc6_2_32)-right_idx)\n",
    "\n",
    "# 목표치\n",
    "goal = len(gcc6_2_32_Ngram)/right_idx\n",
    "count=0\n",
    "\n",
    "d = pd.DataFrame(columns=gcc6_2_32.columns)\n",
    "\n",
    "# goal 에 도달할 때까지\n",
    "while count!=goal:\n",
    "    \n",
    "    # 진행상황 살펴보기 위함\n",
    "    if count%1000==0:\n",
    "        print(count, end=' ')\n",
    "        \n",
    "    # 랜덤 N 바이트씩 뽑음\n",
    "    df = gcc6_2_32[random_idx:random_idx+right_idx]\n",
    "    \n",
    "    # 뽑은 index의 N 바이트 중에 1이 없는 경우만\n",
    "    if 1 not in df['label']:\n",
    "        d = pd.concat([d, df])\n",
    "        count+=1\n",
    "\n",
    "print('완료')"
   ]
  },
  {
   "cell_type": "markdown",
   "metadata": {},
   "source": [
    "## (5) False Data + True Data 합치기"
   ]
  },
  {
   "cell_type": "code",
   "execution_count": 15,
   "metadata": {},
   "outputs": [
    {
     "name": "stdout",
     "output_type": "stream",
     "text": [
      "0 1000 2000 3000 4000 5000 6000 7000 8000 9000 10000 11000 12000 13000 14000 15000 16000 17000 18000 19000 20000 21000 22000 23000 24000 25000 26000 27000 28000 29000 30000 31000 32000 33000 34000 35000 36000 37000 38000 "
     ]
    },
    {
     "data": {
      "text/plain": [
       "(3725952, 2)"
      ]
     },
     "execution_count": 15,
     "metadata": {},
     "output_type": "execute_result"
    }
   ],
   "source": [
    "ff = pd.DataFrame(columns=gcc6_2_32.columns)\n",
    "\n",
    "for i in range(0, int(len(d)/right_idx)):\n",
    "    ff = pd.concat([ff, gcc6_2_32[i*right_idx:(i+1)*right_idx], d[i*right_idx:(i+1)*right_idx]])\n",
    "    \n",
    "    if i%1000==0:\n",
    "        print(i, end=' ')\n",
    "ff.shape"
   ]
  },
  {
   "cell_type": "markdown",
   "metadata": {},
   "source": [
    "## (6) one hot encoding"
   ]
  },
  {
   "cell_type": "code",
   "execution_count": 16,
   "metadata": {},
   "outputs": [
    {
     "name": "stdout",
     "output_type": "stream",
     "text": [
      "원핫인코딩완료\n",
      "(3725952, 257)\n"
     ]
    }
   ],
   "source": [
    "# 훈련데이터 (gcc 최적화버전 0, 1, 2, 3 one hot encoding)\n",
    "gcc6_2_32_onehot_Ngram = pd.get_dummies(ff['bin'])\n",
    "gcc6_2_32_onehot_Ngram = pd.concat([ff['label'], gcc6_2_32_onehot_Ngram], axis=1)\n",
    "\n",
    "print('원핫인코딩완료')\n",
    "print(gcc6_2_32_onehot_Ngram.shape)"
   ]
  },
  {
   "cell_type": "code",
   "execution_count": 17,
   "metadata": {},
   "outputs": [
    {
     "name": "stdout",
     "output_type": "stream",
     "text": [
      "(3725952, 256) (3725952,)\n",
      "(77624, 48, 256) (77624, 48, 1)\n"
     ]
    }
   ],
   "source": [
    "# 훈련 데이터, 훈련 라벨\n",
    "x_gcc6_2_32_3 = gcc6_2_32_onehot_Ngram.iloc[:,1:].to_numpy()\n",
    "y_gcc6_2_32_3 = gcc6_2_32_onehot_Ngram['label'].to_numpy()\n",
    "print(x_gcc6_2_32_3.shape, y_gcc6_2_32_3.shape)\n",
    "\n",
    "x_gcc6_2_32_3 = x_gcc6_2_32_3.reshape(-1, right_idx, x_gcc6_2_32_3.shape[1])\n",
    "y_gcc6_2_32_3 = y_gcc6_2_32_3.reshape(-1, right_idx, 1)\n",
    "\n",
    "print(x_gcc6_2_32_3.shape, y_gcc6_2_32_3.shape)"
   ]
  },
  {
   "cell_type": "markdown",
   "metadata": {},
   "source": [
    "## (7) 모델"
   ]
  },
  {
   "cell_type": "code",
   "execution_count": 18,
   "metadata": {},
   "outputs": [],
   "source": [
    "# (10) 양방향 LSTM 모델링 작업\n",
    "from keras.models import Model, Sequential\n",
    "from keras.layers import SimpleRNN, Input, Dense, LSTM\n",
    "from keras.layers import Bidirectional, TimeDistributed\n",
    "\n",
    "# 학습\n",
    "from keras.callbacks import EarlyStopping\n",
    "early_stopping = EarlyStopping(patience = 3) # 조기종료 콜백함수 정의\n",
    "\n",
    "xInput = Input(batch_shape=(None,right_idx, 256)) \n",
    "xBiLstm = Bidirectional(LSTM(64, return_sequences=True), merge_mode = 'concat')(xInput)\n",
    "xOutput = TimeDistributed(Dense(1, activation ='sigmoid'))(xBiLstm) # 각 스텝에서 cost가 전송되고, 오류가 다음 step으로 전송됨."
   ]
  },
  {
   "cell_type": "markdown",
   "metadata": {},
   "source": [
    "## (8) 학습 - 10 KFold"
   ]
  },
  {
   "cell_type": "code",
   "execution_count": 19,
   "metadata": {
    "scrolled": false
   },
   "outputs": [
    {
     "name": "stdout",
     "output_type": "stream",
     "text": [
      "Model: \"model_11\"\n",
      "_________________________________________________________________\n",
      "Layer (type)                 Output Shape              Param #   \n",
      "=================================================================\n",
      "input_2 (InputLayer)         (None, 48, 256)           0         \n",
      "_________________________________________________________________\n",
      "bidirectional_2 (Bidirection (None, 48, 128)           164352    \n",
      "_________________________________________________________________\n",
      "time_distributed_2 (TimeDist (None, 48, 1)             129       \n",
      "=================================================================\n",
      "Total params: 164,481\n",
      "Trainable params: 164,481\n",
      "Non-trainable params: 0\n",
      "_________________________________________________________________\n",
      "======Training stage======\n",
      "Epoch 1/10\n",
      "69861/69861 [==============================] - 83s 1ms/step - loss: 0.0070 - accuracy: 0.9986\n",
      "Epoch 2/10\n",
      "69861/69861 [==============================] - 82s 1ms/step - loss: 0.0035 - accuracy: 0.9990\n",
      "Epoch 3/10\n",
      "69861/69861 [==============================] - 82s 1ms/step - loss: 0.0030 - accuracy: 0.9992\n",
      "Epoch 4/10\n",
      "69861/69861 [==============================] - 82s 1ms/step - loss: 0.0028 - accuracy: 0.9992\n",
      "Epoch 5/10\n",
      "69861/69861 [==============================] - 82s 1ms/step - loss: 0.0025 - accuracy: 0.9993\n",
      "Epoch 6/10\n",
      "69861/69861 [==============================] - 82s 1ms/step - loss: 0.0023 - accuracy: 0.9993\n",
      "Epoch 7/10\n",
      "69861/69861 [==============================] - 82s 1ms/step - loss: 0.0022 - accuracy: 0.9994\n",
      "Epoch 8/10\n",
      "69861/69861 [==============================] - 82s 1ms/step - loss: 0.0020 - accuracy: 0.9994\n",
      "Epoch 9/10\n",
      "69861/69861 [==============================] - 82s 1ms/step - loss: 0.0019 - accuracy: 0.9994\n",
      "Epoch 10/10\n",
      "69861/69861 [==============================] - 82s 1ms/step - loss: 0.0018 - accuracy: 0.9995\n"
     ]
    },
    {
     "data": {
      "text/plain": [
       "<keras.callbacks.callbacks.History at 0x23fc5e4c588>"
      ]
     },
     "execution_count": 19,
     "metadata": {},
     "output_type": "execute_result"
    },
    {
     "name": "stdout",
     "output_type": "stream",
     "text": [
      "accuracy_score 0.9992432049465413\n",
      "recall_score 0.5735294117647058\n",
      "precision_score 0.7755681818181818\n",
      "f1_score 0.6594202898550724\n",
      "Model: \"model_12\"\n",
      "_________________________________________________________________\n",
      "Layer (type)                 Output Shape              Param #   \n",
      "=================================================================\n",
      "input_2 (InputLayer)         (None, 48, 256)           0         \n",
      "_________________________________________________________________\n",
      "bidirectional_2 (Bidirection (None, 48, 128)           164352    \n",
      "_________________________________________________________________\n",
      "time_distributed_2 (TimeDist (None, 48, 1)             129       \n",
      "=================================================================\n",
      "Total params: 164,481\n",
      "Trainable params: 164,481\n",
      "Non-trainable params: 0\n",
      "_________________________________________________________________\n",
      "======Training stage======\n",
      "Epoch 1/10\n",
      "69861/69861 [==============================] - 87s 1ms/step - loss: 0.0017 - accuracy: 0.9995\n",
      "Epoch 2/10\n",
      "69861/69861 [==============================] - 86s 1ms/step - loss: 0.0016 - accuracy: 0.9995\n",
      "Epoch 3/10\n",
      "69861/69861 [==============================] - 86s 1ms/step - loss: 0.0014 - accuracy: 0.9996\n",
      "Epoch 4/10\n",
      "69861/69861 [==============================] - 86s 1ms/step - loss: 0.0013 - accuracy: 0.9996\n",
      "Epoch 5/10\n",
      "69861/69861 [==============================] - 86s 1ms/step - loss: 0.0012 - accuracy: 0.9997\n",
      "Epoch 6/10\n",
      "69861/69861 [==============================] - 86s 1ms/step - loss: 0.0010 - accuracy: 0.9997\n",
      "Epoch 7/10\n",
      "69861/69861 [==============================] - 85s 1ms/step - loss: 9.4185e-04 - accuracy: 0.9997\n",
      "Epoch 8/10\n",
      "69861/69861 [==============================] - 85s 1ms/step - loss: 8.2030e-04 - accuracy: 0.9998\n",
      "Epoch 9/10\n",
      "69861/69861 [==============================] - 86s 1ms/step - loss: 7.3743e-04 - accuracy: 0.9998\n",
      "Epoch 10/10\n",
      "69861/69861 [==============================] - 86s 1ms/step - loss: 6.2123e-04 - accuracy: 0.9998\n"
     ]
    },
    {
     "data": {
      "text/plain": [
       "<keras.callbacks.callbacks.History at 0x2405d7cff08>"
      ]
     },
     "execution_count": 19,
     "metadata": {},
     "output_type": "execute_result"
    },
    {
     "name": "stdout",
     "output_type": "stream",
     "text": [
      "accuracy_score 0.9992861436729786\n",
      "recall_score 0.748995983935743\n",
      "precision_score 0.72568093385214\n",
      "f1_score 0.7371541501976283\n",
      "Model: \"model_13\"\n",
      "_________________________________________________________________\n",
      "Layer (type)                 Output Shape              Param #   \n",
      "=================================================================\n",
      "input_2 (InputLayer)         (None, 48, 256)           0         \n",
      "_________________________________________________________________\n",
      "bidirectional_2 (Bidirection (None, 48, 128)           164352    \n",
      "_________________________________________________________________\n",
      "time_distributed_2 (TimeDist (None, 48, 1)             129       \n",
      "=================================================================\n",
      "Total params: 164,481\n",
      "Trainable params: 164,481\n",
      "Non-trainable params: 0\n",
      "_________________________________________________________________\n",
      "======Training stage======\n",
      "Epoch 1/10\n",
      "69861/69861 [==============================] - 95s 1ms/step - loss: 7.6894e-04 - accuracy: 0.9998\n",
      "Epoch 2/10\n",
      "69861/69861 [==============================] - 94s 1ms/step - loss: 6.3034e-04 - accuracy: 0.9998\n",
      "Epoch 3/10\n",
      "69861/69861 [==============================] - 95s 1ms/step - loss: 5.1982e-04 - accuracy: 0.9998\n",
      "Epoch 4/10\n",
      "69861/69861 [==============================] - 95s 1ms/step - loss: 4.5924e-04 - accuracy: 0.9999\n",
      "Epoch 5/10\n",
      "69861/69861 [==============================] - 95s 1ms/step - loss: 3.7395e-04 - accuracy: 0.9999 0s - loss: 3.763\n",
      "Epoch 6/10\n",
      "69861/69861 [==============================] - 95s 1ms/step - loss: 3.2295e-04 - accuracy: 0.9999\n",
      "Epoch 7/10\n",
      "69861/69861 [==============================] - 95s 1ms/step - loss: 2.8174e-04 - accuracy: 0.9999\n",
      "Epoch 8/10\n",
      "69861/69861 [==============================] - 95s 1ms/step - loss: 2.3134e-04 - accuracy: 0.9999\n",
      "Epoch 9/10\n",
      "69861/69861 [==============================] - 95s 1ms/step - loss: 1.9064e-04 - accuracy: 0.9999\n",
      "Epoch 10/10\n",
      "69861/69861 [==============================] - 95s 1ms/step - loss: 1.5668e-04 - accuracy: 1.0000\n"
     ]
    },
    {
     "data": {
      "text/plain": [
       "<keras.callbacks.callbacks.History at 0x23fcc185248>"
      ]
     },
     "execution_count": 19,
     "metadata": {},
     "output_type": "execute_result"
    },
    {
     "name": "stdout",
     "output_type": "stream",
     "text": [
      "accuracy_score 0.9996350208252823\n",
      "recall_score 0.8539823008849557\n",
      "precision_score 0.8464912280701754\n",
      "f1_score 0.8502202643171806\n",
      "Model: \"model_14\"\n",
      "_________________________________________________________________\n",
      "Layer (type)                 Output Shape              Param #   \n",
      "=================================================================\n",
      "input_2 (InputLayer)         (None, 48, 256)           0         \n",
      "_________________________________________________________________\n",
      "bidirectional_2 (Bidirection (None, 48, 128)           164352    \n",
      "_________________________________________________________________\n",
      "time_distributed_2 (TimeDist (None, 48, 1)             129       \n",
      "=================================================================\n",
      "Total params: 164,481\n",
      "Trainable params: 164,481\n",
      "Non-trainable params: 0\n",
      "_________________________________________________________________\n",
      "======Training stage======\n",
      "Epoch 1/10\n",
      "69861/69861 [==============================] - 102s 1ms/step - loss: 3.3087e-04 - accuracy: 0.9999\n",
      "Epoch 2/10\n",
      "69861/69861 [==============================] - 101s 1ms/step - loss: 2.1687e-04 - accuracy: 0.9999\n",
      "Epoch 3/10\n",
      "69861/69861 [==============================] - 100s 1ms/step - loss: 1.9180e-04 - accuracy: 0.9999\n",
      "Epoch 4/10\n",
      "69861/69861 [==============================] - 100s 1ms/step - loss: 1.5320e-04 - accuracy: 1.0000\n",
      "Epoch 5/10\n",
      "69861/69861 [==============================] - 100s 1ms/step - loss: 1.3524e-04 - accuracy: 1.0000\n",
      "Epoch 6/10\n",
      "69861/69861 [==============================] - 100s 1ms/step - loss: 1.1451e-04 - accuracy: 1.0000\n",
      "Epoch 7/10\n",
      "69861/69861 [==============================] - 100s 1ms/step - loss: 1.0788e-04 - accuracy: 1.0000\n",
      "Epoch 8/10\n",
      "69861/69861 [==============================] - 100s 1ms/step - loss: 1.0095e-04 - accuracy: 1.0000\n",
      "Epoch 9/10\n",
      "69861/69861 [==============================] - 100s 1ms/step - loss: 7.9533e-05 - accuracy: 1.0000\n",
      "Epoch 10/10\n",
      "69861/69861 [==============================] - 100s 1ms/step - loss: 8.2351e-05 - accuracy: 1.0000\n"
     ]
    },
    {
     "data": {
      "text/plain": [
       "<keras.callbacks.callbacks.History at 0x23fccca1788>"
      ]
     },
     "execution_count": 19,
     "metadata": {},
     "output_type": "execute_result"
    },
    {
     "name": "stdout",
     "output_type": "stream",
     "text": [
      "accuracy_score 0.9998389797758599\n",
      "recall_score 0.93713163064833\n",
      "precision_score 0.9445544554455445\n",
      "f1_score 0.9408284023668639\n",
      "Model: \"model_15\"\n",
      "_________________________________________________________________\n",
      "Layer (type)                 Output Shape              Param #   \n",
      "=================================================================\n",
      "input_2 (InputLayer)         (None, 48, 256)           0         \n",
      "_________________________________________________________________\n",
      "bidirectional_2 (Bidirection (None, 48, 128)           164352    \n",
      "_________________________________________________________________\n",
      "time_distributed_2 (TimeDist (None, 48, 1)             129       \n",
      "=================================================================\n",
      "Total params: 164,481\n",
      "Trainable params: 164,481\n",
      "Non-trainable params: 0\n",
      "_________________________________________________________________\n",
      "======Training stage======\n",
      "Epoch 1/10\n",
      "69862/69862 [==============================] - 108s 2ms/step - loss: 1.6819e-04 - accuracy: 1.0000\n",
      "Epoch 2/10\n",
      "69862/69862 [==============================] - 107s 2ms/step - loss: 9.5068e-05 - accuracy: 1.0000\n",
      "Epoch 3/10\n",
      "69862/69862 [==============================] - 106s 2ms/step - loss: 8.6795e-05 - accuracy: 1.0000\n",
      "Epoch 4/10\n",
      "69862/69862 [==============================] - 106s 2ms/step - loss: 7.7093e-05 - accuracy: 1.0000\n",
      "Epoch 5/10\n",
      "69862/69862 [==============================] - 106s 2ms/step - loss: 6.1276e-05 - accuracy: 1.0000\n",
      "Epoch 6/10\n",
      "69862/69862 [==============================] - 107s 2ms/step - loss: 3.7598e-05 - accuracy: 1.0000\n",
      "Epoch 7/10\n",
      "69862/69862 [==============================] - 107s 2ms/step - loss: 5.6219e-05 - accuracy: 1.0000\n",
      "Epoch 8/10\n",
      "69862/69862 [==============================] - 106s 2ms/step - loss: 4.8668e-05 - accuracy: 1.0000\n",
      "Epoch 9/10\n",
      "69862/69862 [==============================] - 106s 2ms/step - loss: 4.3362e-05 - accuracy: 1.0000\n",
      "Epoch 10/10\n",
      "69862/69862 [==============================] - 106s 2ms/step - loss: 4.7828e-05 - accuracy: 1.0000\n"
     ]
    },
    {
     "data": {
      "text/plain": [
       "<keras.callbacks.callbacks.History at 0x23fcea6a588>"
      ]
     },
     "execution_count": 19,
     "metadata": {},
     "output_type": "execute_result"
    },
    {
     "name": "stdout",
     "output_type": "stream",
     "text": [
      "accuracy_score 0.9999006914025594\n",
      "recall_score 0.9357601713062098\n",
      "precision_score 0.9842342342342343\n",
      "f1_score 0.9593852908891329\n",
      "Model: \"model_16\"\n",
      "_________________________________________________________________\n",
      "Layer (type)                 Output Shape              Param #   \n",
      "=================================================================\n",
      "input_2 (InputLayer)         (None, 48, 256)           0         \n",
      "_________________________________________________________________\n",
      "bidirectional_2 (Bidirection (None, 48, 128)           164352    \n",
      "_________________________________________________________________\n",
      "time_distributed_2 (TimeDist (None, 48, 1)             129       \n",
      "=================================================================\n",
      "Total params: 164,481\n",
      "Trainable params: 164,481\n",
      "Non-trainable params: 0\n",
      "_________________________________________________________________\n",
      "======Training stage======\n",
      "Epoch 1/10\n",
      "69862/69862 [==============================] - 114s 2ms/step - loss: 8.8851e-05 - accuracy: 1.0000\n",
      "Epoch 2/10\n",
      "69862/69862 [==============================] - 113s 2ms/step - loss: 4.9791e-05 - accuracy: 1.0000\n",
      "Epoch 3/10\n",
      "69862/69862 [==============================] - 114s 2ms/step - loss: 4.0031e-05 - accuracy: 1.0000\n",
      "Epoch 4/10\n",
      "69862/69862 [==============================] - 117s 2ms/step - loss: 4.8458e-05 - accuracy: 1.0000\n",
      "Epoch 5/10\n",
      "69862/69862 [==============================] - 117s 2ms/step - loss: 3.0166e-05 - accuracy: 1.0000\n",
      "Epoch 6/10\n",
      "69862/69862 [==============================] - 117s 2ms/step - loss: 2.7287e-05 - accuracy: 1.0000\n",
      "Epoch 7/10\n",
      "69862/69862 [==============================] - 117s 2ms/step - loss: 1.7193e-05 - accuracy: 1.0000\n",
      "Epoch 8/10\n",
      "69862/69862 [==============================] - 117s 2ms/step - loss: 2.5294e-05 - accuracy: 1.0000\n",
      "Epoch 9/10\n",
      "69862/69862 [==============================] - 118s 2ms/step - loss: 2.2657e-05 - accuracy: 1.0000\n",
      "Epoch 10/10\n",
      "69862/69862 [==============================] - 115s 2ms/step - loss: 2.2348e-05 - accuracy: 1.0000\n"
     ]
    },
    {
     "data": {
      "text/plain": [
       "<keras.callbacks.callbacks.History at 0x23fd03c3b48>"
      ]
     },
     "execution_count": 19,
     "metadata": {},
     "output_type": "execute_result"
    },
    {
     "name": "stdout",
     "output_type": "stream",
     "text": [
      "accuracy_score 0.9999516877093533\n",
      "recall_score 0.9717391304347827\n",
      "precision_score 0.9889380530973452\n",
      "f1_score 0.980263157894737\n",
      "Model: \"model_17\"\n",
      "_________________________________________________________________\n",
      "Layer (type)                 Output Shape              Param #   \n",
      "=================================================================\n",
      "input_2 (InputLayer)         (None, 48, 256)           0         \n",
      "_________________________________________________________________\n",
      "bidirectional_2 (Bidirection (None, 48, 128)           164352    \n",
      "_________________________________________________________________\n",
      "time_distributed_2 (TimeDist (None, 48, 1)             129       \n",
      "=================================================================\n",
      "Total params: 164,481\n",
      "Trainable params: 164,481\n",
      "Non-trainable params: 0\n",
      "_________________________________________________________________\n",
      "======Training stage======\n",
      "Epoch 1/10\n",
      "69862/69862 [==============================] - 119s 2ms/step - loss: 5.7618e-05 - accuracy: 1.0000\n",
      "Epoch 2/10\n",
      "69862/69862 [==============================] - 119s 2ms/step - loss: 4.7335e-05 - accuracy: 1.0000\n",
      "Epoch 3/10\n",
      "69862/69862 [==============================] - 118s 2ms/step - loss: 3.9395e-05 - accuracy: 1.0000\n",
      "Epoch 4/10\n",
      "69862/69862 [==============================] - 118s 2ms/step - loss: 2.5166e-05 - accuracy: 1.0000\n",
      "Epoch 5/10\n",
      "69862/69862 [==============================] - 118s 2ms/step - loss: 2.8384e-05 - accuracy: 1.0000\n",
      "Epoch 6/10\n",
      "69862/69862 [==============================] - 118s 2ms/step - loss: 2.6248e-05 - accuracy: 1.0000\n",
      "Epoch 7/10\n",
      "69862/69862 [==============================] - 118s 2ms/step - loss: 3.2879e-05 - accuracy: 1.0000\n",
      "Epoch 8/10\n",
      "69862/69862 [==============================] - 118s 2ms/step - loss: 1.9988e-05 - accuracy: 1.0000\n",
      "Epoch 9/10\n",
      "69862/69862 [==============================] - 118s 2ms/step - loss: 1.9008e-05 - accuracy: 1.0000\n",
      "Epoch 10/10\n",
      "69862/69862 [==============================] - 118s 2ms/step - loss: 2.0662e-05 - accuracy: 1.0000\n"
     ]
    },
    {
     "data": {
      "text/plain": [
       "<keras.callbacks.callbacks.History at 0x23fd3522e08>"
      ]
     },
     "execution_count": 19,
     "metadata": {},
     "output_type": "execute_result"
    },
    {
     "name": "stdout",
     "output_type": "stream",
     "text": [
      "accuracy_score 0.9999624237739414\n",
      "recall_score 0.9903474903474904\n",
      "precision_score 0.9827586206896551\n",
      "f1_score 0.9865384615384616\n",
      "Model: \"model_18\"\n",
      "_________________________________________________________________\n",
      "Layer (type)                 Output Shape              Param #   \n",
      "=================================================================\n",
      "input_2 (InputLayer)         (None, 48, 256)           0         \n",
      "_________________________________________________________________\n",
      "bidirectional_2 (Bidirection (None, 48, 128)           164352    \n",
      "_________________________________________________________________\n",
      "time_distributed_2 (TimeDist (None, 48, 1)             129       \n",
      "=================================================================\n",
      "Total params: 164,481\n",
      "Trainable params: 164,481\n",
      "Non-trainable params: 0\n",
      "_________________________________________________________________\n",
      "======Training stage======\n",
      "Epoch 1/10\n",
      "69862/69862 [==============================] - 124s 2ms/step - loss: 3.3129e-05 - accuracy: 1.0000\n",
      "Epoch 2/10\n",
      "69862/69862 [==============================] - 120s 2ms/step - loss: 2.5087e-05 - accuracy: 1.0000\n",
      "Epoch 3/10\n",
      "69862/69862 [==============================] - 116s 2ms/step - loss: 1.7318e-05 - accuracy: 1.0000\n",
      "Epoch 4/10\n",
      "69862/69862 [==============================] - 116s 2ms/step - loss: 1.6935e-05 - accuracy: 1.0000\n",
      "Epoch 5/10\n",
      "69862/69862 [==============================] - 115s 2ms/step - loss: 1.7118e-05 - accuracy: 1.0000\n",
      "Epoch 6/10\n",
      "69862/69862 [==============================] - 116s 2ms/step - loss: 1.3320e-05 - accuracy: 1.0000\n",
      "Epoch 7/10\n",
      "69862/69862 [==============================] - 115s 2ms/step - loss: 1.5781e-05 - accuracy: 1.0000\n",
      "Epoch 8/10\n",
      "69862/69862 [==============================] - 115s 2ms/step - loss: 1.0967e-05 - accuracy: 1.0000\n",
      "Epoch 9/10\n",
      "69862/69862 [==============================] - 114s 2ms/step - loss: 1.2871e-05 - accuracy: 1.0000\n",
      "Epoch 10/10\n",
      "69862/69862 [==============================] - 114s 2ms/step - loss: 1.3452e-05 - accuracy: 1.0000\n"
     ]
    },
    {
     "data": {
      "text/plain": [
       "<keras.callbacks.callbacks.History at 0x23fd50e4988>"
      ]
     },
     "execution_count": 19,
     "metadata": {},
     "output_type": "execute_result"
    },
    {
     "name": "stdout",
     "output_type": "stream",
     "text": [
      "accuracy_score 0.9999731598385296\n",
      "recall_score 0.9893390191897654\n",
      "precision_score 0.9893390191897654\n",
      "f1_score 0.9893390191897654\n",
      "Model: \"model_19\"\n",
      "_________________________________________________________________\n",
      "Layer (type)                 Output Shape              Param #   \n",
      "=================================================================\n",
      "input_2 (InputLayer)         (None, 48, 256)           0         \n",
      "_________________________________________________________________\n",
      "bidirectional_2 (Bidirection (None, 48, 128)           164352    \n",
      "_________________________________________________________________\n",
      "time_distributed_2 (TimeDist (None, 48, 1)             129       \n",
      "=================================================================\n",
      "Total params: 164,481\n",
      "Trainable params: 164,481\n",
      "Non-trainable params: 0\n",
      "_________________________________________________________________\n",
      "======Training stage======\n",
      "Epoch 1/10\n",
      "69862/69862 [==============================] - 118s 2ms/step - loss: 3.3784e-05 - accuracy: 1.0000\n",
      "Epoch 2/10\n",
      "69862/69862 [==============================] - 118s 2ms/step - loss: 1.8453e-05 - accuracy: 1.0000\n",
      "Epoch 3/10\n",
      "69862/69862 [==============================] - 117s 2ms/step - loss: 2.3578e-05 - accuracy: 1.0000\n",
      "Epoch 4/10\n",
      "69862/69862 [==============================] - 117s 2ms/step - loss: 2.7728e-05 - accuracy: 1.0000\n",
      "Epoch 5/10\n",
      "69862/69862 [==============================] - 118s 2ms/step - loss: 1.6956e-05 - accuracy: 1.0000\n",
      "Epoch 6/10\n",
      "69862/69862 [==============================] - 118s 2ms/step - loss: 1.0783e-05 - accuracy: 1.0000\n",
      "Epoch 7/10\n",
      "69862/69862 [==============================] - 118s 2ms/step - loss: 2.1693e-05 - accuracy: 1.0000\n",
      "Epoch 8/10\n",
      "69862/69862 [==============================] - 118s 2ms/step - loss: 4.4308e-06 - accuracy: 1.0000\n",
      "Epoch 9/10\n",
      "69862/69862 [==============================] - 118s 2ms/step - loss: 1.8008e-05 - accuracy: 1.0000\n",
      "Epoch 10/10\n",
      "69862/69862 [==============================] - 118s 2ms/step - loss: 9.8818e-06 - accuracy: 1.0000\n"
     ]
    },
    {
     "data": {
      "text/plain": [
       "<keras.callbacks.callbacks.History at 0x23fd5b57f08>"
      ]
     },
     "execution_count": 19,
     "metadata": {},
     "output_type": "execute_result"
    },
    {
     "name": "stdout",
     "output_type": "stream",
     "text": [
      "accuracy_score 0.999997315983853\n",
      "recall_score 0.9979591836734694\n",
      "precision_score 1.0\n",
      "f1_score 0.9989785495403473\n",
      "Model: \"model_20\"\n",
      "_________________________________________________________________\n",
      "Layer (type)                 Output Shape              Param #   \n",
      "=================================================================\n",
      "input_2 (InputLayer)         (None, 48, 256)           0         \n",
      "_________________________________________________________________\n",
      "bidirectional_2 (Bidirection (None, 48, 128)           164352    \n",
      "_________________________________________________________________\n",
      "time_distributed_2 (TimeDist (None, 48, 1)             129       \n",
      "=================================================================\n",
      "Total params: 164,481\n",
      "Trainable params: 164,481\n",
      "Non-trainable params: 0\n",
      "_________________________________________________________________\n",
      "======Training stage======\n",
      "Epoch 1/10\n",
      "69862/69862 [==============================] - 124s 2ms/step - loss: 5.6267e-06 - accuracy: 1.0000\n",
      "Epoch 2/10\n",
      "69862/69862 [==============================] - 123s 2ms/step - loss: 1.8826e-05 - accuracy: 1.0000\n",
      "Epoch 3/10\n",
      "69862/69862 [==============================] - 123s 2ms/step - loss: 8.9249e-06 - accuracy: 1.0000\n",
      "Epoch 4/10\n",
      "69862/69862 [==============================] - 123s 2ms/step - loss: 1.2749e-05 - accuracy: 1.0000\n",
      "Epoch 5/10\n",
      "69862/69862 [==============================] - 123s 2ms/step - loss: 9.1676e-06 - accuracy: 1.0000\n",
      "Epoch 6/10\n",
      "69862/69862 [==============================] - 123s 2ms/step - loss: 1.3127e-05 - accuracy: 1.0000\n",
      "Epoch 7/10\n",
      "69862/69862 [==============================] - 123s 2ms/step - loss: 7.5016e-06 - accuracy: 1.0000\n",
      "Epoch 8/10\n",
      "69862/69862 [==============================] - 122s 2ms/step - loss: 5.9804e-06 - accuracy: 1.0000\n",
      "Epoch 9/10\n",
      "69862/69862 [==============================] - 122s 2ms/step - loss: 3.8542e-06 - accuracy: 1.0000\n",
      "Epoch 10/10\n",
      "69862/69862 [==============================] - 122s 2ms/step - loss: 9.1564e-06 - accuracy: 1.0000\n"
     ]
    },
    {
     "data": {
      "text/plain": [
       "<keras.callbacks.callbacks.History at 0x23fdee03b08>"
      ]
     },
     "execution_count": 19,
     "metadata": {},
     "output_type": "execute_result"
    },
    {
     "name": "stdout",
     "output_type": "stream",
     "text": [
      "accuracy_score 0.9999892639354119\n",
      "recall_score 0.9935064935064936\n",
      "precision_score 0.9978260869565218\n",
      "f1_score 0.9956616052060738\n",
      "\n",
      "K-fold cross validation Accuracy: [0.9992432049465413, 0.9992861436729786, 0.9996350208252823, 0.9998389797758599, 0.9999006914025594, 0.9999516877093533, 0.9999624237739414, 0.9999731598385296, 0.999997315983853, 0.9999892639354119]\n",
      "\n",
      "K-fold cross validation Recall: [0.5735294117647058, 0.748995983935743, 0.8539823008849557, 0.93713163064833, 0.9357601713062098, 0.9717391304347827, 0.9903474903474904, 0.9893390191897654, 0.9979591836734694, 0.9935064935064936]\n",
      "\n",
      "K-fold cross validation Precision: [0.7755681818181818, 0.72568093385214, 0.8464912280701754, 0.9445544554455445, 0.9842342342342343, 0.9889380530973452, 0.9827586206896551, 0.9893390191897654, 1.0, 0.9978260869565218]\n",
      "\n",
      "K-fold cross validation F1-Score: [0.6594202898550724, 0.7371541501976283, 0.8502202643171806, 0.9408284023668639, 0.9593852908891329, 0.980263157894737, 0.9865384615384616, 0.9893390191897654, 0.9989785495403473, 0.9956616052060738]\n"
     ]
    }
   ],
   "source": [
    "# 교차검증 kfold\n",
    "from sklearn.model_selection import KFold\n",
    "\n",
    "# Accuracy, Precision, Recall, F1-Score\n",
    "from sklearn.metrics import accuracy_score, recall_score, precision_score, f1_score\n",
    "\n",
    "# Confusion Matrix, ROC Curve\n",
    "from sklearn.metrics import confusion_matrix, roc_auc_score\n",
    "\n",
    "# 최종 평가지표들 평균용\n",
    "accuracy, recall, precision, f1score, cm = [], [], [], [], []\n",
    "\n",
    "# 11. 교차검증 kfold - k.split - 10회 / K-Fold 객체 생성\n",
    "# kf = KFold(n_splits=10, shuffle=False, random_state=None) # KFold non shuffle 버전\n",
    "kf = KFold(n_splits=10, shuffle=True, random_state=None) # KFold non shuffle 버전\n",
    "\n",
    "for train, validation in kf.split(x_gcc6_2_32_3, y_gcc6_2_32_3):\n",
    "    model1 = Model(xInput, xOutput)\n",
    "    model1.compile(loss='binary_crossentropy', optimizer='rmsprop', metrics=['accuracy'])\n",
    "    model1.summary()\n",
    "    print('======Training stage======')\n",
    "    model1.fit(x_gcc6_2_32_3[train],\n",
    "               y_gcc6_2_32_3[train],\n",
    "               epochs = 10,\n",
    "               batch_size = 32,\n",
    "               callbacks=[early_stopping])\n",
    "    #k_accuracy = '%.4f' %(model1.evaluate(data_10000x[validation], data_10000y[validation])[1])\n",
    "\n",
    "# 12. 교차검증결과 predict - 검증셋들\n",
    "    # predict 값\n",
    "    k_pr = model1.predict(x_gcc6_2_32_3[validation])\n",
    "    \n",
    "    # 테스트 predict 결과들 비교 (평가지표 보기위함)\n",
    "    pred = np.round(np.array(k_pr).flatten().tolist())\n",
    "    y_test = np.array(y_gcc6_2_32_3[validation]).flatten().tolist()\n",
    "    \n",
    "# 13. 평가지표들 출력\n",
    "    ## 평가지표들\n",
    "    k_accuracy = float(accuracy_score(y_test, pred))\n",
    "    k_recall =  float(recall_score(y_test, pred))\n",
    "    k_precision = float(precision_score(y_test, pred))\n",
    "    k_f1_score = float(f1_score(y_test, pred))\n",
    "    #k_cm = float(confusion_matrix(y_test, pred))\n",
    "    \n",
    "    print('accuracy_score', k_accuracy)\n",
    "    print('recall_score', k_recall)\n",
    "    print('precision_score', k_precision)\n",
    "    print('f1_score', k_f1_score)\n",
    "    #print('\\nconfusion_matrix\\n', k_cm)\n",
    "\n",
    "    accuracy.append(k_accuracy)\n",
    "    recall.append(k_recall)\n",
    "    precision.append(k_precision)\n",
    "    f1score.append(k_f1_score)\n",
    "    #cm.append(k_cm)\n",
    "#    print('roc_curve 면적', roc_auc_score(y_test, pred))\n",
    "\n",
    "# 14. 최종 결과지표\n",
    "print('\\nK-fold cross validation Accuracy: {}'.format(accuracy))\n",
    "print('\\nK-fold cross validation Recall: {}'.format(recall))\n",
    "print('\\nK-fold cross validation Precision: {}'.format(precision))\n",
    "print('\\nK-fold cross validation F1-Score: {}'.format(f1score))\n",
    "#print('\\nK-fold cross validation ConfusionMatrix: {}'.format(cm))"
   ]
  },
  {
   "cell_type": "markdown",
   "metadata": {},
   "source": [
    "## (9) 평가지표"
   ]
  },
  {
   "cell_type": "code",
   "execution_count": 20,
   "metadata": {},
   "outputs": [
    {
     "name": "stdout",
     "output_type": "stream",
     "text": [
      "10-Fold Cross_validation. Accuracy : 0.999777789186431\n",
      "10-Fold Cross_validation. Recall : 0.8992290815691947\n",
      "10-Fold Cross_validation. Precision : 0.9235390813353564\n",
      "10-Fold Cross_validation. F1-Score : 0.9097789190995262\n"
     ]
    }
   ],
   "source": [
    "print('10-Fold Cross_validation. Accuracy :', np.mean(accuracy))\n",
    "print('10-Fold Cross_validation. Recall :', np.mean(recall))\n",
    "print('10-Fold Cross_validation. Precision :', np.mean(precision))\n",
    "print('10-Fold Cross_validation. F1-Score :', np.mean(f1score))"
   ]
  }
 ],
 "metadata": {
  "kernelspec": {
   "display_name": "Python 3",
   "language": "python",
   "name": "python3"
  },
  "language_info": {
   "codemirror_mode": {
    "name": "ipython",
    "version": 3
   },
   "file_extension": ".py",
   "mimetype": "text/x-python",
   "name": "python",
   "nbconvert_exporter": "python",
   "pygments_lexer": "ipython3",
   "version": "3.7.6"
  }
 },
 "nbformat": 4,
 "nbformat_minor": 4
}
