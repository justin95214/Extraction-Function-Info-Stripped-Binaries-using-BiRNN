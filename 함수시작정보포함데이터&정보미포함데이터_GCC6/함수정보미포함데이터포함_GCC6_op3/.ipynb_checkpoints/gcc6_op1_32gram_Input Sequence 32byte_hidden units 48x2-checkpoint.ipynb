{
 "cells": [
  {
   "cell_type": "markdown",
   "metadata": {},
   "source": [
    "## RNN 모델 N-Byte 방식 (함수정보 포함 vs 미포함 => 1:1 비율)\n",
    "\n",
    "## (1) 데이터로드"
   ]
  },
  {
   "cell_type": "code",
   "execution_count": 10,
   "metadata": {},
   "outputs": [
    {
     "name": "stdout",
     "output_type": "stream",
     "text": [
      "(10532416, 2)\n",
      "reset_index 완료\n",
      "input data shape\n"
     ]
    },
    {
     "data": {
      "text/html": [
       "<div>\n",
       "<style scoped>\n",
       "    .dataframe tbody tr th:only-of-type {\n",
       "        vertical-align: middle;\n",
       "    }\n",
       "\n",
       "    .dataframe tbody tr th {\n",
       "        vertical-align: top;\n",
       "    }\n",
       "\n",
       "    .dataframe thead th {\n",
       "        text-align: right;\n",
       "    }\n",
       "</style>\n",
       "<table border=\"1\" class=\"dataframe\">\n",
       "  <thead>\n",
       "    <tr style=\"text-align: right;\">\n",
       "      <th></th>\n",
       "      <th>bin</th>\n",
       "      <th>label</th>\n",
       "    </tr>\n",
       "  </thead>\n",
       "  <tbody>\n",
       "    <tr>\n",
       "      <th>0</th>\n",
       "      <td>53</td>\n",
       "      <td>1</td>\n",
       "    </tr>\n",
       "    <tr>\n",
       "      <th>1</th>\n",
       "      <td>83</td>\n",
       "      <td>0</td>\n",
       "    </tr>\n",
       "    <tr>\n",
       "      <th>2</th>\n",
       "      <td>ec</td>\n",
       "      <td>0</td>\n",
       "    </tr>\n",
       "    <tr>\n",
       "      <th>3</th>\n",
       "      <td>08</td>\n",
       "      <td>0</td>\n",
       "    </tr>\n",
       "    <tr>\n",
       "      <th>4</th>\n",
       "      <td>e8</td>\n",
       "      <td>0</td>\n",
       "    </tr>\n",
       "  </tbody>\n",
       "</table>\n",
       "</div>"
      ],
      "text/plain": [
       "  bin  label\n",
       "0  53      1\n",
       "1  83      0\n",
       "2  ec      0\n",
       "3  08      0\n",
       "4  e8      0"
      ]
     },
     "execution_count": 10,
     "metadata": {},
     "output_type": "execute_result"
    }
   ],
   "source": [
    "# (1) 데이터로드\n",
    "import pandas as pd\n",
    "import numpy as np\n",
    "\n",
    "import warnings\n",
    "warnings.filterwarnings(action='ignore')\n",
    "\n",
    "# 여러개 쳐도 나오게\n",
    "from IPython.core.interactiveshell import InteractiveShell\n",
    "InteractiveShell.ast_node_interactivity = \"all\"\n",
    "\n",
    "# 파일읽기\n",
    "gcc6_0_32 = pd.read_csv(\"../data/binutils_gcc3~9_op0~4_exec_csv/\"+'gcc6'+\"_1_32_exec.csv\", index_col=0)\n",
    "\n",
    "# 형태 출력\n",
    "print(gcc6_0_32.shape)\n",
    "\n",
    "# reset_index (hex processing 하면서 값이 빠졌으니까 + n_gram 에서 index를 다루기 때문에)\n",
    "gcc6_0_32.reset_index(inplace=True, drop=True)\n",
    "\n",
    "print('reset_index 완료')\n",
    "print('input data shape')\n",
    "gcc6_0_32.head()"
   ]
  },
  {
   "cell_type": "code",
   "execution_count": 11,
   "metadata": {},
   "outputs": [
    {
     "name": "stdout",
     "output_type": "stream",
     "text": [
      "256\n",
      "0    10494535\n",
      "1       37881\n",
      "Name: label, dtype: int64\n"
     ]
    }
   ],
   "source": [
    "# (2-1) 데이터체크 1 - hex(16진수)가 256 label을 가져야 dummies 변환 가능 \n",
    "\n",
    "# 16진수 256개 종류가 있어서 pd.get_dummies 사용 가능.\n",
    "print(len(gcc6_0_32['bin'].unique()))\n",
    "\n",
    "# (2-2) 데이터 체크 2 - 1, 0 비율 ==> 1이 함수의 갯수를 뜻함\n",
    "# 정답 데이터 1, 0 비율 확인  ==> 1이 함수의 갯수를 뜻함\n",
    "print(gcc6_0_32['label'].value_counts())"
   ]
  },
  {
   "cell_type": "markdown",
   "metadata": {},
   "source": [
    "## (3) N Byte씩 자르기"
   ]
  },
  {
   "cell_type": "code",
   "execution_count": 12,
   "metadata": {},
   "outputs": [
    {
     "name": "stdout",
     "output_type": "stream",
     "text": [
      "1212180\n",
      "나머지 20\n",
      "최종 길이 1212160\n",
      "gcc6_0_32 1212160\n"
     ]
    }
   ],
   "source": [
    "######################## \n",
    "idx = gcc6_0_32[gcc6_0_32['label']==1].index  # 407, 474 ...\n",
    "ls = list(idx)\n",
    "\n",
    "# 최종 뽑을 행에 대한 index\n",
    "ls_idx = [] \n",
    "left_idx, right_idx = 0, 32 # 3개씩\n",
    "\n",
    "# 6gram\n",
    "for k in range(left_idx, right_idx):\n",
    "    ls_idx.extend(list(idx + k)) # index 형이라서 가능\n",
    "\n",
    "#ls_idx = list(set(ls_idx)) \n",
    "ls_idx.sort() # 인덱스 정렬\n",
    "\n",
    "# 1차 index 해당범위 초과한 것들 없애기\n",
    "ls_idx = list(filter(lambda x: x<len(gcc6_0_32), ls_idx))\n",
    "print(len(ls_idx))\n",
    "\n",
    "# 2차 남은 index들 중 right_idx 나눈 나머지 없애기\n",
    "sub = len(ls_idx)%(right_idx)\n",
    "print('나머지', sub)\n",
    "\n",
    "ls_idx = ls_idx[:len(ls_idx)-sub]\n",
    "print('최종 길이', len(ls_idx))\n",
    "\n",
    "print('gcc6_0_32', len(ls_idx))\n",
    "\n",
    "# loc 로 수정필요\n",
    "gcc6_0_32_Ngram = gcc6_0_32.loc[ls_idx,:].copy()"
   ]
  },
  {
   "cell_type": "markdown",
   "metadata": {},
   "source": [
    "## (4) false data 만들기"
   ]
  },
  {
   "cell_type": "code",
   "execution_count": 13,
   "metadata": {},
   "outputs": [
    {
     "name": "stdout",
     "output_type": "stream",
     "text": [
      "0 1000 2000 3000 4000 5000 6000 7000 8000 9000 10000 11000 12000 13000 14000 15000 16000 17000 18000 19000 20000 21000 22000 23000 24000 25000 26000 27000 28000 29000 30000 31000 32000 33000 34000 35000 36000 37000 완료\n"
     ]
    }
   ],
   "source": [
    "# false data 만들기 - False 데이터 랜덤 생성\n",
    "# random index\n",
    "random_idx = np.random.randint(len(gcc6_0_32)-right_idx)\n",
    "\n",
    "# 목표치\n",
    "goal = len(gcc6_0_32_Ngram)/right_idx\n",
    "count=0\n",
    "\n",
    "d = pd.DataFrame(columns=gcc6_0_32.columns)\n",
    "\n",
    "# goal 에 도달할 때까지\n",
    "while count!=goal:\n",
    "    \n",
    "    # 진행상황 살펴보기 위함\n",
    "    if count%1000==0:\n",
    "        print(count, end=' ')\n",
    "        \n",
    "    # 랜덤 N 바이트씩 뽑음\n",
    "    df = gcc6_0_32[random_idx:random_idx+right_idx]\n",
    "    \n",
    "    # 뽑은 index의 N 바이트 중에 1이 없는 경우만\n",
    "    if 1 not in df['label']:\n",
    "        d = pd.concat([d, df])\n",
    "        count+=1\n",
    "\n",
    "print('완료')"
   ]
  },
  {
   "cell_type": "markdown",
   "metadata": {},
   "source": [
    "## (5) False Data + True Data 합치기"
   ]
  },
  {
   "cell_type": "code",
   "execution_count": 14,
   "metadata": {},
   "outputs": [
    {
     "name": "stdout",
     "output_type": "stream",
     "text": [
      "0 1000 2000 3000 4000 5000 6000 7000 8000 9000 10000 11000 12000 13000 14000 15000 16000 17000 18000 19000 20000 21000 22000 23000 24000 25000 26000 27000 28000 29000 30000 31000 32000 33000 34000 35000 36000 37000 "
     ]
    },
    {
     "data": {
      "text/plain": [
       "(2424320, 2)"
      ]
     },
     "execution_count": 14,
     "metadata": {},
     "output_type": "execute_result"
    }
   ],
   "source": [
    "ff = pd.DataFrame(columns=gcc6_0_32.columns)\n",
    "\n",
    "for i in range(0, int(len(d)/right_idx)):\n",
    "    ff = pd.concat([ff, gcc6_0_32[i*right_idx:(i+1)*right_idx], d[i*right_idx:(i+1)*right_idx]])\n",
    "    \n",
    "    if i%1000==0:\n",
    "        print(i, end=' ')\n",
    "ff.shape"
   ]
  },
  {
   "cell_type": "markdown",
   "metadata": {},
   "source": [
    "## (6) one hot encoding"
   ]
  },
  {
   "cell_type": "code",
   "execution_count": 15,
   "metadata": {},
   "outputs": [
    {
     "name": "stdout",
     "output_type": "stream",
     "text": [
      "원핫인코딩완료\n",
      "(2424320, 257)\n"
     ]
    }
   ],
   "source": [
    "# 훈련데이터 (gcc 최적화버전 0, 1, 2, 3 one hot encoding)\n",
    "gcc6_0_32_onehot_Ngram = pd.get_dummies(ff['bin'])\n",
    "gcc6_0_32_onehot_Ngram = pd.concat([ff['label'], gcc6_0_32_onehot_Ngram], axis=1)\n",
    "\n",
    "print('원핫인코딩완료')\n",
    "print(gcc6_0_32_onehot_Ngram.shape)"
   ]
  },
  {
   "cell_type": "code",
   "execution_count": 16,
   "metadata": {},
   "outputs": [
    {
     "name": "stdout",
     "output_type": "stream",
     "text": [
      "(2424320, 256) (2424320,)\n",
      "(75760, 32, 256) (75760, 32, 1)\n"
     ]
    }
   ],
   "source": [
    "# 훈련 데이터, 훈련 라벨\n",
    "x_gcc6_0_32_3 = gcc6_0_32_onehot_Ngram.iloc[:,1:].to_numpy()\n",
    "y_gcc6_0_32_3 = gcc6_0_32_onehot_Ngram['label'].to_numpy()\n",
    "print(x_gcc6_0_32_3.shape, y_gcc6_0_32_3.shape)\n",
    "\n",
    "x_gcc6_0_32_3 = x_gcc6_0_32_3.reshape(-1, right_idx, x_gcc6_0_32_3.shape[1])\n",
    "y_gcc6_0_32_3 = y_gcc6_0_32_3.reshape(-1, right_idx, 1)\n",
    "\n",
    "print(x_gcc6_0_32_3.shape, y_gcc6_0_32_3.shape)"
   ]
  },
  {
   "cell_type": "markdown",
   "metadata": {},
   "source": [
    "## (7) 모델"
   ]
  },
  {
   "cell_type": "code",
   "execution_count": 17,
   "metadata": {},
   "outputs": [],
   "source": [
    "# (10) 양방향 LSTM 모델링 작업\n",
    "from keras.models import Model, Sequential\n",
    "from keras.layers import SimpleRNN, Input, Dense, LSTM\n",
    "from keras.layers import Bidirectional, TimeDistributed\n",
    "\n",
    "# 학습\n",
    "from keras.callbacks import EarlyStopping\n",
    "early_stopping = EarlyStopping(patience = 3) # 조기종료 콜백함수 정의\n",
    "\n",
    "xInput = Input(batch_shape=(None,right_idx, 256)) \n",
    "xBiLstm = Bidirectional(LSTM(48, return_sequences=True), merge_mode = 'concat')(xInput)\n",
    "xOutput = TimeDistributed(Dense(1, activation ='sigmoid'))(xBiLstm) # 각 스텝에서 cost가 전송되고, 오류가 다음 step으로 전송됨."
   ]
  },
  {
   "cell_type": "markdown",
   "metadata": {},
   "source": [
    "## (8) 학습 - 10 KFold"
   ]
  },
  {
   "cell_type": "code",
   "execution_count": 18,
   "metadata": {
    "scrolled": false
   },
   "outputs": [
    {
     "name": "stdout",
     "output_type": "stream",
     "text": [
      "Model: \"model_4\"\n",
      "_________________________________________________________________\n",
      "Layer (type)                 Output Shape              Param #   \n",
      "=================================================================\n",
      "input_2 (InputLayer)         (None, 32, 256)           0         \n",
      "_________________________________________________________________\n",
      "bidirectional_2 (Bidirection (None, 32, 96)            117120    \n",
      "_________________________________________________________________\n",
      "time_distributed_2 (TimeDist (None, 32, 1)             97        \n",
      "=================================================================\n",
      "Total params: 117,217\n",
      "Trainable params: 117,217\n",
      "Non-trainable params: 0\n",
      "_________________________________________________________________\n",
      "======Training stage======\n",
      "Epoch 1/10\n",
      "68184/68184 [==============================] - 88s 1ms/step - loss: 0.0088 - accuracy: 0.9983\n",
      "Epoch 2/10\n",
      "68184/68184 [==============================] - 87s 1ms/step - loss: 0.0041 - accuracy: 0.9988\n",
      "Epoch 3/10\n",
      "68184/68184 [==============================] - 87s 1ms/step - loss: 0.0036 - accuracy: 0.9989\n",
      "Epoch 4/10\n",
      "68184/68184 [==============================] - 87s 1ms/step - loss: 0.0033 - accuracy: 0.9990\n",
      "Epoch 5/10\n",
      "68184/68184 [==============================] - 87s 1ms/step - loss: 0.0031 - accuracy: 0.9991\n",
      "Epoch 6/10\n",
      "68184/68184 [==============================] - 87s 1ms/step - loss: 0.0029 - accuracy: 0.9991\n",
      "Epoch 7/10\n",
      "68184/68184 [==============================] - 88s 1ms/step - loss: 0.0027 - accuracy: 0.9992\n",
      "Epoch 8/10\n",
      "68184/68184 [==============================] - 87s 1ms/step - loss: 0.0025 - accuracy: 0.9992\n",
      "Epoch 9/10\n",
      "68184/68184 [==============================] - 88s 1ms/step - loss: 0.0024 - accuracy: 0.9993\n",
      "Epoch 10/10\n",
      "68184/68184 [==============================] - 87s 1ms/step - loss: 0.0022 - accuracy: 0.9993\n"
     ]
    },
    {
     "data": {
      "text/plain": [
       "<keras.callbacks.callbacks.History at 0x200d5c86548>"
      ]
     },
     "execution_count": 18,
     "metadata": {},
     "output_type": "execute_result"
    },
    {
     "name": "stdout",
     "output_type": "stream",
     "text": [
      "accuracy_score 0.9991255279831045\n",
      "recall_score 0.5673575129533679\n",
      "precision_score 0.8295454545454546\n",
      "f1_score 0.6738461538461539\n",
      "Model: \"model_5\"\n",
      "_________________________________________________________________\n",
      "Layer (type)                 Output Shape              Param #   \n",
      "=================================================================\n",
      "input_2 (InputLayer)         (None, 32, 256)           0         \n",
      "_________________________________________________________________\n",
      "bidirectional_2 (Bidirection (None, 32, 96)            117120    \n",
      "_________________________________________________________________\n",
      "time_distributed_2 (TimeDist (None, 32, 1)             97        \n",
      "=================================================================\n",
      "Total params: 117,217\n",
      "Trainable params: 117,217\n",
      "Non-trainable params: 0\n",
      "_________________________________________________________________\n",
      "======Training stage======\n",
      "Epoch 1/10\n",
      "68184/68184 [==============================] - 90s 1ms/step - loss: 0.0022 - accuracy: 0.9993\n",
      "Epoch 2/10\n",
      "68184/68184 [==============================] - 88s 1ms/step - loss: 0.0020 - accuracy: 0.9994\n",
      "Epoch 3/10\n",
      "68184/68184 [==============================] - 88s 1ms/step - loss: 0.0019 - accuracy: 0.9994\n",
      "Epoch 4/10\n",
      "68184/68184 [==============================] - 86s 1ms/step - loss: 0.0018 - accuracy: 0.9995\n",
      "Epoch 5/10\n",
      "68184/68184 [==============================] - 88s 1ms/step - loss: 0.0016 - accuracy: 0.9995\n",
      "Epoch 6/10\n",
      "68184/68184 [==============================] - 86s 1ms/step - loss: 0.0015 - accuracy: 0.9996\n",
      "Epoch 7/10\n",
      "68184/68184 [==============================] - 88s 1ms/step - loss: 0.0013 - accuracy: 0.9996\n",
      "Epoch 8/10\n",
      "68184/68184 [==============================] - 88s 1ms/step - loss: 0.0012 - accuracy: 0.9996\n",
      "Epoch 9/10\n",
      "68184/68184 [==============================] - 88s 1ms/step - loss: 0.0011 - accuracy: 0.9997\n",
      "Epoch 10/10\n",
      "68184/68184 [==============================] - 88s 1ms/step - loss: 9.8332e-04 - accuracy: 0.9997\n"
     ]
    },
    {
     "data": {
      "text/plain": [
       "<keras.callbacks.callbacks.History at 0x200e41f4208>"
      ]
     },
     "execution_count": 18,
     "metadata": {},
     "output_type": "execute_result"
    },
    {
     "name": "stdout",
     "output_type": "stream",
     "text": [
      "accuracy_score 0.9992863978352693\n",
      "recall_score 0.715\n",
      "precision_score 0.8289855072463768\n",
      "f1_score 0.7677852348993288\n",
      "Model: \"model_6\"\n",
      "_________________________________________________________________\n",
      "Layer (type)                 Output Shape              Param #   \n",
      "=================================================================\n",
      "input_2 (InputLayer)         (None, 32, 256)           0         \n",
      "_________________________________________________________________\n",
      "bidirectional_2 (Bidirection (None, 32, 96)            117120    \n",
      "_________________________________________________________________\n",
      "time_distributed_2 (TimeDist (None, 32, 1)             97        \n",
      "=================================================================\n",
      "Total params: 117,217\n",
      "Trainable params: 117,217\n",
      "Non-trainable params: 0\n",
      "_________________________________________________________________\n",
      "======Training stage======\n",
      "Epoch 1/10\n",
      "68184/68184 [==============================] - 90s 1ms/step - loss: 0.0011 - accuracy: 0.9997\n",
      "Epoch 2/10\n",
      "68184/68184 [==============================] - 88s 1ms/step - loss: 9.5637e-04 - accuracy: 0.9997\n",
      "Epoch 3/10\n",
      "68184/68184 [==============================] - 89s 1ms/step - loss: 8.6210e-04 - accuracy: 0.9998\n",
      "Epoch 4/10\n",
      "68184/68184 [==============================] - 87s 1ms/step - loss: 7.7968e-04 - accuracy: 0.9998\n",
      "Epoch 5/10\n",
      "68184/68184 [==============================] - 70s 1ms/step - loss: 6.7018e-04 - accuracy: 0.9998 1s - ETA: 0s - loss: 6.7217e-0\n",
      "Epoch 6/10\n",
      "68184/68184 [==============================] - 70s 1ms/step - loss: 6.0178e-04 - accuracy: 0.9998 0s - loss: 6.0323e-04 - accura\n",
      "Epoch 7/10\n",
      "68184/68184 [==============================] - 70s 1ms/step - loss: 5.0874e-04 - accuracy: 0.9999\n",
      "Epoch 8/10\n",
      "68184/68184 [==============================] - 70s 1ms/step - loss: 4.6664e-04 - accuracy: 0.9999\n",
      "Epoch 9/10\n",
      "68184/68184 [==============================] - 70s 1ms/step - loss: 4.0555e-04 - accuracy: 0.9999\n",
      "Epoch 10/10\n",
      "68184/68184 [==============================] - 70s 1ms/step - loss: 3.5988e-04 - accuracy: 0.9999 1s - loss: 3.6101e-04 - accura - ETA: 1s - loss: 3.5974e-04 - accuracy: 0.99 - ETA\n"
     ]
    },
    {
     "data": {
      "text/plain": [
       "<keras.callbacks.callbacks.History at 0x200eb9bdc88>"
      ]
     },
     "execution_count": 18,
     "metadata": {},
     "output_type": "execute_result"
    },
    {
     "name": "stdout",
     "output_type": "stream",
     "text": [
      "accuracy_score 0.9995091407074974\n",
      "recall_score 0.7928388746803069\n",
      "precision_score 0.8908045977011494\n",
      "f1_score 0.8389715832205684\n",
      "Model: \"model_7\"\n",
      "_________________________________________________________________\n",
      "Layer (type)                 Output Shape              Param #   \n",
      "=================================================================\n",
      "input_2 (InputLayer)         (None, 32, 256)           0         \n",
      "_________________________________________________________________\n",
      "bidirectional_2 (Bidirection (None, 32, 96)            117120    \n",
      "_________________________________________________________________\n",
      "time_distributed_2 (TimeDist (None, 32, 1)             97        \n",
      "=================================================================\n",
      "Total params: 117,217\n",
      "Trainable params: 117,217\n",
      "Non-trainable params: 0\n",
      "_________________________________________________________________\n",
      "======Training stage======\n",
      "Epoch 1/10\n",
      "68184/68184 [==============================] - 71s 1ms/step - loss: 5.5839e-04 - accuracy: 0.9999\n",
      "Epoch 2/10\n",
      "68184/68184 [==============================] - 67s 976us/step - loss: 3.8065e-04 - accuracy: 0.9999\n",
      "Epoch 3/10\n",
      "68184/68184 [==============================] - 68s 995us/step - loss: 3.2470e-04 - accuracy: 0.9999\n",
      "Epoch 4/10\n",
      "68184/68184 [==============================] - 65s 948us/step - loss: 2.6886e-04 - accuracy: 0.9999s - loss: 2.6746e-04 - accura\n",
      "Epoch 5/10\n",
      "68184/68184 [==============================] - 68s 999us/step - loss: 2.3256e-04 - accuracy: 0.9999\n",
      "Epoch 6/10\n",
      "68184/68184 [==============================] - 68s 1ms/step - loss: 2.1123e-04 - accuracy: 0.9999\n",
      "Epoch 7/10\n",
      "68184/68184 [==============================] - 68s 1ms/step - loss: 1.7540e-04 - accuracy: 1.0000\n",
      "Epoch 8/10\n",
      "68184/68184 [==============================] - 68s 1ms/step - loss: 1.5155e-04 - accuracy: 1.0000\n",
      "Epoch 9/10\n",
      "68184/68184 [==============================] - 68s 1ms/step - loss: 1.5418e-04 - accuracy: 1.0000\n",
      "Epoch 10/10\n",
      "68184/68184 [==============================] - 68s 1ms/step - loss: 1.5045e-04 - accuracy: 1.0000\n"
     ]
    },
    {
     "data": {
      "text/plain": [
       "<keras.callbacks.callbacks.History at 0x200efc26f88>"
      ]
     },
     "execution_count": 18,
     "metadata": {},
     "output_type": "execute_result"
    },
    {
     "name": "stdout",
     "output_type": "stream",
     "text": [
      "accuracy_score 0.9995875131995776\n",
      "recall_score 0.7893401015228426\n",
      "precision_score 0.948170731707317\n",
      "f1_score 0.8614958448753463\n",
      "Model: \"model_8\"\n",
      "_________________________________________________________________\n",
      "Layer (type)                 Output Shape              Param #   \n",
      "=================================================================\n",
      "input_2 (InputLayer)         (None, 32, 256)           0         \n",
      "_________________________________________________________________\n",
      "bidirectional_2 (Bidirection (None, 32, 96)            117120    \n",
      "_________________________________________________________________\n",
      "time_distributed_2 (TimeDist (None, 32, 1)             97        \n",
      "=================================================================\n",
      "Total params: 117,217\n",
      "Trainable params: 117,217\n",
      "Non-trainable params: 0\n",
      "_________________________________________________________________\n",
      "======Training stage======\n",
      "Epoch 1/10\n",
      "68184/68184 [==============================] - 71s 1ms/step - loss: 3.1257e-04 - accuracy: 0.9999\n",
      "Epoch 2/10\n",
      "68184/68184 [==============================] - 69s 1ms/step - loss: 2.0547e-04 - accuracy: 0.9999\n",
      "Epoch 3/10\n",
      "68184/68184 [==============================] - 69s 1ms/step - loss: 1.6827e-04 - accuracy: 0.9999\n",
      "Epoch 4/10\n",
      "68184/68184 [==============================] - 70s 1ms/step - loss: 1.3480e-04 - accuracy: 1.0000\n",
      "Epoch 5/10\n",
      "68184/68184 [==============================] - 69s 1ms/step - loss: 1.1109e-04 - accuracy: 1.0000\n",
      "Epoch 6/10\n",
      "68184/68184 [==============================] - 69s 1ms/step - loss: 1.0399e-04 - accuracy: 1.0000\n",
      "Epoch 7/10\n",
      "68184/68184 [==============================] - 69s 1ms/step - loss: 9.7919e-05 - accuracy: 1.0000\n",
      "Epoch 8/10\n",
      "68184/68184 [==============================] - 69s 1ms/step - loss: 8.9851e-05 - accuracy: 1.0000\n",
      "Epoch 9/10\n",
      "68184/68184 [==============================] - 69s 1ms/step - loss: 7.4959e-05 - accuracy: 1.0000\n",
      "Epoch 10/10\n",
      "68184/68184 [==============================] - 58s 844us/step - loss: 6.1342e-05 - accuracy: 1.0000\n"
     ]
    },
    {
     "data": {
      "text/plain": [
       "<keras.callbacks.callbacks.History at 0x200f17904c8>"
      ]
     },
     "execution_count": 18,
     "metadata": {},
     "output_type": "execute_result"
    },
    {
     "name": "stdout",
     "output_type": "stream",
     "text": [
      "accuracy_score 0.9998226306758183\n",
      "recall_score 0.917312661498708\n",
      "precision_score 0.9699453551912568\n",
      "f1_score 0.9428950863213812\n",
      "Model: \"model_9\"\n",
      "_________________________________________________________________\n",
      "Layer (type)                 Output Shape              Param #   \n",
      "=================================================================\n",
      "input_2 (InputLayer)         (None, 32, 256)           0         \n",
      "_________________________________________________________________\n",
      "bidirectional_2 (Bidirection (None, 32, 96)            117120    \n",
      "_________________________________________________________________\n",
      "time_distributed_2 (TimeDist (None, 32, 1)             97        \n",
      "=================================================================\n",
      "Total params: 117,217\n",
      "Trainable params: 117,217\n",
      "Non-trainable params: 0\n",
      "_________________________________________________________________\n",
      "======Training stage======\n",
      "Epoch 1/10\n",
      "68184/68184 [==============================] - 54s 786us/step - loss: 1.5630e-04 - accuracy: 1.0000\n",
      "Epoch 2/10\n",
      "68184/68184 [==============================] - 53s 772us/step - loss: 9.9777e-05 - accuracy: 1.0000\n",
      "Epoch 3/10\n",
      "68184/68184 [==============================] - 41s 602us/step - loss: 7.4214e-05 - accuracy: 1.0000\n",
      "Epoch 4/10\n",
      "68184/68184 [==============================] - 38s 552us/step - loss: 6.3299e-05 - accuracy: 1.0000\n",
      "Epoch 5/10\n",
      "68184/68184 [==============================] - 37s 546us/step - loss: 5.7989e-05 - accuracy: 1.0000\n",
      "Epoch 6/10\n",
      "68184/68184 [==============================] - 37s 547us/step - loss: 5.5410e-05 - accuracy: 1.0000\n",
      "Epoch 7/10\n",
      "68184/68184 [==============================] - 37s 546us/step - loss: 5.0628e-05 - accuracy: 1.0000\n",
      "Epoch 8/10\n",
      "68184/68184 [==============================] - 37s 546us/step - loss: 4.1236e-05 - accuracy: 1.0000\n",
      "Epoch 9/10\n",
      "68184/68184 [==============================] - 37s 545us/step - loss: 5.6593e-05 - accuracy: 1.0000\n",
      "Epoch 10/10\n",
      "68184/68184 [==============================] - 37s 546us/step - loss: 6.1668e-05 - accuracy: 1.0000\n"
     ]
    },
    {
     "data": {
      "text/plain": [
       "<keras.callbacks.callbacks.History at 0x200f22242c8>"
      ]
     },
     "execution_count": 18,
     "metadata": {},
     "output_type": "execute_result"
    },
    {
     "name": "stdout",
     "output_type": "stream",
     "text": [
      "accuracy_score 0.9999092529039071\n",
      "recall_score 0.9583333333333334\n",
      "precision_score 0.9801136363636364\n",
      "f1_score 0.9691011235955057\n",
      "Model: \"model_10\"\n",
      "_________________________________________________________________\n",
      "Layer (type)                 Output Shape              Param #   \n",
      "=================================================================\n",
      "input_2 (InputLayer)         (None, 32, 256)           0         \n",
      "_________________________________________________________________\n",
      "bidirectional_2 (Bidirection (None, 32, 96)            117120    \n",
      "_________________________________________________________________\n",
      "time_distributed_2 (TimeDist (None, 32, 1)             97        \n",
      "=================================================================\n",
      "Total params: 117,217\n",
      "Trainable params: 117,217\n",
      "Non-trainable params: 0\n",
      "_________________________________________________________________\n",
      "======Training stage======\n",
      "Epoch 1/10\n",
      "68184/68184 [==============================] - 38s 562us/step - loss: 1.0581e-04 - accuracy: 1.0000\n",
      "Epoch 2/10\n",
      "68184/68184 [==============================] - 38s 559us/step - loss: 5.2485e-05 - accuracy: 1.0000\n",
      "Epoch 3/10\n",
      "68184/68184 [==============================] - 38s 555us/step - loss: 5.0693e-05 - accuracy: 1.0000\n",
      "Epoch 4/10\n",
      "68184/68184 [==============================] - 38s 557us/step - loss: 3.9305e-05 - accuracy: 1.0000\n",
      "Epoch 5/10\n",
      "68184/68184 [==============================] - 38s 559us/step - loss: 2.9687e-05 - accuracy: 1.0000\n",
      "Epoch 6/10\n",
      "68184/68184 [==============================] - 38s 556us/step - loss: 3.6669e-05 - accuracy: 1.0000\n",
      "Epoch 7/10\n",
      "68184/68184 [==============================] - 38s 560us/step - loss: 3.6921e-05 - accuracy: 1.0000\n",
      "Epoch 8/10\n",
      "68184/68184 [==============================] - 38s 556us/step - loss: 2.5982e-05 - accuracy: 1.0000\n",
      "Epoch 9/10\n",
      "68184/68184 [==============================] - 38s 555us/step - loss: 2.8672e-05 - accuracy: 1.0000\n",
      "Epoch 10/10\n",
      "68184/68184 [==============================] - 38s 557us/step - loss: 4.4627e-05 - accuracy: 1.0000\n"
     ]
    },
    {
     "data": {
      "text/plain": [
       "<keras.callbacks.callbacks.History at 0x200f7813488>"
      ]
     },
     "execution_count": 18,
     "metadata": {},
     "output_type": "execute_result"
    },
    {
     "name": "stdout",
     "output_type": "stream",
     "text": [
      "accuracy_score 0.9999216275079198\n",
      "recall_score 0.9689119170984456\n",
      "precision_score 0.9816272965879265\n",
      "f1_score 0.9752281616688396\n",
      "Model: \"model_11\"\n",
      "_________________________________________________________________\n",
      "Layer (type)                 Output Shape              Param #   \n",
      "=================================================================\n",
      "input_2 (InputLayer)         (None, 32, 256)           0         \n",
      "_________________________________________________________________\n",
      "bidirectional_2 (Bidirection (None, 32, 96)            117120    \n",
      "_________________________________________________________________\n",
      "time_distributed_2 (TimeDist (None, 32, 1)             97        \n",
      "=================================================================\n",
      "Total params: 117,217\n",
      "Trainable params: 117,217\n",
      "Non-trainable params: 0\n",
      "_________________________________________________________________\n",
      "======Training stage======\n",
      "Epoch 1/10\n",
      "68184/68184 [==============================] - 39s 569us/step - loss: 8.8797e-05 - accuracy: 1.0000\n",
      "Epoch 2/10\n",
      "68184/68184 [==============================] - 38s 564us/step - loss: 3.3334e-05 - accuracy: 1.0000\n",
      "Epoch 3/10\n",
      "68184/68184 [==============================] - 38s 562us/step - loss: 4.3705e-05 - accuracy: 1.0000\n",
      "Epoch 4/10\n",
      "68184/68184 [==============================] - 39s 567us/step - loss: 3.6125e-05 - accuracy: 1.0000\n",
      "Epoch 5/10\n",
      "68184/68184 [==============================] - 39s 565us/step - loss: 3.0861e-05 - accuracy: 1.0000\n",
      "Epoch 6/10\n",
      "68184/68184 [==============================] - 39s 565us/step - loss: 2.7040e-05 - accuracy: 1.0000\n",
      "Epoch 7/10\n",
      "68184/68184 [==============================] - 39s 566us/step - loss: 2.5866e-05 - accuracy: 1.0000\n",
      "Epoch 8/10\n",
      "68184/68184 [==============================] - 39s 566us/step - loss: 1.9243e-05 - accuracy: 1.0000\n",
      "Epoch 9/10\n",
      "68184/68184 [==============================] - 39s 565us/step - loss: 2.3834e-05 - accuracy: 1.0000\n",
      "Epoch 10/10\n",
      "68184/68184 [==============================] - 39s 565us/step - loss: 1.0860e-05 - accuracy: 1.0000\n"
     ]
    },
    {
     "data": {
      "text/plain": [
       "<keras.callbacks.callbacks.History at 0x2011d2d9a88>"
      ]
     },
     "execution_count": 18,
     "metadata": {},
     "output_type": "execute_result"
    },
    {
     "name": "stdout",
     "output_type": "stream",
     "text": [
      "accuracy_score 0.9999793756599789\n",
      "recall_score 0.9914772727272727\n",
      "precision_score 0.9943019943019943\n",
      "f1_score 0.9928876244665717\n",
      "Model: \"model_12\"\n",
      "_________________________________________________________________\n",
      "Layer (type)                 Output Shape              Param #   \n",
      "=================================================================\n",
      "input_2 (InputLayer)         (None, 32, 256)           0         \n",
      "_________________________________________________________________\n",
      "bidirectional_2 (Bidirection (None, 32, 96)            117120    \n",
      "_________________________________________________________________\n",
      "time_distributed_2 (TimeDist (None, 32, 1)             97        \n",
      "=================================================================\n",
      "Total params: 117,217\n",
      "Trainable params: 117,217\n",
      "Non-trainable params: 0\n",
      "_________________________________________________________________\n",
      "======Training stage======\n",
      "Epoch 1/10\n",
      "68184/68184 [==============================] - 39s 569us/step - loss: 6.8986e-05 - accuracy: 1.0000\n",
      "Epoch 2/10\n",
      "68184/68184 [==============================] - 38s 563us/step - loss: 3.5881e-05 - accuracy: 1.0000\n",
      "Epoch 3/10\n",
      "68184/68184 [==============================] - 38s 562us/step - loss: 2.8760e-05 - accuracy: 1.0000\n",
      "Epoch 4/10\n",
      "68184/68184 [==============================] - 38s 560us/step - loss: 1.5135e-05 - accuracy: 1.0000\n",
      "Epoch 5/10\n",
      "68184/68184 [==============================] - 38s 561us/step - loss: 1.9704e-05 - accuracy: 1.0000\n",
      "Epoch 6/10\n",
      "68184/68184 [==============================] - 38s 563us/step - loss: 2.0712e-05 - accuracy: 1.0000\n",
      "Epoch 7/10\n",
      "68184/68184 [==============================] - 38s 561us/step - loss: 2.1357e-05 - accuracy: 1.0000\n",
      "Epoch 8/10\n",
      "68184/68184 [==============================] - 38s 564us/step - loss: 2.3210e-05 - accuracy: 1.0000\n",
      "Epoch 9/10\n",
      "68184/68184 [==============================] - 38s 559us/step - loss: 2.8538e-05 - accuracy: 1.0000\n",
      "Epoch 10/10\n",
      "68184/68184 [==============================] - 38s 559us/step - loss: 1.6438e-05 - accuracy: 1.0000\n"
     ]
    },
    {
     "data": {
      "text/plain": [
       "<keras.callbacks.callbacks.History at 0x2011de3bf08>"
      ]
     },
     "execution_count": 18,
     "metadata": {},
     "output_type": "execute_result"
    },
    {
     "name": "stdout",
     "output_type": "stream",
     "text": [
      "accuracy_score 0.9999711259239704\n",
      "recall_score 0.9804469273743017\n",
      "precision_score 1.0\n",
      "f1_score 0.9901269393511989\n",
      "Model: \"model_13\"\n",
      "_________________________________________________________________\n",
      "Layer (type)                 Output Shape              Param #   \n",
      "=================================================================\n",
      "input_2 (InputLayer)         (None, 32, 256)           0         \n",
      "_________________________________________________________________\n",
      "bidirectional_2 (Bidirection (None, 32, 96)            117120    \n",
      "_________________________________________________________________\n",
      "time_distributed_2 (TimeDist (None, 32, 1)             97        \n",
      "=================================================================\n",
      "Total params: 117,217\n",
      "Trainable params: 117,217\n",
      "Non-trainable params: 0\n",
      "_________________________________________________________________\n",
      "======Training stage======\n",
      "Epoch 1/10\n",
      "68184/68184 [==============================] - 40s 582us/step - loss: 3.5017e-05 - accuracy: 1.0000\n",
      "Epoch 2/10\n",
      "68184/68184 [==============================] - 39s 574us/step - loss: 2.4190e-05 - accuracy: 1.0000\n",
      "Epoch 3/10\n",
      "68184/68184 [==============================] - 39s 574us/step - loss: 1.9056e-05 - accuracy: 1.0000\n",
      "Epoch 4/10\n",
      "68184/68184 [==============================] - 39s 576us/step - loss: 2.0102e-05 - accuracy: 1.0000\n",
      "Epoch 5/10\n",
      "68184/68184 [==============================] - 39s 575us/step - loss: 1.8774e-05 - accuracy: 1.0000\n",
      "Epoch 6/10\n",
      "68184/68184 [==============================] - 39s 577us/step - loss: 1.3039e-05 - accuracy: 1.0000\n",
      "Epoch 7/10\n",
      "68184/68184 [==============================] - 39s 576us/step - loss: 1.8414e-05 - accuracy: 1.0000\n",
      "Epoch 8/10\n",
      "68184/68184 [==============================] - 39s 576us/step - loss: 8.3373e-06 - accuracy: 1.0000\n",
      "Epoch 9/10\n",
      "68184/68184 [==============================] - 39s 577us/step - loss: 9.3942e-06 - accuracy: 1.0000\n",
      "Epoch 10/10\n",
      "68184/68184 [==============================] - 40s 580us/step - loss: 1.7051e-05 - accuracy: 1.0000\n"
     ]
    },
    {
     "data": {
      "text/plain": [
       "<keras.callbacks.callbacks.History at 0x2011f90dac8>"
      ]
     },
     "execution_count": 18,
     "metadata": {},
     "output_type": "execute_result"
    },
    {
     "name": "stdout",
     "output_type": "stream",
     "text": [
      "accuracy_score 0.9999835005279831\n",
      "recall_score 0.9916201117318436\n",
      "precision_score 0.9971910112359551\n",
      "f1_score 0.9943977591036415\n",
      "\n",
      "K-fold cross validation Accuracy: [0.9991255279831045, 0.9992863978352693, 0.9995091407074974, 0.9995875131995776, 0.9998226306758183, 0.9999092529039071, 0.9999216275079198, 0.9999793756599789, 0.9999711259239704, 0.9999835005279831]\n",
      "\n",
      "K-fold cross validation Recall: [0.5673575129533679, 0.715, 0.7928388746803069, 0.7893401015228426, 0.917312661498708, 0.9583333333333334, 0.9689119170984456, 0.9914772727272727, 0.9804469273743017, 0.9916201117318436]\n",
      "\n",
      "K-fold cross validation Precision: [0.8295454545454546, 0.8289855072463768, 0.8908045977011494, 0.948170731707317, 0.9699453551912568, 0.9801136363636364, 0.9816272965879265, 0.9943019943019943, 1.0, 0.9971910112359551]\n",
      "\n",
      "K-fold cross validation F1-Score: [0.6738461538461539, 0.7677852348993288, 0.8389715832205684, 0.8614958448753463, 0.9428950863213812, 0.9691011235955057, 0.9752281616688396, 0.9928876244665717, 0.9901269393511989, 0.9943977591036415]\n"
     ]
    }
   ],
   "source": [
    "# 교차검증 kfold\n",
    "from sklearn.model_selection import KFold\n",
    "\n",
    "# Accuracy, Precision, Recall, F1-Score\n",
    "from sklearn.metrics import accuracy_score, recall_score, precision_score, f1_score\n",
    "\n",
    "# Confusion Matrix, ROC Curve\n",
    "from sklearn.metrics import confusion_matrix, roc_auc_score\n",
    "\n",
    "# 최종 평가지표들 평균용\n",
    "accuracy, recall, precision, f1score, cm = [], [], [], [], []\n",
    "\n",
    "# 11. 교차검증 kfold - k.split - 10회 / K-Fold 객체 생성\n",
    "# kf = KFold(n_splits=10, shuffle=False, random_state=None) # KFold non shuffle 버전\n",
    "kf = KFold(n_splits=10, shuffle=True, random_state=None) # KFold non shuffle 버전\n",
    "\n",
    "for train, validation in kf.split(x_gcc6_0_32_3, y_gcc6_0_32_3):\n",
    "    model1 = Model(xInput, xOutput)\n",
    "    model1.compile(loss='binary_crossentropy', optimizer='rmsprop', metrics=['accuracy'])\n",
    "    model1.summary()\n",
    "    print('======Training stage======')\n",
    "    model1.fit(x_gcc6_0_32_3[train],\n",
    "               y_gcc6_0_32_3[train],\n",
    "               epochs = 10,\n",
    "               batch_size = 32,\n",
    "               callbacks=[early_stopping])\n",
    "    #k_accuracy = '%.4f' %(model1.evaluate(data_10000x[validation], data_10000y[validation])[1])\n",
    "\n",
    "# 12. 교차검증결과 predict - 검증셋들\n",
    "    # predict 값\n",
    "    k_pr = model1.predict(x_gcc6_0_32_3[validation])\n",
    "    \n",
    "    # 테스트 predict 결과들 비교 (평가지표 보기위함)\n",
    "    pred = np.round(np.array(k_pr).flatten().tolist())\n",
    "    y_test = np.array(y_gcc6_0_32_3[validation]).flatten().tolist()\n",
    "    \n",
    "# 13. 평가지표들 출력\n",
    "    ## 평가지표들\n",
    "    k_accuracy = float(accuracy_score(y_test, pred))\n",
    "    k_recall =  float(recall_score(y_test, pred))\n",
    "    k_precision = float(precision_score(y_test, pred))\n",
    "    k_f1_score = float(f1_score(y_test, pred))\n",
    "    #k_cm = float(confusion_matrix(y_test, pred))\n",
    "    \n",
    "    print('accuracy_score', k_accuracy)\n",
    "    print('recall_score', k_recall)\n",
    "    print('precision_score', k_precision)\n",
    "    print('f1_score', k_f1_score)\n",
    "    #print('\\nconfusion_matrix\\n', k_cm)\n",
    "\n",
    "    accuracy.append(k_accuracy)\n",
    "    recall.append(k_recall)\n",
    "    precision.append(k_precision)\n",
    "    f1score.append(k_f1_score)\n",
    "    #cm.append(k_cm)\n",
    "#    print('roc_curve 면적', roc_auc_score(y_test, pred))\n",
    "\n",
    "# 14. 최종 결과지표\n",
    "print('\\nK-fold cross validation Accuracy: {}'.format(accuracy))\n",
    "print('\\nK-fold cross validation Recall: {}'.format(recall))\n",
    "print('\\nK-fold cross validation Precision: {}'.format(precision))\n",
    "print('\\nK-fold cross validation F1-Score: {}'.format(f1score))\n",
    "#print('\\nK-fold cross validation ConfusionMatrix: {}'.format(cm))"
   ]
  },
  {
   "cell_type": "markdown",
   "metadata": {},
   "source": [
    "## (9) 평가지표"
   ]
  },
  {
   "cell_type": "code",
   "execution_count": 19,
   "metadata": {},
   "outputs": [
    {
     "name": "stdout",
     "output_type": "stream",
     "text": [
      "10-Fold Cross_validation. Accuracy : 0.9997096092925026\n",
      "10-Fold Cross_validation. Recall : 0.8672638712920422\n",
      "10-Fold Cross_validation. Precision : 0.9420685584881067\n",
      "10-Fold Cross_validation. F1-Score : 0.9006735511348536\n"
     ]
    }
   ],
   "source": [
    "print('10-Fold Cross_validation. Accuracy :', np.mean(accuracy))\n",
    "print('10-Fold Cross_validation. Recall :', np.mean(recall))\n",
    "print('10-Fold Cross_validation. Precision :', np.mean(precision))\n",
    "print('10-Fold Cross_validation. F1-Score :', np.mean(f1score))"
   ]
  }
 ],
 "metadata": {
  "kernelspec": {
   "display_name": "Python 3",
   "language": "python",
   "name": "python3"
  },
  "language_info": {
   "codemirror_mode": {
    "name": "ipython",
    "version": 3
   },
   "file_extension": ".py",
   "mimetype": "text/x-python",
   "name": "python",
   "nbconvert_exporter": "python",
   "pygments_lexer": "ipython3",
   "version": "3.7.6"
  }
 },
 "nbformat": 4,
 "nbformat_minor": 4
}
