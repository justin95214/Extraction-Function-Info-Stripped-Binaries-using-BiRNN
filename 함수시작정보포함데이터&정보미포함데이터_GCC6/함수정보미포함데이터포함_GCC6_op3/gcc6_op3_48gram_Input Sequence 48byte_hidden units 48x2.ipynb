{
 "cells": [
  {
   "cell_type": "markdown",
   "metadata": {},
   "source": [
    "## RNN 모델 N-Byte 방식 (함수정보 포함 vs 미포함 => 1:1 비율)\n",
    "\n",
    "## (1) 데이터로드"
   ]
  },
  {
   "cell_type": "code",
   "execution_count": 1,
   "metadata": {},
   "outputs": [
    {
     "name": "stdout",
     "output_type": "stream",
     "text": [
      "(13485088, 2)\n",
      "reset_index 완료\n",
      "input data shape\n"
     ]
    },
    {
     "data": {
      "text/html": [
       "<div>\n",
       "<style scoped>\n",
       "    .dataframe tbody tr th:only-of-type {\n",
       "        vertical-align: middle;\n",
       "    }\n",
       "\n",
       "    .dataframe tbody tr th {\n",
       "        vertical-align: top;\n",
       "    }\n",
       "\n",
       "    .dataframe thead th {\n",
       "        text-align: right;\n",
       "    }\n",
       "</style>\n",
       "<table border=\"1\" class=\"dataframe\">\n",
       "  <thead>\n",
       "    <tr style=\"text-align: right;\">\n",
       "      <th></th>\n",
       "      <th>bin</th>\n",
       "      <th>label</th>\n",
       "    </tr>\n",
       "  </thead>\n",
       "  <tbody>\n",
       "    <tr>\n",
       "      <th>0</th>\n",
       "      <td>53</td>\n",
       "      <td>1</td>\n",
       "    </tr>\n",
       "    <tr>\n",
       "      <th>1</th>\n",
       "      <td>83</td>\n",
       "      <td>0</td>\n",
       "    </tr>\n",
       "    <tr>\n",
       "      <th>2</th>\n",
       "      <td>ec</td>\n",
       "      <td>0</td>\n",
       "    </tr>\n",
       "    <tr>\n",
       "      <th>3</th>\n",
       "      <td>08</td>\n",
       "      <td>0</td>\n",
       "    </tr>\n",
       "    <tr>\n",
       "      <th>4</th>\n",
       "      <td>e8</td>\n",
       "      <td>0</td>\n",
       "    </tr>\n",
       "  </tbody>\n",
       "</table>\n",
       "</div>"
      ],
      "text/plain": [
       "  bin  label\n",
       "0  53      1\n",
       "1  83      0\n",
       "2  ec      0\n",
       "3  08      0\n",
       "4  e8      0"
      ]
     },
     "execution_count": 1,
     "metadata": {},
     "output_type": "execute_result"
    }
   ],
   "source": [
    "# (1) 데이터로드\n",
    "import pandas as pd\n",
    "import numpy as np\n",
    "\n",
    "import warnings\n",
    "warnings.filterwarnings(action='ignore')\n",
    "\n",
    "# 여러개 쳐도 나오게\n",
    "from IPython.core.interactiveshell import InteractiveShell\n",
    "InteractiveShell.ast_node_interactivity = \"all\"\n",
    "\n",
    "# 파일읽기\n",
    "gcc6_3_32 = pd.read_csv(\"../data/binutils_gcc3~9_op0~4_exec_csv/\"+'gcc6'+\"_3_32_exec.csv\", index_col=0)\n",
    "\n",
    "# 형태 출력\n",
    "print(gcc6_3_32.shape)\n",
    "\n",
    "# reset_index (hex processing 하면서 값이 빠졌으니까 + n_gram 에서 index를 다루기 때문에)\n",
    "gcc6_3_32.reset_index(inplace=True, drop=True)\n",
    "\n",
    "print('reset_index 완료')\n",
    "print('input data shape')\n",
    "gcc6_3_32.head()"
   ]
  },
  {
   "cell_type": "code",
   "execution_count": 2,
   "metadata": {},
   "outputs": [
    {
     "name": "stdout",
     "output_type": "stream",
     "text": [
      "256\n",
      "0    13446275\n",
      "1       38813\n",
      "Name: label, dtype: int64\n"
     ]
    }
   ],
   "source": [
    "# (2-1) 데이터체크 1 - hex(16진수)가 256 label을 가져야 dummies 변환 가능 \n",
    "\n",
    "# 16진수 256개 종류가 있어서 pd.get_dummies 사용 가능.\n",
    "print(len(gcc6_3_32['bin'].unique()))\n",
    "\n",
    "# (2-2) 데이터 체크 2 - 1, 0 비율 ==> 1이 함수의 갯수를 뜻함\n",
    "# 정답 데이터 1, 0 비율 확인  ==> 1이 함수의 갯수를 뜻함\n",
    "print(gcc6_3_32['label'].value_counts())"
   ]
  },
  {
   "cell_type": "markdown",
   "metadata": {},
   "source": [
    "## (3) N Byte씩 자르기"
   ]
  },
  {
   "cell_type": "code",
   "execution_count": 3,
   "metadata": {},
   "outputs": [
    {
     "name": "stdout",
     "output_type": "stream",
     "text": [
      "1862988\n",
      "나머지 12\n",
      "최종 길이 1862976\n",
      "gcc6_2_32 1862976\n"
     ]
    }
   ],
   "source": [
    "######################## \n",
    "idx = gcc6_3_32[gcc6_3_32['label']==1].index  # 407, 474 ...\n",
    "ls = list(idx)\n",
    "\n",
    "# 최종 뽑을 행에 대한 index\n",
    "ls_idx = [] \n",
    "left_idx, right_idx = 0, 48 # 3개씩\n",
    "\n",
    "# 6gram\n",
    "for k in range(left_idx, right_idx):\n",
    "    ls_idx.extend(list(idx + k)) # index 형이라서 가능\n",
    "\n",
    "#ls_idx = list(set(ls_idx)) \n",
    "ls_idx.sort() # 인덱스 정렬\n",
    "\n",
    "# 1차 index 해당범위 초과한 것들 없애기\n",
    "ls_idx = list(filter(lambda x: x<len(gcc6_3_32), ls_idx))\n",
    "print(len(ls_idx))\n",
    "\n",
    "# 2차 남은 index들 중 right_idx 나눈 나머지 없애기\n",
    "sub = len(ls_idx)%(right_idx)\n",
    "print('나머지', sub)\n",
    "\n",
    "ls_idx = ls_idx[:len(ls_idx)-sub]\n",
    "print('최종 길이', len(ls_idx))\n",
    "\n",
    "print('gcc6_3_32', len(ls_idx))\n",
    "\n",
    "# loc 로 수정필요\n",
    "gcc6_3_32_Ngram = gcc6_3_32.loc[ls_idx,:].copy()"
   ]
  },
  {
   "cell_type": "markdown",
   "metadata": {},
   "source": [
    "## (4) false data 만들기"
   ]
  },
  {
   "cell_type": "code",
   "execution_count": 4,
   "metadata": {},
   "outputs": [
    {
     "name": "stdout",
     "output_type": "stream",
     "text": [
      "0 1000 2000 3000 4000 5000 6000 7000 8000 9000 10000 11000 12000 13000 14000 15000 16000 17000 18000 19000 20000 21000 22000 23000 24000 25000 26000 27000 28000 29000 30000 31000 32000 33000 34000 35000 36000 37000 38000 완료\n"
     ]
    }
   ],
   "source": [
    "# false data 만들기 - False 데이터 랜덤 생성\n",
    "# random index\n",
    "random_idx = np.random.randint(len(gcc6_3_32)-right_idx)\n",
    "\n",
    "# 목표치\n",
    "goal = len(gcc6_3_32_Ngram)/right_idx\n",
    "count=0\n",
    "\n",
    "d = pd.DataFrame(columns=gcc6_3_32.columns)\n",
    "\n",
    "# goal 에 도달할 때까지\n",
    "while count!=goal:\n",
    "    \n",
    "    # 진행상황 살펴보기 위함\n",
    "    if count%1000==0:\n",
    "        print(count, end=' ')\n",
    "        \n",
    "    # 랜덤 N 바이트씩 뽑음\n",
    "    df = gcc6_3_32[random_idx:random_idx+right_idx]\n",
    "    \n",
    "    # 뽑은 index의 N 바이트 중에 1이 없는 경우만\n",
    "    if 1 not in df['label']:\n",
    "        d = pd.concat([d, df])\n",
    "        count+=1\n",
    "\n",
    "print('완료')"
   ]
  },
  {
   "cell_type": "markdown",
   "metadata": {},
   "source": [
    "## (5) False Data + True Data 합치기"
   ]
  },
  {
   "cell_type": "code",
   "execution_count": 5,
   "metadata": {},
   "outputs": [
    {
     "name": "stdout",
     "output_type": "stream",
     "text": [
      "0 1000 2000 3000 4000 5000 6000 7000 8000 9000 10000 11000 12000 13000 14000 15000 16000 17000 18000 19000 20000 21000 22000 23000 24000 25000 26000 27000 28000 29000 30000 31000 32000 33000 34000 35000 36000 37000 38000 "
     ]
    },
    {
     "data": {
      "text/plain": [
       "(3725952, 2)"
      ]
     },
     "execution_count": 5,
     "metadata": {},
     "output_type": "execute_result"
    }
   ],
   "source": [
    "ff = pd.DataFrame(columns=gcc6_3_32.columns)\n",
    "\n",
    "for i in range(0, int(len(d)/right_idx)):\n",
    "    ff = pd.concat([ff, gcc6_3_32[i*right_idx:(i+1)*right_idx], d[i*right_idx:(i+1)*right_idx]])\n",
    "    \n",
    "    if i%1000==0:\n",
    "        print(i, end=' ')\n",
    "ff.shape"
   ]
  },
  {
   "cell_type": "markdown",
   "metadata": {},
   "source": [
    "## (6) one hot encoding"
   ]
  },
  {
   "cell_type": "code",
   "execution_count": 6,
   "metadata": {},
   "outputs": [
    {
     "name": "stdout",
     "output_type": "stream",
     "text": [
      "원핫인코딩완료\n",
      "(3725952, 257)\n"
     ]
    }
   ],
   "source": [
    "# 훈련데이터 (gcc 최적화버전 0, 1, 2, 3 one hot encoding)\n",
    "gcc6_3_32_onehot_Ngram = pd.get_dummies(ff['bin'])\n",
    "gcc6_3_32_onehot_Ngram = pd.concat([ff['label'], gcc6_3_32_onehot_Ngram], axis=1)\n",
    "\n",
    "print('원핫인코딩완료')\n",
    "print(gcc6_3_32_onehot_Ngram.shape)"
   ]
  },
  {
   "cell_type": "code",
   "execution_count": 7,
   "metadata": {},
   "outputs": [
    {
     "name": "stdout",
     "output_type": "stream",
     "text": [
      "(3725952, 256) (3725952,)\n",
      "(77624, 48, 256) (77624, 48, 1)\n"
     ]
    }
   ],
   "source": [
    "# 훈련 데이터, 훈련 라벨\n",
    "x_gcc6_3_32_3 = gcc6_3_32_onehot_Ngram.iloc[:,1:].to_numpy()\n",
    "y_gcc6_3_32_3 = gcc6_3_32_onehot_Ngram['label'].to_numpy()\n",
    "print(x_gcc6_3_32_3.shape, y_gcc6_3_32_3.shape)\n",
    "\n",
    "x_gcc6_3_32_3 = x_gcc6_3_32_3.reshape(-1, right_idx, x_gcc6_3_32_3.shape[1])\n",
    "y_gcc6_3_32_3 = y_gcc6_3_32_3.reshape(-1, right_idx, 1)\n",
    "\n",
    "print(x_gcc6_3_32_3.shape, y_gcc6_3_32_3.shape)"
   ]
  },
  {
   "cell_type": "markdown",
   "metadata": {},
   "source": [
    "## (7) 모델"
   ]
  },
  {
   "cell_type": "code",
   "execution_count": 8,
   "metadata": {},
   "outputs": [
    {
     "name": "stderr",
     "output_type": "stream",
     "text": [
      "Using TensorFlow backend.\n"
     ]
    }
   ],
   "source": [
    "# (10) 양방향 LSTM 모델링 작업\n",
    "from keras.models import Model, Sequential\n",
    "from keras.layers import SimpleRNN, Input, Dense, LSTM\n",
    "from keras.layers import Bidirectional, TimeDistributed\n",
    "\n",
    "# 학습\n",
    "from keras.callbacks import EarlyStopping\n",
    "early_stopping = EarlyStopping(patience = 3) # 조기종료 콜백함수 정의\n",
    "\n",
    "xInput = Input(batch_shape=(None,right_idx, 256)) \n",
    "xBiLstm = Bidirectional(LSTM(48, return_sequences=True), merge_mode = 'concat')(xInput)\n",
    "xOutput = TimeDistributed(Dense(1, activation ='sigmoid'))(xBiLstm) # 각 스텝에서 cost가 전송되고, 오류가 다음 step으로 전송됨."
   ]
  },
  {
   "cell_type": "markdown",
   "metadata": {},
   "source": [
    "## (8) 학습 - 10 KFold"
   ]
  },
  {
   "cell_type": "code",
   "execution_count": 9,
   "metadata": {
    "scrolled": false
   },
   "outputs": [
    {
     "name": "stdout",
     "output_type": "stream",
     "text": [
      "Model: \"model_1\"\n",
      "_________________________________________________________________\n",
      "Layer (type)                 Output Shape              Param #   \n",
      "=================================================================\n",
      "input_1 (InputLayer)         (None, 48, 256)           0         \n",
      "_________________________________________________________________\n",
      "bidirectional_1 (Bidirection (None, 48, 96)            117120    \n",
      "_________________________________________________________________\n",
      "time_distributed_1 (TimeDist (None, 48, 1)             97        \n",
      "=================================================================\n",
      "Total params: 117,217\n",
      "Trainable params: 117,217\n",
      "Non-trainable params: 0\n",
      "_________________________________________________________________\n",
      "======Training stage======\n",
      "WARNING:tensorflow:From C:\\Users\\Black\\anaconda3\\lib\\site-packages\\tensorflow\\python\\ops\\math_grad.py:1250: add_dispatch_support.<locals>.wrapper (from tensorflow.python.ops.array_ops) is deprecated and will be removed in a future version.\n",
      "Instructions for updating:\n",
      "Use tf.where in 2.0, which has the same broadcast rule as np.where\n",
      "WARNING:tensorflow:From C:\\Users\\Black\\anaconda3\\lib\\site-packages\\keras\\backend\\tensorflow_backend.py:422: The name tf.global_variables is deprecated. Please use tf.compat.v1.global_variables instead.\n",
      "\n",
      "Epoch 1/10\n",
      "69861/69861 [==============================] - 147s 2ms/step - loss: 0.0075 - accuracy: 0.9985\n",
      "Epoch 2/10\n",
      "69861/69861 [==============================] - 147s 2ms/step - loss: 0.0036 - accuracy: 0.9990\n",
      "Epoch 3/10\n",
      "69861/69861 [==============================] - 116s 2ms/step - loss: 0.0031 - accuracy: 0.99911s - loss: 0.0031 - accuracy - ETA: 1s - loss: 0.0\n",
      "Epoch 4/10\n",
      "69861/69861 [==============================] - 97s 1ms/step - loss: 0.0028 - accuracy: 0.9992\n",
      "Epoch 5/10\n",
      "69861/69861 [==============================] - 97s 1ms/step - loss: 0.0026 - accuracy: 0.9993\n",
      "Epoch 6/10\n",
      "69861/69861 [==============================] - 97s 1ms/step - loss: 0.0024 - accuracy: 0.9993 2s - loss: 0.0024 - accura\n",
      "Epoch 7/10\n",
      "69861/69861 [==============================] - 78s 1ms/step - loss: 0.0023 - accuracy: 0.9993\n",
      "Epoch 8/10\n",
      "69861/69861 [==============================] - 67s 965us/step - loss: 0.0021 - accuracy: 0.9994\n",
      "Epoch 9/10\n",
      "69861/69861 [==============================] - 69s 988us/step - loss: 0.0020 - accuracy: 0.9994\n",
      "Epoch 10/10\n",
      "69861/69861 [==============================] - 69s 990us/step - loss: 0.0018 - accuracy: 0.9995\n"
     ]
    },
    {
     "data": {
      "text/plain": [
       "<keras.callbacks.callbacks.History at 0x1ead6adca48>"
      ]
     },
     "execution_count": 9,
     "metadata": {},
     "output_type": "execute_result"
    },
    {
     "name": "stdout",
     "output_type": "stream",
     "text": [
      "accuracy_score 0.9992995620249904\n",
      "recall_score 0.5711382113821138\n",
      "precision_score 0.8489425981873112\n",
      "f1_score 0.6828675577156744\n",
      "Model: \"model_2\"\n",
      "_________________________________________________________________\n",
      "Layer (type)                 Output Shape              Param #   \n",
      "=================================================================\n",
      "input_1 (InputLayer)         (None, 48, 256)           0         \n",
      "_________________________________________________________________\n",
      "bidirectional_1 (Bidirection (None, 48, 96)            117120    \n",
      "_________________________________________________________________\n",
      "time_distributed_1 (TimeDist (None, 48, 1)             97        \n",
      "=================================================================\n",
      "Total params: 117,217\n",
      "Trainable params: 117,217\n",
      "Non-trainable params: 0\n",
      "_________________________________________________________________\n",
      "======Training stage======\n",
      "Epoch 1/10\n",
      "69861/69861 [==============================] - 71s 1ms/step - loss: 0.0018 - accuracy: 0.9995\n",
      "Epoch 2/10\n",
      "69861/69861 [==============================] - 67s 962us/step - loss: 0.0016 - accuracy: 0.9995s - loss: 0.0\n",
      "Epoch 3/10\n",
      "69861/69861 [==============================] - 139s 2ms/step - loss: 0.0015 - accuracy: 0.9996\n",
      "Epoch 4/10\n",
      "69861/69861 [==============================] - 146s 2ms/step - loss: 0.0014 - accuracy: 0.9996\n",
      "Epoch 5/10\n",
      "69861/69861 [==============================] - 147s 2ms/step - loss: 0.0013 - accuracy: 0.9996\n",
      "Epoch 6/10\n",
      "69861/69861 [==============================] - 148s 2ms/step - loss: 0.0012 - accuracy: 0.9996\n",
      "Epoch 7/10\n",
      "69861/69861 [==============================] - 145s 2ms/step - loss: 0.0011 - accuracy: 0.9997\n",
      "Epoch 8/10\n",
      "69861/69861 [==============================] - 148s 2ms/step - loss: 0.0010 - accuracy: 0.9997\n",
      "Epoch 9/10\n",
      "69861/69861 [==============================] - 148s 2ms/step - loss: 9.0271e-04 - accuracy: 0.9997\n",
      "Epoch 10/10\n",
      "69861/69861 [==============================] - 138s 2ms/step - loss: 8.0785e-04 - accuracy: 0.9998\n"
     ]
    },
    {
     "data": {
      "text/plain": [
       "<keras.callbacks.callbacks.History at 0x1eb0e6ec208>"
      ]
     },
     "execution_count": 9,
     "metadata": {},
     "output_type": "execute_result"
    },
    {
     "name": "stdout",
     "output_type": "stream",
     "text": [
      "accuracy_score 0.9994176435226931\n",
      "recall_score 0.720558882235529\n",
      "precision_score 0.8242009132420092\n",
      "f1_score 0.7689030883919065\n",
      "Model: \"model_3\"\n",
      "_________________________________________________________________\n",
      "Layer (type)                 Output Shape              Param #   \n",
      "=================================================================\n",
      "input_1 (InputLayer)         (None, 48, 256)           0         \n",
      "_________________________________________________________________\n",
      "bidirectional_1 (Bidirection (None, 48, 96)            117120    \n",
      "_________________________________________________________________\n",
      "time_distributed_1 (TimeDist (None, 48, 1)             97        \n",
      "=================================================================\n",
      "Total params: 117,217\n",
      "Trainable params: 117,217\n",
      "Non-trainable params: 0\n",
      "_________________________________________________________________\n",
      "======Training stage======\n",
      "Epoch 1/10\n",
      "69861/69861 [==============================] - 150s 2ms/step - loss: 9.3985e-04 - accuracy: 0.9997\n",
      "Epoch 2/10\n",
      "69861/69861 [==============================] - 149s 2ms/step - loss: 8.2554e-04 - accuracy: 0.9998\n",
      "Epoch 3/10\n",
      "69861/69861 [==============================] - 146s 2ms/step - loss: 7.2206e-04 - accuracy: 0.9998\n",
      "Epoch 4/10\n",
      "69861/69861 [==============================] - 149s 2ms/step - loss: 6.3770e-04 - accuracy: 0.9998\n",
      "Epoch 5/10\n",
      "69861/69861 [==============================] - 150s 2ms/step - loss: 5.4903e-04 - accuracy: 0.9998\n",
      "Epoch 6/10\n",
      "69861/69861 [==============================] - 151s 2ms/step - loss: 5.1173e-04 - accuracy: 0.9998\n",
      "Epoch 7/10\n",
      "69861/69861 [==============================] - 139s 2ms/step - loss: 4.2802e-04 - accuracy: 0.9999\n",
      "Epoch 8/10\n",
      "69861/69861 [==============================] - 144s 2ms/step - loss: 3.9132e-04 - accuracy: 0.9999\n",
      "Epoch 9/10\n",
      "69861/69861 [==============================] - 135s 2ms/step - loss: 3.3116e-04 - accuracy: 0.9999\n",
      "Epoch 10/10\n",
      "69861/69861 [==============================] - 147s 2ms/step - loss: 3.0691e-04 - accuracy: 0.9999\n"
     ]
    },
    {
     "data": {
      "text/plain": [
       "<keras.callbacks.callbacks.History at 0x1ead790c1c8>"
      ]
     },
     "execution_count": 9,
     "metadata": {},
     "output_type": "execute_result"
    },
    {
     "name": "stdout",
     "output_type": "stream",
     "text": [
      "accuracy_score 0.9996135514620637\n",
      "recall_score 0.7745535714285714\n",
      "precision_score 0.8897435897435897\n",
      "f1_score 0.8281622911694511\n",
      "Model: \"model_4\"\n",
      "_________________________________________________________________\n",
      "Layer (type)                 Output Shape              Param #   \n",
      "=================================================================\n",
      "input_1 (InputLayer)         (None, 48, 256)           0         \n",
      "_________________________________________________________________\n",
      "bidirectional_1 (Bidirection (None, 48, 96)            117120    \n",
      "_________________________________________________________________\n",
      "time_distributed_1 (TimeDist (None, 48, 1)             97        \n",
      "=================================================================\n",
      "Total params: 117,217\n",
      "Trainable params: 117,217\n",
      "Non-trainable params: 0\n",
      "_________________________________________________________________\n",
      "======Training stage======\n",
      "Epoch 1/10\n",
      "69861/69861 [==============================] - 154s 2ms/step - loss: 4.7099e-04 - accuracy: 0.9999\n",
      "Epoch 2/10\n",
      "69861/69861 [==============================] - 154s 2ms/step - loss: 3.7850e-04 - accuracy: 0.9999\n",
      "Epoch 3/10\n",
      "69861/69861 [==============================] - 152s 2ms/step - loss: 3.1343e-04 - accuracy: 0.9999\n",
      "Epoch 4/10\n",
      "69861/69861 [==============================] - 124s 2ms/step - loss: 2.7094e-04 - accuracy: 0.9999\n",
      "Epoch 5/10\n",
      "69861/69861 [==============================] - 106s 2ms/step - loss: 2.4063e-04 - accuracy: 0.99990s - loss: 2.4026e-04 \n",
      "Epoch 6/10\n",
      "69861/69861 [==============================] - 106s 2ms/step - loss: 2.0171e-04 - accuracy: 0.9999\n",
      "Epoch 7/10\n",
      "69861/69861 [==============================] - 100s 1ms/step - loss: 1.8356e-04 - accuracy: 0.9999\n",
      "Epoch 8/10\n",
      "69861/69861 [==============================] - 149s 2ms/step - loss: 1.6701e-04 - accuracy: 0.9999\n",
      "Epoch 9/10\n",
      "69861/69861 [==============================] - 151s 2ms/step - loss: 1.5269e-04 - accuracy: 1.0000\n",
      "Epoch 10/10\n",
      "69861/69861 [==============================] - 146s 2ms/step - loss: 1.2811e-04 - accuracy: 1.0000\n"
     ]
    },
    {
     "data": {
      "text/plain": [
       "<keras.callbacks.callbacks.History at 0x1ead98c5608>"
      ]
     },
     "execution_count": 9,
     "metadata": {},
     "output_type": "execute_result"
    },
    {
     "name": "stdout",
     "output_type": "stream",
     "text": [
      "accuracy_score 0.9997665206749968\n",
      "recall_score 0.9081632653061225\n",
      "precision_score 0.9137577002053389\n",
      "f1_score 0.9109518935516888\n",
      "Model: \"model_5\"\n",
      "_________________________________________________________________\n",
      "Layer (type)                 Output Shape              Param #   \n",
      "=================================================================\n",
      "input_1 (InputLayer)         (None, 48, 256)           0         \n",
      "_________________________________________________________________\n",
      "bidirectional_1 (Bidirection (None, 48, 96)            117120    \n",
      "_________________________________________________________________\n",
      "time_distributed_1 (TimeDist (None, 48, 1)             97        \n",
      "=================================================================\n",
      "Total params: 117,217\n",
      "Trainable params: 117,217\n",
      "Non-trainable params: 0\n",
      "_________________________________________________________________\n",
      "======Training stage======\n",
      "Epoch 1/10\n",
      "69862/69862 [==============================] - 159s 2ms/step - loss: 2.3847e-04 - accuracy: 0.9999\n",
      "Epoch 2/10\n",
      "69862/69862 [==============================] - 154s 2ms/step - loss: 1.7239e-04 - accuracy: 0.9999\n",
      "Epoch 3/10\n",
      "69862/69862 [==============================] - 153s 2ms/step - loss: 1.3035e-04 - accuracy: 1.0000\n",
      "Epoch 4/10\n",
      "69862/69862 [==============================] - 133s 2ms/step - loss: 1.1361e-04 - accuracy: 1.0000\n",
      "Epoch 5/10\n",
      "69862/69862 [==============================] - 98s 1ms/step - loss: 1.0267e-04 - accuracy: 1.0000\n",
      "Epoch 6/10\n",
      "69862/69862 [==============================] - 127s 2ms/step - loss: 9.7372e-05 - accuracy: 1.0000\n",
      "Epoch 7/10\n",
      "69862/69862 [==============================] - 154s 2ms/step - loss: 8.3968e-05 - accuracy: 1.0000\n",
      "Epoch 8/10\n",
      "69862/69862 [==============================] - 155s 2ms/step - loss: 7.7119e-05 - accuracy: 1.0000\n",
      "Epoch 9/10\n",
      "69862/69862 [==============================] - 154s 2ms/step - loss: 7.7886e-05 - accuracy: 1.0000\n",
      "Epoch 10/10\n",
      "69862/69862 [==============================] - 155s 2ms/step - loss: 7.1793e-05 - accuracy: 1.0000\n"
     ]
    },
    {
     "data": {
      "text/plain": [
       "<keras.callbacks.callbacks.History at 0x1ead907cbc8>"
      ]
     },
     "execution_count": 9,
     "metadata": {},
     "output_type": "execute_result"
    },
    {
     "name": "stdout",
     "output_type": "stream",
     "text": [
      "accuracy_score 0.9998470110796187\n",
      "recall_score 0.9148471615720524\n",
      "precision_score 0.9588100686498856\n",
      "f1_score 0.9363128491620112\n",
      "Model: \"model_6\"\n",
      "_________________________________________________________________\n",
      "Layer (type)                 Output Shape              Param #   \n",
      "=================================================================\n",
      "input_1 (InputLayer)         (None, 48, 256)           0         \n",
      "_________________________________________________________________\n",
      "bidirectional_1 (Bidirection (None, 48, 96)            117120    \n",
      "_________________________________________________________________\n",
      "time_distributed_1 (TimeDist (None, 48, 1)             97        \n",
      "=================================================================\n",
      "Total params: 117,217\n",
      "Trainable params: 117,217\n",
      "Non-trainable params: 0\n",
      "_________________________________________________________________\n",
      "======Training stage======\n",
      "Epoch 1/10\n",
      "69862/69862 [==============================] - 164s 2ms/step - loss: 1.4090e-04 - accuracy: 1.0000\n",
      "Epoch 2/10\n",
      "69862/69862 [==============================] - 159s 2ms/step - loss: 9.7974e-05 - accuracy: 1.0000\n",
      "Epoch 3/10\n",
      "69862/69862 [==============================] - 146s 2ms/step - loss: 9.0675e-05 - accuracy: 1.0000\n",
      "Epoch 4/10\n",
      "69862/69862 [==============================] - 147s 2ms/step - loss: 7.2473e-05 - accuracy: 1.0000\n",
      "Epoch 5/10\n",
      "69862/69862 [==============================] - 157s 2ms/step - loss: 5.9242e-05 - accuracy: 1.0000\n",
      "Epoch 6/10\n",
      "69862/69862 [==============================] - 157s 2ms/step - loss: 5.1771e-05 - accuracy: 1.0000\n",
      "Epoch 7/10\n",
      "69862/69862 [==============================] - 155s 2ms/step - loss: 5.8725e-05 - accuracy: 1.0000\n",
      "Epoch 8/10\n",
      "69862/69862 [==============================] - 158s 2ms/step - loss: 5.3205e-05 - accuracy: 1.0000\n",
      "Epoch 9/10\n",
      "69862/69862 [==============================] - 157s 2ms/step - loss: 3.7121e-05 - accuracy: 1.0000\n",
      "Epoch 10/10\n",
      "69862/69862 [==============================] - 154s 2ms/step - loss: 3.2288e-05 - accuracy: 1.0000\n"
     ]
    },
    {
     "data": {
      "text/plain": [
       "<keras.callbacks.callbacks.History at 0x1eadabd16c8>"
      ]
     },
     "execution_count": 9,
     "metadata": {},
     "output_type": "execute_result"
    },
    {
     "name": "stdout",
     "output_type": "stream",
     "text": [
      "accuracy_score 0.9999060594348536\n",
      "recall_score 0.9411764705882353\n",
      "precision_score 0.9818181818181818\n",
      "f1_score 0.9610678531701892\n",
      "Model: \"model_7\"\n",
      "_________________________________________________________________\n",
      "Layer (type)                 Output Shape              Param #   \n",
      "=================================================================\n",
      "input_1 (InputLayer)         (None, 48, 256)           0         \n",
      "_________________________________________________________________\n",
      "bidirectional_1 (Bidirection (None, 48, 96)            117120    \n",
      "_________________________________________________________________\n",
      "time_distributed_1 (TimeDist (None, 48, 1)             97        \n",
      "=================================================================\n",
      "Total params: 117,217\n",
      "Trainable params: 117,217\n",
      "Non-trainable params: 0\n",
      "_________________________________________________________________\n",
      "======Training stage======\n",
      "Epoch 1/10\n",
      "69862/69862 [==============================] - 121s 2ms/step - loss: 9.1603e-05 - accuracy: 1.0000\n",
      "Epoch 2/10\n",
      "69862/69862 [==============================] - 86s 1ms/step - loss: 6.0320e-05 - accuracy: 1.0000\n",
      "Epoch 3/10\n",
      "69862/69862 [==============================] - 80s 1ms/step - loss: 5.2630e-05 - accuracy: 1.0000\n",
      "Epoch 4/10\n",
      "69862/69862 [==============================] - 75s 1ms/step - loss: 3.2322e-05 - accuracy: 1.0000\n",
      "Epoch 5/10\n",
      "69862/69862 [==============================] - 75s 1ms/step - loss: 4.0275e-05 - accuracy: 1.0000\n",
      "Epoch 6/10\n",
      "69862/69862 [==============================] - 75s 1ms/step - loss: 3.4270e-05 - accuracy: 1.0000\n",
      "Epoch 7/10\n",
      "69862/69862 [==============================] - 75s 1ms/step - loss: 2.0155e-05 - accuracy: 1.0000\n",
      "Epoch 8/10\n",
      "69862/69862 [==============================] - 75s 1ms/step - loss: 2.8321e-05 - accuracy: 1.0000\n",
      "Epoch 9/10\n",
      "69862/69862 [==============================] - 75s 1ms/step - loss: 3.5519e-05 - accuracy: 1.0000\n",
      "Epoch 10/10\n",
      "69862/69862 [==============================] - 75s 1ms/step - loss: 2.7602e-05 - accuracy: 1.0000\n"
     ]
    },
    {
     "data": {
      "text/plain": [
       "<keras.callbacks.callbacks.History at 0x1eade65eec8>"
      ]
     },
     "execution_count": 9,
     "metadata": {},
     "output_type": "execute_result"
    },
    {
     "name": "stdout",
     "output_type": "stream",
     "text": [
      "accuracy_score 0.9999248475478828\n",
      "recall_score 0.9790874524714829\n",
      "precision_score 0.9680451127819549\n",
      "f1_score 0.9735349716446126\n",
      "Model: \"model_8\"\n",
      "_________________________________________________________________\n",
      "Layer (type)                 Output Shape              Param #   \n",
      "=================================================================\n",
      "input_1 (InputLayer)         (None, 48, 256)           0         \n",
      "_________________________________________________________________\n",
      "bidirectional_1 (Bidirection (None, 48, 96)            117120    \n",
      "_________________________________________________________________\n",
      "time_distributed_1 (TimeDist (None, 48, 1)             97        \n",
      "=================================================================\n",
      "Total params: 117,217\n",
      "Trainable params: 117,217\n",
      "Non-trainable params: 0\n",
      "_________________________________________________________________\n",
      "======Training stage======\n",
      "Epoch 1/10\n",
      "69862/69862 [==============================] - 77s 1ms/step - loss: 6.7528e-05 - accuracy: 1.0000\n",
      "Epoch 2/10\n",
      "69862/69862 [==============================] - 80s 1ms/step - loss: 4.3427e-05 - accuracy: 1.0000\n",
      "Epoch 3/10\n",
      "69862/69862 [==============================] - 80s 1ms/step - loss: 4.1784e-05 - accuracy: 1.0000\n",
      "Epoch 4/10\n",
      "69862/69862 [==============================] - 80s 1ms/step - loss: 2.4822e-05 - accuracy: 1.0000\n",
      "Epoch 5/10\n",
      "69862/69862 [==============================] - 80s 1ms/step - loss: 1.8547e-05 - accuracy: 1.0000\n",
      "Epoch 6/10\n",
      "69862/69862 [==============================] - 81s 1ms/step - loss: 1.7577e-05 - accuracy: 1.0000\n",
      "Epoch 7/10\n",
      "69862/69862 [==============================] - 81s 1ms/step - loss: 2.1429e-05 - accuracy: 1.0000\n",
      "Epoch 8/10\n",
      "69862/69862 [==============================] - 81s 1ms/step - loss: 2.3822e-05 - accuracy: 1.0000\n",
      "Epoch 9/10\n",
      "69862/69862 [==============================] - 81s 1ms/step - loss: 1.5630e-05 - accuracy: 1.0000\n",
      "Epoch 10/10\n",
      "69862/69862 [==============================] - 81s 1ms/step - loss: 9.8855e-06 - accuracy: 1.0000\n"
     ]
    },
    {
     "data": {
      "text/plain": [
       "<keras.callbacks.callbacks.History at 0x1eae1965088>"
      ]
     },
     "execution_count": 9,
     "metadata": {},
     "output_type": "execute_result"
    },
    {
     "name": "stdout",
     "output_type": "stream",
     "text": [
      "accuracy_score 0.9999624237739414\n",
      "recall_score 0.9881889763779528\n",
      "precision_score 0.984313725490196\n",
      "f1_score 0.9862475442043221\n",
      "Model: \"model_9\"\n",
      "_________________________________________________________________\n",
      "Layer (type)                 Output Shape              Param #   \n",
      "=================================================================\n",
      "input_1 (InputLayer)         (None, 48, 256)           0         \n",
      "_________________________________________________________________\n",
      "bidirectional_1 (Bidirection (None, 48, 96)            117120    \n",
      "_________________________________________________________________\n",
      "time_distributed_1 (TimeDist (None, 48, 1)             97        \n",
      "=================================================================\n",
      "Total params: 117,217\n",
      "Trainable params: 117,217\n",
      "Non-trainable params: 0\n",
      "_________________________________________________________________\n",
      "======Training stage======\n",
      "Epoch 1/10\n",
      "69862/69862 [==============================] - 85s 1ms/step - loss: 3.8313e-05 - accuracy: 1.0000\n",
      "Epoch 2/10\n",
      "69862/69862 [==============================] - 84s 1ms/step - loss: 2.5042e-05 - accuracy: 1.0000\n",
      "Epoch 3/10\n",
      "69862/69862 [==============================] - 84s 1ms/step - loss: 2.3925e-05 - accuracy: 1.0000\n",
      "Epoch 4/10\n",
      "69862/69862 [==============================] - 84s 1ms/step - loss: 1.6624e-05 - accuracy: 1.0000\n",
      "Epoch 5/10\n",
      "69862/69862 [==============================] - 84s 1ms/step - loss: 2.5731e-05 - accuracy: 1.0000\n",
      "Epoch 6/10\n",
      "69862/69862 [==============================] - 84s 1ms/step - loss: 1.9726e-05 - accuracy: 1.0000\n",
      "Epoch 7/10\n",
      "69862/69862 [==============================] - 84s 1ms/step - loss: 1.3217e-05 - accuracy: 1.0000\n",
      "Epoch 8/10\n",
      "69862/69862 [==============================] - 84s 1ms/step - loss: 2.0450e-05 - accuracy: 1.0000\n",
      "Epoch 9/10\n",
      "69862/69862 [==============================] - 84s 1ms/step - loss: 1.0625e-05 - accuracy: 1.0000\n",
      "Epoch 10/10\n",
      "69862/69862 [==============================] - 84s 1ms/step - loss: 1.6180e-05 - accuracy: 1.0000\n"
     ]
    },
    {
     "data": {
      "text/plain": [
       "<keras.callbacks.callbacks.History at 0x1eae1ce94c8>"
      ]
     },
     "execution_count": 9,
     "metadata": {},
     "output_type": "execute_result"
    },
    {
     "name": "stdout",
     "output_type": "stream",
     "text": [
      "accuracy_score 0.9999677918062355\n",
      "recall_score 0.9851063829787234\n",
      "precision_score 0.9893162393162394\n",
      "f1_score 0.9872068230277186\n",
      "Model: \"model_10\"\n",
      "_________________________________________________________________\n",
      "Layer (type)                 Output Shape              Param #   \n",
      "=================================================================\n",
      "input_1 (InputLayer)         (None, 48, 256)           0         \n",
      "_________________________________________________________________\n",
      "bidirectional_1 (Bidirection (None, 48, 96)            117120    \n",
      "_________________________________________________________________\n",
      "time_distributed_1 (TimeDist (None, 48, 1)             97        \n",
      "=================================================================\n",
      "Total params: 117,217\n",
      "Trainable params: 117,217\n",
      "Non-trainable params: 0\n",
      "_________________________________________________________________\n",
      "======Training stage======\n",
      "Epoch 1/10\n",
      "69862/69862 [==============================] - 91s 1ms/step - loss: 4.1097e-05 - accuracy: 1.0000\n",
      "Epoch 2/10\n",
      "69862/69862 [==============================] - 90s 1ms/step - loss: 1.3024e-05 - accuracy: 1.0000\n",
      "Epoch 3/10\n",
      "69862/69862 [==============================] - 90s 1ms/step - loss: 1.8162e-05 - accuracy: 1.0000\n",
      "Epoch 4/10\n",
      "69862/69862 [==============================] - 90s 1ms/step - loss: 2.8151e-05 - accuracy: 1.0000\n",
      "Epoch 5/10\n",
      "69862/69862 [==============================] - 91s 1ms/step - loss: 2.0046e-05 - accuracy: 1.0000\n",
      "Epoch 6/10\n",
      "69862/69862 [==============================] - 91s 1ms/step - loss: 2.1132e-05 - accuracy: 1.0000\n",
      "Epoch 7/10\n",
      "69862/69862 [==============================] - 91s 1ms/step - loss: 3.1633e-05 - accuracy: 1.0000\n",
      "Epoch 8/10\n",
      "69862/69862 [==============================] - 91s 1ms/step - loss: 2.5578e-05 - accuracy: 1.0000\n",
      "Epoch 9/10\n",
      "69862/69862 [==============================] - 91s 1ms/step - loss: 3.0176e-05 - accuracy: 1.0000\n",
      "Epoch 10/10\n",
      "69862/69862 [==============================] - 91s 1ms/step - loss: 1.5798e-05 - accuracy: 1.0000\n"
     ]
    },
    {
     "data": {
      "text/plain": [
       "<keras.callbacks.callbacks.History at 0x1eae278c808>"
      ]
     },
     "execution_count": 9,
     "metadata": {},
     "output_type": "execute_result"
    },
    {
     "name": "stdout",
     "output_type": "stream",
     "text": [
      "accuracy_score 0.9999812118869708\n",
      "recall_score 0.9910913140311804\n",
      "precision_score 0.9933035714285714\n",
      "f1_score 0.9921962095875141\n",
      "\n",
      "K-fold cross validation Accuracy: [0.9992995620249904, 0.9994176435226931, 0.9996135514620637, 0.9997665206749968, 0.9998470110796187, 0.9999060594348536, 0.9999248475478828, 0.9999624237739414, 0.9999677918062355, 0.9999812118869708]\n",
      "\n",
      "K-fold cross validation Recall: [0.5711382113821138, 0.720558882235529, 0.7745535714285714, 0.9081632653061225, 0.9148471615720524, 0.9411764705882353, 0.9790874524714829, 0.9881889763779528, 0.9851063829787234, 0.9910913140311804]\n",
      "\n",
      "K-fold cross validation Precision: [0.8489425981873112, 0.8242009132420092, 0.8897435897435897, 0.9137577002053389, 0.9588100686498856, 0.9818181818181818, 0.9680451127819549, 0.984313725490196, 0.9893162393162394, 0.9933035714285714]\n",
      "\n",
      "K-fold cross validation F1-Score: [0.6828675577156744, 0.7689030883919065, 0.8281622911694511, 0.9109518935516888, 0.9363128491620112, 0.9610678531701892, 0.9735349716446126, 0.9862475442043221, 0.9872068230277186, 0.9921962095875141]\n"
     ]
    }
   ],
   "source": [
    "# 교차검증 kfold\n",
    "from sklearn.model_selection import KFold\n",
    "\n",
    "# Accuracy, Precision, Recall, F1-Score\n",
    "from sklearn.metrics import accuracy_score, recall_score, precision_score, f1_score\n",
    "\n",
    "# Confusion Matrix, ROC Curve\n",
    "from sklearn.metrics import confusion_matrix, roc_auc_score\n",
    "\n",
    "# 최종 평가지표들 평균용\n",
    "accuracy, recall, precision, f1score, cm = [], [], [], [], []\n",
    "\n",
    "# 11. 교차검증 kfold - k.split - 10회 / K-Fold 객체 생성\n",
    "# kf = KFold(n_splits=10, shuffle=False, random_state=None) # KFold non shuffle 버전\n",
    "kf = KFold(n_splits=10, shuffle=True, random_state=None) # KFold non shuffle 버전\n",
    "\n",
    "for train, validation in kf.split(x_gcc6_3_32_3, y_gcc6_3_32_3):\n",
    "    model1 = Model(xInput, xOutput)\n",
    "    model1.compile(loss='binary_crossentropy', optimizer='rmsprop', metrics=['accuracy'])\n",
    "    model1.summary()\n",
    "    print('======Training stage======')\n",
    "    model1.fit(x_gcc6_3_32_3[train],\n",
    "               y_gcc6_3_32_3[train],\n",
    "               epochs = 10,\n",
    "               batch_size = 32,\n",
    "               callbacks=[early_stopping])\n",
    "    #k_accuracy = '%.4f' %(model1.evaluate(data_10000x[validation], data_10000y[validation])[1])\n",
    "\n",
    "# 12. 교차검증결과 predict - 검증셋들\n",
    "    # predict 값\n",
    "    k_pr = model1.predict(x_gcc6_3_32_3[validation])\n",
    "    \n",
    "    # 테스트 predict 결과들 비교 (평가지표 보기위함)\n",
    "    pred = np.round(np.array(k_pr).flatten().tolist())\n",
    "    y_test = np.array(y_gcc6_3_32_3[validation]).flatten().tolist()\n",
    "    \n",
    "# 13. 평가지표들 출력\n",
    "    ## 평가지표들\n",
    "    k_accuracy = float(accuracy_score(y_test, pred))\n",
    "    k_recall =  float(recall_score(y_test, pred))\n",
    "    k_precision = float(precision_score(y_test, pred))\n",
    "    k_f1_score = float(f1_score(y_test, pred))\n",
    "    #k_cm = float(confusion_matrix(y_test, pred))\n",
    "    \n",
    "    print('accuracy_score', k_accuracy)\n",
    "    print('recall_score', k_recall)\n",
    "    print('precision_score', k_precision)\n",
    "    print('f1_score', k_f1_score)\n",
    "    #print('\\nconfusion_matrix\\n', k_cm)\n",
    "\n",
    "    accuracy.append(k_accuracy)\n",
    "    recall.append(k_recall)\n",
    "    precision.append(k_precision)\n",
    "    f1score.append(k_f1_score)\n",
    "    #cm.append(k_cm)\n",
    "#    print('roc_curve 면적', roc_auc_score(y_test, pred))\n",
    "\n",
    "# 14. 최종 결과지표\n",
    "print('\\nK-fold cross validation Accuracy: {}'.format(accuracy))\n",
    "print('\\nK-fold cross validation Recall: {}'.format(recall))\n",
    "print('\\nK-fold cross validation Precision: {}'.format(precision))\n",
    "print('\\nK-fold cross validation F1-Score: {}'.format(f1score))\n",
    "#print('\\nK-fold cross validation ConfusionMatrix: {}'.format(cm))"
   ]
  },
  {
   "cell_type": "markdown",
   "metadata": {},
   "source": [
    "## (9) 평가지표"
   ]
  },
  {
   "cell_type": "code",
   "execution_count": 10,
   "metadata": {},
   "outputs": [
    {
     "name": "stdout",
     "output_type": "stream",
     "text": [
      "10-Fold Cross_validation. Accuracy : 0.9997686623214246\n",
      "10-Fold Cross_validation. Recall : 0.8773911688371964\n",
      "10-Fold Cross_validation. Precision : 0.9352251700863279\n",
      "10-Fold Cross_validation. F1-Score : 0.9027451081625089\n"
     ]
    }
   ],
   "source": [
    "print('10-Fold Cross_validation. Accuracy :', np.mean(accuracy))\n",
    "print('10-Fold Cross_validation. Recall :', np.mean(recall))\n",
    "print('10-Fold Cross_validation. Precision :', np.mean(precision))\n",
    "print('10-Fold Cross_validation. F1-Score :', np.mean(f1score))"
   ]
  }
 ],
 "metadata": {
  "kernelspec": {
   "display_name": "Python 3",
   "language": "python",
   "name": "python3"
  },
  "language_info": {
   "codemirror_mode": {
    "name": "ipython",
    "version": 3
   },
   "file_extension": ".py",
   "mimetype": "text/x-python",
   "name": "python",
   "nbconvert_exporter": "python",
   "pygments_lexer": "ipython3",
   "version": "3.7.6"
  }
 },
 "nbformat": 4,
 "nbformat_minor": 4
}
