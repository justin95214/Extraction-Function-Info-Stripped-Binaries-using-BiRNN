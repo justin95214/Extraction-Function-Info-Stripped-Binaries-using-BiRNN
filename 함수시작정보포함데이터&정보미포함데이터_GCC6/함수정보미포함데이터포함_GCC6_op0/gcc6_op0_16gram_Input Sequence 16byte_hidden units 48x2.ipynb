{
 "cells": [
  {
   "cell_type": "markdown",
   "metadata": {},
   "source": [
    "## RNN 모델 N-Byte 방식 (함수정보 포함 vs 미포함 => 1:1 비율)\n",
    "\n",
    "## (1) 데이터로드"
   ]
  },
  {
   "cell_type": "code",
   "execution_count": 11,
   "metadata": {},
   "outputs": [
    {
     "name": "stdout",
     "output_type": "stream",
     "text": [
      "(13936744, 2)\n",
      "reset_index 완료\n",
      "input data shape\n"
     ]
    },
    {
     "data": {
      "text/html": [
       "<div>\n",
       "<style scoped>\n",
       "    .dataframe tbody tr th:only-of-type {\n",
       "        vertical-align: middle;\n",
       "    }\n",
       "\n",
       "    .dataframe tbody tr th {\n",
       "        vertical-align: top;\n",
       "    }\n",
       "\n",
       "    .dataframe thead th {\n",
       "        text-align: right;\n",
       "    }\n",
       "</style>\n",
       "<table border=\"1\" class=\"dataframe\">\n",
       "  <thead>\n",
       "    <tr style=\"text-align: right;\">\n",
       "      <th></th>\n",
       "      <th>bin</th>\n",
       "      <th>label</th>\n",
       "    </tr>\n",
       "  </thead>\n",
       "  <tbody>\n",
       "    <tr>\n",
       "      <th>0</th>\n",
       "      <td>53</td>\n",
       "      <td>1</td>\n",
       "    </tr>\n",
       "    <tr>\n",
       "      <th>1</th>\n",
       "      <td>83</td>\n",
       "      <td>0</td>\n",
       "    </tr>\n",
       "    <tr>\n",
       "      <th>2</th>\n",
       "      <td>ec</td>\n",
       "      <td>0</td>\n",
       "    </tr>\n",
       "    <tr>\n",
       "      <th>3</th>\n",
       "      <td>08</td>\n",
       "      <td>0</td>\n",
       "    </tr>\n",
       "    <tr>\n",
       "      <th>4</th>\n",
       "      <td>e8</td>\n",
       "      <td>0</td>\n",
       "    </tr>\n",
       "  </tbody>\n",
       "</table>\n",
       "</div>"
      ],
      "text/plain": [
       "  bin  label\n",
       "0  53      1\n",
       "1  83      0\n",
       "2  ec      0\n",
       "3  08      0\n",
       "4  e8      0"
      ]
     },
     "execution_count": 11,
     "metadata": {},
     "output_type": "execute_result"
    }
   ],
   "source": [
    "# (1) 데이터로드\n",
    "import pandas as pd\n",
    "import numpy as np\n",
    "\n",
    "import warnings\n",
    "warnings.filterwarnings(action='ignore')\n",
    "\n",
    "# 여러개 쳐도 나오게\n",
    "from IPython.core.interactiveshell import InteractiveShell\n",
    "InteractiveShell.ast_node_interactivity = \"all\"\n",
    "\n",
    "# 파일읽기\n",
    "gcc6_0_32 = pd.read_csv(\"../data/binutils_gcc3~9_op0~4_exec_csv/\"+'gcc6'+\"_0_32_exec.csv\", index_col=0)\n",
    "\n",
    "# 형태 출력\n",
    "print(gcc6_0_32.shape)\n",
    "\n",
    "# reset_index (hex processing 하면서 값이 빠졌으니까 + n_gram 에서 index를 다루기 때문에)\n",
    "gcc6_0_32.reset_index(inplace=True, drop=True)\n",
    "\n",
    "print('reset_index 완료')\n",
    "print('input data shape')\n",
    "gcc6_0_32.head()"
   ]
  },
  {
   "cell_type": "code",
   "execution_count": 12,
   "metadata": {},
   "outputs": [
    {
     "name": "stdout",
     "output_type": "stream",
     "text": [
      "256\n",
      "0    13892354\n",
      "1       44390\n",
      "Name: label, dtype: int64\n"
     ]
    }
   ],
   "source": [
    "# (2-1) 데이터체크 1 - hex(16진수)가 256 label을 가져야 dummies 변환 가능 \n",
    "\n",
    "# 16진수 256개 종류가 있어서 pd.get_dummies 사용 가능.\n",
    "print(len(gcc6_0_32['bin'].unique()))\n",
    "\n",
    "# (2-2) 데이터 체크 2 - 1, 0 비율 ==> 1이 함수의 갯수를 뜻함\n",
    "# 정답 데이터 1, 0 비율 확인  ==> 1이 함수의 갯수를 뜻함\n",
    "print(gcc6_0_32['label'].value_counts())"
   ]
  },
  {
   "cell_type": "markdown",
   "metadata": {},
   "source": [
    "## (3) N Byte씩 자르기"
   ]
  },
  {
   "cell_type": "code",
   "execution_count": 13,
   "metadata": {},
   "outputs": [
    {
     "name": "stdout",
     "output_type": "stream",
     "text": [
      "710240\n",
      "나머지 0\n",
      "최종 길이 710240\n",
      "gcc6_0_32 710240\n"
     ]
    }
   ],
   "source": [
    "######################## \n",
    "idx = gcc6_0_32[gcc6_0_32['label']==1].index  # 407, 474 ...\n",
    "ls = list(idx)\n",
    "\n",
    "# 최종 뽑을 행에 대한 index\n",
    "ls_idx = [] \n",
    "left_idx, right_idx = 0, 16 # 3개씩\n",
    "\n",
    "# 6gram\n",
    "for k in range(left_idx, right_idx):\n",
    "    ls_idx.extend(list(idx + k)) # index 형이라서 가능\n",
    "\n",
    "#ls_idx = list(set(ls_idx)) \n",
    "ls_idx.sort() # 인덱스 정렬\n",
    "\n",
    "# 1차 index 해당범위 초과한 것들 없애기\n",
    "ls_idx = list(filter(lambda x: x<len(gcc6_0_32), ls_idx))\n",
    "print(len(ls_idx))\n",
    "\n",
    "# 2차 남은 index들 중 right_idx 나눈 나머지 없애기\n",
    "sub = len(ls_idx)%(right_idx)\n",
    "print('나머지', sub)\n",
    "\n",
    "ls_idx = ls_idx[:len(ls_idx)-sub]\n",
    "print('최종 길이', len(ls_idx))\n",
    "\n",
    "print('gcc6_0_32', len(ls_idx))\n",
    "\n",
    "# loc 로 수정필요\n",
    "gcc6_0_32_Ngram = gcc6_0_32.loc[ls_idx,:].copy()"
   ]
  },
  {
   "cell_type": "markdown",
   "metadata": {},
   "source": [
    "## (4) false data 만들기"
   ]
  },
  {
   "cell_type": "code",
   "execution_count": 14,
   "metadata": {},
   "outputs": [
    {
     "name": "stdout",
     "output_type": "stream",
     "text": [
      "0 1000 2000 3000 4000 5000 6000 7000 8000 9000 10000 11000 12000 13000 14000 15000 16000 17000 18000 19000 20000 21000 22000 23000 24000 25000 26000 27000 28000 29000 30000 31000 32000 33000 34000 35000 36000 37000 38000 39000 40000 41000 42000 43000 44000 완료\n"
     ]
    }
   ],
   "source": [
    "# false data 만들기 - False 데이터 랜덤 생성\n",
    "# random index\n",
    "random_idx = np.random.randint(len(gcc6_0_32)-right_idx)\n",
    "\n",
    "# 목표치\n",
    "goal = len(gcc6_0_32_Ngram)/right_idx\n",
    "count=0\n",
    "\n",
    "d = pd.DataFrame(columns=gcc6_0_32.columns)\n",
    "\n",
    "# goal 에 도달할 때까지\n",
    "while count!=goal:\n",
    "    \n",
    "    # 진행상황 살펴보기 위함\n",
    "    if count%1000==0:\n",
    "        print(count, end=' ')\n",
    "        \n",
    "    # 랜덤 N 바이트씩 뽑음\n",
    "    df = gcc6_0_32[random_idx:random_idx+right_idx]\n",
    "    \n",
    "    # 뽑은 index의 N 바이트 중에 1이 없는 경우만\n",
    "    if 1 not in df['label']:\n",
    "        d = pd.concat([d, df])\n",
    "        count+=1\n",
    "\n",
    "print('완료')"
   ]
  },
  {
   "cell_type": "markdown",
   "metadata": {},
   "source": [
    "## (5) False Data + True Data 합치기"
   ]
  },
  {
   "cell_type": "code",
   "execution_count": 15,
   "metadata": {},
   "outputs": [
    {
     "name": "stdout",
     "output_type": "stream",
     "text": [
      "0 1000 2000 3000 4000 5000 6000 7000 8000 9000 10000 11000 12000 13000 14000 15000 16000 17000 18000 19000 20000 21000 22000 23000 24000 25000 26000 27000 28000 29000 30000 31000 32000 33000 34000 35000 36000 37000 38000 39000 40000 41000 42000 43000 44000 "
     ]
    },
    {
     "data": {
      "text/plain": [
       "(1420480, 2)"
      ]
     },
     "execution_count": 15,
     "metadata": {},
     "output_type": "execute_result"
    }
   ],
   "source": [
    "ff = pd.DataFrame(columns=gcc6_0_32.columns)\n",
    "\n",
    "for i in range(0, int(len(d)/right_idx)):\n",
    "    ff = pd.concat([ff, gcc6_0_32[i*right_idx:(i+1)*right_idx], d[i*right_idx:(i+1)*right_idx]])\n",
    "    \n",
    "    if i%1000==0:\n",
    "        print(i, end=' ')\n",
    "ff.shape"
   ]
  },
  {
   "cell_type": "markdown",
   "metadata": {},
   "source": [
    "## (6) one hot encoding"
   ]
  },
  {
   "cell_type": "code",
   "execution_count": 16,
   "metadata": {},
   "outputs": [
    {
     "name": "stdout",
     "output_type": "stream",
     "text": [
      "원핫인코딩완료\n",
      "(1420480, 257)\n"
     ]
    }
   ],
   "source": [
    "# 훈련데이터 (gcc 최적화버전 0, 1, 2, 3 one hot encoding)\n",
    "gcc6_0_32_onehot_Ngram = pd.get_dummies(ff['bin'])\n",
    "gcc6_0_32_onehot_Ngram = pd.concat([ff['label'], gcc6_0_32_onehot_Ngram], axis=1)\n",
    "\n",
    "print('원핫인코딩완료')\n",
    "print(gcc6_0_32_onehot_Ngram.shape)"
   ]
  },
  {
   "cell_type": "code",
   "execution_count": 17,
   "metadata": {},
   "outputs": [
    {
     "name": "stdout",
     "output_type": "stream",
     "text": [
      "(1420480, 256) (1420480,)\n",
      "(88780, 16, 256) (88780, 16, 1)\n"
     ]
    }
   ],
   "source": [
    "# 훈련 데이터, 훈련 라벨\n",
    "x_gcc6_0_32_3 = gcc6_0_32_onehot_Ngram.iloc[:,1:].to_numpy()\n",
    "y_gcc6_0_32_3 = gcc6_0_32_onehot_Ngram['label'].to_numpy()\n",
    "print(x_gcc6_0_32_3.shape, y_gcc6_0_32_3.shape)\n",
    "\n",
    "x_gcc6_0_32_3 = x_gcc6_0_32_3.reshape(-1, right_idx, x_gcc6_0_32_3.shape[1])\n",
    "y_gcc6_0_32_3 = y_gcc6_0_32_3.reshape(-1, right_idx, 1)\n",
    "\n",
    "print(x_gcc6_0_32_3.shape, y_gcc6_0_32_3.shape)"
   ]
  },
  {
   "cell_type": "markdown",
   "metadata": {},
   "source": [
    "## (7) 모델"
   ]
  },
  {
   "cell_type": "code",
   "execution_count": 18,
   "metadata": {},
   "outputs": [],
   "source": [
    "# (10) 양방향 LSTM 모델링 작업\n",
    "from keras.models import Model, Sequential\n",
    "from keras.layers import SimpleRNN, Input, Dense, LSTM\n",
    "from keras.layers import Bidirectional, TimeDistributed\n",
    "\n",
    "# 학습\n",
    "from keras.callbacks import EarlyStopping\n",
    "early_stopping = EarlyStopping(patience = 3) # 조기종료 콜백함수 정의\n",
    "\n",
    "xInput = Input(batch_shape=(None,right_idx, 256)) \n",
    "xBiLstm = Bidirectional(LSTM(48, return_sequences=True), merge_mode = 'concat')(xInput)\n",
    "xOutput = TimeDistributed(Dense(1, activation ='sigmoid'))(xBiLstm) # 각 스텝에서 cost가 전송되고, 오류가 다음 step으로 전송됨."
   ]
  },
  {
   "cell_type": "markdown",
   "metadata": {},
   "source": [
    "## (8) 학습 - 10 KFold"
   ]
  },
  {
   "cell_type": "code",
   "execution_count": 19,
   "metadata": {
    "scrolled": false
   },
   "outputs": [
    {
     "name": "stdout",
     "output_type": "stream",
     "text": [
      "Model: \"model_11\"\n",
      "_________________________________________________________________\n",
      "Layer (type)                 Output Shape              Param #   \n",
      "=================================================================\n",
      "input_2 (InputLayer)         (None, 16, 256)           0         \n",
      "_________________________________________________________________\n",
      "bidirectional_2 (Bidirection (None, 16, 96)            117120    \n",
      "_________________________________________________________________\n",
      "time_distributed_2 (TimeDist (None, 16, 1)             97        \n",
      "=================================================================\n",
      "Total params: 117,217\n",
      "Trainable params: 117,217\n",
      "Non-trainable params: 0\n",
      "_________________________________________________________________\n",
      "======Training stage======\n",
      "Epoch 1/10\n",
      "79902/79902 [==============================] - 40s 497us/step - loss: 0.0063 - accuracy: 0.9990\n",
      "Epoch 2/10\n",
      "79902/79902 [==============================] - 39s 483us/step - loss: 0.0028 - accuracy: 0.9992\n",
      "Epoch 3/10\n",
      "79902/79902 [==============================] - 39s 484us/step - loss: 0.0026 - accuracy: 0.9992\n",
      "Epoch 4/10\n",
      "79902/79902 [==============================] - 39s 484us/step - loss: 0.0025 - accuracy: 0.9992\n",
      "Epoch 5/10\n",
      "79902/79902 [==============================] - 39s 485us/step - loss: 0.0024 - accuracy: 0.9993\n",
      "Epoch 6/10\n",
      "79902/79902 [==============================] - 39s 486us/step - loss: 0.0024 - accuracy: 0.9993\n",
      "Epoch 7/10\n",
      "79902/79902 [==============================] - 39s 485us/step - loss: 0.0023 - accuracy: 0.9993- ETA: 1s - loss: 0.0023 - accuracy: 0. - ETA: 1s - los - ETA: 0s - loss: 0.0023 - accuracy: 0.99 - ETA: 0s - loss:\n",
      "Epoch 8/10\n",
      "79902/79902 [==============================] - 39s 486us/step - loss: 0.0022 - accuracy: 0.9993s - los\n",
      "Epoch 9/10\n",
      "79902/79902 [==============================] - 39s 488us/step - loss: 0.0022 - accuracy: 0.9993\n",
      "Epoch 10/10\n",
      "79902/79902 [==============================] - 39s 484us/step - loss: 0.0022 - accuracy: 0.9994s - loss: 0.0022 \n"
     ]
    },
    {
     "data": {
      "text/plain": [
       "<keras.callbacks.callbacks.History at 0x241024bbd08>"
      ]
     },
     "execution_count": 19,
     "metadata": {},
     "output_type": "execute_result"
    },
    {
     "name": "stdout",
     "output_type": "stream",
     "text": [
      "accuracy_score 0.9992537733723812\n",
      "recall_score 0.6688741721854304\n",
      "precision_score 0.643312101910828\n",
      "f1_score 0.6558441558441558\n",
      "Model: \"model_12\"\n",
      "_________________________________________________________________\n",
      "Layer (type)                 Output Shape              Param #   \n",
      "=================================================================\n",
      "input_2 (InputLayer)         (None, 16, 256)           0         \n",
      "_________________________________________________________________\n",
      "bidirectional_2 (Bidirection (None, 16, 96)            117120    \n",
      "_________________________________________________________________\n",
      "time_distributed_2 (TimeDist (None, 16, 1)             97        \n",
      "=================================================================\n",
      "Total params: 117,217\n",
      "Trainable params: 117,217\n",
      "Non-trainable params: 0\n",
      "_________________________________________________________________\n",
      "======Training stage======\n",
      "Epoch 1/10\n",
      "79902/79902 [==============================] - 41s 510us/step - loss: 0.0021 - accuracy: 0.9994\n",
      "Epoch 2/10\n",
      "79902/79902 [==============================] - 38s 477us/step - loss: 0.0021 - accuracy: 0.9994\n",
      "Epoch 3/10\n",
      "79902/79902 [==============================] - 40s 495us/step - loss: 0.0020 - accuracy: 0.9994\n",
      "Epoch 4/10\n",
      "79902/79902 [==============================] - 39s 494us/step - loss: 0.0020 - accuracy: 0.9994\n",
      "Epoch 5/10\n",
      "79902/79902 [==============================] - 40s 497us/step - loss: 0.0019 - accuracy: 0.9994\n",
      "Epoch 6/10\n",
      "79902/79902 [==============================] - 40s 499us/step - loss: 0.0019 - accuracy: 0.9994\n",
      "Epoch 7/10\n",
      "79902/79902 [==============================] - 40s 501us/step - loss: 0.0019 - accuracy: 0.9994\n",
      "Epoch 8/10\n",
      "79902/79902 [==============================] - 40s 502us/step - loss: 0.0018 - accuracy: 0.9995\n",
      "Epoch 9/10\n",
      "79902/79902 [==============================] - 40s 499us/step - loss: 0.0018 - accuracy: 0.9995\n",
      "Epoch 10/10\n",
      "79902/79902 [==============================] - 40s 499us/step - loss: 0.0017 - accuracy: 0.9995\n"
     ]
    },
    {
     "data": {
      "text/plain": [
       "<keras.callbacks.callbacks.History at 0x2415eb27d08>"
      ]
     },
     "execution_count": 19,
     "metadata": {},
     "output_type": "execute_result"
    },
    {
     "name": "stdout",
     "output_type": "stream",
     "text": [
      "accuracy_score 0.9992608132462266\n",
      "recall_score 0.5704697986577181\n",
      "precision_score 0.6746031746031746\n",
      "f1_score 0.6181818181818182\n",
      "Model: \"model_13\"\n",
      "_________________________________________________________________\n",
      "Layer (type)                 Output Shape              Param #   \n",
      "=================================================================\n",
      "input_2 (InputLayer)         (None, 16, 256)           0         \n",
      "_________________________________________________________________\n",
      "bidirectional_2 (Bidirection (None, 16, 96)            117120    \n",
      "_________________________________________________________________\n",
      "time_distributed_2 (TimeDist (None, 16, 1)             97        \n",
      "=================================================================\n",
      "Total params: 117,217\n",
      "Trainable params: 117,217\n",
      "Non-trainable params: 0\n",
      "_________________________________________________________________\n",
      "======Training stage======\n",
      "Epoch 1/10\n",
      "79902/79902 [==============================] - 40s 499us/step - loss: 0.0017 - accuracy: 0.9995\n",
      "Epoch 2/10\n",
      "79902/79902 [==============================] - 39s 492us/step - loss: 0.0017 - accuracy: 0.9995\n",
      "Epoch 3/10\n",
      "79902/79902 [==============================] - 39s 491us/step - loss: 0.0016 - accuracy: 0.9995\n",
      "Epoch 4/10\n",
      "79902/79902 [==============================] - 38s 472us/step - loss: 0.0016 - accuracy: 0.9995\n",
      "Epoch 5/10\n",
      "79902/79902 [==============================] - 40s 495us/step - loss: 0.0015 - accuracy: 0.9996\n",
      "Epoch 6/10\n",
      "79902/79902 [==============================] - 39s 492us/step - loss: 0.0014 - accuracy: 0.9996\n",
      "Epoch 7/10\n",
      "79902/79902 [==============================] - 39s 493us/step - loss: 0.0014 - accuracy: 0.9996\n",
      "Epoch 8/10\n",
      "79902/79902 [==============================] - 39s 494us/step - loss: 0.0014 - accuracy: 0.9996\n",
      "Epoch 9/10\n",
      "79902/79902 [==============================] - 40s 495us/step - loss: 0.0014 - accuracy: 0.9996\n",
      "Epoch 10/10\n",
      "79902/79902 [==============================] - 39s 492us/step - loss: 0.0013 - accuracy: 0.9996\n"
     ]
    },
    {
     "data": {
      "text/plain": [
       "<keras.callbacks.callbacks.History at 0x2410815c548>"
      ]
     },
     "execution_count": 19,
     "metadata": {},
     "output_type": "execute_result"
    },
    {
     "name": "stdout",
     "output_type": "stream",
     "text": [
      "accuracy_score 0.9991622550123902\n",
      "recall_score 0.5\n",
      "precision_score 0.7310924369747899\n",
      "f1_score 0.5938566552901023\n",
      "Model: \"model_14\"\n",
      "_________________________________________________________________\n",
      "Layer (type)                 Output Shape              Param #   \n",
      "=================================================================\n",
      "input_2 (InputLayer)         (None, 16, 256)           0         \n",
      "_________________________________________________________________\n",
      "bidirectional_2 (Bidirection (None, 16, 96)            117120    \n",
      "_________________________________________________________________\n",
      "time_distributed_2 (TimeDist (None, 16, 1)             97        \n",
      "=================================================================\n",
      "Total params: 117,217\n",
      "Trainable params: 117,217\n",
      "Non-trainable params: 0\n",
      "_________________________________________________________________\n",
      "======Training stage======\n",
      "Epoch 1/10\n",
      "79902/79902 [==============================] - 41s 510us/step - loss: 0.0015 - accuracy: 0.9996\n",
      "Epoch 2/10\n",
      "79902/79902 [==============================] - 40s 500us/step - loss: 0.0014 - accuracy: 0.9996\n",
      "Epoch 3/10\n",
      "79902/79902 [==============================] - 40s 499us/step - loss: 0.0013 - accuracy: 0.9996\n",
      "Epoch 4/10\n",
      "79902/79902 [==============================] - 40s 503us/step - loss: 0.0013 - accuracy: 0.9996\n",
      "Epoch 5/10\n",
      "79902/79902 [==============================] - 40s 502us/step - loss: 0.0012 - accuracy: 0.9996\n",
      "Epoch 6/10\n",
      "79902/79902 [==============================] - 39s 482us/step - loss: 0.0011 - accuracy: 0.9997\n",
      "Epoch 7/10\n",
      "79902/79902 [==============================] - 40s 504us/step - loss: 0.0011 - accuracy: 0.9997s - loss: 0.0011 - accuracy: 0.99\n",
      "Epoch 8/10\n",
      "79902/79902 [==============================] - 40s 504us/step - loss: 0.0011 - accuracy: 0.9997\n",
      "Epoch 9/10\n",
      "79902/79902 [==============================] - 40s 504us/step - loss: 0.0010 - accuracy: 0.9997s - loss: 0.0010 - accura\n",
      "Epoch 10/10\n",
      "79902/79902 [==============================] - 40s 506us/step - loss: 9.5785e-04 - accuracy: 0.9997\n"
     ]
    },
    {
     "data": {
      "text/plain": [
       "<keras.callbacks.callbacks.History at 0x2410bc59f08>"
      ]
     },
     "execution_count": 19,
     "metadata": {},
     "output_type": "execute_result"
    },
    {
     "name": "stdout",
     "output_type": "stream",
     "text": [
      "accuracy_score 0.9993312119846812\n",
      "recall_score 0.6036585365853658\n",
      "precision_score 0.7674418604651163\n",
      "f1_score 0.6757679180887373\n",
      "Model: \"model_15\"\n",
      "_________________________________________________________________\n",
      "Layer (type)                 Output Shape              Param #   \n",
      "=================================================================\n",
      "input_2 (InputLayer)         (None, 16, 256)           0         \n",
      "_________________________________________________________________\n",
      "bidirectional_2 (Bidirection (None, 16, 96)            117120    \n",
      "_________________________________________________________________\n",
      "time_distributed_2 (TimeDist (None, 16, 1)             97        \n",
      "=================================================================\n",
      "Total params: 117,217\n",
      "Trainable params: 117,217\n",
      "Non-trainable params: 0\n",
      "_________________________________________________________________\n",
      "======Training stage======\n",
      "Epoch 1/10\n",
      "79902/79902 [==============================] - 42s 520us/step - loss: 0.0012 - accuracy: 0.9997\n",
      "Epoch 2/10\n",
      "79902/79902 [==============================] - 41s 509us/step - loss: 0.0010 - accuracy: 0.9997\n",
      "Epoch 3/10\n",
      "79902/79902 [==============================] - 41s 509us/step - loss: 9.6481e-04 - accuracy: 0.9997s - loss: 9.7386e\n",
      "Epoch 4/10\n",
      "79902/79902 [==============================] - 41s 509us/step - loss: 9.3023e-04 - accuracy: 0.9997\n",
      "Epoch 5/10\n",
      "79902/79902 [==============================] - 41s 509us/step - loss: 8.8995e-04 - accuracy: 0.9997\n",
      "Epoch 6/10\n",
      "79902/79902 [==============================] - 41s 508us/step - loss: 8.3035e-04 - accuracy: 0.9998\n",
      "Epoch 7/10\n",
      "79902/79902 [==============================] - 41s 510us/step - loss: 7.8863e-04 - accuracy: 0.9998\n",
      "Epoch 8/10\n",
      "79902/79902 [==============================] - 39s 486us/step - loss: 7.4841e-04 - accuracy: 0.9998\n",
      "Epoch 9/10\n",
      "79902/79902 [==============================] - 41s 508us/step - loss: 7.1324e-04 - accuracy: 0.9998\n",
      "Epoch 10/10\n",
      "79902/79902 [==============================] - 41s 508us/step - loss: 6.7453e-04 - accuracy: 0.9998\n"
     ]
    },
    {
     "data": {
      "text/plain": [
       "<keras.callbacks.callbacks.History at 0x2413d815f48>"
      ]
     },
     "execution_count": 19,
     "metadata": {},
     "output_type": "execute_result"
    },
    {
     "name": "stdout",
     "output_type": "stream",
     "text": [
      "accuracy_score 0.9994368100923632\n",
      "recall_score 0.6754966887417219\n",
      "precision_score 0.7669172932330827\n",
      "f1_score 0.7183098591549295\n",
      "Model: \"model_16\"\n",
      "_________________________________________________________________\n",
      "Layer (type)                 Output Shape              Param #   \n",
      "=================================================================\n",
      "input_2 (InputLayer)         (None, 16, 256)           0         \n",
      "_________________________________________________________________\n",
      "bidirectional_2 (Bidirection (None, 16, 96)            117120    \n",
      "_________________________________________________________________\n",
      "time_distributed_2 (TimeDist (None, 16, 1)             97        \n",
      "=================================================================\n",
      "Total params: 117,217\n",
      "Trainable params: 117,217\n",
      "Non-trainable params: 0\n",
      "_________________________________________________________________\n",
      "======Training stage======\n",
      "Epoch 1/10\n",
      "79902/79902 [==============================] - 41s 519us/step - loss: 9.0391e-04 - accuracy: 0.9998s - loss: 9.0735e-04 - accuracy\n",
      "Epoch 2/10\n",
      "79902/79902 [==============================] - 40s 505us/step - loss: 7.7820e-04 - accuracy: 0.9998\n",
      "Epoch 3/10\n",
      "79902/79902 [==============================] - 41s 508us/step - loss: 7.2249e-04 - accuracy: 0.9998 0s - loss:\n",
      "Epoch 4/10\n",
      "79902/79902 [==============================] - 41s 514us/step - loss: 6.7713e-04 - accuracy: 0.9998\n",
      "Epoch 5/10\n",
      "79902/79902 [==============================] - 41s 508us/step - loss: 6.3420e-04 - accuracy: 0.9998\n",
      "Epoch 6/10\n",
      "79902/79902 [==============================] - 41s 512us/step - loss: 5.8289e-04 - accuracy: 0.9998\n",
      "Epoch 7/10\n",
      "79902/79902 [==============================] - 40s 507us/step - loss: 5.4171e-04 - accuracy: 0.9998\n",
      "Epoch 8/10\n",
      "79902/79902 [==============================] - 40s 506us/step - loss: 5.2478e-04 - accuracy: 0.9998\n",
      "Epoch 9/10\n",
      "79902/79902 [==============================] - 40s 498us/step - loss: 4.9125e-04 - accuracy: 0.9999\n",
      "Epoch 10/10\n",
      "79902/79902 [==============================] - 31s 382us/step - loss: 4.5277e-04 - accuracy: 0.9999\n"
     ]
    },
    {
     "data": {
      "text/plain": [
       "<keras.callbacks.callbacks.History at 0x2412c103e48>"
      ]
     },
     "execution_count": 19,
     "metadata": {},
     "output_type": "execute_result"
    },
    {
     "name": "stdout",
     "output_type": "stream",
     "text": [
      "accuracy_score 0.999633926560036\n",
      "recall_score 0.7682119205298014\n",
      "precision_score 0.8721804511278195\n",
      "f1_score 0.8169014084507041\n",
      "Model: \"model_17\"\n",
      "_________________________________________________________________\n",
      "Layer (type)                 Output Shape              Param #   \n",
      "=================================================================\n",
      "input_2 (InputLayer)         (None, 16, 256)           0         \n",
      "_________________________________________________________________\n",
      "bidirectional_2 (Bidirection (None, 16, 96)            117120    \n",
      "_________________________________________________________________\n",
      "time_distributed_2 (TimeDist (None, 16, 1)             97        \n",
      "=================================================================\n",
      "Total params: 117,217\n",
      "Trainable params: 117,217\n",
      "Non-trainable params: 0\n",
      "_________________________________________________________________\n",
      "======Training stage======\n",
      "Epoch 1/10\n",
      "79902/79902 [==============================] - 32s 397us/step - loss: 6.6360e-04 - accuracy: 0.9998\n",
      "Epoch 2/10\n",
      "79902/79902 [==============================] - 32s 396us/step - loss: 5.5673e-04 - accuracy: 0.9999\n",
      "Epoch 3/10\n",
      "79902/79902 [==============================] - 32s 395us/step - loss: 5.1755e-04 - accuracy: 0.9999\n",
      "Epoch 4/10\n",
      "79902/79902 [==============================] - 31s 393us/step - loss: 4.6496e-04 - accuracy: 0.9999\n",
      "Epoch 5/10\n",
      "79902/79902 [==============================] - 31s 393us/step - loss: 4.1088e-04 - accuracy: 0.9999\n",
      "Epoch 6/10\n",
      "79902/79902 [==============================] - 32s 396us/step - loss: 3.8297e-04 - accuracy: 0.9999\n",
      "Epoch 7/10\n",
      "79902/79902 [==============================] - 32s 399us/step - loss: 3.8839e-04 - accuracy: 0.9999\n",
      "Epoch 8/10\n",
      "79902/79902 [==============================] - ETA: 0s - loss: 3.6643e-04 - accuracy: 0.99 - 32s 400us/step - loss: 3.7014e-04 - accuracy: 0.9999\n",
      "Epoch 9/10\n",
      "79902/79902 [==============================] - 32s 400us/step - loss: 3.1253e-04 - accuracy: 0.9999\n",
      "Epoch 10/10\n",
      "79902/79902 [==============================] - 32s 400us/step - loss: 3.0664e-04 - accuracy: 0.9999\n"
     ]
    },
    {
     "data": {
      "text/plain": [
       "<keras.callbacks.callbacks.History at 0x2412cbc1d48>"
      ]
     },
     "execution_count": 19,
     "metadata": {},
     "output_type": "execute_result"
    },
    {
     "name": "stdout",
     "output_type": "stream",
     "text": [
      "accuracy_score 0.9996550461815724\n",
      "recall_score 0.8653846153846154\n",
      "precision_score 0.8282208588957055\n",
      "f1_score 0.8463949843260187\n",
      "Model: \"model_18\"\n",
      "_________________________________________________________________\n",
      "Layer (type)                 Output Shape              Param #   \n",
      "=================================================================\n",
      "input_2 (InputLayer)         (None, 16, 256)           0         \n",
      "_________________________________________________________________\n",
      "bidirectional_2 (Bidirection (None, 16, 96)            117120    \n",
      "_________________________________________________________________\n",
      "time_distributed_2 (TimeDist (None, 16, 1)             97        \n",
      "=================================================================\n",
      "Total params: 117,217\n",
      "Trainable params: 117,217\n",
      "Non-trainable params: 0\n",
      "_________________________________________________________________\n",
      "======Training stage======\n",
      "Epoch 1/10\n",
      "79902/79902 [==============================] - 32s 402us/step - loss: 5.2162e-04 - accuracy: 0.9999\n",
      "Epoch 2/10\n",
      "79902/79902 [==============================] - 32s 395us/step - loss: 4.0811e-04 - accuracy: 0.9999\n",
      "Epoch 3/10\n",
      "79902/79902 [==============================] - 32s 395us/step - loss: 3.8588e-04 - accuracy: 0.9999\n",
      "Epoch 4/10\n",
      "79902/79902 [==============================] - 32s 397us/step - loss: 3.8224e-04 - accuracy: 0.9999\n",
      "Epoch 5/10\n",
      "79902/79902 [==============================] - 32s 397us/step - loss: 3.4994e-04 - accuracy: 0.9999\n",
      "Epoch 6/10\n",
      "79902/79902 [==============================] - 32s 397us/step - loss: 2.9076e-04 - accuracy: 0.9999\n",
      "Epoch 7/10\n",
      "79902/79902 [==============================] - 32s 397us/step - loss: 3.0031e-04 - accuracy: 0.9999\n",
      "Epoch 8/10\n",
      "79902/79902 [==============================] - 32s 398us/step - loss: 3.2097e-04 - accuracy: 0.9999\n",
      "Epoch 9/10\n",
      "79902/79902 [==============================] - 32s 398us/step - loss: 2.8347e-04 - accuracy: 0.9999\n",
      "Epoch 10/10\n",
      "79902/79902 [==============================] - 32s 398us/step - loss: 2.6265e-04 - accuracy: 0.9999\n"
     ]
    },
    {
     "data": {
      "text/plain": [
       "<keras.callbacks.callbacks.History at 0x2412ddaff48>"
      ]
     },
     "execution_count": 19,
     "metadata": {},
     "output_type": "execute_result"
    },
    {
     "name": "stdout",
     "output_type": "stream",
     "text": [
      "accuracy_score 0.9997184050461816\n",
      "recall_score 0.7941176470588235\n",
      "precision_score 0.9\n",
      "f1_score 0.84375\n",
      "Model: \"model_19\"\n",
      "_________________________________________________________________\n",
      "Layer (type)                 Output Shape              Param #   \n",
      "=================================================================\n",
      "input_2 (InputLayer)         (None, 16, 256)           0         \n",
      "_________________________________________________________________\n",
      "bidirectional_2 (Bidirection (None, 16, 96)            117120    \n",
      "_________________________________________________________________\n",
      "time_distributed_2 (TimeDist (None, 16, 1)             97        \n",
      "=================================================================\n",
      "Total params: 117,217\n",
      "Trainable params: 117,217\n",
      "Non-trainable params: 0\n",
      "_________________________________________________________________\n",
      "======Training stage======\n",
      "Epoch 1/10\n",
      "79902/79902 [==============================] - 34s 420us/step - loss: 4.0264e-04 - accuracy: 0.9999\n",
      "Epoch 2/10\n",
      "79902/79902 [==============================] - 33s 414us/step - loss: 3.4205e-04 - accuracy: 0.9999\n",
      "Epoch 3/10\n",
      "79902/79902 [==============================] - 33s 414us/step - loss: 3.0992e-04 - accuracy: 0.9999\n",
      "Epoch 4/10\n",
      "79902/79902 [==============================] - 33s 414us/step - loss: 3.0138e-04 - accuracy: 0.9999\n",
      "Epoch 5/10\n",
      "79902/79902 [==============================] - 33s 414us/step - loss: 2.9332e-04 - accuracy: 0.9999\n",
      "Epoch 6/10\n",
      "79902/79902 [==============================] - 33s 414us/step - loss: 2.6370e-04 - accuracy: 0.9999\n",
      "Epoch 7/10\n",
      "79902/79902 [==============================] - 33s 414us/step - loss: 3.0059e-04 - accuracy: 0.9999\n",
      "Epoch 8/10\n",
      "79902/79902 [==============================] - 33s 417us/step - loss: 2.6822e-04 - accuracy: 0.9999\n",
      "Epoch 9/10\n",
      "79902/79902 [==============================] - 33s 417us/step - loss: 2.7247e-04 - accuracy: 0.9999\n",
      "Epoch 10/10\n",
      "79902/79902 [==============================] - 33s 418us/step - loss: 2.0320e-04 - accuracy: 0.9999\n"
     ]
    },
    {
     "data": {
      "text/plain": [
       "<keras.callbacks.callbacks.History at 0x2412f7faf08>"
      ]
     },
     "execution_count": 19,
     "metadata": {},
     "output_type": "execute_result"
    },
    {
     "name": "stdout",
     "output_type": "stream",
     "text": [
      "accuracy_score 0.999802883532327\n",
      "recall_score 0.8789808917197452\n",
      "precision_score 0.9387755102040817\n",
      "f1_score 0.9078947368421053\n",
      "Model: \"model_20\"\n",
      "_________________________________________________________________\n",
      "Layer (type)                 Output Shape              Param #   \n",
      "=================================================================\n",
      "input_2 (InputLayer)         (None, 16, 256)           0         \n",
      "_________________________________________________________________\n",
      "bidirectional_2 (Bidirection (None, 16, 96)            117120    \n",
      "_________________________________________________________________\n",
      "time_distributed_2 (TimeDist (None, 16, 1)             97        \n",
      "=================================================================\n",
      "Total params: 117,217\n",
      "Trainable params: 117,217\n",
      "Non-trainable params: 0\n",
      "_________________________________________________________________\n",
      "======Training stage======\n",
      "Epoch 1/10\n",
      "79902/79902 [==============================] - 35s 440us/step - loss: 3.5869e-04 - accuracy: 0.9999\n",
      "Epoch 2/10\n",
      "79902/79902 [==============================] - 35s 433us/step - loss: 2.4765e-04 - accuracy: 0.9999\n",
      "Epoch 3/10\n",
      "79902/79902 [==============================] - 35s 435us/step - loss: 3.0454e-04 - accuracy: 0.9999\n",
      "Epoch 4/10\n",
      "79902/79902 [==============================] - 35s 435us/step - loss: 2.1440e-04 - accuracy: 0.9999\n",
      "Epoch 5/10\n",
      "79902/79902 [==============================] - 35s 435us/step - loss: 2.2796e-04 - accuracy: 0.9999\n",
      "Epoch 6/10\n",
      "79902/79902 [==============================] - 35s 437us/step - loss: 2.3471e-04 - accuracy: 0.9999\n",
      "Epoch 7/10\n",
      "79902/79902 [==============================] - 35s 437us/step - loss: 2.0510e-04 - accuracy: 0.9999\n",
      "Epoch 8/10\n",
      "79902/79902 [==============================] - 35s 437us/step - loss: 2.0748e-04 - accuracy: 0.9999\n",
      "Epoch 9/10\n",
      "79902/79902 [==============================] - 35s 437us/step - loss: 1.7107e-04 - accuracy: 0.9999\n",
      "Epoch 10/10\n",
      "79902/79902 [==============================] - 35s 438us/step - loss: 1.7635e-04 - accuracy: 0.9999\n"
     ]
    },
    {
     "data": {
      "text/plain": [
       "<keras.callbacks.callbacks.History at 0x2412cb7e508>"
      ]
     },
     "execution_count": 19,
     "metadata": {},
     "output_type": "execute_result"
    },
    {
     "name": "stdout",
     "output_type": "stream",
     "text": [
      "accuracy_score 0.9997888037846362\n",
      "recall_score 0.8896103896103896\n",
      "precision_score 0.9133333333333333\n",
      "f1_score 0.9013157894736842\n",
      "\n",
      "K-fold cross validation Accuracy: [0.9992537733723812, 0.9992608132462266, 0.9991622550123902, 0.9993312119846812, 0.9994368100923632, 0.999633926560036, 0.9996550461815724, 0.9997184050461816, 0.999802883532327, 0.9997888037846362]\n",
      "\n",
      "K-fold cross validation Recall: [0.6688741721854304, 0.5704697986577181, 0.5, 0.6036585365853658, 0.6754966887417219, 0.7682119205298014, 0.8653846153846154, 0.7941176470588235, 0.8789808917197452, 0.8896103896103896]\n",
      "\n",
      "K-fold cross validation Precision: [0.643312101910828, 0.6746031746031746, 0.7310924369747899, 0.7674418604651163, 0.7669172932330827, 0.8721804511278195, 0.8282208588957055, 0.9, 0.9387755102040817, 0.9133333333333333]\n",
      "\n",
      "K-fold cross validation F1-Score: [0.6558441558441558, 0.6181818181818182, 0.5938566552901023, 0.6757679180887373, 0.7183098591549295, 0.8169014084507041, 0.8463949843260187, 0.84375, 0.9078947368421053, 0.9013157894736842]\n"
     ]
    }
   ],
   "source": [
    "# 교차검증 kfold\n",
    "from sklearn.model_selection import KFold\n",
    "\n",
    "# Accuracy, Precision, Recall, F1-Score\n",
    "from sklearn.metrics import accuracy_score, recall_score, precision_score, f1_score\n",
    "\n",
    "# Confusion Matrix, ROC Curve\n",
    "from sklearn.metrics import confusion_matrix, roc_auc_score\n",
    "\n",
    "# 최종 평가지표들 평균용\n",
    "accuracy, recall, precision, f1score, cm = [], [], [], [], []\n",
    "\n",
    "# 11. 교차검증 kfold - k.split - 10회 / K-Fold 객체 생성\n",
    "# kf = KFold(n_splits=10, shuffle=False, random_state=None) # KFold non shuffle 버전\n",
    "kf = KFold(n_splits=10, shuffle=True, random_state=None) # KFold non shuffle 버전\n",
    "\n",
    "for train, validation in kf.split(x_gcc6_0_32_3, y_gcc6_0_32_3):\n",
    "    model1 = Model(xInput, xOutput)\n",
    "    model1.compile(loss='binary_crossentropy', optimizer='rmsprop', metrics=['accuracy'])\n",
    "    model1.summary()\n",
    "    print('======Training stage======')\n",
    "    model1.fit(x_gcc6_0_32_3[train],\n",
    "               y_gcc6_0_32_3[train],\n",
    "               epochs = 10,\n",
    "               batch_size = 32,\n",
    "               callbacks=[early_stopping])\n",
    "    #k_accuracy = '%.4f' %(model1.evaluate(data_10000x[validation], data_10000y[validation])[1])\n",
    "\n",
    "# 12. 교차검증결과 predict - 검증셋들\n",
    "    # predict 값\n",
    "    k_pr = model1.predict(x_gcc6_0_32_3[validation])\n",
    "    \n",
    "    # 테스트 predict 결과들 비교 (평가지표 보기위함)\n",
    "    pred = np.round(np.array(k_pr).flatten().tolist())\n",
    "    y_test = np.array(y_gcc6_0_32_3[validation]).flatten().tolist()\n",
    "    \n",
    "# 13. 평가지표들 출력\n",
    "    ## 평가지표들\n",
    "    k_accuracy = float(accuracy_score(y_test, pred))\n",
    "    k_recall =  float(recall_score(y_test, pred))\n",
    "    k_precision = float(precision_score(y_test, pred))\n",
    "    k_f1_score = float(f1_score(y_test, pred))\n",
    "    #k_cm = float(confusion_matrix(y_test, pred))\n",
    "    \n",
    "    print('accuracy_score', k_accuracy)\n",
    "    print('recall_score', k_recall)\n",
    "    print('precision_score', k_precision)\n",
    "    print('f1_score', k_f1_score)\n",
    "    #print('\\nconfusion_matrix\\n', k_cm)\n",
    "\n",
    "    accuracy.append(k_accuracy)\n",
    "    recall.append(k_recall)\n",
    "    precision.append(k_precision)\n",
    "    f1score.append(k_f1_score)\n",
    "    #cm.append(k_cm)\n",
    "#    print('roc_curve 면적', roc_auc_score(y_test, pred))\n",
    "\n",
    "# 14. 최종 결과지표\n",
    "print('\\nK-fold cross validation Accuracy: {}'.format(accuracy))\n",
    "print('\\nK-fold cross validation Recall: {}'.format(recall))\n",
    "print('\\nK-fold cross validation Precision: {}'.format(precision))\n",
    "print('\\nK-fold cross validation F1-Score: {}'.format(f1score))\n",
    "#print('\\nK-fold cross validation ConfusionMatrix: {}'.format(cm))"
   ]
  },
  {
   "cell_type": "markdown",
   "metadata": {},
   "source": [
    "## (9) 평가지표"
   ]
  },
  {
   "cell_type": "code",
   "execution_count": 20,
   "metadata": {},
   "outputs": [
    {
     "name": "stdout",
     "output_type": "stream",
     "text": [
      "10-Fold Cross_validation. Accuracy : 0.9995043928812795\n",
      "10-Fold Cross_validation. Recall : 0.721480466047361\n",
      "10-Fold Cross_validation. Precision : 0.8035877020747932\n",
      "10-Fold Cross_validation. F1-Score : 0.7578217325652254\n"
     ]
    }
   ],
   "source": [
    "print('10-Fold Cross_validation. Accuracy :', np.mean(accuracy))\n",
    "print('10-Fold Cross_validation. Recall :', np.mean(recall))\n",
    "print('10-Fold Cross_validation. Precision :', np.mean(precision))\n",
    "print('10-Fold Cross_validation. F1-Score :', np.mean(f1score))"
   ]
  }
 ],
 "metadata": {
  "kernelspec": {
   "display_name": "Python 3",
   "language": "python",
   "name": "python3"
  },
  "language_info": {
   "codemirror_mode": {
    "name": "ipython",
    "version": 3
   },
   "file_extension": ".py",
   "mimetype": "text/x-python",
   "name": "python",
   "nbconvert_exporter": "python",
   "pygments_lexer": "ipython3",
   "version": "3.7.6"
  }
 },
 "nbformat": 4,
 "nbformat_minor": 4
}
