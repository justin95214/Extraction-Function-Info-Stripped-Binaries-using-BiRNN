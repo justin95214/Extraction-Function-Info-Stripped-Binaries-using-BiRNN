{
 "cells": [
  {
   "cell_type": "markdown",
   "metadata": {},
   "source": [
    "## RNN 모델 N-Byte 방식 (함수정보 포함 vs 미포함 => 1:1 비율)\n",
    "\n",
    "## (1) 데이터로드"
   ]
  },
  {
   "cell_type": "code",
   "execution_count": 1,
   "metadata": {},
   "outputs": [
    {
     "name": "stdout",
     "output_type": "stream",
     "text": [
      "(13936744, 2)\n",
      "reset_index 완료\n",
      "input data shape\n"
     ]
    },
    {
     "data": {
      "text/html": [
       "<div>\n",
       "<style scoped>\n",
       "    .dataframe tbody tr th:only-of-type {\n",
       "        vertical-align: middle;\n",
       "    }\n",
       "\n",
       "    .dataframe tbody tr th {\n",
       "        vertical-align: top;\n",
       "    }\n",
       "\n",
       "    .dataframe thead th {\n",
       "        text-align: right;\n",
       "    }\n",
       "</style>\n",
       "<table border=\"1\" class=\"dataframe\">\n",
       "  <thead>\n",
       "    <tr style=\"text-align: right;\">\n",
       "      <th></th>\n",
       "      <th>bin</th>\n",
       "      <th>label</th>\n",
       "    </tr>\n",
       "  </thead>\n",
       "  <tbody>\n",
       "    <tr>\n",
       "      <th>0</th>\n",
       "      <td>53</td>\n",
       "      <td>1</td>\n",
       "    </tr>\n",
       "    <tr>\n",
       "      <th>1</th>\n",
       "      <td>83</td>\n",
       "      <td>0</td>\n",
       "    </tr>\n",
       "    <tr>\n",
       "      <th>2</th>\n",
       "      <td>ec</td>\n",
       "      <td>0</td>\n",
       "    </tr>\n",
       "    <tr>\n",
       "      <th>3</th>\n",
       "      <td>08</td>\n",
       "      <td>0</td>\n",
       "    </tr>\n",
       "    <tr>\n",
       "      <th>4</th>\n",
       "      <td>e8</td>\n",
       "      <td>0</td>\n",
       "    </tr>\n",
       "  </tbody>\n",
       "</table>\n",
       "</div>"
      ],
      "text/plain": [
       "  bin  label\n",
       "0  53      1\n",
       "1  83      0\n",
       "2  ec      0\n",
       "3  08      0\n",
       "4  e8      0"
      ]
     },
     "execution_count": 1,
     "metadata": {},
     "output_type": "execute_result"
    }
   ],
   "source": [
    "# (1) 데이터로드\n",
    "import pandas as pd\n",
    "import numpy as np\n",
    "\n",
    "import warnings\n",
    "warnings.filterwarnings(action='ignore')\n",
    "\n",
    "# 여러개 쳐도 나오게\n",
    "from IPython.core.interactiveshell import InteractiveShell\n",
    "InteractiveShell.ast_node_interactivity = \"all\"\n",
    "\n",
    "# 파일읽기\n",
    "gcc6_0_32 = pd.read_csv(\"../data/binutils_gcc3~9_op0~4_exec_csv/\"+'gcc6'+\"_0_32_exec.csv\", index_col=0)\n",
    "\n",
    "# 형태 출력\n",
    "print(gcc6_0_32.shape)\n",
    "\n",
    "# reset_index (hex processing 하면서 값이 빠졌으니까 + n_gram 에서 index를 다루기 때문에)\n",
    "gcc6_0_32.reset_index(inplace=True, drop=True)\n",
    "\n",
    "print('reset_index 완료')\n",
    "print('input data shape')\n",
    "gcc6_0_32.head()"
   ]
  },
  {
   "cell_type": "code",
   "execution_count": 2,
   "metadata": {},
   "outputs": [
    {
     "name": "stdout",
     "output_type": "stream",
     "text": [
      "256\n",
      "0    13892354\n",
      "1       44390\n",
      "Name: label, dtype: int64\n"
     ]
    }
   ],
   "source": [
    "# (2-1) 데이터체크 1 - hex(16진수)가 256 label을 가져야 dummies 변환 가능 \n",
    "\n",
    "# 16진수 256개 종류가 있어서 pd.get_dummies 사용 가능.\n",
    "print(len(gcc6_0_32['bin'].unique()))\n",
    "\n",
    "# (2-2) 데이터 체크 2 - 1, 0 비율 ==> 1이 함수의 갯수를 뜻함\n",
    "# 정답 데이터 1, 0 비율 확인  ==> 1이 함수의 갯수를 뜻함\n",
    "print(gcc6_0_32['label'].value_counts())"
   ]
  },
  {
   "cell_type": "markdown",
   "metadata": {},
   "source": [
    "## (3) N Byte씩 자르기"
   ]
  },
  {
   "cell_type": "code",
   "execution_count": 3,
   "metadata": {},
   "outputs": [
    {
     "name": "stdout",
     "output_type": "stream",
     "text": [
      "1420468\n",
      "나머지 20\n",
      "최종 길이 1420448\n",
      "gcc6_0_32 1420448\n"
     ]
    }
   ],
   "source": [
    "######################## \n",
    "idx = gcc6_0_32[gcc6_0_32['label']==1].index  # 407, 474 ...\n",
    "ls = list(idx)\n",
    "\n",
    "# 최종 뽑을 행에 대한 index\n",
    "ls_idx = [] \n",
    "left_idx, right_idx = 0, 32 # 3개씩\n",
    "\n",
    "# 6gram\n",
    "for k in range(left_idx, right_idx):\n",
    "    ls_idx.extend(list(idx + k)) # index 형이라서 가능\n",
    "\n",
    "#ls_idx = list(set(ls_idx)) \n",
    "ls_idx.sort() # 인덱스 정렬\n",
    "\n",
    "# 1차 index 해당범위 초과한 것들 없애기\n",
    "ls_idx = list(filter(lambda x: x<len(gcc6_0_32), ls_idx))\n",
    "print(len(ls_idx))\n",
    "\n",
    "# 2차 남은 index들 중 right_idx 나눈 나머지 없애기\n",
    "sub = len(ls_idx)%(right_idx)\n",
    "print('나머지', sub)\n",
    "\n",
    "ls_idx = ls_idx[:len(ls_idx)-sub]\n",
    "print('최종 길이', len(ls_idx))\n",
    "\n",
    "print('gcc6_0_32', len(ls_idx))\n",
    "\n",
    "# loc 로 수정필요\n",
    "gcc6_0_32_Ngram = gcc6_0_32.loc[ls_idx,:].copy()"
   ]
  },
  {
   "cell_type": "markdown",
   "metadata": {},
   "source": [
    "## (4) false data 만들기"
   ]
  },
  {
   "cell_type": "code",
   "execution_count": 4,
   "metadata": {},
   "outputs": [
    {
     "name": "stdout",
     "output_type": "stream",
     "text": [
      "0 1000 2000 3000 4000 5000 6000 7000 8000 9000 10000 11000 12000 13000 14000 15000 16000 17000 18000 19000 20000 21000 22000 23000 24000 25000 26000 27000 28000 29000 30000 31000 32000 33000 34000 35000 36000 37000 38000 39000 40000 41000 42000 43000 44000 완료\n"
     ]
    }
   ],
   "source": [
    "# false data 만들기 - False 데이터 랜덤 생성\n",
    "# random index\n",
    "random_idx = np.random.randint(len(gcc6_0_32)-right_idx)\n",
    "\n",
    "# 목표치\n",
    "goal = len(gcc6_0_32_Ngram)/right_idx\n",
    "count=0\n",
    "\n",
    "d = pd.DataFrame(columns=gcc6_0_32.columns)\n",
    "\n",
    "# goal 에 도달할 때까지\n",
    "while count!=goal:\n",
    "    \n",
    "    # 진행상황 살펴보기 위함\n",
    "    if count%1000==0:\n",
    "        print(count, end=' ')\n",
    "        \n",
    "    # 랜덤 N 바이트씩 뽑음\n",
    "    df = gcc6_0_32[random_idx:random_idx+right_idx]\n",
    "    \n",
    "    # 뽑은 index의 N 바이트 중에 1이 없는 경우만\n",
    "    if 1 not in df['label']:\n",
    "        d = pd.concat([d, df])\n",
    "        count+=1\n",
    "\n",
    "print('완료')"
   ]
  },
  {
   "cell_type": "markdown",
   "metadata": {},
   "source": [
    "## (5) False Data + True Data 합치기"
   ]
  },
  {
   "cell_type": "code",
   "execution_count": 5,
   "metadata": {},
   "outputs": [
    {
     "name": "stdout",
     "output_type": "stream",
     "text": [
      "0 1000 2000 3000 4000 5000 6000 7000 8000 9000 10000 11000 12000 13000 14000 15000 16000 17000 18000 19000 20000 21000 22000 23000 24000 25000 26000 27000 28000 29000 30000 31000 32000 33000 34000 35000 36000 37000 38000 39000 40000 41000 42000 43000 44000 "
     ]
    },
    {
     "data": {
      "text/plain": [
       "(2840896, 2)"
      ]
     },
     "execution_count": 5,
     "metadata": {},
     "output_type": "execute_result"
    }
   ],
   "source": [
    "ff = pd.DataFrame(columns=gcc6_0_32.columns)\n",
    "\n",
    "for i in range(0, int(len(d)/right_idx)):\n",
    "    ff = pd.concat([ff, gcc6_0_32[i*right_idx:(i+1)*right_idx], d[i*right_idx:(i+1)*right_idx]])\n",
    "    \n",
    "    if i%1000==0:\n",
    "        print(i, end=' ')\n",
    "ff.shape"
   ]
  },
  {
   "cell_type": "markdown",
   "metadata": {},
   "source": [
    "## (6) one hot encoding"
   ]
  },
  {
   "cell_type": "code",
   "execution_count": 6,
   "metadata": {},
   "outputs": [
    {
     "name": "stdout",
     "output_type": "stream",
     "text": [
      "원핫인코딩완료\n",
      "(2840896, 257)\n"
     ]
    }
   ],
   "source": [
    "# 훈련데이터 (gcc 최적화버전 0, 1, 2, 3 one hot encoding)\n",
    "gcc6_0_32_onehot_Ngram = pd.get_dummies(ff['bin'])\n",
    "gcc6_0_32_onehot_Ngram = pd.concat([ff['label'], gcc6_0_32_onehot_Ngram], axis=1)\n",
    "\n",
    "print('원핫인코딩완료')\n",
    "print(gcc6_0_32_onehot_Ngram.shape)"
   ]
  },
  {
   "cell_type": "code",
   "execution_count": 7,
   "metadata": {},
   "outputs": [
    {
     "name": "stdout",
     "output_type": "stream",
     "text": [
      "(2840896, 256) (2840896,)\n",
      "(88778, 32, 256) (88778, 32, 1)\n"
     ]
    }
   ],
   "source": [
    "# 훈련 데이터, 훈련 라벨\n",
    "x_gcc6_0_32_3 = gcc6_0_32_onehot_Ngram.iloc[:,1:].to_numpy()\n",
    "y_gcc6_0_32_3 = gcc6_0_32_onehot_Ngram['label'].to_numpy()\n",
    "print(x_gcc6_0_32_3.shape, y_gcc6_0_32_3.shape)\n",
    "\n",
    "x_gcc6_0_32_3 = x_gcc6_0_32_3.reshape(-1, right_idx, x_gcc6_0_32_3.shape[1])\n",
    "y_gcc6_0_32_3 = y_gcc6_0_32_3.reshape(-1, right_idx, 1)\n",
    "\n",
    "print(x_gcc6_0_32_3.shape, y_gcc6_0_32_3.shape)"
   ]
  },
  {
   "cell_type": "markdown",
   "metadata": {},
   "source": [
    "## (7) 모델"
   ]
  },
  {
   "cell_type": "code",
   "execution_count": 8,
   "metadata": {},
   "outputs": [
    {
     "name": "stderr",
     "output_type": "stream",
     "text": [
      "Using TensorFlow backend.\n"
     ]
    },
    {
     "name": "stdout",
     "output_type": "stream",
     "text": [
      "Model: \"model_1\"\n",
      "_________________________________________________________________\n",
      "Layer (type)                 Output Shape              Param #   \n",
      "=================================================================\n",
      "input_1 (InputLayer)         (None, 32, 256)           0         \n",
      "_________________________________________________________________\n",
      "bidirectional_1 (Bidirection (None, 32, 32)            34944     \n",
      "_________________________________________________________________\n",
      "time_distributed_1 (TimeDist (None, 32, 1)             33        \n",
      "=================================================================\n",
      "Total params: 34,977\n",
      "Trainable params: 34,977\n",
      "Non-trainable params: 0\n",
      "_________________________________________________________________\n"
     ]
    }
   ],
   "source": [
    "# (10) 양방향 LSTM 모델링 작업\n",
    "from keras.models import Model, Sequential\n",
    "from keras.layers import SimpleRNN, Input, Dense, LSTM\n",
    "from keras.layers import Bidirectional, TimeDistributed\n",
    "\n",
    "# 학습\n",
    "from keras.callbacks import EarlyStopping\n",
    "early_stopping = EarlyStopping(patience = 3) # 조기종료 콜백함수 정의\n",
    "\n",
    "xInput = Input(batch_shape=(None,right_idx, 256)) \n",
    "xBiLstm = Bidirectional(LSTM(16, return_sequences=True), merge_mode = 'concat')(xInput)\n",
    "xOutput = TimeDistributed(Dense(1, activation ='sigmoid'))(xBiLstm) # 각 스텝에서 cost가 전송되고, 오류가 다음 step으로 전송됨.\n",
    "\n",
    "model1 = Model(xInput, xOutput)\n",
    "model1.compile(loss='binary_crossentropy', optimizer='rmsprop', metrics=['accuracy'])\n",
    "model1.summary()"
   ]
  },
  {
   "cell_type": "markdown",
   "metadata": {},
   "source": [
    "## (8) 학습 - 10 KFold"
   ]
  },
  {
   "cell_type": "code",
   "execution_count": 9,
   "metadata": {
    "scrolled": false
   },
   "outputs": [
    {
     "name": "stdout",
     "output_type": "stream",
     "text": [
      "======Training stage======\n",
      "Epoch 1/10\n",
      "79900/79900 [==============================] - 45s 559us/step - loss: 0.0109 - accuracy: 0.9988\n",
      "Epoch 2/10\n",
      "79900/79900 [==============================] - 44s 556us/step - loss: 0.0027 - accuracy: 0.9992\n",
      "Epoch 3/10\n",
      "79900/79900 [==============================] - 46s 575us/step - loss: 0.0024 - accuracy: 0.9993\n",
      "Epoch 4/10\n",
      "79900/79900 [==============================] - 46s 577us/step - loss: 0.0022 - accuracy: 0.9993\n",
      "Epoch 5/10\n",
      "79900/79900 [==============================] - 46s 574us/step - loss: 0.0021 - accuracy: 0.9993\n",
      "Epoch 6/10\n",
      "79900/79900 [==============================] - 46s 572us/step - loss: 0.0020 - accuracy: 0.9994\n",
      "Epoch 7/10\n",
      "79900/79900 [==============================] - 46s 574us/step - loss: 0.0020 - accuracy: 0.9994\n",
      "Epoch 8/10\n",
      "79900/79900 [==============================] - 45s 567us/step - loss: 0.0019 - accuracy: 0.9994\n",
      "Epoch 9/10\n",
      "79900/79900 [==============================] - 45s 563us/step - loss: 0.0018 - accuracy: 0.9994\n",
      "Epoch 10/10\n",
      "79900/79900 [==============================] - 44s 555us/step - loss: 0.0018 - accuracy: 0.9995\n"
     ]
    },
    {
     "data": {
      "text/plain": [
       "<keras.callbacks.callbacks.History at 0x1cfce6669c8>"
      ]
     },
     "execution_count": 9,
     "metadata": {},
     "output_type": "execute_result"
    },
    {
     "name": "stdout",
     "output_type": "stream",
     "text": [
      "accuracy_score 0.9993171322369904\n",
      "recall_score 0.6203966005665722\n",
      "precision_score 0.7849462365591398\n",
      "f1_score 0.6930379746835442\n",
      "======Training stage======\n",
      "Epoch 1/10\n",
      "79900/79900 [==============================] - 44s 544us/step - loss: 0.0018 - accuracy: 0.9994\n",
      "Epoch 2/10\n",
      "79900/79900 [==============================] - 44s 550us/step - loss: 0.0018 - accuracy: 0.9994\n",
      "Epoch 3/10\n",
      "79900/79900 [==============================] - 45s 559us/step - loss: 0.0017 - accuracy: 0.9995\n",
      "Epoch 4/10\n",
      "79900/79900 [==============================] - 44s 557us/step - loss: 0.0017 - accuracy: 0.9995\n",
      "Epoch 5/10\n",
      "79900/79900 [==============================] - 45s 558us/step - loss: 0.0017 - accuracy: 0.9995\n",
      "Epoch 6/10\n",
      "79900/79900 [==============================] - 45s 562us/step - loss: 0.0016 - accuracy: 0.9995\n",
      "Epoch 7/10\n",
      "79900/79900 [==============================] - 45s 564us/step - loss: 0.0016 - accuracy: 0.9995\n",
      "Epoch 8/10\n",
      "79900/79900 [==============================] - 45s 562us/step - loss: 0.0016 - accuracy: 0.9995\n",
      "Epoch 9/10\n",
      "79900/79900 [==============================] - 45s 560us/step - loss: 0.0015 - accuracy: 0.9995\n",
      "Epoch 10/10\n",
      "79900/79900 [==============================] - 44s 551us/step - loss: 0.0015 - accuracy: 0.9995\n"
     ]
    },
    {
     "data": {
      "text/plain": [
       "<keras.callbacks.callbacks.History at 0x1cfd0fc37c8>"
      ]
     },
     "execution_count": 9,
     "metadata": {},
     "output_type": "execute_result"
    },
    {
     "name": "stdout",
     "output_type": "stream",
     "text": [
      "accuracy_score 0.9994755293985131\n",
      "recall_score 0.7713414634146342\n",
      "precision_score 0.7737003058103975\n",
      "f1_score 0.7725190839694657\n",
      "======Training stage======\n",
      "Epoch 1/10\n",
      "79900/79900 [==============================] - 45s 558us/step - loss: 0.0015 - accuracy: 0.9995\n",
      "Epoch 2/10\n",
      "79900/79900 [==============================] - 45s 563us/step - loss: 0.0015 - accuracy: 0.9995\n",
      "Epoch 3/10\n",
      "79900/79900 [==============================] - 45s 564us/step - loss: 0.0014 - accuracy: 0.9996\n",
      "Epoch 4/10\n",
      "79900/79900 [==============================] - 45s 568us/step - loss: 0.0014 - accuracy: 0.9996\n",
      "Epoch 5/10\n",
      "79900/79900 [==============================] - 45s 568us/step - loss: 0.0014 - accuracy: 0.9996\n",
      "Epoch 6/10\n",
      "79900/79900 [==============================] - 46s 571us/step - loss: 0.0014 - accuracy: 0.9996\n",
      "Epoch 7/10\n",
      "79900/79900 [==============================] - 46s 570us/step - loss: 0.0013 - accuracy: 0.9996\n",
      "Epoch 8/10\n",
      "79900/79900 [==============================] - 46s 573us/step - loss: 0.0013 - accuracy: 0.9996\n",
      "Epoch 9/10\n",
      "79900/79900 [==============================] - 45s 567us/step - loss: 0.0013 - accuracy: 0.9996\n",
      "Epoch 10/10\n",
      "79900/79900 [==============================] - 45s 566us/step - loss: 0.0012 - accuracy: 0.9996\n"
     ]
    },
    {
     "data": {
      "text/plain": [
       "<keras.callbacks.callbacks.History at 0x1cfcfd93788>"
      ]
     },
     "execution_count": 9,
     "metadata": {},
     "output_type": "execute_result"
    },
    {
     "name": "stdout",
     "output_type": "stream",
     "text": [
      "accuracy_score 0.9995177686415859\n",
      "recall_score 0.7941176470588235\n",
      "precision_score 0.8011869436201781\n",
      "f1_score 0.7976366322008863\n",
      "======Training stage======\n",
      "Epoch 1/10\n",
      "79900/79900 [==============================] - 45s 560us/step - loss: 0.0013 - accuracy: 0.9996\n",
      "Epoch 2/10\n",
      "79900/79900 [==============================] - 45s 563us/step - loss: 0.0012 - accuracy: 0.9996\n",
      "Epoch 3/10\n",
      "79900/79900 [==============================] - 45s 560us/step - loss: 0.0012 - accuracy: 0.9996\n",
      "Epoch 4/10\n",
      "79900/79900 [==============================] - 45s 561us/step - loss: 0.0012 - accuracy: 0.9997\n",
      "Epoch 5/10\n",
      "79900/79900 [==============================] - 42s 531us/step - loss: 0.0011 - accuracy: 0.9997\n",
      "Epoch 6/10\n",
      "79900/79900 [==============================] - 40s 499us/step - loss: 0.0011 - accuracy: 0.9997\n",
      "Epoch 7/10\n",
      "79900/79900 [==============================] - 40s 498us/step - loss: 0.0011 - accuracy: 0.9997s - loss: 0.0011 - accura\n",
      "Epoch 8/10\n",
      "79900/79900 [==============================] - 39s 492us/step - loss: 0.0011 - accuracy: 0.9997\n",
      "Epoch 9/10\n",
      "79900/79900 [==============================] - 40s 495us/step - loss: 0.0010 - accuracy: 0.9997\n",
      "Epoch 10/10\n",
      "79900/79900 [==============================] - 39s 491us/step - loss: 9.9688e-04 - accuracy: 0.9997\n"
     ]
    },
    {
     "data": {
      "text/plain": [
       "<keras.callbacks.callbacks.History at 0x1cfce914348>"
      ]
     },
     "execution_count": 9,
     "metadata": {},
     "output_type": "execute_result"
    },
    {
     "name": "stdout",
     "output_type": "stream",
     "text": [
      "accuracy_score 0.9995353683261996\n",
      "recall_score 0.7530120481927711\n",
      "precision_score 0.8333333333333334\n",
      "f1_score 0.7911392405063291\n",
      "======Training stage======\n",
      "Epoch 1/10\n",
      "79900/79900 [==============================] - 39s 492us/step - loss: 0.0010 - accuracy: 0.9997\n",
      "Epoch 2/10\n",
      "79900/79900 [==============================] - 39s 489us/step - loss: 0.0010 - accuracy: 0.9997\n",
      "Epoch 3/10\n",
      "79900/79900 [==============================] - 39s 493us/step - loss: 9.7195e-04 - accuracy: 0.9997s - los\n",
      "Epoch 4/10\n",
      "79900/79900 [==============================] - 39s 494us/step - loss: 9.5360e-04 - accuracy: 0.9997\n",
      "Epoch 5/10\n",
      "79900/79900 [==============================] - 40s 495us/step - loss: 9.3048e-04 - accuracy: 0.9997\n",
      "Epoch 6/10\n",
      "79900/79900 [==============================] - 39s 494us/step - loss: 9.1642e-04 - accuracy: 0.9997s - l\n",
      "Epoch 7/10\n",
      "79900/79900 [==============================] - 39s 494us/step - loss: 8.8567e-04 - accuracy: 0.9997\n",
      "Epoch 8/10\n",
      "79900/79900 [==============================] - 40s 495us/step - loss: 8.7412e-04 - accuracy: 0.9997\n",
      "Epoch 9/10\n",
      "79900/79900 [==============================] - 40s 496us/step - loss: 8.3944e-04 - accuracy: 0.9997\n",
      "Epoch 10/10\n",
      "79900/79900 [==============================] - 39s 493us/step - loss: 8.2007e-04 - accuracy: 0.9998\n"
     ]
    },
    {
     "data": {
      "text/plain": [
       "<keras.callbacks.callbacks.History at 0x1cfcf527408>"
      ]
     },
     "execution_count": 9,
     "metadata": {},
     "output_type": "execute_result"
    },
    {
     "name": "stdout",
     "output_type": "stream",
     "text": [
      "accuracy_score 0.9995318483892769\n",
      "recall_score 0.7463976945244957\n",
      "precision_score 0.8519736842105263\n",
      "f1_score 0.7956989247311829\n",
      "======Training stage======\n",
      "Epoch 1/10\n",
      "79900/79900 [==============================] - 40s 500us/step - loss: 9.1797e-04 - accuracy: 0.9997\n",
      "Epoch 2/10\n",
      "79900/79900 [==============================] - 40s 504us/step - loss: 8.7580e-04 - accuracy: 0.9997\n",
      "Epoch 3/10\n",
      "79900/79900 [==============================] - 40s 502us/step - loss: 8.4543e-04 - accuracy: 0.9998\n",
      "Epoch 4/10\n",
      "79900/79900 [==============================] - 40s 502us/step - loss: 8.3017e-04 - accuracy: 0.9998\n",
      "Epoch 5/10\n",
      "79900/79900 [==============================] - 40s 501us/step - loss: 8.1954e-04 - accuracy: 0.9998\n",
      "Epoch 6/10\n",
      "79900/79900 [==============================] - 40s 501us/step - loss: 7.9601e-04 - accuracy: 0.9998\n",
      "Epoch 7/10\n",
      "79900/79900 [==============================] - 40s 504us/step - loss: 7.8111e-04 - accuracy: 0.9998\n",
      "Epoch 8/10\n",
      "79900/79900 [==============================] - 40s 503us/step - loss: 7.7380e-04 - accuracy: 0.9998\n",
      "Epoch 9/10\n",
      "79900/79900 [==============================] - 40s 504us/step - loss: 7.3249e-04 - accuracy: 0.9998\n",
      "Epoch 10/10\n",
      "79900/79900 [==============================] - 40s 503us/step - loss: 7.3410e-04 - accuracy: 0.9998\n"
     ]
    },
    {
     "data": {
      "text/plain": [
       "<keras.callbacks.callbacks.History at 0x1cfce904388>"
      ]
     },
     "execution_count": 9,
     "metadata": {},
     "output_type": "execute_result"
    },
    {
     "name": "stdout",
     "output_type": "stream",
     "text": [
      "accuracy_score 0.9995987271908088\n",
      "recall_score 0.7850746268656716\n",
      "precision_score 0.8622950819672132\n",
      "f1_score 0.8218750000000001\n",
      "======Training stage======\n",
      "Epoch 1/10\n",
      "79900/79900 [==============================] - 40s 503us/step - loss: 8.0277e-04 - accuracy: 0.9998\n",
      "Epoch 2/10\n",
      "79900/79900 [==============================] - 40s 502us/step - loss: 7.9450e-04 - accuracy: 0.9998\n",
      "Epoch 3/10\n",
      "79900/79900 [==============================] - 40s 502us/step - loss: 7.4444e-04 - accuracy: 0.9998\n",
      "Epoch 4/10\n",
      "79900/79900 [==============================] - 40s 504us/step - loss: 7.3608e-04 - accuracy: 0.9998\n",
      "Epoch 5/10\n",
      "79900/79900 [==============================] - 40s 502us/step - loss: 7.1076e-04 - accuracy: 0.9998\n",
      "Epoch 6/10\n",
      "79900/79900 [==============================] - 40s 503us/step - loss: 6.9351e-04 - accuracy: 0.9998\n",
      "Epoch 7/10\n",
      "79900/79900 [==============================] - 40s 503us/step - loss: 6.7572e-04 - accuracy: 0.9998\n",
      "Epoch 8/10\n",
      "79900/79900 [==============================] - 40s 502us/step - loss: 6.5993e-04 - accuracy: 0.9998\n",
      "Epoch 9/10\n",
      "79900/79900 [==============================] - 40s 503us/step - loss: 6.6749e-04 - accuracy: 0.9998\n",
      "Epoch 10/10\n",
      "79900/79900 [==============================] - 40s 503us/step - loss: 6.2823e-04 - accuracy: 0.9998\n"
     ]
    },
    {
     "data": {
      "text/plain": [
       "<keras.callbacks.callbacks.History at 0x1cfce911388>"
      ]
     },
     "execution_count": 9,
     "metadata": {},
     "output_type": "execute_result"
    },
    {
     "name": "stdout",
     "output_type": "stream",
     "text": [
      "accuracy_score 0.9996726458661861\n",
      "recall_score 0.8162650602409639\n",
      "precision_score 0.8943894389438944\n",
      "f1_score 0.8535433070866143\n",
      "======Training stage======\n",
      "Epoch 1/10\n",
      "79900/79900 [==============================] - 40s 505us/step - loss: 6.9732e-04 - accuracy: 0.9998\n",
      "Epoch 2/10\n",
      "79900/79900 [==============================] - 40s 505us/step - loss: 6.6112e-04 - accuracy: 0.9998\n",
      "Epoch 3/10\n",
      "79900/79900 [==============================] - 40s 504us/step - loss: 6.5027e-04 - accuracy: 0.9998s - loss: 6.5158e-04 - accura\n",
      "Epoch 4/10\n",
      "79900/79900 [==============================] - 40s 505us/step - loss: 6.3157e-04 - accuracy: 0.9998\n",
      "Epoch 5/10\n",
      "79900/79900 [==============================] - 40s 503us/step - loss: 6.0712e-04 - accuracy: 0.9998\n",
      "Epoch 6/10\n",
      "79900/79900 [==============================] - 40s 503us/step - loss: 5.9916e-04 - accuracy: 0.9998\n",
      "Epoch 7/10\n",
      "79900/79900 [==============================] - 40s 505us/step - loss: 5.8531e-04 - accuracy: 0.9998\n",
      "Epoch 8/10\n",
      "79900/79900 [==============================] - 44s 546us/step - loss: 5.6367e-04 - accuracy: 0.9999\n",
      "Epoch 9/10\n",
      "79900/79900 [==============================] - 44s 548us/step - loss: 5.5378e-04 - accuracy: 0.9999\n",
      "Epoch 10/10\n",
      "79900/79900 [==============================] - 44s 548us/step - loss: 5.3536e-04 - accuracy: 0.9999\n"
     ]
    },
    {
     "data": {
      "text/plain": [
       "<keras.callbacks.callbacks.History at 0x1cfcf527388>"
      ]
     },
     "execution_count": 9,
     "metadata": {},
     "output_type": "execute_result"
    },
    {
     "name": "stdout",
     "output_type": "stream",
     "text": [
      "accuracy_score 0.999648006307727\n",
      "recall_score 0.8270893371757925\n",
      "precision_score 0.8776758409785933\n",
      "f1_score 0.8516320474777448\n",
      "======Training stage======\n",
      "Epoch 1/10\n",
      "79901/79901 [==============================] - 44s 546us/step - loss: 6.5769e-04 - accuracy: 0.9998\n",
      "Epoch 2/10\n",
      "79901/79901 [==============================] - 44s 545us/step - loss: 6.0936e-04 - accuracy: 0.9998\n",
      "Epoch 3/10\n",
      "79901/79901 [==============================] - 44s 545us/step - loss: 6.0430e-04 - accuracy: 0.9998\n",
      "Epoch 4/10\n",
      "79901/79901 [==============================] - 44s 546us/step - loss: 5.7700e-04 - accuracy: 0.9998\n",
      "Epoch 5/10\n",
      "79901/79901 [==============================] - 44s 545us/step - loss: 5.4750e-04 - accuracy: 0.9999\n",
      "Epoch 6/10\n",
      "79901/79901 [==============================] - 44s 544us/step - loss: 5.5154e-04 - accuracy: 0.9999\n",
      "Epoch 7/10\n",
      "79901/79901 [==============================] - 44s 545us/step - loss: 5.2164e-04 - accuracy: 0.9999\n",
      "Epoch 8/10\n",
      "79901/79901 [==============================] - 44s 545us/step - loss: 5.2634e-04 - accuracy: 0.9999\n",
      "Epoch 9/10\n",
      "79901/79901 [==============================] - 44s 545us/step - loss: 5.1278e-04 - accuracy: 0.9999\n",
      "Epoch 10/10\n",
      "79901/79901 [==============================] - 44s 546us/step - loss: 5.2878e-04 - accuracy: 0.9999\n"
     ]
    },
    {
     "data": {
      "text/plain": [
       "<keras.callbacks.callbacks.History at 0x1cfce906388>"
      ]
     },
     "execution_count": 9,
     "metadata": {},
     "output_type": "execute_result"
    },
    {
     "name": "stdout",
     "output_type": "stream",
     "text": [
      "accuracy_score 0.9996761293229695\n",
      "recall_score 0.8493506493506493\n",
      "precision_score 0.9058171745152355\n",
      "f1_score 0.8766756032171581\n",
      "======Training stage======\n",
      "Epoch 1/10\n",
      "79901/79901 [==============================] - 44s 546us/step - loss: 5.7997e-04 - accuracy: 0.9998\n",
      "Epoch 2/10\n",
      "79901/79901 [==============================] - 44s 546us/step - loss: 5.7639e-04 - accuracy: 0.9998\n",
      "Epoch 3/10\n",
      "79901/79901 [==============================] - 44s 545us/step - loss: 5.4381e-04 - accuracy: 0.9999\n",
      "Epoch 4/10\n",
      "79901/79901 [==============================] - 44s 545us/step - loss: 5.3137e-04 - accuracy: 0.9999\n",
      "Epoch 5/10\n",
      "79901/79901 [==============================] - 44s 545us/step - loss: 4.9847e-04 - accuracy: 0.9999\n",
      "Epoch 6/10\n",
      "79901/79901 [==============================] - 44s 545us/step - loss: 5.0386e-04 - accuracy: 0.9999\n",
      "Epoch 7/10\n",
      "79901/79901 [==============================] - 44s 545us/step - loss: 4.9492e-04 - accuracy: 0.9999\n",
      "Epoch 8/10\n",
      "79901/79901 [==============================] - 44s 548us/step - loss: 4.8950e-04 - accuracy: 0.9999\n",
      "Epoch 9/10\n",
      "79901/79901 [==============================] - 44s 548us/step - loss: 4.8120e-04 - accuracy: 0.9999\n",
      "Epoch 10/10\n",
      "79901/79901 [==============================] - 44s 547us/step - loss: 4.4708e-04 - accuracy: 0.9999\n"
     ]
    },
    {
     "data": {
      "text/plain": [
       "<keras.callbacks.callbacks.History at 0x1cfcf50d888>"
      ]
     },
     "execution_count": 9,
     "metadata": {},
     "output_type": "execute_result"
    },
    {
     "name": "stdout",
     "output_type": "stream",
     "text": [
      "accuracy_score 0.9997042919905373\n",
      "recall_score 0.8518518518518519\n",
      "precision_score 0.92\n",
      "f1_score 0.8846153846153846\n",
      "\n",
      "K-fold cross validation Accuracy: [0.9993171322369904, 0.9994755293985131, 0.9995177686415859, 0.9995353683261996, 0.9995318483892769, 0.9995987271908088, 0.9996726458661861, 0.999648006307727, 0.9996761293229695, 0.9997042919905373]\n",
      "\n",
      "K-fold cross validation Recall: [0.6203966005665722, 0.7713414634146342, 0.7941176470588235, 0.7530120481927711, 0.7463976945244957, 0.7850746268656716, 0.8162650602409639, 0.8270893371757925, 0.8493506493506493, 0.8518518518518519]\n",
      "\n",
      "K-fold cross validation Precision: [0.7849462365591398, 0.7737003058103975, 0.8011869436201781, 0.8333333333333334, 0.8519736842105263, 0.8622950819672132, 0.8943894389438944, 0.8776758409785933, 0.9058171745152355, 0.92]\n",
      "\n",
      "K-fold cross validation F1-Score: [0.6930379746835442, 0.7725190839694657, 0.7976366322008863, 0.7911392405063291, 0.7956989247311829, 0.8218750000000001, 0.8535433070866143, 0.8516320474777448, 0.8766756032171581, 0.8846153846153846]\n"
     ]
    }
   ],
   "source": [
    "# 교차검증 kfold\n",
    "from sklearn.model_selection import KFold\n",
    "\n",
    "# Accuracy, Precision, Recall, F1-Score\n",
    "from sklearn.metrics import accuracy_score, recall_score, precision_score, f1_score\n",
    "\n",
    "# Confusion Matrix, ROC Curve\n",
    "from sklearn.metrics import confusion_matrix, roc_auc_score\n",
    "\n",
    "# 최종 평가지표들 평균용\n",
    "accuracy, recall, precision, f1score, cm = [], [], [], [], []\n",
    "\n",
    "# 11. 교차검증 kfold - k.split - 10회 / K-Fold 객체 생성\n",
    "# kf = KFold(n_splits=10, shuffle=False, random_state=None) # KFold non shuffle 버전\n",
    "kf = KFold(n_splits=10, shuffle=True, random_state=None) # KFold non shuffle 버전\n",
    "\n",
    "for train, validation in kf.split(x_gcc6_0_32_3, y_gcc6_0_32_3):\n",
    "    print('======Training stage======')\n",
    "    model1.fit(x_gcc6_0_32_3[train],\n",
    "               y_gcc6_0_32_3[train],\n",
    "               epochs = 10,\n",
    "               batch_size = 32,\n",
    "               callbacks=[early_stopping])\n",
    "    #k_accuracy = '%.4f' %(model1.evaluate(data_10000x[validation], data_10000y[validation])[1])\n",
    "\n",
    "# 12. 교차검증결과 predict - 검증셋들\n",
    "    # predict 값\n",
    "    k_pr = model1.predict(x_gcc6_0_32_3[validation])\n",
    "    \n",
    "    # 테스트 predict 결과들 비교 (평가지표 보기위함)\n",
    "    pred = np.round(np.array(k_pr).flatten().tolist())\n",
    "    y_test = np.array(y_gcc6_0_32_3[validation]).flatten().tolist()\n",
    "    \n",
    "# 13. 평가지표들 출력\n",
    "    ## 평가지표들\n",
    "    k_accuracy = float(accuracy_score(y_test, pred))\n",
    "    k_recall =  float(recall_score(y_test, pred))\n",
    "    k_precision = float(precision_score(y_test, pred))\n",
    "    k_f1_score = float(f1_score(y_test, pred))\n",
    "    #k_cm = float(confusion_matrix(y_test, pred))\n",
    "    \n",
    "    print('accuracy_score', k_accuracy)\n",
    "    print('recall_score', k_recall)\n",
    "    print('precision_score', k_precision)\n",
    "    print('f1_score', k_f1_score)\n",
    "    #print('\\nconfusion_matrix\\n', k_cm)\n",
    "\n",
    "    accuracy.append(k_accuracy)\n",
    "    recall.append(k_recall)\n",
    "    precision.append(k_precision)\n",
    "    f1score.append(k_f1_score)\n",
    "    #cm.append(k_cm)\n",
    "#    print('roc_curve 면적', roc_auc_score(y_test, pred))\n",
    "\n",
    "# 14. 최종 결과지표\n",
    "print('\\nK-fold cross validation Accuracy: {}'.format(accuracy))\n",
    "print('\\nK-fold cross validation Recall: {}'.format(recall))\n",
    "print('\\nK-fold cross validation Precision: {}'.format(precision))\n",
    "print('\\nK-fold cross validation F1-Score: {}'.format(f1score))\n",
    "#print('\\nK-fold cross validation ConfusionMatrix: {}'.format(cm))"
   ]
  },
  {
   "cell_type": "markdown",
   "metadata": {},
   "source": [
    "## (9) 평가지표"
   ]
  },
  {
   "cell_type": "code",
   "execution_count": 10,
   "metadata": {},
   "outputs": [
    {
     "name": "stdout",
     "output_type": "stream",
     "text": [
      "10-Fold Cross_validation. Accuracy : 0.9995677447670795\n",
      "10-Fold Cross_validation. Recall : 0.7814896979242225\n",
      "10-Fold Cross_validation. Precision : 0.8505318039938512\n",
      "10-Fold Cross_validation. F1-Score : 0.8138373198488311\n"
     ]
    }
   ],
   "source": [
    "print('10-Fold Cross_validation. Accuracy :', np.mean(accuracy))\n",
    "print('10-Fold Cross_validation. Recall :', np.mean(recall))\n",
    "print('10-Fold Cross_validation. Precision :', np.mean(precision))\n",
    "print('10-Fold Cross_validation. F1-Score :', np.mean(f1score))"
   ]
  }
 ],
 "metadata": {
  "kernelspec": {
   "display_name": "Python 3",
   "language": "python",
   "name": "python3"
  },
  "language_info": {
   "codemirror_mode": {
    "name": "ipython",
    "version": 3
   },
   "file_extension": ".py",
   "mimetype": "text/x-python",
   "name": "python",
   "nbconvert_exporter": "python",
   "pygments_lexer": "ipython3",
   "version": "3.7.6"
  }
 },
 "nbformat": 4,
 "nbformat_minor": 4
}
