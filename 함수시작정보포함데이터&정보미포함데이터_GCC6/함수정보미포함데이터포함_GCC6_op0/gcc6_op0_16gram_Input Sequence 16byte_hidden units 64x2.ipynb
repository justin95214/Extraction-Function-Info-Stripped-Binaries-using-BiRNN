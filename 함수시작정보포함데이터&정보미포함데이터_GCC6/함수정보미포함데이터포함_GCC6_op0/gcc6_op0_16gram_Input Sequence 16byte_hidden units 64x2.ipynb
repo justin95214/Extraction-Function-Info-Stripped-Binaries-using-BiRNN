{
 "cells": [
  {
   "cell_type": "markdown",
   "metadata": {},
   "source": [
    "## RNN 모델 N-Byte 방식 (함수정보 포함 vs 미포함 => 1:1 비율)\n",
    "\n",
    "## (1) 데이터로드"
   ]
  },
  {
   "cell_type": "code",
   "execution_count": 21,
   "metadata": {},
   "outputs": [
    {
     "name": "stdout",
     "output_type": "stream",
     "text": [
      "(13936744, 2)\n",
      "reset_index 완료\n",
      "input data shape\n"
     ]
    },
    {
     "data": {
      "text/html": [
       "<div>\n",
       "<style scoped>\n",
       "    .dataframe tbody tr th:only-of-type {\n",
       "        vertical-align: middle;\n",
       "    }\n",
       "\n",
       "    .dataframe tbody tr th {\n",
       "        vertical-align: top;\n",
       "    }\n",
       "\n",
       "    .dataframe thead th {\n",
       "        text-align: right;\n",
       "    }\n",
       "</style>\n",
       "<table border=\"1\" class=\"dataframe\">\n",
       "  <thead>\n",
       "    <tr style=\"text-align: right;\">\n",
       "      <th></th>\n",
       "      <th>bin</th>\n",
       "      <th>label</th>\n",
       "    </tr>\n",
       "  </thead>\n",
       "  <tbody>\n",
       "    <tr>\n",
       "      <th>0</th>\n",
       "      <td>53</td>\n",
       "      <td>1</td>\n",
       "    </tr>\n",
       "    <tr>\n",
       "      <th>1</th>\n",
       "      <td>83</td>\n",
       "      <td>0</td>\n",
       "    </tr>\n",
       "    <tr>\n",
       "      <th>2</th>\n",
       "      <td>ec</td>\n",
       "      <td>0</td>\n",
       "    </tr>\n",
       "    <tr>\n",
       "      <th>3</th>\n",
       "      <td>08</td>\n",
       "      <td>0</td>\n",
       "    </tr>\n",
       "    <tr>\n",
       "      <th>4</th>\n",
       "      <td>e8</td>\n",
       "      <td>0</td>\n",
       "    </tr>\n",
       "  </tbody>\n",
       "</table>\n",
       "</div>"
      ],
      "text/plain": [
       "  bin  label\n",
       "0  53      1\n",
       "1  83      0\n",
       "2  ec      0\n",
       "3  08      0\n",
       "4  e8      0"
      ]
     },
     "execution_count": 21,
     "metadata": {},
     "output_type": "execute_result"
    }
   ],
   "source": [
    "# (1) 데이터로드\n",
    "import pandas as pd\n",
    "import numpy as np\n",
    "\n",
    "import warnings\n",
    "warnings.filterwarnings(action='ignore')\n",
    "\n",
    "# 여러개 쳐도 나오게\n",
    "from IPython.core.interactiveshell import InteractiveShell\n",
    "InteractiveShell.ast_node_interactivity = \"all\"\n",
    "\n",
    "# 파일읽기\n",
    "gcc6_0_32 = pd.read_csv(\"../data/binutils_gcc3~9_op0~4_exec_csv/\"+'gcc6'+\"_0_32_exec.csv\", index_col=0)\n",
    "\n",
    "# 형태 출력\n",
    "print(gcc6_0_32.shape)\n",
    "\n",
    "# reset_index (hex processing 하면서 값이 빠졌으니까 + n_gram 에서 index를 다루기 때문에)\n",
    "gcc6_0_32.reset_index(inplace=True, drop=True)\n",
    "\n",
    "print('reset_index 완료')\n",
    "print('input data shape')\n",
    "gcc6_0_32.head()"
   ]
  },
  {
   "cell_type": "code",
   "execution_count": 22,
   "metadata": {},
   "outputs": [
    {
     "name": "stdout",
     "output_type": "stream",
     "text": [
      "256\n",
      "0    13892354\n",
      "1       44390\n",
      "Name: label, dtype: int64\n"
     ]
    }
   ],
   "source": [
    "# (2-1) 데이터체크 1 - hex(16진수)가 256 label을 가져야 dummies 변환 가능 \n",
    "\n",
    "# 16진수 256개 종류가 있어서 pd.get_dummies 사용 가능.\n",
    "print(len(gcc6_0_32['bin'].unique()))\n",
    "\n",
    "# (2-2) 데이터 체크 2 - 1, 0 비율 ==> 1이 함수의 갯수를 뜻함\n",
    "# 정답 데이터 1, 0 비율 확인  ==> 1이 함수의 갯수를 뜻함\n",
    "print(gcc6_0_32['label'].value_counts())"
   ]
  },
  {
   "cell_type": "markdown",
   "metadata": {},
   "source": [
    "## (3) N Byte씩 자르기"
   ]
  },
  {
   "cell_type": "code",
   "execution_count": 23,
   "metadata": {},
   "outputs": [
    {
     "name": "stdout",
     "output_type": "stream",
     "text": [
      "710240\n",
      "나머지 0\n",
      "최종 길이 710240\n",
      "gcc6_0_32 710240\n"
     ]
    }
   ],
   "source": [
    "######################## \n",
    "idx = gcc6_0_32[gcc6_0_32['label']==1].index  # 407, 474 ...\n",
    "ls = list(idx)\n",
    "\n",
    "# 최종 뽑을 행에 대한 index\n",
    "ls_idx = [] \n",
    "left_idx, right_idx = 0, 16 # 3개씩\n",
    "\n",
    "# 6gram\n",
    "for k in range(left_idx, right_idx):\n",
    "    ls_idx.extend(list(idx + k)) # index 형이라서 가능\n",
    "\n",
    "#ls_idx = list(set(ls_idx)) \n",
    "ls_idx.sort() # 인덱스 정렬\n",
    "\n",
    "# 1차 index 해당범위 초과한 것들 없애기\n",
    "ls_idx = list(filter(lambda x: x<len(gcc6_0_32), ls_idx))\n",
    "print(len(ls_idx))\n",
    "\n",
    "# 2차 남은 index들 중 right_idx 나눈 나머지 없애기\n",
    "sub = len(ls_idx)%(right_idx)\n",
    "print('나머지', sub)\n",
    "\n",
    "ls_idx = ls_idx[:len(ls_idx)-sub]\n",
    "print('최종 길이', len(ls_idx))\n",
    "\n",
    "print('gcc6_0_32', len(ls_idx))\n",
    "\n",
    "# loc 로 수정필요\n",
    "gcc6_0_32_Ngram = gcc6_0_32.loc[ls_idx,:].copy()"
   ]
  },
  {
   "cell_type": "markdown",
   "metadata": {},
   "source": [
    "## (4) false data 만들기"
   ]
  },
  {
   "cell_type": "code",
   "execution_count": 24,
   "metadata": {},
   "outputs": [
    {
     "name": "stdout",
     "output_type": "stream",
     "text": [
      "0 1000 2000 3000 4000 5000 6000 7000 8000 9000 10000 11000 12000 13000 14000 15000 16000 17000 18000 19000 20000 21000 22000 23000 24000 25000 26000 27000 28000 29000 30000 31000 32000 33000 34000 35000 36000 37000 38000 39000 40000 41000 42000 43000 44000 완료\n"
     ]
    }
   ],
   "source": [
    "# false data 만들기 - False 데이터 랜덤 생성\n",
    "# random index\n",
    "random_idx = np.random.randint(len(gcc6_0_32)-right_idx)\n",
    "\n",
    "# 목표치\n",
    "goal = len(gcc6_0_32_Ngram)/right_idx\n",
    "count=0\n",
    "\n",
    "d = pd.DataFrame(columns=gcc6_0_32.columns)\n",
    "\n",
    "# goal 에 도달할 때까지\n",
    "while count!=goal:\n",
    "    \n",
    "    # 진행상황 살펴보기 위함\n",
    "    if count%1000==0:\n",
    "        print(count, end=' ')\n",
    "        \n",
    "    # 랜덤 N 바이트씩 뽑음\n",
    "    df = gcc6_0_32[random_idx:random_idx+right_idx]\n",
    "    \n",
    "    # 뽑은 index의 N 바이트 중에 1이 없는 경우만\n",
    "    if 1 not in df['label']:\n",
    "        d = pd.concat([d, df])\n",
    "        count+=1\n",
    "\n",
    "print('완료')"
   ]
  },
  {
   "cell_type": "markdown",
   "metadata": {},
   "source": [
    "## (5) False Data + True Data 합치기"
   ]
  },
  {
   "cell_type": "code",
   "execution_count": 25,
   "metadata": {},
   "outputs": [
    {
     "name": "stdout",
     "output_type": "stream",
     "text": [
      "0 1000 2000 3000 4000 5000 6000 7000 8000 9000 10000 11000 12000 13000 14000 15000 16000 17000 18000 19000 20000 21000 22000 23000 24000 25000 26000 27000 28000 29000 30000 31000 32000 33000 34000 35000 36000 37000 38000 39000 40000 41000 42000 43000 44000 "
     ]
    },
    {
     "data": {
      "text/plain": [
       "(1420480, 2)"
      ]
     },
     "execution_count": 25,
     "metadata": {},
     "output_type": "execute_result"
    }
   ],
   "source": [
    "ff = pd.DataFrame(columns=gcc6_0_32.columns)\n",
    "\n",
    "for i in range(0, int(len(d)/right_idx)):\n",
    "    ff = pd.concat([ff, gcc6_0_32[i*right_idx:(i+1)*right_idx], d[i*right_idx:(i+1)*right_idx]])\n",
    "    \n",
    "    if i%1000==0:\n",
    "        print(i, end=' ')\n",
    "ff.shape"
   ]
  },
  {
   "cell_type": "markdown",
   "metadata": {},
   "source": [
    "## (6) one hot encoding"
   ]
  },
  {
   "cell_type": "code",
   "execution_count": 26,
   "metadata": {},
   "outputs": [
    {
     "name": "stdout",
     "output_type": "stream",
     "text": [
      "원핫인코딩완료\n",
      "(1420480, 257)\n"
     ]
    }
   ],
   "source": [
    "# 훈련데이터 (gcc 최적화버전 0, 1, 2, 3 one hot encoding)\n",
    "gcc6_0_32_onehot_Ngram = pd.get_dummies(ff['bin'])\n",
    "gcc6_0_32_onehot_Ngram = pd.concat([ff['label'], gcc6_0_32_onehot_Ngram], axis=1)\n",
    "\n",
    "print('원핫인코딩완료')\n",
    "print(gcc6_0_32_onehot_Ngram.shape)"
   ]
  },
  {
   "cell_type": "code",
   "execution_count": 27,
   "metadata": {},
   "outputs": [
    {
     "name": "stdout",
     "output_type": "stream",
     "text": [
      "(1420480, 256) (1420480,)\n",
      "(88780, 16, 256) (88780, 16, 1)\n"
     ]
    }
   ],
   "source": [
    "# 훈련 데이터, 훈련 라벨\n",
    "x_gcc6_0_32_3 = gcc6_0_32_onehot_Ngram.iloc[:,1:].to_numpy()\n",
    "y_gcc6_0_32_3 = gcc6_0_32_onehot_Ngram['label'].to_numpy()\n",
    "print(x_gcc6_0_32_3.shape, y_gcc6_0_32_3.shape)\n",
    "\n",
    "x_gcc6_0_32_3 = x_gcc6_0_32_3.reshape(-1, right_idx, x_gcc6_0_32_3.shape[1])\n",
    "y_gcc6_0_32_3 = y_gcc6_0_32_3.reshape(-1, right_idx, 1)\n",
    "\n",
    "print(x_gcc6_0_32_3.shape, y_gcc6_0_32_3.shape)"
   ]
  },
  {
   "cell_type": "markdown",
   "metadata": {},
   "source": [
    "## (7) 모델"
   ]
  },
  {
   "cell_type": "code",
   "execution_count": 28,
   "metadata": {},
   "outputs": [],
   "source": [
    "# (10) 양방향 LSTM 모델링 작업\n",
    "from keras.models import Model, Sequential\n",
    "from keras.layers import SimpleRNN, Input, Dense, LSTM\n",
    "from keras.layers import Bidirectional, TimeDistributed\n",
    "\n",
    "# 학습\n",
    "from keras.callbacks import EarlyStopping\n",
    "early_stopping = EarlyStopping(patience = 3) # 조기종료 콜백함수 정의\n",
    "\n",
    "xInput = Input(batch_shape=(None,right_idx, 256)) \n",
    "xBiLstm = Bidirectional(LSTM(64, return_sequences=True), merge_mode = 'concat')(xInput)\n",
    "xOutput = TimeDistributed(Dense(1, activation ='sigmoid'))(xBiLstm) # 각 스텝에서 cost가 전송되고, 오류가 다음 step으로 전송됨."
   ]
  },
  {
   "cell_type": "markdown",
   "metadata": {},
   "source": [
    "## (8) 학습 - 10 KFold"
   ]
  },
  {
   "cell_type": "code",
   "execution_count": 29,
   "metadata": {
    "scrolled": false
   },
   "outputs": [
    {
     "name": "stdout",
     "output_type": "stream",
     "text": [
      "Model: \"model_21\"\n",
      "_________________________________________________________________\n",
      "Layer (type)                 Output Shape              Param #   \n",
      "=================================================================\n",
      "input_3 (InputLayer)         (None, 16, 256)           0         \n",
      "_________________________________________________________________\n",
      "bidirectional_3 (Bidirection (None, 16, 128)           164352    \n",
      "_________________________________________________________________\n",
      "time_distributed_3 (TimeDist (None, 16, 1)             129       \n",
      "=================================================================\n",
      "Total params: 164,481\n",
      "Trainable params: 164,481\n",
      "Non-trainable params: 0\n",
      "_________________________________________________________________\n",
      "======Training stage======\n",
      "Epoch 1/10\n",
      "79902/79902 [==============================] - 54s 673us/step - loss: 0.0059 - accuracy: 0.9989\n",
      "Epoch 2/10\n",
      "79902/79902 [==============================] - 52s 656us/step - loss: 0.0028 - accuracy: 0.9992\n",
      "Epoch 3/10\n",
      "79902/79902 [==============================] - 53s 657us/step - loss: 0.0027 - accuracy: 0.9992\n",
      "Epoch 4/10\n",
      "79902/79902 [==============================] - 52s 657us/step - loss: 0.0025 - accuracy: 0.9992\n",
      "Epoch 5/10\n",
      "79902/79902 [==============================] - 52s 656us/step - loss: 0.0024 - accuracy: 0.9993\n",
      "Epoch 6/10\n",
      "79902/79902 [==============================] - 53s 659us/step - loss: 0.0023 - accuracy: 0.9993\n",
      "Epoch 7/10\n",
      "79902/79902 [==============================] - 53s 667us/step - loss: 0.0023 - accuracy: 0.9993\n",
      "Epoch 8/10\n",
      "79902/79902 [==============================] - 51s 633us/step - loss: 0.0023 - accuracy: 0.9993\n",
      "Epoch 9/10\n",
      "79902/79902 [==============================] - 52s 653us/step - loss: 0.0022 - accuracy: 0.9993\n",
      "Epoch 10/10\n",
      "79902/79902 [==============================] - 52s 655us/step - loss: 0.0021 - accuracy: 0.9994\n"
     ]
    },
    {
     "data": {
      "text/plain": [
       "<keras.callbacks.callbacks.History at 0x21c984f6a88>"
      ]
     },
     "execution_count": 29,
     "metadata": {},
     "output_type": "execute_result"
    },
    {
     "name": "stdout",
     "output_type": "stream",
     "text": [
      "accuracy_score 0.9993945708492904\n",
      "recall_score 0.7293233082706767\n",
      "precision_score 0.6598639455782312\n",
      "f1_score 0.692857142857143\n",
      "Model: \"model_22\"\n",
      "_________________________________________________________________\n",
      "Layer (type)                 Output Shape              Param #   \n",
      "=================================================================\n",
      "input_3 (InputLayer)         (None, 16, 256)           0         \n",
      "_________________________________________________________________\n",
      "bidirectional_3 (Bidirection (None, 16, 128)           164352    \n",
      "_________________________________________________________________\n",
      "time_distributed_3 (TimeDist (None, 16, 1)             129       \n",
      "=================================================================\n",
      "Total params: 164,481\n",
      "Trainable params: 164,481\n",
      "Non-trainable params: 0\n",
      "_________________________________________________________________\n",
      "======Training stage======\n",
      "Epoch 1/10\n",
      "79902/79902 [==============================] - 57s 715us/step - loss: 0.0021 - accuracy: 0.9994\n",
      "Epoch 2/10\n",
      "79902/79902 [==============================] - 56s 705us/step - loss: 0.0020 - accuracy: 0.9994\n",
      "Epoch 3/10\n",
      "79902/79902 [==============================] - 56s 700us/step - loss: 0.0020 - accuracy: 0.9994\n",
      "Epoch 4/10\n",
      "79902/79902 [==============================] - 56s 702us/step - loss: 0.0020 - accuracy: 0.9994\n",
      "Epoch 5/10\n",
      "79902/79902 [==============================] - 56s 696us/step - loss: 0.0019 - accuracy: 0.9994\n",
      "Epoch 6/10\n",
      "79902/79902 [==============================] - 56s 702us/step - loss: 0.0019 - accuracy: 0.9994\n",
      "Epoch 7/10\n",
      "79902/79902 [==============================] - 56s 705us/step - loss: 0.0018 - accuracy: 0.9995\n",
      "Epoch 8/10\n",
      "79902/79902 [==============================] - 56s 707us/step - loss: 0.0017 - accuracy: 0.9995\n",
      "Epoch 9/10\n",
      "79902/79902 [==============================] - 56s 705us/step - loss: 0.0017 - accuracy: 0.9995\n",
      "Epoch 10/10\n",
      "79902/79902 [==============================] - 57s 709us/step - loss: 0.0016 - accuracy: 0.9995\n"
     ]
    },
    {
     "data": {
      "text/plain": [
       "<keras.callbacks.callbacks.History at 0x21ca820a288>"
      ]
     },
     "execution_count": 29,
     "metadata": {},
     "output_type": "execute_result"
    },
    {
     "name": "stdout",
     "output_type": "stream",
     "text": [
      "accuracy_score 0.9992256138769994\n",
      "recall_score 0.5763888888888888\n",
      "precision_score 0.6287878787878788\n",
      "f1_score 0.6014492753623187\n",
      "Model: \"model_23\"\n",
      "_________________________________________________________________\n",
      "Layer (type)                 Output Shape              Param #   \n",
      "=================================================================\n",
      "input_3 (InputLayer)         (None, 16, 256)           0         \n",
      "_________________________________________________________________\n",
      "bidirectional_3 (Bidirection (None, 16, 128)           164352    \n",
      "_________________________________________________________________\n",
      "time_distributed_3 (TimeDist (None, 16, 1)             129       \n",
      "=================================================================\n",
      "Total params: 164,481\n",
      "Trainable params: 164,481\n",
      "Non-trainable params: 0\n",
      "_________________________________________________________________\n",
      "======Training stage======\n",
      "Epoch 1/10\n",
      "79902/79902 [==============================] - 63s 787us/step - loss: 0.0017 - accuracy: 0.9995\n",
      "Epoch 2/10\n",
      "79902/79902 [==============================] - 61s 768us/step - loss: 0.0016 - accuracy: 0.9995\n",
      "Epoch 3/10\n",
      "79902/79902 [==============================] - 72s 897us/step - loss: 0.0015 - accuracy: 0.9995s - loss: 0.0015 - ac - ETA: 0s - loss: 0.001\n",
      "Epoch 4/10\n",
      "79902/79902 [==============================] - 74s 920us/step - loss: 0.0015 - accuracy: 0.9996\n",
      "Epoch 5/10\n",
      "79902/79902 [==============================] - 73s 914us/step - loss: 0.0015 - accuracy: 0.9996s - - ETA: 0s - loss: 0.0015 - accura\n",
      "Epoch 6/10\n",
      "79902/79902 [==============================] - 73s 916us/step - loss: 0.0014 - accuracy: 0.9996s -\n",
      "Epoch 7/10\n",
      "79902/79902 [==============================] - 73s 919us/step - loss: 0.0013 - accuracy: 0.9996s - loss: 0.0013 - ac\n",
      "Epoch 8/10\n",
      "79902/79902 [==============================] - 73s 920us/step - loss: 0.0013 - accuracy: 0.9996s - loss: 0 - - ETA: 0s - loss: 0.0013 - accura\n",
      "Epoch 9/10\n",
      "79902/79902 [==============================] - 74s 923us/step - loss: 0.0012 - accuracy: 0.9996\n",
      "Epoch 10/10\n",
      "79902/79902 [==============================] - 74s 923us/step - loss: 0.0011 - accuracy: 0.9997\n"
     ]
    },
    {
     "data": {
      "text/plain": [
       "<keras.callbacks.callbacks.History at 0x21cbfdc3d08>"
      ]
     },
     "execution_count": 29,
     "metadata": {},
     "output_type": "execute_result"
    },
    {
     "name": "stdout",
     "output_type": "stream",
     "text": [
      "accuracy_score 0.9993030524892994\n",
      "recall_score 0.5426829268292683\n",
      "precision_score 0.7876106194690266\n",
      "f1_score 0.6425992779783395\n",
      "Model: \"model_24\"\n",
      "_________________________________________________________________\n",
      "Layer (type)                 Output Shape              Param #   \n",
      "=================================================================\n",
      "input_3 (InputLayer)         (None, 16, 256)           0         \n",
      "_________________________________________________________________\n",
      "bidirectional_3 (Bidirection (None, 16, 128)           164352    \n",
      "_________________________________________________________________\n",
      "time_distributed_3 (TimeDist (None, 16, 1)             129       \n",
      "=================================================================\n",
      "Total params: 164,481\n",
      "Trainable params: 164,481\n",
      "Non-trainable params: 0\n",
      "_________________________________________________________________\n",
      "======Training stage======\n",
      "Epoch 1/10\n",
      "79902/79902 [==============================] - 79s 991us/step - loss: 0.0013 - accuracy: 0.9996\n",
      "Epoch 2/10\n",
      "79902/79902 [==============================] - 79s 983us/step - loss: 0.0011 - accuracy: 0.9997s - loss: 0.001\n",
      "Epoch 3/10\n",
      "79902/79902 [==============================] - 73s 918us/step - loss: 0.0010 - accuracy: 0.9997\n",
      "Epoch 4/10\n",
      "79902/79902 [==============================] - 53s 664us/step - loss: 9.7682e-04 - accuracy: 0.9997\n",
      "Epoch 5/10\n",
      "79902/79902 [==============================] - 53s 665us/step - loss: 9.0493e-04 - accuracy: 0.9997\n",
      "Epoch 6/10\n",
      "79902/79902 [==============================] - 53s 664us/step - loss: 8.6207e-04 - accuracy: 0.9997\n",
      "Epoch 7/10\n",
      "79902/79902 [==============================] - 53s 664us/step - loss: 8.0620e-04 - accuracy: 0.9998\n",
      "Epoch 8/10\n",
      "79902/79902 [==============================] - 54s 670us/step - loss: 7.3853e-04 - accuracy: 0.9998\n",
      "Epoch 9/10\n",
      "79902/79902 [==============================] - 55s 685us/step - loss: 6.9572e-04 - accuracy: 0.9998\n",
      "Epoch 10/10\n",
      "79902/79902 [==============================] - 58s 732us/step - loss: 6.5472e-04 - accuracy: 0.9998\n"
     ]
    },
    {
     "data": {
      "text/plain": [
       "<keras.callbacks.callbacks.History at 0x21cac0a03c8>"
      ]
     },
     "execution_count": 29,
     "metadata": {},
     "output_type": "execute_result"
    },
    {
     "name": "stdout",
     "output_type": "stream",
     "text": [
      "accuracy_score 0.999373451227754\n",
      "recall_score 0.6628571428571428\n",
      "precision_score 0.7945205479452054\n",
      "f1_score 0.7227414330218067\n",
      "Model: \"model_25\"\n",
      "_________________________________________________________________\n",
      "Layer (type)                 Output Shape              Param #   \n",
      "=================================================================\n",
      "input_3 (InputLayer)         (None, 16, 256)           0         \n",
      "_________________________________________________________________\n",
      "bidirectional_3 (Bidirection (None, 16, 128)           164352    \n",
      "_________________________________________________________________\n",
      "time_distributed_3 (TimeDist (None, 16, 1)             129       \n",
      "=================================================================\n",
      "Total params: 164,481\n",
      "Trainable params: 164,481\n",
      "Non-trainable params: 0\n",
      "_________________________________________________________________\n",
      "======Training stage======\n",
      "Epoch 1/10\n",
      "79902/79902 [==============================] - 61s 769us/step - loss: 9.4521e-04 - accuracy: 0.9997\n",
      "Epoch 2/10\n",
      "79902/79902 [==============================] - 60s 756us/step - loss: 7.9549e-04 - accuracy: 0.9998\n",
      "Epoch 3/10\n",
      "79902/79902 [==============================] - 60s 755us/step - loss: 7.8210e-04 - accuracy: 0.9998\n",
      "Epoch 4/10\n",
      "79902/79902 [==============================] - 61s 761us/step - loss: 6.7193e-04 - accuracy: 0.9998\n",
      "Epoch 5/10\n",
      "79902/79902 [==============================] - 61s 758us/step - loss: 5.9727e-04 - accuracy: 0.9998\n",
      "Epoch 6/10\n",
      "79902/79902 [==============================] - 61s 758us/step - loss: 5.6914e-04 - accuracy: 0.9998\n",
      "Epoch 7/10\n",
      "79902/79902 [==============================] - 60s 755us/step - loss: 5.6873e-04 - accuracy: 0.9998\n",
      "Epoch 8/10\n",
      "79902/79902 [==============================] - 61s 758us/step - loss: 5.4421e-04 - accuracy: 0.9999\n",
      "Epoch 9/10\n",
      "79902/79902 [==============================] - 61s 761us/step - loss: 5.0457e-04 - accuracy: 0.9999\n",
      "Epoch 10/10\n",
      "79902/79902 [==============================] - 61s 764us/step - loss: 5.1608e-04 - accuracy: 0.9998\n"
     ]
    },
    {
     "data": {
      "text/plain": [
       "<keras.callbacks.callbacks.History at 0x21cbfa13a48>"
      ]
     },
     "execution_count": 29,
     "metadata": {},
     "output_type": "execute_result"
    },
    {
     "name": "stdout",
     "output_type": "stream",
     "text": [
      "accuracy_score 0.9995987271908088\n",
      "recall_score 0.7314285714285714\n",
      "precision_score 0.927536231884058\n",
      "f1_score 0.817891373801917\n",
      "Model: \"model_26\"\n",
      "_________________________________________________________________\n",
      "Layer (type)                 Output Shape              Param #   \n",
      "=================================================================\n",
      "input_3 (InputLayer)         (None, 16, 256)           0         \n",
      "_________________________________________________________________\n",
      "bidirectional_3 (Bidirection (None, 16, 128)           164352    \n",
      "_________________________________________________________________\n",
      "time_distributed_3 (TimeDist (None, 16, 1)             129       \n",
      "=================================================================\n",
      "Total params: 164,481\n",
      "Trainable params: 164,481\n",
      "Non-trainable params: 0\n",
      "_________________________________________________________________\n",
      "======Training stage======\n",
      "Epoch 1/10\n",
      "79902/79902 [==============================] - 65s 814us/step - loss: 7.5635e-04 - accuracy: 0.9998\n",
      "Epoch 2/10\n",
      "79902/79902 [==============================] - 65s 808us/step - loss: 5.5802e-04 - accuracy: 0.9998\n",
      "Epoch 3/10\n",
      "79902/79902 [==============================] - 64s 802us/step - loss: 5.3367e-04 - accuracy: 0.9998\n",
      "Epoch 4/10\n",
      "79902/79902 [==============================] - 64s 800us/step - loss: 5.0000e-04 - accuracy: 0.9998\n",
      "Epoch 5/10\n",
      "79902/79902 [==============================] - 64s 796us/step - loss: 4.7406e-04 - accuracy: 0.9999\n",
      "Epoch 6/10\n",
      "79902/79902 [==============================] - 64s 798us/step - loss: 4.1110e-04 - accuracy: 0.9999\n",
      "Epoch 7/10\n",
      "79902/79902 [==============================] - 64s 799us/step - loss: 3.8968e-04 - accuracy: 0.9999\n",
      "Epoch 8/10\n",
      "79902/79902 [==============================] - 64s 800us/step - loss: 3.6788e-04 - accuracy: 0.9999\n",
      "Epoch 9/10\n",
      "79902/79902 [==============================] - 64s 801us/step - loss: 3.7216e-04 - accuracy: 0.9999\n",
      "Epoch 10/10\n",
      "79902/79902 [==============================] - 65s 807us/step - loss: 3.1930e-04 - accuracy: 0.9999\n"
     ]
    },
    {
     "data": {
      "text/plain": [
       "<keras.callbacks.callbacks.History at 0x21cabf4ce08>"
      ]
     },
     "execution_count": 29,
     "metadata": {},
     "output_type": "execute_result"
    },
    {
     "name": "stdout",
     "output_type": "stream",
     "text": [
      "accuracy_score 0.9997536044154088\n",
      "recall_score 0.831081081081081\n",
      "precision_score 0.924812030075188\n",
      "f1_score 0.8754448398576512\n",
      "Model: \"model_27\"\n",
      "_________________________________________________________________\n",
      "Layer (type)                 Output Shape              Param #   \n",
      "=================================================================\n",
      "input_3 (InputLayer)         (None, 16, 256)           0         \n",
      "_________________________________________________________________\n",
      "bidirectional_3 (Bidirection (None, 16, 128)           164352    \n",
      "_________________________________________________________________\n",
      "time_distributed_3 (TimeDist (None, 16, 1)             129       \n",
      "=================================================================\n",
      "Total params: 164,481\n",
      "Trainable params: 164,481\n",
      "Non-trainable params: 0\n",
      "_________________________________________________________________\n",
      "======Training stage======\n",
      "Epoch 1/10\n",
      "79902/79902 [==============================] - 70s 876us/step - loss: 4.9601e-04 - accuracy: 0.9999\n",
      "Epoch 2/10\n",
      "79902/79902 [==============================] - 69s 867us/step - loss: 4.2613e-04 - accuracy: 0.9999\n",
      "Epoch 3/10\n",
      "79902/79902 [==============================] - 69s 867us/step - loss: 3.5871e-04 - accuracy: 0.9999\n",
      "Epoch 4/10\n",
      "79902/79902 [==============================] - 69s 864us/step - loss: 3.3005e-04 - accuracy: 0.9999\n",
      "Epoch 5/10\n",
      "79902/79902 [==============================] - 69s 862us/step - loss: 2.9939e-04 - accuracy: 0.9999\n",
      "Epoch 6/10\n",
      "79902/79902 [==============================] - 69s 862us/step - loss: 2.9344e-04 - accuracy: 0.9999\n",
      "Epoch 7/10\n",
      "79902/79902 [==============================] - 69s 858us/step - loss: 2.7401e-04 - accuracy: 0.9999\n",
      "Epoch 8/10\n",
      "79902/79902 [==============================] - 69s 859us/step - loss: 2.3463e-04 - accuracy: 0.9999\n",
      "Epoch 9/10\n",
      "79902/79902 [==============================] - 69s 858us/step - loss: 2.6831e-04 - accuracy: 0.9999\n",
      "Epoch 10/10\n",
      "79902/79902 [==============================] - 69s 868us/step - loss: 2.7666e-04 - accuracy: 0.9999\n"
     ]
    },
    {
     "data": {
      "text/plain": [
       "<keras.callbacks.callbacks.History at 0x21cc7c7be48>"
      ]
     },
     "execution_count": 29,
     "metadata": {},
     "output_type": "execute_result"
    },
    {
     "name": "stdout",
     "output_type": "stream",
     "text": [
      "accuracy_score 0.9996972854246452\n",
      "recall_score 0.8059701492537313\n",
      "precision_score 0.864\n",
      "f1_score 0.8339768339768339\n",
      "Model: \"model_28\"\n",
      "_________________________________________________________________\n",
      "Layer (type)                 Output Shape              Param #   \n",
      "=================================================================\n",
      "input_3 (InputLayer)         (None, 16, 256)           0         \n",
      "_________________________________________________________________\n",
      "bidirectional_3 (Bidirection (None, 16, 128)           164352    \n",
      "_________________________________________________________________\n",
      "time_distributed_3 (TimeDist (None, 16, 1)             129       \n",
      "=================================================================\n",
      "Total params: 164,481\n",
      "Trainable params: 164,481\n",
      "Non-trainable params: 0\n",
      "_________________________________________________________________\n",
      "======Training stage======\n",
      "Epoch 1/10\n",
      "79902/79902 [==============================] - 73s 918us/step - loss: 3.9485e-04 - accuracy: 0.9999\n",
      "Epoch 2/10\n",
      "79902/79902 [==============================] - 73s 909us/step - loss: 3.1614e-04 - accuracy: 0.9999s - los\n",
      "Epoch 3/10\n",
      "79902/79902 [==============================] - 72s 906us/step - loss: 3.0701e-04 - accuracy: 0.9999\n",
      "Epoch 4/10\n",
      "79902/79902 [==============================] - 72s 907us/step - loss: 2.9750e-04 - accuracy: 0.9999\n",
      "Epoch 5/10\n",
      "79902/79902 [==============================] - 72s 903us/step - loss: 2.7389e-04 - accuracy: 0.9999s - loss: 2.7498e-04 - accu\n",
      "Epoch 6/10\n",
      "79902/79902 [==============================] - 72s 907us/step - loss: 2.5228e-04 - accuracy: 0.9999\n",
      "Epoch 7/10\n",
      "79902/79902 [==============================] - 72s 905us/step - loss: 2.4445e-04 - accuracy: 0.9999\n",
      "Epoch 8/10\n",
      "79902/79902 [==============================] - 72s 902us/step - loss: 2.0708e-04 - accuracy: 0.9999\n",
      "Epoch 9/10\n",
      "79902/79902 [==============================] - 72s 901us/step - loss: 2.4735e-04 - accuracy: 0.9999\n",
      "Epoch 10/10\n",
      "79902/79902 [==============================] - 72s 900us/step - loss: 2.0728e-04 - accuracy: 0.9999\n"
     ]
    },
    {
     "data": {
      "text/plain": [
       "<keras.callbacks.callbacks.History at 0x21cf33f3588>"
      ]
     },
     "execution_count": 29,
     "metadata": {},
     "output_type": "execute_result"
    },
    {
     "name": "stdout",
     "output_type": "stream",
     "text": [
      "accuracy_score 0.9997606442892544\n",
      "recall_score 0.8544303797468354\n",
      "precision_score 0.9246575342465754\n",
      "f1_score 0.8881578947368421\n",
      "Model: \"model_29\"\n",
      "_________________________________________________________________\n",
      "Layer (type)                 Output Shape              Param #   \n",
      "=================================================================\n",
      "input_3 (InputLayer)         (None, 16, 256)           0         \n",
      "_________________________________________________________________\n",
      "bidirectional_3 (Bidirection (None, 16, 128)           164352    \n",
      "_________________________________________________________________\n",
      "time_distributed_3 (TimeDist (None, 16, 1)             129       \n",
      "=================================================================\n",
      "Total params: 164,481\n",
      "Trainable params: 164,481\n",
      "Non-trainable params: 0\n",
      "_________________________________________________________________\n",
      "======Training stage======\n",
      "Epoch 1/10\n",
      "79902/79902 [==============================] - 75s 936us/step - loss: 3.5485e-04 - accuracy: 0.9999\n",
      "Epoch 2/10\n",
      "79902/79902 [==============================] - 74s 921us/step - loss: 2.5901e-04 - accuracy: 0.9999\n",
      "Epoch 3/10\n",
      "79902/79902 [==============================] - 74s 921us/step - loss: 2.1281e-04 - accuracy: 0.9999\n",
      "Epoch 4/10\n",
      "79902/79902 [==============================] - 74s 923us/step - loss: 2.1620e-04 - accuracy: 0.9999\n",
      "Epoch 5/10\n",
      "79902/79902 [==============================] - 74s 926us/step - loss: 2.1621e-04 - accuracy: 0.9999\n",
      "Epoch 6/10\n",
      "79902/79902 [==============================] - 74s 925us/step - loss: 2.5111e-04 - accuracy: 0.9999\n",
      "Epoch 7/10\n",
      "79902/79902 [==============================] - 74s 927us/step - loss: 2.0062e-04 - accuracy: 0.9999\n",
      "Epoch 8/10\n",
      "79902/79902 [==============================] - 75s 933us/step - loss: 2.5144e-04 - accuracy: 0.9999\n",
      "Epoch 9/10\n",
      "79902/79902 [==============================] - 74s 929us/step - loss: 1.8165e-04 - accuracy: 0.9999\n",
      "Epoch 10/10\n",
      "79902/79902 [==============================] - 74s 925us/step - loss: 1.9245e-04 - accuracy: 0.9999s - loss: 1 - ETA: 0s - loss: 1.9\n"
     ]
    },
    {
     "data": {
      "text/plain": [
       "<keras.callbacks.callbacks.History at 0x21cf47d14c8>"
      ]
     },
     "execution_count": 29,
     "metadata": {},
     "output_type": "execute_result"
    },
    {
     "name": "stdout",
     "output_type": "stream",
     "text": [
      "accuracy_score 0.9997676841630998\n",
      "recall_score 0.8874172185430463\n",
      "precision_score 0.8933333333333333\n",
      "f1_score 0.8903654485049834\n",
      "Model: \"model_30\"\n",
      "_________________________________________________________________\n",
      "Layer (type)                 Output Shape              Param #   \n",
      "=================================================================\n",
      "input_3 (InputLayer)         (None, 16, 256)           0         \n",
      "_________________________________________________________________\n",
      "bidirectional_3 (Bidirection (None, 16, 128)           164352    \n",
      "_________________________________________________________________\n",
      "time_distributed_3 (TimeDist (None, 16, 1)             129       \n",
      "=================================================================\n",
      "Total params: 164,481\n",
      "Trainable params: 164,481\n",
      "Non-trainable params: 0\n",
      "_________________________________________________________________\n",
      "======Training stage======\n",
      "Epoch 1/10\n",
      "79902/79902 [==============================] - 77s 965us/step - loss: 3.3122e-04 - accuracy: 0.9999\n",
      "Epoch 2/10\n",
      "79902/79902 [==============================] - 76s 956us/step - loss: 2.3584e-04 - accuracy: 0.9999\n",
      "Epoch 3/10\n",
      "79902/79902 [==============================] - 76s 950us/step - loss: 2.2731e-04 - accuracy: 0.9999s -\n",
      "Epoch 4/10\n",
      "79902/79902 [==============================] - 76s 955us/step - loss: 2.4101e-04 - accuracy: 0.9999\n",
      "Epoch 5/10\n",
      "79902/79902 [==============================] - 76s 953us/step - loss: 1.8527e-04 - accuracy: 0.9999\n",
      "Epoch 6/10\n",
      "79902/79902 [==============================] - 77s 959us/step - loss: 1.7531e-04 - accuracy: 0.9999s - loss: 1.7092e-04 - ac\n",
      "Epoch 7/10\n",
      "79902/79902 [==============================] - 77s 963us/step - loss: 2.3365e-04 - accuracy: 0.9999\n",
      "Epoch 8/10\n",
      "79902/79902 [==============================] - 77s 960us/step - loss: 2.0633e-04 - accuracy: 0.9999\n",
      "Epoch 9/10\n",
      "79902/79902 [==============================] - 77s 959us/step - loss: 2.0027e-04 - accuracy: 0.9999\n",
      "Epoch 10/10\n",
      "79902/79902 [==============================] - 77s 961us/step - loss: 1.4860e-04 - accuracy: 1.0000s - loss: 1 - ETA: 0s - loss: 1.4972e-0\n"
     ]
    },
    {
     "data": {
      "text/plain": [
       "<keras.callbacks.callbacks.History at 0x21cc7c25448>"
      ]
     },
     "execution_count": 29,
     "metadata": {},
     "output_type": "execute_result"
    },
    {
     "name": "stdout",
     "output_type": "stream",
     "text": [
      "accuracy_score 0.9998873620184726\n",
      "recall_score 0.9254658385093167\n",
      "precision_score 0.9738562091503268\n",
      "f1_score 0.9490445859872612\n",
      "\n",
      "K-fold cross validation Accuracy: [0.9993945708492904, 0.9992256138769994, 0.9993030524892994, 0.999373451227754, 0.9995987271908088, 0.9997536044154088, 0.9996972854246452, 0.9997606442892544, 0.9997676841630998, 0.9998873620184726]\n",
      "\n",
      "K-fold cross validation Recall: [0.7293233082706767, 0.5763888888888888, 0.5426829268292683, 0.6628571428571428, 0.7314285714285714, 0.831081081081081, 0.8059701492537313, 0.8544303797468354, 0.8874172185430463, 0.9254658385093167]\n",
      "\n",
      "K-fold cross validation Precision: [0.6598639455782312, 0.6287878787878788, 0.7876106194690266, 0.7945205479452054, 0.927536231884058, 0.924812030075188, 0.864, 0.9246575342465754, 0.8933333333333333, 0.9738562091503268]\n",
      "\n",
      "K-fold cross validation F1-Score: [0.692857142857143, 0.6014492753623187, 0.6425992779783395, 0.7227414330218067, 0.817891373801917, 0.8754448398576512, 0.8339768339768339, 0.8881578947368421, 0.8903654485049834, 0.9490445859872612]\n"
     ]
    }
   ],
   "source": [
    "# 교차검증 kfold\n",
    "from sklearn.model_selection import KFold\n",
    "\n",
    "# Accuracy, Precision, Recall, F1-Score\n",
    "from sklearn.metrics import accuracy_score, recall_score, precision_score, f1_score\n",
    "\n",
    "# Confusion Matrix, ROC Curve\n",
    "from sklearn.metrics import confusion_matrix, roc_auc_score\n",
    "\n",
    "# 최종 평가지표들 평균용\n",
    "accuracy, recall, precision, f1score, cm = [], [], [], [], []\n",
    "\n",
    "# 11. 교차검증 kfold - k.split - 10회 / K-Fold 객체 생성\n",
    "# kf = KFold(n_splits=10, shuffle=False, random_state=None) # KFold non shuffle 버전\n",
    "kf = KFold(n_splits=10, shuffle=True, random_state=None) # KFold non shuffle 버전\n",
    "\n",
    "for train, validation in kf.split(x_gcc6_0_32_3, y_gcc6_0_32_3):\n",
    "    model1 = Model(xInput, xOutput)\n",
    "    model1.compile(loss='binary_crossentropy', optimizer='rmsprop', metrics=['accuracy'])\n",
    "    model1.summary()\n",
    "    print('======Training stage======')\n",
    "    model1.fit(x_gcc6_0_32_3[train],\n",
    "               y_gcc6_0_32_3[train],\n",
    "               epochs = 10,\n",
    "               batch_size = 32,\n",
    "               callbacks=[early_stopping])\n",
    "    #k_accuracy = '%.4f' %(model1.evaluate(data_10000x[validation], data_10000y[validation])[1])\n",
    "\n",
    "# 12. 교차검증결과 predict - 검증셋들\n",
    "    # predict 값\n",
    "    k_pr = model1.predict(x_gcc6_0_32_3[validation])\n",
    "    \n",
    "    # 테스트 predict 결과들 비교 (평가지표 보기위함)\n",
    "    pred = np.round(np.array(k_pr).flatten().tolist())\n",
    "    y_test = np.array(y_gcc6_0_32_3[validation]).flatten().tolist()\n",
    "    \n",
    "# 13. 평가지표들 출력\n",
    "    ## 평가지표들\n",
    "    k_accuracy = float(accuracy_score(y_test, pred))\n",
    "    k_recall =  float(recall_score(y_test, pred))\n",
    "    k_precision = float(precision_score(y_test, pred))\n",
    "    k_f1_score = float(f1_score(y_test, pred))\n",
    "    #k_cm = float(confusion_matrix(y_test, pred))\n",
    "    \n",
    "    print('accuracy_score', k_accuracy)\n",
    "    print('recall_score', k_recall)\n",
    "    print('precision_score', k_precision)\n",
    "    print('f1_score', k_f1_score)\n",
    "    #print('\\nconfusion_matrix\\n', k_cm)\n",
    "\n",
    "    accuracy.append(k_accuracy)\n",
    "    recall.append(k_recall)\n",
    "    precision.append(k_precision)\n",
    "    f1score.append(k_f1_score)\n",
    "    #cm.append(k_cm)\n",
    "#    print('roc_curve 면적', roc_auc_score(y_test, pred))\n",
    "\n",
    "# 14. 최종 결과지표\n",
    "print('\\nK-fold cross validation Accuracy: {}'.format(accuracy))\n",
    "print('\\nK-fold cross validation Recall: {}'.format(recall))\n",
    "print('\\nK-fold cross validation Precision: {}'.format(precision))\n",
    "print('\\nK-fold cross validation F1-Score: {}'.format(f1score))\n",
    "#print('\\nK-fold cross validation ConfusionMatrix: {}'.format(cm))"
   ]
  },
  {
   "cell_type": "markdown",
   "metadata": {},
   "source": [
    "## (9) 평가지표"
   ]
  },
  {
   "cell_type": "code",
   "execution_count": 30,
   "metadata": {},
   "outputs": [
    {
     "name": "stdout",
     "output_type": "stream",
     "text": [
      "10-Fold Cross_validation. Accuracy : 0.9995761995945033\n",
      "10-Fold Cross_validation. Recall : 0.754704550540856\n",
      "10-Fold Cross_validation. Precision : 0.8378978330469822\n",
      "10-Fold Cross_validation. F1-Score : 0.7914528106085097\n"
     ]
    }
   ],
   "source": [
    "print('10-Fold Cross_validation. Accuracy :', np.mean(accuracy))\n",
    "print('10-Fold Cross_validation. Recall :', np.mean(recall))\n",
    "print('10-Fold Cross_validation. Precision :', np.mean(precision))\n",
    "print('10-Fold Cross_validation. F1-Score :', np.mean(f1score))"
   ]
  }
 ],
 "metadata": {
  "kernelspec": {
   "display_name": "Python 3",
   "language": "python",
   "name": "python3"
  },
  "language_info": {
   "codemirror_mode": {
    "name": "ipython",
    "version": 3
   },
   "file_extension": ".py",
   "mimetype": "text/x-python",
   "name": "python",
   "nbconvert_exporter": "python",
   "pygments_lexer": "ipython3",
   "version": "3.7.6"
  }
 },
 "nbformat": 4,
 "nbformat_minor": 4
}
