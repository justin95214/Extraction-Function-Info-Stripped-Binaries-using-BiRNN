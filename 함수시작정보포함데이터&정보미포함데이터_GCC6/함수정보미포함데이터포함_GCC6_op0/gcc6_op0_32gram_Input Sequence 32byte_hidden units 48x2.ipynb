{
 "cells": [
  {
   "cell_type": "markdown",
   "metadata": {},
   "source": [
    "## RNN 모델 N-Byte 방식 (함수정보 포함 vs 미포함 => 1:1 비율)\n",
    "\n",
    "## (1) 데이터로드"
   ]
  },
  {
   "cell_type": "code",
   "execution_count": 1,
   "metadata": {},
   "outputs": [
    {
     "name": "stdout",
     "output_type": "stream",
     "text": [
      "(13936744, 2)\n",
      "reset_index 완료\n",
      "input data shape\n"
     ]
    },
    {
     "data": {
      "text/html": [
       "<div>\n",
       "<style scoped>\n",
       "    .dataframe tbody tr th:only-of-type {\n",
       "        vertical-align: middle;\n",
       "    }\n",
       "\n",
       "    .dataframe tbody tr th {\n",
       "        vertical-align: top;\n",
       "    }\n",
       "\n",
       "    .dataframe thead th {\n",
       "        text-align: right;\n",
       "    }\n",
       "</style>\n",
       "<table border=\"1\" class=\"dataframe\">\n",
       "  <thead>\n",
       "    <tr style=\"text-align: right;\">\n",
       "      <th></th>\n",
       "      <th>bin</th>\n",
       "      <th>label</th>\n",
       "    </tr>\n",
       "  </thead>\n",
       "  <tbody>\n",
       "    <tr>\n",
       "      <th>0</th>\n",
       "      <td>53</td>\n",
       "      <td>1</td>\n",
       "    </tr>\n",
       "    <tr>\n",
       "      <th>1</th>\n",
       "      <td>83</td>\n",
       "      <td>0</td>\n",
       "    </tr>\n",
       "    <tr>\n",
       "      <th>2</th>\n",
       "      <td>ec</td>\n",
       "      <td>0</td>\n",
       "    </tr>\n",
       "    <tr>\n",
       "      <th>3</th>\n",
       "      <td>08</td>\n",
       "      <td>0</td>\n",
       "    </tr>\n",
       "    <tr>\n",
       "      <th>4</th>\n",
       "      <td>e8</td>\n",
       "      <td>0</td>\n",
       "    </tr>\n",
       "  </tbody>\n",
       "</table>\n",
       "</div>"
      ],
      "text/plain": [
       "  bin  label\n",
       "0  53      1\n",
       "1  83      0\n",
       "2  ec      0\n",
       "3  08      0\n",
       "4  e8      0"
      ]
     },
     "execution_count": 1,
     "metadata": {},
     "output_type": "execute_result"
    }
   ],
   "source": [
    "# (1) 데이터로드\n",
    "import pandas as pd\n",
    "import numpy as np\n",
    "\n",
    "import warnings\n",
    "warnings.filterwarnings(action='ignore')\n",
    "\n",
    "# 여러개 쳐도 나오게\n",
    "from IPython.core.interactiveshell import InteractiveShell\n",
    "InteractiveShell.ast_node_interactivity = \"all\"\n",
    "\n",
    "# 파일읽기\n",
    "gcc6_0_32 = pd.read_csv(\"../data/binutils_gcc3~9_op0~4_exec_csv/\"+'gcc6'+\"_0_32_exec.csv\", index_col=0)\n",
    "\n",
    "# 형태 출력\n",
    "print(gcc6_0_32.shape)\n",
    "\n",
    "# reset_index (hex processing 하면서 값이 빠졌으니까 + n_gram 에서 index를 다루기 때문에)\n",
    "gcc6_0_32.reset_index(inplace=True, drop=True)\n",
    "\n",
    "print('reset_index 완료')\n",
    "print('input data shape')\n",
    "gcc6_0_32.head()"
   ]
  },
  {
   "cell_type": "code",
   "execution_count": 2,
   "metadata": {},
   "outputs": [
    {
     "name": "stdout",
     "output_type": "stream",
     "text": [
      "256\n",
      "0    13892354\n",
      "1       44390\n",
      "Name: label, dtype: int64\n"
     ]
    }
   ],
   "source": [
    "# (2-1) 데이터체크 1 - hex(16진수)가 256 label을 가져야 dummies 변환 가능 \n",
    "\n",
    "# 16진수 256개 종류가 있어서 pd.get_dummies 사용 가능.\n",
    "print(len(gcc6_0_32['bin'].unique()))\n",
    "\n",
    "# (2-2) 데이터 체크 2 - 1, 0 비율 ==> 1이 함수의 갯수를 뜻함\n",
    "# 정답 데이터 1, 0 비율 확인  ==> 1이 함수의 갯수를 뜻함\n",
    "print(gcc6_0_32['label'].value_counts())"
   ]
  },
  {
   "cell_type": "markdown",
   "metadata": {},
   "source": [
    "## (3) N Byte씩 자르기"
   ]
  },
  {
   "cell_type": "code",
   "execution_count": 3,
   "metadata": {},
   "outputs": [
    {
     "name": "stdout",
     "output_type": "stream",
     "text": [
      "1420468\n",
      "나머지 20\n",
      "최종 길이 1420448\n",
      "gcc6_0_32 1420448\n"
     ]
    }
   ],
   "source": [
    "######################## \n",
    "idx = gcc6_0_32[gcc6_0_32['label']==1].index  # 407, 474 ...\n",
    "ls = list(idx)\n",
    "\n",
    "# 최종 뽑을 행에 대한 index\n",
    "ls_idx = [] \n",
    "left_idx, right_idx = 0, 32 # 3개씩\n",
    "\n",
    "# 6gram\n",
    "for k in range(left_idx, right_idx):\n",
    "    ls_idx.extend(list(idx + k)) # index 형이라서 가능\n",
    "\n",
    "#ls_idx = list(set(ls_idx)) \n",
    "ls_idx.sort() # 인덱스 정렬\n",
    "\n",
    "# 1차 index 해당범위 초과한 것들 없애기\n",
    "ls_idx = list(filter(lambda x: x<len(gcc6_0_32), ls_idx))\n",
    "print(len(ls_idx))\n",
    "\n",
    "# 2차 남은 index들 중 right_idx 나눈 나머지 없애기\n",
    "sub = len(ls_idx)%(right_idx)\n",
    "print('나머지', sub)\n",
    "\n",
    "ls_idx = ls_idx[:len(ls_idx)-sub]\n",
    "print('최종 길이', len(ls_idx))\n",
    "\n",
    "print('gcc6_0_32', len(ls_idx))\n",
    "\n",
    "# loc 로 수정필요\n",
    "gcc6_0_32_Ngram = gcc6_0_32.loc[ls_idx,:].copy()"
   ]
  },
  {
   "cell_type": "markdown",
   "metadata": {},
   "source": [
    "## (4) false data 만들기"
   ]
  },
  {
   "cell_type": "code",
   "execution_count": 4,
   "metadata": {},
   "outputs": [
    {
     "name": "stdout",
     "output_type": "stream",
     "text": [
      "0 1000 2000 3000 4000 5000 6000 7000 8000 9000 10000 11000 12000 13000 14000 15000 16000 17000 18000 19000 20000 21000 22000 23000 24000 25000 26000 27000 28000 29000 30000 31000 32000 33000 34000 35000 36000 37000 38000 39000 40000 41000 42000 43000 44000 완료\n"
     ]
    }
   ],
   "source": [
    "# false data 만들기 - False 데이터 랜덤 생성\n",
    "# random index\n",
    "random_idx = np.random.randint(len(gcc6_0_32)-right_idx)\n",
    "\n",
    "# 목표치\n",
    "goal = len(gcc6_0_32_Ngram)/right_idx\n",
    "count=0\n",
    "\n",
    "d = pd.DataFrame(columns=gcc6_0_32.columns)\n",
    "\n",
    "# goal 에 도달할 때까지\n",
    "while count!=goal:\n",
    "    \n",
    "    # 진행상황 살펴보기 위함\n",
    "    if count%1000==0:\n",
    "        print(count, end=' ')\n",
    "        \n",
    "    # 랜덤 N 바이트씩 뽑음\n",
    "    df = gcc6_0_32[random_idx:random_idx+right_idx]\n",
    "    \n",
    "    # 뽑은 index의 N 바이트 중에 1이 없는 경우만\n",
    "    if 1 not in df['label']:\n",
    "        d = pd.concat([d, df])\n",
    "        count+=1\n",
    "\n",
    "print('완료')"
   ]
  },
  {
   "cell_type": "markdown",
   "metadata": {},
   "source": [
    "## (5) False Data + True Data 합치기"
   ]
  },
  {
   "cell_type": "code",
   "execution_count": 5,
   "metadata": {},
   "outputs": [
    {
     "name": "stdout",
     "output_type": "stream",
     "text": [
      "0 1000 2000 3000 4000 5000 6000 7000 8000 9000 10000 11000 12000 13000 14000 15000 16000 17000 18000 19000 20000 21000 22000 23000 24000 25000 26000 27000 28000 29000 30000 31000 32000 33000 34000 35000 36000 37000 38000 39000 40000 41000 42000 43000 44000 "
     ]
    },
    {
     "data": {
      "text/plain": [
       "(2840896, 2)"
      ]
     },
     "execution_count": 5,
     "metadata": {},
     "output_type": "execute_result"
    }
   ],
   "source": [
    "ff = pd.DataFrame(columns=gcc6_0_32.columns)\n",
    "\n",
    "for i in range(0, int(len(d)/right_idx)):\n",
    "    ff = pd.concat([ff, gcc6_0_32[i*right_idx:(i+1)*right_idx], d[i*right_idx:(i+1)*right_idx]])\n",
    "    \n",
    "    if i%1000==0:\n",
    "        print(i, end=' ')\n",
    "ff.shape"
   ]
  },
  {
   "cell_type": "markdown",
   "metadata": {},
   "source": [
    "## (6) one hot encoding"
   ]
  },
  {
   "cell_type": "code",
   "execution_count": 6,
   "metadata": {},
   "outputs": [
    {
     "name": "stdout",
     "output_type": "stream",
     "text": [
      "원핫인코딩완료\n",
      "(2840896, 257)\n"
     ]
    }
   ],
   "source": [
    "# 훈련데이터 (gcc 최적화버전 0, 1, 2, 3 one hot encoding)\n",
    "gcc6_0_32_onehot_Ngram = pd.get_dummies(ff['bin'])\n",
    "gcc6_0_32_onehot_Ngram = pd.concat([ff['label'], gcc6_0_32_onehot_Ngram], axis=1)\n",
    "\n",
    "print('원핫인코딩완료')\n",
    "print(gcc6_0_32_onehot_Ngram.shape)"
   ]
  },
  {
   "cell_type": "code",
   "execution_count": 7,
   "metadata": {},
   "outputs": [
    {
     "name": "stdout",
     "output_type": "stream",
     "text": [
      "(2840896, 256) (2840896,)\n",
      "(88778, 32, 256) (88778, 32, 1)\n"
     ]
    }
   ],
   "source": [
    "# 훈련 데이터, 훈련 라벨\n",
    "x_gcc6_0_32_3 = gcc6_0_32_onehot_Ngram.iloc[:,1:].to_numpy()\n",
    "y_gcc6_0_32_3 = gcc6_0_32_onehot_Ngram['label'].to_numpy()\n",
    "print(x_gcc6_0_32_3.shape, y_gcc6_0_32_3.shape)\n",
    "\n",
    "x_gcc6_0_32_3 = x_gcc6_0_32_3.reshape(-1, right_idx, x_gcc6_0_32_3.shape[1])\n",
    "y_gcc6_0_32_3 = y_gcc6_0_32_3.reshape(-1, right_idx, 1)\n",
    "\n",
    "print(x_gcc6_0_32_3.shape, y_gcc6_0_32_3.shape)"
   ]
  },
  {
   "cell_type": "markdown",
   "metadata": {},
   "source": [
    "## (7) 모델"
   ]
  },
  {
   "cell_type": "code",
   "execution_count": 8,
   "metadata": {},
   "outputs": [
    {
     "name": "stderr",
     "output_type": "stream",
     "text": [
      "Using TensorFlow backend.\n"
     ]
    }
   ],
   "source": [
    "# (10) 양방향 LSTM 모델링 작업\n",
    "from keras.models import Model, Sequential\n",
    "from keras.layers import SimpleRNN, Input, Dense, LSTM\n",
    "from keras.layers import Bidirectional, TimeDistributed\n",
    "\n",
    "# 학습\n",
    "from keras.callbacks import EarlyStopping\n",
    "early_stopping = EarlyStopping(patience = 3) # 조기종료 콜백함수 정의\n",
    "\n",
    "xInput = Input(batch_shape=(None,right_idx, 256)) \n",
    "xBiLstm = Bidirectional(LSTM(48, return_sequences=True), merge_mode = 'concat')(xInput)\n",
    "xOutput = TimeDistributed(Dense(1, activation ='sigmoid'))(xBiLstm) # 각 스텝에서 cost가 전송되고, 오류가 다음 step으로 전송됨."
   ]
  },
  {
   "cell_type": "markdown",
   "metadata": {},
   "source": [
    "## (8) 학습 - 10 KFold"
   ]
  },
  {
   "cell_type": "code",
   "execution_count": 9,
   "metadata": {
    "scrolled": false
   },
   "outputs": [
    {
     "name": "stdout",
     "output_type": "stream",
     "text": [
      "Model: \"model_1\"\n",
      "_________________________________________________________________\n",
      "Layer (type)                 Output Shape              Param #   \n",
      "=================================================================\n",
      "input_1 (InputLayer)         (None, 32, 256)           0         \n",
      "_________________________________________________________________\n",
      "bidirectional_1 (Bidirection (None, 32, 96)            117120    \n",
      "_________________________________________________________________\n",
      "time_distributed_1 (TimeDist (None, 32, 1)             97        \n",
      "=================================================================\n",
      "Total params: 117,217\n",
      "Trainable params: 117,217\n",
      "Non-trainable params: 0\n",
      "_________________________________________________________________\n",
      "======Training stage======\n",
      "WARNING:tensorflow:From C:\\Users\\Black\\anaconda3\\lib\\site-packages\\tensorflow\\python\\ops\\math_grad.py:1250: add_dispatch_support.<locals>.wrapper (from tensorflow.python.ops.array_ops) is deprecated and will be removed in a future version.\n",
      "Instructions for updating:\n",
      "Use tf.where in 2.0, which has the same broadcast rule as np.where\n",
      "WARNING:tensorflow:From C:\\Users\\Black\\anaconda3\\lib\\site-packages\\keras\\backend\\tensorflow_backend.py:422: The name tf.global_variables is deprecated. Please use tf.compat.v1.global_variables instead.\n",
      "\n",
      "Epoch 1/10\n",
      "79900/79900 [==============================] - 85s 1ms/step - loss: 0.0058 - accuracy: 0.9988\n",
      "Epoch 2/10\n",
      "79900/79900 [==============================] - 82s 1ms/step - loss: 0.0026 - accuracy: 0.9992\n",
      "Epoch 3/10\n",
      "79900/79900 [==============================] - 83s 1ms/step - loss: 0.0023 - accuracy: 0.9993\n",
      "Epoch 4/10\n",
      "79900/79900 [==============================] - 83s 1ms/step - loss: 0.0021 - accuracy: 0.9993\n",
      "Epoch 5/10\n",
      "79900/79900 [==============================] - 82s 1ms/step - loss: 0.0019 - accuracy: 0.9994\n",
      "Epoch 6/10\n",
      "79900/79900 [==============================] - 82s 1ms/step - loss: 0.0019 - accuracy: 0.9994\n",
      "Epoch 7/10\n",
      "79900/79900 [==============================] - 82s 1ms/step - loss: 0.0018 - accuracy: 0.9994\n",
      "Epoch 8/10\n",
      "79900/79900 [==============================] - 81s 1ms/step - loss: 0.0016 - accuracy: 0.9995\n",
      "Epoch 9/10\n",
      "79900/79900 [==============================] - 59s 737us/step - loss: 0.0016 - accuracy: 0.9995\n",
      "Epoch 10/10\n",
      "79900/79900 [==============================] - 59s 736us/step - loss: 0.0015 - accuracy: 0.9995\n"
     ]
    },
    {
     "data": {
      "text/plain": [
       "<keras.callbacks.callbacks.History at 0x299c49e9948>"
      ]
     },
     "execution_count": 9,
     "metadata": {},
     "output_type": "execute_result"
    },
    {
     "name": "stdout",
     "output_type": "stream",
     "text": [
      "accuracy_score 0.9993945708492904\n",
      "recall_score 0.6230031948881789\n",
      "precision_score 0.7831325301204819\n",
      "f1_score 0.693950177935943\n",
      "Model: \"model_2\"\n",
      "_________________________________________________________________\n",
      "Layer (type)                 Output Shape              Param #   \n",
      "=================================================================\n",
      "input_1 (InputLayer)         (None, 32, 256)           0         \n",
      "_________________________________________________________________\n",
      "bidirectional_1 (Bidirection (None, 32, 96)            117120    \n",
      "_________________________________________________________________\n",
      "time_distributed_1 (TimeDist (None, 32, 1)             97        \n",
      "=================================================================\n",
      "Total params: 117,217\n",
      "Trainable params: 117,217\n",
      "Non-trainable params: 0\n",
      "_________________________________________________________________\n",
      "======Training stage======\n",
      "Epoch 1/10\n",
      "79900/79900 [==============================] - 59s 733us/step - loss: 0.0015 - accuracy: 0.9995\n",
      "Epoch 2/10\n",
      "79900/79900 [==============================] - 60s 757us/step - loss: 0.0014 - accuracy: 0.9996\n",
      "Epoch 3/10\n",
      "79900/79900 [==============================] - 60s 755us/step - loss: 0.0013 - accuracy: 0.9996\n",
      "Epoch 4/10\n",
      "79900/79900 [==============================] - 60s 753us/step - loss: 0.0012 - accuracy: 0.9996\n",
      "Epoch 5/10\n",
      "79900/79900 [==============================] - 61s 764us/step - loss: 0.0012 - accuracy: 0.9996\n",
      "Epoch 6/10\n",
      "79900/79900 [==============================] - 60s 757us/step - loss: 0.0011 - accuracy: 0.9997\n",
      "Epoch 7/10\n",
      "79900/79900 [==============================] - 60s 751us/step - loss: 0.0010 - accuracy: 0.9997\n",
      "Epoch 8/10\n",
      "79900/79900 [==============================] - 60s 752us/step - loss: 9.3792e-04 - accuracy: 0.9997\n",
      "Epoch 9/10\n",
      "79900/79900 [==============================] - 60s 756us/step - loss: 8.7110e-04 - accuracy: 0.9997\n",
      "Epoch 10/10\n",
      "79900/79900 [==============================] - 60s 755us/step - loss: 8.1785e-04 - accuracy: 0.9997\n"
     ]
    },
    {
     "data": {
      "text/plain": [
       "<keras.callbacks.callbacks.History at 0x299eec6ffc8>"
      ]
     },
     "execution_count": 9,
     "metadata": {},
     "output_type": "execute_result"
    },
    {
     "name": "stdout",
     "output_type": "stream",
     "text": [
      "accuracy_score 0.9994790493354359\n",
      "recall_score 0.7361477572559367\n",
      "precision_score 0.8532110091743119\n",
      "f1_score 0.7903682719546742\n",
      "Model: \"model_3\"\n",
      "_________________________________________________________________\n",
      "Layer (type)                 Output Shape              Param #   \n",
      "=================================================================\n",
      "input_1 (InputLayer)         (None, 32, 256)           0         \n",
      "_________________________________________________________________\n",
      "bidirectional_1 (Bidirection (None, 32, 96)            117120    \n",
      "_________________________________________________________________\n",
      "time_distributed_1 (TimeDist (None, 32, 1)             97        \n",
      "=================================================================\n",
      "Total params: 117,217\n",
      "Trainable params: 117,217\n",
      "Non-trainable params: 0\n",
      "_________________________________________________________________\n",
      "======Training stage======\n",
      "Epoch 1/10\n",
      "79900/79900 [==============================] - 60s 757us/step - loss: 8.7972e-04 - accuracy: 0.9997\n",
      "Epoch 2/10\n",
      "79900/79900 [==============================] - 58s 727us/step - loss: 8.0818e-04 - accuracy: 0.9997\n",
      "Epoch 3/10\n",
      "79900/79900 [==============================] - 60s 752us/step - loss: 7.3549e-04 - accuracy: 0.9998\n",
      "Epoch 4/10\n",
      "79900/79900 [==============================] - 60s 754us/step - loss: 6.6963e-04 - accuracy: 0.9998\n",
      "Epoch 5/10\n",
      "79900/79900 [==============================] - 60s 755us/step - loss: 6.1398e-04 - accuracy: 0.9998\n",
      "Epoch 6/10\n",
      "79900/79900 [==============================] - 60s 751us/step - loss: 5.6570e-04 - accuracy: 0.9998\n",
      "Epoch 7/10\n",
      "79900/79900 [==============================] - 60s 751us/step - loss: 4.9103e-04 - accuracy: 0.9999\n",
      "Epoch 8/10\n",
      "79900/79900 [==============================] - 60s 751us/step - loss: 4.4819e-04 - accuracy: 0.9999\n",
      "Epoch 9/10\n",
      "79900/79900 [==============================] - 60s 753us/step - loss: 3.8264e-04 - accuracy: 0.9999\n",
      "Epoch 10/10\n",
      "79900/79900 [==============================] - 61s 761us/step - loss: 3.6706e-04 - accuracy: 0.9999\n"
     ]
    },
    {
     "data": {
      "text/plain": [
       "<keras.callbacks.callbacks.History at 0x299c5834148>"
      ]
     },
     "execution_count": 9,
     "metadata": {},
     "output_type": "execute_result"
    },
    {
     "name": "stdout",
     "output_type": "stream",
     "text": [
      "accuracy_score 0.9996022471277315\n",
      "recall_score 0.7988505747126436\n",
      "precision_score 0.8660436137071651\n",
      "f1_score 0.8310911808669655\n",
      "Model: \"model_4\"\n",
      "_________________________________________________________________\n",
      "Layer (type)                 Output Shape              Param #   \n",
      "=================================================================\n",
      "input_1 (InputLayer)         (None, 32, 256)           0         \n",
      "_________________________________________________________________\n",
      "bidirectional_1 (Bidirection (None, 32, 96)            117120    \n",
      "_________________________________________________________________\n",
      "time_distributed_1 (TimeDist (None, 32, 1)             97        \n",
      "=================================================================\n",
      "Total params: 117,217\n",
      "Trainable params: 117,217\n",
      "Non-trainable params: 0\n",
      "_________________________________________________________________\n",
      "======Training stage======\n",
      "Epoch 1/10\n",
      "79900/79900 [==============================] - 62s 771us/step - loss: 5.1792e-04 - accuracy: 0.9999\n",
      "Epoch 2/10\n",
      "79900/79900 [==============================] - 61s 761us/step - loss: 4.2757e-04 - accuracy: 0.9999\n",
      "Epoch 3/10\n",
      "79900/79900 [==============================] - 59s 734us/step - loss: 3.6919e-04 - accuracy: 0.9999\n",
      "Epoch 4/10\n",
      "79900/79900 [==============================] - 61s 757us/step - loss: 3.2945e-04 - accuracy: 0.9999\n",
      "Epoch 5/10\n",
      "79900/79900 [==============================] - 60s 755us/step - loss: 3.0104e-04 - accuracy: 0.9999\n",
      "Epoch 6/10\n",
      "79900/79900 [==============================] - 60s 754us/step - loss: 2.5579e-04 - accuracy: 0.9999\n",
      "Epoch 7/10\n",
      "79900/79900 [==============================] - 61s 758us/step - loss: 2.1697e-04 - accuracy: 0.9999\n",
      "Epoch 8/10\n",
      "79900/79900 [==============================] - 60s 755us/step - loss: 2.0219e-04 - accuracy: 0.9999\n",
      "Epoch 9/10\n",
      "79900/79900 [==============================] - 60s 755us/step - loss: 1.8748e-04 - accuracy: 0.9999\n",
      "Epoch 10/10\n",
      "79900/79900 [==============================] - 61s 757us/step - loss: 1.6882e-04 - accuracy: 0.9999\n"
     ]
    },
    {
     "data": {
      "text/plain": [
       "<keras.callbacks.callbacks.History at 0x299c642a488>"
      ]
     },
     "execution_count": 9,
     "metadata": {},
     "output_type": "execute_result"
    },
    {
     "name": "stdout",
     "output_type": "stream",
     "text": [
      "accuracy_score 0.9997782439738679\n",
      "recall_score 0.8753894080996885\n",
      "precision_score 0.9243421052631579\n",
      "f1_score 0.8992\n",
      "Model: \"model_5\"\n",
      "_________________________________________________________________\n",
      "Layer (type)                 Output Shape              Param #   \n",
      "=================================================================\n",
      "input_1 (InputLayer)         (None, 32, 256)           0         \n",
      "_________________________________________________________________\n",
      "bidirectional_1 (Bidirection (None, 32, 96)            117120    \n",
      "_________________________________________________________________\n",
      "time_distributed_1 (TimeDist (None, 32, 1)             97        \n",
      "=================================================================\n",
      "Total params: 117,217\n",
      "Trainable params: 117,217\n",
      "Non-trainable params: 0\n",
      "_________________________________________________________________\n",
      "======Training stage======\n",
      "Epoch 1/10\n",
      "79900/79900 [==============================] - 62s 776us/step - loss: 2.7744e-04 - accuracy: 0.9999\n",
      "Epoch 2/10\n",
      "79900/79900 [==============================] - 61s 764us/step - loss: 2.4907e-04 - accuracy: 0.9999\n",
      "Epoch 3/10\n",
      "79900/79900 [==============================] - 61s 763us/step - loss: 1.9894e-04 - accuracy: 0.9999\n",
      "Epoch 4/10\n",
      "79900/79900 [==============================] - 59s 740us/step - loss: 1.8677e-04 - accuracy: 1.0000\n",
      "Epoch 5/10\n",
      "79900/79900 [==============================] - 61s 769us/step - loss: 1.7023e-04 - accuracy: 1.0000\n",
      "Epoch 6/10\n",
      "79900/79900 [==============================] - 61s 767us/step - loss: 1.6175e-04 - accuracy: 1.0000s - loss: 1.6291e-0\n",
      "Epoch 7/10\n",
      "79900/79900 [==============================] - 61s 766us/step - loss: 1.4567e-04 - accuracy: 1.0000\n",
      "Epoch 8/10\n",
      "79900/79900 [==============================] - 61s 764us/step - loss: 1.1395e-04 - accuracy: 1.0000\n",
      "Epoch 9/10\n",
      "79900/79900 [==============================] - 61s 769us/step - loss: 1.1123e-04 - accuracy: 1.0000\n",
      "Epoch 10/10\n",
      "79900/79900 [==============================] - 61s 763us/step - loss: 1.1276e-04 - accuracy: 1.0000\n"
     ]
    },
    {
     "data": {
      "text/plain": [
       "<keras.callbacks.callbacks.History at 0x299c6f46488>"
      ]
     },
     "execution_count": 9,
     "metadata": {},
     "output_type": "execute_result"
    },
    {
     "name": "stdout",
     "output_type": "stream",
     "text": [
      "accuracy_score 0.9998275230907863\n",
      "recall_score 0.9077809798270894\n",
      "precision_score 0.9487951807228916\n",
      "f1_score 0.9278350515463918\n",
      "Model: \"model_6\"\n",
      "_________________________________________________________________\n",
      "Layer (type)                 Output Shape              Param #   \n",
      "=================================================================\n",
      "input_1 (InputLayer)         (None, 32, 256)           0         \n",
      "_________________________________________________________________\n",
      "bidirectional_1 (Bidirection (None, 32, 96)            117120    \n",
      "_________________________________________________________________\n",
      "time_distributed_1 (TimeDist (None, 32, 1)             97        \n",
      "=================================================================\n",
      "Total params: 117,217\n",
      "Trainable params: 117,217\n",
      "Non-trainable params: 0\n",
      "_________________________________________________________________\n",
      "======Training stage======\n",
      "Epoch 1/10\n",
      "79900/79900 [==============================] - 61s 764us/step - loss: 2.3511e-04 - accuracy: 0.9999\n",
      "Epoch 2/10\n",
      "79900/79900 [==============================] - 60s 756us/step - loss: 1.5581e-04 - accuracy: 1.0000\n",
      "Epoch 3/10\n",
      "79900/79900 [==============================] - 60s 755us/step - loss: 1.2255e-04 - accuracy: 1.0000\n",
      "Epoch 4/10\n",
      "79900/79900 [==============================] - 58s 730us/step - loss: 1.1100e-04 - accuracy: 1.0000\n",
      "Epoch 5/10\n",
      "79900/79900 [==============================] - 60s 755us/step - loss: 8.0427e-05 - accuracy: 1.0000\n",
      "Epoch 6/10\n",
      "79900/79900 [==============================] - 60s 756us/step - loss: 9.5652e-05 - accuracy: 1.0000\n",
      "Epoch 7/10\n",
      "79900/79900 [==============================] - 61s 758us/step - loss: 9.7102e-05 - accuracy: 1.0000\n",
      "Epoch 8/10\n",
      "79900/79900 [==============================] - 60s 754us/step - loss: 8.1093e-05 - accuracy: 1.0000\n",
      "Epoch 9/10\n",
      "79900/79900 [==============================] - 60s 754us/step - loss: 9.2461e-05 - accuracy: 1.0000\n",
      "Epoch 10/10\n",
      "79900/79900 [==============================] - 61s 766us/step - loss: 6.8393e-05 - accuracy: 1.0000\n"
     ]
    },
    {
     "data": {
      "text/plain": [
       "<keras.callbacks.callbacks.History at 0x299c8a2fcc8>"
      ]
     },
     "execution_count": 9,
     "metadata": {},
     "output_type": "execute_result"
    },
    {
     "name": "stdout",
     "output_type": "stream",
     "text": [
      "accuracy_score 0.9998345629646317\n",
      "recall_score 0.9054054054054054\n",
      "precision_score 0.9654178674351584\n",
      "f1_score 0.9344490934449093\n",
      "Model: \"model_7\"\n",
      "_________________________________________________________________\n",
      "Layer (type)                 Output Shape              Param #   \n",
      "=================================================================\n",
      "input_1 (InputLayer)         (None, 32, 256)           0         \n",
      "_________________________________________________________________\n",
      "bidirectional_1 (Bidirection (None, 32, 96)            117120    \n",
      "_________________________________________________________________\n",
      "time_distributed_1 (TimeDist (None, 32, 1)             97        \n",
      "=================================================================\n",
      "Total params: 117,217\n",
      "Trainable params: 117,217\n",
      "Non-trainable params: 0\n",
      "_________________________________________________________________\n",
      "======Training stage======\n",
      "Epoch 1/10\n",
      "79900/79900 [==============================] - 61s 768us/step - loss: 1.6062e-04 - accuracy: 1.0000\n",
      "Epoch 2/10\n",
      "79900/79900 [==============================] - 60s 755us/step - loss: 1.2891e-04 - accuracy: 1.0000\n",
      "Epoch 3/10\n",
      "79900/79900 [==============================] - 60s 756us/step - loss: 8.9802e-05 - accuracy: 1.0000\n",
      "Epoch 4/10\n",
      "79900/79900 [==============================] - 61s 758us/step - loss: 9.1709e-05 - accuracy: 1.0000\n",
      "Epoch 5/10\n",
      "79900/79900 [==============================] - 58s 730us/step - loss: 6.8764e-05 - accuracy: 1.0000\n",
      "Epoch 6/10\n",
      "79900/79900 [==============================] - 60s 750us/step - loss: 6.4566e-05 - accuracy: 1.0000\n",
      "Epoch 7/10\n",
      "79900/79900 [==============================] - 60s 749us/step - loss: 5.7826e-05 - accuracy: 1.0000\n",
      "Epoch 8/10\n",
      "79900/79900 [==============================] - 60s 751us/step - loss: 6.3077e-05 - accuracy: 1.0000\n",
      "Epoch 9/10\n",
      "79900/79900 [==============================] - 60s 751us/step - loss: 5.9070e-05 - accuracy: 1.0000\n",
      "Epoch 10/10\n",
      "79900/79900 [==============================] - 60s 750us/step - loss: 4.6841e-05 - accuracy: 1.0000\n"
     ]
    },
    {
     "data": {
      "text/plain": [
       "<keras.callbacks.callbacks.History at 0x299cb4f9cc8>"
      ]
     },
     "execution_count": 9,
     "metadata": {},
     "output_type": "execute_result"
    },
    {
     "name": "stdout",
     "output_type": "stream",
     "text": [
      "accuracy_score 0.999894401892318\n",
      "recall_score 0.9287671232876712\n",
      "precision_score 0.9883381924198251\n",
      "f1_score 0.9576271186440677\n",
      "Model: \"model_8\"\n",
      "_________________________________________________________________\n",
      "Layer (type)                 Output Shape              Param #   \n",
      "=================================================================\n",
      "input_1 (InputLayer)         (None, 32, 256)           0         \n",
      "_________________________________________________________________\n",
      "bidirectional_1 (Bidirection (None, 32, 96)            117120    \n",
      "_________________________________________________________________\n",
      "time_distributed_1 (TimeDist (None, 32, 1)             97        \n",
      "=================================================================\n",
      "Total params: 117,217\n",
      "Trainable params: 117,217\n",
      "Non-trainable params: 0\n",
      "_________________________________________________________________\n",
      "======Training stage======\n",
      "Epoch 1/10\n",
      "79900/79900 [==============================] - 61s 763us/step - loss: 1.3949e-04 - accuracy: 1.0000\n",
      "Epoch 2/10\n",
      "79900/79900 [==============================] - 60s 751us/step - loss: 9.1074e-05 - accuracy: 1.0000\n",
      "Epoch 3/10\n",
      "79900/79900 [==============================] - 60s 751us/step - loss: 8.2680e-05 - accuracy: 1.0000\n",
      "Epoch 4/10\n",
      "79900/79900 [==============================] - 60s 755us/step - loss: 6.6801e-05 - accuracy: 1.0000\n",
      "Epoch 5/10\n",
      "79900/79900 [==============================] - 60s 757us/step - loss: 6.0637e-05 - accuracy: 1.0000\n",
      "Epoch 6/10\n",
      "79900/79900 [==============================] - 60s 753us/step - loss: 4.8674e-05 - accuracy: 1.0000\n",
      "Epoch 7/10\n",
      "79900/79900 [==============================] - 58s 724us/step - loss: 5.6982e-05 - accuracy: 1.0000\n",
      "Epoch 8/10\n",
      "79900/79900 [==============================] - 60s 753us/step - loss: 4.7885e-05 - accuracy: 1.0000\n",
      "Epoch 9/10\n",
      "79900/79900 [==============================] - 60s 754us/step - loss: 4.1403e-05 - accuracy: 1.0000\n",
      "Epoch 10/10\n",
      "79900/79900 [==============================] - 60s 753us/step - loss: 5.5642e-05 - accuracy: 1.0000\n"
     ]
    },
    {
     "data": {
      "text/plain": [
       "<keras.callbacks.callbacks.History at 0x299cc0ddcc8>"
      ]
     },
     "execution_count": 9,
     "metadata": {},
     "output_type": "execute_result"
    },
    {
     "name": "stdout",
     "output_type": "stream",
     "text": [
      "accuracy_score 0.9999296012615454\n",
      "recall_score 0.9660056657223796\n",
      "precision_score 0.9770773638968482\n",
      "f1_score 0.9715099715099715\n",
      "Model: \"model_9\"\n",
      "_________________________________________________________________\n",
      "Layer (type)                 Output Shape              Param #   \n",
      "=================================================================\n",
      "input_1 (InputLayer)         (None, 32, 256)           0         \n",
      "_________________________________________________________________\n",
      "bidirectional_1 (Bidirection (None, 32, 96)            117120    \n",
      "_________________________________________________________________\n",
      "time_distributed_1 (TimeDist (None, 32, 1)             97        \n",
      "=================================================================\n",
      "Total params: 117,217\n",
      "Trainable params: 117,217\n",
      "Non-trainable params: 0\n",
      "_________________________________________________________________\n",
      "======Training stage======\n",
      "Epoch 1/10\n",
      "79901/79901 [==============================] - 63s 785us/step - loss: 9.2836e-05 - accuracy: 1.0000\n",
      "Epoch 2/10\n",
      "79901/79901 [==============================] - 65s 809us/step - loss: 5.2872e-05 - accuracy: 1.0000\n",
      "Epoch 3/10\n",
      "79901/79901 [==============================] - 66s 830us/step - loss: 5.7061e-05 - accuracy: 1.0000s - loss: 5.6013e-05 - accuracy: 1. - ETA: 0s -\n",
      "Epoch 4/10\n",
      "79901/79901 [==============================] - 67s 837us/step - loss: 7.1615e-05 - accuracy: 1.0000\n",
      "Epoch 5/10\n",
      "79901/79901 [==============================] - 69s 858us/step - loss: 3.5935e-05 - accuracy: 1.0000s - loss: 3.5992e-05 - accuracy: 1.\n",
      "Epoch 6/10\n",
      "79901/79901 [==============================] - 67s 842us/step - loss: 3.9400e-05 - accuracy: 1.0000\n",
      "Epoch 7/10\n",
      "79901/79901 [==============================] - 68s 845us/step - loss: 3.4105e-05 - accuracy: 1.0000\n",
      "Epoch 8/10\n",
      "79901/79901 [==============================] - 65s 811us/step - loss: 3.7004e-05 - accuracy: 1.0000\n",
      "Epoch 9/10\n",
      "79901/79901 [==============================] - 69s 858us/step - loss: 3.5309e-05 - accuracy: 1.0000\n",
      "Epoch 10/10\n",
      "79901/79901 [==============================] - 71s 886us/step - loss: 5.2498e-05 - accuracy: 1.0000\n"
     ]
    },
    {
     "data": {
      "text/plain": [
       "<keras.callbacks.callbacks.History at 0x299d09279c8>"
      ]
     },
     "execution_count": 9,
     "metadata": {},
     "output_type": "execute_result"
    },
    {
     "name": "stdout",
     "output_type": "stream",
     "text": [
      "accuracy_score 0.9999155119972963\n",
      "recall_score 0.980225988700565\n",
      "precision_score 0.9532967032967034\n",
      "f1_score 0.9665738161559889\n",
      "Model: \"model_10\"\n",
      "_________________________________________________________________\n",
      "Layer (type)                 Output Shape              Param #   \n",
      "=================================================================\n",
      "input_1 (InputLayer)         (None, 32, 256)           0         \n",
      "_________________________________________________________________\n",
      "bidirectional_1 (Bidirection (None, 32, 96)            117120    \n",
      "_________________________________________________________________\n",
      "time_distributed_1 (TimeDist (None, 32, 1)             97        \n",
      "=================================================================\n",
      "Total params: 117,217\n",
      "Trainable params: 117,217\n",
      "Non-trainable params: 0\n",
      "_________________________________________________________________\n",
      "======Training stage======\n",
      "Epoch 1/10\n",
      "79901/79901 [==============================] - 71s 890us/step - loss: 7.7168e-05 - accuracy: 1.0000\n",
      "Epoch 2/10\n",
      "79901/79901 [==============================] - 70s 874us/step - loss: 4.8816e-05 - accuracy: 1.0000\n",
      "Epoch 3/10\n",
      "79901/79901 [==============================] - 70s 874us/step - loss: 4.9901e-05 - accuracy: 1.0000\n",
      "Epoch 4/10\n",
      "79901/79901 [==============================] - 68s 852us/step - loss: 3.9197e-05 - accuracy: 1.0000\n",
      "Epoch 5/10\n",
      "79901/79901 [==============================] - 68s 845us/step - loss: 5.3821e-05 - accuracy: 1.0000\n",
      "Epoch 6/10\n",
      "79901/79901 [==============================] - 68s 849us/step - loss: 3.3181e-05 - accuracy: 1.0000\n",
      "Epoch 7/10\n",
      "79901/79901 [==============================] - 68s 847us/step - loss: 6.0940e-05 - accuracy: 1.0000\n",
      "Epoch 8/10\n",
      "79901/79901 [==============================] - 67s 835us/step - loss: 5.7650e-05 - accuracy: 1.0000\n",
      "Epoch 9/10\n",
      "79901/79901 [==============================] - 64s 795us/step - loss: 3.5820e-05 - accuracy: 1.0000\n",
      "Epoch 10/10\n",
      "79901/79901 [==============================] - 67s 837us/step - loss: 3.2518e-05 - accuracy: 1.0000\n"
     ]
    },
    {
     "data": {
      "text/plain": [
       "<keras.callbacks.callbacks.History at 0x299d362f7c8>"
      ]
     },
     "execution_count": 9,
     "metadata": {},
     "output_type": "execute_result"
    },
    {
     "name": "stdout",
     "output_type": "stream",
     "text": [
      "accuracy_score 0.9999647966655402\n",
      "recall_score 0.9755351681957186\n",
      "precision_score 0.9937694704049844\n",
      "f1_score 0.9845679012345678\n",
      "\n",
      "K-fold cross validation Accuracy: [0.9993945708492904, 0.9994790493354359, 0.9996022471277315, 0.9997782439738679, 0.9998275230907863, 0.9998345629646317, 0.999894401892318, 0.9999296012615454, 0.9999155119972963, 0.9999647966655402]\n",
      "\n",
      "K-fold cross validation Recall: [0.6230031948881789, 0.7361477572559367, 0.7988505747126436, 0.8753894080996885, 0.9077809798270894, 0.9054054054054054, 0.9287671232876712, 0.9660056657223796, 0.980225988700565, 0.9755351681957186]\n",
      "\n",
      "K-fold cross validation Precision: [0.7831325301204819, 0.8532110091743119, 0.8660436137071651, 0.9243421052631579, 0.9487951807228916, 0.9654178674351584, 0.9883381924198251, 0.9770773638968482, 0.9532967032967034, 0.9937694704049844]\n",
      "\n",
      "K-fold cross validation F1-Score: [0.693950177935943, 0.7903682719546742, 0.8310911808669655, 0.8992, 0.9278350515463918, 0.9344490934449093, 0.9576271186440677, 0.9715099715099715, 0.9665738161559889, 0.9845679012345678]\n"
     ]
    }
   ],
   "source": [
    "# 교차검증 kfold\n",
    "from sklearn.model_selection import KFold\n",
    "\n",
    "# Accuracy, Precision, Recall, F1-Score\n",
    "from sklearn.metrics import accuracy_score, recall_score, precision_score, f1_score\n",
    "\n",
    "# Confusion Matrix, ROC Curve\n",
    "from sklearn.metrics import confusion_matrix, roc_auc_score\n",
    "\n",
    "# 최종 평가지표들 평균용\n",
    "accuracy, recall, precision, f1score, cm = [], [], [], [], []\n",
    "\n",
    "# 11. 교차검증 kfold - k.split - 10회 / K-Fold 객체 생성\n",
    "# kf = KFold(n_splits=10, shuffle=False, random_state=None) # KFold non shuffle 버전\n",
    "kf = KFold(n_splits=10, shuffle=True, random_state=None) # KFold non shuffle 버전\n",
    "\n",
    "for train, validation in kf.split(x_gcc6_0_32_3, y_gcc6_0_32_3):\n",
    "    model1 = Model(xInput, xOutput)\n",
    "    model1.compile(loss='binary_crossentropy', optimizer='rmsprop', metrics=['accuracy'])\n",
    "    model1.summary()\n",
    "    print('======Training stage======')\n",
    "    model1.fit(x_gcc6_0_32_3[train],\n",
    "               y_gcc6_0_32_3[train],\n",
    "               epochs = 10,\n",
    "               batch_size = 32,\n",
    "               callbacks=[early_stopping])\n",
    "    #k_accuracy = '%.4f' %(model1.evaluate(data_10000x[validation], data_10000y[validation])[1])\n",
    "\n",
    "# 12. 교차검증결과 predict - 검증셋들\n",
    "    # predict 값\n",
    "    k_pr = model1.predict(x_gcc6_0_32_3[validation])\n",
    "    \n",
    "    # 테스트 predict 결과들 비교 (평가지표 보기위함)\n",
    "    pred = np.round(np.array(k_pr).flatten().tolist())\n",
    "    y_test = np.array(y_gcc6_0_32_3[validation]).flatten().tolist()\n",
    "    \n",
    "# 13. 평가지표들 출력\n",
    "    ## 평가지표들\n",
    "    k_accuracy = float(accuracy_score(y_test, pred))\n",
    "    k_recall =  float(recall_score(y_test, pred))\n",
    "    k_precision = float(precision_score(y_test, pred))\n",
    "    k_f1_score = float(f1_score(y_test, pred))\n",
    "    #k_cm = float(confusion_matrix(y_test, pred))\n",
    "    \n",
    "    print('accuracy_score', k_accuracy)\n",
    "    print('recall_score', k_recall)\n",
    "    print('precision_score', k_precision)\n",
    "    print('f1_score', k_f1_score)\n",
    "    #print('\\nconfusion_matrix\\n', k_cm)\n",
    "\n",
    "    accuracy.append(k_accuracy)\n",
    "    recall.append(k_recall)\n",
    "    precision.append(k_precision)\n",
    "    f1score.append(k_f1_score)\n",
    "    #cm.append(k_cm)\n",
    "#    print('roc_curve 면적', roc_auc_score(y_test, pred))\n",
    "\n",
    "# 14. 최종 결과지표\n",
    "print('\\nK-fold cross validation Accuracy: {}'.format(accuracy))\n",
    "print('\\nK-fold cross validation Recall: {}'.format(recall))\n",
    "print('\\nK-fold cross validation Precision: {}'.format(precision))\n",
    "print('\\nK-fold cross validation F1-Score: {}'.format(f1score))\n",
    "#print('\\nK-fold cross validation ConfusionMatrix: {}'.format(cm))"
   ]
  },
  {
   "cell_type": "markdown",
   "metadata": {},
   "source": [
    "## (9) 평가지표"
   ]
  },
  {
   "cell_type": "code",
   "execution_count": 10,
   "metadata": {},
   "outputs": [
    {
     "name": "stdout",
     "output_type": "stream",
     "text": [
      "10-Fold Cross_validation. Accuracy : 0.9997620509158445\n",
      "10-Fold Cross_validation. Recall : 0.8697111266095277\n",
      "10-Fold Cross_validation. Precision : 0.9253424036441528\n",
      "10-Fold Cross_validation. F1-Score : 0.8957172583293481\n"
     ]
    }
   ],
   "source": [
    "print('10-Fold Cross_validation. Accuracy :', np.mean(accuracy))\n",
    "print('10-Fold Cross_validation. Recall :', np.mean(recall))\n",
    "print('10-Fold Cross_validation. Precision :', np.mean(precision))\n",
    "print('10-Fold Cross_validation. F1-Score :', np.mean(f1score))"
   ]
  }
 ],
 "metadata": {
  "kernelspec": {
   "display_name": "Python 3",
   "language": "python",
   "name": "python3"
  },
  "language_info": {
   "codemirror_mode": {
    "name": "ipython",
    "version": 3
   },
   "file_extension": ".py",
   "mimetype": "text/x-python",
   "name": "python",
   "nbconvert_exporter": "python",
   "pygments_lexer": "ipython3",
   "version": "3.7.6"
  }
 },
 "nbformat": 4,
 "nbformat_minor": 4
}
