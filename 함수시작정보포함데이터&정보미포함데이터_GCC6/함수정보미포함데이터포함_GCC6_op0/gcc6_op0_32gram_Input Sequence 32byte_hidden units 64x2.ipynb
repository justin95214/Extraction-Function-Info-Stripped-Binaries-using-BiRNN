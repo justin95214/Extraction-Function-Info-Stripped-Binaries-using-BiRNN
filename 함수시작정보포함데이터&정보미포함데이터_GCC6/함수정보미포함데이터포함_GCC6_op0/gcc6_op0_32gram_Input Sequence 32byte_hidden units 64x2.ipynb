{
 "cells": [
  {
   "cell_type": "markdown",
   "metadata": {},
   "source": [
    "## RNN 모델 N-Byte 방식 (함수정보 포함 vs 미포함 => 1:1 비율)\n",
    "\n",
    "## (1) 데이터로드"
   ]
  },
  {
   "cell_type": "code",
   "execution_count": 11,
   "metadata": {},
   "outputs": [
    {
     "name": "stdout",
     "output_type": "stream",
     "text": [
      "(13936744, 2)\n",
      "reset_index 완료\n",
      "input data shape\n"
     ]
    },
    {
     "data": {
      "text/html": [
       "<div>\n",
       "<style scoped>\n",
       "    .dataframe tbody tr th:only-of-type {\n",
       "        vertical-align: middle;\n",
       "    }\n",
       "\n",
       "    .dataframe tbody tr th {\n",
       "        vertical-align: top;\n",
       "    }\n",
       "\n",
       "    .dataframe thead th {\n",
       "        text-align: right;\n",
       "    }\n",
       "</style>\n",
       "<table border=\"1\" class=\"dataframe\">\n",
       "  <thead>\n",
       "    <tr style=\"text-align: right;\">\n",
       "      <th></th>\n",
       "      <th>bin</th>\n",
       "      <th>label</th>\n",
       "    </tr>\n",
       "  </thead>\n",
       "  <tbody>\n",
       "    <tr>\n",
       "      <th>0</th>\n",
       "      <td>53</td>\n",
       "      <td>1</td>\n",
       "    </tr>\n",
       "    <tr>\n",
       "      <th>1</th>\n",
       "      <td>83</td>\n",
       "      <td>0</td>\n",
       "    </tr>\n",
       "    <tr>\n",
       "      <th>2</th>\n",
       "      <td>ec</td>\n",
       "      <td>0</td>\n",
       "    </tr>\n",
       "    <tr>\n",
       "      <th>3</th>\n",
       "      <td>08</td>\n",
       "      <td>0</td>\n",
       "    </tr>\n",
       "    <tr>\n",
       "      <th>4</th>\n",
       "      <td>e8</td>\n",
       "      <td>0</td>\n",
       "    </tr>\n",
       "  </tbody>\n",
       "</table>\n",
       "</div>"
      ],
      "text/plain": [
       "  bin  label\n",
       "0  53      1\n",
       "1  83      0\n",
       "2  ec      0\n",
       "3  08      0\n",
       "4  e8      0"
      ]
     },
     "execution_count": 11,
     "metadata": {},
     "output_type": "execute_result"
    }
   ],
   "source": [
    "# (1) 데이터로드\n",
    "import pandas as pd\n",
    "import numpy as np\n",
    "\n",
    "import warnings\n",
    "warnings.filterwarnings(action='ignore')\n",
    "\n",
    "# 여러개 쳐도 나오게\n",
    "from IPython.core.interactiveshell import InteractiveShell\n",
    "InteractiveShell.ast_node_interactivity = \"all\"\n",
    "\n",
    "# 파일읽기\n",
    "gcc6_0_32 = pd.read_csv(\"../data/binutils_gcc3~9_op0~4_exec_csv/\"+'gcc6'+\"_0_32_exec.csv\", index_col=0)\n",
    "\n",
    "# 형태 출력\n",
    "print(gcc6_0_32.shape)\n",
    "\n",
    "# reset_index (hex processing 하면서 값이 빠졌으니까 + n_gram 에서 index를 다루기 때문에)\n",
    "gcc6_0_32.reset_index(inplace=True, drop=True)\n",
    "\n",
    "print('reset_index 완료')\n",
    "print('input data shape')\n",
    "gcc6_0_32.head()"
   ]
  },
  {
   "cell_type": "code",
   "execution_count": 12,
   "metadata": {},
   "outputs": [
    {
     "name": "stdout",
     "output_type": "stream",
     "text": [
      "256\n",
      "0    13892354\n",
      "1       44390\n",
      "Name: label, dtype: int64\n"
     ]
    }
   ],
   "source": [
    "# (2-1) 데이터체크 1 - hex(16진수)가 256 label을 가져야 dummies 변환 가능 \n",
    "\n",
    "# 16진수 256개 종류가 있어서 pd.get_dummies 사용 가능.\n",
    "print(len(gcc6_0_32['bin'].unique()))\n",
    "\n",
    "# (2-2) 데이터 체크 2 - 1, 0 비율 ==> 1이 함수의 갯수를 뜻함\n",
    "# 정답 데이터 1, 0 비율 확인  ==> 1이 함수의 갯수를 뜻함\n",
    "print(gcc6_0_32['label'].value_counts())"
   ]
  },
  {
   "cell_type": "markdown",
   "metadata": {},
   "source": [
    "## (3) N Byte씩 자르기"
   ]
  },
  {
   "cell_type": "code",
   "execution_count": 13,
   "metadata": {},
   "outputs": [
    {
     "name": "stdout",
     "output_type": "stream",
     "text": [
      "1420468\n",
      "나머지 20\n",
      "최종 길이 1420448\n",
      "gcc6_0_32 1420448\n"
     ]
    }
   ],
   "source": [
    "######################## \n",
    "idx = gcc6_0_32[gcc6_0_32['label']==1].index  # 407, 474 ...\n",
    "ls = list(idx)\n",
    "\n",
    "# 최종 뽑을 행에 대한 index\n",
    "ls_idx = [] \n",
    "left_idx, right_idx = 0, 32 # 3개씩\n",
    "\n",
    "# 6gram\n",
    "for k in range(left_idx, right_idx):\n",
    "    ls_idx.extend(list(idx + k)) # index 형이라서 가능\n",
    "\n",
    "#ls_idx = list(set(ls_idx)) \n",
    "ls_idx.sort() # 인덱스 정렬\n",
    "\n",
    "# 1차 index 해당범위 초과한 것들 없애기\n",
    "ls_idx = list(filter(lambda x: x<len(gcc6_0_32), ls_idx))\n",
    "print(len(ls_idx))\n",
    "\n",
    "# 2차 남은 index들 중 right_idx 나눈 나머지 없애기\n",
    "sub = len(ls_idx)%(right_idx)\n",
    "print('나머지', sub)\n",
    "\n",
    "ls_idx = ls_idx[:len(ls_idx)-sub]\n",
    "print('최종 길이', len(ls_idx))\n",
    "\n",
    "print('gcc6_0_32', len(ls_idx))\n",
    "\n",
    "# loc 로 수정필요\n",
    "gcc6_0_32_Ngram = gcc6_0_32.loc[ls_idx,:].copy()"
   ]
  },
  {
   "cell_type": "markdown",
   "metadata": {},
   "source": [
    "## (4) false data 만들기"
   ]
  },
  {
   "cell_type": "code",
   "execution_count": 14,
   "metadata": {},
   "outputs": [
    {
     "name": "stdout",
     "output_type": "stream",
     "text": [
      "0 1000 2000 3000 4000 5000 6000 7000 8000 9000 10000 11000 12000 13000 14000 15000 16000 17000 18000 19000 20000 21000 22000 23000 24000 25000 26000 27000 28000 29000 30000 31000 32000 33000 34000 35000 36000 37000 38000 39000 40000 41000 42000 43000 44000 완료\n"
     ]
    }
   ],
   "source": [
    "# false data 만들기 - False 데이터 랜덤 생성\n",
    "# random index\n",
    "random_idx = np.random.randint(len(gcc6_0_32)-right_idx)\n",
    "\n",
    "# 목표치\n",
    "goal = len(gcc6_0_32_Ngram)/right_idx\n",
    "count=0\n",
    "\n",
    "d = pd.DataFrame(columns=gcc6_0_32.columns)\n",
    "\n",
    "# goal 에 도달할 때까지\n",
    "while count!=goal:\n",
    "    \n",
    "    # 진행상황 살펴보기 위함\n",
    "    if count%1000==0:\n",
    "        print(count, end=' ')\n",
    "        \n",
    "    # 랜덤 N 바이트씩 뽑음\n",
    "    df = gcc6_0_32[random_idx:random_idx+right_idx]\n",
    "    \n",
    "    # 뽑은 index의 N 바이트 중에 1이 없는 경우만\n",
    "    if 1 not in df['label']:\n",
    "        d = pd.concat([d, df])\n",
    "        count+=1\n",
    "\n",
    "print('완료')"
   ]
  },
  {
   "cell_type": "markdown",
   "metadata": {},
   "source": [
    "## (5) False Data + True Data 합치기"
   ]
  },
  {
   "cell_type": "code",
   "execution_count": 15,
   "metadata": {},
   "outputs": [
    {
     "name": "stdout",
     "output_type": "stream",
     "text": [
      "0 1000 2000 3000 4000 5000 6000 7000 8000 9000 10000 11000 12000 13000 14000 15000 16000 17000 18000 19000 20000 21000 22000 23000 24000 25000 26000 27000 28000 29000 30000 31000 32000 33000 34000 35000 36000 37000 38000 39000 40000 41000 42000 43000 44000 "
     ]
    },
    {
     "data": {
      "text/plain": [
       "(2840896, 2)"
      ]
     },
     "execution_count": 15,
     "metadata": {},
     "output_type": "execute_result"
    }
   ],
   "source": [
    "ff = pd.DataFrame(columns=gcc6_0_32.columns)\n",
    "\n",
    "for i in range(0, int(len(d)/right_idx)):\n",
    "    ff = pd.concat([ff, gcc6_0_32[i*right_idx:(i+1)*right_idx], d[i*right_idx:(i+1)*right_idx]])\n",
    "    \n",
    "    if i%1000==0:\n",
    "        print(i, end=' ')\n",
    "ff.shape"
   ]
  },
  {
   "cell_type": "markdown",
   "metadata": {},
   "source": [
    "## (6) one hot encoding"
   ]
  },
  {
   "cell_type": "code",
   "execution_count": 16,
   "metadata": {},
   "outputs": [
    {
     "name": "stdout",
     "output_type": "stream",
     "text": [
      "원핫인코딩완료\n",
      "(2840896, 257)\n"
     ]
    }
   ],
   "source": [
    "# 훈련데이터 (gcc 최적화버전 0, 1, 2, 3 one hot encoding)\n",
    "gcc6_0_32_onehot_Ngram = pd.get_dummies(ff['bin'])\n",
    "gcc6_0_32_onehot_Ngram = pd.concat([ff['label'], gcc6_0_32_onehot_Ngram], axis=1)\n",
    "\n",
    "print('원핫인코딩완료')\n",
    "print(gcc6_0_32_onehot_Ngram.shape)"
   ]
  },
  {
   "cell_type": "code",
   "execution_count": 17,
   "metadata": {},
   "outputs": [
    {
     "name": "stdout",
     "output_type": "stream",
     "text": [
      "(2840896, 256) (2840896,)\n",
      "(88778, 32, 256) (88778, 32, 1)\n"
     ]
    }
   ],
   "source": [
    "# 훈련 데이터, 훈련 라벨\n",
    "x_gcc6_0_32_3 = gcc6_0_32_onehot_Ngram.iloc[:,1:].to_numpy()\n",
    "y_gcc6_0_32_3 = gcc6_0_32_onehot_Ngram['label'].to_numpy()\n",
    "print(x_gcc6_0_32_3.shape, y_gcc6_0_32_3.shape)\n",
    "\n",
    "x_gcc6_0_32_3 = x_gcc6_0_32_3.reshape(-1, right_idx, x_gcc6_0_32_3.shape[1])\n",
    "y_gcc6_0_32_3 = y_gcc6_0_32_3.reshape(-1, right_idx, 1)\n",
    "\n",
    "print(x_gcc6_0_32_3.shape, y_gcc6_0_32_3.shape)"
   ]
  },
  {
   "cell_type": "markdown",
   "metadata": {},
   "source": [
    "## (7) 모델"
   ]
  },
  {
   "cell_type": "code",
   "execution_count": 18,
   "metadata": {},
   "outputs": [],
   "source": [
    "# (10) 양방향 LSTM 모델링 작업\n",
    "from keras.models import Model, Sequential\n",
    "from keras.layers import SimpleRNN, Input, Dense, LSTM\n",
    "from keras.layers import Bidirectional, TimeDistributed\n",
    "\n",
    "# 학습\n",
    "from keras.callbacks import EarlyStopping\n",
    "early_stopping = EarlyStopping(patience = 3) # 조기종료 콜백함수 정의\n",
    "\n",
    "xInput = Input(batch_shape=(None,right_idx, 256)) \n",
    "xBiLstm = Bidirectional(LSTM(64, return_sequences=True), merge_mode = 'concat')(xInput)\n",
    "xOutput = TimeDistributed(Dense(1, activation ='sigmoid'))(xBiLstm) # 각 스텝에서 cost가 전송되고, 오류가 다음 step으로 전송됨."
   ]
  },
  {
   "cell_type": "markdown",
   "metadata": {},
   "source": [
    "## (8) 학습 - 10 KFold"
   ]
  },
  {
   "cell_type": "code",
   "execution_count": 19,
   "metadata": {
    "scrolled": false
   },
   "outputs": [
    {
     "name": "stdout",
     "output_type": "stream",
     "text": [
      "Model: \"model_11\"\n",
      "_________________________________________________________________\n",
      "Layer (type)                 Output Shape              Param #   \n",
      "=================================================================\n",
      "input_2 (InputLayer)         (None, 32, 256)           0         \n",
      "_________________________________________________________________\n",
      "bidirectional_2 (Bidirection (None, 32, 128)           164352    \n",
      "_________________________________________________________________\n",
      "time_distributed_2 (TimeDist (None, 32, 1)             129       \n",
      "=================================================================\n",
      "Total params: 164,481\n",
      "Trainable params: 164,481\n",
      "Non-trainable params: 0\n",
      "_________________________________________________________________\n",
      "======Training stage======\n",
      "Epoch 1/10\n",
      "79900/79900 [==============================] - 57s 713us/step - loss: 0.0056 - accuracy: 0.9987\n",
      "Epoch 2/10\n",
      "79900/79900 [==============================] - 56s 706us/step - loss: 0.0025 - accuracy: 0.9992\n",
      "Epoch 3/10\n",
      "79900/79900 [==============================] - 56s 706us/step - loss: 0.0023 - accuracy: 0.9993\n",
      "Epoch 4/10\n",
      "79900/79900 [==============================] - 56s 707us/step - loss: 0.0021 - accuracy: 0.9993\n",
      "Epoch 5/10\n",
      "79900/79900 [==============================] - 56s 704us/step - loss: 0.0020 - accuracy: 0.9994\n",
      "Epoch 6/10\n",
      "79900/79900 [==============================] - 56s 704us/step - loss: 0.0018 - accuracy: 0.9994\n",
      "Epoch 7/10\n",
      "79900/79900 [==============================] - 56s 704us/step - loss: 0.0017 - accuracy: 0.9994\n",
      "Epoch 8/10\n",
      "79900/79900 [==============================] - 56s 703us/step - loss: 0.0016 - accuracy: 0.9995\n",
      "Epoch 9/10\n",
      "79900/79900 [==============================] - 56s 704us/step - loss: 0.0015 - accuracy: 0.9995\n",
      "Epoch 10/10\n",
      "79900/79900 [==============================] - 56s 704us/step - loss: 0.0014 - accuracy: 0.9995\n"
     ]
    },
    {
     "data": {
      "text/plain": [
       "<keras.callbacks.callbacks.History at 0x1772a8a8e08>"
      ]
     },
     "execution_count": 19,
     "metadata": {},
     "output_type": "execute_result"
    },
    {
     "name": "stdout",
     "output_type": "stream",
     "text": [
      "accuracy_score 0.9993980907862131\n",
      "recall_score 0.7683284457478006\n",
      "precision_score 0.7401129943502824\n",
      "f1_score 0.753956834532374\n",
      "Model: \"model_12\"\n",
      "_________________________________________________________________\n",
      "Layer (type)                 Output Shape              Param #   \n",
      "=================================================================\n",
      "input_2 (InputLayer)         (None, 32, 256)           0         \n",
      "_________________________________________________________________\n",
      "bidirectional_2 (Bidirection (None, 32, 128)           164352    \n",
      "_________________________________________________________________\n",
      "time_distributed_2 (TimeDist (None, 32, 1)             129       \n",
      "=================================================================\n",
      "Total params: 164,481\n",
      "Trainable params: 164,481\n",
      "Non-trainable params: 0\n",
      "_________________________________________________________________\n",
      "======Training stage======\n",
      "Epoch 1/10\n",
      "79900/79900 [==============================] - 57s 719us/step - loss: 0.0014 - accuracy: 0.9996\n",
      "Epoch 2/10\n",
      "79900/79900 [==============================] - 57s 719us/step - loss: 0.0013 - accuracy: 0.9996\n",
      "Epoch 3/10\n",
      "79900/79900 [==============================] - 57s 716us/step - loss: 0.0012 - accuracy: 0.9996\n",
      "Epoch 4/10\n",
      "79900/79900 [==============================] - 57s 716us/step - loss: 0.0011 - accuracy: 0.9997\n",
      "Epoch 5/10\n",
      "79900/79900 [==============================] - 57s 716us/step - loss: 0.0010 - accuracy: 0.9997\n",
      "Epoch 6/10\n",
      "79900/79900 [==============================] - 57s 715us/step - loss: 9.4230e-04 - accuracy: 0.9997\n",
      "Epoch 7/10\n",
      "79900/79900 [==============================] - 57s 715us/step - loss: 8.7636e-04 - accuracy: 0.9997\n",
      "Epoch 8/10\n",
      "79900/79900 [==============================] - 57s 716us/step - loss: 8.0309e-04 - accuracy: 0.9998\n",
      "Epoch 9/10\n",
      "79900/79900 [==============================] - 57s 716us/step - loss: 7.1992e-04 - accuracy: 0.9998\n",
      "Epoch 10/10\n",
      "79900/79900 [==============================] - 57s 715us/step - loss: 6.3223e-04 - accuracy: 0.9998\n"
     ]
    },
    {
     "data": {
      "text/plain": [
       "<keras.callbacks.callbacks.History at 0x1772be9cec8>"
      ]
     },
     "execution_count": 19,
     "metadata": {},
     "output_type": "execute_result"
    },
    {
     "name": "stdout",
     "output_type": "stream",
     "text": [
      "accuracy_score 0.999464969587745\n",
      "recall_score 0.775\n",
      "precision_score 0.7971428571428572\n",
      "f1_score 0.7859154929577465\n",
      "Model: \"model_13\"\n",
      "_________________________________________________________________\n",
      "Layer (type)                 Output Shape              Param #   \n",
      "=================================================================\n",
      "input_2 (InputLayer)         (None, 32, 256)           0         \n",
      "_________________________________________________________________\n",
      "bidirectional_2 (Bidirection (None, 32, 128)           164352    \n",
      "_________________________________________________________________\n",
      "time_distributed_2 (TimeDist (None, 32, 1)             129       \n",
      "=================================================================\n",
      "Total params: 164,481\n",
      "Trainable params: 164,481\n",
      "Non-trainable params: 0\n",
      "_________________________________________________________________\n",
      "======Training stage======\n",
      "Epoch 1/10\n",
      "79900/79900 [==============================] - 60s 753us/step - loss: 7.6995e-04 - accuracy: 0.9998\n",
      "Epoch 2/10\n",
      "79900/79900 [==============================] - 60s 753us/step - loss: 6.6016e-04 - accuracy: 0.9998\n",
      "Epoch 3/10\n",
      "79900/79900 [==============================] - 60s 755us/step - loss: 5.6940e-04 - accuracy: 0.9998\n",
      "Epoch 4/10\n",
      "79900/79900 [==============================] - 60s 755us/step - loss: 4.8924e-04 - accuracy: 0.9999\n",
      "Epoch 5/10\n",
      "79900/79900 [==============================] - 60s 756us/step - loss: 4.4909e-04 - accuracy: 0.9999\n",
      "Epoch 6/10\n",
      "79900/79900 [==============================] - 60s 756us/step - loss: 3.8867e-04 - accuracy: 0.9999\n",
      "Epoch 7/10\n",
      "79900/79900 [==============================] - 60s 756us/step - loss: 3.5104e-04 - accuracy: 0.9999\n",
      "Epoch 8/10\n",
      "79900/79900 [==============================] - 60s 756us/step - loss: 2.9971e-04 - accuracy: 0.9999\n",
      "Epoch 9/10\n",
      "79900/79900 [==============================] - 60s 755us/step - loss: 2.8445e-04 - accuracy: 0.9999\n",
      "Epoch 10/10\n",
      "79900/79900 [==============================] - 60s 755us/step - loss: 2.6143e-04 - accuracy: 0.9999\n"
     ]
    },
    {
     "data": {
      "text/plain": [
       "<keras.callbacks.callbacks.History at 0x177303ea108>"
      ]
     },
     "execution_count": 19,
     "metadata": {},
     "output_type": "execute_result"
    },
    {
     "name": "stdout",
     "output_type": "stream",
     "text": [
      "accuracy_score 0.9996550461815724\n",
      "recall_score 0.7987012987012987\n",
      "precision_score 0.8723404255319149\n",
      "f1_score 0.8338983050847457\n",
      "Model: \"model_14\"\n",
      "_________________________________________________________________\n",
      "Layer (type)                 Output Shape              Param #   \n",
      "=================================================================\n",
      "input_2 (InputLayer)         (None, 32, 256)           0         \n",
      "_________________________________________________________________\n",
      "bidirectional_2 (Bidirection (None, 32, 128)           164352    \n",
      "_________________________________________________________________\n",
      "time_distributed_2 (TimeDist (None, 32, 1)             129       \n",
      "=================================================================\n",
      "Total params: 164,481\n",
      "Trainable params: 164,481\n",
      "Non-trainable params: 0\n",
      "_________________________________________________________________\n",
      "======Training stage======\n",
      "Epoch 1/10\n",
      "79900/79900 [==============================] - 62s 774us/step - loss: 4.1640e-04 - accuracy: 0.9999\n",
      "Epoch 2/10\n",
      "79900/79900 [==============================] - 62s 770us/step - loss: 3.1025e-04 - accuracy: 0.9999\n",
      "Epoch 3/10\n",
      "79900/79900 [==============================] - 62s 770us/step - loss: 2.7772e-04 - accuracy: 0.9999\n",
      "Epoch 4/10\n",
      "79900/79900 [==============================] - 62s 771us/step - loss: 2.3721e-04 - accuracy: 0.9999\n",
      "Epoch 5/10\n",
      "79900/79900 [==============================] - 62s 770us/step - loss: 2.1150e-04 - accuracy: 0.9999\n",
      "Epoch 6/10\n",
      "79900/79900 [==============================] - 62s 771us/step - loss: 1.7797e-04 - accuracy: 1.0000\n",
      "Epoch 7/10\n",
      "79900/79900 [==============================] - 62s 770us/step - loss: 1.8334e-04 - accuracy: 0.9999\n",
      "Epoch 8/10\n",
      "79900/79900 [==============================] - 63s 783us/step - loss: 1.4504e-04 - accuracy: 1.0000\n",
      "Epoch 9/10\n",
      "79900/79900 [==============================] - 63s 790us/step - loss: 1.5615e-04 - accuracy: 1.0000 0s - loss: 1.5648e-04 - accuracy: 1. - ETA: 0s - loss: 1.5633e-04 - accuracy: 1.00\n",
      "Epoch 10/10\n",
      "79900/79900 [==============================] - 64s 796us/step - loss: 1.3582e-04 - accuracy: 1.0000\n"
     ]
    },
    {
     "data": {
      "text/plain": [
       "<keras.callbacks.callbacks.History at 0x1773262aa88>"
      ]
     },
     "execution_count": 19,
     "metadata": {},
     "output_type": "execute_result"
    },
    {
     "name": "stdout",
     "output_type": "stream",
     "text": [
      "accuracy_score 0.9997782439738679\n",
      "recall_score 0.9147727272727273\n",
      "precision_score 0.9070422535211268\n",
      "f1_score 0.910891089108911\n",
      "Model: \"model_15\"\n",
      "_________________________________________________________________\n",
      "Layer (type)                 Output Shape              Param #   \n",
      "=================================================================\n",
      "input_2 (InputLayer)         (None, 32, 256)           0         \n",
      "_________________________________________________________________\n",
      "bidirectional_2 (Bidirection (None, 32, 128)           164352    \n",
      "_________________________________________________________________\n",
      "time_distributed_2 (TimeDist (None, 32, 1)             129       \n",
      "=================================================================\n",
      "Total params: 164,481\n",
      "Trainable params: 164,481\n",
      "Non-trainable params: 0\n",
      "_________________________________________________________________\n",
      "======Training stage======\n",
      "Epoch 1/10\n",
      "79900/79900 [==============================] - 66s 829us/step - loss: 2.7002e-04 - accuracy: 0.9999\n",
      "Epoch 2/10\n",
      "79900/79900 [==============================] - 64s 806us/step - loss: 1.8504e-04 - accuracy: 1.0000\n",
      "Epoch 3/10\n",
      "79900/79900 [==============================] - 66s 824us/step - loss: 1.2614e-04 - accuracy: 1.0000\n",
      "Epoch 4/10\n",
      "79900/79900 [==============================] - 66s 824us/step - loss: 1.4521e-04 - accuracy: 1.0000\n",
      "Epoch 5/10\n",
      "79900/79900 [==============================] - 66s 825us/step - loss: 1.4172e-04 - accuracy: 1.0000\n",
      "Epoch 6/10\n",
      "79900/79900 [==============================] - 66s 826us/step - loss: 1.2400e-04 - accuracy: 1.0000\n",
      "Epoch 7/10\n",
      "79900/79900 [==============================] - 66s 827us/step - loss: 1.3700e-04 - accuracy: 1.0000\n",
      "Epoch 8/10\n",
      "79900/79900 [==============================] - 66s 824us/step - loss: 9.9401e-05 - accuracy: 1.0000\n",
      "Epoch 9/10\n",
      "79900/79900 [==============================] - 66s 824us/step - loss: 7.9199e-05 - accuracy: 1.0000\n",
      "Epoch 10/10\n",
      "79900/79900 [==============================] - 66s 825us/step - loss: 9.0301e-05 - accuracy: 1.0000\n"
     ]
    },
    {
     "data": {
      "text/plain": [
       "<keras.callbacks.callbacks.History at 0x1773314e7c8>"
      ]
     },
     "execution_count": 19,
     "metadata": {},
     "output_type": "execute_result"
    },
    {
     "name": "stdout",
     "output_type": "stream",
     "text": [
      "accuracy_score 0.9998732822707818\n",
      "recall_score 0.9153005464480874\n",
      "precision_score 0.9852941176470589\n",
      "f1_score 0.9490084985835694\n",
      "Model: \"model_16\"\n",
      "_________________________________________________________________\n",
      "Layer (type)                 Output Shape              Param #   \n",
      "=================================================================\n",
      "input_2 (InputLayer)         (None, 32, 256)           0         \n",
      "_________________________________________________________________\n",
      "bidirectional_2 (Bidirection (None, 32, 128)           164352    \n",
      "_________________________________________________________________\n",
      "time_distributed_2 (TimeDist (None, 32, 1)             129       \n",
      "=================================================================\n",
      "Total params: 164,481\n",
      "Trainable params: 164,481\n",
      "Non-trainable params: 0\n",
      "_________________________________________________________________\n",
      "======Training stage======\n",
      "Epoch 1/10\n",
      "79900/79900 [==============================] - 66s 823us/step - loss: 1.5761e-04 - accuracy: 1.0000\n",
      "Epoch 2/10\n",
      "79900/79900 [==============================] - 65s 815us/step - loss: 1.1146e-04 - accuracy: 1.0000\n",
      "Epoch 3/10\n",
      "79900/79900 [==============================] - 65s 816us/step - loss: 9.3958e-05 - accuracy: 1.0000\n",
      "Epoch 4/10\n",
      "79900/79900 [==============================] - 65s 816us/step - loss: 9.1086e-05 - accuracy: 1.0000\n",
      "Epoch 5/10\n",
      "79900/79900 [==============================] - 65s 816us/step - loss: 7.3966e-05 - accuracy: 1.0000\n",
      "Epoch 6/10\n",
      "79900/79900 [==============================] - 65s 817us/step - loss: 9.7156e-05 - accuracy: 1.0000\n",
      "Epoch 7/10\n",
      "79900/79900 [==============================] - 65s 815us/step - loss: 6.7137e-05 - accuracy: 1.0000\n",
      "Epoch 8/10\n",
      "79900/79900 [==============================] - 65s 818us/step - loss: 9.6819e-05 - accuracy: 1.0000\n",
      "Epoch 9/10\n",
      "79900/79900 [==============================] - 65s 816us/step - loss: 7.1030e-05 - accuracy: 1.0000\n",
      "Epoch 10/10\n",
      "79900/79900 [==============================] - 65s 817us/step - loss: 5.8566e-05 - accuracy: 1.0000\n"
     ]
    },
    {
     "data": {
      "text/plain": [
       "<keras.callbacks.callbacks.History at 0x1773b47bc48>"
      ]
     },
     "execution_count": 19,
     "metadata": {},
     "output_type": "execute_result"
    },
    {
     "name": "stdout",
     "output_type": "stream",
     "text": [
      "accuracy_score 0.9999014417661636\n",
      "recall_score 0.9486486486486486\n",
      "precision_score 0.975\n",
      "f1_score 0.9616438356164383\n",
      "Model: \"model_17\"\n",
      "_________________________________________________________________\n",
      "Layer (type)                 Output Shape              Param #   \n",
      "=================================================================\n",
      "input_2 (InputLayer)         (None, 32, 256)           0         \n",
      "_________________________________________________________________\n",
      "bidirectional_2 (Bidirection (None, 32, 128)           164352    \n",
      "_________________________________________________________________\n",
      "time_distributed_2 (TimeDist (None, 32, 1)             129       \n",
      "=================================================================\n",
      "Total params: 164,481\n",
      "Trainable params: 164,481\n",
      "Non-trainable params: 0\n",
      "_________________________________________________________________\n",
      "======Training stage======\n",
      "Epoch 1/10\n",
      "79900/79900 [==============================] - 68s 845us/step - loss: 1.0790e-04 - accuracy: 1.0000\n",
      "Epoch 2/10\n",
      "79900/79900 [==============================] - 67s 833us/step - loss: 7.7699e-05 - accuracy: 1.0000\n",
      "Epoch 3/10\n",
      "79900/79900 [==============================] - 66s 827us/step - loss: 5.3783e-05 - accuracy: 1.0000\n",
      "Epoch 4/10\n",
      "79900/79900 [==============================] - 66s 823us/step - loss: 4.6443e-05 - accuracy: 1.0000\n",
      "Epoch 5/10\n",
      "79900/79900 [==============================] - 66s 830us/step - loss: 6.2423e-05 - accuracy: 1.0000\n",
      "Epoch 6/10\n",
      "79900/79900 [==============================] - 66s 827us/step - loss: 6.3826e-05 - accuracy: 1.0000\n",
      "Epoch 7/10\n",
      "79900/79900 [==============================] - 66s 826us/step - loss: 5.2037e-05 - accuracy: 1.0000\n",
      "Epoch 8/10\n",
      "79900/79900 [==============================] - 66s 825us/step - loss: 4.7800e-05 - accuracy: 1.0000\n",
      "Epoch 9/10\n",
      "79900/79900 [==============================] - 66s 826us/step - loss: 5.0825e-05 - accuracy: 1.0000\n",
      "Epoch 10/10\n",
      "79900/79900 [==============================] - 66s 823us/step - loss: 4.5134e-05 - accuracy: 1.0000\n"
     ]
    },
    {
     "data": {
      "text/plain": [
       "<keras.callbacks.callbacks.History at 0x1773bf5cb88>"
      ]
     },
     "execution_count": 19,
     "metadata": {},
     "output_type": "execute_result"
    },
    {
     "name": "stdout",
     "output_type": "stream",
     "text": [
      "accuracy_score 0.9999648006307726\n",
      "recall_score 0.9834254143646409\n",
      "precision_score 0.9888888888888889\n",
      "f1_score 0.9861495844875346\n",
      "Model: \"model_18\"\n",
      "_________________________________________________________________\n",
      "Layer (type)                 Output Shape              Param #   \n",
      "=================================================================\n",
      "input_2 (InputLayer)         (None, 32, 256)           0         \n",
      "_________________________________________________________________\n",
      "bidirectional_2 (Bidirection (None, 32, 128)           164352    \n",
      "_________________________________________________________________\n",
      "time_distributed_2 (TimeDist (None, 32, 1)             129       \n",
      "=================================================================\n",
      "Total params: 164,481\n",
      "Trainable params: 164,481\n",
      "Non-trainable params: 0\n",
      "_________________________________________________________________\n",
      "======Training stage======\n",
      "Epoch 1/10\n",
      "79900/79900 [==============================] - 70s 876us/step - loss: 9.3883e-05 - accuracy: 1.0000\n",
      "Epoch 2/10\n",
      "79900/79900 [==============================] - 69s 860us/step - loss: 7.4987e-05 - accuracy: 1.0000\n",
      "Epoch 3/10\n",
      "79900/79900 [==============================] - 69s 859us/step - loss: 5.6630e-05 - accuracy: 1.0000\n",
      "Epoch 4/10\n",
      "79900/79900 [==============================] - 69s 858us/step - loss: 6.9021e-05 - accuracy: 1.0000\n",
      "Epoch 5/10\n",
      "79900/79900 [==============================] - 68s 847us/step - loss: 5.2110e-05 - accuracy: 1.0000\n",
      "Epoch 6/10\n",
      "79900/79900 [==============================] - 78s 977us/step - loss: 5.3264e-05 - accuracy: 1.0000\n",
      "Epoch 7/10\n",
      "79900/79900 [==============================] - 78s 980us/step - loss: 4.9560e-05 - accuracy: 1.0000\n",
      "Epoch 8/10\n",
      "79900/79900 [==============================] - 78s 979us/step - loss: 4.8058e-05 - accuracy: 1.0000\n",
      "Epoch 9/10\n",
      "79900/79900 [==============================] - 78s 981us/step - loss: 3.6614e-05 - accuracy: 1.0000\n",
      "Epoch 10/10\n",
      "79900/79900 [==============================] - 79s 987us/step - loss: 5.8424e-05 - accuracy: 1.0000\n"
     ]
    },
    {
     "data": {
      "text/plain": [
       "<keras.callbacks.callbacks.History at 0x1773cc53a48>"
      ]
     },
     "execution_count": 19,
     "metadata": {},
     "output_type": "execute_result"
    },
    {
     "name": "stdout",
     "output_type": "stream",
     "text": [
      "accuracy_score 0.9999929601261546\n",
      "recall_score 1.0\n",
      "precision_score 0.9938271604938271\n",
      "f1_score 0.9969040247678018\n",
      "Model: \"model_19\"\n",
      "_________________________________________________________________\n",
      "Layer (type)                 Output Shape              Param #   \n",
      "=================================================================\n",
      "input_2 (InputLayer)         (None, 32, 256)           0         \n",
      "_________________________________________________________________\n",
      "bidirectional_2 (Bidirection (None, 32, 128)           164352    \n",
      "_________________________________________________________________\n",
      "time_distributed_2 (TimeDist (None, 32, 1)             129       \n",
      "=================================================================\n",
      "Total params: 164,481\n",
      "Trainable params: 164,481\n",
      "Non-trainable params: 0\n",
      "_________________________________________________________________\n",
      "======Training stage======\n",
      "Epoch 1/10\n",
      "79901/79901 [==============================] - 85s 1ms/step - loss: 5.5412e-05 - accuracy: 1.0000\n",
      "Epoch 2/10\n",
      "79901/79901 [==============================] - 82s 1ms/step - loss: 5.0309e-05 - accuracy: 1.0000\n",
      "Epoch 3/10\n",
      "79901/79901 [==============================] - 83s 1ms/step - loss: 5.8947e-05 - accuracy: 1.0000\n",
      "Epoch 4/10\n",
      "79901/79901 [==============================] - 82s 1ms/step - loss: 5.1286e-05 - accuracy: 1.0000\n",
      "Epoch 5/10\n",
      "79901/79901 [==============================] - 82s 1ms/step - loss: 6.1622e-05 - accuracy: 1.0000\n",
      "Epoch 6/10\n",
      "79901/79901 [==============================] - 82s 1ms/step - loss: 4.8700e-05 - accuracy: 1.0000\n",
      "Epoch 7/10\n",
      "79901/79901 [==============================] - 82s 1ms/step - loss: 4.1159e-05 - accuracy: 1.0000\n",
      "Epoch 8/10\n",
      "79901/79901 [==============================] - 82s 1ms/step - loss: 3.6070e-05 - accuracy: 1.0000\n",
      "Epoch 9/10\n",
      "79901/79901 [==============================] - 80s 1ms/step - loss: 3.7840e-05 - accuracy: 1.0000\n",
      "Epoch 10/10\n",
      "79901/79901 [==============================] - 81s 1ms/step - loss: 4.5133e-05 - accuracy: 1.0000\n"
     ]
    },
    {
     "data": {
      "text/plain": [
       "<keras.callbacks.callbacks.History at 0x1773e7718c8>"
      ]
     },
     "execution_count": 19,
     "metadata": {},
     "output_type": "execute_result"
    },
    {
     "name": "stdout",
     "output_type": "stream",
     "text": [
      "accuracy_score 0.99998239833277\n",
      "recall_score 0.997229916897507\n",
      "precision_score 0.989010989010989\n",
      "f1_score 0.993103448275862\n",
      "Model: \"model_20\"\n",
      "_________________________________________________________________\n",
      "Layer (type)                 Output Shape              Param #   \n",
      "=================================================================\n",
      "input_2 (InputLayer)         (None, 32, 256)           0         \n",
      "_________________________________________________________________\n",
      "bidirectional_2 (Bidirection (None, 32, 128)           164352    \n",
      "_________________________________________________________________\n",
      "time_distributed_2 (TimeDist (None, 32, 1)             129       \n",
      "=================================================================\n",
      "Total params: 164,481\n",
      "Trainable params: 164,481\n",
      "Non-trainable params: 0\n",
      "_________________________________________________________________\n",
      "======Training stage======\n",
      "Epoch 1/10\n",
      "79901/79901 [==============================] - 82s 1ms/step - loss: 4.7308e-05 - accuracy: 1.0000\n",
      "Epoch 2/10\n",
      "79901/79901 [==============================] - 81s 1ms/step - loss: 3.4521e-05 - accuracy: 1.0000\n",
      "Epoch 3/10\n",
      "79901/79901 [==============================] - 81s 1ms/step - loss: 3.5127e-05 - accuracy: 1.0000\n",
      "Epoch 4/10\n",
      "79901/79901 [==============================] - 81s 1ms/step - loss: 3.2593e-05 - accuracy: 1.0000\n",
      "Epoch 5/10\n",
      "79901/79901 [==============================] - 81s 1ms/step - loss: 2.6149e-05 - accuracy: 1.0000\n",
      "Epoch 6/10\n",
      "79901/79901 [==============================] - 81s 1ms/step - loss: 3.5262e-05 - accuracy: 1.0000\n",
      "Epoch 7/10\n",
      "79901/79901 [==============================] - 80s 1ms/step - loss: 3.4906e-05 - accuracy: 1.0000\n",
      "Epoch 8/10\n",
      "79901/79901 [==============================] - 80s 1ms/step - loss: 4.1551e-05 - accuracy: 1.0000\n",
      "Epoch 9/10\n",
      "79901/79901 [==============================] - 81s 1ms/step - loss: 2.6054e-05 - accuracy: 1.0000\n",
      "Epoch 10/10\n",
      "79901/79901 [==============================] - 80s 1ms/step - loss: 2.5541e-05 - accuracy: 1.0000\n"
     ]
    },
    {
     "data": {
      "text/plain": [
       "<keras.callbacks.callbacks.History at 0x17741547fc8>"
      ]
     },
     "execution_count": 19,
     "metadata": {},
     "output_type": "execute_result"
    },
    {
     "name": "stdout",
     "output_type": "stream",
     "text": [
      "accuracy_score 0.9999894389996621\n",
      "recall_score 0.991044776119403\n",
      "precision_score 1.0\n",
      "f1_score 0.9955022488755623\n",
      "\n",
      "K-fold cross validation Accuracy: [0.9993980907862131, 0.999464969587745, 0.9996550461815724, 0.9997782439738679, 0.9998732822707818, 0.9999014417661636, 0.9999648006307726, 0.9999929601261546, 0.99998239833277, 0.9999894389996621]\n",
      "\n",
      "K-fold cross validation Recall: [0.7683284457478006, 0.775, 0.7987012987012987, 0.9147727272727273, 0.9153005464480874, 0.9486486486486486, 0.9834254143646409, 1.0, 0.997229916897507, 0.991044776119403]\n",
      "\n",
      "K-fold cross validation Precision: [0.7401129943502824, 0.7971428571428572, 0.8723404255319149, 0.9070422535211268, 0.9852941176470589, 0.975, 0.9888888888888889, 0.9938271604938271, 0.989010989010989, 1.0]\n",
      "\n",
      "K-fold cross validation F1-Score: [0.753956834532374, 0.7859154929577465, 0.8338983050847457, 0.910891089108911, 0.9490084985835694, 0.9616438356164383, 0.9861495844875346, 0.9969040247678018, 0.993103448275862, 0.9955022488755623]\n"
     ]
    }
   ],
   "source": [
    "# 교차검증 kfold\n",
    "from sklearn.model_selection import KFold\n",
    "\n",
    "# Accuracy, Precision, Recall, F1-Score\n",
    "from sklearn.metrics import accuracy_score, recall_score, precision_score, f1_score\n",
    "\n",
    "# Confusion Matrix, ROC Curve\n",
    "from sklearn.metrics import confusion_matrix, roc_auc_score\n",
    "\n",
    "# 최종 평가지표들 평균용\n",
    "accuracy, recall, precision, f1score, cm = [], [], [], [], []\n",
    "\n",
    "# 11. 교차검증 kfold - k.split - 10회 / K-Fold 객체 생성\n",
    "# kf = KFold(n_splits=10, shuffle=False, random_state=None) # KFold non shuffle 버전\n",
    "kf = KFold(n_splits=10, shuffle=True, random_state=None) # KFold non shuffle 버전\n",
    "\n",
    "for train, validation in kf.split(x_gcc6_0_32_3, y_gcc6_0_32_3):\n",
    "    model1 = Model(xInput, xOutput)\n",
    "    model1.compile(loss='binary_crossentropy', optimizer='rmsprop', metrics=['accuracy'])\n",
    "    model1.summary()\n",
    "    print('======Training stage======')\n",
    "    model1.fit(x_gcc6_0_32_3[train],\n",
    "               y_gcc6_0_32_3[train],\n",
    "               epochs = 10,\n",
    "               batch_size = 32,\n",
    "               callbacks=[early_stopping])\n",
    "    #k_accuracy = '%.4f' %(model1.evaluate(data_10000x[validation], data_10000y[validation])[1])\n",
    "\n",
    "# 12. 교차검증결과 predict - 검증셋들\n",
    "    # predict 값\n",
    "    k_pr = model1.predict(x_gcc6_0_32_3[validation])\n",
    "    \n",
    "    # 테스트 predict 결과들 비교 (평가지표 보기위함)\n",
    "    pred = np.round(np.array(k_pr).flatten().tolist())\n",
    "    y_test = np.array(y_gcc6_0_32_3[validation]).flatten().tolist()\n",
    "    \n",
    "# 13. 평가지표들 출력\n",
    "    ## 평가지표들\n",
    "    k_accuracy = float(accuracy_score(y_test, pred))\n",
    "    k_recall =  float(recall_score(y_test, pred))\n",
    "    k_precision = float(precision_score(y_test, pred))\n",
    "    k_f1_score = float(f1_score(y_test, pred))\n",
    "    #k_cm = float(confusion_matrix(y_test, pred))\n",
    "    \n",
    "    print('accuracy_score', k_accuracy)\n",
    "    print('recall_score', k_recall)\n",
    "    print('precision_score', k_precision)\n",
    "    print('f1_score', k_f1_score)\n",
    "    #print('\\nconfusion_matrix\\n', k_cm)\n",
    "\n",
    "    accuracy.append(k_accuracy)\n",
    "    recall.append(k_recall)\n",
    "    precision.append(k_precision)\n",
    "    f1score.append(k_f1_score)\n",
    "    #cm.append(k_cm)\n",
    "#    print('roc_curve 면적', roc_auc_score(y_test, pred))\n",
    "\n",
    "# 14. 최종 결과지표\n",
    "print('\\nK-fold cross validation Accuracy: {}'.format(accuracy))\n",
    "print('\\nK-fold cross validation Recall: {}'.format(recall))\n",
    "print('\\nK-fold cross validation Precision: {}'.format(precision))\n",
    "print('\\nK-fold cross validation F1-Score: {}'.format(f1score))\n",
    "#print('\\nK-fold cross validation ConfusionMatrix: {}'.format(cm))"
   ]
  },
  {
   "cell_type": "markdown",
   "metadata": {},
   "source": [
    "## (9) 평가지표"
   ]
  },
  {
   "cell_type": "code",
   "execution_count": 20,
   "metadata": {},
   "outputs": [
    {
     "name": "stdout",
     "output_type": "stream",
     "text": [
      "10-Fold Cross_validation. Accuracy : 0.9998000672655702\n",
      "10-Fold Cross_validation. Recall : 0.9092451774200114\n",
      "10-Fold Cross_validation. Precision : 0.9248659686586945\n",
      "10-Fold Cross_validation. F1-Score : 0.9166973362290545\n"
     ]
    }
   ],
   "source": [
    "print('10-Fold Cross_validation. Accuracy :', np.mean(accuracy))\n",
    "print('10-Fold Cross_validation. Recall :', np.mean(recall))\n",
    "print('10-Fold Cross_validation. Precision :', np.mean(precision))\n",
    "print('10-Fold Cross_validation. F1-Score :', np.mean(f1score))"
   ]
  }
 ],
 "metadata": {
  "kernelspec": {
   "display_name": "Python 3",
   "language": "python",
   "name": "python3"
  },
  "language_info": {
   "codemirror_mode": {
    "name": "ipython",
    "version": 3
   },
   "file_extension": ".py",
   "mimetype": "text/x-python",
   "name": "python",
   "nbconvert_exporter": "python",
   "pygments_lexer": "ipython3",
   "version": "3.7.6"
  }
 },
 "nbformat": 4,
 "nbformat_minor": 4
}
