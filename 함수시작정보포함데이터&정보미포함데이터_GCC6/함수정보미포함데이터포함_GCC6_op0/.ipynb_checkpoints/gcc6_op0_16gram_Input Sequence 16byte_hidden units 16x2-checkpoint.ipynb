{
 "cells": [
  {
   "cell_type": "markdown",
   "metadata": {},
   "source": [
    "## RNN 모델 N-Byte 방식 (함수정보 포함 vs 미포함 => 1:1 비율)\n",
    "\n",
    "## (1) 데이터로드"
   ]
  },
  {
   "cell_type": "code",
   "execution_count": 1,
   "metadata": {},
   "outputs": [
    {
     "name": "stdout",
     "output_type": "stream",
     "text": [
      "(13936744, 2)\n",
      "reset_index 완료\n",
      "input data shape\n"
     ]
    },
    {
     "data": {
      "text/html": [
       "<div>\n",
       "<style scoped>\n",
       "    .dataframe tbody tr th:only-of-type {\n",
       "        vertical-align: middle;\n",
       "    }\n",
       "\n",
       "    .dataframe tbody tr th {\n",
       "        vertical-align: top;\n",
       "    }\n",
       "\n",
       "    .dataframe thead th {\n",
       "        text-align: right;\n",
       "    }\n",
       "</style>\n",
       "<table border=\"1\" class=\"dataframe\">\n",
       "  <thead>\n",
       "    <tr style=\"text-align: right;\">\n",
       "      <th></th>\n",
       "      <th>bin</th>\n",
       "      <th>label</th>\n",
       "    </tr>\n",
       "  </thead>\n",
       "  <tbody>\n",
       "    <tr>\n",
       "      <th>0</th>\n",
       "      <td>53</td>\n",
       "      <td>1</td>\n",
       "    </tr>\n",
       "    <tr>\n",
       "      <th>1</th>\n",
       "      <td>83</td>\n",
       "      <td>0</td>\n",
       "    </tr>\n",
       "    <tr>\n",
       "      <th>2</th>\n",
       "      <td>ec</td>\n",
       "      <td>0</td>\n",
       "    </tr>\n",
       "    <tr>\n",
       "      <th>3</th>\n",
       "      <td>08</td>\n",
       "      <td>0</td>\n",
       "    </tr>\n",
       "    <tr>\n",
       "      <th>4</th>\n",
       "      <td>e8</td>\n",
       "      <td>0</td>\n",
       "    </tr>\n",
       "  </tbody>\n",
       "</table>\n",
       "</div>"
      ],
      "text/plain": [
       "  bin  label\n",
       "0  53      1\n",
       "1  83      0\n",
       "2  ec      0\n",
       "3  08      0\n",
       "4  e8      0"
      ]
     },
     "execution_count": 1,
     "metadata": {},
     "output_type": "execute_result"
    }
   ],
   "source": [
    "# (1) 데이터로드\n",
    "import pandas as pd\n",
    "import numpy as np\n",
    "\n",
    "import warnings\n",
    "warnings.filterwarnings(action='ignore')\n",
    "\n",
    "# 여러개 쳐도 나오게\n",
    "from IPython.core.interactiveshell import InteractiveShell\n",
    "InteractiveShell.ast_node_interactivity = \"all\"\n",
    "\n",
    "# 파일읽기\n",
    "gcc6_0_32 = pd.read_csv(\"../data/binutils_gcc3~9_op0~4_exec_csv/\"+'gcc6'+\"_0_32_exec.csv\", index_col=0)\n",
    "\n",
    "# 형태 출력\n",
    "print(gcc6_0_32.shape)\n",
    "\n",
    "# reset_index (hex processing 하면서 값이 빠졌으니까 + n_gram 에서 index를 다루기 때문에)\n",
    "gcc6_0_32.reset_index(inplace=True, drop=True)\n",
    "\n",
    "print('reset_index 완료')\n",
    "print('input data shape')\n",
    "gcc6_0_32.head()"
   ]
  },
  {
   "cell_type": "code",
   "execution_count": 2,
   "metadata": {},
   "outputs": [
    {
     "name": "stdout",
     "output_type": "stream",
     "text": [
      "256\n",
      "0    13892354\n",
      "1       44390\n",
      "Name: label, dtype: int64\n"
     ]
    }
   ],
   "source": [
    "# (2-1) 데이터체크 1 - hex(16진수)가 256 label을 가져야 dummies 변환 가능 \n",
    "\n",
    "# 16진수 256개 종류가 있어서 pd.get_dummies 사용 가능.\n",
    "print(len(gcc6_0_32['bin'].unique()))\n",
    "\n",
    "# (2-2) 데이터 체크 2 - 1, 0 비율 ==> 1이 함수의 갯수를 뜻함\n",
    "# 정답 데이터 1, 0 비율 확인  ==> 1이 함수의 갯수를 뜻함\n",
    "print(gcc6_0_32['label'].value_counts())"
   ]
  },
  {
   "cell_type": "markdown",
   "metadata": {},
   "source": [
    "## (3) N Byte씩 자르기"
   ]
  },
  {
   "cell_type": "code",
   "execution_count": 3,
   "metadata": {},
   "outputs": [
    {
     "name": "stdout",
     "output_type": "stream",
     "text": [
      "710240\n",
      "나머지 0\n",
      "최종 길이 710240\n",
      "gcc6_0_32 710240\n"
     ]
    }
   ],
   "source": [
    "######################## \n",
    "idx = gcc6_0_32[gcc6_0_32['label']==1].index  # 407, 474 ...\n",
    "ls = list(idx)\n",
    "\n",
    "# 최종 뽑을 행에 대한 index\n",
    "ls_idx = [] \n",
    "left_idx, right_idx = 0, 16 # 3개씩\n",
    "\n",
    "# 6gram\n",
    "for k in range(left_idx, right_idx):\n",
    "    ls_idx.extend(list(idx + k)) # index 형이라서 가능\n",
    "\n",
    "#ls_idx = list(set(ls_idx)) \n",
    "ls_idx.sort() # 인덱스 정렬\n",
    "\n",
    "# 1차 index 해당범위 초과한 것들 없애기\n",
    "ls_idx = list(filter(lambda x: x<len(gcc6_0_32), ls_idx))\n",
    "print(len(ls_idx))\n",
    "\n",
    "# 2차 남은 index들 중 right_idx 나눈 나머지 없애기\n",
    "sub = len(ls_idx)%(right_idx)\n",
    "print('나머지', sub)\n",
    "\n",
    "ls_idx = ls_idx[:len(ls_idx)-sub]\n",
    "print('최종 길이', len(ls_idx))\n",
    "\n",
    "print('gcc6_0_32', len(ls_idx))\n",
    "\n",
    "# loc 로 수정필요\n",
    "gcc6_0_32_Ngram = gcc6_0_32.loc[ls_idx,:].copy()"
   ]
  },
  {
   "cell_type": "markdown",
   "metadata": {},
   "source": [
    "## (4) false data 만들기"
   ]
  },
  {
   "cell_type": "code",
   "execution_count": 4,
   "metadata": {},
   "outputs": [
    {
     "name": "stdout",
     "output_type": "stream",
     "text": [
      "0 1000 2000 3000 4000 5000 6000 7000 8000 9000 10000 11000 12000 13000 14000 15000 16000 17000 18000 19000 20000 21000 22000 23000 24000 25000 26000 27000 28000 29000 30000 31000 32000 33000 34000 35000 36000 37000 38000 39000 40000 41000 42000 43000 44000 완료\n"
     ]
    }
   ],
   "source": [
    "# false data 만들기 - False 데이터 랜덤 생성\n",
    "# random index\n",
    "random_idx = np.random.randint(len(gcc6_0_32)-right_idx)\n",
    "\n",
    "# 목표치\n",
    "goal = len(gcc6_0_32_Ngram)/right_idx\n",
    "count=0\n",
    "\n",
    "d = pd.DataFrame(columns=gcc6_0_32.columns)\n",
    "\n",
    "# goal 에 도달할 때까지\n",
    "while count!=goal:\n",
    "    \n",
    "    # 진행상황 살펴보기 위함\n",
    "    if count%1000==0:\n",
    "        print(count, end=' ')\n",
    "        \n",
    "    # 랜덤 N 바이트씩 뽑음\n",
    "    df = gcc6_0_32[random_idx:random_idx+right_idx]\n",
    "    \n",
    "    # 뽑은 index의 N 바이트 중에 1이 없는 경우만\n",
    "    if 1 not in df['label']:\n",
    "        d = pd.concat([d, df])\n",
    "        count+=1\n",
    "\n",
    "print('완료')"
   ]
  },
  {
   "cell_type": "markdown",
   "metadata": {},
   "source": [
    "## (5) False Data + True Data 합치기"
   ]
  },
  {
   "cell_type": "code",
   "execution_count": 5,
   "metadata": {},
   "outputs": [
    {
     "name": "stdout",
     "output_type": "stream",
     "text": [
      "0 1000 2000 3000 4000 5000 6000 7000 8000 9000 10000 11000 12000 13000 14000 15000 16000 17000 18000 19000 20000 21000 22000 23000 24000 25000 26000 27000 28000 29000 30000 31000 32000 33000 34000 35000 36000 37000 38000 39000 40000 41000 42000 43000 44000 "
     ]
    },
    {
     "data": {
      "text/plain": [
       "(1420480, 2)"
      ]
     },
     "execution_count": 5,
     "metadata": {},
     "output_type": "execute_result"
    }
   ],
   "source": [
    "ff = pd.DataFrame(columns=gcc6_0_32.columns)\n",
    "\n",
    "for i in range(0, int(len(d)/right_idx)):\n",
    "    ff = pd.concat([ff, gcc6_0_32[i*right_idx:(i+1)*right_idx], d[i*right_idx:(i+1)*right_idx]])\n",
    "    \n",
    "    if i%1000==0:\n",
    "        print(i, end=' ')\n",
    "ff.shape"
   ]
  },
  {
   "cell_type": "markdown",
   "metadata": {},
   "source": [
    "## (6) one hot encoding"
   ]
  },
  {
   "cell_type": "code",
   "execution_count": 6,
   "metadata": {},
   "outputs": [
    {
     "name": "stdout",
     "output_type": "stream",
     "text": [
      "원핫인코딩완료\n",
      "(1420480, 257)\n"
     ]
    }
   ],
   "source": [
    "# 훈련데이터 (gcc 최적화버전 0, 1, 2, 3 one hot encoding)\n",
    "gcc6_0_32_onehot_Ngram = pd.get_dummies(ff['bin'])\n",
    "gcc6_0_32_onehot_Ngram = pd.concat([ff['label'], gcc6_0_32_onehot_Ngram], axis=1)\n",
    "\n",
    "print('원핫인코딩완료')\n",
    "print(gcc6_0_32_onehot_Ngram.shape)"
   ]
  },
  {
   "cell_type": "code",
   "execution_count": 7,
   "metadata": {},
   "outputs": [
    {
     "name": "stdout",
     "output_type": "stream",
     "text": [
      "(1420480, 256) (1420480,)\n",
      "(88780, 16, 256) (88780, 16, 1)\n"
     ]
    }
   ],
   "source": [
    "# 훈련 데이터, 훈련 라벨\n",
    "x_gcc6_0_32_3 = gcc6_0_32_onehot_Ngram.iloc[:,1:].to_numpy()\n",
    "y_gcc6_0_32_3 = gcc6_0_32_onehot_Ngram['label'].to_numpy()\n",
    "print(x_gcc6_0_32_3.shape, y_gcc6_0_32_3.shape)\n",
    "\n",
    "x_gcc6_0_32_3 = x_gcc6_0_32_3.reshape(-1, right_idx, x_gcc6_0_32_3.shape[1])\n",
    "y_gcc6_0_32_3 = y_gcc6_0_32_3.reshape(-1, right_idx, 1)\n",
    "\n",
    "print(x_gcc6_0_32_3.shape, y_gcc6_0_32_3.shape)"
   ]
  },
  {
   "cell_type": "markdown",
   "metadata": {},
   "source": [
    "## (7) 모델"
   ]
  },
  {
   "cell_type": "code",
   "execution_count": 8,
   "metadata": {},
   "outputs": [
    {
     "name": "stderr",
     "output_type": "stream",
     "text": [
      "Using TensorFlow backend.\n"
     ]
    },
    {
     "name": "stdout",
     "output_type": "stream",
     "text": [
      "Model: \"model_1\"\n",
      "_________________________________________________________________\n",
      "Layer (type)                 Output Shape              Param #   \n",
      "=================================================================\n",
      "input_1 (InputLayer)         (None, 16, 256)           0         \n",
      "_________________________________________________________________\n",
      "bidirectional_1 (Bidirection (None, 16, 32)            34944     \n",
      "_________________________________________________________________\n",
      "time_distributed_1 (TimeDist (None, 16, 1)             33        \n",
      "=================================================================\n",
      "Total params: 34,977\n",
      "Trainable params: 34,977\n",
      "Non-trainable params: 0\n",
      "_________________________________________________________________\n"
     ]
    }
   ],
   "source": [
    "# (10) 양방향 LSTM 모델링 작업\n",
    "from keras.models import Model, Sequential\n",
    "from keras.layers import SimpleRNN, Input, Dense, LSTM\n",
    "from keras.layers import Bidirectional, TimeDistributed\n",
    "\n",
    "# 학습\n",
    "from keras.callbacks import EarlyStopping\n",
    "early_stopping = EarlyStopping(patience = 3) # 조기종료 콜백함수 정의\n",
    "\n",
    "xInput = Input(batch_shape=(None,right_idx, 256)) \n",
    "xBiLstm = Bidirectional(LSTM(16, return_sequences=True), merge_mode = 'concat')(xInput)\n",
    "xOutput = TimeDistributed(Dense(1, activation ='sigmoid'))(xBiLstm) # 각 스텝에서 cost가 전송되고, 오류가 다음 step으로 전송됨.\n",
    "\n",
    "model1 = Model(xInput, xOutput)\n",
    "model1.compile(loss='binary_crossentropy', optimizer='rmsprop', metrics=['accuracy'])\n",
    "model1.summary()"
   ]
  },
  {
   "cell_type": "markdown",
   "metadata": {},
   "source": [
    "## (8) 학습 - 10 KFold"
   ]
  },
  {
   "cell_type": "code",
   "execution_count": 9,
   "metadata": {
    "scrolled": false
   },
   "outputs": [
    {
     "name": "stdout",
     "output_type": "stream",
     "text": [
      "======Training stage======\n",
      "Epoch 1/10\n",
      "79902/79902 [==============================] - 24s 301us/step - loss: 0.0113 - accuracy: 0.9989\n",
      "Epoch 2/10\n",
      "79902/79902 [==============================] - 24s 294us/step - loss: 0.0029 - accuracy: 0.9992\n",
      "Epoch 3/10\n",
      "79902/79902 [==============================] - 24s 295us/step - loss: 0.0027 - accuracy: 0.9992\n",
      "Epoch 4/10\n",
      "79902/79902 [==============================] - 24s 295us/step - loss: 0.0026 - accuracy: 0.9992\n",
      "Epoch 5/10\n",
      "79902/79902 [==============================] - 24s 295us/step - loss: 0.0026 - accuracy: 0.9993\n",
      "Epoch 6/10\n",
      "79902/79902 [==============================] - 24s 295us/step - loss: 0.0025 - accuracy: 0.9993\n",
      "Epoch 7/10\n",
      "79902/79902 [==============================] - 24s 296us/step - loss: 0.0024 - accuracy: 0.9993\n",
      "Epoch 8/10\n",
      "79902/79902 [==============================] - 24s 296us/step - loss: 0.0024 - accuracy: 0.9993\n",
      "Epoch 9/10\n",
      "79902/79902 [==============================] - 24s 296us/step - loss: 0.0024 - accuracy: 0.9993\n",
      "Epoch 10/10\n",
      "79902/79902 [==============================] - 24s 297us/step - loss: 0.0023 - accuracy: 0.9993\n"
     ]
    },
    {
     "data": {
      "text/plain": [
       "<keras.callbacks.callbacks.History at 0x21eb9bf50c8>"
      ]
     },
     "execution_count": 9,
     "metadata": {},
     "output_type": "execute_result"
    },
    {
     "name": "stdout",
     "output_type": "stream",
     "text": [
      "accuracy_score 0.999204494255463\n",
      "recall_score 0.6644295302013423\n",
      "precision_score 0.6111111111111112\n",
      "f1_score 0.6366559485530547\n",
      "======Training stage======\n",
      "Epoch 1/10\n",
      "79902/79902 [==============================] - 23s 294us/step - loss: 0.0023 - accuracy: 0.9993\n",
      "Epoch 2/10\n",
      "79902/79902 [==============================] - 23s 291us/step - loss: 0.0023 - accuracy: 0.9993\n",
      "Epoch 3/10\n",
      "79902/79902 [==============================] - 23s 291us/step - loss: 0.0022 - accuracy: 0.9993\n",
      "Epoch 4/10\n",
      "79902/79902 [==============================] - 23s 292us/step - loss: 0.0022 - accuracy: 0.9993\n",
      "Epoch 5/10\n",
      "79902/79902 [==============================] - 23s 293us/step - loss: 0.0022 - accuracy: 0.9993\n",
      "Epoch 6/10\n",
      "79902/79902 [==============================] - 23s 292us/step - loss: 0.0022 - accuracy: 0.9994\n",
      "Epoch 7/10\n",
      "79902/79902 [==============================] - 23s 293us/step - loss: 0.0021 - accuracy: 0.9994\n",
      "Epoch 8/10\n",
      "79902/79902 [==============================] - 23s 293us/step - loss: 0.0021 - accuracy: 0.9994\n",
      "Epoch 9/10\n",
      "79902/79902 [==============================] - 23s 293us/step - loss: 0.0021 - accuracy: 0.9994\n",
      "Epoch 10/10\n",
      "79902/79902 [==============================] - 23s 293us/step - loss: 0.0021 - accuracy: 0.9994\n"
     ]
    },
    {
     "data": {
      "text/plain": [
       "<keras.callbacks.callbacks.History at 0x21eb9b02ac8>"
      ]
     },
     "execution_count": 9,
     "metadata": {},
     "output_type": "execute_result"
    },
    {
     "name": "stdout",
     "output_type": "stream",
     "text": [
      "accuracy_score 0.9994579297138996\n",
      "recall_score 0.6938775510204082\n",
      "precision_score 0.7611940298507462\n",
      "f1_score 0.7259786476868326\n",
      "======Training stage======\n",
      "Epoch 1/10\n",
      "79902/79902 [==============================] - 23s 293us/step - loss: 0.0021 - accuracy: 0.9994\n",
      "Epoch 2/10\n",
      "79902/79902 [==============================] - 23s 294us/step - loss: 0.0021 - accuracy: 0.9994\n",
      "Epoch 3/10\n",
      "79902/79902 [==============================] - 24s 294us/step - loss: 0.0021 - accuracy: 0.9994\n",
      "Epoch 4/10\n",
      "79902/79902 [==============================] - 24s 294us/step - loss: 0.0021 - accuracy: 0.9994\n",
      "Epoch 5/10\n",
      "79902/79902 [==============================] - 24s 294us/step - loss: 0.0021 - accuracy: 0.9994\n",
      "Epoch 6/10\n",
      "79902/79902 [==============================] - 23s 293us/step - loss: 0.0021 - accuracy: 0.9994\n",
      "Epoch 7/10\n",
      "79902/79902 [==============================] - 23s 294us/step - loss: 0.0020 - accuracy: 0.9994\n",
      "Epoch 8/10\n",
      "79902/79902 [==============================] - 23s 294us/step - loss: 0.0020 - accuracy: 0.9994\n",
      "Epoch 9/10\n",
      "79902/79902 [==============================] - 23s 293us/step - loss: 0.0020 - accuracy: 0.9994\n",
      "Epoch 10/10\n",
      "79902/79902 [==============================] - 23s 293us/step - loss: 0.0020 - accuracy: 0.9994\n"
     ]
    },
    {
     "data": {
      "text/plain": [
       "<keras.callbacks.callbacks.History at 0x21eb9c90148>"
      ]
     },
     "execution_count": 9,
     "metadata": {},
     "output_type": "execute_result"
    },
    {
     "name": "stdout",
     "output_type": "stream",
     "text": [
      "accuracy_score 0.9995001689569722\n",
      "recall_score 0.7315436241610739\n",
      "precision_score 0.7785714285714286\n",
      "f1_score 0.754325259515571\n",
      "======Training stage======\n",
      "Epoch 1/10\n",
      "79902/79902 [==============================] - 23s 293us/step - loss: 0.0019 - accuracy: 0.9994\n",
      "Epoch 2/10\n",
      "79902/79902 [==============================] - 24s 294us/step - loss: 0.0019 - accuracy: 0.9994\n",
      "Epoch 3/10\n",
      "79902/79902 [==============================] - 23s 294us/step - loss: 0.0019 - accuracy: 0.9994\n",
      "Epoch 4/10\n",
      "79902/79902 [==============================] - 23s 294us/step - loss: 0.0019 - accuracy: 0.9994\n",
      "Epoch 5/10\n",
      "79902/79902 [==============================] - 23s 289us/step - loss: 0.0019 - accuracy: 0.9994\n",
      "Epoch 6/10\n",
      "79902/79902 [==============================] - 23s 283us/step - loss: 0.0019 - accuracy: 0.9994\n",
      "Epoch 7/10\n",
      "79902/79902 [==============================] - 23s 284us/step - loss: 0.0019 - accuracy: 0.9995\n",
      "Epoch 8/10\n",
      "79902/79902 [==============================] - 23s 283us/step - loss: 0.0018 - accuracy: 0.9995\n",
      "Epoch 9/10\n",
      "79902/79902 [==============================] - 23s 283us/step - loss: 0.0018 - accuracy: 0.9995\n",
      "Epoch 10/10\n",
      "79902/79902 [==============================] - 23s 284us/step - loss: 0.0018 - accuracy: 0.9995\n"
     ]
    },
    {
     "data": {
      "text/plain": [
       "<keras.callbacks.callbacks.History at 0x21eb9c89248>"
      ]
     },
     "execution_count": 9,
     "metadata": {},
     "output_type": "execute_result"
    },
    {
     "name": "stdout",
     "output_type": "stream",
     "text": [
      "accuracy_score 0.999359371480063\n",
      "recall_score 0.69375\n",
      "precision_score 0.7254901960784313\n",
      "f1_score 0.7092651757188498\n",
      "======Training stage======\n",
      "Epoch 1/10\n",
      "79902/79902 [==============================] - 23s 283us/step - loss: 0.0018 - accuracy: 0.9995\n",
      "Epoch 2/10\n",
      "79902/79902 [==============================] - 22s 282us/step - loss: 0.0018 - accuracy: 0.9995\n",
      "Epoch 3/10\n",
      "79902/79902 [==============================] - 23s 282us/step - loss: 0.0018 - accuracy: 0.9995\n",
      "Epoch 4/10\n",
      "79902/79902 [==============================] - 23s 282us/step - loss: 0.0018 - accuracy: 0.9995\n",
      "Epoch 5/10\n",
      "79902/79902 [==============================] - 22s 281us/step - loss: 0.0018 - accuracy: 0.9995\n",
      "Epoch 6/10\n",
      "79902/79902 [==============================] - 23s 282us/step - loss: 0.0018 - accuracy: 0.9995\n",
      "Epoch 7/10\n",
      "79902/79902 [==============================] - 22s 281us/step - loss: 0.0017 - accuracy: 0.9995\n",
      "Epoch 8/10\n",
      "79902/79902 [==============================] - 23s 282us/step - loss: 0.0018 - accuracy: 0.9995\n",
      "Epoch 9/10\n",
      "79902/79902 [==============================] - 23s 283us/step - loss: 0.0017 - accuracy: 0.9995\n",
      "Epoch 10/10\n",
      "79902/79902 [==============================] - 23s 282us/step - loss: 0.0017 - accuracy: 0.9995\n"
     ]
    },
    {
     "data": {
      "text/plain": [
       "<keras.callbacks.callbacks.History at 0x21eb9c81348>"
      ]
     },
     "execution_count": 9,
     "metadata": {},
     "output_type": "execute_result"
    },
    {
     "name": "stdout",
     "output_type": "stream",
     "text": [
      "accuracy_score 0.999373451227754\n",
      "recall_score 0.7267080745341615\n",
      "precision_score 0.7222222222222222\n",
      "f1_score 0.7244582043343654\n",
      "======Training stage======\n",
      "Epoch 1/10\n",
      "79902/79902 [==============================] - 23s 282us/step - loss: 0.0018 - accuracy: 0.9995\n",
      "Epoch 2/10\n",
      "79902/79902 [==============================] - 23s 282us/step - loss: 0.0018 - accuracy: 0.9995\n",
      "Epoch 3/10\n",
      "79902/79902 [==============================] - 23s 282us/step - loss: 0.0018 - accuracy: 0.9995\n",
      "Epoch 4/10\n",
      "79902/79902 [==============================] - 23s 282us/step - loss: 0.0018 - accuracy: 0.9995\n",
      "Epoch 5/10\n",
      "79902/79902 [==============================] - 23s 282us/step - loss: 0.0018 - accuracy: 0.9995\n",
      "Epoch 6/10\n",
      "79902/79902 [==============================] - 23s 282us/step - loss: 0.0017 - accuracy: 0.9995\n",
      "Epoch 7/10\n",
      "79902/79902 [==============================] - 23s 282us/step - loss: 0.0017 - accuracy: 0.9995\n",
      "Epoch 8/10\n",
      "79902/79902 [==============================] - 23s 282us/step - loss: 0.0017 - accuracy: 0.9995\n",
      "Epoch 9/10\n",
      "79902/79902 [==============================] - 23s 282us/step - loss: 0.0017 - accuracy: 0.9995\n",
      "Epoch 10/10\n",
      "79902/79902 [==============================] - 23s 282us/step - loss: 0.0017 - accuracy: 0.9995\n"
     ]
    },
    {
     "data": {
      "text/plain": [
       "<keras.callbacks.callbacks.History at 0x21eb9c8b348>"
      ]
     },
     "execution_count": 9,
     "metadata": {},
     "output_type": "execute_result"
    },
    {
     "name": "stdout",
     "output_type": "stream",
     "text": [
      "accuracy_score 0.999373451227754\n",
      "recall_score 0.5872093023255814\n",
      "precision_score 0.8487394957983193\n",
      "f1_score 0.6941580756013745\n",
      "======Training stage======\n",
      "Epoch 1/10\n",
      "79902/79902 [==============================] - 22s 279us/step - loss: 0.0017 - accuracy: 0.9995\n",
      "Epoch 2/10\n",
      "79902/79902 [==============================] - 22s 277us/step - loss: 0.0017 - accuracy: 0.9995\n",
      "Epoch 3/10\n",
      "79902/79902 [==============================] - 22s 277us/step - loss: 0.0017 - accuracy: 0.9995\n",
      "Epoch 4/10\n",
      "79902/79902 [==============================] - 22s 277us/step - loss: 0.0017 - accuracy: 0.9995\n",
      "Epoch 5/10\n",
      "79902/79902 [==============================] - 22s 277us/step - loss: 0.0016 - accuracy: 0.9995\n",
      "Epoch 6/10\n",
      "79902/79902 [==============================] - 22s 278us/step - loss: 0.0016 - accuracy: 0.9995\n",
      "Epoch 7/10\n",
      "79902/79902 [==============================] - 22s 279us/step - loss: 0.0016 - accuracy: 0.9995\n",
      "Epoch 8/10\n",
      "79902/79902 [==============================] - 22s 279us/step - loss: 0.0016 - accuracy: 0.9995\n",
      "Epoch 9/10\n",
      "79902/79902 [==============================] - 22s 279us/step - loss: 0.0016 - accuracy: 0.9995\n",
      "Epoch 10/10\n",
      "79902/79902 [==============================] - 22s 279us/step - loss: 0.0016 - accuracy: 0.9996\n"
     ]
    },
    {
     "data": {
      "text/plain": [
       "<keras.callbacks.callbacks.History at 0x21eba1ed488>"
      ]
     },
     "execution_count": 9,
     "metadata": {},
     "output_type": "execute_result"
    },
    {
     "name": "stdout",
     "output_type": "stream",
     "text": [
      "accuracy_score 0.999296012615454\n",
      "recall_score 0.5686274509803921\n",
      "precision_score 0.71900826446281\n",
      "f1_score 0.635036496350365\n",
      "======Training stage======\n",
      "Epoch 1/10\n",
      "79902/79902 [==============================] - 22s 279us/step - loss: 0.0017 - accuracy: 0.9995\n",
      "Epoch 2/10\n",
      "79902/79902 [==============================] - 22s 278us/step - loss: 0.0016 - accuracy: 0.9995\n",
      "Epoch 3/10\n",
      "79902/79902 [==============================] - 22s 279us/step - loss: 0.0016 - accuracy: 0.9996\n",
      "Epoch 4/10\n",
      "79902/79902 [==============================] - 22s 279us/step - loss: 0.0016 - accuracy: 0.9996\n",
      "Epoch 5/10\n",
      "79902/79902 [==============================] - 22s 279us/step - loss: 0.0016 - accuracy: 0.9996\n",
      "Epoch 6/10\n",
      "79902/79902 [==============================] - 22s 279us/step - loss: 0.0016 - accuracy: 0.9996\n",
      "Epoch 7/10\n",
      "79902/79902 [==============================] - 22s 276us/step - loss: 0.0016 - accuracy: 0.9996\n",
      "Epoch 8/10\n",
      "79902/79902 [==============================] - 22s 276us/step - loss: 0.0016 - accuracy: 0.9996\n",
      "Epoch 9/10\n",
      "79902/79902 [==============================] - 22s 276us/step - loss: 0.0016 - accuracy: 0.9996\n",
      "Epoch 10/10\n",
      "79902/79902 [==============================] - 22s 277us/step - loss: 0.0016 - accuracy: 0.9996\n"
     ]
    },
    {
     "data": {
      "text/plain": [
       "<keras.callbacks.callbacks.History at 0x21eba1b3188>"
      ]
     },
     "execution_count": 9,
     "metadata": {},
     "output_type": "execute_result"
    },
    {
     "name": "stdout",
     "output_type": "stream",
     "text": [
      "accuracy_score 0.9994086505969813\n",
      "recall_score 0.6027397260273972\n",
      "precision_score 0.7719298245614035\n",
      "f1_score 0.676923076923077\n",
      "======Training stage======\n",
      "Epoch 1/10\n",
      "79902/79902 [==============================] - 22s 276us/step - loss: 0.0017 - accuracy: 0.9996\n",
      "Epoch 2/10\n",
      "79902/79902 [==============================] - 22s 276us/step - loss: 0.0017 - accuracy: 0.9995\n",
      "Epoch 3/10\n",
      "79902/79902 [==============================] - 22s 275us/step - loss: 0.0016 - accuracy: 0.9995\n",
      "Epoch 4/10\n",
      "79902/79902 [==============================] - 22s 274us/step - loss: 0.0016 - accuracy: 0.9995\n",
      "Epoch 5/10\n",
      "79902/79902 [==============================] - 22s 275us/step - loss: 0.0016 - accuracy: 0.9995\n",
      "Epoch 6/10\n",
      "79902/79902 [==============================] - 22s 274us/step - loss: 0.0016 - accuracy: 0.9996\n",
      "Epoch 7/10\n",
      "79902/79902 [==============================] - 22s 274us/step - loss: 0.0016 - accuracy: 0.9996\n",
      "Epoch 8/10\n",
      "79902/79902 [==============================] - 22s 275us/step - loss: 0.0016 - accuracy: 0.9996\n",
      "Epoch 9/10\n",
      "79902/79902 [==============================] - 22s 274us/step - loss: 0.0016 - accuracy: 0.9996\n",
      "Epoch 10/10\n",
      "79902/79902 [==============================] - 22s 275us/step - loss: 0.0015 - accuracy: 0.9996\n"
     ]
    },
    {
     "data": {
      "text/plain": [
       "<keras.callbacks.callbacks.History at 0x21eba1b9388>"
      ]
     },
     "execution_count": 9,
     "metadata": {},
     "output_type": "execute_result"
    },
    {
     "name": "stdout",
     "output_type": "stream",
     "text": [
      "accuracy_score 0.9994720094615904\n",
      "recall_score 0.7066666666666667\n",
      "precision_score 0.7737226277372263\n",
      "f1_score 0.7386759581881532\n",
      "======Training stage======\n",
      "Epoch 1/10\n",
      "79902/79902 [==============================] - 22s 275us/step - loss: 0.0016 - accuracy: 0.9996\n",
      "Epoch 2/10\n",
      "79902/79902 [==============================] - 22s 275us/step - loss: 0.0016 - accuracy: 0.9996\n",
      "Epoch 3/10\n",
      "79902/79902 [==============================] - 22s 274us/step - loss: 0.0015 - accuracy: 0.9996\n",
      "Epoch 4/10\n",
      "79902/79902 [==============================] - 22s 274us/step - loss: 0.0015 - accuracy: 0.9996\n",
      "Epoch 5/10\n",
      "79902/79902 [==============================] - 22s 274us/step - loss: 0.0015 - accuracy: 0.9996\n",
      "Epoch 6/10\n",
      "79902/79902 [==============================] - 22s 274us/step - loss: 0.0015 - accuracy: 0.9996\n",
      "Epoch 7/10\n",
      "79902/79902 [==============================] - 22s 274us/step - loss: 0.0015 - accuracy: 0.9996\n",
      "Epoch 8/10\n",
      "79902/79902 [==============================] - 22s 275us/step - loss: 0.0015 - accuracy: 0.9996\n",
      "Epoch 9/10\n",
      "79902/79902 [==============================] - 22s 275us/step - loss: 0.0015 - accuracy: 0.9996\n",
      "Epoch 10/10\n",
      "79902/79902 [==============================] - 22s 275us/step - loss: 0.0015 - accuracy: 0.9996\n"
     ]
    },
    {
     "data": {
      "text/plain": [
       "<keras.callbacks.callbacks.History at 0x21ebda41848>"
      ]
     },
     "execution_count": 9,
     "metadata": {},
     "output_type": "execute_result"
    },
    {
     "name": "stdout",
     "output_type": "stream",
     "text": [
      "accuracy_score 0.9994016107231358\n",
      "recall_score 0.6794871794871795\n",
      "precision_score 0.75177304964539\n",
      "f1_score 0.7138047138047138\n",
      "\n",
      "K-fold cross validation Accuracy: [0.999204494255463, 0.9994579297138996, 0.9995001689569722, 0.999359371480063, 0.999373451227754, 0.999373451227754, 0.999296012615454, 0.9994086505969813, 0.9994720094615904, 0.9994016107231358]\n",
      "\n",
      "K-fold cross validation Recall: [0.6644295302013423, 0.6938775510204082, 0.7315436241610739, 0.69375, 0.7267080745341615, 0.5872093023255814, 0.5686274509803921, 0.6027397260273972, 0.7066666666666667, 0.6794871794871795]\n",
      "\n",
      "K-fold cross validation Precision: [0.6111111111111112, 0.7611940298507462, 0.7785714285714286, 0.7254901960784313, 0.7222222222222222, 0.8487394957983193, 0.71900826446281, 0.7719298245614035, 0.7737226277372263, 0.75177304964539]\n",
      "\n",
      "K-fold cross validation F1-Score: [0.6366559485530547, 0.7259786476868326, 0.754325259515571, 0.7092651757188498, 0.7244582043343654, 0.6941580756013745, 0.635036496350365, 0.676923076923077, 0.7386759581881532, 0.7138047138047138]\n"
     ]
    }
   ],
   "source": [
    "# 교차검증 kfold\n",
    "from sklearn.model_selection import KFold\n",
    "\n",
    "# Accuracy, Precision, Recall, F1-Score\n",
    "from sklearn.metrics import accuracy_score, recall_score, precision_score, f1_score\n",
    "\n",
    "# Confusion Matrix, ROC Curve\n",
    "from sklearn.metrics import confusion_matrix, roc_auc_score\n",
    "\n",
    "# 최종 평가지표들 평균용\n",
    "accuracy, recall, precision, f1score, cm = [], [], [], [], []\n",
    "\n",
    "# 11. 교차검증 kfold - k.split - 10회 / K-Fold 객체 생성\n",
    "# kf = KFold(n_splits=10, shuffle=False, random_state=None) # KFold non shuffle 버전\n",
    "kf = KFold(n_splits=10, shuffle=True, random_state=None) # KFold non shuffle 버전\n",
    "\n",
    "for train, validation in kf.split(x_gcc6_0_32_3, y_gcc6_0_32_3):\n",
    "    print('======Training stage======')\n",
    "    model1.fit(x_gcc6_0_32_3[train],\n",
    "               y_gcc6_0_32_3[train],\n",
    "               epochs = 10,\n",
    "               batch_size = 32,\n",
    "               callbacks=[early_stopping])\n",
    "    #k_accuracy = '%.4f' %(model1.evaluate(data_10000x[validation], data_10000y[validation])[1])\n",
    "\n",
    "# 12. 교차검증결과 predict - 검증셋들\n",
    "    # predict 값\n",
    "    k_pr = model1.predict(x_gcc6_0_32_3[validation])\n",
    "    \n",
    "    # 테스트 predict 결과들 비교 (평가지표 보기위함)\n",
    "    pred = np.round(np.array(k_pr).flatten().tolist())\n",
    "    y_test = np.array(y_gcc6_0_32_3[validation]).flatten().tolist()\n",
    "    \n",
    "# 13. 평가지표들 출력\n",
    "    ## 평가지표들\n",
    "    k_accuracy = float(accuracy_score(y_test, pred))\n",
    "    k_recall =  float(recall_score(y_test, pred))\n",
    "    k_precision = float(precision_score(y_test, pred))\n",
    "    k_f1_score = float(f1_score(y_test, pred))\n",
    "    #k_cm = float(confusion_matrix(y_test, pred))\n",
    "    \n",
    "    print('accuracy_score', k_accuracy)\n",
    "    print('recall_score', k_recall)\n",
    "    print('precision_score', k_precision)\n",
    "    print('f1_score', k_f1_score)\n",
    "    #print('\\nconfusion_matrix\\n', k_cm)\n",
    "\n",
    "    accuracy.append(k_accuracy)\n",
    "    recall.append(k_recall)\n",
    "    precision.append(k_precision)\n",
    "    f1score.append(k_f1_score)\n",
    "    #cm.append(k_cm)\n",
    "#    print('roc_curve 면적', roc_auc_score(y_test, pred))\n",
    "\n",
    "# 14. 최종 결과지표\n",
    "print('\\nK-fold cross validation Accuracy: {}'.format(accuracy))\n",
    "print('\\nK-fold cross validation Recall: {}'.format(recall))\n",
    "print('\\nK-fold cross validation Precision: {}'.format(precision))\n",
    "print('\\nK-fold cross validation F1-Score: {}'.format(f1score))\n",
    "#print('\\nK-fold cross validation ConfusionMatrix: {}'.format(cm))"
   ]
  },
  {
   "cell_type": "markdown",
   "metadata": {},
   "source": [
    "## (9) 평가지표"
   ]
  },
  {
   "cell_type": "code",
   "execution_count": 11,
   "metadata": {},
   "outputs": [
    {
     "name": "stdout",
     "output_type": "stream",
     "text": [
      "10-Fold Cross_validation. Accuracy : 0.9993847150259068\n",
      "10-Fold Cross_validation. Recall : 0.6655039105404204\n",
      "10-Fold Cross_validation. Precision : 0.7463762250039088\n",
      "10-Fold Cross_validation. F1-Score : 0.7009281556676357\n"
     ]
    }
   ],
   "source": [
    "print('10-Fold Cross_validation. Accuracy :', np.mean(accuracy))\n",
    "print('10-Fold Cross_validation. Recall :', np.mean(recall))\n",
    "print('10-Fold Cross_validation. Precision :', np.mean(precision))\n",
    "print('10-Fold Cross_validation. F1-Score :', np.mean(f1score))"
   ]
  }
 ],
 "metadata": {
  "kernelspec": {
   "display_name": "Python 3",
   "language": "python",
   "name": "python3"
  },
  "language_info": {
   "codemirror_mode": {
    "name": "ipython",
    "version": 3
   },
   "file_extension": ".py",
   "mimetype": "text/x-python",
   "name": "python",
   "nbconvert_exporter": "python",
   "pygments_lexer": "ipython3",
   "version": "3.7.6"
  }
 },
 "nbformat": 4,
 "nbformat_minor": 4
}
