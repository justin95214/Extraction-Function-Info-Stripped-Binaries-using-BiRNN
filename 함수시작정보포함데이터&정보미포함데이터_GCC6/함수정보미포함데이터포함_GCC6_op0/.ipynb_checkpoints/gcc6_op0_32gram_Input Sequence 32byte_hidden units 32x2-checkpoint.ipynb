{
 "cells": [
  {
   "cell_type": "markdown",
   "metadata": {},
   "source": [
    "## RNN 모델 N-Byte 방식 (함수정보 포함 vs 미포함 => 1:1 비율)\n",
    "\n",
    "## (1) 데이터로드"
   ]
  },
  {
   "cell_type": "code",
   "execution_count": 11,
   "metadata": {},
   "outputs": [
    {
     "name": "stdout",
     "output_type": "stream",
     "text": [
      "(13936744, 2)\n",
      "reset_index 완료\n",
      "input data shape\n"
     ]
    },
    {
     "data": {
      "text/html": [
       "<div>\n",
       "<style scoped>\n",
       "    .dataframe tbody tr th:only-of-type {\n",
       "        vertical-align: middle;\n",
       "    }\n",
       "\n",
       "    .dataframe tbody tr th {\n",
       "        vertical-align: top;\n",
       "    }\n",
       "\n",
       "    .dataframe thead th {\n",
       "        text-align: right;\n",
       "    }\n",
       "</style>\n",
       "<table border=\"1\" class=\"dataframe\">\n",
       "  <thead>\n",
       "    <tr style=\"text-align: right;\">\n",
       "      <th></th>\n",
       "      <th>bin</th>\n",
       "      <th>label</th>\n",
       "    </tr>\n",
       "  </thead>\n",
       "  <tbody>\n",
       "    <tr>\n",
       "      <th>0</th>\n",
       "      <td>53</td>\n",
       "      <td>1</td>\n",
       "    </tr>\n",
       "    <tr>\n",
       "      <th>1</th>\n",
       "      <td>83</td>\n",
       "      <td>0</td>\n",
       "    </tr>\n",
       "    <tr>\n",
       "      <th>2</th>\n",
       "      <td>ec</td>\n",
       "      <td>0</td>\n",
       "    </tr>\n",
       "    <tr>\n",
       "      <th>3</th>\n",
       "      <td>08</td>\n",
       "      <td>0</td>\n",
       "    </tr>\n",
       "    <tr>\n",
       "      <th>4</th>\n",
       "      <td>e8</td>\n",
       "      <td>0</td>\n",
       "    </tr>\n",
       "  </tbody>\n",
       "</table>\n",
       "</div>"
      ],
      "text/plain": [
       "  bin  label\n",
       "0  53      1\n",
       "1  83      0\n",
       "2  ec      0\n",
       "3  08      0\n",
       "4  e8      0"
      ]
     },
     "execution_count": 11,
     "metadata": {},
     "output_type": "execute_result"
    }
   ],
   "source": [
    "# (1) 데이터로드\n",
    "import pandas as pd\n",
    "import numpy as np\n",
    "\n",
    "import warnings\n",
    "warnings.filterwarnings(action='ignore')\n",
    "\n",
    "# 여러개 쳐도 나오게\n",
    "from IPython.core.interactiveshell import InteractiveShell\n",
    "InteractiveShell.ast_node_interactivity = \"all\"\n",
    "\n",
    "# 파일읽기\n",
    "gcc6_0_32 = pd.read_csv(\"../data/binutils_gcc3~9_op0~4_exec_csv/\"+'gcc6'+\"_0_32_exec.csv\", index_col=0)\n",
    "\n",
    "# 형태 출력\n",
    "print(gcc6_0_32.shape)\n",
    "\n",
    "# reset_index (hex processing 하면서 값이 빠졌으니까 + n_gram 에서 index를 다루기 때문에)\n",
    "gcc6_0_32.reset_index(inplace=True, drop=True)\n",
    "\n",
    "print('reset_index 완료')\n",
    "print('input data shape')\n",
    "gcc6_0_32.head()"
   ]
  },
  {
   "cell_type": "code",
   "execution_count": 12,
   "metadata": {},
   "outputs": [
    {
     "name": "stdout",
     "output_type": "stream",
     "text": [
      "256\n",
      "0    13892354\n",
      "1       44390\n",
      "Name: label, dtype: int64\n"
     ]
    }
   ],
   "source": [
    "# (2-1) 데이터체크 1 - hex(16진수)가 256 label을 가져야 dummies 변환 가능 \n",
    "\n",
    "# 16진수 256개 종류가 있어서 pd.get_dummies 사용 가능.\n",
    "print(len(gcc6_0_32['bin'].unique()))\n",
    "\n",
    "# (2-2) 데이터 체크 2 - 1, 0 비율 ==> 1이 함수의 갯수를 뜻함\n",
    "# 정답 데이터 1, 0 비율 확인  ==> 1이 함수의 갯수를 뜻함\n",
    "print(gcc6_0_32['label'].value_counts())"
   ]
  },
  {
   "cell_type": "markdown",
   "metadata": {},
   "source": [
    "## (3) N Byte씩 자르기"
   ]
  },
  {
   "cell_type": "code",
   "execution_count": 13,
   "metadata": {},
   "outputs": [
    {
     "name": "stdout",
     "output_type": "stream",
     "text": [
      "1420468\n",
      "나머지 20\n",
      "최종 길이 1420448\n",
      "gcc6_0_32 1420448\n"
     ]
    }
   ],
   "source": [
    "######################## \n",
    "idx = gcc6_0_32[gcc6_0_32['label']==1].index  # 407, 474 ...\n",
    "ls = list(idx)\n",
    "\n",
    "# 최종 뽑을 행에 대한 index\n",
    "ls_idx = [] \n",
    "left_idx, right_idx = 0, 32 # 3개씩\n",
    "\n",
    "# 6gram\n",
    "for k in range(left_idx, right_idx):\n",
    "    ls_idx.extend(list(idx + k)) # index 형이라서 가능\n",
    "\n",
    "#ls_idx = list(set(ls_idx)) \n",
    "ls_idx.sort() # 인덱스 정렬\n",
    "\n",
    "# 1차 index 해당범위 초과한 것들 없애기\n",
    "ls_idx = list(filter(lambda x: x<len(gcc6_0_32), ls_idx))\n",
    "print(len(ls_idx))\n",
    "\n",
    "# 2차 남은 index들 중 right_idx 나눈 나머지 없애기\n",
    "sub = len(ls_idx)%(right_idx)\n",
    "print('나머지', sub)\n",
    "\n",
    "ls_idx = ls_idx[:len(ls_idx)-sub]\n",
    "print('최종 길이', len(ls_idx))\n",
    "\n",
    "print('gcc6_0_32', len(ls_idx))\n",
    "\n",
    "# loc 로 수정필요\n",
    "gcc6_0_32_Ngram = gcc6_0_32.loc[ls_idx,:].copy()"
   ]
  },
  {
   "cell_type": "markdown",
   "metadata": {},
   "source": [
    "## (4) false data 만들기"
   ]
  },
  {
   "cell_type": "code",
   "execution_count": 14,
   "metadata": {},
   "outputs": [
    {
     "name": "stdout",
     "output_type": "stream",
     "text": [
      "0 1000 2000 3000 4000 5000 6000 7000 8000 9000 10000 11000 12000 13000 14000 15000 16000 17000 18000 19000 20000 21000 22000 23000 24000 25000 26000 27000 28000 29000 30000 31000 32000 33000 34000 35000 36000 37000 38000 39000 40000 41000 42000 43000 44000 완료\n"
     ]
    }
   ],
   "source": [
    "# false data 만들기 - False 데이터 랜덤 생성\n",
    "# random index\n",
    "random_idx = np.random.randint(len(gcc6_0_32)-right_idx)\n",
    "\n",
    "# 목표치\n",
    "goal = len(gcc6_0_32_Ngram)/right_idx\n",
    "count=0\n",
    "\n",
    "d = pd.DataFrame(columns=gcc6_0_32.columns)\n",
    "\n",
    "# goal 에 도달할 때까지\n",
    "while count!=goal:\n",
    "    \n",
    "    # 진행상황 살펴보기 위함\n",
    "    if count%1000==0:\n",
    "        print(count, end=' ')\n",
    "        \n",
    "    # 랜덤 N 바이트씩 뽑음\n",
    "    df = gcc6_0_32[random_idx:random_idx+right_idx]\n",
    "    \n",
    "    # 뽑은 index의 N 바이트 중에 1이 없는 경우만\n",
    "    if 1 not in df['label']:\n",
    "        d = pd.concat([d, df])\n",
    "        count+=1\n",
    "\n",
    "print('완료')"
   ]
  },
  {
   "cell_type": "markdown",
   "metadata": {},
   "source": [
    "## (5) False Data + True Data 합치기"
   ]
  },
  {
   "cell_type": "code",
   "execution_count": 15,
   "metadata": {},
   "outputs": [
    {
     "name": "stdout",
     "output_type": "stream",
     "text": [
      "0 1000 2000 3000 4000 5000 6000 7000 8000 9000 10000 11000 12000 13000 14000 15000 16000 17000 18000 19000 20000 21000 22000 23000 24000 25000 26000 27000 28000 29000 30000 31000 32000 33000 34000 35000 36000 37000 38000 39000 40000 41000 42000 43000 44000 "
     ]
    },
    {
     "data": {
      "text/plain": [
       "(2840896, 2)"
      ]
     },
     "execution_count": 15,
     "metadata": {},
     "output_type": "execute_result"
    }
   ],
   "source": [
    "ff = pd.DataFrame(columns=gcc6_0_32.columns)\n",
    "\n",
    "for i in range(0, int(len(d)/right_idx)):\n",
    "    ff = pd.concat([ff, gcc6_0_32[i*right_idx:(i+1)*right_idx], d[i*right_idx:(i+1)*right_idx]])\n",
    "    \n",
    "    if i%1000==0:\n",
    "        print(i, end=' ')\n",
    "ff.shape"
   ]
  },
  {
   "cell_type": "markdown",
   "metadata": {},
   "source": [
    "## (6) one hot encoding"
   ]
  },
  {
   "cell_type": "code",
   "execution_count": 16,
   "metadata": {},
   "outputs": [
    {
     "name": "stdout",
     "output_type": "stream",
     "text": [
      "원핫인코딩완료\n",
      "(2840896, 257)\n"
     ]
    }
   ],
   "source": [
    "# 훈련데이터 (gcc 최적화버전 0, 1, 2, 3 one hot encoding)\n",
    "gcc6_0_32_onehot_Ngram = pd.get_dummies(ff['bin'])\n",
    "gcc6_0_32_onehot_Ngram = pd.concat([ff['label'], gcc6_0_32_onehot_Ngram], axis=1)\n",
    "\n",
    "print('원핫인코딩완료')\n",
    "print(gcc6_0_32_onehot_Ngram.shape)"
   ]
  },
  {
   "cell_type": "code",
   "execution_count": 17,
   "metadata": {},
   "outputs": [
    {
     "name": "stdout",
     "output_type": "stream",
     "text": [
      "(2840896, 256) (2840896,)\n",
      "(88778, 32, 256) (88778, 32, 1)\n"
     ]
    }
   ],
   "source": [
    "# 훈련 데이터, 훈련 라벨\n",
    "x_gcc6_0_32_3 = gcc6_0_32_onehot_Ngram.iloc[:,1:].to_numpy()\n",
    "y_gcc6_0_32_3 = gcc6_0_32_onehot_Ngram['label'].to_numpy()\n",
    "print(x_gcc6_0_32_3.shape, y_gcc6_0_32_3.shape)\n",
    "\n",
    "x_gcc6_0_32_3 = x_gcc6_0_32_3.reshape(-1, right_idx, x_gcc6_0_32_3.shape[1])\n",
    "y_gcc6_0_32_3 = y_gcc6_0_32_3.reshape(-1, right_idx, 1)\n",
    "\n",
    "print(x_gcc6_0_32_3.shape, y_gcc6_0_32_3.shape)"
   ]
  },
  {
   "cell_type": "markdown",
   "metadata": {},
   "source": [
    "## (7) 모델"
   ]
  },
  {
   "cell_type": "code",
   "execution_count": 18,
   "metadata": {},
   "outputs": [
    {
     "name": "stdout",
     "output_type": "stream",
     "text": [
      "Model: \"model_2\"\n",
      "_________________________________________________________________\n",
      "Layer (type)                 Output Shape              Param #   \n",
      "=================================================================\n",
      "input_2 (InputLayer)         (None, 32, 256)           0         \n",
      "_________________________________________________________________\n",
      "bidirectional_2 (Bidirection (None, 32, 64)            73984     \n",
      "_________________________________________________________________\n",
      "time_distributed_2 (TimeDist (None, 32, 1)             65        \n",
      "=================================================================\n",
      "Total params: 74,049\n",
      "Trainable params: 74,049\n",
      "Non-trainable params: 0\n",
      "_________________________________________________________________\n"
     ]
    }
   ],
   "source": [
    "# (10) 양방향 LSTM 모델링 작업\n",
    "from keras.models import Model, Sequential\n",
    "from keras.layers import SimpleRNN, Input, Dense, LSTM\n",
    "from keras.layers import Bidirectional, TimeDistributed\n",
    "\n",
    "# 학습\n",
    "from keras.callbacks import EarlyStopping\n",
    "early_stopping = EarlyStopping(patience = 3) # 조기종료 콜백함수 정의\n",
    "\n",
    "xInput = Input(batch_shape=(None,right_idx, 256)) \n",
    "xBiLstm = Bidirectional(LSTM(32, return_sequences=True), merge_mode = 'concat')(xInput)\n",
    "xOutput = TimeDistributed(Dense(1, activation ='sigmoid'))(xBiLstm) # 각 스텝에서 cost가 전송되고, 오류가 다음 step으로 전송됨.\n",
    "\n",
    "model1 = Model(xInput, xOutput)\n",
    "model1.compile(loss='binary_crossentropy', optimizer='rmsprop', metrics=['accuracy'])\n",
    "model1.summary()"
   ]
  },
  {
   "cell_type": "markdown",
   "metadata": {},
   "source": [
    "## (8) 학습 - 10 KFold"
   ]
  },
  {
   "cell_type": "code",
   "execution_count": 19,
   "metadata": {
    "scrolled": false
   },
   "outputs": [
    {
     "name": "stdout",
     "output_type": "stream",
     "text": [
      "======Training stage======\n",
      "Epoch 1/10\n",
      "79900/79900 [==============================] - 52s 648us/step - loss: 0.0073 - accuracy: 0.9985\n",
      "Epoch 2/10\n",
      "79900/79900 [==============================] - 51s 638us/step - loss: 0.0026 - accuracy: 0.9992\n",
      "Epoch 3/10\n",
      "79900/79900 [==============================] - 51s 641us/step - loss: 0.0023 - accuracy: 0.9993\n",
      "Epoch 4/10\n",
      "79900/79900 [==============================] - 51s 641us/step - loss: 0.0022 - accuracy: 0.9993\n",
      "Epoch 5/10\n",
      "79900/79900 [==============================] - 51s 640us/step - loss: 0.0021 - accuracy: 0.9994\n",
      "Epoch 6/10\n",
      "79900/79900 [==============================] - 47s 583us/step - loss: 0.0019 - accuracy: 0.9994\n",
      "Epoch 7/10\n",
      "79900/79900 [==============================] - 42s 528us/step - loss: 0.0018 - accuracy: 0.9994\n",
      "Epoch 8/10\n",
      "79900/79900 [==============================] - 42s 527us/step - loss: 0.0018 - accuracy: 0.9994\n",
      "Epoch 9/10\n",
      "79900/79900 [==============================] - 42s 527us/step - loss: 0.0017 - accuracy: 0.9995\n",
      "Epoch 10/10\n",
      "79900/79900 [==============================] - 42s 526us/step - loss: 0.0016 - accuracy: 0.9995\n"
     ]
    },
    {
     "data": {
      "text/plain": [
       "<keras.callbacks.callbacks.History at 0x2b0394bbe08>"
      ]
     },
     "execution_count": 19,
     "metadata": {},
     "output_type": "execute_result"
    },
    {
     "name": "stdout",
     "output_type": "stream",
     "text": [
      "accuracy_score 0.9994262502815949\n",
      "recall_score 0.6876640419947506\n",
      "precision_score 0.8562091503267973\n",
      "f1_score 0.7627365356622998\n",
      "======Training stage======\n",
      "Epoch 1/10\n",
      "79900/79900 [==============================] - 42s 524us/step - loss: 0.0016 - accuracy: 0.9995\n",
      "Epoch 2/10\n",
      "79900/79900 [==============================] - 42s 523us/step - loss: 0.0015 - accuracy: 0.9995\n",
      "Epoch 3/10\n",
      "79900/79900 [==============================] - 42s 522us/step - loss: 0.0015 - accuracy: 0.9995\n",
      "Epoch 4/10\n",
      "79900/79900 [==============================] - 42s 524us/step - loss: 0.0014 - accuracy: 0.9996\n",
      "Epoch 5/10\n",
      "79900/79900 [==============================] - 42s 523us/step - loss: 0.0014 - accuracy: 0.9996\n",
      "Epoch 6/10\n",
      "79900/79900 [==============================] - 42s 523us/step - loss: 0.0013 - accuracy: 0.9996\n",
      "Epoch 7/10\n",
      "79900/79900 [==============================] - 42s 523us/step - loss: 0.0012 - accuracy: 0.9996\n",
      "Epoch 8/10\n",
      "79900/79900 [==============================] - 42s 523us/step - loss: 0.0012 - accuracy: 0.9996\n",
      "Epoch 9/10\n",
      "79900/79900 [==============================] - 42s 524us/step - loss: 0.0011 - accuracy: 0.9997\n",
      "Epoch 10/10\n",
      "79900/79900 [==============================] - 42s 522us/step - loss: 0.0011 - accuracy: 0.9997\n"
     ]
    },
    {
     "data": {
      "text/plain": [
       "<keras.callbacks.callbacks.History at 0x2b0e7104748>"
      ]
     },
     "execution_count": 19,
     "metadata": {},
     "output_type": "execute_result"
    },
    {
     "name": "stdout",
     "output_type": "stream",
     "text": [
      "accuracy_score 0.9994297702185176\n",
      "recall_score 0.7592592592592593\n",
      "precision_score 0.7454545454545455\n",
      "f1_score 0.7522935779816514\n",
      "======Training stage======\n",
      "Epoch 1/10\n",
      "79900/79900 [==============================] - 42s 522us/step - loss: 0.0011 - accuracy: 0.9996\n",
      "Epoch 2/10\n",
      "79900/79900 [==============================] - 42s 522us/step - loss: 0.0010 - accuracy: 0.9997\n",
      "Epoch 3/10\n",
      "79900/79900 [==============================] - 42s 522us/step - loss: 9.8858e-04 - accuracy: 0.9997\n",
      "Epoch 4/10\n",
      "79900/79900 [==============================] - 42s 528us/step - loss: 9.2359e-04 - accuracy: 0.9997\n",
      "Epoch 5/10\n",
      "79900/79900 [==============================] - 42s 521us/step - loss: 8.6866e-04 - accuracy: 0.9997\n",
      "Epoch 6/10\n",
      "79900/79900 [==============================] - 42s 525us/step - loss: 8.2553e-04 - accuracy: 0.9997\n",
      "Epoch 7/10\n",
      "79900/79900 [==============================] - 42s 530us/step - loss: 7.8864e-04 - accuracy: 0.9998\n",
      "Epoch 8/10\n",
      "79900/79900 [==============================] - 43s 535us/step - loss: 6.8954e-04 - accuracy: 0.9998\n",
      "Epoch 9/10\n",
      "79900/79900 [==============================] - 43s 534us/step - loss: 6.8290e-04 - accuracy: 0.9998\n",
      "Epoch 10/10\n",
      "79900/79900 [==============================] - 43s 536us/step - loss: 6.3948e-04 - accuracy: 0.9998\n"
     ]
    },
    {
     "data": {
      "text/plain": [
       "<keras.callbacks.callbacks.History at 0x2b04958d308>"
      ]
     },
     "execution_count": 19,
     "metadata": {},
     "output_type": "execute_result"
    },
    {
     "name": "stdout",
     "output_type": "stream",
     "text": [
      "accuracy_score 0.9995036888938951\n",
      "recall_score 0.7630769230769231\n",
      "precision_score 0.7948717948717948\n",
      "f1_score 0.7786499215070644\n",
      "======Training stage======\n",
      "Epoch 1/10\n",
      "79900/79900 [==============================] - 43s 536us/step - loss: 7.7205e-04 - accuracy: 0.9998\n",
      "Epoch 2/10\n",
      "79900/79900 [==============================] - 43s 537us/step - loss: 7.0237e-04 - accuracy: 0.9998\n",
      "Epoch 3/10\n",
      "79900/79900 [==============================] - 43s 537us/step - loss: 6.5809e-04 - accuracy: 0.9998\n",
      "Epoch 4/10\n",
      "79900/79900 [==============================] - 43s 537us/step - loss: 5.7479e-04 - accuracy: 0.9998\n",
      "Epoch 5/10\n",
      "79900/79900 [==============================] - 43s 537us/step - loss: 5.6560e-04 - accuracy: 0.9998\n",
      "Epoch 6/10\n",
      "79900/79900 [==============================] - 43s 536us/step - loss: 5.0651e-04 - accuracy: 0.9998\n",
      "Epoch 7/10\n",
      "79900/79900 [==============================] - 43s 537us/step - loss: 4.7638e-04 - accuracy: 0.9999\n",
      "Epoch 8/10\n",
      "79900/79900 [==============================] - 43s 536us/step - loss: 4.4160e-04 - accuracy: 0.9999\n",
      "Epoch 9/10\n",
      "79900/79900 [==============================] - 43s 539us/step - loss: 4.1802e-04 - accuracy: 0.9999\n",
      "Epoch 10/10\n",
      "79900/79900 [==============================] - 43s 539us/step - loss: 3.8754e-04 - accuracy: 0.9999\n"
     ]
    },
    {
     "data": {
      "text/plain": [
       "<keras.callbacks.callbacks.History at 0x2b047255408>"
      ]
     },
     "execution_count": 19,
     "metadata": {},
     "output_type": "execute_result"
    },
    {
     "name": "stdout",
     "output_type": "stream",
     "text": [
      "accuracy_score 0.9996832056769542\n",
      "recall_score 0.8702702702702703\n",
      "precision_score 0.8846153846153846\n",
      "f1_score 0.8773841961852861\n",
      "======Training stage======\n",
      "Epoch 1/10\n",
      "79900/79900 [==============================] - 43s 537us/step - loss: 5.0302e-04 - accuracy: 0.9999\n",
      "Epoch 2/10\n",
      "79900/79900 [==============================] - 43s 537us/step - loss: 4.3009e-04 - accuracy: 0.9999\n",
      "Epoch 3/10\n",
      "79900/79900 [==============================] - 43s 537us/step - loss: 3.8602e-04 - accuracy: 0.9999\n",
      "Epoch 4/10\n",
      "79900/79900 [==============================] - 43s 536us/step - loss: 3.6766e-04 - accuracy: 0.9999\n",
      "Epoch 5/10\n",
      "79900/79900 [==============================] - 43s 537us/step - loss: 3.3019e-04 - accuracy: 0.9999\n",
      "Epoch 6/10\n",
      "79900/79900 [==============================] - 43s 538us/step - loss: 2.8088e-04 - accuracy: 0.9999\n",
      "Epoch 7/10\n",
      "79900/79900 [==============================] - 43s 538us/step - loss: 2.8324e-04 - accuracy: 0.9999\n",
      "Epoch 8/10\n",
      "79900/79900 [==============================] - 43s 538us/step - loss: 2.5968e-04 - accuracy: 0.9999\n",
      "Epoch 9/10\n",
      "79900/79900 [==============================] - 43s 536us/step - loss: 2.2970e-04 - accuracy: 0.9999\n",
      "Epoch 10/10\n",
      "79900/79900 [==============================] - 43s 538us/step - loss: 2.0125e-04 - accuracy: 0.9999\n"
     ]
    },
    {
     "data": {
      "text/plain": [
       "<keras.callbacks.callbacks.History at 0x2b0394d5e88>"
      ]
     },
     "execution_count": 19,
     "metadata": {},
     "output_type": "execute_result"
    },
    {
     "name": "stdout",
     "output_type": "stream",
     "text": [
      "accuracy_score 0.9996902455507998\n",
      "recall_score 0.8413597733711048\n",
      "precision_score 0.9027355623100304\n",
      "f1_score 0.8709677419354839\n",
      "======Training stage======\n",
      "Epoch 1/10\n",
      "79900/79900 [==============================] - 43s 537us/step - loss: 3.6284e-04 - accuracy: 0.9999\n",
      "Epoch 2/10\n",
      "79900/79900 [==============================] - 43s 537us/step - loss: 2.9060e-04 - accuracy: 0.9999\n",
      "Epoch 3/10\n",
      "79900/79900 [==============================] - 43s 536us/step - loss: 2.3176e-04 - accuracy: 0.9999\n",
      "Epoch 4/10\n",
      "79900/79900 [==============================] - 43s 537us/step - loss: 2.2710e-04 - accuracy: 0.9999\n",
      "Epoch 5/10\n",
      "79900/79900 [==============================] - 43s 537us/step - loss: 1.9180e-04 - accuracy: 0.9999\n",
      "Epoch 6/10\n",
      "79900/79900 [==============================] - 43s 537us/step - loss: 1.7106e-04 - accuracy: 0.9999\n",
      "Epoch 7/10\n",
      "79900/79900 [==============================] - 43s 538us/step - loss: 1.6105e-04 - accuracy: 1.0000\n",
      "Epoch 8/10\n",
      "79900/79900 [==============================] - 43s 537us/step - loss: 1.6864e-04 - accuracy: 1.0000\n",
      "Epoch 9/10\n",
      "79900/79900 [==============================] - 43s 537us/step - loss: 1.4016e-04 - accuracy: 1.0000\n",
      "Epoch 10/10\n",
      "79900/79900 [==============================] - 43s 539us/step - loss: 1.3747e-04 - accuracy: 1.0000\n"
     ]
    },
    {
     "data": {
      "text/plain": [
       "<keras.callbacks.callbacks.History at 0x2b04959f208>"
      ]
     },
     "execution_count": 19,
     "metadata": {},
     "output_type": "execute_result"
    },
    {
     "name": "stdout",
     "output_type": "stream",
     "text": [
      "accuracy_score 0.9997888037846362\n",
      "recall_score 0.9298245614035088\n",
      "precision_score 0.8983050847457628\n",
      "f1_score 0.9137931034482759\n",
      "======Training stage======\n",
      "Epoch 1/10\n",
      "79900/79900 [==============================] - 43s 537us/step - loss: 2.3756e-04 - accuracy: 0.9999\n",
      "Epoch 2/10\n",
      "79900/79900 [==============================] - 43s 536us/step - loss: 1.8349e-04 - accuracy: 1.0000\n",
      "Epoch 3/10\n",
      "79900/79900 [==============================] - 43s 535us/step - loss: 1.4896e-04 - accuracy: 1.0000\n",
      "Epoch 4/10\n",
      "79900/79900 [==============================] - 43s 535us/step - loss: 1.4317e-04 - accuracy: 1.0000\n",
      "Epoch 5/10\n",
      "79900/79900 [==============================] - 43s 536us/step - loss: 1.1771e-04 - accuracy: 1.0000\n",
      "Epoch 6/10\n",
      "79900/79900 [==============================] - 43s 537us/step - loss: 1.2595e-04 - accuracy: 1.0000\n",
      "Epoch 7/10\n",
      "79900/79900 [==============================] - 43s 535us/step - loss: 9.6597e-05 - accuracy: 1.0000\n",
      "Epoch 8/10\n",
      "79900/79900 [==============================] - 43s 535us/step - loss: 1.0055e-04 - accuracy: 1.0000\n",
      "Epoch 9/10\n",
      "79900/79900 [==============================] - 43s 534us/step - loss: 8.5618e-05 - accuracy: 1.0000\n",
      "Epoch 10/10\n",
      "79900/79900 [==============================] - 43s 535us/step - loss: 1.0129e-04 - accuracy: 1.0000\n"
     ]
    },
    {
     "data": {
      "text/plain": [
       "<keras.callbacks.callbacks.History at 0x2b047253388>"
      ]
     },
     "execution_count": 19,
     "metadata": {},
     "output_type": "execute_result"
    },
    {
     "name": "stdout",
     "output_type": "stream",
     "text": [
      "accuracy_score 0.9998768022077045\n",
      "recall_score 0.9371428571428572\n",
      "precision_score 0.9618768328445748\n",
      "f1_score 0.9493487698986975\n",
      "======Training stage======\n",
      "Epoch 1/10\n",
      "79900/79900 [==============================] - 43s 533us/step - loss: 1.5997e-04 - accuracy: 1.0000\n",
      "Epoch 2/10\n",
      "79900/79900 [==============================] - 43s 535us/step - loss: 1.2785e-04 - accuracy: 1.0000\n",
      "Epoch 3/10\n",
      "79900/79900 [==============================] - 43s 534us/step - loss: 9.1953e-05 - accuracy: 1.0000\n",
      "Epoch 4/10\n",
      "79900/79900 [==============================] - 43s 533us/step - loss: 1.0451e-04 - accuracy: 1.0000\n",
      "Epoch 5/10\n",
      "79900/79900 [==============================] - 43s 533us/step - loss: 1.0240e-04 - accuracy: 1.0000\n",
      "Epoch 6/10\n",
      "79900/79900 [==============================] - 43s 534us/step - loss: 6.5589e-05 - accuracy: 1.0000\n",
      "Epoch 7/10\n",
      "79900/79900 [==============================] - 43s 535us/step - loss: 7.4051e-05 - accuracy: 1.0000\n",
      "Epoch 8/10\n",
      "79900/79900 [==============================] - 44s 547us/step - loss: 7.9597e-05 - accuracy: 1.0000\n",
      "Epoch 9/10\n",
      "79900/79900 [==============================] - 44s 545us/step - loss: 7.6970e-05 - accuracy: 1.0000\n",
      "Epoch 10/10\n",
      "79900/79900 [==============================] - 45s 561us/step - loss: 6.6242e-05 - accuracy: 1.0000\n"
     ]
    },
    {
     "data": {
      "text/plain": [
       "<keras.callbacks.callbacks.History at 0x2b047241308>"
      ]
     },
     "execution_count": 19,
     "metadata": {},
     "output_type": "execute_result"
    },
    {
     "name": "stdout",
     "output_type": "stream",
     "text": [
      "accuracy_score 0.9998873620184726\n",
      "recall_score 0.936046511627907\n",
      "precision_score 0.9698795180722891\n",
      "f1_score 0.9526627218934911\n",
      "======Training stage======\n",
      "Epoch 1/10\n",
      "79901/79901 [==============================] - 47s 587us/step - loss: 1.1879e-04 - accuracy: 1.0000\n",
      "Epoch 2/10\n",
      "79901/79901 [==============================] - 48s 605us/step - loss: 1.0302e-04 - accuracy: 1.0000\n",
      "Epoch 3/10\n",
      "79901/79901 [==============================] - 48s 607us/step - loss: 6.0072e-05 - accuracy: 1.0000\n",
      "Epoch 4/10\n",
      "79901/79901 [==============================] - 49s 609us/step - loss: 8.3748e-05 - accuracy: 1.0000\n",
      "Epoch 5/10\n",
      "79901/79901 [==============================] - 49s 609us/step - loss: 6.5524e-05 - accuracy: 1.0000\n",
      "Epoch 6/10\n",
      "79901/79901 [==============================] - 48s 605us/step - loss: 4.8131e-05 - accuracy: 1.0000\n",
      "Epoch 7/10\n",
      "79901/79901 [==============================] - 49s 611us/step - loss: 5.1028e-05 - accuracy: 1.0000\n",
      "Epoch 8/10\n",
      "79901/79901 [==============================] - 49s 612us/step - loss: 4.1236e-05 - accuracy: 1.0000\n",
      "Epoch 9/10\n",
      "79901/79901 [==============================] - 49s 618us/step - loss: 7.0856e-05 - accuracy: 1.0000\n",
      "Epoch 10/10\n",
      "79901/79901 [==============================] - 49s 616us/step - loss: 4.3205e-05 - accuracy: 1.0000\n"
     ]
    },
    {
     "data": {
      "text/plain": [
       "<keras.callbacks.callbacks.History at 0x2b04956e388>"
      ]
     },
     "execution_count": 19,
     "metadata": {},
     "output_type": "execute_result"
    },
    {
     "name": "stdout",
     "output_type": "stream",
     "text": [
      "accuracy_score 0.9999331136645263\n",
      "recall_score 0.9654178674351584\n",
      "precision_score 0.97953216374269\n",
      "f1_score 0.9724238026124817\n",
      "======Training stage======\n",
      "Epoch 1/10\n",
      "79901/79901 [==============================] - 49s 611us/step - loss: 1.2752e-04 - accuracy: 1.0000\n",
      "Epoch 2/10\n",
      "79901/79901 [==============================] - 49s 611us/step - loss: 9.8079e-05 - accuracy: 1.0000\n",
      "Epoch 3/10\n",
      "79901/79901 [==============================] - 49s 611us/step - loss: 7.2137e-05 - accuracy: 1.0000\n",
      "Epoch 4/10\n",
      "79901/79901 [==============================] - 49s 615us/step - loss: 3.6033e-05 - accuracy: 1.0000\n",
      "Epoch 5/10\n",
      "79901/79901 [==============================] - 49s 612us/step - loss: 3.8452e-05 - accuracy: 1.0000\n",
      "Epoch 6/10\n",
      "79901/79901 [==============================] - 49s 615us/step - loss: 7.9393e-05 - accuracy: 1.0000\n",
      "Epoch 7/10\n",
      "79901/79901 [==============================] - 49s 617us/step - loss: 7.9690e-05 - accuracy: 1.0000s - loss: 7.9920e-05 - accuracy: 1.00 - ETA: 0s - loss: 7.9823e\n",
      "Epoch 8/10\n",
      "79901/79901 [==============================] - 50s 624us/step - loss: 4.3578e-05 - accuracy: 1.0000\n",
      "Epoch 9/10\n",
      "79901/79901 [==============================] - 49s 615us/step - loss: 3.9920e-05 - accuracy: 1.0000\n",
      "Epoch 10/10\n",
      "79901/79901 [==============================] - 49s 613us/step - loss: 3.7455e-05 - accuracy: 1.0000\n"
     ]
    },
    {
     "data": {
      "text/plain": [
       "<keras.callbacks.callbacks.History at 0x2b04956b848>"
      ]
     },
     "execution_count": 19,
     "metadata": {},
     "output_type": "execute_result"
    },
    {
     "name": "stdout",
     "output_type": "stream",
     "text": [
      "accuracy_score 0.9999401543314183\n",
      "recall_score 0.9648093841642229\n",
      "precision_score 0.9850299401197605\n",
      "f1_score 0.9748148148148148\n",
      "\n",
      "K-fold cross validation Accuracy: [0.9994262502815949, 0.9994297702185176, 0.9995036888938951, 0.9996832056769542, 0.9996902455507998, 0.9997888037846362, 0.9998768022077045, 0.9998873620184726, 0.9999331136645263, 0.9999401543314183]\n",
      "\n",
      "K-fold cross validation Recall: [0.6876640419947506, 0.7592592592592593, 0.7630769230769231, 0.8702702702702703, 0.8413597733711048, 0.9298245614035088, 0.9371428571428572, 0.936046511627907, 0.9654178674351584, 0.9648093841642229]\n",
      "\n",
      "K-fold cross validation Precision: [0.8562091503267973, 0.7454545454545455, 0.7948717948717948, 0.8846153846153846, 0.9027355623100304, 0.8983050847457628, 0.9618768328445748, 0.9698795180722891, 0.97953216374269, 0.9850299401197605]\n",
      "\n",
      "K-fold cross validation F1-Score: [0.7627365356622998, 0.7522935779816514, 0.7786499215070644, 0.8773841961852861, 0.8709677419354839, 0.9137931034482759, 0.9493487698986975, 0.9526627218934911, 0.9724238026124817, 0.9748148148148148]\n"
     ]
    }
   ],
   "source": [
    "# 교차검증 kfold\n",
    "from sklearn.model_selection import KFold\n",
    "\n",
    "# Accuracy, Precision, Recall, F1-Score\n",
    "from sklearn.metrics import accuracy_score, recall_score, precision_score, f1_score\n",
    "\n",
    "# Confusion Matrix, ROC Curve\n",
    "from sklearn.metrics import confusion_matrix, roc_auc_score\n",
    "\n",
    "# 최종 평가지표들 평균용\n",
    "accuracy, recall, precision, f1score, cm = [], [], [], [], []\n",
    "\n",
    "# 11. 교차검증 kfold - k.split - 10회 / K-Fold 객체 생성\n",
    "# kf = KFold(n_splits=10, shuffle=False, random_state=None) # KFold non shuffle 버전\n",
    "kf = KFold(n_splits=10, shuffle=True, random_state=None) # KFold non shuffle 버전\n",
    "\n",
    "for train, validation in kf.split(x_gcc6_0_32_3, y_gcc6_0_32_3):\n",
    "    print('======Training stage======')\n",
    "    model1.fit(x_gcc6_0_32_3[train],\n",
    "               y_gcc6_0_32_3[train],\n",
    "               epochs = 10,\n",
    "               batch_size = 32,\n",
    "               callbacks=[early_stopping])\n",
    "    #k_accuracy = '%.4f' %(model1.evaluate(data_10000x[validation], data_10000y[validation])[1])\n",
    "\n",
    "# 12. 교차검증결과 predict - 검증셋들\n",
    "    # predict 값\n",
    "    k_pr = model1.predict(x_gcc6_0_32_3[validation])\n",
    "    \n",
    "    # 테스트 predict 결과들 비교 (평가지표 보기위함)\n",
    "    pred = np.round(np.array(k_pr).flatten().tolist())\n",
    "    y_test = np.array(y_gcc6_0_32_3[validation]).flatten().tolist()\n",
    "    \n",
    "# 13. 평가지표들 출력\n",
    "    ## 평가지표들\n",
    "    k_accuracy = float(accuracy_score(y_test, pred))\n",
    "    k_recall =  float(recall_score(y_test, pred))\n",
    "    k_precision = float(precision_score(y_test, pred))\n",
    "    k_f1_score = float(f1_score(y_test, pred))\n",
    "    #k_cm = float(confusion_matrix(y_test, pred))\n",
    "    \n",
    "    print('accuracy_score', k_accuracy)\n",
    "    print('recall_score', k_recall)\n",
    "    print('precision_score', k_precision)\n",
    "    print('f1_score', k_f1_score)\n",
    "    #print('\\nconfusion_matrix\\n', k_cm)\n",
    "\n",
    "    accuracy.append(k_accuracy)\n",
    "    recall.append(k_recall)\n",
    "    precision.append(k_precision)\n",
    "    f1score.append(k_f1_score)\n",
    "    #cm.append(k_cm)\n",
    "#    print('roc_curve 면적', roc_auc_score(y_test, pred))\n",
    "\n",
    "# 14. 최종 결과지표\n",
    "print('\\nK-fold cross validation Accuracy: {}'.format(accuracy))\n",
    "print('\\nK-fold cross validation Recall: {}'.format(recall))\n",
    "print('\\nK-fold cross validation Precision: {}'.format(precision))\n",
    "print('\\nK-fold cross validation F1-Score: {}'.format(f1score))\n",
    "#print('\\nK-fold cross validation ConfusionMatrix: {}'.format(cm))"
   ]
  },
  {
   "cell_type": "markdown",
   "metadata": {},
   "source": [
    "## (9) 평가지표"
   ]
  },
  {
   "cell_type": "code",
   "execution_count": 20,
   "metadata": {},
   "outputs": [
    {
     "name": "stdout",
     "output_type": "stream",
     "text": [
      "10-Fold Cross_validation. Accuracy : 0.9997159396628519\n",
      "10-Fold Cross_validation. Recall : 0.8654871449745963\n",
      "10-Fold Cross_validation. Precision : 0.8978509977103629\n",
      "10-Fold Cross_validation. F1-Score : 0.8805075185939545\n"
     ]
    }
   ],
   "source": [
    "print('10-Fold Cross_validation. Accuracy :', np.mean(accuracy))\n",
    "print('10-Fold Cross_validation. Recall :', np.mean(recall))\n",
    "print('10-Fold Cross_validation. Precision :', np.mean(precision))\n",
    "print('10-Fold Cross_validation. F1-Score :', np.mean(f1score))"
   ]
  }
 ],
 "metadata": {
  "kernelspec": {
   "display_name": "Python 3",
   "language": "python",
   "name": "python3"
  },
  "language_info": {
   "codemirror_mode": {
    "name": "ipython",
    "version": 3
   },
   "file_extension": ".py",
   "mimetype": "text/x-python",
   "name": "python",
   "nbconvert_exporter": "python",
   "pygments_lexer": "ipython3",
   "version": "3.7.6"
  }
 },
 "nbformat": 4,
 "nbformat_minor": 4
}
