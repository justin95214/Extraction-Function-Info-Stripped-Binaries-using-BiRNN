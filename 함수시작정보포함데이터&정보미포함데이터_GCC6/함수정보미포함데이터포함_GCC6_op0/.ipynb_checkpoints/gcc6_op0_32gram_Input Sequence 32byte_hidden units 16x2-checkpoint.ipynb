{
 "cells": [
  {
   "cell_type": "markdown",
   "metadata": {},
   "source": [
    "## RNN 모델 N-Byte 방식 (함수정보 포함 vs 미포함 => 1:1 비율)\n",
    "\n",
    "## (1) 데이터로드"
   ]
  },
  {
   "cell_type": "code",
   "execution_count": 1,
   "metadata": {},
   "outputs": [
    {
     "name": "stdout",
     "output_type": "stream",
     "text": [
      "(13936744, 2)\n",
      "reset_index 완료\n",
      "input data shape\n"
     ]
    },
    {
     "data": {
      "text/html": [
       "<div>\n",
       "<style scoped>\n",
       "    .dataframe tbody tr th:only-of-type {\n",
       "        vertical-align: middle;\n",
       "    }\n",
       "\n",
       "    .dataframe tbody tr th {\n",
       "        vertical-align: top;\n",
       "    }\n",
       "\n",
       "    .dataframe thead th {\n",
       "        text-align: right;\n",
       "    }\n",
       "</style>\n",
       "<table border=\"1\" class=\"dataframe\">\n",
       "  <thead>\n",
       "    <tr style=\"text-align: right;\">\n",
       "      <th></th>\n",
       "      <th>bin</th>\n",
       "      <th>label</th>\n",
       "    </tr>\n",
       "  </thead>\n",
       "  <tbody>\n",
       "    <tr>\n",
       "      <th>0</th>\n",
       "      <td>53</td>\n",
       "      <td>1</td>\n",
       "    </tr>\n",
       "    <tr>\n",
       "      <th>1</th>\n",
       "      <td>83</td>\n",
       "      <td>0</td>\n",
       "    </tr>\n",
       "    <tr>\n",
       "      <th>2</th>\n",
       "      <td>ec</td>\n",
       "      <td>0</td>\n",
       "    </tr>\n",
       "    <tr>\n",
       "      <th>3</th>\n",
       "      <td>08</td>\n",
       "      <td>0</td>\n",
       "    </tr>\n",
       "    <tr>\n",
       "      <th>4</th>\n",
       "      <td>e8</td>\n",
       "      <td>0</td>\n",
       "    </tr>\n",
       "  </tbody>\n",
       "</table>\n",
       "</div>"
      ],
      "text/plain": [
       "  bin  label\n",
       "0  53      1\n",
       "1  83      0\n",
       "2  ec      0\n",
       "3  08      0\n",
       "4  e8      0"
      ]
     },
     "execution_count": 1,
     "metadata": {},
     "output_type": "execute_result"
    }
   ],
   "source": [
    "# (1) 데이터로드\n",
    "import pandas as pd\n",
    "import numpy as np\n",
    "\n",
    "import warnings\n",
    "warnings.filterwarnings(action='ignore')\n",
    "\n",
    "# 여러개 쳐도 나오게\n",
    "from IPython.core.interactiveshell import InteractiveShell\n",
    "InteractiveShell.ast_node_interactivity = \"all\"\n",
    "\n",
    "# 파일읽기\n",
    "gcc6_0_32 = pd.read_csv(\"../data/binutils_gcc3~9_op0~4_exec_csv/\"+'gcc6'+\"_0_32_exec.csv\", index_col=0)\n",
    "\n",
    "# 형태 출력\n",
    "print(gcc6_0_32.shape)\n",
    "\n",
    "# reset_index (hex processing 하면서 값이 빠졌으니까 + n_gram 에서 index를 다루기 때문에)\n",
    "gcc6_0_32.reset_index(inplace=True, drop=True)\n",
    "\n",
    "print('reset_index 완료')\n",
    "print('input data shape')\n",
    "gcc6_0_32.head()"
   ]
  },
  {
   "cell_type": "code",
   "execution_count": 2,
   "metadata": {},
   "outputs": [
    {
     "name": "stdout",
     "output_type": "stream",
     "text": [
      "256\n",
      "0    13892354\n",
      "1       44390\n",
      "Name: label, dtype: int64\n"
     ]
    }
   ],
   "source": [
    "# (2-1) 데이터체크 1 - hex(16진수)가 256 label을 가져야 dummies 변환 가능 \n",
    "\n",
    "# 16진수 256개 종류가 있어서 pd.get_dummies 사용 가능.\n",
    "print(len(gcc6_0_32['bin'].unique()))\n",
    "\n",
    "# (2-2) 데이터 체크 2 - 1, 0 비율 ==> 1이 함수의 갯수를 뜻함\n",
    "# 정답 데이터 1, 0 비율 확인  ==> 1이 함수의 갯수를 뜻함\n",
    "print(gcc6_0_32['label'].value_counts())"
   ]
  },
  {
   "cell_type": "markdown",
   "metadata": {},
   "source": [
    "## (3) N Byte씩 자르기"
   ]
  },
  {
   "cell_type": "code",
   "execution_count": 3,
   "metadata": {},
   "outputs": [
    {
     "name": "stdout",
     "output_type": "stream",
     "text": [
      "1420468\n",
      "나머지 20\n",
      "최종 길이 1420448\n",
      "gcc6_0_32 1420448\n"
     ]
    }
   ],
   "source": [
    "######################## \n",
    "idx = gcc6_0_32[gcc6_0_32['label']==1].index  # 407, 474 ...\n",
    "ls = list(idx)\n",
    "\n",
    "# 최종 뽑을 행에 대한 index\n",
    "ls_idx = [] \n",
    "left_idx, right_idx = 0, 32 # 3개씩\n",
    "\n",
    "# 6gram\n",
    "for k in range(left_idx, right_idx):\n",
    "    ls_idx.extend(list(idx + k)) # index 형이라서 가능\n",
    "\n",
    "#ls_idx = list(set(ls_idx)) \n",
    "ls_idx.sort() # 인덱스 정렬\n",
    "\n",
    "# 1차 index 해당범위 초과한 것들 없애기\n",
    "ls_idx = list(filter(lambda x: x<len(gcc6_0_32), ls_idx))\n",
    "print(len(ls_idx))\n",
    "\n",
    "# 2차 남은 index들 중 right_idx 나눈 나머지 없애기\n",
    "sub = len(ls_idx)%(right_idx)\n",
    "print('나머지', sub)\n",
    "\n",
    "ls_idx = ls_idx[:len(ls_idx)-sub]\n",
    "print('최종 길이', len(ls_idx))\n",
    "\n",
    "print('gcc6_0_32', len(ls_idx))\n",
    "\n",
    "# loc 로 수정필요\n",
    "gcc6_0_32_Ngram = gcc6_0_32.loc[ls_idx,:].copy()"
   ]
  },
  {
   "cell_type": "markdown",
   "metadata": {},
   "source": [
    "## (4) false data 만들기"
   ]
  },
  {
   "cell_type": "code",
   "execution_count": 4,
   "metadata": {},
   "outputs": [
    {
     "name": "stdout",
     "output_type": "stream",
     "text": [
      "0 1000 2000 3000 4000 5000 6000 7000 8000 9000 10000 11000 12000 13000 14000 15000 16000 17000 18000 19000 20000 21000 22000 23000 24000 25000 26000 27000 28000 29000 30000 31000 32000 33000 34000 35000 36000 37000 38000 39000 40000 41000 42000 43000 44000 완료\n"
     ]
    }
   ],
   "source": [
    "# false data 만들기 - False 데이터 랜덤 생성\n",
    "# random index\n",
    "random_idx = np.random.randint(len(gcc6_0_32)-right_idx)\n",
    "\n",
    "# 목표치\n",
    "goal = len(gcc6_0_32_Ngram)/right_idx\n",
    "count=0\n",
    "\n",
    "d = pd.DataFrame(columns=gcc6_0_32.columns)\n",
    "\n",
    "# goal 에 도달할 때까지\n",
    "while count!=goal:\n",
    "    \n",
    "    # 진행상황 살펴보기 위함\n",
    "    if count%1000==0:\n",
    "        print(count, end=' ')\n",
    "        \n",
    "    # 랜덤 N 바이트씩 뽑음\n",
    "    df = gcc6_0_32[random_idx:random_idx+right_idx]\n",
    "    \n",
    "    # 뽑은 index의 N 바이트 중에 1이 없는 경우만\n",
    "    if 1 not in df['label']:\n",
    "        d = pd.concat([d, df])\n",
    "        count+=1\n",
    "\n",
    "print('완료')"
   ]
  },
  {
   "cell_type": "markdown",
   "metadata": {},
   "source": [
    "## (5) False Data + True Data 합치기"
   ]
  },
  {
   "cell_type": "code",
   "execution_count": 5,
   "metadata": {},
   "outputs": [
    {
     "name": "stdout",
     "output_type": "stream",
     "text": [
      "0 1000 2000 3000 4000 5000 6000 7000 8000 9000 10000 11000 12000 13000 14000 15000 16000 17000 18000 19000 20000 21000 22000 23000 24000 25000 26000 27000 28000 29000 30000 31000 32000 33000 34000 35000 36000 37000 38000 39000 40000 41000 42000 43000 44000 "
     ]
    },
    {
     "data": {
      "text/plain": [
       "(2840896, 2)"
      ]
     },
     "execution_count": 5,
     "metadata": {},
     "output_type": "execute_result"
    }
   ],
   "source": [
    "ff = pd.DataFrame(columns=gcc6_0_32.columns)\n",
    "\n",
    "for i in range(0, int(len(d)/right_idx)):\n",
    "    ff = pd.concat([ff, gcc6_0_32[i*right_idx:(i+1)*right_idx], d[i*right_idx:(i+1)*right_idx]])\n",
    "    \n",
    "    if i%1000==0:\n",
    "        print(i, end=' ')\n",
    "ff.shape"
   ]
  },
  {
   "cell_type": "markdown",
   "metadata": {},
   "source": [
    "## (6) one hot encoding"
   ]
  },
  {
   "cell_type": "code",
   "execution_count": 6,
   "metadata": {},
   "outputs": [
    {
     "name": "stdout",
     "output_type": "stream",
     "text": [
      "원핫인코딩완료\n",
      "(2840896, 257)\n"
     ]
    }
   ],
   "source": [
    "# 훈련데이터 (gcc 최적화버전 0, 1, 2, 3 one hot encoding)\n",
    "gcc6_0_32_onehot_Ngram = pd.get_dummies(ff['bin'])\n",
    "gcc6_0_32_onehot_Ngram = pd.concat([ff['label'], gcc6_0_32_onehot_Ngram], axis=1)\n",
    "\n",
    "print('원핫인코딩완료')\n",
    "print(gcc6_0_32_onehot_Ngram.shape)"
   ]
  },
  {
   "cell_type": "code",
   "execution_count": 7,
   "metadata": {},
   "outputs": [
    {
     "name": "stdout",
     "output_type": "stream",
     "text": [
      "(2840896, 256) (2840896,)\n",
      "(88778, 32, 256) (88778, 32, 1)\n"
     ]
    }
   ],
   "source": [
    "# 훈련 데이터, 훈련 라벨\n",
    "x_gcc6_0_32_3 = gcc6_0_32_onehot_Ngram.iloc[:,1:].to_numpy()\n",
    "y_gcc6_0_32_3 = gcc6_0_32_onehot_Ngram['label'].to_numpy()\n",
    "print(x_gcc6_0_32_3.shape, y_gcc6_0_32_3.shape)\n",
    "\n",
    "x_gcc6_0_32_3 = x_gcc6_0_32_3.reshape(-1, right_idx, x_gcc6_0_32_3.shape[1])\n",
    "y_gcc6_0_32_3 = y_gcc6_0_32_3.reshape(-1, right_idx, 1)\n",
    "\n",
    "print(x_gcc6_0_32_3.shape, y_gcc6_0_32_3.shape)"
   ]
  },
  {
   "cell_type": "markdown",
   "metadata": {},
   "source": [
    "## (7) 모델"
   ]
  },
  {
   "cell_type": "code",
   "execution_count": 8,
   "metadata": {},
   "outputs": [
    {
     "name": "stderr",
     "output_type": "stream",
     "text": [
      "Using TensorFlow backend.\n"
     ]
    },
    {
     "name": "stdout",
     "output_type": "stream",
     "text": [
      "Model: \"model_1\"\n",
      "_________________________________________________________________\n",
      "Layer (type)                 Output Shape              Param #   \n",
      "=================================================================\n",
      "input_1 (InputLayer)         (None, 32, 256)           0         \n",
      "_________________________________________________________________\n",
      "bidirectional_1 (Bidirection (None, 32, 32)            34944     \n",
      "_________________________________________________________________\n",
      "time_distributed_1 (TimeDist (None, 32, 1)             33        \n",
      "=================================================================\n",
      "Total params: 34,977\n",
      "Trainable params: 34,977\n",
      "Non-trainable params: 0\n",
      "_________________________________________________________________\n"
     ]
    }
   ],
   "source": [
    "# (10) 양방향 LSTM 모델링 작업\n",
    "from keras.models import Model, Sequential\n",
    "from keras.layers import SimpleRNN, Input, Dense, LSTM\n",
    "from keras.layers import Bidirectional, TimeDistributed\n",
    "\n",
    "# 학습\n",
    "from keras.callbacks import EarlyStopping\n",
    "early_stopping = EarlyStopping(patience = 3) # 조기종료 콜백함수 정의\n",
    "\n",
    "xInput = Input(batch_shape=(None,right_idx, 256)) \n",
    "xBiLstm = Bidirectional(LSTM(16, return_sequences=True), merge_mode = 'concat')(xInput)\n",
    "xOutput = TimeDistributed(Dense(1, activation ='sigmoid'))(xBiLstm) # 각 스텝에서 cost가 전송되고, 오류가 다음 step으로 전송됨.\n",
    "\n",
    "model1 = Model(xInput, xOutput)\n",
    "model1.compile(loss='binary_crossentropy', optimizer='rmsprop', metrics=['accuracy'])\n",
    "model1.summary()"
   ]
  },
  {
   "cell_type": "markdown",
   "metadata": {},
   "source": [
    "## (8) 학습 - 10 KFold"
   ]
  },
  {
   "cell_type": "code",
   "execution_count": 9,
   "metadata": {
    "scrolled": false
   },
   "outputs": [
    {
     "name": "stdout",
     "output_type": "stream",
     "text": [
      "======Training stage======\n",
      "Epoch 1/10\n",
      "79900/79900 [==============================] - 45s 562us/step - loss: 0.0094 - accuracy: 0.9988\n",
      "Epoch 2/10\n",
      "79900/79900 [==============================] - 44s 554us/step - loss: 0.0027 - accuracy: 0.9992\n",
      "Epoch 3/10\n",
      "79900/79900 [==============================] - 44s 546us/step - loss: 0.0024 - accuracy: 0.9993\n",
      "Epoch 4/10\n",
      "79900/79900 [==============================] - 43s 537us/step - loss: 0.0023 - accuracy: 0.9993\n",
      "Epoch 5/10\n",
      "79900/79900 [==============================] - 42s 524us/step - loss: 0.0022 - accuracy: 0.9993\n",
      "Epoch 6/10\n",
      "79900/79900 [==============================] - 42s 523us/step - loss: 0.0021 - accuracy: 0.9994\n",
      "Epoch 7/10\n",
      "79900/79900 [==============================] - 42s 525us/step - loss: 0.0020 - accuracy: 0.9994\n",
      "Epoch 8/10\n",
      "79900/79900 [==============================] - 42s 523us/step - loss: 0.0019 - accuracy: 0.9994\n",
      "Epoch 9/10\n",
      "79900/79900 [==============================] - 42s 520us/step - loss: 0.0019 - accuracy: 0.9994\n",
      "Epoch 10/10\n",
      "79900/79900 [==============================] - 41s 518us/step - loss: 0.0018 - accuracy: 0.9994\n"
     ]
    },
    {
     "data": {
      "text/plain": [
       "<keras.callbacks.callbacks.History at 0x1f95bca8288>"
      ]
     },
     "execution_count": 9,
     "metadata": {},
     "output_type": "execute_result"
    },
    {
     "name": "stdout",
     "output_type": "stream",
     "text": [
      "accuracy_score 0.9992854528046857\n",
      "recall_score 0.6513513513513514\n",
      "precision_score 0.765079365079365\n",
      "f1_score 0.7036496350364964\n",
      "======Training stage======\n",
      "Epoch 1/10\n",
      "79900/79900 [==============================] - 41s 518us/step - loss: 0.0018 - accuracy: 0.9994\n",
      "Epoch 2/10\n",
      "79900/79900 [==============================] - 42s 521us/step - loss: 0.0017 - accuracy: 0.9995\n",
      "Epoch 3/10\n",
      "79900/79900 [==============================] - 42s 522us/step - loss: 0.0017 - accuracy: 0.9995\n",
      "Epoch 4/10\n",
      "79900/79900 [==============================] - 42s 521us/step - loss: 0.0016 - accuracy: 0.9995\n",
      "Epoch 5/10\n",
      "79900/79900 [==============================] - 42s 520us/step - loss: 0.0016 - accuracy: 0.9995\n",
      "Epoch 6/10\n",
      "79900/79900 [==============================] - 41s 519us/step - loss: 0.0015 - accuracy: 0.9995\n",
      "Epoch 7/10\n",
      "79900/79900 [==============================] - 41s 517us/step - loss: 0.0015 - accuracy: 0.9995s - loss:\n",
      "Epoch 8/10\n",
      "79900/79900 [==============================] - 41s 515us/step - loss: 0.0015 - accuracy: 0.9995\n",
      "Epoch 9/10\n",
      "79900/79900 [==============================] - 41s 517us/step - loss: 0.0014 - accuracy: 0.9996\n",
      "Epoch 10/10\n",
      "79900/79900 [==============================] - 41s 517us/step - loss: 0.0014 - accuracy: 0.9996\n"
     ]
    },
    {
     "data": {
      "text/plain": [
       "<keras.callbacks.callbacks.History at 0x1f95e521148>"
      ]
     },
     "execution_count": 9,
     "metadata": {},
     "output_type": "execute_result"
    },
    {
     "name": "stdout",
     "output_type": "stream",
     "text": [
      "accuracy_score 0.9994192104077495\n",
      "recall_score 0.6934523809523809\n",
      "precision_score 0.7898305084745763\n",
      "f1_score 0.7385103011093502\n",
      "======Training stage======\n",
      "Epoch 1/10\n",
      "79900/79900 [==============================] - 41s 516us/step - loss: 0.0015 - accuracy: 0.9995\n",
      "Epoch 2/10\n",
      "79900/79900 [==============================] - 41s 507us/step - loss: 0.0014 - accuracy: 0.9996\n",
      "Epoch 3/10\n",
      "79900/79900 [==============================] - 41s 507us/step - loss: 0.0014 - accuracy: 0.9996\n",
      "Epoch 4/10\n",
      "79900/79900 [==============================] - 41s 507us/step - loss: 0.0014 - accuracy: 0.9996\n",
      "Epoch 5/10\n",
      "79900/79900 [==============================] - 41s 507us/step - loss: 0.0013 - accuracy: 0.9996\n",
      "Epoch 6/10\n",
      "79900/79900 [==============================] - 41s 507us/step - loss: 0.0013 - accuracy: 0.9996\n",
      "Epoch 7/10\n",
      "79900/79900 [==============================] - 41s 508us/step - loss: 0.0013 - accuracy: 0.9996\n",
      "Epoch 8/10\n",
      "79900/79900 [==============================] - 41s 509us/step - loss: 0.0012 - accuracy: 0.9996\n",
      "Epoch 9/10\n",
      "79900/79900 [==============================] - 41s 508us/step - loss: 0.0012 - accuracy: 0.9996\n",
      "Epoch 10/10\n",
      "79900/79900 [==============================] - 41s 507us/step - loss: 0.0012 - accuracy: 0.9996\n"
     ]
    },
    {
     "data": {
      "text/plain": [
       "<keras.callbacks.callbacks.History at 0x1f95b7ca588>"
      ]
     },
     "execution_count": 9,
     "metadata": {},
     "output_type": "execute_result"
    },
    {
     "name": "stdout",
     "output_type": "stream",
     "text": [
      "accuracy_score 0.9994473699031313\n",
      "recall_score 0.7402234636871509\n",
      "precision_score 0.8054711246200608\n",
      "f1_score 0.7714701601164484\n",
      "======Training stage======\n",
      "Epoch 1/10\n",
      "79900/79900 [==============================] - 40s 506us/step - loss: 0.0012 - accuracy: 0.9996\n",
      "Epoch 2/10\n",
      "79900/79900 [==============================] - 40s 506us/step - loss: 0.0012 - accuracy: 0.9996\n",
      "Epoch 3/10\n",
      "79900/79900 [==============================] - 40s 506us/step - loss: 0.0012 - accuracy: 0.9996\n",
      "Epoch 4/10\n",
      "79900/79900 [==============================] - 41s 507us/step - loss: 0.0011 - accuracy: 0.9996\n",
      "Epoch 5/10\n",
      "79900/79900 [==============================] - 40s 506us/step - loss: 0.0011 - accuracy: 0.9996\n",
      "Epoch 6/10\n",
      "79900/79900 [==============================] - 40s 506us/step - loss: 0.0011 - accuracy: 0.9997\n",
      "Epoch 7/10\n",
      "79900/79900 [==============================] - 41s 507us/step - loss: 0.0011 - accuracy: 0.9997\n",
      "Epoch 8/10\n",
      "79900/79900 [==============================] - 40s 506us/step - loss: 0.0010 - accuracy: 0.9997\n",
      "Epoch 9/10\n",
      "79900/79900 [==============================] - 41s 507us/step - loss: 0.0010 - accuracy: 0.9997\n",
      "Epoch 10/10\n",
      "79900/79900 [==============================] - 41s 508us/step - loss: 9.9467e-04 - accuracy: 0.9997\n"
     ]
    },
    {
     "data": {
      "text/plain": [
       "<keras.callbacks.callbacks.History at 0x1f95ca55308>"
      ]
     },
     "execution_count": 9,
     "metadata": {},
     "output_type": "execute_result"
    },
    {
     "name": "stdout",
     "output_type": "stream",
     "text": [
      "accuracy_score 0.9995248085154314\n",
      "recall_score 0.7527777777777778\n",
      "precision_score 0.8548895899053628\n",
      "f1_score 0.8005908419497785\n",
      "======Training stage======\n",
      "Epoch 1/10\n",
      "79900/79900 [==============================] - 40s 506us/step - loss: 0.0011 - accuracy: 0.9997\n",
      "Epoch 2/10\n",
      "79900/79900 [==============================] - 40s 505us/step - loss: 0.0010 - accuracy: 0.9997\n",
      "Epoch 3/10\n",
      "79900/79900 [==============================] - 40s 507us/step - loss: 0.0010 - accuracy: 0.9997\n",
      "Epoch 4/10\n",
      "79900/79900 [==============================] - 40s 507us/step - loss: 9.7766e-04 - accuracy: 0.9997\n",
      "Epoch 5/10\n",
      "79900/79900 [==============================] - 40s 505us/step - loss: 9.5698e-04 - accuracy: 0.9997\n",
      "Epoch 6/10\n",
      "79900/79900 [==============================] - 40s 506us/step - loss: 9.2305e-04 - accuracy: 0.9997\n",
      "Epoch 7/10\n",
      "79900/79900 [==============================] - 40s 506us/step - loss: 9.0700e-04 - accuracy: 0.9997\n",
      "Epoch 8/10\n",
      "79900/79900 [==============================] - 40s 506us/step - loss: 8.9005e-04 - accuracy: 0.9997\n",
      "Epoch 9/10\n",
      "79900/79900 [==============================] - 40s 507us/step - loss: 8.6833e-04 - accuracy: 0.9997\n",
      "Epoch 10/10\n",
      "79900/79900 [==============================] - 41s 507us/step - loss: 8.3609e-04 - accuracy: 0.9998\n"
     ]
    },
    {
     "data": {
      "text/plain": [
       "<keras.callbacks.callbacks.History at 0x1f95ca88388>"
      ]
     },
     "execution_count": 9,
     "metadata": {},
     "output_type": "execute_result"
    },
    {
     "name": "stdout",
     "output_type": "stream",
     "text": [
      "accuracy_score 0.9996092870015769\n",
      "recall_score 0.8223495702005731\n",
      "precision_score 0.8541666666666666\n",
      "f1_score 0.837956204379562\n",
      "======Training stage======\n",
      "Epoch 1/10\n",
      "79900/79900 [==============================] - 40s 504us/step - loss: 9.0216e-04 - accuracy: 0.9997\n",
      "Epoch 2/10\n",
      "79900/79900 [==============================] - 40s 504us/step - loss: 8.7563e-04 - accuracy: 0.9997\n",
      "Epoch 3/10\n",
      "79900/79900 [==============================] - 40s 504us/step - loss: 8.4065e-04 - accuracy: 0.9998\n",
      "Epoch 4/10\n",
      "79900/79900 [==============================] - 40s 503us/step - loss: 8.2751e-04 - accuracy: 0.9998\n",
      "Epoch 5/10\n",
      "79900/79900 [==============================] - 40s 505us/step - loss: 8.0244e-04 - accuracy: 0.9998\n",
      "Epoch 6/10\n",
      "79900/79900 [==============================] - 40s 503us/step - loss: 7.8570e-04 - accuracy: 0.9998\n",
      "Epoch 7/10\n",
      "79900/79900 [==============================] - 40s 504us/step - loss: 7.7184e-04 - accuracy: 0.9998\n",
      "Epoch 8/10\n",
      "79900/79900 [==============================] - 40s 503us/step - loss: 7.4655e-04 - accuracy: 0.9998\n",
      "Epoch 9/10\n",
      "79900/79900 [==============================] - 40s 506us/step - loss: 7.3022e-04 - accuracy: 0.9998\n",
      "Epoch 10/10\n",
      "79900/79900 [==============================] - 40s 503us/step - loss: 7.2369e-04 - accuracy: 0.9998s - loss: 7.2218e-04 - accura\n"
     ]
    },
    {
     "data": {
      "text/plain": [
       "<keras.callbacks.callbacks.History at 0x1f95ca892c8>"
      ]
     },
     "execution_count": 9,
     "metadata": {},
     "output_type": "execute_result"
    },
    {
     "name": "stdout",
     "output_type": "stream",
     "text": [
      "accuracy_score 0.9996761658031088\n",
      "recall_score 0.8313253012048193\n",
      "precision_score 0.8846153846153846\n",
      "f1_score 0.8571428571428571\n",
      "======Training stage======\n",
      "Epoch 1/10\n",
      "79900/79900 [==============================] - 40s 506us/step - loss: 7.6818e-04 - accuracy: 0.9998\n",
      "Epoch 2/10\n",
      "79900/79900 [==============================] - 40s 505us/step - loss: 7.3147e-04 - accuracy: 0.9998\n",
      "Epoch 3/10\n",
      "79900/79900 [==============================] - 40s 505us/step - loss: 7.1190e-04 - accuracy: 0.9998\n",
      "Epoch 4/10\n",
      "79900/79900 [==============================] - 40s 505us/step - loss: 6.7391e-04 - accuracy: 0.9998\n",
      "Epoch 5/10\n",
      "79900/79900 [==============================] - 40s 504us/step - loss: 6.6253e-04 - accuracy: 0.9998\n",
      "Epoch 6/10\n",
      "79900/79900 [==============================] - 40s 507us/step - loss: 6.5081e-04 - accuracy: 0.9998\n",
      "Epoch 7/10\n",
      "79900/79900 [==============================] - 40s 505us/step - loss: 6.2231e-04 - accuracy: 0.9998\n",
      "Epoch 8/10\n",
      "79900/79900 [==============================] - 40s 504us/step - loss: 6.2011e-04 - accuracy: 0.9998\n",
      "Epoch 9/10\n",
      "79900/79900 [==============================] - 40s 504us/step - loss: 6.1077e-04 - accuracy: 0.9998\n",
      "Epoch 10/10\n",
      "79900/79900 [==============================] - 40s 505us/step - loss: 5.9883e-04 - accuracy: 0.9998\n"
     ]
    },
    {
     "data": {
      "text/plain": [
       "<keras.callbacks.callbacks.History at 0x1f95be48408>"
      ]
     },
     "execution_count": 9,
     "metadata": {},
     "output_type": "execute_result"
    },
    {
     "name": "stdout",
     "output_type": "stream",
     "text": [
      "accuracy_score 0.9996620860554178\n",
      "recall_score 0.8308605341246291\n",
      "precision_score 0.877742946708464\n",
      "f1_score 0.853658536585366\n",
      "======Training stage======\n",
      "Epoch 1/10\n",
      "79900/79900 [==============================] - 40s 507us/step - loss: 6.7111e-04 - accuracy: 0.9998\n",
      "Epoch 2/10\n",
      "79900/79900 [==============================] - 40s 505us/step - loss: 6.3502e-04 - accuracy: 0.9998\n",
      "Epoch 3/10\n",
      "79900/79900 [==============================] - 40s 504us/step - loss: 6.0056e-04 - accuracy: 0.9998\n",
      "Epoch 4/10\n",
      "79900/79900 [==============================] - 40s 500us/step - loss: 5.9435e-04 - accuracy: 0.9998\n",
      "Epoch 5/10\n",
      "79900/79900 [==============================] - 40s 498us/step - loss: 5.6055e-04 - accuracy: 0.9998\n",
      "Epoch 6/10\n",
      "79900/79900 [==============================] - 40s 499us/step - loss: 5.5422e-04 - accuracy: 0.9998\n",
      "Epoch 7/10\n",
      "79900/79900 [==============================] - 40s 501us/step - loss: 5.2344e-04 - accuracy: 0.9999\n",
      "Epoch 8/10\n",
      "79900/79900 [==============================] - 40s 502us/step - loss: 5.1320e-04 - accuracy: 0.9999\n",
      "Epoch 9/10\n",
      "79900/79900 [==============================] - 40s 502us/step - loss: 5.1694e-04 - accuracy: 0.9999\n",
      "Epoch 10/10\n",
      "79900/79900 [==============================] - 40s 499us/step - loss: 5.0331e-04 - accuracy: 0.9999\n"
     ]
    },
    {
     "data": {
      "text/plain": [
       "<keras.callbacks.callbacks.History at 0x1f95be6a3c8>"
      ]
     },
     "execution_count": 9,
     "metadata": {},
     "output_type": "execute_result"
    },
    {
     "name": "stdout",
     "output_type": "stream",
     "text": [
      "accuracy_score 0.9996937654877225\n",
      "recall_score 0.8289855072463768\n",
      "precision_score 0.910828025477707\n",
      "f1_score 0.8679817905918058\n",
      "======Training stage======\n",
      "Epoch 1/10\n",
      "79901/79901 [==============================] - 40s 500us/step - loss: 5.8366e-04 - accuracy: 0.9998\n",
      "Epoch 2/10\n",
      "79901/79901 [==============================] - 40s 500us/step - loss: 5.4966e-04 - accuracy: 0.9999\n",
      "Epoch 3/10\n",
      "79901/79901 [==============================] - 40s 500us/step - loss: 5.1290e-04 - accuracy: 0.9999\n",
      "Epoch 4/10\n",
      "79901/79901 [==============================] - 40s 500us/step - loss: 5.0371e-04 - accuracy: 0.9999\n",
      "Epoch 5/10\n",
      "79901/79901 [==============================] - 40s 500us/step - loss: 4.7301e-04 - accuracy: 0.9999\n",
      "Epoch 6/10\n",
      "79901/79901 [==============================] - 40s 499us/step - loss: 4.5251e-04 - accuracy: 0.9999\n",
      "Epoch 7/10\n",
      "79901/79901 [==============================] - 40s 500us/step - loss: 4.6401e-04 - accuracy: 0.9999\n",
      "Epoch 8/10\n",
      "79901/79901 [==============================] - 40s 500us/step - loss: 4.6523e-04 - accuracy: 0.9999\n",
      "Epoch 9/10\n",
      "79901/79901 [==============================] - 40s 500us/step - loss: 4.2128e-04 - accuracy: 0.9999\n",
      "Epoch 10/10\n",
      "79901/79901 [==============================] - 40s 499us/step - loss: 4.1455e-04 - accuracy: 0.9999\n"
     ]
    },
    {
     "data": {
      "text/plain": [
       "<keras.callbacks.callbacks.History at 0x1f95ca79108>"
      ]
     },
     "execution_count": 9,
     "metadata": {},
     "output_type": "execute_result"
    },
    {
     "name": "stdout",
     "output_type": "stream",
     "text": [
      "accuracy_score 0.9997078123239833\n",
      "recall_score 0.845108695652174\n",
      "precision_score 0.9228486646884273\n",
      "f1_score 0.8822695035460993\n",
      "======Training stage======\n",
      "Epoch 1/10\n",
      "79901/79901 [==============================] - 40s 497us/step - loss: 5.0802e-04 - accuracy: 0.9999\n",
      "Epoch 2/10\n",
      "79901/79901 [==============================] - 40s 497us/step - loss: 4.9497e-04 - accuracy: 0.9999\n",
      "Epoch 3/10\n",
      "79901/79901 [==============================] - 40s 495us/step - loss: 4.5558e-04 - accuracy: 0.9999\n",
      "Epoch 4/10\n",
      "79901/79901 [==============================] - 40s 495us/step - loss: 4.6331e-04 - accuracy: 0.9999\n",
      "Epoch 5/10\n",
      "79901/79901 [==============================] - 40s 496us/step - loss: 4.6119e-04 - accuracy: 0.9999\n",
      "Epoch 6/10\n",
      "79901/79901 [==============================] - 40s 496us/step - loss: 4.3914e-04 - accuracy: 0.9999\n",
      "Epoch 7/10\n",
      "79901/79901 [==============================] - 40s 496us/step - loss: 4.2241e-04 - accuracy: 0.9999\n",
      "Epoch 8/10\n",
      "79901/79901 [==============================] - 40s 495us/step - loss: 4.2835e-04 - accuracy: 0.9999\n",
      "Epoch 9/10\n",
      "79901/79901 [==============================] - 40s 495us/step - loss: 4.2096e-04 - accuracy: 0.9999\n",
      "Epoch 10/10\n",
      "79901/79901 [==============================] - 39s 488us/step - loss: 4.2605e-04 - accuracy: 0.9999\n"
     ]
    },
    {
     "data": {
      "text/plain": [
       "<keras.callbacks.callbacks.History at 0x1f95e4ad588>"
      ]
     },
     "execution_count": 9,
     "metadata": {},
     "output_type": "execute_result"
    },
    {
     "name": "stdout",
     "output_type": "stream",
     "text": [
      "accuracy_score 0.9997289343246593\n",
      "recall_score 0.8819875776397516\n",
      "precision_score 0.8792569659442725\n",
      "f1_score 0.8806201550387597\n",
      "\n",
      "K-fold cross validation Accuracy: [0.9992854528046857, 0.9994192104077495, 0.9994473699031313, 0.9995248085154314, 0.9996092870015769, 0.9996761658031088, 0.9996620860554178, 0.9996937654877225, 0.9997078123239833, 0.9997289343246593]\n",
      "\n",
      "K-fold cross validation Recall: [0.6513513513513514, 0.6934523809523809, 0.7402234636871509, 0.7527777777777778, 0.8223495702005731, 0.8313253012048193, 0.8308605341246291, 0.8289855072463768, 0.845108695652174, 0.8819875776397516]\n",
      "\n",
      "K-fold cross validation Precision: [0.765079365079365, 0.7898305084745763, 0.8054711246200608, 0.8548895899053628, 0.8541666666666666, 0.8846153846153846, 0.877742946708464, 0.910828025477707, 0.9228486646884273, 0.8792569659442725]\n",
      "\n",
      "K-fold cross validation F1-Score: [0.7036496350364964, 0.7385103011093502, 0.7714701601164484, 0.8005908419497785, 0.837956204379562, 0.8571428571428571, 0.853658536585366, 0.8679817905918058, 0.8822695035460993, 0.8806201550387597]\n"
     ]
    }
   ],
   "source": [
    "# 교차검증 kfold\n",
    "from sklearn.model_selection import KFold\n",
    "\n",
    "# Accuracy, Precision, Recall, F1-Score\n",
    "from sklearn.metrics import accuracy_score, recall_score, precision_score, f1_score\n",
    "\n",
    "# Confusion Matrix, ROC Curve\n",
    "from sklearn.metrics import confusion_matrix, roc_auc_score\n",
    "\n",
    "# 최종 평가지표들 평균용\n",
    "accuracy, recall, precision, f1score, cm = [], [], [], [], []\n",
    "\n",
    "# 11. 교차검증 kfold - k.split - 10회 / K-Fold 객체 생성\n",
    "# kf = KFold(n_splits=10, shuffle=False, random_state=None) # KFold non shuffle 버전\n",
    "kf = KFold(n_splits=10, shuffle=True, random_state=None) # KFold non shuffle 버전\n",
    "\n",
    "for train, validation in kf.split(x_gcc6_0_32_3, y_gcc6_0_32_3):\n",
    "    print('======Training stage======')\n",
    "    model1.fit(x_gcc6_0_32_3[train],\n",
    "               y_gcc6_0_32_3[train],\n",
    "               epochs = 10,\n",
    "               batch_size = 32,\n",
    "               callbacks=[early_stopping])\n",
    "    #k_accuracy = '%.4f' %(model1.evaluate(data_10000x[validation], data_10000y[validation])[1])\n",
    "\n",
    "# 12. 교차검증결과 predict - 검증셋들\n",
    "    # predict 값\n",
    "    k_pr = model1.predict(x_gcc6_0_32_3[validation])\n",
    "    \n",
    "    # 테스트 predict 결과들 비교 (평가지표 보기위함)\n",
    "    pred = np.round(np.array(k_pr).flatten().tolist())\n",
    "    y_test = np.array(y_gcc6_0_32_3[validation]).flatten().tolist()\n",
    "    \n",
    "# 13. 평가지표들 출력\n",
    "    ## 평가지표들\n",
    "    k_accuracy = float(accuracy_score(y_test, pred))\n",
    "    k_recall =  float(recall_score(y_test, pred))\n",
    "    k_precision = float(precision_score(y_test, pred))\n",
    "    k_f1_score = float(f1_score(y_test, pred))\n",
    "    #k_cm = float(confusion_matrix(y_test, pred))\n",
    "    \n",
    "    print('accuracy_score', k_accuracy)\n",
    "    print('recall_score', k_recall)\n",
    "    print('precision_score', k_precision)\n",
    "    print('f1_score', k_f1_score)\n",
    "    #print('\\nconfusion_matrix\\n', k_cm)\n",
    "\n",
    "    accuracy.append(k_accuracy)\n",
    "    recall.append(k_recall)\n",
    "    precision.append(k_precision)\n",
    "    f1score.append(k_f1_score)\n",
    "    #cm.append(k_cm)\n",
    "#    print('roc_curve 면적', roc_auc_score(y_test, pred))\n",
    "\n",
    "# 14. 최종 결과지표\n",
    "print('\\nK-fold cross validation Accuracy: {}'.format(accuracy))\n",
    "print('\\nK-fold cross validation Recall: {}'.format(recall))\n",
    "print('\\nK-fold cross validation Precision: {}'.format(precision))\n",
    "print('\\nK-fold cross validation F1-Score: {}'.format(f1score))\n",
    "#print('\\nK-fold cross validation ConfusionMatrix: {}'.format(cm))"
   ]
  },
  {
   "cell_type": "markdown",
   "metadata": {},
   "source": [
    "## (9) 평가지표"
   ]
  },
  {
   "cell_type": "code",
   "execution_count": 10,
   "metadata": {},
   "outputs": [
    {
     "name": "stdout",
     "output_type": "stream",
     "text": [
      "10-Fold Cross_validation. Accuracy : 0.9995754892627466\n",
      "10-Fold Cross_validation. Recall : 0.7878422159836984\n",
      "10-Fold Cross_validation. Precision : 0.8544729242180287\n",
      "10-Fold Cross_validation. F1-Score : 0.8193849985496524\n"
     ]
    }
   ],
   "source": [
    "print('10-Fold Cross_validation. Accuracy :', np.mean(accuracy))\n",
    "print('10-Fold Cross_validation. Recall :', np.mean(recall))\n",
    "print('10-Fold Cross_validation. Precision :', np.mean(precision))\n",
    "print('10-Fold Cross_validation. F1-Score :', np.mean(f1score))"
   ]
  }
 ],
 "metadata": {
  "kernelspec": {
   "display_name": "Python 3",
   "language": "python",
   "name": "python3"
  },
  "language_info": {
   "codemirror_mode": {
    "name": "ipython",
    "version": 3
   },
   "file_extension": ".py",
   "mimetype": "text/x-python",
   "name": "python",
   "nbconvert_exporter": "python",
   "pygments_lexer": "ipython3",
   "version": "3.7.6"
  }
 },
 "nbformat": 4,
 "nbformat_minor": 4
}
