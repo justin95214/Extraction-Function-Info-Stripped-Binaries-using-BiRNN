{
 "cells": [
  {
   "cell_type": "markdown",
   "metadata": {},
   "source": [
    "## RNN 모델 N-Byte 방식 (함수정보 포함 vs 미포함 => 1:1 비율)\n",
    "\n",
    "## (1) 데이터로드"
   ]
  },
  {
   "cell_type": "code",
   "execution_count": 11,
   "metadata": {},
   "outputs": [
    {
     "name": "stdout",
     "output_type": "stream",
     "text": [
      "(13936744, 2)\n",
      "reset_index 완료\n",
      "input data shape\n"
     ]
    },
    {
     "data": {
      "text/html": [
       "<div>\n",
       "<style scoped>\n",
       "    .dataframe tbody tr th:only-of-type {\n",
       "        vertical-align: middle;\n",
       "    }\n",
       "\n",
       "    .dataframe tbody tr th {\n",
       "        vertical-align: top;\n",
       "    }\n",
       "\n",
       "    .dataframe thead th {\n",
       "        text-align: right;\n",
       "    }\n",
       "</style>\n",
       "<table border=\"1\" class=\"dataframe\">\n",
       "  <thead>\n",
       "    <tr style=\"text-align: right;\">\n",
       "      <th></th>\n",
       "      <th>bin</th>\n",
       "      <th>label</th>\n",
       "    </tr>\n",
       "  </thead>\n",
       "  <tbody>\n",
       "    <tr>\n",
       "      <th>0</th>\n",
       "      <td>53</td>\n",
       "      <td>1</td>\n",
       "    </tr>\n",
       "    <tr>\n",
       "      <th>1</th>\n",
       "      <td>83</td>\n",
       "      <td>0</td>\n",
       "    </tr>\n",
       "    <tr>\n",
       "      <th>2</th>\n",
       "      <td>ec</td>\n",
       "      <td>0</td>\n",
       "    </tr>\n",
       "    <tr>\n",
       "      <th>3</th>\n",
       "      <td>08</td>\n",
       "      <td>0</td>\n",
       "    </tr>\n",
       "    <tr>\n",
       "      <th>4</th>\n",
       "      <td>e8</td>\n",
       "      <td>0</td>\n",
       "    </tr>\n",
       "  </tbody>\n",
       "</table>\n",
       "</div>"
      ],
      "text/plain": [
       "  bin  label\n",
       "0  53      1\n",
       "1  83      0\n",
       "2  ec      0\n",
       "3  08      0\n",
       "4  e8      0"
      ]
     },
     "execution_count": 11,
     "metadata": {},
     "output_type": "execute_result"
    }
   ],
   "source": [
    "# (1) 데이터로드\n",
    "import pandas as pd\n",
    "import numpy as np\n",
    "\n",
    "import warnings\n",
    "warnings.filterwarnings(action='ignore')\n",
    "\n",
    "# 여러개 쳐도 나오게\n",
    "from IPython.core.interactiveshell import InteractiveShell\n",
    "InteractiveShell.ast_node_interactivity = \"all\"\n",
    "\n",
    "# 파일읽기\n",
    "gcc6_0_32 = pd.read_csv(\"../data/binutils_gcc3~9_op0~4_exec_csv/\"+'gcc6'+\"_0_32_exec.csv\", index_col=0)\n",
    "\n",
    "# 형태 출력\n",
    "print(gcc6_0_32.shape)\n",
    "\n",
    "# reset_index (hex processing 하면서 값이 빠졌으니까 + n_gram 에서 index를 다루기 때문에)\n",
    "gcc6_0_32.reset_index(inplace=True, drop=True)\n",
    "\n",
    "print('reset_index 완료')\n",
    "print('input data shape')\n",
    "gcc6_0_32.head()"
   ]
  },
  {
   "cell_type": "code",
   "execution_count": 12,
   "metadata": {},
   "outputs": [
    {
     "name": "stdout",
     "output_type": "stream",
     "text": [
      "256\n",
      "0    13892354\n",
      "1       44390\n",
      "Name: label, dtype: int64\n"
     ]
    }
   ],
   "source": [
    "# (2-1) 데이터체크 1 - hex(16진수)가 256 label을 가져야 dummies 변환 가능 \n",
    "\n",
    "# 16진수 256개 종류가 있어서 pd.get_dummies 사용 가능.\n",
    "print(len(gcc6_0_32['bin'].unique()))\n",
    "\n",
    "# (2-2) 데이터 체크 2 - 1, 0 비율 ==> 1이 함수의 갯수를 뜻함\n",
    "# 정답 데이터 1, 0 비율 확인  ==> 1이 함수의 갯수를 뜻함\n",
    "print(gcc6_0_32['label'].value_counts())"
   ]
  },
  {
   "cell_type": "markdown",
   "metadata": {},
   "source": [
    "## (3) N Byte씩 자르기"
   ]
  },
  {
   "cell_type": "code",
   "execution_count": 13,
   "metadata": {},
   "outputs": [
    {
     "name": "stdout",
     "output_type": "stream",
     "text": [
      "1420468\n",
      "나머지 20\n",
      "최종 길이 1420448\n",
      "gcc6_0_32 1420448\n"
     ]
    }
   ],
   "source": [
    "######################## \n",
    "idx = gcc6_0_32[gcc6_0_32['label']==1].index  # 407, 474 ...\n",
    "ls = list(idx)\n",
    "\n",
    "# 최종 뽑을 행에 대한 index\n",
    "ls_idx = [] \n",
    "left_idx, right_idx = 0, 32 # 3개씩\n",
    "\n",
    "# 6gram\n",
    "for k in range(left_idx, right_idx):\n",
    "    ls_idx.extend(list(idx + k)) # index 형이라서 가능\n",
    "\n",
    "#ls_idx = list(set(ls_idx)) \n",
    "ls_idx.sort() # 인덱스 정렬\n",
    "\n",
    "# 1차 index 해당범위 초과한 것들 없애기\n",
    "ls_idx = list(filter(lambda x: x<len(gcc6_0_32), ls_idx))\n",
    "print(len(ls_idx))\n",
    "\n",
    "# 2차 남은 index들 중 right_idx 나눈 나머지 없애기\n",
    "sub = len(ls_idx)%(right_idx)\n",
    "print('나머지', sub)\n",
    "\n",
    "ls_idx = ls_idx[:len(ls_idx)-sub]\n",
    "print('최종 길이', len(ls_idx))\n",
    "\n",
    "print('gcc6_0_32', len(ls_idx))\n",
    "\n",
    "# loc 로 수정필요\n",
    "gcc6_0_32_Ngram = gcc6_0_32.loc[ls_idx,:].copy()"
   ]
  },
  {
   "cell_type": "markdown",
   "metadata": {},
   "source": [
    "## (4) false data 만들기"
   ]
  },
  {
   "cell_type": "code",
   "execution_count": 14,
   "metadata": {},
   "outputs": [
    {
     "name": "stdout",
     "output_type": "stream",
     "text": [
      "0 1000 2000 3000 4000 5000 6000 7000 8000 9000 10000 11000 12000 13000 14000 15000 16000 17000 18000 19000 20000 21000 22000 23000 24000 25000 26000 27000 28000 29000 30000 31000 32000 33000 34000 35000 36000 37000 38000 39000 40000 41000 42000 43000 44000 완료\n"
     ]
    }
   ],
   "source": [
    "# false data 만들기 - False 데이터 랜덤 생성\n",
    "# random index\n",
    "random_idx = np.random.randint(len(gcc6_0_32)-right_idx)\n",
    "\n",
    "# 목표치\n",
    "goal = len(gcc6_0_32_Ngram)/right_idx\n",
    "count=0\n",
    "\n",
    "d = pd.DataFrame(columns=gcc6_0_32.columns)\n",
    "\n",
    "# goal 에 도달할 때까지\n",
    "while count!=goal:\n",
    "    \n",
    "    # 진행상황 살펴보기 위함\n",
    "    if count%1000==0:\n",
    "        print(count, end=' ')\n",
    "        \n",
    "    # 랜덤 N 바이트씩 뽑음\n",
    "    df = gcc6_0_32[random_idx:random_idx+right_idx]\n",
    "    \n",
    "    # 뽑은 index의 N 바이트 중에 1이 없는 경우만\n",
    "    if 1 not in df['label']:\n",
    "        d = pd.concat([d, df])\n",
    "        count+=1\n",
    "\n",
    "print('완료')"
   ]
  },
  {
   "cell_type": "markdown",
   "metadata": {},
   "source": [
    "## (5) False Data + True Data 합치기"
   ]
  },
  {
   "cell_type": "code",
   "execution_count": 15,
   "metadata": {},
   "outputs": [
    {
     "name": "stdout",
     "output_type": "stream",
     "text": [
      "0 1000 2000 3000 4000 5000 6000 7000 8000 9000 10000 11000 12000 13000 14000 15000 16000 17000 18000 19000 20000 21000 22000 23000 24000 25000 26000 27000 28000 29000 30000 31000 32000 33000 34000 35000 36000 37000 38000 39000 40000 41000 42000 43000 44000 "
     ]
    },
    {
     "data": {
      "text/plain": [
       "(2840896, 2)"
      ]
     },
     "execution_count": 15,
     "metadata": {},
     "output_type": "execute_result"
    }
   ],
   "source": [
    "ff = pd.DataFrame(columns=gcc6_0_32.columns)\n",
    "\n",
    "for i in range(0, int(len(d)/right_idx)):\n",
    "    ff = pd.concat([ff, gcc6_0_32[i*right_idx:(i+1)*right_idx], d[i*right_idx:(i+1)*right_idx]])\n",
    "    \n",
    "    if i%1000==0:\n",
    "        print(i, end=' ')\n",
    "ff.shape"
   ]
  },
  {
   "cell_type": "markdown",
   "metadata": {},
   "source": [
    "## (6) one hot encoding"
   ]
  },
  {
   "cell_type": "code",
   "execution_count": 16,
   "metadata": {},
   "outputs": [
    {
     "name": "stdout",
     "output_type": "stream",
     "text": [
      "원핫인코딩완료\n",
      "(2840896, 257)\n"
     ]
    }
   ],
   "source": [
    "# 훈련데이터 (gcc 최적화버전 0, 1, 2, 3 one hot encoding)\n",
    "gcc6_0_32_onehot_Ngram = pd.get_dummies(ff['bin'])\n",
    "gcc6_0_32_onehot_Ngram = pd.concat([ff['label'], gcc6_0_32_onehot_Ngram], axis=1)\n",
    "\n",
    "print('원핫인코딩완료')\n",
    "print(gcc6_0_32_onehot_Ngram.shape)"
   ]
  },
  {
   "cell_type": "code",
   "execution_count": 17,
   "metadata": {},
   "outputs": [
    {
     "name": "stdout",
     "output_type": "stream",
     "text": [
      "(2840896, 256) (2840896,)\n",
      "(88778, 32, 256) (88778, 32, 1)\n"
     ]
    }
   ],
   "source": [
    "# 훈련 데이터, 훈련 라벨\n",
    "x_gcc6_0_32_3 = gcc6_0_32_onehot_Ngram.iloc[:,1:].to_numpy()\n",
    "y_gcc6_0_32_3 = gcc6_0_32_onehot_Ngram['label'].to_numpy()\n",
    "print(x_gcc6_0_32_3.shape, y_gcc6_0_32_3.shape)\n",
    "\n",
    "x_gcc6_0_32_3 = x_gcc6_0_32_3.reshape(-1, right_idx, x_gcc6_0_32_3.shape[1])\n",
    "y_gcc6_0_32_3 = y_gcc6_0_32_3.reshape(-1, right_idx, 1)\n",
    "\n",
    "print(x_gcc6_0_32_3.shape, y_gcc6_0_32_3.shape)"
   ]
  },
  {
   "cell_type": "markdown",
   "metadata": {},
   "source": [
    "## (7) 모델"
   ]
  },
  {
   "cell_type": "code",
   "execution_count": 18,
   "metadata": {},
   "outputs": [],
   "source": [
    "# (10) 양방향 LSTM 모델링 작업\n",
    "from keras.models import Model, Sequential\n",
    "from keras.layers import SimpleRNN, Input, Dense, LSTM\n",
    "from keras.layers import Bidirectional, TimeDistributed\n",
    "\n",
    "# 학습\n",
    "from keras.callbacks import EarlyStopping\n",
    "early_stopping = EarlyStopping(patience = 3) # 조기종료 콜백함수 정의\n",
    "\n",
    "xInput = Input(batch_shape=(None,right_idx, 256)) \n",
    "xBiLstm = Bidirectional(LSTM(48, return_sequences=True), merge_mode = 'concat')(xInput)\n",
    "xOutput = TimeDistributed(Dense(1, activation ='sigmoid'))(xBiLstm) # 각 스텝에서 cost가 전송되고, 오류가 다음 step으로 전송됨."
   ]
  },
  {
   "cell_type": "markdown",
   "metadata": {},
   "source": [
    "## (8) 학습 - 10 KFold"
   ]
  },
  {
   "cell_type": "code",
   "execution_count": 19,
   "metadata": {
    "scrolled": false
   },
   "outputs": [
    {
     "name": "stdout",
     "output_type": "stream",
     "text": [
      "Model: \"model_11\"\n",
      "_________________________________________________________________\n",
      "Layer (type)                 Output Shape              Param #   \n",
      "=================================================================\n",
      "input_2 (InputLayer)         (None, 32, 256)           0         \n",
      "_________________________________________________________________\n",
      "bidirectional_2 (Bidirection (None, 32, 64)            73984     \n",
      "_________________________________________________________________\n",
      "time_distributed_2 (TimeDist (None, 32, 1)             65        \n",
      "=================================================================\n",
      "Total params: 74,049\n",
      "Trainable params: 74,049\n",
      "Non-trainable params: 0\n",
      "_________________________________________________________________\n",
      "======Training stage======\n",
      "Epoch 1/10\n",
      "79900/79900 [==============================] - 37s 460us/step - loss: 0.0070 - accuracy: 0.9987\n",
      "Epoch 2/10\n",
      "79900/79900 [==============================] - 36s 453us/step - loss: 0.0026 - accuracy: 0.9992\n",
      "Epoch 3/10\n",
      "79900/79900 [==============================] - 36s 452us/step - loss: 0.0024 - accuracy: 0.9993\n",
      "Epoch 4/10\n",
      "79900/79900 [==============================] - 36s 453us/step - loss: 0.0022 - accuracy: 0.9993\n",
      "Epoch 5/10\n",
      "79900/79900 [==============================] - 36s 453us/step - loss: 0.0021 - accuracy: 0.9994s - loss: 0.0021 - ac\n",
      "Epoch 6/10\n",
      "79900/79900 [==============================] - 36s 453us/step - loss: 0.0020 - accuracy: 0.9994\n",
      "Epoch 7/10\n",
      "79900/79900 [==============================] - 36s 454us/step - loss: 0.0019 - accuracy: 0.9994\n",
      "Epoch 8/10\n",
      "79900/79900 [==============================] - 36s 454us/step - loss: 0.0018 - accuracy: 0.9994\n",
      "Epoch 9/10\n",
      "79900/79900 [==============================] - 36s 456us/step - loss: 0.0018 - accuracy: 0.9995\n",
      "Epoch 10/10\n",
      "79900/79900 [==============================] - 36s 447us/step - loss: 0.0017 - accuracy: 0.9995\n"
     ]
    },
    {
     "data": {
      "text/plain": [
       "<keras.callbacks.callbacks.History at 0x26d460a79c8>"
      ]
     },
     "execution_count": 19,
     "metadata": {},
     "output_type": "execute_result"
    },
    {
     "name": "stdout",
     "output_type": "stream",
     "text": [
      "accuracy_score 0.9993980907862131\n",
      "recall_score 0.6598837209302325\n",
      "precision_score 0.8078291814946619\n",
      "f1_score 0.7263999999999998\n",
      "Model: \"model_12\"\n",
      "_________________________________________________________________\n",
      "Layer (type)                 Output Shape              Param #   \n",
      "=================================================================\n",
      "input_2 (InputLayer)         (None, 32, 256)           0         \n",
      "_________________________________________________________________\n",
      "bidirectional_2 (Bidirection (None, 32, 64)            73984     \n",
      "_________________________________________________________________\n",
      "time_distributed_2 (TimeDist (None, 32, 1)             65        \n",
      "=================================================================\n",
      "Total params: 74,049\n",
      "Trainable params: 74,049\n",
      "Non-trainable params: 0\n",
      "_________________________________________________________________\n",
      "======Training stage======\n",
      "Epoch 1/10\n",
      "79900/79900 [==============================] - 37s 464us/step - loss: 0.0016 - accuracy: 0.9995\n",
      "Epoch 2/10\n",
      "79900/79900 [==============================] - 37s 457us/step - loss: 0.0016 - accuracy: 0.9995\n",
      "Epoch 3/10\n",
      "79900/79900 [==============================] - 37s 458us/step - loss: 0.0015 - accuracy: 0.9995\n",
      "Epoch 4/10\n",
      "79900/79900 [==============================] - 37s 458us/step - loss: 0.0014 - accuracy: 0.9995\n",
      "Epoch 5/10\n",
      "79900/79900 [==============================] - 37s 458us/step - loss: 0.0014 - accuracy: 0.9996\n",
      "Epoch 6/10\n",
      "79900/79900 [==============================] - 37s 458us/step - loss: 0.0013 - accuracy: 0.9996\n",
      "Epoch 7/10\n",
      "79900/79900 [==============================] - 37s 458us/step - loss: 0.0013 - accuracy: 0.9996\n",
      "Epoch 8/10\n",
      "79900/79900 [==============================] - 37s 459us/step - loss: 0.0012 - accuracy: 0.9996\n",
      "Epoch 9/10\n",
      "79900/79900 [==============================] - 37s 460us/step - loss: 0.0012 - accuracy: 0.9996\n",
      "Epoch 10/10\n",
      "79900/79900 [==============================] - 37s 460us/step - loss: 0.0011 - accuracy: 0.9997\n"
     ]
    },
    {
     "data": {
      "text/plain": [
       "<keras.callbacks.callbacks.History at 0x26d481ea288>"
      ]
     },
     "execution_count": 19,
     "metadata": {},
     "output_type": "execute_result"
    },
    {
     "name": "stdout",
     "output_type": "stream",
     "text": [
      "accuracy_score 0.9994156904708268\n",
      "recall_score 0.6840579710144927\n",
      "precision_score 0.8054607508532423\n",
      "f1_score 0.7398119122257053\n",
      "Model: \"model_13\"\n",
      "_________________________________________________________________\n",
      "Layer (type)                 Output Shape              Param #   \n",
      "=================================================================\n",
      "input_2 (InputLayer)         (None, 32, 256)           0         \n",
      "_________________________________________________________________\n",
      "bidirectional_2 (Bidirection (None, 32, 64)            73984     \n",
      "_________________________________________________________________\n",
      "time_distributed_2 (TimeDist (None, 32, 1)             65        \n",
      "=================================================================\n",
      "Total params: 74,049\n",
      "Trainable params: 74,049\n",
      "Non-trainable params: 0\n",
      "_________________________________________________________________\n",
      "======Training stage======\n",
      "Epoch 1/10\n",
      "79900/79900 [==============================] - 37s 462us/step - loss: 0.0012 - accuracy: 0.9996s - loss: 0.0012 - accuracy\n",
      "Epoch 2/10\n",
      "79900/79900 [==============================] - 36s 453us/step - loss: 0.0011 - accuracy: 0.9997\n",
      "Epoch 3/10\n",
      "79900/79900 [==============================] - 36s 453us/step - loss: 0.0010 - accuracy: 0.9997\n",
      "Epoch 4/10\n",
      "79900/79900 [==============================] - 36s 454us/step - loss: 9.4546e-04 - accuracy: 0.9997\n",
      "Epoch 5/10\n",
      "79900/79900 [==============================] - 36s 454us/step - loss: 9.0296e-04 - accuracy: 0.9997\n",
      "Epoch 6/10\n",
      "79900/79900 [==============================] - 36s 454us/step - loss: 8.4757e-04 - accuracy: 0.9997\n",
      "Epoch 7/10\n",
      "79900/79900 [==============================] - 36s 454us/step - loss: 7.8873e-04 - accuracy: 0.9998\n",
      "Epoch 8/10\n",
      "79900/79900 [==============================] - 36s 454us/step - loss: 7.5065e-04 - accuracy: 0.9998s - loss: 7.4733e-04 - accuracy: 0.\n",
      "Epoch 9/10\n",
      "79900/79900 [==============================] - 36s 454us/step - loss: 7.1842e-04 - accuracy: 0.9998\n",
      "Epoch 10/10\n",
      "79900/79900 [==============================] - 36s 455us/step - loss: 6.7263e-04 - accuracy: 0.9998\n"
     ]
    },
    {
     "data": {
      "text/plain": [
       "<keras.callbacks.callbacks.History at 0x26d4db4f388>"
      ]
     },
     "execution_count": 19,
     "metadata": {},
     "output_type": "execute_result"
    },
    {
     "name": "stdout",
     "output_type": "stream",
     "text": [
      "accuracy_score 0.9995459281369677\n",
      "recall_score 0.7696335078534031\n",
      "precision_score 0.8776119402985074\n",
      "f1_score 0.8200836820083681\n",
      "Model: \"model_14\"\n",
      "_________________________________________________________________\n",
      "Layer (type)                 Output Shape              Param #   \n",
      "=================================================================\n",
      "input_2 (InputLayer)         (None, 32, 256)           0         \n",
      "_________________________________________________________________\n",
      "bidirectional_2 (Bidirection (None, 32, 64)            73984     \n",
      "_________________________________________________________________\n",
      "time_distributed_2 (TimeDist (None, 32, 1)             65        \n",
      "=================================================================\n",
      "Total params: 74,049\n",
      "Trainable params: 74,049\n",
      "Non-trainable params: 0\n",
      "_________________________________________________________________\n",
      "======Training stage======\n",
      "Epoch 1/10\n",
      "79900/79900 [==============================] - 38s 470us/step - loss: 7.8193e-04 - accuracy: 0.9998\n",
      "Epoch 2/10\n",
      "79900/79900 [==============================] - 37s 463us/step - loss: 7.1853e-04 - accuracy: 0.9998\n",
      "Epoch 3/10\n",
      "79900/79900 [==============================] - 37s 462us/step - loss: 6.3845e-04 - accuracy: 0.9998\n",
      "Epoch 4/10\n",
      "79900/79900 [==============================] - 37s 462us/step - loss: 6.2158e-04 - accuracy: 0.9998\n",
      "Epoch 5/10\n",
      "79900/79900 [==============================] - 37s 463us/step - loss: 5.7488e-04 - accuracy: 0.9998\n",
      "Epoch 6/10\n",
      "79900/79900 [==============================] - 37s 462us/step - loss: 5.3449e-04 - accuracy: 0.9998\n",
      "Epoch 7/10\n",
      "79900/79900 [==============================] - 37s 462us/step - loss: 4.8112e-04 - accuracy: 0.9999\n",
      "Epoch 8/10\n",
      "79900/79900 [==============================] - 37s 463us/step - loss: 4.6132e-04 - accuracy: 0.9999\n",
      "Epoch 9/10\n",
      "79900/79900 [==============================] - 38s 471us/step - loss: 4.3856e-04 - accuracy: 0.9999\n",
      "Epoch 10/10\n",
      "79900/79900 [==============================] - 37s 466us/step - loss: 3.8894e-04 - accuracy: 0.9999\n"
     ]
    },
    {
     "data": {
      "text/plain": [
       "<keras.callbacks.callbacks.History at 0x26d4fc24308>"
      ]
     },
     "execution_count": 19,
     "metadata": {},
     "output_type": "execute_result"
    },
    {
     "name": "stdout",
     "output_type": "stream",
     "text": [
      "accuracy_score 0.9996444863708043\n",
      "recall_score 0.7784810126582279\n",
      "precision_score 0.8880866425992779\n",
      "f1_score 0.8296795952782463\n",
      "Model: \"model_15\"\n",
      "_________________________________________________________________\n",
      "Layer (type)                 Output Shape              Param #   \n",
      "=================================================================\n",
      "input_2 (InputLayer)         (None, 32, 256)           0         \n",
      "_________________________________________________________________\n",
      "bidirectional_2 (Bidirection (None, 32, 64)            73984     \n",
      "_________________________________________________________________\n",
      "time_distributed_2 (TimeDist (None, 32, 1)             65        \n",
      "=================================================================\n",
      "Total params: 74,049\n",
      "Trainable params: 74,049\n",
      "Non-trainable params: 0\n",
      "_________________________________________________________________\n",
      "======Training stage======\n",
      "Epoch 1/10\n",
      "79900/79900 [==============================] - 39s 488us/step - loss: 5.0597e-04 - accuracy: 0.9999s - loss: 5 - ETA: 0s - loss: 5.049\n",
      "Epoch 2/10\n",
      "79900/79900 [==============================] - 38s 476us/step - loss: 4.2572e-04 - accuracy: 0.9999s - loss: 4.2749e-04 - ac\n",
      "Epoch 3/10\n",
      "79900/79900 [==============================] - 38s 481us/step - loss: 3.8795e-04 - accuracy: 0.9999s - loss: 3.8321e-0 - ETA: 1s -\n",
      "Epoch 4/10\n",
      "79900/79900 [==============================] - 38s 477us/step - loss: 3.4159e-04 - accuracy: 0.9999\n",
      "Epoch 5/10\n",
      "79900/79900 [==============================] - 38s 478us/step - loss: 3.2355e-04 - accuracy: 0.9999\n",
      "Epoch 6/10\n",
      "79900/79900 [==============================] - 38s 480us/step - loss: 2.8508e-04 - accuracy: 0.9999\n",
      "Epoch 7/10\n",
      "79900/79900 [==============================] - 38s 477us/step - loss: 2.6426e-04 - accuracy: 0.9999\n",
      "Epoch 8/10\n",
      "79900/79900 [==============================] - 38s 474us/step - loss: 2.3227e-04 - accuracy: 0.9999s - loss: 2.322\n",
      "Epoch 9/10\n",
      "79900/79900 [==============================] - 38s 473us/step - loss: 2.2810e-04 - accuracy: 0.9999\n",
      "Epoch 10/10\n",
      "79900/79900 [==============================] - 38s 474us/step - loss: 2.0664e-04 - accuracy: 0.9999\n"
     ]
    },
    {
     "data": {
      "text/plain": [
       "<keras.callbacks.callbacks.History at 0x26d4fbd0c48>"
      ]
     },
     "execution_count": 19,
     "metadata": {},
     "output_type": "execute_result"
    },
    {
     "name": "stdout",
     "output_type": "stream",
     "text": [
      "accuracy_score 0.9997184050461816\n",
      "recall_score 0.8601190476190477\n",
      "precision_score 0.8975155279503105\n",
      "f1_score 0.878419452887538\n",
      "Model: \"model_16\"\n",
      "_________________________________________________________________\n",
      "Layer (type)                 Output Shape              Param #   \n",
      "=================================================================\n",
      "input_2 (InputLayer)         (None, 32, 256)           0         \n",
      "_________________________________________________________________\n",
      "bidirectional_2 (Bidirection (None, 32, 64)            73984     \n",
      "_________________________________________________________________\n",
      "time_distributed_2 (TimeDist (None, 32, 1)             65        \n",
      "=================================================================\n",
      "Total params: 74,049\n",
      "Trainable params: 74,049\n",
      "Non-trainable params: 0\n",
      "_________________________________________________________________\n",
      "======Training stage======\n",
      "Epoch 1/10\n",
      "79900/79900 [==============================] - 39s 491us/step - loss: 2.9938e-04 - accuracy: 0.9999\n",
      "Epoch 2/10\n",
      "79900/79900 [==============================] - 38s 482us/step - loss: 2.6276e-04 - accuracy: 0.9999\n",
      "Epoch 3/10\n",
      "79900/79900 [==============================] - 38s 480us/step - loss: 2.1664e-04 - accuracy: 0.9999\n",
      "Epoch 4/10\n",
      "79900/79900 [==============================] - 39s 483us/step - loss: 1.8362e-04 - accuracy: 0.9999\n",
      "Epoch 5/10\n",
      "79900/79900 [==============================] - 39s 483us/step - loss: 1.8893e-04 - accuracy: 0.9999\n",
      "Epoch 6/10\n",
      "79900/79900 [==============================] - 39s 483us/step - loss: 1.7387e-04 - accuracy: 1.0000\n",
      "Epoch 7/10\n",
      "79900/79900 [==============================] - 39s 483us/step - loss: 1.6497e-04 - accuracy: 1.0000\n",
      "Epoch 8/10\n",
      "79900/79900 [==============================] - 38s 482us/step - loss: 1.6635e-04 - accuracy: 0.9999\n",
      "Epoch 9/10\n",
      "79900/79900 [==============================] - 39s 487us/step - loss: 1.4776e-04 - accuracy: 1.0000s -\n",
      "Epoch 10/10\n",
      "79900/79900 [==============================] - 39s 484us/step - loss: 1.2181e-04 - accuracy: 1.0000\n"
     ]
    },
    {
     "data": {
      "text/plain": [
       "<keras.callbacks.callbacks.History at 0x26d8573d408>"
      ]
     },
     "execution_count": 19,
     "metadata": {},
     "output_type": "execute_result"
    },
    {
     "name": "stdout",
     "output_type": "stream",
     "text": [
      "accuracy_score 0.9997923237215589\n",
      "recall_score 0.903954802259887\n",
      "precision_score 0.927536231884058\n",
      "f1_score 0.9155937052932761\n",
      "Model: \"model_17\"\n",
      "_________________________________________________________________\n",
      "Layer (type)                 Output Shape              Param #   \n",
      "=================================================================\n",
      "input_2 (InputLayer)         (None, 32, 256)           0         \n",
      "_________________________________________________________________\n",
      "bidirectional_2 (Bidirection (None, 32, 64)            73984     \n",
      "_________________________________________________________________\n",
      "time_distributed_2 (TimeDist (None, 32, 1)             65        \n",
      "=================================================================\n",
      "Total params: 74,049\n",
      "Trainable params: 74,049\n",
      "Non-trainable params: 0\n",
      "_________________________________________________________________\n",
      "======Training stage======\n",
      "Epoch 1/10\n",
      "79900/79900 [==============================] - 40s 495us/step - loss: 2.4690e-04 - accuracy: 0.9999\n",
      "Epoch 2/10\n",
      "79900/79900 [==============================] - 39s 485us/step - loss: 1.7519e-04 - accuracy: 1.0000\n",
      "Epoch 3/10\n",
      "79900/79900 [==============================] - 39s 486us/step - loss: 1.5736e-04 - accuracy: 1.0000\n",
      "Epoch 4/10\n",
      "79900/79900 [==============================] - 39s 484us/step - loss: 1.3579e-04 - accuracy: 1.0000\n",
      "Epoch 5/10\n",
      "79900/79900 [==============================] - 39s 485us/step - loss: 1.2913e-04 - accuracy: 1.0000\n",
      "Epoch 6/10\n",
      "79900/79900 [==============================] - 39s 490us/step - loss: 1.1058e-04 - accuracy: 1.0000\n",
      "Epoch 7/10\n",
      "79900/79900 [==============================] - 39s 485us/step - loss: 1.1290e-04 - accuracy: 1.0000\n",
      "Epoch 8/10\n",
      "79900/79900 [==============================] - 39s 486us/step - loss: 8.5138e-05 - accuracy: 1.0000\n",
      "Epoch 9/10\n",
      "79900/79900 [==============================] - 39s 486us/step - loss: 8.8822e-05 - accuracy: 1.0000\n",
      "Epoch 10/10\n",
      "79900/79900 [==============================] - 39s 487us/step - loss: 8.3481e-05 - accuracy: 1.0000\n"
     ]
    },
    {
     "data": {
      "text/plain": [
       "<keras.callbacks.callbacks.History at 0x26d86514488>"
      ]
     },
     "execution_count": 19,
     "metadata": {},
     "output_type": "execute_result"
    },
    {
     "name": "stdout",
     "output_type": "stream",
     "text": [
      "accuracy_score 0.9998768022077045\n",
      "recall_score 0.9431818181818182\n",
      "precision_score 0.9567723342939481\n",
      "f1_score 0.949928469241774\n",
      "Model: \"model_18\"\n",
      "_________________________________________________________________\n",
      "Layer (type)                 Output Shape              Param #   \n",
      "=================================================================\n",
      "input_2 (InputLayer)         (None, 32, 256)           0         \n",
      "_________________________________________________________________\n",
      "bidirectional_2 (Bidirection (None, 32, 64)            73984     \n",
      "_________________________________________________________________\n",
      "time_distributed_2 (TimeDist (None, 32, 1)             65        \n",
      "=================================================================\n",
      "Total params: 74,049\n",
      "Trainable params: 74,049\n",
      "Non-trainable params: 0\n",
      "_________________________________________________________________\n",
      "======Training stage======\n",
      "Epoch 1/10\n",
      "79900/79900 [==============================] - 40s 494us/step - loss: 1.4227e-04 - accuracy: 1.0000\n",
      "Epoch 2/10\n",
      "79900/79900 [==============================] - 39s 487us/step - loss: 9.2766e-05 - accuracy: 1.0000\n",
      "Epoch 3/10\n",
      "79900/79900 [==============================] - 39s 486us/step - loss: 8.6297e-05 - accuracy: 1.0000\n",
      "Epoch 4/10\n",
      "79900/79900 [==============================] - 39s 486us/step - loss: 8.9961e-05 - accuracy: 1.0000\n",
      "Epoch 5/10\n",
      "79900/79900 [==============================] - 39s 487us/step - loss: 6.5497e-05 - accuracy: 1.0000\n",
      "Epoch 6/10\n",
      "79900/79900 [==============================] - 39s 487us/step - loss: 7.7983e-05 - accuracy: 1.0000\n",
      "Epoch 7/10\n",
      "79900/79900 [==============================] - 39s 488us/step - loss: 8.0046e-05 - accuracy: 1.0000\n",
      "Epoch 8/10\n",
      "79900/79900 [==============================] - 39s 487us/step - loss: 7.4714e-05 - accuracy: 1.0000\n",
      "Epoch 9/10\n",
      "79900/79900 [==============================] - 39s 487us/step - loss: 4.6577e-05 - accuracy: 1.0000\n",
      "Epoch 10/10\n",
      "79900/79900 [==============================] - 39s 487us/step - loss: 6.0106e-05 - accuracy: 1.0000\n"
     ]
    },
    {
     "data": {
      "text/plain": [
       "<keras.callbacks.callbacks.History at 0x26d89f10d48>"
      ]
     },
     "execution_count": 19,
     "metadata": {},
     "output_type": "execute_result"
    },
    {
     "name": "stdout",
     "output_type": "stream",
     "text": [
      "accuracy_score 0.9999155215138544\n",
      "recall_score 0.9436997319034852\n",
      "precision_score 0.9915492957746479\n",
      "f1_score 0.967032967032967\n",
      "Model: \"model_19\"\n",
      "_________________________________________________________________\n",
      "Layer (type)                 Output Shape              Param #   \n",
      "=================================================================\n",
      "input_2 (InputLayer)         (None, 32, 256)           0         \n",
      "_________________________________________________________________\n",
      "bidirectional_2 (Bidirection (None, 32, 64)            73984     \n",
      "_________________________________________________________________\n",
      "time_distributed_2 (TimeDist (None, 32, 1)             65        \n",
      "=================================================================\n",
      "Total params: 74,049\n",
      "Trainable params: 74,049\n",
      "Non-trainable params: 0\n",
      "_________________________________________________________________\n",
      "======Training stage======\n",
      "Epoch 1/10\n",
      "79901/79901 [==============================] - 40s 506us/step - loss: 1.3427e-04 - accuracy: 1.0000\n",
      "Epoch 2/10\n",
      "79901/79901 [==============================] - 40s 498us/step - loss: 9.0374e-05 - accuracy: 1.0000\n",
      "Epoch 3/10\n",
      "79901/79901 [==============================] - 40s 498us/step - loss: 7.4371e-05 - accuracy: 1.0000\n",
      "Epoch 4/10\n",
      "79901/79901 [==============================] - 40s 497us/step - loss: 7.5831e-05 - accuracy: 1.0000\n",
      "Epoch 5/10\n",
      "79901/79901 [==============================] - 40s 498us/step - loss: 7.5048e-05 - accuracy: 1.0000\n",
      "Epoch 6/10\n",
      "79901/79901 [==============================] - 40s 497us/step - loss: 6.5452e-05 - accuracy: 1.0000\n",
      "Epoch 7/10\n",
      "79901/79901 [==============================] - 40s 497us/step - loss: 6.6423e-05 - accuracy: 1.0000\n",
      "Epoch 8/10\n",
      "79901/79901 [==============================] - 40s 498us/step - loss: 5.6115e-05 - accuracy: 1.0000\n",
      "Epoch 9/10\n",
      "79901/79901 [==============================] - 40s 500us/step - loss: 4.7533e-05 - accuracy: 1.0000\n",
      "Epoch 10/10\n",
      "79901/79901 [==============================] - 40s 497us/step - loss: 4.8642e-05 - accuracy: 1.0000\n"
     ]
    },
    {
     "data": {
      "text/plain": [
       "<keras.callbacks.callbacks.History at 0x26d8cbd9d08>"
      ]
     },
     "execution_count": 19,
     "metadata": {},
     "output_type": "execute_result"
    },
    {
     "name": "stdout",
     "output_type": "stream",
     "text": [
      "accuracy_score 0.9999401543314183\n",
      "recall_score 0.9774011299435028\n",
      "precision_score 0.9746478873239437\n",
      "f1_score 0.9760225669957686\n",
      "Model: \"model_20\"\n",
      "_________________________________________________________________\n",
      "Layer (type)                 Output Shape              Param #   \n",
      "=================================================================\n",
      "input_2 (InputLayer)         (None, 32, 256)           0         \n",
      "_________________________________________________________________\n",
      "bidirectional_2 (Bidirection (None, 32, 64)            73984     \n",
      "_________________________________________________________________\n",
      "time_distributed_2 (TimeDist (None, 32, 1)             65        \n",
      "=================================================================\n",
      "Total params: 74,049\n",
      "Trainable params: 74,049\n",
      "Non-trainable params: 0\n",
      "_________________________________________________________________\n",
      "======Training stage======\n",
      "Epoch 1/10\n",
      "79901/79901 [==============================] - 41s 516us/step - loss: 1.1230e-04 - accuracy: 1.0000\n",
      "Epoch 2/10\n",
      "79901/79901 [==============================] - 41s 507us/step - loss: 7.4960e-05 - accuracy: 1.0000\n",
      "Epoch 3/10\n",
      "79901/79901 [==============================] - 41s 508us/step - loss: 5.8463e-05 - accuracy: 1.0000\n",
      "Epoch 4/10\n",
      "79901/79901 [==============================] - 40s 507us/step - loss: 5.6080e-05 - accuracy: 1.0000\n",
      "Epoch 5/10\n",
      "79901/79901 [==============================] - 41s 507us/step - loss: 5.0317e-05 - accuracy: 1.0000\n",
      "Epoch 6/10\n",
      "79901/79901 [==============================] - 41s 507us/step - loss: 5.4923e-05 - accuracy: 1.0000\n",
      "Epoch 7/10\n",
      "79901/79901 [==============================] - 40s 506us/step - loss: 4.5099e-05 - accuracy: 1.0000\n",
      "Epoch 8/10\n",
      "79901/79901 [==============================] - 40s 506us/step - loss: 4.0060e-05 - accuracy: 1.0000\n",
      "Epoch 9/10\n",
      "79901/79901 [==============================] - 40s 506us/step - loss: 4.3867e-05 - accuracy: 1.0000\n",
      "Epoch 10/10\n",
      "79901/79901 [==============================] - 41s 508us/step - loss: 3.0993e-05 - accuracy: 1.0000\n"
     ]
    },
    {
     "data": {
      "text/plain": [
       "<keras.callbacks.callbacks.History at 0x26d8d9d52c8>"
      ]
     },
     "execution_count": 19,
     "metadata": {},
     "output_type": "execute_result"
    },
    {
     "name": "stdout",
     "output_type": "stream",
     "text": [
      "accuracy_score 0.9999612763320942\n",
      "recall_score 0.9875389408099688\n",
      "precision_score 0.9783950617283951\n",
      "f1_score 0.9829457364341084\n",
      "\n",
      "K-fold cross validation Accuracy: [0.9993980907862131, 0.9994156904708268, 0.9995459281369677, 0.9996444863708043, 0.9997184050461816, 0.9997923237215589, 0.9998768022077045, 0.9999155215138544, 0.9999401543314183, 0.9999612763320942]\n",
      "\n",
      "K-fold cross validation Recall: [0.6598837209302325, 0.6840579710144927, 0.7696335078534031, 0.7784810126582279, 0.8601190476190477, 0.903954802259887, 0.9431818181818182, 0.9436997319034852, 0.9774011299435028, 0.9875389408099688]\n",
      "\n",
      "K-fold cross validation Precision: [0.8078291814946619, 0.8054607508532423, 0.8776119402985074, 0.8880866425992779, 0.8975155279503105, 0.927536231884058, 0.9567723342939481, 0.9915492957746479, 0.9746478873239437, 0.9783950617283951]\n",
      "\n",
      "K-fold cross validation F1-Score: [0.7263999999999998, 0.7398119122257053, 0.8200836820083681, 0.8296795952782463, 0.878419452887538, 0.9155937052932761, 0.949928469241774, 0.967032967032967, 0.9760225669957686, 0.9829457364341084]\n"
     ]
    }
   ],
   "source": [
    "# 교차검증 kfold\n",
    "from sklearn.model_selection import KFold\n",
    "\n",
    "# Accuracy, Precision, Recall, F1-Score\n",
    "from sklearn.metrics import accuracy_score, recall_score, precision_score, f1_score\n",
    "\n",
    "# Confusion Matrix, ROC Curve\n",
    "from sklearn.metrics import confusion_matrix, roc_auc_score\n",
    "\n",
    "# 최종 평가지표들 평균용\n",
    "accuracy, recall, precision, f1score, cm = [], [], [], [], []\n",
    "\n",
    "# 11. 교차검증 kfold - k.split - 10회 / K-Fold 객체 생성\n",
    "# kf = KFold(n_splits=10, shuffle=False, random_state=None) # KFold non shuffle 버전\n",
    "kf = KFold(n_splits=10, shuffle=True, random_state=None) # KFold non shuffle 버전\n",
    "\n",
    "for train, validation in kf.split(x_gcc6_0_32_3, y_gcc6_0_32_3):\n",
    "    model1 = Model(xInput, xOutput)\n",
    "    model1.compile(loss='binary_crossentropy', optimizer='rmsprop', metrics=['accuracy'])\n",
    "    model1.summary()\n",
    "    print('======Training stage======')\n",
    "    model1.fit(x_gcc6_0_32_3[train],\n",
    "               y_gcc6_0_32_3[train],\n",
    "               epochs = 10,\n",
    "               batch_size = 32,\n",
    "               callbacks=[early_stopping])\n",
    "    #k_accuracy = '%.4f' %(model1.evaluate(data_10000x[validation], data_10000y[validation])[1])\n",
    "\n",
    "# 12. 교차검증결과 predict - 검증셋들\n",
    "    # predict 값\n",
    "    k_pr = model1.predict(x_gcc6_0_32_3[validation])\n",
    "    \n",
    "    # 테스트 predict 결과들 비교 (평가지표 보기위함)\n",
    "    pred = np.round(np.array(k_pr).flatten().tolist())\n",
    "    y_test = np.array(y_gcc6_0_32_3[validation]).flatten().tolist()\n",
    "    \n",
    "# 13. 평가지표들 출력\n",
    "    ## 평가지표들\n",
    "    k_accuracy = float(accuracy_score(y_test, pred))\n",
    "    k_recall =  float(recall_score(y_test, pred))\n",
    "    k_precision = float(precision_score(y_test, pred))\n",
    "    k_f1_score = float(f1_score(y_test, pred))\n",
    "    #k_cm = float(confusion_matrix(y_test, pred))\n",
    "    \n",
    "    print('accuracy_score', k_accuracy)\n",
    "    print('recall_score', k_recall)\n",
    "    print('precision_score', k_precision)\n",
    "    print('f1_score', k_f1_score)\n",
    "    #print('\\nconfusion_matrix\\n', k_cm)\n",
    "\n",
    "    accuracy.append(k_accuracy)\n",
    "    recall.append(k_recall)\n",
    "    precision.append(k_precision)\n",
    "    f1score.append(k_f1_score)\n",
    "    #cm.append(k_cm)\n",
    "#    print('roc_curve 면적', roc_auc_score(y_test, pred))\n",
    "\n",
    "# 14. 최종 결과지표\n",
    "print('\\nK-fold cross validation Accuracy: {}'.format(accuracy))\n",
    "print('\\nK-fold cross validation Recall: {}'.format(recall))\n",
    "print('\\nK-fold cross validation Precision: {}'.format(precision))\n",
    "print('\\nK-fold cross validation F1-Score: {}'.format(f1score))\n",
    "#print('\\nK-fold cross validation ConfusionMatrix: {}'.format(cm))"
   ]
  },
  {
   "cell_type": "markdown",
   "metadata": {},
   "source": [
    "## (9) 평가지표"
   ]
  },
  {
   "cell_type": "code",
   "execution_count": 20,
   "metadata": {},
   "outputs": [
    {
     "name": "stdout",
     "output_type": "stream",
     "text": [
      "10-Fold Cross_validation. Accuracy : 0.9997208678917623\n",
      "10-Fold Cross_validation. Recall : 0.8507951683174065\n",
      "10-Fold Cross_validation. Precision : 0.9105404854200992\n",
      "10-Fold Cross_validation. F1-Score : 0.8785918087397752\n"
     ]
    }
   ],
   "source": [
    "print('10-Fold Cross_validation. Accuracy :', np.mean(accuracy))\n",
    "print('10-Fold Cross_validation. Recall :', np.mean(recall))\n",
    "print('10-Fold Cross_validation. Precision :', np.mean(precision))\n",
    "print('10-Fold Cross_validation. F1-Score :', np.mean(f1score))"
   ]
  }
 ],
 "metadata": {
  "kernelspec": {
   "display_name": "Python 3",
   "language": "python",
   "name": "python3"
  },
  "language_info": {
   "codemirror_mode": {
    "name": "ipython",
    "version": 3
   },
   "file_extension": ".py",
   "mimetype": "text/x-python",
   "name": "python",
   "nbconvert_exporter": "python",
   "pygments_lexer": "ipython3",
   "version": "3.7.6"
  }
 },
 "nbformat": 4,
 "nbformat_minor": 4
}
