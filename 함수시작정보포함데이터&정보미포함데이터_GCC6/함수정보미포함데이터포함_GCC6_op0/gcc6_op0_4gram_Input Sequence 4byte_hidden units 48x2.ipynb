{
 "cells": [
  {
   "cell_type": "markdown",
   "metadata": {},
   "source": [
    "## RNN 모델 N-Byte 방식 (함수정보 포함 vs 미포함 => 1:1 비율)\n",
    "\n",
    "## (1) 데이터로드"
   ]
  },
  {
   "cell_type": "code",
   "execution_count": 11,
   "metadata": {},
   "outputs": [
    {
     "name": "stdout",
     "output_type": "stream",
     "text": [
      "(13936744, 2)\n",
      "reset_index 완료\n",
      "input data shape\n"
     ]
    },
    {
     "data": {
      "text/html": [
       "<div>\n",
       "<style scoped>\n",
       "    .dataframe tbody tr th:only-of-type {\n",
       "        vertical-align: middle;\n",
       "    }\n",
       "\n",
       "    .dataframe tbody tr th {\n",
       "        vertical-align: top;\n",
       "    }\n",
       "\n",
       "    .dataframe thead th {\n",
       "        text-align: right;\n",
       "    }\n",
       "</style>\n",
       "<table border=\"1\" class=\"dataframe\">\n",
       "  <thead>\n",
       "    <tr style=\"text-align: right;\">\n",
       "      <th></th>\n",
       "      <th>bin</th>\n",
       "      <th>label</th>\n",
       "    </tr>\n",
       "  </thead>\n",
       "  <tbody>\n",
       "    <tr>\n",
       "      <th>0</th>\n",
       "      <td>53</td>\n",
       "      <td>1</td>\n",
       "    </tr>\n",
       "    <tr>\n",
       "      <th>1</th>\n",
       "      <td>83</td>\n",
       "      <td>0</td>\n",
       "    </tr>\n",
       "    <tr>\n",
       "      <th>2</th>\n",
       "      <td>ec</td>\n",
       "      <td>0</td>\n",
       "    </tr>\n",
       "    <tr>\n",
       "      <th>3</th>\n",
       "      <td>08</td>\n",
       "      <td>0</td>\n",
       "    </tr>\n",
       "    <tr>\n",
       "      <th>4</th>\n",
       "      <td>e8</td>\n",
       "      <td>0</td>\n",
       "    </tr>\n",
       "  </tbody>\n",
       "</table>\n",
       "</div>"
      ],
      "text/plain": [
       "  bin  label\n",
       "0  53      1\n",
       "1  83      0\n",
       "2  ec      0\n",
       "3  08      0\n",
       "4  e8      0"
      ]
     },
     "execution_count": 11,
     "metadata": {},
     "output_type": "execute_result"
    }
   ],
   "source": [
    "# (1) 데이터로드\n",
    "import pandas as pd\n",
    "import numpy as np\n",
    "\n",
    "import warnings\n",
    "warnings.filterwarnings(action='ignore')\n",
    "\n",
    "# 여러개 쳐도 나오게\n",
    "from IPython.core.interactiveshell import InteractiveShell\n",
    "InteractiveShell.ast_node_interactivity = \"all\"\n",
    "\n",
    "# 파일읽기\n",
    "gcc6_0_32 = pd.read_csv(\"../data/binutils_gcc3~9_op0~4_exec_csv/\"+'gcc6'+\"_0_32_exec.csv\", index_col=0)\n",
    "\n",
    "# 형태 출력\n",
    "print(gcc6_0_32.shape)\n",
    "\n",
    "# reset_index (hex processing 하면서 값이 빠졌으니까 + n_gram 에서 index를 다루기 때문에)\n",
    "gcc6_0_32.reset_index(inplace=True, drop=True)\n",
    "\n",
    "print('reset_index 완료')\n",
    "print('input data shape')\n",
    "gcc6_0_32.head()"
   ]
  },
  {
   "cell_type": "code",
   "execution_count": 12,
   "metadata": {},
   "outputs": [
    {
     "name": "stdout",
     "output_type": "stream",
     "text": [
      "256\n",
      "0    13892354\n",
      "1       44390\n",
      "Name: label, dtype: int64\n"
     ]
    }
   ],
   "source": [
    "# (2-1) 데이터체크 1 - hex(16진수)가 256 label을 가져야 dummies 변환 가능 \n",
    "\n",
    "# 16진수 256개 종류가 있어서 pd.get_dummies 사용 가능.\n",
    "print(len(gcc6_0_32['bin'].unique()))\n",
    "\n",
    "# (2-2) 데이터 체크 2 - 1, 0 비율 ==> 1이 함수의 갯수를 뜻함\n",
    "# 정답 데이터 1, 0 비율 확인  ==> 1이 함수의 갯수를 뜻함\n",
    "print(gcc6_0_32['label'].value_counts())"
   ]
  },
  {
   "cell_type": "markdown",
   "metadata": {},
   "source": [
    "## (3) N Byte씩 자르기"
   ]
  },
  {
   "cell_type": "code",
   "execution_count": 13,
   "metadata": {},
   "outputs": [
    {
     "name": "stdout",
     "output_type": "stream",
     "text": [
      "177560\n",
      "나머지 0\n",
      "최종 길이 177560\n",
      "gcc6_0_32 177560\n"
     ]
    }
   ],
   "source": [
    "######################## \n",
    "idx = gcc6_0_32[gcc6_0_32['label']==1].index  # 407, 474 ...\n",
    "ls = list(idx)\n",
    "\n",
    "# 최종 뽑을 행에 대한 index\n",
    "ls_idx = [] \n",
    "left_idx, right_idx = 0, 4 # 3개씩\n",
    "\n",
    "# 6gram\n",
    "for k in range(left_idx, right_idx):\n",
    "    ls_idx.extend(list(idx + k)) # index 형이라서 가능\n",
    "\n",
    "#ls_idx = list(set(ls_idx)) \n",
    "ls_idx.sort() # 인덱스 정렬\n",
    "\n",
    "# 1차 index 해당범위 초과한 것들 없애기\n",
    "ls_idx = list(filter(lambda x: x<len(gcc6_0_32), ls_idx))\n",
    "print(len(ls_idx))\n",
    "\n",
    "# 2차 남은 index들 중 right_idx 나눈 나머지 없애기\n",
    "sub = len(ls_idx)%(right_idx)\n",
    "print('나머지', sub)\n",
    "\n",
    "ls_idx = ls_idx[:len(ls_idx)-sub]\n",
    "print('최종 길이', len(ls_idx))\n",
    "\n",
    "print('gcc6_0_32', len(ls_idx))\n",
    "\n",
    "# loc 로 수정필요\n",
    "gcc6_0_32_Ngram = gcc6_0_32.loc[ls_idx,:].copy()"
   ]
  },
  {
   "cell_type": "markdown",
   "metadata": {},
   "source": [
    "## (4) false data 만들기"
   ]
  },
  {
   "cell_type": "code",
   "execution_count": 14,
   "metadata": {},
   "outputs": [
    {
     "name": "stdout",
     "output_type": "stream",
     "text": [
      "0 1000 2000 3000 4000 5000 6000 7000 8000 9000 10000 11000 12000 13000 14000 15000 16000 17000 18000 19000 20000 21000 22000 23000 24000 25000 26000 27000 28000 29000 30000 31000 32000 33000 34000 35000 36000 37000 38000 39000 40000 41000 42000 43000 44000 완료\n"
     ]
    }
   ],
   "source": [
    "# false data 만들기 - False 데이터 랜덤 생성\n",
    "# random index\n",
    "random_idx = np.random.randint(len(gcc6_0_32)-right_idx)\n",
    "\n",
    "# 목표치\n",
    "goal = len(gcc6_0_32_Ngram)/right_idx\n",
    "count=0\n",
    "\n",
    "d = pd.DataFrame(columns=gcc6_0_32.columns)\n",
    "\n",
    "# goal 에 도달할 때까지\n",
    "while count!=goal:\n",
    "    \n",
    "    # 진행상황 살펴보기 위함\n",
    "    if count%1000==0:\n",
    "        print(count, end=' ')\n",
    "        \n",
    "    # 랜덤 N 바이트씩 뽑음\n",
    "    df = gcc6_0_32[random_idx:random_idx+right_idx]\n",
    "    \n",
    "    # 뽑은 index의 N 바이트 중에 1이 없는 경우만\n",
    "    if 1 not in df['label']:\n",
    "        d = pd.concat([d, df])\n",
    "        count+=1\n",
    "\n",
    "print('완료')"
   ]
  },
  {
   "cell_type": "markdown",
   "metadata": {},
   "source": [
    "## (5) False Data + True Data 합치기"
   ]
  },
  {
   "cell_type": "code",
   "execution_count": 15,
   "metadata": {},
   "outputs": [
    {
     "name": "stdout",
     "output_type": "stream",
     "text": [
      "0 1000 2000 3000 4000 5000 6000 7000 8000 9000 10000 11000 12000 13000 14000 15000 16000 17000 18000 19000 20000 21000 22000 23000 24000 25000 26000 27000 28000 29000 30000 31000 32000 33000 34000 35000 36000 37000 38000 39000 40000 41000 42000 43000 44000 "
     ]
    },
    {
     "data": {
      "text/plain": [
       "(355120, 2)"
      ]
     },
     "execution_count": 15,
     "metadata": {},
     "output_type": "execute_result"
    }
   ],
   "source": [
    "ff = pd.DataFrame(columns=gcc6_0_32.columns)\n",
    "\n",
    "for i in range(0, int(len(d)/right_idx)):\n",
    "    ff = pd.concat([ff, gcc6_0_32[i*right_idx:(i+1)*right_idx], d[i*right_idx:(i+1)*right_idx]])\n",
    "    \n",
    "    if i%1000==0:\n",
    "        print(i, end=' ')\n",
    "ff.shape"
   ]
  },
  {
   "cell_type": "markdown",
   "metadata": {},
   "source": [
    "## (6) one hot encoding"
   ]
  },
  {
   "cell_type": "code",
   "execution_count": 16,
   "metadata": {},
   "outputs": [
    {
     "name": "stdout",
     "output_type": "stream",
     "text": [
      "원핫인코딩완료\n",
      "(355120, 257)\n"
     ]
    }
   ],
   "source": [
    "# 훈련데이터 (gcc 최적화버전 0, 1, 2, 3 one hot encoding)\n",
    "gcc6_0_32_onehot_Ngram = pd.get_dummies(ff['bin'])\n",
    "gcc6_0_32_onehot_Ngram = pd.concat([ff['label'], gcc6_0_32_onehot_Ngram], axis=1)\n",
    "\n",
    "print('원핫인코딩완료')\n",
    "print(gcc6_0_32_onehot_Ngram.shape)"
   ]
  },
  {
   "cell_type": "code",
   "execution_count": 17,
   "metadata": {},
   "outputs": [
    {
     "name": "stdout",
     "output_type": "stream",
     "text": [
      "(355120, 256) (355120,)\n",
      "(88780, 4, 256) (88780, 4, 1)\n"
     ]
    }
   ],
   "source": [
    "# 훈련 데이터, 훈련 라벨\n",
    "x_gcc6_0_32_3 = gcc6_0_32_onehot_Ngram.iloc[:,1:].to_numpy()\n",
    "y_gcc6_0_32_3 = gcc6_0_32_onehot_Ngram['label'].to_numpy()\n",
    "print(x_gcc6_0_32_3.shape, y_gcc6_0_32_3.shape)\n",
    "\n",
    "x_gcc6_0_32_3 = x_gcc6_0_32_3.reshape(-1, right_idx, x_gcc6_0_32_3.shape[1])\n",
    "y_gcc6_0_32_3 = y_gcc6_0_32_3.reshape(-1, right_idx, 1)\n",
    "\n",
    "print(x_gcc6_0_32_3.shape, y_gcc6_0_32_3.shape)"
   ]
  },
  {
   "cell_type": "markdown",
   "metadata": {},
   "source": [
    "## (7) 모델"
   ]
  },
  {
   "cell_type": "code",
   "execution_count": 18,
   "metadata": {},
   "outputs": [],
   "source": [
    "# (10) 양방향 LSTM 모델링 작업\n",
    "from keras.models import Model, Sequential\n",
    "from keras.layers import SimpleRNN, Input, Dense, LSTM\n",
    "from keras.layers import Bidirectional, TimeDistributed\n",
    "\n",
    "# 학습\n",
    "from keras.callbacks import EarlyStopping\n",
    "early_stopping = EarlyStopping(patience = 3) # 조기종료 콜백함수 정의\n",
    "\n",
    "xInput = Input(batch_shape=(None,right_idx, 256)) \n",
    "xBiLstm = Bidirectional(LSTM(48, return_sequences=True), merge_mode = 'concat')(xInput)\n",
    "xOutput = TimeDistributed(Dense(1, activation ='sigmoid'))(xBiLstm) # 각 스텝에서 cost가 전송되고, 오류가 다음 step으로 전송됨."
   ]
  },
  {
   "cell_type": "markdown",
   "metadata": {},
   "source": [
    "## (8) 학습 - 10 KFold"
   ]
  },
  {
   "cell_type": "code",
   "execution_count": 19,
   "metadata": {
    "scrolled": false
   },
   "outputs": [
    {
     "name": "stdout",
     "output_type": "stream",
     "text": [
      "Model: \"model_11\"\n",
      "_________________________________________________________________\n",
      "Layer (type)                 Output Shape              Param #   \n",
      "=================================================================\n",
      "input_2 (InputLayer)         (None, 4, 256)            0         \n",
      "_________________________________________________________________\n",
      "bidirectional_2 (Bidirection (None, 4, 96)             117120    \n",
      "_________________________________________________________________\n",
      "time_distributed_2 (TimeDist (None, 4, 1)              97        \n",
      "=================================================================\n",
      "Total params: 117,217\n",
      "Trainable params: 117,217\n",
      "Non-trainable params: 0\n",
      "_________________________________________________________________\n",
      "======Training stage======\n",
      "Epoch 1/10\n",
      "79902/79902 [==============================] - 15s 191us/step - loss: 0.0143 - accuracy: 0.9983\n",
      "Epoch 2/10\n",
      "79902/79902 [==============================] - 14s 174us/step - loss: 0.0052 - accuracy: 0.9987\n",
      "Epoch 3/10\n",
      "79902/79902 [==============================] - 14s 176us/step - loss: 0.0046 - accuracy: 0.9989\n",
      "Epoch 4/10\n",
      "79902/79902 [==============================] - 13s 163us/step - loss: 0.0045 - accuracy: 0.9989\n",
      "Epoch 5/10\n",
      "79902/79902 [==============================] - 14s 176us/step - loss: 0.0044 - accuracy: 0.9989\n",
      "Epoch 6/10\n",
      "79902/79902 [==============================] - 14s 175us/step - loss: 0.0044 - accuracy: 0.9989\n",
      "Epoch 7/10\n",
      "79902/79902 [==============================] - 14s 175us/step - loss: 0.0044 - accuracy: 0.9989\n",
      "Epoch 8/10\n",
      "79902/79902 [==============================] - 14s 175us/step - loss: 0.0043 - accuracy: 0.9989\n",
      "Epoch 9/10\n",
      "79902/79902 [==============================] - 14s 175us/step - loss: 0.0043 - accuracy: 0.9989\n",
      "Epoch 10/10\n",
      "79902/79902 [==============================] - 14s 176us/step - loss: 0.0043 - accuracy: 0.9989\n"
     ]
    },
    {
     "data": {
      "text/plain": [
       "<keras.callbacks.callbacks.History at 0x1f6825704c8>"
      ]
     },
     "execution_count": 19,
     "metadata": {},
     "output_type": "execute_result"
    },
    {
     "name": "stdout",
     "output_type": "stream",
     "text": [
      "accuracy_score 0.99892993917549\n",
      "recall_score 0.58\n",
      "precision_score 0.6304347826086957\n",
      "f1_score 0.6041666666666666\n",
      "Model: \"model_12\"\n",
      "_________________________________________________________________\n",
      "Layer (type)                 Output Shape              Param #   \n",
      "=================================================================\n",
      "input_2 (InputLayer)         (None, 4, 256)            0         \n",
      "_________________________________________________________________\n",
      "bidirectional_2 (Bidirection (None, 4, 96)             117120    \n",
      "_________________________________________________________________\n",
      "time_distributed_2 (TimeDist (None, 4, 1)              97        \n",
      "=================================================================\n",
      "Total params: 117,217\n",
      "Trainable params: 117,217\n",
      "Non-trainable params: 0\n",
      "_________________________________________________________________\n",
      "======Training stage======\n",
      "Epoch 1/10\n",
      "79902/79902 [==============================] - 16s 199us/step - loss: 0.0042 - accuracy: 0.9990\n",
      "Epoch 2/10\n",
      "79902/79902 [==============================] - 15s 183us/step - loss: 0.0041 - accuracy: 0.9990\n",
      "Epoch 3/10\n",
      "79902/79902 [==============================] - 15s 184us/step - loss: 0.0042 - accuracy: 0.9990\n",
      "Epoch 4/10\n",
      "79902/79902 [==============================] - 15s 183us/step - loss: 0.0041 - accuracy: 0.9989\n",
      "Epoch 5/10\n",
      "79902/79902 [==============================] - 15s 183us/step - loss: 0.0041 - accuracy: 0.9989\n",
      "Epoch 6/10\n",
      "79902/79902 [==============================] - 15s 182us/step - loss: 0.0041 - accuracy: 0.9990\n",
      "Epoch 7/10\n",
      "79902/79902 [==============================] - 15s 183us/step - loss: 0.0042 - accuracy: 0.9990\n",
      "Epoch 8/10\n",
      "79902/79902 [==============================] - 15s 184us/step - loss: 0.0041 - accuracy: 0.9990\n",
      "Epoch 9/10\n",
      "79902/79902 [==============================] - 15s 183us/step - loss: 0.0041 - accuracy: 0.9990\n",
      "Epoch 10/10\n",
      "79902/79902 [==============================] - 15s 182us/step - loss: 0.0041 - accuracy: 0.9989\n"
     ]
    },
    {
     "data": {
      "text/plain": [
       "<keras.callbacks.callbacks.History at 0x1f691b8fb88>"
      ]
     },
     "execution_count": 19,
     "metadata": {},
     "output_type": "execute_result"
    },
    {
     "name": "stdout",
     "output_type": "stream",
     "text": [
      "accuracy_score 0.9989017796801082\n",
      "recall_score 0.6875\n",
      "precision_score 0.6984126984126984\n",
      "f1_score 0.6929133858267716\n",
      "Model: \"model_13\"\n",
      "_________________________________________________________________\n",
      "Layer (type)                 Output Shape              Param #   \n",
      "=================================================================\n",
      "input_2 (InputLayer)         (None, 4, 256)            0         \n",
      "_________________________________________________________________\n",
      "bidirectional_2 (Bidirection (None, 4, 96)             117120    \n",
      "_________________________________________________________________\n",
      "time_distributed_2 (TimeDist (None, 4, 1)              97        \n",
      "=================================================================\n",
      "Total params: 117,217\n",
      "Trainable params: 117,217\n",
      "Non-trainable params: 0\n",
      "_________________________________________________________________\n",
      "======Training stage======\n",
      "Epoch 1/10\n",
      "79902/79902 [==============================] - 17s 209us/step - loss: 0.0042 - accuracy: 0.9989\n",
      "Epoch 2/10\n",
      "79902/79902 [==============================] - 15s 193us/step - loss: 0.0041 - accuracy: 0.9990\n",
      "Epoch 3/10\n",
      "79902/79902 [==============================] - 14s 181us/step - loss: 0.0041 - accuracy: 0.9990\n",
      "Epoch 4/10\n",
      "79902/79902 [==============================] - 15s 192us/step - loss: 0.0041 - accuracy: 0.9990\n",
      "Epoch 5/10\n",
      "79902/79902 [==============================] - 15s 193us/step - loss: 0.0041 - accuracy: 0.9990\n",
      "Epoch 6/10\n",
      "79902/79902 [==============================] - 15s 192us/step - loss: 0.0042 - accuracy: 0.9990\n",
      "Epoch 7/10\n",
      "79902/79902 [==============================] - 15s 192us/step - loss: 0.0042 - accuracy: 0.9990\n",
      "Epoch 8/10\n",
      "79902/79902 [==============================] - 15s 192us/step - loss: 0.0041 - accuracy: 0.9990\n",
      "Epoch 9/10\n",
      "79902/79902 [==============================] - 15s 193us/step - loss: 0.0042 - accuracy: 0.9990\n",
      "Epoch 10/10\n",
      "79902/79902 [==============================] - 15s 192us/step - loss: 0.0041 - accuracy: 0.9990\n"
     ]
    },
    {
     "data": {
      "text/plain": [
       "<keras.callbacks.callbacks.History at 0x1f68e2d9cc8>"
      ]
     },
     "execution_count": 19,
     "metadata": {},
     "output_type": "execute_result"
    },
    {
     "name": "stdout",
     "output_type": "stream",
     "text": [
      "accuracy_score 0.9990707366523992\n",
      "recall_score 0.64\n",
      "precision_score 0.6808510638297872\n",
      "f1_score 0.6597938144329897\n",
      "Model: \"model_14\"\n",
      "_________________________________________________________________\n",
      "Layer (type)                 Output Shape              Param #   \n",
      "=================================================================\n",
      "input_2 (InputLayer)         (None, 4, 256)            0         \n",
      "_________________________________________________________________\n",
      "bidirectional_2 (Bidirection (None, 4, 96)             117120    \n",
      "_________________________________________________________________\n",
      "time_distributed_2 (TimeDist (None, 4, 1)              97        \n",
      "=================================================================\n",
      "Total params: 117,217\n",
      "Trainable params: 117,217\n",
      "Non-trainable params: 0\n",
      "_________________________________________________________________\n",
      "======Training stage======\n",
      "Epoch 1/10\n",
      "79902/79902 [==============================] - 17s 211us/step - loss: 0.0041 - accuracy: 0.9990\n",
      "Epoch 2/10\n",
      "79902/79902 [==============================] - 16s 195us/step - loss: 0.0042 - accuracy: 0.9990\n",
      "Epoch 3/10\n",
      "79902/79902 [==============================] - 16s 195us/step - loss: 0.0041 - accuracy: 0.9990\n",
      "Epoch 4/10\n",
      "79902/79902 [==============================] - 16s 195us/step - loss: 0.0041 - accuracy: 0.9990\n",
      "Epoch 5/10\n",
      "79902/79902 [==============================] - 16s 195us/step - loss: 0.0042 - accuracy: 0.9990\n",
      "Epoch 6/10\n",
      "79902/79902 [==============================] - 16s 195us/step - loss: 0.0041 - accuracy: 0.9990\n",
      "Epoch 7/10\n",
      "79902/79902 [==============================] - 16s 194us/step - loss: 0.0042 - accuracy: 0.9990\n",
      "Epoch 8/10\n",
      "79902/79902 [==============================] - 16s 195us/step - loss: 0.0041 - accuracy: 0.9990\n",
      "Epoch 9/10\n",
      "79902/79902 [==============================] - 15s 194us/step - loss: 0.0040 - accuracy: 0.9990\n",
      "Epoch 10/10\n",
      "79902/79902 [==============================] - 16s 196us/step - loss: 0.0040 - accuracy: 0.9990\n"
     ]
    },
    {
     "data": {
      "text/plain": [
       "<keras.callbacks.callbacks.History at 0x1f690e2db88>"
      ]
     },
     "execution_count": 19,
     "metadata": {},
     "output_type": "execute_result"
    },
    {
     "name": "stdout",
     "output_type": "stream",
     "text": [
      "accuracy_score 0.9987891416985808\n",
      "recall_score 0.6875\n",
      "precision_score 0.6567164179104478\n",
      "f1_score 0.6717557251908397\n",
      "Model: \"model_15\"\n",
      "_________________________________________________________________\n",
      "Layer (type)                 Output Shape              Param #   \n",
      "=================================================================\n",
      "input_2 (InputLayer)         (None, 4, 256)            0         \n",
      "_________________________________________________________________\n",
      "bidirectional_2 (Bidirection (None, 4, 96)             117120    \n",
      "_________________________________________________________________\n",
      "time_distributed_2 (TimeDist (None, 4, 1)              97        \n",
      "=================================================================\n",
      "Total params: 117,217\n",
      "Trainable params: 117,217\n",
      "Non-trainable params: 0\n",
      "_________________________________________________________________\n",
      "======Training stage======\n",
      "Epoch 1/10\n",
      "79902/79902 [==============================] - 18s 222us/step - loss: 0.0041 - accuracy: 0.9990\n",
      "Epoch 2/10\n",
      "79902/79902 [==============================] - 16s 194us/step - loss: 0.0040 - accuracy: 0.9990\n",
      "Epoch 3/10\n",
      "79902/79902 [==============================] - 17s 207us/step - loss: 0.0041 - accuracy: 0.9990\n",
      "Epoch 4/10\n",
      "79902/79902 [==============================] - 17s 208us/step - loss: 0.0041 - accuracy: 0.9990\n",
      "Epoch 5/10\n",
      "79902/79902 [==============================] - 16s 206us/step - loss: 0.0041 - accuracy: 0.9990\n",
      "Epoch 6/10\n",
      "79902/79902 [==============================] - 16s 202us/step - loss: 0.0041 - accuracy: 0.9990\n",
      "Epoch 7/10\n",
      "79902/79902 [==============================] - 16s 203us/step - loss: 0.0041 - accuracy: 0.9990\n",
      "Epoch 8/10\n",
      "79902/79902 [==============================] - 16s 204us/step - loss: 0.0040 - accuracy: 0.9990\n",
      "Epoch 9/10\n",
      "79902/79902 [==============================] - 16s 202us/step - loss: 0.0041 - accuracy: 0.9990\n",
      "Epoch 10/10\n",
      "79902/79902 [==============================] - 16s 204us/step - loss: 0.0040 - accuracy: 0.9990\n"
     ]
    },
    {
     "data": {
      "text/plain": [
       "<keras.callbacks.callbacks.History at 0x1f690deffc8>"
      ]
     },
     "execution_count": 19,
     "metadata": {},
     "output_type": "execute_result"
    },
    {
     "name": "stdout",
     "output_type": "stream",
     "text": [
      "accuracy_score 0.9988736201847263\n",
      "recall_score 0.684931506849315\n",
      "precision_score 0.746268656716418\n",
      "f1_score 0.7142857142857143\n",
      "Model: \"model_16\"\n",
      "_________________________________________________________________\n",
      "Layer (type)                 Output Shape              Param #   \n",
      "=================================================================\n",
      "input_2 (InputLayer)         (None, 4, 256)            0         \n",
      "_________________________________________________________________\n",
      "bidirectional_2 (Bidirection (None, 4, 96)             117120    \n",
      "_________________________________________________________________\n",
      "time_distributed_2 (TimeDist (None, 4, 1)              97        \n",
      "=================================================================\n",
      "Total params: 117,217\n",
      "Trainable params: 117,217\n",
      "Non-trainable params: 0\n",
      "_________________________________________________________________\n",
      "======Training stage======\n",
      "Epoch 1/10\n",
      "79902/79902 [==============================] - 18s 223us/step - loss: 0.0043 - accuracy: 0.9990\n",
      "Epoch 2/10\n",
      "79902/79902 [==============================] - 16s 205us/step - loss: 0.0042 - accuracy: 0.9990\n",
      "Epoch 3/10\n",
      "79902/79902 [==============================] - 16s 205us/step - loss: 0.0042 - accuracy: 0.9990\n",
      "Epoch 4/10\n",
      "79902/79902 [==============================] - 16s 205us/step - loss: 0.0042 - accuracy: 0.9990\n",
      "Epoch 5/10\n",
      "79902/79902 [==============================] - 17s 207us/step - loss: 0.0043 - accuracy: 0.9990\n",
      "Epoch 6/10\n",
      "79902/79902 [==============================] - 16s 205us/step - loss: 0.0041 - accuracy: 0.9990\n",
      "Epoch 7/10\n",
      "79902/79902 [==============================] - 16s 206us/step - loss: 0.0042 - accuracy: 0.9990\n",
      "Epoch 8/10\n",
      "79902/79902 [==============================] - 16s 206us/step - loss: 0.0041 - accuracy: 0.9990\n",
      "Epoch 9/10\n",
      "79902/79902 [==============================] - 16s 205us/step - loss: 0.0042 - accuracy: 0.9990\n",
      "Epoch 10/10\n",
      "79902/79902 [==============================] - 15s 191us/step - loss: 0.0041 - accuracy: 0.9990\n"
     ]
    },
    {
     "data": {
      "text/plain": [
       "<keras.callbacks.callbacks.History at 0x1f6c0db5dc8>"
      ]
     },
     "execution_count": 19,
     "metadata": {},
     "output_type": "execute_result"
    },
    {
     "name": "stdout",
     "output_type": "stream",
     "text": [
      "accuracy_score 0.9992115341293084\n",
      "recall_score 0.7441860465116279\n",
      "precision_score 0.6530612244897959\n",
      "f1_score 0.6956521739130435\n",
      "Model: \"model_17\"\n",
      "_________________________________________________________________\n",
      "Layer (type)                 Output Shape              Param #   \n",
      "=================================================================\n",
      "input_2 (InputLayer)         (None, 4, 256)            0         \n",
      "_________________________________________________________________\n",
      "bidirectional_2 (Bidirection (None, 4, 96)             117120    \n",
      "_________________________________________________________________\n",
      "time_distributed_2 (TimeDist (None, 4, 1)              97        \n",
      "=================================================================\n",
      "Total params: 117,217\n",
      "Trainable params: 117,217\n",
      "Non-trainable params: 0\n",
      "_________________________________________________________________\n",
      "======Training stage======\n",
      "Epoch 1/10\n",
      "79902/79902 [==============================] - 18s 227us/step - loss: 0.0042 - accuracy: 0.9990\n",
      "Epoch 2/10\n",
      "79902/79902 [==============================] - 17s 209us/step - loss: 0.0041 - accuracy: 0.9990\n",
      "Epoch 3/10\n",
      "79902/79902 [==============================] - 17s 209us/step - loss: 0.0041 - accuracy: 0.9990\n",
      "Epoch 4/10\n",
      "79902/79902 [==============================] - 17s 210us/step - loss: 0.0043 - accuracy: 0.9990\n",
      "Epoch 5/10\n",
      "79902/79902 [==============================] - 17s 209us/step - loss: 0.0043 - accuracy: 0.9990\n",
      "Epoch 6/10\n",
      "79902/79902 [==============================] - 17s 209us/step - loss: 0.0043 - accuracy: 0.9990\n",
      "Epoch 7/10\n",
      "79902/79902 [==============================] - 17s 210us/step - loss: 0.0042 - accuracy: 0.9990\n",
      "Epoch 8/10\n",
      "79902/79902 [==============================] - 17s 208us/step - loss: 0.0043 - accuracy: 0.9990\n",
      "Epoch 9/10\n",
      "79902/79902 [==============================] - 17s 209us/step - loss: 0.0042 - accuracy: 0.9990\n",
      "Epoch 10/10\n",
      "79902/79902 [==============================] - 17s 209us/step - loss: 0.0042 - accuracy: 0.9990\n"
     ]
    },
    {
     "data": {
      "text/plain": [
       "<keras.callbacks.callbacks.History at 0x1f6c2879108>"
      ]
     },
     "execution_count": 19,
     "metadata": {},
     "output_type": "execute_result"
    },
    {
     "name": "stdout",
     "output_type": "stream",
     "text": [
      "accuracy_score 0.9989862581662536\n",
      "recall_score 0.7101449275362319\n",
      "precision_score 0.7538461538461538\n",
      "f1_score 0.7313432835820897\n",
      "Model: \"model_18\"\n",
      "_________________________________________________________________\n",
      "Layer (type)                 Output Shape              Param #   \n",
      "=================================================================\n",
      "input_2 (InputLayer)         (None, 4, 256)            0         \n",
      "_________________________________________________________________\n",
      "bidirectional_2 (Bidirection (None, 4, 96)             117120    \n",
      "_________________________________________________________________\n",
      "time_distributed_2 (TimeDist (None, 4, 1)              97        \n",
      "=================================================================\n",
      "Total params: 117,217\n",
      "Trainable params: 117,217\n",
      "Non-trainable params: 0\n",
      "_________________________________________________________________\n",
      "======Training stage======\n",
      "Epoch 1/10\n",
      "79902/79902 [==============================] - 19s 236us/step - loss: 0.0042 - accuracy: 0.9990\n",
      "Epoch 2/10\n",
      "79902/79902 [==============================] - 17s 219us/step - loss: 0.0042 - accuracy: 0.9990\n",
      "Epoch 3/10\n",
      "79902/79902 [==============================] - 17s 217us/step - loss: 0.0042 - accuracy: 0.9990\n",
      "Epoch 4/10\n",
      "79902/79902 [==============================] - 17s 217us/step - loss: 0.0042 - accuracy: 0.9990\n",
      "Epoch 5/10\n",
      "79902/79902 [==============================] - 18s 219us/step - loss: 0.0042 - accuracy: 0.9990\n",
      "Epoch 6/10\n",
      "79902/79902 [==============================] - 18s 221us/step - loss: 0.0042 - accuracy: 0.9990\n",
      "Epoch 7/10\n",
      "79902/79902 [==============================] - 18s 221us/step - loss: 0.0042 - accuracy: 0.9990\n",
      "Epoch 8/10\n",
      "79902/79902 [==============================] - 17s 207us/step - loss: 0.0041 - accuracy: 0.9990\n",
      "Epoch 9/10\n",
      "79902/79902 [==============================] - 18s 221us/step - loss: 0.0042 - accuracy: 0.9990\n",
      "Epoch 10/10\n",
      "79902/79902 [==============================] - 18s 219us/step - loss: 0.0042 - accuracy: 0.9990\n"
     ]
    },
    {
     "data": {
      "text/plain": [
       "<keras.callbacks.callbacks.History at 0x1f6c281b7c8>"
      ]
     },
     "execution_count": 19,
     "metadata": {},
     "output_type": "execute_result"
    },
    {
     "name": "stdout",
     "output_type": "stream",
     "text": [
      "accuracy_score 0.9989580986708718\n",
      "recall_score 0.7878787878787878\n",
      "precision_score 0.6933333333333334\n",
      "f1_score 0.7375886524822695\n",
      "Model: \"model_19\"\n",
      "_________________________________________________________________\n",
      "Layer (type)                 Output Shape              Param #   \n",
      "=================================================================\n",
      "input_2 (InputLayer)         (None, 4, 256)            0         \n",
      "_________________________________________________________________\n",
      "bidirectional_2 (Bidirection (None, 4, 96)             117120    \n",
      "_________________________________________________________________\n",
      "time_distributed_2 (TimeDist (None, 4, 1)              97        \n",
      "=================================================================\n",
      "Total params: 117,217\n",
      "Trainable params: 117,217\n",
      "Non-trainable params: 0\n",
      "_________________________________________________________________\n",
      "======Training stage======\n",
      "Epoch 1/10\n",
      "79902/79902 [==============================] - 20s 250us/step - loss: 0.0042 - accuracy: 0.9991\n",
      "Epoch 2/10\n",
      "79902/79902 [==============================] - 19s 232us/step - loss: 0.0041 - accuracy: 0.9990\n",
      "Epoch 3/10\n",
      "79902/79902 [==============================] - 19s 232us/step - loss: 0.0041 - accuracy: 0.9990\n",
      "Epoch 4/10\n",
      "79902/79902 [==============================] - 18s 231us/step - loss: 0.0041 - accuracy: 0.9990\n",
      "Epoch 5/10\n",
      "79902/79902 [==============================] - 19s 232us/step - loss: 0.0042 - accuracy: 0.9990\n",
      "Epoch 6/10\n",
      "79902/79902 [==============================] - 18s 231us/step - loss: 0.0042 - accuracy: 0.9990\n",
      "Epoch 7/10\n",
      "79902/79902 [==============================] - 19s 233us/step - loss: 0.0042 - accuracy: 0.9990\n",
      "Epoch 8/10\n",
      "79902/79902 [==============================] - 19s 232us/step - loss: 0.0041 - accuracy: 0.9990\n",
      "Epoch 9/10\n",
      "79902/79902 [==============================] - 18s 231us/step - loss: 0.0041 - accuracy: 0.9990\n",
      "Epoch 10/10\n",
      "79902/79902 [==============================] - 19s 232us/step - loss: 0.0042 - accuracy: 0.9990\n"
     ]
    },
    {
     "data": {
      "text/plain": [
       "<keras.callbacks.callbacks.History at 0x1f6de036988>"
      ]
     },
     "execution_count": 19,
     "metadata": {},
     "output_type": "execute_result"
    },
    {
     "name": "stdout",
     "output_type": "stream",
     "text": [
      "accuracy_score 0.9986483442216716\n",
      "recall_score 0.6911764705882353\n",
      "precision_score 0.6351351351351351\n",
      "f1_score 0.6619718309859154\n",
      "Model: \"model_20\"\n",
      "_________________________________________________________________\n",
      "Layer (type)                 Output Shape              Param #   \n",
      "=================================================================\n",
      "input_2 (InputLayer)         (None, 4, 256)            0         \n",
      "_________________________________________________________________\n",
      "bidirectional_2 (Bidirection (None, 4, 96)             117120    \n",
      "_________________________________________________________________\n",
      "time_distributed_2 (TimeDist (None, 4, 1)              97        \n",
      "=================================================================\n",
      "Total params: 117,217\n",
      "Trainable params: 117,217\n",
      "Non-trainable params: 0\n",
      "_________________________________________________________________\n",
      "======Training stage======\n",
      "Epoch 1/10\n",
      "79902/79902 [==============================] - 21s 264us/step - loss: 0.0043 - accuracy: 0.9990\n",
      "Epoch 2/10\n",
      "79902/79902 [==============================] - 20s 245us/step - loss: 0.0043 - accuracy: 0.9990\n",
      "Epoch 3/10\n",
      "79902/79902 [==============================] - 20s 245us/step - loss: 0.0043 - accuracy: 0.9989\n",
      "Epoch 4/10\n",
      "79902/79902 [==============================] - 20s 245us/step - loss: 0.0042 - accuracy: 0.9990\n",
      "Epoch 5/10\n",
      "79902/79902 [==============================] - 18s 220us/step - loss: 0.0042 - accuracy: 0.9990\n",
      "Epoch 6/10\n",
      "79902/79902 [==============================] - 16s 203us/step - loss: 0.0042 - accuracy: 0.9990\n",
      "Epoch 7/10\n",
      "79902/79902 [==============================] - 16s 204us/step - loss: 0.0042 - accuracy: 0.9990\n",
      "Epoch 8/10\n",
      "79902/79902 [==============================] - 16s 202us/step - loss: 0.0043 - accuracy: 0.9990\n",
      "Epoch 9/10\n",
      "79902/79902 [==============================] - 16s 203us/step - loss: 0.0043 - accuracy: 0.9990\n",
      "Epoch 10/10\n",
      "79902/79902 [==============================] - 16s 203us/step - loss: 0.0043 - accuracy: 0.9990\n"
     ]
    },
    {
     "data": {
      "text/plain": [
       "<keras.callbacks.callbacks.History at 0x1f6deda56c8>"
      ]
     },
     "execution_count": 19,
     "metadata": {},
     "output_type": "execute_result"
    },
    {
     "name": "stdout",
     "output_type": "stream",
     "text": [
      "accuracy_score 0.9991833746339266\n",
      "recall_score 0.7884615384615384\n",
      "precision_score 0.6949152542372882\n",
      "f1_score 0.7387387387387386\n",
      "\n",
      "K-fold cross validation Accuracy: [0.99892993917549, 0.9989017796801082, 0.9990707366523992, 0.9987891416985808, 0.9988736201847263, 0.9992115341293084, 0.9989862581662536, 0.9989580986708718, 0.9986483442216716, 0.9991833746339266]\n",
      "\n",
      "K-fold cross validation Recall: [0.58, 0.6875, 0.64, 0.6875, 0.684931506849315, 0.7441860465116279, 0.7101449275362319, 0.7878787878787878, 0.6911764705882353, 0.7884615384615384]\n",
      "\n",
      "K-fold cross validation Precision: [0.6304347826086957, 0.6984126984126984, 0.6808510638297872, 0.6567164179104478, 0.746268656716418, 0.6530612244897959, 0.7538461538461538, 0.6933333333333334, 0.6351351351351351, 0.6949152542372882]\n",
      "\n",
      "K-fold cross validation F1-Score: [0.6041666666666666, 0.6929133858267716, 0.6597938144329897, 0.6717557251908397, 0.7142857142857143, 0.6956521739130435, 0.7313432835820897, 0.7375886524822695, 0.6619718309859154, 0.7387387387387386]\n"
     ]
    }
   ],
   "source": [
    "# 교차검증 kfold\n",
    "from sklearn.model_selection import KFold\n",
    "\n",
    "# Accuracy, Precision, Recall, F1-Score\n",
    "from sklearn.metrics import accuracy_score, recall_score, precision_score, f1_score\n",
    "\n",
    "# Confusion Matrix, ROC Curve\n",
    "from sklearn.metrics import confusion_matrix, roc_auc_score\n",
    "\n",
    "# 최종 평가지표들 평균용\n",
    "accuracy, recall, precision, f1score, cm = [], [], [], [], []\n",
    "\n",
    "# 11. 교차검증 kfold - k.split - 10회 / K-Fold 객체 생성\n",
    "# kf = KFold(n_splits=10, shuffle=False, random_state=None) # KFold non shuffle 버전\n",
    "kf = KFold(n_splits=10, shuffle=True, random_state=None) # KFold non shuffle 버전\n",
    "\n",
    "for train, validation in kf.split(x_gcc6_0_32_3, y_gcc6_0_32_3):\n",
    "    \n",
    "    model1 = Model(xInput, xOutput)\n",
    "    model1.compile(loss='binary_crossentropy', optimizer='rmsprop', metrics=['accuracy'])\n",
    "    model1.summary()\n",
    "\n",
    "    print('======Training stage======')\n",
    "    model1.fit(x_gcc6_0_32_3[train],\n",
    "               y_gcc6_0_32_3[train],\n",
    "               epochs = 10,\n",
    "               batch_size = 32,\n",
    "               callbacks=[early_stopping])\n",
    "    #k_accuracy = '%.4f' %(model1.evaluate(data_10000x[validation], data_10000y[validation])[1])\n",
    "\n",
    "# 12. 교차검증결과 predict - 검증셋들\n",
    "    # predict 값\n",
    "    k_pr = model1.predict(x_gcc6_0_32_3[validation])\n",
    "    \n",
    "    # 테스트 predict 결과들 비교 (평가지표 보기위함)\n",
    "    pred = np.round(np.array(k_pr).flatten().tolist())\n",
    "    y_test = np.array(y_gcc6_0_32_3[validation]).flatten().tolist()\n",
    "    \n",
    "# 13. 평가지표들 출력\n",
    "    ## 평가지표들\n",
    "    k_accuracy = float(accuracy_score(y_test, pred))\n",
    "    k_recall =  float(recall_score(y_test, pred))\n",
    "    k_precision = float(precision_score(y_test, pred))\n",
    "    k_f1_score = float(f1_score(y_test, pred))\n",
    "    #k_cm = float(confusion_matrix(y_test, pred))\n",
    "    \n",
    "    print('accuracy_score', k_accuracy)\n",
    "    print('recall_score', k_recall)\n",
    "    print('precision_score', k_precision)\n",
    "    print('f1_score', k_f1_score)\n",
    "    #print('\\nconfusion_matrix\\n', k_cm)\n",
    "\n",
    "    accuracy.append(k_accuracy)\n",
    "    recall.append(k_recall)\n",
    "    precision.append(k_precision)\n",
    "    f1score.append(k_f1_score)\n",
    "    #cm.append(k_cm)\n",
    "#    print('roc_curve 면적', roc_auc_score(y_test, pred))\n",
    "\n",
    "# 14. 최종 결과지표\n",
    "print('\\nK-fold cross validation Accuracy: {}'.format(accuracy))\n",
    "print('\\nK-fold cross validation Recall: {}'.format(recall))\n",
    "print('\\nK-fold cross validation Precision: {}'.format(precision))\n",
    "print('\\nK-fold cross validation F1-Score: {}'.format(f1score))\n",
    "#print('\\nK-fold cross validation ConfusionMatrix: {}'.format(cm))"
   ]
  },
  {
   "cell_type": "markdown",
   "metadata": {},
   "source": [
    "## (9) 평가지표"
   ]
  },
  {
   "cell_type": "code",
   "execution_count": 20,
   "metadata": {},
   "outputs": [
    {
     "name": "stdout",
     "output_type": "stream",
     "text": [
      "10-Fold Cross_validation. Accuracy : 0.9989552827213336\n",
      "10-Fold Cross_validation. Recall : 0.7001779277825737\n",
      "10-Fold Cross_validation. Precision : 0.6842974720519753\n",
      "10-Fold Cross_validation. F1-Score : 0.6908209986105038\n"
     ]
    }
   ],
   "source": [
    "print('10-Fold Cross_validation. Accuracy :', np.mean(accuracy))\n",
    "print('10-Fold Cross_validation. Recall :', np.mean(recall))\n",
    "print('10-Fold Cross_validation. Precision :', np.mean(precision))\n",
    "print('10-Fold Cross_validation. F1-Score :', np.mean(f1score))"
   ]
  }
 ],
 "metadata": {
  "kernelspec": {
   "display_name": "Python 3",
   "language": "python",
   "name": "python3"
  },
  "language_info": {
   "codemirror_mode": {
    "name": "ipython",
    "version": 3
   },
   "file_extension": ".py",
   "mimetype": "text/x-python",
   "name": "python",
   "nbconvert_exporter": "python",
   "pygments_lexer": "ipython3",
   "version": "3.7.6"
  }
 },
 "nbformat": 4,
 "nbformat_minor": 4
}
