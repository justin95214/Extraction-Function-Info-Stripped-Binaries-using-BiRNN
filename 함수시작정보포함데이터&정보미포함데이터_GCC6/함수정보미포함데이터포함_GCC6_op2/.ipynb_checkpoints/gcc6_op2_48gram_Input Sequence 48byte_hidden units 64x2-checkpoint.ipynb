{
 "cells": [
  {
   "cell_type": "markdown",
   "metadata": {},
   "source": [
    "## RNN 모델 N-Byte 방식 (함수정보 포함 vs 미포함 => 1:1 비율)\n",
    "\n",
    "## (1) 데이터로드"
   ]
  },
  {
   "cell_type": "code",
   "execution_count": 1,
   "metadata": {},
   "outputs": [
    {
     "name": "stdout",
     "output_type": "stream",
     "text": [
      "(11076816, 2)\n",
      "reset_index 완료\n",
      "input data shape\n"
     ]
    },
    {
     "data": {
      "text/html": [
       "<div>\n",
       "<style scoped>\n",
       "    .dataframe tbody tr th:only-of-type {\n",
       "        vertical-align: middle;\n",
       "    }\n",
       "\n",
       "    .dataframe tbody tr th {\n",
       "        vertical-align: top;\n",
       "    }\n",
       "\n",
       "    .dataframe thead th {\n",
       "        text-align: right;\n",
       "    }\n",
       "</style>\n",
       "<table border=\"1\" class=\"dataframe\">\n",
       "  <thead>\n",
       "    <tr style=\"text-align: right;\">\n",
       "      <th></th>\n",
       "      <th>bin</th>\n",
       "      <th>label</th>\n",
       "    </tr>\n",
       "  </thead>\n",
       "  <tbody>\n",
       "    <tr>\n",
       "      <th>0</th>\n",
       "      <td>53</td>\n",
       "      <td>1</td>\n",
       "    </tr>\n",
       "    <tr>\n",
       "      <th>1</th>\n",
       "      <td>83</td>\n",
       "      <td>0</td>\n",
       "    </tr>\n",
       "    <tr>\n",
       "      <th>2</th>\n",
       "      <td>ec</td>\n",
       "      <td>0</td>\n",
       "    </tr>\n",
       "    <tr>\n",
       "      <th>3</th>\n",
       "      <td>08</td>\n",
       "      <td>0</td>\n",
       "    </tr>\n",
       "    <tr>\n",
       "      <th>4</th>\n",
       "      <td>e8</td>\n",
       "      <td>0</td>\n",
       "    </tr>\n",
       "  </tbody>\n",
       "</table>\n",
       "</div>"
      ],
      "text/plain": [
       "  bin  label\n",
       "0  53      1\n",
       "1  83      0\n",
       "2  ec      0\n",
       "3  08      0\n",
       "4  e8      0"
      ]
     },
     "execution_count": 1,
     "metadata": {},
     "output_type": "execute_result"
    }
   ],
   "source": [
    "# (1) 데이터로드\n",
    "import pandas as pd\n",
    "import numpy as np\n",
    "\n",
    "import warnings\n",
    "warnings.filterwarnings(action='ignore')\n",
    "\n",
    "# 여러개 쳐도 나오게\n",
    "from IPython.core.interactiveshell import InteractiveShell\n",
    "InteractiveShell.ast_node_interactivity = \"all\"\n",
    "\n",
    "# 파일읽기\n",
    "gcc6_2_32 = pd.read_csv(\"../data/binutils_gcc3~9_op0~4_exec_csv/\"+'gcc6'+\"_2_32_exec.csv\", index_col=0)\n",
    "\n",
    "# 형태 출력\n",
    "print(gcc6_2_32.shape)\n",
    "\n",
    "# reset_index (hex processing 하면서 값이 빠졌으니까 + n_gram 에서 index를 다루기 때문에)\n",
    "gcc6_2_32.reset_index(inplace=True, drop=True)\n",
    "\n",
    "print('reset_index 완료')\n",
    "print('input data shape')\n",
    "gcc6_2_32.head()"
   ]
  },
  {
   "cell_type": "code",
   "execution_count": 2,
   "metadata": {},
   "outputs": [
    {
     "name": "stdout",
     "output_type": "stream",
     "text": [
      "256\n",
      "0    11040011\n",
      "1       36805\n",
      "Name: label, dtype: int64\n"
     ]
    }
   ],
   "source": [
    "# (2-1) 데이터체크 1 - hex(16진수)가 256 label을 가져야 dummies 변환 가능 \n",
    "\n",
    "# 16진수 256개 종류가 있어서 pd.get_dummies 사용 가능.\n",
    "print(len(gcc6_2_32['bin'].unique()))\n",
    "\n",
    "# (2-2) 데이터 체크 2 - 1, 0 비율 ==> 1이 함수의 갯수를 뜻함\n",
    "# 정답 데이터 1, 0 비율 확인  ==> 1이 함수의 갯수를 뜻함\n",
    "print(gcc6_2_32['label'].value_counts())"
   ]
  },
  {
   "cell_type": "markdown",
   "metadata": {},
   "source": [
    "## (3) N Byte씩 자르기"
   ]
  },
  {
   "cell_type": "code",
   "execution_count": 3,
   "metadata": {},
   "outputs": [
    {
     "name": "stdout",
     "output_type": "stream",
     "text": [
      "1766604\n",
      "나머지 12\n",
      "최종 길이 1766592\n",
      "gcc6_2_32 1766592\n"
     ]
    }
   ],
   "source": [
    "######################## \n",
    "idx = gcc6_2_32[gcc6_2_32['label']==1].index  # 407, 474 ...\n",
    "ls = list(idx)\n",
    "\n",
    "# 최종 뽑을 행에 대한 index\n",
    "ls_idx = [] \n",
    "left_idx, right_idx = 0, 48 # 3개씩\n",
    "\n",
    "# 6gram\n",
    "for k in range(left_idx, right_idx):\n",
    "    ls_idx.extend(list(idx + k)) # index 형이라서 가능\n",
    "\n",
    "#ls_idx = list(set(ls_idx)) \n",
    "ls_idx.sort() # 인덱스 정렬\n",
    "\n",
    "# 1차 index 해당범위 초과한 것들 없애기\n",
    "ls_idx = list(filter(lambda x: x<len(gcc6_2_32), ls_idx))\n",
    "print(len(ls_idx))\n",
    "\n",
    "# 2차 남은 index들 중 right_idx 나눈 나머지 없애기\n",
    "sub = len(ls_idx)%(right_idx)\n",
    "print('나머지', sub)\n",
    "\n",
    "ls_idx = ls_idx[:len(ls_idx)-sub]\n",
    "print('최종 길이', len(ls_idx))\n",
    "\n",
    "print('gcc6_2_32', len(ls_idx))\n",
    "\n",
    "# loc 로 수정필요\n",
    "gcc6_2_32_Ngram = gcc6_2_32.loc[ls_idx,:].copy()"
   ]
  },
  {
   "cell_type": "markdown",
   "metadata": {},
   "source": [
    "## (4) false data 만들기"
   ]
  },
  {
   "cell_type": "code",
   "execution_count": 4,
   "metadata": {},
   "outputs": [
    {
     "name": "stdout",
     "output_type": "stream",
     "text": [
      "0 1000 2000 3000 4000 5000 6000 7000 8000 9000 10000 11000 12000 13000 14000 15000 16000 17000 18000 19000 20000 21000 22000 23000 24000 25000 26000 27000 28000 29000 30000 31000 32000 33000 34000 35000 36000 완료\n"
     ]
    }
   ],
   "source": [
    "# false data 만들기 - False 데이터 랜덤 생성\n",
    "# random index\n",
    "random_idx = np.random.randint(len(gcc6_2_32)-right_idx)\n",
    "\n",
    "# 목표치\n",
    "goal = len(gcc6_2_32_Ngram)/right_idx\n",
    "count=0\n",
    "\n",
    "d = pd.DataFrame(columns=gcc6_2_32.columns)\n",
    "\n",
    "# goal 에 도달할 때까지\n",
    "while count!=goal:\n",
    "    \n",
    "    # 진행상황 살펴보기 위함\n",
    "    if count%1000==0:\n",
    "        print(count, end=' ')\n",
    "        \n",
    "    # 랜덤 N 바이트씩 뽑음\n",
    "    df = gcc6_2_32[random_idx:random_idx+right_idx]\n",
    "    \n",
    "    # 뽑은 index의 N 바이트 중에 1이 없는 경우만\n",
    "    if 1 not in df['label']:\n",
    "        d = pd.concat([d, df])\n",
    "        count+=1\n",
    "\n",
    "print('완료')"
   ]
  },
  {
   "cell_type": "markdown",
   "metadata": {},
   "source": [
    "## (5) False Data + True Data 합치기"
   ]
  },
  {
   "cell_type": "code",
   "execution_count": 5,
   "metadata": {},
   "outputs": [
    {
     "name": "stdout",
     "output_type": "stream",
     "text": [
      "0 1000 2000 3000 4000 5000 6000 7000 8000 9000 10000 11000 12000 13000 14000 15000 16000 17000 18000 19000 20000 21000 22000 23000 24000 25000 26000 27000 28000 29000 30000 31000 32000 33000 34000 35000 36000 "
     ]
    },
    {
     "data": {
      "text/plain": [
       "(3533184, 2)"
      ]
     },
     "execution_count": 5,
     "metadata": {},
     "output_type": "execute_result"
    }
   ],
   "source": [
    "ff = pd.DataFrame(columns=gcc6_2_32.columns)\n",
    "\n",
    "for i in range(0, int(len(d)/right_idx)):\n",
    "    ff = pd.concat([ff, gcc6_2_32[i*right_idx:(i+1)*right_idx], d[i*right_idx:(i+1)*right_idx]])\n",
    "    \n",
    "    if i%1000==0:\n",
    "        print(i, end=' ')\n",
    "ff.shape"
   ]
  },
  {
   "cell_type": "markdown",
   "metadata": {},
   "source": [
    "## (6) one hot encoding"
   ]
  },
  {
   "cell_type": "code",
   "execution_count": 6,
   "metadata": {},
   "outputs": [
    {
     "name": "stdout",
     "output_type": "stream",
     "text": [
      "원핫인코딩완료\n",
      "(3533184, 257)\n"
     ]
    }
   ],
   "source": [
    "# 훈련데이터 (gcc 최적화버전 0, 1, 2, 3 one hot encoding)\n",
    "gcc6_2_32_onehot_Ngram = pd.get_dummies(ff['bin'])\n",
    "gcc6_2_32_onehot_Ngram = pd.concat([ff['label'], gcc6_2_32_onehot_Ngram], axis=1)\n",
    "\n",
    "print('원핫인코딩완료')\n",
    "print(gcc6_2_32_onehot_Ngram.shape)"
   ]
  },
  {
   "cell_type": "code",
   "execution_count": 7,
   "metadata": {},
   "outputs": [
    {
     "name": "stdout",
     "output_type": "stream",
     "text": [
      "(3533184, 256) (3533184,)\n",
      "(73608, 48, 256) (73608, 48, 1)\n"
     ]
    }
   ],
   "source": [
    "# 훈련 데이터, 훈련 라벨\n",
    "x_gcc6_2_32_3 = gcc6_2_32_onehot_Ngram.iloc[:,1:].to_numpy()\n",
    "y_gcc6_2_32_3 = gcc6_2_32_onehot_Ngram['label'].to_numpy()\n",
    "print(x_gcc6_2_32_3.shape, y_gcc6_2_32_3.shape)\n",
    "\n",
    "x_gcc6_2_32_3 = x_gcc6_2_32_3.reshape(-1, right_idx, x_gcc6_2_32_3.shape[1])\n",
    "y_gcc6_2_32_3 = y_gcc6_2_32_3.reshape(-1, right_idx, 1)\n",
    "\n",
    "print(x_gcc6_2_32_3.shape, y_gcc6_2_32_3.shape)"
   ]
  },
  {
   "cell_type": "markdown",
   "metadata": {},
   "source": [
    "## (7) 모델"
   ]
  },
  {
   "cell_type": "code",
   "execution_count": 8,
   "metadata": {},
   "outputs": [
    {
     "name": "stderr",
     "output_type": "stream",
     "text": [
      "Using TensorFlow backend.\n"
     ]
    }
   ],
   "source": [
    "# (10) 양방향 LSTM 모델링 작업\n",
    "from keras.models import Model, Sequential\n",
    "from keras.layers import SimpleRNN, Input, Dense, LSTM\n",
    "from keras.layers import Bidirectional, TimeDistributed\n",
    "\n",
    "# 학습\n",
    "from keras.callbacks import EarlyStopping\n",
    "early_stopping = EarlyStopping(patience = 3) # 조기종료 콜백함수 정의\n",
    "\n",
    "xInput = Input(batch_shape=(None,right_idx, 256)) \n",
    "xBiLstm = Bidirectional(LSTM(64, return_sequences=True), merge_mode = 'concat')(xInput)\n",
    "xOutput = TimeDistributed(Dense(1, activation ='sigmoid'))(xBiLstm) # 각 스텝에서 cost가 전송되고, 오류가 다음 step으로 전송됨."
   ]
  },
  {
   "cell_type": "markdown",
   "metadata": {},
   "source": [
    "## (8) 학습 - 10 KFold"
   ]
  },
  {
   "cell_type": "code",
   "execution_count": 9,
   "metadata": {
    "scrolled": false
   },
   "outputs": [
    {
     "name": "stdout",
     "output_type": "stream",
     "text": [
      "Model: \"model_1\"\n",
      "_________________________________________________________________\n",
      "Layer (type)                 Output Shape              Param #   \n",
      "=================================================================\n",
      "input_1 (InputLayer)         (None, 48, 256)           0         \n",
      "_________________________________________________________________\n",
      "bidirectional_1 (Bidirection (None, 48, 128)           164352    \n",
      "_________________________________________________________________\n",
      "time_distributed_1 (TimeDist (None, 48, 1)             129       \n",
      "=================================================================\n",
      "Total params: 164,481\n",
      "Trainable params: 164,481\n",
      "Non-trainable params: 0\n",
      "_________________________________________________________________\n",
      "======Training stage======\n",
      "WARNING:tensorflow:From C:\\Users\\Black\\anaconda3\\lib\\site-packages\\tensorflow\\python\\ops\\math_grad.py:1250: add_dispatch_support.<locals>.wrapper (from tensorflow.python.ops.array_ops) is deprecated and will be removed in a future version.\n",
      "Instructions for updating:\n",
      "Use tf.where in 2.0, which has the same broadcast rule as np.where\n",
      "WARNING:tensorflow:From C:\\Users\\Black\\anaconda3\\lib\\site-packages\\keras\\backend\\tensorflow_backend.py:422: The name tf.global_variables is deprecated. Please use tf.compat.v1.global_variables instead.\n",
      "\n",
      "Epoch 1/10\n",
      "66247/66247 [==============================] - 154s 2ms/step - loss: 0.0074 - accuracy: 0.9985\n",
      "Epoch 2/10\n",
      "66247/66247 [==============================] - 154s 2ms/step - loss: 0.0037 - accuracy: 0.9989\n",
      "Epoch 3/10\n",
      "66247/66247 [==============================] - 151s 2ms/step - loss: 0.0032 - accuracy: 0.9990\n",
      "Epoch 4/10\n",
      "66247/66247 [==============================] - 152s 2ms/step - loss: 0.0029 - accuracy: 0.9991\n",
      "Epoch 5/10\n",
      "66247/66247 [==============================] - 152s 2ms/step - loss: 0.0027 - accuracy: 0.9992\n",
      "Epoch 6/10\n",
      "66247/66247 [==============================] - 151s 2ms/step - loss: 0.0025 - accuracy: 0.9993\n",
      "Epoch 7/10\n",
      "66247/66247 [==============================] - 152s 2ms/step - loss: 0.0023 - accuracy: 0.9993\n",
      "Epoch 8/10\n",
      "66247/66247 [==============================] - 154s 2ms/step - loss: 0.0021 - accuracy: 0.9994\n",
      "Epoch 9/10\n",
      "66247/66247 [==============================] - 152s 2ms/step - loss: 0.0019 - accuracy: 0.9994\n",
      "Epoch 10/10\n",
      "66247/66247 [==============================] - 150s 2ms/step - loss: 0.0017 - accuracy: 0.9995\n"
     ]
    },
    {
     "data": {
      "text/plain": [
       "<keras.callbacks.callbacks.History at 0x219539a0c08>"
      ]
     },
     "execution_count": 9,
     "metadata": {},
     "output_type": "execute_result"
    },
    {
     "name": "stdout",
     "output_type": "stream",
     "text": [
      "accuracy_score 0.9991848933568809\n",
      "recall_score 0.5970149253731343\n",
      "precision_score 0.8163265306122449\n",
      "f1_score 0.689655172413793\n",
      "Model: \"model_2\"\n",
      "_________________________________________________________________\n",
      "Layer (type)                 Output Shape              Param #   \n",
      "=================================================================\n",
      "input_1 (InputLayer)         (None, 48, 256)           0         \n",
      "_________________________________________________________________\n",
      "bidirectional_1 (Bidirection (None, 48, 128)           164352    \n",
      "_________________________________________________________________\n",
      "time_distributed_1 (TimeDist (None, 48, 1)             129       \n",
      "=================================================================\n",
      "Total params: 164,481\n",
      "Trainable params: 164,481\n",
      "Non-trainable params: 0\n",
      "_________________________________________________________________\n",
      "======Training stage======\n",
      "Epoch 1/10\n",
      "66247/66247 [==============================] - 161s 2ms/step - loss: 0.0017 - accuracy: 0.9995\n",
      "Epoch 2/10\n",
      "66247/66247 [==============================] - 159s 2ms/step - loss: 0.0015 - accuracy: 0.9995\n",
      "Epoch 3/10\n",
      "66247/66247 [==============================] - 157s 2ms/step - loss: 0.0014 - accuracy: 0.9996\n",
      "Epoch 4/10\n",
      "66247/66247 [==============================] - 161s 2ms/step - loss: 0.0012 - accuracy: 0.9996\n",
      "Epoch 5/10\n",
      "66247/66247 [==============================] - 161s 2ms/step - loss: 0.0010 - accuracy: 0.9997\n",
      "Epoch 6/10\n",
      "66247/66247 [==============================] - 161s 2ms/step - loss: 9.0849e-04 - accuracy: 0.9997\n",
      "Epoch 7/10\n",
      "66247/66247 [==============================] - 160s 2ms/step - loss: 7.7850e-04 - accuracy: 0.9998\n",
      "Epoch 8/10\n",
      "66247/66247 [==============================] - 158s 2ms/step - loss: 6.8775e-04 - accuracy: 0.9998\n",
      "Epoch 9/10\n",
      "66247/66247 [==============================] - 161s 2ms/step - loss: 5.9009e-04 - accuracy: 0.9998\n",
      "Epoch 10/10\n",
      "66247/66247 [==============================] - 160s 2ms/step - loss: 5.0407e-04 - accuracy: 0.9999\n"
     ]
    },
    {
     "data": {
      "text/plain": [
       "<keras.callbacks.callbacks.History at 0x21956fe9b88>"
      ]
     },
     "execution_count": 9,
     "metadata": {},
     "output_type": "execute_result"
    },
    {
     "name": "stdout",
     "output_type": "stream",
     "text": [
      "accuracy_score 0.9994820676538514\n",
      "recall_score 0.7339449541284404\n",
      "precision_score 0.91324200913242\n",
      "f1_score 0.8138351983723296\n",
      "Model: \"model_3\"\n",
      "_________________________________________________________________\n",
      "Layer (type)                 Output Shape              Param #   \n",
      "=================================================================\n",
      "input_1 (InputLayer)         (None, 48, 256)           0         \n",
      "_________________________________________________________________\n",
      "bidirectional_1 (Bidirection (None, 48, 128)           164352    \n",
      "_________________________________________________________________\n",
      "time_distributed_1 (TimeDist (None, 48, 1)             129       \n",
      "=================================================================\n",
      "Total params: 164,481\n",
      "Trainable params: 164,481\n",
      "Non-trainable params: 0\n",
      "_________________________________________________________________\n",
      "======Training stage======\n",
      "Epoch 1/10\n",
      "66247/66247 [==============================] - 157s 2ms/step - loss: 6.4104e-04 - accuracy: 0.9998\n",
      "Epoch 2/10\n",
      "66247/66247 [==============================] - 158s 2ms/step - loss: 5.3183e-04 - accuracy: 0.9998\n",
      "Epoch 3/10\n",
      "66247/66247 [==============================] - 157s 2ms/step - loss: 4.0888e-04 - accuracy: 0.9999\n",
      "Epoch 4/10\n",
      "66247/66247 [==============================] - 158s 2ms/step - loss: 3.5388e-04 - accuracy: 0.9999\n",
      "Epoch 5/10\n",
      "66247/66247 [==============================] - 156s 2ms/step - loss: 3.0549e-04 - accuracy: 0.9999\n",
      "Epoch 6/10\n",
      "66247/66247 [==============================] - 156s 2ms/step - loss: 2.6432e-04 - accuracy: 0.9999\n",
      "Epoch 7/10\n",
      "66247/66247 [==============================] - 154s 2ms/step - loss: 2.2685e-04 - accuracy: 0.9999\n",
      "Epoch 8/10\n",
      "66247/66247 [==============================] - 152s 2ms/step - loss: 1.9062e-04 - accuracy: 0.9999\n",
      "Epoch 9/10\n",
      "66247/66247 [==============================] - 155s 2ms/step - loss: 1.8448e-04 - accuracy: 0.9999\n",
      "Epoch 10/10\n",
      "66247/66247 [==============================] - 153s 2ms/step - loss: 1.5910e-04 - accuracy: 1.0000\n"
     ]
    },
    {
     "data": {
      "text/plain": [
       "<keras.callbacks.callbacks.History at 0x2195487ae88>"
      ]
     },
     "execution_count": 9,
     "metadata": {},
     "output_type": "execute_result"
    },
    {
     "name": "stdout",
     "output_type": "stream",
     "text": [
      "accuracy_score 0.9997594303310239\n",
      "recall_score 0.8705882352941177\n",
      "precision_score 0.958963282937365\n",
      "f1_score 0.9126413155190134\n",
      "Model: \"model_4\"\n",
      "_________________________________________________________________\n",
      "Layer (type)                 Output Shape              Param #   \n",
      "=================================================================\n",
      "input_1 (InputLayer)         (None, 48, 256)           0         \n",
      "_________________________________________________________________\n",
      "bidirectional_1 (Bidirection (None, 48, 128)           164352    \n",
      "_________________________________________________________________\n",
      "time_distributed_1 (TimeDist (None, 48, 1)             129       \n",
      "=================================================================\n",
      "Total params: 164,481\n",
      "Trainable params: 164,481\n",
      "Non-trainable params: 0\n",
      "_________________________________________________________________\n",
      "======Training stage======\n",
      "Epoch 1/10\n",
      "66247/66247 [==============================] - 158s 2ms/step - loss: 2.6522e-04 - accuracy: 0.9999\n",
      "Epoch 2/10\n",
      "66247/66247 [==============================] - 153s 2ms/step - loss: 2.4719e-04 - accuracy: 0.9999\n",
      "Epoch 3/10\n",
      "66247/66247 [==============================] - 150s 2ms/step - loss: 1.7181e-04 - accuracy: 0.9999\n",
      "Epoch 4/10\n",
      "66247/66247 [==============================] - 148s 2ms/step - loss: 1.3882e-04 - accuracy: 1.0000\n",
      "Epoch 5/10\n",
      "66247/66247 [==============================] - 147s 2ms/step - loss: 1.2184e-04 - accuracy: 1.0000\n",
      "Epoch 6/10\n",
      "66247/66247 [==============================] - 147s 2ms/step - loss: 1.1887e-04 - accuracy: 1.0000\n",
      "Epoch 7/10\n",
      "66247/66247 [==============================] - 148s 2ms/step - loss: 9.1257e-05 - accuracy: 1.0000\n",
      "Epoch 8/10\n",
      "66247/66247 [==============================] - 145s 2ms/step - loss: 8.4101e-05 - accuracy: 1.0000\n",
      "Epoch 9/10\n",
      "66247/66247 [==============================] - 148s 2ms/step - loss: 7.1141e-05 - accuracy: 1.0000\n",
      "Epoch 10/10\n",
      "66247/66247 [==============================] - 148s 2ms/step - loss: 6.6580e-05 - accuracy: 1.0000\n"
     ]
    },
    {
     "data": {
      "text/plain": [
       "<keras.callbacks.callbacks.History at 0x219581c6648>"
      ]
     },
     "execution_count": 9,
     "metadata": {},
     "output_type": "execute_result"
    },
    {
     "name": "stdout",
     "output_type": "stream",
     "text": [
      "accuracy_score 0.9998301861160168\n",
      "recall_score 0.903954802259887\n",
      "precision_score 0.9815950920245399\n",
      "f1_score 0.9411764705882353\n",
      "Model: \"model_5\"\n",
      "_________________________________________________________________\n",
      "Layer (type)                 Output Shape              Param #   \n",
      "=================================================================\n",
      "input_1 (InputLayer)         (None, 48, 256)           0         \n",
      "_________________________________________________________________\n",
      "bidirectional_1 (Bidirection (None, 48, 128)           164352    \n",
      "_________________________________________________________________\n",
      "time_distributed_1 (TimeDist (None, 48, 1)             129       \n",
      "=================================================================\n",
      "Total params: 164,481\n",
      "Trainable params: 164,481\n",
      "Non-trainable params: 0\n",
      "_________________________________________________________________\n",
      "======Training stage======\n",
      "Epoch 1/10\n",
      "66247/66247 [==============================] - 151s 2ms/step - loss: 1.6421e-04 - accuracy: 1.0000\n",
      "Epoch 2/10\n",
      "66247/66247 [==============================] - 147s 2ms/step - loss: 1.0011e-04 - accuracy: 1.0000\n",
      "Epoch 3/10\n",
      "66247/66247 [==============================] - 150s 2ms/step - loss: 8.5507e-05 - accuracy: 1.0000\n",
      "Epoch 4/10\n",
      "66247/66247 [==============================] - 149s 2ms/step - loss: 6.6344e-05 - accuracy: 1.0000\n",
      "Epoch 5/10\n",
      "66247/66247 [==============================] - 148s 2ms/step - loss: 6.8602e-05 - accuracy: 1.0000\n",
      "Epoch 6/10\n",
      "66247/66247 [==============================] - 148s 2ms/step - loss: 5.9024e-05 - accuracy: 1.0000\n",
      "Epoch 7/10\n",
      "66247/66247 [==============================] - 149s 2ms/step - loss: 4.7879e-05 - accuracy: 1.0000\n",
      "Epoch 8/10\n",
      "66247/66247 [==============================] - 146s 2ms/step - loss: 4.9085e-05 - accuracy: 1.0000\n",
      "Epoch 9/10\n",
      "66247/66247 [==============================] - 133s 2ms/step - loss: 5.3509e-05 - accuracy: 1.0000\n",
      "Epoch 10/10\n",
      "66247/66247 [==============================] - 110s 2ms/step - loss: 6.3235e-05 - accuracy: 1.0000\n"
     ]
    },
    {
     "data": {
      "text/plain": [
       "<keras.callbacks.callbacks.History at 0x2195acb4d88>"
      ]
     },
     "execution_count": 9,
     "metadata": {},
     "output_type": "execute_result"
    },
    {
     "name": "stdout",
     "output_type": "stream",
     "text": [
      "accuracy_score 0.9999235837522076\n",
      "recall_score 0.9622641509433962\n",
      "precision_score 0.9864603481624759\n",
      "f1_score 0.9742120343839541\n",
      "Model: \"model_6\"\n",
      "_________________________________________________________________\n",
      "Layer (type)                 Output Shape              Param #   \n",
      "=================================================================\n",
      "input_1 (InputLayer)         (None, 48, 256)           0         \n",
      "_________________________________________________________________\n",
      "bidirectional_1 (Bidirection (None, 48, 128)           164352    \n",
      "_________________________________________________________________\n",
      "time_distributed_1 (TimeDist (None, 48, 1)             129       \n",
      "=================================================================\n",
      "Total params: 164,481\n",
      "Trainable params: 164,481\n",
      "Non-trainable params: 0\n",
      "_________________________________________________________________\n",
      "======Training stage======\n",
      "Epoch 1/10\n",
      "66247/66247 [==============================] - 99s 1ms/step - loss: 6.8613e-05 - accuracy: 1.0000\n",
      "Epoch 2/10\n",
      "66247/66247 [==============================] - 84s 1ms/step - loss: 5.5834e-05 - accuracy: 1.0000\n",
      "Epoch 3/10\n",
      "66247/66247 [==============================] - 84s 1ms/step - loss: 4.7239e-05 - accuracy: 1.0000\n",
      "Epoch 4/10\n",
      "66247/66247 [==============================] - 84s 1ms/step - loss: 5.1921e-05 - accuracy: 1.0000\n",
      "Epoch 5/10\n",
      "66247/66247 [==============================] - 84s 1ms/step - loss: 5.0603e-05 - accuracy: 1.0000\n",
      "Epoch 6/10\n",
      "66247/66247 [==============================] - 84s 1ms/step - loss: 2.6441e-05 - accuracy: 1.0000\n",
      "Epoch 7/10\n",
      "66247/66247 [==============================] - 84s 1ms/step - loss: 3.9730e-05 - accuracy: 1.0000\n",
      "Epoch 8/10\n",
      "66247/66247 [==============================] - 83s 1ms/step - loss: 2.8570e-05 - accuracy: 1.0000\n",
      "Epoch 9/10\n",
      "66247/66247 [==============================] - 84s 1ms/step - loss: 3.3709e-05 - accuracy: 1.0000\n",
      "Epoch 10/10\n",
      "66247/66247 [==============================] - 85s 1ms/step - loss: 2.5471e-05 - accuracy: 1.0000\n"
     ]
    },
    {
     "data": {
      "text/plain": [
       "<keras.callbacks.callbacks.History at 0x2195b7cdc48>"
      ]
     },
     "execution_count": 9,
     "metadata": {},
     "output_type": "execute_result"
    },
    {
     "name": "stdout",
     "output_type": "stream",
     "text": [
      "accuracy_score 0.999960376760404\n",
      "recall_score 0.9753787878787878\n",
      "precision_score 0.998062015503876\n",
      "f1_score 0.9865900383141762\n",
      "Model: \"model_7\"\n",
      "_________________________________________________________________\n",
      "Layer (type)                 Output Shape              Param #   \n",
      "=================================================================\n",
      "input_1 (InputLayer)         (None, 48, 256)           0         \n",
      "_________________________________________________________________\n",
      "bidirectional_1 (Bidirection (None, 48, 128)           164352    \n",
      "_________________________________________________________________\n",
      "time_distributed_1 (TimeDist (None, 48, 1)             129       \n",
      "=================================================================\n",
      "Total params: 164,481\n",
      "Trainable params: 164,481\n",
      "Non-trainable params: 0\n",
      "_________________________________________________________________\n",
      "======Training stage======\n",
      "Epoch 1/10\n",
      "66247/66247 [==============================] - 88s 1ms/step - loss: 7.2809e-05 - accuracy: 1.0000\n",
      "Epoch 2/10\n",
      "66247/66247 [==============================] - 87s 1ms/step - loss: 4.2022e-05 - accuracy: 1.0000\n",
      "Epoch 3/10\n",
      "66247/66247 [==============================] - 86s 1ms/step - loss: 4.3561e-05 - accuracy: 1.0000\n",
      "Epoch 4/10\n",
      "66247/66247 [==============================] - 86s 1ms/step - loss: 1.6720e-05 - accuracy: 1.0000\n",
      "Epoch 5/10\n",
      "66247/66247 [==============================] - 87s 1ms/step - loss: 3.4981e-05 - accuracy: 1.0000\n",
      "Epoch 6/10\n",
      "66247/66247 [==============================] - 87s 1ms/step - loss: 2.1175e-05 - accuracy: 1.0000\n",
      "Epoch 7/10\n",
      "66247/66247 [==============================] - 87s 1ms/step - loss: 2.1661e-05 - accuracy: 1.0000\n",
      "Epoch 8/10\n",
      "66247/66247 [==============================] - 86s 1ms/step - loss: 2.7874e-05 - accuracy: 1.0000\n",
      "Epoch 9/10\n",
      "66247/66247 [==============================] - 86s 1ms/step - loss: 3.1275e-05 - accuracy: 1.0000\n",
      "Epoch 10/10\n",
      "66247/66247 [==============================] - 87s 1ms/step - loss: 3.8460e-05 - accuracy: 1.0000\n"
     ]
    },
    {
     "data": {
      "text/plain": [
       "<keras.callbacks.callbacks.History at 0x219614c28c8>"
      ]
     },
     "execution_count": 9,
     "metadata": {},
     "output_type": "execute_result"
    },
    {
     "name": "stdout",
     "output_type": "stream",
     "text": [
      "accuracy_score 0.9999264139836073\n",
      "recall_score 0.952\n",
      "precision_score 0.99581589958159\n",
      "f1_score 0.9734151329243353\n",
      "Model: \"model_8\"\n",
      "_________________________________________________________________\n",
      "Layer (type)                 Output Shape              Param #   \n",
      "=================================================================\n",
      "input_1 (InputLayer)         (None, 48, 256)           0         \n",
      "_________________________________________________________________\n",
      "bidirectional_1 (Bidirection (None, 48, 128)           164352    \n",
      "_________________________________________________________________\n",
      "time_distributed_1 (TimeDist (None, 48, 1)             129       \n",
      "=================================================================\n",
      "Total params: 164,481\n",
      "Trainable params: 164,481\n",
      "Non-trainable params: 0\n",
      "_________________________________________________________________\n",
      "======Training stage======\n",
      "Epoch 1/10\n",
      "66247/66247 [==============================] - 86s 1ms/step - loss: 4.4426e-05 - accuracy: 1.0000\n",
      "Epoch 2/10\n",
      "66247/66247 [==============================] - 85s 1ms/step - loss: 2.0518e-05 - accuracy: 1.0000\n",
      "Epoch 3/10\n",
      "66247/66247 [==============================] - 85s 1ms/step - loss: 1.6973e-05 - accuracy: 1.0000\n",
      "Epoch 4/10\n",
      "66247/66247 [==============================] - 85s 1ms/step - loss: 1.3408e-05 - accuracy: 1.0000\n",
      "Epoch 5/10\n",
      "66247/66247 [==============================] - 84s 1ms/step - loss: 1.7340e-05 - accuracy: 1.0000\n",
      "Epoch 6/10\n",
      "66247/66247 [==============================] - 85s 1ms/step - loss: 2.6428e-05 - accuracy: 1.0000\n",
      "Epoch 7/10\n",
      "66247/66247 [==============================] - 85s 1ms/step - loss: 2.6691e-05 - accuracy: 1.0000\n",
      "Epoch 8/10\n",
      "66247/66247 [==============================] - 85s 1ms/step - loss: 1.8460e-05 - accuracy: 1.0000\n",
      "Epoch 9/10\n",
      "66247/66247 [==============================] - 83s 1ms/step - loss: 1.8613e-05 - accuracy: 1.0000\n",
      "Epoch 10/10\n",
      "66247/66247 [==============================] - 85s 1ms/step - loss: 8.9402e-06 - accuracy: 1.0000\n"
     ]
    },
    {
     "data": {
      "text/plain": [
       "<keras.callbacks.callbacks.History at 0x2195ede9548>"
      ]
     },
     "execution_count": 9,
     "metadata": {},
     "output_type": "execute_result"
    },
    {
     "name": "stdout",
     "output_type": "stream",
     "text": [
      "accuracy_score 0.9999830186116017\n",
      "recall_score 0.9897330595482546\n",
      "precision_score 0.9979296066252588\n",
      "f1_score 0.9938144329896906\n",
      "Model: \"model_9\"\n",
      "_________________________________________________________________\n",
      "Layer (type)                 Output Shape              Param #   \n",
      "=================================================================\n",
      "input_1 (InputLayer)         (None, 48, 256)           0         \n",
      "_________________________________________________________________\n",
      "bidirectional_1 (Bidirection (None, 48, 128)           164352    \n",
      "_________________________________________________________________\n",
      "time_distributed_1 (TimeDist (None, 48, 1)             129       \n",
      "=================================================================\n",
      "Total params: 164,481\n",
      "Trainable params: 164,481\n",
      "Non-trainable params: 0\n",
      "_________________________________________________________________\n",
      "======Training stage======\n",
      "Epoch 1/10\n",
      "66248/66248 [==============================] - 88s 1ms/step - loss: 3.9423e-05 - accuracy: 1.0000\n",
      "Epoch 2/10\n",
      "66248/66248 [==============================] - 87s 1ms/step - loss: 1.3827e-05 - accuracy: 1.0000\n",
      "Epoch 3/10\n",
      "66248/66248 [==============================] - 87s 1ms/step - loss: 1.6033e-05 - accuracy: 1.0000\n",
      "Epoch 4/10\n",
      "66248/66248 [==============================] - 88s 1ms/step - loss: 1.7930e-05 - accuracy: 1.0000\n",
      "Epoch 5/10\n",
      "66248/66248 [==============================] - 88s 1ms/step - loss: 2.0118e-05 - accuracy: 1.0000\n",
      "Epoch 6/10\n",
      "66248/66248 [==============================] - 88s 1ms/step - loss: 2.2422e-05 - accuracy: 1.0000\n",
      "Epoch 7/10\n",
      "66248/66248 [==============================] - 88s 1ms/step - loss: 2.7192e-06 - accuracy: 1.0000\n",
      "Epoch 8/10\n",
      "66248/66248 [==============================] - 88s 1ms/step - loss: 6.2722e-06 - accuracy: 1.0000\n",
      "Epoch 9/10\n",
      "66248/66248 [==============================] - 87s 1ms/step - loss: 9.7580e-06 - accuracy: 1.0000\n",
      "Epoch 10/10\n",
      "66248/66248 [==============================] - 85s 1ms/step - loss: 1.6620e-05 - accuracy: 1.0000\n"
     ]
    },
    {
     "data": {
      "text/plain": [
       "<keras.callbacks.callbacks.History at 0x2196a3f1588>"
      ]
     },
     "execution_count": 9,
     "metadata": {},
     "output_type": "execute_result"
    },
    {
     "name": "stdout",
     "output_type": "stream",
     "text": [
      "accuracy_score 0.9999433876811594\n",
      "recall_score 0.9760956175298805\n",
      "precision_score 0.9839357429718876\n",
      "f1_score 0.98\n",
      "Model: \"model_10\"\n",
      "_________________________________________________________________\n",
      "Layer (type)                 Output Shape              Param #   \n",
      "=================================================================\n",
      "input_1 (InputLayer)         (None, 48, 256)           0         \n",
      "_________________________________________________________________\n",
      "bidirectional_1 (Bidirection (None, 48, 128)           164352    \n",
      "_________________________________________________________________\n",
      "time_distributed_1 (TimeDist (None, 48, 1)             129       \n",
      "=================================================================\n",
      "Total params: 164,481\n",
      "Trainable params: 164,481\n",
      "Non-trainable params: 0\n",
      "_________________________________________________________________\n",
      "======Training stage======\n",
      "Epoch 1/10\n",
      "66248/66248 [==============================] - 89s 1ms/step - loss: 2.7274e-05 - accuracy: 1.0000\n",
      "Epoch 2/10\n",
      "66248/66248 [==============================] - 90s 1ms/step - loss: 2.2373e-05 - accuracy: 1.0000\n",
      "Epoch 3/10\n",
      "66248/66248 [==============================] - 90s 1ms/step - loss: 2.5998e-05 - accuracy: 1.0000 0s - loss: 2.4547e\n",
      "Epoch 4/10\n",
      "66248/66248 [==============================] - 90s 1ms/step - loss: 4.3688e-05 - accuracy: 1.0000\n",
      "Epoch 5/10\n",
      "66248/66248 [==============================] - 89s 1ms/step - loss: 2.7139e-05 - accuracy: 1.0000 1s - loss:\n",
      "Epoch 6/10\n",
      "66248/66248 [==============================] - 89s 1ms/step - loss: 1.0136e-05 - accuracy: 1.0000\n",
      "Epoch 7/10\n",
      "66248/66248 [==============================] - 89s 1ms/step - loss: 1.2778e-05 - accuracy: 1.0000\n",
      "Epoch 8/10\n",
      "66248/66248 [==============================] - 89s 1ms/step - loss: 6.3956e-06 - accuracy: 1.0000\n",
      "Epoch 9/10\n",
      "66248/66248 [==============================] - 89s 1ms/step - loss: 1.2617e-05 - accuracy: 1.0000\n",
      "Epoch 10/10\n",
      "66248/66248 [==============================] - 90s 1ms/step - loss: 8.3550e-06 - accuracy: 1.0000\n"
     ]
    },
    {
     "data": {
      "text/plain": [
       "<keras.callbacks.callbacks.History at 0x21965967848>"
      ]
     },
     "execution_count": 9,
     "metadata": {},
     "output_type": "execute_result"
    },
    {
     "name": "stdout",
     "output_type": "stream",
     "text": [
      "accuracy_score 0.9999915081521739\n",
      "recall_score 0.9957356076759062\n",
      "precision_score 0.9978632478632479\n",
      "f1_score 0.9967982924226253\n",
      "\n",
      "K-fold cross validation Accuracy: [0.9991848933568809, 0.9994820676538514, 0.9997594303310239, 0.9998301861160168, 0.9999235837522076, 0.999960376760404, 0.9999264139836073, 0.9999830186116017, 0.9999433876811594, 0.9999915081521739]\n",
      "\n",
      "K-fold cross validation Recall: [0.5970149253731343, 0.7339449541284404, 0.8705882352941177, 0.903954802259887, 0.9622641509433962, 0.9753787878787878, 0.952, 0.9897330595482546, 0.9760956175298805, 0.9957356076759062]\n",
      "\n",
      "K-fold cross validation Precision: [0.8163265306122449, 0.91324200913242, 0.958963282937365, 0.9815950920245399, 0.9864603481624759, 0.998062015503876, 0.99581589958159, 0.9979296066252588, 0.9839357429718876, 0.9978632478632479]\n",
      "\n",
      "K-fold cross validation F1-Score: [0.689655172413793, 0.8138351983723296, 0.9126413155190134, 0.9411764705882353, 0.9742120343839541, 0.9865900383141762, 0.9734151329243353, 0.9938144329896906, 0.98, 0.9967982924226253]\n"
     ]
    }
   ],
   "source": [
    "# 교차검증 kfold\n",
    "from sklearn.model_selection import KFold\n",
    "\n",
    "# Accuracy, Precision, Recall, F1-Score\n",
    "from sklearn.metrics import accuracy_score, recall_score, precision_score, f1_score\n",
    "\n",
    "# Confusion Matrix, ROC Curve\n",
    "from sklearn.metrics import confusion_matrix, roc_auc_score\n",
    "\n",
    "# 최종 평가지표들 평균용\n",
    "accuracy, recall, precision, f1score, cm = [], [], [], [], []\n",
    "\n",
    "# 11. 교차검증 kfold - k.split - 10회 / K-Fold 객체 생성\n",
    "# kf = KFold(n_splits=10, shuffle=False, random_state=None) # KFold non shuffle 버전\n",
    "kf = KFold(n_splits=10, shuffle=True, random_state=None) # KFold non shuffle 버전\n",
    "\n",
    "for train, validation in kf.split(x_gcc6_2_32_3, y_gcc6_2_32_3):\n",
    "    model1 = Model(xInput, xOutput)\n",
    "    model1.compile(loss='binary_crossentropy', optimizer='rmsprop', metrics=['accuracy'])\n",
    "    model1.summary()\n",
    "    print('======Training stage======')\n",
    "    model1.fit(x_gcc6_2_32_3[train],\n",
    "               y_gcc6_2_32_3[train],\n",
    "               epochs = 10,\n",
    "               batch_size = 32,\n",
    "               callbacks=[early_stopping])\n",
    "    #k_accuracy = '%.4f' %(model1.evaluate(data_10000x[validation], data_10000y[validation])[1])\n",
    "\n",
    "# 12. 교차검증결과 predict - 검증셋들\n",
    "    # predict 값\n",
    "    k_pr = model1.predict(x_gcc6_2_32_3[validation])\n",
    "    \n",
    "    # 테스트 predict 결과들 비교 (평가지표 보기위함)\n",
    "    pred = np.round(np.array(k_pr).flatten().tolist())\n",
    "    y_test = np.array(y_gcc6_2_32_3[validation]).flatten().tolist()\n",
    "    \n",
    "# 13. 평가지표들 출력\n",
    "    ## 평가지표들\n",
    "    k_accuracy = float(accuracy_score(y_test, pred))\n",
    "    k_recall =  float(recall_score(y_test, pred))\n",
    "    k_precision = float(precision_score(y_test, pred))\n",
    "    k_f1_score = float(f1_score(y_test, pred))\n",
    "    #k_cm = float(confusion_matrix(y_test, pred))\n",
    "    \n",
    "    print('accuracy_score', k_accuracy)\n",
    "    print('recall_score', k_recall)\n",
    "    print('precision_score', k_precision)\n",
    "    print('f1_score', k_f1_score)\n",
    "    #print('\\nconfusion_matrix\\n', k_cm)\n",
    "\n",
    "    accuracy.append(k_accuracy)\n",
    "    recall.append(k_recall)\n",
    "    precision.append(k_precision)\n",
    "    f1score.append(k_f1_score)\n",
    "    #cm.append(k_cm)\n",
    "#    print('roc_curve 면적', roc_auc_score(y_test, pred))\n",
    "\n",
    "# 14. 최종 결과지표\n",
    "print('\\nK-fold cross validation Accuracy: {}'.format(accuracy))\n",
    "print('\\nK-fold cross validation Recall: {}'.format(recall))\n",
    "print('\\nK-fold cross validation Precision: {}'.format(precision))\n",
    "print('\\nK-fold cross validation F1-Score: {}'.format(f1score))\n",
    "#print('\\nK-fold cross validation ConfusionMatrix: {}'.format(cm))"
   ]
  },
  {
   "cell_type": "markdown",
   "metadata": {},
   "source": [
    "## (9) 평가지표"
   ]
  },
  {
   "cell_type": "code",
   "execution_count": 10,
   "metadata": {},
   "outputs": [
    {
     "name": "stdout",
     "output_type": "stream",
     "text": [
      "10-Fold Cross_validation. Accuracy : 0.9997984866398928\n",
      "10-Fold Cross_validation. Recall : 0.8956710140631804\n",
      "10-Fold Cross_validation. Precision : 0.9630193775414906\n",
      "10-Fold Cross_validation. F1-Score : 0.9262138087928152\n"
     ]
    }
   ],
   "source": [
    "print('10-Fold Cross_validation. Accuracy :', np.mean(accuracy))\n",
    "print('10-Fold Cross_validation. Recall :', np.mean(recall))\n",
    "print('10-Fold Cross_validation. Precision :', np.mean(precision))\n",
    "print('10-Fold Cross_validation. F1-Score :', np.mean(f1score))"
   ]
  }
 ],
 "metadata": {
  "kernelspec": {
   "display_name": "Python 3",
   "language": "python",
   "name": "python3"
  },
  "language_info": {
   "codemirror_mode": {
    "name": "ipython",
    "version": 3
   },
   "file_extension": ".py",
   "mimetype": "text/x-python",
   "name": "python",
   "nbconvert_exporter": "python",
   "pygments_lexer": "ipython3",
   "version": "3.7.6"
  }
 },
 "nbformat": 4,
 "nbformat_minor": 4
}
