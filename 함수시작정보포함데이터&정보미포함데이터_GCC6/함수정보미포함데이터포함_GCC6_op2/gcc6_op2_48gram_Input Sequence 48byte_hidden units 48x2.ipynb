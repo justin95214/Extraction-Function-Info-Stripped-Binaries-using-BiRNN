{
 "cells": [
  {
   "cell_type": "markdown",
   "metadata": {},
   "source": [
    "## RNN 모델 N-Byte 방식 (함수정보 포함 vs 미포함 => 1:1 비율)\n",
    "\n",
    "## (1) 데이터로드"
   ]
  },
  {
   "cell_type": "code",
   "execution_count": 1,
   "metadata": {},
   "outputs": [
    {
     "name": "stdout",
     "output_type": "stream",
     "text": [
      "(11076816, 2)\n",
      "reset_index 완료\n",
      "input data shape\n"
     ]
    },
    {
     "data": {
      "text/html": [
       "<div>\n",
       "<style scoped>\n",
       "    .dataframe tbody tr th:only-of-type {\n",
       "        vertical-align: middle;\n",
       "    }\n",
       "\n",
       "    .dataframe tbody tr th {\n",
       "        vertical-align: top;\n",
       "    }\n",
       "\n",
       "    .dataframe thead th {\n",
       "        text-align: right;\n",
       "    }\n",
       "</style>\n",
       "<table border=\"1\" class=\"dataframe\">\n",
       "  <thead>\n",
       "    <tr style=\"text-align: right;\">\n",
       "      <th></th>\n",
       "      <th>bin</th>\n",
       "      <th>label</th>\n",
       "    </tr>\n",
       "  </thead>\n",
       "  <tbody>\n",
       "    <tr>\n",
       "      <th>0</th>\n",
       "      <td>53</td>\n",
       "      <td>1</td>\n",
       "    </tr>\n",
       "    <tr>\n",
       "      <th>1</th>\n",
       "      <td>83</td>\n",
       "      <td>0</td>\n",
       "    </tr>\n",
       "    <tr>\n",
       "      <th>2</th>\n",
       "      <td>ec</td>\n",
       "      <td>0</td>\n",
       "    </tr>\n",
       "    <tr>\n",
       "      <th>3</th>\n",
       "      <td>08</td>\n",
       "      <td>0</td>\n",
       "    </tr>\n",
       "    <tr>\n",
       "      <th>4</th>\n",
       "      <td>e8</td>\n",
       "      <td>0</td>\n",
       "    </tr>\n",
       "  </tbody>\n",
       "</table>\n",
       "</div>"
      ],
      "text/plain": [
       "  bin  label\n",
       "0  53      1\n",
       "1  83      0\n",
       "2  ec      0\n",
       "3  08      0\n",
       "4  e8      0"
      ]
     },
     "execution_count": 1,
     "metadata": {},
     "output_type": "execute_result"
    }
   ],
   "source": [
    "# (1) 데이터로드\n",
    "import pandas as pd\n",
    "import numpy as np\n",
    "\n",
    "import warnings\n",
    "warnings.filterwarnings(action='ignore')\n",
    "\n",
    "# 여러개 쳐도 나오게\n",
    "from IPython.core.interactiveshell import InteractiveShell\n",
    "InteractiveShell.ast_node_interactivity = \"all\"\n",
    "\n",
    "# 파일읽기\n",
    "gcc6_2_32 = pd.read_csv(\"../data/binutils_gcc3~9_op0~4_exec_csv/\"+'gcc6'+\"_2_32_exec.csv\", index_col=0)\n",
    "\n",
    "# 형태 출력\n",
    "print(gcc6_2_32.shape)\n",
    "\n",
    "# reset_index (hex processing 하면서 값이 빠졌으니까 + n_gram 에서 index를 다루기 때문에)\n",
    "gcc6_2_32.reset_index(inplace=True, drop=True)\n",
    "\n",
    "print('reset_index 완료')\n",
    "print('input data shape')\n",
    "gcc6_2_32.head()"
   ]
  },
  {
   "cell_type": "code",
   "execution_count": 2,
   "metadata": {},
   "outputs": [
    {
     "name": "stdout",
     "output_type": "stream",
     "text": [
      "256\n",
      "0    11040011\n",
      "1       36805\n",
      "Name: label, dtype: int64\n"
     ]
    }
   ],
   "source": [
    "# (2-1) 데이터체크 1 - hex(16진수)가 256 label을 가져야 dummies 변환 가능 \n",
    "\n",
    "# 16진수 256개 종류가 있어서 pd.get_dummies 사용 가능.\n",
    "print(len(gcc6_2_32['bin'].unique()))\n",
    "\n",
    "# (2-2) 데이터 체크 2 - 1, 0 비율 ==> 1이 함수의 갯수를 뜻함\n",
    "# 정답 데이터 1, 0 비율 확인  ==> 1이 함수의 갯수를 뜻함\n",
    "print(gcc6_2_32['label'].value_counts())"
   ]
  },
  {
   "cell_type": "markdown",
   "metadata": {},
   "source": [
    "## (3) N Byte씩 자르기"
   ]
  },
  {
   "cell_type": "code",
   "execution_count": 3,
   "metadata": {},
   "outputs": [
    {
     "name": "stdout",
     "output_type": "stream",
     "text": [
      "1766604\n",
      "나머지 12\n",
      "최종 길이 1766592\n",
      "gcc6_2_32 1766592\n"
     ]
    }
   ],
   "source": [
    "######################## \n",
    "idx = gcc6_2_32[gcc6_2_32['label']==1].index  # 407, 474 ...\n",
    "ls = list(idx)\n",
    "\n",
    "# 최종 뽑을 행에 대한 index\n",
    "ls_idx = [] \n",
    "left_idx, right_idx = 0, 48 # 3개씩\n",
    "\n",
    "# 6gram\n",
    "for k in range(left_idx, right_idx):\n",
    "    ls_idx.extend(list(idx + k)) # index 형이라서 가능\n",
    "\n",
    "#ls_idx = list(set(ls_idx)) \n",
    "ls_idx.sort() # 인덱스 정렬\n",
    "\n",
    "# 1차 index 해당범위 초과한 것들 없애기\n",
    "ls_idx = list(filter(lambda x: x<len(gcc6_2_32), ls_idx))\n",
    "print(len(ls_idx))\n",
    "\n",
    "# 2차 남은 index들 중 right_idx 나눈 나머지 없애기\n",
    "sub = len(ls_idx)%(right_idx)\n",
    "print('나머지', sub)\n",
    "\n",
    "ls_idx = ls_idx[:len(ls_idx)-sub]\n",
    "print('최종 길이', len(ls_idx))\n",
    "\n",
    "print('gcc6_2_32', len(ls_idx))\n",
    "\n",
    "# loc 로 수정필요\n",
    "gcc6_2_32_Ngram = gcc6_2_32.loc[ls_idx,:].copy()"
   ]
  },
  {
   "cell_type": "markdown",
   "metadata": {},
   "source": [
    "## (4) false data 만들기"
   ]
  },
  {
   "cell_type": "code",
   "execution_count": 4,
   "metadata": {},
   "outputs": [
    {
     "name": "stdout",
     "output_type": "stream",
     "text": [
      "0 1000 2000 3000 4000 5000 6000 7000 8000 9000 10000 11000 12000 13000 14000 15000 16000 17000 18000 19000 20000 21000 22000 23000 24000 25000 26000 27000 28000 29000 30000 31000 32000 33000 34000 35000 36000 완료\n"
     ]
    }
   ],
   "source": [
    "# false data 만들기 - False 데이터 랜덤 생성\n",
    "# random index\n",
    "random_idx = np.random.randint(len(gcc6_2_32)-right_idx)\n",
    "\n",
    "# 목표치\n",
    "goal = len(gcc6_2_32_Ngram)/right_idx\n",
    "count=0\n",
    "\n",
    "d = pd.DataFrame(columns=gcc6_2_32.columns)\n",
    "\n",
    "# goal 에 도달할 때까지\n",
    "while count!=goal:\n",
    "    \n",
    "    # 진행상황 살펴보기 위함\n",
    "    if count%1000==0:\n",
    "        print(count, end=' ')\n",
    "        \n",
    "    # 랜덤 N 바이트씩 뽑음\n",
    "    df = gcc6_2_32[random_idx:random_idx+right_idx]\n",
    "    \n",
    "    # 뽑은 index의 N 바이트 중에 1이 없는 경우만\n",
    "    if 1 not in df['label']:\n",
    "        d = pd.concat([d, df])\n",
    "        count+=1\n",
    "\n",
    "print('완료')"
   ]
  },
  {
   "cell_type": "markdown",
   "metadata": {},
   "source": [
    "## (5) False Data + True Data 합치기"
   ]
  },
  {
   "cell_type": "code",
   "execution_count": 5,
   "metadata": {},
   "outputs": [
    {
     "name": "stdout",
     "output_type": "stream",
     "text": [
      "0 1000 2000 3000 4000 5000 6000 7000 8000 9000 10000 11000 12000 13000 14000 15000 16000 17000 18000 19000 20000 21000 22000 23000 24000 25000 26000 27000 28000 29000 30000 31000 32000 33000 34000 35000 36000 "
     ]
    },
    {
     "data": {
      "text/plain": [
       "(3533184, 2)"
      ]
     },
     "execution_count": 5,
     "metadata": {},
     "output_type": "execute_result"
    }
   ],
   "source": [
    "ff = pd.DataFrame(columns=gcc6_2_32.columns)\n",
    "\n",
    "for i in range(0, int(len(d)/right_idx)):\n",
    "    ff = pd.concat([ff, gcc6_2_32[i*right_idx:(i+1)*right_idx], d[i*right_idx:(i+1)*right_idx]])\n",
    "    \n",
    "    if i%1000==0:\n",
    "        print(i, end=' ')\n",
    "ff.shape"
   ]
  },
  {
   "cell_type": "markdown",
   "metadata": {},
   "source": [
    "## (6) one hot encoding"
   ]
  },
  {
   "cell_type": "code",
   "execution_count": 6,
   "metadata": {},
   "outputs": [
    {
     "name": "stdout",
     "output_type": "stream",
     "text": [
      "원핫인코딩완료\n",
      "(3533184, 257)\n"
     ]
    }
   ],
   "source": [
    "# 훈련데이터 (gcc 최적화버전 0, 1, 2, 3 one hot encoding)\n",
    "gcc6_2_32_onehot_Ngram = pd.get_dummies(ff['bin'])\n",
    "gcc6_2_32_onehot_Ngram = pd.concat([ff['label'], gcc6_2_32_onehot_Ngram], axis=1)\n",
    "\n",
    "print('원핫인코딩완료')\n",
    "print(gcc6_2_32_onehot_Ngram.shape)"
   ]
  },
  {
   "cell_type": "code",
   "execution_count": 7,
   "metadata": {},
   "outputs": [
    {
     "name": "stdout",
     "output_type": "stream",
     "text": [
      "(3533184, 256) (3533184,)\n",
      "(73608, 48, 256) (73608, 48, 1)\n"
     ]
    }
   ],
   "source": [
    "# 훈련 데이터, 훈련 라벨\n",
    "x_gcc6_2_32_3 = gcc6_2_32_onehot_Ngram.iloc[:,1:].to_numpy()\n",
    "y_gcc6_2_32_3 = gcc6_2_32_onehot_Ngram['label'].to_numpy()\n",
    "print(x_gcc6_2_32_3.shape, y_gcc6_2_32_3.shape)\n",
    "\n",
    "x_gcc6_2_32_3 = x_gcc6_2_32_3.reshape(-1, right_idx, x_gcc6_2_32_3.shape[1])\n",
    "y_gcc6_2_32_3 = y_gcc6_2_32_3.reshape(-1, right_idx, 1)\n",
    "\n",
    "print(x_gcc6_2_32_3.shape, y_gcc6_2_32_3.shape)"
   ]
  },
  {
   "cell_type": "markdown",
   "metadata": {},
   "source": [
    "## (7) 모델"
   ]
  },
  {
   "cell_type": "code",
   "execution_count": 8,
   "metadata": {},
   "outputs": [
    {
     "name": "stderr",
     "output_type": "stream",
     "text": [
      "Using TensorFlow backend.\n"
     ]
    }
   ],
   "source": [
    "# (10) 양방향 LSTM 모델링 작업\n",
    "from keras.models import Model, Sequential\n",
    "from keras.layers import SimpleRNN, Input, Dense, LSTM\n",
    "from keras.layers import Bidirectional, TimeDistributed\n",
    "\n",
    "# 학습\n",
    "from keras.callbacks import EarlyStopping\n",
    "early_stopping = EarlyStopping(patience = 3) # 조기종료 콜백함수 정의\n",
    "\n",
    "xInput = Input(batch_shape=(None,right_idx, 256)) \n",
    "xBiLstm = Bidirectional(LSTM(48, return_sequences=True), merge_mode = 'concat')(xInput)\n",
    "xOutput = TimeDistributed(Dense(1, activation ='sigmoid'))(xBiLstm) # 각 스텝에서 cost가 전송되고, 오류가 다음 step으로 전송됨."
   ]
  },
  {
   "cell_type": "markdown",
   "metadata": {},
   "source": [
    "## (8) 학습 - 10 KFold"
   ]
  },
  {
   "cell_type": "code",
   "execution_count": 9,
   "metadata": {
    "scrolled": false
   },
   "outputs": [
    {
     "name": "stdout",
     "output_type": "stream",
     "text": [
      "Model: \"model_1\"\n",
      "_________________________________________________________________\n",
      "Layer (type)                 Output Shape              Param #   \n",
      "=================================================================\n",
      "input_1 (InputLayer)         (None, 48, 256)           0         \n",
      "_________________________________________________________________\n",
      "bidirectional_1 (Bidirection (None, 48, 96)            117120    \n",
      "_________________________________________________________________\n",
      "time_distributed_1 (TimeDist (None, 48, 1)             97        \n",
      "=================================================================\n",
      "Total params: 117,217\n",
      "Trainable params: 117,217\n",
      "Non-trainable params: 0\n",
      "_________________________________________________________________\n",
      "======Training stage======\n",
      "WARNING:tensorflow:From C:\\Users\\Black\\anaconda3\\lib\\site-packages\\tensorflow\\python\\ops\\math_grad.py:1250: add_dispatch_support.<locals>.wrapper (from tensorflow.python.ops.array_ops) is deprecated and will be removed in a future version.\n",
      "Instructions for updating:\n",
      "Use tf.where in 2.0, which has the same broadcast rule as np.where\n",
      "WARNING:tensorflow:From C:\\Users\\Black\\anaconda3\\lib\\site-packages\\keras\\backend\\tensorflow_backend.py:422: The name tf.global_variables is deprecated. Please use tf.compat.v1.global_variables instead.\n",
      "\n",
      "Epoch 1/10\n",
      "66247/66247 [==============================] - 129s 2ms/step - loss: 0.0082 - accuracy: 0.9983\n",
      "Epoch 2/10\n",
      "66247/66247 [==============================] - 141s 2ms/step - loss: 0.0037 - accuracy: 0.9989\n",
      "Epoch 3/10\n",
      "66247/66247 [==============================] - 139s 2ms/step - loss: 0.0032 - accuracy: 0.9990\n",
      "Epoch 4/10\n",
      "66247/66247 [==============================] - 137s 2ms/step - loss: 0.0030 - accuracy: 0.9991\n",
      "Epoch 5/10\n",
      "66247/66247 [==============================] - 138s 2ms/step - loss: 0.0028 - accuracy: 0.9992\n",
      "Epoch 6/10\n",
      "66247/66247 [==============================] - 138s 2ms/step - loss: 0.0026 - accuracy: 0.9992\n",
      "Epoch 7/10\n",
      "66247/66247 [==============================] - 135s 2ms/step - loss: 0.0024 - accuracy: 0.9993\n",
      "Epoch 8/10\n",
      "66247/66247 [==============================] - 138s 2ms/step - loss: 0.0022 - accuracy: 0.9993\n",
      "Epoch 9/10\n",
      "66247/66247 [==============================] - 139s 2ms/step - loss: 0.0021 - accuracy: 0.9994\n",
      "Epoch 10/10\n",
      "66247/66247 [==============================] - 139s 2ms/step - loss: 0.0019 - accuracy: 0.9994\n"
     ]
    },
    {
     "data": {
      "text/plain": [
       "<keras.callbacks.callbacks.History at 0x2a1c18406c8>"
      ]
     },
     "execution_count": 9,
     "metadata": {},
     "output_type": "execute_result"
    },
    {
     "name": "stdout",
     "output_type": "stream",
     "text": [
      "accuracy_score 0.9991594212742834\n",
      "recall_score 0.6728016359918201\n",
      "precision_score 0.7060085836909872\n",
      "f1_score 0.6890052356020944\n",
      "Model: \"model_2\"\n",
      "_________________________________________________________________\n",
      "Layer (type)                 Output Shape              Param #   \n",
      "=================================================================\n",
      "input_1 (InputLayer)         (None, 48, 256)           0         \n",
      "_________________________________________________________________\n",
      "bidirectional_1 (Bidirection (None, 48, 96)            117120    \n",
      "_________________________________________________________________\n",
      "time_distributed_1 (TimeDist (None, 48, 1)             97        \n",
      "=================================================================\n",
      "Total params: 117,217\n",
      "Trainable params: 117,217\n",
      "Non-trainable params: 0\n",
      "_________________________________________________________________\n",
      "======Training stage======\n",
      "Epoch 1/10\n",
      "66247/66247 [==============================] - 144s 2ms/step - loss: 0.0018 - accuracy: 0.9994\n",
      "Epoch 2/10\n",
      "66247/66247 [==============================] - 143s 2ms/step - loss: 0.0017 - accuracy: 0.9995\n",
      "Epoch 3/10\n",
      "66247/66247 [==============================] - 148s 2ms/step - loss: 0.0015 - accuracy: 0.9996\n",
      "Epoch 4/10\n",
      "66247/66247 [==============================] - 145s 2ms/step - loss: 0.0014 - accuracy: 0.9996\n",
      "Epoch 5/10\n",
      "66247/66247 [==============================] - 143s 2ms/step - loss: 0.0012 - accuracy: 0.9996\n",
      "Epoch 6/10\n",
      "66247/66247 [==============================] - 145s 2ms/step - loss: 0.0011 - accuracy: 0.9997\n",
      "Epoch 7/10\n",
      "66247/66247 [==============================] - 146s 2ms/step - loss: 0.0010 - accuracy: 0.9997\n",
      "Epoch 8/10\n",
      "66247/66247 [==============================] - 144s 2ms/step - loss: 8.9727e-04 - accuracy: 0.9997\n",
      "Epoch 9/10\n",
      "66247/66247 [==============================] - 146s 2ms/step - loss: 8.1168e-04 - accuracy: 0.9998\n",
      "Epoch 10/10\n",
      "66247/66247 [==============================] - 143s 2ms/step - loss: 7.1085e-04 - accuracy: 0.9998\n"
     ]
    },
    {
     "data": {
      "text/plain": [
       "<keras.callbacks.callbacks.History at 0x2a1f5751b48>"
      ]
     },
     "execution_count": 9,
     "metadata": {},
     "output_type": "execute_result"
    },
    {
     "name": "stdout",
     "output_type": "stream",
     "text": [
      "accuracy_score 0.9993575374722637\n",
      "recall_score 0.7222222222222222\n",
      "precision_score 0.8351177730192719\n",
      "f1_score 0.7745779543197616\n",
      "Model: \"model_3\"\n",
      "_________________________________________________________________\n",
      "Layer (type)                 Output Shape              Param #   \n",
      "=================================================================\n",
      "input_1 (InputLayer)         (None, 48, 256)           0         \n",
      "_________________________________________________________________\n",
      "bidirectional_1 (Bidirection (None, 48, 96)            117120    \n",
      "_________________________________________________________________\n",
      "time_distributed_1 (TimeDist (None, 48, 1)             97        \n",
      "=================================================================\n",
      "Total params: 117,217\n",
      "Trainable params: 117,217\n",
      "Non-trainable params: 0\n",
      "_________________________________________________________________\n",
      "======Training stage======\n",
      "Epoch 1/10\n",
      "66247/66247 [==============================] - 151s 2ms/step - loss: 8.6242e-04 - accuracy: 0.9997\n",
      "Epoch 2/10\n",
      "66247/66247 [==============================] - 149s 2ms/step - loss: 7.3794e-04 - accuracy: 0.9998\n",
      "Epoch 3/10\n",
      "66247/66247 [==============================] - 147s 2ms/step - loss: 6.4668e-04 - accuracy: 0.9998\n",
      "Epoch 4/10\n",
      "66247/66247 [==============================] - 152s 2ms/step - loss: 5.6755e-04 - accuracy: 0.9998\n",
      "Epoch 5/10\n",
      "66247/66247 [==============================] - 150s 2ms/step - loss: 4.8609e-04 - accuracy: 0.9999\n",
      "Epoch 6/10\n",
      "66247/66247 [==============================] - 146s 2ms/step - loss: 4.3141e-04 - accuracy: 0.9999\n",
      "Epoch 7/10\n",
      "66247/66247 [==============================] - 147s 2ms/step - loss: 3.7085e-04 - accuracy: 0.9999\n",
      "Epoch 8/10\n",
      "66247/66247 [==============================] - 148s 2ms/step - loss: 3.4619e-04 - accuracy: 0.9999\n",
      "Epoch 9/10\n",
      "66247/66247 [==============================] - 148s 2ms/step - loss: 2.8921e-04 - accuracy: 0.9999\n",
      "Epoch 10/10\n",
      "66247/66247 [==============================] - 144s 2ms/step - loss: 2.6217e-04 - accuracy: 0.9999\n"
     ]
    },
    {
     "data": {
      "text/plain": [
       "<keras.callbacks.callbacks.History at 0x2a1c25fc848>"
      ]
     },
     "execution_count": 9,
     "metadata": {},
     "output_type": "execute_result"
    },
    {
     "name": "stdout",
     "output_type": "stream",
     "text": [
      "accuracy_score 0.9995698048272427\n",
      "recall_score 0.8584905660377359\n",
      "precision_score 0.8552631578947368\n",
      "f1_score 0.856873822975518\n",
      "Model: \"model_4\"\n",
      "_________________________________________________________________\n",
      "Layer (type)                 Output Shape              Param #   \n",
      "=================================================================\n",
      "input_1 (InputLayer)         (None, 48, 256)           0         \n",
      "_________________________________________________________________\n",
      "bidirectional_1 (Bidirection (None, 48, 96)            117120    \n",
      "_________________________________________________________________\n",
      "time_distributed_1 (TimeDist (None, 48, 1)             97        \n",
      "=================================================================\n",
      "Total params: 117,217\n",
      "Trainable params: 117,217\n",
      "Non-trainable params: 0\n",
      "_________________________________________________________________\n",
      "======Training stage======\n",
      "Epoch 1/10\n",
      "66247/66247 [==============================] - 150s 2ms/step - loss: 4.3084e-04 - accuracy: 0.9999\n",
      "Epoch 2/10\n",
      "66247/66247 [==============================] - 150s 2ms/step - loss: 3.5781e-04 - accuracy: 0.9999\n",
      "Epoch 3/10\n",
      "66247/66247 [==============================] - 148s 2ms/step - loss: 2.9151e-04 - accuracy: 0.9999\n",
      "Epoch 4/10\n",
      "66247/66247 [==============================] - 154s 2ms/step - loss: 2.3260e-04 - accuracy: 0.9999\n",
      "Epoch 5/10\n",
      "66247/66247 [==============================] - 153s 2ms/step - loss: 2.2890e-04 - accuracy: 0.9999\n",
      "Epoch 6/10\n",
      "66247/66247 [==============================] - 149s 2ms/step - loss: 1.8395e-04 - accuracy: 0.9999\n",
      "Epoch 7/10\n",
      "66247/66247 [==============================] - 148s 2ms/step - loss: 1.5757e-04 - accuracy: 1.0000\n",
      "Epoch 8/10\n",
      "66247/66247 [==============================] - 150s 2ms/step - loss: 1.5122e-04 - accuracy: 1.0000\n",
      "Epoch 9/10\n",
      "66247/66247 [==============================] - 150s 2ms/step - loss: 1.3915e-04 - accuracy: 1.0000\n",
      "Epoch 10/10\n",
      "66247/66247 [==============================] - 151s 2ms/step - loss: 1.3724e-04 - accuracy: 1.0000\n"
     ]
    },
    {
     "data": {
      "text/plain": [
       "<keras.callbacks.callbacks.History at 0x2a1c3233a48>"
      ]
     },
     "execution_count": 9,
     "metadata": {},
     "output_type": "execute_result"
    },
    {
     "name": "stdout",
     "output_type": "stream",
     "text": [
      "accuracy_score 0.9997990535706199\n",
      "recall_score 0.9260042283298098\n",
      "precision_score 0.9240506329113924\n",
      "f1_score 0.9250263991552271\n",
      "Model: \"model_5\"\n",
      "_________________________________________________________________\n",
      "Layer (type)                 Output Shape              Param #   \n",
      "=================================================================\n",
      "input_1 (InputLayer)         (None, 48, 256)           0         \n",
      "_________________________________________________________________\n",
      "bidirectional_1 (Bidirection (None, 48, 96)            117120    \n",
      "_________________________________________________________________\n",
      "time_distributed_1 (TimeDist (None, 48, 1)             97        \n",
      "=================================================================\n",
      "Total params: 117,217\n",
      "Trainable params: 117,217\n",
      "Non-trainable params: 0\n",
      "_________________________________________________________________\n",
      "======Training stage======\n",
      "Epoch 1/10\n",
      "66247/66247 [==============================] - 152s 2ms/step - loss: 2.0670e-04 - accuracy: 0.9999\n",
      "Epoch 2/10\n",
      "66247/66247 [==============================] - 148s 2ms/step - loss: 1.5663e-04 - accuracy: 1.0000\n",
      "Epoch 3/10\n",
      "66247/66247 [==============================] - 145s 2ms/step - loss: 1.1655e-04 - accuracy: 1.0000\n",
      "Epoch 4/10\n",
      "66247/66247 [==============================] - 147s 2ms/step - loss: 1.0580e-04 - accuracy: 1.0000\n",
      "Epoch 5/10\n",
      "66247/66247 [==============================] - 146s 2ms/step - loss: 1.0320e-04 - accuracy: 1.0000\n",
      "Epoch 6/10\n",
      "66247/66247 [==============================] - 148s 2ms/step - loss: 9.0465e-05 - accuracy: 1.0000\n",
      "Epoch 7/10\n",
      "66247/66247 [==============================] - 147s 2ms/step - loss: 6.4544e-05 - accuracy: 1.0000\n",
      "Epoch 8/10\n",
      "66247/66247 [==============================] - 148s 2ms/step - loss: 7.8670e-05 - accuracy: 1.0000\n",
      "Epoch 9/10\n",
      "66247/66247 [==============================] - 147s 2ms/step - loss: 6.7095e-05 - accuracy: 1.0000\n",
      "Epoch 10/10\n",
      "66247/66247 [==============================] - 147s 2ms/step - loss: 6.6843e-05 - accuracy: 1.0000\n"
     ]
    },
    {
     "data": {
      "text/plain": [
       "<keras.callbacks.callbacks.History at 0x2a1c3d90a48>"
      ]
     },
     "execution_count": 9,
     "metadata": {},
     "output_type": "execute_result"
    },
    {
     "name": "stdout",
     "output_type": "stream",
     "text": [
      "accuracy_score 0.9998811302812118\n",
      "recall_score 0.9381443298969072\n",
      "precision_score 0.974304068522484\n",
      "f1_score 0.9558823529411765\n",
      "Model: \"model_6\"\n",
      "_________________________________________________________________\n",
      "Layer (type)                 Output Shape              Param #   \n",
      "=================================================================\n",
      "input_1 (InputLayer)         (None, 48, 256)           0         \n",
      "_________________________________________________________________\n",
      "bidirectional_1 (Bidirection (None, 48, 96)            117120    \n",
      "_________________________________________________________________\n",
      "time_distributed_1 (TimeDist (None, 48, 1)             97        \n",
      "=================================================================\n",
      "Total params: 117,217\n",
      "Trainable params: 117,217\n",
      "Non-trainable params: 0\n",
      "_________________________________________________________________\n",
      "======Training stage======\n",
      "Epoch 1/10\n",
      "66247/66247 [==============================] - 152s 2ms/step - loss: 1.3089e-04 - accuracy: 1.0000\n",
      "Epoch 2/10\n",
      "66247/66247 [==============================] - 126s 2ms/step - loss: 7.3961e-05 - accuracy: 1.0000\n",
      "Epoch 3/10\n",
      "66247/66247 [==============================] - 107s 2ms/step - loss: 6.3670e-05 - accuracy: 1.0000\n",
      "Epoch 4/10\n",
      "66247/66247 [==============================] - 93s 1ms/step - loss: 5.8976e-05 - accuracy: 1.0000\n",
      "Epoch 5/10\n",
      "66247/66247 [==============================] - 84s 1ms/step - loss: 6.1186e-05 - accuracy: 1.0000\n",
      "Epoch 6/10\n",
      "66247/66247 [==============================] - 85s 1ms/step - loss: 3.6559e-05 - accuracy: 1.0000\n",
      "Epoch 7/10\n",
      "66247/66247 [==============================] - 85s 1ms/step - loss: 3.7344e-05 - accuracy: 1.0000\n",
      "Epoch 8/10\n",
      "66247/66247 [==============================] - 85s 1ms/step - loss: 4.2578e-05 - accuracy: 1.0000\n",
      "Epoch 9/10\n",
      "66247/66247 [==============================] - 84s 1ms/step - loss: 3.9199e-05 - accuracy: 1.0000\n",
      "Epoch 10/10\n",
      "66247/66247 [==============================] - 85s 1ms/step - loss: 3.6839e-05 - accuracy: 1.0000\n"
     ]
    },
    {
     "data": {
      "text/plain": [
       "<keras.callbacks.callbacks.History at 0x2a1c58ae888>"
      ]
     },
     "execution_count": 9,
     "metadata": {},
     "output_type": "execute_result"
    },
    {
     "name": "stdout",
     "output_type": "stream",
     "text": [
      "accuracy_score 0.999909432595209\n",
      "recall_score 0.9530956848030019\n",
      "precision_score 0.9864077669902913\n",
      "f1_score 0.9694656488549619\n",
      "Model: \"model_7\"\n",
      "_________________________________________________________________\n",
      "Layer (type)                 Output Shape              Param #   \n",
      "=================================================================\n",
      "input_1 (InputLayer)         (None, 48, 256)           0         \n",
      "_________________________________________________________________\n",
      "bidirectional_1 (Bidirection (None, 48, 96)            117120    \n",
      "_________________________________________________________________\n",
      "time_distributed_1 (TimeDist (None, 48, 1)             97        \n",
      "=================================================================\n",
      "Total params: 117,217\n",
      "Trainable params: 117,217\n",
      "Non-trainable params: 0\n",
      "_________________________________________________________________\n",
      "======Training stage======\n",
      "Epoch 1/10\n",
      "66247/66247 [==============================] - 93s 1ms/step - loss: 9.0845e-05 - accuracy: 1.0000\n",
      "Epoch 2/10\n",
      "66247/66247 [==============================] - 90s 1ms/step - loss: 4.5684e-05 - accuracy: 1.0000\n",
      "Epoch 3/10\n",
      "66247/66247 [==============================] - 90s 1ms/step - loss: 4.3797e-05 - accuracy: 1.0000\n",
      "Epoch 4/10\n",
      "66247/66247 [==============================] - 89s 1ms/step - loss: 3.8408e-05 - accuracy: 1.0000\n",
      "Epoch 5/10\n",
      "66247/66247 [==============================] - 89s 1ms/step - loss: 4.5247e-05 - accuracy: 1.0000 1s - loss:\n",
      "Epoch 6/10\n",
      "66247/66247 [==============================] - 90s 1ms/step - loss: 3.8083e-05 - accuracy: 1.0000\n",
      "Epoch 7/10\n",
      "66247/66247 [==============================] - 90s 1ms/step - loss: 1.7941e-05 - accuracy: 1.0000\n",
      "Epoch 8/10\n",
      "66247/66247 [==============================] - 91s 1ms/step - loss: 3.0437e-05 - accuracy: 1.0000\n",
      "Epoch 9/10\n",
      "66247/66247 [==============================] - 90s 1ms/step - loss: 3.3094e-05 - accuracy: 1.0000\n",
      "Epoch 10/10\n",
      "66247/66247 [==============================] - 89s 1ms/step - loss: 1.5884e-05 - accuracy: 1.0000\n"
     ]
    },
    {
     "data": {
      "text/plain": [
       "<keras.callbacks.callbacks.History at 0x2a1c934ae88>"
      ]
     },
     "execution_count": 9,
     "metadata": {},
     "output_type": "execute_result"
    },
    {
     "name": "stdout",
     "output_type": "stream",
     "text": [
      "accuracy_score 0.9999547162976045\n",
      "recall_score 0.974\n",
      "precision_score 0.9938775510204082\n",
      "f1_score 0.9838383838383838\n",
      "Model: \"model_8\"\n",
      "_________________________________________________________________\n",
      "Layer (type)                 Output Shape              Param #   \n",
      "=================================================================\n",
      "input_1 (InputLayer)         (None, 48, 256)           0         \n",
      "_________________________________________________________________\n",
      "bidirectional_1 (Bidirection (None, 48, 96)            117120    \n",
      "_________________________________________________________________\n",
      "time_distributed_1 (TimeDist (None, 48, 1)             97        \n",
      "=================================================================\n",
      "Total params: 117,217\n",
      "Trainable params: 117,217\n",
      "Non-trainable params: 0\n",
      "_________________________________________________________________\n",
      "======Training stage======\n",
      "Epoch 1/10\n",
      "66247/66247 [==============================] - 92s 1ms/step - loss: 4.1069e-05 - accuracy: 1.0000A: - ETA: 18s - - ETA: \n",
      "Epoch 2/10\n",
      "66247/66247 [==============================] - 91s 1ms/step - loss: 2.7869e-05 - accuracy: 1.0000 2s - loss: 2.7675e -\n",
      "Epoch 3/10\n",
      "66247/66247 [==============================] - 92s 1ms/step - loss: 2.4275e-05 - accuracy: 1.0000\n",
      "Epoch 4/10\n",
      "66247/66247 [==============================] - 93s 1ms/step - loss: 3.9218e-05 - accuracy: 1.0000\n",
      "Epoch 5/10\n",
      "66247/66247 [==============================] - 93s 1ms/step - loss: 2.4131e-05 - accuracy: 1.0000 1s - loss: 2.3\n",
      "Epoch 6/10\n",
      "66247/66247 [==============================] - 93s 1ms/step - loss: 2.3823e-05 - accuracy: 1.0000 9s - loss: 1.9231e-05 - accuracy - - ETA: 6s - loss: 1.9793e-05 -  - ETA\n",
      "Epoch 7/10\n",
      "66247/66247 [==============================] - 93s 1ms/step - loss: 2.8377e-05 - accuracy: 1.0000\n",
      "Epoch 8/10\n",
      "66247/66247 [==============================] - 93s 1ms/step - loss: 2.7501e-05 - accuracy: 1.0000\n",
      "Epoch 9/10\n",
      "66247/66247 [==============================] - 92s 1ms/step - loss: 2.8461e-05 - accuracy: 1.0000\n",
      "Epoch 10/10\n",
      "66247/66247 [==============================] - 93s 1ms/step - loss: 1.8932e-05 - accuracy: 1.0000\n"
     ]
    },
    {
     "data": {
      "text/plain": [
       "<keras.callbacks.callbacks.History at 0x2a1cbe50208>"
      ]
     },
     "execution_count": 9,
     "metadata": {},
     "output_type": "execute_result"
    },
    {
     "name": "stdout",
     "output_type": "stream",
     "text": [
      "accuracy_score 0.999980188380202\n",
      "recall_score 0.9912739965095986\n",
      "precision_score 0.9964912280701754\n",
      "f1_score 0.9938757655293089\n",
      "Model: \"model_9\"\n",
      "_________________________________________________________________\n",
      "Layer (type)                 Output Shape              Param #   \n",
      "=================================================================\n",
      "input_1 (InputLayer)         (None, 48, 256)           0         \n",
      "_________________________________________________________________\n",
      "bidirectional_1 (Bidirection (None, 48, 96)            117120    \n",
      "_________________________________________________________________\n",
      "time_distributed_1 (TimeDist (None, 48, 1)             97        \n",
      "=================================================================\n",
      "Total params: 117,217\n",
      "Trainable params: 117,217\n",
      "Non-trainable params: 0\n",
      "_________________________________________________________________\n",
      "======Training stage======\n",
      "Epoch 1/10\n",
      "66248/66248 [==============================] - 95s 1ms/step - loss: 3.3515e-05 - accuracy: 1.0000\n",
      "Epoch 2/10\n",
      "66248/66248 [==============================] - 90s 1ms/step - loss: 1.9273e-05 - accuracy: 1.0000 0s - loss: 1.9436e-0\n",
      "Epoch 3/10\n",
      "66248/66248 [==============================] - 92s 1ms/step - loss: 2.3851e-05 - accuracy: 1.0000\n",
      "Epoch 4/10\n",
      "66248/66248 [==============================] - 91s 1ms/step - loss: 1.9592e-05 - accuracy: 1.0000ETA: 0s - loss: 1.9743e-05 \n",
      "Epoch 5/10\n",
      "66248/66248 [==============================] - 91s 1ms/step - loss: 1.5626e-05 - accuracy: 1.0000 2s - loss: 1.6113e-05 \n",
      "Epoch 6/10\n",
      "66248/66248 [==============================] - 91s 1ms/step - loss: 1.9807e-05 - accuracy: 1.0000\n",
      "Epoch 7/10\n",
      "66248/66248 [==============================] - 91s 1ms/step - loss: 1.7592e-05 - accuracy: 1.0000\n",
      "Epoch 8/10\n",
      "66248/66248 [==============================] - 91s 1ms/step - loss: 1.4737e-05 - accuracy: 1.0000\n",
      "Epoch 9/10\n",
      "66248/66248 [==============================] - 91s 1ms/step - loss: 1.6727e-05 - accuracy: 1.0000\n",
      "Epoch 10/10\n",
      "66248/66248 [==============================] - 90s 1ms/step - loss: 1.1094e-05 - accuracy: 1.0000\n"
     ]
    },
    {
     "data": {
      "text/plain": [
       "<keras.callbacks.callbacks.History at 0x2a1cc93ed48>"
      ]
     },
     "execution_count": 9,
     "metadata": {},
     "output_type": "execute_result"
    },
    {
     "name": "stdout",
     "output_type": "stream",
     "text": [
      "accuracy_score 0.9999943387681159\n",
      "recall_score 0.9978858350951374\n",
      "precision_score 0.9978858350951374\n",
      "f1_score 0.9978858350951374\n",
      "Model: \"model_10\"\n",
      "_________________________________________________________________\n",
      "Layer (type)                 Output Shape              Param #   \n",
      "=================================================================\n",
      "input_1 (InputLayer)         (None, 48, 256)           0         \n",
      "_________________________________________________________________\n",
      "bidirectional_1 (Bidirection (None, 48, 96)            117120    \n",
      "_________________________________________________________________\n",
      "time_distributed_1 (TimeDist (None, 48, 1)             97        \n",
      "=================================================================\n",
      "Total params: 117,217\n",
      "Trainable params: 117,217\n",
      "Non-trainable params: 0\n",
      "_________________________________________________________________\n",
      "======Training stage======\n",
      "Epoch 1/10\n",
      "66248/66248 [==============================] - 102s 2ms/step - loss: 3.0115e-05 - accuracy: 1.0000\n",
      "Epoch 2/10\n",
      "66248/66248 [==============================] - 105s 2ms/step - loss: 2.5961e-05 - accuracy: 1.0000\n",
      "Epoch 3/10\n",
      "66248/66248 [==============================] - 105s 2ms/step - loss: 2.2027e-05 - accuracy: 1.0000\n",
      "Epoch 4/10\n",
      "66248/66248 [==============================] - 108s 2ms/step - loss: 2.4375e-05 - accuracy: 1.0000\n",
      "Epoch 5/10\n",
      "66248/66248 [==============================] - 106s 2ms/step - loss: 1.8650e-05 - accuracy: 1.0000\n",
      "Epoch 6/10\n",
      "66248/66248 [==============================] - 106s 2ms/step - loss: 8.7525e-06 - accuracy: 1.0000\n",
      "Epoch 7/10\n",
      "66248/66248 [==============================] - 106s 2ms/step - loss: 1.1818e-05 - accuracy: 1.0000\n",
      "Epoch 8/10\n",
      "66248/66248 [==============================] - 106s 2ms/step - loss: 6.4048e-06 - accuracy: 1.0000\n",
      "Epoch 9/10\n",
      "66248/66248 [==============================] - 106s 2ms/step - loss: 1.3367e-05 - accuracy: 1.0000\n",
      "Epoch 10/10\n",
      "66248/66248 [==============================] - 91s 1ms/step - loss: 9.8800e-06 - accuracy: 1.0000\n"
     ]
    },
    {
     "data": {
      "text/plain": [
       "<keras.callbacks.callbacks.History at 0x2a1cd46b1c8>"
      ]
     },
     "execution_count": 9,
     "metadata": {},
     "output_type": "execute_result"
    },
    {
     "name": "stdout",
     "output_type": "stream",
     "text": [
      "accuracy_score 0.9999915081521739\n",
      "recall_score 0.9981549815498155\n",
      "precision_score 0.996316758747698\n",
      "f1_score 0.9972350230414747\n",
      "\n",
      "K-fold cross validation Accuracy: [0.9991594212742834, 0.9993575374722637, 0.9995698048272427, 0.9997990535706199, 0.9998811302812118, 0.999909432595209, 0.9999547162976045, 0.999980188380202, 0.9999943387681159, 0.9999915081521739]\n",
      "\n",
      "K-fold cross validation Recall: [0.6728016359918201, 0.7222222222222222, 0.8584905660377359, 0.9260042283298098, 0.9381443298969072, 0.9530956848030019, 0.974, 0.9912739965095986, 0.9978858350951374, 0.9981549815498155]\n",
      "\n",
      "K-fold cross validation Precision: [0.7060085836909872, 0.8351177730192719, 0.8552631578947368, 0.9240506329113924, 0.974304068522484, 0.9864077669902913, 0.9938775510204082, 0.9964912280701754, 0.9978858350951374, 0.996316758747698]\n",
      "\n",
      "K-fold cross validation F1-Score: [0.6890052356020944, 0.7745779543197616, 0.856873822975518, 0.9250263991552271, 0.9558823529411765, 0.9694656488549619, 0.9838383838383838, 0.9938757655293089, 0.9978858350951374, 0.9972350230414747]\n"
     ]
    }
   ],
   "source": [
    "# 교차검증 kfold\n",
    "from sklearn.model_selection import KFold\n",
    "\n",
    "# Accuracy, Precision, Recall, F1-Score\n",
    "from sklearn.metrics import accuracy_score, recall_score, precision_score, f1_score\n",
    "\n",
    "# Confusion Matrix, ROC Curve\n",
    "from sklearn.metrics import confusion_matrix, roc_auc_score\n",
    "\n",
    "# 최종 평가지표들 평균용\n",
    "accuracy, recall, precision, f1score, cm = [], [], [], [], []\n",
    "\n",
    "# 11. 교차검증 kfold - k.split - 10회 / K-Fold 객체 생성\n",
    "# kf = KFold(n_splits=10, shuffle=False, random_state=None) # KFold non shuffle 버전\n",
    "kf = KFold(n_splits=10, shuffle=True, random_state=None) # KFold non shuffle 버전\n",
    "\n",
    "for train, validation in kf.split(x_gcc6_2_32_3, y_gcc6_2_32_3):\n",
    "    model1 = Model(xInput, xOutput)\n",
    "    model1.compile(loss='binary_crossentropy', optimizer='rmsprop', metrics=['accuracy'])\n",
    "    model1.summary()\n",
    "    print('======Training stage======')\n",
    "    model1.fit(x_gcc6_2_32_3[train],\n",
    "               y_gcc6_2_32_3[train],\n",
    "               epochs = 10,\n",
    "               batch_size = 32,\n",
    "               callbacks=[early_stopping])\n",
    "    #k_accuracy = '%.4f' %(model1.evaluate(data_10000x[validation], data_10000y[validation])[1])\n",
    "\n",
    "# 12. 교차검증결과 predict - 검증셋들\n",
    "    # predict 값\n",
    "    k_pr = model1.predict(x_gcc6_2_32_3[validation])\n",
    "    \n",
    "    # 테스트 predict 결과들 비교 (평가지표 보기위함)\n",
    "    pred = np.round(np.array(k_pr).flatten().tolist())\n",
    "    y_test = np.array(y_gcc6_2_32_3[validation]).flatten().tolist()\n",
    "    \n",
    "# 13. 평가지표들 출력\n",
    "    ## 평가지표들\n",
    "    k_accuracy = float(accuracy_score(y_test, pred))\n",
    "    k_recall =  float(recall_score(y_test, pred))\n",
    "    k_precision = float(precision_score(y_test, pred))\n",
    "    k_f1_score = float(f1_score(y_test, pred))\n",
    "    #k_cm = float(confusion_matrix(y_test, pred))\n",
    "    \n",
    "    print('accuracy_score', k_accuracy)\n",
    "    print('recall_score', k_recall)\n",
    "    print('precision_score', k_precision)\n",
    "    print('f1_score', k_f1_score)\n",
    "    #print('\\nconfusion_matrix\\n', k_cm)\n",
    "\n",
    "    accuracy.append(k_accuracy)\n",
    "    recall.append(k_recall)\n",
    "    precision.append(k_precision)\n",
    "    f1score.append(k_f1_score)\n",
    "    #cm.append(k_cm)\n",
    "#    print('roc_curve 면적', roc_auc_score(y_test, pred))\n",
    "\n",
    "# 14. 최종 결과지표\n",
    "print('\\nK-fold cross validation Accuracy: {}'.format(accuracy))\n",
    "print('\\nK-fold cross validation Recall: {}'.format(recall))\n",
    "print('\\nK-fold cross validation Precision: {}'.format(precision))\n",
    "print('\\nK-fold cross validation F1-Score: {}'.format(f1score))\n",
    "#print('\\nK-fold cross validation ConfusionMatrix: {}'.format(cm))"
   ]
  },
  {
   "cell_type": "markdown",
   "metadata": {},
   "source": [
    "## (9) 평가지표"
   ]
  },
  {
   "cell_type": "code",
   "execution_count": 10,
   "metadata": {},
   "outputs": [
    {
     "name": "stdout",
     "output_type": "stream",
     "text": [
      "10-Fold Cross_validation. Accuracy : 0.9997597131618928\n",
      "10-Fold Cross_validation. Recall : 0.9032073480436049\n",
      "10-Fold Cross_validation. Precision : 0.9265723355962583\n",
      "10-Fold Cross_validation. F1-Score : 0.9143666421353045\n"
     ]
    }
   ],
   "source": [
    "print('10-Fold Cross_validation. Accuracy :', np.mean(accuracy))\n",
    "print('10-Fold Cross_validation. Recall :', np.mean(recall))\n",
    "print('10-Fold Cross_validation. Precision :', np.mean(precision))\n",
    "print('10-Fold Cross_validation. F1-Score :', np.mean(f1score))"
   ]
  }
 ],
 "metadata": {
  "kernelspec": {
   "display_name": "Python 3",
   "language": "python",
   "name": "python3"
  },
  "language_info": {
   "codemirror_mode": {
    "name": "ipython",
    "version": 3
   },
   "file_extension": ".py",
   "mimetype": "text/x-python",
   "name": "python",
   "nbconvert_exporter": "python",
   "pygments_lexer": "ipython3",
   "version": "3.7.6"
  }
 },
 "nbformat": 4,
 "nbformat_minor": 4
}
