{
 "cells": [
  {
   "cell_type": "markdown",
   "metadata": {},
   "source": [
    "## RNN 모델 N-Byte 방식 (함수정보 포함 vs 미포함 => 1:1 비율)\n",
    "\n",
    "## (1) 데이터로드"
   ]
  },
  {
   "cell_type": "code",
   "execution_count": 1,
   "metadata": {},
   "outputs": [
    {
     "name": "stdout",
     "output_type": "stream",
     "text": [
      "(36693053, 2)\n",
      "shape - (36693053, 2)\n",
      "reset_index 완료\n",
      "input data shape\n"
     ]
    },
    {
     "data": {
      "text/html": [
       "<div>\n",
       "<style scoped>\n",
       "    .dataframe tbody tr th:only-of-type {\n",
       "        vertical-align: middle;\n",
       "    }\n",
       "\n",
       "    .dataframe tbody tr th {\n",
       "        vertical-align: top;\n",
       "    }\n",
       "\n",
       "    .dataframe thead th {\n",
       "        text-align: right;\n",
       "    }\n",
       "</style>\n",
       "<table border=\"1\" class=\"dataframe\">\n",
       "  <thead>\n",
       "    <tr style=\"text-align: right;\">\n",
       "      <th></th>\n",
       "      <th>bin</th>\n",
       "      <th>label</th>\n",
       "    </tr>\n",
       "  </thead>\n",
       "  <tbody>\n",
       "    <tr>\n",
       "      <th>0</th>\n",
       "      <td>47</td>\n",
       "      <td>0</td>\n",
       "    </tr>\n",
       "    <tr>\n",
       "      <th>1</th>\n",
       "      <td>108</td>\n",
       "      <td>0</td>\n",
       "    </tr>\n",
       "    <tr>\n",
       "      <th>2</th>\n",
       "      <td>105</td>\n",
       "      <td>0</td>\n",
       "    </tr>\n",
       "    <tr>\n",
       "      <th>3</th>\n",
       "      <td>98</td>\n",
       "      <td>0</td>\n",
       "    </tr>\n",
       "    <tr>\n",
       "      <th>4</th>\n",
       "      <td>54</td>\n",
       "      <td>0</td>\n",
       "    </tr>\n",
       "  </tbody>\n",
       "</table>\n",
       "</div>"
      ],
      "text/plain": [
       "   bin  label\n",
       "0   47      0\n",
       "1  108      0\n",
       "2  105      0\n",
       "3   98      0\n",
       "4   54      0"
      ]
     },
     "execution_count": 1,
     "metadata": {},
     "output_type": "execute_result"
    }
   ],
   "source": [
    "# (1) 데이터로드\n",
    "import pandas as pd\n",
    "import numpy as np\n",
    "\n",
    "import warnings\n",
    "warnings.filterwarnings(action='ignore')\n",
    "\n",
    "# 여러개 쳐도 나오게\n",
    "from IPython.core.interactiveshell import InteractiveShell\n",
    "InteractiveShell.ast_node_interactivity = \"all\"\n",
    "\n",
    "# 파일읽기\n",
    "bin9_3 = pd.read_csv(\"../../바이너리_최종데이터_1004/gcc9/o3/o3_bincore9.csv\", index_col=0)\n",
    "print(bin9_3.shape)\n",
    "\n",
    "# reset_index (hex processing 하면서 값이 빠졌으니까 + n_gram 에서 index를 다루기 때문에)\n",
    "bin9_3.reset_index(inplace=True, drop=True)\n",
    "\n",
    "print('shape -', bin9_3.shape)\n",
    "print('reset_index 완료')\n",
    "print('input data shape')\n",
    "bin9_3.head()"
   ]
  },
  {
   "cell_type": "code",
   "execution_count": 2,
   "metadata": {},
   "outputs": [
    {
     "name": "stdout",
     "output_type": "stream",
     "text": [
      "256\n",
      "0    36653758\n",
      "1       39295\n",
      "Name: label, dtype: int64\n"
     ]
    }
   ],
   "source": [
    "# (2-1) 데이터체크 1 - hex(16진수)가 256 label을 가져야 dummies 변환 가능 \n",
    "# 16진수 256개 종류가 있어서 pd.get_dummies 사용 가능.\n",
    "print(len(bin9_3['bin'].unique()))\n",
    "\n",
    "# (2-2) 데이터 체크 2 - 1, 0 비율 ==> 1이 함수의 갯수를 뜻함\n",
    "# 정답 데이터 1, 0 비율 확인  ==> 1이 함수의 갯수를 뜻함\n",
    "print(bin9_3['label'].value_counts())"
   ]
  },
  {
   "cell_type": "markdown",
   "metadata": {},
   "source": [
    "## (3) N Byte씩 자르기"
   ]
  },
  {
   "cell_type": "code",
   "execution_count": 3,
   "metadata": {},
   "outputs": [
    {
     "name": "stdout",
     "output_type": "stream",
     "text": [
      "7544640\n",
      "나머지 0\n",
      "최종 길이 7544640\n",
      "bin9_3 7544640\n"
     ]
    }
   ],
   "source": [
    "idx_bin = bin9_3[bin9_3['label']==1].index  # 407, 474 ...\n",
    "ls_bin = list(idx_bin)\n",
    "\n",
    "# 최종 뽑을 행에 대한 index\n",
    "ls_idx_bin = []\n",
    "\n",
    "# n byte 자르기 방식\n",
    "left_idx, right_idx = 0, 192 # 3개씩\n",
    "\n",
    "# n byte 자르기\n",
    "for k in range(left_idx, right_idx):\n",
    "    ls_idx_bin.extend(list(idx_bin + k)) # index 형이라서 가능\n",
    "\n",
    "#ls_idx = list(set(ls_idx)) \n",
    "ls_idx_bin.sort() # 인덱스 정렬\n",
    "\n",
    "# 1차 index 해당범위 초과한 것들 없애기\n",
    "ls_idx_bin = list(filter(lambda x: x<len(bin9_3), ls_idx_bin))\n",
    "print(len(ls_idx_bin))\n",
    "\n",
    "# 2차 남은 index들 중 right_idx 나눈 나머지 없애기\n",
    "sub_bin = len(ls_idx_bin)%(right_idx)\n",
    "print('나머지', sub_bin)\n",
    "\n",
    "ls_idx_bin = ls_idx_bin[:len(ls_idx_bin)-sub_bin]\n",
    "print('최종 길이', len(ls_idx_bin))\n",
    "\n",
    "print('bin9_3', len(ls_idx_bin))\n",
    "\n",
    "# loc 로 수정필요\n",
    "bin9_3_Ngram = bin9_3.loc[ls_idx_bin,:].copy()"
   ]
  },
  {
   "cell_type": "markdown",
   "metadata": {},
   "source": [
    "## (4) false data 만들기"
   ]
  },
  {
   "cell_type": "code",
   "execution_count": 4,
   "metadata": {},
   "outputs": [
    {
     "name": "stdout",
     "output_type": "stream",
     "text": [
      "39295.0\n",
      "0 2040442\n",
      "1000 14952485\n",
      "2000 34704575\n",
      "3000 27688221\n",
      "4000 17898118\n",
      "5000 27854902\n",
      "6000 14297312\n",
      "7000 1309971\n",
      "8000 164263\n",
      "9000 17507733\n",
      "10000 14336497\n",
      "11000 24569629\n",
      "12000 5914618\n",
      "13000 7321486\n",
      "14000 21740716\n",
      "15000 5785227\n",
      "16000 29922245\n",
      "17000 27044197\n",
      "18000 30114345\n",
      "19000 27465169\n",
      "20000 23591551\n",
      "21000 3536159\n",
      "22000 23351215\n",
      "23000 24098722\n",
      "24000 34603445\n",
      "25000 19784657\n",
      "26000 26179388\n",
      "27000 23265764\n",
      "28000 23899799\n",
      "29000 35180007\n",
      "30000 3548572\n",
      "31000 32816598\n",
      "32000 21987391\n",
      "33000 28294182\n",
      "34000 31187647\n",
      "35000 28567499\n",
      "36000 29465633\n",
      "37000 26127291\n",
      "38000 17734025\n",
      "39000 34107031\n",
      "완료\n",
      "39295\n"
     ]
    }
   ],
   "source": [
    "# false data 만들기 - False 데이터 랜덤 생성\n",
    "\n",
    "# 목표치\n",
    "goal_bin = len(bin9_3_Ngram)/right_idx\n",
    "count_bin = 0\n",
    "\n",
    "print(goal_bin)\n",
    "\n",
    "# 최종 데이터 Frame\n",
    "d_bin = pd.DataFrame(columns = bin9_3.columns)\n",
    "\n",
    "binutils_df = []\n",
    "# goal 에 도달할 때까지\n",
    "while True:\n",
    "    if (count_bin == goal_bin):\n",
    "            break\n",
    "    # 진행상황 살펴보기 위함\n",
    "            \n",
    "    # 랜덤 N 바이트씩 뽑음\n",
    "    # random index\n",
    "    random_idx_bin = np.random.randint(len(bin9_3)-right_idx)\n",
    "\n",
    "    if count_bin % 1000==0:\n",
    "        print(count_bin, end=' ')\n",
    "        print(random_idx_bin)\n",
    "\n",
    "    df_bin = bin9_3[random_idx_bin : random_idx_bin + right_idx]\n",
    "    \n",
    "    # 뽑은 index의 N 바이트 중에 1이 없는 경우만\n",
    "    if 1 not in df_bin['label'] and count_bin < goal_bin:\n",
    "        binutils_df.append(df_bin)\n",
    "        count_bin+=1\n",
    "\n",
    "print('완료')\n",
    "print(len(binutils_df))"
   ]
  },
  {
   "cell_type": "code",
   "execution_count": 5,
   "metadata": {},
   "outputs": [
    {
     "name": "stdout",
     "output_type": "stream",
     "text": [
      "39295\n",
      "39295\n"
     ]
    }
   ],
   "source": [
    "# True data와 False Data 같은지 체크\n",
    "print(len(binutils_df))\n",
    "print(bin9_3['label'].value_counts()[1])"
   ]
  },
  {
   "cell_type": "markdown",
   "metadata": {},
   "source": [
    "## (5) False Data + True Data 합치기"
   ]
  },
  {
   "cell_type": "code",
   "execution_count": 6,
   "metadata": {},
   "outputs": [
    {
     "data": {
      "text/plain": [
       "(15089280, 2)"
      ]
     },
     "execution_count": 6,
     "metadata": {},
     "output_type": "execute_result"
    }
   ],
   "source": [
    "f_data = pd.concat(binutils_df)\n",
    "final = pd.concat([f_data, bin9_3_Ngram])\n",
    "final.shape"
   ]
  },
  {
   "cell_type": "markdown",
   "metadata": {},
   "source": [
    "## (6) one hot encoding"
   ]
  },
  {
   "cell_type": "code",
   "execution_count": 7,
   "metadata": {},
   "outputs": [
    {
     "name": "stdout",
     "output_type": "stream",
     "text": [
      "원핫인코딩완료\n",
      "(15089280, 257)\n"
     ]
    }
   ],
   "source": [
    "# 훈련데이터 (gcc 최적화버전 0, 1, 2, 3 one hot encoding)\n",
    "bc9_3_onehot_Ngram = pd.get_dummies(final['bin'])\n",
    "bc9_3_onehot_Ngram = pd.concat([final['label'], bc9_3_onehot_Ngram], axis=1)\n",
    "\n",
    "print('원핫인코딩완료')\n",
    "print(bc9_3_onehot_Ngram.shape)"
   ]
  },
  {
   "cell_type": "code",
   "execution_count": 8,
   "metadata": {},
   "outputs": [
    {
     "name": "stdout",
     "output_type": "stream",
     "text": [
      "(15089280, 256) (15089280, 256)\n",
      "(78590, 192, 256) (78590, 192, 1)\n"
     ]
    }
   ],
   "source": [
    "# 훈련 데이터, 훈련 라벨\n",
    "x_bc9_3 = bc9_3_onehot_Ngram.iloc[:,1:].to_numpy()\n",
    "y_bc9_3 = bc9_3_onehot_Ngram['label'].to_numpy()\n",
    "print(x_bc9_3.shape, x_bc9_3.shape)\n",
    "\n",
    "x_bc9_3 = x_bc9_3.reshape(-1, right_idx, x_bc9_3.shape[1])\n",
    "y_bc9_3 = y_bc9_3.reshape(-1, right_idx, 1)\n",
    "\n",
    "print(x_bc9_3.shape, y_bc9_3.shape)"
   ]
  },
  {
   "cell_type": "code",
   "execution_count": 9,
   "metadata": {},
   "outputs": [
    {
     "name": "stdout",
     "output_type": "stream",
     "text": [
      "(78590, 192, 256) (78590, 192, 1)\n"
     ]
    }
   ],
   "source": [
    "# numpy 행, 열 섞기\n",
    "p = np.random.permutation(x_bc9_3.shape[0])\n",
    "\n",
    "x_bc9_3 = x_bc9_3[p]\n",
    "y_bc9_3 = y_bc9_3[p]\n",
    "\n",
    "print(x_bc9_3.shape, y_bc9_3.shape)"
   ]
  },
  {
   "cell_type": "code",
   "execution_count": 10,
   "metadata": {},
   "outputs": [],
   "source": [
    "np.save('x_bc9_3', x_bc9_3)\n",
    "np.save('y_bc9_3', y_bc9_3)"
   ]
  },
  {
   "cell_type": "markdown",
   "metadata": {},
   "source": [
    "## (7) 모델"
   ]
  },
  {
   "cell_type": "code",
   "execution_count": 11,
   "metadata": {},
   "outputs": [],
   "source": [
    "# (10) 양방향 LSTM 모델링 작업\n",
    "from tensorflow.keras import layers, models\n",
    "#from tf.keras.models import Model, Sequential\n",
    "#from tf.keras.layers import SimpleRNN, Input, Dense, LSTM\n",
    "#from tf.keras.layers import Bidirectional, TimeDistributed\n",
    "\n",
    "# 학습\n",
    "from tensorflow.keras.callbacks import EarlyStopping\n",
    "early_stopping = EarlyStopping(patience = 10) # 조기종료 콜백함수 정의\n",
    "\n",
    "xInput = layers.Input(batch_shape=(None,right_idx, 256)) \n",
    "xBiLstm = layers.Bidirectional(layers.LSTM(288, return_sequences=True, stateful=False), merge_mode = 'concat')(xInput)\n",
    "xOutput = layers.TimeDistributed(layers.Dense(1, activation ='sigmoid'))(xBiLstm) # 각 스텝에서 cost가 전송되고, 오류가 다음 step으로 전송됨."
   ]
  },
  {
   "cell_type": "markdown",
   "metadata": {},
   "source": [
    "## (8) 학습"
   ]
  },
  {
   "cell_type": "code",
   "execution_count": 12,
   "metadata": {},
   "outputs": [
    {
     "name": "stdout",
     "output_type": "stream",
     "text": [
      "Model: \"model\"\n",
      "_________________________________________________________________\n",
      "Layer (type)                 Output Shape              Param #   \n",
      "=================================================================\n",
      "input_1 (InputLayer)         [(None, 192, 256)]        0         \n",
      "_________________________________________________________________\n",
      "bidirectional (Bidirectional (None, 192, 576)          1255680   \n",
      "_________________________________________________________________\n",
      "time_distributed (TimeDistri (None, 192, 1)            577       \n",
      "=================================================================\n",
      "Total params: 1,256,257\n",
      "Trainable params: 1,256,257\n",
      "Non-trainable params: 0\n",
      "_________________________________________________________________\n",
      "======Training stage======\n",
      "Train on 55013 samples, validate on 23577 samples\n",
      "Epoch 1/500\n",
      "55013/55013 [==============================] - 74s 1ms/sample - loss: 0.0154 - accuracy: 0.9954 - val_loss: 0.0063 - val_accuracy: 0.9979\n",
      "Epoch 2/500\n",
      "55013/55013 [==============================] - 68s 1ms/sample - loss: 0.0046 - accuracy: 0.9985 - val_loss: 0.0038 - val_accuracy: 0.9988\n",
      "Epoch 3/500\n",
      "55013/55013 [==============================] - 68s 1ms/sample - loss: 0.0025 - accuracy: 0.9992 - val_loss: 0.0022 - val_accuracy: 0.9993\n",
      "Epoch 4/500\n",
      "55013/55013 [==============================] - 67s 1ms/sample - loss: 0.0017 - accuracy: 0.9995 - val_loss: 0.0016 - val_accuracy: 0.9995\n",
      "Epoch 5/500\n",
      "55013/55013 [==============================] - 68s 1ms/sample - loss: 0.0012 - accuracy: 0.9997 - val_loss: 0.0014 - val_accuracy: 0.9996\n",
      "Epoch 6/500\n",
      "55013/55013 [==============================] - 69s 1ms/sample - loss: 9.7547e-04 - accuracy: 0.9997 - val_loss: 0.0015 - val_accuracy: 0.9996\n",
      "Epoch 7/500\n",
      "55013/55013 [==============================] - 68s 1ms/sample - loss: 7.4898e-04 - accuracy: 0.9998 - val_loss: 9.4058e-04 - val_accuracy: 0.9997\n",
      "Epoch 8/500\n",
      "55013/55013 [==============================] - 69s 1ms/sample - loss: 6.2967e-04 - accuracy: 0.9998 - val_loss: 0.0011 - val_accuracy: 0.9997\n",
      "Epoch 9/500\n",
      "55013/55013 [==============================] - 69s 1ms/sample - loss: 5.0704e-04 - accuracy: 0.9999 - val_loss: 0.0010 - val_accuracy: 0.9998\n",
      "Epoch 10/500\n",
      "55013/55013 [==============================] - 69s 1ms/sample - loss: 4.9260e-04 - accuracy: 0.9999 - val_loss: 9.8896e-04 - val_accuracy: 0.9998\n",
      "Epoch 11/500\n",
      "55013/55013 [==============================] - 69s 1ms/sample - loss: 4.0172e-04 - accuracy: 0.9999 - val_loss: 0.0010 - val_accuracy: 0.9998\n",
      "Epoch 12/500\n",
      "55013/55013 [==============================] - 68s 1ms/sample - loss: 3.4871e-04 - accuracy: 0.9999 - val_loss: 9.9683e-04 - val_accuracy: 0.9998\n",
      "Epoch 13/500\n",
      "55013/55013 [==============================] - 69s 1ms/sample - loss: 2.9377e-04 - accuracy: 0.9999 - val_loss: 9.2752e-04 - val_accuracy: 0.9998\n",
      "Epoch 14/500\n",
      "55013/55013 [==============================] - 69s 1ms/sample - loss: 2.8906e-04 - accuracy: 0.9999 - val_loss: 0.0011 - val_accuracy: 0.9998\n",
      "Epoch 15/500\n",
      "55013/55013 [==============================] - 69s 1ms/sample - loss: 2.7383e-04 - accuracy: 0.9999 - val_loss: 8.2799e-04 - val_accuracy: 0.9998\n",
      "Epoch 16/500\n",
      "55013/55013 [==============================] - 69s 1ms/sample - loss: 2.0429e-04 - accuracy: 0.9999 - val_loss: 0.0012 - val_accuracy: 0.9998\n",
      "Epoch 17/500\n",
      "55013/55013 [==============================] - 69s 1ms/sample - loss: 1.9376e-04 - accuracy: 0.9999 - val_loss: 0.0011 - val_accuracy: 0.9998\n",
      "Epoch 18/500\n",
      "55013/55013 [==============================] - 68s 1ms/sample - loss: 1.8025e-04 - accuracy: 1.0000 - val_loss: 0.0012 - val_accuracy: 0.9998\n",
      "Epoch 19/500\n",
      "55013/55013 [==============================] - 69s 1ms/sample - loss: 1.7476e-04 - accuracy: 1.0000 - val_loss: 0.0011 - val_accuracy: 0.9998\n",
      "Epoch 20/500\n",
      "55013/55013 [==============================] - 69s 1ms/sample - loss: 1.2406e-04 - accuracy: 1.0000 - val_loss: 0.0014 - val_accuracy: 0.9998\n",
      "Epoch 21/500\n",
      "55013/55013 [==============================] - 68s 1ms/sample - loss: 1.2356e-04 - accuracy: 1.0000 - val_loss: 0.0011 - val_accuracy: 0.9998\n",
      "Epoch 22/500\n",
      "55013/55013 [==============================] - 68s 1ms/sample - loss: 1.5149e-04 - accuracy: 1.0000 - val_loss: 0.0011 - val_accuracy: 0.9998\n",
      "Epoch 23/500\n",
      "55013/55013 [==============================] - 69s 1ms/sample - loss: 1.3437e-04 - accuracy: 1.0000 - val_loss: 0.0011 - val_accuracy: 0.9998\n",
      "Epoch 24/500\n",
      "55013/55013 [==============================] - 68s 1ms/sample - loss: 8.4064e-05 - accuracy: 1.0000 - val_loss: 0.0011 - val_accuracy: 0.9998\n",
      "Epoch 25/500\n",
      "55013/55013 [==============================] - 68s 1ms/sample - loss: 8.0755e-05 - accuracy: 1.0000 - val_loss: 0.0014 - val_accuracy: 0.9998\n"
     ]
    },
    {
     "data": {
      "text/plain": [
       "<tensorflow.python.keras.callbacks.History at 0x2b4f97928c8>"
      ]
     },
     "execution_count": 12,
     "metadata": {},
     "output_type": "execute_result"
    },
    {
     "name": "stdout",
     "output_type": "stream",
     "text": [
      "걸린시간: 1721.5782721042633\n",
      "save 완료\n"
     ]
    }
   ],
   "source": [
    "model1 = models.Model(xInput, xOutput)\n",
    "model1.compile(loss='binary_crossentropy', optimizer='rmsprop', metrics=['accuracy'])\n",
    "model1.summary()\n",
    "\n",
    "import time\n",
    "print('======Training stage======')\n",
    "starttime = time.time()\n",
    "\n",
    "model1.fit(x_bc9_3,\n",
    "           y_bc9_3,\n",
    "           epochs = 500,\n",
    "           batch_size = 32,\n",
    "           validation_split=0.3,\n",
    "           callbacks=[early_stopping])\n",
    "\n",
    "endtime = time.time()\n",
    "\n",
    "print('걸린시간:', endtime - starttime)\n",
    "\n",
    "model1.save('gcc9_bin_core_s192_h288_o3.h5')\n",
    "print('save 완료')"
   ]
  }
 ],
 "metadata": {
  "kernelspec": {
   "display_name": "Python 3",
   "language": "python",
   "name": "python3"
  },
  "language_info": {
   "codemirror_mode": {
    "name": "ipython",
    "version": 3
   },
   "file_extension": ".py",
   "mimetype": "text/x-python",
   "name": "python",
   "nbconvert_exporter": "python",
   "pygments_lexer": "ipython3",
   "version": "3.7.7"
  }
 },
 "nbformat": 4,
 "nbformat_minor": 4
}
