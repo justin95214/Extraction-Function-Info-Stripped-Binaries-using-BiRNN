{
 "cells": [
  {
   "cell_type": "markdown",
   "metadata": {},
   "source": [
    "## RNN 모델 N-Byte 방식 (함수정보 포함 vs 미포함 => 1:1 비율)\n",
    "\n",
    "## (1) 데이터로드"
   ]
  },
  {
   "cell_type": "code",
   "execution_count": 1,
   "metadata": {},
   "outputs": [
    {
     "name": "stdout",
     "output_type": "stream",
     "text": [
      "(31820762, 2)\n",
      "shape - (31820762, 2)\n",
      "reset_index 완료\n",
      "input data shape\n"
     ]
    },
    {
     "data": {
      "text/html": [
       "<div>\n",
       "<style scoped>\n",
       "    .dataframe tbody tr th:only-of-type {\n",
       "        vertical-align: middle;\n",
       "    }\n",
       "\n",
       "    .dataframe tbody tr th {\n",
       "        vertical-align: top;\n",
       "    }\n",
       "\n",
       "    .dataframe thead th {\n",
       "        text-align: right;\n",
       "    }\n",
       "</style>\n",
       "<table border=\"1\" class=\"dataframe\">\n",
       "  <thead>\n",
       "    <tr style=\"text-align: right;\">\n",
       "      <th></th>\n",
       "      <th>bin</th>\n",
       "      <th>label</th>\n",
       "    </tr>\n",
       "  </thead>\n",
       "  <tbody>\n",
       "    <tr>\n",
       "      <th>0</th>\n",
       "      <td>47</td>\n",
       "      <td>0</td>\n",
       "    </tr>\n",
       "    <tr>\n",
       "      <th>1</th>\n",
       "      <td>108</td>\n",
       "      <td>0</td>\n",
       "    </tr>\n",
       "    <tr>\n",
       "      <th>2</th>\n",
       "      <td>105</td>\n",
       "      <td>0</td>\n",
       "    </tr>\n",
       "    <tr>\n",
       "      <th>3</th>\n",
       "      <td>98</td>\n",
       "      <td>0</td>\n",
       "    </tr>\n",
       "    <tr>\n",
       "      <th>4</th>\n",
       "      <td>54</td>\n",
       "      <td>0</td>\n",
       "    </tr>\n",
       "  </tbody>\n",
       "</table>\n",
       "</div>"
      ],
      "text/plain": [
       "   bin  label\n",
       "0   47      0\n",
       "1  108      0\n",
       "2  105      0\n",
       "3   98      0\n",
       "4   54      0"
      ]
     },
     "execution_count": 1,
     "metadata": {},
     "output_type": "execute_result"
    }
   ],
   "source": [
    "# (1) 데이터로드\n",
    "import pandas as pd\n",
    "import numpy as np\n",
    "\n",
    "import warnings\n",
    "warnings.filterwarnings(action='ignore')\n",
    "\n",
    "# 여러개 쳐도 나오게\n",
    "from IPython.core.interactiveshell import InteractiveShell\n",
    "InteractiveShell.ast_node_interactivity = \"all\"\n",
    "\n",
    "# 파일읽기\n",
    "bin7_1 = pd.read_csv(\"../../바이너리_최종데이터_1004/gcc7/o1/o1_bincore7.csv\", index_col=0)\n",
    "print(bin7_1.shape)\n",
    "\n",
    "# reset_index (hex processing 하면서 값이 빠졌으니까 + n_gram 에서 index를 다루기 때문에)\n",
    "bin7_1.reset_index(inplace=True, drop=True)\n",
    "\n",
    "print('shape -', bin7_1.shape)\n",
    "print('reset_index 완료')\n",
    "print('input data shape')\n",
    "bin7_1.head()"
   ]
  },
  {
   "cell_type": "code",
   "execution_count": 2,
   "metadata": {},
   "outputs": [
    {
     "name": "stdout",
     "output_type": "stream",
     "text": [
      "256\n",
      "0    31780864\n",
      "1       39898\n",
      "Name: label, dtype: int64\n"
     ]
    }
   ],
   "source": [
    "# (2-1) 데이터체크 1 - hex(16진수)가 256 label을 가져야 dummies 변환 가능 \n",
    "# 16진수 256개 종류가 있어서 pd.get_dummies 사용 가능.\n",
    "print(len(bin7_1['bin'].unique()))\n",
    "\n",
    "# (2-2) 데이터 체크 2 - 1, 0 비율 ==> 1이 함수의 갯수를 뜻함\n",
    "# 정답 데이터 1, 0 비율 확인  ==> 1이 함수의 갯수를 뜻함\n",
    "print(bin7_1['label'].value_counts())"
   ]
  },
  {
   "cell_type": "markdown",
   "metadata": {},
   "source": [
    "## (3) N Byte씩 자르기"
   ]
  },
  {
   "cell_type": "code",
   "execution_count": 3,
   "metadata": {},
   "outputs": [
    {
     "name": "stdout",
     "output_type": "stream",
     "text": [
      "7660416\n",
      "나머지 0\n",
      "최종 길이 7660416\n",
      "bin7_1 7660416\n"
     ]
    }
   ],
   "source": [
    "idx_bin = bin7_1[bin7_1['label']==1].index  # 407, 474 ...\n",
    "ls_bin = list(idx_bin)\n",
    "\n",
    "# 최종 뽑을 행에 대한 index\n",
    "ls_idx_bin = []\n",
    "\n",
    "# n byte 자르기 방식\n",
    "left_idx, right_idx = 0, 192 # 3개씩\n",
    "\n",
    "# n byte 자르기\n",
    "for k in range(left_idx, right_idx):\n",
    "    ls_idx_bin.extend(list(idx_bin + k)) # index 형이라서 가능\n",
    "\n",
    "#ls_idx = list(set(ls_idx)) \n",
    "ls_idx_bin.sort() # 인덱스 정렬\n",
    "\n",
    "# 1차 index 해당범위 초과한 것들 없애기\n",
    "ls_idx_bin = list(filter(lambda x: x<len(bin7_1), ls_idx_bin))\n",
    "print(len(ls_idx_bin))\n",
    "\n",
    "# 2차 남은 index들 중 right_idx 나눈 나머지 없애기\n",
    "sub_bin = len(ls_idx_bin)%(right_idx)\n",
    "print('나머지', sub_bin)\n",
    "\n",
    "ls_idx_bin = ls_idx_bin[:len(ls_idx_bin)-sub_bin]\n",
    "print('최종 길이', len(ls_idx_bin))\n",
    "\n",
    "print('bin7_1', len(ls_idx_bin))\n",
    "\n",
    "# loc 로 수정필요\n",
    "bin7_1_Ngram = bin7_1.loc[ls_idx_bin,:].copy()"
   ]
  },
  {
   "cell_type": "markdown",
   "metadata": {},
   "source": [
    "## (4) false data 만들기"
   ]
  },
  {
   "cell_type": "code",
   "execution_count": 4,
   "metadata": {},
   "outputs": [
    {
     "name": "stdout",
     "output_type": "stream",
     "text": [
      "39898.0\n",
      "0 4825104\n",
      "1000 31347140\n",
      "2000 1683860\n",
      "3000 8673937\n",
      "4000 8089656\n",
      "5000 18277100\n",
      "6000 407060\n",
      "7000 17385709\n",
      "8000 31609888\n",
      "9000 29707369\n",
      "10000 21390549\n",
      "11000 5230899\n",
      "12000 5785420\n",
      "13000 23333594\n",
      "14000 7323667\n",
      "15000 8972572\n",
      "16000 4471817\n",
      "17000 14665864\n",
      "18000 18135320\n",
      "19000 22184211\n",
      "20000 6270116\n",
      "21000 8605846\n",
      "22000 16748906\n",
      "23000 14958940\n",
      "24000 7891732\n",
      "25000 6327199\n",
      "26000 9695208\n",
      "27000 18652793\n",
      "28000 22799564\n",
      "29000 565821\n",
      "30000 9883299\n",
      "31000 31500341\n",
      "32000 26252947\n",
      "33000 18976342\n",
      "34000 10278451\n",
      "35000 22553355\n",
      "36000 16275571\n",
      "37000 4748022\n",
      "38000 853852\n",
      "39000 24684667\n",
      "완료\n",
      "39898\n"
     ]
    }
   ],
   "source": [
    "# false data 만들기 - False 데이터 랜덤 생성\n",
    "\n",
    "# 목표치\n",
    "goal_bin = len(bin7_1_Ngram)/right_idx\n",
    "count_bin = 0\n",
    "\n",
    "print(goal_bin)\n",
    "\n",
    "# 최종 데이터 Frame\n",
    "d_bin = pd.DataFrame(columns = bin7_1.columns)\n",
    "\n",
    "binutils_df = []\n",
    "# goal 에 도달할 때까지\n",
    "while True:\n",
    "    if (count_bin == goal_bin):\n",
    "            break\n",
    "    # 진행상황 살펴보기 위함\n",
    "            \n",
    "    # 랜덤 N 바이트씩 뽑음\n",
    "    # random index\n",
    "    random_idx_bin = np.random.randint(len(bin7_1)-right_idx)\n",
    "\n",
    "    if count_bin % 1000==0:\n",
    "        print(count_bin, end=' ')\n",
    "        print(random_idx_bin)\n",
    "\n",
    "    df_bin = bin7_1[random_idx_bin : random_idx_bin + right_idx]\n",
    "    \n",
    "    # 뽑은 index의 N 바이트 중에 1이 없는 경우만\n",
    "    if 1 not in df_bin['label'] and count_bin < goal_bin:\n",
    "        binutils_df.append(df_bin)\n",
    "        count_bin+=1\n",
    "\n",
    "print('완료')\n",
    "print(len(binutils_df))"
   ]
  },
  {
   "cell_type": "code",
   "execution_count": 5,
   "metadata": {},
   "outputs": [
    {
     "name": "stdout",
     "output_type": "stream",
     "text": [
      "39898\n",
      "39898\n"
     ]
    }
   ],
   "source": [
    "# True data와 False Data 같은지 체크\n",
    "print(len(binutils_df))\n",
    "print(bin7_1['label'].value_counts()[1])"
   ]
  },
  {
   "cell_type": "markdown",
   "metadata": {},
   "source": [
    "## (5) False Data + True Data 합치기"
   ]
  },
  {
   "cell_type": "code",
   "execution_count": 6,
   "metadata": {},
   "outputs": [
    {
     "data": {
      "text/plain": [
       "(15320832, 2)"
      ]
     },
     "execution_count": 6,
     "metadata": {},
     "output_type": "execute_result"
    }
   ],
   "source": [
    "f_data = pd.concat(binutils_df)\n",
    "final = pd.concat([f_data, bin7_1_Ngram])\n",
    "final.shape"
   ]
  },
  {
   "cell_type": "markdown",
   "metadata": {},
   "source": [
    "## (6) one hot encoding"
   ]
  },
  {
   "cell_type": "code",
   "execution_count": 7,
   "metadata": {},
   "outputs": [
    {
     "name": "stdout",
     "output_type": "stream",
     "text": [
      "원핫인코딩완료\n",
      "(15320832, 257)\n"
     ]
    }
   ],
   "source": [
    "# 훈련데이터 (gcc 최적화버전 0, 1, 2, 3 one hot encoding)\n",
    "bc7_1_onehot_Ngram = pd.get_dummies(final['bin'])\n",
    "bc7_1_onehot_Ngram = pd.concat([final['label'], bc7_1_onehot_Ngram], axis=1)\n",
    "\n",
    "print('원핫인코딩완료')\n",
    "print(bc7_1_onehot_Ngram.shape)"
   ]
  },
  {
   "cell_type": "code",
   "execution_count": 8,
   "metadata": {},
   "outputs": [
    {
     "name": "stdout",
     "output_type": "stream",
     "text": [
      "(15320832, 256) (15320832, 256)\n",
      "(79796, 192, 256) (79796, 192, 1)\n"
     ]
    }
   ],
   "source": [
    "# 훈련 데이터, 훈련 라벨\n",
    "x_bc7_1 = bc7_1_onehot_Ngram.iloc[:,1:].to_numpy()\n",
    "y_bc7_1 = bc7_1_onehot_Ngram['label'].to_numpy()\n",
    "print(x_bc7_1.shape, x_bc7_1.shape)\n",
    "\n",
    "x_bc7_1 = x_bc7_1.reshape(-1, right_idx, x_bc7_1.shape[1])\n",
    "y_bc7_1 = y_bc7_1.reshape(-1, right_idx, 1)\n",
    "\n",
    "print(x_bc7_1.shape, y_bc7_1.shape)"
   ]
  },
  {
   "cell_type": "code",
   "execution_count": 9,
   "metadata": {},
   "outputs": [
    {
     "name": "stdout",
     "output_type": "stream",
     "text": [
      "(79796, 192, 256) (79796, 192, 1)\n"
     ]
    }
   ],
   "source": [
    "# numpy 행, 열 섞기\n",
    "p = np.random.permutation(x_bc7_1.shape[0])\n",
    "\n",
    "x_bc7_1 = x_bc7_1[p]\n",
    "y_bc7_1 = y_bc7_1[p]\n",
    "\n",
    "print(x_bc7_1.shape, y_bc7_1.shape)"
   ]
  },
  {
   "cell_type": "code",
   "execution_count": 10,
   "metadata": {},
   "outputs": [],
   "source": [
    "np.save('x_bc7_1', x_bc7_1)\n",
    "np.save('y_bc7_1', y_bc7_1)"
   ]
  },
  {
   "cell_type": "markdown",
   "metadata": {},
   "source": [
    "## (7) 모델"
   ]
  },
  {
   "cell_type": "code",
   "execution_count": 11,
   "metadata": {},
   "outputs": [],
   "source": [
    "# (10) 양방향 LSTM 모델링 작업\n",
    "from tensorflow.keras import layers, models\n",
    "#from tf.keras.models import Model, Sequential\n",
    "#from tf.keras.layers import SimpleRNN, Input, Dense, LSTM\n",
    "#from tf.keras.layers import Bidirectional, TimeDistributed\n",
    "\n",
    "# 학습\n",
    "from tensorflow.keras.callbacks import EarlyStopping\n",
    "early_stopping = EarlyStopping(patience = 10) # 조기종료 콜백함수 정의\n",
    "\n",
    "xInput = layers.Input(batch_shape=(None,right_idx, 256)) \n",
    "xBiLstm = layers.Bidirectional(layers.LSTM(288, return_sequences=True, stateful=False), merge_mode = 'concat')(xInput)\n",
    "xOutput = layers.TimeDistributed(layers.Dense(1, activation ='sigmoid'))(xBiLstm) # 각 스텝에서 cost가 전송되고, 오류가 다음 step으로 전송됨."
   ]
  },
  {
   "cell_type": "markdown",
   "metadata": {},
   "source": [
    "## (8) 학습"
   ]
  },
  {
   "cell_type": "code",
   "execution_count": 12,
   "metadata": {},
   "outputs": [
    {
     "name": "stdout",
     "output_type": "stream",
     "text": [
      "Model: \"model\"\n",
      "_________________________________________________________________\n",
      "Layer (type)                 Output Shape              Param #   \n",
      "=================================================================\n",
      "input_1 (InputLayer)         [(None, 192, 256)]        0         \n",
      "_________________________________________________________________\n",
      "bidirectional (Bidirectional (None, 192, 576)          1255680   \n",
      "_________________________________________________________________\n",
      "time_distributed (TimeDistri (None, 192, 1)            577       \n",
      "=================================================================\n",
      "Total params: 1,256,257\n",
      "Trainable params: 1,256,257\n",
      "Non-trainable params: 0\n",
      "_________________________________________________________________\n",
      "======Training stage======\n",
      "Train on 55857 samples, validate on 23939 samples\n",
      "Epoch 1/500\n",
      "55857/55857 [==============================] - 76s 1ms/sample - loss: 0.0108 - accuracy: 0.9968 - val_loss: 0.0056 - val_accuracy: 0.9981\n",
      "Epoch 2/500\n",
      "55857/55857 [==============================] - 69s 1ms/sample - loss: 0.0027 - accuracy: 0.9992 - val_loss: 0.0019 - val_accuracy: 0.9994\n",
      "Epoch 3/500\n",
      "55857/55857 [==============================] - 70s 1ms/sample - loss: 0.0015 - accuracy: 0.9995 - val_loss: 0.0015 - val_accuracy: 0.9995\n",
      "Epoch 4/500\n",
      "55857/55857 [==============================] - 69s 1ms/sample - loss: 0.0010 - accuracy: 0.9997 - val_loss: 8.7789e-04 - val_accuracy: 0.9997\n",
      "Epoch 5/500\n",
      "55857/55857 [==============================] - 69s 1ms/sample - loss: 7.2223e-04 - accuracy: 0.9998 - val_loss: 6.9610e-04 - val_accuracy: 0.9998\n",
      "Epoch 6/500\n",
      "55857/55857 [==============================] - 70s 1ms/sample - loss: 5.4900e-04 - accuracy: 0.9998 - val_loss: 7.2854e-04 - val_accuracy: 0.9998\n",
      "Epoch 7/500\n",
      "55857/55857 [==============================] - 70s 1ms/sample - loss: 4.4079e-04 - accuracy: 0.9999 - val_loss: 6.1228e-04 - val_accuracy: 0.9998\n",
      "Epoch 8/500\n",
      "55857/55857 [==============================] - 70s 1ms/sample - loss: 3.4987e-04 - accuracy: 0.9999 - val_loss: 5.8823e-04 - val_accuracy: 0.9998\n",
      "Epoch 9/500\n",
      "55857/55857 [==============================] - 70s 1ms/sample - loss: 2.7152e-04 - accuracy: 0.9999 - val_loss: 5.4814e-04 - val_accuracy: 0.9999\n",
      "Epoch 10/500\n",
      "55857/55857 [==============================] - 70s 1ms/sample - loss: 2.2437e-04 - accuracy: 0.9999 - val_loss: 6.1412e-04 - val_accuracy: 0.9999\n",
      "Epoch 11/500\n",
      "55857/55857 [==============================] - 69s 1ms/sample - loss: 1.8410e-04 - accuracy: 0.9999 - val_loss: 6.0660e-04 - val_accuracy: 0.9999\n",
      "Epoch 12/500\n",
      "55857/55857 [==============================] - 70s 1ms/sample - loss: 1.5942e-04 - accuracy: 1.0000 - val_loss: 5.5986e-04 - val_accuracy: 0.9999\n",
      "Epoch 13/500\n",
      "55857/55857 [==============================] - 70s 1ms/sample - loss: 1.3168e-04 - accuracy: 1.0000 - val_loss: 4.8492e-04 - val_accuracy: 0.9999\n",
      "Epoch 14/500\n",
      "55857/55857 [==============================] - 70s 1ms/sample - loss: 1.1444e-04 - accuracy: 1.0000 - val_loss: 5.4878e-04 - val_accuracy: 0.9999\n",
      "Epoch 15/500\n",
      "55857/55857 [==============================] - 70s 1ms/sample - loss: 8.4648e-05 - accuracy: 1.0000 - val_loss: 6.2698e-04 - val_accuracy: 0.9999\n",
      "Epoch 16/500\n",
      "55857/55857 [==============================] - 70s 1ms/sample - loss: 7.3384e-05 - accuracy: 1.0000 - val_loss: 5.7668e-04 - val_accuracy: 0.9999\n",
      "Epoch 17/500\n",
      "55857/55857 [==============================] - 70s 1ms/sample - loss: 6.4047e-05 - accuracy: 1.0000 - val_loss: 6.7855e-04 - val_accuracy: 0.9999\n",
      "Epoch 18/500\n",
      "55857/55857 [==============================] - 69s 1ms/sample - loss: 6.6987e-05 - accuracy: 1.0000 - val_loss: 5.7357e-04 - val_accuracy: 0.9999\n",
      "Epoch 19/500\n",
      "55857/55857 [==============================] - 70s 1ms/sample - loss: 5.6526e-05 - accuracy: 1.0000 - val_loss: 5.8626e-04 - val_accuracy: 0.9999\n",
      "Epoch 20/500\n",
      "55857/55857 [==============================] - 70s 1ms/sample - loss: 4.6359e-05 - accuracy: 1.0000 - val_loss: 5.8911e-04 - val_accuracy: 0.9999\n",
      "Epoch 21/500\n",
      "55857/55857 [==============================] - 70s 1ms/sample - loss: 4.6721e-05 - accuracy: 1.0000 - val_loss: 6.3731e-04 - val_accuracy: 0.9999\n",
      "Epoch 22/500\n",
      "55857/55857 [==============================] - 70s 1ms/sample - loss: 5.1098e-05 - accuracy: 1.0000 - val_loss: 5.3263e-04 - val_accuracy: 0.9999\n",
      "Epoch 23/500\n",
      "55857/55857 [==============================] - 70s 1ms/sample - loss: 3.3642e-05 - accuracy: 1.0000 - val_loss: 5.7422e-04 - val_accuracy: 0.9999\n"
     ]
    },
    {
     "data": {
      "text/plain": [
       "<tensorflow.python.keras.callbacks.History at 0x2aefb9068c8>"
      ]
     },
     "execution_count": 12,
     "metadata": {},
     "output_type": "execute_result"
    },
    {
     "name": "stdout",
     "output_type": "stream",
     "text": [
      "걸린시간: 1614.6625244617462\n",
      "save 완료\n"
     ]
    }
   ],
   "source": [
    "model1 = models.Model(xInput, xOutput)\n",
    "model1.compile(loss='binary_crossentropy', optimizer='rmsprop', metrics=['accuracy'])\n",
    "model1.summary()\n",
    "\n",
    "import time\n",
    "print('======Training stage======')\n",
    "starttime = time.time()\n",
    "\n",
    "model1.fit(x_bc7_1,\n",
    "           y_bc7_1,\n",
    "           epochs = 500,\n",
    "           batch_size = 32,\n",
    "           validation_split=0.3,\n",
    "           callbacks=[early_stopping])\n",
    "\n",
    "endtime = time.time()\n",
    "\n",
    "print('걸린시간:', endtime - starttime)\n",
    "\n",
    "model1.save('gcc7_bin_core_s192_h288_o1.h5')\n",
    "print('save 완료')"
   ]
  }
 ],
 "metadata": {
  "kernelspec": {
   "display_name": "Python 3",
   "language": "python",
   "name": "python3"
  },
  "language_info": {
   "codemirror_mode": {
    "name": "ipython",
    "version": 3
   },
   "file_extension": ".py",
   "mimetype": "text/x-python",
   "name": "python",
   "nbconvert_exporter": "python",
   "pygments_lexer": "ipython3",
   "version": "3.7.7"
  }
 },
 "nbformat": 4,
 "nbformat_minor": 4
}
