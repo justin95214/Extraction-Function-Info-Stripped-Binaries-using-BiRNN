{
 "cells": [
  {
   "cell_type": "markdown",
   "metadata": {},
   "source": [
    "## RNN 모델 N-Byte 방식 (함수정보 포함 vs 미포함 => 1:1 비율)\n",
    "\n",
    "## (1) 데이터로드"
   ]
  },
  {
   "cell_type": "code",
   "execution_count": 1,
   "metadata": {},
   "outputs": [
    {
     "name": "stdout",
     "output_type": "stream",
     "text": [
      "x1완료\n",
      "x2완료\n",
      "(333420, 192, 256) (333420, 192, 1)\n"
     ]
    }
   ],
   "source": [
    "# (1) 데이터로드\n",
    "import pandas as pd\n",
    "import numpy as np\n",
    "\n",
    "import warnings\n",
    "warnings.filterwarnings(action='ignore')\n",
    "\n",
    "# 여러개 쳐도 나오게\n",
    "from IPython.core.interactiveshell import InteractiveShell\n",
    "InteractiveShell.ast_node_interactivity = \"all\"\n",
    "\n",
    "# 파일읽기\n",
    "bincore7_0_x = np.load('x_bc7_0.npy')\n",
    "bincore7_1_x = np.load('x_bc7_1.npy')\n",
    "print('x1완료')\n",
    "\n",
    "bincore7_2_x = np.load('x_bc7_2.npy')\n",
    "bincore7_3_x = np.load('x_bc7_3.npy')\n",
    "print('x2완료')\n",
    "\n",
    "bincore7_0_y = np.load('y_bc7_0.npy')\n",
    "bincore7_1_y = np.load('y_bc7_1.npy')\n",
    "bincore7_2_y = np.load('y_bc7_2.npy')\n",
    "bincore7_3_y = np.load('y_bc7_3.npy')\n",
    "\n",
    "x_bincore7 = np.concatenate((bincore7_0_x, bincore7_1_x, bincore7_2_x, bincore7_3_x), axis=0)\n",
    "y_bincore7 = np.concatenate((bincore7_0_y, bincore7_1_y, bincore7_2_y, bincore7_3_y), axis=0)\n",
    "\n",
    "print(x_bincore7.shape, y_bincore7.shape)"
   ]
  },
  {
   "cell_type": "code",
   "execution_count": 2,
   "metadata": {},
   "outputs": [
    {
     "name": "stdout",
     "output_type": "stream",
     "text": [
      "(333420, 192, 256) (333420, 192, 1)\n"
     ]
    }
   ],
   "source": [
    "# numpy 행, 열 섞기\n",
    "p = np.random.permutation(x_bincore7.shape[0])\n",
    "\n",
    "x_bincore7 = x_bincore7[p]\n",
    "y_bincore7 = y_bincore7[p]\n",
    "\n",
    "print(x_bincore7.shape, y_bincore7.shape)"
   ]
  },
  {
   "cell_type": "markdown",
   "metadata": {},
   "source": [
    "## (7) 모델"
   ]
  },
  {
   "cell_type": "code",
   "execution_count": 3,
   "metadata": {},
   "outputs": [],
   "source": [
    "# (10) 양방향 LSTM 모델링 작업\n",
    "from tensorflow.keras import layers, models\n",
    "#from tf.keras.models import Model, Sequential\n",
    "#from tf.keras.layers import SimpleRNN, Input, Dense, LSTM\n",
    "#from tf.keras.layers import Bidirectional, TimeDistributed\n",
    "\n",
    "# 학습\n",
    "from tensorflow.keras.callbacks import EarlyStopping\n",
    "early_stopping = EarlyStopping(patience = 10) # 조기종료 콜백함수 정의\n",
    "\n",
    "xInput = layers.Input(batch_shape=(None,192, 256)) \n",
    "xBiLstm = layers.Bidirectional(layers.LSTM(288, return_sequences=True, stateful=False), merge_mode = 'concat')(xInput)\n",
    "xOutput = layers.TimeDistributed(layers.Dense(1, activation ='sigmoid'))(xBiLstm) # 각 스텝에서 cost가 전송되고, 오류가 다음 step으로 전송됨."
   ]
  },
  {
   "cell_type": "markdown",
   "metadata": {},
   "source": [
    "## (8) 학습"
   ]
  },
  {
   "cell_type": "code",
   "execution_count": 4,
   "metadata": {},
   "outputs": [
    {
     "name": "stdout",
     "output_type": "stream",
     "text": [
      "Model: \"model\"\n",
      "_________________________________________________________________\n",
      "Layer (type)                 Output Shape              Param #   \n",
      "=================================================================\n",
      "input_1 (InputLayer)         [(None, 192, 256)]        0         \n",
      "_________________________________________________________________\n",
      "bidirectional (Bidirectional (None, 192, 576)          1255680   \n",
      "_________________________________________________________________\n",
      "time_distributed (TimeDistri (None, 192, 1)            577       \n",
      "=================================================================\n",
      "Total params: 1,256,257\n",
      "Trainable params: 1,256,257\n",
      "Non-trainable params: 0\n",
      "_________________________________________________________________\n",
      "======Training stage======\n",
      "Train on 233393 samples, validate on 100027 samples\n",
      "Epoch 1/500\n",
      "233393/233393 [==============================] - 298s 1ms/sample - loss: 0.0043 - accuracy: 0.9987 - val_loss: 0.0013 - val_accuracy: 0.9996\n",
      "Epoch 2/500\n",
      "233393/233393 [==============================] - 296s 1ms/sample - loss: 0.0010 - accuracy: 0.9997 - val_loss: 7.4271e-04 - val_accuracy: 0.9998\n",
      "Epoch 3/500\n",
      "233393/233393 [==============================] - 295s 1ms/sample - loss: 6.1324e-04 - accuracy: 0.9998 - val_loss: 5.5784e-04 - val_accuracy: 0.9998\n",
      "Epoch 4/500\n",
      "233393/233393 [==============================] - 294s 1ms/sample - loss: 4.3450e-04 - accuracy: 0.9999 - val_loss: 4.4870e-04 - val_accuracy: 0.9999\n",
      "Epoch 5/500\n",
      "233393/233393 [==============================] - 293s 1ms/sample - loss: 3.2592e-04 - accuracy: 0.9999 - val_loss: 4.2103e-04 - val_accuracy: 0.9999\n",
      "Epoch 6/500\n",
      "233393/233393 [==============================] - 293s 1ms/sample - loss: 2.7080e-04 - accuracy: 0.9999 - val_loss: 4.0195e-04 - val_accuracy: 0.9999\n",
      "Epoch 7/500\n",
      "233393/233393 [==============================] - 294s 1ms/sample - loss: 2.2605e-04 - accuracy: 1.0000 - val_loss: 4.6178e-04 - val_accuracy: 0.9999\n",
      "Epoch 8/500\n",
      "233393/233393 [==============================] - 293s 1ms/sample - loss: 1.9530e-04 - accuracy: 1.0000 - val_loss: 4.4781e-04 - val_accuracy: 0.9999\n",
      "Epoch 9/500\n",
      "233393/233393 [==============================] - 294s 1ms/sample - loss: 1.5786e-04 - accuracy: 1.0000 - val_loss: 3.5430e-04 - val_accuracy: 0.9999\n",
      "Epoch 10/500\n",
      "233393/233393 [==============================] - 294s 1ms/sample - loss: 1.3678e-04 - accuracy: 1.0000 - val_loss: 3.6748e-04 - val_accuracy: 0.9999\n",
      "Epoch 11/500\n",
      "233393/233393 [==============================] - 294s 1ms/sample - loss: 1.2489e-04 - accuracy: 1.0000 - val_loss: 4.2971e-04 - val_accuracy: 0.9999\n",
      "Epoch 12/500\n",
      "233393/233393 [==============================] - 294s 1ms/sample - loss: 1.1498e-04 - accuracy: 1.0000 - val_loss: 3.5967e-04 - val_accuracy: 0.9999\n",
      "Epoch 13/500\n",
      "233393/233393 [==============================] - 294s 1ms/sample - loss: 1.0454e-04 - accuracy: 1.0000 - val_loss: 4.0539e-04 - val_accuracy: 0.9999\n",
      "Epoch 14/500\n",
      "233393/233393 [==============================] - 293s 1ms/sample - loss: 8.9176e-05 - accuracy: 1.0000 - val_loss: 4.0862e-04 - val_accuracy: 0.9999\n",
      "Epoch 15/500\n",
      "233393/233393 [==============================] - 298s 1ms/sample - loss: 8.7406e-05 - accuracy: 1.0000 - val_loss: 4.1338e-04 - val_accuracy: 0.9999\n",
      "Epoch 16/500\n",
      "233393/233393 [==============================] - 299s 1ms/sample - loss: 7.3100e-05 - accuracy: 1.0000 - val_loss: 4.1769e-04 - val_accuracy: 0.9999\n",
      "Epoch 17/500\n",
      "233393/233393 [==============================] - 294s 1ms/sample - loss: 7.7703e-05 - accuracy: 1.0000 - val_loss: 4.0458e-04 - val_accuracy: 0.9999\n",
      "Epoch 18/500\n",
      "233393/233393 [==============================] - 296s 1ms/sample - loss: 6.0080e-05 - accuracy: 1.0000 - val_loss: 4.7924e-04 - val_accuracy: 0.9999\n",
      "Epoch 19/500\n",
      "233393/233393 [==============================] - 287s 1ms/sample - loss: 5.6460e-05 - accuracy: 1.0000 - val_loss: 4.1594e-04 - val_accuracy: 0.9999\n"
     ]
    },
    {
     "data": {
      "text/plain": [
       "<tensorflow.python.keras.callbacks.History at 0x262f4acbdc8>"
      ]
     },
     "execution_count": 4,
     "metadata": {},
     "output_type": "execute_result"
    },
    {
     "name": "stdout",
     "output_type": "stream",
     "text": [
      "걸린시간: 5592.742951869965\n",
      "save 완료\n"
     ]
    }
   ],
   "source": [
    "\n",
    "model1 = models.Model(xInput, xOutput)\n",
    "model1.compile(loss='binary_crossentropy', optimizer='rmsprop', metrics=['accuracy'])\n",
    "model1.summary()\n",
    "\n",
    "import time\n",
    "print('======Training stage======')\n",
    "starttime = time.time()\n",
    "\n",
    "model1.fit(x_bincore7,\n",
    "           y_bincore7,\n",
    "           epochs = 500,\n",
    "           batch_size = 32,\n",
    "           validation_split=0.3,\n",
    "           callbacks=[early_stopping])\n",
    "\n",
    "endtime = time.time()\n",
    "\n",
    "print('걸린시간:', endtime - starttime)\n",
    "model1.save('gcc7_bin_core_s192_h288_o0123.h5')\n",
    "print('save 완료')"
   ]
  }
 ],
 "metadata": {
  "kernelspec": {
   "display_name": "Python 3",
   "language": "python",
   "name": "python3"
  },
  "language_info": {
   "codemirror_mode": {
    "name": "ipython",
    "version": 3
   },
   "file_extension": ".py",
   "mimetype": "text/x-python",
   "name": "python",
   "nbconvert_exporter": "python",
   "pygments_lexer": "ipython3",
   "version": "3.7.7"
  }
 },
 "nbformat": 4,
 "nbformat_minor": 4
}
