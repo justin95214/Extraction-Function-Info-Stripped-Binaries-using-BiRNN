{
 "cells": [
  {
   "cell_type": "code",
   "execution_count": 6,
   "metadata": {},
   "outputs": [
    {
     "data": {
      "text/plain": [
       "(13936744, 2)"
      ]
     },
     "execution_count": 6,
     "metadata": {},
     "output_type": "execute_result"
    }
   ],
   "source": [
    "# (1) 데이터로드\n",
    "import pandas as pd\n",
    "import numpy as np\n",
    "\n",
    "import warnings\n",
    "warnings.filterwarnings(action='ignore')\n",
    "\n",
    "# 여러개 쳐도 나오게\n",
    "from IPython.core.interactiveshell import InteractiveShell\n",
    "InteractiveShell.ast_node_interactivity = \"all\"\n",
    "\n",
    "# 파일읽기\n",
    "gcc6_0_32 = pd.read_csv(\"binutils_gcc3~9_exec_op0~4_csv/\"+'gcc6'+\"_0_32exec.csv\", index_col=0)\n",
    "gcc6_0_32.shape"
   ]
  },
  {
   "cell_type": "code",
   "execution_count": 8,
   "metadata": {},
   "outputs": [
    {
     "data": {
      "text/html": [
       "<div>\n",
       "<style scoped>\n",
       "    .dataframe tbody tr th:only-of-type {\n",
       "        vertical-align: middle;\n",
       "    }\n",
       "\n",
       "    .dataframe tbody tr th {\n",
       "        vertical-align: top;\n",
       "    }\n",
       "\n",
       "    .dataframe thead th {\n",
       "        text-align: right;\n",
       "    }\n",
       "</style>\n",
       "<table border=\"1\" class=\"dataframe\">\n",
       "  <thead>\n",
       "    <tr style=\"text-align: right;\">\n",
       "      <th></th>\n",
       "      <th>hex</th>\n",
       "      <th>bin</th>\n",
       "    </tr>\n",
       "  </thead>\n",
       "  <tbody>\n",
       "    <tr>\n",
       "      <th>1</th>\n",
       "      <td>53</td>\n",
       "      <td>1</td>\n",
       "    </tr>\n",
       "    <tr>\n",
       "      <th>2</th>\n",
       "      <td>83</td>\n",
       "      <td>0</td>\n",
       "    </tr>\n",
       "    <tr>\n",
       "      <th>3</th>\n",
       "      <td>ec</td>\n",
       "      <td>0</td>\n",
       "    </tr>\n",
       "    <tr>\n",
       "      <th>4</th>\n",
       "      <td>08</td>\n",
       "      <td>0</td>\n",
       "    </tr>\n",
       "    <tr>\n",
       "      <th>5</th>\n",
       "      <td>e8</td>\n",
       "      <td>0</td>\n",
       "    </tr>\n",
       "  </tbody>\n",
       "</table>\n",
       "</div>"
      ],
      "text/plain": [
       "  hex  bin\n",
       "1  53    1\n",
       "2  83    0\n",
       "3  ec    0\n",
       "4  08    0\n",
       "5  e8    0"
      ]
     },
     "execution_count": 8,
     "metadata": {},
     "output_type": "execute_result"
    }
   ],
   "source": [
    "gcc6_0_32.head()"
   ]
  },
  {
   "cell_type": "code",
   "execution_count": 9,
   "metadata": {},
   "outputs": [
    {
     "data": {
      "text/plain": [
       "0    13892354\n",
       "1       44390\n",
       "Name: bin, dtype: int64"
      ]
     },
     "execution_count": 9,
     "metadata": {},
     "output_type": "execute_result"
    }
   ],
   "source": [
    "gcc6_0_32['bin'].value_counts()"
   ]
  },
  {
   "cell_type": "code",
   "execution_count": 10,
   "metadata": {},
   "outputs": [
    {
     "name": "stdout",
     "output_type": "stream",
     "text": [
      "44390\n",
      "177560\n",
      "\n",
      "최종\n",
      "177560\n"
     ]
    }
   ],
   "source": [
    "# (5-1)  - 함수의 시작 기준 뒤 3gram\n",
    "\n",
    "# 데이터 index 뽑아내기\n",
    "idx6 = gcc6_0_32[gcc6_0_32['bin']==1].index\n",
    "ls6 = list(idx6);\n",
    "print(len(ls6))\n",
    "\n",
    "# 최종 뽑을 행에 대한 index\n",
    "ls_idx6 = []\n",
    "\n",
    "\n",
    "left_idx, right_idx = 0, 4 # 뒤 4개씩\n",
    "\n",
    "# 전체 index에 -10더한 index들 -9 더한 인덱스들, ~~~ 10더한 index들 다 합침.(extend)\n",
    "for k in range(left_idx, right_idx):\n",
    "    ls_idx6.extend(list(idx6 + k)) # index 형이라서 가능\n",
    "\n",
    "print(len(ls_idx6))\n",
    "\n",
    "# 정렬\n",
    "ls_idx6.sort(); \n",
    "\n",
    "print('\\n최종')\n",
    "print(len(ls_idx6))\n",
    "\n",
    "# 5 gram 변수\n",
    "gcc6_0_32_3gram = gcc6_0_32.loc[ls_idx6,:].copy()"
   ]
  },
  {
   "cell_type": "code",
   "execution_count": 11,
   "metadata": {},
   "outputs": [
    {
     "name": "stdout",
     "output_type": "stream",
     "text": [
      "(44390, 4)\n"
     ]
    }
   ],
   "source": [
    "x6 = gcc6_0_32_3gram['hex'].values\n",
    "df6 = x6.reshape((-1,right_idx))\n",
    "k6 = pd.DataFrame(df6);\n",
    "print(k6.shape)"
   ]
  },
  {
   "cell_type": "code",
   "execution_count": 14,
   "metadata": {},
   "outputs": [
    {
     "data": {
      "text/html": [
       "<div>\n",
       "<style scoped>\n",
       "    .dataframe tbody tr th:only-of-type {\n",
       "        vertical-align: middle;\n",
       "    }\n",
       "\n",
       "    .dataframe tbody tr th {\n",
       "        vertical-align: top;\n",
       "    }\n",
       "\n",
       "    .dataframe thead th {\n",
       "        text-align: right;\n",
       "    }\n",
       "</style>\n",
       "<table border=\"1\" class=\"dataframe\">\n",
       "  <thead>\n",
       "    <tr style=\"text-align: right;\">\n",
       "      <th></th>\n",
       "      <th>0</th>\n",
       "      <th>1</th>\n",
       "      <th>2</th>\n",
       "      <th>3</th>\n",
       "    </tr>\n",
       "  </thead>\n",
       "  <tbody>\n",
       "    <tr>\n",
       "      <th>0</th>\n",
       "      <td>1.0</td>\n",
       "      <td>0.0</td>\n",
       "      <td>0.0</td>\n",
       "      <td>0.0</td>\n",
       "    </tr>\n",
       "    <tr>\n",
       "      <th>1</th>\n",
       "      <td>1.0</td>\n",
       "      <td>0.0</td>\n",
       "      <td>0.0</td>\n",
       "      <td>0.0</td>\n",
       "    </tr>\n",
       "    <tr>\n",
       "      <th>2</th>\n",
       "      <td>1.0</td>\n",
       "      <td>0.0</td>\n",
       "      <td>0.0</td>\n",
       "      <td>0.0</td>\n",
       "    </tr>\n",
       "    <tr>\n",
       "      <th>3</th>\n",
       "      <td>1.0</td>\n",
       "      <td>0.0</td>\n",
       "      <td>0.0</td>\n",
       "      <td>0.0</td>\n",
       "    </tr>\n",
       "    <tr>\n",
       "      <th>4</th>\n",
       "      <td>1.0</td>\n",
       "      <td>0.0</td>\n",
       "      <td>0.0</td>\n",
       "      <td>0.0</td>\n",
       "    </tr>\n",
       "    <tr>\n",
       "      <th>...</th>\n",
       "      <td>...</td>\n",
       "      <td>...</td>\n",
       "      <td>...</td>\n",
       "      <td>...</td>\n",
       "    </tr>\n",
       "    <tr>\n",
       "      <th>44385</th>\n",
       "      <td>1.0</td>\n",
       "      <td>0.0</td>\n",
       "      <td>0.0</td>\n",
       "      <td>0.0</td>\n",
       "    </tr>\n",
       "    <tr>\n",
       "      <th>44386</th>\n",
       "      <td>1.0</td>\n",
       "      <td>0.0</td>\n",
       "      <td>0.0</td>\n",
       "      <td>0.0</td>\n",
       "    </tr>\n",
       "    <tr>\n",
       "      <th>44387</th>\n",
       "      <td>1.0</td>\n",
       "      <td>0.0</td>\n",
       "      <td>0.0</td>\n",
       "      <td>0.0</td>\n",
       "    </tr>\n",
       "    <tr>\n",
       "      <th>44388</th>\n",
       "      <td>1.0</td>\n",
       "      <td>0.0</td>\n",
       "      <td>0.0</td>\n",
       "      <td>0.0</td>\n",
       "    </tr>\n",
       "    <tr>\n",
       "      <th>44389</th>\n",
       "      <td>1.0</td>\n",
       "      <td>0.0</td>\n",
       "      <td>0.0</td>\n",
       "      <td>0.0</td>\n",
       "    </tr>\n",
       "  </tbody>\n",
       "</table>\n",
       "<p>44390 rows × 4 columns</p>\n",
       "</div>"
      ],
      "text/plain": [
       "         0    1    2    3\n",
       "0      1.0  0.0  0.0  0.0\n",
       "1      1.0  0.0  0.0  0.0\n",
       "2      1.0  0.0  0.0  0.0\n",
       "3      1.0  0.0  0.0  0.0\n",
       "4      1.0  0.0  0.0  0.0\n",
       "...    ...  ...  ...  ...\n",
       "44385  1.0  0.0  0.0  0.0\n",
       "44386  1.0  0.0  0.0  0.0\n",
       "44387  1.0  0.0  0.0  0.0\n",
       "44388  1.0  0.0  0.0  0.0\n",
       "44389  1.0  0.0  0.0  0.0\n",
       "\n",
       "[44390 rows x 4 columns]"
      ]
     },
     "execution_count": 14,
     "metadata": {},
     "output_type": "execute_result"
    }
   ],
   "source": [
    "# 체크\n",
    "label_value6 = gcc6_0_32_3gram['bin'].values\n",
    "label_value6 = label_value6.reshape((-1,right_idx))\n",
    "\n",
    "df_label_value6 = pd.DataFrame(label_value6)\n",
    "df_label_value6"
   ]
  },
  {
   "cell_type": "code",
   "execution_count": 16,
   "metadata": {},
   "outputs": [
    {
     "data": {
      "text/plain": [
       "1.0    44388\n",
       "0.0        2\n",
       "Name: 0, dtype: int64"
      ]
     },
     "execution_count": 16,
     "metadata": {},
     "output_type": "execute_result"
    }
   ],
   "source": [
    "df_label_value6[0].value_counts()"
   ]
  },
  {
   "cell_type": "code",
   "execution_count": 12,
   "metadata": {},
   "outputs": [
    {
     "name": "stdout",
     "output_type": "stream",
     "text": [
      "### gcc6 ###\n"
     ]
    },
    {
     "data": {
      "text/plain": [
       "55    24167\n",
       "8b     5571\n",
       "8d     5523\n",
       "83     4216\n",
       "ff     2018\n",
       "c7     1186\n",
       "b8      639\n",
       "90      403\n",
       "e8      187\n",
       "0f      185\n",
       "53      145\n",
       "81       72\n",
       "31       20\n",
       "f3       20\n",
       "29       16\n",
       "66       15\n",
       "89        4\n",
       "85        2\n",
       "c6        1\n",
       "Name: 0, dtype: int64"
      ]
     },
     "execution_count": 12,
     "metadata": {},
     "output_type": "execute_result"
    },
    {
     "data": {
      "text/plain": [
       "89    24098\n",
       "45     4893\n",
       "80     4562\n",
       "ec     2715\n",
       "a3     1956\n",
       "      ...  \n",
       "f5        1\n",
       "60        1\n",
       "cc        1\n",
       "ee        1\n",
       "8d        1\n",
       "Name: 1, Length: 134, dtype: int64"
      ]
     },
     "execution_count": 12,
     "metadata": {},
     "output_type": "execute_result"
    },
    {
     "data": {
      "text/plain": [
       "e5    24117\n",
       "08     2050\n",
       "0c     1827\n",
       "d0      936\n",
       "f0      746\n",
       "      ...  \n",
       "d3       10\n",
       "79        9\n",
       "12        8\n",
       "67        8\n",
       "ad        7\n",
       "Name: 2, Length: 256, dtype: int64"
      ]
     },
     "execution_count": 12,
     "metadata": {},
     "output_type": "execute_result"
    },
    {
     "data": {
      "text/plain": [
       "53    9711\n",
       "83    7277\n",
       "e8    4282\n",
       "00    2600\n",
       "8b    2134\n",
       "      ... \n",
       "70       1\n",
       "f8       1\n",
       "a1       1\n",
       "b1       1\n",
       "87       1\n",
       "Name: 3, Length: 248, dtype: int64"
      ]
     },
     "execution_count": 12,
     "metadata": {},
     "output_type": "execute_result"
    }
   ],
   "source": [
    "\n",
    "# k6\n",
    "print('### gcc6 ###')\n",
    "for i in range(0, right_idx):\n",
    "    k6[i].value_counts()\n",
    "    \n",
    "## => 결론 바이트는 비슷함. 실행파일 -o 파일 비슷햇음."
   ]
  },
  {
   "cell_type": "code",
   "execution_count": null,
   "metadata": {},
   "outputs": [],
   "source": []
  }
 ],
 "metadata": {
  "kernelspec": {
   "display_name": "Python 3",
   "language": "python",
   "name": "python3"
  },
  "language_info": {
   "codemirror_mode": {
    "name": "ipython",
    "version": 3
   },
   "file_extension": ".py",
   "mimetype": "text/x-python",
   "name": "python",
   "nbconvert_exporter": "python",
   "pygments_lexer": "ipython3",
   "version": "3.7.5"
  }
 },
 "nbformat": 4,
 "nbformat_minor": 4
}
