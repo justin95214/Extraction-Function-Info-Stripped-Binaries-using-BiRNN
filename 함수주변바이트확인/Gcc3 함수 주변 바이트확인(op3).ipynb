{
 "cells": [
  {
   "cell_type": "markdown",
   "metadata": {},
   "source": [
    "## 1. 데이터 로드"
   ]
  },
  {
   "cell_type": "code",
   "execution_count": 2,
   "metadata": {},
   "outputs": [
    {
     "name": "stdout",
     "output_type": "stream",
     "text": [
      "(2076717, 2)\n",
      "reset_index 완료\n",
      "input data shape\n"
     ]
    },
    {
     "data": {
      "text/html": [
       "<div>\n",
       "<style scoped>\n",
       "    .dataframe tbody tr th:only-of-type {\n",
       "        vertical-align: middle;\n",
       "    }\n",
       "\n",
       "    .dataframe tbody tr th {\n",
       "        vertical-align: top;\n",
       "    }\n",
       "\n",
       "    .dataframe thead th {\n",
       "        text-align: right;\n",
       "    }\n",
       "</style>\n",
       "<table border=\"1\" class=\"dataframe\">\n",
       "  <thead>\n",
       "    <tr style=\"text-align: right;\">\n",
       "      <th></th>\n",
       "      <th>bin</th>\n",
       "      <th>label</th>\n",
       "    </tr>\n",
       "  </thead>\n",
       "  <tbody>\n",
       "    <tr>\n",
       "      <th>0</th>\n",
       "      <td>55</td>\n",
       "      <td>1</td>\n",
       "    </tr>\n",
       "    <tr>\n",
       "      <th>1</th>\n",
       "      <td>89</td>\n",
       "      <td>0</td>\n",
       "    </tr>\n",
       "    <tr>\n",
       "      <th>2</th>\n",
       "      <td>e5</td>\n",
       "      <td>0</td>\n",
       "    </tr>\n",
       "    <tr>\n",
       "      <th>3</th>\n",
       "      <td>57</td>\n",
       "      <td>0</td>\n",
       "    </tr>\n",
       "    <tr>\n",
       "      <th>4</th>\n",
       "      <td>56</td>\n",
       "      <td>0</td>\n",
       "    </tr>\n",
       "  </tbody>\n",
       "</table>\n",
       "</div>"
      ],
      "text/plain": [
       "  bin  label\n",
       "0  55      1\n",
       "1  89      0\n",
       "2  e5      0\n",
       "3  57      0\n",
       "4  56      0"
      ]
     },
     "execution_count": 2,
     "metadata": {},
     "output_type": "execute_result"
    }
   ],
   "source": [
    "# (1) 데이터로드\n",
    "import pandas as pd\n",
    "import numpy as np\n",
    "\n",
    "import warnings\n",
    "warnings.filterwarnings(action='ignore')\n",
    "\n",
    "# 여러개 쳐도 나오게\n",
    "from IPython.core.interactiveshell import InteractiveShell\n",
    "InteractiveShell.ast_node_interactivity = \"all\"\n",
    "\n",
    "# 파일읽기\n",
    "gcc3_3_32 = pd.read_csv(\"../data/binutils_gcc3~9_op0~4_csv/\"+'gcc3'+\"_3_32.csv\", index_col=0)\n",
    "\n",
    "# 형태 출력\n",
    "print(gcc3_3_32.shape)\n",
    "\n",
    "# reset_index (hex processing 하면서 값이 빠졌으니까 + n_gram 에서 index를 다루기 때문에)\n",
    "gcc3_3_32.reset_index(inplace=True, drop=True)\n",
    "\n",
    "print('reset_index 완료')\n",
    "print('input data shape')\n",
    "gcc3_3_32.head()"
   ]
  },
  {
   "cell_type": "markdown",
   "metadata": {},
   "source": [
    "## 2. Data 확인"
   ]
  },
  {
   "cell_type": "code",
   "execution_count": 3,
   "metadata": {},
   "outputs": [
    {
     "data": {
      "text/plain": [
       "array([['55', 1],\n",
       "       ['89', 0],\n",
       "       ['e5', 0],\n",
       "       ...,\n",
       "       ['ec', 0],\n",
       "       ['5d', 0],\n",
       "       ['c3', 0]], dtype=object)"
      ]
     },
     "execution_count": 3,
     "metadata": {},
     "output_type": "execute_result"
    },
    {
     "name": "stdout",
     "output_type": "stream",
     "text": [
      "(2076717, 2)\n"
     ]
    },
    {
     "data": {
      "text/plain": [
       "0    2073836\n",
       "1       2881\n",
       "Name: label, dtype: int64"
      ]
     },
     "execution_count": 3,
     "metadata": {},
     "output_type": "execute_result"
    },
    {
     "data": {
      "text/plain": [
       "719.8320027768136"
      ]
     },
     "execution_count": 3,
     "metadata": {},
     "output_type": "execute_result"
    }
   ],
   "source": [
    "# DATA 모양 확인\n",
    "gcc3_3_32.values\n",
    "print(gcc3_3_32.shape)\n",
    "\n",
    "# 함수의 갯수\n",
    "gcc3_3_32['label'].value_counts()\n",
    "\n",
    "# 함수 평균길이\n",
    "gcc3_3_32['label'].value_counts()[0]/gcc3_3_32['label'].value_counts()[1]"
   ]
  },
  {
   "cell_type": "markdown",
   "metadata": {},
   "source": [
    "## 3. 함수의 갯수, 바이트 갯수의 빈공간 np.array 생성 "
   ]
  },
  {
   "cell_type": "code",
   "execution_count": 4,
   "metadata": {},
   "outputs": [
    {
     "data": {
      "text/plain": [
       "(2881, 70000)"
      ]
     },
     "execution_count": 4,
     "metadata": {},
     "output_type": "execute_result"
    },
    {
     "data": {
      "text/plain": [
       "dtype('O')"
      ]
     },
     "execution_count": 4,
     "metadata": {},
     "output_type": "execute_result"
    }
   ],
   "source": [
    "x = np.full((gcc3_3_32['label'].value_counts()[1],70000), None, dtype='object')\n",
    "x.shape\n",
    "x.dtype"
   ]
  },
  {
   "cell_type": "markdown",
   "metadata": {},
   "source": [
    "## 4. 함수 빈공간에 함수별로 한줄씩 값 대입"
   ]
  },
  {
   "cell_type": "code",
   "execution_count": 5,
   "metadata": {},
   "outputs": [
    {
     "name": "stdout",
     "output_type": "stream",
     "text": [
      "대입 완료\n"
     ]
    }
   ],
   "source": [
    "data = gcc3_3_32.values\n",
    "\n",
    "row = -1\n",
    "col = 0\n",
    "col_list=[]\n",
    "\n",
    "# data => [55,1], [89,1], [e5,1] ....\n",
    "for i in data:\n",
    "    # i[0] = 55, 89, e5... /  i[1] = 1, 0, 0, ....\n",
    "    if i[1]==1:\n",
    "        col_list.append(col) # col_list의 각 함수 길이들 넣는다.\n",
    "        \n",
    "        row+=1\n",
    "        col=0\n",
    "        x[row][col] = i[0]\n",
    "#        print(row,col, end='/') # 오류났을 때 풀어보면 몇번째 행에서 값을 초과하는지 알 수 있음.\n",
    "    else:\n",
    "        x[row][col+1] = i[0]\n",
    "        #if row >=1385:\n",
    "        #    print(row,col, end=' ')\n",
    "        col+=1\n",
    "    \n",
    "print('대입 완료')    "
   ]
  },
  {
   "cell_type": "code",
   "execution_count": 6,
   "metadata": {},
   "outputs": [
    {
     "data": {
      "text/plain": [
       "68801"
      ]
     },
     "execution_count": 6,
     "metadata": {},
     "output_type": "execute_result"
    }
   ],
   "source": [
    "max(col_list)"
   ]
  },
  {
   "cell_type": "markdown",
   "metadata": {},
   "source": [
    "## 5. 최적의 x 찾기"
   ]
  },
  {
   "cell_type": "code",
   "execution_count": 12,
   "metadata": {},
   "outputs": [
    {
     "data": {
      "text/plain": [
       "array([['55', '89', 'e5', '57', '56', '53'],\n",
       "       ['55', '89', 'e5', '56', '89', 'd6'],\n",
       "       ['55', '89', 'e5', '57', '56', '53'],\n",
       "       ...,\n",
       "       ['55', '89', 'e5', '53', '83', 'ec'],\n",
       "       ['55', '89', 'e5', '83', 'ec', '18'],\n",
       "       ['55', '89', 'e5', '83', 'ec', '18']], dtype=object)"
      ]
     },
     "execution_count": 12,
     "metadata": {},
     "output_type": "execute_result"
    },
    {
     "name": "stdout",
     "output_type": "stream",
     "text": [
      "3 gram일 때  77 쌍\n",
      "4 gram일 때  118 쌍\n",
      "5 gram일 때  140 쌍\n",
      "6 gram일 때  223 쌍\n"
     ]
    }
   ],
   "source": [
    "# 예시\n",
    "x[:, :6]\n",
    "#print(len(col_list),'\\n')\n",
    "\n",
    "# 최소 3gram ~ 7gram 까지확인\n",
    "for j in range(3, 7):\n",
    "    tuple_ls = []\n",
    "    for k in x[:, :j]:\n",
    "        tuple_ls.append(tuple(k))\n",
    "\n",
    "    set_ls = set(tuple_ls)\n",
    "    print(j, 'gram일 때 ', len(set_ls),'쌍')"
   ]
  },
  {
   "cell_type": "code",
   "execution_count": 9,
   "metadata": {},
   "outputs": [
    {
     "data": {
      "text/plain": [
       "[('0f', 'b6', '05'),\n",
       " ('0f', 'b6', '15'),\n",
       " ('55', '01', 'c2'),\n",
       " ('55', '0f', 'b7'),\n",
       " ('55', '31', 'c0'),\n",
       " ('55', '31', 'c9'),\n",
       " ('55', '31', 'd2'),\n",
       " ('55', '3d', 'e4'),\n",
       " ('55', '80', '3d'),\n",
       " ('55', '81', '3d'),\n",
       " ('55', '83', '25'),\n",
       " ('55', '83', '3d'),\n",
       " ('55', '83', 'c2'),\n",
       " ('55', '85', 'c0'),\n",
       " ('55', '89', 'c1'),\n",
       " ('55', '89', 'c2'),\n",
       " ('55', '89', 'd1'),\n",
       " ('55', '89', 'e5'),\n",
       " ('55', '8b', '0d'),\n",
       " ('55', '8b', '15'),\n",
       " ('55', 'a1', '00'),\n",
       " ('55', 'a1', '04'),\n",
       " ('55', 'a1', '08'),\n",
       " ('55', 'a1', '14'),\n",
       " ('55', 'a1', '24'),\n",
       " ('55', 'a1', '38'),\n",
       " ('55', 'a1', 'd4'),\n",
       " ('55', 'b8', '00'),\n",
       " ('55', 'b8', '01'),\n",
       " ('55', 'b8', '02'),\n",
       " ('55', 'b8', '03'),\n",
       " ('55', 'b8', '04'),\n",
       " ('55', 'b8', '08'),\n",
       " ('55', 'b8', '10'),\n",
       " ('55', 'b8', '20'),\n",
       " ('55', 'b8', '34'),\n",
       " ('55', 'b8', '55'),\n",
       " ('55', 'b8', '64'),\n",
       " ('55', 'b8', '75'),\n",
       " ('55', 'b8', '88'),\n",
       " ('55', 'b8', 'a6'),\n",
       " ('55', 'b8', 'a8'),\n",
       " ('55', 'b8', 'be'),\n",
       " ('55', 'b8', 'ea'),\n",
       " ('55', 'b8', 'fe'),\n",
       " ('55', 'b8', 'ff'),\n",
       " ('55', 'b9', '01'),\n",
       " ('55', 'b9', '10'),\n",
       " ('55', 'b9', '14'),\n",
       " ('55', 'b9', '1e'),\n",
       " ('55', 'b9', 'cd'),\n",
       " ('55', 'b9', 'ff'),\n",
       " ('55', 'ba', '00'),\n",
       " ('55', 'ba', '01'),\n",
       " ('55', 'ba', '02'),\n",
       " ('55', 'ba', '0f'),\n",
       " ('55', 'ba', '17'),\n",
       " ('55', 'ba', '30'),\n",
       " ('55', 'ba', '38'),\n",
       " ('55', 'ba', '56'),\n",
       " ('55', 'ba', 'cd'),\n",
       " ('55', 'ba', 'fe'),\n",
       " ('55', 'ba', 'ff'),\n",
       " ('55', 'c6', '05'),\n",
       " ('55', 'c7', '05'),\n",
       " ('55', 'd9', 'ee'),\n",
       " ('55', 'f6', '05'),\n",
       " ('55', 'fc', '31'),\n",
       " ('55', 'fc', '89'),\n",
       " ('55', 'fc', 'b9'),\n",
       " ('8b', '0d', '00'),\n",
       " ('8b', '0d', '0c'),\n",
       " ('8b', '15', '00'),\n",
       " ('a1', '00', '00'),\n",
       " ('a1', '04', '00'),\n",
       " ('a1', '10', '00'),\n",
       " ('a1', '38', '00')]"
      ]
     },
     "execution_count": 9,
     "metadata": {},
     "output_type": "execute_result"
    }
   ],
   "source": [
    "# 임의 테스트\n",
    "tls = []\n",
    "for t in x[:, :3]:\n",
    "    tls.append(tuple(t))\n",
    "    \n",
    "stls = set(tls)\n",
    "sorted(stls)"
   ]
  }
 ],
 "metadata": {
  "kernelspec": {
   "display_name": "Python 3",
   "language": "python",
   "name": "python3"
  },
  "language_info": {
   "codemirror_mode": {
    "name": "ipython",
    "version": 3
   },
   "file_extension": ".py",
   "mimetype": "text/x-python",
   "name": "python",
   "nbconvert_exporter": "python",
   "pygments_lexer": "ipython3",
   "version": "3.7.5"
  }
 },
 "nbformat": 4,
 "nbformat_minor": 4
}
