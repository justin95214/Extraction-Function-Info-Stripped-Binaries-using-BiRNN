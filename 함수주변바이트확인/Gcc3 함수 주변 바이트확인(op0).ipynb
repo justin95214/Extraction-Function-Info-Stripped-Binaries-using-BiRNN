{
 "cells": [
  {
   "cell_type": "markdown",
   "metadata": {},
   "source": [
    "## 1. 데이터 로드"
   ]
  },
  {
   "cell_type": "code",
   "execution_count": 3,
   "metadata": {},
   "outputs": [
    {
     "name": "stdout",
     "output_type": "stream",
     "text": [
      "(2129359, 2)\n",
      "reset_index 완료\n",
      "input data shape\n"
     ]
    },
    {
     "data": {
      "text/html": [
       "<div>\n",
       "<style scoped>\n",
       "    .dataframe tbody tr th:only-of-type {\n",
       "        vertical-align: middle;\n",
       "    }\n",
       "\n",
       "    .dataframe tbody tr th {\n",
       "        vertical-align: top;\n",
       "    }\n",
       "\n",
       "    .dataframe thead th {\n",
       "        text-align: right;\n",
       "    }\n",
       "</style>\n",
       "<table border=\"1\" class=\"dataframe\">\n",
       "  <thead>\n",
       "    <tr style=\"text-align: right;\">\n",
       "      <th></th>\n",
       "      <th>bin</th>\n",
       "      <th>label</th>\n",
       "    </tr>\n",
       "  </thead>\n",
       "  <tbody>\n",
       "    <tr>\n",
       "      <th>0</th>\n",
       "      <td>55</td>\n",
       "      <td>1</td>\n",
       "    </tr>\n",
       "    <tr>\n",
       "      <th>1</th>\n",
       "      <td>89</td>\n",
       "      <td>0</td>\n",
       "    </tr>\n",
       "    <tr>\n",
       "      <th>2</th>\n",
       "      <td>e5</td>\n",
       "      <td>0</td>\n",
       "    </tr>\n",
       "    <tr>\n",
       "      <th>3</th>\n",
       "      <td>83</td>\n",
       "      <td>0</td>\n",
       "    </tr>\n",
       "    <tr>\n",
       "      <th>4</th>\n",
       "      <td>ec</td>\n",
       "      <td>0</td>\n",
       "    </tr>\n",
       "  </tbody>\n",
       "</table>\n",
       "</div>"
      ],
      "text/plain": [
       "  bin  label\n",
       "0  55      1\n",
       "1  89      0\n",
       "2  e5      0\n",
       "3  83      0\n",
       "4  ec      0"
      ]
     },
     "execution_count": 3,
     "metadata": {},
     "output_type": "execute_result"
    }
   ],
   "source": [
    "# (1) 데이터로드\n",
    "import pandas as pd\n",
    "import numpy as np\n",
    "\n",
    "import warnings\n",
    "warnings.filterwarnings(action='ignore')\n",
    "\n",
    "# 여러개 쳐도 나오게\n",
    "from IPython.core.interactiveshell import InteractiveShell\n",
    "InteractiveShell.ast_node_interactivity = \"all\"\n",
    "\n",
    "# 파일읽기\n",
    "gcc3_0_32 = pd.read_csv(\"../data/binutils_gcc3~9_op0~4_csv/\"+'gcc3'+\"_0_32.csv\", index_col=0)\n",
    "\n",
    "# 형태 출력\n",
    "print(gcc3_0_32.shape)\n",
    "\n",
    "# reset_index (hex processing 하면서 값이 빠졌으니까 + n_gram 에서 index를 다루기 때문에)\n",
    "gcc3_0_32.reset_index(inplace=True, drop=True)\n",
    "\n",
    "print('reset_index 완료')\n",
    "print('input data shape')\n",
    "gcc3_0_32.head()"
   ]
  },
  {
   "cell_type": "markdown",
   "metadata": {},
   "source": [
    "## 2. Data 확인"
   ]
  },
  {
   "cell_type": "code",
   "execution_count": 4,
   "metadata": {},
   "outputs": [
    {
     "data": {
      "text/plain": [
       "array([['55', 1],\n",
       "       ['89', 0],\n",
       "       ['e5', 0],\n",
       "       ...,\n",
       "       ['fc', 0],\n",
       "       ['c9', 0],\n",
       "       ['c3', 0]], dtype=object)"
      ]
     },
     "execution_count": 4,
     "metadata": {},
     "output_type": "execute_result"
    },
    {
     "name": "stdout",
     "output_type": "stream",
     "text": [
      "(2129359, 2)\n"
     ]
    },
    {
     "data": {
      "text/plain": [
       "0    2125055\n",
       "1       4304\n",
       "Name: label, dtype: int64"
      ]
     },
     "execution_count": 4,
     "metadata": {},
     "output_type": "execute_result"
    },
    {
     "data": {
      "text/plain": [
       "493.7395446096654"
      ]
     },
     "execution_count": 4,
     "metadata": {},
     "output_type": "execute_result"
    }
   ],
   "source": [
    "# DATA 모양 확인\n",
    "gcc3_0_32.values\n",
    "print(gcc3_0_32.shape)\n",
    "\n",
    "# 함수의 갯수\n",
    "gcc3_0_32['label'].value_counts()\n",
    "\n",
    "# 함수 평균길이\n",
    "gcc3_0_32['label'].value_counts()[0]/gcc3_0_32['label'].value_counts()[1]"
   ]
  },
  {
   "cell_type": "markdown",
   "metadata": {},
   "source": [
    "## 3. 함수의 갯수, 바이트 갯수의 빈공간 np.array 생성 "
   ]
  },
  {
   "cell_type": "code",
   "execution_count": 5,
   "metadata": {},
   "outputs": [
    {
     "data": {
      "text/plain": [
       "(4304, 30000)"
      ]
     },
     "execution_count": 5,
     "metadata": {},
     "output_type": "execute_result"
    },
    {
     "data": {
      "text/plain": [
       "dtype('O')"
      ]
     },
     "execution_count": 5,
     "metadata": {},
     "output_type": "execute_result"
    }
   ],
   "source": [
    "x = np.full((gcc3_0_32['label'].value_counts()[1],30000), None, dtype='object')\n",
    "x.shape\n",
    "x.dtype"
   ]
  },
  {
   "cell_type": "markdown",
   "metadata": {},
   "source": [
    "## 4. 함수 빈공간에 함수별로 한줄씩 값 대입"
   ]
  },
  {
   "cell_type": "code",
   "execution_count": 6,
   "metadata": {},
   "outputs": [
    {
     "name": "stdout",
     "output_type": "stream",
     "text": [
      "대입 완료\n"
     ]
    }
   ],
   "source": [
    "data = gcc3_0_32.values\n",
    "\n",
    "row = -1\n",
    "col = 0\n",
    "col_list=[]\n",
    "\n",
    "# data => [55,1], [89,1], [e5,1] ....\n",
    "for i in data:\n",
    "    # i[0] = 55, 89, e5... /  i[1] = 1, 0, 0, ....\n",
    "    if i[1]==1:\n",
    "        col_list.append(col) # col_list의 각 함수 길이들 넣는다.\n",
    "        \n",
    "        row+=1\n",
    "        col=0\n",
    "        x[row][col] = i[0]\n",
    "#        print(row,col, end='/') # 오류났을 때 풀어보면 몇번째 행에서 값을 초과하는지 알 수 있음.\n",
    "    else:\n",
    "        x[row][col+1] = i[0]\n",
    "        #if row >=1385:\n",
    "        #    print(row,col, end=' ')\n",
    "        col+=1\n",
    "    \n",
    "print('대입 완료')    "
   ]
  },
  {
   "cell_type": "markdown",
   "metadata": {},
   "source": [
    "## 5. 최적의 x 찾기"
   ]
  },
  {
   "cell_type": "code",
   "execution_count": 14,
   "metadata": {},
   "outputs": [
    {
     "data": {
      "text/plain": [
       "array([['55', '89', 'e5', '83', 'ec', '28'],\n",
       "       ['55', '89', 'e5', '83', 'ec', '18'],\n",
       "       ['55', '89', 'e5', '83', 'ec', '18'],\n",
       "       ...,\n",
       "       ['55', '89', 'e5', '83', 'ec', '18'],\n",
       "       ['55', '89', 'e5', '83', 'ec', '18'],\n",
       "       ['55', '89', 'e5', '83', 'ec', '18']], dtype=object)"
      ]
     },
     "execution_count": 14,
     "metadata": {},
     "output_type": "execute_result"
    },
    {
     "name": "stdout",
     "output_type": "stream",
     "text": [
      "3 gram일 때  1 쌍\n",
      "4 gram일 때  13 쌍\n",
      "5 gram일 때  36 쌍\n",
      "6 gram일 때  99 쌍\n"
     ]
    }
   ],
   "source": [
    "# 예시\n",
    "x[:, :6]\n",
    "#print(len(col_list),'\\n')\n",
    "\n",
    "# 최소 3gram ~ 7gram 까지확인\n",
    "for j in range(3, 7):\n",
    "    tuple_ls = []\n",
    "    for k in x[:, :j]:\n",
    "        tuple_ls.append(tuple(k))\n",
    "\n",
    "    set_ls = set(tuple_ls)\n",
    "    print(j, 'gram일 때 ', len(set_ls), '쌍')"
   ]
  },
  {
   "cell_type": "code",
   "execution_count": 8,
   "metadata": {},
   "outputs": [
    {
     "name": "stdout",
     "output_type": "stream",
     "text": [
      "13 개\n"
     ]
    },
    {
     "data": {
      "text/plain": [
       "[('55', '89', 'e5', '0f'),\n",
       " ('55', '89', 'e5', '53'),\n",
       " ('55', '89', 'e5', '56'),\n",
       " ('55', '89', 'e5', '57'),\n",
       " ('55', '89', 'e5', '5d'),\n",
       " ('55', '89', 'e5', '81'),\n",
       " ('55', '89', 'e5', '83'),\n",
       " ('55', '89', 'e5', '8b'),\n",
       " ('55', '89', 'e5', 'a1'),\n",
       " ('55', '89', 'e5', 'b8'),\n",
       " ('55', '89', 'e5', 'c6'),\n",
       " ('55', '89', 'e5', 'c7'),\n",
       " ('55', '89', 'e5', 'e8')]"
      ]
     },
     "execution_count": 8,
     "metadata": {},
     "output_type": "execute_result"
    }
   ],
   "source": [
    "# 임의 테스트\n",
    "tls = []\n",
    "for t in x[:, :4]:\n",
    "    tls.append(tuple(t))\n",
    "    \n",
    "stls = set(tls)\n",
    "print(len(stls),'개')\n",
    "sorted(stls)"
   ]
  }
 ],
 "metadata": {
  "kernelspec": {
   "display_name": "Python 3",
   "language": "python",
   "name": "python3"
  },
  "language_info": {
   "codemirror_mode": {
    "name": "ipython",
    "version": 3
   },
   "file_extension": ".py",
   "mimetype": "text/x-python",
   "name": "python",
   "nbconvert_exporter": "python",
   "pygments_lexer": "ipython3",
   "version": "3.7.5"
  }
 },
 "nbformat": 4,
 "nbformat_minor": 4
}
