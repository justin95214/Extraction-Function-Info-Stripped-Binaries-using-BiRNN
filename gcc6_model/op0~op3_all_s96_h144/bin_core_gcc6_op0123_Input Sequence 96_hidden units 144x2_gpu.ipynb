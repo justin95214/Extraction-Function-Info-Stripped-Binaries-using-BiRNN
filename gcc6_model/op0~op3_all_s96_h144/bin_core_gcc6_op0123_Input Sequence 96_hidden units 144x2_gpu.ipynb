{
 "cells": [
  {
   "cell_type": "markdown",
   "metadata": {},
   "source": [
    "## RNN 모델 N-Byte 방식 (함수정보 포함 vs 미포함 => 1:1 비율)\n",
    "\n",
    "## (1) 데이터로드"
   ]
  },
  {
   "cell_type": "code",
   "execution_count": 1,
   "metadata": {},
   "outputs": [
    {
     "name": "stdout",
     "output_type": "stream",
     "text": [
      "(323782, 96, 256) (323782, 96, 1)\n"
     ]
    }
   ],
   "source": [
    "# (1) 데이터로드\n",
    "import pandas as pd\n",
    "import numpy as np\n",
    "\n",
    "import warnings\n",
    "warnings.filterwarnings(action='ignore')\n",
    "\n",
    "# 여러개 쳐도 나오게\n",
    "from IPython.core.interactiveshell import InteractiveShell\n",
    "InteractiveShell.ast_node_interactivity = \"all\"\n",
    "\n",
    "# 파일읽기\n",
    "bincofre6_0_x = np.load('x_bc6_0.npy')\n",
    "bincofre6_1_x = np.load('x_bc6_1.npy')\n",
    "bincofre6_2_x = np.load('x_bc6_2.npy')\n",
    "bincofre6_3_x = np.load('x_bc6_3.npy')\n",
    "\n",
    "bincofre6_0_y = np.load('y_bc6_0.npy')\n",
    "bincofre6_1_y = np.load('y_bc6_1.npy')\n",
    "bincofre6_2_y = np.load('y_bc6_2.npy')\n",
    "bincofre6_3_y = np.load('y_bc6_3.npy')\n",
    "\n",
    "x_bincofre6 = np.concatenate((bincofre6_0_x, bincofre6_1_x, bincofre6_2_x, bincofre6_3_x), axis=0)\n",
    "y_bincofre6 = np.concatenate((bincofre6_0_y, bincofre6_1_y, bincofre6_2_y, bincofre6_3_y), axis=0)\n",
    "\n",
    "print(x_bincofre6.shape, y_bincofre6.shape)"
   ]
  },
  {
   "cell_type": "code",
   "execution_count": 2,
   "metadata": {},
   "outputs": [
    {
     "name": "stdout",
     "output_type": "stream",
     "text": [
      "(323782, 96, 256) (323782, 96, 1)\n"
     ]
    }
   ],
   "source": [
    "# numpy 행, 열 섞기\n",
    "p = np.random.permutation(x_bincofre6.shape[0])\n",
    "\n",
    "x_bincofre6 = x_bincofre6[p]\n",
    "y_bincofre6 = y_bincofre6[p]\n",
    "\n",
    "print(x_bincofre6.shape, y_bincofre6.shape)"
   ]
  },
  {
   "cell_type": "markdown",
   "metadata": {},
   "source": [
    "## (7) 모델"
   ]
  },
  {
   "cell_type": "code",
   "execution_count": 3,
   "metadata": {},
   "outputs": [],
   "source": [
    "# (10) 양방향 LSTM 모델링 작업\n",
    "from tensorflow.keras import layers, models\n",
    "#from tf.keras.models import Model, Sequential\n",
    "#from tf.keras.layers import SimpleRNN, Input, Dense, LSTM\n",
    "#from tf.keras.layers import Bidirectional, TimeDistributed\n",
    "\n",
    "# 학습\n",
    "from tensorflow.keras.callbacks import EarlyStopping\n",
    "early_stopping = EarlyStopping(patience = 10) # 조기종료 콜백함수 정의\n",
    "\n",
    "xInput = layers.Input(batch_shape=(None,96, 256)) \n",
    "xBiLstm = layers.Bidirectional(layers.LSTM(144, return_sequences=True, stateful=False), merge_mode = 'concat')(xInput)\n",
    "xOutput = layers.TimeDistributed(layers.Dense(1, activation ='sigmoid'))(xBiLstm) # 각 스텝에서 cost가 전송되고, 오류가 다음 step으로 전송됨."
   ]
  },
  {
   "cell_type": "markdown",
   "metadata": {},
   "source": [
    "## (8) 학습"
   ]
  },
  {
   "cell_type": "code",
   "execution_count": 4,
   "metadata": {
    "scrolled": true
   },
   "outputs": [
    {
     "name": "stdout",
     "output_type": "stream",
     "text": [
      "Model: \"model\"\n",
      "_________________________________________________________________\n",
      "Layer (type)                 Output Shape              Param #   \n",
      "=================================================================\n",
      "input_1 (InputLayer)         [(None, 96, 256)]         0         \n",
      "_________________________________________________________________\n",
      "bidirectional (Bidirectional (None, 96, 288)           461952    \n",
      "_________________________________________________________________\n",
      "time_distributed (TimeDistri (None, 96, 1)             289       \n",
      "=================================================================\n",
      "Total params: 462,241\n",
      "Trainable params: 462,241\n",
      "Non-trainable params: 0\n",
      "_________________________________________________________________\n",
      "======Training stage======\n",
      "Train on 226647 samples, validate on 97135 samples\n",
      "Epoch 1/500\n",
      "226647/226647 [==============================] - 132s 583us/sample - loss: 0.0033 - accuracy: 0.9991 - val_loss: 7.3370e-04 - val_accuracy: 0.9998\n",
      "Epoch 2/500\n",
      "226647/226647 [==============================] - 126s 556us/sample - loss: 5.6154e-04 - accuracy: 0.9998 - val_loss: 5.0829e-04 - val_accuracy: 0.9999\n",
      "Epoch 3/500\n",
      "226647/226647 [==============================] - 126s 555us/sample - loss: 3.2910e-04 - accuracy: 0.9999 - val_loss: 3.4326e-04 - val_accuracy: 0.9999\n",
      "Epoch 4/500\n",
      "226647/226647 [==============================] - 126s 556us/sample - loss: 2.3050e-04 - accuracy: 0.9999 - val_loss: 2.6283e-04 - val_accuracy: 0.9999\n",
      "Epoch 5/500\n",
      "226647/226647 [==============================] - 126s 556us/sample - loss: 1.7715e-04 - accuracy: 1.0000 - val_loss: 2.6846e-04 - val_accuracy: 0.9999\n",
      "Epoch 6/500\n",
      "226647/226647 [==============================] - 126s 556us/sample - loss: 1.5350e-04 - accuracy: 1.0000 - val_loss: 2.6400e-04 - val_accuracy: 0.9999\n",
      "Epoch 7/500\n",
      "226647/226647 [==============================] - 127s 558us/sample - loss: 1.2145e-04 - accuracy: 1.0000 - val_loss: 2.2241e-04 - val_accuracy: 1.0000\n",
      "Epoch 8/500\n",
      "226647/226647 [==============================] - 127s 559us/sample - loss: 1.0354e-04 - accuracy: 1.0000 - val_loss: 2.5916e-04 - val_accuracy: 0.9999\n",
      "Epoch 9/500\n",
      "226647/226647 [==============================] - 127s 561us/sample - loss: 8.5588e-05 - accuracy: 1.0000 - val_loss: 2.2740e-04 - val_accuracy: 1.0000\n",
      "Epoch 10/500\n",
      "226647/226647 [==============================] - 126s 558us/sample - loss: 8.2588e-05 - accuracy: 1.0000 - val_loss: 1.9625e-04 - val_accuracy: 1.0000\n",
      "Epoch 11/500\n",
      "226647/226647 [==============================] - 126s 558us/sample - loss: 6.4456e-05 - accuracy: 1.0000 - val_loss: 2.1058e-04 - val_accuracy: 1.0000\n",
      "Epoch 12/500\n",
      "226647/226647 [==============================] - 127s 559us/sample - loss: 5.6361e-05 - accuracy: 1.0000 - val_loss: 2.3371e-04 - val_accuracy: 1.0000\n",
      "Epoch 13/500\n",
      "226647/226647 [==============================] - 127s 561us/sample - loss: 4.7520e-05 - accuracy: 1.0000 - val_loss: 2.1426e-04 - val_accuracy: 1.0000\n",
      "Epoch 14/500\n",
      "226647/226647 [==============================] - 127s 561us/sample - loss: 4.5339e-05 - accuracy: 1.0000 - val_loss: 2.3315e-04 - val_accuracy: 1.0000\n",
      "Epoch 15/500\n",
      "226647/226647 [==============================] - 127s 561us/sample - loss: 4.0686e-05 - accuracy: 1.0000 - val_loss: 2.2701e-04 - val_accuracy: 1.0000\n",
      "Epoch 16/500\n",
      "226647/226647 [==============================] - 127s 561us/sample - loss: 3.8295e-05 - accuracy: 1.0000 - val_loss: 2.4071e-04 - val_accuracy: 1.0000\n",
      "Epoch 17/500\n",
      "226647/226647 [==============================] - 127s 561us/sample - loss: 3.2371e-05 - accuracy: 1.0000 - val_loss: 2.4020e-04 - val_accuracy: 1.0000\n",
      "Epoch 18/500\n",
      "226647/226647 [==============================] - 127s 561us/sample - loss: 3.3519e-05 - accuracy: 1.0000 - val_loss: 2.3637e-04 - val_accuracy: 1.0000\n",
      "Epoch 19/500\n",
      "226647/226647 [==============================] - 127s 562us/sample - loss: 2.0719e-05 - accuracy: 1.0000 - val_loss: 2.8273e-04 - val_accuracy: 1.0000\n",
      "Epoch 20/500\n",
      "226647/226647 [==============================] - 127s 562us/sample - loss: 1.9674e-05 - accuracy: 1.0000 - val_loss: 2.4625e-04 - val_accuracy: 1.0000\n"
     ]
    },
    {
     "data": {
      "text/plain": [
       "<tensorflow.python.keras.callbacks.History at 0x2140dab4708>"
      ]
     },
     "execution_count": 4,
     "metadata": {},
     "output_type": "execute_result"
    },
    {
     "name": "stdout",
     "output_type": "stream",
     "text": [
      "걸린시간: 2539.4397237300873\n",
      "save 완료\n"
     ]
    }
   ],
   "source": [
    "\n",
    "model1 = models.Model(xInput, xOutput)\n",
    "model1.compile(loss='binary_crossentropy', optimizer='rmsprop', metrics=['accuracy'])\n",
    "model1.summary()\n",
    "\n",
    "import time\n",
    "print('======Training stage======')\n",
    "starttime = time.time()\n",
    "\n",
    "model1.fit(x_bincofre6,\n",
    "           y_bincofre6,\n",
    "           epochs = 500,\n",
    "           batch_size = 32,\n",
    "           validation_split=0.3,\n",
    "           callbacks=[early_stopping])\n",
    "\n",
    "endtime = time.time()\n",
    "\n",
    "print('걸린시간:', endtime - starttime)\n",
    "model1.save('gcc6_bin_core_s96_h144_o0123.h5')\n",
    "print('save 완료')"
   ]
  }
 ],
 "metadata": {
  "kernelspec": {
   "display_name": "Python 3",
   "language": "python",
   "name": "python3"
  },
  "language_info": {
   "codemirror_mode": {
    "name": "ipython",
    "version": 3
   },
   "file_extension": ".py",
   "mimetype": "text/x-python",
   "name": "python",
   "nbconvert_exporter": "python",
   "pygments_lexer": "ipython3",
   "version": "3.7.7"
  }
 },
 "nbformat": 4,
 "nbformat_minor": 4
}
