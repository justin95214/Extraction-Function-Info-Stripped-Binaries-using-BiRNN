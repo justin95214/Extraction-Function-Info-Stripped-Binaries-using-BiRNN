{
 "cells": [
  {
   "cell_type": "markdown",
   "metadata": {},
   "source": [
    "## RNN 모델 N-Byte 방식 (함수정보 포함 vs 미포함 => 1:1 비율)\n",
    "\n",
    "## (1) 데이터로드"
   ]
  },
  {
   "cell_type": "code",
   "execution_count": 1,
   "metadata": {},
   "outputs": [
    {
     "name": "stdout",
     "output_type": "stream",
     "text": [
      "(30092946, 2)\n",
      "shape - (30092946, 2)\n",
      "reset_index 완료\n",
      "input data shape\n"
     ]
    },
    {
     "data": {
      "text/html": [
       "<div>\n",
       "<style scoped>\n",
       "    .dataframe tbody tr th:only-of-type {\n",
       "        vertical-align: middle;\n",
       "    }\n",
       "\n",
       "    .dataframe tbody tr th {\n",
       "        vertical-align: top;\n",
       "    }\n",
       "\n",
       "    .dataframe thead th {\n",
       "        text-align: right;\n",
       "    }\n",
       "</style>\n",
       "<table border=\"1\" class=\"dataframe\">\n",
       "  <thead>\n",
       "    <tr style=\"text-align: right;\">\n",
       "      <th></th>\n",
       "      <th>bin</th>\n",
       "      <th>label</th>\n",
       "    </tr>\n",
       "  </thead>\n",
       "  <tbody>\n",
       "    <tr>\n",
       "      <th>0</th>\n",
       "      <td>47</td>\n",
       "      <td>0</td>\n",
       "    </tr>\n",
       "    <tr>\n",
       "      <th>1</th>\n",
       "      <td>108</td>\n",
       "      <td>0</td>\n",
       "    </tr>\n",
       "    <tr>\n",
       "      <th>2</th>\n",
       "      <td>105</td>\n",
       "      <td>0</td>\n",
       "    </tr>\n",
       "    <tr>\n",
       "      <th>3</th>\n",
       "      <td>98</td>\n",
       "      <td>0</td>\n",
       "    </tr>\n",
       "    <tr>\n",
       "      <th>4</th>\n",
       "      <td>47</td>\n",
       "      <td>0</td>\n",
       "    </tr>\n",
       "  </tbody>\n",
       "</table>\n",
       "</div>"
      ],
      "text/plain": [
       "   bin  label\n",
       "0   47      0\n",
       "1  108      0\n",
       "2  105      0\n",
       "3   98      0\n",
       "4   47      0"
      ]
     },
     "execution_count": 1,
     "metadata": {},
     "output_type": "execute_result"
    }
   ],
   "source": [
    "# (1) 데이터로드\n",
    "import pandas as pd\n",
    "import numpy as np\n",
    "\n",
    "import warnings\n",
    "warnings.filterwarnings(action='ignore')\n",
    "\n",
    "# 여러개 쳐도 나오게\n",
    "from IPython.core.interactiveshell import InteractiveShell\n",
    "InteractiveShell.ast_node_interactivity = \"all\"\n",
    "\n",
    "# 파일읽기\n",
    "bin6_0 = pd.read_csv(\"../../바이너리_최종데이터_1004/gcc6/o0/o0_bincore6.csv\", index_col=0)\n",
    "print(bin6_0.shape)\n",
    "\n",
    "# reset_index (hex processing 하면서 값이 빠졌으니까 + n_gram 에서 index를 다루기 때문에)\n",
    "bin6_0.reset_index(inplace=True, drop=True)\n",
    "\n",
    "print('shape -', bin6_0.shape)\n",
    "print('reset_index 완료')\n",
    "print('input data shape')\n",
    "bin6_0.head()"
   ]
  },
  {
   "cell_type": "code",
   "execution_count": 2,
   "metadata": {},
   "outputs": [
    {
     "name": "stdout",
     "output_type": "stream",
     "text": [
      "256\n",
      "0    30042688\n",
      "1       50258\n",
      "Name: label, dtype: int64\n"
     ]
    }
   ],
   "source": [
    "# (2-1) 데이터체크 1 - hex(16진수)가 256 label을 가져야 dummies 변환 가능 \n",
    "# 16진수 256개 종류가 있어서 pd.get_dummies 사용 가능.\n",
    "print(len(bin6_0['bin'].unique()))\n",
    "\n",
    "# (2-2) 데이터 체크 2 - 1, 0 비율 ==> 1이 함수의 갯수를 뜻함\n",
    "# 정답 데이터 1, 0 비율 확인  ==> 1이 함수의 갯수를 뜻함\n",
    "print(bin6_0['label'].value_counts())"
   ]
  },
  {
   "cell_type": "markdown",
   "metadata": {},
   "source": [
    "## (3) N Byte씩 자르기"
   ]
  },
  {
   "cell_type": "code",
   "execution_count": 3,
   "metadata": {},
   "outputs": [
    {
     "name": "stdout",
     "output_type": "stream",
     "text": [
      "2412384\n",
      "나머지 0\n",
      "최종 길이 2412384\n",
      "bin6_0 2412384\n"
     ]
    }
   ],
   "source": [
    "idx_bin = bin6_0[bin6_0['label']==1].index  # 407, 474 ...\n",
    "ls_bin = list(idx_bin)\n",
    "\n",
    "# 최종 뽑을 행에 대한 index\n",
    "ls_idx_bin = []\n",
    "\n",
    "# n byte 자르기 방식\n",
    "left_idx, right_idx = 0, 48 # 3개씩\n",
    "\n",
    "# n byte 자르기\n",
    "for k in range(left_idx, right_idx):\n",
    "    ls_idx_bin.extend(list(idx_bin + k)) # index 형이라서 가능\n",
    "\n",
    "#ls_idx = list(set(ls_idx)) \n",
    "ls_idx_bin.sort() # 인덱스 정렬\n",
    "\n",
    "# 1차 index 해당범위 초과한 것들 없애기\n",
    "ls_idx_bin = list(filter(lambda x: x<len(bin6_0), ls_idx_bin))\n",
    "print(len(ls_idx_bin))\n",
    "\n",
    "# 2차 남은 index들 중 right_idx 나눈 나머지 없애기\n",
    "sub_bin = len(ls_idx_bin)%(right_idx)\n",
    "print('나머지', sub_bin)\n",
    "\n",
    "ls_idx_bin = ls_idx_bin[:len(ls_idx_bin)-sub_bin]\n",
    "print('최종 길이', len(ls_idx_bin))\n",
    "\n",
    "print('bin6_0', len(ls_idx_bin))\n",
    "\n",
    "# loc 로 수정필요\n",
    "bin6_0_Ngram = bin6_0.loc[ls_idx_bin,:].copy()"
   ]
  },
  {
   "cell_type": "markdown",
   "metadata": {},
   "source": [
    "## (4) false data 만들기"
   ]
  },
  {
   "cell_type": "code",
   "execution_count": 4,
   "metadata": {},
   "outputs": [
    {
     "name": "stdout",
     "output_type": "stream",
     "text": [
      "50258.0\n",
      "0 4441016\n",
      "1000 9836908\n",
      "2000 16844860\n",
      "3000 18296429\n",
      "4000 29419458\n",
      "5000 7919056\n",
      "6000 9167502\n",
      "7000 16298699\n",
      "8000 14858615\n",
      "9000 18131789\n",
      "10000 9838919\n",
      "11000 625011\n",
      "12000 27620833\n",
      "13000 8128894\n",
      "14000 24724357\n",
      "15000 22131264\n",
      "16000 3206445\n",
      "17000 3877714\n",
      "18000 11694722\n",
      "19000 20976135\n",
      "20000 25516346\n",
      "21000 3426613\n",
      "22000 24623905\n",
      "23000 12392681\n",
      "24000 1376070\n",
      "25000 2460879\n",
      "26000 21059701\n",
      "27000 25526092\n",
      "28000 10723612\n",
      "29000 14521613\n",
      "30000 19056303\n",
      "31000 28571791\n",
      "32000 13005311\n",
      "33000 4308241\n",
      "34000 5604196\n",
      "35000 15215211\n",
      "36000 27611570\n",
      "37000 18434920\n",
      "38000 9987167\n",
      "39000 347463\n",
      "40000 25740553\n",
      "41000 18475220\n",
      "42000 22178377\n",
      "43000 16478580\n",
      "44000 13621190\n",
      "45000 21976318\n",
      "46000 14652846\n",
      "47000 9585784\n",
      "48000 25559935\n",
      "49000 1560025\n",
      "50000 21882453\n",
      "완료\n",
      "50258\n"
     ]
    }
   ],
   "source": [
    "# false data 만들기 - False 데이터 랜덤 생성\n",
    "\n",
    "# 목표치\n",
    "goal_bin = len(bin6_0_Ngram)/right_idx\n",
    "count_bin = 0\n",
    "\n",
    "print(goal_bin)\n",
    "\n",
    "# 최종 데이터 Frame\n",
    "d_bin = pd.DataFrame(columns = bin6_0.columns)\n",
    "\n",
    "binutils_df = []\n",
    "# goal 에 도달할 때까지\n",
    "while True:\n",
    "    if (count_bin == goal_bin):\n",
    "            break\n",
    "    # 진행상황 살펴보기 위함\n",
    "            \n",
    "    # 랜덤 N 바이트씩 뽑음\n",
    "    # random index\n",
    "    random_idx_bin = np.random.randint(len(bin6_0)-right_idx)\n",
    "\n",
    "    if count_bin % 1000==0:\n",
    "        print(count_bin, end=' ')\n",
    "        print(random_idx_bin)\n",
    "\n",
    "    df_bin = bin6_0[random_idx_bin : random_idx_bin + right_idx]\n",
    "    \n",
    "    # 뽑은 index의 N 바이트 중에 1이 없는 경우만\n",
    "    if 1 not in df_bin['label'] and count_bin < goal_bin:\n",
    "        binutils_df.append(df_bin)\n",
    "        count_bin+=1\n",
    "\n",
    "print('완료')\n",
    "print(len(binutils_df))"
   ]
  },
  {
   "cell_type": "code",
   "execution_count": 5,
   "metadata": {},
   "outputs": [
    {
     "name": "stdout",
     "output_type": "stream",
     "text": [
      "50258\n",
      "50258\n"
     ]
    }
   ],
   "source": [
    "# True data와 False Data 같은지 체크\n",
    "print(len(binutils_df))\n",
    "print(bin6_0['label'].value_counts()[1])"
   ]
  },
  {
   "cell_type": "markdown",
   "metadata": {},
   "source": [
    "## (5) False Data + True Data 합치기"
   ]
  },
  {
   "cell_type": "code",
   "execution_count": 6,
   "metadata": {},
   "outputs": [
    {
     "data": {
      "text/plain": [
       "(4824768, 2)"
      ]
     },
     "execution_count": 6,
     "metadata": {},
     "output_type": "execute_result"
    }
   ],
   "source": [
    "f_data = pd.concat(binutils_df)\n",
    "final = pd.concat([f_data, bin6_0_Ngram])\n",
    "final.shape"
   ]
  },
  {
   "cell_type": "markdown",
   "metadata": {},
   "source": [
    "## (6) one hot encoding"
   ]
  },
  {
   "cell_type": "code",
   "execution_count": 7,
   "metadata": {},
   "outputs": [
    {
     "name": "stdout",
     "output_type": "stream",
     "text": [
      "원핫인코딩완료\n",
      "(4824768, 257)\n"
     ]
    }
   ],
   "source": [
    "# 훈련데이터 (gcc 최적화버전 0, 1, 2, 3 one hot encoding)\n",
    "bc6_0_onehot_Ngram = pd.get_dummies(final['bin'])\n",
    "bc6_0_onehot_Ngram = pd.concat([final['label'], bc6_0_onehot_Ngram], axis=1)\n",
    "\n",
    "print('원핫인코딩완료')\n",
    "print(bc6_0_onehot_Ngram.shape)"
   ]
  },
  {
   "cell_type": "code",
   "execution_count": 8,
   "metadata": {},
   "outputs": [
    {
     "name": "stdout",
     "output_type": "stream",
     "text": [
      "(4824768, 256) (4824768, 256)\n",
      "(100516, 48, 256) (100516, 48, 1)\n"
     ]
    }
   ],
   "source": [
    "# 훈련 데이터, 훈련 라벨\n",
    "x_bc6_0 = bc6_0_onehot_Ngram.iloc[:,1:].to_numpy()\n",
    "y_bc6_0 = bc6_0_onehot_Ngram['label'].to_numpy()\n",
    "print(x_bc6_0.shape, x_bc6_0.shape)\n",
    "\n",
    "x_bc6_0 = x_bc6_0.reshape(-1, right_idx, x_bc6_0.shape[1])\n",
    "y_bc6_0 = y_bc6_0.reshape(-1, right_idx, 1)\n",
    "\n",
    "print(x_bc6_0.shape, y_bc6_0.shape)"
   ]
  },
  {
   "cell_type": "code",
   "execution_count": 9,
   "metadata": {},
   "outputs": [
    {
     "name": "stdout",
     "output_type": "stream",
     "text": [
      "(100516, 48, 256) (100516, 48, 1)\n"
     ]
    }
   ],
   "source": [
    "# numpy 행, 열 섞기\n",
    "p = np.random.permutation(x_bc6_0.shape[0])\n",
    "\n",
    "x_bc6_0 = x_bc6_0[p]\n",
    "y_bc6_0 = y_bc6_0[p]\n",
    "\n",
    "print(x_bc6_0.shape, y_bc6_0.shape)"
   ]
  },
  {
   "cell_type": "markdown",
   "metadata": {},
   "source": [
    "## (7) 모델"
   ]
  },
  {
   "cell_type": "code",
   "execution_count": 10,
   "metadata": {},
   "outputs": [],
   "source": [
    "# (10) 양방향 LSTM 모델링 작업\n",
    "from tensorflow.keras import layers, models\n",
    "#from tf.keras.models import Model, Sequential\n",
    "#from tf.keras.layers import SimpleRNN, Input, Dense, LSTM\n",
    "#from tf.keras.layers import Bidirectional, TimeDistributed\n",
    "\n",
    "# 학습\n",
    "from tensorflow.keras.callbacks import EarlyStopping\n",
    "early_stopping = EarlyStopping(patience = 10) # 조기종료 콜백함수 정의\n",
    "\n",
    "xInput = layers.Input(batch_shape=(None,right_idx, 256)) \n",
    "xBiLstm = layers.Bidirectional(layers.LSTM(72, return_sequences=True, stateful=False), merge_mode = 'concat')(xInput)\n",
    "xOutput = layers.TimeDistributed(layers.Dense(1, activation ='sigmoid'))(xBiLstm) # 각 스텝에서 cost가 전송되고, 오류가 다음 step으로 전송됨."
   ]
  },
  {
   "cell_type": "markdown",
   "metadata": {},
   "source": [
    "## (8) 학습"
   ]
  },
  {
   "cell_type": "code",
   "execution_count": 11,
   "metadata": {},
   "outputs": [
    {
     "name": "stdout",
     "output_type": "stream",
     "text": [
      "Model: \"model\"\n",
      "_________________________________________________________________\n",
      "Layer (type)                 Output Shape              Param #   \n",
      "=================================================================\n",
      "input_1 (InputLayer)         [(None, 48, 256)]         0         \n",
      "_________________________________________________________________\n",
      "bidirectional (Bidirectional (None, 48, 144)           189504    \n",
      "_________________________________________________________________\n",
      "time_distributed (TimeDistri (None, 48, 1)             145       \n",
      "=================================================================\n",
      "Total params: 189,649\n",
      "Trainable params: 189,649\n",
      "Non-trainable params: 0\n",
      "_________________________________________________________________\n",
      "======Training stage======\n",
      "Train on 70361 samples, validate on 30155 samples\n",
      "Epoch 1/500\n",
      "70361/70361 [==============================] - 119s 2ms/sample - loss: 0.0053 - accuracy: 0.9986 - val_loss: 3.3399e-04 - val_accuracy: 0.9999\n",
      "Epoch 2/500\n",
      "70361/70361 [==============================] - 111s 2ms/sample - loss: 2.9201e-04 - accuracy: 0.9999 - val_loss: 2.2772e-04 - val_accuracy: 0.9999\n",
      "Epoch 3/500\n",
      "70361/70361 [==============================] - 115s 2ms/sample - loss: 2.0823e-04 - accuracy: 0.9999 - val_loss: 2.2614e-04 - val_accuracy: 0.9999\n",
      "Epoch 4/500\n",
      "70361/70361 [==============================] - 99s 1ms/sample - loss: 1.8124e-04 - accuracy: 1.0000 - val_loss: 2.2923e-04 - val_accuracy: 0.9999\n",
      "Epoch 5/500\n",
      "70361/70361 [==============================] - 151s 2ms/sample - loss: 1.4676e-04 - accuracy: 1.0000 - val_loss: 2.8451e-04 - val_accuracy: 0.9999\n",
      "Epoch 6/500\n",
      "70361/70361 [==============================] - 161s 2ms/sample - loss: 1.3893e-04 - accuracy: 1.0000 - val_loss: 1.9515e-04 - val_accuracy: 1.0000\n",
      "Epoch 7/500\n",
      "70361/70361 [==============================] - 165s 2ms/sample - loss: 1.2491e-04 - accuracy: 1.0000 - val_loss: 1.9803e-04 - val_accuracy: 1.0000\n",
      "Epoch 8/500\n",
      "70361/70361 [==============================] - 104s 1ms/sample - loss: 1.1786e-04 - accuracy: 1.0000 - val_loss: 1.7844e-04 - val_accuracy: 1.0000\n",
      "Epoch 9/500\n",
      "70361/70361 [==============================] - 106s 2ms/sample - loss: 9.4555e-05 - accuracy: 1.0000 - val_loss: 2.1144e-04 - val_accuracy: 0.9999\n",
      "Epoch 10/500\n",
      "70361/70361 [==============================] - 115s 2ms/sample - loss: 9.0847e-05 - accuracy: 1.0000 - val_loss: 1.9248e-04 - val_accuracy: 1.0000\n",
      "Epoch 11/500\n",
      "70361/70361 [==============================] - 103s 1ms/sample - loss: 8.4647e-05 - accuracy: 1.0000 - val_loss: 2.1654e-04 - val_accuracy: 0.9999\n",
      "Epoch 12/500\n",
      "70361/70361 [==============================] - 100s 1ms/sample - loss: 6.5961e-05 - accuracy: 1.0000 - val_loss: 2.2265e-04 - val_accuracy: 1.0000\n",
      "Epoch 13/500\n",
      "70361/70361 [==============================] - 127s 2ms/sample - loss: 7.1936e-05 - accuracy: 1.0000 - val_loss: 2.3170e-04 - val_accuracy: 1.0000\n",
      "Epoch 14/500\n",
      "70361/70361 [==============================] - 176s 3ms/sample - loss: 6.6806e-05 - accuracy: 1.0000 - val_loss: 2.2280e-04 - val_accuracy: 1.0000\n",
      "Epoch 15/500\n",
      "70361/70361 [==============================] - 177s 3ms/sample - loss: 5.7330e-05 - accuracy: 1.0000 - val_loss: 2.0136e-04 - val_accuracy: 1.0000\n",
      "Epoch 16/500\n",
      "70361/70361 [==============================] - 115s 2ms/sample - loss: 5.7423e-05 - accuracy: 1.0000 - val_loss: 2.3454e-04 - val_accuracy: 1.0000\n",
      "Epoch 17/500\n",
      "70361/70361 [==============================] - 104s 1ms/sample - loss: 5.0932e-05 - accuracy: 1.0000 - val_loss: 2.3719e-04 - val_accuracy: 1.0000\n",
      "Epoch 18/500\n",
      "70361/70361 [==============================] - 116s 2ms/sample - loss: 4.2302e-05 - accuracy: 1.0000 - val_loss: 2.7433e-04 - val_accuracy: 1.0000\n"
     ]
    },
    {
     "data": {
      "text/plain": [
       "<tensorflow.python.keras.callbacks.History at 0x1d4d80e8188>"
      ]
     },
     "execution_count": 11,
     "metadata": {},
     "output_type": "execute_result"
    },
    {
     "name": "stdout",
     "output_type": "stream",
     "text": [
      "save 완료\n"
     ]
    }
   ],
   "source": [
    "model1 = models.Model(xInput, xOutput)\n",
    "model1.compile(loss='binary_crossentropy', optimizer='rmsprop', metrics=['accuracy'])\n",
    "model1.summary()\n",
    "\n",
    "print('======Training stage======')\n",
    "model1.fit(x_bc6_0,\n",
    "           y_bc6_0,\n",
    "           epochs = 500,\n",
    "           batch_size = 32,\n",
    "           validation_split=0.3,\n",
    "           callbacks=[early_stopping])\n",
    "\n",
    "model1.save('gcc6_bin_core_s48_h72_o0.h5')\n",
    "print('save 완료')"
   ]
  }
 ],
 "metadata": {
  "kernelspec": {
   "display_name": "Python 3",
   "language": "python",
   "name": "python3"
  },
  "language_info": {
   "codemirror_mode": {
    "name": "ipython",
    "version": 3
   },
   "file_extension": ".py",
   "mimetype": "text/x-python",
   "name": "python",
   "nbconvert_exporter": "python",
   "pygments_lexer": "ipython3",
   "version": "3.7.7"
  }
 },
 "nbformat": 4,
 "nbformat_minor": 4
}
