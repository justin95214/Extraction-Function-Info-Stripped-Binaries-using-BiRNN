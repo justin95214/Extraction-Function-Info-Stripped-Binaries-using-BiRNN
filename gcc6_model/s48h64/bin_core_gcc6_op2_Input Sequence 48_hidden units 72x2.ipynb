{
 "cells": [
  {
   "cell_type": "markdown",
   "metadata": {},
   "source": [
    "## RNN 모델 N-Byte 방식 (함수정보 포함 vs 미포함 => 1:1 비율)\n",
    "\n",
    "## (1) 데이터로드"
   ]
  },
  {
   "cell_type": "code",
   "execution_count": 1,
   "metadata": {},
   "outputs": [
    {
     "name": "stdout",
     "output_type": "stream",
     "text": [
      "(28456104, 2)\n",
      "shape - (28456104, 2)\n",
      "reset_index 완료\n",
      "input data shape\n"
     ]
    },
    {
     "data": {
      "text/html": [
       "<div>\n",
       "<style scoped>\n",
       "    .dataframe tbody tr th:only-of-type {\n",
       "        vertical-align: middle;\n",
       "    }\n",
       "\n",
       "    .dataframe tbody tr th {\n",
       "        vertical-align: top;\n",
       "    }\n",
       "\n",
       "    .dataframe thead th {\n",
       "        text-align: right;\n",
       "    }\n",
       "</style>\n",
       "<table border=\"1\" class=\"dataframe\">\n",
       "  <thead>\n",
       "    <tr style=\"text-align: right;\">\n",
       "      <th></th>\n",
       "      <th>bin</th>\n",
       "      <th>label</th>\n",
       "    </tr>\n",
       "  </thead>\n",
       "  <tbody>\n",
       "    <tr>\n",
       "      <th>0</th>\n",
       "      <td>47</td>\n",
       "      <td>0</td>\n",
       "    </tr>\n",
       "    <tr>\n",
       "      <th>1</th>\n",
       "      <td>108</td>\n",
       "      <td>0</td>\n",
       "    </tr>\n",
       "    <tr>\n",
       "      <th>2</th>\n",
       "      <td>105</td>\n",
       "      <td>0</td>\n",
       "    </tr>\n",
       "    <tr>\n",
       "      <th>3</th>\n",
       "      <td>98</td>\n",
       "      <td>0</td>\n",
       "    </tr>\n",
       "    <tr>\n",
       "      <th>4</th>\n",
       "      <td>47</td>\n",
       "      <td>0</td>\n",
       "    </tr>\n",
       "  </tbody>\n",
       "</table>\n",
       "</div>"
      ],
      "text/plain": [
       "   bin  label\n",
       "0   47      0\n",
       "1  108      0\n",
       "2  105      0\n",
       "3   98      0\n",
       "4   47      0"
      ]
     },
     "execution_count": 1,
     "metadata": {},
     "output_type": "execute_result"
    }
   ],
   "source": [
    "# (1) 데이터로드\n",
    "import pandas as pd\n",
    "import numpy as np\n",
    "\n",
    "import warnings\n",
    "warnings.filterwarnings(action='ignore')\n",
    "\n",
    "# 여러개 쳐도 나오게\n",
    "from IPython.core.interactiveshell import InteractiveShell\n",
    "InteractiveShell.ast_node_interactivity = \"all\"\n",
    "\n",
    "# 파일읽기\n",
    "bin6_2 = pd.read_csv(\"../../바이너리_최종데이터_1004/gcc6/o2/o2_bincore6.csv\", index_col=0)\n",
    "print(bin6_2.shape)\n",
    "\n",
    "# reset_index (hex processing 하면서 값이 빠졌으니까 + n_gram 에서 index를 다루기 때문에)\n",
    "bin6_2.reset_index(inplace=True, drop=True)\n",
    "\n",
    "print('shape -', bin6_2.shape)\n",
    "print('reset_index 완료')\n",
    "print('input data shape')\n",
    "bin6_2.head()"
   ]
  },
  {
   "cell_type": "code",
   "execution_count": 2,
   "metadata": {},
   "outputs": [
    {
     "name": "stdout",
     "output_type": "stream",
     "text": [
      "256\n",
      "0    28418383\n",
      "1       37721\n",
      "Name: label, dtype: int64\n"
     ]
    }
   ],
   "source": [
    "# (2-1) 데이터체크 1 - hex(16진수)가 256 label을 가져야 dummies 변환 가능 \n",
    "# 16진수 256개 종류가 있어서 pd.get_dummies 사용 가능.\n",
    "print(len(bin6_2['bin'].unique()))\n",
    "\n",
    "# (2-2) 데이터 체크 2 - 1, 0 비율 ==> 1이 함수의 갯수를 뜻함\n",
    "# 정답 데이터 1, 0 비율 확인  ==> 1이 함수의 갯수를 뜻함\n",
    "print(bin6_2['label'].value_counts())"
   ]
  },
  {
   "cell_type": "markdown",
   "metadata": {},
   "source": [
    "## (3) N Byte씩 자르기"
   ]
  },
  {
   "cell_type": "code",
   "execution_count": 3,
   "metadata": {},
   "outputs": [
    {
     "name": "stdout",
     "output_type": "stream",
     "text": [
      "1810608\n",
      "나머지 0\n",
      "최종 길이 1810608\n",
      "bin6_2 1810608\n"
     ]
    }
   ],
   "source": [
    "idx_bin = bin6_2[bin6_2['label']==1].index  # 407, 474 ...\n",
    "ls_bin = list(idx_bin)\n",
    "\n",
    "# 최종 뽑을 행에 대한 index\n",
    "ls_idx_bin = []\n",
    "\n",
    "# n byte 자르기 방식\n",
    "left_idx, right_idx = 0, 48 # 3개씩\n",
    "\n",
    "# n byte 자르기\n",
    "for k in range(left_idx, right_idx):\n",
    "    ls_idx_bin.extend(list(idx_bin + k)) # index 형이라서 가능\n",
    "\n",
    "#ls_idx = list(set(ls_idx)) \n",
    "ls_idx_bin.sort() # 인덱스 정렬\n",
    "\n",
    "# 1차 index 해당범위 초과한 것들 없애기\n",
    "ls_idx_bin = list(filter(lambda x: x<len(bin6_2), ls_idx_bin))\n",
    "print(len(ls_idx_bin))\n",
    "\n",
    "# 2차 남은 index들 중 right_idx 나눈 나머지 없애기\n",
    "sub_bin = len(ls_idx_bin)%(right_idx)\n",
    "print('나머지', sub_bin)\n",
    "\n",
    "ls_idx_bin = ls_idx_bin[:len(ls_idx_bin)-sub_bin]\n",
    "print('최종 길이', len(ls_idx_bin))\n",
    "\n",
    "print('bin6_2', len(ls_idx_bin))\n",
    "\n",
    "# loc 로 수정필요\n",
    "bin6_2_Ngram = bin6_2.loc[ls_idx_bin,:].copy()"
   ]
  },
  {
   "cell_type": "markdown",
   "metadata": {},
   "source": [
    "## (4) false data 만들기"
   ]
  },
  {
   "cell_type": "code",
   "execution_count": 4,
   "metadata": {},
   "outputs": [
    {
     "name": "stdout",
     "output_type": "stream",
     "text": [
      "37721.0\n",
      "0 23149645\n",
      "1000 24787830\n",
      "2000 14615961\n",
      "3000 5255188\n",
      "4000 1308202\n",
      "5000 1535663\n",
      "6000 18741652\n",
      "7000 25360855\n",
      "8000 6870406\n",
      "9000 14103099\n",
      "10000 6687244\n",
      "11000 14205014\n",
      "12000 12992358\n",
      "13000 3476790\n",
      "14000 24542360\n",
      "15000 26213976\n",
      "16000 22370733\n",
      "17000 14077960\n",
      "18000 14388205\n",
      "19000 9409181\n",
      "20000 16873964\n",
      "21000 2393125\n",
      "22000 25768261\n",
      "23000 17168687\n",
      "24000 18696480\n",
      "25000 17289223\n",
      "26000 4576926\n",
      "27000 12908406\n",
      "28000 14409322\n",
      "29000 17254599\n",
      "30000 761610\n",
      "31000 9416864\n",
      "32000 6761103\n",
      "33000 9196372\n",
      "34000 27209805\n",
      "35000 5193460\n",
      "36000 19793842\n",
      "37000 12009305\n",
      "완료\n",
      "37721\n"
     ]
    }
   ],
   "source": [
    "# false data 만들기 - False 데이터 랜덤 생성\n",
    "\n",
    "# 목표치\n",
    "goal_bin = len(bin6_2_Ngram)/right_idx\n",
    "count_bin = 0\n",
    "\n",
    "print(goal_bin)\n",
    "\n",
    "# 최종 데이터 Frame\n",
    "d_bin = pd.DataFrame(columns = bin6_2.columns)\n",
    "\n",
    "binutils_df = []\n",
    "# goal 에 도달할 때까지\n",
    "while True:\n",
    "    if (count_bin == goal_bin):\n",
    "            break\n",
    "    # 진행상황 살펴보기 위함\n",
    "            \n",
    "    # 랜덤 N 바이트씩 뽑음\n",
    "    # random index\n",
    "    random_idx_bin = np.random.randint(len(bin6_2)-right_idx)\n",
    "\n",
    "    if count_bin % 1000==0:\n",
    "        print(count_bin, end=' ')\n",
    "        print(random_idx_bin)\n",
    "\n",
    "    df_bin = bin6_2[random_idx_bin : random_idx_bin + right_idx]\n",
    "    \n",
    "    # 뽑은 index의 N 바이트 중에 1이 없는 경우만\n",
    "    if 1 not in df_bin['label'] and count_bin < goal_bin:\n",
    "        binutils_df.append(df_bin)\n",
    "        count_bin+=1\n",
    "\n",
    "print('완료')\n",
    "print(len(binutils_df))"
   ]
  },
  {
   "cell_type": "code",
   "execution_count": 5,
   "metadata": {},
   "outputs": [
    {
     "name": "stdout",
     "output_type": "stream",
     "text": [
      "37721\n",
      "37721\n"
     ]
    }
   ],
   "source": [
    "# True data와 False Data 같은지 체크\n",
    "print(len(binutils_df))\n",
    "print(bin6_2['label'].value_counts()[1])"
   ]
  },
  {
   "cell_type": "markdown",
   "metadata": {},
   "source": [
    "## (5) False Data + True Data 합치기"
   ]
  },
  {
   "cell_type": "code",
   "execution_count": 6,
   "metadata": {},
   "outputs": [
    {
     "data": {
      "text/plain": [
       "(3621216, 2)"
      ]
     },
     "execution_count": 6,
     "metadata": {},
     "output_type": "execute_result"
    }
   ],
   "source": [
    "f_data = pd.concat(binutils_df)\n",
    "final = pd.concat([f_data, bin6_2_Ngram])\n",
    "final.shape"
   ]
  },
  {
   "cell_type": "markdown",
   "metadata": {},
   "source": [
    "## (6) one hot encoding"
   ]
  },
  {
   "cell_type": "code",
   "execution_count": 7,
   "metadata": {},
   "outputs": [
    {
     "name": "stdout",
     "output_type": "stream",
     "text": [
      "원핫인코딩완료\n",
      "(3621216, 257)\n"
     ]
    }
   ],
   "source": [
    "# 훈련데이터 (gcc 최적화버전 0, 1, 2, 3 one hot encoding)\n",
    "bc6_2_onehot_Ngram = pd.get_dummies(final['bin'])\n",
    "bc6_2_onehot_Ngram = pd.concat([final['label'], bc6_2_onehot_Ngram], axis=1)\n",
    "\n",
    "print('원핫인코딩완료')\n",
    "print(bc6_2_onehot_Ngram.shape)"
   ]
  },
  {
   "cell_type": "code",
   "execution_count": 8,
   "metadata": {},
   "outputs": [
    {
     "name": "stdout",
     "output_type": "stream",
     "text": [
      "(3621216, 256) (3621216, 256)\n",
      "(75442, 48, 256) (75442, 48, 1)\n"
     ]
    }
   ],
   "source": [
    "# 훈련 데이터, 훈련 라벨\n",
    "x_bc6_2 = bc6_2_onehot_Ngram.iloc[:,1:].to_numpy()\n",
    "y_bc6_2 = bc6_2_onehot_Ngram['label'].to_numpy()\n",
    "print(x_bc6_2.shape, x_bc6_2.shape)\n",
    "\n",
    "x_bc6_2 = x_bc6_2.reshape(-1, right_idx, x_bc6_2.shape[1])\n",
    "y_bc6_2 = y_bc6_2.reshape(-1, right_idx, 1)\n",
    "\n",
    "print(x_bc6_2.shape, y_bc6_2.shape)"
   ]
  },
  {
   "cell_type": "code",
   "execution_count": 9,
   "metadata": {},
   "outputs": [
    {
     "name": "stdout",
     "output_type": "stream",
     "text": [
      "(75442, 48, 256) (75442, 48, 1)\n"
     ]
    }
   ],
   "source": [
    "# numpy 행, 열 섞기\n",
    "p = np.random.permutation(x_bc6_2.shape[0])\n",
    "\n",
    "x_bc6_2 = x_bc6_2[p]\n",
    "y_bc6_2 = y_bc6_2[p]\n",
    "\n",
    "print(x_bc6_2.shape, y_bc6_2.shape)"
   ]
  },
  {
   "cell_type": "markdown",
   "metadata": {},
   "source": [
    "## (7) 모델"
   ]
  },
  {
   "cell_type": "code",
   "execution_count": 10,
   "metadata": {},
   "outputs": [],
   "source": [
    "# (10) 양방향 LSTM 모델링 작업\n",
    "from tensorflow.keras import layers, models\n",
    "#from tf.keras.models import Model, Sequential\n",
    "#from tf.keras.layers import SimpleRNN, Input, Dense, LSTM\n",
    "#from tf.keras.layers import Bidirectional, TimeDistributed\n",
    "\n",
    "# 학습\n",
    "from tensorflow.keras.callbacks import EarlyStopping\n",
    "early_stopping = EarlyStopping(patience = 3) # 조기종료 콜백함수 정의\n",
    "\n",
    "xInput = layers.Input(batch_shape=(None,right_idx, 256)) \n",
    "xBiLstm = layers.Bidirectional(layers.LSTM(72, return_sequences=True, stateful=False), merge_mode = 'concat')(xInput)\n",
    "xOutput = layers.TimeDistributed(layers.Dense(1, activation ='sigmoid'))(xBiLstm) # 각 스텝에서 cost가 전송되고, 오류가 다음 step으로 전송됨."
   ]
  },
  {
   "cell_type": "markdown",
   "metadata": {},
   "source": [
    "## (8) 학습 - 10 KFold"
   ]
  },
  {
   "cell_type": "code",
   "execution_count": 11,
   "metadata": {
    "scrolled": false
   },
   "outputs": [
    {
     "name": "stdout",
     "output_type": "stream",
     "text": [
      "Model: \"model\"\n",
      "_________________________________________________________________\n",
      "Layer (type)                 Output Shape              Param #   \n",
      "=================================================================\n",
      "input_1 (InputLayer)         [(None, 48, 256)]         0         \n",
      "_________________________________________________________________\n",
      "bidirectional (Bidirectional (None, 48, 144)           189504    \n",
      "_________________________________________________________________\n",
      "time_distributed (TimeDistri (None, 48, 1)             145       \n",
      "=================================================================\n",
      "Total params: 189,649\n",
      "Trainable params: 189,649\n",
      "Non-trainable params: 0\n",
      "_________________________________________________________________\n",
      "======Training stage======\n",
      "Train on 67897 samples\n",
      "Epoch 1/10\n",
      "67840/67897 [============================>.] - ETA: 0s - loss: 0.0091 - accuracy: 0.9976WARNING:tensorflow:Early stopping conditioned on metric `val_loss` which is not available. Available metrics are: loss,accuracy\n",
      "67897/67897 [==============================] - 153s 2ms/sample - loss: 0.0091 - accuracy: 0.9976\n",
      "Epoch 2/10\n",
      "67872/67897 [============================>.] - ETA: 0s - loss: 0.0012 - accuracy: 0.9996WARNING:tensorflow:Early stopping conditioned on metric `val_loss` which is not available. Available metrics are: loss,accuracy\n",
      "67897/67897 [==============================] - 101s 1ms/sample - loss: 0.0012 - accuracy: 0.9996\n",
      "Epoch 3/10\n",
      "67872/67897 [============================>.] - ETA: 0s - loss: 8.1653e-04 - accuracy: 0.9998WARNING:tensorflow:Early stopping conditioned on metric `val_loss` which is not available. Available metrics are: loss,accuracy\n",
      "67897/67897 [==============================] - 101s 1ms/sample - loss: 8.1656e-04 - accuracy: 0.9998\n",
      "Epoch 4/10\n",
      "67872/67897 [============================>.] - ETA: 0s - loss: 6.1374e-04 - accuracy: 0.9998WARNING:tensorflow:Early stopping conditioned on metric `val_loss` which is not available. Available metrics are: loss,accuracy\n",
      "67897/67897 [==============================] - 101s 1ms/sample - loss: 6.1552e-04 - accuracy: 0.9998\n",
      "Epoch 5/10\n",
      "67840/67897 [============================>.] - ETA: 0s - loss: 4.8906e-04 - accuracy: 0.9999WARNING:tensorflow:Early stopping conditioned on metric `val_loss` which is not available. Available metrics are: loss,accuracy\n",
      "67897/67897 [==============================] - 101s 1ms/sample - loss: 4.8897e-04 - accuracy: 0.9999\n",
      "Epoch 6/10\n",
      "67872/67897 [============================>.] - ETA: 0s - loss: 4.0838e-04 - accuracy: 0.9999WARNING:tensorflow:Early stopping conditioned on metric `val_loss` which is not available. Available metrics are: loss,accuracy\n",
      "67897/67897 [==============================] - 101s 1ms/sample - loss: 4.0825e-04 - accuracy: 0.9999\n",
      "Epoch 7/10\n",
      "67872/67897 [============================>.] - ETA: 0s - loss: 3.3470e-04 - accuracy: 0.9999WARNING:tensorflow:Early stopping conditioned on metric `val_loss` which is not available. Available metrics are: loss,accuracy\n",
      "67897/67897 [==============================] - 101s 1ms/sample - loss: 3.3459e-04 - accuracy: 0.9999\n",
      "Epoch 8/10\n",
      "67872/67897 [============================>.] - ETA: 0s - loss: 2.7726e-04 - accuracy: 0.9999WARNING:tensorflow:Early stopping conditioned on metric `val_loss` which is not available. Available metrics are: loss,accuracy\n",
      "67897/67897 [==============================] - 101s 1ms/sample - loss: 2.7716e-04 - accuracy: 0.9999\n",
      "Epoch 9/10\n",
      "67872/67897 [============================>.] - ETA: 0s - loss: 2.4003e-04 - accuracy: 0.9999WARNING:tensorflow:Early stopping conditioned on metric `val_loss` which is not available. Available metrics are: loss,accuracy\n",
      "67897/67897 [==============================] - 102s 1ms/sample - loss: 2.3994e-04 - accuracy: 0.9999\n",
      "Epoch 10/10\n",
      "67840/67897 [============================>.] - ETA: 0s - loss: 2.1322e-04 - accuracy: 0.9999WARNING:tensorflow:Early stopping conditioned on metric `val_loss` which is not available. Available metrics are: loss,accuracy\n",
      "67897/67897 [==============================] - 102s 1ms/sample - loss: 2.1305e-04 - accuracy: 0.9999\n"
     ]
    },
    {
     "data": {
      "text/plain": [
       "<tensorflow.python.keras.callbacks.History at 0x266cf53b288>"
      ]
     },
     "execution_count": 11,
     "metadata": {},
     "output_type": "execute_result"
    },
    {
     "name": "stdout",
     "output_type": "stream",
     "text": [
      "accuracy_score 0.9998923127899271\n",
      "recall_score 0.9957965531736024\n",
      "precision_score 0.9960058860626445\n",
      "f1_score 0.9959012086179717\n",
      "Model: \"model_1\"\n",
      "_________________________________________________________________\n",
      "Layer (type)                 Output Shape              Param #   \n",
      "=================================================================\n",
      "input_1 (InputLayer)         [(None, 48, 256)]         0         \n",
      "_________________________________________________________________\n",
      "bidirectional (Bidirectional (None, 48, 144)           189504    \n",
      "_________________________________________________________________\n",
      "time_distributed (TimeDistri (None, 48, 1)             145       \n",
      "=================================================================\n",
      "Total params: 189,649\n",
      "Trainable params: 189,649\n",
      "Non-trainable params: 0\n",
      "_________________________________________________________________\n",
      "======Training stage======\n",
      "Train on 67897 samples\n",
      "Epoch 1/10\n",
      "67840/67897 [============================>.] - ETA: 0s - loss: 2.1679e-04 - accuracy: 0.9999 ETA: 0s - loss: 2.1644e-04 - WARNING:tensorflow:Early stopping conditioned on metric `val_loss` which is not available. Available metrics are: loss,accuracy\n",
      "67897/67897 [==============================] - 114s 2ms/sample - loss: 2.1721e-04 - accuracy: 0.9999\n",
      "Epoch 2/10\n",
      "67872/67897 [============================>.] - ETA: 0s - loss: 1.8531e-04 - accuracy: 0.9999WARNING:tensorflow:Early stopping conditioned on metric `val_loss` which is not available. Available metrics are: loss,accuracy\n",
      "67897/67897 [==============================] - 100s 1ms/sample - loss: 1.8524e-04 - accuracy: 0.9999\n",
      "Epoch 3/10\n",
      "67872/67897 [============================>.] - ETA: 0s - loss: 1.5762e-04 - accuracy: 1.0000WARNING:tensorflow:Early stopping conditioned on metric `val_loss` which is not available. Available metrics are: loss,accuracy\n",
      "67897/67897 [==============================] - 100s 1ms/sample - loss: 1.5760e-04 - accuracy: 1.0000\n",
      "Epoch 4/10\n",
      "67840/67897 [============================>.] - ETA: 0s - loss: 1.2285e-04 - accuracy: 1.0000WARNING:tensorflow:Early stopping conditioned on metric `val_loss` which is not available. Available metrics are: loss,accuracy\n",
      "67897/67897 [==============================] - 99s 1ms/sample - loss: 1.2276e-04 - accuracy: 1.0000\n",
      "Epoch 5/10\n",
      "67872/67897 [============================>.] - ETA: 0s - loss: 1.1613e-04 - accuracy: 1.0000WARNING:tensorflow:Early stopping conditioned on metric `val_loss` which is not available. Available metrics are: loss,accuracy\n",
      "67897/67897 [==============================] - 101s 1ms/sample - loss: 1.1809e-04 - accuracy: 1.0000\n",
      "Epoch 6/10\n",
      "67872/67897 [============================>.] - ETA: 0s - loss: 9.3979e-05 - accuracy: 1.0000WARNING:tensorflow:Early stopping conditioned on metric `val_loss` which is not available. Available metrics are: loss,accuracy\n",
      "67897/67897 [==============================] - 130s 2ms/sample - loss: 9.3944e-05 - accuracy: 1.0000\n",
      "Epoch 7/10\n",
      "67872/67897 [============================>.] - ETA: 0s - loss: 7.9705e-05 - accuracy: 1.0000WARNING:tensorflow:Early stopping conditioned on metric `val_loss` which is not available. Available metrics are: loss,accuracy\n",
      "67897/67897 [==============================] - 142s 2ms/sample - loss: 7.9744e-05 - accuracy: 1.0000\n",
      "Epoch 8/10\n",
      "67840/67897 [============================>.] - ETA: 0s - loss: 7.0046e-05 - accuracy: 1.0000WARNING:tensorflow:Early stopping conditioned on metric `val_loss` which is not available. Available metrics are: loss,accuracy\n",
      "67897/67897 [==============================] - 136s 2ms/sample - loss: 6.9988e-05 - accuracy: 1.0000\n",
      "Epoch 9/10\n",
      "67872/67897 [============================>.] - ETA: 0s - loss: 6.2187e-05 - accuracy: 1.0000WARNING:tensorflow:Early stopping conditioned on metric `val_loss` which is not available. Available metrics are: loss,accuracy\n",
      "67897/67897 [==============================] - 102s 2ms/sample - loss: 6.2164e-05 - accuracy: 1.0000\n",
      "Epoch 10/10\n",
      "67840/67897 [============================>.] - ETA: 0s - loss: 5.0654e-05 - accuracy: 1.0000WARNING:tensorflow:Early stopping conditioned on metric `val_loss` which is not available. Available metrics are: loss,accuracy\n",
      "67897/67897 [==============================] - 102s 2ms/sample - loss: 5.0659e-05 - accuracy: 1.0000\n"
     ]
    },
    {
     "data": {
      "text/plain": [
       "<tensorflow.python.keras.callbacks.History at 0x266d8835f88>"
      ]
     },
     "execution_count": 11,
     "metadata": {},
     "output_type": "execute_result"
    },
    {
     "name": "stdout",
     "output_type": "stream",
     "text": [
      "accuracy_score 0.9999364921581622\n",
      "recall_score 0.9981088463963017\n",
      "precision_score 0.9970612930310663\n",
      "f1_score 0.9975847947075501\n",
      "Model: \"model_2\"\n",
      "_________________________________________________________________\n",
      "Layer (type)                 Output Shape              Param #   \n",
      "=================================================================\n",
      "input_1 (InputLayer)         [(None, 48, 256)]         0         \n",
      "_________________________________________________________________\n",
      "bidirectional (Bidirectional (None, 48, 144)           189504    \n",
      "_________________________________________________________________\n",
      "time_distributed (TimeDistri (None, 48, 1)             145       \n",
      "=================================================================\n",
      "Total params: 189,649\n",
      "Trainable params: 189,649\n",
      "Non-trainable params: 0\n",
      "_________________________________________________________________\n",
      "======Training stage======\n",
      "Train on 67898 samples\n",
      "Epoch 1/10\n",
      "67872/67898 [============================>.] - ETA: 0s - loss: 8.3219e-05 - accuracy: 1.0000WARNING:tensorflow:Early stopping conditioned on metric `val_loss` which is not available. Available metrics are: loss,accuracy\n",
      "67898/67898 [==============================] - 113s 2ms/sample - loss: 8.3187e-05 - accuracy: 1.0000\n",
      "Epoch 2/10\n",
      "67872/67898 [============================>.] - ETA: 0s - loss: 6.9970e-05 - accuracy: 1.0000WARNING:tensorflow:Early stopping conditioned on metric `val_loss` which is not available. Available metrics are: loss,accuracy\n",
      "67898/67898 [==============================] - 98s 1ms/sample - loss: 6.9943e-05 - accuracy: 1.0000\n",
      "Epoch 3/10\n",
      "67840/67898 [============================>.] - ETA: 0s - loss: 5.4474e-05 - accuracy: 1.0000 ETA: 1sWARNING:tensorflow:Early stopping conditioned on metric `val_loss` which is not available. Available metrics are: loss,accuracy\n",
      "67898/67898 [==============================] - 98s 1ms/sample - loss: 5.4452e-05 - accuracy: 1.0000\n",
      "Epoch 4/10\n",
      "67840/67898 [============================>.] - ETA: 0s - loss: 5.2924e-05 - accuracy: 1.0000WARNING:tensorflow:Early stopping conditioned on metric `val_loss` which is not available. Available metrics are: loss,accuracy\n",
      "67898/67898 [==============================] - 98s 1ms/sample - loss: 5.2879e-05 - accuracy: 1.0000\n",
      "Epoch 5/10\n",
      "67840/67898 [============================>.] - ETA: 0s - loss: 4.7437e-05 - accuracy: 1.0000WARNING:tensorflow:Early stopping conditioned on metric `val_loss` which is not available. Available metrics are: loss,accuracy\n",
      "67898/67898 [==============================] - 99s 1ms/sample - loss: 4.7396e-05 - accuracy: 1.0000\n",
      "Epoch 6/10\n",
      "67872/67898 [============================>.] - ETA: 0s - loss: 2.9988e-05 - accuracy: 1.0000WARNING:tensorflow:Early stopping conditioned on metric `val_loss` which is not available. Available metrics are: loss,accuracy\n",
      "67898/67898 [==============================] - 95s 1ms/sample - loss: 2.9976e-05 - accuracy: 1.0000\n",
      "Epoch 7/10\n",
      "67872/67898 [============================>.] - ETA: 0s - loss: 3.5560e-05 - accuracy: 1.0000WARNING:tensorflow:Early stopping conditioned on metric `val_loss` which is not available. Available metrics are: loss,accuracy\n",
      "67898/67898 [==============================] - 94s 1ms/sample - loss: 3.5546e-05 - accuracy: 1.0000\n",
      "Epoch 8/10\n",
      "67872/67898 [============================>.] - ETA: 0s - loss: 2.9258e-05 - accuracy: 1.0000 ETA: 1s - loss: 2.948WARNING:tensorflow:Early stopping conditioned on metric `val_loss` which is not available. Available metrics are: loss,accuracy\n",
      "67898/67898 [==============================] - 94s 1ms/sample - loss: 2.9247e-05 - accuracy: 1.0000\n",
      "Epoch 9/10\n",
      "67872/67898 [============================>.] - ETA: 0s - loss: 3.0412e-05 - accuracy: 1.0000WARNING:tensorflow:Early stopping conditioned on metric `val_loss` which is not available. Available metrics are: loss,accuracy\n",
      "67898/67898 [==============================] - 94s 1ms/sample - loss: 3.0400e-05 - accuracy: 1.0000\n",
      "Epoch 10/10\n",
      "67840/67898 [============================>.] - ETA: 0s - loss: 2.5851e-05 - accuracy: 1.0000WARNING:tensorflow:Early stopping conditioned on metric `val_loss` which is not available. Available metrics are: loss,accuracy\n",
      "67898/67898 [==============================] - 95s 1ms/sample - loss: 2.5829e-05 - accuracy: 1.0000\n"
     ]
    },
    {
     "data": {
      "text/plain": [
       "<tensorflow.python.keras.callbacks.History at 0x266e213fd88>"
      ]
     },
     "execution_count": 11,
     "metadata": {},
     "output_type": "execute_result"
    },
    {
     "name": "stdout",
     "output_type": "stream",
     "text": [
      "accuracy_score 0.9999806689642984\n",
      "recall_score 0.9997885388031297\n",
      "precision_score 0.9987325728770595\n",
      "f1_score 0.9992602768678008\n",
      "Model: \"model_3\"\n",
      "_________________________________________________________________\n",
      "Layer (type)                 Output Shape              Param #   \n",
      "=================================================================\n",
      "input_1 (InputLayer)         [(None, 48, 256)]         0         \n",
      "_________________________________________________________________\n",
      "bidirectional (Bidirectional (None, 48, 144)           189504    \n",
      "_________________________________________________________________\n",
      "time_distributed (TimeDistri (None, 48, 1)             145       \n",
      "=================================================================\n",
      "Total params: 189,649\n",
      "Trainable params: 189,649\n",
      "Non-trainable params: 0\n",
      "_________________________________________________________________\n",
      "======Training stage======\n",
      "Train on 67898 samples\n",
      "Epoch 1/10\n",
      "67872/67898 [============================>.] - ETA: 0s - loss: 4.0406e-05 - accuracy: 1.0000WARNING:tensorflow:Early stopping conditioned on metric `val_loss` which is not available. Available metrics are: loss,accuracy\n",
      "67898/67898 [==============================] - 175s 3ms/sample - loss: 4.0391e-05 - accuracy: 1.0000\n",
      "Epoch 2/10\n",
      "67872/67898 [============================>.] - ETA: 0s - loss: 3.5611e-05 - accuracy: 1.0000WARNING:tensorflow:Early stopping conditioned on metric `val_loss` which is not available. Available metrics are: loss,accuracy\n",
      "67898/67898 [==============================] - 136s 2ms/sample - loss: 3.5597e-05 - accuracy: 1.0000\n",
      "Epoch 3/10\n",
      "67872/67898 [============================>.] - ETA: 0s - loss: 3.3828e-05 - accuracy: 1.0000WARNING:tensorflow:Early stopping conditioned on metric `val_loss` which is not available. Available metrics are: loss,accuracy\n",
      "67898/67898 [==============================] - 107s 2ms/sample - loss: 3.3815e-05 - accuracy: 1.0000\n",
      "Epoch 4/10\n",
      "67872/67898 [============================>.] - ETA: 0s - loss: 2.4744e-05 - accuracy: 1.0000WARNING:tensorflow:Early stopping conditioned on metric `val_loss` which is not available. Available metrics are: loss,accuracy\n",
      "67898/67898 [==============================] - 96s 1ms/sample - loss: 2.4735e-05 - accuracy: 1.0000\n",
      "Epoch 5/10\n",
      "67872/67898 [============================>.] - ETA: 0s - loss: 3.0168e-05 - accuracy: 1.0000WARNING:tensorflow:Early stopping conditioned on metric `val_loss` which is not available. Available metrics are: loss,accuracy\n",
      "67898/67898 [==============================] - 118s 2ms/sample - loss: 3.0157e-05 - accuracy: 1.0000\n",
      "Epoch 6/10\n",
      "67872/67898 [============================>.] - ETA: 0s - loss: 2.3161e-05 - accuracy: 1.0000WARNING:tensorflow:Early stopping conditioned on metric `val_loss` which is not available. Available metrics are: loss,accuracy\n",
      "67898/67898 [==============================] - 111s 2ms/sample - loss: 2.3152e-05 - accuracy: 1.0000\n",
      "Epoch 7/10\n",
      "67840/67898 [============================>.] - ETA: 0s - loss: 2.2983e-05 - accuracy: 1.0000 ETA: 0s - loss: 2.3103e-05 - accuWARNING:tensorflow:Early stopping conditioned on metric `val_loss` which is not available. Available metrics are: loss,accuracy\n",
      "67898/67898 [==============================] - 99s 1ms/sample - loss: 2.2964e-05 - accuracy: 1.0000\n",
      "Epoch 8/10\n",
      "67840/67898 [============================>.] - ETA: 0s - loss: 2.2971e-05 - accuracy: 1.0000WARNING:tensorflow:Early stopping conditioned on metric `val_loss` which is not available. Available metrics are: loss,accuracy\n",
      "67898/67898 [==============================] - 98s 1ms/sample - loss: 2.2951e-05 - accuracy: 1.0000\n",
      "Epoch 9/10\n",
      "67872/67898 [============================>.] - ETA: 0s - loss: 1.8378e-05 - accuracy: 1.0000WARNING:tensorflow:Early stopping conditioned on metric `val_loss` which is not available. Available metrics are: loss,accuracy\n",
      "67898/67898 [==============================] - 99s 1ms/sample - loss: 1.8371e-05 - accuracy: 1.0000\n",
      "Epoch 10/10\n",
      "67872/67898 [============================>.] - ETA: 0s - loss: 1.9170e-05 - accuracy: 1.0000WARNING:tensorflow:Early stopping conditioned on metric `val_loss` which is not available. Available metrics are: loss,accuracy\n",
      "67898/67898 [==============================] - 99s 1ms/sample - loss: 1.9162e-05 - accuracy: 1.0000\n"
     ]
    },
    {
     "data": {
      "text/plain": [
       "<tensorflow.python.keras.callbacks.History at 0x266e7f61588>"
      ]
     },
     "execution_count": 11,
     "metadata": {},
     "output_type": "execute_result"
    },
    {
     "name": "stdout",
     "output_type": "stream",
     "text": [
      "accuracy_score 0.9999834305408272\n",
      "recall_score 0.9987481744210307\n",
      "precision_score 1.0\n",
      "f1_score 0.9993736951983299\n",
      "Model: \"model_4\"\n",
      "_________________________________________________________________\n",
      "Layer (type)                 Output Shape              Param #   \n",
      "=================================================================\n",
      "input_1 (InputLayer)         [(None, 48, 256)]         0         \n",
      "_________________________________________________________________\n",
      "bidirectional (Bidirectional (None, 48, 144)           189504    \n",
      "_________________________________________________________________\n",
      "time_distributed (TimeDistri (None, 48, 1)             145       \n",
      "=================================================================\n",
      "Total params: 189,649\n",
      "Trainable params: 189,649\n",
      "Non-trainable params: 0\n",
      "_________________________________________________________________\n",
      "======Training stage======\n",
      "Train on 67898 samples\n",
      "Epoch 1/10\n",
      "67840/67898 [============================>.] - ETA: 0s - loss: 2.5072e-05 - accuracy: 1.0000 ETA: 0s - loss: 2.5243e-05 - WARNING:tensorflow:Early stopping conditioned on metric `val_loss` which is not available. Available metrics are: loss,accuracy\n",
      "67898/67898 [==============================] - 112s 2ms/sample - loss: 2.5050e-05 - accuracy: 1.0000\n",
      "Epoch 2/10\n",
      "67840/67898 [============================>.] - ETA: 0s - loss: 1.9083e-05 - accuracy: 1.0000WARNING:tensorflow:Early stopping conditioned on metric `val_loss` which is not available. Available metrics are: loss,accuracy\n",
      "67898/67898 [==============================] - 98s 1ms/sample - loss: 1.9201e-05 - accuracy: 1.0000\n",
      "Epoch 3/10\n",
      "67840/67898 [============================>.] - ETA: 0s - loss: 1.7210e-05 - accuracy: 1.0000WARNING:tensorflow:Early stopping conditioned on metric `val_loss` which is not available. Available metrics are: loss,accuracy\n",
      "67898/67898 [==============================] - 98s 1ms/sample - loss: 1.7195e-05 - accuracy: 1.0000\n",
      "Epoch 4/10\n",
      "67840/67898 [============================>.] - ETA: 0s - loss: 1.6732e-05 - accuracy: 1.0000WARNING:tensorflow:Early stopping conditioned on metric `val_loss` which is not available. Available metrics are: loss,accuracy\n",
      "67898/67898 [==============================] - 99s 1ms/sample - loss: 1.6718e-05 - accuracy: 1.0000\n",
      "Epoch 5/10\n",
      "67840/67898 [============================>.] - ETA: 0s - loss: 1.6395e-05 - accuracy: 1.0000WARNING:tensorflow:Early stopping conditioned on metric `val_loss` which is not available. Available metrics are: loss,accuracy\n",
      "67898/67898 [==============================] - 98s 1ms/sample - loss: 1.6381e-05 - accuracy: 1.0000\n",
      "Epoch 6/10\n",
      "67840/67898 [============================>.] - ETA: 0s - loss: 1.9841e-05 - accuracy: 1.0000WARNING:tensorflow:Early stopping conditioned on metric `val_loss` which is not available. Available metrics are: loss,accuracy\n",
      "67898/67898 [==============================] - 98s 1ms/sample - loss: 1.9824e-05 - accuracy: 1.0000\n",
      "Epoch 7/10\n",
      "67872/67898 [============================>.] - ETA: 0s - loss: 1.5110e-05 - accuracy: 1.0000 ETAWARNING:tensorflow:Early stopping conditioned on metric `val_loss` which is not available. Available metrics are: loss,accuracy\n",
      "67898/67898 [==============================] - 98s 1ms/sample - loss: 1.5104e-05 - accuracy: 1.0000\n",
      "Epoch 8/10\n",
      "67840/67898 [============================>.] - ETA: 0s - loss: 1.4336e-05 - accuracy: 1.0000WARNING:tensorflow:Early stopping conditioned on metric `val_loss` which is not available. Available metrics are: loss,accuracy\n",
      "67898/67898 [==============================] - 97s 1ms/sample - loss: 1.4324e-05 - accuracy: 1.0000\n",
      "Epoch 9/10\n",
      "67840/67898 [============================>.] - ETA: 0s - loss: 1.4801e-05 - accuracy: 1.0000WARNING:tensorflow:Early stopping conditioned on metric `val_loss` which is not available. Available metrics are: loss,accuracy\n",
      "67898/67898 [==============================] - 98s 1ms/sample - loss: 1.4788e-05 - accuracy: 1.0000\n",
      "Epoch 10/10\n",
      "67872/67898 [============================>.] - ETA: 0s - loss: 1.4556e-05 - accuracy: 1.0000WARNING:tensorflow:Early stopping conditioned on metric `val_loss` which is not available. Available metrics are: loss,accuracy\n",
      "67898/67898 [==============================] - 99s 1ms/sample - loss: 1.4550e-05 - accuracy: 1.0000\n"
     ]
    },
    {
     "data": {
      "text/plain": [
       "<tensorflow.python.keras.callbacks.History at 0x266e3a43588>"
      ]
     },
     "execution_count": 11,
     "metadata": {},
     "output_type": "execute_result"
    },
    {
     "name": "stdout",
     "output_type": "stream",
     "text": [
      "accuracy_score 1.0\n",
      "recall_score 1.0\n",
      "precision_score 1.0\n",
      "f1_score 1.0\n",
      "Model: \"model_5\"\n",
      "_________________________________________________________________\n",
      "Layer (type)                 Output Shape              Param #   \n",
      "=================================================================\n",
      "input_1 (InputLayer)         [(None, 48, 256)]         0         \n",
      "_________________________________________________________________\n",
      "bidirectional (Bidirectional (None, 48, 144)           189504    \n",
      "_________________________________________________________________\n",
      "time_distributed (TimeDistri (None, 48, 1)             145       \n",
      "=================================================================\n",
      "Total params: 189,649\n",
      "Trainable params: 189,649\n",
      "Non-trainable params: 0\n",
      "_________________________________________________________________\n",
      "======Training stage======\n",
      "Train on 67898 samples\n",
      "Epoch 1/10\n",
      "67872/67898 [============================>.] - ETA: 0s - loss: 1.9285e-05 - accuracy: 1.0000WARNING:tensorflow:Early stopping conditioned on metric `val_loss` which is not available. Available metrics are: loss,accuracy\n",
      "67898/67898 [==============================] - 185s 3ms/sample - loss: 1.9278e-05 - accuracy: 1.0000\n",
      "Epoch 2/10\n",
      "67840/67898 [============================>.] - ETA: 0s - loss: 2.0032e-05 - accuracy: 1.0000 ETA: 2s - loss: 2.0385e-05 -  - ETA: 2s -WARNING:tensorflow:Early stopping conditioned on metric `val_loss` which is not available. Available metrics are: loss,accuracy\n",
      "67898/67898 [==============================] - 140s 2ms/sample - loss: 2.0015e-05 - accuracy: 1.0000\n",
      "Epoch 3/10\n",
      "67840/67898 [============================>.] - ETA: 0s - loss: 1.4168e-05 - accuracy: 1.0000WARNING:tensorflow:Early stopping conditioned on metric `val_loss` which is not available. Available metrics are: loss,accuracy\n",
      "67898/67898 [==============================] - 99s 1ms/sample - loss: 1.4156e-05 - accuracy: 1.0000\n",
      "Epoch 4/10\n",
      "67840/67898 [============================>.] - ETA: 0s - loss: 1.4161e-05 - accuracy: 1.0000WARNING:tensorflow:Early stopping conditioned on metric `val_loss` which is not available. Available metrics are: loss,accuracy\n",
      "67898/67898 [==============================] - 99s 1ms/sample - loss: 1.4149e-05 - accuracy: 1.0000\n",
      "Epoch 5/10\n",
      "67872/67898 [============================>.] - ETA: 0s - loss: 1.4151e-05 - accuracy: 1.0000WARNING:tensorflow:Early stopping conditioned on metric `val_loss` which is not available. Available metrics are: loss,accuracy\n",
      "67898/67898 [==============================] - 98s 1ms/sample - loss: 1.4146e-05 - accuracy: 1.0000\n",
      "Epoch 7/10\n",
      "67840/67898 [============================>.] - ETA: 0s - loss: 1.4158e-05 - accuracy: 1.0000WARNING:tensorflow:Early stopping conditioned on metric `val_loss` which is not available. Available metrics are: loss,accuracy\n",
      "67898/67898 [==============================] - 99s 1ms/sample - loss: 1.4146e-05 - accuracy: 1.0000\n",
      "Epoch 8/10\n",
      "67872/67898 [============================>.] - ETA: 0s - loss: 1.4151e-05 - accuracy: 1.0000WARNING:tensorflow:Early stopping conditioned on metric `val_loss` which is not available. Available metrics are: loss,accuracy\n",
      "67898/67898 [==============================] - 98s 1ms/sample - loss: 1.4145e-05 - accuracy: 1.0000\n",
      "Epoch 9/10\n",
      "67840/67898 [============================>.] - ETA: 0s - loss: 1.4157e-05 - accuracy: 1.0000WARNING:tensorflow:Early stopping conditioned on metric `val_loss` which is not available. Available metrics are: loss,accuracy\n",
      "67898/67898 [==============================] - 95s 1ms/sample - loss: 1.4145e-05 - accuracy: 1.0000\n",
      "Epoch 10/10\n",
      "67872/67898 [============================>.] - ETA: 0s - loss: 1.4151e-05 - accuracy: 1.0000 ETA: 1s - loss: 1.4395e-05 - accura - ETA: 0s - loss: 1.4198e-05 - acWARNING:tensorflow:Early stopping conditioned on metric `val_loss` which is not available. Available metrics are: loss,accuracy\n",
      "67898/67898 [==============================] - 110s 2ms/sample - loss: 1.4145e-05 - accuracy: 1.0000\n"
     ]
    },
    {
     "data": {
      "text/plain": [
       "<tensorflow.python.keras.callbacks.History at 0x266e38ffe48>"
      ]
     },
     "execution_count": 11,
     "metadata": {},
     "output_type": "execute_result"
    },
    {
     "name": "stdout",
     "output_type": "stream",
     "text": [
      "accuracy_score 1.0\n",
      "recall_score 1.0\n",
      "precision_score 1.0\n",
      "f1_score 1.0\n",
      "Model: \"model_6\"\n",
      "_________________________________________________________________\n",
      "Layer (type)                 Output Shape              Param #   \n",
      "=================================================================\n",
      "input_1 (InputLayer)         [(None, 48, 256)]         0         \n",
      "_________________________________________________________________\n",
      "bidirectional (Bidirectional (None, 48, 144)           189504    \n",
      "_________________________________________________________________\n",
      "time_distributed (TimeDistri (None, 48, 1)             145       \n",
      "=================================================================\n",
      "Total params: 189,649\n",
      "Trainable params: 189,649\n",
      "Non-trainable params: 0\n",
      "_________________________________________________________________\n",
      "======Training stage======\n",
      "Train on 67898 samples\n",
      "Epoch 1/10\n",
      "67840/67898 [============================>.] - ETA: 0s - loss: 9.4745e-06 - accuracy: 1.0000WARNING:tensorflow:Early stopping conditioned on metric `val_loss` which is not available. Available metrics are: loss,accuracy\n",
      "67898/67898 [==============================] - 114s 2ms/sample - loss: 9.4664e-06 - accuracy: 1.0000\n",
      "Epoch 2/10\n",
      "67872/67898 [============================>.] - ETA: 0s - loss: 9.4699e-06 - accuracy: 1.0000 ETA: 1s - loss: 9.5737e-06  - ETA: 0s - loss: 9.5058e-06 - accuracyWARNING:tensorflow:Early stopping conditioned on metric `val_loss` which is not available. Available metrics are: loss,accuracy\n",
      "67898/67898 [==============================] - 97s 1ms/sample - loss: 9.4663e-06 - accuracy: 1.0000\n",
      "Epoch 3/10\n",
      "67840/67898 [============================>.] - ETA: 0s - loss: 9.4744e-06 - accuracy: 1.0000WARNING:tensorflow:Early stopping conditioned on metric `val_loss` which is not available. Available metrics are: loss,accuracy\n",
      "67898/67898 [==============================] - 97s 1ms/sample - loss: 9.4663e-06 - accuracy: 1.0000\n",
      "Epoch 4/10\n",
      "67840/67898 [============================>.] - ETA: 0s - loss: 9.4743e-06 - accuracy: 1.0000 ETA: 1s - losWARNING:tensorflow:Early stopping conditioned on metric `val_loss` which is not available. Available metrics are: loss,accuracy\n",
      "67898/67898 [==============================] - 97s 1ms/sample - loss: 9.4662e-06 - accuracy: 1.0000\n",
      "Epoch 5/10\n",
      "67840/67898 [============================>.] - ETA: 0s - loss: 9.4743e-06 - accuracy: 1.0000 ETA: 1s - loss: 9 - ETA: 0s - loss: 9.4922e-06 - accuracy: 1.WARNING:tensorflow:Early stopping conditioned on metric `val_loss` which is not available. Available metrics are: loss,accuracy\n",
      "67898/67898 [==============================] - 96s 1ms/sample - loss: 9.4662e-06 - accuracy: 1.0000\n",
      "Epoch 6/10\n",
      "67840/67898 [============================>.] - ETA: 0s - loss: 9.4743e-06 - accuracy: 1.0000WARNING:tensorflow:Early stopping conditioned on metric `val_loss` which is not available. Available metrics are: loss,accuracy\n",
      "67898/67898 [==============================] - 97s 1ms/sample - loss: 9.4662e-06 - accuracy: 1.0000\n",
      "Epoch 7/10\n",
      "67840/67898 [============================>.] - ETA: 0s - loss: 9.4743e-06 - accuracy: 1.0000WARNING:tensorflow:Early stopping conditioned on metric `val_loss` which is not available. Available metrics are: loss,accuracy\n",
      "67898/67898 [==============================] - 98s 1ms/sample - loss: 9.4662e-06 - accuracy: 1.0000\n",
      "Epoch 8/10\n",
      "67840/67898 [============================>.] - ETA: 0s - loss: 9.4742e-06 - accuracy: 1.0000WARNING:tensorflow:Early stopping conditioned on metric `val_loss` which is not available. Available metrics are: loss,accuracy\n",
      "67898/67898 [==============================] - 98s 1ms/sample - loss: 9.4661e-06 - accuracy: 1.0000\n",
      "Epoch 9/10\n",
      "67840/67898 [============================>.] - ETA: 0s - loss: 9.4742e-06 - accuracy: 1.0000WARNING:tensorflow:Early stopping conditioned on metric `val_loss` which is not available. Available metrics are: loss,accuracy\n",
      "67898/67898 [==============================] - 98s 1ms/sample - loss: 9.4661e-06 - accuracy: 1.0000\n",
      "Epoch 10/10\n",
      "67872/67898 [============================>.] - ETA: 0s - loss: 9.4697e-06 - accuracy: 1.0000WARNING:tensorflow:Early stopping conditioned on metric `val_loss` which is not available. Available metrics are: loss,accuracy\n",
      "67898/67898 [==============================] - 98s 1ms/sample - loss: 9.4661e-06 - accuracy: 1.0000\n"
     ]
    },
    {
     "data": {
      "text/plain": [
       "<tensorflow.python.keras.callbacks.History at 0x266fbcbd648>"
      ]
     },
     "execution_count": 11,
     "metadata": {},
     "output_type": "execute_result"
    },
    {
     "name": "stdout",
     "output_type": "stream",
     "text": [
      "accuracy_score 0.9999972384234712\n",
      "recall_score 1.0\n",
      "precision_score 0.9997920997920998\n",
      "f1_score 0.9998960390893025\n",
      "Model: \"model_7\"\n",
      "_________________________________________________________________\n",
      "Layer (type)                 Output Shape              Param #   \n",
      "=================================================================\n",
      "input_1 (InputLayer)         [(None, 48, 256)]         0         \n",
      "_________________________________________________________________\n",
      "bidirectional (Bidirectional (None, 48, 144)           189504    \n",
      "_________________________________________________________________\n",
      "time_distributed (TimeDistri (None, 48, 1)             145       \n",
      "=================================================================\n",
      "Total params: 189,649\n",
      "Trainable params: 189,649\n",
      "Non-trainable params: 0\n",
      "_________________________________________________________________\n",
      "======Training stage======\n",
      "Train on 67898 samples\n",
      "Epoch 1/10\n",
      "67840/67898 [============================>.] - ETA: 0s - loss: 1.4157e-05 - accuracy: 1.0000WARNING:tensorflow:Early stopping conditioned on metric `val_loss` which is not available. Available metrics are: loss,accuracy\n",
      "67898/67898 [==============================] - 118s 2ms/sample - loss: 1.4145e-05 - accuracy: 1.0000\n",
      "Epoch 2/10\n",
      "67840/67898 [============================>.] - ETA: 0s - loss: 1.4157e-05 - accuracy: 1.0000WARNING:tensorflow:Early stopping conditioned on metric `val_loss` which is not available. Available metrics are: loss,accuracy\n",
      "67898/67898 [==============================] - 101s 1ms/sample - loss: 1.4145e-05 - accuracy: 1.0000\n",
      "Epoch 3/10\n",
      "67872/67898 [============================>.] - ETA: 0s - loss: 1.4150e-05 - accuracy: 1.0000WARNING:tensorflow:Early stopping conditioned on metric `val_loss` which is not available. Available metrics are: loss,accuracy\n",
      "67898/67898 [==============================] - 96s 1ms/sample - loss: 1.4145e-05 - accuracy: 1.0000\n",
      "Epoch 4/10\n",
      "67872/67898 [============================>.] - ETA: 0s - loss: 1.4150e-05 - accuracy: 1.0000WARNING:tensorflow:Early stopping conditioned on metric `val_loss` which is not available. Available metrics are: loss,accuracy\n",
      "67898/67898 [==============================] - 102s 2ms/sample - loss: 1.4145e-05 - accuracy: 1.0000\n",
      "Epoch 5/10\n",
      "67840/67898 [============================>.] - ETA: 0s - loss: 1.4157e-05 - accuracy: 1.0000WARNING:tensorflow:Early stopping conditioned on metric `val_loss` which is not available. Available metrics are: loss,accuracy\n",
      "67898/67898 [==============================] - 102s 1ms/sample - loss: 1.4145e-05 - accuracy: 1.0000\n",
      "Epoch 6/10\n",
      "67840/67898 [============================>.] - ETA: 0s - loss: 1.4157e-05 - accuracy: 1.0000WARNING:tensorflow:Early stopping conditioned on metric `val_loss` which is not available. Available metrics are: loss,accuracy\n",
      "67898/67898 [==============================] - 102s 1ms/sample - loss: 1.4145e-05 - accuracy: 1.0000\n",
      "Epoch 7/10\n",
      "67872/67898 [============================>.] - ETA: 0s - loss: 1.4150e-05 - accuracy: 1.0000WARNING:tensorflow:Early stopping conditioned on metric `val_loss` which is not available. Available metrics are: loss,accuracy\n",
      "67898/67898 [==============================] - 101s 1ms/sample - loss: 1.4145e-05 - accuracy: 1.0000\n",
      "Epoch 8/10\n",
      "67872/67898 [============================>.] - ETA: 0s - loss: 1.4150e-05 - accuracy: 1.0000 ETA: 1s - losWARNING:tensorflow:Early stopping conditioned on metric `val_loss` which is not available. Available metrics are: loss,accuracy\n",
      "67898/67898 [==============================] - 101s 1ms/sample - loss: 1.4145e-05 - accuracy: 1.0000\n",
      "Epoch 9/10\n",
      "67872/67898 [============================>.] - ETA: 0s - loss: 1.4150e-05 - accuracy: 1.0000WARNING:tensorflow:Early stopping conditioned on metric `val_loss` which is not available. Available metrics are: loss,accuracy\n",
      "67898/67898 [==============================] - 91s 1ms/sample - loss: 1.4145e-05 - accuracy: 1.0000\n",
      "Epoch 10/10\n",
      "67872/67898 [============================>.] - ETA: 0s - loss: 1.4150e-05 - accuracy: 1.0000WARNING:tensorflow:Early stopping conditioned on metric `val_loss` which is not available. Available metrics are: loss,accuracy\n",
      "67898/67898 [==============================] - 91s 1ms/sample - loss: 1.4145e-05 - accuracy: 1.0000\n"
     ]
    },
    {
     "data": {
      "text/plain": [
       "<tensorflow.python.keras.callbacks.History at 0x266d3f0f148>"
      ]
     },
     "execution_count": 11,
     "metadata": {},
     "output_type": "execute_result"
    },
    {
     "name": "stdout",
     "output_type": "stream",
     "text": [
      "accuracy_score 1.0\n",
      "recall_score 1.0\n",
      "precision_score 1.0\n",
      "f1_score 1.0\n",
      "Model: \"model_8\"\n",
      "_________________________________________________________________\n",
      "Layer (type)                 Output Shape              Param #   \n",
      "=================================================================\n",
      "input_1 (InputLayer)         [(None, 48, 256)]         0         \n",
      "_________________________________________________________________\n",
      "bidirectional (Bidirectional (None, 48, 144)           189504    \n",
      "_________________________________________________________________\n",
      "time_distributed (TimeDistri (None, 48, 1)             145       \n",
      "=================================================================\n",
      "Total params: 189,649\n",
      "Trainable params: 189,649\n",
      "Non-trainable params: 0\n",
      "_________________________________________________________________\n",
      "======Training stage======\n",
      "Train on 67898 samples\n",
      "Epoch 1/10\n",
      "67872/67898 [============================>.] - ETA: 0s - loss: 1.4150e-05 - accuracy: 1.0000WARNING:tensorflow:Early stopping conditioned on metric `val_loss` which is not available. Available metrics are: loss,accuracy\n",
      "67898/67898 [==============================] - 118s 2ms/sample - loss: 1.4145e-05 - accuracy: 1.0000\n",
      "Epoch 2/10\n",
      "67840/67898 [============================>.] - ETA: 0s - loss: 1.4157e-05 - accuracy: 1.0000WARNING:tensorflow:Early stopping conditioned on metric `val_loss` which is not available. Available metrics are: loss,accuracy\n",
      "67898/67898 [==============================] - 100s 1ms/sample - loss: 1.4145e-05 - accuracy: 1.0000\n",
      "Epoch 3/10\n",
      "67872/67898 [============================>.] - ETA: 0s - loss: 1.4150e-05 - accuracy: 1.0000WARNING:tensorflow:Early stopping conditioned on metric `val_loss` which is not available. Available metrics are: loss,accuracy\n",
      "67898/67898 [==============================] - 100s 1ms/sample - loss: 1.4145e-05 - accuracy: 1.0000\n",
      "Epoch 4/10\n",
      "67872/67898 [============================>.] - ETA: 0s - loss: 1.4150e-05 - accuracy: 1.0000WARNING:tensorflow:Early stopping conditioned on metric `val_loss` which is not available. Available metrics are: loss,accuracy\n",
      "67898/67898 [==============================] - 100s 1ms/sample - loss: 1.4145e-05 - accuracy: 1.0000\n",
      "Epoch 5/10\n",
      "67840/67898 [============================>.] - ETA: 0s - loss: 1.4157e-05 - accuracy: 1.0000 ETA: 0s - loss: 1.4184e-05 - accuracy: 1.WARNING:tensorflow:Early stopping conditioned on metric `val_loss` which is not available. Available metrics are: loss,accuracy\n",
      "67898/67898 [==============================] - 100s 1ms/sample - loss: 1.4145e-05 - accuracy: 1.0000\n",
      "Epoch 6/10\n",
      "67872/67898 [============================>.] - ETA: 0s - loss: 1.4150e-05 - accuracy: 1.0000WARNING:tensorflow:Early stopping conditioned on metric `val_loss` which is not available. Available metrics are: loss,accuracy\n",
      "67898/67898 [==============================] - 95s 1ms/sample - loss: 1.4145e-05 - accuracy: 1.0000\n",
      "Epoch 7/10\n",
      "67840/67898 [============================>.] - ETA: 0s - loss: 1.4157e-05 - accuracy: 1.0000WARNING:tensorflow:Early stopping conditioned on metric `val_loss` which is not available. Available metrics are: loss,accuracy\n",
      "67898/67898 [==============================] - 91s 1ms/sample - loss: 1.4145e-05 - accuracy: 1.0000\n",
      "Epoch 8/10\n",
      "67840/67898 [============================>.] - ETA: 0s - loss: 1.4157e-05 - accuracy: 1.0000 ETA: 2s - los - ETA: 1s -WARNING:tensorflow:Early stopping conditioned on metric `val_loss` which is not available. Available metrics are: loss,accuracy\n",
      "67898/67898 [==============================] - 91s 1ms/sample - loss: 1.4145e-05 - accuracy: 1.0000\n",
      "Epoch 9/10\n",
      "67840/67898 [============================>.] - ETA: 0s - loss: 1.4157e-05 - accuracy: 1.0000WARNING:tensorflow:Early stopping conditioned on metric `val_loss` which is not available. Available metrics are: loss,accuracy\n",
      "67898/67898 [==============================] - 99s 1ms/sample - loss: 1.4145e-05 - accuracy: 1.0000\n",
      "Epoch 10/10\n",
      "67840/67898 [============================>.] - ETA: 0s - loss: 1.4157e-05 - accuracy: 1.0000 ETA: 1sWARNING:tensorflow:Early stopping conditioned on metric `val_loss` which is not available. Available metrics are: loss,accuracy\n",
      "67898/67898 [==============================] - 100s 1ms/sample - loss: 1.4145e-05 - accuracy: 1.0000\n"
     ]
    },
    {
     "data": {
      "text/plain": [
       "<tensorflow.python.keras.callbacks.History at 0x266cfa2da48>"
      ]
     },
     "execution_count": 11,
     "metadata": {},
     "output_type": "execute_result"
    },
    {
     "name": "stdout",
     "output_type": "stream",
     "text": [
      "accuracy_score 1.0\n",
      "recall_score 1.0\n",
      "precision_score 1.0\n",
      "f1_score 1.0\n",
      "Model: \"model_9\"\n",
      "_________________________________________________________________\n",
      "Layer (type)                 Output Shape              Param #   \n",
      "=================================================================\n",
      "input_1 (InputLayer)         [(None, 48, 256)]         0         \n",
      "_________________________________________________________________\n",
      "bidirectional (Bidirectional (None, 48, 144)           189504    \n",
      "_________________________________________________________________\n",
      "time_distributed (TimeDistri (None, 48, 1)             145       \n",
      "=================================================================\n",
      "Total params: 189,649\n",
      "Trainable params: 189,649\n",
      "Non-trainable params: 0\n",
      "_________________________________________________________________\n",
      "======Training stage======\n",
      "Train on 67898 samples\n",
      "Epoch 1/10\n",
      "67872/67898 [============================>.] - ETA: 0s - loss: 1.4150e-05 - accuracy: 1.0000WARNING:tensorflow:Early stopping conditioned on metric `val_loss` which is not available. Available metrics are: loss,accuracy\n",
      "67898/67898 [==============================] - 111s 2ms/sample - loss: 1.4145e-05 - accuracy: 1.0000\n",
      "Epoch 2/10\n",
      "67872/67898 [============================>.] - ETA: 0s - loss: 1.4150e-05 - accuracy: 1.0000WARNING:tensorflow:Early stopping conditioned on metric `val_loss` which is not available. Available metrics are: loss,accuracy\n",
      "67898/67898 [==============================] - 102s 1ms/sample - loss: 1.4145e-05 - accuracy: 1.0000\n",
      "Epoch 3/10\n",
      "67840/67898 [============================>.] - ETA: 0s - loss: 1.4157e-05 - accuracy: 1.0000WARNING:tensorflow:Early stopping conditioned on metric `val_loss` which is not available. Available metrics are: loss,accuracy\n",
      "67898/67898 [==============================] - 103s 2ms/sample - loss: 1.4145e-05 - accuracy: 1.0000\n",
      "Epoch 4/10\n",
      "67840/67898 [============================>.] - ETA: 0s - loss: 1.4157e-05 - accuracy: 1.0000WARNING:tensorflow:Early stopping conditioned on metric `val_loss` which is not available. Available metrics are: loss,accuracy\n",
      "67898/67898 [==============================] - 102s 2ms/sample - loss: 1.4145e-05 - accuracy: 1.0000\n",
      "Epoch 5/10\n",
      "67872/67898 [============================>.] - ETA: 0s - loss: 1.4150e-05 - accuracy: 1.0000WARNING:tensorflow:Early stopping conditioned on metric `val_loss` which is not available. Available metrics are: loss,accuracy\n",
      "67898/67898 [==============================] - 103s 2ms/sample - loss: 1.4145e-05 - accuracy: 1.0000\n",
      "Epoch 6/10\n",
      "67840/67898 [============================>.] - ETA: 0s - loss: 1.4157e-05 - accuracy: 1.0000WARNING:tensorflow:Early stopping conditioned on metric `val_loss` which is not available. Available metrics are: loss,accuracy\n",
      "67898/67898 [==============================] - 102s 2ms/sample - loss: 1.4145e-05 - accuracy: 1.0000\n",
      "Epoch 7/10\n",
      "67872/67898 [============================>.] - ETA: 0s - loss: 1.4150e-05 - accuracy: 1.0000 ETA: 2s - loss: 1.4478e-05 - accuraWARNING:tensorflow:Early stopping conditioned on metric `val_loss` which is not available. Available metrics are: loss,accuracy\n",
      "67898/67898 [==============================] - 102s 2ms/sample - loss: 1.4145e-05 - accuracy: 1.0000\n",
      "Epoch 8/10\n",
      "67840/67898 [============================>.] - ETA: 0s - loss: 1.4170e-05 - accuracy: 1.00 - ETA: 0s - loss: 1.4157e-05 - accuracy: 1.0000WARNING:tensorflow:Early stopping conditioned on metric `val_loss` which is not available. Available metrics are: loss,accuracy\n",
      "67898/67898 [==============================] - 99s 1ms/sample - loss: 1.4145e-05 - accuracy: 1.0000\n",
      "Epoch 9/10\n",
      "67872/67898 [============================>.] - ETA: 0s - loss: 1.4150e-05 - accuracy: 1.0000WARNING:tensorflow:Early stopping conditioned on metric `val_loss` which is not available. Available metrics are: loss,accuracy\n",
      "67898/67898 [==============================] - 98s 1ms/sample - loss: 1.4145e-05 - accuracy: 1.0000\n",
      "Epoch 10/10\n",
      "67840/67898 [============================>.] - ETA: 0s - loss: 1.4157e-05 - accuracy: 1.0000WARNING:tensorflow:Early stopping conditioned on metric `val_loss` which is not available. Available metrics are: loss,accuracy\n",
      "67898/67898 [==============================] - 99s 1ms/sample - loss: 1.4145e-05 - accuracy: 1.0000\n"
     ]
    },
    {
     "data": {
      "text/plain": [
       "<tensorflow.python.keras.callbacks.History at 0x266db5b7448>"
      ]
     },
     "execution_count": 11,
     "metadata": {},
     "output_type": "execute_result"
    },
    {
     "name": "stdout",
     "output_type": "stream",
     "text": [
      "accuracy_score 1.0\n",
      "recall_score 1.0\n",
      "precision_score 1.0\n",
      "f1_score 1.0\n",
      "\n",
      "K-fold cross validation Accuracy: [0.9998923127899271, 0.9999364921581622, 0.9999806689642984, 0.9999834305408272, 1.0, 1.0, 0.9999972384234712, 1.0, 1.0, 1.0]\n",
      "\n",
      "K-fold cross validation Recall: [0.9957965531736024, 0.9981088463963017, 0.9997885388031297, 0.9987481744210307, 1.0, 1.0, 1.0, 1.0, 1.0, 1.0]\n",
      "\n",
      "K-fold cross validation Precision: [0.9960058860626445, 0.9970612930310663, 0.9987325728770595, 1.0, 1.0, 1.0, 0.9997920997920998, 1.0, 1.0, 1.0]\n",
      "\n",
      "K-fold cross validation F1-Score: [0.9959012086179717, 0.9975847947075501, 0.9992602768678008, 0.9993736951983299, 1.0, 1.0, 0.9998960390893025, 1.0, 1.0, 1.0]\n"
     ]
    }
   ],
   "source": [
    "# 교차검증 kfold\n",
    "from sklearn.model_selection import KFold\n",
    "\n",
    "# Accuracy, Precision, Recall, F1-Score\n",
    "from sklearn.metrics import accuracy_score, recall_score, precision_score, f1_score\n",
    "\n",
    "# Confusion Matrix, ROC Curve\n",
    "from sklearn.metrics import confusion_matrix, roc_auc_score\n",
    "\n",
    "# 최종 평가지표들 평균용\n",
    "accuracy, recall, precision, f1score, cm = [], [], [], [], []\n",
    "\n",
    "# 11. 교차검증 kfold - k.split - 10회 / K-Fold 객체 생성\n",
    "# kf = KFold(n_splits=10, shuffle=False, random_state=None) # KFold non shuffle 버전\n",
    "kf = KFold(n_splits=10, shuffle=True, random_state=None) # KFold non shuffle 버전\n",
    "\n",
    "for train, validation in kf.split(x_bc6_2, y_bc6_2):\n",
    "    model1 = models.Model(xInput, xOutput)\n",
    "    model1.compile(loss='binary_crossentropy', optimizer='rmsprop', metrics=['accuracy'])\n",
    "    model1.summary()\n",
    "    print('======Training stage======')\n",
    "    model1.fit(x_bc6_2[train],\n",
    "               y_bc6_2[train],\n",
    "               epochs = 10,\n",
    "               batch_size = 32,\n",
    "               callbacks=[early_stopping])\n",
    "    #k_accuracy = '%.4f' %(model1.evaluate(data_10000x[validation], data_10000y[validation])[1])\n",
    "\n",
    "# 12. 교차검증결과 predict - 검증셋들\n",
    "    # predict 값\n",
    "    k_pr = model1.predict(x_bc6_2[validation])\n",
    "    \n",
    "    # 테스트 predict 결과들 비교 (평가지표 보기위함)\n",
    "    pred = np.round(np.array(k_pr).flatten().tolist())\n",
    "    y_test = np.array(y_bc6_2[validation]).flatten().tolist()\n",
    "    \n",
    "# 13. 평가지표들 출력\n",
    "    ## 평가지표들\n",
    "    k_accuracy = float(accuracy_score(y_test, pred))\n",
    "    k_recall =  float(recall_score(y_test, pred))\n",
    "    k_precision = float(precision_score(y_test, pred))\n",
    "    k_f1_score = float(f1_score(y_test, pred))\n",
    "    #k_cm = float(confusion_matrix(y_test, pred))\n",
    "    \n",
    "    print('accuracy_score', k_accuracy)\n",
    "    print('recall_score', k_recall)\n",
    "    print('precision_score', k_precision)\n",
    "    print('f1_score', k_f1_score)\n",
    "    #print('\\nconfusion_matrix\\n', k_cm)\n",
    "\n",
    "    accuracy.append(k_accuracy)\n",
    "    recall.append(k_recall)\n",
    "    precision.append(k_precision)\n",
    "    f1score.append(k_f1_score)\n",
    "    #cm.append(k_cm)\n",
    "#    print('roc_curve 면적', roc_auc_score(y_test, pred))\n",
    "\n",
    "# 최종 결과지표\n",
    "print('\\nK-fold cross validation Accuracy: {}'.format(accuracy))\n",
    "print('\\nK-fold cross validation Recall: {}'.format(recall))\n",
    "print('\\nK-fold cross validation Precision: {}'.format(precision))\n",
    "print('\\nK-fold cross validation F1-Score: {}'.format(f1score))\n",
    "#print('\\nK-fold cross validation ConfusionMatrix: {}'.format(cm))"
   ]
  },
  {
   "cell_type": "markdown",
   "metadata": {},
   "source": [
    "## (9) 평가지표"
   ]
  },
  {
   "cell_type": "code",
   "execution_count": 12,
   "metadata": {},
   "outputs": [
    {
     "name": "stdout",
     "output_type": "stream",
     "text": [
      "10-Fold Cross_validation. Accuracy : 0.9999790142876686\n",
      "10-Fold Cross_validation. Recall : 0.9992442112794064\n",
      "10-Fold Cross_validation. Precision : 0.999159185176287\n",
      "10-Fold Cross_validation. F1-Score : 0.9992016014480954\n"
     ]
    }
   ],
   "source": [
    "print('10-Fold Cross_validation. Accuracy :', np.mean(accuracy))\n",
    "print('10-Fold Cross_validation. Recall :', np.mean(recall))\n",
    "print('10-Fold Cross_validation. Precision :', np.mean(precision))\n",
    "print('10-Fold Cross_validation. F1-Score :', np.mean(f1score))"
   ]
  },
  {
   "cell_type": "code",
   "execution_count": 13,
   "metadata": {},
   "outputs": [
    {
     "name": "stdout",
     "output_type": "stream",
     "text": [
      "save 완료\n"
     ]
    }
   ],
   "source": [
    "model1.save('gcc6_bin_core_s48_h72_o2.h5')\n",
    "print('save 완료')"
   ]
  }
 ],
 "metadata": {
  "kernelspec": {
   "display_name": "Python 3",
   "language": "python",
   "name": "python3"
  },
  "language_info": {
   "codemirror_mode": {
    "name": "ipython",
    "version": 3
   },
   "file_extension": ".py",
   "mimetype": "text/x-python",
   "name": "python",
   "nbconvert_exporter": "python",
   "pygments_lexer": "ipython3",
   "version": "3.7.9"
  }
 },
 "nbformat": 4,
 "nbformat_minor": 4
}
