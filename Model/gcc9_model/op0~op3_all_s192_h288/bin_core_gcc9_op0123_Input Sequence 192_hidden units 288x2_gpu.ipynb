{
 "cells": [
  {
   "cell_type": "markdown",
   "metadata": {},
   "source": [
    "## RNN 모델 N-Byte 방식 (함수정보 포함 vs 미포함 => 1:1 비율)\n",
    "\n",
    "## (1) 데이터로드"
   ]
  },
  {
   "cell_type": "code",
   "execution_count": 1,
   "metadata": {},
   "outputs": [
    {
     "name": "stdout",
     "output_type": "stream",
     "text": [
      "x1완료\n",
      "x2완료\n",
      "(342518, 192, 256) (342518, 192, 1)\n"
     ]
    }
   ],
   "source": [
    "# (1) 데이터로드\n",
    "import pandas as pd\n",
    "import numpy as np\n",
    "\n",
    "import warnings\n",
    "warnings.filterwarnings(action='ignore')\n",
    "\n",
    "# 여러개 쳐도 나오게\n",
    "from IPython.core.interactiveshell import InteractiveShell\n",
    "InteractiveShell.ast_node_interactivity = \"all\"\n",
    "\n",
    "# 파일읽기\n",
    "bincore9_0_x = np.load('x_bc9_0.npy')\n",
    "bincore9_1_x = np.load('x_bc9_1.npy')\n",
    "print('x1완료')\n",
    "\n",
    "bincore9_2_x = np.load('x_bc9_2.npy')\n",
    "bincore9_3_x = np.load('x_bc9_3.npy')\n",
    "print('x2완료')\n",
    "\n",
    "bincore9_0_y = np.load('y_bc9_0.npy')\n",
    "bincore9_1_y = np.load('y_bc9_1.npy')\n",
    "bincore9_2_y = np.load('y_bc9_2.npy')\n",
    "bincore9_3_y = np.load('y_bc9_3.npy')\n",
    "\n",
    "x_bincore9 = np.concatenate((bincore9_0_x, bincore9_1_x, bincore9_2_x, bincore9_3_x), axis=0)\n",
    "y_bincore9 = np.concatenate((bincore9_0_y, bincore9_1_y, bincore9_2_y, bincore9_3_y), axis=0)\n",
    "\n",
    "print(x_bincore9.shape, y_bincore9.shape)"
   ]
  },
  {
   "cell_type": "code",
   "execution_count": 2,
   "metadata": {},
   "outputs": [
    {
     "name": "stdout",
     "output_type": "stream",
     "text": [
      "(342518, 192, 256) (342518, 192, 1)\n"
     ]
    }
   ],
   "source": [
    "# numpy 행, 열 섞기\n",
    "p = np.random.permutation(x_bincore9.shape[0])\n",
    "\n",
    "x_bincore9 = x_bincore9[p]\n",
    "y_bincore9 = y_bincore9[p]\n",
    "\n",
    "print(x_bincore9.shape, y_bincore9.shape)"
   ]
  },
  {
   "cell_type": "markdown",
   "metadata": {},
   "source": [
    "## (7) 모델"
   ]
  },
  {
   "cell_type": "code",
   "execution_count": 3,
   "metadata": {},
   "outputs": [],
   "source": [
    "# (10) 양방향 LSTM 모델링 작업\n",
    "from tensorflow.keras import layers, models\n",
    "#from tf.keras.models import Model, Sequential\n",
    "#from tf.keras.layers import SimpleRNN, Input, Dense, LSTM\n",
    "#from tf.keras.layers import Bidirectional, TimeDistributed\n",
    "\n",
    "# 학습\n",
    "from tensorflow.keras.callbacks import EarlyStopping\n",
    "early_stopping = EarlyStopping(patience = 10) # 조기종료 콜백함수 정의\n",
    "\n",
    "xInput = layers.Input(batch_shape=(None,192, 256)) \n",
    "xBiLstm = layers.Bidirectional(layers.LSTM(288, return_sequences=True, stateful=False), merge_mode = 'concat')(xInput)\n",
    "xOutput = layers.TimeDistributed(layers.Dense(1, activation ='sigmoid'))(xBiLstm) # 각 스텝에서 cost가 전송되고, 오류가 다음 step으로 전송됨."
   ]
  },
  {
   "cell_type": "markdown",
   "metadata": {},
   "source": [
    "## (8) 학습"
   ]
  },
  {
   "cell_type": "code",
   "execution_count": 4,
   "metadata": {},
   "outputs": [
    {
     "name": "stdout",
     "output_type": "stream",
     "text": [
      "Model: \"model\"\n",
      "_________________________________________________________________\n",
      "Layer (type)                 Output Shape              Param #   \n",
      "=================================================================\n",
      "input_1 (InputLayer)         [(None, 192, 256)]        0         \n",
      "_________________________________________________________________\n",
      "bidirectional (Bidirectional (None, 192, 576)          1255680   \n",
      "_________________________________________________________________\n",
      "time_distributed (TimeDistri (None, 192, 1)            577       \n",
      "=================================================================\n",
      "Total params: 1,256,257\n",
      "Trainable params: 1,256,257\n",
      "Non-trainable params: 0\n",
      "_________________________________________________________________\n",
      "======Training stage======\n",
      "Train on 239762 samples, validate on 102756 samples\n",
      "Epoch 1/500\n",
      "239762/239762 [==============================] - 312s 1ms/sample - loss: 0.0059 - accuracy: 0.9982 - val_loss: 0.0018 - val_accuracy: 0.9994\n",
      "Epoch 2/500\n",
      "239762/239762 [==============================] - 307s 1ms/sample - loss: 0.0012 - accuracy: 0.9996 - val_loss: 9.1020e-04 - val_accuracy: 0.9997\n",
      "Epoch 3/500\n",
      "239762/239762 [==============================] - 305s 1ms/sample - loss: 7.9410e-04 - accuracy: 0.9998 - val_loss: 7.1482e-04 - val_accuracy: 0.9998\n",
      "Epoch 4/500\n",
      "239762/239762 [==============================] - 306s 1ms/sample - loss: 5.7323e-04 - accuracy: 0.9999 - val_loss: 6.8617e-04 - val_accuracy: 0.9998\n",
      "Epoch 5/500\n",
      "239762/239762 [==============================] - 302s 1ms/sample - loss: 4.7787e-04 - accuracy: 0.9999 - val_loss: 6.0770e-04 - val_accuracy: 0.9999\n",
      "Epoch 6/500\n",
      "239762/239762 [==============================] - 300s 1ms/sample - loss: 3.9302e-04 - accuracy: 0.9999 - val_loss: 5.3531e-04 - val_accuracy: 0.9999\n",
      "Epoch 7/500\n",
      "239762/239762 [==============================] - 301s 1ms/sample - loss: 3.3012e-04 - accuracy: 0.9999 - val_loss: 7.0992e-04 - val_accuracy: 0.9998\n",
      "Epoch 8/500\n",
      "239762/239762 [==============================] - 301s 1ms/sample - loss: 3.0254e-04 - accuracy: 0.9999 - val_loss: 5.8902e-04 - val_accuracy: 0.9999\n",
      "Epoch 9/500\n",
      "239762/239762 [==============================] - 302s 1ms/sample - loss: 2.6746e-04 - accuracy: 0.9999 - val_loss: 4.7662e-04 - val_accuracy: 0.9999\n",
      "Epoch 10/500\n",
      "239762/239762 [==============================] - 302s 1ms/sample - loss: 2.2785e-04 - accuracy: 1.0000 - val_loss: 4.7437e-04 - val_accuracy: 0.9999\n",
      "Epoch 11/500\n",
      "239762/239762 [==============================] - 301s 1ms/sample - loss: 2.0554e-04 - accuracy: 1.0000 - val_loss: 5.2973e-04 - val_accuracy: 0.9999\n",
      "Epoch 12/500\n",
      "239762/239762 [==============================] - 301s 1ms/sample - loss: 1.8726e-04 - accuracy: 1.0000 - val_loss: 5.5532e-04 - val_accuracy: 0.9999\n",
      "Epoch 13/500\n",
      "239762/239762 [==============================] - 299s 1ms/sample - loss: 1.8315e-04 - accuracy: 1.0000 - val_loss: 5.1429e-04 - val_accuracy: 0.9999\n",
      "Epoch 14/500\n",
      "239762/239762 [==============================] - 300s 1ms/sample - loss: 1.5016e-04 - accuracy: 1.0000 - val_loss: 5.5858e-04 - val_accuracy: 0.9999\n",
      "Epoch 15/500\n",
      "239762/239762 [==============================] - 300s 1ms/sample - loss: 1.6703e-04 - accuracy: 1.0000 - val_loss: 5.2438e-04 - val_accuracy: 0.9999\n",
      "Epoch 16/500\n",
      "239762/239762 [==============================] - 301s 1ms/sample - loss: 1.5105e-04 - accuracy: 1.0000 - val_loss: 4.8943e-04 - val_accuracy: 0.9999\n",
      "Epoch 17/500\n",
      "239762/239762 [==============================] - 301s 1ms/sample - loss: 1.2874e-04 - accuracy: 1.0000 - val_loss: 5.2010e-04 - val_accuracy: 0.9999\n",
      "Epoch 18/500\n",
      "239762/239762 [==============================] - 299s 1ms/sample - loss: 1.2007e-04 - accuracy: 1.0000 - val_loss: 4.9906e-04 - val_accuracy: 0.9999\n",
      "Epoch 19/500\n",
      "239762/239762 [==============================] - 299s 1ms/sample - loss: 1.3107e-04 - accuracy: 1.0000 - val_loss: 5.0971e-04 - val_accuracy: 0.9999\n",
      "Epoch 20/500\n",
      "239762/239762 [==============================] - 300s 1ms/sample - loss: 9.8800e-05 - accuracy: 1.0000 - val_loss: 5.5349e-04 - val_accuracy: 0.9999\n"
     ]
    },
    {
     "data": {
      "text/plain": [
       "<tensorflow.python.keras.callbacks.History at 0x2c1376dff88>"
      ]
     },
     "execution_count": 4,
     "metadata": {},
     "output_type": "execute_result"
    },
    {
     "name": "stdout",
     "output_type": "stream",
     "text": [
      "걸린시간: 6040.624769210815\n",
      "save 완료\n"
     ]
    }
   ],
   "source": [
    "\n",
    "model1 = models.Model(xInput, xOutput)\n",
    "model1.compile(loss='binary_crossentropy', optimizer='rmsprop', metrics=['accuracy'])\n",
    "model1.summary()\n",
    "\n",
    "import time\n",
    "print('======Training stage======')\n",
    "starttime = time.time()\n",
    "\n",
    "model1.fit(x_bincore9,\n",
    "           y_bincore9,\n",
    "           epochs = 500,\n",
    "           batch_size = 32,\n",
    "           validation_split=0.3,\n",
    "           callbacks=[early_stopping])\n",
    "\n",
    "endtime = time.time()\n",
    "\n",
    "print('걸린시간:', endtime - starttime)\n",
    "model1.save('gcc9_bin_core_s192_h288_o0123.h5')\n",
    "print('save 완료')"
   ]
  }
 ],
 "metadata": {
  "kernelspec": {
   "display_name": "Python 3",
   "language": "python",
   "name": "python3"
  },
  "language_info": {
   "codemirror_mode": {
    "name": "ipython",
    "version": 3
   },
   "file_extension": ".py",
   "mimetype": "text/x-python",
   "name": "python",
   "nbconvert_exporter": "python",
   "pygments_lexer": "ipython3",
   "version": "3.7.7"
  }
 },
 "nbformat": 4,
 "nbformat_minor": 4
}
