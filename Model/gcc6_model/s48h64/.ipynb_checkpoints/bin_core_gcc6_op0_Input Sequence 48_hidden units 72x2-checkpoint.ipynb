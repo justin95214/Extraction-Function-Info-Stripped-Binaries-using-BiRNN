{
 "cells": [
  {
   "cell_type": "markdown",
   "metadata": {},
   "source": [
    "## RNN 모델 N-Byte 방식 (함수정보 포함 vs 미포함 => 1:1 비율)\n",
    "\n",
    "## (1) 데이터로드"
   ]
  },
  {
   "cell_type": "code",
   "execution_count": 1,
   "metadata": {},
   "outputs": [
    {
     "name": "stdout",
     "output_type": "stream",
     "text": [
      "(30092946, 2)\n",
      "shape - (30092946, 2)\n",
      "reset_index 완료\n",
      "input data shape\n"
     ]
    },
    {
     "data": {
      "text/html": [
       "<div>\n",
       "<style scoped>\n",
       "    .dataframe tbody tr th:only-of-type {\n",
       "        vertical-align: middle;\n",
       "    }\n",
       "\n",
       "    .dataframe tbody tr th {\n",
       "        vertical-align: top;\n",
       "    }\n",
       "\n",
       "    .dataframe thead th {\n",
       "        text-align: right;\n",
       "    }\n",
       "</style>\n",
       "<table border=\"1\" class=\"dataframe\">\n",
       "  <thead>\n",
       "    <tr style=\"text-align: right;\">\n",
       "      <th></th>\n",
       "      <th>bin</th>\n",
       "      <th>label</th>\n",
       "    </tr>\n",
       "  </thead>\n",
       "  <tbody>\n",
       "    <tr>\n",
       "      <th>0</th>\n",
       "      <td>47</td>\n",
       "      <td>0</td>\n",
       "    </tr>\n",
       "    <tr>\n",
       "      <th>1</th>\n",
       "      <td>108</td>\n",
       "      <td>0</td>\n",
       "    </tr>\n",
       "    <tr>\n",
       "      <th>2</th>\n",
       "      <td>105</td>\n",
       "      <td>0</td>\n",
       "    </tr>\n",
       "    <tr>\n",
       "      <th>3</th>\n",
       "      <td>98</td>\n",
       "      <td>0</td>\n",
       "    </tr>\n",
       "    <tr>\n",
       "      <th>4</th>\n",
       "      <td>47</td>\n",
       "      <td>0</td>\n",
       "    </tr>\n",
       "  </tbody>\n",
       "</table>\n",
       "</div>"
      ],
      "text/plain": [
       "   bin  label\n",
       "0   47      0\n",
       "1  108      0\n",
       "2  105      0\n",
       "3   98      0\n",
       "4   47      0"
      ]
     },
     "execution_count": 1,
     "metadata": {},
     "output_type": "execute_result"
    }
   ],
   "source": [
    "# (1) 데이터로드\n",
    "import pandas as pd\n",
    "import numpy as np\n",
    "\n",
    "import warnings\n",
    "warnings.filterwarnings(action='ignore')\n",
    "\n",
    "# 여러개 쳐도 나오게\n",
    "from IPython.core.interactiveshell import InteractiveShell\n",
    "InteractiveShell.ast_node_interactivity = \"all\"\n",
    "\n",
    "# 파일읽기\n",
    "bin6_0 = pd.read_csv(\"../../바이너리_최종데이터_1004/gcc6/o0/o0_bincore6.csv\", index_col=0)\n",
    "print(bin6_0.shape)\n",
    "\n",
    "# reset_index (hex processing 하면서 값이 빠졌으니까 + n_gram 에서 index를 다루기 때문에)\n",
    "bin6_0.reset_index(inplace=True, drop=True)\n",
    "\n",
    "print('shape -', bin6_0.shape)\n",
    "print('reset_index 완료')\n",
    "print('input data shape')\n",
    "bin6_0.head()"
   ]
  },
  {
   "cell_type": "code",
   "execution_count": 2,
   "metadata": {},
   "outputs": [
    {
     "name": "stdout",
     "output_type": "stream",
     "text": [
      "256\n",
      "0    30042688\n",
      "1       50258\n",
      "Name: label, dtype: int64\n"
     ]
    }
   ],
   "source": [
    "# (2-1) 데이터체크 1 - hex(16진수)가 256 label을 가져야 dummies 변환 가능 \n",
    "# 16진수 256개 종류가 있어서 pd.get_dummies 사용 가능.\n",
    "print(len(bin6_0['bin'].unique()))\n",
    "\n",
    "# (2-2) 데이터 체크 2 - 1, 0 비율 ==> 1이 함수의 갯수를 뜻함\n",
    "# 정답 데이터 1, 0 비율 확인  ==> 1이 함수의 갯수를 뜻함\n",
    "print(bin6_0['label'].value_counts())"
   ]
  },
  {
   "cell_type": "markdown",
   "metadata": {},
   "source": [
    "## (3) N Byte씩 자르기"
   ]
  },
  {
   "cell_type": "code",
   "execution_count": 3,
   "metadata": {},
   "outputs": [
    {
     "name": "stdout",
     "output_type": "stream",
     "text": [
      "2412384\n",
      "나머지 0\n",
      "최종 길이 2412384\n",
      "bin6_0 2412384\n"
     ]
    }
   ],
   "source": [
    "idx_bin = bin6_0[bin6_0['label']==1].index  # 407, 474 ...\n",
    "ls_bin = list(idx_bin)\n",
    "\n",
    "# 최종 뽑을 행에 대한 index\n",
    "ls_idx_bin = []\n",
    "\n",
    "# n byte 자르기 방식\n",
    "left_idx, right_idx = 0, 48 # 3개씩\n",
    "\n",
    "# n byte 자르기\n",
    "for k in range(left_idx, right_idx):\n",
    "    ls_idx_bin.extend(list(idx_bin + k)) # index 형이라서 가능\n",
    "\n",
    "#ls_idx = list(set(ls_idx)) \n",
    "ls_idx_bin.sort() # 인덱스 정렬\n",
    "\n",
    "# 1차 index 해당범위 초과한 것들 없애기\n",
    "ls_idx_bin = list(filter(lambda x: x<len(bin6_0), ls_idx_bin))\n",
    "print(len(ls_idx_bin))\n",
    "\n",
    "# 2차 남은 index들 중 right_idx 나눈 나머지 없애기\n",
    "sub_bin = len(ls_idx_bin)%(right_idx)\n",
    "print('나머지', sub_bin)\n",
    "\n",
    "ls_idx_bin = ls_idx_bin[:len(ls_idx_bin)-sub_bin]\n",
    "print('최종 길이', len(ls_idx_bin))\n",
    "\n",
    "print('bin6_0', len(ls_idx_bin))\n",
    "\n",
    "# loc 로 수정필요\n",
    "bin6_0_Ngram = bin6_0.loc[ls_idx_bin,:].copy()"
   ]
  },
  {
   "cell_type": "markdown",
   "metadata": {},
   "source": [
    "## (4) false data 만들기"
   ]
  },
  {
   "cell_type": "code",
   "execution_count": 4,
   "metadata": {},
   "outputs": [
    {
     "name": "stdout",
     "output_type": "stream",
     "text": [
      "50258.0\n",
      "0 1481298\n",
      "1000 93716\n",
      "2000 20042539\n",
      "3000 1309935\n",
      "4000 24676303\n",
      "5000 11583453\n",
      "6000 15634010\n",
      "7000 13537865\n",
      "8000 25872527\n",
      "9000 4993378\n",
      "10000 8995698\n",
      "11000 2291749\n",
      "12000 16425698\n",
      "13000 1352601\n",
      "14000 24829246\n",
      "15000 29680208\n",
      "16000 7847386\n",
      "17000 14350135\n",
      "18000 22276788\n",
      "19000 25046133\n",
      "20000 805901\n",
      "21000 2549204\n",
      "22000 17868717\n",
      "23000 29524815\n",
      "24000 11320904\n",
      "25000 12986378\n",
      "26000 2692045\n",
      "27000 22638447\n",
      "28000 17226193\n",
      "29000 26984013\n",
      "30000 21430969\n",
      "31000 21118488\n",
      "32000 7729286\n",
      "33000 8532697\n",
      "34000 25290396\n",
      "35000 27461499\n",
      "36000 197055\n",
      "37000 4707347\n",
      "38000 20014292\n",
      "39000 17006848\n",
      "40000 28780278\n",
      "41000 13018494\n",
      "42000 5701516\n",
      "43000 21286658\n",
      "44000 7374410\n",
      "45000 19606793\n",
      "46000 7013523\n",
      "47000 27966143\n",
      "48000 27420298\n",
      "49000 15785145\n",
      "50000 21333465\n",
      "완료\n",
      "50258\n"
     ]
    }
   ],
   "source": [
    "# false data 만들기 - False 데이터 랜덤 생성\n",
    "\n",
    "# 목표치\n",
    "goal_bin = len(bin6_0_Ngram)/right_idx\n",
    "count_bin = 0\n",
    "\n",
    "print(goal_bin)\n",
    "\n",
    "# 최종 데이터 Frame\n",
    "d_bin = pd.DataFrame(columns = bin6_0.columns)\n",
    "\n",
    "binutils_df = []\n",
    "# goal 에 도달할 때까지\n",
    "while True:\n",
    "    if (count_bin == goal_bin):\n",
    "            break\n",
    "    # 진행상황 살펴보기 위함\n",
    "            \n",
    "    # 랜덤 N 바이트씩 뽑음\n",
    "    # random index\n",
    "    random_idx_bin = np.random.randint(len(bin6_0)-right_idx)\n",
    "\n",
    "    if count_bin % 1000==0:\n",
    "        print(count_bin, end=' ')\n",
    "        print(random_idx_bin)\n",
    "\n",
    "    df_bin = bin6_0[random_idx_bin : random_idx_bin + right_idx]\n",
    "    \n",
    "    # 뽑은 index의 N 바이트 중에 1이 없는 경우만\n",
    "    if 1 not in df_bin['label'] and count_bin < goal_bin:\n",
    "        binutils_df.append(df_bin)\n",
    "        count_bin+=1\n",
    "\n",
    "print('완료')\n",
    "print(len(binutils_df))"
   ]
  },
  {
   "cell_type": "code",
   "execution_count": 5,
   "metadata": {},
   "outputs": [
    {
     "name": "stdout",
     "output_type": "stream",
     "text": [
      "50258\n",
      "50258\n"
     ]
    }
   ],
   "source": [
    "# True data와 False Data 같은지 체크\n",
    "print(len(binutils_df))\n",
    "print(bin6_0['label'].value_counts()[1])"
   ]
  },
  {
   "cell_type": "markdown",
   "metadata": {},
   "source": [
    "## (5) False Data + True Data 합치기"
   ]
  },
  {
   "cell_type": "code",
   "execution_count": 6,
   "metadata": {},
   "outputs": [
    {
     "data": {
      "text/plain": [
       "(4824768, 2)"
      ]
     },
     "execution_count": 6,
     "metadata": {},
     "output_type": "execute_result"
    }
   ],
   "source": [
    "f_data = pd.concat(binutils_df)\n",
    "final = pd.concat([f_data, bin6_0_Ngram])\n",
    "final.shape"
   ]
  },
  {
   "cell_type": "markdown",
   "metadata": {},
   "source": [
    "## (6) one hot encoding"
   ]
  },
  {
   "cell_type": "code",
   "execution_count": 7,
   "metadata": {},
   "outputs": [
    {
     "name": "stdout",
     "output_type": "stream",
     "text": [
      "원핫인코딩완료\n",
      "(4824768, 257)\n"
     ]
    }
   ],
   "source": [
    "# 훈련데이터 (gcc 최적화버전 0, 1, 2, 3 one hot encoding)\n",
    "bc6_0_onehot_Ngram = pd.get_dummies(final['bin'])\n",
    "bc6_0_onehot_Ngram = pd.concat([final['label'], bc6_0_onehot_Ngram], axis=1)\n",
    "\n",
    "print('원핫인코딩완료')\n",
    "print(bc6_0_onehot_Ngram.shape)"
   ]
  },
  {
   "cell_type": "code",
   "execution_count": 8,
   "metadata": {},
   "outputs": [
    {
     "name": "stdout",
     "output_type": "stream",
     "text": [
      "(4824768, 256) (4824768, 256)\n",
      "(100516, 48, 256) (100516, 48, 1)\n"
     ]
    }
   ],
   "source": [
    "# 훈련 데이터, 훈련 라벨\n",
    "x_bc6_0 = bc6_0_onehot_Ngram.iloc[:,1:].to_numpy()\n",
    "y_bc6_0 = bc6_0_onehot_Ngram['label'].to_numpy()\n",
    "print(x_bc6_0.shape, x_bc6_0.shape)\n",
    "\n",
    "x_bc6_0 = x_bc6_0.reshape(-1, right_idx, x_bc6_0.shape[1])\n",
    "y_bc6_0 = y_bc6_0.reshape(-1, right_idx, 1)\n",
    "\n",
    "print(x_bc6_0.shape, y_bc6_0.shape)"
   ]
  },
  {
   "cell_type": "code",
   "execution_count": 9,
   "metadata": {},
   "outputs": [
    {
     "name": "stdout",
     "output_type": "stream",
     "text": [
      "(100516, 48, 256) (100516, 48, 1)\n"
     ]
    }
   ],
   "source": [
    "# numpy 행, 열 섞기\n",
    "p = np.random.permutation(x_bc6_0.shape[0])\n",
    "\n",
    "x_bc6_0 = x_bc6_0[p]\n",
    "y_bc6_0 = y_bc6_0[p]\n",
    "\n",
    "print(x_bc6_0.shape, y_bc6_0.shape)"
   ]
  },
  {
   "cell_type": "markdown",
   "metadata": {},
   "source": [
    "## (7) 모델"
   ]
  },
  {
   "cell_type": "code",
   "execution_count": 10,
   "metadata": {},
   "outputs": [],
   "source": [
    "# (10) 양방향 LSTM 모델링 작업\n",
    "from tensorflow.keras import layers, models\n",
    "#from tf.keras.models import Model, Sequential\n",
    "#from tf.keras.layers import SimpleRNN, Input, Dense, LSTM\n",
    "#from tf.keras.layers import Bidirectional, TimeDistributed\n",
    "\n",
    "# 학습\n",
    "from tensorflow.keras.callbacks import EarlyStopping\n",
    "early_stopping = EarlyStopping(patience = 3) # 조기종료 콜백함수 정의\n",
    "\n",
    "xInput = layers.Input(batch_shape=(None,right_idx, 256)) \n",
    "xBiLstm = layers.Bidirectional(layers.LSTM(72, return_sequences=True, stateful=False), merge_mode = 'concat')(xInput)\n",
    "xOutput = layers.TimeDistributed(layers.Dense(1, activation ='sigmoid'))(xBiLstm) # 각 스텝에서 cost가 전송되고, 오류가 다음 step으로 전송됨."
   ]
  },
  {
   "cell_type": "markdown",
   "metadata": {},
   "source": [
    "## (8) 학습 - 10 KFold"
   ]
  },
  {
   "cell_type": "code",
   "execution_count": 11,
   "metadata": {
    "scrolled": false
   },
   "outputs": [
    {
     "name": "stdout",
     "output_type": "stream",
     "text": [
      "Model: \"model\"\n",
      "_________________________________________________________________\n",
      "Layer (type)                 Output Shape              Param #   \n",
      "=================================================================\n",
      "input_1 (InputLayer)         [(None, 48, 256)]         0         \n",
      "_________________________________________________________________\n",
      "bidirectional (Bidirectional (None, 48, 144)           189504    \n",
      "_________________________________________________________________\n",
      "time_distributed (TimeDistri (None, 48, 1)             145       \n",
      "=================================================================\n",
      "Total params: 189,649\n",
      "Trainable params: 189,649\n",
      "Non-trainable params: 0\n",
      "_________________________________________________________________\n",
      "======Training stage======\n",
      "Train on 90464 samples\n",
      "Epoch 1/10\n",
      "90432/90464 [============================>.] - ETA: 0s - loss: 0.0041 - accuracy: 0.9989WARNING:tensorflow:Early stopping conditioned on metric `val_loss` which is not available. Available metrics are: loss,accuracy\n",
      "90464/90464 [==============================] - 346s 4ms/sample - loss: 0.0041 - accuracy: 0.9989\n",
      "Epoch 2/10\n",
      "90432/90464 [============================>.] - ETA: 0s - loss: 2.9792e-04 - accuracy: 0.9999WARNING:tensorflow:Early stopping conditioned on metric `val_loss` which is not available. Available metrics are: loss,accuracy\n",
      "90464/90464 [==============================] - 287s 3ms/sample - loss: 2.9782e-04 - accuracy: 0.9999\n",
      "Epoch 3/10\n",
      "90432/90464 [============================>.] - ETA: 0s - loss: 2.1868e-04 - accuracy: 0.9999 ETA: 1s - lWARNING:tensorflow:Early stopping conditioned on metric `val_loss` which is not available. Available metrics are: loss,accuracy\n",
      "90464/90464 [==============================] - 285s 3ms/sample - loss: 2.1860e-04 - accuracy: 0.9999\n",
      "Epoch 4/10\n",
      "90432/90464 [============================>.] - ETA: 0s - loss: 1.8465e-04 - accuracy: 1.0000WARNING:tensorflow:Early stopping conditioned on metric `val_loss` which is not available. Available metrics are: loss,accuracy\n",
      "90464/90464 [==============================] - 279s 3ms/sample - loss: 1.8462e-04 - accuracy: 1.0000\n",
      "Epoch 5/10\n",
      "90432/90464 [============================>.] - ETA: 0s - loss: 1.5843e-04 - accuracy: 1.0000 ETA: 2s - loss: 1.5842e-04 - ac - ETA: 1s - loss: 1WARNING:tensorflow:Early stopping conditioned on metric `val_loss` which is not available. Available metrics are: loss,accuracy\n",
      "90464/90464 [==============================] - 289s 3ms/sample - loss: 1.5837e-04 - accuracy: 1.0000\n",
      "Epoch 6/10\n",
      "90432/90464 [============================>.] - ETA: 0s - loss: 1.5271e-04 - accuracy: 1.0000WARNING:tensorflow:Early stopping conditioned on metric `val_loss` which is not available. Available metrics are: loss,accuracy\n",
      "90464/90464 [==============================] - 297s 3ms/sample - loss: 1.5266e-04 - accuracy: 1.0000\n",
      "Epoch 7/10\n",
      "90432/90464 [============================>.] - ETA: 0s - loss: 1.4046e-04 - accuracy: 1.0000WARNING:tensorflow:Early stopping conditioned on metric `val_loss` which is not available. Available metrics are: loss,accuracy\n",
      "90464/90464 [==============================] - 294s 3ms/sample - loss: 1.4041e-04 - accuracy: 1.0000\n",
      "Epoch 8/10\n",
      "90432/90464 [============================>.] - ETA: 0s - loss: 1.2472e-04 - accuracy: 1.0000WARNING:tensorflow:Early stopping conditioned on metric `val_loss` which is not available. Available metrics are: loss,accuracy\n",
      "90464/90464 [==============================] - 216s 2ms/sample - loss: 1.2469e-04 - accuracy: 1.0000\n",
      "Epoch 9/10\n",
      "90432/90464 [============================>.] - ETA: 0s - loss: 1.2470e-04 - accuracy: 1.0000WARNING:tensorflow:Early stopping conditioned on metric `val_loss` which is not available. Available metrics are: loss,accuracy\n",
      "90464/90464 [==============================] - 218s 2ms/sample - loss: 1.2466e-04 - accuracy: 1.0000\n",
      "Epoch 10/10\n",
      "90432/90464 [============================>.] - ETA: 0s - loss: 1.0823e-04 - accuracy: 1.0000WARNING:tensorflow:Early stopping conditioned on metric `val_loss` which is not available. Available metrics are: loss,accuracy\n",
      "90464/90464 [==============================] - 277s 3ms/sample - loss: 1.0820e-04 - accuracy: 1.0000\n"
     ]
    },
    {
     "data": {
      "text/plain": [
       "<tensorflow.python.keras.callbacks.History at 0x29da908f348>"
      ]
     },
     "execution_count": 11,
     "metadata": {},
     "output_type": "execute_result"
    },
    {
     "name": "stdout",
     "output_type": "stream",
     "text": [
      "accuracy_score 0.999950258654994\n",
      "recall_score 0.998935684962749\n",
      "precision_score 0.9974191589494459\n",
      "f1_score 0.9981768459434822\n",
      "Model: \"model_1\"\n",
      "_________________________________________________________________\n",
      "Layer (type)                 Output Shape              Param #   \n",
      "=================================================================\n",
      "input_1 (InputLayer)         [(None, 48, 256)]         0         \n",
      "_________________________________________________________________\n",
      "bidirectional (Bidirectional (None, 48, 144)           189504    \n",
      "_________________________________________________________________\n",
      "time_distributed (TimeDistri (None, 48, 1)             145       \n",
      "=================================================================\n",
      "Total params: 189,649\n",
      "Trainable params: 189,649\n",
      "Non-trainable params: 0\n",
      "_________________________________________________________________\n",
      "======Training stage======\n",
      "Train on 90464 samples\n",
      "Epoch 1/10\n",
      "90432/90464 [============================>.] - ETA: 0s - loss: 1.0741e-04 - accuracy: 1.0000WARNING:tensorflow:Early stopping conditioned on metric `val_loss` which is not available. Available metrics are: loss,accuracy\n",
      "90464/90464 [==============================] - 316s 3ms/sample - loss: 1.0738e-04 - accuracy: 1.0000\n",
      "Epoch 2/10\n",
      "90432/90464 [============================>.] - ETA: 0s - loss: 1.0609e-04 - accuracy: 1.0000WARNING:tensorflow:Early stopping conditioned on metric `val_loss` which is not available. Available metrics are: loss,accuracy\n",
      "90464/90464 [==============================] - 255s 3ms/sample - loss: 1.0622e-04 - accuracy: 1.0000\n",
      "Epoch 3/10\n",
      "90432/90464 [============================>.] - ETA: 0s - loss: 9.3441e-05 - accuracy: 1.0000WARNING:tensorflow:Early stopping conditioned on metric `val_loss` which is not available. Available metrics are: loss,accuracy\n",
      "90464/90464 [==============================] - 233s 3ms/sample - loss: 9.3408e-05 - accuracy: 1.0000\n",
      "Epoch 4/10\n",
      "90432/90464 [============================>.] - ETA: 0s - loss: 8.8683e-05 - accuracy: 1.0000WARNING:tensorflow:Early stopping conditioned on metric `val_loss` which is not available. Available metrics are: loss,accuracy\n",
      "90464/90464 [==============================] - 281s 3ms/sample - loss: 8.8652e-05 - accuracy: 1.0000\n",
      "Epoch 5/10\n",
      "90432/90464 [============================>.] - ETA: 0s - loss: 7.6567e-05 - accuracy: 1.0000WARNING:tensorflow:Early stopping conditioned on metric `val_loss` which is not available. Available metrics are: loss,accuracy\n",
      "90464/90464 [==============================] - 282s 3ms/sample - loss: 7.6540e-05 - accuracy: 1.0000\n",
      "Epoch 6/10\n",
      "90432/90464 [============================>.] - ETA: 0s - loss: 7.4763e-05 - accuracy: 1.0000WARNING:tensorflow:Early stopping conditioned on metric `val_loss` which is not available. Available metrics are: loss,accuracy\n",
      "90464/90464 [==============================] - 284s 3ms/sample - loss: 7.4738e-05 - accuracy: 1.0000\n",
      "Epoch 7/10\n",
      "90432/90464 [============================>.] - ETA: 0s - loss: 8.0163e-05 - accuracy: 1.0000WARNING:tensorflow:Early stopping conditioned on metric `val_loss` which is not available. Available metrics are: loss,accuracy\n",
      "90464/90464 [==============================] - 277s 3ms/sample - loss: 8.0136e-05 - accuracy: 1.0000\n",
      "Epoch 8/10\n",
      "90432/90464 [============================>.] - ETA: 0s - loss: 6.9966e-05 - accuracy: 1.0000WARNING:tensorflow:Early stopping conditioned on metric `val_loss` which is not available. Available metrics are: loss,accuracy\n",
      "90464/90464 [==============================] - 298s 3ms/sample - loss: 6.9941e-05 - accuracy: 1.0000\n",
      "Epoch 9/10\n",
      "90432/90464 [============================>.] - ETA: 0s - loss: 6.4839e-05 - accuracy: 1.0000WARNING:tensorflow:Early stopping conditioned on metric `val_loss` which is not available. Available metrics are: loss,accuracy\n",
      "90464/90464 [==============================] - 281s 3ms/sample - loss: 6.4816e-05 - accuracy: 1.0000\n",
      "Epoch 10/10\n",
      "90432/90464 [============================>.] - ETA: 0s - loss: 5.6126e-05 - accuracy: 1.0000WARNING:tensorflow:Early stopping conditioned on metric `val_loss` which is not available. Available metrics are: loss,accuracy\n",
      "90464/90464 [==============================] - 223s 2ms/sample - loss: 5.6106e-05 - accuracy: 1.0000\n"
     ]
    },
    {
     "data": {
      "text/plain": [
       "<tensorflow.python.keras.callbacks.History at 0x29d68089f08>"
      ]
     },
     "execution_count": 11,
     "metadata": {},
     "output_type": "execute_result"
    },
    {
     "name": "stdout",
     "output_type": "stream",
     "text": [
      "accuracy_score 0.9999689116593713\n",
      "recall_score 0.9995386744579425\n",
      "precision_score 0.9981572481572482\n",
      "f1_score 0.9988474836726854\n",
      "Model: \"model_2\"\n",
      "_________________________________________________________________\n",
      "Layer (type)                 Output Shape              Param #   \n",
      "=================================================================\n",
      "input_1 (InputLayer)         [(None, 48, 256)]         0         \n",
      "_________________________________________________________________\n",
      "bidirectional (Bidirectional (None, 48, 144)           189504    \n",
      "_________________________________________________________________\n",
      "time_distributed (TimeDistri (None, 48, 1)             145       \n",
      "=================================================================\n",
      "Total params: 189,649\n",
      "Trainable params: 189,649\n",
      "Non-trainable params: 0\n",
      "_________________________________________________________________\n",
      "======Training stage======\n",
      "Train on 90464 samples\n",
      "Epoch 1/10\n",
      "90432/90464 [============================>.] - ETA: 0s - loss: 7.7510e-05 - accuracy: 1.0000WARNING:tensorflow:Early stopping conditioned on metric `val_loss` which is not available. Available metrics are: loss,accuracy\n",
      "90464/90464 [==============================] - 250s 3ms/sample - loss: 7.7483e-05 - accuracy: 1.0000\n",
      "Epoch 2/10\n",
      "90432/90464 [============================>.] - ETA: 0s - loss: 6.0550e-05 - accuracy: 1.0000 ETA: 0s - loss: 6.0662e-05 - accuWARNING:tensorflow:Early stopping conditioned on metric `val_loss` which is not available. Available metrics are: loss,accuracy\n",
      "90464/90464 [==============================] - 187s 2ms/sample - loss: 6.0529e-05 - accuracy: 1.0000\n",
      "Epoch 3/10\n",
      "90432/90464 [============================>.] - ETA: 0s - loss: 5.5664e-05 - accuracy: 1.0000WARNING:tensorflow:Early stopping conditioned on metric `val_loss` which is not available. Available metrics are: loss,accuracy\n",
      "90464/90464 [==============================] - 189s 2ms/sample - loss: 5.5645e-05 - accuracy: 1.0000\n",
      "Epoch 4/10\n",
      "90432/90464 [============================>.] - ETA: 0s - loss: 5.4544e-05 - accuracy: 1.0000WARNING:tensorflow:Early stopping conditioned on metric `val_loss` which is not available. Available metrics are: loss,accuracy\n",
      "90464/90464 [==============================] - 185s 2ms/sample - loss: 5.4525e-05 - accuracy: 1.0000\n",
      "Epoch 5/10\n",
      "90432/90464 [============================>.] - ETA: 0s - loss: 4.5872e-05 - accuracy: 1.0000WARNING:tensorflow:Early stopping conditioned on metric `val_loss` which is not available. Available metrics are: loss,accuracy\n",
      "90464/90464 [==============================] - 182s 2ms/sample - loss: 4.5855e-05 - accuracy: 1.0000\n",
      "Epoch 6/10\n",
      "90432/90464 [============================>.] - ETA: 0s - loss: 3.8864e-05 - accuracy: 1.0000 ETA: 1sWARNING:tensorflow:Early stopping conditioned on metric `val_loss` which is not available. Available metrics are: loss,accuracy\n",
      "90464/90464 [==============================] - 172s 2ms/sample - loss: 3.8851e-05 - accuracy: 1.0000\n",
      "Epoch 7/10\n",
      "90432/90464 [============================>.] - ETA: 0s - loss: 5.5200e-05 - accuracy: 1.0000WARNING:tensorflow:Early stopping conditioned on metric `val_loss` which is not available. Available metrics are: loss,accuracy\n",
      "90464/90464 [==============================] - 147s 2ms/sample - loss: 5.5181e-05 - accuracy: 1.0000\n",
      "Epoch 8/10\n",
      "90432/90464 [============================>.] - ETA: 0s - loss: 3.8687e-05 - accuracy: 1.0000WARNING:tensorflow:Early stopping conditioned on metric `val_loss` which is not available. Available metrics are: loss,accuracy\n",
      "90464/90464 [==============================] - 171s 2ms/sample - loss: 3.8673e-05 - accuracy: 1.0000\n",
      "Epoch 9/10\n",
      "90432/90464 [============================>.] - ETA: 0s - loss: 2.4363e-05 - accuracy: 1.0000WARNING:tensorflow:Early stopping conditioned on metric `val_loss` which is not available. Available metrics are: loss,accuracy\n",
      "90464/90464 [==============================] - 185s 2ms/sample - loss: 2.4354e-05 - accuracy: 1.0000\n",
      "Epoch 10/10\n",
      "90432/90464 [============================>.] - ETA: 0s - loss: 2.4471e-05 - accuracy: 1.0000WARNING:tensorflow:Early stopping conditioned on metric `val_loss` which is not available. Available metrics are: loss,accuracy\n",
      "90464/90464 [==============================] - 183s 2ms/sample - loss: 2.4463e-05 - accuracy: 1.0000\n"
     ]
    },
    {
     "data": {
      "text/plain": [
       "<tensorflow.python.keras.callbacks.History at 0x29da9067548>"
      ]
     },
     "execution_count": 11,
     "metadata": {},
     "output_type": "execute_result"
    },
    {
     "name": "stdout",
     "output_type": "stream",
     "text": [
      "accuracy_score 0.9999854921077066\n",
      "recall_score 1.0\n",
      "precision_score 0.9989050524010636\n",
      "f1_score 0.9994522263087878\n",
      "Model: \"model_3\"\n",
      "_________________________________________________________________\n",
      "Layer (type)                 Output Shape              Param #   \n",
      "=================================================================\n",
      "input_1 (InputLayer)         [(None, 48, 256)]         0         \n",
      "_________________________________________________________________\n",
      "bidirectional (Bidirectional (None, 48, 144)           189504    \n",
      "_________________________________________________________________\n",
      "time_distributed (TimeDistri (None, 48, 1)             145       \n",
      "=================================================================\n",
      "Total params: 189,649\n",
      "Trainable params: 189,649\n",
      "Non-trainable params: 0\n",
      "_________________________________________________________________\n",
      "======Training stage======\n",
      "Train on 90464 samples\n",
      "Epoch 1/10\n",
      "90432/90464 [============================>.] - ETA: 0s - loss: 3.6014e-05 - accuracy: 1.0000 ETA: 0s - loss: 3.616WARNING:tensorflow:Early stopping conditioned on metric `val_loss` which is not available. Available metrics are: loss,accuracy\n",
      "90464/90464 [==============================] - 195s 2ms/sample - loss: 3.6001e-05 - accuracy: 1.0000\n",
      "Epoch 2/10\n",
      "90432/90464 [============================>.] - ETA: 0s - loss: 2.9148e-05 - accuracy: 1.0000WARNING:tensorflow:Early stopping conditioned on metric `val_loss` which is not available. Available metrics are: loss,accuracy\n",
      "90464/90464 [==============================] - 185s 2ms/sample - loss: 2.9138e-05 - accuracy: 1.0000\n",
      "Epoch 3/10\n",
      "90432/90464 [============================>.] - ETA: 0s - loss: 2.7951e-05 - accuracy: 1.0000WARNING:tensorflow:Early stopping conditioned on metric `val_loss` which is not available. Available metrics are: loss,accuracy\n",
      "90464/90464 [==============================] - 184s 2ms/sample - loss: 2.7942e-05 - accuracy: 1.0000\n",
      "Epoch 4/10\n",
      "90400/90464 [============================>.] - ETA: 0s - loss: 2.6383e-05 - accuracy: 1.0000WARNING:tensorflow:Early stopping conditioned on metric `val_loss` which is not available. Available metrics are: loss,accuracy\n",
      "90464/90464 [==============================] - 106s 1ms/sample - loss: 2.6365e-05 - accuracy: 1.0000\n",
      "Epoch 5/10\n",
      "90432/90464 [============================>.] - ETA: 0s - loss: 1.8986e-05 - accuracy: 1.0000WARNING:tensorflow:Early stopping conditioned on metric `val_loss` which is not available. Available metrics are: loss,accuracy\n",
      "90464/90464 [==============================] - 105s 1ms/sample - loss: 1.8979e-05 - accuracy: 1.0000\n",
      "Epoch 6/10\n",
      "90432/90464 [============================>.] - ETA: 0s - loss: 1.6927e-05 - accuracy: 1.0000WARNING:tensorflow:Early stopping conditioned on metric `val_loss` which is not available. Available metrics are: loss,accuracy\n",
      "90464/90464 [==============================] - 163s 2ms/sample - loss: 1.6921e-05 - accuracy: 1.0000\n",
      "Epoch 7/10\n",
      "90432/90464 [============================>.] - ETA: 0s - loss: 1.0726e-05 - accuracy: 1.0000 ETA: 0s - loss: 1.0741e-05 - accuracyWARNING:tensorflow:Early stopping conditioned on metric `val_loss` which is not available. Available metrics are: loss,accuracy\n",
      "90464/90464 [==============================] - 158s 2ms/sample - loss: 1.0722e-05 - accuracy: 1.0000\n",
      "Epoch 8/10\n",
      "90432/90464 [============================>.] - ETA: 0s - loss: 1.5703e-05 - accuracy: 1.0000WARNING:tensorflow:Early stopping conditioned on metric `val_loss` which is not available. Available metrics are: loss,accuracy\n",
      "90464/90464 [==============================] - 185s 2ms/sample - loss: 1.5697e-05 - accuracy: 1.0000\n",
      "Epoch 9/10\n",
      "90432/90464 [============================>.] - ETA: 0s - loss: 7.0817e-06 - accuracy: 1.0000WARNING:tensorflow:Early stopping conditioned on metric `val_loss` which is not available. Available metrics are: loss,accuracy\n",
      "90464/90464 [==============================] - 273s 3ms/sample - loss: 7.0792e-06 - accuracy: 1.0000\n",
      "Epoch 10/10\n",
      "90432/90464 [============================>.] - ETA: 0s - loss: 7.0308e-06 - accuracy: 1.0000WARNING:tensorflow:Early stopping conditioned on metric `val_loss` which is not available. Available metrics are: loss,accuracy\n",
      "90464/90464 [==============================] - 271s 3ms/sample - loss: 7.0283e-06 - accuracy: 1.0000\n"
     ]
    },
    {
     "data": {
      "text/plain": [
       "<tensorflow.python.keras.callbacks.History at 0x29d68832ac8>"
      ]
     },
     "execution_count": 11,
     "metadata": {},
     "output_type": "execute_result"
    },
    {
     "name": "stdout",
     "output_type": "stream",
     "text": [
      "accuracy_score 0.9999937823318743\n",
      "recall_score 0.9998485766202302\n",
      "precision_score 0.9996971990915973\n",
      "f1_score 0.9997728821258233\n",
      "Model: \"model_4\"\n",
      "_________________________________________________________________\n",
      "Layer (type)                 Output Shape              Param #   \n",
      "=================================================================\n",
      "input_1 (InputLayer)         [(None, 48, 256)]         0         \n",
      "_________________________________________________________________\n",
      "bidirectional (Bidirectional (None, 48, 144)           189504    \n",
      "_________________________________________________________________\n",
      "time_distributed (TimeDistri (None, 48, 1)             145       \n",
      "=================================================================\n",
      "Total params: 189,649\n",
      "Trainable params: 189,649\n",
      "Non-trainable params: 0\n",
      "_________________________________________________________________\n",
      "======Training stage======\n",
      "Train on 90464 samples\n",
      "Epoch 1/10\n",
      "90432/90464 [============================>.] - ETA: 0s - loss: 9.5933e-06 - accuracy: 1.0000 ETA: 0s - loss: 9.6069e-06 - accuracyWARNING:tensorflow:Early stopping conditioned on metric `val_loss` which is not available. Available metrics are: loss,accuracy\n",
      "90464/90464 [==============================] - 199s 2ms/sample - loss: 9.5899e-06 - accuracy: 1.0000\n",
      "Epoch 2/10\n",
      "90432/90464 [============================>.] - ETA: 0s - loss: 8.1486e-06 - accuracy: 1.0000 ETA: WARNING:tensorflow:Early stopping conditioned on metric `val_loss` which is not available. Available metrics are: loss,accuracy\n",
      "90464/90464 [==============================] - 171s 2ms/sample - loss: 8.1457e-06 - accuracy: 1.0000\n",
      "Epoch 3/10\n",
      "90432/90464 [============================>.] - ETA: 0s - loss: 7.8644e-06 - accuracy: 1.0000WARNING:tensorflow:Early stopping conditioned on metric `val_loss` which is not available. Available metrics are: loss,accuracy\n",
      "90464/90464 [==============================] - 172s 2ms/sample - loss: 7.8617e-06 - accuracy: 1.0000\n",
      "Epoch 4/10\n",
      "90432/90464 [============================>.] - ETA: 0s - loss: 7.0291e-06 - accuracy: 1.0000WARNING:tensorflow:Early stopping conditioned on metric `val_loss` which is not available. Available metrics are: loss,accuracy\n",
      "90464/90464 [==============================] - 176s 2ms/sample - loss: 7.0266e-06 - accuracy: 1.0000\n",
      "Epoch 5/10\n",
      "90432/90464 [============================>.] - ETA: 0s - loss: 7.0273e-06 - accuracy: 1.0000WARNING:tensorflow:Early stopping conditioned on metric `val_loss` which is not available. Available metrics are: loss,accuracy\n",
      "90464/90464 [==============================] - 176s 2ms/sample - loss: 7.0248e-06 - accuracy: 1.0000\n",
      "Epoch 6/10\n",
      "90400/90464 [============================>.] - ETA: 0s - loss: 7.0292e-06 - accuracy: 1.0000WARNING:tensorflow:Early stopping conditioned on metric `val_loss` which is not available. Available metrics are: loss,accuracy\n",
      "90464/90464 [==============================] - 157s 2ms/sample - loss: 7.0242e-06 - accuracy: 1.0000\n",
      "Epoch 7/10\n",
      "90432/90464 [============================>.] - ETA: 0s - loss: 7.0265e-06 - accuracy: 1.0000WARNING:tensorflow:Early stopping conditioned on metric `val_loss` which is not available. Available metrics are: loss,accuracy\n",
      "90464/90464 [==============================] - 127s 1ms/sample - loss: 7.0240e-06 - accuracy: 1.0000\n",
      "Epoch 8/10\n",
      "90432/90464 [============================>.] - ETA: 0s - loss: 7.0265e-06 - accuracy: 1.0000WARNING:tensorflow:Early stopping conditioned on metric `val_loss` which is not available. Available metrics are: loss,accuracy\n",
      "90464/90464 [==============================] - 128s 1ms/sample - loss: 7.0240e-06 - accuracy: 1.0000\n",
      "Epoch 9/10\n",
      "90432/90464 [============================>.] - ETA: 0s - loss: 7.0264e-06 - accuracy: 1.0000 ETA: 0s - loss: 7.0389e-06 - accuraWARNING:tensorflow:Early stopping conditioned on metric `val_loss` which is not available. Available metrics are: loss,accuracy\n",
      "90464/90464 [==============================] - 167s 2ms/sample - loss: 7.0240e-06 - accuracy: 1.0000\n",
      "Epoch 10/10\n",
      "90432/90464 [============================>.] - ETA: 0s - loss: 7.0264e-06 - accuracy: 1.0000WARNING:tensorflow:Early stopping conditioned on metric `val_loss` which is not available. Available metrics are: loss,accuracy\n",
      "90464/90464 [==============================] - 177s 2ms/sample - loss: 7.0239e-06 - accuracy: 1.0000\n"
     ]
    },
    {
     "data": {
      "text/plain": [
       "<tensorflow.python.keras.callbacks.History at 0x29d74476e88>"
      ]
     },
     "execution_count": 11,
     "metadata": {},
     "output_type": "execute_result"
    },
    {
     "name": "stdout",
     "output_type": "stream",
     "text": [
      "accuracy_score 1.0\n",
      "recall_score 1.0\n",
      "precision_score 1.0\n",
      "f1_score 1.0\n",
      "Model: \"model_5\"\n",
      "_________________________________________________________________\n",
      "Layer (type)                 Output Shape              Param #   \n",
      "=================================================================\n",
      "input_1 (InputLayer)         [(None, 48, 256)]         0         \n",
      "_________________________________________________________________\n",
      "bidirectional (Bidirectional (None, 48, 144)           189504    \n",
      "_________________________________________________________________\n",
      "time_distributed (TimeDistri (None, 48, 1)             145       \n",
      "=================================================================\n",
      "Total params: 189,649\n",
      "Trainable params: 189,649\n",
      "Non-trainable params: 0\n",
      "_________________________________________________________________\n",
      "======Training stage======\n",
      "Train on 90464 samples\n",
      "Epoch 1/10\n",
      "90432/90464 [============================>.] - ETA: 0s - loss: 7.0264e-06 - accuracy: 1.0000 ETA: 0s - loss: 7.0314e-06 - accuracy: 1.WARNING:tensorflow:Early stopping conditioned on metric `val_loss` which is not available. Available metrics are: loss,accuracy\n",
      "90464/90464 [==============================] - 180s 2ms/sample - loss: 7.0239e-06 - accuracy: 1.0000\n",
      "Epoch 2/10\n",
      "90432/90464 [============================>.] - ETA: 0s - loss: 7.0264e-06 - accuracy: 1.0000WARNING:tensorflow:Early stopping conditioned on metric `val_loss` which is not available. Available metrics are: loss,accuracy\n",
      "90464/90464 [==============================] - 176s 2ms/sample - loss: 7.0239e-06 - accuracy: 1.0000\n",
      "Epoch 3/10\n",
      "90432/90464 [============================>.] - ETA: 0s - loss: 7.0264e-06 - accuracy: 1.0000WARNING:tensorflow:Early stopping conditioned on metric `val_loss` which is not available. Available metrics are: loss,accuracy\n",
      "90464/90464 [==============================] - 177s 2ms/sample - loss: 7.0239e-06 - accuracy: 1.0000\n",
      "Epoch 4/10\n",
      "90432/90464 [============================>.] - ETA: 0s - loss: 7.0263e-06 - accuracy: 1.0000WARNING:tensorflow:Early stopping conditioned on metric `val_loss` which is not available. Available metrics are: loss,accuracy\n",
      "90464/90464 [==============================] - 175s 2ms/sample - loss: 7.0238e-06 - accuracy: 1.0000\n",
      "Epoch 5/10\n",
      "90432/90464 [============================>.] - ETA: 0s - loss: 7.0263e-06 - accuracy: 1.0000WARNING:tensorflow:Early stopping conditioned on metric `val_loss` which is not available. Available metrics are: loss,accuracy\n",
      "90464/90464 [==============================] - 175s 2ms/sample - loss: 7.0238e-06 - accuracy: 1.0000\n",
      "Epoch 6/10\n",
      "90432/90464 [============================>.] - ETA: 0s - loss: 7.0263e-06 - accuracy: 1.0000 ETA: WARNING:tensorflow:Early stopping conditioned on metric `val_loss` which is not available. Available metrics are: loss,accuracy\n",
      "90464/90464 [==============================] - 176s 2ms/sample - loss: 7.0238e-06 - accuracy: 1.0000\n",
      "Epoch 7/10\n",
      "90432/90464 [============================>.] - ETA: 0s - loss: 7.0263e-06 - accuracy: 1.0000WARNING:tensorflow:Early stopping conditioned on metric `val_loss` which is not available. Available metrics are: loss,accuracy\n",
      "90464/90464 [==============================] - 175s 2ms/sample - loss: 7.0238e-06 - accuracy: 1.0000\n",
      "Epoch 8/10\n",
      "90432/90464 [============================>.] - ETA: 0s - loss: 7.0263e-06 - accuracy: 1.0000WARNING:tensorflow:Early stopping conditioned on metric `val_loss` which is not available. Available metrics are: loss,accuracy\n",
      "90464/90464 [==============================] - 165s 2ms/sample - loss: 7.0238e-06 - accuracy: 1.0000\n",
      "Epoch 9/10\n",
      "90432/90464 [============================>.] - ETA: 0s - loss: 7.0263e-06 - accuracy: 1.0000 ETA: 2s - loss:WARNING:tensorflow:Early stopping conditioned on metric `val_loss` which is not available. Available metrics are: loss,accuracy\n",
      "90464/90464 [==============================] - 176s 2ms/sample - loss: 7.0238e-06 - accuracy: 1.0000\n",
      "Epoch 10/10\n",
      "90432/90464 [============================>.] - ETA: 0s - loss: 7.0263e-06 - accuracy: 1.0000WARNING:tensorflow:Early stopping conditioned on metric `val_loss` which is not available. Available metrics are: loss,accuracy\n",
      "90464/90464 [==============================] - 164s 2ms/sample - loss: 7.0238e-06 - accuracy: 1.0000\n"
     ]
    },
    {
     "data": {
      "text/plain": [
       "<tensorflow.python.keras.callbacks.History at 0x29d78a604c8>"
      ]
     },
     "execution_count": 11,
     "metadata": {},
     "output_type": "execute_result"
    },
    {
     "name": "stdout",
     "output_type": "stream",
     "text": [
      "accuracy_score 1.0\n",
      "recall_score 1.0\n",
      "precision_score 1.0\n",
      "f1_score 1.0\n",
      "Model: \"model_6\"\n",
      "_________________________________________________________________\n",
      "Layer (type)                 Output Shape              Param #   \n",
      "=================================================================\n",
      "input_1 (InputLayer)         [(None, 48, 256)]         0         \n",
      "_________________________________________________________________\n",
      "bidirectional (Bidirectional (None, 48, 144)           189504    \n",
      "_________________________________________________________________\n",
      "time_distributed (TimeDistri (None, 48, 1)             145       \n",
      "=================================================================\n",
      "Total params: 189,649\n",
      "Trainable params: 189,649\n",
      "Non-trainable params: 0\n",
      "_________________________________________________________________\n",
      "======Training stage======\n",
      "Train on 90465 samples\n",
      "Epoch 1/10\n",
      "90464/90465 [============================>.] - ETA: 0s - loss: 7.0238e-06 - accuracy: 1.0000WARNING:tensorflow:Early stopping conditioned on metric `val_loss` which is not available. Available metrics are: loss,accuracy\n",
      "90465/90465 [==============================] - 238s 3ms/sample - loss: 7.0237e-06 - accuracy: 1.0000\n",
      "Epoch 2/10\n",
      "90464/90465 [============================>.] - ETA: 0s - loss: 7.0238e-06 - accuracy: 1.0000WARNING:tensorflow:Early stopping conditioned on metric `val_loss` which is not available. Available metrics are: loss,accuracy\n",
      "90465/90465 [==============================] - 216s 2ms/sample - loss: 7.0237e-06 - accuracy: 1.0000\n",
      "Epoch 3/10\n",
      "90464/90465 [============================>.] - ETA: 0s - loss: 7.0238e-06 - accuracy: 1.0000WARNING:tensorflow:Early stopping conditioned on metric `val_loss` which is not available. Available metrics are: loss,accuracy\n",
      "90465/90465 [==============================] - 214s 2ms/sample - loss: 7.0237e-06 - accuracy: 1.0000\n",
      "Epoch 4/10\n",
      "90464/90465 [============================>.] - ETA: 0s - loss: 7.0238e-06 - accuracy: 1.0000WARNING:tensorflow:Early stopping conditioned on metric `val_loss` which is not available. Available metrics are: loss,accuracy\n",
      "90465/90465 [==============================] - 214s 2ms/sample - loss: 7.0237e-06 - accuracy: 1.0000\n",
      "Epoch 5/10\n",
      "90464/90465 [============================>.] - ETA: 0s - loss: 7.0238e-06 - accuracy: 1.0000WARNING:tensorflow:Early stopping conditioned on metric `val_loss` which is not available. Available metrics are: loss,accuracy\n",
      "90465/90465 [==============================] - 214s 2ms/sample - loss: 7.0237e-06 - accuracy: 1.0000\n",
      "Epoch 6/10\n",
      "90464/90465 [============================>.] - ETA: 0s - loss: 7.0238e-06 - accuracy: 1.0000WARNING:tensorflow:Early stopping conditioned on metric `val_loss` which is not available. Available metrics are: loss,accuracy\n",
      "90465/90465 [==============================] - 205s 2ms/sample - loss: 7.0237e-06 - accuracy: 1.0000\n",
      "Epoch 7/10\n",
      "90464/90465 [============================>.] - ETA: 0s - loss: 7.0238e-06 - accuracy: 1.0000WARNING:tensorflow:Early stopping conditioned on metric `val_loss` which is not available. Available metrics are: loss,accuracy\n",
      "90465/90465 [==============================] - 206s 2ms/sample - loss: 7.0237e-06 - accuracy: 1.0000\n",
      "Epoch 8/10\n",
      "90464/90465 [============================>.] - ETA: 0s - loss: 7.0237e-06 - accuracy: 1.0000WARNING:tensorflow:Early stopping conditioned on metric `val_loss` which is not available. Available metrics are: loss,accuracy\n",
      "90465/90465 [==============================] - 215s 2ms/sample - loss: 7.0237e-06 - accuracy: 1.0000\n",
      "Epoch 9/10\n",
      "90464/90465 [============================>.] - ETA: 0s - loss: 7.0237e-06 - accuracy: 1.0000WARNING:tensorflow:Early stopping conditioned on metric `val_loss` which is not available. Available metrics are: loss,accuracy\n",
      "90465/90465 [==============================] - 214s 2ms/sample - loss: 7.0237e-06 - accuracy: 1.0000\n",
      "Epoch 10/10\n",
      "90464/90465 [============================>.] - ETA: 0s - loss: 7.0237e-06 - accuracy: 1.0000WARNING:tensorflow:Early stopping conditioned on metric `val_loss` which is not available. Available metrics are: loss,accuracy\n",
      "90465/90465 [==============================] - 214s 2ms/sample - loss: 7.0237e-06 - accuracy: 1.0000\n"
     ]
    },
    {
     "data": {
      "text/plain": [
       "<tensorflow.python.keras.callbacks.History at 0x29d85efff88>"
      ]
     },
     "execution_count": 11,
     "metadata": {},
     "output_type": "execute_result"
    },
    {
     "name": "stdout",
     "output_type": "stream",
     "text": [
      "accuracy_score 1.0\n",
      "recall_score 1.0\n",
      "precision_score 1.0\n",
      "f1_score 1.0\n",
      "Model: \"model_7\"\n",
      "_________________________________________________________________\n",
      "Layer (type)                 Output Shape              Param #   \n",
      "=================================================================\n",
      "input_1 (InputLayer)         [(None, 48, 256)]         0         \n",
      "_________________________________________________________________\n",
      "bidirectional (Bidirectional (None, 48, 144)           189504    \n",
      "_________________________________________________________________\n",
      "time_distributed (TimeDistri (None, 48, 1)             145       \n",
      "=================================================================\n",
      "Total params: 189,649\n",
      "Trainable params: 189,649\n",
      "Non-trainable params: 0\n",
      "_________________________________________________________________\n",
      "======Training stage======\n",
      "Train on 90465 samples\n",
      "Epoch 1/10\n",
      "90464/90465 [============================>.] - ETA: 0s - loss: 7.0237e-06 - accuracy: 1.0000WARNING:tensorflow:Early stopping conditioned on metric `val_loss` which is not available. Available metrics are: loss,accuracy\n",
      "90465/90465 [==============================] - 214s 2ms/sample - loss: 7.0237e-06 - accuracy: 1.0000\n",
      "Epoch 2/10\n",
      "90464/90465 [============================>.] - ETA: 0s - loss: 7.0237e-06 - accuracy: 1.0000WARNING:tensorflow:Early stopping conditioned on metric `val_loss` which is not available. Available metrics are: loss,accuracy\n",
      "90465/90465 [==============================] - 202s 2ms/sample - loss: 7.0237e-06 - accuracy: 1.0000\n",
      "Epoch 3/10\n",
      "90464/90465 [============================>.] - ETA: 0s - loss: 7.0237e-06 - accuracy: 1.0000WARNING:tensorflow:Early stopping conditioned on metric `val_loss` which is not available. Available metrics are: loss,accuracy\n",
      "90465/90465 [==============================] - 172s 2ms/sample - loss: 7.0237e-06 - accuracy: 1.0000\n",
      "Epoch 4/10\n",
      "90464/90465 [============================>.] - ETA: 0s - loss: 7.0237e-06 - accuracy: 1.0000WARNING:tensorflow:Early stopping conditioned on metric `val_loss` which is not available. Available metrics are: loss,accuracy\n",
      "90465/90465 [==============================] - 150s 2ms/sample - loss: 7.0237e-06 - accuracy: 1.0000\n",
      "Epoch 5/10\n",
      "90464/90465 [============================>.] - ETA: 0s - loss: 7.0237e-06 - accuracy: 1.0000WARNING:tensorflow:Early stopping conditioned on metric `val_loss` which is not available. Available metrics are: loss,accuracy\n",
      "90465/90465 [==============================] - 134s 1ms/sample - loss: 7.0237e-06 - accuracy: 1.0000\n",
      "Epoch 6/10\n",
      "90464/90465 [============================>.] - ETA: 0s - loss: 7.0237e-06 - accuracy: 1.0000WARNING:tensorflow:Early stopping conditioned on metric `val_loss` which is not available. Available metrics are: loss,accuracy\n",
      "90465/90465 [==============================] - 134s 1ms/sample - loss: 7.0236e-06 - accuracy: 1.0000\n",
      "Epoch 7/10\n",
      "90432/90465 [============================>.] - ETA: 0s - loss: 7.0262e-06 - accuracy: 1.0000WARNING:tensorflow:Early stopping conditioned on metric `val_loss` which is not available. Available metrics are: loss,accuracy\n",
      "90465/90465 [==============================] - 136s 2ms/sample - loss: 7.0236e-06 - accuracy: 1.0000\n",
      "Epoch 8/10\n",
      "90464/90465 [============================>.] - ETA: 0s - loss: 7.0237e-06 - accuracy: 1.0000WARNING:tensorflow:Early stopping conditioned on metric `val_loss` which is not available. Available metrics are: loss,accuracy\n",
      "90465/90465 [==============================] - 135s 1ms/sample - loss: 7.0236e-06 - accuracy: 1.0000\n",
      "Epoch 9/10\n",
      "90464/90465 [============================>.] - ETA: 0s - loss: 7.0237e-06 - accuracy: 1.0000WARNING:tensorflow:Early stopping conditioned on metric `val_loss` which is not available. Available metrics are: loss,accuracy\n",
      "90465/90465 [==============================] - 135s 1ms/sample - loss: 7.0236e-06 - accuracy: 1.0000\n",
      "Epoch 10/10\n",
      "90432/90465 [============================>.] - ETA: 0s - loss: 7.0262e-06 - accuracy: 1.0000WARNING:tensorflow:Early stopping conditioned on metric `val_loss` which is not available. Available metrics are: loss,accuracy\n",
      "90465/90465 [==============================] - 135s 1ms/sample - loss: 7.0236e-06 - accuracy: 1.0000\n"
     ]
    },
    {
     "data": {
      "text/plain": [
       "<tensorflow.python.keras.callbacks.History at 0x29daae45848>"
      ]
     },
     "execution_count": 11,
     "metadata": {},
     "output_type": "execute_result"
    },
    {
     "name": "stdout",
     "output_type": "stream",
     "text": [
      "accuracy_score 1.0\n",
      "recall_score 1.0\n",
      "precision_score 1.0\n",
      "f1_score 1.0\n",
      "Model: \"model_8\"\n",
      "_________________________________________________________________\n",
      "Layer (type)                 Output Shape              Param #   \n",
      "=================================================================\n",
      "input_1 (InputLayer)         [(None, 48, 256)]         0         \n",
      "_________________________________________________________________\n",
      "bidirectional (Bidirectional (None, 48, 144)           189504    \n",
      "_________________________________________________________________\n",
      "time_distributed (TimeDistri (None, 48, 1)             145       \n",
      "=================================================================\n",
      "Total params: 189,649\n",
      "Trainable params: 189,649\n",
      "Non-trainable params: 0\n",
      "_________________________________________________________________\n",
      "======Training stage======\n",
      "Train on 90465 samples\n",
      "Epoch 1/10\n",
      "90464/90465 [============================>.] - ETA: 0s - loss: 3.5119e-06 - accuracy: 1.0000 ETA: 1s - loss: 3.5WARNING:tensorflow:Early stopping conditioned on metric `val_loss` which is not available. Available metrics are: loss,accuracy\n",
      "90465/90465 [==============================] - 142s 2ms/sample - loss: 3.5119e-06 - accuracy: 1.0000\n",
      "Epoch 2/10\n",
      "90432/90465 [============================>.] - ETA: 0s - loss: 3.5131e-06 - accuracy: 1.0000WARNING:tensorflow:Early stopping conditioned on metric `val_loss` which is not available. Available metrics are: loss,accuracy\n",
      "90465/90465 [==============================] - 125s 1ms/sample - loss: 3.5119e-06 - accuracy: 1.0000\n",
      "Epoch 3/10\n",
      "90432/90465 [============================>.] - ETA: 0s - loss: 3.5131e-06 - accuracy: 1.0000WARNING:tensorflow:Early stopping conditioned on metric `val_loss` which is not available. Available metrics are: loss,accuracy\n",
      "90465/90465 [==============================] - 135s 1ms/sample - loss: 3.5119e-06 - accuracy: 1.0000\n",
      "Epoch 4/10\n",
      "90432/90465 [============================>.] - ETA: 0s - loss: 3.5131e-06 - accuracy: 1.0000WARNING:tensorflow:Early stopping conditioned on metric `val_loss` which is not available. Available metrics are: loss,accuracy\n",
      "90465/90465 [==============================] - 133s 1ms/sample - loss: 3.5119e-06 - accuracy: 1.0000\n",
      "Epoch 5/10\n",
      "90464/90465 [============================>.] - ETA: 0s - loss: 3.5119e-06 - accuracy: 1.0000 ETA: 0s - loss: 3.5231e-06 - accuraWARNING:tensorflow:Early stopping conditioned on metric `val_loss` which is not available. Available metrics are: loss,accuracy\n",
      "90465/90465 [==============================] - 134s 1ms/sample - loss: 3.5119e-06 - accuracy: 1.0000\n",
      "Epoch 6/10\n",
      "90432/90465 [============================>.] - ETA: 0s - loss: 3.5131e-06 - accuracy: 1.0000WARNING:tensorflow:Early stopping conditioned on metric `val_loss` which is not available. Available metrics are: loss,accuracy\n",
      "90465/90465 [==============================] - 134s 1ms/sample - loss: 3.5118e-06 - accuracy: 1.0000\n",
      "Epoch 7/10\n",
      "90464/90465 [============================>.] - ETA: 0s - loss: 3.5119e-06 - accuracy: 1.0000WARNING:tensorflow:Early stopping conditioned on metric `val_loss` which is not available. Available metrics are: loss,accuracy\n",
      "90465/90465 [==============================] - 134s 1ms/sample - loss: 3.5118e-06 - accuracy: 1.0000\n",
      "Epoch 8/10\n",
      "90464/90465 [============================>.] - ETA: 0s - loss: 3.5119e-06 - accuracy: 1.0000WARNING:tensorflow:Early stopping conditioned on metric `val_loss` which is not available. Available metrics are: loss,accuracy\n",
      "90465/90465 [==============================] - 133s 1ms/sample - loss: 3.5118e-06 - accuracy: 1.0000\n",
      "Epoch 9/10\n",
      "90464/90465 [============================>.] - ETA: 0s - loss: 3.5119e-06 - accuracy: 1.0000WARNING:tensorflow:Early stopping conditioned on metric `val_loss` which is not available. Available metrics are: loss,accuracy\n",
      "90465/90465 [==============================] - 133s 1ms/sample - loss: 3.5118e-06 - accuracy: 1.0000\n",
      "Epoch 10/10\n",
      "90432/90465 [============================>.] - ETA: 0s - loss: 3.5131e-06 - accuracy: 1.0000WARNING:tensorflow:Early stopping conditioned on metric `val_loss` which is not available. Available metrics are: loss,accuracy\n",
      "90465/90465 [==============================] - 135s 1ms/sample - loss: 3.5118e-06 - accuracy: 1.0000\n"
     ]
    },
    {
     "data": {
      "text/plain": [
       "<tensorflow.python.keras.callbacks.History at 0x29d675a45c8>"
      ]
     },
     "execution_count": 11,
     "metadata": {},
     "output_type": "execute_result"
    },
    {
     "name": "stdout",
     "output_type": "stream",
     "text": [
      "accuracy_score 0.9999979272377542\n",
      "recall_score 1.0\n",
      "precision_score 0.9998497821841671\n",
      "f1_score 0.9999248854503118\n",
      "Model: \"model_9\"\n",
      "_________________________________________________________________\n",
      "Layer (type)                 Output Shape              Param #   \n",
      "=================================================================\n",
      "input_1 (InputLayer)         [(None, 48, 256)]         0         \n",
      "_________________________________________________________________\n",
      "bidirectional (Bidirectional (None, 48, 144)           189504    \n",
      "_________________________________________________________________\n",
      "time_distributed (TimeDistri (None, 48, 1)             145       \n",
      "=================================================================\n",
      "Total params: 189,649\n",
      "Trainable params: 189,649\n",
      "Non-trainable params: 0\n",
      "_________________________________________________________________\n",
      "======Training stage======\n",
      "Train on 90465 samples\n",
      "Epoch 1/10\n",
      "90464/90465 [============================>.] - ETA: 0s - loss: 7.0237e-06 - accuracy: 1.0000WARNING:tensorflow:Early stopping conditioned on metric `val_loss` which is not available. Available metrics are: loss,accuracy\n",
      "90465/90465 [==============================] - 178s 2ms/sample - loss: 7.0236e-06 - accuracy: 1.0000\n",
      "Epoch 2/10\n",
      "90464/90465 [============================>.] - ETA: 0s - loss: 7.0237e-06 - accuracy: 1.0000WARNING:tensorflow:Early stopping conditioned on metric `val_loss` which is not available. Available metrics are: loss,accuracy\n",
      "90465/90465 [==============================] - 181s 2ms/sample - loss: 7.0236e-06 - accuracy: 1.0000\n",
      "Epoch 3/10\n",
      "90464/90465 [============================>.] - ETA: 0s - loss: 7.0237e-06 - accuracy: 1.0000WARNING:tensorflow:Early stopping conditioned on metric `val_loss` which is not available. Available metrics are: loss,accuracy\n",
      "90465/90465 [==============================] - 181s 2ms/sample - loss: 7.0236e-06 - accuracy: 1.0000\n",
      "Epoch 4/10\n",
      "90464/90465 [============================>.] - ETA: 0s - loss: 7.0237e-06 - accuracy: 1.0000 ETA: 1sWARNING:tensorflow:Early stopping conditioned on metric `val_loss` which is not available. Available metrics are: loss,accuracy\n",
      "90465/90465 [==============================] - 181s 2ms/sample - loss: 7.0236e-06 - accuracy: 1.0000\n",
      "Epoch 5/10\n",
      "90464/90465 [============================>.] - ETA: 0s - loss: 7.0237e-06 - accuracy: 1.0000WARNING:tensorflow:Early stopping conditioned on metric `val_loss` which is not available. Available metrics are: loss,accuracy\n",
      "90465/90465 [==============================] - 181s 2ms/sample - loss: 7.0236e-06 - accuracy: 1.0000\n",
      "Epoch 6/10\n",
      "90432/90465 [============================>.] - ETA: 0s - loss: 7.0262e-06 - accuracy: 1.0000WARNING:tensorflow:Early stopping conditioned on metric `val_loss` which is not available. Available metrics are: loss,accuracy\n",
      "90465/90465 [==============================] - 179s 2ms/sample - loss: 7.0236e-06 - accuracy: 1.0000\n",
      "Epoch 7/10\n",
      "90432/90465 [============================>.] - ETA: 0s - loss: 7.0262e-06 - accuracy: 1.0000WARNING:tensorflow:Early stopping conditioned on metric `val_loss` which is not available. Available metrics are: loss,accuracy\n",
      "90465/90465 [==============================] - 134s 1ms/sample - loss: 7.0236e-06 - accuracy: 1.0000\n",
      "Epoch 8/10\n",
      "90464/90465 [============================>.] - ETA: 0s - loss: 7.0237e-06 - accuracy: 1.0000WARNING:tensorflow:Early stopping conditioned on metric `val_loss` which is not available. Available metrics are: loss,accuracy\n",
      "90465/90465 [==============================] - 132s 1ms/sample - loss: 7.0236e-06 - accuracy: 1.0000\n",
      "Epoch 9/10\n",
      "90464/90465 [============================>.] - ETA: 0s - loss: 7.0237e-06 - accuracy: 1.0000WARNING:tensorflow:Early stopping conditioned on metric `val_loss` which is not available. Available metrics are: loss,accuracy\n",
      "90465/90465 [==============================] - 132s 1ms/sample - loss: 7.0236e-06 - accuracy: 1.0000\n",
      "Epoch 10/10\n",
      "90464/90465 [============================>.] - ETA: 0s - loss: 7.0237e-06 - accuracy: 1.0000WARNING:tensorflow:Early stopping conditioned on metric `val_loss` which is not available. Available metrics are: loss,accuracy\n",
      "90465/90465 [==============================] - 154s 2ms/sample - loss: 7.0236e-06 - accuracy: 1.0000\n"
     ]
    },
    {
     "data": {
      "text/plain": [
       "<tensorflow.python.keras.callbacks.History at 0x29d913c4c88>"
      ]
     },
     "execution_count": 11,
     "metadata": {},
     "output_type": "execute_result"
    },
    {
     "name": "stdout",
     "output_type": "stream",
     "text": [
      "accuracy_score 1.0\n",
      "recall_score 1.0\n",
      "precision_score 1.0\n",
      "f1_score 1.0\n",
      "\n",
      "K-fold cross validation Accuracy: [0.999950258654994, 0.9999689116593713, 0.9999854921077066, 0.9999937823318743, 1.0, 1.0, 1.0, 1.0, 0.9999979272377542, 1.0]\n",
      "\n",
      "K-fold cross validation Recall: [0.998935684962749, 0.9995386744579425, 1.0, 0.9998485766202302, 1.0, 1.0, 1.0, 1.0, 1.0, 1.0]\n",
      "\n",
      "K-fold cross validation Precision: [0.9974191589494459, 0.9981572481572482, 0.9989050524010636, 0.9996971990915973, 1.0, 1.0, 1.0, 1.0, 0.9998497821841671, 1.0]\n",
      "\n",
      "K-fold cross validation F1-Score: [0.9981768459434822, 0.9988474836726854, 0.9994522263087878, 0.9997728821258233, 1.0, 1.0, 1.0, 1.0, 0.9999248854503118, 1.0]\n"
     ]
    }
   ],
   "source": [
    "# 교차검증 kfold\n",
    "from sklearn.model_selection import KFold\n",
    "\n",
    "# Accuracy, Precision, Recall, F1-Score\n",
    "from sklearn.metrics import accuracy_score, recall_score, precision_score, f1_score\n",
    "\n",
    "# Confusion Matrix, ROC Curve\n",
    "from sklearn.metrics import confusion_matrix, roc_auc_score\n",
    "\n",
    "# 최종 평가지표들 평균용\n",
    "accuracy, recall, precision, f1score, cm = [], [], [], [], []\n",
    "\n",
    "# 11. 교차검증 kfold - k.split - 10회 / K-Fold 객체 생성\n",
    "# kf = KFold(n_splits=10, shuffle=False, random_state=None) # KFold non shuffle 버전\n",
    "kf = KFold(n_splits=10, shuffle=True, random_state=None) # KFold non shuffle 버전\n",
    "\n",
    "for train, validation in kf.split(x_bc6_0, y_bc6_0):\n",
    "    model1 = models.Model(xInput, xOutput)\n",
    "    model1.compile(loss='binary_crossentropy', optimizer='rmsprop', metrics=['accuracy'])\n",
    "    model1.summary()\n",
    "    print('======Training stage======')\n",
    "    model1.fit(x_bc6_0[train],\n",
    "               y_bc6_0[train],\n",
    "               epochs = 10,\n",
    "               batch_size = 32,\n",
    "               callbacks=[early_stopping])\n",
    "    #k_accuracy = '%.4f' %(model1.evaluate(data_10000x[validation], data_10000y[validation])[1])\n",
    "\n",
    "# 12. 교차검증결과 predict - 검증셋들\n",
    "    # predict 값\n",
    "    k_pr = model1.predict(x_bc6_0[validation])\n",
    "    \n",
    "    # 테스트 predict 결과들 비교 (평가지표 보기위함)\n",
    "    pred = np.round(np.array(k_pr).flatten().tolist())\n",
    "    y_test = np.array(y_bc6_0[validation]).flatten().tolist()\n",
    "    \n",
    "# 13. 평가지표들 출력\n",
    "    ## 평가지표들\n",
    "    k_accuracy = float(accuracy_score(y_test, pred))\n",
    "    k_recall =  float(recall_score(y_test, pred))\n",
    "    k_precision = float(precision_score(y_test, pred))\n",
    "    k_f1_score = float(f1_score(y_test, pred))\n",
    "    #k_cm = float(confusion_matrix(y_test, pred))\n",
    "    \n",
    "    print('accuracy_score', k_accuracy)\n",
    "    print('recall_score', k_recall)\n",
    "    print('precision_score', k_precision)\n",
    "    print('f1_score', k_f1_score)\n",
    "    #print('\\nconfusion_matrix\\n', k_cm)\n",
    "\n",
    "    accuracy.append(k_accuracy)\n",
    "    recall.append(k_recall)\n",
    "    precision.append(k_precision)\n",
    "    f1score.append(k_f1_score)\n",
    "    #cm.append(k_cm)\n",
    "#    print('roc_curve 면적', roc_auc_score(y_test, pred))\n",
    "\n",
    "# 최종 결과지표\n",
    "print('\\nK-fold cross validation Accuracy: {}'.format(accuracy))\n",
    "print('\\nK-fold cross validation Recall: {}'.format(recall))\n",
    "print('\\nK-fold cross validation Precision: {}'.format(precision))\n",
    "print('\\nK-fold cross validation F1-Score: {}'.format(f1score))\n",
    "#print('\\nK-fold cross validation ConfusionMatrix: {}'.format(cm))"
   ]
  },
  {
   "cell_type": "markdown",
   "metadata": {},
   "source": [
    "## (9) 평가지표"
   ]
  },
  {
   "cell_type": "code",
   "execution_count": 12,
   "metadata": {},
   "outputs": [
    {
     "name": "stdout",
     "output_type": "stream",
     "text": [
      "10-Fold Cross_validation. Accuracy : 0.9999896371991701\n",
      "10-Fold Cross_validation. Recall : 0.9998322936040921\n",
      "10-Fold Cross_validation. Precision : 0.9994028440783522\n",
      "10-Fold Cross_validation. F1-Score : 0.999617432350109\n"
     ]
    }
   ],
   "source": [
    "print('10-Fold Cross_validation. Accuracy :', np.mean(accuracy))\n",
    "print('10-Fold Cross_validation. Recall :', np.mean(recall))\n",
    "print('10-Fold Cross_validation. Precision :', np.mean(precision))\n",
    "print('10-Fold Cross_validation. F1-Score :', np.mean(f1score))"
   ]
  },
  {
   "cell_type": "code",
   "execution_count": 13,
   "metadata": {},
   "outputs": [
    {
     "name": "stdout",
     "output_type": "stream",
     "text": [
      "save 완료\n"
     ]
    }
   ],
   "source": [
    "model1.save('gcc6_bin_core_s48_h72_o0.h5')\n",
    "print('save 완료')"
   ]
  }
 ],
 "metadata": {
  "kernelspec": {
   "display_name": "Python 3",
   "language": "python",
   "name": "python3"
  },
  "language_info": {
   "codemirror_mode": {
    "name": "ipython",
    "version": 3
   },
   "file_extension": ".py",
   "mimetype": "text/x-python",
   "name": "python",
   "nbconvert_exporter": "python",
   "pygments_lexer": "ipython3",
   "version": "3.7.9"
  }
 },
 "nbformat": 4,
 "nbformat_minor": 4
}
