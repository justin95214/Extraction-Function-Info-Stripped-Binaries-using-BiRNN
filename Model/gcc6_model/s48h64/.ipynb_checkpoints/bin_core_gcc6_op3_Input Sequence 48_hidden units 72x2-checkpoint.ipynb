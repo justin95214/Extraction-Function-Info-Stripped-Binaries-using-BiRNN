{
 "cells": [
  {
   "cell_type": "markdown",
   "metadata": {},
   "source": [
    "## RNN 모델 N-Byte 방식 (함수정보 포함 vs 미포함 => 1:1 비율)\n",
    "\n",
    "## (1) 데이터로드"
   ]
  },
  {
   "cell_type": "code",
   "execution_count": 1,
   "metadata": {},
   "outputs": [
    {
     "name": "stdout",
     "output_type": "stream",
     "text": [
      "(33250757, 2)\n",
      "shape - (33250757, 2)\n",
      "reset_index 완료\n",
      "input data shape\n"
     ]
    },
    {
     "data": {
      "text/html": [
       "<div>\n",
       "<style scoped>\n",
       "    .dataframe tbody tr th:only-of-type {\n",
       "        vertical-align: middle;\n",
       "    }\n",
       "\n",
       "    .dataframe tbody tr th {\n",
       "        vertical-align: top;\n",
       "    }\n",
       "\n",
       "    .dataframe thead th {\n",
       "        text-align: right;\n",
       "    }\n",
       "</style>\n",
       "<table border=\"1\" class=\"dataframe\">\n",
       "  <thead>\n",
       "    <tr style=\"text-align: right;\">\n",
       "      <th></th>\n",
       "      <th>bin</th>\n",
       "      <th>label</th>\n",
       "    </tr>\n",
       "  </thead>\n",
       "  <tbody>\n",
       "    <tr>\n",
       "      <th>0</th>\n",
       "      <td>47</td>\n",
       "      <td>0</td>\n",
       "    </tr>\n",
       "    <tr>\n",
       "      <th>1</th>\n",
       "      <td>108</td>\n",
       "      <td>0</td>\n",
       "    </tr>\n",
       "    <tr>\n",
       "      <th>2</th>\n",
       "      <td>105</td>\n",
       "      <td>0</td>\n",
       "    </tr>\n",
       "    <tr>\n",
       "      <th>3</th>\n",
       "      <td>98</td>\n",
       "      <td>0</td>\n",
       "    </tr>\n",
       "    <tr>\n",
       "      <th>4</th>\n",
       "      <td>47</td>\n",
       "      <td>0</td>\n",
       "    </tr>\n",
       "  </tbody>\n",
       "</table>\n",
       "</div>"
      ],
      "text/plain": [
       "   bin  label\n",
       "0   47      0\n",
       "1  108      0\n",
       "2  105      0\n",
       "3   98      0\n",
       "4   47      0"
      ]
     },
     "execution_count": 1,
     "metadata": {},
     "output_type": "execute_result"
    }
   ],
   "source": [
    "# (1) 데이터로드\n",
    "import pandas as pd\n",
    "import numpy as np\n",
    "\n",
    "import warnings\n",
    "warnings.filterwarnings(action='ignore')\n",
    "\n",
    "# 여러개 쳐도 나오게\n",
    "from IPython.core.interactiveshell import InteractiveShell\n",
    "InteractiveShell.ast_node_interactivity = \"all\"\n",
    "\n",
    "# 파일읽기\n",
    "bin6_3 = pd.read_csv(\"../../바이너리_최종데이터_1004/gcc6/o3/o3_bincore6.csv\", index_col=0)\n",
    "print(bin6_3.shape)\n",
    "\n",
    "# reset_index (hex processing 하면서 값이 빠졌으니까 + n_gram 에서 index를 다루기 때문에)\n",
    "bin6_3.reset_index(inplace=True, drop=True)\n",
    "\n",
    "print('shape -', bin6_3.shape)\n",
    "print('reset_index 완료')\n",
    "print('input data shape')\n",
    "bin6_3.head()"
   ]
  },
  {
   "cell_type": "code",
   "execution_count": 2,
   "metadata": {},
   "outputs": [
    {
     "name": "stdout",
     "output_type": "stream",
     "text": [
      "256\n",
      "0    33215560\n",
      "1       35197\n",
      "Name: label, dtype: int64\n"
     ]
    }
   ],
   "source": [
    "# (2-1) 데이터체크 1 - hex(16진수)가 256 label을 가져야 dummies 변환 가능 \n",
    "# 16진수 256개 종류가 있어서 pd.get_dummies 사용 가능.\n",
    "print(len(bin6_3['bin'].unique()))\n",
    "\n",
    "# (2-2) 데이터 체크 2 - 1, 0 비율 ==> 1이 함수의 갯수를 뜻함\n",
    "# 정답 데이터 1, 0 비율 확인  ==> 1이 함수의 갯수를 뜻함\n",
    "print(bin6_3['label'].value_counts())"
   ]
  },
  {
   "cell_type": "markdown",
   "metadata": {},
   "source": [
    "## (3) N Byte씩 자르기"
   ]
  },
  {
   "cell_type": "code",
   "execution_count": 3,
   "metadata": {},
   "outputs": [
    {
     "name": "stdout",
     "output_type": "stream",
     "text": [
      "1689456\n",
      "나머지 0\n",
      "최종 길이 1689456\n",
      "bin6_3 1689456\n"
     ]
    }
   ],
   "source": [
    "idx_bin = bin6_3[bin6_3['label']==1].index  # 407, 474 ...\n",
    "ls_bin = list(idx_bin)\n",
    "\n",
    "# 최종 뽑을 행에 대한 index\n",
    "ls_idx_bin = []\n",
    "\n",
    "# n byte 자르기 방식\n",
    "left_idx, right_idx = 0, 48 # 3개씩\n",
    "\n",
    "# n byte 자르기\n",
    "for k in range(left_idx, right_idx):\n",
    "    ls_idx_bin.extend(list(idx_bin + k)) # index 형이라서 가능\n",
    "\n",
    "#ls_idx = list(set(ls_idx)) \n",
    "ls_idx_bin.sort() # 인덱스 정렬\n",
    "\n",
    "# 1차 index 해당범위 초과한 것들 없애기\n",
    "ls_idx_bin = list(filter(lambda x: x<len(bin6_3), ls_idx_bin))\n",
    "print(len(ls_idx_bin))\n",
    "\n",
    "# 2차 남은 index들 중 right_idx 나눈 나머지 없애기\n",
    "sub_bin = len(ls_idx_bin)%(right_idx)\n",
    "print('나머지', sub_bin)\n",
    "\n",
    "ls_idx_bin = ls_idx_bin[:len(ls_idx_bin)-sub_bin]\n",
    "print('최종 길이', len(ls_idx_bin))\n",
    "\n",
    "print('bin6_3', len(ls_idx_bin))\n",
    "\n",
    "# loc 로 수정필요\n",
    "bin6_3_Ngram = bin6_3.loc[ls_idx_bin,:].copy()"
   ]
  },
  {
   "cell_type": "markdown",
   "metadata": {},
   "source": [
    "## (4) false data 만들기"
   ]
  },
  {
   "cell_type": "code",
   "execution_count": 4,
   "metadata": {},
   "outputs": [
    {
     "name": "stdout",
     "output_type": "stream",
     "text": [
      "35197.0\n",
      "0 4207975\n",
      "1000 30119337\n",
      "2000 2553101\n",
      "3000 11440055\n",
      "4000 18368044\n",
      "5000 13651356\n",
      "6000 20069418\n",
      "7000 7581010\n",
      "8000 2417800\n",
      "9000 13539467\n",
      "10000 30153662\n",
      "11000 6799709\n",
      "12000 32146518\n",
      "13000 22303725\n",
      "14000 28044061\n",
      "15000 30712170\n",
      "16000 11277561\n",
      "17000 5803796\n",
      "18000 7415743\n",
      "19000 7451503\n",
      "20000 25539277\n",
      "21000 2421688\n",
      "22000 31284350\n",
      "23000 357298\n",
      "24000 17438250\n",
      "25000 20254575\n",
      "26000 16603594\n",
      "27000 24949516\n",
      "28000 25250190\n",
      "29000 12002801\n",
      "30000 12498259\n",
      "31000 1954220\n",
      "32000 5528192\n",
      "33000 31894292\n",
      "34000 29744326\n",
      "35000 21572399\n",
      "완료\n",
      "35197\n"
     ]
    }
   ],
   "source": [
    "# false data 만들기 - False 데이터 랜덤 생성\n",
    "\n",
    "# 목표치\n",
    "goal_bin = len(bin6_3_Ngram)/right_idx\n",
    "count_bin = 0\n",
    "\n",
    "print(goal_bin)\n",
    "\n",
    "# 최종 데이터 Frame\n",
    "d_bin = pd.DataFrame(columns = bin6_3.columns)\n",
    "\n",
    "binutils_df = []\n",
    "# goal 에 도달할 때까지\n",
    "while True:\n",
    "    if (count_bin == goal_bin):\n",
    "            break\n",
    "    # 진행상황 살펴보기 위함\n",
    "            \n",
    "    # 랜덤 N 바이트씩 뽑음\n",
    "    # random index\n",
    "    random_idx_bin = np.random.randint(len(bin6_3)-right_idx)\n",
    "\n",
    "    if count_bin % 1000==0:\n",
    "        print(count_bin, end=' ')\n",
    "        print(random_idx_bin)\n",
    "\n",
    "    df_bin = bin6_3[random_idx_bin : random_idx_bin + right_idx]\n",
    "    \n",
    "    # 뽑은 index의 N 바이트 중에 1이 없는 경우만\n",
    "    if 1 not in df_bin['label'] and count_bin < goal_bin:\n",
    "        binutils_df.append(df_bin)\n",
    "        count_bin+=1\n",
    "\n",
    "print('완료')\n",
    "print(len(binutils_df))"
   ]
  },
  {
   "cell_type": "code",
   "execution_count": 5,
   "metadata": {},
   "outputs": [
    {
     "name": "stdout",
     "output_type": "stream",
     "text": [
      "35197\n",
      "35197\n"
     ]
    }
   ],
   "source": [
    "# True data와 False Data 같은지 체크\n",
    "print(len(binutils_df))\n",
    "print(bin6_3['label'].value_counts()[1])"
   ]
  },
  {
   "cell_type": "markdown",
   "metadata": {},
   "source": [
    "## (5) False Data + True Data 합치기"
   ]
  },
  {
   "cell_type": "code",
   "execution_count": 6,
   "metadata": {},
   "outputs": [
    {
     "data": {
      "text/plain": [
       "(3378912, 2)"
      ]
     },
     "execution_count": 6,
     "metadata": {},
     "output_type": "execute_result"
    }
   ],
   "source": [
    "f_data = pd.concat(binutils_df)\n",
    "final = pd.concat([f_data, bin6_3_Ngram])\n",
    "final.shape"
   ]
  },
  {
   "cell_type": "markdown",
   "metadata": {},
   "source": [
    "## (6) one hot encoding"
   ]
  },
  {
   "cell_type": "code",
   "execution_count": 7,
   "metadata": {},
   "outputs": [
    {
     "name": "stdout",
     "output_type": "stream",
     "text": [
      "원핫인코딩완료\n",
      "(3378912, 257)\n"
     ]
    }
   ],
   "source": [
    "# 훈련데이터 (gcc 최적화버전 0, 1, 2, 3 one hot encoding)\n",
    "bc6_3_onehot_Ngram = pd.get_dummies(final['bin'])\n",
    "bc6_3_onehot_Ngram = pd.concat([final['label'], bc6_3_onehot_Ngram], axis=1)\n",
    "\n",
    "print('원핫인코딩완료')\n",
    "print(bc6_3_onehot_Ngram.shape)"
   ]
  },
  {
   "cell_type": "code",
   "execution_count": 8,
   "metadata": {},
   "outputs": [
    {
     "name": "stdout",
     "output_type": "stream",
     "text": [
      "(3378912, 256) (3378912, 256)\n",
      "(70394, 48, 256) (70394, 48, 1)\n"
     ]
    }
   ],
   "source": [
    "# 훈련 데이터, 훈련 라벨\n",
    "x_bc6_3 = bc6_3_onehot_Ngram.iloc[:,1:].to_numpy()\n",
    "y_bc6_3 = bc6_3_onehot_Ngram['label'].to_numpy()\n",
    "print(x_bc6_3.shape, x_bc6_3.shape)\n",
    "\n",
    "x_bc6_3 = x_bc6_3.reshape(-1, right_idx, x_bc6_3.shape[1])\n",
    "y_bc6_3 = y_bc6_3.reshape(-1, right_idx, 1)\n",
    "\n",
    "print(x_bc6_3.shape, y_bc6_3.shape)"
   ]
  },
  {
   "cell_type": "code",
   "execution_count": 9,
   "metadata": {},
   "outputs": [
    {
     "name": "stdout",
     "output_type": "stream",
     "text": [
      "(70394, 48, 256) (70394, 48, 1)\n"
     ]
    }
   ],
   "source": [
    "# numpy 행, 열 섞기\n",
    "p = np.random.permutation(x_bc6_3.shape[0])\n",
    "\n",
    "x_bc6_3 = x_bc6_3[p]\n",
    "y_bc6_3 = y_bc6_3[p]\n",
    "\n",
    "print(x_bc6_3.shape, y_bc6_3.shape)"
   ]
  },
  {
   "cell_type": "markdown",
   "metadata": {},
   "source": [
    "## (7) 모델"
   ]
  },
  {
   "cell_type": "code",
   "execution_count": 10,
   "metadata": {},
   "outputs": [],
   "source": [
    "# (10) 양방향 LSTM 모델링 작업\n",
    "from tensorflow.keras import layers, models\n",
    "#from tf.keras.models import Model, Sequential\n",
    "#from tf.keras.layers import SimpleRNN, Input, Dense, LSTM\n",
    "#from tf.keras.layers import Bidirectional, TimeDistributed\n",
    "\n",
    "# 학습\n",
    "from tensorflow.keras.callbacks import EarlyStopping\n",
    "early_stopping = EarlyStopping(patience = 3) # 조기종료 콜백함수 정의\n",
    "\n",
    "xInput = layers.Input(batch_shape=(None,right_idx, 256)) \n",
    "xBiLstm = layers.Bidirectional(layers.LSTM(72, return_sequences=True, stateful=False), merge_mode = 'concat')(xInput)\n",
    "xOutput = layers.TimeDistributed(layers.Dense(1, activation ='sigmoid'))(xBiLstm) # 각 스텝에서 cost가 전송되고, 오류가 다음 step으로 전송됨."
   ]
  },
  {
   "cell_type": "markdown",
   "metadata": {},
   "source": [
    "## (8) 학습 - 10 KFold"
   ]
  },
  {
   "cell_type": "code",
   "execution_count": 11,
   "metadata": {
    "scrolled": false
   },
   "outputs": [
    {
     "name": "stdout",
     "output_type": "stream",
     "text": [
      "Model: \"model\"\n",
      "_________________________________________________________________\n",
      "Layer (type)                 Output Shape              Param #   \n",
      "=================================================================\n",
      "input_1 (InputLayer)         [(None, 48, 256)]         0         \n",
      "_________________________________________________________________\n",
      "bidirectional (Bidirectional (None, 48, 144)           189504    \n",
      "_________________________________________________________________\n",
      "time_distributed (TimeDistri (None, 48, 1)             145       \n",
      "=================================================================\n",
      "Total params: 189,649\n",
      "Trainable params: 189,649\n",
      "Non-trainable params: 0\n",
      "_________________________________________________________________\n",
      "======Training stage======\n",
      "Train on 63354 samples\n",
      "Epoch 1/10\n",
      "63328/63354 [============================>.] - ETA: 0s - loss: 0.0090 - accuracy: 0.9975WARNING:tensorflow:Early stopping conditioned on metric `val_loss` which is not available. Available metrics are: loss,accuracy\n",
      "63354/63354 [==============================] - 210s 3ms/sample - loss: 0.0090 - accuracy: 0.9975\n",
      "Epoch 2/10\n",
      "63328/63354 [============================>.] - ETA: 0s - loss: 0.0011 - accuracy: 0.9997WARNING:tensorflow:Early stopping conditioned on metric `val_loss` which is not available. Available metrics are: loss,accuracy\n",
      "63354/63354 [==============================] - 228s 4ms/sample - loss: 0.0011 - accuracy: 0.9997\n",
      "Epoch 3/10\n",
      "63328/63354 [============================>.] - ETA: 0s - loss: 7.0005e-04 - accuracy: 0.9998WARNING:tensorflow:Early stopping conditioned on metric `val_loss` which is not available. Available metrics are: loss,accuracy\n",
      "63354/63354 [==============================] - 228s 4ms/sample - loss: 7.0021e-04 - accuracy: 0.9998\n",
      "Epoch 4/10\n",
      "63328/63354 [============================>.] - ETA: 0s - loss: 5.2650e-04 - accuracy: 0.9999WARNING:tensorflow:Early stopping conditioned on metric `val_loss` which is not available. Available metrics are: loss,accuracy\n",
      "63354/63354 [==============================] - 227s 4ms/sample - loss: 5.2629e-04 - accuracy: 0.9999\n",
      "Epoch 5/10\n",
      "63328/63354 [============================>.] - ETA: 0s - loss: 4.3820e-04 - accuracy: 0.9999WARNING:tensorflow:Early stopping conditioned on metric `val_loss` which is not available. Available metrics are: loss,accuracy\n",
      "63354/63354 [==============================] - 220s 3ms/sample - loss: 4.3802e-04 - accuracy: 0.9999\n",
      "Epoch 6/10\n",
      "63328/63354 [============================>.] - ETA: 0s - loss: 3.5186e-04 - accuracy: 0.9999WARNING:tensorflow:Early stopping conditioned on metric `val_loss` which is not available. Available metrics are: loss,accuracy\n",
      "63354/63354 [==============================] - 227s 4ms/sample - loss: 3.5172e-04 - accuracy: 0.9999\n",
      "Epoch 7/10\n",
      "63328/63354 [============================>.] - ETA: 0s - loss: 2.8604e-04 - accuracy: 0.9999WARNING:tensorflow:Early stopping conditioned on metric `val_loss` which is not available. Available metrics are: loss,accuracy\n",
      "63354/63354 [==============================] - 231s 4ms/sample - loss: 2.8594e-04 - accuracy: 0.9999\n",
      "Epoch 8/10\n",
      "63328/63354 [============================>.] - ETA: 0s - loss: 2.4035e-04 - accuracy: 0.9999WARNING:tensorflow:Early stopping conditioned on metric `val_loss` which is not available. Available metrics are: loss,accuracy\n",
      "63354/63354 [==============================] - 245s 4ms/sample - loss: 2.4026e-04 - accuracy: 0.9999\n",
      "Epoch 9/10\n",
      "63328/63354 [============================>.] - ETA: 0s - loss: 2.1063e-04 - accuracy: 0.9999WARNING:tensorflow:Early stopping conditioned on metric `val_loss` which is not available. Available metrics are: loss,accuracy\n",
      "63354/63354 [==============================] - 246s 4ms/sample - loss: 2.1055e-04 - accuracy: 0.9999\n",
      "Epoch 10/10\n",
      "63328/63354 [============================>.] - ETA: 0s - loss: 1.7772e-04 - accuracy: 1.0000WARNING:tensorflow:Early stopping conditioned on metric `val_loss` which is not available. Available metrics are: loss,accuracy\n",
      "63354/63354 [==============================] - 229s 4ms/sample - loss: 1.7765e-04 - accuracy: 1.0000\n"
     ]
    },
    {
     "data": {
      "text/plain": [
       "<tensorflow.python.keras.callbacks.History at 0x1be16c188c8>"
      ]
     },
     "execution_count": 11,
     "metadata": {},
     "output_type": "execute_result"
    },
    {
     "name": "stdout",
     "output_type": "stream",
     "text": [
      "accuracy_score 0.999908262310606\n",
      "recall_score 0.9948550046772685\n",
      "precision_score 0.9978888106966924\n",
      "f1_score 0.9963695983136199\n",
      "Model: \"model_1\"\n",
      "_________________________________________________________________\n",
      "Layer (type)                 Output Shape              Param #   \n",
      "=================================================================\n",
      "input_1 (InputLayer)         [(None, 48, 256)]         0         \n",
      "_________________________________________________________________\n",
      "bidirectional (Bidirectional (None, 48, 144)           189504    \n",
      "_________________________________________________________________\n",
      "time_distributed (TimeDistri (None, 48, 1)             145       \n",
      "=================================================================\n",
      "Total params: 189,649\n",
      "Trainable params: 189,649\n",
      "Non-trainable params: 0\n",
      "_________________________________________________________________\n",
      "======Training stage======\n",
      "Train on 63354 samples\n",
      "Epoch 1/10\n",
      "63328/63354 [============================>.] - ETA: 0s - loss: 1.9204e-04 - accuracy: 0.9999 ETA: 0s - loss: 1.9264e-04 - acWARNING:tensorflow:Early stopping conditioned on metric `val_loss` which is not available. Available metrics are: loss,accuracy\n",
      "63354/63354 [==============================] - 222s 4ms/sample - loss: 1.9197e-04 - accuracy: 0.9999\n",
      "Epoch 2/10\n",
      "63328/63354 [============================>.] - ETA: 0s - loss: 1.5573e-04 - accuracy: 1.0000WARNING:tensorflow:Early stopping conditioned on metric `val_loss` which is not available. Available metrics are: loss,accuracy\n",
      "63354/63354 [==============================] - 218s 3ms/sample - loss: 1.5567e-04 - accuracy: 1.0000\n",
      "Epoch 3/10\n",
      "63328/63354 [============================>.] - ETA: 0s - loss: 1.2791e-04 - accuracy: 1.0000WARNING:tensorflow:Early stopping conditioned on metric `val_loss` which is not available. Available metrics are: loss,accuracy\n",
      "63354/63354 [==============================] - 167s 3ms/sample - loss: 1.2817e-04 - accuracy: 1.0000\n",
      "Epoch 4/10\n",
      "63328/63354 [============================>.] - ETA: 0s - loss: 1.1695e-04 - accuracy: 1.0000WARNING:tensorflow:Early stopping conditioned on metric `val_loss` which is not available. Available metrics are: loss,accuracy\n",
      "63354/63354 [==============================] - 145s 2ms/sample - loss: 1.1702e-04 - accuracy: 1.0000\n",
      "Epoch 5/10\n",
      "63328/63354 [============================>.] - ETA: 0s - loss: 1.0611e-04 - accuracy: 1.0000WARNING:tensorflow:Early stopping conditioned on metric `val_loss` which is not available. Available metrics are: loss,accuracy\n",
      "63354/63354 [==============================] - 143s 2ms/sample - loss: 1.0607e-04 - accuracy: 1.0000\n",
      "Epoch 6/10\n",
      "63328/63354 [============================>.] - ETA: 0s - loss: 9.6860e-05 - accuracy: 1.0000WARNING:tensorflow:Early stopping conditioned on metric `val_loss` which is not available. Available metrics are: loss,accuracy\n",
      "63354/63354 [==============================] - 148s 2ms/sample - loss: 9.6823e-05 - accuracy: 1.0000\n",
      "Epoch 7/10\n",
      "63328/63354 [============================>.] - ETA: 0s - loss: 8.6033e-05 - accuracy: 1.0000WARNING:tensorflow:Early stopping conditioned on metric `val_loss` which is not available. Available metrics are: loss,accuracy\n",
      "63354/63354 [==============================] - 152s 2ms/sample - loss: 8.5998e-05 - accuracy: 1.0000\n",
      "Epoch 8/10\n",
      "63328/63354 [============================>.] - ETA: 0s - loss: 7.2718e-05 - accuracy: 1.0000WARNING:tensorflow:Early stopping conditioned on metric `val_loss` which is not available. Available metrics are: loss,accuracy\n",
      "63354/63354 [==============================] - 163s 3ms/sample - loss: 7.2688e-05 - accuracy: 1.0000\n",
      "Epoch 9/10\n",
      "63328/63354 [============================>.] - ETA: 0s - loss: 7.0374e-05 - accuracy: 1.0000WARNING:tensorflow:Early stopping conditioned on metric `val_loss` which is not available. Available metrics are: loss,accuracy\n",
      "63354/63354 [==============================] - 151s 2ms/sample - loss: 7.0347e-05 - accuracy: 1.0000\n",
      "Epoch 10/10\n",
      "63328/63354 [============================>.] - ETA: 0s - loss: 6.2974e-05 - accuracy: 1.0000WARNING:tensorflow:Early stopping conditioned on metric `val_loss` which is not available. Available metrics are: loss,accuracy\n",
      "63354/63354 [==============================] - 214s 3ms/sample - loss: 6.2951e-05 - accuracy: 1.0000\n"
     ]
    },
    {
     "data": {
      "text/plain": [
       "<tensorflow.python.keras.callbacks.History at 0x1be20ea3548>"
      ]
     },
     "execution_count": 11,
     "metadata": {},
     "output_type": "execute_result"
    },
    {
     "name": "stdout",
     "output_type": "stream",
     "text": [
      "accuracy_score 0.9999230587121212\n",
      "recall_score 0.9990643274853801\n",
      "precision_score 0.9948753785231773\n",
      "f1_score 0.9969654528478057\n",
      "Model: \"model_2\"\n",
      "_________________________________________________________________\n",
      "Layer (type)                 Output Shape              Param #   \n",
      "=================================================================\n",
      "input_1 (InputLayer)         [(None, 48, 256)]         0         \n",
      "_________________________________________________________________\n",
      "bidirectional (Bidirectional (None, 48, 144)           189504    \n",
      "_________________________________________________________________\n",
      "time_distributed (TimeDistri (None, 48, 1)             145       \n",
      "=================================================================\n",
      "Total params: 189,649\n",
      "Trainable params: 189,649\n",
      "Non-trainable params: 0\n",
      "_________________________________________________________________\n",
      "======Training stage======\n",
      "Train on 63354 samples\n",
      "Epoch 1/10\n",
      "63328/63354 [============================>.] - ETA: 0s - loss: 7.3114e-05 - accuracy: 1.0000WARNING:tensorflow:Early stopping conditioned on metric `val_loss` which is not available. Available metrics are: loss,accuracy\n",
      "63354/63354 [==============================] - 277s 4ms/sample - loss: 7.3095e-05 - accuracy: 1.0000\n",
      "Epoch 2/10\n",
      "63328/63354 [============================>.] - ETA: 0s - loss: 7.1235e-05 - accuracy: 1.0000WARNING:tensorflow:Early stopping conditioned on metric `val_loss` which is not available. Available metrics are: loss,accuracy\n",
      "63354/63354 [==============================] - 187s 3ms/sample - loss: 7.1206e-05 - accuracy: 1.0000\n",
      "Epoch 3/10\n",
      "63328/63354 [============================>.] - ETA: 0s - loss: 4.3053e-05 - accuracy: 1.0000WARNING:tensorflow:Early stopping conditioned on metric `val_loss` which is not available. Available metrics are: loss,accuracy\n",
      "63354/63354 [==============================] - 211s 3ms/sample - loss: 4.3036e-05 - accuracy: 1.0000\n",
      "Epoch 4/10\n",
      "63328/63354 [============================>.] - ETA: 0s - loss: 4.9888e-05 - accuracy: 1.0000WARNING:tensorflow:Early stopping conditioned on metric `val_loss` which is not available. Available metrics are: loss,accuracy\n",
      "63354/63354 [==============================] - 221s 3ms/sample - loss: 4.9868e-05 - accuracy: 1.0000\n",
      "Epoch 5/10\n",
      "63328/63354 [============================>.] - ETA: 0s - loss: 3.5198e-05 - accuracy: 1.0000WARNING:tensorflow:Early stopping conditioned on metric `val_loss` which is not available. Available metrics are: loss,accuracy\n",
      "63354/63354 [==============================] - 223s 4ms/sample - loss: 3.5185e-05 - accuracy: 1.0000\n",
      "Epoch 6/10\n",
      "63328/63354 [============================>.] - ETA: 0s - loss: 5.1409e-05 - accuracy: 1.0000WARNING:tensorflow:Early stopping conditioned on metric `val_loss` which is not available. Available metrics are: loss,accuracy\n",
      "63354/63354 [==============================] - 224s 4ms/sample - loss: 5.1388e-05 - accuracy: 1.0000\n",
      "Epoch 7/10\n",
      "63328/63354 [============================>.] - ETA: 0s - loss: 2.7000e-05 - accuracy: 1.0000WARNING:tensorflow:Early stopping conditioned on metric `val_loss` which is not available. Available metrics are: loss,accuracy\n",
      "63354/63354 [==============================] - 216s 3ms/sample - loss: 2.6989e-05 - accuracy: 1.0000\n",
      "Epoch 8/10\n",
      "63328/63354 [============================>.] - ETA: 0s - loss: 3.0203e-05 - accuracy: 1.0000WARNING:tensorflow:Early stopping conditioned on metric `val_loss` which is not available. Available metrics are: loss,accuracy\n",
      "63354/63354 [==============================] - 239s 4ms/sample - loss: 3.0192e-05 - accuracy: 1.0000\n",
      "Epoch 9/10\n",
      "63328/63354 [============================>.] - ETA: 0s - loss: 2.2006e-05 - accuracy: 1.0000WARNING:tensorflow:Early stopping conditioned on metric `val_loss` which is not available. Available metrics are: loss,accuracy\n",
      "63354/63354 [==============================] - 225s 4ms/sample - loss: 2.1997e-05 - accuracy: 1.0000\n",
      "Epoch 10/10\n",
      "63328/63354 [============================>.] - ETA: 0s - loss: 3.7032e-05 - accuracy: 1.0000WARNING:tensorflow:Early stopping conditioned on metric `val_loss` which is not available. Available metrics are: loss,accuracy\n",
      "63354/63354 [==============================] - 222s 4ms/sample - loss: 3.7016e-05 - accuracy: 1.0000\n"
     ]
    },
    {
     "data": {
      "text/plain": [
       "<tensorflow.python.keras.callbacks.History at 0x1be2968c848>"
      ]
     },
     "execution_count": 11,
     "metadata": {},
     "output_type": "execute_result"
    },
    {
     "name": "stdout",
     "output_type": "stream",
     "text": [
      "accuracy_score 0.9999792850378788\n",
      "recall_score 0.998837479655894\n",
      "precision_score 0.9995346672871103\n",
      "f1_score 0.9991859518548668\n",
      "Model: \"model_3\"\n",
      "_________________________________________________________________\n",
      "Layer (type)                 Output Shape              Param #   \n",
      "=================================================================\n",
      "input_1 (InputLayer)         [(None, 48, 256)]         0         \n",
      "_________________________________________________________________\n",
      "bidirectional (Bidirectional (None, 48, 144)           189504    \n",
      "_________________________________________________________________\n",
      "time_distributed (TimeDistri (None, 48, 1)             145       \n",
      "=================================================================\n",
      "Total params: 189,649\n",
      "Trainable params: 189,649\n",
      "Non-trainable params: 0\n",
      "_________________________________________________________________\n",
      "======Training stage======\n",
      "Train on 63354 samples\n",
      "Epoch 1/10\n",
      "63328/63354 [============================>.] - ETA: 0s - loss: 4.0750e-05 - accuracy: 1.0000WARNING:tensorflow:Early stopping conditioned on metric `val_loss` which is not available. Available metrics are: loss,accuracy\n",
      "63354/63354 [==============================] - 224s 4ms/sample - loss: 4.0733e-05 - accuracy: 1.0000\n",
      "Epoch 2/10\n",
      "63328/63354 [============================>.] - ETA: 0s - loss: 3.7392e-05 - accuracy: 1.0000WARNING:tensorflow:Early stopping conditioned on metric `val_loss` which is not available. Available metrics are: loss,accuracy\n",
      "63354/63354 [==============================] - 137s 2ms/sample - loss: 3.7377e-05 - accuracy: 1.0000\n",
      "Epoch 3/10\n",
      "63328/63354 [============================>.] - ETA: 0s - loss: 3.1882e-05 - accuracy: 1.0000WARNING:tensorflow:Early stopping conditioned on metric `val_loss` which is not available. Available metrics are: loss,accuracy\n",
      "63354/63354 [==============================] - 196s 3ms/sample - loss: 3.1869e-05 - accuracy: 1.0000\n",
      "Epoch 4/10\n",
      "63328/63354 [============================>.] - ETA: 0s - loss: 3.2770e-05 - accuracy: 1.0000WARNING:tensorflow:Early stopping conditioned on metric `val_loss` which is not available. Available metrics are: loss,accuracy\n",
      "63354/63354 [==============================] - 150s 2ms/sample - loss: 3.2756e-05 - accuracy: 1.0000\n",
      "Epoch 5/10\n",
      "63328/63354 [============================>.] - ETA: 0s - loss: 3.0007e-05 - accuracy: 1.0000WARNING:tensorflow:Early stopping conditioned on metric `val_loss` which is not available. Available metrics are: loss,accuracy\n",
      "63354/63354 [==============================] - 152s 2ms/sample - loss: 2.9995e-05 - accuracy: 1.0000\n",
      "Epoch 6/10\n",
      "63328/63354 [============================>.] - ETA: 0s - loss: 2.1922e-05 - accuracy: 1.0000WARNING:tensorflow:Early stopping conditioned on metric `val_loss` which is not available. Available metrics are: loss,accuracy\n",
      "63354/63354 [==============================] - 151s 2ms/sample - loss: 2.1913e-05 - accuracy: 1.0000\n",
      "Epoch 7/10\n",
      "63328/63354 [============================>.] - ETA: 0s - loss: 1.7827e-05 - accuracy: 1.0000WARNING:tensorflow:Early stopping conditioned on metric `val_loss` which is not available. Available metrics are: loss,accuracy\n",
      "63354/63354 [==============================] - 148s 2ms/sample - loss: 1.7820e-05 - accuracy: 1.0000\n",
      "Epoch 8/10\n",
      "63328/63354 [============================>.] - ETA: 0s - loss: 2.5485e-05 - accuracy: 1.0000WARNING:tensorflow:Early stopping conditioned on metric `val_loss` which is not available. Available metrics are: loss,accuracy\n",
      "63354/63354 [==============================] - 147s 2ms/sample - loss: 2.5475e-05 - accuracy: 1.0000\n",
      "Epoch 9/10\n",
      "63328/63354 [============================>.] - ETA: 0s - loss: 1.8134e-05 - accuracy: 1.0000WARNING:tensorflow:Early stopping conditioned on metric `val_loss` which is not available. Available metrics are: loss,accuracy\n",
      "63354/63354 [==============================] - 138s 2ms/sample - loss: 1.8127e-05 - accuracy: 1.0000\n",
      "Epoch 10/10\n",
      "63328/63354 [============================>.] - ETA: 0s - loss: 1.6743e-05 - accuracy: 1.0000WARNING:tensorflow:Early stopping conditioned on metric `val_loss` which is not available. Available metrics are: loss,accuracy\n",
      "63354/63354 [==============================] - 146s 2ms/sample - loss: 1.6736e-05 - accuracy: 1.0000\n"
     ]
    },
    {
     "data": {
      "text/plain": [
       "<tensorflow.python.keras.callbacks.History at 0x1be287b1e88>"
      ]
     },
     "execution_count": 11,
     "metadata": {},
     "output_type": "execute_result"
    },
    {
     "name": "stdout",
     "output_type": "stream",
     "text": [
      "accuracy_score 0.9999733664772728\n",
      "recall_score 0.9997644287396937\n",
      "precision_score 0.9981185324553151\n",
      "f1_score 0.9989408026362245\n",
      "Model: \"model_4\"\n",
      "_________________________________________________________________\n",
      "Layer (type)                 Output Shape              Param #   \n",
      "=================================================================\n",
      "input_1 (InputLayer)         [(None, 48, 256)]         0         \n",
      "_________________________________________________________________\n",
      "bidirectional (Bidirectional (None, 48, 144)           189504    \n",
      "_________________________________________________________________\n",
      "time_distributed (TimeDistri (None, 48, 1)             145       \n",
      "=================================================================\n",
      "Total params: 189,649\n",
      "Trainable params: 189,649\n",
      "Non-trainable params: 0\n",
      "_________________________________________________________________\n",
      "======Training stage======\n",
      "Train on 63355 samples\n",
      "Epoch 1/10\n",
      "63328/63355 [============================>.] - ETA: 0s - loss: 2.5819e-05 - accuracy: 1.0000WARNING:tensorflow:Early stopping conditioned on metric `val_loss` which is not available. Available metrics are: loss,accuracy\n",
      "63355/63355 [==============================] - 178s 3ms/sample - loss: 2.5808e-05 - accuracy: 1.0000\n",
      "Epoch 2/10\n",
      "63328/63355 [============================>.] - ETA: 0s - loss: 2.6509e-05 - accuracy: 1.0000WARNING:tensorflow:Early stopping conditioned on metric `val_loss` which is not available. Available metrics are: loss,accuracy\n",
      "63355/63355 [==============================] - 145s 2ms/sample - loss: 2.6497e-05 - accuracy: 1.0000\n",
      "Epoch 3/10\n",
      "63328/63355 [============================>.] - ETA: 0s - loss: 1.7350e-05 - accuracy: 1.0000WARNING:tensorflow:Early stopping conditioned on metric `val_loss` which is not available. Available metrics are: loss,accuracy\n",
      "63355/63355 [==============================] - 145s 2ms/sample - loss: 1.7343e-05 - accuracy: 1.0000\n",
      "Epoch 4/10\n",
      "63328/63355 [============================>.] - ETA: 0s - loss: 1.8029e-05 - accuracy: 1.0000WARNING:tensorflow:Early stopping conditioned on metric `val_loss` which is not available. Available metrics are: loss,accuracy\n",
      "63355/63355 [==============================] - 119s 2ms/sample - loss: 1.8021e-05 - accuracy: 1.0000\n",
      "Epoch 5/10\n",
      "63328/63355 [============================>.] - ETA: 0s - loss: 1.6903e-05 - accuracy: 1.0000WARNING:tensorflow:Early stopping conditioned on metric `val_loss` which is not available. Available metrics are: loss,accuracy\n",
      "63355/63355 [==============================] - 82s 1ms/sample - loss: 1.6896e-05 - accuracy: 1.0000\n",
      "Epoch 6/10\n",
      "63328/63355 [============================>.] - ETA: 0s - loss: 1.4413e-05 - accuracy: 1.0000WARNING:tensorflow:Early stopping conditioned on metric `val_loss` which is not available. Available metrics are: loss,accuracy\n",
      "63355/63355 [==============================] - 78s 1ms/sample - loss: 1.4407e-05 - accuracy: 1.0000\n",
      "Epoch 7/10\n",
      "63328/63355 [============================>.] - ETA: 0s - loss: 1.4390e-05 - accuracy: 1.0000WARNING:tensorflow:Early stopping conditioned on metric `val_loss` which is not available. Available metrics are: loss,accuracy\n",
      "63355/63355 [==============================] - 128s 2ms/sample - loss: 1.4384e-05 - accuracy: 1.0000\n",
      "Epoch 8/10\n",
      "63328/63355 [============================>.] - ETA: 0s - loss: 1.5931e-05 - accuracy: 1.0000WARNING:tensorflow:Early stopping conditioned on metric `val_loss` which is not available. Available metrics are: loss,accuracy\n",
      "63355/63355 [==============================] - 147s 2ms/sample - loss: 1.5925e-05 - accuracy: 1.0000\n",
      "Epoch 9/10\n",
      "63328/63355 [============================>.] - ETA: 0s - loss: 1.1690e-05 - accuracy: 1.0000WARNING:tensorflow:Early stopping conditioned on metric `val_loss` which is not available. Available metrics are: loss,accuracy\n",
      "63355/63355 [==============================] - 147s 2ms/sample - loss: 1.1685e-05 - accuracy: 1.0000\n",
      "Epoch 10/10\n",
      "63328/63355 [============================>.] - ETA: 0s - loss: 1.1727e-05 - accuracy: 1.0000WARNING:tensorflow:Early stopping conditioned on metric `val_loss` which is not available. Available metrics are: loss,accuracy\n",
      "63355/63355 [==============================] - 147s 2ms/sample - loss: 1.1722e-05 - accuracy: 1.0000\n"
     ]
    },
    {
     "data": {
      "text/plain": [
       "<tensorflow.python.keras.callbacks.History at 0x1be24406bc8>"
      ]
     },
     "execution_count": 11,
     "metadata": {},
     "output_type": "execute_result"
    },
    {
     "name": "stdout",
     "output_type": "stream",
     "text": [
      "accuracy_score 1.0\n",
      "recall_score 1.0\n",
      "precision_score 1.0\n",
      "f1_score 1.0\n",
      "Model: \"model_5\"\n",
      "_________________________________________________________________\n",
      "Layer (type)                 Output Shape              Param #   \n",
      "=================================================================\n",
      "input_1 (InputLayer)         [(None, 48, 256)]         0         \n",
      "_________________________________________________________________\n",
      "bidirectional (Bidirectional (None, 48, 144)           189504    \n",
      "_________________________________________________________________\n",
      "time_distributed (TimeDistri (None, 48, 1)             145       \n",
      "=================================================================\n",
      "Total params: 189,649\n",
      "Trainable params: 189,649\n",
      "Non-trainable params: 0\n",
      "_________________________________________________________________\n",
      "======Training stage======\n",
      "Train on 63355 samples\n",
      "Epoch 1/10\n",
      "63328/63355 [============================>.] - ETA: 0s - loss: 1.2797e-05 - accuracy: 1.0000WARNING:tensorflow:Early stopping conditioned on metric `val_loss` which is not available. Available metrics are: loss,accuracy\n",
      "63355/63355 [==============================] - 185s 3ms/sample - loss: 1.2791e-05 - accuracy: 1.0000\n",
      "Epoch 2/10\n",
      "63328/63355 [============================>.] - ETA: 0s - loss: 1.2224e-05 - accuracy: 1.0000WARNING:tensorflow:Early stopping conditioned on metric `val_loss` which is not available. Available metrics are: loss,accuracy\n",
      "63355/63355 [==============================] - 126s 2ms/sample - loss: 1.2218e-05 - accuracy: 1.0000\n",
      "Epoch 3/10\n",
      "63328/63355 [============================>.] - ETA: 0s - loss: 1.1719e-05 - accuracy: 1.0000WARNING:tensorflow:Early stopping conditioned on metric `val_loss` which is not available. Available metrics are: loss,accuracy\n",
      "63355/63355 [==============================] - 147s 2ms/sample - loss: 1.1714e-05 - accuracy: 1.0000\n",
      "Epoch 4/10\n",
      "63328/63355 [============================>.] - ETA: 0s - loss: 1.0194e-05 - accuracy: 1.0000WARNING:tensorflow:Early stopping conditioned on metric `val_loss` which is not available. Available metrics are: loss,accuracy\n",
      "63355/63355 [==============================] - 189s 3ms/sample - loss: 1.0189e-05 - accuracy: 1.0000\n",
      "Epoch 5/10\n",
      "63328/63355 [============================>.] - ETA: 0s - loss: 1.0596e-05 - accuracy: 1.0000WARNING:tensorflow:Early stopping conditioned on metric `val_loss` which is not available. Available metrics are: loss,accuracy\n",
      "63355/63355 [==============================] - 218s 3ms/sample - loss: 1.0591e-05 - accuracy: 1.0000\n",
      "Epoch 6/10\n",
      "63328/63355 [============================>.] - ETA: 0s - loss: 1.0118e-05 - accuracy: 1.0000WARNING:tensorflow:Early stopping conditioned on metric `val_loss` which is not available. Available metrics are: loss,accuracy\n",
      "63355/63355 [==============================] - 211s 3ms/sample - loss: 1.0114e-05 - accuracy: 1.0000\n",
      "Epoch 7/10\n",
      "63328/63355 [============================>.] - ETA: 0s - loss: 1.0174e-05 - accuracy: 1.0000WARNING:tensorflow:Early stopping conditioned on metric `val_loss` which is not available. Available metrics are: loss,accuracy\n",
      "63355/63355 [==============================] - 144s 2ms/sample - loss: 1.0170e-05 - accuracy: 1.0000\n",
      "Epoch 8/10\n",
      "63328/63355 [============================>.] - ETA: 0s - loss: 1.1409e-05 - accuracy: 1.0000WARNING:tensorflow:Early stopping conditioned on metric `val_loss` which is not available. Available metrics are: loss,accuracy\n",
      "63355/63355 [==============================] - 138s 2ms/sample - loss: 1.1404e-05 - accuracy: 1.0000\n",
      "Epoch 9/10\n",
      "63328/63355 [============================>.] - ETA: 0s - loss: 1.0110e-05 - accuracy: 1.0000WARNING:tensorflow:Early stopping conditioned on metric `val_loss` which is not available. Available metrics are: loss,accuracy\n",
      "63355/63355 [==============================] - 148s 2ms/sample - loss: 1.0106e-05 - accuracy: 1.0000\n",
      "Epoch 10/10\n",
      "63328/63355 [============================>.] - ETA: 0s - loss: 1.0095e-05 - accuracy: 1.0000WARNING:tensorflow:Early stopping conditioned on metric `val_loss` which is not available. Available metrics are: loss,accuracy\n",
      "63355/63355 [==============================] - 149s 2ms/sample - loss: 1.0091e-05 - accuracy: 1.0000\n"
     ]
    },
    {
     "data": {
      "text/plain": [
       "<tensorflow.python.keras.callbacks.History at 0x1be88b53508>"
      ]
     },
     "execution_count": 11,
     "metadata": {},
     "output_type": "execute_result"
    },
    {
     "name": "stdout",
     "output_type": "stream",
     "text": [
      "accuracy_score 1.0\n",
      "recall_score 1.0\n",
      "precision_score 1.0\n",
      "f1_score 1.0\n",
      "Model: \"model_6\"\n",
      "_________________________________________________________________\n",
      "Layer (type)                 Output Shape              Param #   \n",
      "=================================================================\n",
      "input_1 (InputLayer)         [(None, 48, 256)]         0         \n",
      "_________________________________________________________________\n",
      "bidirectional (Bidirectional (None, 48, 144)           189504    \n",
      "_________________________________________________________________\n",
      "time_distributed (TimeDistri (None, 48, 1)             145       \n",
      "=================================================================\n",
      "Total params: 189,649\n",
      "Trainable params: 189,649\n",
      "Non-trainable params: 0\n",
      "_________________________________________________________________\n",
      "======Training stage======\n",
      "Train on 63355 samples\n",
      "Epoch 1/10\n",
      "63328/63355 [============================>.] - ETA: 0s - loss: 1.0799e-05 - accuracy: 1.0000WARNING:tensorflow:Early stopping conditioned on metric `val_loss` which is not available. Available metrics are: loss,accuracy\n",
      "63355/63355 [==============================] - 160s 3ms/sample - loss: 1.0795e-05 - accuracy: 1.0000\n",
      "Epoch 2/10\n",
      "63328/63355 [============================>.] - ETA: 0s - loss: 1.0097e-05 - accuracy: 1.0000WARNING:tensorflow:Early stopping conditioned on metric `val_loss` which is not available. Available metrics are: loss,accuracy\n",
      "63355/63355 [==============================] - 149s 2ms/sample - loss: 1.0093e-05 - accuracy: 1.0000\n",
      "Epoch 3/10\n",
      "63328/63355 [============================>.] - ETA: 0s - loss: 1.0095e-05 - accuracy: 1.0000WARNING:tensorflow:Early stopping conditioned on metric `val_loss` which is not available. Available metrics are: loss,accuracy\n",
      "63355/63355 [==============================] - 149s 2ms/sample - loss: 1.0090e-05 - accuracy: 1.0000\n",
      "Epoch 4/10\n",
      "63328/63355 [============================>.] - ETA: 0s - loss: 1.0092e-05 - accuracy: 1.0000WARNING:tensorflow:Early stopping conditioned on metric `val_loss` which is not available. Available metrics are: loss,accuracy\n",
      "63355/63355 [==============================] - 150s 2ms/sample - loss: 1.0088e-05 - accuracy: 1.0000\n",
      "Epoch 5/10\n",
      "63296/63355 [============================>.] - ETA: 0s - loss: 1.0097e-05 - accuracy: 1.0000WARNING:tensorflow:Early stopping conditioned on metric `val_loss` which is not available. Available metrics are: loss,accuracy\n",
      "63355/63355 [==============================] - 113s 2ms/sample - loss: 1.0088e-05 - accuracy: 1.0000\n",
      "Epoch 6/10\n",
      "63328/63355 [============================>.] - ETA: 0s - loss: 1.0092e-05 - accuracy: 1.0000WARNING:tensorflow:Early stopping conditioned on metric `val_loss` which is not available. Available metrics are: loss,accuracy\n",
      "63355/63355 [==============================] - 107s 2ms/sample - loss: 1.0088e-05 - accuracy: 1.0000\n",
      "Epoch 7/10\n",
      "63328/63355 [============================>.] - ETA: 0s - loss: 1.0092e-05 - accuracy: 1.0000WARNING:tensorflow:Early stopping conditioned on metric `val_loss` which is not available. Available metrics are: loss,accuracy\n",
      "63355/63355 [==============================] - 107s 2ms/sample - loss: 1.0088e-05 - accuracy: 1.0000\n",
      "Epoch 8/10\n",
      "63328/63355 [============================>.] - ETA: 0s - loss: 1.0092e-05 - accuracy: 1.0000WARNING:tensorflow:Early stopping conditioned on metric `val_loss` which is not available. Available metrics are: loss,accuracy\n",
      "63355/63355 [==============================] - 139s 2ms/sample - loss: 1.0087e-05 - accuracy: 1.0000\n",
      "Epoch 9/10\n",
      "63328/63355 [============================>.] - ETA: 0s - loss: 1.0092e-05 - accuracy: 1.0000WARNING:tensorflow:Early stopping conditioned on metric `val_loss` which is not available. Available metrics are: loss,accuracy\n",
      "63355/63355 [==============================] - 149s 2ms/sample - loss: 1.0087e-05 - accuracy: 1.0000\n",
      "Epoch 10/10\n",
      "63328/63355 [============================>.] - ETA: 0s - loss: 1.0092e-05 - accuracy: 1.0000WARNING:tensorflow:Early stopping conditioned on metric `val_loss` which is not available. Available metrics are: loss,accuracy\n",
      "63355/63355 [==============================] - 137s 2ms/sample - loss: 1.0087e-05 - accuracy: 1.0000\n"
     ]
    },
    {
     "data": {
      "text/plain": [
       "<tensorflow.python.keras.callbacks.History at 0x1be224e84c8>"
      ]
     },
     "execution_count": 11,
     "metadata": {},
     "output_type": "execute_result"
    },
    {
     "name": "stdout",
     "output_type": "stream",
     "text": [
      "accuracy_score 1.0\n",
      "recall_score 1.0\n",
      "precision_score 1.0\n",
      "f1_score 1.0\n",
      "Model: \"model_7\"\n",
      "_________________________________________________________________\n",
      "Layer (type)                 Output Shape              Param #   \n",
      "=================================================================\n",
      "input_1 (InputLayer)         [(None, 48, 256)]         0         \n",
      "_________________________________________________________________\n",
      "bidirectional (Bidirectional (None, 48, 144)           189504    \n",
      "_________________________________________________________________\n",
      "time_distributed (TimeDistri (None, 48, 1)             145       \n",
      "=================================================================\n",
      "Total params: 189,649\n",
      "Trainable params: 189,649\n",
      "Non-trainable params: 0\n",
      "_________________________________________________________________\n",
      "======Training stage======\n",
      "Train on 63355 samples\n",
      "Epoch 1/10\n",
      "63328/63355 [============================>.] - ETA: 0s - loss: 5.0754e-06 - accuracy: 1.0000WARNING:tensorflow:Early stopping conditioned on metric `val_loss` which is not available. Available metrics are: loss,accuracy\n",
      "63355/63355 [==============================] - 161s 3ms/sample - loss: 5.0733e-06 - accuracy: 1.0000\n",
      "Epoch 2/10\n",
      "63328/63355 [============================>.] - ETA: 0s - loss: 5.0750e-06 - accuracy: 1.0000WARNING:tensorflow:Early stopping conditioned on metric `val_loss` which is not available. Available metrics are: loss,accuracy\n",
      "63355/63355 [==============================] - 151s 2ms/sample - loss: 5.0728e-06 - accuracy: 1.0000\n",
      "Epoch 3/10\n",
      "63328/63355 [============================>.] - ETA: 0s - loss: 5.0750e-06 - accuracy: 1.0000WARNING:tensorflow:Early stopping conditioned on metric `val_loss` which is not available. Available metrics are: loss,accuracy\n",
      "63355/63355 [==============================] - 152s 2ms/sample - loss: 5.0728e-06 - accuracy: 1.0000\n",
      "Epoch 4/10\n",
      "63328/63355 [============================>.] - ETA: 0s - loss: 5.0750e-06 - accuracy: 1.0000WARNING:tensorflow:Early stopping conditioned on metric `val_loss` which is not available. Available metrics are: loss,accuracy\n",
      "63355/63355 [==============================] - 151s 2ms/sample - loss: 5.0729e-06 - accuracy: 1.0000\n",
      "Epoch 5/10\n",
      "63328/63355 [============================>.] - ETA: 0s - loss: 5.0749e-06 - accuracy: 1.0000WARNING:tensorflow:Early stopping conditioned on metric `val_loss` which is not available. Available metrics are: loss,accuracy\n",
      "63355/63355 [==============================] - 151s 2ms/sample - loss: 5.0728e-06 - accuracy: 1.0000\n",
      "Epoch 6/10\n",
      "63328/63355 [============================>.] - ETA: 0s - loss: 5.0749e-06 - accuracy: 1.0000WARNING:tensorflow:Early stopping conditioned on metric `val_loss` which is not available. Available metrics are: loss,accuracy\n",
      "63355/63355 [==============================] - 151s 2ms/sample - loss: 5.0727e-06 - accuracy: 1.0000\n",
      "Epoch 7/10\n",
      "63328/63355 [============================>.] - ETA: 0s - loss: 5.0749e-06 - accuracy: 1.0000WARNING:tensorflow:Early stopping conditioned on metric `val_loss` which is not available. Available metrics are: loss,accuracy\n",
      "63355/63355 [==============================] - 152s 2ms/sample - loss: 5.0727e-06 - accuracy: 1.0000\n",
      "Epoch 8/10\n",
      "63328/63355 [============================>.] - ETA: 0s - loss: 5.0748e-06 - accuracy: 1.0000WARNING:tensorflow:Early stopping conditioned on metric `val_loss` which is not available. Available metrics are: loss,accuracy\n",
      "63355/63355 [==============================] - 151s 2ms/sample - loss: 5.0727e-06 - accuracy: 1.0000\n",
      "Epoch 9/10\n",
      "63328/63355 [============================>.] - ETA: 0s - loss: 5.0748e-06 - accuracy: 1.0000WARNING:tensorflow:Early stopping conditioned on metric `val_loss` which is not available. Available metrics are: loss,accuracy\n",
      "63355/63355 [==============================] - 141s 2ms/sample - loss: 5.0727e-06 - accuracy: 1.0000\n",
      "Epoch 10/10\n",
      "63328/63355 [============================>.] - ETA: 0s - loss: 5.0748e-06 - accuracy: 1.0000WARNING:tensorflow:Early stopping conditioned on metric `val_loss` which is not available. Available metrics are: loss,accuracy\n",
      "63355/63355 [==============================] - 153s 2ms/sample - loss: 5.0727e-06 - accuracy: 1.0000\n"
     ]
    },
    {
     "data": {
      "text/plain": [
       "<tensorflow.python.keras.callbacks.History at 0x1be84a91a08>"
      ]
     },
     "execution_count": 11,
     "metadata": {},
     "output_type": "execute_result"
    },
    {
     "name": "stdout",
     "output_type": "stream",
     "text": [
      "accuracy_score 0.9999970402992849\n",
      "recall_score 1.0\n",
      "precision_score 0.9997638724911452\n",
      "f1_score 0.9998819223048765\n",
      "Model: \"model_8\"\n",
      "_________________________________________________________________\n",
      "Layer (type)                 Output Shape              Param #   \n",
      "=================================================================\n",
      "input_1 (InputLayer)         [(None, 48, 256)]         0         \n",
      "_________________________________________________________________\n",
      "bidirectional (Bidirectional (None, 48, 144)           189504    \n",
      "_________________________________________________________________\n",
      "time_distributed (TimeDistri (None, 48, 1)             145       \n",
      "=================================================================\n",
      "Total params: 189,649\n",
      "Trainable params: 189,649\n",
      "Non-trainable params: 0\n",
      "_________________________________________________________________\n",
      "======Training stage======\n",
      "Train on 63355 samples\n",
      "Epoch 1/10\n",
      "63328/63355 [============================>.] - ETA: 0s - loss: 1.0091e-05 - accuracy: 1.0000WARNING:tensorflow:Early stopping conditioned on metric `val_loss` which is not available. Available metrics are: loss,accuracy\n",
      "63355/63355 [==============================] - 171s 3ms/sample - loss: 1.0087e-05 - accuracy: 1.0000\n",
      "Epoch 2/10\n",
      "63328/63355 [============================>.] - ETA: 0s - loss: 1.0091e-05 - accuracy: 1.0000WARNING:tensorflow:Early stopping conditioned on metric `val_loss` which is not available. Available metrics are: loss,accuracy\n",
      "63355/63355 [==============================] - 133s 2ms/sample - loss: 1.0087e-05 - accuracy: 1.0000\n",
      "Epoch 3/10\n",
      "63328/63355 [============================>.] - ETA: 0s - loss: 1.0091e-05 - accuracy: 1.0000WARNING:tensorflow:Early stopping conditioned on metric `val_loss` which is not available. Available metrics are: loss,accuracy\n",
      "63355/63355 [==============================] - 156s 2ms/sample - loss: 1.0087e-05 - accuracy: 1.0000\n",
      "Epoch 4/10\n",
      "63328/63355 [============================>.] - ETA: 0s - loss: 1.0091e-05 - accuracy: 1.0000WARNING:tensorflow:Early stopping conditioned on metric `val_loss` which is not available. Available metrics are: loss,accuracy\n",
      "63355/63355 [==============================] - 155s 2ms/sample - loss: 1.0087e-05 - accuracy: 1.0000\n",
      "Epoch 5/10\n",
      "63328/63355 [============================>.] - ETA: 0s - loss: 1.0091e-05 - accuracy: 1.0000WARNING:tensorflow:Early stopping conditioned on metric `val_loss` which is not available. Available metrics are: loss,accuracy\n",
      "63355/63355 [==============================] - 157s 2ms/sample - loss: 1.0087e-05 - accuracy: 1.0000\n",
      "Epoch 6/10\n",
      "63328/63355 [============================>.] - ETA: 0s - loss: 5.0747e-06 - accuracy: 1.0000WARNING:tensorflow:Early stopping conditioned on metric `val_loss` which is not available. Available metrics are: loss,accuracy\n",
      "63355/63355 [==============================] - 154s 2ms/sample - loss: 1.0087e-05 - accuracy: 1.0000\n",
      "Epoch 7/10\n",
      "63328/63355 [============================>.] - ETA: 0s - loss: 1.0091e-05 - accuracy: 1.0000WARNING:tensorflow:Early stopping conditioned on metric `val_loss` which is not available. Available metrics are: loss,accuracy\n",
      "63355/63355 [==============================] - 155s 2ms/sample - loss: 1.0087e-05 - accuracy: 1.0000\n",
      "Epoch 8/10\n",
      "63328/63355 [============================>.] - ETA: 0s - loss: 1.0091e-05 - accuracy: 1.0000WARNING:tensorflow:Early stopping conditioned on metric `val_loss` which is not available. Available metrics are: loss,accuracy\n",
      "63355/63355 [==============================] - 154s 2ms/sample - loss: 1.0087e-05 - accuracy: 1.0000\n",
      "Epoch 9/10\n",
      "63328/63355 [============================>.] - ETA: 0s - loss: 1.0091e-05 - accuracy: 1.0000WARNING:tensorflow:Early stopping conditioned on metric `val_loss` which is not available. Available metrics are: loss,accuracy\n",
      "63355/63355 [==============================] - 147s 2ms/sample - loss: 1.0087e-05 - accuracy: 1.0000\n",
      "Epoch 10/10\n",
      "63328/63355 [============================>.] - ETA: 0s - loss: 1.0091e-05 - accuracy: 1.0000WARNING:tensorflow:Early stopping conditioned on metric `val_loss` which is not available. Available metrics are: loss,accuracy\n",
      "63355/63355 [==============================] - 155s 2ms/sample - loss: 1.0087e-05 - accuracy: 1.0000\n"
     ]
    },
    {
     "data": {
      "text/plain": [
       "<tensorflow.python.keras.callbacks.History at 0x1be76a28f48>"
      ]
     },
     "execution_count": 11,
     "metadata": {},
     "output_type": "execute_result"
    },
    {
     "name": "stdout",
     "output_type": "stream",
     "text": [
      "accuracy_score 1.0\n",
      "recall_score 1.0\n",
      "precision_score 1.0\n",
      "f1_score 1.0\n",
      "Model: \"model_9\"\n",
      "_________________________________________________________________\n",
      "Layer (type)                 Output Shape              Param #   \n",
      "=================================================================\n",
      "input_1 (InputLayer)         [(None, 48, 256)]         0         \n",
      "_________________________________________________________________\n",
      "bidirectional (Bidirectional (None, 48, 144)           189504    \n",
      "_________________________________________________________________\n",
      "time_distributed (TimeDistri (None, 48, 1)             145       \n",
      "=================================================================\n",
      "Total params: 189,649\n",
      "Trainable params: 189,649\n",
      "Non-trainable params: 0\n",
      "_________________________________________________________________\n",
      "======Training stage======\n",
      "Train on 63355 samples\n",
      "Epoch 1/10\n",
      "63328/63355 [============================>.] - ETA: 0s - loss: 1.0091e-05 - accuracy: 1.0000WARNING:tensorflow:Early stopping conditioned on metric `val_loss` which is not available. Available metrics are: loss,accuracy\n",
      "63355/63355 [==============================] - 166s 3ms/sample - loss: 1.0087e-05 - accuracy: 1.0000\n",
      "Epoch 2/10\n",
      "63328/63355 [============================>.] - ETA: 0s - loss: 1.0091e-05 - accuracy: 1.0000WARNING:tensorflow:Early stopping conditioned on metric `val_loss` which is not available. Available metrics are: loss,accuracy\n",
      "63355/63355 [==============================] - 153s 2ms/sample - loss: 1.0087e-05 - accuracy: 1.0000\n",
      "Epoch 3/10\n",
      "63328/63355 [============================>.] - ETA: 0s - loss: 1.0091e-05 - accuracy: 1.0000WARNING:tensorflow:Early stopping conditioned on metric `val_loss` which is not available. Available metrics are: loss,accuracy\n",
      "63355/63355 [==============================] - 153s 2ms/sample - loss: 1.0087e-05 - accuracy: 1.0000\n",
      "Epoch 4/10\n",
      "63328/63355 [============================>.] - ETA: 0s - loss: 1.0091e-05 - accuracy: 1.0000WARNING:tensorflow:Early stopping conditioned on metric `val_loss` which is not available. Available metrics are: loss,accuracy\n",
      "63355/63355 [==============================] - 153s 2ms/sample - loss: 1.0087e-05 - accuracy: 1.0000\n",
      "Epoch 5/10\n",
      "63328/63355 [============================>.] - ETA: 0s - loss: 1.0091e-05 - accuracy: 1.0000WARNING:tensorflow:Early stopping conditioned on metric `val_loss` which is not available. Available metrics are: loss,accuracy\n",
      "63355/63355 [==============================] - 152s 2ms/sample - loss: 1.0087e-05 - accuracy: 1.0000\n",
      "Epoch 6/10\n",
      "63328/63355 [============================>.] - ETA: 0s - loss: 1.0091e-05 - accuracy: 1.0000WARNING:tensorflow:Early stopping conditioned on metric `val_loss` which is not available. Available metrics are: loss,accuracy\n",
      "63355/63355 [==============================] - 144s 2ms/sample - loss: 1.0087e-05 - accuracy: 1.0000\n",
      "Epoch 7/10\n",
      "63328/63355 [============================>.] - ETA: 0s - loss: 1.0091e-05 - accuracy: 1.0000WARNING:tensorflow:Early stopping conditioned on metric `val_loss` which is not available. Available metrics are: loss,accuracy\n",
      "63355/63355 [==============================] - 154s 2ms/sample - loss: 1.0087e-05 - accuracy: 1.0000\n",
      "Epoch 8/10\n",
      "63328/63355 [============================>.] - ETA: 0s - loss: 1.0091e-05 - accuracy: 1.0000WARNING:tensorflow:Early stopping conditioned on metric `val_loss` which is not available. Available metrics are: loss,accuracy\n",
      "63355/63355 [==============================] - 153s 2ms/sample - loss: 1.0087e-05 - accuracy: 1.0000\n",
      "Epoch 9/10\n",
      "63328/63355 [============================>.] - ETA: 0s - loss: 1.0091e-05 - accuracy: 1.0000WARNING:tensorflow:Early stopping conditioned on metric `val_loss` which is not available. Available metrics are: loss,accuracy\n",
      "63355/63355 [==============================] - 145s 2ms/sample - loss: 1.0087e-05 - accuracy: 1.0000\n",
      "Epoch 10/10\n",
      "63328/63355 [============================>.] - ETA: 0s - loss: 1.0091e-05 - accuracy: 1.0000WARNING:tensorflow:Early stopping conditioned on metric `val_loss` which is not available. Available metrics are: loss,accuracy\n",
      "63355/63355 [==============================] - 121s 2ms/sample - loss: 1.0087e-05 - accuracy: 1.0000\n"
     ]
    },
    {
     "data": {
      "text/plain": [
       "<tensorflow.python.keras.callbacks.History at 0x1be29b72ec8>"
      ]
     },
     "execution_count": 11,
     "metadata": {},
     "output_type": "execute_result"
    },
    {
     "name": "stdout",
     "output_type": "stream",
     "text": [
      "accuracy_score 1.0\n",
      "recall_score 1.0\n",
      "precision_score 1.0\n",
      "f1_score 1.0\n",
      "\n",
      "K-fold cross validation Accuracy: [0.999908262310606, 0.9999230587121212, 0.9999792850378788, 0.9999733664772728, 1.0, 1.0, 1.0, 0.9999970402992849, 1.0, 1.0]\n",
      "\n",
      "K-fold cross validation Recall: [0.9948550046772685, 0.9990643274853801, 0.998837479655894, 0.9997644287396937, 1.0, 1.0, 1.0, 1.0, 1.0, 1.0]\n",
      "\n",
      "K-fold cross validation Precision: [0.9978888106966924, 0.9948753785231773, 0.9995346672871103, 0.9981185324553151, 1.0, 1.0, 1.0, 0.9997638724911452, 1.0, 1.0]\n",
      "\n",
      "K-fold cross validation F1-Score: [0.9963695983136199, 0.9969654528478057, 0.9991859518548668, 0.9989408026362245, 1.0, 1.0, 1.0, 0.9998819223048765, 1.0, 1.0]\n"
     ]
    }
   ],
   "source": [
    "# 교차검증 kfold\n",
    "from sklearn.model_selection import KFold\n",
    "\n",
    "# Accuracy, Precision, Recall, F1-Score\n",
    "from sklearn.metrics import accuracy_score, recall_score, precision_score, f1_score\n",
    "\n",
    "# Confusion Matrix, ROC Curve\n",
    "from sklearn.metrics import confusion_matrix, roc_auc_score\n",
    "\n",
    "# 최종 평가지표들 평균용\n",
    "accuracy, recall, precision, f1score, cm = [], [], [], [], []\n",
    "\n",
    "# 11. 교차검증 kfold - k.split - 10회 / K-Fold 객체 생성\n",
    "# kf = KFold(n_splits=10, shuffle=False, random_state=None) # KFold non shuffle 버전\n",
    "kf = KFold(n_splits=10, shuffle=True, random_state=None) # KFold non shuffle 버전\n",
    "\n",
    "for train, validation in kf.split(x_bc6_3, y_bc6_3):\n",
    "    model1 = models.Model(xInput, xOutput)\n",
    "    model1.compile(loss='binary_crossentropy', optimizer='rmsprop', metrics=['accuracy'])\n",
    "    model1.summary()\n",
    "    print('======Training stage======')\n",
    "    model1.fit(x_bc6_3[train],\n",
    "               y_bc6_3[train],\n",
    "               epochs = 10,\n",
    "               batch_size = 32,\n",
    "               callbacks=[early_stopping])\n",
    "    #k_accuracy = '%.4f' %(model1.evaluate(data_10000x[validation], data_10000y[validation])[1])\n",
    "\n",
    "# 12. 교차검증결과 predict - 검증셋들\n",
    "    # predict 값\n",
    "    k_pr = model1.predict(x_bc6_3[validation])\n",
    "    \n",
    "    # 테스트 predict 결과들 비교 (평가지표 보기위함)\n",
    "    pred = np.round(np.array(k_pr).flatten().tolist())\n",
    "    y_test = np.array(y_bc6_3[validation]).flatten().tolist()\n",
    "    \n",
    "# 13. 평가지표들 출력\n",
    "    ## 평가지표들\n",
    "    k_accuracy = float(accuracy_score(y_test, pred))\n",
    "    k_recall =  float(recall_score(y_test, pred))\n",
    "    k_precision = float(precision_score(y_test, pred))\n",
    "    k_f1_score = float(f1_score(y_test, pred))\n",
    "    #k_cm = float(confusion_matrix(y_test, pred))\n",
    "    \n",
    "    print('accuracy_score', k_accuracy)\n",
    "    print('recall_score', k_recall)\n",
    "    print('precision_score', k_precision)\n",
    "    print('f1_score', k_f1_score)\n",
    "    #print('\\nconfusion_matrix\\n', k_cm)\n",
    "\n",
    "    accuracy.append(k_accuracy)\n",
    "    recall.append(k_recall)\n",
    "    precision.append(k_precision)\n",
    "    f1score.append(k_f1_score)\n",
    "    #cm.append(k_cm)\n",
    "#    print('roc_curve 면적', roc_auc_score(y_test, pred))\n",
    "\n",
    "# 최종 결과지표\n",
    "print('\\nK-fold cross validation Accuracy: {}'.format(accuracy))\n",
    "print('\\nK-fold cross validation Recall: {}'.format(recall))\n",
    "print('\\nK-fold cross validation Precision: {}'.format(precision))\n",
    "print('\\nK-fold cross validation F1-Score: {}'.format(f1score))\n",
    "#print('\\nK-fold cross validation ConfusionMatrix: {}'.format(cm))"
   ]
  },
  {
   "cell_type": "markdown",
   "metadata": {},
   "source": [
    "## (9) 평가지표"
   ]
  },
  {
   "cell_type": "code",
   "execution_count": 12,
   "metadata": {},
   "outputs": [
    {
     "name": "stdout",
     "output_type": "stream",
     "text": [
      "10-Fold Cross_validation. Accuracy : 0.9999781012837163\n",
      "10-Fold Cross_validation. Recall : 0.9992521240558236\n",
      "10-Fold Cross_validation. Precision : 0.999018126145344\n",
      "10-Fold Cross_validation. F1-Score : 0.9991343727957392\n"
     ]
    }
   ],
   "source": [
    "print('10-Fold Cross_validation. Accuracy :', np.mean(accuracy))\n",
    "print('10-Fold Cross_validation. Recall :', np.mean(recall))\n",
    "print('10-Fold Cross_validation. Precision :', np.mean(precision))\n",
    "print('10-Fold Cross_validation. F1-Score :', np.mean(f1score))"
   ]
  },
  {
   "cell_type": "code",
   "execution_count": 13,
   "metadata": {},
   "outputs": [
    {
     "name": "stdout",
     "output_type": "stream",
     "text": [
      "save 완료\n"
     ]
    }
   ],
   "source": [
    "model1.save('gcc6_bin_core_s48_h72_o3.h5')\n",
    "print('save 완료')"
   ]
  }
 ],
 "metadata": {
  "kernelspec": {
   "display_name": "Python 3",
   "language": "python",
   "name": "python3"
  },
  "language_info": {
   "codemirror_mode": {
    "name": "ipython",
    "version": 3
   },
   "file_extension": ".py",
   "mimetype": "text/x-python",
   "name": "python",
   "nbconvert_exporter": "python",
   "pygments_lexer": "ipython3",
   "version": "3.7.9"
  }
 },
 "nbformat": 4,
 "nbformat_minor": 4
}
