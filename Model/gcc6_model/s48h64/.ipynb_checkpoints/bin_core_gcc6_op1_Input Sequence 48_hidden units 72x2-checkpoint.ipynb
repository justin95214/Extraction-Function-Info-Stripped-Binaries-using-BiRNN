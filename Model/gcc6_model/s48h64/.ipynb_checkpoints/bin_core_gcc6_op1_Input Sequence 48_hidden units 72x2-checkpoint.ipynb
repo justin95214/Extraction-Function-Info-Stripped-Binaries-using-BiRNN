{
 "cells": [
  {
   "cell_type": "markdown",
   "metadata": {},
   "source": [
    "## RNN 모델 N-Byte 방식 (함수정보 포함 vs 미포함 => 1:1 비율)\n",
    "\n",
    "## (1) 데이터로드"
   ]
  },
  {
   "cell_type": "code",
   "execution_count": 1,
   "metadata": {},
   "outputs": [
    {
     "name": "stdout",
     "output_type": "stream",
     "text": [
      "(27602871, 2)\n",
      "shape - (27602871, 2)\n",
      "reset_index 완료\n",
      "input data shape\n"
     ]
    },
    {
     "data": {
      "text/html": [
       "<div>\n",
       "<style scoped>\n",
       "    .dataframe tbody tr th:only-of-type {\n",
       "        vertical-align: middle;\n",
       "    }\n",
       "\n",
       "    .dataframe tbody tr th {\n",
       "        vertical-align: top;\n",
       "    }\n",
       "\n",
       "    .dataframe thead th {\n",
       "        text-align: right;\n",
       "    }\n",
       "</style>\n",
       "<table border=\"1\" class=\"dataframe\">\n",
       "  <thead>\n",
       "    <tr style=\"text-align: right;\">\n",
       "      <th></th>\n",
       "      <th>bin</th>\n",
       "      <th>label</th>\n",
       "    </tr>\n",
       "  </thead>\n",
       "  <tbody>\n",
       "    <tr>\n",
       "      <th>0</th>\n",
       "      <td>47</td>\n",
       "      <td>0</td>\n",
       "    </tr>\n",
       "    <tr>\n",
       "      <th>1</th>\n",
       "      <td>108</td>\n",
       "      <td>0</td>\n",
       "    </tr>\n",
       "    <tr>\n",
       "      <th>2</th>\n",
       "      <td>105</td>\n",
       "      <td>0</td>\n",
       "    </tr>\n",
       "    <tr>\n",
       "      <th>3</th>\n",
       "      <td>98</td>\n",
       "      <td>0</td>\n",
       "    </tr>\n",
       "    <tr>\n",
       "      <th>4</th>\n",
       "      <td>47</td>\n",
       "      <td>0</td>\n",
       "    </tr>\n",
       "  </tbody>\n",
       "</table>\n",
       "</div>"
      ],
      "text/plain": [
       "   bin  label\n",
       "0   47      0\n",
       "1  108      0\n",
       "2  105      0\n",
       "3   98      0\n",
       "4   47      0"
      ]
     },
     "execution_count": 1,
     "metadata": {},
     "output_type": "execute_result"
    }
   ],
   "source": [
    "# (1) 데이터로드\n",
    "import pandas as pd\n",
    "import numpy as np\n",
    "\n",
    "import warnings\n",
    "warnings.filterwarnings(action='ignore')\n",
    "\n",
    "# 여러개 쳐도 나오게\n",
    "from IPython.core.interactiveshell import InteractiveShell\n",
    "InteractiveShell.ast_node_interactivity = \"all\"\n",
    "\n",
    "# 파일읽기\n",
    "bin6_1 = pd.read_csv(\"../../바이너리_최종데이터_1004/gcc6/o1/o1_bincore6.csv\", index_col=0)\n",
    "print(bin6_1.shape)\n",
    "\n",
    "# reset_index (hex processing 하면서 값이 빠졌으니까 + n_gram 에서 index를 다루기 때문에)\n",
    "bin6_1.reset_index(inplace=True, drop=True)\n",
    "\n",
    "print('shape -', bin6_1.shape)\n",
    "print('reset_index 완료')\n",
    "print('input data shape')\n",
    "bin6_1.head()"
   ]
  },
  {
   "cell_type": "code",
   "execution_count": 2,
   "metadata": {},
   "outputs": [
    {
     "name": "stdout",
     "output_type": "stream",
     "text": [
      "256\n",
      "0    27564156\n",
      "1       38715\n",
      "Name: label, dtype: int64\n"
     ]
    }
   ],
   "source": [
    "# (2-1) 데이터체크 1 - hex(16진수)가 256 label을 가져야 dummies 변환 가능 \n",
    "# 16진수 256개 종류가 있어서 pd.get_dummies 사용 가능.\n",
    "print(len(bin6_1['bin'].unique()))\n",
    "\n",
    "# (2-2) 데이터 체크 2 - 1, 0 비율 ==> 1이 함수의 갯수를 뜻함\n",
    "# 정답 데이터 1, 0 비율 확인  ==> 1이 함수의 갯수를 뜻함\n",
    "print(bin6_1['label'].value_counts())"
   ]
  },
  {
   "cell_type": "markdown",
   "metadata": {},
   "source": [
    "## (3) N Byte씩 자르기"
   ]
  },
  {
   "cell_type": "code",
   "execution_count": 3,
   "metadata": {},
   "outputs": [
    {
     "name": "stdout",
     "output_type": "stream",
     "text": [
      "1858320\n",
      "나머지 0\n",
      "최종 길이 1858320\n",
      "bin6_1 1858320\n"
     ]
    }
   ],
   "source": [
    "idx_bin = bin6_1[bin6_1['label']==1].index  # 407, 474 ...\n",
    "ls_bin = list(idx_bin)\n",
    "\n",
    "# 최종 뽑을 행에 대한 index\n",
    "ls_idx_bin = []\n",
    "\n",
    "# n byte 자르기 방식\n",
    "left_idx, right_idx = 0, 48 # 3개씩\n",
    "\n",
    "# n byte 자르기\n",
    "for k in range(left_idx, right_idx):\n",
    "    ls_idx_bin.extend(list(idx_bin + k)) # index 형이라서 가능\n",
    "\n",
    "#ls_idx = list(set(ls_idx)) \n",
    "ls_idx_bin.sort() # 인덱스 정렬\n",
    "\n",
    "# 1차 index 해당범위 초과한 것들 없애기\n",
    "ls_idx_bin = list(filter(lambda x: x<len(bin6_1), ls_idx_bin))\n",
    "print(len(ls_idx_bin))\n",
    "\n",
    "# 2차 남은 index들 중 right_idx 나눈 나머지 없애기\n",
    "sub_bin = len(ls_idx_bin)%(right_idx)\n",
    "print('나머지', sub_bin)\n",
    "\n",
    "ls_idx_bin = ls_idx_bin[:len(ls_idx_bin)-sub_bin]\n",
    "print('최종 길이', len(ls_idx_bin))\n",
    "\n",
    "print('bin6_1', len(ls_idx_bin))\n",
    "\n",
    "# loc 로 수정필요\n",
    "bin6_1_Ngram = bin6_1.loc[ls_idx_bin,:].copy()"
   ]
  },
  {
   "cell_type": "markdown",
   "metadata": {},
   "source": [
    "## (4) false data 만들기"
   ]
  },
  {
   "cell_type": "code",
   "execution_count": 4,
   "metadata": {},
   "outputs": [
    {
     "name": "stdout",
     "output_type": "stream",
     "text": [
      "38715.0\n",
      "0 23677488\n",
      "1000 3284725\n",
      "2000 10969134\n",
      "3000 22384354\n",
      "4000 3555044\n",
      "5000 11494509\n",
      "6000 6450245\n",
      "7000 10932128\n",
      "8000 24384270\n",
      "9000 24199269\n",
      "10000 17972757\n",
      "11000 27410448\n",
      "12000 21581974\n",
      "13000 24890455\n",
      "14000 25127906\n",
      "15000 15921463\n",
      "16000 4168073\n",
      "17000 10099366\n",
      "18000 7839429\n",
      "19000 10271964\n",
      "20000 12084921\n",
      "21000 14301454\n",
      "22000 14460902\n",
      "23000 23600265\n",
      "24000 2929470\n",
      "25000 2614583\n",
      "26000 11116030\n",
      "27000 10912633\n",
      "28000 22635850\n",
      "29000 13162517\n",
      "30000 9888318\n",
      "31000 14154549\n",
      "32000 8859887\n",
      "33000 8505087\n",
      "34000 18787183\n",
      "35000 5456631\n",
      "36000 930633\n",
      "37000 25813049\n",
      "38000 7091816\n",
      "완료\n",
      "38715\n"
     ]
    }
   ],
   "source": [
    "# false data 만들기 - False 데이터 랜덤 생성\n",
    "\n",
    "# 목표치\n",
    "goal_bin = len(bin6_1_Ngram)/right_idx\n",
    "count_bin = 0\n",
    "\n",
    "print(goal_bin)\n",
    "\n",
    "# 최종 데이터 Frame\n",
    "d_bin = pd.DataFrame(columns = bin6_1.columns)\n",
    "\n",
    "binutils_df = []\n",
    "# goal 에 도달할 때까지\n",
    "while True:\n",
    "    if (count_bin == goal_bin):\n",
    "            break\n",
    "    # 진행상황 살펴보기 위함\n",
    "            \n",
    "    # 랜덤 N 바이트씩 뽑음\n",
    "    # random index\n",
    "    random_idx_bin = np.random.randint(len(bin6_1)-right_idx)\n",
    "\n",
    "    if count_bin % 1000==0:\n",
    "        print(count_bin, end=' ')\n",
    "        print(random_idx_bin)\n",
    "\n",
    "    df_bin = bin6_1[random_idx_bin : random_idx_bin + right_idx]\n",
    "    \n",
    "    # 뽑은 index의 N 바이트 중에 1이 없는 경우만\n",
    "    if 1 not in df_bin['label'] and count_bin < goal_bin:\n",
    "        binutils_df.append(df_bin)\n",
    "        count_bin+=1\n",
    "\n",
    "print('완료')\n",
    "print(len(binutils_df))"
   ]
  },
  {
   "cell_type": "code",
   "execution_count": 5,
   "metadata": {},
   "outputs": [
    {
     "name": "stdout",
     "output_type": "stream",
     "text": [
      "38715\n",
      "38715\n"
     ]
    }
   ],
   "source": [
    "# True data와 False Data 같은지 체크\n",
    "print(len(binutils_df))\n",
    "print(bin6_1['label'].value_counts()[1])"
   ]
  },
  {
   "cell_type": "markdown",
   "metadata": {},
   "source": [
    "## (5) False Data + True Data 합치기"
   ]
  },
  {
   "cell_type": "code",
   "execution_count": 6,
   "metadata": {},
   "outputs": [
    {
     "data": {
      "text/plain": [
       "(3716640, 2)"
      ]
     },
     "execution_count": 6,
     "metadata": {},
     "output_type": "execute_result"
    }
   ],
   "source": [
    "f_data = pd.concat(binutils_df)\n",
    "final = pd.concat([f_data, bin6_1_Ngram])\n",
    "final.shape"
   ]
  },
  {
   "cell_type": "markdown",
   "metadata": {},
   "source": [
    "## (6) one hot encoding"
   ]
  },
  {
   "cell_type": "code",
   "execution_count": 7,
   "metadata": {},
   "outputs": [
    {
     "name": "stdout",
     "output_type": "stream",
     "text": [
      "원핫인코딩완료\n",
      "(3716640, 257)\n"
     ]
    }
   ],
   "source": [
    "# 훈련데이터 (gcc 최적화버전 0, 1, 2, 3 one hot encoding)\n",
    "bc6_1_onehot_Ngram = pd.get_dummies(final['bin'])\n",
    "bc6_1_onehot_Ngram = pd.concat([final['label'], bc6_1_onehot_Ngram], axis=1)\n",
    "\n",
    "print('원핫인코딩완료')\n",
    "print(bc6_1_onehot_Ngram.shape)"
   ]
  },
  {
   "cell_type": "code",
   "execution_count": 8,
   "metadata": {},
   "outputs": [
    {
     "name": "stdout",
     "output_type": "stream",
     "text": [
      "(3716640, 256) (3716640, 256)\n",
      "(77430, 48, 256) (77430, 48, 1)\n"
     ]
    }
   ],
   "source": [
    "# 훈련 데이터, 훈련 라벨\n",
    "x_bc6_1 = bc6_1_onehot_Ngram.iloc[:,1:].to_numpy()\n",
    "y_bc6_1 = bc6_1_onehot_Ngram['label'].to_numpy()\n",
    "print(x_bc6_1.shape, x_bc6_1.shape)\n",
    "\n",
    "x_bc6_1 = x_bc6_1.reshape(-1, right_idx, x_bc6_1.shape[1])\n",
    "y_bc6_1 = y_bc6_1.reshape(-1, right_idx, 1)\n",
    "\n",
    "print(x_bc6_1.shape, y_bc6_1.shape)"
   ]
  },
  {
   "cell_type": "code",
   "execution_count": 9,
   "metadata": {},
   "outputs": [
    {
     "name": "stdout",
     "output_type": "stream",
     "text": [
      "(77430, 48, 256) (77430, 48, 1)\n"
     ]
    }
   ],
   "source": [
    "# numpy 행, 열 섞기\n",
    "p = np.random.permutation(x_bc6_1.shape[0])\n",
    "\n",
    "x_bc6_1 = x_bc6_1[p]\n",
    "y_bc6_1 = y_bc6_1[p]\n",
    "\n",
    "print(x_bc6_1.shape, y_bc6_1.shape)"
   ]
  },
  {
   "cell_type": "markdown",
   "metadata": {},
   "source": [
    "## (7) 모델"
   ]
  },
  {
   "cell_type": "code",
   "execution_count": 10,
   "metadata": {},
   "outputs": [],
   "source": [
    "# (10) 양방향 LSTM 모델링 작업\n",
    "from tensorflow.keras import layers, models\n",
    "#from tf.keras.models import Model, Sequential\n",
    "#from tf.keras.layers import SimpleRNN, Input, Dense, LSTM\n",
    "#from tf.keras.layers import Bidirectional, TimeDistributed\n",
    "\n",
    "# 학습\n",
    "from tensorflow.keras.callbacks import EarlyStopping\n",
    "early_stopping = EarlyStopping(patience = 3) # 조기종료 콜백함수 정의\n",
    "\n",
    "xInput = layers.Input(batch_shape=(None,right_idx, 256)) \n",
    "xBiLstm = layers.Bidirectional(layers.LSTM(72, return_sequences=True, stateful=False), merge_mode = 'concat')(xInput)\n",
    "xOutput = layers.TimeDistributed(layers.Dense(1, activation ='sigmoid'))(xBiLstm) # 각 스텝에서 cost가 전송되고, 오류가 다음 step으로 전송됨."
   ]
  },
  {
   "cell_type": "markdown",
   "metadata": {},
   "source": [
    "## (8) 학습 - 10 KFold"
   ]
  },
  {
   "cell_type": "code",
   "execution_count": 11,
   "metadata": {
    "scrolled": false
   },
   "outputs": [
    {
     "name": "stdout",
     "output_type": "stream",
     "text": [
      "Model: \"model\"\n",
      "_________________________________________________________________\n",
      "Layer (type)                 Output Shape              Param #   \n",
      "=================================================================\n",
      "input_1 (InputLayer)         [(None, 48, 256)]         0         \n",
      "_________________________________________________________________\n",
      "bidirectional (Bidirectional (None, 48, 144)           189504    \n",
      "_________________________________________________________________\n",
      "time_distributed (TimeDistri (None, 48, 1)             145       \n",
      "=================================================================\n",
      "Total params: 189,649\n",
      "Trainable params: 189,649\n",
      "Non-trainable params: 0\n",
      "_________________________________________________________________\n",
      "======Training stage======\n",
      "Train on 69687 samples\n",
      "Epoch 1/10\n",
      "69664/69687 [============================>.] - ETA: 0s - loss: 0.0121 - accuracy: 0.9965WARNING:tensorflow:Early stopping conditioned on metric `val_loss` which is not available. Available metrics are: loss,accuracy\n",
      "69687/69687 [==============================] - 227s 3ms/sample - loss: 0.0121 - accuracy: 0.9965\n",
      "Epoch 2/10\n",
      "69664/69687 [============================>.] - ETA: 0s - loss: 0.0020 - accuracy: 0.9994WARNING:tensorflow:Early stopping conditioned on metric `val_loss` which is not available. Available metrics are: loss,accuracy\n",
      "69687/69687 [==============================] - 257s 4ms/sample - loss: 0.0020 - accuracy: 0.9994\n",
      "Epoch 3/10\n",
      "69664/69687 [============================>.] - ETA: 0s - loss: 0.0012 - accuracy: 0.9996WARNING:tensorflow:Early stopping conditioned on metric `val_loss` which is not available. Available metrics are: loss,accuracy\n",
      "69687/69687 [==============================] - 252s 4ms/sample - loss: 0.0012 - accuracy: 0.9996\n",
      "Epoch 4/10\n",
      "69664/69687 [============================>.] - ETA: 0s - loss: 7.8598e-04 - accuracy: 0.9998WARNING:tensorflow:Early stopping conditioned on metric `val_loss` which is not available. Available metrics are: loss,accuracy\n",
      "69687/69687 [==============================] - 253s 4ms/sample - loss: 7.8576e-04 - accuracy: 0.9998\n",
      "Epoch 5/10\n",
      "69664/69687 [============================>.] - ETA: 0s - loss: 5.7209e-04 - accuracy: 0.9998WARNING:tensorflow:Early stopping conditioned on metric `val_loss` which is not available. Available metrics are: loss,accuracy\n",
      "69687/69687 [==============================] - 248s 4ms/sample - loss: 5.7193e-04 - accuracy: 0.9998\n",
      "Epoch 6/10\n",
      "69664/69687 [============================>.] - ETA: 0s - loss: 4.3503e-04 - accuracy: 0.9999WARNING:tensorflow:Early stopping conditioned on metric `val_loss` which is not available. Available metrics are: loss,accuracy\n",
      "69687/69687 [==============================] - 255s 4ms/sample - loss: 4.3490e-04 - accuracy: 0.9999\n",
      "Epoch 7/10\n",
      "69664/69687 [============================>.] - ETA: 0s - loss: 3.4009e-04 - accuracy: 0.9999WARNING:tensorflow:Early stopping conditioned on metric `val_loss` which is not available. Available metrics are: loss,accuracy\n",
      "69687/69687 [==============================] - 268s 4ms/sample - loss: 3.4002e-04 - accuracy: 0.9999\n",
      "Epoch 8/10\n",
      "69664/69687 [============================>.] - ETA: 0s - loss: 2.6825e-04 - accuracy: 0.9999WARNING:tensorflow:Early stopping conditioned on metric `val_loss` which is not available. Available metrics are: loss,accuracy\n",
      "69687/69687 [==============================] - 265s 4ms/sample - loss: 2.6816e-04 - accuracy: 0.9999\n",
      "Epoch 9/10\n",
      "69664/69687 [============================>.] - ETA: 0s - loss: 2.0614e-04 - accuracy: 0.9999WARNING:tensorflow:Early stopping conditioned on metric `val_loss` which is not available. Available metrics are: loss,accuracy\n",
      "69687/69687 [==============================] - 235s 3ms/sample - loss: 2.0608e-04 - accuracy: 0.9999\n",
      "Epoch 10/10\n",
      "69664/69687 [============================>.] - ETA: 0s - loss: 1.7099e-04 - accuracy: 1.0000WARNING:tensorflow:Early stopping conditioned on metric `val_loss` which is not available. Available metrics are: loss,accuracy\n",
      "69687/69687 [==============================] - 179s 3ms/sample - loss: 1.7093e-04 - accuracy: 1.0000\n"
     ]
    },
    {
     "data": {
      "text/plain": [
       "<tensorflow.python.keras.callbacks.History at 0x2414ed6a088>"
      ]
     },
     "execution_count": 11,
     "metadata": {},
     "output_type": "execute_result"
    },
    {
     "name": "stdout",
     "output_type": "stream",
     "text": [
      "accuracy_score 0.9998547074777218\n",
      "recall_score 0.9956450734893849\n",
      "precision_score 0.9945622620989668\n",
      "f1_score 0.9951033732317738\n",
      "Model: \"model_1\"\n",
      "_________________________________________________________________\n",
      "Layer (type)                 Output Shape              Param #   \n",
      "=================================================================\n",
      "input_1 (InputLayer)         [(None, 48, 256)]         0         \n",
      "_________________________________________________________________\n",
      "bidirectional (Bidirectional (None, 48, 144)           189504    \n",
      "_________________________________________________________________\n",
      "time_distributed (TimeDistri (None, 48, 1)             145       \n",
      "=================================================================\n",
      "Total params: 189,649\n",
      "Trainable params: 189,649\n",
      "Non-trainable params: 0\n",
      "_________________________________________________________________\n",
      "======Training stage======\n",
      "Train on 69687 samples\n",
      "Epoch 1/10\n",
      "69664/69687 [============================>.] - ETA: 0s - loss: 1.9715e-04 - accuracy: 1.0000WARNING:tensorflow:Early stopping conditioned on metric `val_loss` which is not available. Available metrics are: loss,accuracy\n",
      "69687/69687 [==============================] - 320s 5ms/sample - loss: 1.9709e-04 - accuracy: 1.0000\n",
      "Epoch 2/10\n",
      "69664/69687 [============================>.] - ETA: 0s - loss: 1.4351e-04 - accuracy: 1.0000WARNING:tensorflow:Early stopping conditioned on metric `val_loss` which is not available. Available metrics are: loss,accuracy\n",
      "69687/69687 [==============================] - 167s 2ms/sample - loss: 1.4347e-04 - accuracy: 1.0000\n",
      "Epoch 3/10\n",
      "69664/69687 [============================>.] - ETA: 0s - loss: 1.0459e-04 - accuracy: 1.0000WARNING:tensorflow:Early stopping conditioned on metric `val_loss` which is not available. Available metrics are: loss,accuracy\n",
      "69687/69687 [==============================] - 160s 2ms/sample - loss: 1.0455e-04 - accuracy: 1.0000\n",
      "Epoch 4/10\n",
      "69664/69687 [============================>.] - ETA: 0s - loss: 9.6934e-05 - accuracy: 1.0000WARNING:tensorflow:Early stopping conditioned on metric `val_loss` which is not available. Available metrics are: loss,accuracy\n",
      "69687/69687 [==============================] - 168s 2ms/sample - loss: 9.6905e-05 - accuracy: 1.0000\n",
      "Epoch 5/10\n",
      "69664/69687 [============================>.] - ETA: 0s - loss: 8.6056e-05 - accuracy: 1.0000WARNING:tensorflow:Early stopping conditioned on metric `val_loss` which is not available. Available metrics are: loss,accuracy\n",
      "69687/69687 [==============================] - 162s 2ms/sample - loss: 8.6295e-05 - accuracy: 1.0000\n",
      "Epoch 6/10\n",
      "69664/69687 [============================>.] - ETA: 0s - loss: 6.5530e-05 - accuracy: 1.0000WARNING:tensorflow:Early stopping conditioned on metric `val_loss` which is not available. Available metrics are: loss,accuracy\n",
      "69687/69687 [==============================] - 188s 3ms/sample - loss: 6.5509e-05 - accuracy: 1.0000\n",
      "Epoch 7/10\n",
      "69664/69687 [============================>.] - ETA: 0s - loss: 6.0297e-05 - accuracy: 1.0000WARNING:tensorflow:Early stopping conditioned on metric `val_loss` which is not available. Available metrics are: loss,accuracy\n",
      "69687/69687 [==============================] - 171s 2ms/sample - loss: 6.0277e-05 - accuracy: 1.0000\n",
      "Epoch 8/10\n",
      "69664/69687 [============================>.] - ETA: 0s - loss: 4.0306e-05 - accuracy: 1.0000WARNING:tensorflow:Early stopping conditioned on metric `val_loss` which is not available. Available metrics are: loss,accuracy\n",
      "69687/69687 [==============================] - 239s 3ms/sample - loss: 4.0293e-05 - accuracy: 1.0000\n",
      "Epoch 9/10\n",
      "69664/69687 [============================>.] - ETA: 0s - loss: 3.1830e-05 - accuracy: 1.0000WARNING:tensorflow:Early stopping conditioned on metric `val_loss` which is not available. Available metrics are: loss,accuracy\n",
      "69687/69687 [==============================] - 204s 3ms/sample - loss: 3.1819e-05 - accuracy: 1.0000\n",
      "Epoch 10/10\n",
      "69664/69687 [============================>.] - ETA: 0s - loss: 3.3247e-05 - accuracy: 1.0000WARNING:tensorflow:Early stopping conditioned on metric `val_loss` which is not available. Available metrics are: loss,accuracy\n",
      "69687/69687 [==============================] - 246s 4ms/sample - loss: 3.3237e-05 - accuracy: 1.0000\n"
     ]
    },
    {
     "data": {
      "text/plain": [
       "<tensorflow.python.keras.callbacks.History at 0x24159061c08>"
      ]
     },
     "execution_count": 11,
     "metadata": {},
     "output_type": "execute_result"
    },
    {
     "name": "stdout",
     "output_type": "stream",
     "text": [
      "accuracy_score 0.9999515691592405\n",
      "recall_score 0.9987111029276377\n",
      "precision_score 0.9979760809567617\n",
      "f1_score 0.9983434566537824\n",
      "Model: \"model_2\"\n",
      "_________________________________________________________________\n",
      "Layer (type)                 Output Shape              Param #   \n",
      "=================================================================\n",
      "input_1 (InputLayer)         [(None, 48, 256)]         0         \n",
      "_________________________________________________________________\n",
      "bidirectional (Bidirectional (None, 48, 144)           189504    \n",
      "_________________________________________________________________\n",
      "time_distributed (TimeDistri (None, 48, 1)             145       \n",
      "=================================================================\n",
      "Total params: 189,649\n",
      "Trainable params: 189,649\n",
      "Non-trainable params: 0\n",
      "_________________________________________________________________\n",
      "======Training stage======\n",
      "Train on 69687 samples\n",
      "Epoch 1/10\n",
      "69664/69687 [============================>.] - ETA: 0s - loss: 7.0391e-05 - accuracy: 1.0000WARNING:tensorflow:Early stopping conditioned on metric `val_loss` which is not available. Available metrics are: loss,accuracy\n",
      "69687/69687 [==============================] - 308s 4ms/sample - loss: 7.0368e-05 - accuracy: 1.0000\n",
      "Epoch 2/10\n",
      "69664/69687 [============================>.] - ETA: 0s - loss: 5.5078e-05 - accuracy: 1.0000WARNING:tensorflow:Early stopping conditioned on metric `val_loss` which is not available. Available metrics are: loss,accuracy\n",
      "69687/69687 [==============================] - 249s 4ms/sample - loss: 5.5060e-05 - accuracy: 1.0000\n",
      "Epoch 3/10\n",
      "69664/69687 [============================>.] - ETA: 0s - loss: 3.5027e-05 - accuracy: 1.0000WARNING:tensorflow:Early stopping conditioned on metric `val_loss` which is not available. Available metrics are: loss,accuracy\n",
      "69687/69687 [==============================] - 251s 4ms/sample - loss: 3.5016e-05 - accuracy: 1.0000\n",
      "Epoch 4/10\n",
      "69664/69687 [============================>.] - ETA: 0s - loss: 2.1461e-05 - accuracy: 1.0000WARNING:tensorflow:Early stopping conditioned on metric `val_loss` which is not available. Available metrics are: loss,accuracy\n",
      "69687/69687 [==============================] - 242s 3ms/sample - loss: 2.1454e-05 - accuracy: 1.0000\n",
      "Epoch 5/10\n",
      "69664/69687 [============================>.] - ETA: 0s - loss: 3.3776e-05 - accuracy: 1.0000WARNING:tensorflow:Early stopping conditioned on metric `val_loss` which is not available. Available metrics are: loss,accuracy\n",
      "69687/69687 [==============================] - 263s 4ms/sample - loss: 3.3765e-05 - accuracy: 1.0000\n",
      "Epoch 6/10\n",
      "69664/69687 [============================>.] - ETA: 0s - loss: 2.5207e-05 - accuracy: 1.00 - ETA: 0s - loss: 2.5196e-05 - accuracy: 1.0000WARNING:tensorflow:Early stopping conditioned on metric `val_loss` which is not available. Available metrics are: loss,accuracy\n",
      "69687/69687 [==============================] - 252s 4ms/sample - loss: 2.5187e-05 - accuracy: 1.0000\n",
      "Epoch 7/10\n",
      "69664/69687 [============================>.] - ETA: 0s - loss: 1.6438e-05 - accuracy: 1.0000WARNING:tensorflow:Early stopping conditioned on metric `val_loss` which is not available. Available metrics are: loss,accuracy\n",
      "69687/69687 [==============================] - 246s 4ms/sample - loss: 1.6433e-05 - accuracy: 1.0000\n",
      "Epoch 8/10\n",
      "69664/69687 [============================>.] - ETA: 0s - loss: 1.1283e-05 - accuracy: 1.0000WARNING:tensorflow:Early stopping conditioned on metric `val_loss` which is not available. Available metrics are: loss,accuracy\n",
      "69687/69687 [==============================] - 182s 3ms/sample - loss: 1.1280e-05 - accuracy: 1.0000\n",
      "Epoch 9/10\n",
      "69664/69687 [============================>.] - ETA: 0s - loss: 9.9781e-06 - accuracy: 1.0000WARNING:tensorflow:Early stopping conditioned on metric `val_loss` which is not available. Available metrics are: loss,accuracy\n",
      "69687/69687 [==============================] - 171s 2ms/sample - loss: 9.9749e-06 - accuracy: 1.0000\n",
      "Epoch 10/10\n",
      "69664/69687 [============================>.] - ETA: 0s - loss: 6.8235e-06 - accuracy: 1.0000WARNING:tensorflow:Early stopping conditioned on metric `val_loss` which is not available. Available metrics are: loss,accuracy\n",
      "69687/69687 [==============================] - 207s 3ms/sample - loss: 6.8213e-06 - accuracy: 1.0000\n"
     ]
    },
    {
     "data": {
      "text/plain": [
       "<tensorflow.python.keras.callbacks.History at 0x2414ecfe988>"
      ]
     },
     "execution_count": 11,
     "metadata": {},
     "output_type": "execute_result"
    },
    {
     "name": "stdout",
     "output_type": "stream",
     "text": [
      "accuracy_score 0.999986546988678\n",
      "recall_score 0.9998169838945827\n",
      "precision_score 0.9992683372965063\n",
      "f1_score 0.9995425853078401\n",
      "Model: \"model_3\"\n",
      "_________________________________________________________________\n",
      "Layer (type)                 Output Shape              Param #   \n",
      "=================================================================\n",
      "input_1 (InputLayer)         [(None, 48, 256)]         0         \n",
      "_________________________________________________________________\n",
      "bidirectional (Bidirectional (None, 48, 144)           189504    \n",
      "_________________________________________________________________\n",
      "time_distributed (TimeDistri (None, 48, 1)             145       \n",
      "=================================================================\n",
      "Total params: 189,649\n",
      "Trainable params: 189,649\n",
      "Non-trainable params: 0\n",
      "_________________________________________________________________\n",
      "======Training stage======\n",
      "Train on 69687 samples\n",
      "Epoch 1/10\n",
      "69664/69687 [============================>.] - ETA: 0s - loss: 7.8296e-06 - accuracy: 1.0000WARNING:tensorflow:Early stopping conditioned on metric `val_loss` which is not available. Available metrics are: loss,accuracy\n",
      "69687/69687 [==============================] - 293s 4ms/sample - loss: 7.8270e-06 - accuracy: 1.0000\n",
      "Epoch 2/10\n",
      "69664/69687 [============================>.] - ETA: 0s - loss: 8.6310e-06 - accuracy: 1.0000WARNING:tensorflow:Early stopping conditioned on metric `val_loss` which is not available. Available metrics are: loss,accuracy\n",
      "69687/69687 [==============================] - 240s 3ms/sample - loss: 8.6282e-06 - accuracy: 1.0000\n",
      "Epoch 3/10\n",
      "69664/69687 [============================>.] - ETA: 0s - loss: 3.2109e-06 - accuracy: 1.0000WARNING:tensorflow:Early stopping conditioned on metric `val_loss` which is not available. Available metrics are: loss,accuracy\n",
      "69687/69687 [==============================] - 180s 3ms/sample - loss: 3.2099e-06 - accuracy: 1.0000\n",
      "Epoch 4/10\n",
      "69664/69687 [============================>.] - ETA: 0s - loss: 2.2495e-06 - accuracy: 1.0000WARNING:tensorflow:Early stopping conditioned on metric `val_loss` which is not available. Available metrics are: loss,accuracy\n",
      "69687/69687 [==============================] - 151s 2ms/sample - loss: 2.2488e-06 - accuracy: 1.0000\n",
      "Epoch 5/10\n",
      "69664/69687 [============================>.] - ETA: 0s - loss: 1.6233e-06 - accuracy: 1.0000WARNING:tensorflow:Early stopping conditioned on metric `val_loss` which is not available. Available metrics are: loss,accuracy\n",
      "69687/69687 [==============================] - 165s 2ms/sample - loss: 1.6228e-06 - accuracy: 1.0000\n",
      "Epoch 6/10\n",
      "69664/69687 [============================>.] - ETA: 0s - loss: 1.9949e-06 - accuracy: 1.0000WARNING:tensorflow:Early stopping conditioned on metric `val_loss` which is not available. Available metrics are: loss,accuracy\n",
      "69687/69687 [==============================] - 165s 2ms/sample - loss: 1.9942e-06 - accuracy: 1.0000\n",
      "Epoch 7/10\n",
      "69664/69687 [============================>.] - ETA: 0s - loss: 6.3238e-07 - accuracy: 1.0000WARNING:tensorflow:Early stopping conditioned on metric `val_loss` which is not available. Available metrics are: loss,accuracy\n",
      "69687/69687 [==============================] - 154s 2ms/sample - loss: 6.3217e-07 - accuracy: 1.0000\n",
      "Epoch 8/10\n",
      "69664/69687 [============================>.] - ETA: 0s - loss: 2.7416e-07 - accuracy: 1.0000WARNING:tensorflow:Early stopping conditioned on metric `val_loss` which is not available. Available metrics are: loss,accuracy\n",
      "69687/69687 [==============================] - 166s 2ms/sample - loss: 2.7407e-07 - accuracy: 1.0000\n",
      "Epoch 9/10\n",
      "69664/69687 [============================>.] - ETA: 0s - loss: 1.1363e-06 - accuracy: 1.0000WARNING:tensorflow:Early stopping conditioned on metric `val_loss` which is not available. Available metrics are: loss,accuracy\n",
      "69687/69687 [==============================] - 165s 2ms/sample - loss: 1.1359e-06 - accuracy: 1.0000\n",
      "Epoch 10/10\n",
      "69664/69687 [============================>.] - ETA: 0s - loss: 2.1094e-08 - accuracy: 1.0000WARNING:tensorflow:Early stopping conditioned on metric `val_loss` which is not available. Available metrics are: loss,accuracy\n",
      "69687/69687 [==============================] - 165s 2ms/sample - loss: 2.1087e-08 - accuracy: 1.0000\n"
     ]
    },
    {
     "data": {
      "text/plain": [
       "<tensorflow.python.keras.callbacks.History at 0x2415acbaf08>"
      ]
     },
     "execution_count": 11,
     "metadata": {},
     "output_type": "execute_result"
    },
    {
     "name": "stdout",
     "output_type": "stream",
     "text": [
      "accuracy_score 0.9999946187954711\n",
      "recall_score 1.0\n",
      "precision_score 0.9996438112199466\n",
      "f1_score 0.9998218738867118\n",
      "Model: \"model_4\"\n",
      "_________________________________________________________________\n",
      "Layer (type)                 Output Shape              Param #   \n",
      "=================================================================\n",
      "input_1 (InputLayer)         [(None, 48, 256)]         0         \n",
      "_________________________________________________________________\n",
      "bidirectional (Bidirectional (None, 48, 144)           189504    \n",
      "_________________________________________________________________\n",
      "time_distributed (TimeDistri (None, 48, 1)             145       \n",
      "=================================================================\n",
      "Total params: 189,649\n",
      "Trainable params: 189,649\n",
      "Non-trainable params: 0\n",
      "_________________________________________________________________\n",
      "======Training stage======\n",
      "Train on 69687 samples\n",
      "Epoch 1/10\n",
      "69664/69687 [============================>.] - ETA: 0s - loss: 6.3930e-06 - accuracy: 1.0000WARNING:tensorflow:Early stopping conditioned on metric `val_loss` which is not available. Available metrics are: loss,accuracy\n",
      "69687/69687 [==============================] - 176s 3ms/sample - loss: 6.3908e-06 - accuracy: 1.0000\n",
      "Epoch 2/10\n",
      "69664/69687 [============================>.] - ETA: 0s - loss: 5.5990e-06 - accuracy: 1.0000WARNING:tensorflow:Early stopping conditioned on metric `val_loss` which is not available. Available metrics are: loss,accuracy\n",
      "69687/69687 [==============================] - 161s 2ms/sample - loss: 5.5971e-06 - accuracy: 1.0000\n",
      "Epoch 3/10\n",
      "69664/69687 [============================>.] - ETA: 0s - loss: 4.9883e-06 - accuracy: 1.0000WARNING:tensorflow:Early stopping conditioned on metric `val_loss` which is not available. Available metrics are: loss,accuracy\n",
      "69687/69687 [==============================] - 149s 2ms/sample - loss: 4.9867e-06 - accuracy: 1.0000\n",
      "Epoch 4/10\n",
      "69664/69687 [============================>.] - ETA: 0s - loss: 2.9476e-06 - accuracy: 1.0000WARNING:tensorflow:Early stopping conditioned on metric `val_loss` which is not available. Available metrics are: loss,accuracy\n",
      "69687/69687 [==============================] - 166s 2ms/sample - loss: 2.9467e-06 - accuracy: 1.0000\n",
      "Epoch 5/10\n",
      "69664/69687 [============================>.] - ETA: 0s - loss: 4.2952e-06 - accuracy: 1.0000WARNING:tensorflow:Early stopping conditioned on metric `val_loss` which is not available. Available metrics are: loss,accuracy\n",
      "69687/69687 [==============================] - 168s 2ms/sample - loss: 4.2938e-06 - accuracy: 1.0000\n",
      "Epoch 6/10\n",
      "69664/69687 [============================>.] - ETA: 0s - loss: 4.3318e-06 - accuracy: 1.0000WARNING:tensorflow:Early stopping conditioned on metric `val_loss` which is not available. Available metrics are: loss,accuracy\n",
      "69687/69687 [==============================] - 165s 2ms/sample - loss: 4.3304e-06 - accuracy: 1.0000\n",
      "Epoch 7/10\n",
      "69664/69687 [============================>.] - ETA: 0s - loss: 3.3039e-06 - accuracy: 1.0000WARNING:tensorflow:Early stopping conditioned on metric `val_loss` which is not available. Available metrics are: loss,accuracy\n",
      "69687/69687 [==============================] - 166s 2ms/sample - loss: 3.3028e-06 - accuracy: 1.0000\n",
      "Epoch 8/10\n",
      "69664/69687 [============================>.] - ETA: 0s - loss: 3.1180e-06 - accuracy: 1.0000WARNING:tensorflow:Early stopping conditioned on metric `val_loss` which is not available. Available metrics are: loss,accuracy\n",
      "69687/69687 [==============================] - 166s 2ms/sample - loss: 3.1170e-06 - accuracy: 1.0000\n",
      "Epoch 9/10\n",
      "69664/69687 [============================>.] - ETA: 0s - loss: 3.5707e-06 - accuracy: 1.0000WARNING:tensorflow:Early stopping conditioned on metric `val_loss` which is not available. Available metrics are: loss,accuracy\n",
      "69687/69687 [==============================] - 166s 2ms/sample - loss: 3.5695e-06 - accuracy: 1.0000\n",
      "Epoch 10/10\n",
      "69664/69687 [============================>.] - ETA: 0s - loss: 4.3541e-06 - accuracy: 1.0000WARNING:tensorflow:Early stopping conditioned on metric `val_loss` which is not available. Available metrics are: loss,accuracy\n",
      "69687/69687 [==============================] - 166s 2ms/sample - loss: 4.3527e-06 - accuracy: 1.0000\n"
     ]
    },
    {
     "data": {
      "text/plain": [
       "<tensorflow.python.keras.callbacks.History at 0x2415b8213c8>"
      ]
     },
     "execution_count": 11,
     "metadata": {},
     "output_type": "execute_result"
    },
    {
     "name": "stdout",
     "output_type": "stream",
     "text": [
      "accuracy_score 1.0\n",
      "recall_score 1.0\n",
      "precision_score 1.0\n",
      "f1_score 1.0\n",
      "Model: \"model_5\"\n",
      "_________________________________________________________________\n",
      "Layer (type)                 Output Shape              Param #   \n",
      "=================================================================\n",
      "input_1 (InputLayer)         [(None, 48, 256)]         0         \n",
      "_________________________________________________________________\n",
      "bidirectional (Bidirectional (None, 48, 144)           189504    \n",
      "_________________________________________________________________\n",
      "time_distributed (TimeDistri (None, 48, 1)             145       \n",
      "=================================================================\n",
      "Total params: 189,649\n",
      "Trainable params: 189,649\n",
      "Non-trainable params: 0\n",
      "_________________________________________________________________\n",
      "======Training stage======\n",
      "Train on 69687 samples\n",
      "Epoch 1/10\n",
      "69664/69687 [============================>.] - ETA: 0s - loss: 3.1276e-06 - accuracy: 1.0000WARNING:tensorflow:Early stopping conditioned on metric `val_loss` which is not available. Available metrics are: loss,accuracy\n",
      "69687/69687 [==============================] - 182s 3ms/sample - loss: 3.1265e-06 - accuracy: 1.0000\n",
      "Epoch 2/10\n",
      "69664/69687 [============================>.] - ETA: 0s - loss: 2.9797e-06 - accuracy: 1.0000WARNING:tensorflow:Early stopping conditioned on metric `val_loss` which is not available. Available metrics are: loss,accuracy\n",
      "69687/69687 [==============================] - 158s 2ms/sample - loss: 2.9787e-06 - accuracy: 1.0000\n",
      "Epoch 3/10\n",
      "69664/69687 [============================>.] - ETA: 0s - loss: 2.7929e-06 - accuracy: 1.0000WARNING:tensorflow:Early stopping conditioned on metric `val_loss` which is not available. Available metrics are: loss,accuracy\n",
      "69687/69687 [==============================] - 140s 2ms/sample - loss: 2.7920e-06 - accuracy: 1.0000\n",
      "Epoch 4/10\n",
      "69664/69687 [============================>.] - ETA: 0s - loss: 2.4005e-06 - accuracy: 1.0000WARNING:tensorflow:Early stopping conditioned on metric `val_loss` which is not available. Available metrics are: loss,accuracy\n",
      "69687/69687 [==============================] - 149s 2ms/sample - loss: 2.3998e-06 - accuracy: 1.0000\n",
      "Epoch 5/10\n",
      "69664/69687 [============================>.] - ETA: 0s - loss: 2.4428e-06 - accuracy: 1.0000WARNING:tensorflow:Early stopping conditioned on metric `val_loss` which is not available. Available metrics are: loss,accuracy\n",
      "69687/69687 [==============================] - 161s 2ms/sample - loss: 2.4419e-06 - accuracy: 1.0000\n",
      "Epoch 6/10\n",
      "69664/69687 [============================>.] - ETA: 0s - loss: 2.3155e-06 - accuracy: 1.0000WARNING:tensorflow:Early stopping conditioned on metric `val_loss` which is not available. Available metrics are: loss,accuracy\n",
      "69687/69687 [==============================] - 163s 2ms/sample - loss: 2.3147e-06 - accuracy: 1.0000\n",
      "Epoch 7/10\n",
      "69664/69687 [============================>.] - ETA: 0s - loss: 2.2451e-06 - accuracy: 1.0000WARNING:tensorflow:Early stopping conditioned on metric `val_loss` which is not available. Available metrics are: loss,accuracy\n",
      "69687/69687 [==============================] - 160s 2ms/sample - loss: 2.2444e-06 - accuracy: 1.0000\n",
      "Epoch 8/10\n",
      "69664/69687 [============================>.] - ETA: 0s - loss: 2.3942e-06 - accuracy: 1.0000WARNING:tensorflow:Early stopping conditioned on metric `val_loss` which is not available. Available metrics are: loss,accuracy\n",
      "69687/69687 [==============================] - 160s 2ms/sample - loss: 2.3935e-06 - accuracy: 1.0000\n",
      "Epoch 9/10\n",
      "69664/69687 [============================>.] - ETA: 0s - loss: 2.2056e-06 - accuracy: 1.0000WARNING:tensorflow:Early stopping conditioned on metric `val_loss` which is not available. Available metrics are: loss,accuracy\n",
      "69687/69687 [==============================] - 160s 2ms/sample - loss: 2.2049e-06 - accuracy: 1.0000\n",
      "Epoch 10/10\n",
      "69664/69687 [============================>.] - ETA: 0s - loss: 1.9753e-06 - accuracy: 1.0000WARNING:tensorflow:Early stopping conditioned on metric `val_loss` which is not available. Available metrics are: loss,accuracy\n",
      "69687/69687 [==============================] - 161s 2ms/sample - loss: 1.9747e-06 - accuracy: 1.0000\n"
     ]
    },
    {
     "data": {
      "text/plain": [
       "<tensorflow.python.keras.callbacks.History at 0x2414dad24c8>"
      ]
     },
     "execution_count": 11,
     "metadata": {},
     "output_type": "execute_result"
    },
    {
     "name": "stdout",
     "output_type": "stream",
     "text": [
      "accuracy_score 1.0\n",
      "recall_score 1.0\n",
      "precision_score 1.0\n",
      "f1_score 1.0\n",
      "Model: \"model_6\"\n",
      "_________________________________________________________________\n",
      "Layer (type)                 Output Shape              Param #   \n",
      "=================================================================\n",
      "input_1 (InputLayer)         [(None, 48, 256)]         0         \n",
      "_________________________________________________________________\n",
      "bidirectional (Bidirectional (None, 48, 144)           189504    \n",
      "_________________________________________________________________\n",
      "time_distributed (TimeDistri (None, 48, 1)             145       \n",
      "=================================================================\n",
      "Total params: 189,649\n",
      "Trainable params: 189,649\n",
      "Non-trainable params: 0\n",
      "_________________________________________________________________\n",
      "======Training stage======\n",
      "Train on 69687 samples\n",
      "Epoch 1/10\n",
      "69664/69687 [============================>.] - ETA: 0s - loss: 2.4805e-06 - accuracy: 1.0000WARNING:tensorflow:Early stopping conditioned on metric `val_loss` which is not available. Available metrics are: loss,accuracy\n",
      "69687/69687 [==============================] - 169s 2ms/sample - loss: 2.4797e-06 - accuracy: 1.0000\n",
      "Epoch 2/10\n",
      "69664/69687 [============================>.] - ETA: 0s - loss: 8.2871e-06 - accuracy: 1.0000WARNING:tensorflow:Early stopping conditioned on metric `val_loss` which is not available. Available metrics are: loss,accuracy\n",
      "69687/69687 [==============================] - 148s 2ms/sample - loss: 8.2844e-06 - accuracy: 1.0000\n",
      "Epoch 3/10\n",
      "69664/69687 [============================>.] - ETA: 0s - loss: 5.7439e-06 - accuracy: 1.0000WARNING:tensorflow:Early stopping conditioned on metric `val_loss` which is not available. Available metrics are: loss,accuracy\n",
      "69687/69687 [==============================] - 158s 2ms/sample - loss: 5.7420e-06 - accuracy: 1.0000\n",
      "Epoch 4/10\n",
      "69664/69687 [============================>.] - ETA: 0s - loss: 5.8629e-06 - accuracy: 1.0000WARNING:tensorflow:Early stopping conditioned on metric `val_loss` which is not available. Available metrics are: loss,accuracy\n",
      "69687/69687 [==============================] - 158s 2ms/sample - loss: 5.8610e-06 - accuracy: 1.0000\n",
      "Epoch 5/10\n",
      "69664/69687 [============================>.] - ETA: 0s - loss: 2.3307e-06 - accuracy: 1.0000WARNING:tensorflow:Early stopping conditioned on metric `val_loss` which is not available. Available metrics are: loss,accuracy\n",
      "69687/69687 [==============================] - 158s 2ms/sample - loss: 2.3300e-06 - accuracy: 1.0000\n",
      "Epoch 6/10\n",
      "69664/69687 [============================>.] - ETA: 0s - loss: 2.9520e-06 - accuracy: 1.0000WARNING:tensorflow:Early stopping conditioned on metric `val_loss` which is not available. Available metrics are: loss,accuracy\n",
      "69687/69687 [==============================] - 158s 2ms/sample - loss: 2.9510e-06 - accuracy: 1.0000\n",
      "Epoch 7/10\n",
      "69664/69687 [============================>.] - ETA: 0s - loss: 2.5351e-06 - accuracy: 1.0000WARNING:tensorflow:Early stopping conditioned on metric `val_loss` which is not available. Available metrics are: loss,accuracy\n",
      "69687/69687 [==============================] - 147s 2ms/sample - loss: 2.5342e-06 - accuracy: 1.0000\n",
      "Epoch 8/10\n",
      "69664/69687 [============================>.] - ETA: 0s - loss: 1.8162e-06 - accuracy: 1.0000WARNING:tensorflow:Early stopping conditioned on metric `val_loss` which is not available. Available metrics are: loss,accuracy\n",
      "69687/69687 [==============================] - 160s 2ms/sample - loss: 1.8156e-06 - accuracy: 1.0000\n",
      "Epoch 9/10\n",
      "69664/69687 [============================>.] - ETA: 0s - loss: 1.9383e-06 - accuracy: 1.0000WARNING:tensorflow:Early stopping conditioned on metric `val_loss` which is not available. Available metrics are: loss,accuracy\n",
      "69687/69687 [==============================] - 159s 2ms/sample - loss: 1.9377e-06 - accuracy: 1.0000\n",
      "Epoch 10/10\n",
      "69664/69687 [============================>.] - ETA: 0s - loss: 2.1874e-06 - accuracy: 1.0000WARNING:tensorflow:Early stopping conditioned on metric `val_loss` which is not available. Available metrics are: loss,accuracy\n",
      "69687/69687 [==============================] - 158s 2ms/sample - loss: 2.1867e-06 - accuracy: 1.0000\n"
     ]
    },
    {
     "data": {
      "text/plain": [
       "<tensorflow.python.keras.callbacks.History at 0x2415213f948>"
      ]
     },
     "execution_count": 11,
     "metadata": {},
     "output_type": "execute_result"
    },
    {
     "name": "stdout",
     "output_type": "stream",
     "text": [
      "accuracy_score 1.0\n",
      "recall_score 1.0\n",
      "precision_score 1.0\n",
      "f1_score 1.0\n",
      "Model: \"model_7\"\n",
      "_________________________________________________________________\n",
      "Layer (type)                 Output Shape              Param #   \n",
      "=================================================================\n",
      "input_1 (InputLayer)         [(None, 48, 256)]         0         \n",
      "_________________________________________________________________\n",
      "bidirectional (Bidirectional (None, 48, 144)           189504    \n",
      "_________________________________________________________________\n",
      "time_distributed (TimeDistri (None, 48, 1)             145       \n",
      "=================================================================\n",
      "Total params: 189,649\n",
      "Trainable params: 189,649\n",
      "Non-trainable params: 0\n",
      "_________________________________________________________________\n",
      "======Training stage======\n",
      "Train on 69687 samples\n",
      "Epoch 1/10\n",
      "69664/69687 [============================>.] - ETA: 0s - loss: 1.2580e-06 - accuracy: 1.0000WARNING:tensorflow:Early stopping conditioned on metric `val_loss` which is not available. Available metrics are: loss,accuracy\n",
      "69687/69687 [==============================] - 147s 2ms/sample - loss: 1.2576e-06 - accuracy: 1.0000\n",
      "Epoch 2/10\n",
      "69664/69687 [============================>.] - ETA: 0s - loss: 5.7423e-06 - accuracy: 1.0000WARNING:tensorflow:Early stopping conditioned on metric `val_loss` which is not available. Available metrics are: loss,accuracy\n",
      "69687/69687 [==============================] - 115s 2ms/sample - loss: 5.7404e-06 - accuracy: 1.0000\n",
      "Epoch 3/10\n",
      "69664/69687 [============================>.] - ETA: 0s - loss: 1.8859e-06 - accuracy: 1.0000WARNING:tensorflow:Early stopping conditioned on metric `val_loss` which is not available. Available metrics are: loss,accuracy\n",
      "69687/69687 [==============================] - 116s 2ms/sample - loss: 1.8853e-06 - accuracy: 1.0000\n",
      "Epoch 4/10\n",
      "69664/69687 [============================>.] - ETA: 0s - loss: 1.3875e-06 - accuracy: 1.0000WARNING:tensorflow:Early stopping conditioned on metric `val_loss` which is not available. Available metrics are: loss,accuracy\n",
      "69687/69687 [==============================] - 118s 2ms/sample - loss: 1.3870e-06 - accuracy: 1.0000\n",
      "Epoch 5/10\n",
      "69664/69687 [============================>.] - ETA: 0s - loss: 1.4364e-06 - accuracy: 1.0000WARNING:tensorflow:Early stopping conditioned on metric `val_loss` which is not available. Available metrics are: loss,accuracy\n",
      "69687/69687 [==============================] - 116s 2ms/sample - loss: 1.4360e-06 - accuracy: 1.0000\n",
      "Epoch 6/10\n",
      "69664/69687 [============================>.] - ETA: 0s - loss: 1.4731e-06 - accuracy: 1.0000WARNING:tensorflow:Early stopping conditioned on metric `val_loss` which is not available. Available metrics are: loss,accuracy\n",
      "69687/69687 [==============================] - 116s 2ms/sample - loss: 1.4726e-06 - accuracy: 1.0000\n",
      "Epoch 7/10\n",
      "69664/69687 [============================>.] - ETA: 0s - loss: 1.5718e-06 - accuracy: 1.0000WARNING:tensorflow:Early stopping conditioned on metric `val_loss` which is not available. Available metrics are: loss,accuracy\n",
      "69687/69687 [==============================] - 116s 2ms/sample - loss: 1.5713e-06 - accuracy: 1.0000\n",
      "Epoch 8/10\n",
      "69664/69687 [============================>.] - ETA: 0s - loss: 1.2375e-06 - accuracy: 1.0000WARNING:tensorflow:Early stopping conditioned on metric `val_loss` which is not available. Available metrics are: loss,accuracy\n",
      "69687/69687 [==============================] - 110s 2ms/sample - loss: 1.2371e-06 - accuracy: 1.0000\n",
      "Epoch 9/10\n",
      "69664/69687 [============================>.] - ETA: 0s - loss: 5.4869e-07 - accuracy: 1.0000WARNING:tensorflow:Early stopping conditioned on metric `val_loss` which is not available. Available metrics are: loss,accuracy\n",
      "69687/69687 [==============================] - 113s 2ms/sample - loss: 5.4851e-07 - accuracy: 1.0000\n",
      "Epoch 10/10\n",
      "69664/69687 [============================>.] - ETA: 0s - loss: 1.0398e-06 - accuracy: 1.0000WARNING:tensorflow:Early stopping conditioned on metric `val_loss` which is not available. Available metrics are: loss,accuracy\n",
      "69687/69687 [==============================] - 117s 2ms/sample - loss: 1.0395e-06 - accuracy: 1.0000\n"
     ]
    },
    {
     "data": {
      "text/plain": [
       "<tensorflow.python.keras.callbacks.History at 0x241829eaec8>"
      ]
     },
     "execution_count": 11,
     "metadata": {},
     "output_type": "execute_result"
    },
    {
     "name": "stdout",
     "output_type": "stream",
     "text": [
      "accuracy_score 1.0\n",
      "recall_score 1.0\n",
      "precision_score 1.0\n",
      "f1_score 1.0\n",
      "Model: \"model_8\"\n",
      "_________________________________________________________________\n",
      "Layer (type)                 Output Shape              Param #   \n",
      "=================================================================\n",
      "input_1 (InputLayer)         [(None, 48, 256)]         0         \n",
      "_________________________________________________________________\n",
      "bidirectional (Bidirectional (None, 48, 144)           189504    \n",
      "_________________________________________________________________\n",
      "time_distributed (TimeDistri (None, 48, 1)             145       \n",
      "=================================================================\n",
      "Total params: 189,649\n",
      "Trainable params: 189,649\n",
      "Non-trainable params: 0\n",
      "_________________________________________________________________\n",
      "======Training stage======\n",
      "Train on 69687 samples\n",
      "Epoch 1/10\n",
      "69664/69687 [============================>.] - ETA: 0s - loss: 1.0507e-06 - accuracy: 1.0000WARNING:tensorflow:Early stopping conditioned on metric `val_loss` which is not available. Available metrics are: loss,accuracy\n",
      "69687/69687 [==============================] - 120s 2ms/sample - loss: 1.0503e-06 - accuracy: 1.0000\n",
      "Epoch 2/10\n",
      "69664/69687 [============================>.] - ETA: 0s - loss: 9.0270e-07 - accuracy: 1.0000WARNING:tensorflow:Early stopping conditioned on metric `val_loss` which is not available. Available metrics are: loss,accuracy\n",
      "69687/69687 [==============================] - 111s 2ms/sample - loss: 9.0240e-07 - accuracy: 1.0000\n",
      "Epoch 3/10\n",
      "69632/69687 [============================>.] - ETA: 0s - loss: 2.3844e-07 - accuracy: 1.0000WARNING:tensorflow:Early stopping conditioned on metric `val_loss` which is not available. Available metrics are: loss,accuracy\n",
      "69687/69687 [==============================] - 110s 2ms/sample - loss: 2.3828e-07 - accuracy: 1.0000\n",
      "Epoch 4/10\n",
      "69664/69687 [============================>.] - ETA: 0s - loss: 7.7959e-07 - accuracy: 1.0000WARNING:tensorflow:Early stopping conditioned on metric `val_loss` which is not available. Available metrics are: loss,accuracy\n",
      "69687/69687 [==============================] - 110s 2ms/sample - loss: 7.7933e-07 - accuracy: 1.0000\n",
      "Epoch 5/10\n",
      "69664/69687 [============================>.] - ETA: 0s - loss: 4.5198e-07 - accuracy: 1.0000WARNING:tensorflow:Early stopping conditioned on metric `val_loss` which is not available. Available metrics are: loss,accuracy\n",
      "69687/69687 [==============================] - 109s 2ms/sample - loss: 4.5183e-07 - accuracy: 1.0000\n",
      "Epoch 6/10\n",
      "69664/69687 [============================>.] - ETA: 0s - loss: 5.0839e-07 - accuracy: 1.0000WARNING:tensorflow:Early stopping conditioned on metric `val_loss` which is not available. Available metrics are: loss,accuracy\n",
      "69687/69687 [==============================] - 110s 2ms/sample - loss: 5.0822e-07 - accuracy: 1.0000\n",
      "Epoch 7/10\n",
      "69664/69687 [============================>.] - ETA: 0s - loss: 5.7150e-07 - accuracy: 1.0000WARNING:tensorflow:Early stopping conditioned on metric `val_loss` which is not available. Available metrics are: loss,accuracy\n",
      "69687/69687 [==============================] - 110s 2ms/sample - loss: 5.7131e-07 - accuracy: 1.0000\n",
      "Epoch 8/10\n",
      "69632/69687 [============================>.] - ETA: 0s - loss: 5.4874e-07 - accuracy: 1.0000WARNING:tensorflow:Early stopping conditioned on metric `val_loss` which is not available. Available metrics are: loss,accuracy\n",
      "69687/69687 [==============================] - 110s 2ms/sample - loss: 5.4831e-07 - accuracy: 1.0000\n",
      "Epoch 9/10\n",
      "69664/69687 [============================>.] - ETA: 0s - loss: 4.1379e-07 - accuracy: 1.0000WARNING:tensorflow:Early stopping conditioned on metric `val_loss` which is not available. Available metrics are: loss,accuracy\n",
      "69687/69687 [==============================] - 110s 2ms/sample - loss: 4.1365e-07 - accuracy: 1.0000\n",
      "Epoch 10/10\n",
      "69664/69687 [============================>.] - ETA: 0s - loss: 2.1767e-06 - accuracy: 1.0000WARNING:tensorflow:Early stopping conditioned on metric `val_loss` which is not available. Available metrics are: loss,accuracy\n",
      "69687/69687 [==============================] - 107s 2ms/sample - loss: 2.1760e-06 - accuracy: 1.0000\n"
     ]
    },
    {
     "data": {
      "text/plain": [
       "<tensorflow.python.keras.callbacks.History at 0x2415c1699c8>"
      ]
     },
     "execution_count": 11,
     "metadata": {},
     "output_type": "execute_result"
    },
    {
     "name": "stdout",
     "output_type": "stream",
     "text": [
      "accuracy_score 0.9999973093977356\n",
      "recall_score 0.9998236020462162\n",
      "precision_score 1.0\n",
      "f1_score 0.9999117932433624\n",
      "Model: \"model_9\"\n",
      "_________________________________________________________________\n",
      "Layer (type)                 Output Shape              Param #   \n",
      "=================================================================\n",
      "input_1 (InputLayer)         [(None, 48, 256)]         0         \n",
      "_________________________________________________________________\n",
      "bidirectional (Bidirectional (None, 48, 144)           189504    \n",
      "_________________________________________________________________\n",
      "time_distributed (TimeDistri (None, 48, 1)             145       \n",
      "=================================================================\n",
      "Total params: 189,649\n",
      "Trainable params: 189,649\n",
      "Non-trainable params: 0\n",
      "_________________________________________________________________\n",
      "======Training stage======\n",
      "Train on 69687 samples\n",
      "Epoch 1/10\n",
      "69632/69687 [============================>.] - ETA: 0s - loss: 1.2245e-05 - accuracy: 1.0000WARNING:tensorflow:Early stopping conditioned on metric `val_loss` which is not available. Available metrics are: loss,accuracy\n",
      "69687/69687 [==============================] - 113s 2ms/sample - loss: 1.2235e-05 - accuracy: 1.0000\n",
      "Epoch 2/10\n",
      "69664/69687 [============================>.] - ETA: 0s - loss: 1.1180e-05 - accuracy: 1.0000 ETA: 0s - loss: 1.1206e-05 - accuracyWARNING:tensorflow:Early stopping conditioned on metric `val_loss` which is not available. Available metrics are: loss,accuracy\n",
      "69687/69687 [==============================] - 103s 1ms/sample - loss: 1.1177e-05 - accuracy: 1.0000\n",
      "Epoch 3/10\n",
      "69632/69687 [============================>.] - ETA: 0s - loss: 4.4640e-06 - accuracy: 1.0000WARNING:tensorflow:Early stopping conditioned on metric `val_loss` which is not available. Available metrics are: loss,accuracy\n",
      "69687/69687 [==============================] - 103s 1ms/sample - loss: 4.4605e-06 - accuracy: 1.0000\n",
      "Epoch 4/10\n",
      "69664/69687 [============================>.] - ETA: 0s - loss: 6.7965e-06 - accuracy: 1.0000WARNING:tensorflow:Early stopping conditioned on metric `val_loss` which is not available. Available metrics are: loss,accuracy\n",
      "69687/69687 [==============================] - 102s 1ms/sample - loss: 6.7942e-06 - accuracy: 1.0000\n",
      "Epoch 5/10\n",
      "69664/69687 [============================>.] - ETA: 0s - loss: 5.5118e-06 - accuracy: 1.0000WARNING:tensorflow:Early stopping conditioned on metric `val_loss` which is not available. Available metrics are: loss,accuracy\n",
      "69687/69687 [==============================] - 103s 1ms/sample - loss: 5.5100e-06 - accuracy: 1.0000\n",
      "Epoch 6/10\n",
      "69632/69687 [============================>.] - ETA: 0s - loss: 1.2310e-06 - accuracy: 1.0000WARNING:tensorflow:Early stopping conditioned on metric `val_loss` which is not available. Available metrics are: loss,accuracy\n",
      "69687/69687 [==============================] - 102s 1ms/sample - loss: 1.2300e-06 - accuracy: 1.0000\n",
      "Epoch 7/10\n",
      "69664/69687 [============================>.] - ETA: 0s - loss: 2.9093e-06 - accuracy: 1.0000WARNING:tensorflow:Early stopping conditioned on metric `val_loss` which is not available. Available metrics are: loss,accuracy\n",
      "69687/69687 [==============================] - 103s 1ms/sample - loss: 2.9084e-06 - accuracy: 1.0000\n",
      "Epoch 8/10\n",
      "69664/69687 [============================>.] - ETA: 0s - loss: 5.1692e-07 - accuracy: 1.0000WARNING:tensorflow:Early stopping conditioned on metric `val_loss` which is not available. Available metrics are: loss,accuracy\n",
      "69687/69687 [==============================] - 104s 1ms/sample - loss: 5.1675e-07 - accuracy: 1.0000\n",
      "Epoch 9/10\n",
      "69664/69687 [============================>.] - ETA: 0s - loss: 5.4155e-07 - accuracy: 1.0000WARNING:tensorflow:Early stopping conditioned on metric `val_loss` which is not available. Available metrics are: loss,accuracy\n",
      "69687/69687 [==============================] - 102s 1ms/sample - loss: 5.4138e-07 - accuracy: 1.0000\n",
      "Epoch 10/10\n",
      "69664/69687 [============================>.] - ETA: 0s - loss: 4.1402e-07 - accuracy: 1.0000WARNING:tensorflow:Early stopping conditioned on metric `val_loss` which is not available. Available metrics are: loss,accuracy\n",
      "69687/69687 [==============================] - 102s 1ms/sample - loss: 4.1388e-07 - accuracy: 1.0000\n"
     ]
    },
    {
     "data": {
      "text/plain": [
       "<tensorflow.python.keras.callbacks.History at 0x24169753f48>"
      ]
     },
     "execution_count": 11,
     "metadata": {},
     "output_type": "execute_result"
    },
    {
     "name": "stdout",
     "output_type": "stream",
     "text": [
      "accuracy_score 1.0\n",
      "recall_score 1.0\n",
      "precision_score 1.0\n",
      "f1_score 1.0\n",
      "\n",
      "K-fold cross validation Accuracy: [0.9998547074777218, 0.9999515691592405, 0.999986546988678, 0.9999946187954711, 1.0, 1.0, 1.0, 1.0, 0.9999973093977356, 1.0]\n",
      "\n",
      "K-fold cross validation Recall: [0.9956450734893849, 0.9987111029276377, 0.9998169838945827, 1.0, 1.0, 1.0, 1.0, 1.0, 0.9998236020462162, 1.0]\n",
      "\n",
      "K-fold cross validation Precision: [0.9945622620989668, 0.9979760809567617, 0.9992683372965063, 0.9996438112199466, 1.0, 1.0, 1.0, 1.0, 1.0, 1.0]\n",
      "\n",
      "K-fold cross validation F1-Score: [0.9951033732317738, 0.9983434566537824, 0.9995425853078401, 0.9998218738867118, 1.0, 1.0, 1.0, 1.0, 0.9999117932433624, 1.0]\n"
     ]
    }
   ],
   "source": [
    "# 교차검증 kfold\n",
    "from sklearn.model_selection import KFold\n",
    "\n",
    "# Accuracy, Precision, Recall, F1-Score\n",
    "from sklearn.metrics import accuracy_score, recall_score, precision_score, f1_score\n",
    "\n",
    "# Confusion Matrix, ROC Curve\n",
    "from sklearn.metrics import confusion_matrix, roc_auc_score\n",
    "\n",
    "# 최종 평가지표들 평균용\n",
    "accuracy, recall, precision, f1score, cm = [], [], [], [], []\n",
    "\n",
    "# 11. 교차검증 kfold - k.split - 10회 / K-Fold 객체 생성\n",
    "# kf = KFold(n_splits=10, shuffle=False, random_state=None) # KFold non shuffle 버전\n",
    "kf = KFold(n_splits=10, shuffle=True, random_state=None) # KFold non shuffle 버전\n",
    "\n",
    "for train, validation in kf.split(x_bc6_1, y_bc6_1):\n",
    "    model1 = models.Model(xInput, xOutput)\n",
    "    model1.compile(loss='binary_crossentropy', optimizer='rmsprop', metrics=['accuracy'])\n",
    "    model1.summary()\n",
    "    print('======Training stage======')\n",
    "    model1.fit(x_bc6_1[train],\n",
    "               y_bc6_1[train],\n",
    "               epochs = 10,\n",
    "               batch_size = 32,\n",
    "               callbacks=[early_stopping])\n",
    "    #k_accuracy = '%.4f' %(model1.evaluate(data_10000x[validation], data_10000y[validation])[1])\n",
    "\n",
    "# 12. 교차검증결과 predict - 검증셋들\n",
    "    # predict 값\n",
    "    k_pr = model1.predict(x_bc6_1[validation])\n",
    "    \n",
    "    # 테스트 predict 결과들 비교 (평가지표 보기위함)\n",
    "    pred = np.round(np.array(k_pr).flatten().tolist())\n",
    "    y_test = np.array(y_bc6_1[validation]).flatten().tolist()\n",
    "    \n",
    "# 13. 평가지표들 출력\n",
    "    ## 평가지표들\n",
    "    k_accuracy = float(accuracy_score(y_test, pred))\n",
    "    k_recall =  float(recall_score(y_test, pred))\n",
    "    k_precision = float(precision_score(y_test, pred))\n",
    "    k_f1_score = float(f1_score(y_test, pred))\n",
    "    #k_cm = float(confusion_matrix(y_test, pred))\n",
    "    \n",
    "    print('accuracy_score', k_accuracy)\n",
    "    print('recall_score', k_recall)\n",
    "    print('precision_score', k_precision)\n",
    "    print('f1_score', k_f1_score)\n",
    "    #print('\\nconfusion_matrix\\n', k_cm)\n",
    "\n",
    "    accuracy.append(k_accuracy)\n",
    "    recall.append(k_recall)\n",
    "    precision.append(k_precision)\n",
    "    f1score.append(k_f1_score)\n",
    "    #cm.append(k_cm)\n",
    "#    print('roc_curve 면적', roc_auc_score(y_test, pred))\n",
    "\n",
    "# 최종 결과지표\n",
    "print('\\nK-fold cross validation Accuracy: {}'.format(accuracy))\n",
    "print('\\nK-fold cross validation Recall: {}'.format(recall))\n",
    "print('\\nK-fold cross validation Precision: {}'.format(precision))\n",
    "print('\\nK-fold cross validation F1-Score: {}'.format(f1score))\n",
    "#print('\\nK-fold cross validation ConfusionMatrix: {}'.format(cm))"
   ]
  },
  {
   "cell_type": "markdown",
   "metadata": {},
   "source": [
    "## (9) 평가지표"
   ]
  },
  {
   "cell_type": "code",
   "execution_count": 12,
   "metadata": {},
   "outputs": [
    {
     "name": "stdout",
     "output_type": "stream",
     "text": [
      "10-Fold Cross_validation. Accuracy : 0.9999784751818848\n",
      "10-Fold Cross_validation. Recall : 0.9993996762357822\n",
      "10-Fold Cross_validation. Precision : 0.999145049157218\n",
      "10-Fold Cross_validation. F1-Score : 0.999272308232347\n"
     ]
    }
   ],
   "source": [
    "print('10-Fold Cross_validation. Accuracy :', np.mean(accuracy))\n",
    "print('10-Fold Cross_validation. Recall :', np.mean(recall))\n",
    "print('10-Fold Cross_validation. Precision :', np.mean(precision))\n",
    "print('10-Fold Cross_validation. F1-Score :', np.mean(f1score))"
   ]
  },
  {
   "cell_type": "code",
   "execution_count": 13,
   "metadata": {},
   "outputs": [
    {
     "name": "stdout",
     "output_type": "stream",
     "text": [
      "save 완료\n"
     ]
    }
   ],
   "source": [
    "model1.save('gcc6_bin_core_s48_h72_o1.h5')\n",
    "print('save 완료')"
   ]
  }
 ],
 "metadata": {
  "kernelspec": {
   "display_name": "Python 3",
   "language": "python",
   "name": "python3"
  },
  "language_info": {
   "codemirror_mode": {
    "name": "ipython",
    "version": 3
   },
   "file_extension": ".py",
   "mimetype": "text/x-python",
   "name": "python",
   "nbconvert_exporter": "python",
   "pygments_lexer": "ipython3",
   "version": "3.7.9"
  }
 },
 "nbformat": 4,
 "nbformat_minor": 4
}
