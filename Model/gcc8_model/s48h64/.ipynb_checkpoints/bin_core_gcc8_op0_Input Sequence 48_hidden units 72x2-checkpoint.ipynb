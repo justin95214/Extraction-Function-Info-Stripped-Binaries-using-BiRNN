{
 "cells": [
  {
   "cell_type": "markdown",
   "metadata": {},
   "source": [
    "## RNN 모델 N-Byte 방식 (함수정보 포함 vs 미포함 => 1:1 비율)\n",
    "\n",
    "## (1) 데이터로드"
   ]
  },
  {
   "cell_type": "code",
   "execution_count": 2,
   "metadata": {},
   "outputs": [
    {
     "name": "stdout",
     "output_type": "stream",
     "text": [
      "(30111221, 2)\n",
      "shape - (30111221, 2)\n",
      "reset_index 완료\n",
      "input data shape\n"
     ]
    },
    {
     "data": {
      "text/html": [
       "<div>\n",
       "<style scoped>\n",
       "    .dataframe tbody tr th:only-of-type {\n",
       "        vertical-align: middle;\n",
       "    }\n",
       "\n",
       "    .dataframe tbody tr th {\n",
       "        vertical-align: top;\n",
       "    }\n",
       "\n",
       "    .dataframe thead th {\n",
       "        text-align: right;\n",
       "    }\n",
       "</style>\n",
       "<table border=\"1\" class=\"dataframe\">\n",
       "  <thead>\n",
       "    <tr style=\"text-align: right;\">\n",
       "      <th></th>\n",
       "      <th>bin</th>\n",
       "      <th>label</th>\n",
       "    </tr>\n",
       "  </thead>\n",
       "  <tbody>\n",
       "    <tr>\n",
       "      <th>0</th>\n",
       "      <td>47</td>\n",
       "      <td>0</td>\n",
       "    </tr>\n",
       "    <tr>\n",
       "      <th>1</th>\n",
       "      <td>108</td>\n",
       "      <td>0</td>\n",
       "    </tr>\n",
       "    <tr>\n",
       "      <th>2</th>\n",
       "      <td>105</td>\n",
       "      <td>0</td>\n",
       "    </tr>\n",
       "    <tr>\n",
       "      <th>3</th>\n",
       "      <td>98</td>\n",
       "      <td>0</td>\n",
       "    </tr>\n",
       "    <tr>\n",
       "      <th>4</th>\n",
       "      <td>47</td>\n",
       "      <td>0</td>\n",
       "    </tr>\n",
       "  </tbody>\n",
       "</table>\n",
       "</div>"
      ],
      "text/plain": [
       "   bin  label\n",
       "0   47      0\n",
       "1  108      0\n",
       "2  105      0\n",
       "3   98      0\n",
       "4   47      0"
      ]
     },
     "execution_count": 2,
     "metadata": {},
     "output_type": "execute_result"
    }
   ],
   "source": [
    "# (1) 데이터로드\n",
    "import pandas as pd\n",
    "import numpy as np\n",
    "\n",
    "import warnings\n",
    "warnings.filterwarnings(action='ignore')\n",
    "\n",
    "# 여러개 쳐도 나오게\n",
    "from IPython.core.interactiveshell import InteractiveShell\n",
    "InteractiveShell.ast_node_interactivity = \"all\"\n",
    "\n",
    "# 파일읽기\n",
    "bin8_0 = pd.read_csv(\"../../바이너리_최종데이터_1004/gcc8/o0/o0_bincore8.csv\", index_col=0)\n",
    "print(bin8_0.shape)\n",
    "\n",
    "# reset_index (hex processing 하면서 값이 빠졌으니까 + n_gram 에서 index를 다루기 때문에)\n",
    "bin8_0.reset_index(inplace=True, drop=True)\n",
    "\n",
    "print('shape -', bin8_0.shape)\n",
    "print('reset_index 완료')\n",
    "print('input data shape')\n",
    "bin8_0.head()"
   ]
  },
  {
   "cell_type": "code",
   "execution_count": 3,
   "metadata": {},
   "outputs": [
    {
     "name": "stdout",
     "output_type": "stream",
     "text": [
      "256\n",
      "0    30060985\n",
      "1       50236\n",
      "Name: label, dtype: int64\n"
     ]
    }
   ],
   "source": [
    "# (2-1) 데이터체크 1 - hex(16진수)가 256 label을 가져야 dummies 변환 가능 \n",
    "# 16진수 256개 종류가 있어서 pd.get_dummies 사용 가능.\n",
    "print(len(bin8_0['bin'].unique()))\n",
    "\n",
    "# (2-2) 데이터 체크 2 - 1, 0 비율 ==> 1이 함수의 갯수를 뜻함\n",
    "# 정답 데이터 1, 0 비율 확인  ==> 1이 함수의 갯수를 뜻함\n",
    "print(bin8_0['label'].value_counts())"
   ]
  },
  {
   "cell_type": "markdown",
   "metadata": {},
   "source": [
    "## (3) N Byte씩 자르기"
   ]
  },
  {
   "cell_type": "code",
   "execution_count": 4,
   "metadata": {},
   "outputs": [
    {
     "name": "stdout",
     "output_type": "stream",
     "text": [
      "2411328\n",
      "나머지 0\n",
      "최종 길이 2411328\n",
      "bin8_0 2411328\n"
     ]
    }
   ],
   "source": [
    "idx_bin = bin8_0[bin8_0['label']==1].index  # 407, 474 ...\n",
    "ls_bin = list(idx_bin)\n",
    "\n",
    "# 최종 뽑을 행에 대한 index\n",
    "ls_idx_bin = []\n",
    "\n",
    "# n byte 자르기 방식\n",
    "left_idx, right_idx = 0, 48 # 3개씩\n",
    "\n",
    "# n byte 자르기\n",
    "for k in range(left_idx, right_idx):\n",
    "    ls_idx_bin.extend(list(idx_bin + k)) # index 형이라서 가능\n",
    "\n",
    "#ls_idx = list(set(ls_idx)) \n",
    "ls_idx_bin.sort() # 인덱스 정렬\n",
    "\n",
    "# 1차 index 해당범위 초과한 것들 없애기\n",
    "ls_idx_bin = list(filter(lambda x: x<len(bin8_0), ls_idx_bin))\n",
    "print(len(ls_idx_bin))\n",
    "\n",
    "# 2차 남은 index들 중 right_idx 나눈 나머지 없애기\n",
    "sub_bin = len(ls_idx_bin)%(right_idx)\n",
    "print('나머지', sub_bin)\n",
    "\n",
    "ls_idx_bin = ls_idx_bin[:len(ls_idx_bin)-sub_bin]\n",
    "print('최종 길이', len(ls_idx_bin))\n",
    "\n",
    "print('bin8_0', len(ls_idx_bin))\n",
    "\n",
    "# loc 로 수정필요\n",
    "bin8_0_Ngram = bin8_0.loc[ls_idx_bin,:].copy()"
   ]
  },
  {
   "cell_type": "markdown",
   "metadata": {},
   "source": [
    "## (4) false data 만들기"
   ]
  },
  {
   "cell_type": "code",
   "execution_count": 5,
   "metadata": {},
   "outputs": [
    {
     "name": "stdout",
     "output_type": "stream",
     "text": [
      "50236.0\n",
      "0 10137937\n",
      "1000 18413549\n",
      "2000 4247517\n",
      "3000 27868998\n",
      "4000 10149093\n",
      "5000 6153941\n",
      "6000 21244316\n",
      "7000 20801882\n",
      "8000 19146901\n",
      "9000 16718950\n",
      "10000 10007300\n",
      "11000 2393098\n",
      "12000 10379530\n",
      "13000 17747592\n",
      "14000 6457489\n",
      "15000 11698931\n",
      "16000 25993363\n",
      "17000 7533392\n",
      "18000 4258157\n",
      "19000 24000361\n",
      "20000 24063954\n",
      "21000 27150676\n",
      "22000 11517481\n",
      "23000 27525840\n",
      "24000 11609769\n",
      "25000 28025350\n",
      "26000 21337686\n",
      "27000 20774355\n",
      "28000 16343513\n",
      "29000 8000061\n",
      "30000 28779195\n",
      "31000 4775458\n",
      "32000 26964721\n",
      "33000 14501849\n",
      "34000 22771013\n",
      "35000 18482374\n",
      "36000 3790786\n",
      "37000 7427936\n",
      "38000 10754445\n",
      "39000 10055065\n",
      "40000 29022139\n",
      "41000 23098095\n",
      "42000 21033621\n",
      "43000 7088501\n",
      "44000 17945087\n",
      "45000 24761342\n",
      "46000 2993457\n",
      "47000 11162526\n",
      "48000 17379465\n",
      "49000 3616721\n",
      "50000 26180252\n",
      "완료\n",
      "50236\n"
     ]
    }
   ],
   "source": [
    "# false data 만들기 - False 데이터 랜덤 생성\n",
    "\n",
    "# 목표치\n",
    "goal_bin = len(bin8_0_Ngram)/right_idx\n",
    "count_bin = 0\n",
    "\n",
    "print(goal_bin)\n",
    "\n",
    "# 최종 데이터 Frame\n",
    "d_bin = pd.DataFrame(columns = bin8_0.columns)\n",
    "\n",
    "binutils_df = []\n",
    "# goal 에 도달할 때까지\n",
    "while True:\n",
    "    if (count_bin == goal_bin):\n",
    "            break\n",
    "    # 진행상황 살펴보기 위함\n",
    "            \n",
    "    # 랜덤 N 바이트씩 뽑음\n",
    "    # random index\n",
    "    random_idx_bin = np.random.randint(len(bin8_0)-right_idx)\n",
    "\n",
    "    if count_bin % 1000==0:\n",
    "        print(count_bin, end=' ')\n",
    "        print(random_idx_bin)\n",
    "\n",
    "    df_bin = bin8_0[random_idx_bin : random_idx_bin + right_idx]\n",
    "    \n",
    "    # 뽑은 index의 N 바이트 중에 1이 없는 경우만\n",
    "    if 1 not in df_bin['label'] and count_bin < goal_bin:\n",
    "        binutils_df.append(df_bin)\n",
    "        count_bin+=1\n",
    "\n",
    "print('완료')\n",
    "print(len(binutils_df))"
   ]
  },
  {
   "cell_type": "code",
   "execution_count": 6,
   "metadata": {},
   "outputs": [
    {
     "name": "stdout",
     "output_type": "stream",
     "text": [
      "50236\n",
      "50236\n"
     ]
    }
   ],
   "source": [
    "# True data와 False Data 같은지 체크\n",
    "print(len(binutils_df))\n",
    "print(bin8_0['label'].value_counts()[1])"
   ]
  },
  {
   "cell_type": "markdown",
   "metadata": {},
   "source": [
    "## (5) False Data + True Data 합치기"
   ]
  },
  {
   "cell_type": "code",
   "execution_count": 7,
   "metadata": {},
   "outputs": [
    {
     "data": {
      "text/plain": [
       "(4822656, 2)"
      ]
     },
     "execution_count": 7,
     "metadata": {},
     "output_type": "execute_result"
    }
   ],
   "source": [
    "f_data = pd.concat(binutils_df)\n",
    "final = pd.concat([f_data, bin8_0_Ngram])\n",
    "final.shape"
   ]
  },
  {
   "cell_type": "markdown",
   "metadata": {},
   "source": [
    "## (6) one hot encoding"
   ]
  },
  {
   "cell_type": "code",
   "execution_count": 8,
   "metadata": {},
   "outputs": [
    {
     "name": "stdout",
     "output_type": "stream",
     "text": [
      "원핫인코딩완료\n",
      "(4822656, 257)\n"
     ]
    }
   ],
   "source": [
    "# 훈련데이터 (gcc 최적화버전 0, 1, 2, 3 one hot encoding)\n",
    "bc8_0_onehot_Ngram = pd.get_dummies(final['bin'])\n",
    "bc8_0_onehot_Ngram = pd.concat([final['label'], bc8_0_onehot_Ngram], axis=1)\n",
    "\n",
    "print('원핫인코딩완료')\n",
    "print(bc8_0_onehot_Ngram.shape)"
   ]
  },
  {
   "cell_type": "code",
   "execution_count": 9,
   "metadata": {},
   "outputs": [
    {
     "name": "stdout",
     "output_type": "stream",
     "text": [
      "(4822656, 256) (4822656, 256)\n",
      "(100472, 48, 256) (100472, 48, 1)\n"
     ]
    }
   ],
   "source": [
    "# 훈련 데이터, 훈련 라벨\n",
    "x_bc8_0 = bc8_0_onehot_Ngram.iloc[:,1:].to_numpy()\n",
    "y_bc8_0 = bc8_0_onehot_Ngram['label'].to_numpy()\n",
    "print(x_bc8_0.shape, x_bc8_0.shape)\n",
    "\n",
    "x_bc8_0 = x_bc8_0.reshape(-1, right_idx, x_bc8_0.shape[1])\n",
    "y_bc8_0 = y_bc8_0.reshape(-1, right_idx, 1)\n",
    "\n",
    "print(x_bc8_0.shape, y_bc8_0.shape)"
   ]
  },
  {
   "cell_type": "code",
   "execution_count": 10,
   "metadata": {},
   "outputs": [
    {
     "name": "stdout",
     "output_type": "stream",
     "text": [
      "(100472, 48, 256) (100472, 48, 1)\n"
     ]
    }
   ],
   "source": [
    "# numpy 행, 열 섞기\n",
    "p = np.random.permutation(x_bc8_0.shape[0])\n",
    "\n",
    "x_bc8_0 = x_bc8_0[p]\n",
    "y_bc8_0 = y_bc8_0[p]\n",
    "\n",
    "print(x_bc8_0.shape, y_bc8_0.shape)"
   ]
  },
  {
   "cell_type": "markdown",
   "metadata": {},
   "source": [
    "## (7) 모델"
   ]
  },
  {
   "cell_type": "code",
   "execution_count": 11,
   "metadata": {},
   "outputs": [],
   "source": [
    "# (10) 양방향 LSTM 모델링 작업\n",
    "from tensorflow.keras import layers, models\n",
    "#from tf.keras.models import Model, Sequential\n",
    "#from tf.keras.layers import SimpleRNN, Input, Dense, LSTM\n",
    "#from tf.keras.layers import Bidirectional, TimeDistributed\n",
    "\n",
    "# 학습\n",
    "from tensorflow.keras.callbacks import EarlyStopping\n",
    "early_stopping = EarlyStopping(patience = 3) # 조기종료 콜백함수 정의\n",
    "\n",
    "xInput = layers.Input(batch_shape=(None,right_idx, 256)) \n",
    "xBiLstm = layers.Bidirectional(layers.LSTM(72, return_sequences=True, stateful=False), merge_mode = 'concat')(xInput)\n",
    "xOutput = layers.TimeDistributed(layers.Dense(1, activation ='sigmoid'))(xBiLstm) # 각 스텝에서 cost가 전송되고, 오류가 다음 step으로 전송됨."
   ]
  },
  {
   "cell_type": "markdown",
   "metadata": {},
   "source": [
    "## (8) 학습 - 10 KFold"
   ]
  },
  {
   "cell_type": "code",
   "execution_count": 12,
   "metadata": {
    "scrolled": false
   },
   "outputs": [
    {
     "name": "stdout",
     "output_type": "stream",
     "text": [
      "Model: \"model\"\n",
      "_________________________________________________________________\n",
      "Layer (type)                 Output Shape              Param #   \n",
      "=================================================================\n",
      "input_1 (InputLayer)         [(None, 48, 256)]         0         \n",
      "_________________________________________________________________\n",
      "bidirectional (Bidirectional (None, 48, 144)           189504    \n",
      "_________________________________________________________________\n",
      "time_distributed (TimeDistri (None, 48, 1)             145       \n",
      "=================================================================\n",
      "Total params: 189,649\n",
      "Trainable params: 189,649\n",
      "Non-trainable params: 0\n",
      "_________________________________________________________________\n",
      "======Training stage======\n",
      "Train on 90424 samples\n",
      "Epoch 1/10\n",
      "90400/90424 [============================>.] - ETA: 0s - loss: 0.0041 - accuracy: 0.9990 ETA: 0s - loss: 0WARNING:tensorflow:Early stopping conditioned on metric `val_loss` which is not available. Available metrics are: loss,accuracy\n",
      "90424/90424 [==============================] - 119s 1ms/sample - loss: 0.0041 - accuracy: 0.9990\n",
      "Epoch 2/10\n",
      "90400/90424 [============================>.] - ETA: 0s - loss: 3.0120e-04 - accuracy: 0.9999WARNING:tensorflow:Early stopping conditioned on metric `val_loss` which is not available. Available metrics are: loss,accuracy\n",
      "90424/90424 [==============================] - 163s 2ms/sample - loss: 3.0112e-04 - accuracy: 0.9999\n",
      "Epoch 3/10\n",
      "90400/90424 [============================>.] - ETA: 0s - loss: 2.2219e-04 - accuracy: 0.9999WARNING:tensorflow:Early stopping conditioned on metric `val_loss` which is not available. Available metrics are: loss,accuracy\n",
      "90424/90424 [==============================] - 304s 3ms/sample - loss: 2.2214e-04 - accuracy: 0.9999\n",
      "Epoch 4/10\n",
      "90400/90424 [============================>.] - ETA: 0s - loss: 1.9011e-04 - accuracy: 0.9999WARNING:tensorflow:Early stopping conditioned on metric `val_loss` which is not available. Available metrics are: loss,accuracy\n",
      "90424/90424 [==============================] - 317s 4ms/sample - loss: 1.9006e-04 - accuracy: 0.9999\n",
      "Epoch 5/10\n",
      "90400/90424 [============================>.] - ETA: 0s - loss: 1.6689e-04 - accuracy: 1.0000WARNING:tensorflow:Early stopping conditioned on metric `val_loss` which is not available. Available metrics are: loss,accuracy\n",
      "90424/90424 [==============================] - 327s 4ms/sample - loss: 1.6685e-04 - accuracy: 1.0000\n",
      "Epoch 6/10\n",
      "90400/90424 [============================>.] - ETA: 0s - loss: 1.5345e-04 - accuracy: 1.0000WARNING:tensorflow:Early stopping conditioned on metric `val_loss` which is not available. Available metrics are: loss,accuracy\n",
      "90424/90424 [==============================] - 349s 4ms/sample - loss: 1.5401e-04 - accuracy: 1.0000\n",
      "Epoch 7/10\n",
      "90400/90424 [============================>.] - ETA: 0s - loss: 1.4000e-04 - accuracy: 1.0000WARNING:tensorflow:Early stopping conditioned on metric `val_loss` which is not available. Available metrics are: loss,accuracy\n",
      "90424/90424 [==============================] - 354s 4ms/sample - loss: 1.3996e-04 - accuracy: 1.0000\n",
      "Epoch 8/10\n",
      "90400/90424 [============================>.] - ETA: 0s - loss: 1.2653e-04 - accuracy: 1.0000WARNING:tensorflow:Early stopping conditioned on metric `val_loss` which is not available. Available metrics are: loss,accuracy\n",
      "90424/90424 [==============================] - 351s 4ms/sample - loss: 1.2650e-04 - accuracy: 1.0000\n",
      "Epoch 9/10\n",
      "90400/90424 [============================>.] - ETA: 0s - loss: 1.1940e-04 - accuracy: 1.0000WARNING:tensorflow:Early stopping conditioned on metric `val_loss` which is not available. Available metrics are: loss,accuracy\n",
      "90424/90424 [==============================] - 339s 4ms/sample - loss: 1.1937e-04 - accuracy: 1.0000\n",
      "Epoch 10/10\n",
      "90400/90424 [============================>.] - ETA: 0s - loss: 1.1066e-04 - accuracy: 1.0000 ETA: 2s - loss: 1.1WARNING:tensorflow:Early stopping conditioned on metric `val_loss` which is not available. Available metrics are: loss,accuracy\n",
      "90424/90424 [==============================] - 221s 2ms/sample - loss: 1.1063e-04 - accuracy: 1.0000\n"
     ]
    },
    {
     "data": {
      "text/plain": [
       "<tensorflow.python.keras.callbacks.History at 0x1ed1bed0848>"
      ]
     },
     "execution_count": 12,
     "metadata": {},
     "output_type": "execute_result"
    },
    {
     "name": "stdout",
     "output_type": "stream",
     "text": [
      "accuracy_score 0.9999440187101911\n",
      "recall_score 0.9974097211641018\n",
      "precision_score 0.9984746796827334\n",
      "f1_score 0.9979419163045964\n",
      "Model: \"model_1\"\n",
      "_________________________________________________________________\n",
      "Layer (type)                 Output Shape              Param #   \n",
      "=================================================================\n",
      "input_1 (InputLayer)         [(None, 48, 256)]         0         \n",
      "_________________________________________________________________\n",
      "bidirectional (Bidirectional (None, 48, 144)           189504    \n",
      "_________________________________________________________________\n",
      "time_distributed (TimeDistri (None, 48, 1)             145       \n",
      "=================================================================\n",
      "Total params: 189,649\n",
      "Trainable params: 189,649\n",
      "Non-trainable params: 0\n",
      "_________________________________________________________________\n",
      "======Training stage======\n",
      "Train on 90424 samples\n",
      "Epoch 1/10\n",
      "90400/90424 [============================>.] - ETA: 0s - loss: 1.2314e-04 - accuracy: 1.0000WARNING:tensorflow:Early stopping conditioned on metric `val_loss` which is not available. Available metrics are: loss,accuracy\n",
      "90424/90424 [==============================] - 416s 5ms/sample - loss: 1.2311e-04 - accuracy: 1.0000\n",
      "Epoch 2/10\n",
      "90400/90424 [============================>.] - ETA: 0s - loss: 1.0963e-04 - accuracy: 1.0000WARNING:tensorflow:Early stopping conditioned on metric `val_loss` which is not available. Available metrics are: loss,accuracy\n",
      "90424/90424 [==============================] - 329s 4ms/sample - loss: 1.0960e-04 - accuracy: 1.0000\n",
      "Epoch 3/10\n",
      "90400/90424 [============================>.] - ETA: 0s - loss: 1.0100e-04 - accuracy: 1.0000WARNING:tensorflow:Early stopping conditioned on metric `val_loss` which is not available. Available metrics are: loss,accuracy\n",
      "90424/90424 [==============================] - 350s 4ms/sample - loss: 1.0098e-04 - accuracy: 1.0000\n",
      "Epoch 4/10\n",
      "90400/90424 [============================>.] - ETA: 0s - loss: 8.7395e-05 - accuracy: 1.0000WARNING:tensorflow:Early stopping conditioned on metric `val_loss` which is not available. Available metrics are: loss,accuracy\n",
      "90424/90424 [==============================] - 340s 4ms/sample - loss: 8.7372e-05 - accuracy: 1.0000\n",
      "Epoch 5/10\n",
      "90400/90424 [============================>.] - ETA: 0s - loss: 8.4548e-05 - accuracy: 1.0000WARNING:tensorflow:Early stopping conditioned on metric `val_loss` which is not available. Available metrics are: loss,accuracy\n",
      "90424/90424 [==============================] - 343s 4ms/sample - loss: 8.4526e-05 - accuracy: 1.0000\n",
      "Epoch 6/10\n",
      "90400/90424 [============================>.] - ETA: 0s - loss: 7.6872e-05 - accuracy: 1.0000WARNING:tensorflow:Early stopping conditioned on metric `val_loss` which is not available. Available metrics are: loss,accuracy\n",
      "90424/90424 [==============================] - 337s 4ms/sample - loss: 7.6851e-05 - accuracy: 1.0000\n",
      "Epoch 7/10\n",
      "90400/90424 [============================>.] - ETA: 0s - loss: 7.0781e-05 - accuracy: 1.0000WARNING:tensorflow:Early stopping conditioned on metric `val_loss` which is not available. Available metrics are: loss,accuracy\n",
      "90424/90424 [==============================] - 273s 3ms/sample - loss: 7.0762e-05 - accuracy: 1.0000\n",
      "Epoch 8/10\n",
      "90400/90424 [============================>.] - ETA: 0s - loss: 6.4977e-05 - accuracy: 1.0000WARNING:tensorflow:Early stopping conditioned on metric `val_loss` which is not available. Available metrics are: loss,accuracy\n",
      "90424/90424 [==============================] - 283s 3ms/sample - loss: 6.4961e-05 - accuracy: 1.0000\n",
      "Epoch 9/10\n",
      "90400/90424 [============================>.] - ETA: 0s - loss: 6.9522e-05 - accuracy: 1.0000WARNING:tensorflow:Early stopping conditioned on metric `val_loss` which is not available. Available metrics are: loss,accuracy\n",
      "90424/90424 [==============================] - 331s 4ms/sample - loss: 6.9504e-05 - accuracy: 1.0000\n",
      "Epoch 10/10\n",
      "90400/90424 [============================>.] - ETA: 0s - loss: 4.7834e-05 - accuracy: 1.0000WARNING:tensorflow:Early stopping conditioned on metric `val_loss` which is not available. Available metrics are: loss,accuracy\n",
      "90424/90424 [==============================] - 348s 4ms/sample - loss: 4.7821e-05 - accuracy: 1.0000\n"
     ]
    },
    {
     "data": {
      "text/plain": [
       "<tensorflow.python.keras.callbacks.History at 0x1ed25184388>"
      ]
     },
     "execution_count": 12,
     "metadata": {},
     "output_type": "execute_result"
    },
    {
     "name": "stdout",
     "output_type": "stream",
     "text": [
      "accuracy_score 0.9999834129511678\n",
      "recall_score 0.9998493749058593\n",
      "precision_score 0.9989465763732129\n",
      "f1_score 0.9993977717554954\n",
      "Model: \"model_2\"\n",
      "_________________________________________________________________\n",
      "Layer (type)                 Output Shape              Param #   \n",
      "=================================================================\n",
      "input_1 (InputLayer)         [(None, 48, 256)]         0         \n",
      "_________________________________________________________________\n",
      "bidirectional (Bidirectional (None, 48, 144)           189504    \n",
      "_________________________________________________________________\n",
      "time_distributed (TimeDistri (None, 48, 1)             145       \n",
      "=================================================================\n",
      "Total params: 189,649\n",
      "Trainable params: 189,649\n",
      "Non-trainable params: 0\n",
      "_________________________________________________________________\n",
      "======Training stage======\n",
      "Train on 90425 samples\n",
      "Epoch 1/10\n",
      "90400/90425 [============================>.] - ETA: 0s - loss: 5.9590e-05 - accuracy: 1.0000WARNING:tensorflow:Early stopping conditioned on metric `val_loss` which is not available. Available metrics are: loss,accuracy\n",
      "90425/90425 [==============================] - 365s 4ms/sample - loss: 5.9574e-05 - accuracy: 1.0000\n",
      "Epoch 2/10\n",
      "90400/90425 [============================>.] - ETA: 0s - loss: 5.1141e-05 - accuracy: 1.0000WARNING:tensorflow:Early stopping conditioned on metric `val_loss` which is not available. Available metrics are: loss,accuracy\n",
      "90425/90425 [==============================] - 332s 4ms/sample - loss: 5.1127e-05 - accuracy: 1.0000\n",
      "Epoch 3/10\n",
      "90400/90425 [============================>.] - ETA: 0s - loss: 3.8983e-05 - accuracy: 1.0000WARNING:tensorflow:Early stopping conditioned on metric `val_loss` which is not available. Available metrics are: loss,accuracy\n",
      "90425/90425 [==============================] - 303s 3ms/sample - loss: 3.8972e-05 - accuracy: 1.0000\n",
      "Epoch 4/10\n",
      "90400/90425 [============================>.] - ETA: 0s - loss: 4.3546e-05 - accuracy: 1.0000WARNING:tensorflow:Early stopping conditioned on metric `val_loss` which is not available. Available metrics are: loss,accuracy\n",
      "90425/90425 [==============================] - 229s 3ms/sample - loss: 4.3534e-05 - accuracy: 1.0000\n",
      "Epoch 5/10\n",
      "90400/90425 [============================>.] - ETA: 0s - loss: 2.8954e-05 - accuracy: 1.0000WARNING:tensorflow:Early stopping conditioned on metric `val_loss` which is not available. Available metrics are: loss,accuracy\n",
      "90425/90425 [==============================] - 336s 4ms/sample - loss: 2.8946e-05 - accuracy: 1.0000\n",
      "Epoch 6/10\n",
      "90400/90425 [============================>.] - ETA: 0s - loss: 3.0437e-05 - accuracy: 1.0000WARNING:tensorflow:Early stopping conditioned on metric `val_loss` which is not available. Available metrics are: loss,accuracy\n",
      "90425/90425 [==============================] - 328s 4ms/sample - loss: 3.0429e-05 - accuracy: 1.0000\n",
      "Epoch 7/10\n",
      "90400/90425 [============================>.] - ETA: 0s - loss: 4.0498e-05 - accuracy: 1.0000WARNING:tensorflow:Early stopping conditioned on metric `val_loss` which is not available. Available metrics are: loss,accuracy\n",
      "90425/90425 [==============================] - 339s 4ms/sample - loss: 4.0486e-05 - accuracy: 1.0000\n",
      "Epoch 8/10\n",
      "90400/90425 [============================>.] - ETA: 0s - loss: 2.8107e-05 - accuracy: 1.0000WARNING:tensorflow:Early stopping conditioned on metric `val_loss` which is not available. Available metrics are: loss,accuracy\n",
      "90425/90425 [==============================] - 339s 4ms/sample - loss: 2.8099e-05 - accuracy: 1.0000\n",
      "Epoch 9/10\n",
      "90400/90425 [============================>.] - ETA: 0s - loss: 2.3024e-05 - accuracy: 1.0000WARNING:tensorflow:Early stopping conditioned on metric `val_loss` which is not available. Available metrics are: loss,accuracy\n",
      "90425/90425 [==============================] - 333s 4ms/sample - loss: 2.3018e-05 - accuracy: 1.0000\n",
      "Epoch 10/10\n",
      "90400/90425 [============================>.] - ETA: 0s - loss: 1.5234e-05 - accuracy: 1.0000WARNING:tensorflow:Early stopping conditioned on metric `val_loss` which is not available. Available metrics are: loss,accuracy\n",
      "90425/90425 [==============================] - 339s 4ms/sample - loss: 1.5230e-05 - accuracy: 1.0000\n"
     ]
    },
    {
     "data": {
      "text/plain": [
       "<tensorflow.python.keras.callbacks.History at 0x1ed1a3645c8>"
      ]
     },
     "execution_count": 12,
     "metadata": {},
     "output_type": "execute_result"
    },
    {
     "name": "stdout",
     "output_type": "stream",
     "text": [
      "accuracy_score 0.9999854848876945\n",
      "recall_score 0.9998494429388738\n",
      "precision_score 0.9990973371445765\n",
      "f1_score 0.9994732485514334\n",
      "Model: \"model_3\"\n",
      "_________________________________________________________________\n",
      "Layer (type)                 Output Shape              Param #   \n",
      "=================================================================\n",
      "input_1 (InputLayer)         [(None, 48, 256)]         0         \n",
      "_________________________________________________________________\n",
      "bidirectional (Bidirectional (None, 48, 144)           189504    \n",
      "_________________________________________________________________\n",
      "time_distributed (TimeDistri (None, 48, 1)             145       \n",
      "=================================================================\n",
      "Total params: 189,649\n",
      "Trainable params: 189,649\n",
      "Non-trainable params: 0\n",
      "_________________________________________________________________\n",
      "======Training stage======\n",
      "Train on 90425 samples\n",
      "Epoch 1/10\n",
      "90400/90425 [============================>.] - ETA: 0s - loss: 4.7219e-05 - accuracy: 1.0000WARNING:tensorflow:Early stopping conditioned on metric `val_loss` which is not available. Available metrics are: loss,accuracy\n",
      "90425/90425 [==============================] - 332s 4ms/sample - loss: 4.7206e-05 - accuracy: 1.0000\n",
      "Epoch 2/10\n",
      "90400/90425 [============================>.] - ETA: 0s - loss: 2.7401e-05 - accuracy: 1.0000WARNING:tensorflow:Early stopping conditioned on metric `val_loss` which is not available. Available metrics are: loss,accuracy\n",
      "90425/90425 [==============================] - 307s 3ms/sample - loss: 2.7394e-05 - accuracy: 1.0000\n",
      "Epoch 3/10\n",
      "90400/90425 [============================>.] - ETA: 0s - loss: 2.0723e-05 - accuracy: 1.0000 E - ETA: 0s - loss: 2.0775e-05 - acWARNING:tensorflow:Early stopping conditioned on metric `val_loss` which is not available. Available metrics are: loss,accuracy\n",
      "90425/90425 [==============================] - 263s 3ms/sample - loss: 2.0717e-05 - accuracy: 1.0000\n",
      "Epoch 4/10\n",
      "90400/90425 [============================>.] - ETA: 0s - loss: 1.8475e-05 - accuracy: 1.0000WARNING:tensorflow:Early stopping conditioned on metric `val_loss` which is not available. Available metrics are: loss,accuracy\n",
      "90425/90425 [==============================] - 240s 3ms/sample - loss: 1.8471e-05 - accuracy: 1.0000\n",
      "Epoch 5/10\n",
      "90400/90425 [============================>.] - ETA: 0s - loss: 1.7269e-05 - accuracy: 1.0000 ETA - ETA: 0s - loss: 1.7287e-05 - accuracy: WARNING:tensorflow:Early stopping conditioned on metric `val_loss` which is not available. Available metrics are: loss,accuracy\n",
      "90425/90425 [==============================] - 258s 3ms/sample - loss: 1.7264e-05 - accuracy: 1.0000\n",
      "Epoch 6/10\n",
      "90400/90425 [============================>.] - ETA: 0s - loss: 1.5917e-05 - accuracy: 1.0000WARNING:tensorflow:Early stopping conditioned on metric `val_loss` which is not available. Available metrics are: loss,accuracy\n",
      "90425/90425 [==============================] - 259s 3ms/sample - loss: 1.5913e-05 - accuracy: 1.0000\n",
      "Epoch 7/10\n",
      "90400/90425 [============================>.] - ETA: 0s - loss: 7.8058e-06 - accuracy: 1.0000WARNING:tensorflow:Early stopping conditioned on metric `val_loss` which is not available. Available metrics are: loss,accuracy\n",
      "90425/90425 [==============================] - 222s 2ms/sample - loss: 7.8036e-06 - accuracy: 1.0000\n",
      "Epoch 8/10\n",
      "90400/90425 [============================>.] - ETA: 0s - loss: 6.4482e-06 - accuracy: 1.0000WARNING:tensorflow:Early stopping conditioned on metric `val_loss` which is not available. Available metrics are: loss,accuracy\n",
      "90425/90425 [==============================] - 185s 2ms/sample - loss: 6.4464e-06 - accuracy: 1.0000\n",
      "Epoch 9/10\n",
      "90400/90425 [============================>.] - ETA: 0s - loss: 2.5812e-06 - accuracy: 1.0000WARNING:tensorflow:Early stopping conditioned on metric `val_loss` which is not available. Available metrics are: loss,accuracy\n",
      "90425/90425 [==============================] - 201s 2ms/sample - loss: 2.5805e-06 - accuracy: 1.0000\n",
      "Epoch 10/10\n",
      "90400/90425 [============================>.] - ETA: 0s - loss: 8.1020e-06 - accuracy: 1.0000WARNING:tensorflow:Early stopping conditioned on metric `val_loss` which is not available. Available metrics are: loss,accuracy\n",
      "90425/90425 [==============================] - 282s 3ms/sample - loss: 8.0997e-06 - accuracy: 1.0000\n"
     ]
    },
    {
     "data": {
      "text/plain": [
       "<tensorflow.python.keras.callbacks.History at 0x1ed8682dd08>"
      ]
     },
     "execution_count": 12,
     "metadata": {},
     "output_type": "execute_result"
    },
    {
     "name": "stdout",
     "output_type": "stream",
     "text": [
      "accuracy_score 0.9999917056501112\n",
      "recall_score 0.9998483929654336\n",
      "precision_score 0.9995453167626553\n",
      "f1_score 0.9996968318932848\n",
      "Model: \"model_4\"\n",
      "_________________________________________________________________\n",
      "Layer (type)                 Output Shape              Param #   \n",
      "=================================================================\n",
      "input_1 (InputLayer)         [(None, 48, 256)]         0         \n",
      "_________________________________________________________________\n",
      "bidirectional (Bidirectional (None, 48, 144)           189504    \n",
      "_________________________________________________________________\n",
      "time_distributed (TimeDistri (None, 48, 1)             145       \n",
      "=================================================================\n",
      "Total params: 189,649\n",
      "Trainable params: 189,649\n",
      "Non-trainable params: 0\n",
      "_________________________________________________________________\n",
      "======Training stage======\n",
      "Train on 90425 samples\n",
      "Epoch 1/10\n",
      "90400/90425 [============================>.] - ETA: 0s - loss: 6.7354e-06 - accuracy: 1.0000WARNING:tensorflow:Early stopping conditioned on metric `val_loss` which is not available. Available metrics are: loss,accuracy\n",
      "90425/90425 [==============================] - 220s 2ms/sample - loss: 6.7787e-06 - accuracy: 1.0000\n",
      "Epoch 2/10\n",
      "90400/90425 [============================>.] - ETA: 0s - loss: 5.5224e-06 - accuracy: 1.0000WARNING:tensorflow:Early stopping conditioned on metric `val_loss` which is not available. Available metrics are: loss,accuracy\n",
      "90425/90425 [==============================] - 211s 2ms/sample - loss: 5.5209e-06 - accuracy: 1.0000\n",
      "Epoch 3/10\n",
      "90400/90425 [============================>.] - ETA: 0s - loss: 1.2228e-06 - accuracy: 1.0000WARNING:tensorflow:Early stopping conditioned on metric `val_loss` which is not available. Available metrics are: loss,accuracy\n",
      "90425/90425 [==============================] - 201s 2ms/sample - loss: 1.2224e-06 - accuracy: 1.0000\n",
      "Epoch 4/10\n",
      "90400/90425 [============================>.] - ETA: 0s - loss: 1.9647e-06 - accuracy: 1.0000 ETA: 1s - losWARNING:tensorflow:Early stopping conditioned on metric `val_loss` which is not available. Available metrics are: loss,accuracy\n",
      "90425/90425 [==============================] - 211s 2ms/sample - loss: 1.9642e-06 - accuracy: 1.0000\n",
      "Epoch 5/10\n",
      "90400/90425 [============================>.] - ETA: 0s - loss: 3.2273e-06 - accuracy: 1.0000WARNING:tensorflow:Early stopping conditioned on metric `val_loss` which is not available. Available metrics are: loss,accuracy\n",
      "90425/90425 [==============================] - 212s 2ms/sample - loss: 3.2264e-06 - accuracy: 1.0000\n",
      "Epoch 6/10\n",
      "90400/90425 [============================>.] - ETA: 0s - loss: 1.6956e-06 - accuracy: 1.0000WARNING:tensorflow:Early stopping conditioned on metric `val_loss` which is not available. Available metrics are: loss,accuracy\n",
      "90425/90425 [==============================] - 213s 2ms/sample - loss: 1.6951e-06 - accuracy: 1.0000\n",
      "Epoch 7/10\n",
      "90400/90425 [============================>.] - ETA: 0s - loss: 7.1171e-09 - accuracy: 1.0000WARNING:tensorflow:Early stopping conditioned on metric `val_loss` which is not available. Available metrics are: loss,accuracy\n",
      "90425/90425 [==============================] - 212s 2ms/sample - loss: 7.1159e-09 - accuracy: 1.0000\n",
      "Epoch 8/10\n",
      "90400/90425 [============================>.] - ETA: 0s - loss: 4.2890e-06 - accuracy: 1.0000WARNING:tensorflow:Early stopping conditioned on metric `val_loss` which is not available. Available metrics are: loss,accuracy\n",
      "90425/90425 [==============================] - 199s 2ms/sample - loss: 4.2878e-06 - accuracy: 1.0000\n",
      "Epoch 9/10\n",
      "90400/90425 [============================>.] - ETA: 0s - loss: 4.1530e-06 - accuracy: 1.0000WARNING:tensorflow:Early stopping conditioned on metric `val_loss` which is not available. Available metrics are: loss,accuracy\n",
      "90425/90425 [==============================] - 212s 2ms/sample - loss: 4.1519e-06 - accuracy: 1.0000\n",
      "Epoch 10/10\n",
      "90400/90425 [============================>.] - ETA: 0s - loss: 1.5536e-07 - accuracy: 1.0000WARNING:tensorflow:Early stopping conditioned on metric `val_loss` which is not available. Available metrics are: loss,accuracy\n",
      "90425/90425 [==============================] - 214s 2ms/sample - loss: 1.5532e-07 - accuracy: 1.0000\n"
     ]
    },
    {
     "data": {
      "text/plain": [
       "<tensorflow.python.keras.callbacks.History at 0x1ed1c033908>"
      ]
     },
     "execution_count": 12,
     "metadata": {},
     "output_type": "execute_result"
    },
    {
     "name": "stdout",
     "output_type": "stream",
     "text": [
      "accuracy_score 1.0\n",
      "recall_score 1.0\n",
      "precision_score 1.0\n",
      "f1_score 1.0\n",
      "Model: \"model_5\"\n",
      "_________________________________________________________________\n",
      "Layer (type)                 Output Shape              Param #   \n",
      "=================================================================\n",
      "input_1 (InputLayer)         [(None, 48, 256)]         0         \n",
      "_________________________________________________________________\n",
      "bidirectional (Bidirectional (None, 48, 144)           189504    \n",
      "_________________________________________________________________\n",
      "time_distributed (TimeDistri (None, 48, 1)             145       \n",
      "=================================================================\n",
      "Total params: 189,649\n",
      "Trainable params: 189,649\n",
      "Non-trainable params: 0\n",
      "_________________________________________________________________\n",
      "======Training stage======\n",
      "Train on 90425 samples\n",
      "Epoch 1/10\n",
      "90400/90425 [============================>.] - ETA: 0s - loss: 2.0367e-07 - accuracy: 1.0000WARNING:tensorflow:Early stopping conditioned on metric `val_loss` which is not available. Available metrics are: loss,accuracy\n",
      "90425/90425 [==============================] - 221s 2ms/sample - loss: 2.0361e-07 - accuracy: 1.0000\n",
      "Epoch 2/10\n",
      "90400/90425 [============================>.] - ETA: 0s - loss: 5.4817e-10 - accuracy: 1.0000WARNING:tensorflow:Early stopping conditioned on metric `val_loss` which is not available. Available metrics are: loss,accuracy\n",
      "90425/90425 [==============================] - 208s 2ms/sample - loss: 5.4802e-10 - accuracy: 1.0000\n",
      "Epoch 3/10\n",
      "90400/90425 [============================>.] - ETA: 0s - loss: 3.8426e-10 - accuracy: 1.0000WARNING:tensorflow:Early stopping conditioned on metric `val_loss` which is not available. Available metrics are: loss,accuracy\n",
      "90425/90425 [==============================] - 208s 2ms/sample - loss: 3.8416e-10 - accuracy: 1.0000\n",
      "Epoch 4/10\n",
      "90400/90425 [============================>.] - ETA: 0s - loss: 3.1851e-10 - accuracy: 1.0000WARNING:tensorflow:Early stopping conditioned on metric `val_loss` which is not available. Available metrics are: loss,accuracy\n",
      "90425/90425 [==============================] - 210s 2ms/sample - loss: 3.1842e-10 - accuracy: 1.0000\n",
      "Epoch 5/10\n",
      "90400/90425 [============================>.] - ETA: 0s - loss: 2.8055e-10 - accuracy: 1.0000WARNING:tensorflow:Early stopping conditioned on metric `val_loss` which is not available. Available metrics are: loss,accuracy\n",
      "90425/90425 [==============================] - 194s 2ms/sample - loss: 2.8047e-10 - accuracy: 1.0000\n",
      "Epoch 6/10\n",
      "90400/90425 [============================>.] - ETA: 0s - loss: 2.5186e-10 - accuracy: 1.0000WARNING:tensorflow:Early stopping conditioned on metric `val_loss` which is not available. Available metrics are: loss,accuracy\n",
      "90425/90425 [==============================] - 173s 2ms/sample - loss: 2.5181e-10 - accuracy: 1.0000\n",
      "Epoch 7/10\n",
      "90400/90425 [============================>.] - ETA: 0s - loss: 2.3458e-10 - accuracy: 1.0000WARNING:tensorflow:Early stopping conditioned on metric `val_loss` which is not available. Available metrics are: loss,accuracy\n",
      "90425/90425 [==============================] - 209s 2ms/sample - loss: 2.3451e-10 - accuracy: 1.0000\n",
      "Epoch 8/10\n",
      "90400/90425 [============================>.] - ETA: 0s - loss: 2.1595e-10 - accuracy: 1.0000WARNING:tensorflow:Early stopping conditioned on metric `val_loss` which is not available. Available metrics are: loss,accuracy\n",
      "90425/90425 [==============================] - 199s 2ms/sample - loss: 2.1589e-10 - accuracy: 1.0000\n",
      "Epoch 9/10\n",
      "90400/90425 [============================>.] - ETA: 0s - loss: 2.0125e-10 - accuracy: 1.0000WARNING:tensorflow:Early stopping conditioned on metric `val_loss` which is not available. Available metrics are: loss,accuracy\n",
      "90425/90425 [==============================] - 210s 2ms/sample - loss: 2.0120e-10 - accuracy: 1.0000\n",
      "Epoch 10/10\n",
      "90400/90425 [============================>.] - ETA: 0s - loss: 1.9055e-10 - accuracy: 1.0000WARNING:tensorflow:Early stopping conditioned on metric `val_loss` which is not available. Available metrics are: loss,accuracy\n",
      "90425/90425 [==============================] - 208s 2ms/sample - loss: 1.9050e-10 - accuracy: 1.0000\n"
     ]
    },
    {
     "data": {
      "text/plain": [
       "<tensorflow.python.keras.callbacks.History at 0x1ed7063ab48>"
      ]
     },
     "execution_count": 12,
     "metadata": {},
     "output_type": "execute_result"
    },
    {
     "name": "stdout",
     "output_type": "stream",
     "text": [
      "accuracy_score 1.0\n",
      "recall_score 1.0\n",
      "precision_score 1.0\n",
      "f1_score 1.0\n",
      "Model: \"model_6\"\n",
      "_________________________________________________________________\n",
      "Layer (type)                 Output Shape              Param #   \n",
      "=================================================================\n",
      "input_1 (InputLayer)         [(None, 48, 256)]         0         \n",
      "_________________________________________________________________\n",
      "bidirectional (Bidirectional (None, 48, 144)           189504    \n",
      "_________________________________________________________________\n",
      "time_distributed (TimeDistri (None, 48, 1)             145       \n",
      "=================================================================\n",
      "Total params: 189,649\n",
      "Trainable params: 189,649\n",
      "Non-trainable params: 0\n",
      "_________________________________________________________________\n",
      "======Training stage======\n",
      "Train on 90425 samples\n",
      "Epoch 1/10\n",
      "90400/90425 [============================>.] - ETA: 0s - loss: 4.0941e-10 - accuracy: 1.0000WARNING:tensorflow:Early stopping conditioned on metric `val_loss` which is not available. Available metrics are: loss,accuracy\n",
      "90425/90425 [==============================] - 238s 3ms/sample - loss: 4.0930e-10 - accuracy: 1.0000\n",
      "Epoch 2/10\n",
      "90400/90425 [============================>.] - ETA: 0s - loss: 1.2538e-09 - accuracy: 1.0000WARNING:tensorflow:Early stopping conditioned on metric `val_loss` which is not available. Available metrics are: loss,accuracy\n",
      "90425/90425 [==============================] - 215s 2ms/sample - loss: 1.2535e-09 - accuracy: 1.0000\n",
      "Epoch 3/10\n",
      "90400/90425 [============================>.] - ETA: 0s - loss: 1.3300e-09 - accuracy: 1.0000WARNING:tensorflow:Early stopping conditioned on metric `val_loss` which is not available. Available metrics are: loss,accuracy\n",
      "90425/90425 [==============================] - 203s 2ms/sample - loss: 1.3296e-09 - accuracy: 1.0000\n",
      "Epoch 4/10\n",
      "90400/90425 [============================>.] - ETA: 0s - loss: 3.0612e-07 - accuracy: 1.0000WARNING:tensorflow:Early stopping conditioned on metric `val_loss` which is not available. Available metrics are: loss,accuracy\n",
      "90425/90425 [==============================] - 213s 2ms/sample - loss: 3.0603e-07 - accuracy: 1.0000\n",
      "Epoch 5/10\n",
      "90400/90425 [============================>.] - ETA: 0s - loss: 9.0117e-10 - accuracy: 1.0000WARNING:tensorflow:Early stopping conditioned on metric `val_loss` which is not available. Available metrics are: loss,accuracy\n",
      "90425/90425 [==============================] - 214s 2ms/sample - loss: 9.0092e-10 - accuracy: 1.0000\n",
      "Epoch 6/10\n",
      "90400/90425 [============================>.] - ETA: 0s - loss: 2.0709e-10 - accuracy: 1.0000WARNING:tensorflow:Early stopping conditioned on metric `val_loss` which is not available. Available metrics are: loss,accuracy\n",
      "90425/90425 [==============================] - 205s 2ms/sample - loss: 2.0707e-10 - accuracy: 1.0000\n",
      "Epoch 7/10\n",
      "90400/90425 [============================>.] - ETA: 0s - loss: 1.7366e-10 - accuracy: 1.0000WARNING:tensorflow:Early stopping conditioned on metric `val_loss` which is not available. Available metrics are: loss,accuracy\n",
      "90425/90425 [==============================] - 215s 2ms/sample - loss: 1.7361e-10 - accuracy: 1.0000\n",
      "Epoch 8/10\n",
      "90400/90425 [============================>.] - ETA: 0s - loss: 1.5942e-10 - accuracy: 1.0000WARNING:tensorflow:Early stopping conditioned on metric `val_loss` which is not available. Available metrics are: loss,accuracy\n",
      "90425/90425 [==============================] - 214s 2ms/sample - loss: 1.5938e-10 - accuracy: 1.0000\n",
      "Epoch 9/10\n",
      "90400/90425 [============================>.] - ETA: 0s - loss: 1.4944e-10 - accuracy: 1.0000WARNING:tensorflow:Early stopping conditioned on metric `val_loss` which is not available. Available metrics are: loss,accuracy\n",
      "90425/90425 [==============================] - 214s 2ms/sample - loss: 1.4940e-10 - accuracy: 1.0000\n",
      "Epoch 10/10\n",
      "90400/90425 [============================>.] - ETA: 0s - loss: 1.4000e-10 - accuracy: 1.0000WARNING:tensorflow:Early stopping conditioned on metric `val_loss` which is not available. Available metrics are: loss,accuracy\n",
      "90425/90425 [==============================] - 204s 2ms/sample - loss: 1.3996e-10 - accuracy: 1.0000\n"
     ]
    },
    {
     "data": {
      "text/plain": [
       "<tensorflow.python.keras.callbacks.History at 0x1ed71cd8388>"
      ]
     },
     "execution_count": 12,
     "metadata": {},
     "output_type": "execute_result"
    },
    {
     "name": "stdout",
     "output_type": "stream",
     "text": [
      "accuracy_score 1.0\n",
      "recall_score 1.0\n",
      "precision_score 1.0\n",
      "f1_score 1.0\n",
      "Model: \"model_7\"\n",
      "_________________________________________________________________\n",
      "Layer (type)                 Output Shape              Param #   \n",
      "=================================================================\n",
      "input_1 (InputLayer)         [(None, 48, 256)]         0         \n",
      "_________________________________________________________________\n",
      "bidirectional (Bidirectional (None, 48, 144)           189504    \n",
      "_________________________________________________________________\n",
      "time_distributed (TimeDistri (None, 48, 1)             145       \n",
      "=================================================================\n",
      "Total params: 189,649\n",
      "Trainable params: 189,649\n",
      "Non-trainable params: 0\n",
      "_________________________________________________________________\n",
      "======Training stage======\n",
      "Train on 90425 samples\n",
      "Epoch 1/10\n",
      "90400/90425 [============================>.] - ETA: 0s - loss: 1.5595e-10 - accuracy: 1.0000WARNING:tensorflow:Early stopping conditioned on metric `val_loss` which is not available. Available metrics are: loss,accuracy\n",
      "90425/90425 [==============================] - 150s 2ms/sample - loss: 1.5591e-10 - accuracy: 1.0000\n",
      "Epoch 2/10\n",
      "90400/90425 [============================>.] - ETA: 0s - loss: 1.3585e-10 - accuracy: 1.0000WARNING:tensorflow:Early stopping conditioned on metric `val_loss` which is not available. Available metrics are: loss,accuracy\n",
      "90425/90425 [==============================] - 145s 2ms/sample - loss: 1.3582e-10 - accuracy: 1.0000\n",
      "Epoch 3/10\n",
      "90400/90425 [============================>.] - ETA: 0s - loss: 1.2823e-10 - accuracy: 1.0000WARNING:tensorflow:Early stopping conditioned on metric `val_loss` which is not available. Available metrics are: loss,accuracy\n",
      "90425/90425 [==============================] - 120s 1ms/sample - loss: 1.2819e-10 - accuracy: 1.0000\n",
      "Epoch 4/10\n",
      "90400/90425 [============================>.] - ETA: 0s - loss: 1.2231e-10 - accuracy: 1.0000WARNING:tensorflow:Early stopping conditioned on metric `val_loss` which is not available. Available metrics are: loss,accuracy\n",
      "90425/90425 [==============================] - 95s 1ms/sample - loss: 1.2227e-10 - accuracy: 1.0000\n",
      "Epoch 5/10\n",
      "90400/90425 [============================>.] - ETA: 0s - loss: 1.1750e-10 - accuracy: 1.0000WARNING:tensorflow:Early stopping conditioned on metric `val_loss` which is not available. Available metrics are: loss,accuracy\n",
      "90425/90425 [==============================] - 94s 1ms/sample - loss: 1.1747e-10 - accuracy: 1.0000\n",
      "Epoch 6/10\n",
      "90400/90425 [============================>.] - ETA: 0s - loss: 1.1191e-10 - accuracy: 1.0000WARNING:tensorflow:Early stopping conditioned on metric `val_loss` which is not available. Available metrics are: loss,accuracy\n",
      "90425/90425 [==============================] - 93s 1ms/sample - loss: 1.1188e-10 - accuracy: 1.0000\n",
      "Epoch 7/10\n",
      "90400/90425 [============================>.] - ETA: 0s - loss: 1.0986e-10 - accuracy: 1.0000WARNING:tensorflow:Early stopping conditioned on metric `val_loss` which is not available. Available metrics are: loss,accuracy\n",
      "90425/90425 [==============================] - 93s 1ms/sample - loss: 1.0983e-10 - accuracy: 1.0000\n",
      "Epoch 8/10\n",
      "90400/90425 [============================>.] - ETA: 0s - loss: 1.0518e-10 - accuracy: 1.0000WARNING:tensorflow:Early stopping conditioned on metric `val_loss` which is not available. Available metrics are: loss,accuracy\n",
      "90425/90425 [==============================] - 93s 1ms/sample - loss: 1.0515e-10 - accuracy: 1.0000\n",
      "Epoch 9/10\n",
      "90400/90425 [============================>.] - ETA: 0s - loss: 1.0201e-10 - accuracy: 1.0000WARNING:tensorflow:Early stopping conditioned on metric `val_loss` which is not available. Available metrics are: loss,accuracy\n",
      "90425/90425 [==============================] - 93s 1ms/sample - loss: 1.0198e-10 - accuracy: 1.0000\n",
      "Epoch 10/10\n",
      "90400/90425 [============================>.] - ETA: 0s - loss: 9.8187e-11 - accuracy: 1.0000WARNING:tensorflow:Early stopping conditioned on metric `val_loss` which is not available. Available metrics are: loss,accuracy\n",
      "90425/90425 [==============================] - 93s 1ms/sample - loss: 9.8229e-11 - accuracy: 1.0000\n"
     ]
    },
    {
     "data": {
      "text/plain": [
       "<tensorflow.python.keras.callbacks.History at 0x1ed263599c8>"
      ]
     },
     "execution_count": 12,
     "metadata": {},
     "output_type": "execute_result"
    },
    {
     "name": "stdout",
     "output_type": "stream",
     "text": [
      "accuracy_score 1.0\n",
      "recall_score 1.0\n",
      "precision_score 1.0\n",
      "f1_score 1.0\n",
      "Model: \"model_8\"\n",
      "_________________________________________________________________\n",
      "Layer (type)                 Output Shape              Param #   \n",
      "=================================================================\n",
      "input_1 (InputLayer)         [(None, 48, 256)]         0         \n",
      "_________________________________________________________________\n",
      "bidirectional (Bidirectional (None, 48, 144)           189504    \n",
      "_________________________________________________________________\n",
      "time_distributed (TimeDistri (None, 48, 1)             145       \n",
      "=================================================================\n",
      "Total params: 189,649\n",
      "Trainable params: 189,649\n",
      "Non-trainable params: 0\n",
      "_________________________________________________________________\n",
      "======Training stage======\n",
      "Train on 90425 samples\n",
      "Epoch 1/10\n",
      "90400/90425 [============================>.] - ETA: 0s - loss: 1.0686e-10 - accuracy: 1.0000WARNING:tensorflow:Early stopping conditioned on metric `val_loss` which is not available. Available metrics are: loss,accuracy\n",
      "90425/90425 [==============================] - 98s 1ms/sample - loss: 1.0683e-10 - accuracy: 1.0000\n",
      "Epoch 2/10\n",
      "90368/90425 [============================>.] - ETA: 0s - loss: 1.0173e-10 - accuracy: 1.0000WARNING:tensorflow:Early stopping conditioned on metric `val_loss` which is not available. Available metrics are: loss,accuracy\n",
      "90425/90425 [==============================] - 96s 1ms/sample - loss: 1.0174e-10 - accuracy: 1.0000\n",
      "Epoch 3/10\n",
      "90400/90425 [============================>.] - ETA: 0s - loss: 9.7872e-11 - accuracy: 1.0000WARNING:tensorflow:Early stopping conditioned on metric `val_loss` which is not available. Available metrics are: loss,accuracy\n",
      "90425/90425 [==============================] - 94s 1ms/sample - loss: 9.7844e-11 - accuracy: 1.0000\n",
      "Epoch 4/10\n",
      "90400/90425 [============================>.] - ETA: 0s - loss: 9.5001e-11 - accuracy: 1.0000WARNING:tensorflow:Early stopping conditioned on metric `val_loss` which is not available. Available metrics are: loss,accuracy\n",
      "90425/90425 [==============================] - 94s 1ms/sample - loss: 9.4974e-11 - accuracy: 1.0000\n",
      "Epoch 5/10\n",
      "90400/90425 [============================>.] - ETA: 0s - loss: 9.2514e-11 - accuracy: 1.0000WARNING:tensorflow:Early stopping conditioned on metric `val_loss` which is not available. Available metrics are: loss,accuracy\n",
      "90425/90425 [==============================] - 94s 1ms/sample - loss: 9.2489e-11 - accuracy: 1.0000\n",
      "Epoch 6/10\n",
      "90400/90425 [============================>.] - ETA: 0s - loss: 8.9630e-11 - accuracy: 1.0000WARNING:tensorflow:Early stopping conditioned on metric `val_loss` which is not available. Available metrics are: loss,accuracy\n",
      "90425/90425 [==============================] - 93s 1ms/sample - loss: 8.9605e-11 - accuracy: 1.0000\n",
      "Epoch 7/10\n",
      "90400/90425 [============================>.] - ETA: 0s - loss: 8.7762e-11 - accuracy: 1.0000WARNING:tensorflow:Early stopping conditioned on metric `val_loss` which is not available. Available metrics are: loss,accuracy\n",
      "90425/90425 [==============================] - 93s 1ms/sample - loss: 8.7737e-11 - accuracy: 1.0000\n",
      "Epoch 8/10\n",
      "90400/90425 [============================>.] - ETA: 0s - loss: 8.5248e-11 - accuracy: 1.0000WARNING:tensorflow:Early stopping conditioned on metric `val_loss` which is not available. Available metrics are: loss,accuracy\n",
      "90425/90425 [==============================] - 94s 1ms/sample - loss: 8.5224e-11 - accuracy: 1.0000\n",
      "Epoch 9/10\n",
      "90400/90425 [============================>.] - ETA: 0s - loss: 8.2803e-11 - accuracy: 1.0000WARNING:tensorflow:Early stopping conditioned on metric `val_loss` which is not available. Available metrics are: loss,accuracy\n",
      "90425/90425 [==============================] - 93s 1ms/sample - loss: 8.2780e-11 - accuracy: 1.0000\n",
      "Epoch 10/10\n",
      "90400/90425 [============================>.] - ETA: 0s - loss: 8.1539e-11 - accuracy: 1.0000WARNING:tensorflow:Early stopping conditioned on metric `val_loss` which is not available. Available metrics are: loss,accuracy\n",
      "90425/90425 [==============================] - 93s 1ms/sample - loss: 8.1516e-11 - accuracy: 1.0000\n"
     ]
    },
    {
     "data": {
      "text/plain": [
       "<tensorflow.python.keras.callbacks.History at 0x1ed775772c8>"
      ]
     },
     "execution_count": 12,
     "metadata": {},
     "output_type": "execute_result"
    },
    {
     "name": "stdout",
     "output_type": "stream",
     "text": [
      "accuracy_score 1.0\n",
      "recall_score 1.0\n",
      "precision_score 1.0\n",
      "f1_score 1.0\n",
      "Model: \"model_9\"\n",
      "_________________________________________________________________\n",
      "Layer (type)                 Output Shape              Param #   \n",
      "=================================================================\n",
      "input_1 (InputLayer)         [(None, 48, 256)]         0         \n",
      "_________________________________________________________________\n",
      "bidirectional (Bidirectional (None, 48, 144)           189504    \n",
      "_________________________________________________________________\n",
      "time_distributed (TimeDistri (None, 48, 1)             145       \n",
      "=================================================================\n",
      "Total params: 189,649\n",
      "Trainable params: 189,649\n",
      "Non-trainable params: 0\n",
      "_________________________________________________________________\n",
      "======Training stage======\n",
      "Train on 90425 samples\n",
      "Epoch 1/10\n",
      "90400/90425 [============================>.] - ETA: 0s - loss: 8.3421e-11 - accuracy: 1.0000WARNING:tensorflow:Early stopping conditioned on metric `val_loss` which is not available. Available metrics are: loss,accuracy\n",
      "90425/90425 [==============================] - 118s 1ms/sample - loss: 8.3466e-11 - accuracy: 1.0000\n",
      "Epoch 2/10\n",
      "90400/90425 [============================>.] - ETA: 0s - loss: 8.0426e-11 - accuracy: 1.0000WARNING:tensorflow:Early stopping conditioned on metric `val_loss` which is not available. Available metrics are: loss,accuracy\n",
      "90425/90425 [==============================] - 108s 1ms/sample - loss: 8.0404e-11 - accuracy: 1.0000\n",
      "Epoch 3/10\n",
      "90400/90425 [============================>.] - ETA: 0s - loss: 7.8503e-11 - accuracy: 1.0000WARNING:tensorflow:Early stopping conditioned on metric `val_loss` which is not available. Available metrics are: loss,accuracy\n",
      "90425/90425 [==============================] - 108s 1ms/sample - loss: 7.8482e-11 - accuracy: 1.0000\n",
      "Epoch 4/10\n",
      "90400/90425 [============================>.] - ETA: 0s - loss: 7.6855e-11 - accuracy: 1.0000WARNING:tensorflow:Early stopping conditioned on metric `val_loss` which is not available. Available metrics are: loss,accuracy\n",
      "90425/90425 [==============================] - 108s 1ms/sample - loss: 7.6834e-11 - accuracy: 1.0000\n",
      "Epoch 5/10\n",
      "90400/90425 [============================>.] - ETA: 0s - loss: 7.5165e-11 - accuracy: 1.0000WARNING:tensorflow:Early stopping conditioned on metric `val_loss` which is not available. Available metrics are: loss,accuracy\n",
      "90425/90425 [==============================] - 108s 1ms/sample - loss: 7.5144e-11 - accuracy: 1.0000\n",
      "Epoch 6/10\n",
      "90400/90425 [============================>.] - ETA: 0s - loss: 7.4163e-11 - accuracy: 1.0000WARNING:tensorflow:Early stopping conditioned on metric `val_loss` which is not available. Available metrics are: loss,accuracy\n",
      "90425/90425 [==============================] - 108s 1ms/sample - loss: 7.4142e-11 - accuracy: 1.0000\n",
      "Epoch 7/10\n",
      "90400/90425 [============================>.] - ETA: 0s - loss: 7.2226e-11 - accuracy: 1.0000WARNING:tensorflow:Early stopping conditioned on metric `val_loss` which is not available. Available metrics are: loss,accuracy\n",
      "90425/90425 [==============================] - 108s 1ms/sample - loss: 7.2219e-11 - accuracy: 1.0000\n",
      "Epoch 8/10\n",
      "90400/90425 [============================>.] - ETA: 0s - loss: 7.0701e-11 - accuracy: 1.0000WARNING:tensorflow:Early stopping conditioned on metric `val_loss` which is not available. Available metrics are: loss,accuracy\n",
      "90425/90425 [==============================] - 108s 1ms/sample - loss: 7.0681e-11 - accuracy: 1.0000\n",
      "Epoch 9/10\n",
      "90400/90425 [============================>.] - ETA: 0s - loss: 6.9767e-11 - accuracy: 1.0000WARNING:tensorflow:Early stopping conditioned on metric `val_loss` which is not available. Available metrics are: loss,accuracy\n",
      "90425/90425 [==============================] - 108s 1ms/sample - loss: 6.9789e-11 - accuracy: 1.0000\n",
      "Epoch 10/10\n",
      "90400/90425 [============================>.] - ETA: 0s - loss: 6.8366e-11 - accuracy: 1.0000WARNING:tensorflow:Early stopping conditioned on metric `val_loss` which is not available. Available metrics are: loss,accuracy\n",
      "90425/90425 [==============================] - 108s 1ms/sample - loss: 6.8347e-11 - accuracy: 1.0000\n"
     ]
    },
    {
     "data": {
      "text/plain": [
       "<tensorflow.python.keras.callbacks.History at 0x1ed777bb908>"
      ]
     },
     "execution_count": 12,
     "metadata": {},
     "output_type": "execute_result"
    },
    {
     "name": "stdout",
     "output_type": "stream",
     "text": [
      "accuracy_score 1.0\n",
      "recall_score 1.0\n",
      "precision_score 1.0\n",
      "f1_score 1.0\n",
      "\n",
      "K-fold cross validation Accuracy: [0.9999440187101911, 0.9999834129511678, 0.9999854848876945, 0.9999917056501112, 1.0, 1.0, 1.0, 1.0, 1.0, 1.0]\n",
      "\n",
      "K-fold cross validation Recall: [0.9974097211641018, 0.9998493749058593, 0.9998494429388738, 0.9998483929654336, 1.0, 1.0, 1.0, 1.0, 1.0, 1.0]\n",
      "\n",
      "K-fold cross validation Precision: [0.9984746796827334, 0.9989465763732129, 0.9990973371445765, 0.9995453167626553, 1.0, 1.0, 1.0, 1.0, 1.0, 1.0]\n",
      "\n",
      "K-fold cross validation F1-Score: [0.9979419163045964, 0.9993977717554954, 0.9994732485514334, 0.9996968318932848, 1.0, 1.0, 1.0, 1.0, 1.0, 1.0]\n"
     ]
    }
   ],
   "source": [
    "# 교차검증 kfold\n",
    "from sklearn.model_selection import KFold\n",
    "\n",
    "# Accuracy, Precision, Recall, F1-Score\n",
    "from sklearn.metrics import accuracy_score, recall_score, precision_score, f1_score\n",
    "\n",
    "# Confusion Matrix, ROC Curve\n",
    "from sklearn.metrics import confusion_matrix, roc_auc_score\n",
    "\n",
    "# 최종 평가지표들 평균용\n",
    "accuracy, recall, precision, f1score, cm = [], [], [], [], []\n",
    "\n",
    "# 11. 교차검증 kfold - k.split - 10회 / K-Fold 객체 생성\n",
    "# kf = KFold(n_splits=10, shuffle=False, random_state=None) # KFold non shuffle 버전\n",
    "kf = KFold(n_splits=10, shuffle=True, random_state=None) # KFold non shuffle 버전\n",
    "\n",
    "for train, validation in kf.split(x_bc8_0, y_bc8_0):\n",
    "    model1 = models.Model(xInput, xOutput)\n",
    "    model1.compile(loss='binary_crossentropy', optimizer='rmsprop', metrics=['accuracy'])\n",
    "    model1.summary()\n",
    "    print('======Training stage======')\n",
    "    model1.fit(x_bc8_0[train],\n",
    "               y_bc8_0[train],\n",
    "               epochs = 10,\n",
    "               batch_size = 32,\n",
    "               callbacks=[early_stopping])\n",
    "    #k_accuracy = '%.4f' %(model1.evaluate(data_10000x[validation], data_10000y[validation])[1])\n",
    "\n",
    "# 12. 교차검증결과 predict - 검증셋들\n",
    "    # predict 값\n",
    "    k_pr = model1.predict(x_bc8_0[validation])\n",
    "    \n",
    "    # 테스트 predict 결과들 비교 (평가지표 보기위함)\n",
    "    pred = np.round(np.array(k_pr).flatten().tolist())\n",
    "    y_test = np.array(y_bc8_0[validation]).flatten().tolist()\n",
    "    \n",
    "# 13. 평가지표들 출력\n",
    "    ## 평가지표들\n",
    "    k_accuracy = float(accuracy_score(y_test, pred))\n",
    "    k_recall =  float(recall_score(y_test, pred))\n",
    "    k_precision = float(precision_score(y_test, pred))\n",
    "    k_f1_score = float(f1_score(y_test, pred))\n",
    "    #k_cm = float(confusion_matrix(y_test, pred))\n",
    "    \n",
    "    print('accuracy_score', k_accuracy)\n",
    "    print('recall_score', k_recall)\n",
    "    print('precision_score', k_precision)\n",
    "    print('f1_score', k_f1_score)\n",
    "    #print('\\nconfusion_matrix\\n', k_cm)\n",
    "\n",
    "    accuracy.append(k_accuracy)\n",
    "    recall.append(k_recall)\n",
    "    precision.append(k_precision)\n",
    "    f1score.append(k_f1_score)\n",
    "    #cm.append(k_cm)\n",
    "#    print('roc_curve 면적', roc_auc_score(y_test, pred))\n",
    "\n",
    "# 최종 결과지표\n",
    "print('\\nK-fold cross validation Accuracy: {}'.format(accuracy))\n",
    "print('\\nK-fold cross validation Recall: {}'.format(recall))\n",
    "print('\\nK-fold cross validation Precision: {}'.format(precision))\n",
    "print('\\nK-fold cross validation F1-Score: {}'.format(f1score))\n",
    "#print('\\nK-fold cross validation ConfusionMatrix: {}'.format(cm))"
   ]
  },
  {
   "cell_type": "markdown",
   "metadata": {},
   "source": [
    "## (9) 평가지표"
   ]
  },
  {
   "cell_type": "code",
   "execution_count": 13,
   "metadata": {},
   "outputs": [
    {
     "name": "stdout",
     "output_type": "stream",
     "text": [
      "10-Fold Cross_validation. Accuracy : 0.9999904622199164\n",
      "10-Fold Cross_validation. Recall : 0.9996956931974268\n",
      "10-Fold Cross_validation. Precision : 0.9996063909963178\n",
      "10-Fold Cross_validation. F1-Score : 0.999650976850481\n"
     ]
    }
   ],
   "source": [
    "print('10-Fold Cross_validation. Accuracy :', np.mean(accuracy))\n",
    "print('10-Fold Cross_validation. Recall :', np.mean(recall))\n",
    "print('10-Fold Cross_validation. Precision :', np.mean(precision))\n",
    "print('10-Fold Cross_validation. F1-Score :', np.mean(f1score))"
   ]
  },
  {
   "cell_type": "code",
   "execution_count": 14,
   "metadata": {},
   "outputs": [
    {
     "name": "stdout",
     "output_type": "stream",
     "text": [
      "save 완료\n"
     ]
    }
   ],
   "source": [
    "model1.save('gcc8_bin_core_s48_h72_o0.h5')\n",
    "print('save 완료')"
   ]
  }
 ],
 "metadata": {
  "kernelspec": {
   "display_name": "Python 3",
   "language": "python",
   "name": "python3"
  },
  "language_info": {
   "codemirror_mode": {
    "name": "ipython",
    "version": 3
   },
   "file_extension": ".py",
   "mimetype": "text/x-python",
   "name": "python",
   "nbconvert_exporter": "python",
   "pygments_lexer": "ipython3",
   "version": "3.7.9"
  }
 },
 "nbformat": 4,
 "nbformat_minor": 4
}
