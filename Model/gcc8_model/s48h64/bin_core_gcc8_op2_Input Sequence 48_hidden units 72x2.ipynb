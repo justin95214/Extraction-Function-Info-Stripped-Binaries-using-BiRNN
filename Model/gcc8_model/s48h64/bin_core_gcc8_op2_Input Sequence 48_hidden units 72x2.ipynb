{
 "cells": [
  {
   "cell_type": "markdown",
   "metadata": {},
   "source": [
    "## RNN 모델 N-Byte 방식 (함수정보 포함 vs 미포함 => 1:1 비율)\n",
    "\n",
    "## (1) 데이터로드"
   ]
  },
  {
   "cell_type": "code",
   "execution_count": 1,
   "metadata": {},
   "outputs": [
    {
     "name": "stdout",
     "output_type": "stream",
     "text": [
      "(28744700, 2)\n",
      "shape - (28744700, 2)\n",
      "reset_index 완료\n",
      "input data shape\n"
     ]
    },
    {
     "data": {
      "text/html": [
       "<div>\n",
       "<style scoped>\n",
       "    .dataframe tbody tr th:only-of-type {\n",
       "        vertical-align: middle;\n",
       "    }\n",
       "\n",
       "    .dataframe tbody tr th {\n",
       "        vertical-align: top;\n",
       "    }\n",
       "\n",
       "    .dataframe thead th {\n",
       "        text-align: right;\n",
       "    }\n",
       "</style>\n",
       "<table border=\"1\" class=\"dataframe\">\n",
       "  <thead>\n",
       "    <tr style=\"text-align: right;\">\n",
       "      <th></th>\n",
       "      <th>bin</th>\n",
       "      <th>label</th>\n",
       "    </tr>\n",
       "  </thead>\n",
       "  <tbody>\n",
       "    <tr>\n",
       "      <th>0</th>\n",
       "      <td>47</td>\n",
       "      <td>0</td>\n",
       "    </tr>\n",
       "    <tr>\n",
       "      <th>1</th>\n",
       "      <td>108</td>\n",
       "      <td>0</td>\n",
       "    </tr>\n",
       "    <tr>\n",
       "      <th>2</th>\n",
       "      <td>105</td>\n",
       "      <td>0</td>\n",
       "    </tr>\n",
       "    <tr>\n",
       "      <th>3</th>\n",
       "      <td>98</td>\n",
       "      <td>0</td>\n",
       "    </tr>\n",
       "    <tr>\n",
       "      <th>4</th>\n",
       "      <td>47</td>\n",
       "      <td>0</td>\n",
       "    </tr>\n",
       "  </tbody>\n",
       "</table>\n",
       "</div>"
      ],
      "text/plain": [
       "   bin  label\n",
       "0   47      0\n",
       "1  108      0\n",
       "2  105      0\n",
       "3   98      0\n",
       "4   47      0"
      ]
     },
     "execution_count": 1,
     "metadata": {},
     "output_type": "execute_result"
    }
   ],
   "source": [
    "# (1) 데이터로드\n",
    "import pandas as pd\n",
    "import numpy as np\n",
    "\n",
    "import warnings\n",
    "warnings.filterwarnings(action='ignore')\n",
    "\n",
    "# 여러개 쳐도 나오게\n",
    "from IPython.core.interactiveshell import InteractiveShell\n",
    "InteractiveShell.ast_node_interactivity = \"all\"\n",
    "\n",
    "# 파일읽기\n",
    "bin8_2 = pd.read_csv(\"../../바이너리_최종데이터_1004/gcc8/o2/o2_bincore8.csv\", index_col=0)\n",
    "print(bin8_2.shape)\n",
    "\n",
    "# reset_index (hex processing 하면서 값이 빠졌으니까 + n_gram 에서 index를 다루기 때문에)\n",
    "bin8_2.reset_index(inplace=True, drop=True)\n",
    "\n",
    "print('shape -', bin8_2.shape)\n",
    "print('reset_index 완료')\n",
    "print('input data shape')\n",
    "bin8_2.head()"
   ]
  },
  {
   "cell_type": "code",
   "execution_count": 2,
   "metadata": {},
   "outputs": [
    {
     "name": "stdout",
     "output_type": "stream",
     "text": [
      "256\n",
      "0    28706035\n",
      "1       38665\n",
      "Name: label, dtype: int64\n"
     ]
    }
   ],
   "source": [
    "# (2-1) 데이터체크 1 - hex(16진수)가 256 label을 가져야 dummies 변환 가능 \n",
    "# 16진수 256개 종류가 있어서 pd.get_dummies 사용 가능.\n",
    "print(len(bin8_2['bin'].unique()))\n",
    "\n",
    "# (2-2) 데이터 체크 2 - 1, 0 비율 ==> 1이 함수의 갯수를 뜻함\n",
    "# 정답 데이터 1, 0 비율 확인  ==> 1이 함수의 갯수를 뜻함\n",
    "print(bin8_2['label'].value_counts())"
   ]
  },
  {
   "cell_type": "markdown",
   "metadata": {},
   "source": [
    "## (3) N Byte씩 자르기"
   ]
  },
  {
   "cell_type": "code",
   "execution_count": 3,
   "metadata": {},
   "outputs": [
    {
     "name": "stdout",
     "output_type": "stream",
     "text": [
      "1855920\n",
      "나머지 0\n",
      "최종 길이 1855920\n",
      "bin8_2 1855920\n"
     ]
    }
   ],
   "source": [
    "idx_bin = bin8_2[bin8_2['label']==1].index  # 407, 474 ...\n",
    "ls_bin = list(idx_bin)\n",
    "\n",
    "# 최종 뽑을 행에 대한 index\n",
    "ls_idx_bin = []\n",
    "\n",
    "# n byte 자르기 방식\n",
    "left_idx, right_idx = 0, 48 # 3개씩\n",
    "\n",
    "# n byte 자르기\n",
    "for k in range(left_idx, right_idx):\n",
    "    ls_idx_bin.extend(list(idx_bin + k)) # index 형이라서 가능\n",
    "\n",
    "#ls_idx = list(set(ls_idx)) \n",
    "ls_idx_bin.sort() # 인덱스 정렬\n",
    "\n",
    "# 1차 index 해당범위 초과한 것들 없애기\n",
    "ls_idx_bin = list(filter(lambda x: x<len(bin8_2), ls_idx_bin))\n",
    "print(len(ls_idx_bin))\n",
    "\n",
    "# 2차 남은 index들 중 right_idx 나눈 나머지 없애기\n",
    "sub_bin = len(ls_idx_bin)%(right_idx)\n",
    "print('나머지', sub_bin)\n",
    "\n",
    "ls_idx_bin = ls_idx_bin[:len(ls_idx_bin)-sub_bin]\n",
    "print('최종 길이', len(ls_idx_bin))\n",
    "\n",
    "print('bin8_2', len(ls_idx_bin))\n",
    "\n",
    "# loc 로 수정필요\n",
    "bin8_2_Ngram = bin8_2.loc[ls_idx_bin,:].copy()"
   ]
  },
  {
   "cell_type": "markdown",
   "metadata": {},
   "source": [
    "## (4) false data 만들기"
   ]
  },
  {
   "cell_type": "code",
   "execution_count": 4,
   "metadata": {},
   "outputs": [
    {
     "name": "stdout",
     "output_type": "stream",
     "text": [
      "38665.0\n",
      "0 13793197\n",
      "1000 1060345\n",
      "2000 1864612\n",
      "3000 3591632\n",
      "4000 25825130\n",
      "5000 5844308\n",
      "6000 992060\n",
      "7000 24593482\n",
      "8000 8296582\n",
      "9000 27463154\n",
      "10000 1523782\n",
      "11000 8222693\n",
      "12000 7910629\n",
      "13000 12668560\n",
      "14000 6287238\n",
      "15000 9184971\n",
      "16000 5126213\n",
      "17000 18385212\n",
      "18000 15451641\n",
      "19000 9876971\n",
      "20000 21132335\n",
      "21000 8481171\n",
      "22000 4896450\n",
      "23000 27305066\n",
      "24000 8213176\n",
      "25000 26675067\n",
      "26000 18912771\n",
      "27000 21762624\n",
      "28000 11426954\n",
      "29000 19986866\n",
      "30000 19073077\n",
      "31000 9590944\n",
      "32000 994096\n",
      "33000 8518540\n",
      "34000 955948\n",
      "35000 20908302\n",
      "36000 12330794\n",
      "37000 27453087\n",
      "38000 7756098\n",
      "완료\n",
      "38665\n"
     ]
    }
   ],
   "source": [
    "# false data 만들기 - False 데이터 랜덤 생성\n",
    "\n",
    "# 목표치\n",
    "goal_bin = len(bin8_2_Ngram)/right_idx\n",
    "count_bin = 0\n",
    "\n",
    "print(goal_bin)\n",
    "\n",
    "# 최종 데이터 Frame\n",
    "d_bin = pd.DataFrame(columns = bin8_2.columns)\n",
    "\n",
    "binutils_df = []\n",
    "# goal 에 도달할 때까지\n",
    "while True:\n",
    "    if (count_bin == goal_bin):\n",
    "            break\n",
    "    # 진행상황 살펴보기 위함\n",
    "            \n",
    "    # 랜덤 N 바이트씩 뽑음\n",
    "    # random index\n",
    "    random_idx_bin = np.random.randint(len(bin8_2)-right_idx)\n",
    "\n",
    "    if count_bin % 1000==0:\n",
    "        print(count_bin, end=' ')\n",
    "        print(random_idx_bin)\n",
    "\n",
    "    df_bin = bin8_2[random_idx_bin : random_idx_bin + right_idx]\n",
    "    \n",
    "    # 뽑은 index의 N 바이트 중에 1이 없는 경우만\n",
    "    if 1 not in df_bin['label'] and count_bin < goal_bin:\n",
    "        binutils_df.append(df_bin)\n",
    "        count_bin+=1\n",
    "\n",
    "print('완료')\n",
    "print(len(binutils_df))"
   ]
  },
  {
   "cell_type": "code",
   "execution_count": 5,
   "metadata": {},
   "outputs": [
    {
     "name": "stdout",
     "output_type": "stream",
     "text": [
      "38665\n",
      "38665\n"
     ]
    }
   ],
   "source": [
    "# True data와 False Data 같은지 체크\n",
    "print(len(binutils_df))\n",
    "print(bin8_2['label'].value_counts()[1])"
   ]
  },
  {
   "cell_type": "markdown",
   "metadata": {},
   "source": [
    "## (5) False Data + True Data 합치기"
   ]
  },
  {
   "cell_type": "code",
   "execution_count": 6,
   "metadata": {},
   "outputs": [
    {
     "data": {
      "text/plain": [
       "(3711840, 2)"
      ]
     },
     "execution_count": 6,
     "metadata": {},
     "output_type": "execute_result"
    }
   ],
   "source": [
    "f_data = pd.concat(binutils_df)\n",
    "final = pd.concat([f_data, bin8_2_Ngram])\n",
    "final.shape"
   ]
  },
  {
   "cell_type": "markdown",
   "metadata": {},
   "source": [
    "## (6) one hot encoding"
   ]
  },
  {
   "cell_type": "code",
   "execution_count": 7,
   "metadata": {},
   "outputs": [
    {
     "name": "stdout",
     "output_type": "stream",
     "text": [
      "원핫인코딩완료\n",
      "(3711840, 257)\n"
     ]
    }
   ],
   "source": [
    "# 훈련데이터 (gcc 최적화버전 0, 1, 2, 3 one hot encoding)\n",
    "bc8_2_onehot_Ngram = pd.get_dummies(final['bin'])\n",
    "bc8_2_onehot_Ngram = pd.concat([final['label'], bc8_2_onehot_Ngram], axis=1)\n",
    "\n",
    "print('원핫인코딩완료')\n",
    "print(bc8_2_onehot_Ngram.shape)"
   ]
  },
  {
   "cell_type": "code",
   "execution_count": 8,
   "metadata": {},
   "outputs": [
    {
     "name": "stdout",
     "output_type": "stream",
     "text": [
      "(3711840, 256) (3711840, 256)\n",
      "(77330, 48, 256) (77330, 48, 1)\n"
     ]
    }
   ],
   "source": [
    "# 훈련 데이터, 훈련 라벨\n",
    "x_bc8_2 = bc8_2_onehot_Ngram.iloc[:,1:].to_numpy()\n",
    "y_bc8_2 = bc8_2_onehot_Ngram['label'].to_numpy()\n",
    "print(x_bc8_2.shape, x_bc8_2.shape)\n",
    "\n",
    "x_bc8_2 = x_bc8_2.reshape(-1, right_idx, x_bc8_2.shape[1])\n",
    "y_bc8_2 = y_bc8_2.reshape(-1, right_idx, 1)\n",
    "\n",
    "print(x_bc8_2.shape, y_bc8_2.shape)"
   ]
  },
  {
   "cell_type": "code",
   "execution_count": 9,
   "metadata": {},
   "outputs": [
    {
     "name": "stdout",
     "output_type": "stream",
     "text": [
      "(77330, 48, 256) (77330, 48, 1)\n"
     ]
    }
   ],
   "source": [
    "# numpy 행, 열 섞기\n",
    "p = np.random.permutation(x_bc8_2.shape[0])\n",
    "\n",
    "x_bc8_2 = x_bc8_2[p]\n",
    "y_bc8_2 = y_bc8_2[p]\n",
    "\n",
    "print(x_bc8_2.shape, y_bc8_2.shape)"
   ]
  },
  {
   "cell_type": "markdown",
   "metadata": {},
   "source": [
    "## (7) 모델"
   ]
  },
  {
   "cell_type": "code",
   "execution_count": 10,
   "metadata": {},
   "outputs": [],
   "source": [
    "# (10) 양방향 LSTM 모델링 작업\n",
    "from tensorflow.keras import layers, models\n",
    "#from tf.keras.models import Model, Sequential\n",
    "#from tf.keras.layers import SimpleRNN, Input, Dense, LSTM\n",
    "#from tf.keras.layers import Bidirectional, TimeDistributed\n",
    "\n",
    "# 학습\n",
    "from tensorflow.keras.callbacks import EarlyStopping\n",
    "early_stopping = EarlyStopping(patience = 3) # 조기종료 콜백함수 정의\n",
    "\n",
    "xInput = layers.Input(batch_shape=(None,right_idx, 256)) \n",
    "xBiLstm = layers.Bidirectional(layers.LSTM(72, return_sequences=True, stateful=False), merge_mode = 'concat')(xInput)\n",
    "xOutput = layers.TimeDistributed(layers.Dense(1, activation ='sigmoid'))(xBiLstm) # 각 스텝에서 cost가 전송되고, 오류가 다음 step으로 전송됨."
   ]
  },
  {
   "cell_type": "markdown",
   "metadata": {},
   "source": [
    "## (8) 학습 - 10 KFold"
   ]
  },
  {
   "cell_type": "code",
   "execution_count": 11,
   "metadata": {
    "scrolled": false
   },
   "outputs": [
    {
     "name": "stdout",
     "output_type": "stream",
     "text": [
      "Model: \"model\"\n",
      "_________________________________________________________________\n",
      "Layer (type)                 Output Shape              Param #   \n",
      "=================================================================\n",
      "input_1 (InputLayer)         [(None, 48, 256)]         0         \n",
      "_________________________________________________________________\n",
      "bidirectional (Bidirectional (None, 48, 144)           189504    \n",
      "_________________________________________________________________\n",
      "time_distributed (TimeDistri (None, 48, 1)             145       \n",
      "=================================================================\n",
      "Total params: 189,649\n",
      "Trainable params: 189,649\n",
      "Non-trainable params: 0\n",
      "_________________________________________________________________\n",
      "======Training stage======\n",
      "Train on 69597 samples\n",
      "Epoch 1/10\n",
      "69568/69597 [============================>.] - ETA: 0s - loss: 0.0112 - accuracy: 0.9969WARNING:tensorflow:Early stopping conditioned on metric `val_loss` which is not available. Available metrics are: loss,accuracy\n",
      "69597/69597 [==============================] - 222s 3ms/sample - loss: 0.0112 - accuracy: 0.9969\n",
      "Epoch 2/10\n",
      "69568/69597 [============================>.] - ETA: 0s - loss: 0.0022 - accuracy: 0.9994WARNING:tensorflow:Early stopping conditioned on metric `val_loss` which is not available. Available metrics are: loss,accuracy\n",
      "69597/69597 [==============================] - 237s 3ms/sample - loss: 0.0022 - accuracy: 0.9994\n",
      "Epoch 3/10\n",
      "69568/69597 [============================>.] - ETA: 0s - loss: 0.0015 - accuracy: 0.9996WARNING:tensorflow:Early stopping conditioned on metric `val_loss` which is not available. Available metrics are: loss,accuracy\n",
      "69597/69597 [==============================] - 240s 3ms/sample - loss: 0.0015 - accuracy: 0.9996\n",
      "Epoch 4/10\n",
      "69568/69597 [============================>.] - ETA: 0s - loss: 0.0011 - accuracy: 0.9997WARNING:tensorflow:Early stopping conditioned on metric `val_loss` which is not available. Available metrics are: loss,accuracy\n",
      "69597/69597 [==============================] - 246s 4ms/sample - loss: 0.0011 - accuracy: 0.9997\n",
      "Epoch 5/10\n",
      "69568/69597 [============================>.] - ETA: 0s - loss: 8.5547e-04 - accuracy: 0.9998WARNING:tensorflow:Early stopping conditioned on metric `val_loss` which is not available. Available metrics are: loss,accuracy\n",
      "69597/69597 [==============================] - 264s 4ms/sample - loss: 8.5607e-04 - accuracy: 0.9998\n",
      "Epoch 6/10\n",
      "69568/69597 [============================>.] - ETA: 0s - loss: 7.4409e-04 - accuracy: 0.9998WARNING:tensorflow:Early stopping conditioned on metric `val_loss` which is not available. Available metrics are: loss,accuracy\n",
      "69597/69597 [==============================] - 265s 4ms/sample - loss: 7.4429e-04 - accuracy: 0.9998\n",
      "Epoch 7/10\n",
      "69568/69597 [============================>.] - ETA: 0s - loss: 5.7360e-04 - accuracy: 0.9998WARNING:tensorflow:Early stopping conditioned on metric `val_loss` which is not available. Available metrics are: loss,accuracy\n",
      "69597/69597 [==============================] - 268s 4ms/sample - loss: 5.7341e-04 - accuracy: 0.9998\n",
      "Epoch 8/10\n",
      "69568/69597 [============================>.] - ETA: 0s - loss: 5.0244e-04 - accuracy: 0.9999WARNING:tensorflow:Early stopping conditioned on metric `val_loss` which is not available. Available metrics are: loss,accuracy\n",
      "69597/69597 [==============================] - 268s 4ms/sample - loss: 5.0223e-04 - accuracy: 0.9999\n",
      "Epoch 9/10\n",
      "69568/69597 [============================>.] - ETA: 0s - loss: 4.1373e-04 - accuracy: 0.9999WARNING:tensorflow:Early stopping conditioned on metric `val_loss` which is not available. Available metrics are: loss,accuracy\n",
      "69597/69597 [==============================] - 260s 4ms/sample - loss: 4.1356e-04 - accuracy: 0.9999\n",
      "Epoch 10/10\n",
      "69568/69597 [============================>.] - ETA: 0s - loss: 3.4307e-04 - accuracy: 0.9999WARNING:tensorflow:Early stopping conditioned on metric `val_loss` which is not available. Available metrics are: loss,accuracy\n",
      "69597/69597 [==============================] - 266s 4ms/sample - loss: 3.4298e-04 - accuracy: 0.9999\n"
     ]
    },
    {
     "data": {
      "text/plain": [
       "<tensorflow.python.keras.callbacks.History at 0x23c17f23b88>"
      ]
     },
     "execution_count": 11,
     "metadata": {},
     "output_type": "execute_result"
    },
    {
     "name": "stdout",
     "output_type": "stream",
     "text": [
      "accuracy_score 0.9998652959179275\n",
      "recall_score 0.9952015355086372\n",
      "precision_score 0.9952015355086372\n",
      "f1_score 0.9952015355086372\n",
      "Model: \"model_1\"\n",
      "_________________________________________________________________\n",
      "Layer (type)                 Output Shape              Param #   \n",
      "=================================================================\n",
      "input_1 (InputLayer)         [(None, 48, 256)]         0         \n",
      "_________________________________________________________________\n",
      "bidirectional (Bidirectional (None, 48, 144)           189504    \n",
      "_________________________________________________________________\n",
      "time_distributed (TimeDistri (None, 48, 1)             145       \n",
      "=================================================================\n",
      "Total params: 189,649\n",
      "Trainable params: 189,649\n",
      "Non-trainable params: 0\n",
      "_________________________________________________________________\n",
      "======Training stage======\n",
      "Train on 69597 samples\n",
      "Epoch 1/10\n",
      "69568/69597 [============================>.] - ETA: 0s - loss: 3.2398e-04 - accuracy: 0.9999WARNING:tensorflow:Early stopping conditioned on metric `val_loss` which is not available. Available metrics are: loss,accuracy\n",
      "69597/69597 [==============================] - 223s 3ms/sample - loss: 3.2386e-04 - accuracy: 0.9999\n",
      "Epoch 2/10\n",
      "69568/69597 [============================>.] - ETA: 0s - loss: 2.6959e-04 - accuracy: 0.9999WARNING:tensorflow:Early stopping conditioned on metric `val_loss` which is not available. Available metrics are: loss,accuracy\n",
      "69597/69597 [==============================] - 246s 4ms/sample - loss: 2.6949e-04 - accuracy: 0.9999\n",
      "Epoch 3/10\n",
      "69568/69597 [============================>.] - ETA: 0s - loss: 2.3431e-04 - accuracy: 0.9999WARNING:tensorflow:Early stopping conditioned on metric `val_loss` which is not available. Available metrics are: loss,accuracy\n",
      "69597/69597 [==============================] - 254s 4ms/sample - loss: 2.3422e-04 - accuracy: 0.9999\n",
      "Epoch 4/10\n",
      "69568/69597 [============================>.] - ETA: 0s - loss: 1.9406e-04 - accuracy: 1.0000WARNING:tensorflow:Early stopping conditioned on metric `val_loss` which is not available. Available metrics are: loss,accuracy\n",
      "69597/69597 [==============================] - 252s 4ms/sample - loss: 1.9398e-04 - accuracy: 1.0000\n",
      "Epoch 5/10\n",
      "69568/69597 [============================>.] - ETA: 0s - loss: 1.9480e-04 - accuracy: 0.9999WARNING:tensorflow:Early stopping conditioned on metric `val_loss` which is not available. Available metrics are: loss,accuracy\n",
      "69597/69597 [==============================] - 265s 4ms/sample - loss: 1.9473e-04 - accuracy: 0.9999\n",
      "Epoch 6/10\n",
      "69568/69597 [============================>.] - ETA: 0s - loss: 1.6335e-04 - accuracy: 1.0000WARNING:tensorflow:Early stopping conditioned on metric `val_loss` which is not available. Available metrics are: loss,accuracy\n",
      "69597/69597 [==============================] - 254s 4ms/sample - loss: 1.6328e-04 - accuracy: 1.0000\n",
      "Epoch 7/10\n",
      "69568/69597 [============================>.] - ETA: 0s - loss: 1.2422e-04 - accuracy: 1.0000WARNING:tensorflow:Early stopping conditioned on metric `val_loss` which is not available. Available metrics are: loss,accuracy\n",
      "69597/69597 [==============================] - 264s 4ms/sample - loss: 1.2417e-04 - accuracy: 1.0000\n",
      "Epoch 8/10\n",
      "69568/69597 [============================>.] - ETA: 0s - loss: 1.2666e-04 - accuracy: 1.0000WARNING:tensorflow:Early stopping conditioned on metric `val_loss` which is not available. Available metrics are: loss,accuracy\n",
      "69597/69597 [==============================] - 247s 4ms/sample - loss: 1.2661e-04 - accuracy: 1.0000\n",
      "Epoch 9/10\n",
      "69568/69597 [============================>.] - ETA: 0s - loss: 1.1977e-04 - accuracy: 1.0000WARNING:tensorflow:Early stopping conditioned on metric `val_loss` which is not available. Available metrics are: loss,accuracy\n",
      "69597/69597 [==============================] - 260s 4ms/sample - loss: 1.1972e-04 - accuracy: 1.0000\n",
      "Epoch 10/10\n",
      "69568/69597 [============================>.] - ETA: 0s - loss: 1.0781e-04 - accuracy: 1.0000WARNING:tensorflow:Early stopping conditioned on metric `val_loss` which is not available. Available metrics are: loss,accuracy\n",
      "69597/69597 [==============================] - 242s 3ms/sample - loss: 1.0780e-04 - accuracy: 1.0000\n"
     ]
    },
    {
     "data": {
      "text/plain": [
       "<tensorflow.python.keras.callbacks.History at 0x23c21220948>"
      ]
     },
     "execution_count": 11,
     "metadata": {},
     "output_type": "execute_result"
    },
    {
     "name": "stdout",
     "output_type": "stream",
     "text": [
      "accuracy_score 0.9999030130609078\n",
      "recall_score 0.9965344628417405\n",
      "precision_score 0.9965344628417405\n",
      "f1_score 0.9965344628417405\n",
      "Model: \"model_2\"\n",
      "_________________________________________________________________\n",
      "Layer (type)                 Output Shape              Param #   \n",
      "=================================================================\n",
      "input_1 (InputLayer)         [(None, 48, 256)]         0         \n",
      "_________________________________________________________________\n",
      "bidirectional (Bidirectional (None, 48, 144)           189504    \n",
      "_________________________________________________________________\n",
      "time_distributed (TimeDistri (None, 48, 1)             145       \n",
      "=================================================================\n",
      "Total params: 189,649\n",
      "Trainable params: 189,649\n",
      "Non-trainable params: 0\n",
      "_________________________________________________________________\n",
      "======Training stage======\n",
      "Train on 69597 samples\n",
      "Epoch 1/10\n",
      "69568/69597 [============================>.] - ETA: 0s - loss: 1.7321e-04 - accuracy: 1.0000WARNING:tensorflow:Early stopping conditioned on metric `val_loss` which is not available. Available metrics are: loss,accuracy\n",
      "69597/69597 [==============================] - 327s 5ms/sample - loss: 1.7314e-04 - accuracy: 1.0000\n",
      "Epoch 2/10\n",
      "69568/69597 [============================>.] - ETA: 0s - loss: 1.2919e-04 - accuracy: 1.0000WARNING:tensorflow:Early stopping conditioned on metric `val_loss` which is not available. Available metrics are: loss,accuracy\n",
      "69597/69597 [==============================] - 245s 4ms/sample - loss: 1.2913e-04 - accuracy: 1.0000\n",
      "Epoch 3/10\n",
      "69568/69597 [============================>.] - ETA: 0s - loss: 1.2795e-04 - accuracy: 1.0000WARNING:tensorflow:Early stopping conditioned on metric `val_loss` which is not available. Available metrics are: loss,accuracy\n",
      "69597/69597 [==============================] - 264s 4ms/sample - loss: 1.2790e-04 - accuracy: 1.0000\n",
      "Epoch 4/10\n",
      "69568/69597 [============================>.] - ETA: 0s - loss: 1.1905e-04 - accuracy: 1.0000WARNING:tensorflow:Early stopping conditioned on metric `val_loss` which is not available. Available metrics are: loss,accuracy\n",
      "69597/69597 [==============================] - 211s 3ms/sample - loss: 1.1900e-04 - accuracy: 1.0000\n",
      "Epoch 5/10\n",
      "69568/69597 [============================>.] - ETA: 0s - loss: 9.0126e-05 - accuracy: 1.0000WARNING:tensorflow:Early stopping conditioned on metric `val_loss` which is not available. Available metrics are: loss,accuracy\n",
      "69597/69597 [==============================] - 153s 2ms/sample - loss: 9.0088e-05 - accuracy: 1.0000\n",
      "Epoch 6/10\n",
      "69568/69597 [============================>.] - ETA: 0s - loss: 1.0769e-04 - accuracy: 1.0000WARNING:tensorflow:Early stopping conditioned on metric `val_loss` which is not available. Available metrics are: loss,accuracy\n",
      "69597/69597 [==============================] - 173s 2ms/sample - loss: 1.0764e-04 - accuracy: 1.0000\n",
      "Epoch 7/10\n",
      "69568/69597 [============================>.] - ETA: 0s - loss: 8.1288e-05 - accuracy: 1.0000WARNING:tensorflow:Early stopping conditioned on metric `val_loss` which is not available. Available metrics are: loss,accuracy\n",
      "69597/69597 [==============================] - 240s 3ms/sample - loss: 8.1255e-05 - accuracy: 1.0000\n",
      "Epoch 8/10\n",
      "69568/69597 [============================>.] - ETA: 0s - loss: 6.4762e-05 - accuracy: 1.0000WARNING:tensorflow:Early stopping conditioned on metric `val_loss` which is not available. Available metrics are: loss,accuracy\n",
      "69597/69597 [==============================] - 243s 3ms/sample - loss: 6.4735e-05 - accuracy: 1.0000\n",
      "Epoch 9/10\n",
      "69568/69597 [============================>.] - ETA: 0s - loss: 9.0955e-05 - accuracy: 1.0000WARNING:tensorflow:Early stopping conditioned on metric `val_loss` which is not available. Available metrics are: loss,accuracy\n",
      "69597/69597 [==============================] - 263s 4ms/sample - loss: 9.0918e-05 - accuracy: 1.0000\n",
      "Epoch 10/10\n",
      "69568/69597 [============================>.] - ETA: 0s - loss: 9.7745e-05 - accuracy: 1.0000WARNING:tensorflow:Early stopping conditioned on metric `val_loss` which is not available. Available metrics are: loss,accuracy\n",
      "69597/69597 [==============================] - 191s 3ms/sample - loss: 9.7705e-05 - accuracy: 1.0000\n"
     ]
    },
    {
     "data": {
      "text/plain": [
       "<tensorflow.python.keras.callbacks.History at 0x23c17e5c848>"
      ]
     },
     "execution_count": 11,
     "metadata": {},
     "output_type": "execute_result"
    },
    {
     "name": "stdout",
     "output_type": "stream",
     "text": [
      "accuracy_score 0.9999595887753783\n",
      "recall_score 0.9982363315696648\n",
      "precision_score 0.9988235294117647\n",
      "f1_score 0.9985298441634813\n",
      "Model: \"model_3\"\n",
      "_________________________________________________________________\n",
      "Layer (type)                 Output Shape              Param #   \n",
      "=================================================================\n",
      "input_1 (InputLayer)         [(None, 48, 256)]         0         \n",
      "_________________________________________________________________\n",
      "bidirectional (Bidirectional (None, 48, 144)           189504    \n",
      "_________________________________________________________________\n",
      "time_distributed (TimeDistri (None, 48, 1)             145       \n",
      "=================================================================\n",
      "Total params: 189,649\n",
      "Trainable params: 189,649\n",
      "Non-trainable params: 0\n",
      "_________________________________________________________________\n",
      "======Training stage======\n",
      "Train on 69597 samples\n",
      "Epoch 1/10\n",
      "69568/69597 [============================>.] - ETA: 0s - loss: 1.1573e-04 - accuracy: 1.0000WARNING:tensorflow:Early stopping conditioned on metric `val_loss` which is not available. Available metrics are: loss,accuracy\n",
      "69597/69597 [==============================] - 324s 5ms/sample - loss: 1.1568e-04 - accuracy: 1.0000\n",
      "Epoch 2/10\n",
      "69568/69597 [============================>.] - ETA: 0s - loss: 6.8924e-05 - accuracy: 1.0000WARNING:tensorflow:Early stopping conditioned on metric `val_loss` which is not available. Available metrics are: loss,accuracy\n",
      "69597/69597 [==============================] - 241s 3ms/sample - loss: 6.8896e-05 - accuracy: 1.0000\n",
      "Epoch 3/10\n",
      "69568/69597 [============================>.] - ETA: 0s - loss: 7.4749e-05 - accuracy: 1.0000WARNING:tensorflow:Early stopping conditioned on metric `val_loss` which is not available. Available metrics are: loss,accuracy\n",
      "69597/69597 [==============================] - 259s 4ms/sample - loss: 7.4718e-05 - accuracy: 1.0000\n",
      "Epoch 4/10\n",
      "69568/69597 [============================>.] - ETA: 0s - loss: 6.2805e-05 - accuracy: 1.0000WARNING:tensorflow:Early stopping conditioned on metric `val_loss` which is not available. Available metrics are: loss,accuracy\n",
      "69597/69597 [==============================] - 262s 4ms/sample - loss: 6.2779e-05 - accuracy: 1.0000\n",
      "Epoch 5/10\n",
      "69568/69597 [============================>.] - ETA: 0s - loss: 5.8385e-05 - accuracy: 1.0000WARNING:tensorflow:Early stopping conditioned on metric `val_loss` which is not available. Available metrics are: loss,accuracy\n",
      "69597/69597 [==============================] - 260s 4ms/sample - loss: 5.8360e-05 - accuracy: 1.0000\n",
      "Epoch 6/10\n",
      "69568/69597 [============================>.] - ETA: 0s - loss: 1.0086e-04 - accuracy: 1.0000WARNING:tensorflow:Early stopping conditioned on metric `val_loss` which is not available. Available metrics are: loss,accuracy\n",
      "69597/69597 [==============================] - 261s 4ms/sample - loss: 1.0082e-04 - accuracy: 1.0000\n",
      "Epoch 7/10\n",
      "69568/69597 [============================>.] - ETA: 0s - loss: 5.4665e-05 - accuracy: 1.0000WARNING:tensorflow:Early stopping conditioned on metric `val_loss` which is not available. Available metrics are: loss,accuracy\n",
      "69597/69597 [==============================] - 243s 3ms/sample - loss: 5.4643e-05 - accuracy: 1.0000\n",
      "Epoch 8/10\n",
      "69568/69597 [============================>.] - ETA: 0s - loss: 6.1050e-05 - accuracy: 1.0000WARNING:tensorflow:Early stopping conditioned on metric `val_loss` which is not available. Available metrics are: loss,accuracy\n",
      "69597/69597 [==============================] - 254s 4ms/sample - loss: 6.1024e-05 - accuracy: 1.0000\n",
      "Epoch 9/10\n",
      "69568/69597 [============================>.] - ETA: 0s - loss: 5.3530e-05 - accuracy: 1.0000WARNING:tensorflow:Early stopping conditioned on metric `val_loss` which is not available. Available metrics are: loss,accuracy\n",
      "69597/69597 [==============================] - 140s 2ms/sample - loss: 5.3513e-05 - accuracy: 1.0000\n",
      "Epoch 10/10\n",
      "69536/69597 [============================>.] - ETA: 0s - loss: 4.8114e-05 - accuracy: 1.0000WARNING:tensorflow:Early stopping conditioned on metric `val_loss` which is not available. Available metrics are: loss,accuracy\n",
      "69597/69597 [==============================] - 97s 1ms/sample - loss: 4.8076e-05 - accuracy: 1.0000\n"
     ]
    },
    {
     "data": {
      "text/plain": [
       "<tensorflow.python.keras.callbacks.History at 0x23c23feadc8>"
      ]
     },
     "execution_count": 11,
     "metadata": {},
     "output_type": "execute_result"
    },
    {
     "name": "stdout",
     "output_type": "stream",
     "text": [
      "accuracy_score 0.9999892236734342\n",
      "recall_score 0.9992155324573446\n",
      "precision_score 1.0\n",
      "f1_score 0.9996076123209732\n",
      "Model: \"model_4\"\n",
      "_________________________________________________________________\n",
      "Layer (type)                 Output Shape              Param #   \n",
      "=================================================================\n",
      "input_1 (InputLayer)         [(None, 48, 256)]         0         \n",
      "_________________________________________________________________\n",
      "bidirectional (Bidirectional (None, 48, 144)           189504    \n",
      "_________________________________________________________________\n",
      "time_distributed (TimeDistri (None, 48, 1)             145       \n",
      "=================================================================\n",
      "Total params: 189,649\n",
      "Trainable params: 189,649\n",
      "Non-trainable params: 0\n",
      "_________________________________________________________________\n",
      "======Training stage======\n",
      "Train on 69597 samples\n",
      "Epoch 1/10\n",
      "69568/69597 [============================>.] - ETA: 0s - loss: 5.6968e-05 - accuracy: 1.0000WARNING:tensorflow:Early stopping conditioned on metric `val_loss` which is not available. Available metrics are: loss,accuracy\n",
      "69597/69597 [==============================] - 400s 6ms/sample - loss: 5.6949e-05 - accuracy: 1.0000\n",
      "Epoch 2/10\n",
      "69568/69597 [============================>.] - ETA: 0s - loss: 4.4283e-05 - accuracy: 1.0000WARNING:tensorflow:Early stopping conditioned on metric `val_loss` which is not available. Available metrics are: loss,accuracy\n",
      "69597/69597 [==============================] - 221s 3ms/sample - loss: 4.4264e-05 - accuracy: 1.0000\n",
      "Epoch 3/10\n",
      "69568/69597 [============================>.] - ETA: 0s - loss: 5.6477e-05 - accuracy: 1.0000WARNING:tensorflow:Early stopping conditioned on metric `val_loss` which is not available. Available metrics are: loss,accuracy\n",
      "69597/69597 [==============================] - 197s 3ms/sample - loss: 5.6454e-05 - accuracy: 1.0000\n",
      "Epoch 4/10\n",
      "69568/69597 [============================>.] - ETA: 0s - loss: 3.6914e-05 - accuracy: 1.0000WARNING:tensorflow:Early stopping conditioned on metric `val_loss` which is not available. Available metrics are: loss,accuracy\n",
      "69597/69597 [==============================] - 178s 3ms/sample - loss: 3.6899e-05 - accuracy: 1.0000\n",
      "Epoch 5/10\n",
      "69568/69597 [============================>.] - ETA: 0s - loss: 5.8376e-05 - accuracy: 1.0000 ETA: 1s - lWARNING:tensorflow:Early stopping conditioned on metric `val_loss` which is not available. Available metrics are: loss,accuracy\n",
      "69597/69597 [==============================] - 192s 3ms/sample - loss: 5.8352e-05 - accuracy: 1.0000\n",
      "Epoch 6/10\n",
      "69568/69597 [============================>.] - ETA: 0s - loss: 6.8881e-05 - accuracy: 1.0000WARNING:tensorflow:Early stopping conditioned on metric `val_loss` which is not available. Available metrics are: loss,accuracy\n",
      "69597/69597 [==============================] - 193s 3ms/sample - loss: 6.8852e-05 - accuracy: 1.0000\n",
      "Epoch 7/10\n",
      "69568/69597 [============================>.] - ETA: 0s - loss: 4.4454e-05 - accuracy: 1.0000WARNING:tensorflow:Early stopping conditioned on metric `val_loss` which is not available. Available metrics are: loss,accuracy\n",
      "69597/69597 [==============================] - 196s 3ms/sample - loss: 4.4435e-05 - accuracy: 1.0000\n",
      "Epoch 8/10\n",
      "69568/69597 [============================>.] - ETA: 0s - loss: 5.5103e-05 - accuracy: 1.0000WARNING:tensorflow:Early stopping conditioned on metric `val_loss` which is not available. Available metrics are: loss,accuracy\n",
      "69597/69597 [==============================] - 179s 3ms/sample - loss: 5.5081e-05 - accuracy: 1.0000\n",
      "Epoch 9/10\n",
      "69568/69597 [============================>.] - ETA: 0s - loss: 4.6181e-05 - accuracy: 1.0000WARNING:tensorflow:Early stopping conditioned on metric `val_loss` which is not available. Available metrics are: loss,accuracy\n",
      "69597/69597 [==============================] - 133s 2ms/sample - loss: 4.6162e-05 - accuracy: 1.0000\n",
      "Epoch 10/10\n",
      "69568/69597 [============================>.] - ETA: 0s - loss: 6.9632e-05 - accuracy: 1.0000WARNING:tensorflow:Early stopping conditioned on metric `val_loss` which is not available. Available metrics are: loss,accuracy\n",
      "69597/69597 [==============================] - 159s 2ms/sample - loss: 6.9603e-05 - accuracy: 1.0000\n"
     ]
    },
    {
     "data": {
      "text/plain": [
       "<tensorflow.python.keras.callbacks.History at 0x23c753f9f88>"
      ]
     },
     "execution_count": 11,
     "metadata": {},
     "output_type": "execute_result"
    },
    {
     "name": "stdout",
     "output_type": "stream",
     "text": [
      "accuracy_score 0.9999973059183586\n",
      "recall_score 1.0\n",
      "precision_score 0.9998123123123123\n",
      "f1_score 0.9999061473486626\n",
      "Model: \"model_5\"\n",
      "_________________________________________________________________\n",
      "Layer (type)                 Output Shape              Param #   \n",
      "=================================================================\n",
      "input_1 (InputLayer)         [(None, 48, 256)]         0         \n",
      "_________________________________________________________________\n",
      "bidirectional (Bidirectional (None, 48, 144)           189504    \n",
      "_________________________________________________________________\n",
      "time_distributed (TimeDistri (None, 48, 1)             145       \n",
      "=================================================================\n",
      "Total params: 189,649\n",
      "Trainable params: 189,649\n",
      "Non-trainable params: 0\n",
      "_________________________________________________________________\n",
      "======Training stage======\n",
      "Train on 69597 samples\n",
      "Epoch 1/10\n",
      "69568/69597 [============================>.] - ETA: 0s - loss: 3.1872e-05 - accuracy: 1.0000WARNING:tensorflow:Early stopping conditioned on metric `val_loss` which is not available. Available metrics are: loss,accuracy\n",
      "69597/69597 [==============================] - 284s 4ms/sample - loss: 3.1859e-05 - accuracy: 1.0000\n",
      "Epoch 2/10\n",
      "69568/69597 [============================>.] - ETA: 0s - loss: 4.9761e-05 - accuracy: 1.0000WARNING:tensorflow:Early stopping conditioned on metric `val_loss` which is not available. Available metrics are: loss,accuracy\n",
      "69597/69597 [==============================] - 163s 2ms/sample - loss: 4.9740e-05 - accuracy: 1.0000\n",
      "Epoch 3/10\n",
      "69568/69597 [============================>.] - ETA: 0s - loss: 3.1864e-05 - accuracy: 1.0000WARNING:tensorflow:Early stopping conditioned on metric `val_loss` which is not available. Available metrics are: loss,accuracy\n",
      "69597/69597 [==============================] - 158s 2ms/sample - loss: 3.1852e-05 - accuracy: 1.0000\n",
      "Epoch 4/10\n",
      "69568/69597 [============================>.] - ETA: 0s - loss: 6.2093e-05 - accuracy: 1.0000WARNING:tensorflow:Early stopping conditioned on metric `val_loss` which is not available. Available metrics are: loss,accuracy\n",
      "69597/69597 [==============================] - 157s 2ms/sample - loss: 6.2067e-05 - accuracy: 1.0000\n",
      "Epoch 5/10\n",
      "69568/69597 [============================>.] - ETA: 0s - loss: 2.5295e-05 - accuracy: 1.0000WARNING:tensorflow:Early stopping conditioned on metric `val_loss` which is not available. Available metrics are: loss,accuracy\n",
      "69597/69597 [==============================] - 156s 2ms/sample - loss: 2.5284e-05 - accuracy: 1.0000\n",
      "Epoch 6/10\n",
      "69536/69597 [============================>.] - ETA: 0s - loss: 3.0859e-05 - accuracy: 1.0000WARNING:tensorflow:Early stopping conditioned on metric `val_loss` which is not available. Available metrics are: loss,accuracy\n",
      "69597/69597 [==============================] - 116s 2ms/sample - loss: 3.0832e-05 - accuracy: 1.0000\n",
      "Epoch 7/10\n",
      "69568/69597 [============================>.] - ETA: 0s - loss: 2.3764e-05 - accuracy: 1.0000WARNING:tensorflow:Early stopping conditioned on metric `val_loss` which is not available. Available metrics are: loss,accuracy\n",
      "69597/69597 [==============================] - 127s 2ms/sample - loss: 2.3754e-05 - accuracy: 1.0000\n",
      "Epoch 8/10\n",
      "69568/69597 [============================>.] - ETA: 0s - loss: 3.1980e-05 - accuracy: 1.0000WARNING:tensorflow:Early stopping conditioned on metric `val_loss` which is not available. Available metrics are: loss,accuracy\n",
      "69597/69597 [==============================] - 147s 2ms/sample - loss: 3.1967e-05 - accuracy: 1.0000\n",
      "Epoch 9/10\n",
      "69568/69597 [============================>.] - ETA: 0s - loss: 2.2054e-05 - accuracy: 1.0000WARNING:tensorflow:Early stopping conditioned on metric `val_loss` which is not available. Available metrics are: loss,accuracy\n",
      "69597/69597 [==============================] - 159s 2ms/sample - loss: 2.2045e-05 - accuracy: 1.0000\n",
      "Epoch 10/10\n",
      "69568/69597 [============================>.] - ETA: 0s - loss: 2.5342e-05 - accuracy: 1.0000WARNING:tensorflow:Early stopping conditioned on metric `val_loss` which is not available. Available metrics are: loss,accuracy\n",
      "69597/69597 [==============================] - 159s 2ms/sample - loss: 2.5331e-05 - accuracy: 1.0000\n"
     ]
    },
    {
     "data": {
      "text/plain": [
       "<tensorflow.python.keras.callbacks.History at 0x23c16dc3408>"
      ]
     },
     "execution_count": 11,
     "metadata": {},
     "output_type": "execute_result"
    },
    {
     "name": "stdout",
     "output_type": "stream",
     "text": [
      "accuracy_score 0.9999892236734342\n",
      "recall_score 0.9992277992277993\n",
      "precision_score 1.0\n",
      "f1_score 0.9996137504828119\n",
      "Model: \"model_6\"\n",
      "_________________________________________________________________\n",
      "Layer (type)                 Output Shape              Param #   \n",
      "=================================================================\n",
      "input_1 (InputLayer)         [(None, 48, 256)]         0         \n",
      "_________________________________________________________________\n",
      "bidirectional (Bidirectional (None, 48, 144)           189504    \n",
      "_________________________________________________________________\n",
      "time_distributed (TimeDistri (None, 48, 1)             145       \n",
      "=================================================================\n",
      "Total params: 189,649\n",
      "Trainable params: 189,649\n",
      "Non-trainable params: 0\n",
      "_________________________________________________________________\n",
      "======Training stage======\n",
      "Train on 69597 samples\n",
      "Epoch 1/10\n",
      "69568/69597 [============================>.] - ETA: 0s - loss: 3.7073e-05 - accuracy: 1.0000WARNING:tensorflow:Early stopping conditioned on metric `val_loss` which is not available. Available metrics are: loss,accuracy\n",
      "69597/69597 [==============================] - 167s 2ms/sample - loss: 3.7058e-05 - accuracy: 1.0000\n",
      "Epoch 2/10\n",
      "69568/69597 [============================>.] - ETA: 0s - loss: 5.3428e-05 - accuracy: 1.0000WARNING:tensorflow:Early stopping conditioned on metric `val_loss` which is not available. Available metrics are: loss,accuracy\n",
      "69597/69597 [==============================] - 156s 2ms/sample - loss: 5.3406e-05 - accuracy: 1.0000\n",
      "Epoch 3/10\n",
      "69568/69597 [============================>.] - ETA: 0s - loss: 2.9511e-05 - accuracy: 1.0000WARNING:tensorflow:Early stopping conditioned on metric `val_loss` which is not available. Available metrics are: loss,accuracy\n",
      "69597/69597 [==============================] - 157s 2ms/sample - loss: 2.9507e-05 - accuracy: 1.0000\n",
      "Epoch 4/10\n",
      "69568/69597 [============================>.] - ETA: 0s - loss: 4.5272e-05 - accuracy: 1.00 - ETA: 0s - loss: 4.5251e-05 - accuracy: 1.0000WARNING:tensorflow:Early stopping conditioned on metric `val_loss` which is not available. Available metrics are: loss,accuracy\n",
      "69597/69597 [==============================] - 158s 2ms/sample - loss: 4.5232e-05 - accuracy: 1.0000\n",
      "Epoch 5/10\n",
      "69568/69597 [============================>.] - ETA: 0s - loss: 3.2953e-05 - accuracy: 1.0000WARNING:tensorflow:Early stopping conditioned on metric `val_loss` which is not available. Available metrics are: loss,accuracy\n",
      "69597/69597 [==============================] - 156s 2ms/sample - loss: 3.2939e-05 - accuracy: 1.0000\n",
      "Epoch 6/10\n",
      "69568/69597 [============================>.] - ETA: 0s - loss: 2.5945e-05 - accuracy: 1.0000WARNING:tensorflow:Early stopping conditioned on metric `val_loss` which is not available. Available metrics are: loss,accuracy\n",
      "69597/69597 [==============================] - 156s 2ms/sample - loss: 2.5934e-05 - accuracy: 1.0000\n",
      "Epoch 7/10\n",
      "69568/69597 [============================>.] - ETA: 0s - loss: 4.4760e-05 - accuracy: 1.0000WARNING:tensorflow:Early stopping conditioned on metric `val_loss` which is not available. Available metrics are: loss,accuracy\n",
      "69597/69597 [==============================] - 152s 2ms/sample - loss: 4.4741e-05 - accuracy: 1.0000\n",
      "Epoch 8/10\n",
      "69568/69597 [============================>.] - ETA: 0s - loss: 2.8817e-05 - accuracy: 1.0000WARNING:tensorflow:Early stopping conditioned on metric `val_loss` which is not available. Available metrics are: loss,accuracy\n",
      "69597/69597 [==============================] - 148s 2ms/sample - loss: 2.8805e-05 - accuracy: 1.0000\n",
      "Epoch 9/10\n",
      "69568/69597 [============================>.] - ETA: 0s - loss: 6.5456e-05 - accuracy: 1.0000WARNING:tensorflow:Early stopping conditioned on metric `val_loss` which is not available. Available metrics are: loss,accuracy\n",
      "69597/69597 [==============================] - 156s 2ms/sample - loss: 6.5429e-05 - accuracy: 1.0000\n",
      "Epoch 10/10\n",
      "69568/69597 [============================>.] - ETA: 0s - loss: 5.0059e-05 - accuracy: 1.0000WARNING:tensorflow:Early stopping conditioned on metric `val_loss` which is not available. Available metrics are: loss,accuracy\n",
      "69597/69597 [==============================] - 157s 2ms/sample - loss: 5.0039e-05 - accuracy: 1.0000\n"
     ]
    },
    {
     "data": {
      "text/plain": [
       "<tensorflow.python.keras.callbacks.History at 0x23c1b39e7c8>"
      ]
     },
     "execution_count": 11,
     "metadata": {},
     "output_type": "execute_result"
    },
    {
     "name": "stdout",
     "output_type": "stream",
     "text": [
      "accuracy_score 0.9999838355101514\n",
      "recall_score 0.999616122840691\n",
      "precision_score 0.9992325402916347\n",
      "f1_score 0.9994242947610823\n",
      "Model: \"model_7\"\n",
      "_________________________________________________________________\n",
      "Layer (type)                 Output Shape              Param #   \n",
      "=================================================================\n",
      "input_1 (InputLayer)         [(None, 48, 256)]         0         \n",
      "_________________________________________________________________\n",
      "bidirectional (Bidirectional (None, 48, 144)           189504    \n",
      "_________________________________________________________________\n",
      "time_distributed (TimeDistri (None, 48, 1)             145       \n",
      "=================================================================\n",
      "Total params: 189,649\n",
      "Trainable params: 189,649\n",
      "Non-trainable params: 0\n",
      "_________________________________________________________________\n",
      "======Training stage======\n",
      "Train on 69597 samples\n",
      "Epoch 1/10\n",
      "69568/69597 [============================>.] - ETA: 0s - loss: 4.1626e-05 - accuracy: 1.0000WARNING:tensorflow:Early stopping conditioned on metric `val_loss` which is not available. Available metrics are: loss,accuracy\n",
      "69597/69597 [==============================] - 172s 2ms/sample - loss: 4.1608e-05 - accuracy: 1.0000\n",
      "Epoch 2/10\n",
      "69568/69597 [============================>.] - ETA: 0s - loss: 2.2504e-05 - accuracy: 1.0000WARNING:tensorflow:Early stopping conditioned on metric `val_loss` which is not available. Available metrics are: loss,accuracy\n",
      "69597/69597 [==============================] - 161s 2ms/sample - loss: 2.2495e-05 - accuracy: 1.0000\n",
      "Epoch 3/10\n",
      "69568/69597 [============================>.] - ETA: 0s - loss: 2.6841e-05 - accuracy: 1.0000WARNING:tensorflow:Early stopping conditioned on metric `val_loss` which is not available. Available metrics are: loss,accuracy\n",
      "69597/69597 [==============================] - 162s 2ms/sample - loss: 2.6830e-05 - accuracy: 1.0000\n",
      "Epoch 4/10\n",
      "69568/69597 [============================>.] - ETA: 0s - loss: 2.5329e-05 - accuracy: 1.0000WARNING:tensorflow:Early stopping conditioned on metric `val_loss` which is not available. Available metrics are: loss,accuracy\n",
      "69597/69597 [==============================] - 161s 2ms/sample - loss: 2.5318e-05 - accuracy: 1.0000\n",
      "Epoch 5/10\n",
      "69568/69597 [============================>.] - ETA: 0s - loss: 2.2532e-05 - accuracy: 1.0000WARNING:tensorflow:Early stopping conditioned on metric `val_loss` which is not available. Available metrics are: loss,accuracy\n",
      "69597/69597 [==============================] - 162s 2ms/sample - loss: 2.2522e-05 - accuracy: 1.0000\n",
      "Epoch 6/10\n",
      "69568/69597 [============================>.] - ETA: 0s - loss: 2.2708e-05 - accuracy: 1.0000WARNING:tensorflow:Early stopping conditioned on metric `val_loss` which is not available. Available metrics are: loss,accuracy\n",
      "69597/69597 [==============================] - 163s 2ms/sample - loss: 2.2699e-05 - accuracy: 1.0000\n",
      "Epoch 7/10\n",
      "69568/69597 [============================>.] - ETA: 0s - loss: 2.7869e-05 - accuracy: 1.0000WARNING:tensorflow:Early stopping conditioned on metric `val_loss` which is not available. Available metrics are: loss,accuracy\n",
      "69597/69597 [==============================] - 128s 2ms/sample - loss: 2.7858e-05 - accuracy: 1.0000\n",
      "Epoch 8/10\n",
      "69568/69597 [============================>.] - ETA: 0s - loss: 2.2241e-05 - accuracy: 1.0000WARNING:tensorflow:Early stopping conditioned on metric `val_loss` which is not available. Available metrics are: loss,accuracy\n",
      "69597/69597 [==============================] - 147s 2ms/sample - loss: 2.2232e-05 - accuracy: 1.0000\n",
      "Epoch 9/10\n",
      "69568/69597 [============================>.] - ETA: 0s - loss: 2.1719e-05 - accuracy: 1.0000WARNING:tensorflow:Early stopping conditioned on metric `val_loss` which is not available. Available metrics are: loss,accuracy\n",
      "69597/69597 [==============================] - 162s 2ms/sample - loss: 2.1710e-05 - accuracy: 1.0000\n",
      "Epoch 10/10\n",
      "69568/69597 [============================>.] - ETA: 0s - loss: 2.5013e-05 - accuracy: 1.0000WARNING:tensorflow:Early stopping conditioned on metric `val_loss` which is not available. Available metrics are: loss,accuracy\n",
      "69597/69597 [==============================] - 162s 2ms/sample - loss: 2.5003e-05 - accuracy: 1.0000\n"
     ]
    },
    {
     "data": {
      "text/plain": [
       "<tensorflow.python.keras.callbacks.History at 0x23c6b239ec8>"
      ]
     },
     "execution_count": 11,
     "metadata": {},
     "output_type": "execute_result"
    },
    {
     "name": "stdout",
     "output_type": "stream",
     "text": [
      "accuracy_score 0.9999892236734342\n",
      "recall_score 0.9992292870905588\n",
      "precision_score 1.0\n",
      "f1_score 0.9996144949884349\n",
      "Model: \"model_8\"\n",
      "_________________________________________________________________\n",
      "Layer (type)                 Output Shape              Param #   \n",
      "=================================================================\n",
      "input_1 (InputLayer)         [(None, 48, 256)]         0         \n",
      "_________________________________________________________________\n",
      "bidirectional (Bidirectional (None, 48, 144)           189504    \n",
      "_________________________________________________________________\n",
      "time_distributed (TimeDistri (None, 48, 1)             145       \n",
      "=================================================================\n",
      "Total params: 189,649\n",
      "Trainable params: 189,649\n",
      "Non-trainable params: 0\n",
      "_________________________________________________________________\n",
      "======Training stage======\n",
      "Train on 69597 samples\n",
      "Epoch 1/10\n",
      "69568/69597 [============================>.] - ETA: 0s - loss: 3.3097e-05 - accuracy: 1.0000WARNING:tensorflow:Early stopping conditioned on metric `val_loss` which is not available. Available metrics are: loss,accuracy\n",
      "69597/69597 [==============================] - 175s 3ms/sample - loss: 3.3083e-05 - accuracy: 1.0000\n",
      "Epoch 2/10\n",
      "69568/69597 [============================>.] - ETA: 0s - loss: 3.2570e-05 - accuracy: 1.0000WARNING:tensorflow:Early stopping conditioned on metric `val_loss` which is not available. Available metrics are: loss,accuracy\n",
      "69597/69597 [==============================] - 159s 2ms/sample - loss: 3.2556e-05 - accuracy: 1.0000\n",
      "Epoch 3/10\n",
      "69568/69597 [============================>.] - ETA: 0s - loss: 3.1906e-05 - accuracy: 1.0000WARNING:tensorflow:Early stopping conditioned on metric `val_loss` which is not available. Available metrics are: loss,accuracy\n",
      "69597/69597 [==============================] - 151s 2ms/sample - loss: 3.1893e-05 - accuracy: 1.0000\n",
      "Epoch 4/10\n",
      "69568/69597 [============================>.] - ETA: 0s - loss: 2.9777e-05 - accuracy: 1.0000WARNING:tensorflow:Early stopping conditioned on metric `val_loss` which is not available. Available metrics are: loss,accuracy\n",
      "69597/69597 [==============================] - 148s 2ms/sample - loss: 2.9764e-05 - accuracy: 1.0000\n",
      "Epoch 5/10\n",
      "69568/69597 [============================>.] - ETA: 0s - loss: 2.8766e-05 - accuracy: 1.0000WARNING:tensorflow:Early stopping conditioned on metric `val_loss` which is not available. Available metrics are: loss,accuracy\n",
      "69597/69597 [==============================] - 160s 2ms/sample - loss: 2.8754e-05 - accuracy: 1.0000\n",
      "Epoch 6/10\n",
      "69568/69597 [============================>.] - ETA: 0s - loss: 2.6530e-05 - accuracy: 1.0000WARNING:tensorflow:Early stopping conditioned on metric `val_loss` which is not available. Available metrics are: loss,accuracy\n",
      "69597/69597 [==============================] - 159s 2ms/sample - loss: 2.6519e-05 - accuracy: 1.0000\n",
      "Epoch 7/10\n",
      "69568/69597 [============================>.] - ETA: 0s - loss: 2.9322e-05 - accuracy: 1.0000WARNING:tensorflow:Early stopping conditioned on metric `val_loss` which is not available. Available metrics are: loss,accuracy\n",
      "69597/69597 [==============================] - 149s 2ms/sample - loss: 2.9310e-05 - accuracy: 1.0000\n",
      "Epoch 8/10\n",
      "69568/69597 [============================>.] - ETA: 0s - loss: 3.1713e-05 - accuracy: 1.0000WARNING:tensorflow:Early stopping conditioned on metric `val_loss` which is not available. Available metrics are: loss,accuracy\n",
      "69597/69597 [==============================] - 159s 2ms/sample - loss: 3.1700e-05 - accuracy: 1.0000\n",
      "Epoch 9/10\n",
      "69568/69597 [============================>.] - ETA: 0s - loss: 5.8986e-05 - accuracy: 1.0000WARNING:tensorflow:Early stopping conditioned on metric `val_loss` which is not available. Available metrics are: loss,accuracy\n",
      "69597/69597 [==============================] - 160s 2ms/sample - loss: 5.8962e-05 - accuracy: 1.0000\n",
      "Epoch 10/10\n",
      "69568/69597 [============================>.] - ETA: 0s - loss: 2.5451e-05 - accuracy: 1.0000WARNING:tensorflow:Early stopping conditioned on metric `val_loss` which is not available. Available metrics are: loss,accuracy\n",
      "69597/69597 [==============================] - 159s 2ms/sample - loss: 2.5440e-05 - accuracy: 1.0000\n"
     ]
    },
    {
     "data": {
      "text/plain": [
       "<tensorflow.python.keras.callbacks.History at 0x23c250d1448>"
      ]
     },
     "execution_count": 11,
     "metadata": {},
     "output_type": "execute_result"
    },
    {
     "name": "stdout",
     "output_type": "stream",
     "text": [
      "accuracy_score 1.0\n",
      "recall_score 1.0\n",
      "precision_score 1.0\n",
      "f1_score 1.0\n",
      "Model: \"model_9\"\n",
      "_________________________________________________________________\n",
      "Layer (type)                 Output Shape              Param #   \n",
      "=================================================================\n",
      "input_1 (InputLayer)         [(None, 48, 256)]         0         \n",
      "_________________________________________________________________\n",
      "bidirectional (Bidirectional (None, 48, 144)           189504    \n",
      "_________________________________________________________________\n",
      "time_distributed (TimeDistri (None, 48, 1)             145       \n",
      "=================================================================\n",
      "Total params: 189,649\n",
      "Trainable params: 189,649\n",
      "Non-trainable params: 0\n",
      "_________________________________________________________________\n",
      "======Training stage======\n",
      "Train on 69597 samples\n",
      "Epoch 1/10\n",
      "69568/69597 [============================>.] - ETA: 0s - loss: 2.6390e-05 - accuracy: 1.0000WARNING:tensorflow:Early stopping conditioned on metric `val_loss` which is not available. Available metrics are: loss,accuracy\n",
      "69597/69597 [==============================] - 171s 2ms/sample - loss: 2.6379e-05 - accuracy: 1.0000\n",
      "Epoch 2/10\n",
      "69568/69597 [============================>.] - ETA: 0s - loss: 3.0582e-05 - accuracy: 1.0000WARNING:tensorflow:Early stopping conditioned on metric `val_loss` which is not available. Available metrics are: loss,accuracy\n",
      "69597/69597 [==============================] - 160s 2ms/sample - loss: 3.0569e-05 - accuracy: 1.0000\n",
      "Epoch 3/10\n",
      "69568/69597 [============================>.] - ETA: 0s - loss: 2.5726e-05 - accuracy: 1.0000WARNING:tensorflow:Early stopping conditioned on metric `val_loss` which is not available. Available metrics are: loss,accuracy\n",
      "69597/69597 [==============================] - 161s 2ms/sample - loss: 2.5715e-05 - accuracy: 1.0000\n",
      "Epoch 4/10\n",
      "69568/69597 [============================>.] - ETA: 0s - loss: 4.3940e-05 - accuracy: 1.0000WARNING:tensorflow:Early stopping conditioned on metric `val_loss` which is not available. Available metrics are: loss,accuracy\n",
      "69597/69597 [==============================] - 160s 2ms/sample - loss: 4.3921e-05 - accuracy: 1.0000\n",
      "Epoch 5/10\n",
      "69568/69597 [============================>.] - ETA: 0s - loss: 3.4798e-05 - accuracy: 1.0000WARNING:tensorflow:Early stopping conditioned on metric `val_loss` which is not available. Available metrics are: loss,accuracy\n",
      "69597/69597 [==============================] - 160s 2ms/sample - loss: 3.4783e-05 - accuracy: 1.0000\n",
      "Epoch 6/10\n",
      "69568/69597 [============================>.] - ETA: 0s - loss: 2.8781e-05 - accuracy: 1.0000WARNING:tensorflow:Early stopping conditioned on metric `val_loss` which is not available. Available metrics are: loss,accuracy\n",
      "69597/69597 [==============================] - 160s 2ms/sample - loss: 2.8769e-05 - accuracy: 1.0000\n",
      "Epoch 7/10\n",
      "69536/69597 [============================>.] - ETA: 0s - loss: 2.8645e-05 - accuracy: 1.0000WARNING:tensorflow:Early stopping conditioned on metric `val_loss` which is not available. Available metrics are: loss,accuracy\n",
      "69597/69597 [==============================] - 109s 2ms/sample - loss: 2.8620e-05 - accuracy: 1.0000\n",
      "Epoch 8/10\n",
      "69568/69597 [============================>.] - ETA: 0s - loss: 3.1487e-05 - accuracy: 1.0000WARNING:tensorflow:Early stopping conditioned on metric `val_loss` which is not available. Available metrics are: loss,accuracy\n",
      "69597/69597 [==============================] - 108s 2ms/sample - loss: 3.1474e-05 - accuracy: 1.0000\n",
      "Epoch 9/10\n",
      "69568/69597 [============================>.] - ETA: 0s - loss: 3.1736e-05 - accuracy: 1.0000WARNING:tensorflow:Early stopping conditioned on metric `val_loss` which is not available. Available metrics are: loss,accuracy\n",
      "69597/69597 [==============================] - 109s 2ms/sample - loss: 3.1723e-05 - accuracy: 1.0000\n",
      "Epoch 10/10\n",
      "69568/69597 [============================>.] - ETA: 0s - loss: 3.7915e-05 - accuracy: 1.0000WARNING:tensorflow:Early stopping conditioned on metric `val_loss` which is not available. Available metrics are: loss,accuracy\n",
      "69597/69597 [==============================] - 110s 2ms/sample - loss: 3.7899e-05 - accuracy: 1.0000\n"
     ]
    },
    {
     "data": {
      "text/plain": [
       "<tensorflow.python.keras.callbacks.History at 0x23c6fa10e48>"
      ]
     },
     "execution_count": 11,
     "metadata": {},
     "output_type": "execute_result"
    },
    {
     "name": "stdout",
     "output_type": "stream",
     "text": [
      "accuracy_score 0.9999973059183586\n",
      "recall_score 1.0\n",
      "precision_score 0.9998067259373792\n",
      "f1_score 0.9999033536290712\n",
      "\n",
      "K-fold cross validation Accuracy: [0.9998652959179275, 0.9999030130609078, 0.9999595887753783, 0.9999892236734342, 0.9999973059183586, 0.9999892236734342, 0.9999838355101514, 0.9999892236734342, 1.0, 0.9999973059183586]\n",
      "\n",
      "K-fold cross validation Recall: [0.9952015355086372, 0.9965344628417405, 0.9982363315696648, 0.9992155324573446, 1.0, 0.9992277992277993, 0.999616122840691, 0.9992292870905588, 1.0, 1.0]\n",
      "\n",
      "K-fold cross validation Precision: [0.9952015355086372, 0.9965344628417405, 0.9988235294117647, 1.0, 0.9998123123123123, 1.0, 0.9992325402916347, 1.0, 1.0, 0.9998067259373792]\n",
      "\n",
      "K-fold cross validation F1-Score: [0.9952015355086372, 0.9965344628417405, 0.9985298441634813, 0.9996076123209732, 0.9999061473486626, 0.9996137504828119, 0.9994242947610823, 0.9996144949884349, 1.0, 0.9999033536290712]\n"
     ]
    }
   ],
   "source": [
    "# 교차검증 kfold\n",
    "from sklearn.model_selection import KFold\n",
    "\n",
    "# Accuracy, Precision, Recall, F1-Score\n",
    "from sklearn.metrics import accuracy_score, recall_score, precision_score, f1_score\n",
    "\n",
    "# Confusion Matrix, ROC Curve\n",
    "from sklearn.metrics import confusion_matrix, roc_auc_score\n",
    "\n",
    "# 최종 평가지표들 평균용\n",
    "accuracy, recall, precision, f1score, cm = [], [], [], [], []\n",
    "\n",
    "# 11. 교차검증 kfold - k.split - 10회 / K-Fold 객체 생성\n",
    "# kf = KFold(n_splits=10, shuffle=False, random_state=None) # KFold non shuffle 버전\n",
    "kf = KFold(n_splits=10, shuffle=True, random_state=None) # KFold non shuffle 버전\n",
    "\n",
    "for train, validation in kf.split(x_bc8_2, y_bc8_2):\n",
    "    model1 = models.Model(xInput, xOutput)\n",
    "    model1.compile(loss='binary_crossentropy', optimizer='rmsprop', metrics=['accuracy'])\n",
    "    model1.summary()\n",
    "    print('======Training stage======')\n",
    "    model1.fit(x_bc8_2[train],\n",
    "               y_bc8_2[train],\n",
    "               epochs = 10,\n",
    "               batch_size = 32,\n",
    "               callbacks=[early_stopping])\n",
    "    #k_accuracy = '%.4f' %(model1.evaluate(data_10000x[validation], data_10000y[validation])[1])\n",
    "\n",
    "# 12. 교차검증결과 predict - 검증셋들\n",
    "    # predict 값\n",
    "    k_pr = model1.predict(x_bc8_2[validation])\n",
    "    \n",
    "    # 테스트 predict 결과들 비교 (평가지표 보기위함)\n",
    "    pred = np.round(np.array(k_pr).flatten().tolist())\n",
    "    y_test = np.array(y_bc8_2[validation]).flatten().tolist()\n",
    "    \n",
    "# 13. 평가지표들 출력\n",
    "    ## 평가지표들\n",
    "    k_accuracy = float(accuracy_score(y_test, pred))\n",
    "    k_recall =  float(recall_score(y_test, pred))\n",
    "    k_precision = float(precision_score(y_test, pred))\n",
    "    k_f1_score = float(f1_score(y_test, pred))\n",
    "    #k_cm = float(confusion_matrix(y_test, pred))\n",
    "    \n",
    "    print('accuracy_score', k_accuracy)\n",
    "    print('recall_score', k_recall)\n",
    "    print('precision_score', k_precision)\n",
    "    print('f1_score', k_f1_score)\n",
    "    #print('\\nconfusion_matrix\\n', k_cm)\n",
    "\n",
    "    accuracy.append(k_accuracy)\n",
    "    recall.append(k_recall)\n",
    "    precision.append(k_precision)\n",
    "    f1score.append(k_f1_score)\n",
    "    #cm.append(k_cm)\n",
    "#    print('roc_curve 면적', roc_auc_score(y_test, pred))\n",
    "\n",
    "# 최종 결과지표\n",
    "print('\\nK-fold cross validation Accuracy: {}'.format(accuracy))\n",
    "print('\\nK-fold cross validation Recall: {}'.format(recall))\n",
    "print('\\nK-fold cross validation Precision: {}'.format(precision))\n",
    "print('\\nK-fold cross validation F1-Score: {}'.format(f1score))\n",
    "#print('\\nK-fold cross validation ConfusionMatrix: {}'.format(cm))"
   ]
  },
  {
   "cell_type": "markdown",
   "metadata": {},
   "source": [
    "## (9) 평가지표"
   ]
  },
  {
   "cell_type": "code",
   "execution_count": 12,
   "metadata": {},
   "outputs": [
    {
     "name": "stdout",
     "output_type": "stream",
     "text": [
      "10-Fold Cross_validation. Accuracy : 0.9999674016121384\n",
      "10-Fold Cross_validation. Recall : 0.9987261071536435\n",
      "10-Fold Cross_validation. Precision : 0.9989411106303467\n",
      "10-Fold Cross_validation. F1-Score : 0.9988335496044896\n"
     ]
    }
   ],
   "source": [
    "print('10-Fold Cross_validation. Accuracy :', np.mean(accuracy))\n",
    "print('10-Fold Cross_validation. Recall :', np.mean(recall))\n",
    "print('10-Fold Cross_validation. Precision :', np.mean(precision))\n",
    "print('10-Fold Cross_validation. F1-Score :', np.mean(f1score))"
   ]
  },
  {
   "cell_type": "code",
   "execution_count": 13,
   "metadata": {},
   "outputs": [
    {
     "name": "stdout",
     "output_type": "stream",
     "text": [
      "save 완료\n"
     ]
    }
   ],
   "source": [
    "model1.save('gcc8_bin_core_s48_h72_o2.h5')\n",
    "print('save 완료')"
   ]
  }
 ],
 "metadata": {
  "kernelspec": {
   "display_name": "Python 3",
   "language": "python",
   "name": "python3"
  },
  "language_info": {
   "codemirror_mode": {
    "name": "ipython",
    "version": 3
   },
   "file_extension": ".py",
   "mimetype": "text/x-python",
   "name": "python",
   "nbconvert_exporter": "python",
   "pygments_lexer": "ipython3",
   "version": "3.7.9"
  }
 },
 "nbformat": 4,
 "nbformat_minor": 4
}
